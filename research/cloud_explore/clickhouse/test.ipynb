{
 "cells": [
  {
   "cell_type": "code",
   "execution_count": 1,
   "metadata": {},
   "outputs": [],
   "source": [
    "import clickhouse_connect\n",
    "import os\n",
    "import keyring\n",
    "import pandas as pd\n",
    "import time\n",
    "\n",
    "host = keyring.get_password(\"clickhouse-confirm-host\", os.environ[\"USER\"])\n",
    "password = keyring.get_password(\"clickhouse-confirm-password\", os.environ[\"USER\"])\n",
    "client = clickhouse_connect.get_client(\n",
    "    host=host,\n",
    "    port=8443,\n",
    "    username=\"default\",\n",
    "    password=password,\n",
    ")\n",
    "# client = clickhouse_connect.get_client(host='127.0.0.1', port=8123)"
   ]
  },
  {
   "attachments": {},
   "cell_type": "markdown",
   "metadata": {},
   "source": [
    "## Benchmark"
   ]
  },
  {
   "cell_type": "code",
   "execution_count": 2,
   "metadata": {},
   "outputs": [],
   "source": [
    "df = pd.read_parquet('dbtestsmall.parquet')\n",
    "df['id'] = df.index"
   ]
  },
  {
   "cell_type": "code",
   "execution_count": 11,
   "metadata": {},
   "outputs": [
    {
     "data": {
      "text/plain": [
       "''"
      ]
     },
     "execution_count": 11,
     "metadata": {},
     "output_type": "execute_result"
    }
   ],
   "source": [
    "client.command('drop table tiles0')\n",
    "client.command('drop table tiles_reject')"
   ]
  },
  {
   "cell_type": "code",
   "execution_count": 12,
   "metadata": {},
   "outputs": [
    {
     "name": "stdout",
     "output_type": "stream",
     "text": [
      "insert 3.5512681007385254\n",
      "select 0.28313493728637695\n",
      "(10000, 70)\n"
     ]
    }
   ],
   "source": [
    "for i in range(1):\n",
    "    start = time.time()\n",
    "    query = (\n",
    "        f\"create table tiles{i} (\"\n",
    "        + \",\".join([f\"{c} Float32\" for c in df.columns])\n",
    "        + \") engine = MergeTree() order by id\"\n",
    "    )\n",
    "    client.command(query)\n",
    "    client.insert_df(f\"tiles{i}\", df[:100000])\n",
    "    print('insert', time.time() - start)\n",
    "    start = time.time()\n",
    "    sel_df = client.query_df(f\"select * from tiles{i} order by orig_lam limit 10000\")\n",
    "    print('select', time.time() - start)\n",
    "    print(sel_df.shape)"
   ]
  },
  {
   "cell_type": "code",
   "execution_count": 13,
   "metadata": {},
   "outputs": [
    {
     "data": {
      "text/plain": [
       "''"
      ]
     },
     "execution_count": 13,
     "metadata": {},
     "output_type": "execute_result"
    }
   ],
   "source": [
    "query = (\n",
    "    f\"create table tiles_reject (\"\n",
    "    + \",\".join([f\"{c} Float32\" for c in df.columns])\n",
    "    + \") engine = MergeTree() order by id\"\n",
    ")\n",
    "client.command(query)"
   ]
  },
  {
   "cell_type": "code",
   "execution_count": 14,
   "metadata": {},
   "outputs": [],
   "source": [
    "client.insert_df(f\"tiles_reject\", df[:80000])"
   ]
  },
  {
   "cell_type": "code",
   "execution_count": 22,
   "metadata": {},
   "outputs": [
    {
     "name": "stdout",
     "output_type": "stream",
     "text": [
      "CPU times: user 46.1 ms, sys: 7.32 ms, total: 53.4 ms\n",
      "Wall time: 265 ms\n"
     ]
    },
    {
     "data": {
      "text/html": [
       "<div>\n",
       "<style scoped>\n",
       "    .dataframe tbody tr th:only-of-type {\n",
       "        vertical-align: middle;\n",
       "    }\n",
       "\n",
       "    .dataframe tbody tr th {\n",
       "        vertical-align: top;\n",
       "    }\n",
       "\n",
       "    .dataframe thead th {\n",
       "        text-align: right;\n",
       "    }\n",
       "</style>\n",
       "<table border=\"1\" class=\"dataframe\">\n",
       "  <thead>\n",
       "    <tr style=\"text-align: right;\">\n",
       "      <th></th>\n",
       "      <th>alpha0</th>\n",
       "      <th>orig_lam</th>\n",
       "      <th>B_lam_0</th>\n",
       "      <th>B_lam_1</th>\n",
       "      <th>B_lam_2</th>\n",
       "      <th>B_lam_3</th>\n",
       "      <th>B_lam_4</th>\n",
       "      <th>B_lam_5</th>\n",
       "      <th>B_lam_6</th>\n",
       "      <th>B_lam_7</th>\n",
       "      <th>...</th>\n",
       "      <th>theta_1</th>\n",
       "      <th>radii_1</th>\n",
       "      <th>theta_2</th>\n",
       "      <th>radii_2</th>\n",
       "      <th>theta_3</th>\n",
       "      <th>radii_3</th>\n",
       "      <th>null_truth_0</th>\n",
       "      <th>null_truth_1</th>\n",
       "      <th>null_truth_2</th>\n",
       "      <th>id</th>\n",
       "    </tr>\n",
       "  </thead>\n",
       "  <tbody>\n",
       "    <tr>\n",
       "      <th>0</th>\n",
       "      <td>0.016855</td>\n",
       "      <td>0.065943</td>\n",
       "      <td>0.067093</td>\n",
       "      <td>0.065953</td>\n",
       "      <td>0.067093</td>\n",
       "      <td>0.064339</td>\n",
       "      <td>0.066355</td>\n",
       "      <td>0.071003</td>\n",
       "      <td>0.067462</td>\n",
       "      <td>0.066929</td>\n",
       "      <td>...</td>\n",
       "      <td>0.414062</td>\n",
       "      <td>0.007812</td>\n",
       "      <td>0.398438</td>\n",
       "      <td>0.007812</td>\n",
       "      <td>-0.898438</td>\n",
       "      <td>0.007812</td>\n",
       "      <td>1.0</td>\n",
       "      <td>1.0</td>\n",
       "      <td>1.0</td>\n",
       "      <td>52821.0</td>\n",
       "    </tr>\n",
       "    <tr>\n",
       "      <th>1</th>\n",
       "      <td>0.016855</td>\n",
       "      <td>0.065943</td>\n",
       "      <td>0.067093</td>\n",
       "      <td>0.065953</td>\n",
       "      <td>0.067093</td>\n",
       "      <td>0.064339</td>\n",
       "      <td>0.066355</td>\n",
       "      <td>0.071003</td>\n",
       "      <td>0.067462</td>\n",
       "      <td>0.066929</td>\n",
       "      <td>...</td>\n",
       "      <td>0.414062</td>\n",
       "      <td>0.007812</td>\n",
       "      <td>0.398438</td>\n",
       "      <td>0.007812</td>\n",
       "      <td>-0.898438</td>\n",
       "      <td>0.007812</td>\n",
       "      <td>1.0</td>\n",
       "      <td>1.0</td>\n",
       "      <td>1.0</td>\n",
       "      <td>52824.0</td>\n",
       "    </tr>\n",
       "    <tr>\n",
       "      <th>2</th>\n",
       "      <td>0.016855</td>\n",
       "      <td>0.065943</td>\n",
       "      <td>0.067093</td>\n",
       "      <td>0.065953</td>\n",
       "      <td>0.067093</td>\n",
       "      <td>0.064339</td>\n",
       "      <td>0.066355</td>\n",
       "      <td>0.071003</td>\n",
       "      <td>0.067462</td>\n",
       "      <td>0.066929</td>\n",
       "      <td>...</td>\n",
       "      <td>0.414062</td>\n",
       "      <td>0.007812</td>\n",
       "      <td>0.398438</td>\n",
       "      <td>0.007812</td>\n",
       "      <td>-0.898438</td>\n",
       "      <td>0.007812</td>\n",
       "      <td>1.0</td>\n",
       "      <td>1.0</td>\n",
       "      <td>1.0</td>\n",
       "      <td>52827.0</td>\n",
       "    </tr>\n",
       "    <tr>\n",
       "      <th>3</th>\n",
       "      <td>0.016855</td>\n",
       "      <td>0.065943</td>\n",
       "      <td>0.067093</td>\n",
       "      <td>0.065953</td>\n",
       "      <td>0.067093</td>\n",
       "      <td>0.064339</td>\n",
       "      <td>0.066355</td>\n",
       "      <td>0.071003</td>\n",
       "      <td>0.067462</td>\n",
       "      <td>0.066929</td>\n",
       "      <td>...</td>\n",
       "      <td>0.414062</td>\n",
       "      <td>0.007812</td>\n",
       "      <td>0.398438</td>\n",
       "      <td>0.007812</td>\n",
       "      <td>-0.898438</td>\n",
       "      <td>0.007812</td>\n",
       "      <td>1.0</td>\n",
       "      <td>1.0</td>\n",
       "      <td>1.0</td>\n",
       "      <td>52830.0</td>\n",
       "    </tr>\n",
       "    <tr>\n",
       "      <th>4</th>\n",
       "      <td>0.016855</td>\n",
       "      <td>0.065943</td>\n",
       "      <td>0.067093</td>\n",
       "      <td>0.065953</td>\n",
       "      <td>0.067093</td>\n",
       "      <td>0.064339</td>\n",
       "      <td>0.066355</td>\n",
       "      <td>0.071003</td>\n",
       "      <td>0.067462</td>\n",
       "      <td>0.066929</td>\n",
       "      <td>...</td>\n",
       "      <td>0.414062</td>\n",
       "      <td>0.007812</td>\n",
       "      <td>0.398438</td>\n",
       "      <td>0.007812</td>\n",
       "      <td>-0.898438</td>\n",
       "      <td>0.007812</td>\n",
       "      <td>1.0</td>\n",
       "      <td>1.0</td>\n",
       "      <td>1.0</td>\n",
       "      <td>52937.0</td>\n",
       "    </tr>\n",
       "    <tr>\n",
       "      <th>...</th>\n",
       "      <td>...</td>\n",
       "      <td>...</td>\n",
       "      <td>...</td>\n",
       "      <td>...</td>\n",
       "      <td>...</td>\n",
       "      <td>...</td>\n",
       "      <td>...</td>\n",
       "      <td>...</td>\n",
       "      <td>...</td>\n",
       "      <td>...</td>\n",
       "      <td>...</td>\n",
       "      <td>...</td>\n",
       "      <td>...</td>\n",
       "      <td>...</td>\n",
       "      <td>...</td>\n",
       "      <td>...</td>\n",
       "      <td>...</td>\n",
       "      <td>...</td>\n",
       "      <td>...</td>\n",
       "      <td>...</td>\n",
       "      <td>...</td>\n",
       "    </tr>\n",
       "    <tr>\n",
       "      <th>9995</th>\n",
       "      <td>0.011073</td>\n",
       "      <td>0.074055</td>\n",
       "      <td>0.074344</td>\n",
       "      <td>0.074844</td>\n",
       "      <td>0.076071</td>\n",
       "      <td>0.073709</td>\n",
       "      <td>0.075654</td>\n",
       "      <td>0.073419</td>\n",
       "      <td>0.072729</td>\n",
       "      <td>0.075523</td>\n",
       "      <td>...</td>\n",
       "      <td>0.578125</td>\n",
       "      <td>0.015625</td>\n",
       "      <td>0.515625</td>\n",
       "      <td>0.015625</td>\n",
       "      <td>-0.359375</td>\n",
       "      <td>0.015625</td>\n",
       "      <td>1.0</td>\n",
       "      <td>1.0</td>\n",
       "      <td>1.0</td>\n",
       "      <td>40469.0</td>\n",
       "    </tr>\n",
       "    <tr>\n",
       "      <th>9996</th>\n",
       "      <td>0.011073</td>\n",
       "      <td>0.074055</td>\n",
       "      <td>0.074344</td>\n",
       "      <td>0.074844</td>\n",
       "      <td>0.076071</td>\n",
       "      <td>0.073709</td>\n",
       "      <td>0.075654</td>\n",
       "      <td>0.073419</td>\n",
       "      <td>0.072729</td>\n",
       "      <td>0.075523</td>\n",
       "      <td>...</td>\n",
       "      <td>0.578125</td>\n",
       "      <td>0.015625</td>\n",
       "      <td>0.515625</td>\n",
       "      <td>0.015625</td>\n",
       "      <td>-0.359375</td>\n",
       "      <td>0.015625</td>\n",
       "      <td>1.0</td>\n",
       "      <td>1.0</td>\n",
       "      <td>1.0</td>\n",
       "      <td>40487.0</td>\n",
       "    </tr>\n",
       "    <tr>\n",
       "      <th>9997</th>\n",
       "      <td>0.011073</td>\n",
       "      <td>0.074055</td>\n",
       "      <td>0.074344</td>\n",
       "      <td>0.074844</td>\n",
       "      <td>0.076071</td>\n",
       "      <td>0.073709</td>\n",
       "      <td>0.075654</td>\n",
       "      <td>0.073419</td>\n",
       "      <td>0.072729</td>\n",
       "      <td>0.075523</td>\n",
       "      <td>...</td>\n",
       "      <td>0.578125</td>\n",
       "      <td>0.015625</td>\n",
       "      <td>0.515625</td>\n",
       "      <td>0.015625</td>\n",
       "      <td>-0.359375</td>\n",
       "      <td>0.015625</td>\n",
       "      <td>1.0</td>\n",
       "      <td>1.0</td>\n",
       "      <td>1.0</td>\n",
       "      <td>40493.0</td>\n",
       "    </tr>\n",
       "    <tr>\n",
       "      <th>9998</th>\n",
       "      <td>0.011177</td>\n",
       "      <td>0.074057</td>\n",
       "      <td>0.074249</td>\n",
       "      <td>0.075168</td>\n",
       "      <td>0.076978</td>\n",
       "      <td>0.073439</td>\n",
       "      <td>0.076473</td>\n",
       "      <td>0.072763</td>\n",
       "      <td>0.072727</td>\n",
       "      <td>0.076165</td>\n",
       "      <td>...</td>\n",
       "      <td>0.828125</td>\n",
       "      <td>0.015625</td>\n",
       "      <td>-0.140625</td>\n",
       "      <td>0.015625</td>\n",
       "      <td>-0.296875</td>\n",
       "      <td>0.015625</td>\n",
       "      <td>1.0</td>\n",
       "      <td>1.0</td>\n",
       "      <td>1.0</td>\n",
       "      <td>29901.0</td>\n",
       "    </tr>\n",
       "    <tr>\n",
       "      <th>9999</th>\n",
       "      <td>0.011177</td>\n",
       "      <td>0.074057</td>\n",
       "      <td>0.074249</td>\n",
       "      <td>0.075168</td>\n",
       "      <td>0.076978</td>\n",
       "      <td>0.073439</td>\n",
       "      <td>0.076473</td>\n",
       "      <td>0.072763</td>\n",
       "      <td>0.072727</td>\n",
       "      <td>0.076165</td>\n",
       "      <td>...</td>\n",
       "      <td>0.828125</td>\n",
       "      <td>0.015625</td>\n",
       "      <td>-0.140625</td>\n",
       "      <td>0.015625</td>\n",
       "      <td>-0.296875</td>\n",
       "      <td>0.015625</td>\n",
       "      <td>1.0</td>\n",
       "      <td>1.0</td>\n",
       "      <td>1.0</td>\n",
       "      <td>29932.0</td>\n",
       "    </tr>\n",
       "  </tbody>\n",
       "</table>\n",
       "<p>10000 rows × 70 columns</p>\n",
       "</div>"
      ],
      "text/plain": [
       "        alpha0  orig_lam   B_lam_0   B_lam_1   B_lam_2   B_lam_3   B_lam_4  \\\n",
       "0     0.016855  0.065943  0.067093  0.065953  0.067093  0.064339  0.066355   \n",
       "1     0.016855  0.065943  0.067093  0.065953  0.067093  0.064339  0.066355   \n",
       "2     0.016855  0.065943  0.067093  0.065953  0.067093  0.064339  0.066355   \n",
       "3     0.016855  0.065943  0.067093  0.065953  0.067093  0.064339  0.066355   \n",
       "4     0.016855  0.065943  0.067093  0.065953  0.067093  0.064339  0.066355   \n",
       "...        ...       ...       ...       ...       ...       ...       ...   \n",
       "9995  0.011073  0.074055  0.074344  0.074844  0.076071  0.073709  0.075654   \n",
       "9996  0.011073  0.074055  0.074344  0.074844  0.076071  0.073709  0.075654   \n",
       "9997  0.011073  0.074055  0.074344  0.074844  0.076071  0.073709  0.075654   \n",
       "9998  0.011177  0.074057  0.074249  0.075168  0.076978  0.073439  0.076473   \n",
       "9999  0.011177  0.074057  0.074249  0.075168  0.076978  0.073439  0.076473   \n",
       "\n",
       "       B_lam_5   B_lam_6   B_lam_7  ...   theta_1   radii_1   theta_2  \\\n",
       "0     0.071003  0.067462  0.066929  ...  0.414062  0.007812  0.398438   \n",
       "1     0.071003  0.067462  0.066929  ...  0.414062  0.007812  0.398438   \n",
       "2     0.071003  0.067462  0.066929  ...  0.414062  0.007812  0.398438   \n",
       "3     0.071003  0.067462  0.066929  ...  0.414062  0.007812  0.398438   \n",
       "4     0.071003  0.067462  0.066929  ...  0.414062  0.007812  0.398438   \n",
       "...        ...       ...       ...  ...       ...       ...       ...   \n",
       "9995  0.073419  0.072729  0.075523  ...  0.578125  0.015625  0.515625   \n",
       "9996  0.073419  0.072729  0.075523  ...  0.578125  0.015625  0.515625   \n",
       "9997  0.073419  0.072729  0.075523  ...  0.578125  0.015625  0.515625   \n",
       "9998  0.072763  0.072727  0.076165  ...  0.828125  0.015625 -0.140625   \n",
       "9999  0.072763  0.072727  0.076165  ...  0.828125  0.015625 -0.140625   \n",
       "\n",
       "       radii_2   theta_3   radii_3  null_truth_0  null_truth_1  null_truth_2  \\\n",
       "0     0.007812 -0.898438  0.007812           1.0           1.0           1.0   \n",
       "1     0.007812 -0.898438  0.007812           1.0           1.0           1.0   \n",
       "2     0.007812 -0.898438  0.007812           1.0           1.0           1.0   \n",
       "3     0.007812 -0.898438  0.007812           1.0           1.0           1.0   \n",
       "4     0.007812 -0.898438  0.007812           1.0           1.0           1.0   \n",
       "...        ...       ...       ...           ...           ...           ...   \n",
       "9995  0.015625 -0.359375  0.015625           1.0           1.0           1.0   \n",
       "9996  0.015625 -0.359375  0.015625           1.0           1.0           1.0   \n",
       "9997  0.015625 -0.359375  0.015625           1.0           1.0           1.0   \n",
       "9998  0.015625 -0.296875  0.015625           1.0           1.0           1.0   \n",
       "9999  0.015625 -0.296875  0.015625           1.0           1.0           1.0   \n",
       "\n",
       "           id  \n",
       "0     52821.0  \n",
       "1     52824.0  \n",
       "2     52827.0  \n",
       "3     52830.0  \n",
       "4     52937.0  \n",
       "...       ...  \n",
       "9995  40469.0  \n",
       "9996  40487.0  \n",
       "9997  40493.0  \n",
       "9998  29901.0  \n",
       "9999  29932.0  \n",
       "\n",
       "[10000 rows x 70 columns]"
      ]
     },
     "execution_count": 22,
     "metadata": {},
     "output_type": "execute_result"
    }
   ],
   "source": [
    "%%time\n",
    "client.query_df(f\"\"\"\n",
    "select * from tiles0\n",
    "    where id not in (\n",
    "        select id from tiles_reject\n",
    "    ) \n",
    "    order by orig_lam\n",
    "    limit 10000\n",
    "\"\"\")"
   ]
  },
  {
   "attachments": {},
   "cell_type": "markdown",
   "metadata": {},
   "source": [
    "## Explore"
   ]
  },
  {
   "cell_type": "code",
   "execution_count": 3,
   "metadata": {},
   "outputs": [
    {
     "name": "stdout",
     "output_type": "stream",
     "text": [
      "[(100, 'value1'), (200, 'value2')]\n"
     ]
    }
   ],
   "source": [
    "client.command(\"CREATE TABLE test_table (key UInt16, value String) ENGINE Memory\")\n",
    "data = [[100, \"value1\"], [200, \"value2\"]]\n",
    "client.insert(\"test_table\", data)\n",
    "print(client.query(\"SELECT * FROM test_table\").result_set)"
   ]
  },
  {
   "cell_type": "code",
   "execution_count": 2,
   "metadata": {},
   "outputs": [],
   "source": [
    "import pandas as pd\n",
    "\n",
    "df = pd.read_parquet(\"./dbtest.parquet\")"
   ]
  },
  {
   "cell_type": "code",
   "execution_count": 3,
   "metadata": {},
   "outputs": [],
   "source": [
    "import sqlalchemy as sa\n",
    "engine = sa.create_engine(f'clickhouse://default:{password}@{host}:8443/default?ssl=True')"
   ]
  },
  {
   "cell_type": "code",
   "execution_count": 5,
   "metadata": {},
   "outputs": [
    {
     "data": {
      "text/plain": [
       "clickhouse_connect.driver.httpclient.HttpClient"
      ]
     },
     "execution_count": 5,
     "metadata": {},
     "output_type": "execute_result"
    }
   ],
   "source": [
    "type(client)"
   ]
  },
  {
   "cell_type": "code",
   "execution_count": 4,
   "metadata": {},
   "outputs": [
    {
     "ename": "Exception",
     "evalue": "Code: 42. DB::Exception: ORDER BY or PRIMARY KEY clause is missing. Consider using extended storage definition syntax with ORDER BY or PRIMARY KEY clause. With deprecated old syntax (highly not recommended) storage ReplicatedMergeTree requires 5 to 6 parameters: \npath in ZooKeeper,\nreplica name,\nname of column with date,\n[sampling element of primary key],\nprimary key expression,\nindex granularity\n\nSyntax for the MergeTree table engine:\n\nCREATE TABLE [IF NOT EXISTS] [db.]table_name [ON CLUSTER cluster]\n(\n    name1 [type1] [DEFAULT|MATERIALIZED|ALIAS expr1] [TTL expr1],\n    name2 [type2] [DEFAULT|MATERIALIZED|ALIAS expr2] [TTL expr2],\n    ...\n    INDEX index_name1 expr1 TYPE type1(...) GRANULARITY value1,\n    INDEX index_name2 expr2 TYPE type2(...) GRANULARITY value2\n) ENGINE = MergeTree()\nORDER BY expr\n[PARTITION BY expr]\n[PRIMARY KEY expr]\n[SAMPLE BY expr]\n[TTL expr [DELETE|TO DISK 'xxx'|TO VOLUME 'xxx'], ...]\n[SETTINGS name=value, ...]\n\nSee details in documentation: https://clickhouse.com/docs/en/engines/table-engines/mergetree-family/mergetree/. Other engines of the family support different syntax, see details in the corresponding documentation topics.\n\nIf you use the Replicated version of engines, see https://clickhouse.com/docs/en/engines/table-engines/mergetree-family/replication/.\n. (NUMBER_OF_ARGUMENTS_DOESNT_MATCH) (version 22.11.1.19280 (official build))\n",
     "output_type": "error",
     "traceback": [
      "\u001b[0;31m---------------------------------------------------------------------------\u001b[0m",
      "\u001b[0;31mException\u001b[0m                                 Traceback (most recent call last)",
      "Cell \u001b[0;32mIn[4], line 1\u001b[0m\n\u001b[0;32m----> 1\u001b[0m df[:\u001b[39m1000\u001b[39;49m]\u001b[39m.\u001b[39;49mto_sql(\u001b[39m'\u001b[39;49m\u001b[39mtest\u001b[39;49m\u001b[39m'\u001b[39;49m, engine, if_exists\u001b[39m=\u001b[39;49m\u001b[39m'\u001b[39;49m\u001b[39mreplace\u001b[39;49m\u001b[39m'\u001b[39;49m, index\u001b[39m=\u001b[39;49m\u001b[39mFalse\u001b[39;49;00m)\n",
      "File \u001b[0;32m~/.mambaforge/envs/confirm/lib/python3.10/site-packages/pandas/core/generic.py:2987\u001b[0m, in \u001b[0;36mNDFrame.to_sql\u001b[0;34m(self, name, con, schema, if_exists, index, index_label, chunksize, dtype, method)\u001b[0m\n\u001b[1;32m   2830\u001b[0m \u001b[39m\"\"\"\u001b[39;00m\n\u001b[1;32m   2831\u001b[0m \u001b[39mWrite records stored in a DataFrame to a SQL database.\u001b[39;00m\n\u001b[1;32m   2832\u001b[0m \n\u001b[0;32m   (...)\u001b[0m\n\u001b[1;32m   2983\u001b[0m \u001b[39m[(1,), (None,), (2,)]\u001b[39;00m\n\u001b[1;32m   2984\u001b[0m \u001b[39m\"\"\"\u001b[39;00m  \u001b[39m# noqa:E501\u001b[39;00m\n\u001b[1;32m   2985\u001b[0m \u001b[39mfrom\u001b[39;00m \u001b[39mpandas\u001b[39;00m\u001b[39m.\u001b[39;00m\u001b[39mio\u001b[39;00m \u001b[39mimport\u001b[39;00m sql\n\u001b[0;32m-> 2987\u001b[0m \u001b[39mreturn\u001b[39;00m sql\u001b[39m.\u001b[39;49mto_sql(\n\u001b[1;32m   2988\u001b[0m     \u001b[39mself\u001b[39;49m,\n\u001b[1;32m   2989\u001b[0m     name,\n\u001b[1;32m   2990\u001b[0m     con,\n\u001b[1;32m   2991\u001b[0m     schema\u001b[39m=\u001b[39;49mschema,\n\u001b[1;32m   2992\u001b[0m     if_exists\u001b[39m=\u001b[39;49mif_exists,\n\u001b[1;32m   2993\u001b[0m     index\u001b[39m=\u001b[39;49mindex,\n\u001b[1;32m   2994\u001b[0m     index_label\u001b[39m=\u001b[39;49mindex_label,\n\u001b[1;32m   2995\u001b[0m     chunksize\u001b[39m=\u001b[39;49mchunksize,\n\u001b[1;32m   2996\u001b[0m     dtype\u001b[39m=\u001b[39;49mdtype,\n\u001b[1;32m   2997\u001b[0m     method\u001b[39m=\u001b[39;49mmethod,\n\u001b[1;32m   2998\u001b[0m )\n",
      "File \u001b[0;32m~/.mambaforge/envs/confirm/lib/python3.10/site-packages/pandas/io/sql.py:695\u001b[0m, in \u001b[0;36mto_sql\u001b[0;34m(frame, name, con, schema, if_exists, index, index_label, chunksize, dtype, method, engine, **engine_kwargs)\u001b[0m\n\u001b[1;32m    690\u001b[0m \u001b[39melif\u001b[39;00m \u001b[39mnot\u001b[39;00m \u001b[39misinstance\u001b[39m(frame, DataFrame):\n\u001b[1;32m    691\u001b[0m     \u001b[39mraise\u001b[39;00m \u001b[39mNotImplementedError\u001b[39;00m(\n\u001b[1;32m    692\u001b[0m         \u001b[39m\"\u001b[39m\u001b[39m'\u001b[39m\u001b[39mframe\u001b[39m\u001b[39m'\u001b[39m\u001b[39m argument should be either a Series or a DataFrame\u001b[39m\u001b[39m\"\u001b[39m\n\u001b[1;32m    693\u001b[0m     )\n\u001b[0;32m--> 695\u001b[0m \u001b[39mreturn\u001b[39;00m pandas_sql\u001b[39m.\u001b[39;49mto_sql(\n\u001b[1;32m    696\u001b[0m     frame,\n\u001b[1;32m    697\u001b[0m     name,\n\u001b[1;32m    698\u001b[0m     if_exists\u001b[39m=\u001b[39;49mif_exists,\n\u001b[1;32m    699\u001b[0m     index\u001b[39m=\u001b[39;49mindex,\n\u001b[1;32m    700\u001b[0m     index_label\u001b[39m=\u001b[39;49mindex_label,\n\u001b[1;32m    701\u001b[0m     schema\u001b[39m=\u001b[39;49mschema,\n\u001b[1;32m    702\u001b[0m     chunksize\u001b[39m=\u001b[39;49mchunksize,\n\u001b[1;32m    703\u001b[0m     dtype\u001b[39m=\u001b[39;49mdtype,\n\u001b[1;32m    704\u001b[0m     method\u001b[39m=\u001b[39;49mmethod,\n\u001b[1;32m    705\u001b[0m     engine\u001b[39m=\u001b[39;49mengine,\n\u001b[1;32m    706\u001b[0m     \u001b[39m*\u001b[39;49m\u001b[39m*\u001b[39;49mengine_kwargs,\n\u001b[1;32m    707\u001b[0m )\n",
      "File \u001b[0;32m~/.mambaforge/envs/confirm/lib/python3.10/site-packages/pandas/io/sql.py:1728\u001b[0m, in \u001b[0;36mSQLDatabase.to_sql\u001b[0;34m(self, frame, name, if_exists, index, index_label, schema, chunksize, dtype, method, engine, **engine_kwargs)\u001b[0m\n\u001b[1;32m   1678\u001b[0m \u001b[39m\"\"\"\u001b[39;00m\n\u001b[1;32m   1679\u001b[0m \u001b[39mWrite records stored in a DataFrame to a SQL database.\u001b[39;00m\n\u001b[1;32m   1680\u001b[0m \n\u001b[0;32m   (...)\u001b[0m\n\u001b[1;32m   1724\u001b[0m \u001b[39m    Any additional kwargs are passed to the engine.\u001b[39;00m\n\u001b[1;32m   1725\u001b[0m \u001b[39m\"\"\"\u001b[39;00m\n\u001b[1;32m   1726\u001b[0m sql_engine \u001b[39m=\u001b[39m get_engine(engine)\n\u001b[0;32m-> 1728\u001b[0m table \u001b[39m=\u001b[39m \u001b[39mself\u001b[39;49m\u001b[39m.\u001b[39;49mprep_table(\n\u001b[1;32m   1729\u001b[0m     frame\u001b[39m=\u001b[39;49mframe,\n\u001b[1;32m   1730\u001b[0m     name\u001b[39m=\u001b[39;49mname,\n\u001b[1;32m   1731\u001b[0m     if_exists\u001b[39m=\u001b[39;49mif_exists,\n\u001b[1;32m   1732\u001b[0m     index\u001b[39m=\u001b[39;49mindex,\n\u001b[1;32m   1733\u001b[0m     index_label\u001b[39m=\u001b[39;49mindex_label,\n\u001b[1;32m   1734\u001b[0m     schema\u001b[39m=\u001b[39;49mschema,\n\u001b[1;32m   1735\u001b[0m     dtype\u001b[39m=\u001b[39;49mdtype,\n\u001b[1;32m   1736\u001b[0m )\n\u001b[1;32m   1738\u001b[0m total_inserted \u001b[39m=\u001b[39m sql_engine\u001b[39m.\u001b[39minsert_records(\n\u001b[1;32m   1739\u001b[0m     table\u001b[39m=\u001b[39mtable,\n\u001b[1;32m   1740\u001b[0m     con\u001b[39m=\u001b[39m\u001b[39mself\u001b[39m\u001b[39m.\u001b[39mconnectable,\n\u001b[0;32m   (...)\u001b[0m\n\u001b[1;32m   1747\u001b[0m     \u001b[39m*\u001b[39m\u001b[39m*\u001b[39mengine_kwargs,\n\u001b[1;32m   1748\u001b[0m )\n\u001b[1;32m   1750\u001b[0m \u001b[39mself\u001b[39m\u001b[39m.\u001b[39mcheck_case_sensitive(name\u001b[39m=\u001b[39mname, schema\u001b[39m=\u001b[39mschema)\n",
      "File \u001b[0;32m~/.mambaforge/envs/confirm/lib/python3.10/site-packages/pandas/io/sql.py:1631\u001b[0m, in \u001b[0;36mSQLDatabase.prep_table\u001b[0;34m(self, frame, name, if_exists, index, index_label, schema, dtype)\u001b[0m\n\u001b[1;32m   1619\u001b[0m             \u001b[39mraise\u001b[39;00m \u001b[39mValueError\u001b[39;00m(\u001b[39mf\u001b[39m\u001b[39m\"\u001b[39m\u001b[39mThe type of \u001b[39m\u001b[39m{\u001b[39;00mcol\u001b[39m}\u001b[39;00m\u001b[39m is not a SQLAlchemy type\u001b[39m\u001b[39m\"\u001b[39m)\n\u001b[1;32m   1621\u001b[0m table \u001b[39m=\u001b[39m SQLTable(\n\u001b[1;32m   1622\u001b[0m     name,\n\u001b[1;32m   1623\u001b[0m     \u001b[39mself\u001b[39m,\n\u001b[0;32m   (...)\u001b[0m\n\u001b[1;32m   1629\u001b[0m     dtype\u001b[39m=\u001b[39mdtype,\n\u001b[1;32m   1630\u001b[0m )\n\u001b[0;32m-> 1631\u001b[0m table\u001b[39m.\u001b[39;49mcreate()\n\u001b[1;32m   1632\u001b[0m \u001b[39mreturn\u001b[39;00m table\n",
      "File \u001b[0;32m~/.mambaforge/envs/confirm/lib/python3.10/site-packages/pandas/io/sql.py:838\u001b[0m, in \u001b[0;36mSQLTable.create\u001b[0;34m(self)\u001b[0m\n\u001b[1;32m    836\u001b[0m         \u001b[39mraise\u001b[39;00m \u001b[39mValueError\u001b[39;00m(\u001b[39mf\u001b[39m\u001b[39m\"\u001b[39m\u001b[39m'\u001b[39m\u001b[39m{\u001b[39;00m\u001b[39mself\u001b[39m\u001b[39m.\u001b[39mif_exists\u001b[39m}\u001b[39;00m\u001b[39m'\u001b[39m\u001b[39m is not valid for if_exists\u001b[39m\u001b[39m\"\u001b[39m)\n\u001b[1;32m    837\u001b[0m \u001b[39melse\u001b[39;00m:\n\u001b[0;32m--> 838\u001b[0m     \u001b[39mself\u001b[39;49m\u001b[39m.\u001b[39;49m_execute_create()\n",
      "File \u001b[0;32m~/.mambaforge/envs/confirm/lib/python3.10/site-packages/pandas/io/sql.py:824\u001b[0m, in \u001b[0;36mSQLTable._execute_create\u001b[0;34m(self)\u001b[0m\n\u001b[1;32m    821\u001b[0m \u001b[39mdef\u001b[39;00m \u001b[39m_execute_create\u001b[39m(\u001b[39mself\u001b[39m):\n\u001b[1;32m    822\u001b[0m     \u001b[39m# Inserting table into database, add to MetaData object\u001b[39;00m\n\u001b[1;32m    823\u001b[0m     \u001b[39mself\u001b[39m\u001b[39m.\u001b[39mtable \u001b[39m=\u001b[39m \u001b[39mself\u001b[39m\u001b[39m.\u001b[39mtable\u001b[39m.\u001b[39mto_metadata(\u001b[39mself\u001b[39m\u001b[39m.\u001b[39mpd_sql\u001b[39m.\u001b[39mmeta)\n\u001b[0;32m--> 824\u001b[0m     \u001b[39mself\u001b[39;49m\u001b[39m.\u001b[39;49mtable\u001b[39m.\u001b[39;49mcreate(bind\u001b[39m=\u001b[39;49m\u001b[39mself\u001b[39;49m\u001b[39m.\u001b[39;49mpd_sql\u001b[39m.\u001b[39;49mconnectable)\n",
      "File \u001b[0;32m~/.mambaforge/envs/confirm/lib/python3.10/site-packages/sqlalchemy/sql/schema.py:962\u001b[0m, in \u001b[0;36mTable.create\u001b[0;34m(self, bind, checkfirst)\u001b[0m\n\u001b[1;32m    960\u001b[0m \u001b[39mif\u001b[39;00m bind \u001b[39mis\u001b[39;00m \u001b[39mNone\u001b[39;00m:\n\u001b[1;32m    961\u001b[0m     bind \u001b[39m=\u001b[39m _bind_or_error(\u001b[39mself\u001b[39m)\n\u001b[0;32m--> 962\u001b[0m bind\u001b[39m.\u001b[39;49m_run_ddl_visitor(ddl\u001b[39m.\u001b[39;49mSchemaGenerator, \u001b[39mself\u001b[39;49m, checkfirst\u001b[39m=\u001b[39;49mcheckfirst)\n",
      "File \u001b[0;32m~/.mambaforge/envs/confirm/lib/python3.10/site-packages/sqlalchemy/engine/base.py:3228\u001b[0m, in \u001b[0;36mEngine._run_ddl_visitor\u001b[0;34m(self, visitorcallable, element, **kwargs)\u001b[0m\n\u001b[1;32m   3226\u001b[0m \u001b[39mdef\u001b[39;00m \u001b[39m_run_ddl_visitor\u001b[39m(\u001b[39mself\u001b[39m, visitorcallable, element, \u001b[39m*\u001b[39m\u001b[39m*\u001b[39mkwargs):\n\u001b[1;32m   3227\u001b[0m     \u001b[39mwith\u001b[39;00m \u001b[39mself\u001b[39m\u001b[39m.\u001b[39mbegin() \u001b[39mas\u001b[39;00m conn:\n\u001b[0;32m-> 3228\u001b[0m         conn\u001b[39m.\u001b[39;49m_run_ddl_visitor(visitorcallable, element, \u001b[39m*\u001b[39;49m\u001b[39m*\u001b[39;49mkwargs)\n",
      "File \u001b[0;32m~/.mambaforge/envs/confirm/lib/python3.10/site-packages/sqlalchemy/engine/base.py:2211\u001b[0m, in \u001b[0;36mConnection._run_ddl_visitor\u001b[0;34m(self, visitorcallable, element, **kwargs)\u001b[0m\n\u001b[1;32m   2204\u001b[0m \u001b[39mdef\u001b[39;00m \u001b[39m_run_ddl_visitor\u001b[39m(\u001b[39mself\u001b[39m, visitorcallable, element, \u001b[39m*\u001b[39m\u001b[39m*\u001b[39mkwargs):\n\u001b[1;32m   2205\u001b[0m     \u001b[39m\"\"\"run a DDL visitor.\u001b[39;00m\n\u001b[1;32m   2206\u001b[0m \n\u001b[1;32m   2207\u001b[0m \u001b[39m    This method is only here so that the MockConnection can change the\u001b[39;00m\n\u001b[1;32m   2208\u001b[0m \u001b[39m    options given to the visitor so that \"checkfirst\" is skipped.\u001b[39;00m\n\u001b[1;32m   2209\u001b[0m \n\u001b[1;32m   2210\u001b[0m \u001b[39m    \"\"\"\u001b[39;00m\n\u001b[0;32m-> 2211\u001b[0m     visitorcallable(\u001b[39mself\u001b[39;49m\u001b[39m.\u001b[39;49mdialect, \u001b[39mself\u001b[39;49m, \u001b[39m*\u001b[39;49m\u001b[39m*\u001b[39;49mkwargs)\u001b[39m.\u001b[39;49mtraverse_single(element)\n",
      "File \u001b[0;32m~/.mambaforge/envs/confirm/lib/python3.10/site-packages/sqlalchemy/sql/visitors.py:524\u001b[0m, in \u001b[0;36mExternalTraversal.traverse_single\u001b[0;34m(self, obj, **kw)\u001b[0m\n\u001b[1;32m    522\u001b[0m meth \u001b[39m=\u001b[39m \u001b[39mgetattr\u001b[39m(v, \u001b[39m\"\u001b[39m\u001b[39mvisit_\u001b[39m\u001b[39m%s\u001b[39;00m\u001b[39m\"\u001b[39m \u001b[39m%\u001b[39m obj\u001b[39m.\u001b[39m__visit_name__, \u001b[39mNone\u001b[39;00m)\n\u001b[1;32m    523\u001b[0m \u001b[39mif\u001b[39;00m meth:\n\u001b[0;32m--> 524\u001b[0m     \u001b[39mreturn\u001b[39;00m meth(obj, \u001b[39m*\u001b[39;49m\u001b[39m*\u001b[39;49mkw)\n",
      "File \u001b[0;32m~/.mambaforge/envs/confirm/lib/python3.10/site-packages/sqlalchemy/sql/ddl.py:895\u001b[0m, in \u001b[0;36mSchemaGenerator.visit_table\u001b[0;34m(self, table, create_ok, include_foreign_key_constraints, _is_metadata_operation)\u001b[0m\n\u001b[1;32m    891\u001b[0m \u001b[39mif\u001b[39;00m \u001b[39mnot\u001b[39;00m \u001b[39mself\u001b[39m\u001b[39m.\u001b[39mdialect\u001b[39m.\u001b[39msupports_alter:\n\u001b[1;32m    892\u001b[0m     \u001b[39m# e.g., don't omit any foreign key constraints\u001b[39;00m\n\u001b[1;32m    893\u001b[0m     include_foreign_key_constraints \u001b[39m=\u001b[39m \u001b[39mNone\u001b[39;00m\n\u001b[0;32m--> 895\u001b[0m \u001b[39mself\u001b[39;49m\u001b[39m.\u001b[39;49mconnection\u001b[39m.\u001b[39;49mexecute(\n\u001b[1;32m    896\u001b[0m     \u001b[39m# fmt: off\u001b[39;49;00m\n\u001b[1;32m    897\u001b[0m     CreateTable(\n\u001b[1;32m    898\u001b[0m         table,\n\u001b[1;32m    899\u001b[0m         include_foreign_key_constraints\u001b[39m=\u001b[39;49m  \u001b[39m# noqa\u001b[39;49;00m\n\u001b[1;32m    900\u001b[0m             include_foreign_key_constraints,  \u001b[39m# noqa\u001b[39;49;00m\n\u001b[1;32m    901\u001b[0m     )\n\u001b[1;32m    902\u001b[0m     \u001b[39m# fmt: on\u001b[39;49;00m\n\u001b[1;32m    903\u001b[0m )\n\u001b[1;32m    905\u001b[0m \u001b[39mif\u001b[39;00m \u001b[39mhasattr\u001b[39m(table, \u001b[39m\"\u001b[39m\u001b[39mindexes\u001b[39m\u001b[39m\"\u001b[39m):\n\u001b[1;32m    906\u001b[0m     \u001b[39mfor\u001b[39;00m index \u001b[39min\u001b[39;00m table\u001b[39m.\u001b[39mindexes:\n",
      "File \u001b[0;32m~/.mambaforge/envs/confirm/lib/python3.10/site-packages/sqlalchemy/engine/base.py:1380\u001b[0m, in \u001b[0;36mConnection.execute\u001b[0;34m(self, statement, *multiparams, **params)\u001b[0m\n\u001b[1;32m   1376\u001b[0m     util\u001b[39m.\u001b[39mraise_(\n\u001b[1;32m   1377\u001b[0m         exc\u001b[39m.\u001b[39mObjectNotExecutableError(statement), replace_context\u001b[39m=\u001b[39merr\n\u001b[1;32m   1378\u001b[0m     )\n\u001b[1;32m   1379\u001b[0m \u001b[39melse\u001b[39;00m:\n\u001b[0;32m-> 1380\u001b[0m     \u001b[39mreturn\u001b[39;00m meth(\u001b[39mself\u001b[39;49m, multiparams, params, _EMPTY_EXECUTION_OPTS)\n",
      "File \u001b[0;32m~/.mambaforge/envs/confirm/lib/python3.10/site-packages/sqlalchemy/sql/ddl.py:80\u001b[0m, in \u001b[0;36mDDLElement._execute_on_connection\u001b[0;34m(self, connection, multiparams, params, execution_options)\u001b[0m\n\u001b[1;32m     77\u001b[0m \u001b[39mdef\u001b[39;00m \u001b[39m_execute_on_connection\u001b[39m(\n\u001b[1;32m     78\u001b[0m     \u001b[39mself\u001b[39m, connection, multiparams, params, execution_options\n\u001b[1;32m     79\u001b[0m ):\n\u001b[0;32m---> 80\u001b[0m     \u001b[39mreturn\u001b[39;00m connection\u001b[39m.\u001b[39;49m_execute_ddl(\n\u001b[1;32m     81\u001b[0m         \u001b[39mself\u001b[39;49m, multiparams, params, execution_options\n\u001b[1;32m     82\u001b[0m     )\n",
      "File \u001b[0;32m~/.mambaforge/envs/confirm/lib/python3.10/site-packages/sqlalchemy/engine/base.py:1472\u001b[0m, in \u001b[0;36mConnection._execute_ddl\u001b[0;34m(self, ddl, multiparams, params, execution_options)\u001b[0m\n\u001b[1;32m   1467\u001b[0m dialect \u001b[39m=\u001b[39m \u001b[39mself\u001b[39m\u001b[39m.\u001b[39mdialect\n\u001b[1;32m   1469\u001b[0m compiled \u001b[39m=\u001b[39m ddl\u001b[39m.\u001b[39mcompile(\n\u001b[1;32m   1470\u001b[0m     dialect\u001b[39m=\u001b[39mdialect, schema_translate_map\u001b[39m=\u001b[39mschema_translate_map\n\u001b[1;32m   1471\u001b[0m )\n\u001b[0;32m-> 1472\u001b[0m ret \u001b[39m=\u001b[39m \u001b[39mself\u001b[39;49m\u001b[39m.\u001b[39;49m_execute_context(\n\u001b[1;32m   1473\u001b[0m     dialect,\n\u001b[1;32m   1474\u001b[0m     dialect\u001b[39m.\u001b[39;49mexecution_ctx_cls\u001b[39m.\u001b[39;49m_init_ddl,\n\u001b[1;32m   1475\u001b[0m     compiled,\n\u001b[1;32m   1476\u001b[0m     \u001b[39mNone\u001b[39;49;00m,\n\u001b[1;32m   1477\u001b[0m     execution_options,\n\u001b[1;32m   1478\u001b[0m     compiled,\n\u001b[1;32m   1479\u001b[0m )\n\u001b[1;32m   1480\u001b[0m \u001b[39mif\u001b[39;00m \u001b[39mself\u001b[39m\u001b[39m.\u001b[39m_has_events \u001b[39mor\u001b[39;00m \u001b[39mself\u001b[39m\u001b[39m.\u001b[39mengine\u001b[39m.\u001b[39m_has_events:\n\u001b[1;32m   1481\u001b[0m     \u001b[39mself\u001b[39m\u001b[39m.\u001b[39mdispatch\u001b[39m.\u001b[39mafter_execute(\n\u001b[1;32m   1482\u001b[0m         \u001b[39mself\u001b[39m,\n\u001b[1;32m   1483\u001b[0m         ddl,\n\u001b[0;32m   (...)\u001b[0m\n\u001b[1;32m   1487\u001b[0m         ret,\n\u001b[1;32m   1488\u001b[0m     )\n",
      "File \u001b[0;32m~/.mambaforge/envs/confirm/lib/python3.10/site-packages/sqlalchemy/engine/base.py:1943\u001b[0m, in \u001b[0;36mConnection._execute_context\u001b[0;34m(self, dialect, constructor, statement, parameters, execution_options, *args, **kw)\u001b[0m\n\u001b[1;32m   1940\u001b[0m             branched\u001b[39m.\u001b[39mclose()\n\u001b[1;32m   1942\u001b[0m \u001b[39mexcept\u001b[39;00m \u001b[39mBaseException\u001b[39;00m \u001b[39mas\u001b[39;00m e:\n\u001b[0;32m-> 1943\u001b[0m     \u001b[39mself\u001b[39;49m\u001b[39m.\u001b[39;49m_handle_dbapi_exception(\n\u001b[1;32m   1944\u001b[0m         e, statement, parameters, cursor, context\n\u001b[1;32m   1945\u001b[0m     )\n\u001b[1;32m   1947\u001b[0m \u001b[39mreturn\u001b[39;00m result\n",
      "File \u001b[0;32m~/.mambaforge/envs/confirm/lib/python3.10/site-packages/sqlalchemy/engine/base.py:2128\u001b[0m, in \u001b[0;36mConnection._handle_dbapi_exception\u001b[0;34m(self, e, statement, parameters, cursor, context)\u001b[0m\n\u001b[1;32m   2124\u001b[0m         util\u001b[39m.\u001b[39mraise_(\n\u001b[1;32m   2125\u001b[0m             sqlalchemy_exception, with_traceback\u001b[39m=\u001b[39mexc_info[\u001b[39m2\u001b[39m], from_\u001b[39m=\u001b[39me\n\u001b[1;32m   2126\u001b[0m         )\n\u001b[1;32m   2127\u001b[0m     \u001b[39melse\u001b[39;00m:\n\u001b[0;32m-> 2128\u001b[0m         util\u001b[39m.\u001b[39;49mraise_(exc_info[\u001b[39m1\u001b[39;49m], with_traceback\u001b[39m=\u001b[39;49mexc_info[\u001b[39m2\u001b[39;49m])\n\u001b[1;32m   2130\u001b[0m \u001b[39mfinally\u001b[39;00m:\n\u001b[1;32m   2131\u001b[0m     \u001b[39mdel\u001b[39;00m \u001b[39mself\u001b[39m\u001b[39m.\u001b[39m_reentrant_error\n",
      "File \u001b[0;32m~/.mambaforge/envs/confirm/lib/python3.10/site-packages/sqlalchemy/util/compat.py:210\u001b[0m, in \u001b[0;36mraise_\u001b[0;34m(***failed resolving arguments***)\u001b[0m\n\u001b[1;32m    207\u001b[0m     exception\u001b[39m.\u001b[39m__cause__ \u001b[39m=\u001b[39m replace_context\n\u001b[1;32m    209\u001b[0m \u001b[39mtry\u001b[39;00m:\n\u001b[0;32m--> 210\u001b[0m     \u001b[39mraise\u001b[39;00m exception\n\u001b[1;32m    211\u001b[0m \u001b[39mfinally\u001b[39;00m:\n\u001b[1;32m    212\u001b[0m     \u001b[39m# credit to\u001b[39;00m\n\u001b[1;32m    213\u001b[0m     \u001b[39m# https://cosmicpercolator.com/2016/01/13/exception-leaks-in-python-2-and-3/\u001b[39;00m\n\u001b[1;32m    214\u001b[0m     \u001b[39m# as the __traceback__ object creates a cycle\u001b[39;00m\n\u001b[1;32m    215\u001b[0m     \u001b[39mdel\u001b[39;00m exception, replace_context, from_, with_traceback\n",
      "File \u001b[0;32m~/.mambaforge/envs/confirm/lib/python3.10/site-packages/sqlalchemy/engine/base.py:1900\u001b[0m, in \u001b[0;36mConnection._execute_context\u001b[0;34m(self, dialect, constructor, statement, parameters, execution_options, *args, **kw)\u001b[0m\n\u001b[1;32m   1898\u001b[0m                 \u001b[39mbreak\u001b[39;00m\n\u001b[1;32m   1899\u001b[0m     \u001b[39mif\u001b[39;00m \u001b[39mnot\u001b[39;00m evt_handled:\n\u001b[0;32m-> 1900\u001b[0m         \u001b[39mself\u001b[39;49m\u001b[39m.\u001b[39;49mdialect\u001b[39m.\u001b[39;49mdo_execute(\n\u001b[1;32m   1901\u001b[0m             cursor, statement, parameters, context\n\u001b[1;32m   1902\u001b[0m         )\n\u001b[1;32m   1904\u001b[0m \u001b[39mif\u001b[39;00m \u001b[39mself\u001b[39m\u001b[39m.\u001b[39m_has_events \u001b[39mor\u001b[39;00m \u001b[39mself\u001b[39m\u001b[39m.\u001b[39mengine\u001b[39m.\u001b[39m_has_events:\n\u001b[1;32m   1905\u001b[0m     \u001b[39mself\u001b[39m\u001b[39m.\u001b[39mdispatch\u001b[39m.\u001b[39mafter_cursor_execute(\n\u001b[1;32m   1906\u001b[0m         \u001b[39mself\u001b[39m,\n\u001b[1;32m   1907\u001b[0m         cursor,\n\u001b[0;32m   (...)\u001b[0m\n\u001b[1;32m   1911\u001b[0m         context\u001b[39m.\u001b[39mexecutemany,\n\u001b[1;32m   1912\u001b[0m     )\n",
      "File \u001b[0;32m~/.mambaforge/envs/confirm/lib/python3.10/site-packages/sqlalchemy/engine/default.py:736\u001b[0m, in \u001b[0;36mDefaultDialect.do_execute\u001b[0;34m(self, cursor, statement, parameters, context)\u001b[0m\n\u001b[1;32m    735\u001b[0m \u001b[39mdef\u001b[39;00m \u001b[39mdo_execute\u001b[39m(\u001b[39mself\u001b[39m, cursor, statement, parameters, context\u001b[39m=\u001b[39m\u001b[39mNone\u001b[39;00m):\n\u001b[0;32m--> 736\u001b[0m     cursor\u001b[39m.\u001b[39;49mexecute(statement, parameters)\n",
      "File \u001b[0;32m~/.mambaforge/envs/confirm/lib/python3.10/site-packages/sqlalchemy_clickhouse/connector.py:227\u001b[0m, in \u001b[0;36mCursor.execute\u001b[0;34m(self, operation, parameters, is_response)\u001b[0m\n\u001b[1;32m    225\u001b[0m \u001b[39mif\u001b[39;00m is_response:\n\u001b[1;32m    226\u001b[0m     response \u001b[39m=\u001b[39m \u001b[39mself\u001b[39m\u001b[39m.\u001b[39m_db\u001b[39m.\u001b[39mselect(sql, settings\u001b[39m=\u001b[39m{\u001b[39m'\u001b[39m\u001b[39mquery_id\u001b[39m\u001b[39m'\u001b[39m: \u001b[39mself\u001b[39m\u001b[39m.\u001b[39m_uuid})\n\u001b[0;32m--> 227\u001b[0m     \u001b[39mself\u001b[39;49m\u001b[39m.\u001b[39;49m_process_response(response)\n\u001b[1;32m    228\u001b[0m \u001b[39melse\u001b[39;00m:\n\u001b[1;32m    229\u001b[0m     \u001b[39mself\u001b[39m\u001b[39m.\u001b[39m_db\u001b[39m.\u001b[39mraw(sql)\n",
      "File \u001b[0;32m~/.mambaforge/envs/confirm/lib/python3.10/site-packages/sqlalchemy_clickhouse/connector.py:364\u001b[0m, in \u001b[0;36mCursor._process_response\u001b[0;34m(self, response)\u001b[0m\n\u001b[1;32m    362\u001b[0m cols \u001b[39m=\u001b[39m \u001b[39mNone\u001b[39;00m\n\u001b[1;32m    363\u001b[0m data \u001b[39m=\u001b[39m []\n\u001b[0;32m--> 364\u001b[0m \u001b[39mfor\u001b[39;00m r \u001b[39min\u001b[39;00m response:\n\u001b[1;32m    365\u001b[0m     \u001b[39mif\u001b[39;00m \u001b[39mnot\u001b[39;00m cols:\n\u001b[1;32m    366\u001b[0m         cols \u001b[39m=\u001b[39m [(f, r\u001b[39m.\u001b[39m_fields[f]\u001b[39m.\u001b[39mdb_type) \u001b[39mfor\u001b[39;00m f \u001b[39min\u001b[39;00m r\u001b[39m.\u001b[39m_fields]\n",
      "File \u001b[0;32m~/.mambaforge/envs/confirm/lib/python3.10/site-packages/infi/clickhouse_orm/database.py:278\u001b[0m, in \u001b[0;36mDatabase.select\u001b[0;34m(self, query, model_class, settings)\u001b[0m\n\u001b[1;32m    276\u001b[0m query \u001b[39m+\u001b[39m\u001b[39m=\u001b[39m \u001b[39m'\u001b[39m\u001b[39m FORMAT TabSeparatedWithNamesAndTypes\u001b[39m\u001b[39m'\u001b[39m\n\u001b[1;32m    277\u001b[0m query \u001b[39m=\u001b[39m \u001b[39mself\u001b[39m\u001b[39m.\u001b[39m_substitute(query, model_class)\n\u001b[0;32m--> 278\u001b[0m r \u001b[39m=\u001b[39m \u001b[39mself\u001b[39;49m\u001b[39m.\u001b[39;49m_send(query, settings, \u001b[39mTrue\u001b[39;49;00m)\n\u001b[1;32m    279\u001b[0m lines \u001b[39m=\u001b[39m r\u001b[39m.\u001b[39miter_lines()\n\u001b[1;32m    280\u001b[0m field_names \u001b[39m=\u001b[39m parse_tsv(\u001b[39mnext\u001b[39m(lines))\n",
      "File \u001b[0;32m~/.mambaforge/envs/confirm/lib/python3.10/site-packages/sqlalchemy_clickhouse/connector.py:113\u001b[0m, in \u001b[0;36m_send\u001b[0;34m(self, data, settings, stream)\u001b[0m\n\u001b[1;32m    111\u001b[0m r \u001b[39m=\u001b[39m \u001b[39mself\u001b[39m\u001b[39m.\u001b[39mrequest_session\u001b[39m.\u001b[39mpost(\u001b[39mself\u001b[39m\u001b[39m.\u001b[39mdb_url, params\u001b[39m=\u001b[39mparams, data\u001b[39m=\u001b[39mdata, stream\u001b[39m=\u001b[39mstream, timeout\u001b[39m=\u001b[39m\u001b[39mself\u001b[39m\u001b[39m.\u001b[39mtimeout)\n\u001b[1;32m    112\u001b[0m \u001b[39mif\u001b[39;00m r\u001b[39m.\u001b[39mstatus_code \u001b[39m!=\u001b[39m \u001b[39m200\u001b[39m:\n\u001b[0;32m--> 113\u001b[0m     \u001b[39mraise\u001b[39;00m \u001b[39mException\u001b[39;00m(r\u001b[39m.\u001b[39mtext)\n\u001b[1;32m    114\u001b[0m \u001b[39mreturn\u001b[39;00m r\n",
      "\u001b[0;31mException\u001b[0m: Code: 42. DB::Exception: ORDER BY or PRIMARY KEY clause is missing. Consider using extended storage definition syntax with ORDER BY or PRIMARY KEY clause. With deprecated old syntax (highly not recommended) storage ReplicatedMergeTree requires 5 to 6 parameters: \npath in ZooKeeper,\nreplica name,\nname of column with date,\n[sampling element of primary key],\nprimary key expression,\nindex granularity\n\nSyntax for the MergeTree table engine:\n\nCREATE TABLE [IF NOT EXISTS] [db.]table_name [ON CLUSTER cluster]\n(\n    name1 [type1] [DEFAULT|MATERIALIZED|ALIAS expr1] [TTL expr1],\n    name2 [type2] [DEFAULT|MATERIALIZED|ALIAS expr2] [TTL expr2],\n    ...\n    INDEX index_name1 expr1 TYPE type1(...) GRANULARITY value1,\n    INDEX index_name2 expr2 TYPE type2(...) GRANULARITY value2\n) ENGINE = MergeTree()\nORDER BY expr\n[PARTITION BY expr]\n[PRIMARY KEY expr]\n[SAMPLE BY expr]\n[TTL expr [DELETE|TO DISK 'xxx'|TO VOLUME 'xxx'], ...]\n[SETTINGS name=value, ...]\n\nSee details in documentation: https://clickhouse.com/docs/en/engines/table-engines/mergetree-family/mergetree/. Other engines of the family support different syntax, see details in the corresponding documentation topics.\n\nIf you use the Replicated version of engines, see https://clickhouse.com/docs/en/engines/table-engines/mergetree-family/replication/.\n. (NUMBER_OF_ARGUMENTS_DOESNT_MATCH) (version 22.11.1.19280 (official build))\n"
     ]
    }
   ],
   "source": [
    "df[:1000].to_sql('test', engine, if_exists='replace', index=False)"
   ]
  },
  {
   "cell_type": "code",
   "execution_count": 2,
   "metadata": {},
   "outputs": [],
   "source": [
    "df[:2000000].to_parquet(\"./dbtestsmall.parquet\")"
   ]
  },
  {
   "cell_type": "code",
   "execution_count": 7,
   "metadata": {},
   "outputs": [
    {
     "data": {
      "text/plain": [
       "'create table tiles (alpha0 Float32,orig_lam Float32,B_lam_0 Float32,B_lam_1 Float32,B_lam_2 Float32,B_lam_3 Float32,B_lam_4 Float32,B_lam_5 Float32,B_lam_6 Float32,B_lam_7 Float32,B_lam_8 Float32,B_lam_9 Float32,B_lam_10 Float32,B_lam_11 Float32,B_lam_12 Float32,B_lam_13 Float32,B_lam_14 Float32,B_lam_15 Float32,B_lam_16 Float32,B_lam_17 Float32,B_lam_18 Float32,B_lam_19 Float32,B_lam_20 Float32,B_lam_21 Float32,B_lam_22 Float32,B_lam_23 Float32,B_lam_24 Float32,B_lam_25 Float32,B_lam_26 Float32,B_lam_27 Float32,B_lam_28 Float32,B_lam_29 Float32,B_lam_30 Float32,B_lam_31 Float32,B_lam_32 Float32,B_lam_33 Float32,B_lam_34 Float32,B_lam_35 Float32,B_lam_36 Float32,B_lam_37 Float32,B_lam_38 Float32,B_lam_39 Float32,B_lam_40 Float32,B_lam_41 Float32,B_lam_42 Float32,B_lam_43 Float32,B_lam_44 Float32,B_lam_45 Float32,B_lam_46 Float32,B_lam_47 Float32,B_lam_48 Float32,B_lam_49 Float32,twb_min_lam Float32,twb_mean_lam Float32,twb_max_lam Float32,sim_sizes Float32,todo Float32,grid_pt_idx Float32,theta_0 Float32,radii_0 Float32,theta_1 Float32,radii_1 Float32,theta_2 Float32,radii_2 Float32,theta_3 Float32,radii_3 Float32,null_truth_0 Float32,null_truth_1 Float32,null_truth_2 Float32) engine = MergeTree() order by orig_lam'"
      ]
     },
     "execution_count": 7,
     "metadata": {},
     "output_type": "execute_result"
    }
   ],
   "source": [
    "query = (\n",
    "    \"create table tiles (\"\n",
    "    + \",\".join([f\"{c} Float32\" for c in df.columns])\n",
    "    + \") engine = MergeTree() order by orig_lam\"\n",
    ")\n",
    "query"
   ]
  },
  {
   "cell_type": "code",
   "execution_count": 10,
   "metadata": {},
   "outputs": [
    {
     "name": "stderr",
     "output_type": "stream",
     "text": [
      "Code: 57. DB::Exception: Table default.tiles9 already exists. (TABLE_ALREADY_EXISTS) (version 22.11.1.19280 (official build))\n",
      "\n"
     ]
    },
    {
     "ename": "DatabaseError",
     "evalue": ":HTTPDriver for https://t2n4z83v82.us-east-1.aws.clickhouse.cloud:8443 returned response code 500)\n Code: 57. DB::Exception: Table default.tiles9 already exists. (TABLE_ALREADY_EXISTS) (version 22.11.1.19280 (official build))\n",
     "output_type": "error",
     "traceback": [
      "\u001b[0;31m---------------------------------------------------------------------------\u001b[0m",
      "\u001b[0;31mDatabaseError\u001b[0m                             Traceback (most recent call last)",
      "Cell \u001b[0;32mIn[10], line 1\u001b[0m\n\u001b[0;32m----> 1\u001b[0m client\u001b[39m.\u001b[39;49mcommand(query)\n",
      "File \u001b[0;32m~/.mambaforge/envs/confirm/lib/python3.10/site-packages/clickhouse_connect/driver/httpclient.py:277\u001b[0m, in \u001b[0;36mHttpClient.command\u001b[0;34m(self, cmd, parameters, data, settings, use_database)\u001b[0m\n\u001b[1;32m    275\u001b[0m params\u001b[39m.\u001b[39mupdate(\u001b[39mself\u001b[39m\u001b[39m.\u001b[39m_validate_settings(settings \u001b[39mor\u001b[39;00m {}))\n\u001b[1;32m    276\u001b[0m method \u001b[39m=\u001b[39m \u001b[39m'\u001b[39m\u001b[39mPOST\u001b[39m\u001b[39m'\u001b[39m \u001b[39mif\u001b[39;00m payload \u001b[39melse\u001b[39;00m \u001b[39m'\u001b[39m\u001b[39mGET\u001b[39m\u001b[39m'\u001b[39m\n\u001b[0;32m--> 277\u001b[0m response \u001b[39m=\u001b[39m \u001b[39mself\u001b[39;49m\u001b[39m.\u001b[39;49m_raw_request(payload, params, headers, method)\n\u001b[1;32m    278\u001b[0m result \u001b[39m=\u001b[39m response\u001b[39m.\u001b[39mcontent\u001b[39m.\u001b[39mdecode()[:\u001b[39m-\u001b[39m\u001b[39m1\u001b[39m]\u001b[39m.\u001b[39msplit(\u001b[39m'\u001b[39m\u001b[39m\\t\u001b[39;00m\u001b[39m'\u001b[39m)\n\u001b[1;32m    279\u001b[0m \u001b[39mif\u001b[39;00m \u001b[39mlen\u001b[39m(result) \u001b[39m==\u001b[39m \u001b[39m1\u001b[39m:\n",
      "File \u001b[0;32m~/.mambaforge/envs/confirm/lib/python3.10/site-packages/clickhouse_connect/driver/httpclient.py:335\u001b[0m, in \u001b[0;36mHttpClient._raw_request\u001b[0;34m(self, data, params, headers, method, retries, error_handler)\u001b[0m\n\u001b[1;32m    333\u001b[0m \u001b[39mif\u001b[39;00m error_handler:\n\u001b[1;32m    334\u001b[0m     error_handler(response)\n\u001b[0;32m--> 335\u001b[0m \u001b[39mself\u001b[39;49m\u001b[39m.\u001b[39;49m_error_handler(response)\n",
      "File \u001b[0;32m~/.mambaforge/envs/confirm/lib/python3.10/site-packages/clickhouse_connect/driver/httpclient.py:292\u001b[0m, in \u001b[0;36mHttpClient._error_handler\u001b[0;34m(self, response, retried)\u001b[0m\n\u001b[1;32m    290\u001b[0m     logger\u001b[39m.\u001b[39merror(\u001b[39mstr\u001b[39m(err_msg))\n\u001b[1;32m    291\u001b[0m     err_str \u001b[39m=\u001b[39m \u001b[39mf\u001b[39m\u001b[39m'\u001b[39m\u001b[39m:\u001b[39m\u001b[39m{\u001b[39;00merr_str\u001b[39m}\u001b[39;00m\u001b[39m\\n\u001b[39;00m\u001b[39m \u001b[39m\u001b[39m{\u001b[39;00merr_msg[\u001b[39m0\u001b[39m:\u001b[39m240\u001b[39m]\u001b[39m}\u001b[39;00m\u001b[39m'\u001b[39m\n\u001b[0;32m--> 292\u001b[0m \u001b[39mraise\u001b[39;00m OperationalError(err_str) \u001b[39mif\u001b[39;00m retried \u001b[39melse\u001b[39;00m DatabaseError(err_str) \u001b[39mfrom\u001b[39;00m \u001b[39mNone\u001b[39m\n",
      "\u001b[0;31mDatabaseError\u001b[0m: :HTTPDriver for https://t2n4z83v82.us-east-1.aws.clickhouse.cloud:8443 returned response code 500)\n Code: 57. DB::Exception: Table default.tiles9 already exists. (TABLE_ALREADY_EXISTS) (version 22.11.1.19280 (official build))\n"
     ]
    }
   ],
   "source": [
    "client.command(query)"
   ]
  },
  {
   "cell_type": "code",
   "execution_count": 9,
   "metadata": {},
   "outputs": [],
   "source": [
    "client."
   ]
  },
  {
   "cell_type": "code",
   "execution_count": 3,
   "metadata": {},
   "outputs": [
    {
     "name": "stdout",
     "output_type": "stream",
     "text": [
      "CPU times: user 1.85 s, sys: 40.3 ms, total: 1.89 s\n",
      "Wall time: 3.21 s\n"
     ]
    }
   ],
   "source": [
    "%%time\n",
    "client.insert_df(\"tiles\", df[:100000])"
   ]
  },
  {
   "cell_type": "code",
   "execution_count": 4,
   "metadata": {},
   "outputs": [],
   "source": [
    "import pyarrow"
   ]
  },
  {
   "cell_type": "code",
   "execution_count": 6,
   "metadata": {},
   "outputs": [
    {
     "name": "stdout",
     "output_type": "stream",
     "text": [
      "CPU times: user 53.7 ms, sys: 43.9 ms, total: 97.7 ms\n",
      "Wall time: 2.5 s\n"
     ]
    }
   ],
   "source": [
    "%%time\n",
    "client.insert_arrow(\"tiles\", pyarrow.Table.from_pandas(df[:100000]))"
   ]
  },
  {
   "cell_type": "code",
   "execution_count": 2,
   "metadata": {},
   "outputs": [
    {
     "name": "stdout",
     "output_type": "stream",
     "text": [
      "CPU times: user 63.7 ms, sys: 10.2 ms, total: 73.9 ms\n",
      "Wall time: 867 ms\n"
     ]
    },
    {
     "data": {
      "text/plain": [
       "(10000, 69)"
      ]
     },
     "execution_count": 2,
     "metadata": {},
     "output_type": "execute_result"
    }
   ],
   "source": [
    "%%time\n",
    "sel_df = client.query_df(\"select * from tiles order by orig_lam limit 10000\")\n",
    "sel_df.shape"
   ]
  },
  {
   "cell_type": "code",
   "execution_count": 3,
   "metadata": {},
   "outputs": [
    {
     "name": "stdout",
     "output_type": "stream",
     "text": [
      "CPU times: user 2.24 ms, sys: 984 µs, total: 3.23 ms\n",
      "Wall time: 3.53 s\n"
     ]
    },
    {
     "data": {
      "text/plain": [
       "[(0.06231215223670006,\n",
       "  0.055375631898641586,\n",
       "  0.0625298023223877,\n",
       "  0.061695247888565063,\n",
       "  0.0625298023223877,\n",
       "  0.060130525380373,\n",
       "  0.05916070193052292,\n",
       "  0.056377604603767395,\n",
       "  0.05082782730460167,\n",
       "  0.05162762105464935,\n",
       "  0.05911017581820488,\n",
       "  0.06067570298910141,\n",
       "  0.06466516107320786,\n",
       "  0.05746819078922272,\n",
       "  0.06012817844748497,\n",
       "  0.051577892154455185,\n",
       "  0.05938999727368355,\n",
       "  0.06441992521286011,\n",
       "  0.05864203721284866,\n",
       "  0.05549140274524689,\n",
       "  0.06099971383810043,\n",
       "  0.05746819078922272,\n",
       "  0.05916070193052292,\n",
       "  0.0575517937541008,\n",
       "  0.062339331954717636,\n",
       "  0.05890149250626564,\n",
       "  0.060382794588804245,\n",
       "  0.061473529785871506,\n",
       "  0.06222115457057953,\n",
       "  0.06067570298910141,\n",
       "  0.05864203721284866,\n",
       "  0.06321893632411957,\n",
       "  0.06258217245340347,\n",
       "  0.06157900020480156,\n",
       "  0.05329404026269913,\n",
       "  0.0628439337015152,\n",
       "  0.061255715787410736,\n",
       "  0.06314831227064133,\n",
       "  0.06263559311628342,\n",
       "  0.0528295561671257,\n",
       "  0.06314831227064133,\n",
       "  0.05884512886404991,\n",
       "  0.05989359691739082,\n",
       "  0.05864203721284866,\n",
       "  0.060318052768707275,\n",
       "  0.06224958598613739,\n",
       "  0.06299437582492828,\n",
       "  0.05864203721284866,\n",
       "  0.05746819078922272,\n",
       "  0.055375631898641586)]"
      ]
     },
     "execution_count": 3,
     "metadata": {},
     "output_type": "execute_result"
    }
   ],
   "source": [
    "%%time\n",
    "client.query(\n",
    "    \"select \" + \",\".join([f\"min(B_lam_{i})\" for i in range(50)]) + \" from tiles\"\n",
    ").result_set"
   ]
  },
  {
   "cell_type": "code",
   "execution_count": 4,
   "metadata": {},
   "outputs": [
    {
     "name": "stdout",
     "output_type": "stream",
     "text": [
      "CPU times: user 1.78 ms, sys: 948 µs, total: 2.73 ms\n",
      "Wall time: 22.1 ms\n"
     ]
    },
    {
     "data": {
      "text/html": [
       "<div>\n",
       "<style scoped>\n",
       "    .dataframe tbody tr th:only-of-type {\n",
       "        vertical-align: middle;\n",
       "    }\n",
       "\n",
       "    .dataframe tbody tr th {\n",
       "        vertical-align: top;\n",
       "    }\n",
       "\n",
       "    .dataframe thead th {\n",
       "        text-align: right;\n",
       "    }\n",
       "</style>\n",
       "<table border=\"1\" class=\"dataframe\">\n",
       "  <thead>\n",
       "    <tr style=\"text-align: right;\">\n",
       "      <th></th>\n",
       "      <th>count()</th>\n",
       "    </tr>\n",
       "  </thead>\n",
       "  <tbody>\n",
       "    <tr>\n",
       "      <th>0</th>\n",
       "      <td>19431917</td>\n",
       "    </tr>\n",
       "  </tbody>\n",
       "</table>\n",
       "</div>"
      ],
      "text/plain": [
       "    count()\n",
       "0  19431917"
      ]
     },
     "execution_count": 4,
     "metadata": {},
     "output_type": "execute_result"
    }
   ],
   "source": [
    "%%time\n",
    "client.query_df(\"select count(*) from tiles\")"
   ]
  },
  {
   "cell_type": "code",
   "execution_count": 5,
   "metadata": {},
   "outputs": [
    {
     "name": "stdout",
     "output_type": "stream",
     "text": [
      "0     count()\n",
      "0  19431917 [(0.06231215223670006, 0.055375631898641586, 0.0625298023223877, 0.061695247888565063, 0.0625298023223877, 0.060130525380373, 0.05916070193052292, 0.056377604603767395, 0.05082782730460167, 0.05162762105464935, 0.05911017581820488, 0.06067570298910141, 0.06466516107320786, 0.05746819078922272, 0.06012817844748497, 0.051577892154455185, 0.05938999727368355, 0.06441992521286011, 0.05864203721284866, 0.05549140274524689, 0.06099971383810043, 0.05746819078922272, 0.05916070193052292, 0.0575517937541008, 0.062339331954717636, 0.05890149250626564, 0.060382794588804245, 0.061473529785871506, 0.06222115457057953, 0.06067570298910141, 0.05864203721284866, 0.06321893632411957, 0.06258217245340347, 0.06157900020480156, 0.05329404026269913, 0.0628439337015152, 0.061255715787410736, 0.06314831227064133, 0.06263559311628342, 0.0528295561671257, 0.06314831227064133, 0.05884512886404991, 0.05989359691739082, 0.05864203721284866, 0.060318052768707275, 0.06224958598613739, 0.06299437582492828, 0.05864203721284866, 0.05746819078922272, 0.055375631898641586)]\n",
      "60     count()\n",
      "0  19431917 [(0.06231215223670006, 0.055375631898641586, 0.0625298023223877, 0.061695247888565063, 0.0625298023223877, 0.060130525380373, 0.05916070193052292, 0.056377604603767395, 0.05082782730460167, 0.05162762105464935, 0.05911017581820488, 0.06067570298910141, 0.06466516107320786, 0.05746819078922272, 0.06012817844748497, 0.051577892154455185, 0.05938999727368355, 0.06441992521286011, 0.05864203721284866, 0.05549140274524689, 0.06099971383810043, 0.05746819078922272, 0.05916070193052292, 0.0575517937541008, 0.062339331954717636, 0.05890149250626564, 0.060382794588804245, 0.061473529785871506, 0.06222115457057953, 0.06067570298910141, 0.05864203721284866, 0.06321893632411957, 0.06258217245340347, 0.06157900020480156, 0.05329404026269913, 0.0628439337015152, 0.061255715787410736, 0.06314831227064133, 0.06263559311628342, 0.0528295561671257, 0.06314831227064133, 0.05884512886404991, 0.05989359691739082, 0.05864203721284866, 0.060318052768707275, 0.06224958598613739, 0.06299437582492828, 0.05864203721284866, 0.05746819078922272, 0.055375631898641586)]\n",
      "120     count()\n",
      "0  19431917 [(0.06231215223670006, 0.055375631898641586, 0.0625298023223877, 0.061695247888565063, 0.0625298023223877, 0.060130525380373, 0.05916070193052292, 0.056377604603767395, 0.05082782730460167, 0.05162762105464935, 0.05911017581820488, 0.06067570298910141, 0.06466516107320786, 0.05746819078922272, 0.06012817844748497, 0.051577892154455185, 0.05938999727368355, 0.06441992521286011, 0.05864203721284866, 0.05549140274524689, 0.06099971383810043, 0.05746819078922272, 0.05916070193052292, 0.0575517937541008, 0.062339331954717636, 0.05890149250626564, 0.060382794588804245, 0.061473529785871506, 0.06222115457057953, 0.06067570298910141, 0.05864203721284866, 0.06321893632411957, 0.06258217245340347, 0.06157900020480156, 0.05329404026269913, 0.0628439337015152, 0.061255715787410736, 0.06314831227064133, 0.06263559311628342, 0.0528295561671257, 0.06314831227064133, 0.05884512886404991, 0.05989359691739082, 0.05864203721284866, 0.060318052768707275, 0.06224958598613739, 0.06299437582492828, 0.05864203721284866, 0.05746819078922272, 0.055375631898641586)]\n",
      "180     count()\n",
      "0  19431917 [(0.06231215223670006, 0.055375631898641586, 0.0625298023223877, 0.061695247888565063, 0.0625298023223877, 0.060130525380373, 0.05916070193052292, 0.056377604603767395, 0.05082782730460167, 0.05162762105464935, 0.05911017581820488, 0.06067570298910141, 0.06466516107320786, 0.05746819078922272, 0.06012817844748497, 0.051577892154455185, 0.05938999727368355, 0.06441992521286011, 0.05864203721284866, 0.05549140274524689, 0.06099971383810043, 0.05746819078922272, 0.05916070193052292, 0.0575517937541008, 0.062339331954717636, 0.05890149250626564, 0.060382794588804245, 0.061473529785871506, 0.06222115457057953, 0.06067570298910141, 0.05864203721284866, 0.06321893632411957, 0.06258217245340347, 0.06157900020480156, 0.05329404026269913, 0.0628439337015152, 0.061255715787410736, 0.06314831227064133, 0.06263559311628342, 0.0528295561671257, 0.06314831227064133, 0.05884512886404991, 0.05989359691739082, 0.05864203721284866, 0.060318052768707275, 0.06224958598613739, 0.06299437582492828, 0.05864203721284866, 0.05746819078922272, 0.055375631898641586)]\n",
      "240     count()\n",
      "0  19431917 [(0.06231215223670006, 0.055375631898641586, 0.0625298023223877, 0.061695247888565063, 0.0625298023223877, 0.060130525380373, 0.05916070193052292, 0.056377604603767395, 0.05082782730460167, 0.05162762105464935, 0.05911017581820488, 0.06067570298910141, 0.06466516107320786, 0.05746819078922272, 0.06012817844748497, 0.051577892154455185, 0.05938999727368355, 0.06441992521286011, 0.05864203721284866, 0.05549140274524689, 0.06099971383810043, 0.05746819078922272, 0.05916070193052292, 0.0575517937541008, 0.062339331954717636, 0.05890149250626564, 0.060382794588804245, 0.061473529785871506, 0.06222115457057953, 0.06067570298910141, 0.05864203721284866, 0.06321893632411957, 0.06258217245340347, 0.06157900020480156, 0.05329404026269913, 0.0628439337015152, 0.061255715787410736, 0.06314831227064133, 0.06263559311628342, 0.0528295561671257, 0.06314831227064133, 0.05884512886404991, 0.05989359691739082, 0.05864203721284866, 0.060318052768707275, 0.06224958598613739, 0.06299437582492828, 0.05864203721284866, 0.05746819078922272, 0.055375631898641586)]\n",
      "300     count()\n",
      "0  19431917 [(0.06231215223670006, 0.055375631898641586, 0.0625298023223877, 0.061695247888565063, 0.0625298023223877, 0.060130525380373, 0.05916070193052292, 0.056377604603767395, 0.05082782730460167, 0.05162762105464935, 0.05911017581820488, 0.06067570298910141, 0.06466516107320786, 0.05746819078922272, 0.06012817844748497, 0.051577892154455185, 0.05938999727368355, 0.06441992521286011, 0.05864203721284866, 0.05549140274524689, 0.06099971383810043, 0.05746819078922272, 0.05916070193052292, 0.0575517937541008, 0.062339331954717636, 0.05890149250626564, 0.060382794588804245, 0.061473529785871506, 0.06222115457057953, 0.06067570298910141, 0.05864203721284866, 0.06321893632411957, 0.06258217245340347, 0.06157900020480156, 0.05329404026269913, 0.0628439337015152, 0.061255715787410736, 0.06314831227064133, 0.06263559311628342, 0.0528295561671257, 0.06314831227064133, 0.05884512886404991, 0.05989359691739082, 0.05864203721284866, 0.060318052768707275, 0.06224958598613739, 0.06299437582492828, 0.05864203721284866, 0.05746819078922272, 0.055375631898641586)]\n",
      "360     count()\n",
      "0  19431917 [(0.06231215223670006, 0.055375631898641586, 0.0625298023223877, 0.061695247888565063, 0.0625298023223877, 0.060130525380373, 0.05916070193052292, 0.056377604603767395, 0.05082782730460167, 0.05162762105464935, 0.05911017581820488, 0.06067570298910141, 0.06466516107320786, 0.05746819078922272, 0.06012817844748497, 0.051577892154455185, 0.05938999727368355, 0.06441992521286011, 0.05864203721284866, 0.05549140274524689, 0.06099971383810043, 0.05746819078922272, 0.05916070193052292, 0.0575517937541008, 0.062339331954717636, 0.05890149250626564, 0.060382794588804245, 0.061473529785871506, 0.06222115457057953, 0.06067570298910141, 0.05864203721284866, 0.06321893632411957, 0.06258217245340347, 0.06157900020480156, 0.05329404026269913, 0.0628439337015152, 0.061255715787410736, 0.06314831227064133, 0.06263559311628342, 0.0528295561671257, 0.06314831227064133, 0.05884512886404991, 0.05989359691739082, 0.05864203721284866, 0.060318052768707275, 0.06224958598613739, 0.06299437582492828, 0.05864203721284866, 0.05746819078922272, 0.055375631898641586)]\n",
      "420     count()\n",
      "0  19431917 [(0.06231215223670006, 0.055375631898641586, 0.0625298023223877, 0.061695247888565063, 0.0625298023223877, 0.060130525380373, 0.05916070193052292, 0.056377604603767395, 0.05082782730460167, 0.05162762105464935, 0.05911017581820488, 0.06067570298910141, 0.06466516107320786, 0.05746819078922272, 0.06012817844748497, 0.051577892154455185, 0.05938999727368355, 0.06441992521286011, 0.05864203721284866, 0.05549140274524689, 0.06099971383810043, 0.05746819078922272, 0.05916070193052292, 0.0575517937541008, 0.062339331954717636, 0.05890149250626564, 0.060382794588804245, 0.061473529785871506, 0.06222115457057953, 0.06067570298910141, 0.05864203721284866, 0.06321893632411957, 0.06258217245340347, 0.06157900020480156, 0.05329404026269913, 0.0628439337015152, 0.061255715787410736, 0.06314831227064133, 0.06263559311628342, 0.0528295561671257, 0.06314831227064133, 0.05884512886404991, 0.05989359691739082, 0.05864203721284866, 0.060318052768707275, 0.06224958598613739, 0.06299437582492828, 0.05864203721284866, 0.05746819078922272, 0.055375631898641586)]\n",
      "480     count()\n",
      "0  19431917 [(0.06231215223670006, 0.055375631898641586, 0.0625298023223877, 0.061695247888565063, 0.0625298023223877, 0.060130525380373, 0.05916070193052292, 0.056377604603767395, 0.05082782730460167, 0.05162762105464935, 0.05911017581820488, 0.06067570298910141, 0.06466516107320786, 0.05746819078922272, 0.06012817844748497, 0.051577892154455185, 0.05938999727368355, 0.06441992521286011, 0.05864203721284866, 0.05549140274524689, 0.06099971383810043, 0.05746819078922272, 0.05916070193052292, 0.0575517937541008, 0.062339331954717636, 0.05890149250626564, 0.060382794588804245, 0.061473529785871506, 0.06222115457057953, 0.06067570298910141, 0.05864203721284866, 0.06321893632411957, 0.06258217245340347, 0.06157900020480156, 0.05329404026269913, 0.0628439337015152, 0.061255715787410736, 0.06314831227064133, 0.06263559311628342, 0.0528295561671257, 0.06314831227064133, 0.05884512886404991, 0.05989359691739082, 0.05864203721284866, 0.060318052768707275, 0.06224958598613739, 0.06299437582492828, 0.05864203721284866, 0.05746819078922272, 0.055375631898641586)]\n",
      "540     count()\n",
      "0  19431917 [(0.06231215223670006, 0.055375631898641586, 0.0625298023223877, 0.061695247888565063, 0.0625298023223877, 0.060130525380373, 0.05916070193052292, 0.056377604603767395, 0.05082782730460167, 0.05162762105464935, 0.05911017581820488, 0.06067570298910141, 0.06466516107320786, 0.05746819078922272, 0.06012817844748497, 0.051577892154455185, 0.05938999727368355, 0.06441992521286011, 0.05864203721284866, 0.05549140274524689, 0.06099971383810043, 0.05746819078922272, 0.05916070193052292, 0.0575517937541008, 0.062339331954717636, 0.05890149250626564, 0.060382794588804245, 0.061473529785871506, 0.06222115457057953, 0.06067570298910141, 0.05864203721284866, 0.06321893632411957, 0.06258217245340347, 0.06157900020480156, 0.05329404026269913, 0.0628439337015152, 0.061255715787410736, 0.06314831227064133, 0.06263559311628342, 0.0528295561671257, 0.06314831227064133, 0.05884512886404991, 0.05989359691739082, 0.05864203721284866, 0.060318052768707275, 0.06224958598613739, 0.06299437582492828, 0.05864203721284866, 0.05746819078922272, 0.055375631898641586)]\n",
      "600     count()\n",
      "0  19431917 [(0.06231215223670006, 0.055375631898641586, 0.0625298023223877, 0.061695247888565063, 0.0625298023223877, 0.060130525380373, 0.05916070193052292, 0.056377604603767395, 0.05082782730460167, 0.05162762105464935, 0.05911017581820488, 0.06067570298910141, 0.06466516107320786, 0.05746819078922272, 0.06012817844748497, 0.051577892154455185, 0.05938999727368355, 0.06441992521286011, 0.05864203721284866, 0.05549140274524689, 0.06099971383810043, 0.05746819078922272, 0.05916070193052292, 0.0575517937541008, 0.062339331954717636, 0.05890149250626564, 0.060382794588804245, 0.061473529785871506, 0.06222115457057953, 0.06067570298910141, 0.05864203721284866, 0.06321893632411957, 0.06258217245340347, 0.06157900020480156, 0.05329404026269913, 0.0628439337015152, 0.061255715787410736, 0.06314831227064133, 0.06263559311628342, 0.0528295561671257, 0.06314831227064133, 0.05884512886404991, 0.05989359691739082, 0.05864203721284866, 0.060318052768707275, 0.06224958598613739, 0.06299437582492828, 0.05864203721284866, 0.05746819078922272, 0.055375631898641586)]\n",
      "660     count()\n",
      "0  19431917 [(0.06231215223670006, 0.055375631898641586, 0.0625298023223877, 0.061695247888565063, 0.0625298023223877, 0.060130525380373, 0.05916070193052292, 0.056377604603767395, 0.05082782730460167, 0.05162762105464935, 0.05911017581820488, 0.06067570298910141, 0.06466516107320786, 0.05746819078922272, 0.06012817844748497, 0.051577892154455185, 0.05938999727368355, 0.06441992521286011, 0.05864203721284866, 0.05549140274524689, 0.06099971383810043, 0.05746819078922272, 0.05916070193052292, 0.0575517937541008, 0.062339331954717636, 0.05890149250626564, 0.060382794588804245, 0.061473529785871506, 0.06222115457057953, 0.06067570298910141, 0.05864203721284866, 0.06321893632411957, 0.06258217245340347, 0.06157900020480156, 0.05329404026269913, 0.0628439337015152, 0.061255715787410736, 0.06314831227064133, 0.06263559311628342, 0.0528295561671257, 0.06314831227064133, 0.05884512886404991, 0.05989359691739082, 0.05864203721284866, 0.060318052768707275, 0.06224958598613739, 0.06299437582492828, 0.05864203721284866, 0.05746819078922272, 0.055375631898641586)]\n",
      "720     count()\n",
      "0  19431917 [(0.06231215223670006, 0.055375631898641586, 0.0625298023223877, 0.061695247888565063, 0.0625298023223877, 0.060130525380373, 0.05916070193052292, 0.056377604603767395, 0.05082782730460167, 0.05162762105464935, 0.05911017581820488, 0.06067570298910141, 0.06466516107320786, 0.05746819078922272, 0.06012817844748497, 0.051577892154455185, 0.05938999727368355, 0.06441992521286011, 0.05864203721284866, 0.05549140274524689, 0.06099971383810043, 0.05746819078922272, 0.05916070193052292, 0.0575517937541008, 0.062339331954717636, 0.05890149250626564, 0.060382794588804245, 0.061473529785871506, 0.06222115457057953, 0.06067570298910141, 0.05864203721284866, 0.06321893632411957, 0.06258217245340347, 0.06157900020480156, 0.05329404026269913, 0.0628439337015152, 0.061255715787410736, 0.06314831227064133, 0.06263559311628342, 0.0528295561671257, 0.06314831227064133, 0.05884512886404991, 0.05989359691739082, 0.05864203721284866, 0.060318052768707275, 0.06224958598613739, 0.06299437582492828, 0.05864203721284866, 0.05746819078922272, 0.055375631898641586)]\n",
      "780     count()\n",
      "0  19431917 [(0.06231215223670006, 0.055375631898641586, 0.0625298023223877, 0.061695247888565063, 0.0625298023223877, 0.060130525380373, 0.05916070193052292, 0.056377604603767395, 0.05082782730460167, 0.05162762105464935, 0.05911017581820488, 0.06067570298910141, 0.06466516107320786, 0.05746819078922272, 0.06012817844748497, 0.051577892154455185, 0.05938999727368355, 0.06441992521286011, 0.05864203721284866, 0.05549140274524689, 0.06099971383810043, 0.05746819078922272, 0.05916070193052292, 0.0575517937541008, 0.062339331954717636, 0.05890149250626564, 0.060382794588804245, 0.061473529785871506, 0.06222115457057953, 0.06067570298910141, 0.05864203721284866, 0.06321893632411957, 0.06258217245340347, 0.06157900020480156, 0.05329404026269913, 0.0628439337015152, 0.061255715787410736, 0.06314831227064133, 0.06263559311628342, 0.0528295561671257, 0.06314831227064133, 0.05884512886404991, 0.05989359691739082, 0.05864203721284866, 0.060318052768707275, 0.06224958598613739, 0.06299437582492828, 0.05864203721284866, 0.05746819078922272, 0.055375631898641586)]\n",
      "840     count()\n",
      "0  19431917 [(0.06231215223670006, 0.055375631898641586, 0.0625298023223877, 0.061695247888565063, 0.0625298023223877, 0.060130525380373, 0.05916070193052292, 0.056377604603767395, 0.05082782730460167, 0.05162762105464935, 0.05911017581820488, 0.06067570298910141, 0.06466516107320786, 0.05746819078922272, 0.06012817844748497, 0.051577892154455185, 0.05938999727368355, 0.06441992521286011, 0.05864203721284866, 0.05549140274524689, 0.06099971383810043, 0.05746819078922272, 0.05916070193052292, 0.0575517937541008, 0.062339331954717636, 0.05890149250626564, 0.060382794588804245, 0.061473529785871506, 0.06222115457057953, 0.06067570298910141, 0.05864203721284866, 0.06321893632411957, 0.06258217245340347, 0.06157900020480156, 0.05329404026269913, 0.0628439337015152, 0.061255715787410736, 0.06314831227064133, 0.06263559311628342, 0.0528295561671257, 0.06314831227064133, 0.05884512886404991, 0.05989359691739082, 0.05864203721284866, 0.060318052768707275, 0.06224958598613739, 0.06299437582492828, 0.05864203721284866, 0.05746819078922272, 0.055375631898641586)]\n",
      "900     count()\n",
      "0  19431917 [(0.06231215223670006, 0.055375631898641586, 0.0625298023223877, 0.061695247888565063, 0.0625298023223877, 0.060130525380373, 0.05916070193052292, 0.056377604603767395, 0.05082782730460167, 0.05162762105464935, 0.05911017581820488, 0.06067570298910141, 0.06466516107320786, 0.05746819078922272, 0.06012817844748497, 0.051577892154455185, 0.05938999727368355, 0.06441992521286011, 0.05864203721284866, 0.05549140274524689, 0.06099971383810043, 0.05746819078922272, 0.05916070193052292, 0.0575517937541008, 0.062339331954717636, 0.05890149250626564, 0.060382794588804245, 0.061473529785871506, 0.06222115457057953, 0.06067570298910141, 0.05864203721284866, 0.06321893632411957, 0.06258217245340347, 0.06157900020480156, 0.05329404026269913, 0.0628439337015152, 0.061255715787410736, 0.06314831227064133, 0.06263559311628342, 0.0528295561671257, 0.06314831227064133, 0.05884512886404991, 0.05989359691739082, 0.05864203721284866, 0.060318052768707275, 0.06224958598613739, 0.06299437582492828, 0.05864203721284866, 0.05746819078922272, 0.055375631898641586)]\n",
      "960     count()\n",
      "0  19431917 [(0.06231215223670006, 0.055375631898641586, 0.0625298023223877, 0.061695247888565063, 0.0625298023223877, 0.060130525380373, 0.05916070193052292, 0.056377604603767395, 0.05082782730460167, 0.05162762105464935, 0.05911017581820488, 0.06067570298910141, 0.06466516107320786, 0.05746819078922272, 0.06012817844748497, 0.051577892154455185, 0.05938999727368355, 0.06441992521286011, 0.05864203721284866, 0.05549140274524689, 0.06099971383810043, 0.05746819078922272, 0.05916070193052292, 0.0575517937541008, 0.062339331954717636, 0.05890149250626564, 0.060382794588804245, 0.061473529785871506, 0.06222115457057953, 0.06067570298910141, 0.05864203721284866, 0.06321893632411957, 0.06258217245340347, 0.06157900020480156, 0.05329404026269913, 0.0628439337015152, 0.061255715787410736, 0.06314831227064133, 0.06263559311628342, 0.0528295561671257, 0.06314831227064133, 0.05884512886404991, 0.05989359691739082, 0.05864203721284866, 0.060318052768707275, 0.06224958598613739, 0.06299437582492828, 0.05864203721284866, 0.05746819078922272, 0.055375631898641586)]\n",
      "1020     count()\n",
      "0  19431917 [(0.06231215223670006, 0.055375631898641586, 0.0625298023223877, 0.061695247888565063, 0.0625298023223877, 0.060130525380373, 0.05916070193052292, 0.056377604603767395, 0.05082782730460167, 0.05162762105464935, 0.05911017581820488, 0.06067570298910141, 0.06466516107320786, 0.05746819078922272, 0.06012817844748497, 0.051577892154455185, 0.05938999727368355, 0.06441992521286011, 0.05864203721284866, 0.05549140274524689, 0.06099971383810043, 0.05746819078922272, 0.05916070193052292, 0.0575517937541008, 0.062339331954717636, 0.05890149250626564, 0.060382794588804245, 0.061473529785871506, 0.06222115457057953, 0.06067570298910141, 0.05864203721284866, 0.06321893632411957, 0.06258217245340347, 0.06157900020480156, 0.05329404026269913, 0.0628439337015152, 0.061255715787410736, 0.06314831227064133, 0.06263559311628342, 0.0528295561671257, 0.06314831227064133, 0.05884512886404991, 0.05989359691739082, 0.05864203721284866, 0.060318052768707275, 0.06224958598613739, 0.06299437582492828, 0.05864203721284866, 0.05746819078922272, 0.055375631898641586)]\n",
      "1080     count()\n",
      "0  19431917 [(0.06231215223670006, 0.055375631898641586, 0.0625298023223877, 0.061695247888565063, 0.0625298023223877, 0.060130525380373, 0.05916070193052292, 0.056377604603767395, 0.05082782730460167, 0.05162762105464935, 0.05911017581820488, 0.06067570298910141, 0.06466516107320786, 0.05746819078922272, 0.06012817844748497, 0.051577892154455185, 0.05938999727368355, 0.06441992521286011, 0.05864203721284866, 0.05549140274524689, 0.06099971383810043, 0.05746819078922272, 0.05916070193052292, 0.0575517937541008, 0.062339331954717636, 0.05890149250626564, 0.060382794588804245, 0.061473529785871506, 0.06222115457057953, 0.06067570298910141, 0.05864203721284866, 0.06321893632411957, 0.06258217245340347, 0.06157900020480156, 0.05329404026269913, 0.0628439337015152, 0.061255715787410736, 0.06314831227064133, 0.06263559311628342, 0.0528295561671257, 0.06314831227064133, 0.05884512886404991, 0.05989359691739082, 0.05864203721284866, 0.060318052768707275, 0.06224958598613739, 0.06299437582492828, 0.05864203721284866, 0.05746819078922272, 0.055375631898641586)]\n",
      "1140     count()\n",
      "0  19431917 [(0.06231215223670006, 0.055375631898641586, 0.0625298023223877, 0.061695247888565063, 0.0625298023223877, 0.060130525380373, 0.05916070193052292, 0.056377604603767395, 0.05082782730460167, 0.05162762105464935, 0.05911017581820488, 0.06067570298910141, 0.06466516107320786, 0.05746819078922272, 0.06012817844748497, 0.051577892154455185, 0.05938999727368355, 0.06441992521286011, 0.05864203721284866, 0.05549140274524689, 0.06099971383810043, 0.05746819078922272, 0.05916070193052292, 0.0575517937541008, 0.062339331954717636, 0.05890149250626564, 0.060382794588804245, 0.061473529785871506, 0.06222115457057953, 0.06067570298910141, 0.05864203721284866, 0.06321893632411957, 0.06258217245340347, 0.06157900020480156, 0.05329404026269913, 0.0628439337015152, 0.061255715787410736, 0.06314831227064133, 0.06263559311628342, 0.0528295561671257, 0.06314831227064133, 0.05884512886404991, 0.05989359691739082, 0.05864203721284866, 0.060318052768707275, 0.06224958598613739, 0.06299437582492828, 0.05864203721284866, 0.05746819078922272, 0.055375631898641586)]\n",
      "1200     count()\n",
      "0  19431917 [(0.06231215223670006, 0.055375631898641586, 0.0625298023223877, 0.061695247888565063, 0.0625298023223877, 0.060130525380373, 0.05916070193052292, 0.056377604603767395, 0.05082782730460167, 0.05162762105464935, 0.05911017581820488, 0.06067570298910141, 0.06466516107320786, 0.05746819078922272, 0.06012817844748497, 0.051577892154455185, 0.05938999727368355, 0.06441992521286011, 0.05864203721284866, 0.05549140274524689, 0.06099971383810043, 0.05746819078922272, 0.05916070193052292, 0.0575517937541008, 0.062339331954717636, 0.05890149250626564, 0.060382794588804245, 0.061473529785871506, 0.06222115457057953, 0.06067570298910141, 0.05864203721284866, 0.06321893632411957, 0.06258217245340347, 0.06157900020480156, 0.05329404026269913, 0.0628439337015152, 0.061255715787410736, 0.06314831227064133, 0.06263559311628342, 0.0528295561671257, 0.06314831227064133, 0.05884512886404991, 0.05989359691739082, 0.05864203721284866, 0.060318052768707275, 0.06224958598613739, 0.06299437582492828, 0.05864203721284866, 0.05746819078922272, 0.055375631898641586)]\n",
      "1260     count()\n",
      "0  19431917 [(0.06231215223670006, 0.055375631898641586, 0.0625298023223877, 0.061695247888565063, 0.0625298023223877, 0.060130525380373, 0.05916070193052292, 0.056377604603767395, 0.05082782730460167, 0.05162762105464935, 0.05911017581820488, 0.06067570298910141, 0.06466516107320786, 0.05746819078922272, 0.06012817844748497, 0.051577892154455185, 0.05938999727368355, 0.06441992521286011, 0.05864203721284866, 0.05549140274524689, 0.06099971383810043, 0.05746819078922272, 0.05916070193052292, 0.0575517937541008, 0.062339331954717636, 0.05890149250626564, 0.060382794588804245, 0.061473529785871506, 0.06222115457057953, 0.06067570298910141, 0.05864203721284866, 0.06321893632411957, 0.06258217245340347, 0.06157900020480156, 0.05329404026269913, 0.0628439337015152, 0.061255715787410736, 0.06314831227064133, 0.06263559311628342, 0.0528295561671257, 0.06314831227064133, 0.05884512886404991, 0.05989359691739082, 0.05864203721284866, 0.060318052768707275, 0.06224958598613739, 0.06299437582492828, 0.05864203721284866, 0.05746819078922272, 0.055375631898641586)]\n",
      "1320     count()\n",
      "0  19431917 [(0.06231215223670006, 0.055375631898641586, 0.0625298023223877, 0.061695247888565063, 0.0625298023223877, 0.060130525380373, 0.05916070193052292, 0.056377604603767395, 0.05082782730460167, 0.05162762105464935, 0.05911017581820488, 0.06067570298910141, 0.06466516107320786, 0.05746819078922272, 0.06012817844748497, 0.051577892154455185, 0.05938999727368355, 0.06441992521286011, 0.05864203721284866, 0.05549140274524689, 0.06099971383810043, 0.05746819078922272, 0.05916070193052292, 0.0575517937541008, 0.062339331954717636, 0.05890149250626564, 0.060382794588804245, 0.061473529785871506, 0.06222115457057953, 0.06067570298910141, 0.05864203721284866, 0.06321893632411957, 0.06258217245340347, 0.06157900020480156, 0.05329404026269913, 0.0628439337015152, 0.061255715787410736, 0.06314831227064133, 0.06263559311628342, 0.0528295561671257, 0.06314831227064133, 0.05884512886404991, 0.05989359691739082, 0.05864203721284866, 0.060318052768707275, 0.06224958598613739, 0.06299437582492828, 0.05864203721284866, 0.05746819078922272, 0.055375631898641586)]\n",
      "1380     count()\n",
      "0  19431917 [(0.06231215223670006, 0.055375631898641586, 0.0625298023223877, 0.061695247888565063, 0.0625298023223877, 0.060130525380373, 0.05916070193052292, 0.056377604603767395, 0.05082782730460167, 0.05162762105464935, 0.05911017581820488, 0.06067570298910141, 0.06466516107320786, 0.05746819078922272, 0.06012817844748497, 0.051577892154455185, 0.05938999727368355, 0.06441992521286011, 0.05864203721284866, 0.05549140274524689, 0.06099971383810043, 0.05746819078922272, 0.05916070193052292, 0.0575517937541008, 0.062339331954717636, 0.05890149250626564, 0.060382794588804245, 0.061473529785871506, 0.06222115457057953, 0.06067570298910141, 0.05864203721284866, 0.06321893632411957, 0.06258217245340347, 0.06157900020480156, 0.05329404026269913, 0.0628439337015152, 0.061255715787410736, 0.06314831227064133, 0.06263559311628342, 0.0528295561671257, 0.06314831227064133, 0.05884512886404991, 0.05989359691739082, 0.05864203721284866, 0.060318052768707275, 0.06224958598613739, 0.06299437582492828, 0.05864203721284866, 0.05746819078922272, 0.055375631898641586)]\n",
      "1440     count()\n",
      "0  19431917 [(0.06231215223670006, 0.055375631898641586, 0.0625298023223877, 0.061695247888565063, 0.0625298023223877, 0.060130525380373, 0.05916070193052292, 0.056377604603767395, 0.05082782730460167, 0.05162762105464935, 0.05911017581820488, 0.06067570298910141, 0.06466516107320786, 0.05746819078922272, 0.06012817844748497, 0.051577892154455185, 0.05938999727368355, 0.06441992521286011, 0.05864203721284866, 0.05549140274524689, 0.06099971383810043, 0.05746819078922272, 0.05916070193052292, 0.0575517937541008, 0.062339331954717636, 0.05890149250626564, 0.060382794588804245, 0.061473529785871506, 0.06222115457057953, 0.06067570298910141, 0.05864203721284866, 0.06321893632411957, 0.06258217245340347, 0.06157900020480156, 0.05329404026269913, 0.0628439337015152, 0.061255715787410736, 0.06314831227064133, 0.06263559311628342, 0.0528295561671257, 0.06314831227064133, 0.05884512886404991, 0.05989359691739082, 0.05864203721284866, 0.060318052768707275, 0.06224958598613739, 0.06299437582492828, 0.05864203721284866, 0.05746819078922272, 0.055375631898641586)]\n",
      "1500     count()\n",
      "0  19431917 [(0.06231215223670006, 0.055375631898641586, 0.0625298023223877, 0.061695247888565063, 0.0625298023223877, 0.060130525380373, 0.05916070193052292, 0.056377604603767395, 0.05082782730460167, 0.05162762105464935, 0.05911017581820488, 0.06067570298910141, 0.06466516107320786, 0.05746819078922272, 0.06012817844748497, 0.051577892154455185, 0.05938999727368355, 0.06441992521286011, 0.05864203721284866, 0.05549140274524689, 0.06099971383810043, 0.05746819078922272, 0.05916070193052292, 0.0575517937541008, 0.062339331954717636, 0.05890149250626564, 0.060382794588804245, 0.061473529785871506, 0.06222115457057953, 0.06067570298910141, 0.05864203721284866, 0.06321893632411957, 0.06258217245340347, 0.06157900020480156, 0.05329404026269913, 0.0628439337015152, 0.061255715787410736, 0.06314831227064133, 0.06263559311628342, 0.0528295561671257, 0.06314831227064133, 0.05884512886404991, 0.05989359691739082, 0.05864203721284866, 0.060318052768707275, 0.06224958598613739, 0.06299437582492828, 0.05864203721284866, 0.05746819078922272, 0.055375631898641586)]\n",
      "1560     count()\n",
      "0  19431917 [(0.06231215223670006, 0.055375631898641586, 0.0625298023223877, 0.061695247888565063, 0.0625298023223877, 0.060130525380373, 0.05916070193052292, 0.056377604603767395, 0.05082782730460167, 0.05162762105464935, 0.05911017581820488, 0.06067570298910141, 0.06466516107320786, 0.05746819078922272, 0.06012817844748497, 0.051577892154455185, 0.05938999727368355, 0.06441992521286011, 0.05864203721284866, 0.05549140274524689, 0.06099971383810043, 0.05746819078922272, 0.05916070193052292, 0.0575517937541008, 0.062339331954717636, 0.05890149250626564, 0.060382794588804245, 0.061473529785871506, 0.06222115457057953, 0.06067570298910141, 0.05864203721284866, 0.06321893632411957, 0.06258217245340347, 0.06157900020480156, 0.05329404026269913, 0.0628439337015152, 0.061255715787410736, 0.06314831227064133, 0.06263559311628342, 0.0528295561671257, 0.06314831227064133, 0.05884512886404991, 0.05989359691739082, 0.05864203721284866, 0.060318052768707275, 0.06224958598613739, 0.06299437582492828, 0.05864203721284866, 0.05746819078922272, 0.055375631898641586)]\n",
      "1620     count()\n",
      "0  19431917 [(0.06231215223670006, 0.055375631898641586, 0.0625298023223877, 0.061695247888565063, 0.0625298023223877, 0.060130525380373, 0.05916070193052292, 0.056377604603767395, 0.05082782730460167, 0.05162762105464935, 0.05911017581820488, 0.06067570298910141, 0.06466516107320786, 0.05746819078922272, 0.06012817844748497, 0.051577892154455185, 0.05938999727368355, 0.06441992521286011, 0.05864203721284866, 0.05549140274524689, 0.06099971383810043, 0.05746819078922272, 0.05916070193052292, 0.0575517937541008, 0.062339331954717636, 0.05890149250626564, 0.060382794588804245, 0.061473529785871506, 0.06222115457057953, 0.06067570298910141, 0.05864203721284866, 0.06321893632411957, 0.06258217245340347, 0.06157900020480156, 0.05329404026269913, 0.0628439337015152, 0.061255715787410736, 0.06314831227064133, 0.06263559311628342, 0.0528295561671257, 0.06314831227064133, 0.05884512886404991, 0.05989359691739082, 0.05864203721284866, 0.060318052768707275, 0.06224958598613739, 0.06299437582492828, 0.05864203721284866, 0.05746819078922272, 0.055375631898641586)]\n",
      "1680     count()\n",
      "0  19431917 [(0.06231215223670006, 0.055375631898641586, 0.0625298023223877, 0.061695247888565063, 0.0625298023223877, 0.060130525380373, 0.05916070193052292, 0.056377604603767395, 0.05082782730460167, 0.05162762105464935, 0.05911017581820488, 0.06067570298910141, 0.06466516107320786, 0.05746819078922272, 0.06012817844748497, 0.051577892154455185, 0.05938999727368355, 0.06441992521286011, 0.05864203721284866, 0.05549140274524689, 0.06099971383810043, 0.05746819078922272, 0.05916070193052292, 0.0575517937541008, 0.062339331954717636, 0.05890149250626564, 0.060382794588804245, 0.061473529785871506, 0.06222115457057953, 0.06067570298910141, 0.05864203721284866, 0.06321893632411957, 0.06258217245340347, 0.06157900020480156, 0.05329404026269913, 0.0628439337015152, 0.061255715787410736, 0.06314831227064133, 0.06263559311628342, 0.0528295561671257, 0.06314831227064133, 0.05884512886404991, 0.05989359691739082, 0.05864203721284866, 0.060318052768707275, 0.06224958598613739, 0.06299437582492828, 0.05864203721284866, 0.05746819078922272, 0.055375631898641586)]\n",
      "1740     count()\n",
      "0  19431917 [(0.06231215223670006, 0.055375631898641586, 0.0625298023223877, 0.061695247888565063, 0.0625298023223877, 0.060130525380373, 0.05916070193052292, 0.056377604603767395, 0.05082782730460167, 0.05162762105464935, 0.05911017581820488, 0.06067570298910141, 0.06466516107320786, 0.05746819078922272, 0.06012817844748497, 0.051577892154455185, 0.05938999727368355, 0.06441992521286011, 0.05864203721284866, 0.05549140274524689, 0.06099971383810043, 0.05746819078922272, 0.05916070193052292, 0.0575517937541008, 0.062339331954717636, 0.05890149250626564, 0.060382794588804245, 0.061473529785871506, 0.06222115457057953, 0.06067570298910141, 0.05864203721284866, 0.06321893632411957, 0.06258217245340347, 0.06157900020480156, 0.05329404026269913, 0.0628439337015152, 0.061255715787410736, 0.06314831227064133, 0.06263559311628342, 0.0528295561671257, 0.06314831227064133, 0.05884512886404991, 0.05989359691739082, 0.05864203721284866, 0.060318052768707275, 0.06224958598613739, 0.06299437582492828, 0.05864203721284866, 0.05746819078922272, 0.055375631898641586)]\n",
      "1800     count()\n",
      "0  19431917 [(0.06231215223670006, 0.055375631898641586, 0.0625298023223877, 0.061695247888565063, 0.0625298023223877, 0.060130525380373, 0.05916070193052292, 0.056377604603767395, 0.05082782730460167, 0.05162762105464935, 0.05911017581820488, 0.06067570298910141, 0.06466516107320786, 0.05746819078922272, 0.06012817844748497, 0.051577892154455185, 0.05938999727368355, 0.06441992521286011, 0.05864203721284866, 0.05549140274524689, 0.06099971383810043, 0.05746819078922272, 0.05916070193052292, 0.0575517937541008, 0.062339331954717636, 0.05890149250626564, 0.060382794588804245, 0.061473529785871506, 0.06222115457057953, 0.06067570298910141, 0.05864203721284866, 0.06321893632411957, 0.06258217245340347, 0.06157900020480156, 0.05329404026269913, 0.0628439337015152, 0.061255715787410736, 0.06314831227064133, 0.06263559311628342, 0.0528295561671257, 0.06314831227064133, 0.05884512886404991, 0.05989359691739082, 0.05864203721284866, 0.060318052768707275, 0.06224958598613739, 0.06299437582492828, 0.05864203721284866, 0.05746819078922272, 0.055375631898641586)]\n",
      "1860     count()\n",
      "0  19431917 [(0.06231215223670006, 0.055375631898641586, 0.0625298023223877, 0.061695247888565063, 0.0625298023223877, 0.060130525380373, 0.05916070193052292, 0.056377604603767395, 0.05082782730460167, 0.05162762105464935, 0.05911017581820488, 0.06067570298910141, 0.06466516107320786, 0.05746819078922272, 0.06012817844748497, 0.051577892154455185, 0.05938999727368355, 0.06441992521286011, 0.05864203721284866, 0.05549140274524689, 0.06099971383810043, 0.05746819078922272, 0.05916070193052292, 0.0575517937541008, 0.062339331954717636, 0.05890149250626564, 0.060382794588804245, 0.061473529785871506, 0.06222115457057953, 0.06067570298910141, 0.05864203721284866, 0.06321893632411957, 0.06258217245340347, 0.06157900020480156, 0.05329404026269913, 0.0628439337015152, 0.061255715787410736, 0.06314831227064133, 0.06263559311628342, 0.0528295561671257, 0.06314831227064133, 0.05884512886404991, 0.05989359691739082, 0.05864203721284866, 0.060318052768707275, 0.06224958598613739, 0.06299437582492828, 0.05864203721284866, 0.05746819078922272, 0.055375631898641586)]\n",
      "1920     count()\n",
      "0  19431917 [(0.06231215223670006, 0.055375631898641586, 0.0625298023223877, 0.061695247888565063, 0.0625298023223877, 0.060130525380373, 0.05916070193052292, 0.056377604603767395, 0.05082782730460167, 0.05162762105464935, 0.05911017581820488, 0.06067570298910141, 0.06466516107320786, 0.05746819078922272, 0.06012817844748497, 0.051577892154455185, 0.05938999727368355, 0.06441992521286011, 0.05864203721284866, 0.05549140274524689, 0.06099971383810043, 0.05746819078922272, 0.05916070193052292, 0.0575517937541008, 0.062339331954717636, 0.05890149250626564, 0.060382794588804245, 0.061473529785871506, 0.06222115457057953, 0.06067570298910141, 0.05864203721284866, 0.06321893632411957, 0.06258217245340347, 0.06157900020480156, 0.05329404026269913, 0.0628439337015152, 0.061255715787410736, 0.06314831227064133, 0.06263559311628342, 0.0528295561671257, 0.06314831227064133, 0.05884512886404991, 0.05989359691739082, 0.05864203721284866, 0.060318052768707275, 0.06224958598613739, 0.06299437582492828, 0.05864203721284866, 0.05746819078922272, 0.055375631898641586)]\n"
     ]
    }
   ],
   "source": [
    "import time\n",
    "\n",
    "start = time.time()\n",
    "i = 0\n",
    "while time.time() - start < 60 * 60:\n",
    "    frac = 10\n",
    "    q1 = client.query_df(\n",
    "        f\"select count(*) from tiles where sqrt (power(theta_0+0.5,2)+power(theta_1+0.5,2)+power(theta_2+0.5,2)+power(theta_3+0.5,2)) < {frac}\"\n",
    "    )\n",
    "    q2 = client.query(\n",
    "        \"select \" + \",\".join([f\"min(B_lam_{i})\" for i in range(50)]) + \" from tiles\"\n",
    "    ).result_set\n",
    "    if i % 60 == 0:\n",
    "        print(i, q1, q2)\n",
    "    i += 1"
   ]
  },
  {
   "cell_type": "code",
   "execution_count": 9,
   "metadata": {},
   "outputs": [
    {
     "data": {
      "text/plain": [
       "0.24198750000000002"
      ]
     },
     "execution_count": 9,
     "metadata": {},
     "output_type": "execute_result"
    }
   ],
   "source": [
    "# 393.75 at 6:24, wait a bit\n",
    "(495 - 393.75) * 0.00239"
   ]
  },
  {
   "cell_type": "code",
   "execution_count": 6,
   "metadata": {},
   "outputs": [
    {
     "data": {
      "text/plain": [
       "2.0344875000000004"
      ]
     },
     "execution_count": 6,
     "metadata": {},
     "output_type": "execute_result"
    }
   ],
   "source": [
    "usage = 1680 - 828.75\n",
    "price = 0.00239\n",
    "time = 60\n",
    "estimated_cu_per_min = usage / time"
   ]
  },
  {
   "attachments": {},
   "cell_type": "markdown",
   "metadata": {},
   "source": [
    "## Materialized View"
   ]
  },
  {
   "cell_type": "code",
   "execution_count": 45,
   "metadata": {},
   "outputs": [],
   "source": [
    "import clickhouse_connect\n",
    "\n",
    "client = clickhouse_connect.get_client(\n",
    "    host=host, port=8443, username=\"default\", password=password\n",
    ")"
   ]
  },
  {
   "cell_type": "code",
   "execution_count": 23,
   "metadata": {},
   "outputs": [
    {
     "data": {
      "text/plain": [
       "''"
      ]
     },
     "execution_count": 23,
     "metadata": {},
     "output_type": "execute_result"
    }
   ],
   "source": [
    "client.command(\"drop view Blamss\")"
   ]
  },
  {
   "cell_type": "code",
   "execution_count": 64,
   "metadata": {},
   "outputs": [],
   "source": [
    "query = (\n",
    "    \"create materialized view if not exists Blamss order by (Blamss0) POPULATE as select \"\n",
    "    + \",\".join([f\"min(B_lam_{i}) as Blamss{i}\" for i in range(50)])\n",
    "    + \" from tiles\"\n",
    ")"
   ]
  },
  {
   "cell_type": "code",
   "execution_count": 65,
   "metadata": {},
   "outputs": [
    {
     "data": {
      "text/plain": [
       "''"
      ]
     },
     "execution_count": 65,
     "metadata": {},
     "output_type": "execute_result"
    }
   ],
   "source": [
    "client.command(query)"
   ]
  },
  {
   "cell_type": "code",
   "execution_count": 91,
   "metadata": {},
   "outputs": [
    {
     "name": "stdout",
     "output_type": "stream",
     "text": [
      "CPU times: user 2.37 ms, sys: 1.49 ms, total: 3.86 ms\n",
      "Wall time: 265 ms\n"
     ]
    },
    {
     "data": {
      "text/plain": [
       "[(0.06231215223670006,\n",
       "  0.055375631898641586,\n",
       "  0.0625298023223877,\n",
       "  0.061695247888565063,\n",
       "  0.0625298023223877,\n",
       "  0.060130525380373,\n",
       "  0.05916070193052292,\n",
       "  0.056377604603767395,\n",
       "  0.05082782730460167,\n",
       "  0.05162762105464935,\n",
       "  0.05911017581820488,\n",
       "  0.06067570298910141,\n",
       "  0.06466516107320786,\n",
       "  0.05746819078922272,\n",
       "  0.06012817844748497,\n",
       "  0.051577892154455185,\n",
       "  0.05938999727368355,\n",
       "  0.06441992521286011,\n",
       "  0.05864203721284866,\n",
       "  0.05549140274524689,\n",
       "  0.06099971383810043,\n",
       "  0.05746819078922272,\n",
       "  0.05916070193052292,\n",
       "  0.0575517937541008,\n",
       "  0.062339331954717636,\n",
       "  0.05890149250626564,\n",
       "  0.060382794588804245,\n",
       "  0.061473529785871506,\n",
       "  0.06222115457057953,\n",
       "  0.06067570298910141,\n",
       "  0.05864203721284866,\n",
       "  0.06321893632411957,\n",
       "  0.06258217245340347,\n",
       "  0.06157900020480156,\n",
       "  0.05329404026269913,\n",
       "  0.0628439337015152,\n",
       "  0.061255715787410736,\n",
       "  0.06314831227064133,\n",
       "  0.06263559311628342,\n",
       "  0.0528295561671257,\n",
       "  0.06314831227064133,\n",
       "  0.05884512886404991,\n",
       "  0.05989359691739082,\n",
       "  0.05864203721284866,\n",
       "  0.060318052768707275,\n",
       "  0.06224958598613739,\n",
       "  0.06299437582492828,\n",
       "  0.05864203721284866,\n",
       "  0.05746819078922272,\n",
       "  0.055375631898641586)]"
      ]
     },
     "execution_count": 91,
     "metadata": {},
     "output_type": "execute_result"
    }
   ],
   "source": [
    "%%time\n",
    "client.query(\n",
    "    \"select \" + \",\".join([f\"min(Blamss{i})\" for i in range(50)]) + \" from Blamss\"\n",
    ").result_set"
   ]
  },
  {
   "cell_type": "code",
   "execution_count": 90,
   "metadata": {},
   "outputs": [
    {
     "name": "stdout",
     "output_type": "stream",
     "text": [
      "CPU times: user 1.82 s, sys: 45.5 ms, total: 1.86 s\n",
      "Wall time: 4.48 s\n"
     ]
    }
   ],
   "source": [
    "%%time\n",
    "client.insert_df(\"tiles\", df[:100000])"
   ]
  },
  {
   "attachments": {},
   "cell_type": "markdown",
   "metadata": {},
   "source": [
    "## Add index"
   ]
  },
  {
   "cell_type": "code",
   "execution_count": 2,
   "metadata": {},
   "outputs": [],
   "source": [
    "import clickhouse_connect\n",
    "\n",
    "client = clickhouse_connect.get_client(\n",
    "    host=host,\n",
    "    port=8443,\n",
    "    username=\"default\",\n",
    "    password=password,\n",
    ")"
   ]
  },
  {
   "cell_type": "code",
   "execution_count": 3,
   "metadata": {},
   "outputs": [
    {
     "name": "stdout",
     "output_type": "stream",
     "text": [
      "CPU times: user 1.95 ms, sys: 1.1 ms, total: 3.05 ms\n",
      "Wall time: 64.2 ms\n"
     ]
    },
    {
     "data": {
      "text/plain": [
       "<clickhouse_connect.driver.query.QueryResult at 0x16b1b8610>"
      ]
     },
     "execution_count": 3,
     "metadata": {},
     "output_type": "execute_result"
    }
   ],
   "source": [
    "%%time\n",
    "client.query(\"select min(B_lam_0) from tiles\")"
   ]
  },
  {
   "cell_type": "code",
   "execution_count": 4,
   "metadata": {},
   "outputs": [
    {
     "name": "stderr",
     "output_type": "stream",
     "text": [
      "Code: 517. DB::Exception: Metadata on replica is not up to date with common metadata in Zookeeper. It means that this replica still not applied some of previous alters. Probably too many alters executing concurrently (highly not recommended). You can retry this error. (CANNOT_ASSIGN_ALTER) (version 22.11.1.19266 (official build))\n",
      "\n"
     ]
    },
    {
     "ename": "DatabaseError",
     "evalue": ":HTTPDriver for https://gznwzfxi1x.us-east-1.aws.clickhouse.cloud:8443 returned response code 500)\n Code: 517. DB::Exception: Metadata on replica is not up to date with common metadata in Zookeeper. It means that this replica still not applied some of previous alters. Probably too many alters executing concurrently (highly not recommended",
     "output_type": "error",
     "traceback": [
      "\u001b[0;31m---------------------------------------------------------------------------\u001b[0m",
      "\u001b[0;31mDatabaseError\u001b[0m                             Traceback (most recent call last)",
      "Cell \u001b[0;32mIn[4], line 2\u001b[0m\n\u001b[1;32m      1\u001b[0m \u001b[39mfor\u001b[39;00m i \u001b[39min\u001b[39;00m \u001b[39mrange\u001b[39m(\u001b[39m50\u001b[39m):\n\u001b[0;32m----> 2\u001b[0m     client\u001b[39m.\u001b[39;49mquery(\u001b[39mf\u001b[39;49m\u001b[39m'\u001b[39;49m\u001b[39malter table tiles drop index Blam\u001b[39;49m\u001b[39m{\u001b[39;49;00mi\u001b[39m}\u001b[39;49;00m\u001b[39midx\u001b[39;49m\u001b[39m'\u001b[39;49m)\n",
      "File \u001b[0;32m~/.mambaforge/envs/confirm/lib/python3.10/site-packages/clickhouse_connect/driver/client.py:151\u001b[0m, in \u001b[0;36mClient.query\u001b[0;34m(self, query, parameters, settings, query_formats, column_formats, encoding, use_none, column_oriented, context)\u001b[0m\n\u001b[1;32m    141\u001b[0m     query_context \u001b[39m=\u001b[39m QueryContext(query\u001b[39m=\u001b[39mquery,\n\u001b[1;32m    142\u001b[0m                                  parameters\u001b[39m=\u001b[39mparameters,\n\u001b[1;32m    143\u001b[0m                                  settings\u001b[39m=\u001b[39msettings,\n\u001b[0;32m   (...)\u001b[0m\n\u001b[1;32m    148\u001b[0m                                  use_none\u001b[39m=\u001b[39muse_none,\n\u001b[1;32m    149\u001b[0m                                  column_oriented\u001b[39m=\u001b[39mcolumn_oriented)\n\u001b[1;32m    150\u001b[0m \u001b[39mif\u001b[39;00m query_context\u001b[39m.\u001b[39mis_command:\n\u001b[0;32m--> 151\u001b[0m     response \u001b[39m=\u001b[39m \u001b[39mself\u001b[39;49m\u001b[39m.\u001b[39;49mcommand(query, parameters\u001b[39m=\u001b[39;49mquery_context\u001b[39m.\u001b[39;49mparameters, settings\u001b[39m=\u001b[39;49mquery_context\u001b[39m.\u001b[39;49msettings)\n\u001b[1;32m    152\u001b[0m     \u001b[39mreturn\u001b[39;00m QueryResult([response] \u001b[39mif\u001b[39;00m \u001b[39misinstance\u001b[39m(response, \u001b[39mlist\u001b[39m) \u001b[39melse\u001b[39;00m [[response]], (), ())\n\u001b[1;32m    153\u001b[0m \u001b[39mreturn\u001b[39;00m \u001b[39mself\u001b[39m\u001b[39m.\u001b[39m_query_with_context(query_context)\n",
      "File \u001b[0;32m~/.mambaforge/envs/confirm/lib/python3.10/site-packages/clickhouse_connect/driver/httpclient.py:277\u001b[0m, in \u001b[0;36mHttpClient.command\u001b[0;34m(self, cmd, parameters, data, settings, use_database)\u001b[0m\n\u001b[1;32m    275\u001b[0m params\u001b[39m.\u001b[39mupdate(\u001b[39mself\u001b[39m\u001b[39m.\u001b[39m_validate_settings(settings \u001b[39mor\u001b[39;00m {}))\n\u001b[1;32m    276\u001b[0m method \u001b[39m=\u001b[39m \u001b[39m'\u001b[39m\u001b[39mPOST\u001b[39m\u001b[39m'\u001b[39m \u001b[39mif\u001b[39;00m payload \u001b[39melse\u001b[39;00m \u001b[39m'\u001b[39m\u001b[39mGET\u001b[39m\u001b[39m'\u001b[39m\n\u001b[0;32m--> 277\u001b[0m response \u001b[39m=\u001b[39m \u001b[39mself\u001b[39;49m\u001b[39m.\u001b[39;49m_raw_request(payload, params, headers, method)\n\u001b[1;32m    278\u001b[0m result \u001b[39m=\u001b[39m response\u001b[39m.\u001b[39mcontent\u001b[39m.\u001b[39mdecode()[:\u001b[39m-\u001b[39m\u001b[39m1\u001b[39m]\u001b[39m.\u001b[39msplit(\u001b[39m'\u001b[39m\u001b[39m\\t\u001b[39;00m\u001b[39m'\u001b[39m)\n\u001b[1;32m    279\u001b[0m \u001b[39mif\u001b[39;00m \u001b[39mlen\u001b[39m(result) \u001b[39m==\u001b[39m \u001b[39m1\u001b[39m:\n",
      "File \u001b[0;32m~/.mambaforge/envs/confirm/lib/python3.10/site-packages/clickhouse_connect/driver/httpclient.py:335\u001b[0m, in \u001b[0;36mHttpClient._raw_request\u001b[0;34m(self, data, params, headers, method, retries, error_handler)\u001b[0m\n\u001b[1;32m    333\u001b[0m \u001b[39mif\u001b[39;00m error_handler:\n\u001b[1;32m    334\u001b[0m     error_handler(response)\n\u001b[0;32m--> 335\u001b[0m \u001b[39mself\u001b[39;49m\u001b[39m.\u001b[39;49m_error_handler(response)\n",
      "File \u001b[0;32m~/.mambaforge/envs/confirm/lib/python3.10/site-packages/clickhouse_connect/driver/httpclient.py:292\u001b[0m, in \u001b[0;36mHttpClient._error_handler\u001b[0;34m(self, response, retried)\u001b[0m\n\u001b[1;32m    290\u001b[0m     logger\u001b[39m.\u001b[39merror(\u001b[39mstr\u001b[39m(err_msg))\n\u001b[1;32m    291\u001b[0m     err_str \u001b[39m=\u001b[39m \u001b[39mf\u001b[39m\u001b[39m'\u001b[39m\u001b[39m:\u001b[39m\u001b[39m{\u001b[39;00merr_str\u001b[39m}\u001b[39;00m\u001b[39m\\n\u001b[39;00m\u001b[39m \u001b[39m\u001b[39m{\u001b[39;00merr_msg[\u001b[39m0\u001b[39m:\u001b[39m240\u001b[39m]\u001b[39m}\u001b[39;00m\u001b[39m'\u001b[39m\n\u001b[0;32m--> 292\u001b[0m \u001b[39mraise\u001b[39;00m OperationalError(err_str) \u001b[39mif\u001b[39;00m retried \u001b[39melse\u001b[39;00m DatabaseError(err_str) \u001b[39mfrom\u001b[39;00m \u001b[39mNone\u001b[39m\n",
      "\u001b[0;31mDatabaseError\u001b[0m: :HTTPDriver for https://gznwzfxi1x.us-east-1.aws.clickhouse.cloud:8443 returned response code 500)\n Code: 517. DB::Exception: Metadata on replica is not up to date with common metadata in Zookeeper. It means that this replica still not applied some of previous alters. Probably too many alters executing concurrently (highly not recommended"
     ]
    }
   ],
   "source": [
    "for i in range(50):\n",
    "    client.query(f\"alter table tiles drop index Blam{i}idx\")"
   ]
  },
  {
   "cell_type": "code",
   "execution_count": 5,
   "metadata": {},
   "outputs": [],
   "source": [
    "for i in range(1):\n",
    "    client.query(\n",
    "        f\"alter table tiles add index Blam{i}idx B_lam_{i} TYPE minmax GRANULARITY 1\"\n",
    "    )\n",
    "for i in range(1):\n",
    "    client.query(f\"alter table tiles materialize index Blam{i}idx\")"
   ]
  },
  {
   "cell_type": "code",
   "execution_count": 10,
   "metadata": {},
   "outputs": [
    {
     "name": "stdout",
     "output_type": "stream",
     "text": [
      "CPU times: user 1.6 ms, sys: 1.06 ms, total: 2.66 ms\n",
      "Wall time: 39 ms\n"
     ]
    },
    {
     "data": {
      "text/plain": [
       "<clickhouse_connect.driver.query.QueryResult at 0x16b1cc9a0>"
      ]
     },
     "execution_count": 10,
     "metadata": {},
     "output_type": "execute_result"
    }
   ],
   "source": [
    "%%time\n",
    "client.query(\"select min(B_lam_0) from tiles\")"
   ]
  },
  {
   "cell_type": "code",
   "execution_count": 20,
   "metadata": {},
   "outputs": [
    {
     "name": "stdout",
     "output_type": "stream",
     "text": [
      "CPU times: user 19.1 ms, sys: 1.8 ms, total: 20.9 ms\n",
      "Wall time: 82.8 ms\n"
     ]
    }
   ],
   "source": [
    "%%time\n",
    "bl0 = client.query(\"select B_lam_0 from tiles limit 1\").result_set[0][0]"
   ]
  },
  {
   "cell_type": "code",
   "execution_count": 21,
   "metadata": {},
   "outputs": [
    {
     "data": {
      "text/plain": [
       "0.06693554669618607"
      ]
     },
     "execution_count": 21,
     "metadata": {},
     "output_type": "execute_result"
    }
   ],
   "source": [
    "bl0"
   ]
  },
  {
   "cell_type": "code",
   "execution_count": 40,
   "metadata": {},
   "outputs": [
    {
     "name": "stdout",
     "output_type": "stream",
     "text": [
      "CPU times: user 1.86 ms, sys: 1.05 ms, total: 2.91 ms\n",
      "Wall time: 37.6 ms\n"
     ]
    },
    {
     "data": {
      "text/plain": [
       "[(0.06231215223670006,)]"
      ]
     },
     "execution_count": 40,
     "metadata": {},
     "output_type": "execute_result"
    }
   ],
   "source": [
    "%%time\n",
    "client.query(\n",
    "    f\"select min(B_lam_0) from tiles where B_lam_0 < 0.063\",\n",
    "    settings={\"force_data_skipping_indices\": \"Blam0idx\"},\n",
    ").result_set"
   ]
  },
  {
   "cell_type": "code",
   "execution_count": 11,
   "metadata": {},
   "outputs": [
    {
     "name": "stderr",
     "output_type": "stream",
     "text": [
      "Code: 277. DB::Exception: Index `Blam0idx` is not used and setting 'force_data_skipping_indices' contains it. (INDEX_NOT_USED) (version 22.11.1.19266 (official build))\n",
      "\n"
     ]
    },
    {
     "ename": "DatabaseError",
     "evalue": ":HTTPDriver for https://gznwzfxi1x.us-east-1.aws.clickhouse.cloud:8443 returned response code 500)\n Code: 277. DB::Exception: Index `Blam0idx` is not used and setting 'force_data_skipping_indices' contains it. (INDEX_NOT_USED) (version 22.11.1.19266 (official build))\n",
     "output_type": "error",
     "traceback": [
      "\u001b[0;31m---------------------------------------------------------------------------\u001b[0m",
      "\u001b[0;31mDatabaseError\u001b[0m                             Traceback (most recent call last)",
      "File \u001b[0;32m<timed eval>:1\u001b[0m\n",
      "File \u001b[0;32m~/.mambaforge/envs/confirm/lib/python3.10/site-packages/clickhouse_connect/driver/client.py:153\u001b[0m, in \u001b[0;36mClient.query\u001b[0;34m(self, query, parameters, settings, query_formats, column_formats, encoding, use_none, column_oriented, context)\u001b[0m\n\u001b[1;32m    151\u001b[0m     response \u001b[39m=\u001b[39m \u001b[39mself\u001b[39m\u001b[39m.\u001b[39mcommand(query, parameters\u001b[39m=\u001b[39mquery_context\u001b[39m.\u001b[39mparameters, settings\u001b[39m=\u001b[39mquery_context\u001b[39m.\u001b[39msettings)\n\u001b[1;32m    152\u001b[0m     \u001b[39mreturn\u001b[39;00m QueryResult([response] \u001b[39mif\u001b[39;00m \u001b[39misinstance\u001b[39m(response, \u001b[39mlist\u001b[39m) \u001b[39melse\u001b[39;00m [[response]], (), ())\n\u001b[0;32m--> 153\u001b[0m \u001b[39mreturn\u001b[39;00m \u001b[39mself\u001b[39;49m\u001b[39m.\u001b[39;49m_query_with_context(query_context)\n",
      "File \u001b[0;32m~/.mambaforge/envs/confirm/lib/python3.10/site-packages/clickhouse_connect/driver/httpclient.py:182\u001b[0m, in \u001b[0;36mHttpClient._query_with_context\u001b[0;34m(self, context)\u001b[0m\n\u001b[1;32m    180\u001b[0m     data_result \u001b[39m=\u001b[39m DataResult([], \u001b[39mtuple\u001b[39m(names), \u001b[39mtuple\u001b[39m(types))\n\u001b[1;32m    181\u001b[0m \u001b[39melse\u001b[39;00m:\n\u001b[0;32m--> 182\u001b[0m     response \u001b[39m=\u001b[39m \u001b[39mself\u001b[39;49m\u001b[39m.\u001b[39;49m_raw_request(\u001b[39mself\u001b[39;49m\u001b[39m.\u001b[39;49m_prep_query(context), params, headers, retries\u001b[39m=\u001b[39;49m\u001b[39mself\u001b[39;49m\u001b[39m.\u001b[39;49mquery_retries)\n\u001b[1;32m    183\u001b[0m     data_result \u001b[39m=\u001b[39m \u001b[39mself\u001b[39m\u001b[39m.\u001b[39mtransform\u001b[39m.\u001b[39mparse_response(response\u001b[39m.\u001b[39mcontent, context)\n\u001b[1;32m    184\u001b[0m summary \u001b[39m=\u001b[39m {}\n",
      "File \u001b[0;32m~/.mambaforge/envs/confirm/lib/python3.10/site-packages/clickhouse_connect/driver/httpclient.py:335\u001b[0m, in \u001b[0;36mHttpClient._raw_request\u001b[0;34m(self, data, params, headers, method, retries, error_handler)\u001b[0m\n\u001b[1;32m    333\u001b[0m \u001b[39mif\u001b[39;00m error_handler:\n\u001b[1;32m    334\u001b[0m     error_handler(response)\n\u001b[0;32m--> 335\u001b[0m \u001b[39mself\u001b[39;49m\u001b[39m.\u001b[39;49m_error_handler(response)\n",
      "File \u001b[0;32m~/.mambaforge/envs/confirm/lib/python3.10/site-packages/clickhouse_connect/driver/httpclient.py:292\u001b[0m, in \u001b[0;36mHttpClient._error_handler\u001b[0;34m(self, response, retried)\u001b[0m\n\u001b[1;32m    290\u001b[0m     logger\u001b[39m.\u001b[39merror(\u001b[39mstr\u001b[39m(err_msg))\n\u001b[1;32m    291\u001b[0m     err_str \u001b[39m=\u001b[39m \u001b[39mf\u001b[39m\u001b[39m'\u001b[39m\u001b[39m:\u001b[39m\u001b[39m{\u001b[39;00merr_str\u001b[39m}\u001b[39;00m\u001b[39m\\n\u001b[39;00m\u001b[39m \u001b[39m\u001b[39m{\u001b[39;00merr_msg[\u001b[39m0\u001b[39m:\u001b[39m240\u001b[39m]\u001b[39m}\u001b[39;00m\u001b[39m'\u001b[39m\n\u001b[0;32m--> 292\u001b[0m \u001b[39mraise\u001b[39;00m OperationalError(err_str) \u001b[39mif\u001b[39;00m retried \u001b[39melse\u001b[39;00m DatabaseError(err_str) \u001b[39mfrom\u001b[39;00m \u001b[39mNone\u001b[39m\n",
      "\u001b[0;31mDatabaseError\u001b[0m: :HTTPDriver for https://gznwzfxi1x.us-east-1.aws.clickhouse.cloud:8443 returned response code 500)\n Code: 277. DB::Exception: Index `Blam0idx` is not used and setting 'force_data_skipping_indices' contains it. (INDEX_NOT_USED) (version 22.11.1.19266 (official build))\n"
     ]
    }
   ],
   "source": [
    "%%time\n",
    "client.query(\n",
    "    \"select min(B_lam_0) from tiles\",\n",
    "    settings={\"force_data_skipping_indices\": \"Blam0idx\"},\n",
    ").result_set"
   ]
  },
  {
   "cell_type": "code",
   "execution_count": 33,
   "metadata": {},
   "outputs": [
    {
     "name": "stdout",
     "output_type": "stream",
     "text": [
      "CPU times: user 3.9 ms, sys: 1.52 ms, total: 5.42 ms\n",
      "Wall time: 1.2 s\n"
     ]
    },
    {
     "data": {
      "text/plain": [
       "[(0.06231215223670006,\n",
       "  0.055375631898641586,\n",
       "  0.0625298023223877,\n",
       "  0.061695247888565063,\n",
       "  0.0625298023223877,\n",
       "  0.060130525380373,\n",
       "  0.05916070193052292,\n",
       "  0.056377604603767395,\n",
       "  0.05082782730460167,\n",
       "  0.05162762105464935,\n",
       "  0.05911017581820488,\n",
       "  0.06067570298910141,\n",
       "  0.06466516107320786,\n",
       "  0.05746819078922272,\n",
       "  0.06012817844748497,\n",
       "  0.051577892154455185,\n",
       "  0.05938999727368355,\n",
       "  0.06441992521286011,\n",
       "  0.05864203721284866,\n",
       "  0.05549140274524689,\n",
       "  0.06099971383810043,\n",
       "  0.05746819078922272,\n",
       "  0.05916070193052292,\n",
       "  0.0575517937541008,\n",
       "  0.062339331954717636,\n",
       "  0.05890149250626564,\n",
       "  0.060382794588804245,\n",
       "  0.061473529785871506,\n",
       "  0.06222115457057953,\n",
       "  0.06067570298910141,\n",
       "  0.05864203721284866,\n",
       "  0.06321893632411957,\n",
       "  0.06258217245340347,\n",
       "  0.06157900020480156,\n",
       "  0.05329404026269913,\n",
       "  0.0628439337015152,\n",
       "  0.061255715787410736,\n",
       "  0.06314831227064133,\n",
       "  0.06263559311628342,\n",
       "  0.0528295561671257,\n",
       "  0.06314831227064133,\n",
       "  0.05884512886404991,\n",
       "  0.05989359691739082,\n",
       "  0.05864203721284866,\n",
       "  0.060318052768707275,\n",
       "  0.06224958598613739,\n",
       "  0.06299437582492828,\n",
       "  0.05864203721284866,\n",
       "  0.05746819078922272,\n",
       "  0.055375631898641586)]"
      ]
     },
     "execution_count": 33,
     "metadata": {},
     "output_type": "execute_result"
    }
   ],
   "source": [
    "%%time\n",
    "client.query(\n",
    "    \"select \" + \",\".join([f\"min(B_lam_{i})\" for i in range(50)]) + \" from tiles\"\n",
    ").result_set"
   ]
  },
  {
   "attachments": {},
   "cell_type": "markdown",
   "metadata": {},
   "source": [
    "## Test locking mechanism\n",
    "\n",
    "janky locking mechanisms from https://blog.qryn.dev/shared-resource-lock-powered-by-clickhouse\n",
    "\n",
    "the comments suggest `query_id`. this doesn't work for me."
   ]
  },
  {
   "cell_type": "code",
   "execution_count": null,
   "metadata": {},
   "outputs": [],
   "source": [
    "clickhouse_connect"
   ]
  },
  {
   "cell_type": "code",
   "execution_count": 97,
   "metadata": {},
   "outputs": [
    {
     "name": "stderr",
     "output_type": "stream",
     "text": [
      "Code: 60. DB::Exception: Table default._mtx doesn't exist. (UNKNOWN_TABLE) (version 22.11.1.19266 (official build))\n",
      "\n"
     ]
    },
    {
     "ename": "DatabaseError",
     "evalue": ":HTTPDriver for https://gznwzfxi1x.us-east-1.aws.clickhouse.cloud:8443 returned response code 404)\n Code: 60. DB::Exception: Table default._mtx doesn't exist. (UNKNOWN_TABLE) (version 22.11.1.19266 (official build))\n",
     "output_type": "error",
     "traceback": [
      "\u001b[0;31m---------------------------------------------------------------------------\u001b[0m",
      "\u001b[0;31mDatabaseError\u001b[0m                             Traceback (most recent call last)",
      "Cell \u001b[0;32mIn[97], line 1\u001b[0m\n\u001b[0;32m----> 1\u001b[0m client\u001b[39m.\u001b[39;49mcommand(\u001b[39m'\u001b[39;49m\u001b[39mdrop table _mtx\u001b[39;49m\u001b[39m'\u001b[39;49m)\n",
      "File \u001b[0;32m~/.mambaforge/envs/confirm/lib/python3.10/site-packages/clickhouse_connect/driver/httpclient.py:277\u001b[0m, in \u001b[0;36mHttpClient.command\u001b[0;34m(self, cmd, parameters, data, settings, use_database)\u001b[0m\n\u001b[1;32m    275\u001b[0m params\u001b[39m.\u001b[39mupdate(\u001b[39mself\u001b[39m\u001b[39m.\u001b[39m_validate_settings(settings \u001b[39mor\u001b[39;00m {}))\n\u001b[1;32m    276\u001b[0m method \u001b[39m=\u001b[39m \u001b[39m'\u001b[39m\u001b[39mPOST\u001b[39m\u001b[39m'\u001b[39m \u001b[39mif\u001b[39;00m payload \u001b[39melse\u001b[39;00m \u001b[39m'\u001b[39m\u001b[39mGET\u001b[39m\u001b[39m'\u001b[39m\n\u001b[0;32m--> 277\u001b[0m response \u001b[39m=\u001b[39m \u001b[39mself\u001b[39;49m\u001b[39m.\u001b[39;49m_raw_request(payload, params, headers, method)\n\u001b[1;32m    278\u001b[0m result \u001b[39m=\u001b[39m response\u001b[39m.\u001b[39mcontent\u001b[39m.\u001b[39mdecode()[:\u001b[39m-\u001b[39m\u001b[39m1\u001b[39m]\u001b[39m.\u001b[39msplit(\u001b[39m'\u001b[39m\u001b[39m\\t\u001b[39;00m\u001b[39m'\u001b[39m)\n\u001b[1;32m    279\u001b[0m \u001b[39mif\u001b[39;00m \u001b[39mlen\u001b[39m(result) \u001b[39m==\u001b[39m \u001b[39m1\u001b[39m:\n",
      "File \u001b[0;32m~/.mambaforge/envs/confirm/lib/python3.10/site-packages/clickhouse_connect/driver/httpclient.py:335\u001b[0m, in \u001b[0;36mHttpClient._raw_request\u001b[0;34m(self, data, params, headers, method, retries, error_handler)\u001b[0m\n\u001b[1;32m    333\u001b[0m \u001b[39mif\u001b[39;00m error_handler:\n\u001b[1;32m    334\u001b[0m     error_handler(response)\n\u001b[0;32m--> 335\u001b[0m \u001b[39mself\u001b[39;49m\u001b[39m.\u001b[39;49m_error_handler(response)\n",
      "File \u001b[0;32m~/.mambaforge/envs/confirm/lib/python3.10/site-packages/clickhouse_connect/driver/httpclient.py:292\u001b[0m, in \u001b[0;36mHttpClient._error_handler\u001b[0;34m(self, response, retried)\u001b[0m\n\u001b[1;32m    290\u001b[0m     logger\u001b[39m.\u001b[39merror(\u001b[39mstr\u001b[39m(err_msg))\n\u001b[1;32m    291\u001b[0m     err_str \u001b[39m=\u001b[39m \u001b[39mf\u001b[39m\u001b[39m'\u001b[39m\u001b[39m:\u001b[39m\u001b[39m{\u001b[39;00merr_str\u001b[39m}\u001b[39;00m\u001b[39m\\n\u001b[39;00m\u001b[39m \u001b[39m\u001b[39m{\u001b[39;00merr_msg[\u001b[39m0\u001b[39m:\u001b[39m240\u001b[39m]\u001b[39m}\u001b[39;00m\u001b[39m'\u001b[39m\n\u001b[0;32m--> 292\u001b[0m \u001b[39mraise\u001b[39;00m OperationalError(err_str) \u001b[39mif\u001b[39;00m retried \u001b[39melse\u001b[39;00m DatabaseError(err_str) \u001b[39mfrom\u001b[39;00m \u001b[39mNone\u001b[39m\n",
      "\u001b[0;31mDatabaseError\u001b[0m: :HTTPDriver for https://gznwzfxi1x.us-east-1.aws.clickhouse.cloud:8443 returned response code 404)\n Code: 60. DB::Exception: Table default._mtx doesn't exist. (UNKNOWN_TABLE) (version 22.11.1.19266 (official build))\n"
     ]
    }
   ],
   "source": [
    "client.command(\"drop table _mtx\")"
   ]
  },
  {
   "cell_type": "code",
   "execution_count": 1,
   "metadata": {},
   "outputs": [],
   "source": [
    "import clickhouse_connect\n",
    "\n",
    "client = clickhouse_connect.get_client(\n",
    "    host=host, port=8443, username=\"default\", password=password\n",
    ")"
   ]
  },
  {
   "cell_type": "code",
   "execution_count": 22,
   "metadata": {},
   "outputs": [
    {
     "name": "stderr",
     "output_type": "stream",
     "text": [
      "Code: 57. DB::Exception: Table default._mtx0 already exists. (TABLE_ALREADY_EXISTS) (version 22.11.1.19266 (official build))\n",
      "\n",
      "Code: 57. DB::Exception: Table default._mtx0 already exists. (TABLE_ALREADY_EXISTS) (version 22.11.1.19266 (official build))\n",
      "\n",
      "Code: 57. DB::Exception: Table default._mtx0 already exists. (TABLE_ALREADY_EXISTS) (version 22.11.1.19266 (official build))\n",
      "\n"
     ]
    },
    {
     "name": "stdout",
     "output_type": "stream",
     "text": [
      "Mutex0 is locked. Sleeping for 0.5s and then retrying.\n",
      "Mutex0 is locked. Sleeping for 0.5s and then retrying.\n",
      "Mutex0 is locked. Sleeping for 0.5s and then retrying.\n",
      "created and inserted\n"
     ]
    },
    {
     "name": "stderr",
     "output_type": "stream",
     "text": [
      "Code: 57. DB::Exception: Table default._mtx0 already exists. (TABLE_ALREADY_EXISTS) (version 22.11.1.19266 (official build))\n",
      "\n"
     ]
    },
    {
     "name": "stdout",
     "output_type": "stream",
     "text": [
      "Mutex0 is locked. Sleeping for 0.5s and then retrying.\n"
     ]
    },
    {
     "name": "stderr",
     "output_type": "stream",
     "text": [
      "Code: 57. DB::Exception: Table default._mtx0 already exists. (TABLE_ALREADY_EXISTS) (version 22.11.1.19266 (official build))\n",
      "\n"
     ]
    },
    {
     "name": "stdout",
     "output_type": "stream",
     "text": [
      "Mutex0 is locked. Sleeping for 0.5s and then retrying.\n",
      "created and inserted\n"
     ]
    },
    {
     "name": "stderr",
     "output_type": "stream",
     "text": [
      "Code: 57. DB::Exception: Table default._mtx0 already exists. (TABLE_ALREADY_EXISTS) (version 22.11.1.19266 (official build))\n",
      "\n"
     ]
    },
    {
     "name": "stdout",
     "output_type": "stream",
     "text": [
      "Mutex0 is locked. Sleeping for 0.5s and then retrying.\n"
     ]
    },
    {
     "name": "stderr",
     "output_type": "stream",
     "text": [
      "Code: 57. DB::Exception: Table default._mtx0 already exists. (TABLE_ALREADY_EXISTS) (version 22.11.1.19266 (official build))\n",
      "\n"
     ]
    },
    {
     "name": "stdout",
     "output_type": "stream",
     "text": [
      "Mutex0 is locked. Sleeping for 0.5s and then retrying.\n",
      "created and inserted\n",
      "created and inserted\n"
     ]
    },
    {
     "data": {
      "text/plain": [
       "[   min(Blamss0)  min(Blamss1)  min(Blamss2)  min(Blamss3)  min(Blamss4)  \\\n",
       " 0      0.062312      0.055376       0.06253      0.061695       0.06253   \n",
       " \n",
       "    min(Blamss5)  min(Blamss6)  min(Blamss7)  min(Blamss8)  min(Blamss9)  ...  \\\n",
       " 0      0.060131      0.059161      0.056378      0.050828      0.051628  ...   \n",
       " \n",
       "    min(Blamss40)  min(Blamss41)  min(Blamss42)  min(Blamss43)  min(Blamss44)  \\\n",
       " 0       0.063148       0.058845       0.059894       0.058642       0.060318   \n",
       " \n",
       "    min(Blamss45)  min(Blamss46)  min(Blamss47)  min(Blamss48)  min(Blamss49)  \n",
       " 0        0.06225       0.062994       0.058642       0.057468       0.055376  \n",
       " \n",
       " [1 rows x 50 columns],\n",
       "    min(Blamss0)  min(Blamss1)  min(Blamss2)  min(Blamss3)  min(Blamss4)  \\\n",
       " 0      0.062312      0.055376       0.06253      0.061695       0.06253   \n",
       " \n",
       "    min(Blamss5)  min(Blamss6)  min(Blamss7)  min(Blamss8)  min(Blamss9)  ...  \\\n",
       " 0      0.060131      0.059161      0.056378      0.050828      0.051628  ...   \n",
       " \n",
       "    min(Blamss40)  min(Blamss41)  min(Blamss42)  min(Blamss43)  min(Blamss44)  \\\n",
       " 0       0.063148       0.058845       0.059894       0.058642       0.060318   \n",
       " \n",
       "    min(Blamss45)  min(Blamss46)  min(Blamss47)  min(Blamss48)  min(Blamss49)  \n",
       " 0        0.06225       0.062994       0.058642       0.057468       0.055376  \n",
       " \n",
       " [1 rows x 50 columns],\n",
       "    min(Blamss0)  min(Blamss1)  min(Blamss2)  min(Blamss3)  min(Blamss4)  \\\n",
       " 0      0.062312      0.055376       0.06253      0.061695       0.06253   \n",
       " \n",
       "    min(Blamss5)  min(Blamss6)  min(Blamss7)  min(Blamss8)  min(Blamss9)  ...  \\\n",
       " 0      0.060131      0.059161      0.056378      0.050828      0.051628  ...   \n",
       " \n",
       "    min(Blamss40)  min(Blamss41)  min(Blamss42)  min(Blamss43)  min(Blamss44)  \\\n",
       " 0       0.063148       0.058845       0.059894       0.058642       0.060318   \n",
       " \n",
       "    min(Blamss45)  min(Blamss46)  min(Blamss47)  min(Blamss48)  min(Blamss49)  \n",
       " 0        0.06225       0.062994       0.058642       0.057468       0.055376  \n",
       " \n",
       " [1 rows x 50 columns],\n",
       "    min(Blamss0)  min(Blamss1)  min(Blamss2)  min(Blamss3)  min(Blamss4)  \\\n",
       " 0      0.062312      0.055376       0.06253      0.061695       0.06253   \n",
       " \n",
       "    min(Blamss5)  min(Blamss6)  min(Blamss7)  min(Blamss8)  min(Blamss9)  ...  \\\n",
       " 0      0.060131      0.059161      0.056378      0.050828      0.051628  ...   \n",
       " \n",
       "    min(Blamss40)  min(Blamss41)  min(Blamss42)  min(Blamss43)  min(Blamss44)  \\\n",
       " 0       0.063148       0.058845       0.059894       0.058642       0.060318   \n",
       " \n",
       "    min(Blamss45)  min(Blamss46)  min(Blamss47)  min(Blamss48)  min(Blamss49)  \n",
       " 0        0.06225       0.062994       0.058642       0.057468       0.055376  \n",
       " \n",
       " [1 rows x 50 columns]]"
      ]
     },
     "execution_count": 22,
     "metadata": {},
     "output_type": "execute_result"
    }
   ],
   "source": [
    "import time\n",
    "import clickhouse_connect\n",
    "from contextlib import contextmanager\n",
    "from multiprocessing.pool import ThreadPool\n",
    "\n",
    "query = \"select \" + \",\".join([f\"min(Blamss{i})\" for i in range(50)]) + \" from Blamss\"\n",
    "\n",
    "client.command(\"drop table if exists _mtx0\", settings={\"wait_end_of_query\": 1})\n",
    "\n",
    "\n",
    "@contextmanager\n",
    "def claim_ch_mutex(client, mutex_id, timeout=60, claim_interval=60, retry_interval=0.5):\n",
    "    start = time.time()\n",
    "    while time.time() - start < timeout:\n",
    "        try:\n",
    "            client.command(\n",
    "                f\"CREATE TABLE _mtx{mutex_id} (creation_time int, claim_interval int) order by creation_time\"\n",
    "            )\n",
    "            client.insert(f\"_mtx{mutex_id}\", [[int(time.time()), claim_interval]])\n",
    "            print(\"created and inserted\")\n",
    "            break\n",
    "        except clickhouse_connect.driver.exceptions.DatabaseError as e:\n",
    "            if f\"_mtx{mutex_id} already exists\" not in str(e):\n",
    "                raise\n",
    "            try:\n",
    "                mtx_df = client.query_df(f\"select * from _mtx{mutex_id}\")\n",
    "            except clickhouse_connect.driver.exceptions.DatabaseError as e:\n",
    "                if f\"_mtx{mutex_id} doesn't exist\" in str(e):\n",
    "                    print(\"table doesn't exist now! retrying\")\n",
    "                    continue\n",
    "                raise\n",
    "            if mtx_df.shape[0] > 0:\n",
    "                mtx = mtx_df.iloc[0]\n",
    "                if time.time() - mtx[\"creation_time\"] > mtx[\"claim_interval\"]:\n",
    "                    print(f\"Mutex{mutex_id} claim expired, deleting claim.\")\n",
    "                    client.command(\"DROP TABLE _mtx\")\n",
    "            print(\n",
    "                f\"Mutex{mutex_id} is locked. Sleeping for {retry_interval}s and then retrying.\"\n",
    "            )\n",
    "            time.sleep(retry_interval)\n",
    "    if time.time() - start > timeout:\n",
    "        raise Exception(f\"Could not claim mutex{mutex_id} within {timeout}s\")\n",
    "    try:\n",
    "        yield\n",
    "    finally:\n",
    "        client.command(f\"DROP TABLE _mtx{mutex_id}\")\n",
    "\n",
    "\n",
    "def connect_and_query(worker_id):\n",
    "    client = clickhouse_connect.get_client(\n",
    "        host=host, port=8443, username=\"default\", password=password\n",
    "    )\n",
    "    with claim_ch_mutex(client, 0):\n",
    "        return client.query_df(query)\n",
    "\n",
    "\n",
    "N = 4\n",
    "ThreadPool(N).map(lambda x: connect_and_query(x), range(N))"
   ]
  },
  {
   "cell_type": "code",
   "execution_count": null,
   "metadata": {},
   "outputs": [],
   "source": []
  }
 ],
 "metadata": {
  "kernelspec": {
   "display_name": "Python 3.10.6 ('confirm')",
   "language": "python",
   "name": "python3"
  },
  "language_info": {
   "codemirror_mode": {
    "name": "ipython",
    "version": 3
   },
   "file_extension": ".py",
   "mimetype": "text/x-python",
   "name": "python",
   "nbconvert_exporter": "python",
   "pygments_lexer": "ipython3",
   "version": "3.10.8 | packaged by conda-forge | (main, Nov 22 2022, 08:25:29) [Clang 14.0.6 ]"
  },
  "orig_nbformat": 4,
  "vscode": {
   "interpreter": {
    "hash": "b4c6ec5b2d6c7b38df115d547b82cd53ca25eea58d87299956d35a9dc79f19f1"
   }
  }
 },
 "nbformat": 4,
 "nbformat_minor": 2
}
