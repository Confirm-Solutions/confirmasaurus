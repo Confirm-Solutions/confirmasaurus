{
 "cells": [
  {
   "cell_type": "code",
   "execution_count": 1,
   "metadata": {},
   "outputs": [],
   "source": [
    "import clickhouse_connect\n",
    "\n",
    "client = clickhouse_connect.get_client(\n",
    "    host=\"jx5gomuqu1.us-east-1.aws.clickhouse.cloud\",\n",
    "    port=8443,\n",
    "    username=\"default\",\n",
    "    password=\"LujWuvKhdIKn\",\n",
    ")\n",
    "# client = clickhouse_connect.get_client(host='127.0.0.1', port=8123)"
   ]
  },
  {
   "cell_type": "code",
   "execution_count": 4,
   "metadata": {},
   "outputs": [
    {
     "data": {
      "text/plain": [
       "''"
      ]
     },
     "execution_count": 4,
     "metadata": {},
     "output_type": "execute_result"
    }
   ],
   "source": [
    "client.command(\"CREATE TABLE test_table (key UInt16, value String) ENGINE Memory\")"
   ]
  },
  {
   "cell_type": "code",
   "execution_count": 5,
   "metadata": {},
   "outputs": [
    {
     "name": "stdout",
     "output_type": "stream",
     "text": [
      "[(100, 'value1'), (200, 'value2')]\n"
     ]
    }
   ],
   "source": [
    "data = [[100, \"value1\"], [200, \"value2\"]]\n",
    "client.insert(\"test_table\", data)\n",
    "print(client.query(\"SELECT * FROM test_table\").result_set)"
   ]
  },
  {
   "cell_type": "code",
   "execution_count": 2,
   "metadata": {},
   "outputs": [],
   "source": [
    "import pandas as pd\n",
    "\n",
    "df = pd.read_parquet(\"./dbtest.parquet\")"
   ]
  },
  {
   "cell_type": "code",
   "execution_count": 4,
   "metadata": {},
   "outputs": [
    {
     "data": {
      "text/plain": [
       "'create table tiles (alpha0 Float32,orig_lam Float32,B_lam_0 Float32,B_lam_1 Float32,B_lam_2 Float32,B_lam_3 Float32,B_lam_4 Float32,B_lam_5 Float32,B_lam_6 Float32,B_lam_7 Float32,B_lam_8 Float32,B_lam_9 Float32,B_lam_10 Float32,B_lam_11 Float32,B_lam_12 Float32,B_lam_13 Float32,B_lam_14 Float32,B_lam_15 Float32,B_lam_16 Float32,B_lam_17 Float32,B_lam_18 Float32,B_lam_19 Float32,B_lam_20 Float32,B_lam_21 Float32,B_lam_22 Float32,B_lam_23 Float32,B_lam_24 Float32,B_lam_25 Float32,B_lam_26 Float32,B_lam_27 Float32,B_lam_28 Float32,B_lam_29 Float32,B_lam_30 Float32,B_lam_31 Float32,B_lam_32 Float32,B_lam_33 Float32,B_lam_34 Float32,B_lam_35 Float32,B_lam_36 Float32,B_lam_37 Float32,B_lam_38 Float32,B_lam_39 Float32,B_lam_40 Float32,B_lam_41 Float32,B_lam_42 Float32,B_lam_43 Float32,B_lam_44 Float32,B_lam_45 Float32,B_lam_46 Float32,B_lam_47 Float32,B_lam_48 Float32,B_lam_49 Float32,twb_min_lam Float32,twb_mean_lam Float32,twb_max_lam Float32,sim_sizes Float32,todo Float32,grid_pt_idx Float32,theta_0 Float32,radii_0 Float32,theta_1 Float32,radii_1 Float32,theta_2 Float32,radii_2 Float32,theta_3 Float32,radii_3 Float32,null_truth_0 Float32,null_truth_1 Float32,null_truth_2 Float32) engine = MergeTree() order by orig_lam'"
      ]
     },
     "execution_count": 4,
     "metadata": {},
     "output_type": "execute_result"
    }
   ],
   "source": [
    "query = (\n",
    "    \"create table tiles (\"\n",
    "    + \",\".join([f\"{c} Float32\" for c in df.columns])\n",
    "    + \") engine = MergeTree() order by orig_lam\"\n",
    ")\n",
    "query"
   ]
  },
  {
   "cell_type": "code",
   "execution_count": 5,
   "metadata": {},
   "outputs": [
    {
     "name": "stderr",
     "output_type": "stream",
     "text": [
      "Code: 57. DB::Exception: Table default.tiles already exists. (TABLE_ALREADY_EXISTS) (version 22.12.1.593 (official build))\n",
      "\n"
     ]
    },
    {
     "ename": "DatabaseError",
     "evalue": ":HTTPDriver for http://127.0.0.1:8123 returned response code 500)\n Code: 57. DB::Exception: Table default.tiles already exists. (TABLE_ALREADY_EXISTS) (version 22.12.1.593 (official build))\n",
     "output_type": "error",
     "traceback": [
      "\u001b[0;31m---------------------------------------------------------------------------\u001b[0m",
      "\u001b[0;31mDatabaseError\u001b[0m                             Traceback (most recent call last)",
      "Cell \u001b[0;32mIn [5], line 1\u001b[0m\n\u001b[0;32m----> 1\u001b[0m client\u001b[39m.\u001b[39;49mcommand(query)\n",
      "File \u001b[0;32m~/.mambaforge/envs/confirm/lib/python3.10/site-packages/clickhouse_connect/driver/httpclient.py:276\u001b[0m, in \u001b[0;36mHttpClient.command\u001b[0;34m(self, cmd, parameters, data, settings, use_database)\u001b[0m\n\u001b[1;32m    274\u001b[0m params\u001b[39m.\u001b[39mupdate(\u001b[39mself\u001b[39m\u001b[39m.\u001b[39m_validate_settings(settings \u001b[39mor\u001b[39;00m {}))\n\u001b[1;32m    275\u001b[0m method \u001b[39m=\u001b[39m \u001b[39m'\u001b[39m\u001b[39mPOST\u001b[39m\u001b[39m'\u001b[39m \u001b[39mif\u001b[39;00m payload \u001b[39melse\u001b[39;00m \u001b[39m'\u001b[39m\u001b[39mGET\u001b[39m\u001b[39m'\u001b[39m\n\u001b[0;32m--> 276\u001b[0m response \u001b[39m=\u001b[39m \u001b[39mself\u001b[39;49m\u001b[39m.\u001b[39;49m_raw_request(payload, params, headers, method)\n\u001b[1;32m    277\u001b[0m result \u001b[39m=\u001b[39m response\u001b[39m.\u001b[39mcontent\u001b[39m.\u001b[39mdecode()[:\u001b[39m-\u001b[39m\u001b[39m1\u001b[39m]\u001b[39m.\u001b[39msplit(\u001b[39m'\u001b[39m\u001b[39m\\t\u001b[39;00m\u001b[39m'\u001b[39m)\n\u001b[1;32m    278\u001b[0m \u001b[39mif\u001b[39;00m \u001b[39mlen\u001b[39m(result) \u001b[39m==\u001b[39m \u001b[39m1\u001b[39m:\n",
      "File \u001b[0;32m~/.mambaforge/envs/confirm/lib/python3.10/site-packages/clickhouse_connect/driver/httpclient.py:334\u001b[0m, in \u001b[0;36mHttpClient._raw_request\u001b[0;34m(self, data, params, headers, method, retries, error_handler)\u001b[0m\n\u001b[1;32m    332\u001b[0m \u001b[39mif\u001b[39;00m error_handler:\n\u001b[1;32m    333\u001b[0m     error_handler(response)\n\u001b[0;32m--> 334\u001b[0m \u001b[39mself\u001b[39;49m\u001b[39m.\u001b[39;49m_error_handler(response)\n",
      "File \u001b[0;32m~/.mambaforge/envs/confirm/lib/python3.10/site-packages/clickhouse_connect/driver/httpclient.py:291\u001b[0m, in \u001b[0;36mHttpClient._error_handler\u001b[0;34m(self, response, retried)\u001b[0m\n\u001b[1;32m    289\u001b[0m     logger\u001b[39m.\u001b[39merror(\u001b[39mstr\u001b[39m(err_msg))\n\u001b[1;32m    290\u001b[0m     err_str \u001b[39m=\u001b[39m \u001b[39mf\u001b[39m\u001b[39m'\u001b[39m\u001b[39m:\u001b[39m\u001b[39m{\u001b[39;00merr_str\u001b[39m}\u001b[39;00m\u001b[39m\\n\u001b[39;00m\u001b[39m \u001b[39m\u001b[39m{\u001b[39;00merr_msg[\u001b[39m0\u001b[39m:\u001b[39m240\u001b[39m]\u001b[39m}\u001b[39;00m\u001b[39m'\u001b[39m\n\u001b[0;32m--> 291\u001b[0m \u001b[39mraise\u001b[39;00m OperationalError(err_str) \u001b[39mif\u001b[39;00m retried \u001b[39melse\u001b[39;00m DatabaseError(err_str) \u001b[39mfrom\u001b[39;00m \u001b[39mNone\u001b[39m\n",
      "\u001b[0;31mDatabaseError\u001b[0m: :HTTPDriver for http://127.0.0.1:8123 returned response code 500)\n Code: 57. DB::Exception: Table default.tiles already exists. (TABLE_ALREADY_EXISTS) (version 22.12.1.593 (official build))\n"
     ]
    }
   ],
   "source": [
    "client.command(query)"
   ]
  },
  {
   "cell_type": "code",
   "execution_count": 15,
   "metadata": {},
   "outputs": [],
   "source": [
    "client.insert_df(\"tiles\", df)"
   ]
  },
  {
   "cell_type": "code",
   "execution_count": 17,
   "metadata": {},
   "outputs": [
    {
     "name": "stdout",
     "output_type": "stream",
     "text": [
      "CPU times: user 7.02 s, sys: 175 ms, total: 7.2 s\n",
      "Wall time: 7.43 s\n"
     ]
    }
   ],
   "source": [
    "%%time\n",
    "client.insert_df(\"tiles\", df[:400000])"
   ]
  },
  {
   "cell_type": "code",
   "execution_count": 3,
   "metadata": {},
   "outputs": [],
   "source": [
    "import pyarrow\n",
    "\n",
    "tbl = pyarrow.Table.from_pandas(df[:5000000])"
   ]
  },
  {
   "cell_type": "code",
   "execution_count": 4,
   "metadata": {},
   "outputs": [
    {
     "name": "stdout",
     "output_type": "stream",
     "text": [
      "CPU times: user 1.64 s, sys: 3.43 s, total: 5.07 s\n",
      "Wall time: 2min 17s\n"
     ]
    }
   ],
   "source": [
    "%%time\n",
    "client.insert_arrow(\"tiles\", tbl)"
   ]
  },
  {
   "cell_type": "code",
   "execution_count": 17,
   "metadata": {},
   "outputs": [
    {
     "data": {
      "text/plain": [
       "41846.2462268219"
      ]
     },
     "execution_count": 17,
     "metadata": {},
     "output_type": "execute_result"
    }
   ],
   "source": [
    "df.shape[0] / (7 * 60 + 43.8)"
   ]
  },
  {
   "cell_type": "code",
   "execution_count": 16,
   "metadata": {},
   "outputs": [
    {
     "name": "stdout",
     "output_type": "stream",
     "text": [
      "CPU times: user 42.6 ms, sys: 6.79 ms, total: 49.4 ms\n",
      "Wall time: 79.6 ms\n"
     ]
    },
    {
     "data": {
      "text/plain": [
       "(10000, 69)"
      ]
     },
     "execution_count": 16,
     "metadata": {},
     "output_type": "execute_result"
    }
   ],
   "source": [
    "%%time\n",
    "sel_df = client.query_df(\"select * from tiles order by orig_lam limit 10000\")\n",
    "sel_df.shape"
   ]
  },
  {
   "cell_type": "code",
   "execution_count": 39,
   "metadata": {},
   "outputs": [
    {
     "data": {
      "text/plain": [
       "2.76"
      ]
     },
     "execution_count": 39,
     "metadata": {},
     "output_type": "execute_result"
    }
   ],
   "source": [
    "sel_df.shape[0] * sel_df.shape[1] * 4 / 1e6"
   ]
  },
  {
   "cell_type": "code",
   "execution_count": 17,
   "metadata": {},
   "outputs": [
    {
     "name": "stdout",
     "output_type": "stream",
     "text": [
      "CPU times: user 2.24 ms, sys: 1.14 ms, total: 3.38 ms\n",
      "Wall time: 405 ms\n"
     ]
    },
    {
     "data": {
      "text/plain": [
       "[(0.06528124213218689,\n",
       "  0.064506895840168,\n",
       "  0.06400763243436813,\n",
       "  0.06356178969144821,\n",
       "  0.06519397348165512,\n",
       "  0.06459040194749832,\n",
       "  0.06479469686746597,\n",
       "  0.06528934836387634,\n",
       "  0.06237378343939781,\n",
       "  0.06019483134150505,\n",
       "  0.06254054605960846,\n",
       "  0.06508979201316833,\n",
       "  0.06514236330986023,\n",
       "  0.06412892043590546,\n",
       "  0.06313243508338928,\n",
       "  0.0608912855386734,\n",
       "  0.06583709269762039,\n",
       "  0.06441992521286011,\n",
       "  0.0632510855793953,\n",
       "  0.06558826565742493,\n",
       "  0.06099971383810043,\n",
       "  0.06388067454099655,\n",
       "  0.0623963437974453,\n",
       "  0.06425051391124725,\n",
       "  0.062368571758270264,\n",
       "  0.06508255749940872,\n",
       "  0.06364434957504272,\n",
       "  0.06259889900684357,\n",
       "  0.06259263306856155,\n",
       "  0.06526196002960205,\n",
       "  0.06184881925582886,\n",
       "  0.06611113250255585,\n",
       "  0.06383296102285385,\n",
       "  0.06484857946634293,\n",
       "  0.06429416686296463,\n",
       "  0.06435570865869522,\n",
       "  0.06498193740844727,\n",
       "  0.06387448310852051,\n",
       "  0.06395195424556732,\n",
       "  0.0639881044626236,\n",
       "  0.06390348821878433,\n",
       "  0.05955151468515396,\n",
       "  0.06256946921348572,\n",
       "  0.06503757834434509,\n",
       "  0.06320683658123016,\n",
       "  0.06224958598613739,\n",
       "  0.06412892043590546,\n",
       "  0.06439508497714996,\n",
       "  0.06457185745239258,\n",
       "  0.06180260330438614)]"
      ]
     },
     "execution_count": 17,
     "metadata": {},
     "output_type": "execute_result"
    }
   ],
   "source": [
    "%%time\n",
    "client.query(\n",
    "    \"select \" + \",\".join([f\"min(B_lam_{i})\" for i in range(50)]) + \" from tiles\"\n",
    ").result_set"
   ]
  }
 ],
 "metadata": {
  "kernelspec": {
   "display_name": "Python 3.10.6 ('confirm')",
   "language": "python",
   "name": "python3"
  },
  "language_info": {
   "codemirror_mode": {
    "name": "ipython",
    "version": 3
   },
   "file_extension": ".py",
   "mimetype": "text/x-python",
   "name": "python",
   "nbconvert_exporter": "python",
   "pygments_lexer": "ipython3",
   "version": "3.10.6"
  },
  "orig_nbformat": 4,
  "vscode": {
   "interpreter": {
    "hash": "b4c6ec5b2d6c7b38df115d547b82cd53ca25eea58d87299956d35a9dc79f19f1"
   }
  }
 },
 "nbformat": 4,
 "nbformat_minor": 2
}
