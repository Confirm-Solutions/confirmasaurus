{
 "cells": [
  {
   "cell_type": "code",
   "execution_count": 3,
   "metadata": {},
   "outputs": [],
   "source": [
    "from confirm.outlaw.nb_util import setup_nb\n",
    "\n",
    "setup_nb()\n",
    "\n",
    "import confirm.imprint as ip\n",
    "from confirm.models.binom1d import Binom1D"
   ]
  },
  {
   "cell_type": "code",
   "execution_count": 26,
   "metadata": {},
   "outputs": [
    {
     "name": "stderr",
     "output_type": "stream",
     "text": [
      "2022-11-23 22:04:35.019313: W external/org_tensorflow/tensorflow/tsl/framework/bfc_allocator.cc:479] Allocator (GPU_0_bfc) ran out of memory trying to allocate 15.62GiB (rounded to 16777216256)requested by op \n",
      "2022-11-23 22:04:35.019425: W external/org_tensorflow/tensorflow/tsl/framework/bfc_allocator.cc:492] ***********************************************_____________________________________________________\n",
      "2022-11-23 22:04:35.019563: E external/org_tensorflow/tensorflow/compiler/xla/pjrt/pjrt_stream_executor_client.cc:2153] Execution of replica 0 failed: RESOURCE_EXHAUSTED: Out of memory while trying to allocate 16777216256 bytes.\n",
      "BufferAssignment OOM Debugging.\n",
      "BufferAssignment stats:\n",
      "             parameter allocation:        24B\n",
      "              constant allocation:         0B\n",
      "        maybe_live_out allocation:    6.25GiB\n",
      "     preallocated temp allocation:   15.62GiB\n",
      "  preallocated temp fragmentation:         0B (0.00%)\n",
      "                 total allocation:   21.88GiB\n",
      "              total fragmentation:    3.12GiB (14.29%)\n",
      "Peak buffers:\n",
      "\tBuffer 1:\n",
      "\t\tSize: 6.25GiB\n",
      "\t\tOperator: op_name=\"jit(_uniform)/jit(main)/max\" source_file=\"/workspaces/confirmasaurus/confirm/models/binom1d.py\" source_line=24\n",
      "\t\tXLA Label: fusion\n",
      "\t\tShape: f32[16777216,100]\n",
      "\t\t==========================\n",
      "\n",
      "\tBuffer 2:\n",
      "\t\tSize: 3.12GiB\n",
      "\t\tOperator: op_name=\"jit(_uniform)/jit(main)/threefry2x32\" source_file=\"/workspaces/confirmasaurus/confirm/models/binom1d.py\" source_line=24\n",
      "\t\tXLA Label: custom-call\n",
      "\t\tShape: u32[838860800]\n",
      "\t\t==========================\n",
      "\n",
      "\tBuffer 3:\n",
      "\t\tSize: 3.12GiB\n",
      "\t\tOperator: op_name=\"jit(_uniform)/jit(main)/threefry2x32\" source_file=\"/workspaces/confirmasaurus/confirm/models/binom1d.py\" source_line=24\n",
      "\t\tXLA Label: custom-call\n",
      "\t\tShape: u32[838860800]\n",
      "\t\t==========================\n",
      "\n",
      "\tBuffer 4:\n",
      "\t\tSize: 3.12GiB\n",
      "\t\tOperator: op_name=\"jit(_uniform)/jit(main)/slice[start_indices=(838860800,) limit_indices=(1677721600,) strides=None]\" source_file=\"/workspaces/confirmasaurus/confirm/models/binom1d.py\" source_line=24\n",
      "\t\tXLA Label: fusion\n",
      "\t\tShape: u32[838860800]\n",
      "\t\t==========================\n",
      "\n",
      "\tBuffer 5:\n",
      "\t\tSize: 3.12GiB\n",
      "\t\tOperator: op_name=\"jit(_uniform)/jit(main)/slice[start_indices=(0,) limit_indices=(838860800,) strides=None]\" source_file=\"/workspaces/confirmasaurus/confirm/models/binom1d.py\" source_line=24\n",
      "\t\tXLA Label: fusion\n",
      "\t\tShape: u32[838860800]\n",
      "\t\t==========================\n",
      "\n",
      "\tBuffer 6:\n",
      "\t\tSize: 3.12GiB\n",
      "\t\tOperator: op_name=\"jit(_uniform)/jit(main)/threefry2x32\" source_file=\"/workspaces/confirmasaurus/confirm/models/binom1d.py\" source_line=24\n",
      "\t\tXLA Label: fusion\n",
      "\t\tShape: u32[838860800]\n",
      "\t\t==========================\n",
      "\n",
      "\tBuffer 7:\n",
      "\t\tSize: 16B\n",
      "\t\tOperator: op_name=\"jit(_uniform)/jit(main)/threefry2x32\" source_file=\"/workspaces/confirmasaurus/confirm/models/binom1d.py\" source_line=24\n",
      "\t\tXLA Label: fusion\n",
      "\t\tShape: (u32[838860800], u32[838860800])\n",
      "\t\t==========================\n",
      "\n",
      "\tBuffer 8:\n",
      "\t\tSize: 16B\n",
      "\t\tOperator: op_name=\"jit(_uniform)/jit(main)/threefry2x32\" source_file=\"/workspaces/confirmasaurus/confirm/models/binom1d.py\" source_line=24\n",
      "\t\tXLA Label: custom-call\n",
      "\t\tShape: (u32[838860800], u32[838860800])\n",
      "\t\t==========================\n",
      "\n",
      "\tBuffer 9:\n",
      "\t\tSize: 8B\n",
      "\t\tEntry Parameter Subshape: f64[]\n",
      "\t\t==========================\n",
      "\n",
      "\tBuffer 10:\n",
      "\t\tSize: 8B\n",
      "\t\tEntry Parameter Subshape: u32[2]\n",
      "\t\t==========================\n",
      "\n",
      "\tBuffer 11:\n",
      "\t\tSize: 8B\n",
      "\t\tEntry Parameter Subshape: f64[]\n",
      "\t\t==========================\n",
      "\n",
      "\n"
     ]
    },
    {
     "ename": "XlaRuntimeError",
     "evalue": "RESOURCE_EXHAUSTED: Out of memory while trying to allocate 16777216256 bytes.\nBufferAssignment OOM Debugging.\nBufferAssignment stats:\n             parameter allocation:        24B\n              constant allocation:         0B\n        maybe_live_out allocation:    6.25GiB\n     preallocated temp allocation:   15.62GiB\n  preallocated temp fragmentation:         0B (0.00%)\n                 total allocation:   21.88GiB\n              total fragmentation:    3.12GiB (14.29%)\nPeak buffers:\n\tBuffer 1:\n\t\tSize: 6.25GiB\n\t\tOperator: op_name=\"jit(_uniform)/jit(main)/max\" source_file=\"/workspaces/confirmasaurus/confirm/models/binom1d.py\" source_line=24\n\t\tXLA Label: fusion\n\t\tShape: f32[16777216,100]\n\t\t==========================\n\n\tBuffer 2:\n\t\tSize: 3.12GiB\n\t\tOperator: op_name=\"jit(_uniform)/jit(main)/threefry2x32\" source_file=\"/workspaces/confirmasaurus/confirm/models/binom1d.py\" source_line=24\n\t\tXLA Label: custom-call\n\t\tShape: u32[838860800]\n\t\t==========================\n\n\tBuffer 3:\n\t\tSize: 3.12GiB\n\t\tOperator: op_name=\"jit(_uniform)/jit(main)/threefry2x32\" source_file=\"/workspaces/confirmasaurus/confirm/models/binom1d.py\" source_line=24\n\t\tXLA Label: custom-call\n\t\tShape: u32[838860800]\n\t\t==========================\n\n\tBuffer 4:\n\t\tSize: 3.12GiB\n\t\tOperator: op_name=\"jit(_uniform)/jit(main)/slice[start_indices=(838860800,) limit_indices=(1677721600,) strides=None]\" source_file=\"/workspaces/confirmasaurus/confirm/models/binom1d.py\" source_line=24\n\t\tXLA Label: fusion\n\t\tShape: u32[838860800]\n\t\t==========================\n\n\tBuffer 5:\n\t\tSize: 3.12GiB\n\t\tOperator: op_name=\"jit(_uniform)/jit(main)/slice[start_indices=(0,) limit_indices=(838860800,) strides=None]\" source_file=\"/workspaces/confirmasaurus/confirm/models/binom1d.py\" source_line=24\n\t\tXLA Label: fusion\n\t\tShape: u32[838860800]\n\t\t==========================\n\n\tBuffer 6:\n\t\tSize: 3.12GiB\n\t\tOperator: op_name=\"jit(_uniform)/jit(main)/threefry2x32\" source_file=\"/workspaces/confirmasaurus/confirm/models/binom1d.py\" source_line=24\n\t\tXLA Label: fusion\n\t\tShape: u32[838860800]\n\t\t==========================\n\n\tBuffer 7:\n\t\tSize: 16B\n\t\tOperator: op_name=\"jit(_uniform)/jit(main)/threefry2x32\" source_file=\"/workspaces/confirmasaurus/confirm/models/binom1d.py\" source_line=24\n\t\tXLA Label: fusion\n\t\tShape: (u32[838860800], u32[838860800])\n\t\t==========================\n\n\tBuffer 8:\n\t\tSize: 16B\n\t\tOperator: op_name=\"jit(_uniform)/jit(main)/threefry2x32\" source_file=\"/workspaces/confirmasaurus/confirm/models/binom1d.py\" source_line=24\n\t\tXLA Label: custom-call\n\t\tShape: (u32[838860800], u32[838860800])\n\t\t==========================\n\n\tBuffer 9:\n\t\tSize: 8B\n\t\tEntry Parameter Subshape: f64[]\n\t\t==========================\n\n\tBuffer 10:\n\t\tSize: 8B\n\t\tEntry Parameter Subshape: u32[2]\n\t\t==========================\n\n\tBuffer 11:\n\t\tSize: 8B\n\t\tEntry Parameter Subshape: f64[]\n\t\t==========================\n\n",
     "output_type": "error",
     "traceback": [
      "\u001b[0;31m---------------------------------------------------------------------------\u001b[0m",
      "\u001b[0;31mXlaRuntimeError\u001b[0m                           Traceback (most recent call last)",
      "Cell \u001b[0;32mIn [26], line 2\u001b[0m\n\u001b[1;32m      1\u001b[0m g \u001b[39m=\u001b[39m ip\u001b[39m.\u001b[39mcartesian_grid(theta_min\u001b[39m=\u001b[39m[\u001b[39m-\u001b[39m\u001b[39m1\u001b[39m], theta_max\u001b[39m=\u001b[39m[\u001b[39m1\u001b[39m], null_hypos\u001b[39m=\u001b[39m[ip\u001b[39m.\u001b[39mhypo(\u001b[39m\"\u001b[39m\u001b[39mx0 < 0\u001b[39m\u001b[39m\"\u001b[39m)])\n\u001b[0;32m----> 2\u001b[0m rej_df \u001b[39m=\u001b[39m ip\u001b[39m.\u001b[39;49mvalidate(Binom1D, g, \u001b[39m0.5\u001b[39;49m, K\u001b[39m=\u001b[39;49m\u001b[39m2\u001b[39;49m\u001b[39m*\u001b[39;49m\u001b[39m*\u001b[39;49m\u001b[39m24\u001b[39;49m, model_kwargs\u001b[39m=\u001b[39;49m{\u001b[39m\"\u001b[39;49m\u001b[39mn\u001b[39;49m\u001b[39m\"\u001b[39;49m: \u001b[39m100\u001b[39;49m})\n\u001b[1;32m      3\u001b[0m rej_df\n",
      "File \u001b[0;32m/workspaces/confirmasaurus/confirm/imprint/driver.py:196\u001b[0m, in \u001b[0;36mvalidate\u001b[0;34m(modeltype, g, lam, delta, model_seed, K, tile_batch_size, model_kwargs)\u001b[0m\n\u001b[1;32m    159\u001b[0m \u001b[39mdef\u001b[39;00m \u001b[39mvalidate\u001b[39m(\n\u001b[1;32m    160\u001b[0m     modeltype,\n\u001b[1;32m    161\u001b[0m     g,\n\u001b[0;32m   (...)\u001b[0m\n\u001b[1;32m    168\u001b[0m     model_kwargs\u001b[39m=\u001b[39m\u001b[39mNone\u001b[39;00m\n\u001b[1;32m    169\u001b[0m ):\n\u001b[1;32m    170\u001b[0m     \u001b[39m\"\"\"\u001b[39;00m\n\u001b[1;32m    171\u001b[0m \u001b[39m    Calculate the Type I Error bound.\u001b[39;00m\n\u001b[1;32m    172\u001b[0m \n\u001b[0;32m   (...)\u001b[0m\n\u001b[1;32m    194\u001b[0m \u001b[39m        - tie_bound: The bound on the Type I error over the whole tile.\u001b[39;00m\n\u001b[1;32m    195\u001b[0m \u001b[39m    \"\"\"\u001b[39;00m\n\u001b[0;32m--> 196\u001b[0m     driver, g \u001b[39m=\u001b[39m _setup(modeltype, g, model_seed, K, model_kwargs, tile_batch_size)\n\u001b[1;32m    197\u001b[0m     rej_df \u001b[39m=\u001b[39m driver\u001b[39m.\u001b[39mvalidate(g\u001b[39m.\u001b[39mdf, lam, delta\u001b[39m=\u001b[39mdelta)\n\u001b[1;32m    198\u001b[0m     \u001b[39mreturn\u001b[39;00m rej_df\n",
      "File \u001b[0;32m/workspaces/confirmasaurus/confirm/imprint/driver.py:155\u001b[0m, in \u001b[0;36m_setup\u001b[0;34m(modeltype, g, model_seed, K, model_kwargs, tile_batch_size)\u001b[0m\n\u001b[1;32m    153\u001b[0m \u001b[39mif\u001b[39;00m model_kwargs \u001b[39mis\u001b[39;00m \u001b[39mNone\u001b[39;00m:\n\u001b[1;32m    154\u001b[0m     model_kwargs \u001b[39m=\u001b[39m {}\n\u001b[0;32m--> 155\u001b[0m model \u001b[39m=\u001b[39m modeltype(model_seed, g\u001b[39m.\u001b[39;49mdf[\u001b[39m\"\u001b[39;49m\u001b[39mK\u001b[39;49m\u001b[39m\"\u001b[39;49m]\u001b[39m.\u001b[39;49mmax(), \u001b[39m*\u001b[39;49m\u001b[39m*\u001b[39;49mmodel_kwargs)\n\u001b[1;32m    156\u001b[0m \u001b[39mreturn\u001b[39;00m Driver(model, tile_batch_size\u001b[39m=\u001b[39mtile_batch_size), g\n",
      "File \u001b[0;32m/workspaces/confirmasaurus/confirm/models/binom1d.py:25\u001b[0m, in \u001b[0;36mBinom1D.__init__\u001b[0;34m(self, seed, max_K, n)\u001b[0m\n\u001b[1;32m     22\u001b[0m \u001b[39m# sample normals and then compute the CDF to transform into the\u001b[39;00m\n\u001b[1;32m     23\u001b[0m \u001b[39m# interval [0, 1]\u001b[39;00m\n\u001b[1;32m     24\u001b[0m key \u001b[39m=\u001b[39m jax\u001b[39m.\u001b[39mrandom\u001b[39m.\u001b[39mPRNGKey(seed)\n\u001b[0;32m---> 25\u001b[0m \u001b[39mself\u001b[39m\u001b[39m.\u001b[39msamples \u001b[39m=\u001b[39m jax\u001b[39m.\u001b[39;49mrandom\u001b[39m.\u001b[39;49muniform(key, shape\u001b[39m=\u001b[39;49m(max_K, n), dtype\u001b[39m=\u001b[39;49m\u001b[39mself\u001b[39;49m\u001b[39m.\u001b[39;49mdtype)\n\u001b[1;32m     26\u001b[0m \u001b[39mprint\u001b[39m(\u001b[39mself\u001b[39m\u001b[39m.\u001b[39msamples\u001b[39m.\u001b[39mshape)\n",
      "File \u001b[0;32m/opt/conda/lib/python3.10/site-packages/jax/_src/random.py:264\u001b[0m, in \u001b[0;36muniform\u001b[0;34m(key, shape, dtype, minval, maxval)\u001b[0m\n\u001b[1;32m    262\u001b[0m dtype \u001b[39m=\u001b[39m dtypes\u001b[39m.\u001b[39mcanonicalize_dtype(dtype)\n\u001b[1;32m    263\u001b[0m shape \u001b[39m=\u001b[39m core\u001b[39m.\u001b[39mas_named_shape(shape)\n\u001b[0;32m--> 264\u001b[0m \u001b[39mreturn\u001b[39;00m _uniform(key, shape, dtype, minval, maxval)\n",
      "    \u001b[0;31m[... skipping hidden 2 frame]\u001b[0m\n",
      "File \u001b[0;32m/opt/conda/lib/python3.10/site-packages/jax/_src/dispatch.py:895\u001b[0m, in \u001b[0;36m_execute_compiled\u001b[0;34m(name, compiled, input_handler, output_buffer_counts, result_handler, has_unordered_effects, ordered_effects, kept_var_idx, has_host_callbacks, *args)\u001b[0m\n\u001b[1;32m    893\u001b[0m     runtime_token \u001b[39m=\u001b[39m \u001b[39mNone\u001b[39;00m\n\u001b[1;32m    894\u001b[0m \u001b[39melse\u001b[39;00m:\n\u001b[0;32m--> 895\u001b[0m   out_flat \u001b[39m=\u001b[39m compiled\u001b[39m.\u001b[39;49mexecute(in_flat)\n\u001b[1;32m    896\u001b[0m check_special(name, out_flat)\n\u001b[1;32m    897\u001b[0m out_bufs \u001b[39m=\u001b[39m unflatten(out_flat, output_buffer_counts)\n",
      "\u001b[0;31mXlaRuntimeError\u001b[0m: RESOURCE_EXHAUSTED: Out of memory while trying to allocate 16777216256 bytes.\nBufferAssignment OOM Debugging.\nBufferAssignment stats:\n             parameter allocation:        24B\n              constant allocation:         0B\n        maybe_live_out allocation:    6.25GiB\n     preallocated temp allocation:   15.62GiB\n  preallocated temp fragmentation:         0B (0.00%)\n                 total allocation:   21.88GiB\n              total fragmentation:    3.12GiB (14.29%)\nPeak buffers:\n\tBuffer 1:\n\t\tSize: 6.25GiB\n\t\tOperator: op_name=\"jit(_uniform)/jit(main)/max\" source_file=\"/workspaces/confirmasaurus/confirm/models/binom1d.py\" source_line=24\n\t\tXLA Label: fusion\n\t\tShape: f32[16777216,100]\n\t\t==========================\n\n\tBuffer 2:\n\t\tSize: 3.12GiB\n\t\tOperator: op_name=\"jit(_uniform)/jit(main)/threefry2x32\" source_file=\"/workspaces/confirmasaurus/confirm/models/binom1d.py\" source_line=24\n\t\tXLA Label: custom-call\n\t\tShape: u32[838860800]\n\t\t==========================\n\n\tBuffer 3:\n\t\tSize: 3.12GiB\n\t\tOperator: op_name=\"jit(_uniform)/jit(main)/threefry2x32\" source_file=\"/workspaces/confirmasaurus/confirm/models/binom1d.py\" source_line=24\n\t\tXLA Label: custom-call\n\t\tShape: u32[838860800]\n\t\t==========================\n\n\tBuffer 4:\n\t\tSize: 3.12GiB\n\t\tOperator: op_name=\"jit(_uniform)/jit(main)/slice[start_indices=(838860800,) limit_indices=(1677721600,) strides=None]\" source_file=\"/workspaces/confirmasaurus/confirm/models/binom1d.py\" source_line=24\n\t\tXLA Label: fusion\n\t\tShape: u32[838860800]\n\t\t==========================\n\n\tBuffer 5:\n\t\tSize: 3.12GiB\n\t\tOperator: op_name=\"jit(_uniform)/jit(main)/slice[start_indices=(0,) limit_indices=(838860800,) strides=None]\" source_file=\"/workspaces/confirmasaurus/confirm/models/binom1d.py\" source_line=24\n\t\tXLA Label: fusion\n\t\tShape: u32[838860800]\n\t\t==========================\n\n\tBuffer 6:\n\t\tSize: 3.12GiB\n\t\tOperator: op_name=\"jit(_uniform)/jit(main)/threefry2x32\" source_file=\"/workspaces/confirmasaurus/confirm/models/binom1d.py\" source_line=24\n\t\tXLA Label: fusion\n\t\tShape: u32[838860800]\n\t\t==========================\n\n\tBuffer 7:\n\t\tSize: 16B\n\t\tOperator: op_name=\"jit(_uniform)/jit(main)/threefry2x32\" source_file=\"/workspaces/confirmasaurus/confirm/models/binom1d.py\" source_line=24\n\t\tXLA Label: fusion\n\t\tShape: (u32[838860800], u32[838860800])\n\t\t==========================\n\n\tBuffer 8:\n\t\tSize: 16B\n\t\tOperator: op_name=\"jit(_uniform)/jit(main)/threefry2x32\" source_file=\"/workspaces/confirmasaurus/confirm/models/binom1d.py\" source_line=24\n\t\tXLA Label: custom-call\n\t\tShape: (u32[838860800], u32[838860800])\n\t\t==========================\n\n\tBuffer 9:\n\t\tSize: 8B\n\t\tEntry Parameter Subshape: f64[]\n\t\t==========================\n\n\tBuffer 10:\n\t\tSize: 8B\n\t\tEntry Parameter Subshape: u32[2]\n\t\t==========================\n\n\tBuffer 11:\n\t\tSize: 8B\n\t\tEntry Parameter Subshape: f64[]\n\t\t==========================\n\n"
     ]
    }
   ],
   "source": [
    "g = ip.cartesian_grid(theta_min=[-1], theta_max=[1], null_hypos=[ip.hypo(\"x0 < 0\")])\n",
    "rej_df = ip.validate(Binom1D, g, 0.5, K=2**20, model_kwargs={\"n\": 100})\n",
    "rej_df"
   ]
  },
  {
   "cell_type": "code",
   "execution_count": 15,
   "metadata": {},
   "outputs": [
    {
     "data": {
      "text/html": [
       "<div>\n",
       "<style scoped>\n",
       "    .dataframe tbody tr th:only-of-type {\n",
       "        vertical-align: middle;\n",
       "    }\n",
       "\n",
       "    .dataframe tbody tr th {\n",
       "        vertical-align: top;\n",
       "    }\n",
       "\n",
       "    .dataframe thead th {\n",
       "        text-align: right;\n",
       "    }\n",
       "</style>\n",
       "<table border=\"1\" class=\"dataframe\">\n",
       "  <thead>\n",
       "    <tr style=\"text-align: right;\">\n",
       "      <th></th>\n",
       "      <th>tie_sum</th>\n",
       "      <th>tie_est</th>\n",
       "      <th>tie_cp_bound</th>\n",
       "      <th>tie_bound</th>\n",
       "    </tr>\n",
       "  </thead>\n",
       "  <tbody>\n",
       "    <tr>\n",
       "      <th>0</th>\n",
       "      <td>78</td>\n",
       "      <td>0.004761</td>\n",
       "      <td>0.006168</td>\n",
       "      <td>0.782524</td>\n",
       "    </tr>\n",
       "  </tbody>\n",
       "</table>\n",
       "</div>"
      ],
      "text/plain": [
       "   tie_sum   tie_est  tie_cp_bound  tie_bound\n",
       "0       78  0.004761      0.006168   0.782524"
      ]
     },
     "execution_count": 15,
     "metadata": {},
     "output_type": "execute_result"
    }
   ],
   "source": [
    "rej_df"
   ]
  }
 ],
 "metadata": {
  "kernelspec": {
   "display_name": "Python 3.10.6 ('base')",
   "language": "python",
   "name": "python3"
  },
  "language_info": {
   "codemirror_mode": {
    "name": "ipython",
    "version": 3
   },
   "file_extension": ".py",
   "mimetype": "text/x-python",
   "name": "python",
   "nbconvert_exporter": "python",
   "pygments_lexer": "ipython3",
   "version": "3.10.6"
  },
  "orig_nbformat": 4,
  "vscode": {
   "interpreter": {
    "hash": "d4d1e4263499bec80672ea0156c357c1ee493ec2b1c70f0acce89fc37c4a6abe"
   }
  }
 },
 "nbformat": 4,
 "nbformat_minor": 2
}
