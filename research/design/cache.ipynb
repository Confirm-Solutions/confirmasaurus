{
 "cells": [
  {
   "cell_type": "code",
   "execution_count": 1,
   "metadata": {},
   "outputs": [],
   "source": [
    "from confirm.outlaw.nb_util import setup_nb\n",
    "\n",
    "setup_nb()\n",
    "\n",
    "import io\n",
    "\n",
    "import numpy as np\n",
    "import pandas as pd\n",
    "\n",
    "import confirm.imprint as ip"
   ]
  },
  {
   "cell_type": "code",
   "execution_count": 2,
   "metadata": {},
   "outputs": [],
   "source": [
    "import jax\n",
    "import jax.numpy as jnp\n",
    "\n",
    "\n",
    "@jax.jit\n",
    "def _sim(samples, theta, null_truth):\n",
    "    p = jax.scipy.special.expit(theta)\n",
    "    stats = jnp.sum(samples[None, :] < p[:, None], axis=2) / samples.shape[1]\n",
    "    return jnp.where(\n",
    "        null_truth[:, None, 0],\n",
    "        1 - stats,\n",
    "        jnp.inf,\n",
    "    )\n",
    "\n",
    "\n",
    "def unifs(seed, *, shape, dtype):\n",
    "    return jax.random.uniform(jax.random.PRNGKey(seed), shape=shape, dtype=dtype)\n",
    "\n",
    "\n",
    "class Binom1D:\n",
    "    def __init__(self, cache, seed, max_K, *, n):\n",
    "        self.family = \"binomial\"\n",
    "        self.family_params = {\"n\": n}\n",
    "        self.dtype = jnp.float32\n",
    "\n",
    "        # cache_key = f'samples-{seed}-{max_K}-{n}-{self.dtype}'\n",
    "        # if cache_key in cache:\n",
    "        #     self.samples = cache[cache_key]\n",
    "        # else:\n",
    "        #     key = jax.random.PRNGKey(seed)\n",
    "        #     self.samples = jax.random.uniform(key, shape=(max_K, n), dtype=self.dtype)\n",
    "        #     cache.update({cache_key: self.samples})\n",
    "        #\n",
    "        self.samples = cache(unifs)(seed, shape=(max_K, n), dtype=self.dtype)\n",
    "\n",
    "    def sim_batch(self, begin_sim, end_sim, theta, null_truth, detailed=False):\n",
    "        return _sim(self.samples[begin_sim:end_sim], theta, null_truth)"
   ]
  },
  {
   "cell_type": "code",
   "execution_count": 3,
   "metadata": {},
   "outputs": [],
   "source": [
    "class Cache:\n",
    "    def __init__(self):\n",
    "        self._cache = {}\n",
    "\n",
    "    def __call__(self, func, safety=2, serialize=False):\n",
    "        def wrapper(*args, **kwargs):\n",
    "            key = (func, args, tuple(kwargs.items()))\n",
    "            if key in self._cache:\n",
    "                return self._cache[key]\n",
    "            else:\n",
    "                result = func(*args, **kwargs)\n",
    "                self._cache[key] = result\n",
    "                return result\n",
    "\n",
    "        return wrapper"
   ]
  },
  {
   "cell_type": "code",
   "execution_count": 4,
   "metadata": {},
   "outputs": [],
   "source": [
    "import os\n",
    "import hashlib\n",
    "import confirm\n",
    "\n",
    "\n",
    "def hash_confirm_code():\n",
    "    confirm_path = os.path.dirname(confirm.__file__)\n",
    "    hashes = []\n",
    "    hash_md5 = hashlib.md5()\n",
    "    for path, subdirs, files in os.walk(confirm_path):\n",
    "        for fn in files:\n",
    "            if not fn.endswith(\".py\"):\n",
    "                continue\n",
    "            with open(os.path.join(path, fn), \"rb\") as f:\n",
    "                for chunk in iter(lambda: f.read(4096), b\"\"):\n",
    "                    hash_md5.update(chunk)\n",
    "    hash_md5.hexdigest()"
   ]
  },
  {
   "cell_type": "code",
   "execution_count": 8,
   "metadata": {},
   "outputs": [
    {
     "data": {
      "text/plain": [
       "['../../confirm/lewislib/grid.py',\n",
       " '../../confirm/lewislib/__init__.py',\n",
       " '../../confirm/lewislib/lewis.py',\n",
       " '../../confirm/lewislib/jax_wrappers.py',\n",
       " '../../confirm/lewislib/table.py',\n",
       " '../../confirm/berrylib/util.py',\n",
       " '../../confirm/berrylib/quadrature.py',\n",
       " '../../confirm/berrylib/constants.py',\n",
       " '../../confirm/berrylib/__init__.py',\n",
       " '../../confirm/berrylib/fast_inla.py',\n",
       " '../../confirm/berrylib/dirty_bayes.py',\n",
       " '../../confirm/berrylib/imprint.py',\n",
       " '../../confirm/berrylib/mcmc.py',\n",
       " '../../confirm/berrylib/batch_run.py',\n",
       " '../../confirm/berrylib/fast_math.py',\n",
       " '../../confirm/berrylib/binomial.py',\n",
       " '../../confirm/models/ztest.py',\n",
       " '../../confirm/models/__init__.py',\n",
       " '../../confirm/models/fisher_exact.py',\n",
       " '../../confirm/models/binom1d.py',\n",
       " '../../confirm/outlaw/quad.py',\n",
       " '../../confirm/outlaw/numpyro_interface.py',\n",
       " '../../confirm/outlaw/inla.py',\n",
       " '../../confirm/outlaw/nb_util.py',\n",
       " '../../confirm/outlaw/__init__.py',\n",
       " '../../confirm/outlaw/berry.py',\n",
       " '../../confirm/outlaw/smalljax.py',\n",
       " '../../confirm/outlaw/interp.py',\n",
       " '../../confirm/cloud/clickhouse.py',\n",
       " '../../confirm/cloud/__init__.py',\n",
       " '../../confirm/cloud/awsbatch.py',\n",
       " '../../confirm/cloud/modal_util.py',\n",
       " '../../confirm/bound/multivariate_normal.py',\n",
       " '../../confirm/bound/normal.py',\n",
       " '../../confirm/bound/__init__.py',\n",
       " '../../confirm/bound/binomial.py',\n",
       " '../../confirm/imprint/db.py',\n",
       " '../../confirm/imprint/grid.py',\n",
       " '../../confirm/imprint/batching.py',\n",
       " '../../confirm/imprint/checkpoint.py',\n",
       " '../../confirm/imprint/adagrid.py',\n",
       " '../../confirm/imprint/__init__.py',\n",
       " '../../confirm/imprint/summary.py',\n",
       " '../../confirm/imprint/testing.py',\n",
       " '../../confirm/imprint/driver.py']"
      ]
     },
     "execution_count": 8,
     "metadata": {},
     "output_type": "execute_result"
    }
   ],
   "source": [
    "import glob\n",
    "\n",
    "glob.glob(\"../../confirm/**/*.py\")"
   ]
  },
  {
   "cell_type": "code",
   "execution_count": 4,
   "metadata": {},
   "outputs": [],
   "source": [
    "cache = Cache()"
   ]
  },
  {
   "cell_type": "code",
   "execution_count": 5,
   "metadata": {},
   "outputs": [
    {
     "name": "stdout",
     "output_type": "stream",
     "text": [
      "CPU times: user 97.6 ms, sys: 6.93 ms, total: 105 ms\n",
      "Wall time: 103 ms\n"
     ]
    },
    {
     "data": {
      "text/plain": [
       "DeviceArray([[0.02379167, 0.8527204 , 0.8132185 , 0.5140263 , 0.17172801, 0.8026866 , 0.5124631 ,\n",
       "              0.34838438, 0.50526905, 0.3370521 ],\n",
       "             [0.10868239, 0.10520637, 0.83827364, 0.78986526, 0.34059846, 0.8349273 , 0.24575627,\n",
       "              0.21387374, 0.02423227, 0.5617423 ],\n",
       "             [0.28066766, 0.94366455, 0.61214995, 0.7383388 , 0.52419806, 0.65466726, 0.41012764,\n",
       "              0.24028647, 0.74443066, 0.03544927],\n",
       "             [0.851014  , 0.02434528, 0.47239733, 0.72706807, 0.35055435, 0.6274171 , 0.61077535,\n",
       "              0.06525731, 0.8091929 , 0.21307838],\n",
       "             [0.6465323 , 0.3245015 , 0.5538883 , 0.8849807 , 0.9591211 , 0.83856845, 0.48919427,\n",
       "              0.11810577, 0.16933143, 0.83657074],\n",
       "             [0.587505  , 0.6867087 , 0.95522237, 0.5797727 , 0.28024232, 0.34749162, 0.5199702 ,\n",
       "              0.9811766 , 0.5645981 , 0.2446456 ],\n",
       "             [0.68722725, 0.9616587 , 0.480047  , 0.88953114, 0.7083205 , 0.948612  , 0.67764974,\n",
       "              0.44131804, 0.36789334, 0.95148766],\n",
       "             [0.30909216, 0.70908046, 0.8749926 , 0.60973287, 0.60751855, 0.22647333, 0.5363518 ,\n",
       "              0.96195626, 0.08158326, 0.5266887 ],\n",
       "             [0.85922587, 0.648262  , 0.4657668 , 0.31623375, 0.43507564, 0.48351157, 0.41285944,\n",
       "              0.73501325, 0.15267539, 0.67055714],\n",
       "             [0.08459568, 0.04527426, 0.21078384, 0.4654404 , 0.7363906 , 0.23245859, 0.22119188,\n",
       "              0.99092937, 0.878675  , 0.4102913 ]], dtype=float32)"
      ]
     },
     "execution_count": 5,
     "metadata": {},
     "output_type": "execute_result"
    }
   ],
   "source": [
    "%%time\n",
    "unifs(0, shape=(10, 10), dtype=jnp.float32)"
   ]
  },
  {
   "cell_type": "code",
   "execution_count": 32,
   "metadata": {},
   "outputs": [
    {
     "name": "stdout",
     "output_type": "stream",
     "text": [
      "\n",
      "functions called:\n",
      "filename: /Users/tbent/.mambaforge/envs/confirm/lib/python3.10/abc.py, modulename: abc, funcname: ABCMeta.__instancecheck__\n",
      "filename: /Users/tbent/.mambaforge/envs/confirm/lib/python3.10/collections/__init__.py, modulename: __init__, funcname: _make\n",
      "filename: /Users/tbent/.mambaforge/envs/confirm/lib/python3.10/collections/__init__.py, modulename: __init__, funcname: _replace\n",
      "filename: /Users/tbent/.mambaforge/envs/confirm/lib/python3.10/contextlib.py, modulename: contextlib, funcname: _GeneratorContextManager.__enter__\n",
      "filename: /Users/tbent/.mambaforge/envs/confirm/lib/python3.10/contextlib.py, modulename: contextlib, funcname: _GeneratorContextManager.__exit__\n",
      "filename: /Users/tbent/.mambaforge/envs/confirm/lib/python3.10/contextlib.py, modulename: contextlib, funcname: _GeneratorContextManagerBase.__init__\n",
      "filename: /Users/tbent/.mambaforge/envs/confirm/lib/python3.10/contextlib.py, modulename: contextlib, funcname: helper\n",
      "filename: /Users/tbent/.mambaforge/envs/confirm/lib/python3.10/site-packages/jax/_src/abstract_arrays.py, modulename: abstract_arrays, funcname: make_shaped_array\n",
      "filename: /Users/tbent/.mambaforge/envs/confirm/lib/python3.10/site-packages/jax/_src/api.py, modulename: api, funcname: <genexpr>\n",
      "filename: /Users/tbent/.mambaforge/envs/confirm/lib/python3.10/site-packages/jax/_src/api.py, modulename: api, funcname: <listcomp>\n",
      "filename: /Users/tbent/.mambaforge/envs/confirm/lib/python3.10/site-packages/jax/_src/api.py, modulename: api, funcname: _check_arg\n",
      "filename: /Users/tbent/.mambaforge/envs/confirm/lib/python3.10/site-packages/jax/_src/api.py, modulename: api, funcname: _device_array_use_fast_path\n",
      "filename: /Users/tbent/.mambaforge/envs/confirm/lib/python3.10/site-packages/jax/_src/api.py, modulename: api, funcname: _prepare_jit\n",
      "filename: /Users/tbent/.mambaforge/envs/confirm/lib/python3.10/site-packages/jax/_src/api.py, modulename: api, funcname: _valid_jaxtype\n",
      "filename: /Users/tbent/.mambaforge/envs/confirm/lib/python3.10/site-packages/jax/_src/api.py, modulename: api, funcname: cache_miss\n",
      "filename: /Users/tbent/.mambaforge/envs/confirm/lib/python3.10/site-packages/jax/_src/api_util.py, modulename: api_util, funcname: <dictcomp>\n",
      "filename: /Users/tbent/.mambaforge/envs/confirm/lib/python3.10/site-packages/jax/_src/api_util.py, modulename: api_util, funcname: <genexpr>\n",
      "filename: /Users/tbent/.mambaforge/envs/confirm/lib/python3.10/site-packages/jax/_src/api_util.py, modulename: api_util, funcname: _HashableWithStrictTypeEquality.__eq__\n",
      "filename: /Users/tbent/.mambaforge/envs/confirm/lib/python3.10/site-packages/jax/_src/api_util.py, modulename: api_util, funcname: _HashableWithStrictTypeEquality.__hash__\n",
      "filename: /Users/tbent/.mambaforge/envs/confirm/lib/python3.10/site-packages/jax/_src/api_util.py, modulename: api_util, funcname: _HashableWithStrictTypeEquality.__init__\n",
      "filename: /Users/tbent/.mambaforge/envs/confirm/lib/python3.10/site-packages/jax/_src/api_util.py, modulename: api_util, funcname: _ensure_inbounds\n",
      "filename: /Users/tbent/.mambaforge/envs/confirm/lib/python3.10/site-packages/jax/_src/api_util.py, modulename: api_util, funcname: argnames_partial_except\n",
      "filename: /Users/tbent/.mambaforge/envs/confirm/lib/python3.10/site-packages/jax/_src/api_util.py, modulename: api_util, funcname: argnums_partial_except\n",
      "filename: /Users/tbent/.mambaforge/envs/confirm/lib/python3.10/site-packages/jax/_src/api_util.py, modulename: api_util, funcname: is_hashable\n",
      "filename: /Users/tbent/.mambaforge/envs/confirm/lib/python3.10/site-packages/jax/_src/config.py, modulename: config, funcname: <lambda>\n",
      "filename: /Users/tbent/.mambaforge/envs/confirm/lib/python3.10/site-packages/jax/_src/config.py, modulename: config, funcname: Config._read\n",
      "filename: /Users/tbent/.mambaforge/envs/confirm/lib/python3.10/site-packages/jax/_src/config.py, modulename: config, funcname: Config._trace_context\n",
      "filename: /Users/tbent/.mambaforge/envs/confirm/lib/python3.10/site-packages/jax/_src/config.py, modulename: config, funcname: Config.check_exists\n",
      "filename: /Users/tbent/.mambaforge/envs/confirm/lib/python3.10/site-packages/jax/_src/config.py, modulename: config, funcname: __call__\n",
      "filename: /Users/tbent/.mambaforge/envs/confirm/lib/python3.10/site-packages/jax/_src/config.py, modulename: config, funcname: get_state\n",
      "filename: /Users/tbent/.mambaforge/envs/confirm/lib/python3.10/site-packages/jax/_src/config.py, modulename: config, funcname: update_thread_local_jit_state\n",
      "filename: /Users/tbent/.mambaforge/envs/confirm/lib/python3.10/site-packages/jax/_src/config.py, modulename: config, funcname: validate\n",
      "filename: /Users/tbent/.mambaforge/envs/confirm/lib/python3.10/site-packages/jax/_src/device_array.py, modulename: device_array, funcname: make_device_array\n",
      "filename: /Users/tbent/.mambaforge/envs/confirm/lib/python3.10/site-packages/jax/_src/device_array.py, modulename: device_array, funcname: type_is_device_array\n",
      "filename: /Users/tbent/.mambaforge/envs/confirm/lib/python3.10/site-packages/jax/_src/dispatch.py, modulename: dispatch, funcname: <genexpr>\n",
      "filename: /Users/tbent/.mambaforge/envs/confirm/lib/python3.10/site-packages/jax/_src/dispatch.py, modulename: dispatch, funcname: <lambda>\n",
      "filename: /Users/tbent/.mambaforge/envs/confirm/lib/python3.10/site-packages/jax/_src/dispatch.py, modulename: dispatch, funcname: <listcomp>\n",
      "filename: /Users/tbent/.mambaforge/envs/confirm/lib/python3.10/site-packages/jax/_src/dispatch.py, modulename: dispatch, funcname: SimpleResultHandler.__call__\n",
      "filename: /Users/tbent/.mambaforge/envs/confirm/lib/python3.10/site-packages/jax/_src/dispatch.py, modulename: dispatch, funcname: SimpleResultHandler.__iter__\n",
      "filename: /Users/tbent/.mambaforge/envs/confirm/lib/python3.10/site-packages/jax/_src/dispatch.py, modulename: dispatch, funcname: SimpleResultHandler.__len__\n",
      "filename: /Users/tbent/.mambaforge/envs/confirm/lib/python3.10/site-packages/jax/_src/dispatch.py, modulename: dispatch, funcname: _copy_device_array_to_device\n",
      "filename: /Users/tbent/.mambaforge/envs/confirm/lib/python3.10/site-packages/jax/_src/dispatch.py, modulename: dispatch, funcname: _device_put_array\n",
      "filename: /Users/tbent/.mambaforge/envs/confirm/lib/python3.10/site-packages/jax/_src/dispatch.py, modulename: dispatch, funcname: _device_put_device_array\n",
      "filename: /Users/tbent/.mambaforge/envs/confirm/lib/python3.10/site-packages/jax/_src/dispatch.py, modulename: dispatch, funcname: _execute_compiled\n",
      "filename: /Users/tbent/.mambaforge/envs/confirm/lib/python3.10/site-packages/jax/_src/dispatch.py, modulename: dispatch, funcname: _execute_trivial\n",
      "filename: /Users/tbent/.mambaforge/envs/confirm/lib/python3.10/site-packages/jax/_src/dispatch.py, modulename: dispatch, funcname: _xla_call_impl_lazy\n",
      "filename: /Users/tbent/.mambaforge/envs/confirm/lib/python3.10/site-packages/jax/_src/dispatch.py, modulename: dispatch, funcname: apply_primitive\n",
      "filename: /Users/tbent/.mambaforge/envs/confirm/lib/python3.10/site-packages/jax/_src/dispatch.py, modulename: dispatch, funcname: arg_spec\n",
      "filename: /Users/tbent/.mambaforge/envs/confirm/lib/python3.10/site-packages/jax/_src/dispatch.py, modulename: dispatch, funcname: check_special\n",
      "filename: /Users/tbent/.mambaforge/envs/confirm/lib/python3.10/site-packages/jax/_src/dispatch.py, modulename: dispatch, funcname: device_put\n",
      "filename: /Users/tbent/.mambaforge/envs/confirm/lib/python3.10/site-packages/jax/_src/dispatch.py, modulename: dispatch, funcname: maybe_create_array_from_da\n",
      "filename: /Users/tbent/.mambaforge/envs/confirm/lib/python3.10/site-packages/jax/_src/dispatch.py, modulename: dispatch, funcname: needs_check_special\n",
      "filename: /Users/tbent/.mambaforge/envs/confirm/lib/python3.10/site-packages/jax/_src/dtypes.py, modulename: dtypes, funcname: <genexpr>\n",
      "filename: /Users/tbent/.mambaforge/envs/confirm/lib/python3.10/site-packages/jax/_src/dtypes.py, modulename: dtypes, funcname: _dtype_and_weaktype\n",
      "filename: /Users/tbent/.mambaforge/envs/confirm/lib/python3.10/site-packages/jax/_src/dtypes.py, modulename: dtypes, funcname: _issubclass\n",
      "filename: /Users/tbent/.mambaforge/envs/confirm/lib/python3.10/site-packages/jax/_src/dtypes.py, modulename: dtypes, funcname: _lattice_result_type\n",
      "filename: /Users/tbent/.mambaforge/envs/confirm/lib/python3.10/site-packages/jax/_src/dtypes.py, modulename: dtypes, funcname: _scalar_type_to_dtype\n",
      "filename: /Users/tbent/.mambaforge/envs/confirm/lib/python3.10/site-packages/jax/_src/dtypes.py, modulename: dtypes, funcname: canonicalize_dtype\n",
      "filename: /Users/tbent/.mambaforge/envs/confirm/lib/python3.10/site-packages/jax/_src/dtypes.py, modulename: dtypes, funcname: dtype\n",
      "filename: /Users/tbent/.mambaforge/envs/confirm/lib/python3.10/site-packages/jax/_src/dtypes.py, modulename: dtypes, funcname: is_python_scalar\n",
      "filename: /Users/tbent/.mambaforge/envs/confirm/lib/python3.10/site-packages/jax/_src/dtypes.py, modulename: dtypes, funcname: is_weakly_typed\n",
      "filename: /Users/tbent/.mambaforge/envs/confirm/lib/python3.10/site-packages/jax/_src/dtypes.py, modulename: dtypes, funcname: issubdtype\n",
      "filename: /Users/tbent/.mambaforge/envs/confirm/lib/python3.10/site-packages/jax/_src/dtypes.py, modulename: dtypes, funcname: result_type\n",
      "filename: /Users/tbent/.mambaforge/envs/confirm/lib/python3.10/site-packages/jax/_src/lax/lax.py, modulename: lax, funcname: _check_user_dtype_supported\n",
      "filename: /Users/tbent/.mambaforge/envs/confirm/lib/python3.10/site-packages/jax/_src/lax/lax.py, modulename: lax, funcname: _const\n",
      "filename: /Users/tbent/.mambaforge/envs/confirm/lib/python3.10/site-packages/jax/_src/lax/lax.py, modulename: lax, funcname: _convert_element_type\n",
      "filename: /Users/tbent/.mambaforge/envs/confirm/lib/python3.10/site-packages/jax/_src/lax/lax.py, modulename: lax, funcname: _extract_tracers_dyn_shape\n",
      "filename: /Users/tbent/.mambaforge/envs/confirm/lib/python3.10/site-packages/jax/_src/lax/lax.py, modulename: lax, funcname: _is_array_or_tracer\n",
      "filename: /Users/tbent/.mambaforge/envs/confirm/lib/python3.10/site-packages/jax/_src/lax/lax.py, modulename: lax, funcname: concatenate\n",
      "filename: /Users/tbent/.mambaforge/envs/confirm/lib/python3.10/site-packages/jax/_src/lax/lax.py, modulename: lax, funcname: convert_element_type\n",
      "filename: /Users/tbent/.mambaforge/envs/confirm/lib/python3.10/site-packages/jax/_src/lax/lax.py, modulename: lax, funcname: reshape\n",
      "filename: /Users/tbent/.mambaforge/envs/confirm/lib/python3.10/site-packages/jax/_src/lax/lax.py, modulename: lax, funcname: shift_right_logical\n",
      "filename: /Users/tbent/.mambaforge/envs/confirm/lib/python3.10/site-packages/jax/_src/lib/xla_bridge.py, modulename: xla_bridge, funcname: get_device_backend\n",
      "filename: /Users/tbent/.mambaforge/envs/confirm/lib/python3.10/site-packages/jax/_src/numpy/lax_numpy.py, modulename: lax_numpy, funcname: <genexpr>\n",
      "filename: /Users/tbent/.mambaforge/envs/confirm/lib/python3.10/site-packages/jax/_src/numpy/lax_numpy.py, modulename: lax_numpy, funcname: <lambda>\n",
      "filename: /Users/tbent/.mambaforge/envs/confirm/lib/python3.10/site-packages/jax/_src/numpy/lax_numpy.py, modulename: lax_numpy, funcname: _ScalarMeta.__eq__\n",
      "filename: /Users/tbent/.mambaforge/envs/confirm/lib/python3.10/site-packages/jax/_src/numpy/lax_numpy.py, modulename: lax_numpy, funcname: _ScalarMeta.__hash__\n",
      "filename: /Users/tbent/.mambaforge/envs/confirm/lib/python3.10/site-packages/jax/_src/numpy/lax_numpy.py, modulename: lax_numpy, funcname: array\n",
      "filename: /Users/tbent/.mambaforge/envs/confirm/lib/python3.10/site-packages/jax/_src/numpy/lax_numpy.py, modulename: lax_numpy, funcname: asarray\n",
      "filename: /Users/tbent/.mambaforge/envs/confirm/lib/python3.10/site-packages/jax/_src/numpy/util.py, modulename: util, funcname: _arraylike\n",
      "filename: /Users/tbent/.mambaforge/envs/confirm/lib/python3.10/site-packages/jax/_src/prng.py, modulename: prng, funcname: <genexpr>\n",
      "filename: /Users/tbent/.mambaforge/envs/confirm/lib/python3.10/site-packages/jax/_src/prng.py, modulename: prng, funcname: <lambda>\n",
      "filename: /Users/tbent/.mambaforge/envs/confirm/lib/python3.10/site-packages/jax/_src/prng.py, modulename: prng, funcname: KeyTy.__eq__\n",
      "filename: /Users/tbent/.mambaforge/envs/confirm/lib/python3.10/site-packages/jax/_src/prng.py, modulename: prng, funcname: KeyTy.__hash__\n",
      "filename: /Users/tbent/.mambaforge/envs/confirm/lib/python3.10/site-packages/jax/_src/prng.py, modulename: prng, funcname: KeyTy.__init__\n",
      "filename: /Users/tbent/.mambaforge/envs/confirm/lib/python3.10/site-packages/jax/_src/prng.py, modulename: prng, funcname: PRNGImpl.__hash__\n",
      "filename: /Users/tbent/.mambaforge/envs/confirm/lib/python3.10/site-packages/jax/_src/prng.py, modulename: prng, funcname: PRNGKeyArray.__init__\n",
      "filename: /Users/tbent/.mambaforge/envs/confirm/lib/python3.10/site-packages/jax/_src/prng.py, modulename: prng, funcname: PRNGKeyArray.unsafe_raw_array\n",
      "filename: /Users/tbent/.mambaforge/envs/confirm/lib/python3.10/site-packages/jax/_src/prng.py, modulename: prng, funcname: PRNGKeyArrayMeta.__instancecheck__\n",
      "filename: /Users/tbent/.mambaforge/envs/confirm/lib/python3.10/site-packages/jax/_src/prng.py, modulename: prng, funcname: _check_prng_key_data\n",
      "filename: /Users/tbent/.mambaforge/envs/confirm/lib/python3.10/site-packages/jax/_src/prng.py, modulename: prng, funcname: base_arr_shape_to_keys_shape\n",
      "filename: /Users/tbent/.mambaforge/envs/confirm/lib/python3.10/site-packages/jax/_src/prng.py, modulename: prng, funcname: device_put_key_array\n",
      "filename: /Users/tbent/.mambaforge/envs/confirm/lib/python3.10/site-packages/jax/_src/prng.py, modulename: prng, funcname: iterated_vmap_unary\n",
      "filename: /Users/tbent/.mambaforge/envs/confirm/lib/python3.10/site-packages/jax/_src/prng.py, modulename: prng, funcname: keys_shaped_array\n",
      "filename: /Users/tbent/.mambaforge/envs/confirm/lib/python3.10/site-packages/jax/_src/prng.py, modulename: prng, funcname: random_seed\n",
      "filename: /Users/tbent/.mambaforge/envs/confirm/lib/python3.10/site-packages/jax/_src/prng.py, modulename: prng, funcname: random_seed_impl\n",
      "filename: /Users/tbent/.mambaforge/envs/confirm/lib/python3.10/site-packages/jax/_src/prng.py, modulename: prng, funcname: random_seed_impl_base\n",
      "filename: /Users/tbent/.mambaforge/envs/confirm/lib/python3.10/site-packages/jax/_src/prng.py, modulename: prng, funcname: random_unwrap\n",
      "filename: /Users/tbent/.mambaforge/envs/confirm/lib/python3.10/site-packages/jax/_src/prng.py, modulename: prng, funcname: random_unwrap_impl\n",
      "filename: /Users/tbent/.mambaforge/envs/confirm/lib/python3.10/site-packages/jax/_src/prng.py, modulename: prng, funcname: random_wrap\n",
      "filename: /Users/tbent/.mambaforge/envs/confirm/lib/python3.10/site-packages/jax/_src/prng.py, modulename: prng, funcname: random_wrap_impl\n",
      "filename: /Users/tbent/.mambaforge/envs/confirm/lib/python3.10/site-packages/jax/_src/prng.py, modulename: prng, funcname: seed_with_impl\n",
      "filename: /Users/tbent/.mambaforge/envs/confirm/lib/python3.10/site-packages/jax/_src/prng.py, modulename: prng, funcname: shape\n",
      "filename: /Users/tbent/.mambaforge/envs/confirm/lib/python3.10/site-packages/jax/_src/prng.py, modulename: prng, funcname: threefry_seed\n",
      "filename: /Users/tbent/.mambaforge/envs/confirm/lib/python3.10/site-packages/jax/_src/random.py, modulename: random, funcname: PRNGKey\n",
      "filename: /Users/tbent/.mambaforge/envs/confirm/lib/python3.10/site-packages/jax/_src/random.py, modulename: random, funcname: _check_prng_key\n",
      "filename: /Users/tbent/.mambaforge/envs/confirm/lib/python3.10/site-packages/jax/_src/random.py, modulename: random, funcname: _return_prng_keys\n",
      "filename: /Users/tbent/.mambaforge/envs/confirm/lib/python3.10/site-packages/jax/_src/random.py, modulename: random, funcname: default_prng_impl\n",
      "filename: /Users/tbent/.mambaforge/envs/confirm/lib/python3.10/site-packages/jax/_src/random.py, modulename: random, funcname: uniform\n",
      "filename: /Users/tbent/.mambaforge/envs/confirm/lib/python3.10/site-packages/jax/_src/traceback_util.py, modulename: traceback_util, funcname: reraise_with_filtered_traceback\n",
      "filename: /Users/tbent/.mambaforge/envs/confirm/lib/python3.10/site-packages/jax/_src/tree_util.py, modulename: tree_util, funcname: <genexpr>\n",
      "filename: /Users/tbent/.mambaforge/envs/confirm/lib/python3.10/site-packages/jax/_src/tree_util.py, modulename: tree_util, funcname: <listcomp>\n",
      "filename: /Users/tbent/.mambaforge/envs/confirm/lib/python3.10/site-packages/jax/_src/tree_util.py, modulename: tree_util, funcname: tree_flatten\n",
      "filename: /Users/tbent/.mambaforge/envs/confirm/lib/python3.10/site-packages/jax/_src/tree_util.py, modulename: tree_util, funcname: tree_leaves\n",
      "filename: /Users/tbent/.mambaforge/envs/confirm/lib/python3.10/site-packages/jax/_src/tree_util.py, modulename: tree_util, funcname: tree_map\n",
      "filename: /Users/tbent/.mambaforge/envs/confirm/lib/python3.10/site-packages/jax/_src/tree_util.py, modulename: tree_util, funcname: tree_unflatten\n",
      "filename: /Users/tbent/.mambaforge/envs/confirm/lib/python3.10/site-packages/jax/_src/util.py, modulename: util, funcname: <genexpr>\n",
      "filename: /Users/tbent/.mambaforge/envs/confirm/lib/python3.10/site-packages/jax/_src/util.py, modulename: util, funcname: <listcomp>\n",
      "filename: /Users/tbent/.mambaforge/envs/confirm/lib/python3.10/site-packages/jax/_src/util.py, modulename: util, funcname: WrapKwArgs.__eq__\n",
      "filename: /Users/tbent/.mambaforge/envs/confirm/lib/python3.10/site-packages/jax/_src/util.py, modulename: util, funcname: WrapKwArgs.__hash__\n",
      "filename: /Users/tbent/.mambaforge/envs/confirm/lib/python3.10/site-packages/jax/_src/util.py, modulename: util, funcname: WrapKwArgs.__init__\n",
      "filename: /Users/tbent/.mambaforge/envs/confirm/lib/python3.10/site-packages/jax/_src/util.py, modulename: util, funcname: concatenate\n",
      "filename: /Users/tbent/.mambaforge/envs/confirm/lib/python3.10/site-packages/jax/_src/util.py, modulename: util, funcname: safe_map\n",
      "filename: /Users/tbent/.mambaforge/envs/confirm/lib/python3.10/site-packages/jax/_src/util.py, modulename: util, funcname: safe_zip\n",
      "filename: /Users/tbent/.mambaforge/envs/confirm/lib/python3.10/site-packages/jax/_src/util.py, modulename: util, funcname: unflatten\n",
      "filename: /Users/tbent/.mambaforge/envs/confirm/lib/python3.10/site-packages/jax/_src/util.py, modulename: util, funcname: wrapper\n",
      "filename: /Users/tbent/.mambaforge/envs/confirm/lib/python3.10/site-packages/jax/core.py, modulename: core, funcname: <genexpr>\n",
      "filename: /Users/tbent/.mambaforge/envs/confirm/lib/python3.10/site-packages/jax/core.py, modulename: core, funcname: EvalTrace.process_primitive\n",
      "filename: /Users/tbent/.mambaforge/envs/confirm/lib/python3.10/site-packages/jax/core.py, modulename: core, funcname: EvalTrace.pure\n",
      "filename: /Users/tbent/.mambaforge/envs/confirm/lib/python3.10/site-packages/jax/core.py, modulename: core, funcname: MainTrace.__hash__\n",
      "filename: /Users/tbent/.mambaforge/envs/confirm/lib/python3.10/site-packages/jax/core.py, modulename: core, funcname: MainTrace.with_cur_sublevel\n",
      "filename: /Users/tbent/.mambaforge/envs/confirm/lib/python3.10/site-packages/jax/core.py, modulename: core, funcname: NamedShape.__eq__\n",
      "filename: /Users/tbent/.mambaforge/envs/confirm/lib/python3.10/site-packages/jax/core.py, modulename: core, funcname: NamedShape.__hash__\n",
      "filename: /Users/tbent/.mambaforge/envs/confirm/lib/python3.10/site-packages/jax/core.py, modulename: core, funcname: NamedShape.__init__\n",
      "filename: /Users/tbent/.mambaforge/envs/confirm/lib/python3.10/site-packages/jax/core.py, modulename: core, funcname: Primitive.bind\n",
      "filename: /Users/tbent/.mambaforge/envs/confirm/lib/python3.10/site-packages/jax/core.py, modulename: core, funcname: Primitive.bind_with_trace\n",
      "filename: /Users/tbent/.mambaforge/envs/confirm/lib/python3.10/site-packages/jax/core.py, modulename: core, funcname: ShapedArray.__eq__\n",
      "filename: /Users/tbent/.mambaforge/envs/confirm/lib/python3.10/site-packages/jax/core.py, modulename: core, funcname: ShapedArray.__hash__\n",
      "filename: /Users/tbent/.mambaforge/envs/confirm/lib/python3.10/site-packages/jax/core.py, modulename: core, funcname: ShapedArray.__init__\n",
      "filename: /Users/tbent/.mambaforge/envs/confirm/lib/python3.10/site-packages/jax/core.py, modulename: core, funcname: Trace.__init__\n",
      "filename: /Users/tbent/.mambaforge/envs/confirm/lib/python3.10/site-packages/jax/core.py, modulename: core, funcname: Trace.full_raise\n",
      "filename: /Users/tbent/.mambaforge/envs/confirm/lib/python3.10/site-packages/jax/core.py, modulename: core, funcname: _canonicalize_dimension\n",
      "filename: /Users/tbent/.mambaforge/envs/confirm/lib/python3.10/site-packages/jax/core.py, modulename: core, funcname: _dtype_object\n",
      "filename: /Users/tbent/.mambaforge/envs/confirm/lib/python3.10/site-packages/jax/core.py, modulename: core, funcname: _get_special_dim_handler\n",
      "filename: /Users/tbent/.mambaforge/envs/confirm/lib/python3.10/site-packages/jax/core.py, modulename: core, funcname: apply_todos\n",
      "filename: /Users/tbent/.mambaforge/envs/confirm/lib/python3.10/site-packages/jax/core.py, modulename: core, funcname: as_named_shape\n",
      "filename: /Users/tbent/.mambaforge/envs/confirm/lib/python3.10/site-packages/jax/core.py, modulename: core, funcname: call_bind_continuation\n",
      "filename: /Users/tbent/.mambaforge/envs/confirm/lib/python3.10/site-packages/jax/core.py, modulename: core, funcname: call_bind_with_continuation\n",
      "filename: /Users/tbent/.mambaforge/envs/confirm/lib/python3.10/site-packages/jax/core.py, modulename: core, funcname: canonicalize_shape\n",
      "filename: /Users/tbent/.mambaforge/envs/confirm/lib/python3.10/site-packages/jax/core.py, modulename: core, funcname: cur_sublevel\n",
      "filename: /Users/tbent/.mambaforge/envs/confirm/lib/python3.10/site-packages/jax/core.py, modulename: core, funcname: find_top_trace\n",
      "filename: /Users/tbent/.mambaforge/envs/confirm/lib/python3.10/site-packages/jax/core.py, modulename: core, funcname: full_lower\n",
      "filename: /Users/tbent/.mambaforge/envs/confirm/lib/python3.10/site-packages/jax/core.py, modulename: core, funcname: is_opaque_dtype\n",
      "filename: /Users/tbent/.mambaforge/envs/confirm/lib/python3.10/site-packages/jax/core.py, modulename: core, funcname: is_special_dim_size\n",
      "filename: /Users/tbent/.mambaforge/envs/confirm/lib/python3.10/site-packages/jax/core.py, modulename: core, funcname: symbolic_equal_shape\n",
      "filename: /Users/tbent/.mambaforge/envs/confirm/lib/python3.10/site-packages/jax/interpreters/xla.py, modulename: xla, funcname: _canonicalize_ndarray_dtype\n",
      "filename: /Users/tbent/.mambaforge/envs/confirm/lib/python3.10/site-packages/jax/interpreters/xla.py, modulename: xla, funcname: _canonicalize_python_scalar_dtype\n",
      "filename: /Users/tbent/.mambaforge/envs/confirm/lib/python3.10/site-packages/jax/interpreters/xla.py, modulename: xla, funcname: _make_abstract_python_scalar\n",
      "filename: /Users/tbent/.mambaforge/envs/confirm/lib/python3.10/site-packages/jax/interpreters/xla.py, modulename: xla, funcname: abstractify\n",
      "filename: /Users/tbent/.mambaforge/envs/confirm/lib/python3.10/site-packages/jax/interpreters/xla.py, modulename: xla, funcname: canonicalize_dtype\n",
      "filename: /Users/tbent/.mambaforge/envs/confirm/lib/python3.10/site-packages/jax/interpreters/xla.py, modulename: xla, funcname: identity\n",
      "filename: /Users/tbent/.mambaforge/envs/confirm/lib/python3.10/site-packages/jax/linear_util.py, modulename: linear_util, funcname: <lambda>\n",
      "filename: /Users/tbent/.mambaforge/envs/confirm/lib/python3.10/site-packages/jax/linear_util.py, modulename: linear_util, funcname: Store.__init__\n",
      "filename: /Users/tbent/.mambaforge/envs/confirm/lib/python3.10/site-packages/jax/linear_util.py, modulename: linear_util, funcname: Store.__nonzero__\n",
      "filename: /Users/tbent/.mambaforge/envs/confirm/lib/python3.10/site-packages/jax/linear_util.py, modulename: linear_util, funcname: Store.store\n",
      "filename: /Users/tbent/.mambaforge/envs/confirm/lib/python3.10/site-packages/jax/linear_util.py, modulename: linear_util, funcname: WrappedFun.__init__\n",
      "filename: /Users/tbent/.mambaforge/envs/confirm/lib/python3.10/site-packages/jax/linear_util.py, modulename: linear_util, funcname: WrappedFun.populate_stores\n",
      "filename: /Users/tbent/.mambaforge/envs/confirm/lib/python3.10/site-packages/jax/linear_util.py, modulename: linear_util, funcname: WrappedFun.wrap\n",
      "filename: /Users/tbent/.mambaforge/envs/confirm/lib/python3.10/site-packages/jax/linear_util.py, modulename: linear_util, funcname: __name__\n",
      "filename: /Users/tbent/.mambaforge/envs/confirm/lib/python3.10/site-packages/jax/linear_util.py, modulename: linear_util, funcname: annotate\n",
      "filename: /Users/tbent/.mambaforge/envs/confirm/lib/python3.10/site-packages/jax/linear_util.py, modulename: linear_util, funcname: memoized_fun\n",
      "filename: /Users/tbent/.mambaforge/envs/confirm/lib/python3.10/site-packages/jax/linear_util.py, modulename: linear_util, funcname: transformation\n",
      "filename: /Users/tbent/.mambaforge/envs/confirm/lib/python3.10/site-packages/jax/linear_util.py, modulename: linear_util, funcname: transformation_with_aux\n",
      "filename: /Users/tbent/.mambaforge/envs/confirm/lib/python3.10/site-packages/jax/linear_util.py, modulename: linear_util, funcname: val\n",
      "filename: /Users/tbent/.mambaforge/envs/confirm/lib/python3.10/site-packages/jax/linear_util.py, modulename: linear_util, funcname: wrap_init\n",
      "filename: /Users/tbent/.mambaforge/envs/confirm/lib/python3.10/site-packages/numpy/core/fromnumeric.py, modulename: fromnumeric, funcname: _ndim_dispatcher\n",
      "filename: /Users/tbent/.mambaforge/envs/confirm/lib/python3.10/site-packages/numpy/core/fromnumeric.py, modulename: fromnumeric, funcname: _shape_dispatcher\n",
      "filename: /Users/tbent/.mambaforge/envs/confirm/lib/python3.10/site-packages/numpy/core/fromnumeric.py, modulename: fromnumeric, funcname: ndim\n",
      "filename: /Users/tbent/.mambaforge/envs/confirm/lib/python3.10/site-packages/numpy/core/fromnumeric.py, modulename: fromnumeric, funcname: shape\n",
      "filename: /Users/tbent/.mambaforge/envs/confirm/lib/python3.10/site-packages/numpy/core/multiarray.py, modulename: multiarray, funcname: result_type\n",
      "filename: /Users/tbent/.mambaforge/envs/confirm/lib/python3.10/site-packages/numpy/core/numerictypes.py, modulename: numerictypes, funcname: issubclass_\n",
      "filename: /Users/tbent/.mambaforge/envs/confirm/lib/python3.10/site-packages/numpy/core/numerictypes.py, modulename: numerictypes, funcname: issubdtype\n",
      "filename: /Users/tbent/.mambaforge/envs/confirm/lib/python3.10/weakref.py, modulename: weakref, funcname: WeakKeyDictionary.setdefault\n",
      "filename: /var/folders/mt/cmys2v_143q1kpcrdt5wcdyr0000gn/T/ipykernel_7182/681693092.py, modulename: 681693092, funcname: unifs\n",
      "filename: <__array_function__ internals>, modulename: <__array_function__ internals>, funcname: ndim\n",
      "filename: <__array_function__ internals>, modulename: <__array_function__ internals>, funcname: result_type\n",
      "filename: <__array_function__ internals>, modulename: <__array_function__ internals>, funcname: shape\n",
      "filename: <frozen importlib._bootstrap>, modulename: <frozen importlib, funcname: _handle_fromlist\n",
      "filename: <string>, modulename: <string>, funcname: <lambda>\n"
     ]
    }
   ],
   "source": [
    "t.results().write_results(coverdir=\".\")"
   ]
  },
  {
   "cell_type": "code",
   "execution_count": 27,
   "metadata": {},
   "outputs": [
    {
     "name": "stdout",
     "output_type": "stream",
     "text": [
      "197 ms ± 4.66 ms per loop (mean ± std. dev. of 7 runs, 10 loops each)\n"
     ]
    }
   ],
   "source": [
    "%%timeit\n",
    "model = Binom1D(cache, 0, 1000000, n=100)"
   ]
  },
  {
   "cell_type": "code",
   "execution_count": 7,
   "metadata": {},
   "outputs": [
    {
     "data": {
      "text/plain": [
       "{(<function __main__.unifs(seed, *, shape, dtype)>,\n",
       "  (0,),\n",
       "  (('shape', (100, 1000)),\n",
       "   ('dtype',\n",
       "    jax.numpy.float32))): DeviceArray([[0.28537035, 0.32794476, 0.7018368 , 0.99795973, 0.80373716, 0.8437431 , 0.18751788,\n",
       "               0.5537597 , 0.35716057, 0.633845  , ..., 0.9791453 , 0.98088837, 0.15622127,\n",
       "               0.6792512 , 0.9664891 , 0.65000224, 0.5286546 , 0.06554615, 0.6344644 , 0.16242659],\n",
       "              [0.60463357, 0.6501305 , 0.34219182, 0.62337744, 0.5855551 , 0.823779  , 0.17784536,\n",
       "               0.37527883, 0.46417534, 0.9261869 , ..., 0.53743875, 0.526199  , 0.73024786,\n",
       "               0.64630795, 0.3048563 , 0.8993064 , 0.27745914, 0.583395  , 0.1201272 , 0.26367867],\n",
       "              [0.5007554 , 0.5009476 , 0.45099878, 0.18468988, 0.15988815, 0.35168993, 0.7108166 ,\n",
       "               0.85837865, 0.76702344, 0.06741774, ..., 0.6344186 , 0.5593307 , 0.5593804 ,\n",
       "               0.76436687, 0.85874534, 0.10786879, 0.9393954 , 0.5567074 , 0.04266787, 0.17117405],\n",
       "              [0.04014063, 0.87674654, 0.47790706, 0.57700217, 0.9383495 , 0.37293875, 0.7544184 ,\n",
       "               0.55129206, 0.63464   , 0.23961616, ..., 0.738238  , 0.7518196 , 0.32381988,\n",
       "               0.8753948 , 0.9878744 , 0.15827453, 0.18071556, 0.3379439 , 0.31743455, 0.6519761 ],\n",
       "              [0.83354115, 0.7098813 , 0.38051057, 0.52838993, 0.63657165, 0.5136621 , 0.5567621 ,\n",
       "               0.37913525, 0.9480083 , 0.16215229, ..., 0.44590497, 0.51646304, 0.8879105 ,\n",
       "               0.23678815, 0.29465246, 0.7919055 , 0.25695074, 0.3031292 , 0.09693432, 0.3252524 ],\n",
       "              [0.06397295, 0.5250038 , 0.610131  , 0.19639301, 0.20066333, 0.33290267, 0.9968786 ,\n",
       "               0.5613632 , 0.14944589, 0.70378935, ..., 0.7301723 , 0.6908972 , 0.5736991 ,\n",
       "               0.8887404 , 0.9190959 , 0.8692963 , 0.48261595, 0.61798406, 0.55575097, 0.95885706],\n",
       "              [0.82230616, 0.9100987 , 0.0160048 , 0.02491546, 0.10400033, 0.79647636, 0.28333688,\n",
       "               0.37161255, 0.73303914, 0.8209045 , ..., 0.3759917 , 0.5362271 , 0.91927576,\n",
       "               0.01718402, 0.49179983, 0.31302464, 0.65923846, 0.52055025, 0.05454743, 0.6419436 ],\n",
       "              [0.92657316, 0.25083196, 0.5356957 , 0.16748989, 0.8925228 , 0.51686096, 0.88741004,\n",
       "               0.29088616, 0.94852066, 0.5722418 , ..., 0.00568879, 0.7568706 , 0.31025386,\n",
       "               0.27328074, 0.39216113, 0.8302897 , 0.36379445, 0.01297009, 0.08013856, 0.04150236],\n",
       "              [0.9439101 , 0.6413573 , 0.36556196, 0.47019243, 0.28264785, 0.23561394, 0.9731585 ,\n",
       "               0.2839533 , 0.8888079 , 0.46374285, ..., 0.27496386, 0.77376246, 0.5968838 ,\n",
       "               0.9360695 , 0.24800456, 0.13802981, 0.36662745, 0.5153338 , 0.04749453, 0.8698307 ],\n",
       "              [0.7070497 , 0.3802241 , 0.41768885, 0.5785208 , 0.40866315, 0.9258616 , 0.48414826,\n",
       "               0.84527445, 0.8773725 , 0.9290507 , ..., 0.76653314, 0.00213671, 0.9820876 ,\n",
       "               0.0228616 , 0.5462476 , 0.93948734, 0.7173593 , 0.5267681 , 0.97293615, 0.01989698],\n",
       "              ...,\n",
       "              [0.33290613, 0.7980999 , 0.28485882, 0.40456617, 0.35132468, 0.06739116, 0.46486747,\n",
       "               0.21609592, 0.7551931 , 0.18703425, ..., 0.32261896, 0.91627896, 0.36194038,\n",
       "               0.99238217, 0.22538733, 0.95333505, 0.33862996, 0.8505877 , 0.5274141 , 0.1826514 ],\n",
       "              [0.4024917 , 0.17470872, 0.38298106, 0.32912767, 0.82944   , 0.6909412 , 0.6747229 ,\n",
       "               0.4429356 , 0.7583164 , 0.82689536, ..., 0.5403185 , 0.33302653, 0.4502802 ,\n",
       "               0.17602897, 0.8871434 , 0.12282455, 0.46989655, 0.435848  , 0.7046269 , 0.56765854],\n",
       "              [0.55649745, 0.08409965, 0.23583639, 0.78590167, 0.5805353 , 0.796926  , 0.18004537,\n",
       "               0.92850983, 0.11158347, 0.8285122 , ..., 0.3363483 , 0.8067672 , 0.8993341 ,\n",
       "               0.06820929, 0.13022208, 0.7427659 , 0.50984776, 0.6830509 , 0.4291004 , 0.5725641 ],\n",
       "              [0.03758609, 0.92097163, 0.16747117, 0.18155038, 0.08204997, 0.9761621 , 0.32668424,\n",
       "               0.26686358, 0.40422618, 0.7668567 , ..., 0.0702095 , 0.44709122, 0.41048968,\n",
       "               0.8431926 , 0.9093263 , 0.48308384, 0.55227625, 0.41829872, 0.17786252, 0.69033146],\n",
       "              [0.20902932, 0.19726789, 0.80229664, 0.59691167, 0.29711127, 0.08713973, 0.4569254 ,\n",
       "               0.45218933, 0.7184707 , 0.23915958, ..., 0.22218132, 0.17966795, 0.82592416,\n",
       "               0.7486416 , 0.16452408, 0.1840421 , 0.05434966, 0.38372493, 0.6808914 , 0.59350157],\n",
       "              [0.94776356, 0.7710366 , 0.43394554, 0.10679376, 0.92714405, 0.1559918 , 0.7114538 ,\n",
       "               0.9292128 , 0.37789178, 0.7689835 , ..., 0.42140293, 0.23306131, 0.71623564,\n",
       "               0.8408886 , 0.72603846, 0.19161272, 0.39216673, 0.7434474 , 0.60456955, 0.707983  ],\n",
       "              [0.5491327 , 0.70179796, 0.14773095, 0.63037   , 0.4478147 , 0.95214045, 0.02786994,\n",
       "               0.60626113, 0.09732378, 0.06792939, ..., 0.45928478, 0.9758656 , 0.6329819 ,\n",
       "               0.09790945, 0.52732563, 0.14182079, 0.4772427 , 0.6836374 , 0.9980396 , 0.9707968 ],\n",
       "              [0.7101989 , 0.9022604 , 0.4549737 , 0.99228525, 0.16036868, 0.95349455, 0.3627721 ,\n",
       "               0.56911623, 0.4233396 , 0.70477474, ..., 0.4699757 , 0.15963042, 0.8122469 ,\n",
       "               0.98095965, 0.2690848 , 0.64229715, 0.3429165 , 0.34221184, 0.9865103 , 0.02397001],\n",
       "              [0.6144519 , 0.74366343, 0.20674014, 0.6826552 , 0.32241082, 0.14713109, 0.54166734,\n",
       "               0.9017025 , 0.1569457 , 0.44440377, ..., 0.27109492, 0.03811455, 0.69640934,\n",
       "               0.9534825 , 0.03207731, 0.87670815, 0.17967582, 0.9066094 , 0.1583811 , 0.08880019],\n",
       "              [0.22616279, 0.33324277, 0.06903625, 0.4189713 , 0.30609095, 0.33591402, 0.29681158,\n",
       "               0.15043092, 0.3109696 , 0.53415227, ..., 0.5756612 , 0.62484896, 0.5778154 ,\n",
       "               0.36340737, 0.81600857, 0.451293  , 0.7998103 , 0.03633654, 0.92831016, 0.50967216]],            dtype=float32)}"
      ]
     },
     "execution_count": 7,
     "metadata": {},
     "output_type": "execute_result"
    }
   ],
   "source": [
    "cache._cache"
   ]
  },
  {
   "attachments": {},
   "cell_type": "markdown",
   "metadata": {},
   "source": [
    "## old"
   ]
  },
  {
   "cell_type": "code",
   "execution_count": 3,
   "metadata": {},
   "outputs": [
    {
     "ename": "TypeError",
     "evalue": "Binom1D.__init__() missing 1 required positional argument: 'max_K'",
     "output_type": "error",
     "traceback": [
      "\u001b[0;31m---------------------------------------------------------------------------\u001b[0m",
      "\u001b[0;31mTypeError\u001b[0m                                 Traceback (most recent call last)",
      "Cell \u001b[0;32mIn [3], line 2\u001b[0m\n\u001b[1;32m      1\u001b[0m g \u001b[39m=\u001b[39m ip\u001b[39m.\u001b[39mcartesian_grid(theta_min\u001b[39m=\u001b[39m[\u001b[39m-\u001b[39m\u001b[39m1\u001b[39m], theta_max\u001b[39m=\u001b[39m[\u001b[39m1\u001b[39m], null_hypos\u001b[39m=\u001b[39m[ip\u001b[39m.\u001b[39mhypo(\u001b[39m\"\u001b[39m\u001b[39mx0 < 0\u001b[39m\u001b[39m\"\u001b[39m)])\n\u001b[0;32m----> 2\u001b[0m rej_df \u001b[39m=\u001b[39m ip\u001b[39m.\u001b[39;49mvalidate(Binom1D, g, \u001b[39m0.5\u001b[39;49m, K\u001b[39m=\u001b[39;49m\u001b[39m2\u001b[39;49m\u001b[39m*\u001b[39;49m\u001b[39m*\u001b[39;49m\u001b[39m10\u001b[39;49m, model_kwargs\u001b[39m=\u001b[39;49m{\u001b[39m\"\u001b[39;49m\u001b[39mn\u001b[39;49m\u001b[39m\"\u001b[39;49m: \u001b[39m100\u001b[39;49m})\n\u001b[1;32m      3\u001b[0m rej_df\n",
      "File \u001b[0;32m~/confirm/confirmasaurus/confirm/imprint/driver.py:196\u001b[0m, in \u001b[0;36mvalidate\u001b[0;34m(modeltype, g, lam, delta, model_seed, K, tile_batch_size, model_kwargs)\u001b[0m\n\u001b[1;32m    159\u001b[0m \u001b[39mdef\u001b[39;00m \u001b[39mvalidate\u001b[39m(\n\u001b[1;32m    160\u001b[0m     modeltype,\n\u001b[1;32m    161\u001b[0m     g,\n\u001b[0;32m   (...)\u001b[0m\n\u001b[1;32m    168\u001b[0m     model_kwargs\u001b[39m=\u001b[39m\u001b[39mNone\u001b[39;00m\n\u001b[1;32m    169\u001b[0m ):\n\u001b[1;32m    170\u001b[0m     \u001b[39m\"\"\"\u001b[39;00m\n\u001b[1;32m    171\u001b[0m \u001b[39m    Calculate the Type I Error bound.\u001b[39;00m\n\u001b[1;32m    172\u001b[0m \n\u001b[0;32m   (...)\u001b[0m\n\u001b[1;32m    194\u001b[0m \u001b[39m        - tie_bound: The bound on the Type I error over the whole tile.\u001b[39;00m\n\u001b[1;32m    195\u001b[0m \u001b[39m    \"\"\"\u001b[39;00m\n\u001b[0;32m--> 196\u001b[0m     driver, g \u001b[39m=\u001b[39m _setup(modeltype, g, model_seed, K, model_kwargs, tile_batch_size)\n\u001b[1;32m    197\u001b[0m     rej_df \u001b[39m=\u001b[39m driver\u001b[39m.\u001b[39mvalidate(g\u001b[39m.\u001b[39mdf, lam, delta\u001b[39m=\u001b[39mdelta)\n\u001b[1;32m    198\u001b[0m     \u001b[39mreturn\u001b[39;00m rej_df\n",
      "File \u001b[0;32m~/confirm/confirmasaurus/confirm/imprint/driver.py:155\u001b[0m, in \u001b[0;36m_setup\u001b[0;34m(modeltype, g, model_seed, K, model_kwargs, tile_batch_size)\u001b[0m\n\u001b[1;32m    153\u001b[0m \u001b[39mif\u001b[39;00m model_kwargs \u001b[39mis\u001b[39;00m \u001b[39mNone\u001b[39;00m:\n\u001b[1;32m    154\u001b[0m     model_kwargs \u001b[39m=\u001b[39m {}\n\u001b[0;32m--> 155\u001b[0m model \u001b[39m=\u001b[39m modeltype(model_seed, g\u001b[39m.\u001b[39;49mdf[\u001b[39m\"\u001b[39;49m\u001b[39mK\u001b[39;49m\u001b[39m\"\u001b[39;49m]\u001b[39m.\u001b[39;49mmax(), \u001b[39m*\u001b[39;49m\u001b[39m*\u001b[39;49mmodel_kwargs)\n\u001b[1;32m    156\u001b[0m \u001b[39mreturn\u001b[39;00m Driver(model, tile_batch_size\u001b[39m=\u001b[39mtile_batch_size), g\n",
      "\u001b[0;31mTypeError\u001b[0m: Binom1D.__init__() missing 1 required positional argument: 'max_K'"
     ]
    }
   ],
   "source": [
    "g = ip.cartesian_grid(theta_min=[-1], theta_max=[1], null_hypos=[ip.hypo(\"x0 < 0\")])\n",
    "rej_df = ip.validate(Binom1D, g, 0.5, K=2**10, model_kwargs={\"n\": 100})\n",
    "rej_df"
   ]
  },
  {
   "cell_type": "code",
   "execution_count": 26,
   "metadata": {},
   "outputs": [],
   "source": [
    "model = Binom1D(0, 2**18, n=100)\n",
    "db = ip.db.DuckDB.connect()"
   ]
  },
  {
   "cell_type": "code",
   "execution_count": 27,
   "metadata": {},
   "outputs": [
    {
     "name": "stdout",
     "output_type": "stream",
     "text": [
      "CPU times: user 106 µs, sys: 11 µs, total: 117 µs\n",
      "Wall time: 116 µs\n"
     ]
    }
   ],
   "source": [
    "%%time\n",
    "samples = pd.DataFrame(model.samples)"
   ]
  },
  {
   "cell_type": "code",
   "execution_count": 35,
   "metadata": {},
   "outputs": [
    {
     "name": "stdout",
     "output_type": "stream",
     "text": [
      "14.3 ms ± 169 µs per loop (mean ± std. dev. of 7 runs, 100 loops each)\n"
     ]
    }
   ],
   "source": [
    "%%timeit\n",
    "memfile = io.BytesIO()\n",
    "np.save(memfile, samples.values)"
   ]
  },
  {
   "cell_type": "code",
   "execution_count": 39,
   "metadata": {},
   "outputs": [
    {
     "name": "stdout",
     "output_type": "stream",
     "text": [
      "12.5 ms ± 143 µs per loop (mean ± std. dev. of 7 runs, 100 loops each)\n"
     ]
    }
   ],
   "source": [
    "%%timeit\n",
    "memfile.seek(0)\n",
    "s2 = np.load(memfile)"
   ]
  },
  {
   "cell_type": "code",
   "execution_count": 37,
   "metadata": {},
   "outputs": [
    {
     "data": {
      "text/plain": [
       "True"
      ]
     },
     "execution_count": 37,
     "metadata": {},
     "output_type": "execute_result"
    }
   ],
   "source": [
    "np.all(s2 == samples.values)"
   ]
  },
  {
   "cell_type": "code",
   "execution_count": 30,
   "metadata": {},
   "outputs": [
    {
     "name": "stdout",
     "output_type": "stream",
     "text": [
      "125 ms ± 1.68 ms per loop (mean ± std. dev. of 7 runs, 10 loops each)\n"
     ]
    }
   ],
   "source": [
    "%%timeit\n",
    "db.con.execute(\"drop table samples\")\n",
    "db.con.execute(\"create table samples as select * from samples\")"
   ]
  }
 ],
 "metadata": {
  "kernelspec": {
   "display_name": "Python 3.10.6 ('confirm')",
   "language": "python",
   "name": "python3"
  },
  "language_info": {
   "codemirror_mode": {
    "name": "ipython",
    "version": 3
   },
   "file_extension": ".py",
   "mimetype": "text/x-python",
   "name": "python",
   "nbconvert_exporter": "python",
   "pygments_lexer": "ipython3",
   "version": "3.10.8"
  },
  "orig_nbformat": 4,
  "vscode": {
   "interpreter": {
    "hash": "b4c6ec5b2d6c7b38df115d547b82cd53ca25eea58d87299956d35a9dc79f19f1"
   }
  }
 },
 "nbformat": 4,
 "nbformat_minor": 2
}
