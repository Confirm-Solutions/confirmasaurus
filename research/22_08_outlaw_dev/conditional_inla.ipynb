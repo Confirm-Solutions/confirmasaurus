{
 "cells": [
  {
   "cell_type": "markdown",
   "metadata": {},
   "source": [
    "# Conditional Laplace INLA\n",
    "\n",
    "Let's first just set up our environment. The dataset is the one from Figure 2 from Berry 2013."
   ]
  },
  {
   "cell_type": "code",
   "execution_count": 1,
   "metadata": {},
   "outputs": [
    {
     "ename": "AttributeError",
     "evalue": "module 'outlaw' has no attribute 'berry_model'",
     "output_type": "error",
     "traceback": [
      "\u001b[0;31m---------------------------------------------------------------------------\u001b[0m",
      "\u001b[0;31mAttributeError\u001b[0m                            Traceback (most recent call last)",
      "\u001b[1;32m/Users/tbent/Dropbox/active/confirm/confirmasaurus/research/22_08_outlaw_dev/conditional_inla.ipynb Cell 2\u001b[0m in \u001b[0;36m<cell line: 13>\u001b[0;34m()\u001b[0m\n\u001b[1;32m     <a href='vscode-notebook-cell:/Users/tbent/Dropbox/active/confirm/confirmasaurus/research/22_08_outlaw_dev/conditional_inla.ipynb#W1sZmlsZQ%3D%3D?line=9'>10</a>\u001b[0m \u001b[39mimport\u001b[39;00m \u001b[39moutlaw\u001b[39;00m\n\u001b[1;32m     <a href='vscode-notebook-cell:/Users/tbent/Dropbox/active/confirm/confirmasaurus/research/22_08_outlaw_dev/conditional_inla.ipynb#W1sZmlsZQ%3D%3D?line=10'>11</a>\u001b[0m \u001b[39mimport\u001b[39;00m \u001b[39mberrylib\u001b[39;00m\u001b[39m.\u001b[39;00m\u001b[39mmcmc\u001b[39;00m \u001b[39mas\u001b[39;00m \u001b[39mmcmc\u001b[39;00m\n\u001b[0;32m---> <a href='vscode-notebook-cell:/Users/tbent/Dropbox/active/confirm/confirmasaurus/research/22_08_outlaw_dev/conditional_inla.ipynb#W1sZmlsZQ%3D%3D?line=12'>13</a>\u001b[0m data \u001b[39m=\u001b[39m outlaw\u001b[39m.\u001b[39;49mberry_model\u001b[39m.\u001b[39mfigure2_data(N\u001b[39m=\u001b[39m\u001b[39m1\u001b[39m)\n",
      "\u001b[0;31mAttributeError\u001b[0m: module 'outlaw' has no attribute 'berry_model'"
     ]
    }
   ],
   "source": [
    "import berrylib.util as util\n",
    "\n",
    "util.setup_nb()\n",
    "\n",
    "import pickle\n",
    "import scipy.stats\n",
    "import matplotlib.pyplot as plt\n",
    "import numpy as np\n",
    "\n",
    "import outlaw\n",
    "import berrylib.mcmc as mcmc\n",
    "\n",
    "data = outlaw.berry_model.figure2_data(N=1)"
   ]
  },
  {
   "cell_type": "markdown",
   "metadata": {},
   "source": [
    "And load up some MCMC results, both for the full problem and conditional on various values of $\\sigma^2$."
   ]
  },
  {
   "cell_type": "code",
   "execution_count": 3,
   "metadata": {},
   "outputs": [
    {
     "ename": "AttributeError",
     "evalue": "module 'outlaw' has no attribute 'quad'",
     "output_type": "error",
     "traceback": [
      "\u001b[0;31m---------------------------------------------------------------------------\u001b[0m",
      "\u001b[0;31mAttributeError\u001b[0m                            Traceback (most recent call last)",
      "\u001b[1;32m/Users/tbent/Dropbox/active/confirm/confirmasaurus/research/22_08_outlaw_dev/conditional_inla.ipynb Cell 4\u001b[0m in \u001b[0;36m<cell line: 2>\u001b[0;34m()\u001b[0m\n\u001b[1;32m      <a href='vscode-notebook-cell:/Users/tbent/Dropbox/active/confirm/confirmasaurus/research/22_08_outlaw_dev/conditional_inla.ipynb#W3sZmlsZQ%3D%3D?line=0'>1</a>\u001b[0m sig2_n \u001b[39m=\u001b[39m \u001b[39m15\u001b[39m\n\u001b[0;32m----> <a href='vscode-notebook-cell:/Users/tbent/Dropbox/active/confirm/confirmasaurus/research/22_08_outlaw_dev/conditional_inla.ipynb#W3sZmlsZQ%3D%3D?line=1'>2</a>\u001b[0m sig2_rule \u001b[39m=\u001b[39m outlaw\u001b[39m.\u001b[39;49mquad\u001b[39m.\u001b[39mlog_gauss_rule(N\u001b[39m=\u001b[39msig2_n, a\u001b[39m=\u001b[39m\u001b[39m1e-6\u001b[39m, b\u001b[39m=\u001b[39m\u001b[39m1e3\u001b[39m)\n\u001b[1;32m      <a href='vscode-notebook-cell:/Users/tbent/Dropbox/active/confirm/confirmasaurus/research/22_08_outlaw_dev/conditional_inla.ipynb#W3sZmlsZQ%3D%3D?line=3'>4</a>\u001b[0m load \u001b[39m=\u001b[39m \u001b[39mTrue\u001b[39;00m\n\u001b[1;32m      <a href='vscode-notebook-cell:/Users/tbent/Dropbox/active/confirm/confirmasaurus/research/22_08_outlaw_dev/conditional_inla.ipynb#W3sZmlsZQ%3D%3D?line=4'>5</a>\u001b[0m \u001b[39mif\u001b[39;00m load:\n",
      "\u001b[0;31mAttributeError\u001b[0m: module 'outlaw' has no attribute 'quad'"
     ]
    }
   ],
   "source": [
    "sig2_n = 15\n",
    "sig2_rule = outlaw.quad.log_gauss_rule(N=sig2_n, a=1e-6, b=1e3)\n",
    "\n",
    "load = True\n",
    "if load:\n",
    "    with open(\"conditional_mcmc.pkl\", \"rb\") as f:\n",
    "        mcmc_results, mcmc_arm_marg = pickle.load(f)\n",
    "else:\n",
    "    mcmc_results = []\n",
    "    for sig_idx in range(fi.sigma2_n):\n",
    "        mcmc_results.append(\n",
    "            mcmc.mcmc_berry(\n",
    "                np.stack((y[-1:], n[-1:]), axis=-1),\n",
    "                n_samples=200000,\n",
    "                sigma2_val=sig2_rule.pts[sig_idx],\n",
    "            )\n",
    "        )\n",
    "    mcmc_arm_marg = mcmc.mcmc_berry(\n",
    "        np.stack((y[-1:], n[-1:]), axis=-1),\n",
    "        n_samples=200000,\n",
    "    )\n",
    "    with open(\"conditional_mcmc.pkl\", \"wb\") as f:\n",
    "        pickle.dump((mcmc_results, mcmc_arm_marg), f)"
   ]
  },
  {
   "cell_type": "markdown",
   "metadata": {},
   "source": [
    "Then we calculate the hyperparameter posteriors in the variable `post`. "
   ]
  },
  {
   "cell_type": "code",
   "execution_count": 7,
   "metadata": {},
   "outputs": [
    {
     "ename": "NameError",
     "evalue": "name 'outlaww' is not defined",
     "output_type": "error",
     "traceback": [
      "\u001b[0;31m---------------------------------------------------------------------------\u001b[0m",
      "\u001b[0;31mNameError\u001b[0m                                 Traceback (most recent call last)",
      "\u001b[1;32m/Users/tbent/Dropbox/active/confirm/confirmasaurus/research/22_08_outlaw_dev/conditional_inla.ipynb Cell 6\u001b[0m in \u001b[0;36m<cell line: 1>\u001b[0;34m()\u001b[0m\n\u001b[0;32m----> <a href='vscode-notebook-cell:/Users/tbent/Dropbox/active/confirm/confirmasaurus/research/22_08_outlaw_dev/conditional_inla.ipynb#W5sZmlsZQ%3D%3D?line=0'>1</a>\u001b[0m fl \u001b[39m=\u001b[39m outlaww\u001b[39m.\u001b[39mFullLaplaceoutlaww\u001b[39m.\u001b[39mberry_model\u001b[39m.\u001b[39mberry_model(\u001b[39m4\u001b[39m), \u001b[39m\"\u001b[39m\u001b[39msig2\u001b[39m\u001b[39m\"\u001b[39m, np\u001b[39m.\u001b[39mzeros((\u001b[39m4\u001b[39m, \u001b[39m2\u001b[39m))\n\u001b[1;32m      <a href='vscode-notebook-cell:/Users/tbent/Dropbox/active/confirm/confirmasaurus/research/22_08_outlaw_dev/conditional_inla.ipynb#W5sZmlsZQ%3D%3D?line=1'>2</a>\u001b[0m p_pinned \u001b[39m=\u001b[39m \u001b[39mdict\u001b[39m(sig2\u001b[39m=\u001b[39msig2_rule\u001b[39m.\u001b[39mpts, theta\u001b[39m=\u001b[39m\u001b[39mNone\u001b[39;00m)\n\u001b[1;32m      <a href='vscode-notebook-cell:/Users/tbent/Dropbox/active/confirm/confirmasaurus/research/22_08_outlaw_dev/conditional_inla.ipynb#W5sZmlsZQ%3D%3D?line=2'>3</a>\u001b[0m logpost, x_max, hess, iters \u001b[39m=\u001b[39m fl(p_pinned, data)\n",
      "\u001b[0;31mNameError\u001b[0m: name 'outlaww' is not defined"
     ]
    }
   ],
   "source": [
    "fl = outlaww.FullLaplaceoutlaww.berry_model.berry_model(4), \"sig2\", np.zeros((4, 2))\n",
    "p_pinned = dict(sig2=sig2_rule.pts, theta=None)\n",
    "logpost, x_max, hess, iters = fl(p_pinned, data)\n",
    "post = outlaw.inla.exp_and_normalize(logpost, sig2_rule.wts, axis=1)"
   ]
  },
  {
   "cell_type": "markdown",
   "metadata": {},
   "source": [
    "## Choosing points for INLA\n",
    "\n",
    "One of the difficult issues with the more accurate versions of INLA is that we need to choose a grid of points at which to evaluate the latent variable marginals.\n",
    "\n",
    "Ideally, this choice is automatic."
   ]
  },
  {
   "cell_type": "markdown",
   "metadata": {},
   "source": [
    "### Gauss-Hermite quadrature works nicely for integrating well-behaved densities from $-\\infty$ to $\\infty$\n",
    "\n",
    "**Gauss-Hermite quadrature**: is perfect for this use case since it's designed to integrate functions over the entire real domain that look like Gaussians multiplied by well-behaved polynomial-ish functions:\n",
    "\n",
    "$$\n",
    "\\int_{-\\infty}^{\\infty} f(x) e^{-x^2} dx\n",
    "$$\n",
    "\n",
    "**Scaling Gauss-Hermite quadrature**: \n",
    "One way of thinking about this is that GH quadrature is good at integrating the unit normal distribution. Via change of variables, we can transform other normal distributions into the unit and integrate them with GH quadrature too.  \n",
    "\n",
    "The figure below demonstrates that this results in much faster convergence and more accurate integrals. If the scale = 2.0 (the true standard deviation), then convergence is fastest. But scales that are slightly different are okay too. If the scale is very different, then convergence is quite slow!\n",
    "\n",
    "Since we know the hessian at the mode, we can give GH quadrature a good guess of the standard deviation and get nice integrals."
   ]
  },
  {
   "cell_type": "code",
   "execution_count": 8,
   "metadata": {},
   "outputs": [],
   "source": [
    "def f(x):\n",
    "    return np.sin(x) ** 2 * np.exp(-((x / 2) ** 2))\n",
    "\n",
    "\n",
    "def gauss_I(n, scale=1.0):\n",
    "    gr = util.gauss_rule(n, -10 * scale, 10 * scale)\n",
    "    gp, gw = gr.pts, gr.wts\n",
    "    y = f(gp)\n",
    "    return np.sum(y * gw)"
   ]
  },
  {
   "cell_type": "code",
   "execution_count": 9,
   "metadata": {},
   "outputs": [],
   "source": [
    "def herm_I(n, scale=1.0):\n",
    "    hr = outlaw.quad.gauss_herm_rule(n, center=0, scale=scale)\n",
    "    return np.sum(hr.wts * f(hr.pts))"
   ]
  },
  {
   "cell_type": "markdown",
   "metadata": {},
   "source": [
    "The accuracy is best when the scale matches the standard deviation of the density, but it still works well even if the standard deviation is somewhat off."
   ]
  },
  {
   "cell_type": "code",
   "execution_count": 10,
   "metadata": {},
   "outputs": [
    {
     "ename": "AttributeError",
     "evalue": "module 'outlaw' has no attribute 'quad'",
     "output_type": "error",
     "traceback": [
      "\u001b[0;31m---------------------------------------------------------------------------\u001b[0m",
      "\u001b[0;31mAttributeError\u001b[0m                            Traceback (most recent call last)",
      "\u001b[1;32m/Users/tbent/Dropbox/active/confirm/confirmasaurus/research/22_08_outlaw_dev/conditional_inla.ipynb Cell 12\u001b[0m in \u001b[0;36m<cell line: 1>\u001b[0;34m()\u001b[0m\n\u001b[0;32m----> <a href='vscode-notebook-cell:/Users/tbent/Dropbox/active/confirm/confirmasaurus/research/22_08_outlaw_dev/conditional_inla.ipynb#X14sZmlsZQ%3D%3D?line=0'>1</a>\u001b[0m exact \u001b[39m=\u001b[39m herm_I(\u001b[39m100\u001b[39;49m, scale\u001b[39m=\u001b[39;49m\u001b[39m2.0\u001b[39;49m)\n\u001b[1;32m      <a href='vscode-notebook-cell:/Users/tbent/Dropbox/active/confirm/confirmasaurus/research/22_08_outlaw_dev/conditional_inla.ipynb#X14sZmlsZQ%3D%3D?line=1'>2</a>\u001b[0m gerr \u001b[39m=\u001b[39m []\n\u001b[1;32m      <a href='vscode-notebook-cell:/Users/tbent/Dropbox/active/confirm/confirmasaurus/research/22_08_outlaw_dev/conditional_inla.ipynb#X14sZmlsZQ%3D%3D?line=2'>3</a>\u001b[0m scales \u001b[39m=\u001b[39m np\u001b[39m.\u001b[39marray([\u001b[39m0.5\u001b[39m, \u001b[39m1.0\u001b[39m, \u001b[39m1.5\u001b[39m, \u001b[39m2.0\u001b[39m, \u001b[39m2.5\u001b[39m])\n",
      "\u001b[1;32m/Users/tbent/Dropbox/active/confirm/confirmasaurus/research/22_08_outlaw_dev/conditional_inla.ipynb Cell 12\u001b[0m in \u001b[0;36mherm_I\u001b[0;34m(n, scale)\u001b[0m\n\u001b[1;32m      <a href='vscode-notebook-cell:/Users/tbent/Dropbox/active/confirm/confirmasaurus/research/22_08_outlaw_dev/conditional_inla.ipynb#X14sZmlsZQ%3D%3D?line=0'>1</a>\u001b[0m \u001b[39mdef\u001b[39;00m \u001b[39mherm_I\u001b[39m(n, scale\u001b[39m=\u001b[39m\u001b[39m1.0\u001b[39m):\n\u001b[0;32m----> <a href='vscode-notebook-cell:/Users/tbent/Dropbox/active/confirm/confirmasaurus/research/22_08_outlaw_dev/conditional_inla.ipynb#X14sZmlsZQ%3D%3D?line=1'>2</a>\u001b[0m     hr \u001b[39m=\u001b[39m outlaw\u001b[39m.\u001b[39;49mquad\u001b[39m.\u001b[39mgauss_herm_rule(n, center\u001b[39m=\u001b[39m\u001b[39m0\u001b[39m, scale\u001b[39m=\u001b[39mscale)\n\u001b[1;32m      <a href='vscode-notebook-cell:/Users/tbent/Dropbox/active/confirm/confirmasaurus/research/22_08_outlaw_dev/conditional_inla.ipynb#X14sZmlsZQ%3D%3D?line=2'>3</a>\u001b[0m     \u001b[39mreturn\u001b[39;00m np\u001b[39m.\u001b[39msum(hr\u001b[39m.\u001b[39mwts \u001b[39m*\u001b[39m f(hr\u001b[39m.\u001b[39mpts))\n",
      "\u001b[0;31mAttributeError\u001b[0m: module 'outlaw' has no attribute 'quad'"
     ]
    }
   ],
   "source": [
    "exact = herm_I(100, scale=2.0)\n",
    "gerr = []\n",
    "scales = np.array([0.5, 1.0, 1.5, 2.0, 2.5])\n",
    "herr = [[] for i in range(len(scales))]\n",
    "ns = range(4, 100, 2)\n",
    "for n in ns:\n",
    "    gerr.append(np.abs(gauss_I(n, scale=1.0) - exact))\n",
    "    for i, scale in enumerate(scales):\n",
    "        herr[i].append(np.abs(herm_I(n, scale=scale) - exact))\n",
    "# Plot comparing gauss quadrature and hermite quadrature\n",
    "plt.figure(figsize=(8, 8))\n",
    "plt.plot(ns, np.log10(gerr), \"b-\", label=\"Gauss\", linewidth=3.0)\n",
    "for i in range(len(herr)):\n",
    "    plt.plot(\n",
    "        ns, np.log10(herr[i]), label=f\"Hermite scale={scales[i]:.2f}\", linewidth=3.0\n",
    "    )\n",
    "plt.legend()\n",
    "plt.xlabel(\"Number of quadrature points\")\n",
    "plt.ylabel(\"Error\")\n",
    "plt.title(\"Error in quadrature\")\n",
    "plt.show()"
   ]
  },
  {
   "cell_type": "markdown",
   "metadata": {},
   "source": [
    "## Running conditional INLA with Gauss-Hermite"
   ]
  },
  {
   "cell_type": "markdown",
   "metadata": {},
   "source": [
    "In this first section, we're going to compute the grid of points separately for each value of the hyperparameter $\\sigma^2$. This results is really clean plots of the conditional densities: $p(\\theta_i | \\sigma^2, y)$\n",
    "\n",
    "But, it has the downside of making it hard to produce a plot of the non-conditional arm marginal: $p(\\theta_i | y)$\n",
    "The problem is that we need to integrate over $\\sigma^2$ but our different conditional densities aren't on the same $\\theta_i$ grid.\n",
    "\n",
    "Obviously, I've chosen a particularly bad example here to emphasize the differences. Note the *very skewed and broad* distributions for large $\\sigma^2$"
   ]
  },
  {
   "cell_type": "code",
   "execution_count": 11,
   "metadata": {},
   "outputs": [
    {
     "ename": "AttributeError",
     "evalue": "module 'outlaw' has no attribute 'inla'",
     "output_type": "error",
     "traceback": [
      "\u001b[0;31m---------------------------------------------------------------------------\u001b[0m",
      "\u001b[0;31mAttributeError\u001b[0m                            Traceback (most recent call last)",
      "\u001b[1;32m/Users/tbent/Dropbox/active/confirm/confirmasaurus/research/22_08_outlaw_dev/conditional_inla.ipynb Cell 15\u001b[0m in \u001b[0;36m<cell line: 2>\u001b[0;34m()\u001b[0m\n\u001b[1;32m      <a href='vscode-notebook-cell:/Users/tbent/Dropbox/active/confirm/confirmasaurus/research/22_08_outlaw_dev/conditional_inla.ipynb#X20sZmlsZQ%3D%3D?line=0'>1</a>\u001b[0m arm_idx \u001b[39m=\u001b[39m \u001b[39m0\u001b[39m\n\u001b[0;32m----> <a href='vscode-notebook-cell:/Users/tbent/Dropbox/active/confirm/confirmasaurus/research/22_08_outlaw_dev/conditional_inla.ipynb#X20sZmlsZQ%3D%3D?line=1'>2</a>\u001b[0m cond_inla_f \u001b[39m=\u001b[39m outlaw\u001b[39m.\u001b[39;49minla\u001b[39m.\u001b[39mbuild_conditional_inla(fl\u001b[39m.\u001b[39mlog_joint_single, fl\u001b[39m.\u001b[39mspec)\n\u001b[1;32m      <a href='vscode-notebook-cell:/Users/tbent/Dropbox/active/confirm/confirmasaurus/research/22_08_outlaw_dev/conditional_inla.ipynb#X20sZmlsZQ%3D%3D?line=2'>3</a>\u001b[0m cx, wts \u001b[39m=\u001b[39m outlaw\u001b[39m.\u001b[39minla\u001b[39m.\u001b[39mgauss_hermite_grid(x_max, hess, arm_idx, n\u001b[39m=\u001b[39m\u001b[39m25\u001b[39m)\n\u001b[1;32m      <a href='vscode-notebook-cell:/Users/tbent/Dropbox/active/confirm/confirmasaurus/research/22_08_outlaw_dev/conditional_inla.ipynb#X20sZmlsZQ%3D%3D?line=3'>4</a>\u001b[0m lp \u001b[39m=\u001b[39m cond_inla_f(x_max, p_pinned, data, hess, cx, arm_idx)\n",
      "\u001b[0;31mAttributeError\u001b[0m: module 'outlaw' has no attribute 'inla'"
     ]
    }
   ],
   "source": [
    "arm_idx = 0\n",
    "cond_inla_f = outlaw.inla.build_conditional_inla(fl.log_joint_single, fl.spec)\n",
    "cx, wts = outlaw.inla.gauss_hermite_grid(x_max, hess, arm_idx, n=25)\n",
    "lp = cond_inla_f(x_max, p_pinned, data, hess, cx, arm_idx)\n",
    "arm_marg = outlaww.inla.exp_and_normalize(lp, wts, axis=0)"
   ]
  },
  {
   "cell_type": "code",
   "execution_count": 12,
   "metadata": {},
   "outputs": [
    {
     "ename": "NameError",
     "evalue": "name 'mcmc_results' is not defined",
     "output_type": "error",
     "traceback": [
      "\u001b[0;31m---------------------------------------------------------------------------\u001b[0m",
      "\u001b[0;31mNameError\u001b[0m                                 Traceback (most recent call last)",
      "\u001b[1;32m/Users/tbent/Dropbox/active/confirm/confirmasaurus/research/22_08_outlaw_dev/conditional_inla.ipynb Cell 16\u001b[0m in \u001b[0;36m<cell line: 2>\u001b[0;34m()\u001b[0m\n\u001b[1;32m      <a href='vscode-notebook-cell:/Users/tbent/Dropbox/active/confirm/confirmasaurus/research/22_08_outlaw_dev/conditional_inla.ipynb#X21sZmlsZQ%3D%3D?line=0'>1</a>\u001b[0m plt\u001b[39m.\u001b[39mfigure(figsize\u001b[39m=\u001b[39m(\u001b[39m8\u001b[39m, \u001b[39m12\u001b[39m), constrained_layout\u001b[39m=\u001b[39m\u001b[39mTrue\u001b[39;00m)\n\u001b[1;32m      <a href='vscode-notebook-cell:/Users/tbent/Dropbox/active/confirm/confirmasaurus/research/22_08_outlaw_dev/conditional_inla.ipynb#X21sZmlsZQ%3D%3D?line=1'>2</a>\u001b[0m \u001b[39mfor\u001b[39;00m j, sig_idx \u001b[39min\u001b[39;00m \u001b[39menumerate\u001b[39m(\u001b[39mrange\u001b[39m(sig2_n)[::\u001b[39m3\u001b[39m]):\n\u001b[0;32m----> <a href='vscode-notebook-cell:/Users/tbent/Dropbox/active/confirm/confirmasaurus/research/22_08_outlaw_dev/conditional_inla.ipynb#X21sZmlsZQ%3D%3D?line=2'>3</a>\u001b[0m     mcmc_arm \u001b[39m=\u001b[39m mcmc_results[sig_idx][\u001b[39m\"\u001b[39m\u001b[39mx\u001b[39m\u001b[39m\"\u001b[39m][\u001b[39m0\u001b[39m][\u001b[39m\"\u001b[39m\u001b[39mtheta\u001b[39m\u001b[39m\"\u001b[39m][\u001b[39m0\u001b[39m, :, arm_idx]\n\u001b[1;32m      <a href='vscode-notebook-cell:/Users/tbent/Dropbox/active/confirm/confirmasaurus/research/22_08_outlaw_dev/conditional_inla.ipynb#X21sZmlsZQ%3D%3D?line=3'>4</a>\u001b[0m     mcmc_p_ti_g_y \u001b[39m=\u001b[39m mcmc\u001b[39m.\u001b[39mcalc_pdf(mcmc_arm, cx[:, \u001b[39m0\u001b[39m, sig_idx], wts[:, \u001b[39m0\u001b[39m, sig_idx])\n\u001b[1;32m      <a href='vscode-notebook-cell:/Users/tbent/Dropbox/active/confirm/confirmasaurus/research/22_08_outlaw_dev/conditional_inla.ipynb#X21sZmlsZQ%3D%3D?line=6'>7</a>\u001b[0m     plt\u001b[39m.\u001b[39msubplot(\u001b[39m3\u001b[39m, \u001b[39m2\u001b[39m, \u001b[39m1\u001b[39m \u001b[39m+\u001b[39m j)\n",
      "\u001b[0;31mNameError\u001b[0m: name 'mcmc_results' is not defined"
     ]
    },
    {
     "data": {
      "text/plain": [
       "<Figure size 576x864 with 0 Axes>"
      ]
     },
     "metadata": {},
     "output_type": "display_data"
    }
   ],
   "source": [
    "plt.figure(figsize=(8, 12), constrained_layout=True)\n",
    "for j, sig_idx in enumerate(range(sig2_n)[::3]):\n",
    "    mcmc_arm = mcmc_results[sig_idx][\"x\"][0][\"theta\"][0, :, arm_idx]\n",
    "    mcmc_p_ti_g_y = mcmc.calc_pdf(mcmc_arm, cx[:, 0, sig_idx], wts[:, 0, sig_idx])\n",
    "\n",
    "    plt.subplot(3, 2, 1 + j)\n",
    "    plt.title(f\"$\\sigma^2$ = {sig2_rule.pts[sig_idx]:5.2e}\")\n",
    "    plt.plot(cx[:, 0, sig_idx], mcmc_p_ti_g_y, \"b-\")\n",
    "    plt.plot(cx[:, 0, sig_idx], arm_marg[:, 0, sig_idx], \"r-o\", linewidth=2.0)\n",
    "    plt.ylabel(r\"$p(\\theta_0 | \\sigma^2, y)$\")\n",
    "    plt.xlabel(r\"$\\theta_0$\")\n",
    "    window = np.quantile(mcmc_arm, [0.001, 0.999])\n",
    "    # plt.hist(mcmc_arm, bins=np.linspace(*window, 40), density=True)\n",
    "plt.show()"
   ]
  },
  {
   "cell_type": "code",
   "execution_count": 13,
   "metadata": {},
   "outputs": [
    {
     "ename": "NameError",
     "evalue": "name 'mcmc_results' is not defined",
     "output_type": "error",
     "traceback": [
      "\u001b[0;31m---------------------------------------------------------------------------\u001b[0m",
      "\u001b[0;31mNameError\u001b[0m                                 Traceback (most recent call last)",
      "\u001b[1;32m/Users/tbent/Dropbox/active/confirm/confirmasaurus/research/22_08_outlaw_dev/conditional_inla.ipynb Cell 17\u001b[0m in \u001b[0;36m<cell line: 2>\u001b[0;34m()\u001b[0m\n\u001b[1;32m      <a href='vscode-notebook-cell:/Users/tbent/Dropbox/active/confirm/confirmasaurus/research/22_08_outlaw_dev/conditional_inla.ipynb#X22sZmlsZQ%3D%3D?line=0'>1</a>\u001b[0m mcmc_pdfs \u001b[39m=\u001b[39m []\n\u001b[1;32m      <a href='vscode-notebook-cell:/Users/tbent/Dropbox/active/confirm/confirmasaurus/research/22_08_outlaw_dev/conditional_inla.ipynb#X22sZmlsZQ%3D%3D?line=1'>2</a>\u001b[0m \u001b[39mfor\u001b[39;00m j, sig_idx \u001b[39min\u001b[39;00m \u001b[39menumerate\u001b[39m(\u001b[39mrange\u001b[39m(sig2_n)):\n\u001b[0;32m----> <a href='vscode-notebook-cell:/Users/tbent/Dropbox/active/confirm/confirmasaurus/research/22_08_outlaw_dev/conditional_inla.ipynb#X22sZmlsZQ%3D%3D?line=2'>3</a>\u001b[0m     mcmc_arm \u001b[39m=\u001b[39m mcmc_results[sig_idx][\u001b[39m\"\u001b[39m\u001b[39mx\u001b[39m\u001b[39m\"\u001b[39m][\u001b[39m0\u001b[39m][\u001b[39m\"\u001b[39m\u001b[39mtheta\u001b[39m\u001b[39m\"\u001b[39m][\u001b[39m0\u001b[39m, :, arm_idx]\n\u001b[1;32m      <a href='vscode-notebook-cell:/Users/tbent/Dropbox/active/confirm/confirmasaurus/research/22_08_outlaw_dev/conditional_inla.ipynb#X22sZmlsZQ%3D%3D?line=3'>4</a>\u001b[0m     mcmc_p_ti_g_y \u001b[39m=\u001b[39m mcmc\u001b[39m.\u001b[39mcalc_pdf(mcmc_arm, cx[:, \u001b[39m0\u001b[39m, sig_idx], wts[:, \u001b[39m0\u001b[39m, sig_idx])\n\u001b[1;32m      <a href='vscode-notebook-cell:/Users/tbent/Dropbox/active/confirm/confirmasaurus/research/22_08_outlaw_dev/conditional_inla.ipynb#X22sZmlsZQ%3D%3D?line=4'>5</a>\u001b[0m     mcmc_pdfs\u001b[39m.\u001b[39mappend(mcmc_p_ti_g_y)    \n",
      "\u001b[0;31mNameError\u001b[0m: name 'mcmc_results' is not defined"
     ]
    }
   ],
   "source": [
    "mcmc_pdfs = []\n",
    "for j, sig_idx in enumerate(range(sig2_n)):\n",
    "    mcmc_arm = mcmc_results[sig_idx][\"x\"][0][\"theta\"][0, :, arm_idx]\n",
    "    mcmc_p_ti_g_y = mcmc.calc_pdf(mcmc_arm, cx[:, 0, sig_idx], wts[:, 0, sig_idx])\n",
    "    mcmc_pdfs.append(mcmc_p_ti_g_y)\n",
    "\n",
    "mcmc_pdfs = np.array(mcmc_pdfs).T.copy()\n",
    "test_data = np.stack((cx[:, 0, :], mcmc_pdfs), axis=-1)\n",
    "np.save(\"test_conditional_inla.npy\", test_data)"
   ]
  },
  {
   "cell_type": "markdown",
   "metadata": {},
   "source": [
    "Because the grids are different for each value of $\\sigma^2$, it's not very easy to integrate across $\\sigma^2$. It still would be possible if we did some sort of interpolation, but it's not a trivial thing."
   ]
  },
  {
   "cell_type": "markdown",
   "metadata": {},
   "source": [
    "### A single set of points for all $\\sigma^2$\n",
    "\n",
    "If instead, we choose a single grid of $\\theta_i$ values for all $\\sigma^2$, the results are not nearly as pretty.\n",
    "\n",
    "BUT, the advantage is that computing the non-conditional marginal distribution is a very simple integration. \n"
   ]
  },
  {
   "cell_type": "code",
   "execution_count": 14,
   "metadata": {},
   "outputs": [
    {
     "ename": "NameError",
     "evalue": "name 'hess' is not defined",
     "output_type": "error",
     "traceback": [
      "\u001b[0;31m---------------------------------------------------------------------------\u001b[0m",
      "\u001b[0;31mNameError\u001b[0m                                 Traceback (most recent call last)",
      "\u001b[1;32m/Users/tbent/Dropbox/active/confirm/confirmasaurus/research/22_08_outlaw_dev/conditional_inla.ipynb Cell 20\u001b[0m in \u001b[0;36m<cell line: 1>\u001b[0;34m()\u001b[0m\n\u001b[0;32m----> <a href='vscode-notebook-cell:/Users/tbent/Dropbox/active/confirm/confirmasaurus/research/22_08_outlaw_dev/conditional_inla.ipynb#X25sZmlsZQ%3D%3D?line=0'>1</a>\u001b[0m x_sigma2 \u001b[39m=\u001b[39m \u001b[39m-\u001b[39mnp\u001b[39m.\u001b[39mdiagonal(np\u001b[39m.\u001b[39mlinalg\u001b[39m.\u001b[39minv(hess), axis1\u001b[39m=\u001b[39m\u001b[39m2\u001b[39m, axis2\u001b[39m=\u001b[39m\u001b[39m3\u001b[39m)\n\u001b[1;32m      <a href='vscode-notebook-cell:/Users/tbent/Dropbox/active/confirm/confirmasaurus/research/22_08_outlaw_dev/conditional_inla.ipynb#X25sZmlsZQ%3D%3D?line=1'>2</a>\u001b[0m mu_arm \u001b[39m=\u001b[39m np\u001b[39m.\u001b[39msum(post[\u001b[39m.\u001b[39m\u001b[39m.\u001b[39m\u001b[39m.\u001b[39m, \u001b[39mNone\u001b[39;00m] \u001b[39m*\u001b[39m x_max \u001b[39m*\u001b[39m sig2_rule\u001b[39m.\u001b[39mwts[\u001b[39mNone\u001b[39;00m, :, \u001b[39mNone\u001b[39;00m], axis\u001b[39m=\u001b[39m\u001b[39m1\u001b[39m)\n\u001b[1;32m      <a href='vscode-notebook-cell:/Users/tbent/Dropbox/active/confirm/confirmasaurus/research/22_08_outlaw_dev/conditional_inla.ipynb#X25sZmlsZQ%3D%3D?line=2'>3</a>\u001b[0m var_arm \u001b[39m=\u001b[39m np\u001b[39m.\u001b[39msum(\n\u001b[1;32m      <a href='vscode-notebook-cell:/Users/tbent/Dropbox/active/confirm/confirmasaurus/research/22_08_outlaw_dev/conditional_inla.ipynb#X25sZmlsZQ%3D%3D?line=3'>4</a>\u001b[0m     post[\u001b[39m.\u001b[39m\u001b[39m.\u001b[39m\u001b[39m.\u001b[39m, \u001b[39mNone\u001b[39;00m]\n\u001b[1;32m      <a href='vscode-notebook-cell:/Users/tbent/Dropbox/active/confirm/confirmasaurus/research/22_08_outlaw_dev/conditional_inla.ipynb#X25sZmlsZQ%3D%3D?line=4'>5</a>\u001b[0m     \u001b[39m*\u001b[39m ((x_max \u001b[39m-\u001b[39m mu_arm[:, \u001b[39mNone\u001b[39;00m, :]) \u001b[39m*\u001b[39m\u001b[39m*\u001b[39m \u001b[39m2\u001b[39m \u001b[39m+\u001b[39m x_sigma2)\n\u001b[1;32m      <a href='vscode-notebook-cell:/Users/tbent/Dropbox/active/confirm/confirmasaurus/research/22_08_outlaw_dev/conditional_inla.ipynb#X25sZmlsZQ%3D%3D?line=5'>6</a>\u001b[0m     \u001b[39m*\u001b[39m sig2_rule\u001b[39m.\u001b[39mwts[\u001b[39mNone\u001b[39;00m, :, \u001b[39mNone\u001b[39;00m],\n\u001b[1;32m      <a href='vscode-notebook-cell:/Users/tbent/Dropbox/active/confirm/confirmasaurus/research/22_08_outlaw_dev/conditional_inla.ipynb#X25sZmlsZQ%3D%3D?line=6'>7</a>\u001b[0m     axis\u001b[39m=\u001b[39m\u001b[39m1\u001b[39m,\n\u001b[1;32m      <a href='vscode-notebook-cell:/Users/tbent/Dropbox/active/confirm/confirmasaurus/research/22_08_outlaw_dev/conditional_inla.ipynb#X25sZmlsZQ%3D%3D?line=7'>8</a>\u001b[0m )\n",
      "\u001b[0;31mNameError\u001b[0m: name 'hess' is not defined"
     ]
    }
   ],
   "source": [
    "x_sigma2 = -np.diagonal(np.linalg.inv(hess), axis1=2, axis2=3)\n",
    "mu_arm = np.sum(post[..., None] * x_max * sig2_rule.wts[None, :, None], axis=1)\n",
    "var_arm = np.sum(\n",
    "    post[..., None]\n",
    "    * ((x_max - mu_arm[:, None, :]) ** 2 + x_sigma2)\n",
    "    * sig2_rule.wts[None, :, None],\n",
    "    axis=1,\n",
    ")\n",
    "mu_arm, var_arm\n",
    "sd_arm = np.sqrt(var_arm)"
   ]
  },
  {
   "cell_type": "code",
   "execution_count": 15,
   "metadata": {},
   "outputs": [
    {
     "ename": "AttributeError",
     "evalue": "module 'outlaw' has no attribute 'quad'",
     "output_type": "error",
     "traceback": [
      "\u001b[0;31m---------------------------------------------------------------------------\u001b[0m",
      "\u001b[0;31mAttributeError\u001b[0m                            Traceback (most recent call last)",
      "\u001b[1;32m/Users/tbent/Dropbox/active/confirm/confirmasaurus/research/22_08_outlaw_dev/conditional_inla.ipynb Cell 21\u001b[0m in \u001b[0;36m<cell line: 1>\u001b[0;34m()\u001b[0m\n\u001b[0;32m----> <a href='vscode-notebook-cell:/Users/tbent/Dropbox/active/confirm/confirmasaurus/research/22_08_outlaw_dev/conditional_inla.ipynb#X26sZmlsZQ%3D%3D?line=0'>1</a>\u001b[0m hg_rule \u001b[39m=\u001b[39m outlaw\u001b[39m.\u001b[39;49mquad\u001b[39m.\u001b[39mgauss_herm_rule(\u001b[39m70\u001b[39m)\n\u001b[1;32m      <a href='vscode-notebook-cell:/Users/tbent/Dropbox/active/confirm/confirmasaurus/research/22_08_outlaw_dev/conditional_inla.ipynb#X26sZmlsZQ%3D%3D?line=1'>2</a>\u001b[0m hg_pts, hg_wts \u001b[39m=\u001b[39m hg_rule\u001b[39m.\u001b[39mpts, hg_rule\u001b[39m.\u001b[39mwts\n\u001b[1;32m      <a href='vscode-notebook-cell:/Users/tbent/Dropbox/active/confirm/confirmasaurus/research/22_08_outlaw_dev/conditional_inla.ipynb#X26sZmlsZQ%3D%3D?line=2'>3</a>\u001b[0m cx \u001b[39m=\u001b[39m np\u001b[39m.\u001b[39mtile(\n\u001b[1;32m      <a href='vscode-notebook-cell:/Users/tbent/Dropbox/active/confirm/confirmasaurus/research/22_08_outlaw_dev/conditional_inla.ipynb#X26sZmlsZQ%3D%3D?line=3'>4</a>\u001b[0m     mu_arm[:, \u001b[39mNone\u001b[39;00m, arm_idx] \u001b[39m+\u001b[39m sd_arm[:, \u001b[39mNone\u001b[39;00m, arm_idx] \u001b[39m*\u001b[39m hg_pts[:, \u001b[39mNone\u001b[39;00m, \u001b[39mNone\u001b[39;00m],\n\u001b[1;32m      <a href='vscode-notebook-cell:/Users/tbent/Dropbox/active/confirm/confirmasaurus/research/22_08_outlaw_dev/conditional_inla.ipynb#X26sZmlsZQ%3D%3D?line=4'>5</a>\u001b[0m     (\u001b[39m1\u001b[39m, \u001b[39m1\u001b[39m, sig2_n),\n\u001b[1;32m      <a href='vscode-notebook-cell:/Users/tbent/Dropbox/active/confirm/confirmasaurus/research/22_08_outlaw_dev/conditional_inla.ipynb#X26sZmlsZQ%3D%3D?line=5'>6</a>\u001b[0m )\n",
      "\u001b[0;31mAttributeError\u001b[0m: module 'outlaw' has no attribute 'quad'"
     ]
    }
   ],
   "source": [
    "hg_rule = outlaw.quad.gauss_herm_rule(70)\n",
    "hg_pts, hg_wts = hg_rule.pts, hg_rule.wts\n",
    "cx = np.tile(\n",
    "    mu_arm[:, None, arm_idx] + sd_arm[:, None, arm_idx] * hg_pts[:, None, None],\n",
    "    (1, 1, sig2_n),\n",
    ")\n",
    "lp = cond_inla_f(x_max, p_pinned, data, hess, cx, arm_idx)\n",
    "wts = np.tile(sd_arm[:, None, arm_idx] * hg_wts[:, None, None], (1, 1, sig2_n))\n",
    "arm_marg = outlaw.inla.exp_and_normalize(lp, wts, axis=0)"
   ]
  },
  {
   "cell_type": "code",
   "execution_count": 16,
   "metadata": {},
   "outputs": [
    {
     "ename": "NameError",
     "evalue": "name 'mcmc_results' is not defined",
     "output_type": "error",
     "traceback": [
      "\u001b[0;31m---------------------------------------------------------------------------\u001b[0m",
      "\u001b[0;31mNameError\u001b[0m                                 Traceback (most recent call last)",
      "\u001b[1;32m/Users/tbent/Dropbox/active/confirm/confirmasaurus/research/22_08_outlaw_dev/conditional_inla.ipynb Cell 22\u001b[0m in \u001b[0;36m<cell line: 2>\u001b[0;34m()\u001b[0m\n\u001b[1;32m      <a href='vscode-notebook-cell:/Users/tbent/Dropbox/active/confirm/confirmasaurus/research/22_08_outlaw_dev/conditional_inla.ipynb#X30sZmlsZQ%3D%3D?line=0'>1</a>\u001b[0m plt\u001b[39m.\u001b[39mfigure(figsize\u001b[39m=\u001b[39m(\u001b[39m8\u001b[39m, \u001b[39m12\u001b[39m), constrained_layout\u001b[39m=\u001b[39m\u001b[39mTrue\u001b[39;00m)\n\u001b[1;32m      <a href='vscode-notebook-cell:/Users/tbent/Dropbox/active/confirm/confirmasaurus/research/22_08_outlaw_dev/conditional_inla.ipynb#X30sZmlsZQ%3D%3D?line=1'>2</a>\u001b[0m \u001b[39mfor\u001b[39;00m j, sig_idx \u001b[39min\u001b[39;00m \u001b[39menumerate\u001b[39m(\u001b[39mrange\u001b[39m(sig2_n)[::\u001b[39m3\u001b[39m]):\n\u001b[0;32m----> <a href='vscode-notebook-cell:/Users/tbent/Dropbox/active/confirm/confirmasaurus/research/22_08_outlaw_dev/conditional_inla.ipynb#X30sZmlsZQ%3D%3D?line=2'>3</a>\u001b[0m     mcmc_arm \u001b[39m=\u001b[39m mcmc_results[sig_idx][\u001b[39m\"\u001b[39m\u001b[39mx\u001b[39m\u001b[39m\"\u001b[39m][\u001b[39m0\u001b[39m][\u001b[39m\"\u001b[39m\u001b[39mtheta\u001b[39m\u001b[39m\"\u001b[39m][\u001b[39m0\u001b[39m, :, arm_idx]\n\u001b[1;32m      <a href='vscode-notebook-cell:/Users/tbent/Dropbox/active/confirm/confirmasaurus/research/22_08_outlaw_dev/conditional_inla.ipynb#X30sZmlsZQ%3D%3D?line=3'>4</a>\u001b[0m     mcmc_p_ti_g_y \u001b[39m=\u001b[39m mcmc\u001b[39m.\u001b[39mcalc_pdf(mcmc_arm, cx[:, \u001b[39m0\u001b[39m, sig_idx], wts[:, \u001b[39m0\u001b[39m, sig_idx])\n\u001b[1;32m      <a href='vscode-notebook-cell:/Users/tbent/Dropbox/active/confirm/confirmasaurus/research/22_08_outlaw_dev/conditional_inla.ipynb#X30sZmlsZQ%3D%3D?line=5'>6</a>\u001b[0m     plt\u001b[39m.\u001b[39msubplot(\u001b[39m3\u001b[39m, \u001b[39m2\u001b[39m, \u001b[39m1\u001b[39m \u001b[39m+\u001b[39m j)\n",
      "\u001b[0;31mNameError\u001b[0m: name 'mcmc_results' is not defined"
     ]
    },
    {
     "data": {
      "text/plain": [
       "<Figure size 576x864 with 0 Axes>"
      ]
     },
     "metadata": {},
     "output_type": "display_data"
    }
   ],
   "source": [
    "plt.figure(figsize=(8, 12), constrained_layout=True)\n",
    "for j, sig_idx in enumerate(range(sig2_n)[::3]):\n",
    "    mcmc_arm = mcmc_results[sig_idx][\"x\"][0][\"theta\"][0, :, arm_idx]\n",
    "    mcmc_p_ti_g_y = mcmc.calc_pdf(mcmc_arm, cx[:, 0, sig_idx], wts[:, 0, sig_idx])\n",
    "\n",
    "    plt.subplot(3, 2, 1 + j)\n",
    "    plt.title(f\"$\\sigma^2$ = {sig2_rule.pts[sig_idx]:5.2e}\")\n",
    "    plt.plot(cx[:, 0, sig_idx], mcmc_p_ti_g_y, \"b-\")\n",
    "    plt.plot(cx[:, 0, sig_idx], arm_marg[:, 0, sig_idx], \"r-o\", linewidth=2.0)\n",
    "    plt.ylabel(r\"$p(\\theta_0 | \\sigma^2, y)$\")\n",
    "    plt.xlabel(r\"$\\theta_0$\")\n",
    "    window = np.quantile(mcmc_arm, [0.001, 0.999])\n",
    "    plt.hist(mcmc_arm, bins=np.linspace(*window, 40), density=True)\n",
    "plt.show()"
   ]
  },
  {
   "cell_type": "code",
   "execution_count": 17,
   "metadata": {},
   "outputs": [
    {
     "ename": "NameError",
     "evalue": "name 'mcmc_arm_marg' is not defined",
     "output_type": "error",
     "traceback": [
      "\u001b[0;31m---------------------------------------------------------------------------\u001b[0m",
      "\u001b[0;31mNameError\u001b[0m                                 Traceback (most recent call last)",
      "\u001b[1;32m/Users/tbent/Dropbox/active/confirm/confirmasaurus/research/22_08_outlaw_dev/conditional_inla.ipynb Cell 23\u001b[0m in \u001b[0;36m<cell line: 1>\u001b[0;34m()\u001b[0m\n\u001b[0;32m----> <a href='vscode-notebook-cell:/Users/tbent/Dropbox/active/confirm/confirmasaurus/research/22_08_outlaw_dev/conditional_inla.ipynb#X31sZmlsZQ%3D%3D?line=0'>1</a>\u001b[0m mcmc_arm \u001b[39m=\u001b[39m mcmc_arm_marg[\u001b[39m\"\u001b[39m\u001b[39mx\u001b[39m\u001b[39m\"\u001b[39m][\u001b[39m0\u001b[39m][\u001b[39m\"\u001b[39m\u001b[39mtheta\u001b[39m\u001b[39m\"\u001b[39m][\u001b[39m0\u001b[39m, :, arm_idx]\n\u001b[1;32m      <a href='vscode-notebook-cell:/Users/tbent/Dropbox/active/confirm/confirmasaurus/research/22_08_outlaw_dev/conditional_inla.ipynb#X31sZmlsZQ%3D%3D?line=1'>2</a>\u001b[0m int_arm_marg \u001b[39m=\u001b[39m np\u001b[39m.\u001b[39msum(arm_marg \u001b[39m*\u001b[39m post[\u001b[39mNone\u001b[39;00m] \u001b[39m*\u001b[39m sig2_rule\u001b[39m.\u001b[39mwts[\u001b[39mNone\u001b[39;00m, \u001b[39mNone\u001b[39;00m], axis\u001b[39m=\u001b[39m\u001b[39m2\u001b[39m)\n\u001b[1;32m      <a href='vscode-notebook-cell:/Users/tbent/Dropbox/active/confirm/confirmasaurus/research/22_08_outlaw_dev/conditional_inla.ipynb#X31sZmlsZQ%3D%3D?line=2'>3</a>\u001b[0m window \u001b[39m=\u001b[39m np\u001b[39m.\u001b[39mquantile(mcmc_arm, [\u001b[39m0.01\u001b[39m, \u001b[39m0.999\u001b[39m])\n",
      "\u001b[0;31mNameError\u001b[0m: name 'mcmc_arm_marg' is not defined"
     ]
    }
   ],
   "source": [
    "mcmc_arm = mcmc_arm_marg[\"x\"][0][\"theta\"][0, :, arm_idx]\n",
    "int_arm_marg = np.sum(arm_marg * post[None] * sig2_rule.wts[None, None], axis=2)\n",
    "window = np.quantile(mcmc_arm, [0.01, 0.999])\n",
    "plt.hist(mcmc_arm, bins=np.linspace(*window, 100), density=True)\n",
    "plt.plot(cx[:, 0, 0], int_arm_marg, \"k-\", linewidth=2.0)\n",
    "plt.xlim(window)\n",
    "plt.ylabel(r\"$p(\\theta_0 | y)$\")\n",
    "plt.xlabel(r\"$\\theta_0$\")\n",
    "plt.show()"
   ]
  },
  {
   "cell_type": "markdown",
   "metadata": {},
   "source": [
    "### So what should we do with the arm marginals?\n",
    "\n",
    "The two options:\n",
    "1. Choose $\\theta_i$ grids conditional on $\\sigma^2$. This produces much more accurate conditionals but makes it hard to produce a final arm marginal.\n",
    "2. Choose $\\theta_i$ grids without regard to $\\sigma^2$. Producing a final arm marginal is easier, but the conditional distributions are ugly!\n",
    "\n",
    "After writing all this, I think the choice is fairly obvious. What is our main goal here? Normally, we just want to compute an exceedance! And that exceedance will be best computed in the conditional world before being integrated. So, having excellent conditionals is more important than making it easy to produce unconditional marginals. "
   ]
  },
  {
   "cell_type": "markdown",
   "metadata": {},
   "source": [
    "## Other stuff that's just coincidentally still in this notebook: Jensen-Shannon divergence\n",
    "\n",
    "[Jensen-Shannon divergence](https://en.wikipedia.org/wiki/Jensen–Shannon_divergence)\n",
    "\n",
    "https://stats.stackexchange.com/questions/6907/an-adaptation-of-the-kullback-leibler-distance/6937#6937\n",
    "\n",
    "\n",
    "The symmetric KL divergence doesn't behave well when there are zeros in either distribution. The JS divergence solves this issue by comparing to the midpoint distribution.\n",
    "\n",
    "More generally, the issue we are faced with is computing a norm of distributions. so something like the L2 norm of the difference of the functions would be fine. But the more probabalistic/informational divergence metrics are probably better.\n",
    "\n",
    "One way we can avoid this entirely is to move to evaluating error in terms of the final output, the exceedance. In many cases, all we are going to care about is the exceedance prob for some threshold. This is a scalar (or vector with multiple arms) and would make error tolerances more concrete and understandable. "
   ]
  },
  {
   "cell_type": "code",
   "execution_count": 18,
   "metadata": {},
   "outputs": [],
   "source": [
    "import scipy.special\n",
    "\n",
    "\n",
    "def js_div(x, y, wts):\n",
    "    R = 0.5 * (x + y)\n",
    "    a = np.sum(wts * scipy.special.rel_entr(x, R))\n",
    "    b = np.sum(wts * scipy.special.rel_entr(y, R))\n",
    "    return 0.5 * (a + b)"
   ]
  },
  {
   "cell_type": "code",
   "execution_count": 19,
   "metadata": {},
   "outputs": [
    {
     "ename": "NameError",
     "evalue": "name 'fi' is not defined",
     "output_type": "error",
     "traceback": [
      "\u001b[0;31m---------------------------------------------------------------------------\u001b[0m",
      "\u001b[0;31mNameError\u001b[0m                                 Traceback (most recent call last)",
      "\u001b[1;32m/Users/tbent/Dropbox/active/confirm/confirmasaurus/research/22_08_outlaw_dev/conditional_inla.ipynb Cell 27\u001b[0m in \u001b[0;36m<cell line: 3>\u001b[0;34m()\u001b[0m\n\u001b[1;32m      <a href='vscode-notebook-cell:/Users/tbent/Dropbox/active/confirm/confirmasaurus/research/22_08_outlaw_dev/conditional_inla.ipynb#X35sZmlsZQ%3D%3D?line=0'>1</a>\u001b[0m \u001b[39mimport\u001b[39;00m \u001b[39mpandas\u001b[39;00m \u001b[39mas\u001b[39;00m \u001b[39mpd\u001b[39;00m\n\u001b[0;32m----> <a href='vscode-notebook-cell:/Users/tbent/Dropbox/active/confirm/confirmasaurus/research/22_08_outlaw_dev/conditional_inla.ipynb#X35sZmlsZQ%3D%3D?line=2'>3</a>\u001b[0m df \u001b[39m=\u001b[39m pd\u001b[39m.\u001b[39mDataFrame(\u001b[39mdict\u001b[39m(sig2\u001b[39m=\u001b[39mfi\u001b[39m.\u001b[39msigma2_rule\u001b[39m.\u001b[39mpts))\n\u001b[1;32m      <a href='vscode-notebook-cell:/Users/tbent/Dropbox/active/confirm/confirmasaurus/research/22_08_outlaw_dev/conditional_inla.ipynb#X35sZmlsZQ%3D%3D?line=3'>4</a>\u001b[0m df[\u001b[39m\"\u001b[39m\u001b[39mJS_G_M\u001b[39m\u001b[39m\"\u001b[39m] \u001b[39m=\u001b[39m \u001b[39m0\u001b[39m\n\u001b[1;32m      <a href='vscode-notebook-cell:/Users/tbent/Dropbox/active/confirm/confirmasaurus/research/22_08_outlaw_dev/conditional_inla.ipynb#X35sZmlsZQ%3D%3D?line=4'>5</a>\u001b[0m df[\u001b[39m\"\u001b[39m\u001b[39mJS_L_M\u001b[39m\u001b[39m\"\u001b[39m] \u001b[39m=\u001b[39m \u001b[39m0\u001b[39m\n",
      "\u001b[0;31mNameError\u001b[0m: name 'fi' is not defined"
     ]
    }
   ],
   "source": [
    "import pandas as pd\n",
    "\n",
    "df = pd.DataFrame(dict(sig2=fi.sigma2_rule.pts))\n",
    "df[\"JS_G_M\"] = 0\n",
    "df[\"JS_L_M\"] = 0\n",
    "for i, sig_idx in enumerate(range(fi.sigma2_n)):\n",
    "    mcmc_arm = mcmc_results[sig_idx][\"x\"][0][\"theta\"][0, :, arm_idx]\n",
    "    mcmc_p_ti_g_y = mcmc.calc_pdf(mcmc_arm, t_i.pts, t_i.wts)\n",
    "    gaussian = scipy.stats.norm.pdf(\n",
    "        t_i.pts, theta_max[-1, sig_idx, 0], theta_sigma[-1, sig_idx, 0]\n",
    "    )\n",
    "    df.at[i, \"JS_G_M\"] = js_div(mcmc_p_ti_g_y, gaussian, t_i.wts)\n",
    "    df.at[i, \"JS_L_M\"] = js_div(mcmc_p_ti_g_y, laplace[sig_idx], t_i.wts)\n",
    "df"
   ]
  },
  {
   "cell_type": "code",
   "execution_count": null,
   "metadata": {},
   "outputs": [],
   "source": []
  },
  {
   "cell_type": "code",
   "execution_count": 20,
   "metadata": {},
   "outputs": [
    {
     "ename": "NameError",
     "evalue": "name 'df' is not defined",
     "output_type": "error",
     "traceback": [
      "\u001b[0;31m---------------------------------------------------------------------------\u001b[0m",
      "\u001b[0;31mNameError\u001b[0m                                 Traceback (most recent call last)",
      "\u001b[1;32m/Users/tbent/Dropbox/active/confirm/confirmasaurus/research/22_08_outlaw_dev/conditional_inla.ipynb Cell 29\u001b[0m in \u001b[0;36m<cell line: 1>\u001b[0;34m()\u001b[0m\n\u001b[0;32m----> <a href='vscode-notebook-cell:/Users/tbent/Dropbox/active/confirm/confirmasaurus/research/22_08_outlaw_dev/conditional_inla.ipynb#X40sZmlsZQ%3D%3D?line=0'>1</a>\u001b[0m plt\u001b[39m.\u001b[39mplot(np\u001b[39m.\u001b[39mlog10(df[\u001b[39m\"\u001b[39m\u001b[39msig2\u001b[39m\u001b[39m\"\u001b[39m]), np\u001b[39m.\u001b[39mlog10(df[\u001b[39m\"\u001b[39m\u001b[39mJS_G_M\u001b[39m\u001b[39m\"\u001b[39m]), \u001b[39m\"\u001b[39m\u001b[39mb-\u001b[39m\u001b[39m\"\u001b[39m, label\u001b[39m=\u001b[39m\u001b[39m\"\u001b[39m\u001b[39mGaussian\u001b[39m\u001b[39m\"\u001b[39m)\n\u001b[1;32m      <a href='vscode-notebook-cell:/Users/tbent/Dropbox/active/confirm/confirmasaurus/research/22_08_outlaw_dev/conditional_inla.ipynb#X40sZmlsZQ%3D%3D?line=1'>2</a>\u001b[0m plt\u001b[39m.\u001b[39mplot(np\u001b[39m.\u001b[39mlog10(df[\u001b[39m\"\u001b[39m\u001b[39msig2\u001b[39m\u001b[39m\"\u001b[39m]), np\u001b[39m.\u001b[39mlog10(df[\u001b[39m\"\u001b[39m\u001b[39mJS_L_M\u001b[39m\u001b[39m\"\u001b[39m]), \u001b[39m\"\u001b[39m\u001b[39mk-\u001b[39m\u001b[39m\"\u001b[39m, label\u001b[39m=\u001b[39m\u001b[39m\"\u001b[39m\u001b[39mFull laplace\u001b[39m\u001b[39m\"\u001b[39m)\n\u001b[1;32m      <a href='vscode-notebook-cell:/Users/tbent/Dropbox/active/confirm/confirmasaurus/research/22_08_outlaw_dev/conditional_inla.ipynb#X40sZmlsZQ%3D%3D?line=2'>3</a>\u001b[0m plt\u001b[39m.\u001b[39mlegend()\n",
      "\u001b[0;31mNameError\u001b[0m: name 'df' is not defined"
     ]
    }
   ],
   "source": [
    "plt.plot(np.log10(df[\"sig2\"]), np.log10(df[\"JS_G_M\"]), \"b-\", label=\"Gaussian\")\n",
    "plt.plot(np.log10(df[\"sig2\"]), np.log10(df[\"JS_L_M\"]), \"k-\", label=\"Full laplace\")\n",
    "plt.legend()\n",
    "plt.show()"
   ]
  },
  {
   "cell_type": "markdown",
   "metadata": {},
   "source": [
    "## Yeah, you should probably stop here... The stuff above is cleaned up. Below is just notes to self."
   ]
  },
  {
   "cell_type": "markdown",
   "metadata": {},
   "source": [
    "### adaptive quadrature rule.\n",
    "\n",
    "this will get far enough out from the mode, but is more complicated and possibly slower. not sure!"
   ]
  },
  {
   "cell_type": "code",
   "execution_count": 21,
   "metadata": {},
   "outputs": [
    {
     "ename": "NameError",
     "evalue": "name 'x_max' is not defined",
     "output_type": "error",
     "traceback": [
      "\u001b[0;31m---------------------------------------------------------------------------\u001b[0m",
      "\u001b[0;31mNameError\u001b[0m                                 Traceback (most recent call last)",
      "\u001b[1;32m/Users/tbent/Dropbox/active/confirm/confirmasaurus/research/22_08_outlaw_dev/conditional_inla.ipynb Cell 32\u001b[0m in \u001b[0;36m<cell line: 1>\u001b[0;34m()\u001b[0m\n\u001b[0;32m----> <a href='vscode-notebook-cell:/Users/tbent/Dropbox/active/confirm/confirmasaurus/research/22_08_outlaw_dev/conditional_inla.ipynb#X43sZmlsZQ%3D%3D?line=0'>1</a>\u001b[0m mu_arm \u001b[39m=\u001b[39m x_max\n\u001b[1;32m      <a href='vscode-notebook-cell:/Users/tbent/Dropbox/active/confirm/confirmasaurus/research/22_08_outlaw_dev/conditional_inla.ipynb#X43sZmlsZQ%3D%3D?line=1'>2</a>\u001b[0m sd_arm \u001b[39m=\u001b[39m np\u001b[39m.\u001b[39msqrt(\u001b[39m-\u001b[39mnp\u001b[39m.\u001b[39mdiagonal(np\u001b[39m.\u001b[39mlinalg\u001b[39m.\u001b[39minv(hess), axis1\u001b[39m=\u001b[39m\u001b[39m2\u001b[39m, axis2\u001b[39m=\u001b[39m\u001b[39m3\u001b[39m))\n",
      "\u001b[0;31mNameError\u001b[0m: name 'x_max' is not defined"
     ]
    }
   ],
   "source": [
    "mu_arm = x_max\n",
    "sd_arm = np.sqrt(-np.diagonal(np.linalg.inv(hess), axis1=2, axis2=3))"
   ]
  },
  {
   "cell_type": "code",
   "execution_count": 22,
   "metadata": {},
   "outputs": [
    {
     "ename": "NameError",
     "evalue": "name 'mu_arm' is not defined",
     "output_type": "error",
     "traceback": [
      "\u001b[0;31m---------------------------------------------------------------------------\u001b[0m",
      "\u001b[0;31mNameError\u001b[0m                                 Traceback (most recent call last)",
      "\u001b[1;32m/Users/tbent/Dropbox/active/confirm/confirmasaurus/research/22_08_outlaw_dev/conditional_inla.ipynb Cell 33\u001b[0m in \u001b[0;36m<cell line: 5>\u001b[0;34m()\u001b[0m\n\u001b[1;32m      <a href='vscode-notebook-cell:/Users/tbent/Dropbox/active/confirm/confirmasaurus/research/22_08_outlaw_dev/conditional_inla.ipynb#X44sZmlsZQ%3D%3D?line=0'>1</a>\u001b[0m \u001b[39mdef\u001b[39;00m \u001b[39meval_cx\u001b[39m(cx):\n\u001b[1;32m      <a href='vscode-notebook-cell:/Users/tbent/Dropbox/active/confirm/confirmasaurus/research/22_08_outlaw_dev/conditional_inla.ipynb#X44sZmlsZQ%3D%3D?line=1'>2</a>\u001b[0m     \u001b[39mreturn\u001b[39;00m cond_inla_f(x_max, p_pinned, data, hess, cx, arm_idx)\n\u001b[0;32m----> <a href='vscode-notebook-cell:/Users/tbent/Dropbox/active/confirm/confirmasaurus/research/22_08_outlaw_dev/conditional_inla.ipynb#X44sZmlsZQ%3D%3D?line=4'>5</a>\u001b[0m cx_all \u001b[39m=\u001b[39m [mu_arm[\u001b[39mNone\u001b[39;00m, \u001b[39m.\u001b[39m\u001b[39m.\u001b[39m\u001b[39m.\u001b[39m, arm_idx]]\n\u001b[1;32m      <a href='vscode-notebook-cell:/Users/tbent/Dropbox/active/confirm/confirmasaurus/research/22_08_outlaw_dev/conditional_inla.ipynb#X44sZmlsZQ%3D%3D?line=5'>6</a>\u001b[0m arm_marg_all \u001b[39m=\u001b[39m [eval_cx(mu_arm[\u001b[39mNone\u001b[39;00m, \u001b[39m.\u001b[39m\u001b[39m.\u001b[39m\u001b[39m.\u001b[39m, arm_idx])]\n\u001b[1;32m      <a href='vscode-notebook-cell:/Users/tbent/Dropbox/active/confirm/confirmasaurus/research/22_08_outlaw_dev/conditional_inla.ipynb#X44sZmlsZQ%3D%3D?line=6'>7</a>\u001b[0m \u001b[39mfor\u001b[39;00m i \u001b[39min\u001b[39;00m \u001b[39mrange\u001b[39m(\u001b[39m8\u001b[39m):\n",
      "\u001b[0;31mNameError\u001b[0m: name 'mu_arm' is not defined"
     ]
    }
   ],
   "source": [
    "def eval_cx(cx):\n",
    "    return cond_inla_f(x_max, p_pinned, data, hess, cx, arm_idx)\n",
    "\n",
    "\n",
    "cx_all = [mu_arm[None, ..., arm_idx]]\n",
    "arm_marg_all = [eval_cx(mu_arm[None, ..., arm_idx])]\n",
    "for i in range(8):\n",
    "    a = i\n",
    "    b = i + 1\n",
    "\n",
    "    domain = np.linspace(a, b, 5)[1:]\n",
    "    cx = mu_arm[None, ..., arm_idx] + sd_arm[None, ..., arm_idx] * domain[:, None, None]\n",
    "    lp = eval_cx(cx)\n",
    "\n",
    "    cx_all.append(cx)\n",
    "    arm_marg_all.append(lp)"
   ]
  },
  {
   "cell_type": "code",
   "execution_count": 23,
   "metadata": {},
   "outputs": [
    {
     "ename": "NameError",
     "evalue": "name 'cx_all' is not defined",
     "output_type": "error",
     "traceback": [
      "\u001b[0;31m---------------------------------------------------------------------------\u001b[0m",
      "\u001b[0;31mNameError\u001b[0m                                 Traceback (most recent call last)",
      "\u001b[1;32m/Users/tbent/Dropbox/active/confirm/confirmasaurus/research/22_08_outlaw_dev/conditional_inla.ipynb Cell 34\u001b[0m in \u001b[0;36m<cell line: 1>\u001b[0;34m()\u001b[0m\n\u001b[0;32m----> <a href='vscode-notebook-cell:/Users/tbent/Dropbox/active/confirm/confirmasaurus/research/22_08_outlaw_dev/conditional_inla.ipynb#X45sZmlsZQ%3D%3D?line=0'>1</a>\u001b[0m cx_all \u001b[39m=\u001b[39m np\u001b[39m.\u001b[39mconcatenate(cx_all, axis\u001b[39m=\u001b[39m\u001b[39m0\u001b[39m)\n\u001b[1;32m      <a href='vscode-notebook-cell:/Users/tbent/Dropbox/active/confirm/confirmasaurus/research/22_08_outlaw_dev/conditional_inla.ipynb#X45sZmlsZQ%3D%3D?line=1'>2</a>\u001b[0m arm_marg_all \u001b[39m=\u001b[39m np\u001b[39m.\u001b[39mconcatenate(arm_marg_all, axis\u001b[39m=\u001b[39m\u001b[39m0\u001b[39m)\n",
      "\u001b[0;31mNameError\u001b[0m: name 'cx_all' is not defined"
     ]
    }
   ],
   "source": [
    "cx_all = np.concatenate(cx_all, axis=0)\n",
    "arm_marg_all = np.concatenate(arm_marg_all, axis=0)"
   ]
  },
  {
   "cell_type": "code",
   "execution_count": 24,
   "metadata": {},
   "outputs": [
    {
     "ename": "NameError",
     "evalue": "name 'cx_all' is not defined",
     "output_type": "error",
     "traceback": [
      "\u001b[0;31m---------------------------------------------------------------------------\u001b[0m",
      "\u001b[0;31mNameError\u001b[0m                                 Traceback (most recent call last)",
      "\u001b[1;32m/Users/tbent/Dropbox/active/confirm/confirmasaurus/research/22_08_outlaw_dev/conditional_inla.ipynb Cell 35\u001b[0m in \u001b[0;36m<cell line: 1>\u001b[0;34m()\u001b[0m\n\u001b[0;32m----> <a href='vscode-notebook-cell:/Users/tbent/Dropbox/active/confirm/confirmasaurus/research/22_08_outlaw_dev/conditional_inla.ipynb#X46sZmlsZQ%3D%3D?line=0'>1</a>\u001b[0m order \u001b[39m=\u001b[39m np\u001b[39m.\u001b[39margsort(cx_all[:, \u001b[39m0\u001b[39m, \u001b[39m0\u001b[39m])\n\u001b[1;32m      <a href='vscode-notebook-cell:/Users/tbent/Dropbox/active/confirm/confirmasaurus/research/22_08_outlaw_dev/conditional_inla.ipynb#X46sZmlsZQ%3D%3D?line=1'>2</a>\u001b[0m cx_all \u001b[39m=\u001b[39m cx_all[order]\n\u001b[1;32m      <a href='vscode-notebook-cell:/Users/tbent/Dropbox/active/confirm/confirmasaurus/research/22_08_outlaw_dev/conditional_inla.ipynb#X46sZmlsZQ%3D%3D?line=2'>3</a>\u001b[0m arm_marg_all \u001b[39m=\u001b[39m arm_marg_all[order]\n",
      "\u001b[0;31mNameError\u001b[0m: name 'cx_all' is not defined"
     ]
    }
   ],
   "source": [
    "order = np.argsort(cx_all[:, 0, 0])\n",
    "cx_all = cx_all[order]\n",
    "arm_marg_all = arm_marg_all[order]\n",
    "a = cx_all[0]\n",
    "b = cx_all[-1]\n",
    "wts = np.tile(((b - a) / cx_all.shape[0])[None], (cx_all.shape[0], 1, 1))\n",
    "arm_marg = outlaw.inla.exp_and_normalize(arm_marg_all, wts, axis=0)"
   ]
  },
  {
   "cell_type": "code",
   "execution_count": 25,
   "metadata": {},
   "outputs": [
    {
     "ename": "NameError",
     "evalue": "name 'fi' is not defined",
     "output_type": "error",
     "traceback": [
      "\u001b[0;31m---------------------------------------------------------------------------\u001b[0m",
      "\u001b[0;31mNameError\u001b[0m                                 Traceback (most recent call last)",
      "\u001b[1;32m/Users/tbent/Dropbox/active/confirm/confirmasaurus/research/22_08_outlaw_dev/conditional_inla.ipynb Cell 36\u001b[0m in \u001b[0;36m<cell line: 2>\u001b[0;34m()\u001b[0m\n\u001b[1;32m      <a href='vscode-notebook-cell:/Users/tbent/Dropbox/active/confirm/confirmasaurus/research/22_08_outlaw_dev/conditional_inla.ipynb#X50sZmlsZQ%3D%3D?line=0'>1</a>\u001b[0m plt\u001b[39m.\u001b[39mfigure(figsize\u001b[39m=\u001b[39m(\u001b[39m12\u001b[39m, \u001b[39m4\u001b[39m))\n\u001b[0;32m----> <a href='vscode-notebook-cell:/Users/tbent/Dropbox/active/confirm/confirmasaurus/research/22_08_outlaw_dev/conditional_inla.ipynb#X50sZmlsZQ%3D%3D?line=1'>2</a>\u001b[0m \u001b[39mfor\u001b[39;00m j, sig_idx \u001b[39min\u001b[39;00m \u001b[39menumerate\u001b[39m(\u001b[39mrange\u001b[39m(fi\u001b[39m.\u001b[39msigma2_n)[::\u001b[39m3\u001b[39m]):\n\u001b[1;32m      <a href='vscode-notebook-cell:/Users/tbent/Dropbox/active/confirm/confirmasaurus/research/22_08_outlaw_dev/conditional_inla.ipynb#X50sZmlsZQ%3D%3D?line=2'>3</a>\u001b[0m     mcmc_arm \u001b[39m=\u001b[39m mcmc_results[sig_idx][\u001b[39m\"\u001b[39m\u001b[39mx\u001b[39m\u001b[39m\"\u001b[39m][\u001b[39m0\u001b[39m][\u001b[39m\"\u001b[39m\u001b[39mtheta\u001b[39m\u001b[39m\"\u001b[39m][\u001b[39m0\u001b[39m, :, arm_idx]\n\u001b[1;32m      <a href='vscode-notebook-cell:/Users/tbent/Dropbox/active/confirm/confirmasaurus/research/22_08_outlaw_dev/conditional_inla.ipynb#X50sZmlsZQ%3D%3D?line=3'>4</a>\u001b[0m     mcmc_p_ti_g_y \u001b[39m=\u001b[39m mcmc\u001b[39m.\u001b[39mcalc_pdf(mcmc_arm, cx_all[:, \u001b[39m0\u001b[39m, sig_idx], wts[:, \u001b[39m0\u001b[39m, sig_idx])\n",
      "\u001b[0;31mNameError\u001b[0m: name 'fi' is not defined"
     ]
    },
    {
     "data": {
      "text/plain": [
       "<Figure size 864x288 with 0 Axes>"
      ]
     },
     "metadata": {},
     "output_type": "display_data"
    }
   ],
   "source": [
    "plt.figure(figsize=(12, 4))\n",
    "for j, sig_idx in enumerate(range(fi.sigma2_n)[::3]):\n",
    "    mcmc_arm = mcmc_results[sig_idx][\"x\"][0][\"theta\"][0, :, arm_idx]\n",
    "    mcmc_p_ti_g_y = mcmc.calc_pdf(mcmc_arm, cx_all[:, 0, sig_idx], wts[:, 0, sig_idx])\n",
    "\n",
    "    plt.subplot(1, 5, 1 + j)\n",
    "    plt.title(f\"$\\sigma^2$ = {fi.sigma2_rule.pts[sig_idx]:5.2e}\")\n",
    "    plt.plot(cx_all[:, 0, sig_idx], mcmc_p_ti_g_y, \"b-\")\n",
    "    # plt.plot(t_i.pts, arm_marg[:, 0, sig_idx], 'r-.', linewidth=2.0)\n",
    "    plt.plot(cx_all[:, 0, sig_idx], arm_marg[:, 0, sig_idx], \"r-.\", linewidth=2.0)\n",
    "plt.show()"
   ]
  },
  {
   "cell_type": "markdown",
   "metadata": {},
   "source": [
    "### pre-specified fixed quad rule.\n",
    "\n",
    "this is slow and silly, but works."
   ]
  },
  {
   "cell_type": "code",
   "execution_count": 26,
   "metadata": {},
   "outputs": [
    {
     "ename": "NameError",
     "evalue": "name 'fi' is not defined",
     "output_type": "error",
     "traceback": [
      "\u001b[0;31m---------------------------------------------------------------------------\u001b[0m",
      "\u001b[0;31mNameError\u001b[0m                                 Traceback (most recent call last)",
      "\u001b[1;32m/Users/tbent/Dropbox/active/confirm/confirmasaurus/research/22_08_outlaw_dev/conditional_inla.ipynb Cell 38\u001b[0m in \u001b[0;36m<cell line: 3>\u001b[0;34m()\u001b[0m\n\u001b[1;32m      <a href='vscode-notebook-cell:/Users/tbent/Dropbox/active/confirm/confirmasaurus/research/22_08_outlaw_dev/conditional_inla.ipynb#X52sZmlsZQ%3D%3D?line=0'>1</a>\u001b[0m arm_idx \u001b[39m=\u001b[39m \u001b[39m0\u001b[39m\n\u001b[1;32m      <a href='vscode-notebook-cell:/Users/tbent/Dropbox/active/confirm/confirmasaurus/research/22_08_outlaw_dev/conditional_inla.ipynb#X52sZmlsZQ%3D%3D?line=1'>2</a>\u001b[0m t_i \u001b[39m=\u001b[39m util\u001b[39m.\u001b[39msimpson_rule(\u001b[39m101\u001b[39m, \u001b[39m-\u001b[39m\u001b[39m15\u001b[39m, \u001b[39m2\u001b[39m)\n\u001b[0;32m----> <a href='vscode-notebook-cell:/Users/tbent/Dropbox/active/confirm/confirmasaurus/research/22_08_outlaw_dev/conditional_inla.ipynb#X52sZmlsZQ%3D%3D?line=2'>3</a>\u001b[0m p_pinned \u001b[39m=\u001b[39m \u001b[39mdict\u001b[39m(sig2\u001b[39m=\u001b[39mfi\u001b[39m.\u001b[39msigma2_rule\u001b[39m.\u001b[39mpts, theta\u001b[39m=\u001b[39m\u001b[39mNone\u001b[39;00m)\n\u001b[1;32m      <a href='vscode-notebook-cell:/Users/tbent/Dropbox/active/confirm/confirmasaurus/research/22_08_outlaw_dev/conditional_inla.ipynb#X52sZmlsZQ%3D%3D?line=3'>4</a>\u001b[0m cond_inla_f \u001b[39m=\u001b[39m outlaw\u001b[39m.\u001b[39minla\u001b[39m.\u001b[39mbuild_conditional_inla(fl\u001b[39m.\u001b[39mlog_joint_single, fl\u001b[39m.\u001b[39mspec)\n\u001b[1;32m      <a href='vscode-notebook-cell:/Users/tbent/Dropbox/active/confirm/confirmasaurus/research/22_08_outlaw_dev/conditional_inla.ipynb#X52sZmlsZQ%3D%3D?line=4'>5</a>\u001b[0m cx \u001b[39m=\u001b[39m np\u001b[39m.\u001b[39mtile(t_i\u001b[39m.\u001b[39mpts[:, \u001b[39mNone\u001b[39;00m, \u001b[39mNone\u001b[39;00m], (\u001b[39m1\u001b[39m, x_max\u001b[39m.\u001b[39mshape[\u001b[39m0\u001b[39m], x_max\u001b[39m.\u001b[39mshape[\u001b[39m1\u001b[39m]))\n",
      "\u001b[0;31mNameError\u001b[0m: name 'fi' is not defined"
     ]
    }
   ],
   "source": [
    "arm_idx = 0\n",
    "t_i = util.simpson_rule(101, -15, 2)\n",
    "p_pinned = dict(sig2=fi.sigma2_rule.pts, theta=None)\n",
    "cond_inla_f = outlaw.inla.build_conditional_inla(fl.log_joint_single, fl.spec)\n",
    "cx = np.tile(t_i.pts[:, None, None], (1, x_max.shape[0], x_max.shape[1]))\n",
    "lp = cond_inla_f(x_max, p_pinned, data, hess, cx, arm_idx)\n",
    "arm_marg = outlaw.inla.exp_density(lp, t_i.wts[:, None, None], axis=0)"
   ]
  },
  {
   "cell_type": "code",
   "execution_count": 27,
   "metadata": {},
   "outputs": [
    {
     "ename": "NameError",
     "evalue": "name 'fi' is not defined",
     "output_type": "error",
     "traceback": [
      "\u001b[0;31m---------------------------------------------------------------------------\u001b[0m",
      "\u001b[0;31mNameError\u001b[0m                                 Traceback (most recent call last)",
      "\u001b[1;32m/Users/tbent/Dropbox/active/confirm/confirmasaurus/research/22_08_outlaw_dev/conditional_inla.ipynb Cell 39\u001b[0m in \u001b[0;36m<cell line: 2>\u001b[0;34m()\u001b[0m\n\u001b[1;32m      <a href='vscode-notebook-cell:/Users/tbent/Dropbox/active/confirm/confirmasaurus/research/22_08_outlaw_dev/conditional_inla.ipynb#X53sZmlsZQ%3D%3D?line=0'>1</a>\u001b[0m plt\u001b[39m.\u001b[39mfigure(figsize\u001b[39m=\u001b[39m(\u001b[39m12\u001b[39m, \u001b[39m4\u001b[39m))\n\u001b[0;32m----> <a href='vscode-notebook-cell:/Users/tbent/Dropbox/active/confirm/confirmasaurus/research/22_08_outlaw_dev/conditional_inla.ipynb#X53sZmlsZQ%3D%3D?line=1'>2</a>\u001b[0m \u001b[39mfor\u001b[39;00m j, sig_idx \u001b[39min\u001b[39;00m \u001b[39menumerate\u001b[39m(\u001b[39mrange\u001b[39m(fi\u001b[39m.\u001b[39msigma2_n)[\u001b[39m5\u001b[39m::\u001b[39m2\u001b[39m]):\n\u001b[1;32m      <a href='vscode-notebook-cell:/Users/tbent/Dropbox/active/confirm/confirmasaurus/research/22_08_outlaw_dev/conditional_inla.ipynb#X53sZmlsZQ%3D%3D?line=2'>3</a>\u001b[0m     mcmc_arm \u001b[39m=\u001b[39m mcmc_results[sig_idx][\u001b[39m\"\u001b[39m\u001b[39mx\u001b[39m\u001b[39m\"\u001b[39m][\u001b[39m0\u001b[39m][\u001b[39m\"\u001b[39m\u001b[39mtheta\u001b[39m\u001b[39m\"\u001b[39m][\u001b[39m0\u001b[39m, :, arm_idx]\n\u001b[1;32m      <a href='vscode-notebook-cell:/Users/tbent/Dropbox/active/confirm/confirmasaurus/research/22_08_outlaw_dev/conditional_inla.ipynb#X53sZmlsZQ%3D%3D?line=3'>4</a>\u001b[0m     mcmc_p_ti_g_y \u001b[39m=\u001b[39m mcmc\u001b[39m.\u001b[39mcalc_pdf(mcmc_arm, t_i\u001b[39m.\u001b[39mpts, t_i\u001b[39m.\u001b[39mwts)\n",
      "\u001b[0;31mNameError\u001b[0m: name 'fi' is not defined"
     ]
    },
    {
     "data": {
      "text/plain": [
       "<Figure size 864x288 with 0 Axes>"
      ]
     },
     "metadata": {},
     "output_type": "display_data"
    }
   ],
   "source": [
    "plt.figure(figsize=(12, 4))\n",
    "for j, sig_idx in enumerate(range(fi.sigma2_n)[5::2]):\n",
    "    mcmc_arm = mcmc_results[sig_idx][\"x\"][0][\"theta\"][0, :, arm_idx]\n",
    "    mcmc_p_ti_g_y = mcmc.calc_pdf(mcmc_arm, t_i.pts, t_i.wts)\n",
    "\n",
    "    plt.subplot(1, 5, 1 + j)\n",
    "    plt.title(f\"$\\sigma^2$ = {fi.sigma2_rule.pts[sig_idx]:5.2e}\")\n",
    "    plt.plot(t_i.pts, mcmc_p_ti_g_y, \"b-\")\n",
    "    plt.plot(t_i.pts, arm_marg[:, 0, sig_idx], \"r-.\", linewidth=2.0)\n",
    "    window = np.quantile(mcmc_arm, [0.0005, 0.9995])\n",
    "    plt.hist(mcmc_arm, bins=np.linspace(*window, 31), density=True)\n",
    "    plt.xlim(*window)\n",
    "plt.show()"
   ]
  }
 ],
 "metadata": {
  "kernelspec": {
   "display_name": "Python 3.10.5 ('confirm')",
   "language": "python",
   "name": "python3"
  },
  "language_info": {
   "codemirror_mode": {
    "name": "ipython",
    "version": 3
   },
   "file_extension": ".py",
   "mimetype": "text/x-python",
   "name": "python",
   "nbconvert_exporter": "python",
   "pygments_lexer": "ipython3",
   "version": "3.10.5"
  },
  "orig_nbformat": 4,
  "vscode": {
   "interpreter": {
    "hash": "b4c6ec5b2d6c7b38df115d547b82cd53ca25eea58d87299956d35a9dc79f19f1"
   }
  }
 },
 "nbformat": 4,
 "nbformat_minor": 2
}
