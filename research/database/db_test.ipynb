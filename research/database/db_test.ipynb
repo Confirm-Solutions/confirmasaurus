{
 "cells": [
  {
   "cell_type": "code",
   "execution_count": 34,
   "metadata": {},
   "outputs": [],
   "source": [
    "import numpy as np\n",
    "import pandas as pd\n",
    "import sqlite3\n",
    "import pickle\n",
    "\n",
    "with open(\"../adagrid/4d/2090.pkl\", \"rb\") as f:\n",
    "    S = pickle.load(f)\n",
    "# all_data = np.concatenate((S.db.data, S.sim_sizes[:, None], S.todo[:, None], S.g.grid_pt_idx[:, None], S.g.null_truth), axis=1)\n",
    "# np.save('2090.npy', all_data)"
   ]
  },
  {
   "cell_type": "code",
   "execution_count": 73,
   "metadata": {},
   "outputs": [],
   "source": [
    "df = pd.DataFrame(S.db.data)"
   ]
  },
  {
   "cell_type": "code",
   "execution_count": 74,
   "metadata": {},
   "outputs": [],
   "source": [
    "rename_dict = dict()\n",
    "for k, v in S.db.slices.items():\n",
    "    if isinstance(v, slice):\n",
    "        for i in range(v.start, v.stop, 1 if v.step is None else v.step):\n",
    "            rename_dict[i] = k + \"_\" + str(i)\n",
    "    else:\n",
    "        rename_dict[v] = k\n",
    "df.rename(columns=rename_dict, inplace=True)"
   ]
  },
  {
   "cell_type": "code",
   "execution_count": 75,
   "metadata": {},
   "outputs": [],
   "source": [
    "df[\"sim_sizes\"] = S.sim_sizes\n",
    "df[\"todo\"] = S.todo\n",
    "df[\"grid_pt_idx\"] = S.g.grid_pt_idx\n",
    "for d in range(S.g.d):\n",
    "    df[f\"theta_{d}\"] = S.g.thetas[S.g.grid_pt_idx, d]\n",
    "    df[f\"radii_{d}\"] = S.g.radii[S.g.grid_pt_idx, d]\n",
    "\n",
    "for i in range(S.g.null_truth.shape[1]):\n",
    "    df[f\"null_truth_{i}\"] = S.g.null_truth[:, i]"
   ]
  },
  {
   "cell_type": "code",
   "execution_count": 76,
   "metadata": {},
   "outputs": [
    {
     "data": {
      "text/html": [
       "<div>\n",
       "<style scoped>\n",
       "    .dataframe tbody tr th:only-of-type {\n",
       "        vertical-align: middle;\n",
       "    }\n",
       "\n",
       "    .dataframe tbody tr th {\n",
       "        vertical-align: top;\n",
       "    }\n",
       "\n",
       "    .dataframe thead th {\n",
       "        text-align: right;\n",
       "    }\n",
       "</style>\n",
       "<table border=\"1\" class=\"dataframe\">\n",
       "  <thead>\n",
       "    <tr style=\"text-align: right;\">\n",
       "      <th></th>\n",
       "      <th>alpha0</th>\n",
       "      <th>orig_lam</th>\n",
       "      <th>B_lam_2</th>\n",
       "      <th>B_lam_3</th>\n",
       "      <th>B_lam_4</th>\n",
       "      <th>B_lam_5</th>\n",
       "      <th>B_lam_6</th>\n",
       "      <th>B_lam_7</th>\n",
       "      <th>B_lam_8</th>\n",
       "      <th>B_lam_9</th>\n",
       "      <th>...</th>\n",
       "      <th>radii_0</th>\n",
       "      <th>theta_1</th>\n",
       "      <th>radii_1</th>\n",
       "      <th>theta_2</th>\n",
       "      <th>radii_2</th>\n",
       "      <th>theta_3</th>\n",
       "      <th>radii_3</th>\n",
       "      <th>null_truth_0</th>\n",
       "      <th>null_truth_1</th>\n",
       "      <th>null_truth_2</th>\n",
       "    </tr>\n",
       "  </thead>\n",
       "  <tbody>\n",
       "    <tr>\n",
       "      <th>0</th>\n",
       "      <td>0.004738</td>\n",
       "      <td>0.091053</td>\n",
       "      <td>0.092897</td>\n",
       "      <td>0.080592</td>\n",
       "      <td>0.097186</td>\n",
       "      <td>0.102855</td>\n",
       "      <td>0.102855</td>\n",
       "      <td>0.091053</td>\n",
       "      <td>0.100334</td>\n",
       "      <td>0.091053</td>\n",
       "      <td>...</td>\n",
       "      <td>0.031250</td>\n",
       "      <td>0.906250</td>\n",
       "      <td>0.031250</td>\n",
       "      <td>0.406250</td>\n",
       "      <td>0.031250</td>\n",
       "      <td>-0.968750</td>\n",
       "      <td>0.031250</td>\n",
       "      <td>False</td>\n",
       "      <td>True</td>\n",
       "      <td>True</td>\n",
       "    </tr>\n",
       "    <tr>\n",
       "      <th>1</th>\n",
       "      <td>0.004738</td>\n",
       "      <td>0.071704</td>\n",
       "      <td>0.076335</td>\n",
       "      <td>0.071704</td>\n",
       "      <td>0.066958</td>\n",
       "      <td>0.065801</td>\n",
       "      <td>0.073842</td>\n",
       "      <td>0.071327</td>\n",
       "      <td>0.070249</td>\n",
       "      <td>0.066504</td>\n",
       "      <td>...</td>\n",
       "      <td>0.031250</td>\n",
       "      <td>0.906250</td>\n",
       "      <td>0.031250</td>\n",
       "      <td>0.406250</td>\n",
       "      <td>0.031250</td>\n",
       "      <td>-0.968750</td>\n",
       "      <td>0.031250</td>\n",
       "      <td>False</td>\n",
       "      <td>True</td>\n",
       "      <td>True</td>\n",
       "    </tr>\n",
       "    <tr>\n",
       "      <th>2</th>\n",
       "      <td>0.011102</td>\n",
       "      <td>0.089806</td>\n",
       "      <td>0.093288</td>\n",
       "      <td>0.090544</td>\n",
       "      <td>0.103630</td>\n",
       "      <td>0.089806</td>\n",
       "      <td>0.099318</td>\n",
       "      <td>0.074713</td>\n",
       "      <td>0.104047</td>\n",
       "      <td>0.090320</td>\n",
       "      <td>...</td>\n",
       "      <td>0.015625</td>\n",
       "      <td>-0.046875</td>\n",
       "      <td>0.015625</td>\n",
       "      <td>-0.640625</td>\n",
       "      <td>0.015625</td>\n",
       "      <td>-0.859375</td>\n",
       "      <td>0.015625</td>\n",
       "      <td>True</td>\n",
       "      <td>True</td>\n",
       "      <td>True</td>\n",
       "    </tr>\n",
       "    <tr>\n",
       "      <th>3</th>\n",
       "      <td>0.011101</td>\n",
       "      <td>0.092243</td>\n",
       "      <td>0.093288</td>\n",
       "      <td>0.092587</td>\n",
       "      <td>0.099708</td>\n",
       "      <td>0.092243</td>\n",
       "      <td>0.097845</td>\n",
       "      <td>0.069517</td>\n",
       "      <td>0.100998</td>\n",
       "      <td>0.092354</td>\n",
       "      <td>...</td>\n",
       "      <td>0.015625</td>\n",
       "      <td>-0.046875</td>\n",
       "      <td>0.015625</td>\n",
       "      <td>-0.671875</td>\n",
       "      <td>0.015625</td>\n",
       "      <td>-0.828125</td>\n",
       "      <td>0.015625</td>\n",
       "      <td>True</td>\n",
       "      <td>True</td>\n",
       "      <td>True</td>\n",
       "    </tr>\n",
       "    <tr>\n",
       "      <th>4</th>\n",
       "      <td>0.011111</td>\n",
       "      <td>0.089011</td>\n",
       "      <td>0.090544</td>\n",
       "      <td>0.089232</td>\n",
       "      <td>0.096866</td>\n",
       "      <td>0.089011</td>\n",
       "      <td>0.096798</td>\n",
       "      <td>0.069001</td>\n",
       "      <td>0.099708</td>\n",
       "      <td>0.090320</td>\n",
       "      <td>...</td>\n",
       "      <td>0.015625</td>\n",
       "      <td>-0.046875</td>\n",
       "      <td>0.015625</td>\n",
       "      <td>-0.703125</td>\n",
       "      <td>0.015625</td>\n",
       "      <td>-0.828125</td>\n",
       "      <td>0.015625</td>\n",
       "      <td>True</td>\n",
       "      <td>True</td>\n",
       "      <td>True</td>\n",
       "    </tr>\n",
       "  </tbody>\n",
       "</table>\n",
       "<p>5 rows × 69 columns</p>\n",
       "</div>"
      ],
      "text/plain": [
       "     alpha0  orig_lam   B_lam_2   B_lam_3   B_lam_4   B_lam_5   B_lam_6  \\\n",
       "0  0.004738  0.091053  0.092897  0.080592  0.097186  0.102855  0.102855   \n",
       "1  0.004738  0.071704  0.076335  0.071704  0.066958  0.065801  0.073842   \n",
       "2  0.011102  0.089806  0.093288  0.090544  0.103630  0.089806  0.099318   \n",
       "3  0.011101  0.092243  0.093288  0.092587  0.099708  0.092243  0.097845   \n",
       "4  0.011111  0.089011  0.090544  0.089232  0.096866  0.089011  0.096798   \n",
       "\n",
       "    B_lam_7   B_lam_8   B_lam_9  ...   radii_0   theta_1   radii_1   theta_2  \\\n",
       "0  0.091053  0.100334  0.091053  ...  0.031250  0.906250  0.031250  0.406250   \n",
       "1  0.071327  0.070249  0.066504  ...  0.031250  0.906250  0.031250  0.406250   \n",
       "2  0.074713  0.104047  0.090320  ...  0.015625 -0.046875  0.015625 -0.640625   \n",
       "3  0.069517  0.100998  0.092354  ...  0.015625 -0.046875  0.015625 -0.671875   \n",
       "4  0.069001  0.099708  0.090320  ...  0.015625 -0.046875  0.015625 -0.703125   \n",
       "\n",
       "    radii_2   theta_3   radii_3  null_truth_0  null_truth_1  null_truth_2  \n",
       "0  0.031250 -0.968750  0.031250         False          True          True  \n",
       "1  0.031250 -0.968750  0.031250         False          True          True  \n",
       "2  0.015625 -0.859375  0.015625          True          True          True  \n",
       "3  0.015625 -0.828125  0.015625          True          True          True  \n",
       "4  0.015625 -0.828125  0.015625          True          True          True  \n",
       "\n",
       "[5 rows x 69 columns]"
      ]
     },
     "execution_count": 76,
     "metadata": {},
     "output_type": "execute_result"
    }
   ],
   "source": [
    "df.head()"
   ]
  },
  {
   "cell_type": "code",
   "execution_count": 77,
   "metadata": {},
   "outputs": [
    {
     "name": "stdout",
     "output_type": "stream",
     "text": [
      "CPU times: user 392 ms, sys: 28.4 ms, total: 421 ms\n",
      "Wall time: 421 ms\n"
     ]
    }
   ],
   "source": [
    "%%time\n",
    "RR = df[\"grid_pt_idx\"].sample(frac=0.1)"
   ]
  },
  {
   "cell_type": "code",
   "execution_count": 62,
   "metadata": {},
   "outputs": [
    {
     "name": "stdout",
     "output_type": "stream",
     "text": [
      "CPU times: user 319 ms, sys: 18.3 ms, total: 337 ms\n",
      "Wall time: 337 ms\n"
     ]
    },
    {
     "data": {
      "text/plain": [
       "((1739069,), 1741991)"
      ]
     },
     "execution_count": 62,
     "metadata": {},
     "output_type": "execute_result"
    }
   ],
   "source": [
    "%%time\n",
    "RR.shape, df[\"grid_pt_idx\"].isin(RR).sum()"
   ]
  },
  {
   "cell_type": "code",
   "execution_count": 63,
   "metadata": {},
   "outputs": [
    {
     "data": {
      "text/plain": [
       "Index(['alpha0', 'orig_lam', 'B_lam_2', 'B_lam_3', 'B_lam_4', 'B_lam_5',\n",
       "       'B_lam_6', 'B_lam_7', 'B_lam_8', 'B_lam_9', 'B_lam_10', 'B_lam_11',\n",
       "       'B_lam_12', 'B_lam_13', 'B_lam_14', 'B_lam_15', 'B_lam_16', 'B_lam_17',\n",
       "       'B_lam_18', 'B_lam_19', 'B_lam_20', 'B_lam_21', 'B_lam_22', 'B_lam_23',\n",
       "       'B_lam_24', 'B_lam_25', 'B_lam_26', 'B_lam_27', 'B_lam_28', 'B_lam_29',\n",
       "       'B_lam_30', 'B_lam_31', 'B_lam_32', 'B_lam_33', 'B_lam_34', 'B_lam_35',\n",
       "       'B_lam_36', 'B_lam_37', 'B_lam_38', 'B_lam_39', 'B_lam_40', 'B_lam_41',\n",
       "       'B_lam_42', 'B_lam_43', 'B_lam_44', 'B_lam_45', 'B_lam_46', 'B_lam_47',\n",
       "       'B_lam_48', 'B_lam_49', 'B_lam_50', 'B_lam_51', 'twb_min_lam',\n",
       "       'twb_mean_lam', 'twb_max_lam', 'sim_sizes', 'todo', 'grid_pt_idx',\n",
       "       'theta_0', 'theta_1', 'theta_2', 'theta_3', 'radii_0', 'radii_1',\n",
       "       'radii_2', 'radii_3', 'null_truth_0', 'null_truth_1', 'null_truth_2'],\n",
       "      dtype='object')"
      ]
     },
     "execution_count": 63,
     "metadata": {},
     "output_type": "execute_result"
    }
   ],
   "source": [
    "df.columns"
   ]
  },
  {
   "cell_type": "code",
   "execution_count": 6,
   "metadata": {},
   "outputs": [],
   "source": [
    "all_data = np.load(\"2090.npy\")"
   ]
  },
  {
   "attachments": {},
   "cell_type": "markdown",
   "metadata": {},
   "source": [
    "## SQLite"
   ]
  },
  {
   "cell_type": "code",
   "execution_count": 7,
   "metadata": {},
   "outputs": [],
   "source": [
    "con = sqlite3.connect(\"tutorial.db\")"
   ]
  },
  {
   "cell_type": "code",
   "execution_count": 8,
   "metadata": {},
   "outputs": [],
   "source": [
    "con.execute(\"DROP TABLE tiles\")\n",
    "con.execute(\"CREATE TABLE tiles(a REAL, b REAL, c REAL)\")\n",
    "con.execute(\"CREATE INDEX 'tiles_ordering' ON tiles(b)\")\n",
    "con.commit()"
   ]
  },
  {
   "cell_type": "code",
   "execution_count": 9,
   "metadata": {},
   "outputs": [],
   "source": [
    "rows = all_data[: int(1e6), :3]"
   ]
  },
  {
   "cell_type": "code",
   "execution_count": 10,
   "metadata": {},
   "outputs": [
    {
     "name": "stdout",
     "output_type": "stream",
     "text": [
      "CPU times: user 1.72 s, sys: 165 ms, total: 1.88 s\n",
      "Wall time: 1.89 s\n"
     ]
    }
   ],
   "source": [
    "%%time\n",
    "con.executemany(\"INSERT INTO tiles VALUES (?, ?, ?)\", rows)\n",
    "con.execute(\"select count(*) from tiles\").fetchall()\n",
    "con.commit()"
   ]
  },
  {
   "cell_type": "code",
   "execution_count": 11,
   "metadata": {},
   "outputs": [
    {
     "name": "stdout",
     "output_type": "stream",
     "text": [
      "CPU times: user 745 ms, sys: 175 ms, total: 920 ms\n",
      "Wall time: 921 ms\n"
     ]
    },
    {
     "data": {
      "text/plain": [
       "array([[0.02384287, 0.06661493, 0.06657071],\n",
       "       [0.02384294, 0.06661493, 0.06657071],\n",
       "       [0.02384302, 0.06661493, 0.06657071],\n",
       "       ...,\n",
       "       [0.01119357, 0.17071873, 0.19691087],\n",
       "       [0.01119357, 0.17071873, 0.19691087],\n",
       "       [0.01119357, 0.17071873, 0.19691087]])"
      ]
     },
     "execution_count": 11,
     "metadata": {},
     "output_type": "execute_result"
    }
   ],
   "source": [
    "%%time\n",
    "np.array(con.execute(\"select * from tiles order by b limit 1000000\").fetchall())"
   ]
  },
  {
   "cell_type": "code",
   "execution_count": 32,
   "metadata": {},
   "outputs": [
    {
     "data": {
      "text/plain": [
       "array([[4.73778974e-03, 9.10531282e-02, 9.28967297e-02, ...,\n",
       "        0.00000000e+00, 1.00000000e+00, 1.00000000e+00],\n",
       "       [4.73778974e-03, 7.17036650e-02, 7.63351843e-02, ...,\n",
       "        0.00000000e+00, 1.00000000e+00, 1.00000000e+00],\n",
       "       [1.11023095e-02, 8.98064300e-02, 9.32878554e-02, ...,\n",
       "        1.00000000e+00, 1.00000000e+00, 1.00000000e+00],\n",
       "       ...,\n",
       "       [2.38109808e-02, 1.25575259e-01, 1.45150363e-01, ...,\n",
       "        1.00000000e+00, 0.00000000e+00, 1.00000000e+00],\n",
       "       [2.38109808e-02, 1.25208780e-01, 1.39460012e-01, ...,\n",
       "        0.00000000e+00, 1.00000000e+00, 1.00000000e+00],\n",
       "       [2.38109808e-02, 1.00000000e+02, 1.00000000e+02, ...,\n",
       "        0.00000000e+00, 0.00000000e+00, 1.00000000e+00]])"
      ]
     },
     "execution_count": 32,
     "metadata": {},
     "output_type": "execute_result"
    }
   ],
   "source": [
    "all_data[]"
   ]
  },
  {
   "attachments": {},
   "cell_type": "markdown",
   "metadata": {},
   "source": [
    "## duckdb"
   ]
  },
  {
   "cell_type": "code",
   "execution_count": 25,
   "metadata": {},
   "outputs": [
    {
     "data": {
      "text/plain": [
       "<duckdb.DuckDBPyConnection at 0x1791344b0>"
      ]
     },
     "execution_count": 25,
     "metadata": {},
     "output_type": "execute_result"
    }
   ],
   "source": [
    "import duckdb\n",
    "import pyarrow as pa\n",
    "import pandas as pd\n",
    "\n",
    "con = duckdb.connect(database=\":memory:\")\n",
    "# con.execute(\"DROP TABLE tiles\")\n",
    "con.execute(\"CREATE TABLE tiles(a REAL, b REAL, c REAL)\")\n",
    "con.execute(\"CREATE INDEX tiles_ordering ON tiles(b)\")\n",
    "con.commit()"
   ]
  },
  {
   "cell_type": "code",
   "execution_count": 30,
   "metadata": {},
   "outputs": [
    {
     "name": "stdout",
     "output_type": "stream",
     "text": [
      "CPU times: user 242 ms, sys: 8.41 ms, total: 250 ms\n",
      "Wall time: 215 ms\n"
     ]
    },
    {
     "data": {
      "text/plain": [
       "[(1000000,)]"
      ]
     },
     "execution_count": 30,
     "metadata": {},
     "output_type": "execute_result"
    }
   ],
   "source": [
    "%%time\n",
    "tbl = pa.Table.from_pandas(pd.DataFrame(rows))\n",
    "con.execute(\"insert into tiles select * from tbl\").fetchall()"
   ]
  },
  {
   "cell_type": "code",
   "execution_count": 29,
   "metadata": {},
   "outputs": [
    {
     "name": "stdout",
     "output_type": "stream",
     "text": [
      "CPU times: user 290 ms, sys: 39.3 ms, total: 329 ms\n",
      "Wall time: 169 ms\n"
     ]
    },
    {
     "data": {
      "text/plain": [
       "{'a': array([0.02384287, 0.02384294, 0.02384302, ..., 0.02382353, 0.02382359,\n",
       "        0.02382366], dtype=float32),\n",
       " 'b': array([0.06661493, 0.06661493, 0.06661493, ..., 0.0729733 , 0.0729733 ,\n",
       "        0.0729733 ], dtype=float32),\n",
       " 'c': array([0.06657071, 0.06657071, 0.06657071, ..., 0.07032984, 0.07032984,\n",
       "        0.07032984], dtype=float32)}"
      ]
     },
     "execution_count": 29,
     "metadata": {},
     "output_type": "execute_result"
    }
   ],
   "source": [
    "%%time\n",
    "con.execute(\"select * from tiles order by b limit 1000000\").fetchnumpy()"
   ]
  },
  {
   "attachments": {},
   "cell_type": "markdown",
   "metadata": {},
   "source": [
    "## redis??"
   ]
  },
  {
   "cell_type": "code",
   "execution_count": 1,
   "metadata": {},
   "outputs": [],
   "source": [
    "import redis"
   ]
  },
  {
   "cell_type": "code",
   "execution_count": 2,
   "metadata": {},
   "outputs": [],
   "source": [
    "r = redis.Redis(host=\"localhost\", port=6379, db=0)"
   ]
  },
  {
   "cell_type": "code",
   "execution_count": 3,
   "metadata": {},
   "outputs": [
    {
     "data": {
      "text/plain": [
       "True"
      ]
     },
     "execution_count": 3,
     "metadata": {},
     "output_type": "execute_result"
    }
   ],
   "source": [
    "r.set(\"foo\", \"bar\")"
   ]
  },
  {
   "cell_type": "code",
   "execution_count": 4,
   "metadata": {},
   "outputs": [
    {
     "data": {
      "text/plain": [
       "b'bar'"
      ]
     },
     "execution_count": 4,
     "metadata": {},
     "output_type": "execute_result"
    }
   ],
   "source": [
    "r.get(\"foo\")"
   ]
  },
  {
   "cell_type": "markdown",
   "metadata": {},
   "source": []
  }
 ],
 "metadata": {
  "kernelspec": {
   "display_name": "Python 3.10.5 ('confirm')",
   "language": "python",
   "name": "python3"
  },
  "language_info": {
   "codemirror_mode": {
    "name": "ipython",
    "version": 3
   },
   "file_extension": ".py",
   "mimetype": "text/x-python",
   "name": "python",
   "nbconvert_exporter": "python",
   "pygments_lexer": "ipython3",
   "version": "3.10.5"
  },
  "orig_nbformat": 4,
  "vscode": {
   "interpreter": {
    "hash": "b4c6ec5b2d6c7b38df115d547b82cd53ca25eea58d87299956d35a9dc79f19f1"
   }
  }
 },
 "nbformat": 4,
 "nbformat_minor": 2
}
