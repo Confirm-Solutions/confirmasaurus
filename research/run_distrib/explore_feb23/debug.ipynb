{
 "cells": [
  {
   "cell_type": "code",
   "execution_count": 27,
   "metadata": {},
   "outputs": [
    {
     "name": "stderr",
     "output_type": "stream",
     "text": [
      "INFO:confirm.cloud.clickhouse:[worker_id=None] \n",
      "Clickhouse config: default@t2n4z83v82.us-east-1.aws.clickhouse.cloud:8443/None\n",
      "INFO:confirm.cloud.clickhouse:[worker_id=None] \n",
      "Clickhouse config: default@t2n4z83v82.us-east-1.aws.clickhouse.cloud:8443/41ef6dbb374d4bb9a62a0ea8d98b5c9a\n",
      "INFO:confirm.cloud.clickhouse:[worker_id=None] \n",
      "Connected to job 41ef6dbb374d4bb9a62a0ea8d98b5c9a\n",
      "INFO:confirm.cloud.clickhouse:[worker_id=None] \n",
      "Clickhouse config: default@t2n4z83v82.us-east-1.aws.clickhouse.cloud:8443/None\n",
      "INFO:confirm.cloud.clickhouse:[worker_id=None] \n",
      "Clickhouse config: default@t2n4z83v82.us-east-1.aws.clickhouse.cloud:8443/0da447c75edf4ef7b2cc905c6c004952\n",
      "INFO:confirm.cloud.clickhouse:[worker_id=None] \n",
      "Connected to job 0da447c75edf4ef7b2cc905c6c004952\n"
     ]
    }
   ],
   "source": [
    "import confirm.cloud.clickhouse as ch\n",
    "\n",
    "# Bdb = ch.Clickhouse.connect(job_id = '544d8afac72e4633809a162a480ed998')\n",
    "Adb = ch.Clickhouse.connect(job_id=\"41ef6dbb374d4bb9a62a0ea8d98b5c9a\")\n",
    "Bdb = ch.Clickhouse.connect(job_id=\"0da447c75edf4ef7b2cc905c6c004952\")"
   ]
  },
  {
   "cell_type": "code",
   "execution_count": 28,
   "metadata": {},
   "outputs": [],
   "source": [
    "At = Adb.get_results()\n",
    "Bt = Bdb.get_results()"
   ]
  },
  {
   "cell_type": "code",
   "execution_count": 29,
   "metadata": {},
   "outputs": [
    {
     "data": {
      "text/plain": [
       "((39, 32), (39, 32))"
      ]
     },
     "execution_count": 29,
     "metadata": {},
     "output_type": "execute_result"
    }
   ],
   "source": [
    "At.shape, Bt.shape"
   ]
  },
  {
   "cell_type": "code",
   "execution_count": 30,
   "metadata": {},
   "outputs": [],
   "source": [
    "import pandas as pd\n",
    "\n",
    "drop_cols = [\"id\", \"parent_id\", \"step_iter\", \"creator_id\", \"processor_id\", \"creation_time\", \"processing_time\"]\n",
    "\n",
    "AAA = At.drop(drop_cols, axis=1).sort_values(['step_id', 'theta0']).reset_index(drop=True)\n",
    "BBB = Bt.drop(drop_cols, axis=1).sort_values(['step_id', 'theta0']).reset_index(drop=True)\n",
    "pd.testing.assert_frame_equal(AAA, BBB, check_dtype=False)"
   ]
  },
  {
   "cell_type": "code",
   "execution_count": 32,
   "metadata": {},
   "outputs": [
    {
     "data": {
      "text/plain": [
       "0     0.0\n",
       "1     0.0\n",
       "2     0.0\n",
       "3     0.0\n",
       "4     0.0\n",
       "5     0.0\n",
       "6     0.0\n",
       "7     0.0\n",
       "8     0.0\n",
       "9     0.0\n",
       "10    0.0\n",
       "11    0.0\n",
       "12    0.0\n",
       "13    0.0\n",
       "14    0.0\n",
       "15    0.0\n",
       "16    0.0\n",
       "17    0.0\n",
       "18    0.0\n",
       "19    0.0\n",
       "20    0.0\n",
       "21    0.0\n",
       "22    0.0\n",
       "23    0.0\n",
       "24    0.0\n",
       "25    0.0\n",
       "26    0.0\n",
       "27    0.0\n",
       "28    0.0\n",
       "29    0.0\n",
       "30    0.0\n",
       "31    0.0\n",
       "32    0.0\n",
       "33    0.0\n",
       "34    0.0\n",
       "35    0.0\n",
       "36    0.0\n",
       "37    0.0\n",
       "38    0.0\n",
       "Name: twb_max_lams, dtype: float64"
      ]
     },
     "execution_count": 32,
     "metadata": {},
     "output_type": "execute_result"
    }
   ],
   "source": [
    "AAA['twb_max_lams'] - BBB['twb_max_lams']"
   ]
  },
  {
   "cell_type": "code",
   "execution_count": 31,
   "metadata": {},
   "outputs": [
    {
     "data": {
      "text/html": [
       "<div>\n",
       "<style scoped>\n",
       "    .dataframe tbody tr th:only-of-type {\n",
       "        vertical-align: middle;\n",
       "    }\n",
       "\n",
       "    .dataframe tbody tr th {\n",
       "        vertical-align: top;\n",
       "    }\n",
       "\n",
       "    .dataframe thead th {\n",
       "        text-align: right;\n",
       "    }\n",
       "</style>\n",
       "<table border=\"1\" class=\"dataframe\">\n",
       "  <thead>\n",
       "    <tr style=\"text-align: right;\">\n",
       "      <th></th>\n",
       "      <th>theta0</th>\n",
       "      <th>radii0</th>\n",
       "      <th>null_truth0</th>\n",
       "      <th>K</th>\n",
       "      <th>step_id</th>\n",
       "      <th>grid_cost</th>\n",
       "      <th>impossible</th>\n",
       "      <th>orderer</th>\n",
       "      <th>alpha0</th>\n",
       "      <th>twb_max_lams</th>\n",
       "      <th>twb_mean_lams</th>\n",
       "      <th>twb_min_lams</th>\n",
       "      <th>lams</th>\n",
       "      <th>B_lams0</th>\n",
       "      <th>B_lams1</th>\n",
       "      <th>B_lams2</th>\n",
       "      <th>B_lams3</th>\n",
       "      <th>B_lams4</th>\n",
       "      <th>twb_lams0</th>\n",
       "      <th>twb_lams1</th>\n",
       "      <th>twb_lams2</th>\n",
       "      <th>twb_lams3</th>\n",
       "      <th>twb_lams4</th>\n",
       "      <th>active</th>\n",
       "      <th>eligible</th>\n",
       "    </tr>\n",
       "  </thead>\n",
       "  <tbody>\n",
       "    <tr>\n",
       "      <th>0</th>\n",
       "      <td>-0.50</td>\n",
       "      <td>0.50</td>\n",
       "      <td>1</td>\n",
       "      <td>8192</td>\n",
       "      <td>0</td>\n",
       "      <td>0.019327</td>\n",
       "      <td>0</td>\n",
       "      <td>-2.041470</td>\n",
       "      <td>0.005673</td>\n",
       "      <td>-1.817141</td>\n",
       "      <td>-1.957940</td>\n",
       "      <td>-2.041470</td>\n",
       "      <td>-1.985793</td>\n",
       "      <td>-1.989771</td>\n",
       "      <td>-1.989771</td>\n",
       "      <td>-1.915074</td>\n",
       "      <td>-2.014259</td>\n",
       "      <td>-1.991126</td>\n",
       "      <td>-1.991126</td>\n",
       "      <td>-1.948838</td>\n",
       "      <td>-2.041470</td>\n",
       "      <td>-1.817141</td>\n",
       "      <td>-1.991126</td>\n",
       "      <td>0</td>\n",
       "      <td>0</td>\n",
       "    </tr>\n",
       "    <tr>\n",
       "      <th>1</th>\n",
       "      <td>-0.75</td>\n",
       "      <td>0.25</td>\n",
       "      <td>1</td>\n",
       "      <td>8192</td>\n",
       "      <td>1</td>\n",
       "      <td>0.012713</td>\n",
       "      <td>0</td>\n",
       "      <td>-1.481911</td>\n",
       "      <td>0.012287</td>\n",
       "      <td>-1.438797</td>\n",
       "      <td>-1.463035</td>\n",
       "      <td>-1.481911</td>\n",
       "      <td>-1.454579</td>\n",
       "      <td>-1.454579</td>\n",
       "      <td>-1.465404</td>\n",
       "      <td>-1.423409</td>\n",
       "      <td>-1.454579</td>\n",
       "      <td>-1.474801</td>\n",
       "      <td>-1.455609</td>\n",
       "      <td>-1.459480</td>\n",
       "      <td>-1.481911</td>\n",
       "      <td>-1.438797</td>\n",
       "      <td>-1.479379</td>\n",
       "      <td>0</td>\n",
       "      <td>0</td>\n",
       "    </tr>\n",
       "  </tbody>\n",
       "</table>\n",
       "</div>"
      ],
      "text/plain": [
       "   theta0  radii0  null_truth0     K  step_id  grid_cost  impossible   orderer    alpha0  twb_max_lams  twb_mean_lams  twb_min_lams      lams   B_lams0   B_lams1   B_lams2   B_lams3   B_lams4  twb_lams0  twb_lams1  twb_lams2  twb_lams3  twb_lams4  active  eligible\n",
       "0   -0.50    0.50            1  8192        0   0.019327           0 -2.041470  0.005673     -1.817141      -1.957940     -2.041470 -1.985793 -1.989771 -1.989771 -1.915074 -2.014259 -1.991126  -1.991126  -1.948838  -2.041470  -1.817141  -1.991126       0         0\n",
       "1   -0.75    0.25            1  8192        1   0.012713           0 -1.481911  0.012287     -1.438797      -1.463035     -1.481911 -1.454579 -1.454579 -1.465404 -1.423409 -1.454579 -1.474801  -1.455609  -1.459480  -1.481911  -1.438797  -1.479379       0         0"
      ]
     },
     "metadata": {},
     "output_type": "display_data"
    },
    {
     "data": {
      "text/html": [
       "<div>\n",
       "<style scoped>\n",
       "    .dataframe tbody tr th:only-of-type {\n",
       "        vertical-align: middle;\n",
       "    }\n",
       "\n",
       "    .dataframe tbody tr th {\n",
       "        vertical-align: top;\n",
       "    }\n",
       "\n",
       "    .dataframe thead th {\n",
       "        text-align: right;\n",
       "    }\n",
       "</style>\n",
       "<table border=\"1\" class=\"dataframe\">\n",
       "  <thead>\n",
       "    <tr style=\"text-align: right;\">\n",
       "      <th></th>\n",
       "      <th>theta0</th>\n",
       "      <th>radii0</th>\n",
       "      <th>null_truth0</th>\n",
       "      <th>K</th>\n",
       "      <th>step_id</th>\n",
       "      <th>grid_cost</th>\n",
       "      <th>impossible</th>\n",
       "      <th>orderer</th>\n",
       "      <th>alpha0</th>\n",
       "      <th>twb_max_lams</th>\n",
       "      <th>twb_mean_lams</th>\n",
       "      <th>twb_min_lams</th>\n",
       "      <th>lams</th>\n",
       "      <th>B_lams0</th>\n",
       "      <th>B_lams1</th>\n",
       "      <th>B_lams2</th>\n",
       "      <th>B_lams3</th>\n",
       "      <th>B_lams4</th>\n",
       "      <th>twb_lams0</th>\n",
       "      <th>twb_lams1</th>\n",
       "      <th>twb_lams2</th>\n",
       "      <th>twb_lams3</th>\n",
       "      <th>twb_lams4</th>\n",
       "      <th>active</th>\n",
       "      <th>eligible</th>\n",
       "    </tr>\n",
       "  </thead>\n",
       "  <tbody>\n",
       "    <tr>\n",
       "      <th>0</th>\n",
       "      <td>-0.50</td>\n",
       "      <td>0.50</td>\n",
       "      <td>1</td>\n",
       "      <td>8192</td>\n",
       "      <td>0</td>\n",
       "      <td>0.019327</td>\n",
       "      <td>0</td>\n",
       "      <td>-2.041470</td>\n",
       "      <td>0.005673</td>\n",
       "      <td>-1.817141</td>\n",
       "      <td>-1.957940</td>\n",
       "      <td>-2.041470</td>\n",
       "      <td>-1.985793</td>\n",
       "      <td>-1.989771</td>\n",
       "      <td>-1.989771</td>\n",
       "      <td>-1.915074</td>\n",
       "      <td>-2.014259</td>\n",
       "      <td>-1.991126</td>\n",
       "      <td>-1.991126</td>\n",
       "      <td>-1.948838</td>\n",
       "      <td>-2.041470</td>\n",
       "      <td>-1.817141</td>\n",
       "      <td>-1.991126</td>\n",
       "      <td>0</td>\n",
       "      <td>0</td>\n",
       "    </tr>\n",
       "    <tr>\n",
       "      <th>1</th>\n",
       "      <td>-0.75</td>\n",
       "      <td>0.25</td>\n",
       "      <td>1</td>\n",
       "      <td>8192</td>\n",
       "      <td>1</td>\n",
       "      <td>0.012713</td>\n",
       "      <td>0</td>\n",
       "      <td>-1.481911</td>\n",
       "      <td>0.012287</td>\n",
       "      <td>-1.438797</td>\n",
       "      <td>-1.463035</td>\n",
       "      <td>-1.481911</td>\n",
       "      <td>-1.454579</td>\n",
       "      <td>-1.454579</td>\n",
       "      <td>-1.465404</td>\n",
       "      <td>-1.423409</td>\n",
       "      <td>-1.454579</td>\n",
       "      <td>-1.474801</td>\n",
       "      <td>-1.455609</td>\n",
       "      <td>-1.459480</td>\n",
       "      <td>-1.481911</td>\n",
       "      <td>-1.438797</td>\n",
       "      <td>-1.479379</td>\n",
       "      <td>0</td>\n",
       "      <td>0</td>\n",
       "    </tr>\n",
       "  </tbody>\n",
       "</table>\n",
       "</div>"
      ],
      "text/plain": [
       "   theta0  radii0  null_truth0     K  step_id  grid_cost  impossible   orderer    alpha0  twb_max_lams  twb_mean_lams  twb_min_lams      lams   B_lams0   B_lams1   B_lams2   B_lams3   B_lams4  twb_lams0  twb_lams1  twb_lams2  twb_lams3  twb_lams4  active  eligible\n",
       "0   -0.50    0.50            1  8192        0   0.019327           0 -2.041470  0.005673     -1.817141      -1.957940     -2.041470 -1.985793 -1.989771 -1.989771 -1.915074 -2.014259 -1.991126  -1.991126  -1.948838  -2.041470  -1.817141  -1.991126       0         0\n",
       "1   -0.75    0.25            1  8192        1   0.012713           0 -1.481911  0.012287     -1.438797      -1.463035     -1.481911 -1.454579 -1.454579 -1.465404 -1.423409 -1.454579 -1.474801  -1.455609  -1.459480  -1.481911  -1.438797  -1.479379       0         0"
      ]
     },
     "metadata": {},
     "output_type": "display_data"
    },
    {
     "data": {
      "text/plain": [
       "(None, None)"
      ]
     },
     "execution_count": 31,
     "metadata": {},
     "output_type": "execute_result"
    }
   ],
   "source": [
    "pd.set_option('display.max_columns', None)\n",
    "display(AAA.head(2)), display(BBB.head(2))"
   ]
  },
  {
   "cell_type": "code",
   "execution_count": 5,
   "metadata": {},
   "outputs": [],
   "source": [
    "from IPython.display import display"
   ]
  },
  {
   "cell_type": "code",
   "execution_count": 6,
   "metadata": {},
   "outputs": [
    {
     "data": {
      "text/html": [
       "<div>\n",
       "<style scoped>\n",
       "    .dataframe tbody tr th:only-of-type {\n",
       "        vertical-align: middle;\n",
       "    }\n",
       "\n",
       "    .dataframe tbody tr th {\n",
       "        vertical-align: top;\n",
       "    }\n",
       "\n",
       "    .dataframe thead th {\n",
       "        text-align: right;\n",
       "    }\n",
       "</style>\n",
       "<table border=\"1\" class=\"dataframe\">\n",
       "  <thead>\n",
       "    <tr style=\"text-align: right;\">\n",
       "      <th></th>\n",
       "      <th>id</th>\n",
       "    </tr>\n",
       "  </thead>\n",
       "  <tbody>\n",
       "  </tbody>\n",
       "</table>\n",
       "</div>"
      ],
      "text/plain": [
       "Empty DataFrame\n",
       "Columns: [id]\n",
       "Index: []"
      ]
     },
     "execution_count": 6,
     "metadata": {},
     "output_type": "execute_result"
    }
   ],
   "source": [
    "ch._query_df(Adb.client, \"select id from tiles group by id having count(*) > 1\")"
   ]
  },
  {
   "cell_type": "code",
   "execution_count": 7,
   "metadata": {},
   "outputs": [
    {
     "data": {
      "text/html": [
       "<div>\n",
       "<style scoped>\n",
       "    .dataframe tbody tr th:only-of-type {\n",
       "        vertical-align: middle;\n",
       "    }\n",
       "\n",
       "    .dataframe tbody tr th {\n",
       "        vertical-align: top;\n",
       "    }\n",
       "\n",
       "    .dataframe thead th {\n",
       "        text-align: right;\n",
       "    }\n",
       "</style>\n",
       "<table border=\"1\" class=\"dataframe\">\n",
       "  <thead>\n",
       "    <tr style=\"text-align: right;\">\n",
       "      <th></th>\n",
       "      <th>id</th>\n",
       "    </tr>\n",
       "  </thead>\n",
       "  <tbody>\n",
       "    <tr>\n",
       "      <th>0</th>\n",
       "      <td>4373889141130919936</td>\n",
       "    </tr>\n",
       "  </tbody>\n",
       "</table>\n",
       "</div>"
      ],
      "text/plain": [
       "                    id\n",
       "0  4373889141130919936"
      ]
     },
     "execution_count": 7,
     "metadata": {},
     "output_type": "execute_result"
    }
   ],
   "source": [
    "ch._query_df(Bdb.client, \"select id from tiles group by id having count(*) > 1\")"
   ]
  },
  {
   "cell_type": "code",
   "execution_count": 8,
   "metadata": {},
   "outputs": [
    {
     "data": {
      "text/html": [
       "<div>\n",
       "<style scoped>\n",
       "    .dataframe tbody tr th:only-of-type {\n",
       "        vertical-align: middle;\n",
       "    }\n",
       "\n",
       "    .dataframe tbody tr th {\n",
       "        vertical-align: top;\n",
       "    }\n",
       "\n",
       "    .dataframe thead th {\n",
       "        text-align: right;\n",
       "    }\n",
       "</style>\n",
       "<table border=\"1\" class=\"dataframe\">\n",
       "  <thead>\n",
       "    <tr style=\"text-align: right;\">\n",
       "      <th></th>\n",
       "      <th>id</th>\n",
       "    </tr>\n",
       "  </thead>\n",
       "  <tbody>\n",
       "    <tr>\n",
       "      <th>0</th>\n",
       "      <td>4373889141130919936</td>\n",
       "    </tr>\n",
       "  </tbody>\n",
       "</table>\n",
       "</div>"
      ],
      "text/plain": [
       "                    id\n",
       "0  4373889141130919936"
      ]
     },
     "execution_count": 8,
     "metadata": {},
     "output_type": "execute_result"
    }
   ],
   "source": [
    "ch._query_df(Bdb.client, \"select id from results group by id having count(*) > 1\")"
   ]
  },
  {
   "cell_type": "code",
   "execution_count": 9,
   "metadata": {},
   "outputs": [
    {
     "data": {
      "text/html": [
       "<div>\n",
       "<style scoped>\n",
       "    .dataframe tbody tr th:only-of-type {\n",
       "        vertical-align: middle;\n",
       "    }\n",
       "\n",
       "    .dataframe tbody tr th {\n",
       "        vertical-align: top;\n",
       "    }\n",
       "\n",
       "    .dataframe thead th {\n",
       "        text-align: right;\n",
       "    }\n",
       "</style>\n",
       "<table border=\"1\" class=\"dataframe\">\n",
       "  <thead>\n",
       "    <tr style=\"text-align: right;\">\n",
       "      <th></th>\n",
       "      <th>id</th>\n",
       "    </tr>\n",
       "  </thead>\n",
       "  <tbody>\n",
       "    <tr>\n",
       "      <th>0</th>\n",
       "      <td>4373889141130919936</td>\n",
       "    </tr>\n",
       "  </tbody>\n",
       "</table>\n",
       "</div>"
      ],
      "text/plain": [
       "                    id\n",
       "0  4373889141130919936"
      ]
     },
     "execution_count": 9,
     "metadata": {},
     "output_type": "execute_result"
    }
   ],
   "source": [
    "ch._query_df(Bdb.client, \"select id from done group by id having count(*) > 1\")"
   ]
  },
  {
   "cell_type": "code",
   "execution_count": 10,
   "metadata": {},
   "outputs": [
    {
     "data": {
      "text/html": [
       "<div>\n",
       "<style scoped>\n",
       "    .dataframe tbody tr th:only-of-type {\n",
       "        vertical-align: middle;\n",
       "    }\n",
       "\n",
       "    .dataframe tbody tr th {\n",
       "        vertical-align: top;\n",
       "    }\n",
       "\n",
       "    .dataframe thead th {\n",
       "        text-align: right;\n",
       "    }\n",
       "</style>\n",
       "<table border=\"1\" class=\"dataframe\">\n",
       "  <thead>\n",
       "    <tr style=\"text-align: right;\">\n",
       "      <th></th>\n",
       "      <th>step_id</th>\n",
       "      <th>step_iter</th>\n",
       "      <th>id</th>\n",
       "      <th>active</th>\n",
       "      <th>selection_time</th>\n",
       "      <th>worker_id</th>\n",
       "      <th>refine</th>\n",
       "      <th>deepen</th>\n",
       "    </tr>\n",
       "  </thead>\n",
       "  <tbody>\n",
       "    <tr>\n",
       "      <th>0</th>\n",
       "      <td>0</td>\n",
       "      <td>0</td>\n",
       "      <td>4373889141130919936</td>\n",
       "      <td>0</td>\n",
       "      <td>1.674261e+09</td>\n",
       "      <td>3</td>\n",
       "      <td>1</td>\n",
       "      <td>0</td>\n",
       "    </tr>\n",
       "    <tr>\n",
       "      <th>1</th>\n",
       "      <td>0</td>\n",
       "      <td>0</td>\n",
       "      <td>4373889141130919936</td>\n",
       "      <td>0</td>\n",
       "      <td>1.674261e+09</td>\n",
       "      <td>3</td>\n",
       "      <td>0</td>\n",
       "      <td>1</td>\n",
       "    </tr>\n",
       "  </tbody>\n",
       "</table>\n",
       "</div>"
      ],
      "text/plain": [
       "   step_id  step_iter                   id  active    selection_time  worker_id  \\\n",
       "0        0          0  4373889141130919936       0  1.674261e+09          3   \n",
       "1        0          0  4373889141130919936       0  1.674261e+09          3   \n",
       "\n",
       "   refine  deepen  \n",
       "0       1       0  \n",
       "1       0       1  "
      ]
     },
     "execution_count": 10,
     "metadata": {},
     "output_type": "execute_result"
    }
   ],
   "source": [
    "ch._query_df(Bdb.client, 'select * from done where id = 4373889141130919936')"
   ]
  },
  {
   "cell_type": "code",
   "execution_count": 11,
   "metadata": {},
   "outputs": [
    {
     "data": {
      "text/html": [
       "<div>\n",
       "<style scoped>\n",
       "    .dataframe tbody tr th:only-of-type {\n",
       "        vertical-align: middle;\n",
       "    }\n",
       "\n",
       "    .dataframe tbody tr th {\n",
       "        vertical-align: top;\n",
       "    }\n",
       "\n",
       "    .dataframe thead th {\n",
       "        text-align: right;\n",
       "    }\n",
       "</style>\n",
       "<table border=\"1\" class=\"dataframe\">\n",
       "  <thead>\n",
       "    <tr style=\"text-align: right;\">\n",
       "      <th></th>\n",
       "      <th>id</th>\n",
       "      <th>active</th>\n",
       "      <th>parent_id</th>\n",
       "      <th>theta0</th>\n",
       "      <th>radii0</th>\n",
       "      <th>null_truth0</th>\n",
       "      <th>K</th>\n",
       "      <th>worker_id</th>\n",
       "      <th>step_id</th>\n",
       "      <th>step_iter</th>\n",
       "      <th>creation_time</th>\n",
       "    </tr>\n",
       "  </thead>\n",
       "  <tbody>\n",
       "    <tr>\n",
       "      <th>0</th>\n",
       "      <td>4373889141130919936</td>\n",
       "      <td>1</td>\n",
       "      <td>4373888591374581760</td>\n",
       "      <td>-0.75</td>\n",
       "      <td>0.25</td>\n",
       "      <td>1</td>\n",
       "      <td>8192</td>\n",
       "      <td>0</td>\n",
       "      <td>0</td>\n",
       "      <td>0</td>\n",
       "      <td>0.0</td>\n",
       "    </tr>\n",
       "    <tr>\n",
       "      <th>1</th>\n",
       "      <td>4373889141130919936</td>\n",
       "      <td>1</td>\n",
       "      <td>4373888591374581760</td>\n",
       "      <td>-0.25</td>\n",
       "      <td>0.25</td>\n",
       "      <td>1</td>\n",
       "      <td>8192</td>\n",
       "      <td>0</td>\n",
       "      <td>0</td>\n",
       "      <td>0</td>\n",
       "      <td>0.0</td>\n",
       "    </tr>\n",
       "  </tbody>\n",
       "</table>\n",
       "</div>"
      ],
      "text/plain": [
       "                    id  active            parent_id  theta0  radii0  \\\n",
       "0  4373889141130919936       1  4373888591374581760   -0.75    0.25   \n",
       "1  4373889141130919936       1  4373888591374581760   -0.25    0.25   \n",
       "\n",
       "   null_truth0     K  worker_id  step_id  step_iter  creation_time  \n",
       "0            1  8192          0        0          0            0.0  \n",
       "1            1  8192          0        0          0            0.0  "
      ]
     },
     "execution_count": 11,
     "metadata": {},
     "output_type": "execute_result"
    }
   ],
   "source": [
    "ch._query_df(Bdb.client, 'select * from tiles where id = 4373889141130919936')"
   ]
  },
  {
   "cell_type": "code",
   "execution_count": 13,
   "metadata": {},
   "outputs": [
    {
     "data": {
      "text/plain": [
       "Index(['id', 'active', 'parent_id', 'theta0', 'radii0', 'null_truth0', 'K',\n",
       "       'step_id', 'step_iter', 'creation_time', 'worker_id', 'processing_time',\n",
       "       'eligible', 'grid_cost', 'impossible', 'orderer', 'alpha0',\n",
       "       'twb_max_lams', 'twb_mean_lams', 'twb_min_lams', 'lams', 'B_lams0',\n",
       "       'B_lams1', 'B_lams2', 'B_lams3', 'B_lams4', 'twb_lams0', 'twb_lams1',\n",
       "       'twb_lams2', 'twb_lams3', 'twb_lams4'],\n",
       "      dtype='object')"
      ]
     },
     "execution_count": 13,
     "metadata": {},
     "output_type": "execute_result"
    }
   ],
   "source": [
    "ch._query_df(Bdb.client, 'select * from results where id = 4373889141130919936').columns"
   ]
  },
  {
   "cell_type": "code",
   "execution_count": 65,
   "metadata": {},
   "outputs": [
    {
     "name": "stdout",
     "output_type": "stream",
     "text": [
      "0 (2, 31) (2, 31)\n",
      "1 (3, 31) (3, 31)\n",
      "2 (4, 31) (4, 31)\n",
      "3 (5, 31) (5, 31)\n",
      "4 (6, 31) (6, 31)\n",
      "5 (7, 31) (7, 31)\n",
      "6 (11, 31) (11, 31)\n",
      "7 (19, 31) (19, 31)\n",
      "8 (35, 31) (35, 31)\n",
      "9 (60, 31) (60, 31)\n",
      "10 (61, 31) (61, 31)\n",
      "11 (62, 31) (62, 31)\n",
      "12 (0, 31) (0, 31)\n",
      "13 (0, 31) (0, 31)\n"
     ]
    }
   ],
   "source": [
    "for step_id in range(14):\n",
    "    AA = At.loc[At['step_id'] == step_id]\n",
    "    BB = Bt.loc[Bt['step_id'] == step_id]\n",
    "    print(step_id, AA.shape, BB.shape)\n",
    "    if AA.shape[0] != BB.shape[0]:\n",
    "        display(AA)\n",
    "        display(BB)"
   ]
  },
  {
   "cell_type": "code",
   "execution_count": null,
   "metadata": {},
   "outputs": [],
   "source": []
  }
 ],
 "metadata": {
  "kernelspec": {
   "display_name": "confirm",
   "language": "python",
   "name": "python3"
  },
  "language_info": {
   "codemirror_mode": {
    "name": "ipython",
    "version": 3
   },
   "file_extension": ".py",
   "mimetype": "text/x-python",
   "name": "python",
   "nbconvert_exporter": "python",
   "pygments_lexer": "ipython3",
   "version": "3.10.8"
  },
  "orig_nbformat": 4,
  "vscode": {
   "interpreter": {
    "hash": "b4c6ec5b2d6c7b38df115d547b82cd53ca25eea58d87299956d35a9dc79f19f1"
   }
  }
 },
 "nbformat": 4,
 "nbformat_minor": 2
}
