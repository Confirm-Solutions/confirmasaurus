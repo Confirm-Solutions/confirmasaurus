{
 "cells": [
  {
   "cell_type": "code",
   "execution_count": 69,
   "metadata": {},
   "outputs": [
    {
     "name": "stderr",
     "output_type": "stream",
     "text": [
      "INFO:confirm.cloud.clickhouse:[worker_id=None] Clickhouse config: default@t2n4z83v82.us-east-1.aws.clickhouse.cloud:8443/None\n",
      "INFO:confirm.cloud.clickhouse:[worker_id=None] Clickhouse config: default@t2n4z83v82.us-east-1.aws.clickhouse.cloud:8443/544d8afac72e4633809a162a480ed998\n",
      "INFO:confirm.cloud.clickhouse:[worker_id=None] Connected to job 544d8afac72e4633809a162a480ed998\n"
     ]
    }
   ],
   "source": [
    "db = ch.Clickhouse.connect(job_id = '544d8afac72e4633809a162a480ed998')"
   ]
  },
  {
   "cell_type": "code",
   "execution_count": 72,
   "metadata": {},
   "outputs": [],
   "source": [
    "T = db.get_all()"
   ]
  },
  {
   "cell_type": "code",
   "execution_count": 73,
   "metadata": {},
   "outputs": [
    {
     "data": {
      "text/html": [
       "<div>\n",
       "<style scoped>\n",
       "    .dataframe tbody tr th:only-of-type {\n",
       "        vertical-align: middle;\n",
       "    }\n",
       "\n",
       "    .dataframe tbody tr th {\n",
       "        vertical-align: top;\n",
       "    }\n",
       "\n",
       "    .dataframe thead th {\n",
       "        text-align: right;\n",
       "    }\n",
       "</style>\n",
       "<table border=\"1\" class=\"dataframe\">\n",
       "  <thead>\n",
       "    <tr style=\"text-align: right;\">\n",
       "      <th></th>\n",
       "      <th>id</th>\n",
       "      <th>parent_id</th>\n",
       "      <th>theta0</th>\n",
       "      <th>radii0</th>\n",
       "      <th>null_truth0</th>\n",
       "      <th>K</th>\n",
       "      <th>step_id</th>\n",
       "      <th>step_iter</th>\n",
       "      <th>creation_time</th>\n",
       "      <th>worker_id</th>\n",
       "      <th>...</th>\n",
       "      <th>B_lams2</th>\n",
       "      <th>B_lams3</th>\n",
       "      <th>B_lams4</th>\n",
       "      <th>twb_lams0</th>\n",
       "      <th>twb_lams1</th>\n",
       "      <th>twb_lams2</th>\n",
       "      <th>twb_lams3</th>\n",
       "      <th>twb_lams4</th>\n",
       "      <th>active</th>\n",
       "      <th>eligible</th>\n",
       "    </tr>\n",
       "  </thead>\n",
       "  <tbody>\n",
       "    <tr>\n",
       "      <th>19</th>\n",
       "      <td>4373889141130919936</td>\n",
       "      <td>4373888591374581760</td>\n",
       "      <td>-0.25</td>\n",
       "      <td>0.25</td>\n",
       "      <td>1</td>\n",
       "      <td>8192</td>\n",
       "      <td>0</td>\n",
       "      <td>0</td>\n",
       "      <td>0.0</td>\n",
       "      <td>3</td>\n",
       "      <td>...</td>\n",
       "      <td>-1.999353</td>\n",
       "      <td>-1.939917</td>\n",
       "      <td>-1.938797</td>\n",
       "      <td>-1.951228</td>\n",
       "      <td>-1.939917</td>\n",
       "      <td>-1.965404</td>\n",
       "      <td>-1.930422</td>\n",
       "      <td>-1.95042</td>\n",
       "      <td>0</td>\n",
       "      <td>0</td>\n",
       "    </tr>\n",
       "    <tr>\n",
       "      <th>217</th>\n",
       "      <td>4373889141130919936</td>\n",
       "      <td>4373888591374581760</td>\n",
       "      <td>-0.75</td>\n",
       "      <td>0.25</td>\n",
       "      <td>1</td>\n",
       "      <td>8192</td>\n",
       "      <td>0</td>\n",
       "      <td>0</td>\n",
       "      <td>0.0</td>\n",
       "      <td>3</td>\n",
       "      <td>...</td>\n",
       "      <td>-1.499353</td>\n",
       "      <td>-1.439917</td>\n",
       "      <td>-1.438797</td>\n",
       "      <td>-1.451228</td>\n",
       "      <td>-1.439917</td>\n",
       "      <td>-1.465404</td>\n",
       "      <td>-1.430422</td>\n",
       "      <td>-1.45042</td>\n",
       "      <td>0</td>\n",
       "      <td>0</td>\n",
       "    </tr>\n",
       "  </tbody>\n",
       "</table>\n",
       "<p>2 rows × 31 columns</p>\n",
       "</div>"
      ],
      "text/plain": [
       "                      id            parent_id  theta0  radii0  null_truth0  \\\n",
       "19   4373889141130919936  4373888591374581760   -0.25    0.25            1   \n",
       "217  4373889141130919936  4373888591374581760   -0.75    0.25            1   \n",
       "\n",
       "        K  step_id  step_iter  creation_time  worker_id  ...   B_lams2  \\\n",
       "19   8192        0          0            0.0          3  ... -1.999353   \n",
       "217  8192        0          0            0.0          3  ... -1.499353   \n",
       "\n",
       "      B_lams3   B_lams4  twb_lams0  twb_lams1  twb_lams2  twb_lams3  \\\n",
       "19  -1.939917 -1.938797  -1.951228  -1.939917  -1.965404  -1.930422   \n",
       "217 -1.439917 -1.438797  -1.451228  -1.439917  -1.465404  -1.430422   \n",
       "\n",
       "     twb_lams4  active  eligible  \n",
       "19    -1.95042       0         0  \n",
       "217   -1.45042       0         0  \n",
       "\n",
       "[2 rows x 31 columns]"
      ]
     },
     "execution_count": 73,
     "metadata": {},
     "output_type": "execute_result"
    }
   ],
   "source": [
    "T.loc[T['id'] == 4373889141130919936]"
   ]
  },
  {
   "cell_type": "code",
   "execution_count": 75,
   "metadata": {},
   "outputs": [
    {
     "name": "stderr",
     "output_type": "stream",
     "text": [
      "DEBUG:imprint.grid:[worker_id=None] _gen_short_uuids(n=2, worker_id=3, t=1674261200, n_bits=18, worker_bits=18) = [4373889141130919936, ...]:\n"
     ]
    },
    {
     "data": {
      "text/plain": [
       "array([4373889141130919936, 4373889141130919937], dtype=uint64)"
      ]
     },
     "execution_count": 75,
     "metadata": {},
     "output_type": "execute_result"
    }
   ],
   "source": [
    "from imprint.grid import _gen_short_uuids\n",
    "_gen_short_uuids(n=2, worker_id=3, t=1674261200)"
   ]
  },
  {
   "cell_type": "code",
   "execution_count": 1,
   "metadata": {},
   "outputs": [
    {
     "name": "stderr",
     "output_type": "stream",
     "text": [
      "INFO:confirm.cloud.clickhouse:[worker_id=None] \n",
      "Clickhouse config: default@t2n4z83v82.us-east-1.aws.clickhouse.cloud:8443/None\n",
      "INFO:confirm.cloud.clickhouse:[worker_id=None] \n",
      "Clickhouse config: default@t2n4z83v82.us-east-1.aws.clickhouse.cloud:8443/1cf6481207e54adc842def1c2bb22dc7\n",
      "INFO:confirm.cloud.clickhouse:[worker_id=None] \n",
      "Connected to job 1cf6481207e54adc842def1c2bb22dc7\n",
      "INFO:confirm.cloud.clickhouse:[worker_id=None] \n",
      "Clickhouse config: default@t2n4z83v82.us-east-1.aws.clickhouse.cloud:8443/None\n",
      "INFO:confirm.cloud.clickhouse:[worker_id=None] \n",
      "Clickhouse config: default@t2n4z83v82.us-east-1.aws.clickhouse.cloud:8443/544d8afac72e4633809a162a480ed998\n",
      "INFO:confirm.cloud.clickhouse:[worker_id=None] \n",
      "Connected to job 544d8afac72e4633809a162a480ed998\n"
     ]
    }
   ],
   "source": [
    "import confirm.cloud.clickhouse as ch\n",
    "\n",
    "Adb = ch.Clickhouse.connect(job_id = '1cf6481207e54adc842def1c2bb22dc7')\n",
    "Bdb = ch.Clickhouse.connect(job_id = '544d8afac72e4633809a162a480ed998')"
   ]
  },
  {
   "cell_type": "code",
   "execution_count": 66,
   "metadata": {},
   "outputs": [
    {
     "name": "stderr",
     "output_type": "stream",
     "text": [
      "DEBUG:imprint.grid:[worker_id=None] _gen_short_uuids(n=2, worker_id=3, t=1674261200, n_bits=18, worker_bits=18) = [4373889141130919936, ...]:\n"
     ]
    },
    {
     "data": {
      "text/plain": [
       "array([4373889141130919936, 4373889141130919937], dtype=uint64)"
      ]
     },
     "execution_count": 66,
     "metadata": {},
     "output_type": "execute_result"
    }
   ],
   "source": [
    "_gen_short_uuids(n=2, worker_id=3, t=1674261200)"
   ]
  },
  {
   "cell_type": "code",
   "execution_count": 2,
   "metadata": {},
   "outputs": [],
   "source": [
    "At = Adb.get_all()\n",
    "Bt = Bdb.get_all()"
   ]
  },
  {
   "cell_type": "code",
   "execution_count": 3,
   "metadata": {},
   "outputs": [
    {
     "data": {
      "text/plain": [
       "((276, 31), (276, 31))"
      ]
     },
     "execution_count": 3,
     "metadata": {},
     "output_type": "execute_result"
    }
   ],
   "source": [
    "At.shape, Bt.shape"
   ]
  },
  {
   "cell_type": "code",
   "execution_count": 4,
   "metadata": {},
   "outputs": [],
   "source": [
    "import pandas as pd\n",
    "\n",
    "drop_cols = [\"id\", \"parent_id\", \"step_iter\", \"worker_id\"]\n",
    "pd.testing.assert_frame_equal(\n",
    "    At.drop(drop_cols, axis=1).sort_values(['step_id', 'theta0']).reset_index(drop=True), \n",
    "    Bt.drop(drop_cols, axis=1).sort_values(['step_id', 'theta0']).reset_index(drop=True)\n",
    ")"
   ]
  },
  {
   "cell_type": "code",
   "execution_count": 5,
   "metadata": {},
   "outputs": [],
   "source": [
    "from IPython.display import display"
   ]
  },
  {
   "cell_type": "code",
   "execution_count": 6,
   "metadata": {},
   "outputs": [
    {
     "data": {
      "text/html": [
       "<div>\n",
       "<style scoped>\n",
       "    .dataframe tbody tr th:only-of-type {\n",
       "        vertical-align: middle;\n",
       "    }\n",
       "\n",
       "    .dataframe tbody tr th {\n",
       "        vertical-align: top;\n",
       "    }\n",
       "\n",
       "    .dataframe thead th {\n",
       "        text-align: right;\n",
       "    }\n",
       "</style>\n",
       "<table border=\"1\" class=\"dataframe\">\n",
       "  <thead>\n",
       "    <tr style=\"text-align: right;\">\n",
       "      <th></th>\n",
       "      <th>id</th>\n",
       "    </tr>\n",
       "  </thead>\n",
       "  <tbody>\n",
       "  </tbody>\n",
       "</table>\n",
       "</div>"
      ],
      "text/plain": [
       "Empty DataFrame\n",
       "Columns: [id]\n",
       "Index: []"
      ]
     },
     "execution_count": 6,
     "metadata": {},
     "output_type": "execute_result"
    }
   ],
   "source": [
    "ch._query_df(Adb.client, \"select id from tiles group by id having count(*) > 1\")"
   ]
  },
  {
   "cell_type": "code",
   "execution_count": 7,
   "metadata": {},
   "outputs": [
    {
     "data": {
      "text/html": [
       "<div>\n",
       "<style scoped>\n",
       "    .dataframe tbody tr th:only-of-type {\n",
       "        vertical-align: middle;\n",
       "    }\n",
       "\n",
       "    .dataframe tbody tr th {\n",
       "        vertical-align: top;\n",
       "    }\n",
       "\n",
       "    .dataframe thead th {\n",
       "        text-align: right;\n",
       "    }\n",
       "</style>\n",
       "<table border=\"1\" class=\"dataframe\">\n",
       "  <thead>\n",
       "    <tr style=\"text-align: right;\">\n",
       "      <th></th>\n",
       "      <th>id</th>\n",
       "    </tr>\n",
       "  </thead>\n",
       "  <tbody>\n",
       "    <tr>\n",
       "      <th>0</th>\n",
       "      <td>4373889141130919936</td>\n",
       "    </tr>\n",
       "  </tbody>\n",
       "</table>\n",
       "</div>"
      ],
      "text/plain": [
       "                    id\n",
       "0  4373889141130919936"
      ]
     },
     "execution_count": 7,
     "metadata": {},
     "output_type": "execute_result"
    }
   ],
   "source": [
    "ch._query_df(Bdb.client, \"select id from tiles group by id having count(*) > 1\")"
   ]
  },
  {
   "cell_type": "code",
   "execution_count": 8,
   "metadata": {},
   "outputs": [
    {
     "data": {
      "text/html": [
       "<div>\n",
       "<style scoped>\n",
       "    .dataframe tbody tr th:only-of-type {\n",
       "        vertical-align: middle;\n",
       "    }\n",
       "\n",
       "    .dataframe tbody tr th {\n",
       "        vertical-align: top;\n",
       "    }\n",
       "\n",
       "    .dataframe thead th {\n",
       "        text-align: right;\n",
       "    }\n",
       "</style>\n",
       "<table border=\"1\" class=\"dataframe\">\n",
       "  <thead>\n",
       "    <tr style=\"text-align: right;\">\n",
       "      <th></th>\n",
       "      <th>id</th>\n",
       "    </tr>\n",
       "  </thead>\n",
       "  <tbody>\n",
       "    <tr>\n",
       "      <th>0</th>\n",
       "      <td>4373889141130919936</td>\n",
       "    </tr>\n",
       "  </tbody>\n",
       "</table>\n",
       "</div>"
      ],
      "text/plain": [
       "                    id\n",
       "0  4373889141130919936"
      ]
     },
     "execution_count": 8,
     "metadata": {},
     "output_type": "execute_result"
    }
   ],
   "source": [
    "ch._query_df(Bdb.client, \"select id from results group by id having count(*) > 1\")"
   ]
  },
  {
   "cell_type": "code",
   "execution_count": 9,
   "metadata": {},
   "outputs": [
    {
     "data": {
      "text/html": [
       "<div>\n",
       "<style scoped>\n",
       "    .dataframe tbody tr th:only-of-type {\n",
       "        vertical-align: middle;\n",
       "    }\n",
       "\n",
       "    .dataframe tbody tr th {\n",
       "        vertical-align: top;\n",
       "    }\n",
       "\n",
       "    .dataframe thead th {\n",
       "        text-align: right;\n",
       "    }\n",
       "</style>\n",
       "<table border=\"1\" class=\"dataframe\">\n",
       "  <thead>\n",
       "    <tr style=\"text-align: right;\">\n",
       "      <th></th>\n",
       "      <th>id</th>\n",
       "    </tr>\n",
       "  </thead>\n",
       "  <tbody>\n",
       "    <tr>\n",
       "      <th>0</th>\n",
       "      <td>4373889141130919936</td>\n",
       "    </tr>\n",
       "  </tbody>\n",
       "</table>\n",
       "</div>"
      ],
      "text/plain": [
       "                    id\n",
       "0  4373889141130919936"
      ]
     },
     "execution_count": 9,
     "metadata": {},
     "output_type": "execute_result"
    }
   ],
   "source": [
    "ch._query_df(Bdb.client, \"select id from done group by id having count(*) > 1\")"
   ]
  },
  {
   "cell_type": "code",
   "execution_count": 10,
   "metadata": {},
   "outputs": [
    {
     "data": {
      "text/html": [
       "<div>\n",
       "<style scoped>\n",
       "    .dataframe tbody tr th:only-of-type {\n",
       "        vertical-align: middle;\n",
       "    }\n",
       "\n",
       "    .dataframe tbody tr th {\n",
       "        vertical-align: top;\n",
       "    }\n",
       "\n",
       "    .dataframe thead th {\n",
       "        text-align: right;\n",
       "    }\n",
       "</style>\n",
       "<table border=\"1\" class=\"dataframe\">\n",
       "  <thead>\n",
       "    <tr style=\"text-align: right;\">\n",
       "      <th></th>\n",
       "      <th>step_id</th>\n",
       "      <th>step_iter</th>\n",
       "      <th>id</th>\n",
       "      <th>active</th>\n",
       "      <th>query_time</th>\n",
       "      <th>worker_id</th>\n",
       "      <th>refine</th>\n",
       "      <th>deepen</th>\n",
       "    </tr>\n",
       "  </thead>\n",
       "  <tbody>\n",
       "    <tr>\n",
       "      <th>0</th>\n",
       "      <td>0</td>\n",
       "      <td>0</td>\n",
       "      <td>4373889141130919936</td>\n",
       "      <td>0</td>\n",
       "      <td>1.674261e+09</td>\n",
       "      <td>3</td>\n",
       "      <td>1</td>\n",
       "      <td>0</td>\n",
       "    </tr>\n",
       "    <tr>\n",
       "      <th>1</th>\n",
       "      <td>0</td>\n",
       "      <td>0</td>\n",
       "      <td>4373889141130919936</td>\n",
       "      <td>0</td>\n",
       "      <td>1.674261e+09</td>\n",
       "      <td>3</td>\n",
       "      <td>0</td>\n",
       "      <td>1</td>\n",
       "    </tr>\n",
       "  </tbody>\n",
       "</table>\n",
       "</div>"
      ],
      "text/plain": [
       "   step_id  step_iter                   id  active    query_time  worker_id  \\\n",
       "0        0          0  4373889141130919936       0  1.674261e+09          3   \n",
       "1        0          0  4373889141130919936       0  1.674261e+09          3   \n",
       "\n",
       "   refine  deepen  \n",
       "0       1       0  \n",
       "1       0       1  "
      ]
     },
     "execution_count": 10,
     "metadata": {},
     "output_type": "execute_result"
    }
   ],
   "source": [
    "ch._query_df(Bdb.client, 'select * from done where id = 4373889141130919936')"
   ]
  },
  {
   "cell_type": "code",
   "execution_count": 11,
   "metadata": {},
   "outputs": [
    {
     "data": {
      "text/html": [
       "<div>\n",
       "<style scoped>\n",
       "    .dataframe tbody tr th:only-of-type {\n",
       "        vertical-align: middle;\n",
       "    }\n",
       "\n",
       "    .dataframe tbody tr th {\n",
       "        vertical-align: top;\n",
       "    }\n",
       "\n",
       "    .dataframe thead th {\n",
       "        text-align: right;\n",
       "    }\n",
       "</style>\n",
       "<table border=\"1\" class=\"dataframe\">\n",
       "  <thead>\n",
       "    <tr style=\"text-align: right;\">\n",
       "      <th></th>\n",
       "      <th>id</th>\n",
       "      <th>active</th>\n",
       "      <th>parent_id</th>\n",
       "      <th>theta0</th>\n",
       "      <th>radii0</th>\n",
       "      <th>null_truth0</th>\n",
       "      <th>K</th>\n",
       "      <th>worker_id</th>\n",
       "      <th>step_id</th>\n",
       "      <th>step_iter</th>\n",
       "      <th>creation_time</th>\n",
       "    </tr>\n",
       "  </thead>\n",
       "  <tbody>\n",
       "    <tr>\n",
       "      <th>0</th>\n",
       "      <td>4373889141130919936</td>\n",
       "      <td>1</td>\n",
       "      <td>4373888591374581760</td>\n",
       "      <td>-0.75</td>\n",
       "      <td>0.25</td>\n",
       "      <td>1</td>\n",
       "      <td>8192</td>\n",
       "      <td>0</td>\n",
       "      <td>0</td>\n",
       "      <td>0</td>\n",
       "      <td>0.0</td>\n",
       "    </tr>\n",
       "    <tr>\n",
       "      <th>1</th>\n",
       "      <td>4373889141130919936</td>\n",
       "      <td>1</td>\n",
       "      <td>4373888591374581760</td>\n",
       "      <td>-0.25</td>\n",
       "      <td>0.25</td>\n",
       "      <td>1</td>\n",
       "      <td>8192</td>\n",
       "      <td>0</td>\n",
       "      <td>0</td>\n",
       "      <td>0</td>\n",
       "      <td>0.0</td>\n",
       "    </tr>\n",
       "  </tbody>\n",
       "</table>\n",
       "</div>"
      ],
      "text/plain": [
       "                    id  active            parent_id  theta0  radii0  \\\n",
       "0  4373889141130919936       1  4373888591374581760   -0.75    0.25   \n",
       "1  4373889141130919936       1  4373888591374581760   -0.25    0.25   \n",
       "\n",
       "   null_truth0     K  worker_id  step_id  step_iter  creation_time  \n",
       "0            1  8192          0        0          0            0.0  \n",
       "1            1  8192          0        0          0            0.0  "
      ]
     },
     "execution_count": 11,
     "metadata": {},
     "output_type": "execute_result"
    }
   ],
   "source": [
    "ch._query_df(Bdb.client, 'select * from tiles where id = 4373889141130919936')"
   ]
  },
  {
   "cell_type": "code",
   "execution_count": 13,
   "metadata": {},
   "outputs": [
    {
     "data": {
      "text/plain": [
       "Index(['id', 'active', 'parent_id', 'theta0', 'radii0', 'null_truth0', 'K',\n",
       "       'step_id', 'step_iter', 'creation_time', 'worker_id', 'processing_time',\n",
       "       'eligible', 'grid_cost', 'impossible', 'orderer', 'alpha0',\n",
       "       'twb_max_lams', 'twb_mean_lams', 'twb_min_lams', 'lams', 'B_lams0',\n",
       "       'B_lams1', 'B_lams2', 'B_lams3', 'B_lams4', 'twb_lams0', 'twb_lams1',\n",
       "       'twb_lams2', 'twb_lams3', 'twb_lams4'],\n",
       "      dtype='object')"
      ]
     },
     "execution_count": 13,
     "metadata": {},
     "output_type": "execute_result"
    }
   ],
   "source": [
    "ch._query_df(Bdb.client, 'select * from results where id = 4373889141130919936').columns"
   ]
  },
  {
   "cell_type": "code",
   "execution_count": 65,
   "metadata": {},
   "outputs": [
    {
     "name": "stdout",
     "output_type": "stream",
     "text": [
      "0 (2, 31) (2, 31)\n",
      "1 (3, 31) (3, 31)\n",
      "2 (4, 31) (4, 31)\n",
      "3 (5, 31) (5, 31)\n",
      "4 (6, 31) (6, 31)\n",
      "5 (7, 31) (7, 31)\n",
      "6 (11, 31) (11, 31)\n",
      "7 (19, 31) (19, 31)\n",
      "8 (35, 31) (35, 31)\n",
      "9 (60, 31) (60, 31)\n",
      "10 (61, 31) (61, 31)\n",
      "11 (62, 31) (62, 31)\n",
      "12 (0, 31) (0, 31)\n",
      "13 (0, 31) (0, 31)\n"
     ]
    }
   ],
   "source": [
    "for step_id in range(14):\n",
    "    AA = At.loc[At['step_id'] == step_id]\n",
    "    BB = Bt.loc[Bt['step_id'] == step_id]\n",
    "    print(step_id, AA.shape, BB.shape)\n",
    "    if AA.shape[0] != BB.shape[0]:\n",
    "        display(AA)\n",
    "        display(BB)"
   ]
  },
  {
   "cell_type": "code",
   "execution_count": null,
   "metadata": {},
   "outputs": [],
   "source": []
  }
 ],
 "metadata": {
  "kernelspec": {
   "display_name": "confirm",
   "language": "python",
   "name": "python3"
  },
  "language_info": {
   "codemirror_mode": {
    "name": "ipython",
    "version": 3
   },
   "file_extension": ".py",
   "mimetype": "text/x-python",
   "name": "python",
   "nbconvert_exporter": "python",
   "pygments_lexer": "ipython3",
   "version": "3.10.8 | packaged by conda-forge | (main, Nov 22 2022, 08:25:29) [Clang 14.0.6 ]"
  },
  "orig_nbformat": 4,
  "vscode": {
   "interpreter": {
    "hash": "b4c6ec5b2d6c7b38df115d547b82cd53ca25eea58d87299956d35a9dc79f19f1"
   }
  }
 },
 "nbformat": 4,
 "nbformat_minor": 2
}
