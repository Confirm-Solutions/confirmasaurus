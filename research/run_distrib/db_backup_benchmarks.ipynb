{
 "cells": [
  {
   "cell_type": "code",
   "execution_count": 1,
   "metadata": {},
   "outputs": [],
   "source": [
    "import duckdb\n",
    "con = duckdb.connect('../../wd41_4d_v55.db')"
   ]
  },
  {
   "cell_type": "code",
   "execution_count": 2,
   "metadata": {},
   "outputs": [
    {
     "data": {
      "text/plain": [
       "┌──────────────┐\n",
       "│ count_star() │\n",
       "│    int64     │\n",
       "├──────────────┤\n",
       "│     64329194 │\n",
       "└──────────────┘"
      ]
     },
     "execution_count": 2,
     "metadata": {},
     "output_type": "execute_result"
    }
   ],
   "source": [
    "con.query('select count(*) from results')"
   ]
  },
  {
   "cell_type": "code",
   "execution_count": 3,
   "metadata": {},
   "outputs": [
    {
     "ename": "IOException",
     "evalue": "IO Error: Cannot open file \"results.parquet\": Is a directory",
     "output_type": "error",
     "traceback": [
      "\u001b[0;31m---------------------------------------------------------------------------\u001b[0m",
      "\u001b[0;31mIOException\u001b[0m                               Traceback (most recent call last)",
      "Cell \u001b[0;32mIn[3], line 1\u001b[0m\n\u001b[0;32m----> 1\u001b[0m con\u001b[39m.\u001b[39;49mexecute(\u001b[39m\"\u001b[39;49m\u001b[39mcopy (select * from results limit 10000) to \u001b[39;49m\u001b[39m'\u001b[39;49m\u001b[39mresults.parquet\u001b[39;49m\u001b[39m'\u001b[39;49m\u001b[39m (format parquet)\u001b[39;49m\u001b[39m\"\u001b[39;49m)\n",
      "\u001b[0;31mIOException\u001b[0m: IO Error: Cannot open file \"results.parquet\": Is a directory"
     ]
    }
   ],
   "source": [
    "con.execute(\"copy (select * from results limit 10000) to 'results.parquet' (format parquet)\")"
   ]
  },
  {
   "cell_type": "code",
   "execution_count": 10,
   "metadata": {},
   "outputs": [
    {
     "data": {
      "text/plain": [
       "<duckdb.DuckDBPyConnection at 0x107befbb0>"
      ]
     },
     "execution_count": 10,
     "metadata": {},
     "output_type": "execute_result"
    }
   ],
   "source": [
    "con.execute(\"\"\"\n",
    "install httpfs;\n",
    "load httpfs;\n",
    "set s3_region='us-east-1';\n",
    "set s3_access_key_id='';\n",
    "set s3_secret_access_key='';\n",
    "\"\"\")"
   ]
  },
  {
   "cell_type": "code",
   "execution_count": 16,
   "metadata": {},
   "outputs": [
    {
     "data": {
      "application/vnd.jupyter.widget-view+json": {
       "model_id": "32104624d68946a7911d3a7483d0dedb",
       "version_major": 2,
       "version_minor": 0
      },
      "text/plain": [
       "FloatProgress(value=0.0, layout=Layout(width='100%'), style=ProgressStyle(bar_color='black'))"
      ]
     },
     "metadata": {},
     "output_type": "display_data"
    },
    {
     "name": "stdout",
     "output_type": "stream",
     "text": [
      "CPU times: user 14.5 s, sys: 630 ms, total: 15.2 s\n",
      "Wall time: 15.2 s\n"
     ]
    },
    {
     "data": {
      "text/plain": [
       "<duckdb.DuckDBPyConnection at 0x107befbb0>"
      ]
     },
     "execution_count": 16,
     "metadata": {},
     "output_type": "execute_result"
    }
   ],
   "source": [
    "%%time\n",
    "con.execute(\"copy (select * from results where step_id > 7 and step_id <= 10) to 'tmp.parquet' (FORMAT parquet)\")"
   ]
  },
  {
   "cell_type": "code",
   "execution_count": 27,
   "metadata": {},
   "outputs": [
    {
     "name": "stdout",
     "output_type": "stream",
     "text": [
      "CPU times: user 4.44 s, sys: 4.06 s, total: 8.51 s\n",
      "Wall time: 7.68 s\n"
     ]
    },
    {
     "data": {
      "text/plain": [
       "4295117"
      ]
     },
     "execution_count": 27,
     "metadata": {},
     "output_type": "execute_result"
    }
   ],
   "source": [
    "%%time\n",
    "df = con.query('select * from results where step_id > 7 and step_id <= 10').df()\n",
    "df.shape[0]"
   ]
  },
  {
   "cell_type": "code",
   "execution_count": 23,
   "metadata": {},
   "outputs": [
    {
     "name": "stdout",
     "output_type": "stream",
     "text": [
      "CPU times: user 5.13 s, sys: 1.02 s, total: 6.15 s\n",
      "Wall time: 3.57 s\n"
     ]
    }
   ],
   "source": [
    "%%time\n",
    "arrow_tbl = con.query('select * from results where step_id > 7 and step_id <= 10').arrow()"
   ]
  },
  {
   "cell_type": "code",
   "execution_count": 28,
   "metadata": {},
   "outputs": [
    {
     "name": "stdout",
     "output_type": "stream",
     "text": [
      "CPU times: user 5min 43s, sys: 8.61 s, total: 5min 51s\n",
      "Wall time: 5min 53s\n"
     ]
    }
   ],
   "source": [
    "%%time\n",
    "df.to_csv('tmp.csv', index=False)"
   ]
  },
  {
   "cell_type": "code",
   "execution_count": 6,
   "metadata": {},
   "outputs": [
    {
     "name": "stderr",
     "output_type": "stream",
     "text": [
      "2023-03-27T20:42:53-0400 Code: 62. DB::Exception: Syntax error: failed at position 54 ('0') (line 2, col 53): 0 Nullable(Float64),1 Nullable(Float64),2 Nullable(Float64),3 Nullable(Float64),4 Nullable(Float64),5 Nullable(Float64),6 Nullable(Float64),7 Nullable(Float64),. Expected one of: columns or indices declaration list, list of elements, table property (column, index, constraint) declaration, INDEX, CONSTRAINT, PROJECTION, PRIMARY KEY, column declaration, identifier. (SYNTAX_ERROR) (version 22.13.1.24479 (official build))\n",
      "\n"
     ]
    },
    {
     "data": {
      "text/html": [
       "<pre style=\"white-space:pre;overflow-x:auto;line-height:normal;font-family:Menlo,'DejaVu Sans Mono',consolas,'Courier New',monospace\"><span style=\"color: #800000; text-decoration-color: #800000\">╭─────────────────────────────── </span><span style=\"color: #800000; text-decoration-color: #800000; font-weight: bold\">Traceback </span><span style=\"color: #bf7f7f; text-decoration-color: #bf7f7f; font-weight: bold\">(most recent call last)</span><span style=\"color: #800000; text-decoration-color: #800000\"> ────────────────────────────────╮</span>\n",
       "<span style=\"color: #800000; text-decoration-color: #800000\">│</span> <span style=\"color: #bfbf7f; text-decoration-color: #bfbf7f\">/var/folders/mt/cmys2v_143q1kpcrdt5wcdyr0000gn/T/ipykernel_21669/</span><span style=\"color: #808000; text-decoration-color: #808000; font-weight: bold\">1814994783.py</span>:<span style=\"color: #0000ff; text-decoration-color: #0000ff\">10</span> in <span style=\"color: #00ff00; text-decoration-color: #00ff00\">&lt;module&gt;</span>    <span style=\"color: #800000; text-decoration-color: #800000\">│</span>\n",
       "<span style=\"color: #800000; text-decoration-color: #800000\">│</span>                                                                                                  <span style=\"color: #800000; text-decoration-color: #800000\">│</span>\n",
       "<span style=\"color: #800000; text-decoration-color: #800000\">│</span>                                                                                                  <span style=\"color: #800000; text-decoration-color: #800000\">│</span>\n",
       "<span style=\"color: #800000; text-decoration-color: #800000\">│</span> <span style=\"color: #bfbf7f; text-decoration-color: #bfbf7f\">/Users/tbent/confirm/confirmasaurus/confirm/cloud/</span><span style=\"color: #808000; text-decoration-color: #808000; font-weight: bold\">clickhouse.py</span>:<span style=\"color: #0000ff; text-decoration-color: #0000ff\">330</span> in <span style=\"color: #00ff00; text-decoration-color: #00ff00\">command</span>                   <span style=\"color: #800000; text-decoration-color: #800000\">│</span>\n",
       "<span style=\"color: #800000; text-decoration-color: #800000\">│</span>                                                                                                  <span style=\"color: #800000; text-decoration-color: #800000\">│</span>\n",
       "<span style=\"color: #800000; text-decoration-color: #800000\">│</span>   <span style=\"color: #7f7f7f; text-decoration-color: #7f7f7f\">329 │   </span>start = time.time()                                                                    <span style=\"color: #800000; text-decoration-color: #800000\">│</span>\n",
       "<span style=\"color: #800000; text-decoration-color: #800000\">│</span> <span style=\"color: #800000; text-decoration-color: #800000\">❱ </span>330 <span style=\"color: #7f7f7f; text-decoration-color: #7f7f7f\">│   </span>out = retry_ch_action(client.command, query, *args, **kwargs)                          <span style=\"color: #800000; text-decoration-color: #800000\">│</span>\n",
       "<span style=\"color: #800000; text-decoration-color: #800000\">│</span>   <span style=\"color: #7f7f7f; text-decoration-color: #7f7f7f\">331 │   </span>logger.debug(<span style=\"color: #808000; text-decoration-color: #808000\">f\"Command took {</span>time.time()<span style=\"color: #808080; text-decoration-color: #808080\"> </span>-<span style=\"color: #808080; text-decoration-color: #808080\"> </span>start<span style=\"color: #808000; text-decoration-color: #808000\">} seconds\\n{</span>query<span style=\"color: #808000; text-decoration-color: #808000\">}\"</span>)                   <span style=\"color: #800000; text-decoration-color: #800000\">│</span>\n",
       "<span style=\"color: #800000; text-decoration-color: #800000\">│</span>                                                                                                  <span style=\"color: #800000; text-decoration-color: #800000\">│</span>\n",
       "<span style=\"color: #800000; text-decoration-color: #800000\">│</span> <span style=\"color: #bfbf7f; text-decoration-color: #bfbf7f\">/Users/tbent/confirm/confirmasaurus/confirm/cloud/</span><span style=\"color: #808000; text-decoration-color: #808000; font-weight: bold\">clickhouse.py</span>:<span style=\"color: #0000ff; text-decoration-color: #0000ff\">265</span> in <span style=\"color: #00ff00; text-decoration-color: #00ff00\">retry_ch_action</span>           <span style=\"color: #800000; text-decoration-color: #800000\">│</span>\n",
       "<span style=\"color: #800000; text-decoration-color: #800000\">│</span>                                                                                                  <span style=\"color: #800000; text-decoration-color: #800000\">│</span>\n",
       "<span style=\"color: #800000; text-decoration-color: #800000\">│</span>   <span style=\"color: #7f7f7f; text-decoration-color: #7f7f7f\">264 │   │   </span>                                                                                   <span style=\"color: #800000; text-decoration-color: #800000\">│</span>\n",
       "<span style=\"color: #800000; text-decoration-color: #800000\">│</span> <span style=\"color: #800000; text-decoration-color: #800000\">❱ </span>265 <span style=\"color: #7f7f7f; text-decoration-color: #7f7f7f\">│   │   </span><span style=\"color: #0000ff; text-decoration-color: #0000ff\">raise</span> e                                                                            <span style=\"color: #800000; text-decoration-color: #800000\">│</span>\n",
       "<span style=\"color: #800000; text-decoration-color: #800000\">│</span>   <span style=\"color: #7f7f7f; text-decoration-color: #7f7f7f\">266 </span>                                                                                           <span style=\"color: #800000; text-decoration-color: #800000\">│</span>\n",
       "<span style=\"color: #800000; text-decoration-color: #800000\">│</span>                                                                                                  <span style=\"color: #800000; text-decoration-color: #800000\">│</span>\n",
       "<span style=\"color: #800000; text-decoration-color: #800000\">│</span> <span style=\"color: #bfbf7f; text-decoration-color: #bfbf7f\">/Users/tbent/confirm/confirmasaurus/confirm/cloud/</span><span style=\"color: #808000; text-decoration-color: #808000; font-weight: bold\">clickhouse.py</span>:<span style=\"color: #0000ff; text-decoration-color: #0000ff\">245</span> in <span style=\"color: #00ff00; text-decoration-color: #00ff00\">retry_ch_action</span>           <span style=\"color: #800000; text-decoration-color: #800000\">│</span>\n",
       "<span style=\"color: #800000; text-decoration-color: #800000\">│</span>                                                                                                  <span style=\"color: #800000; text-decoration-color: #800000\">│</span>\n",
       "<span style=\"color: #800000; text-decoration-color: #800000\">│</span>   <span style=\"color: #7f7f7f; text-decoration-color: #7f7f7f\">244 │   </span><span style=\"color: #0000ff; text-decoration-color: #0000ff\">try</span>:                                                                                   <span style=\"color: #800000; text-decoration-color: #800000\">│</span>\n",
       "<span style=\"color: #800000; text-decoration-color: #800000\">│</span> <span style=\"color: #800000; text-decoration-color: #800000\">❱ </span>245 <span style=\"color: #7f7f7f; text-decoration-color: #7f7f7f\">│   │   </span><span style=\"color: #0000ff; text-decoration-color: #0000ff\">return</span> method(*args, **kwargs)                                                     <span style=\"color: #800000; text-decoration-color: #800000\">│</span>\n",
       "<span style=\"color: #800000; text-decoration-color: #800000\">│</span>   <span style=\"color: #7f7f7f; text-decoration-color: #7f7f7f\">246 │   </span><span style=\"color: #0000ff; text-decoration-color: #0000ff\">except</span> clickhouse_connect.driver.exceptions.DatabaseError <span style=\"color: #0000ff; text-decoration-color: #0000ff\">as</span> e:                        <span style=\"color: #800000; text-decoration-color: #800000\">│</span>\n",
       "<span style=\"color: #800000; text-decoration-color: #800000\">│</span>                                                                                                  <span style=\"color: #800000; text-decoration-color: #800000\">│</span>\n",
       "<span style=\"color: #800000; text-decoration-color: #800000\">│</span> <span style=\"color: #bfbf7f; text-decoration-color: #bfbf7f\">/Users/tbent/.mambaforge/envs/confirm/lib/python3.10/site-packages/clickhouse_connect/driver/</span><span style=\"color: #808000; text-decoration-color: #808000; font-weight: bold\">htt</span> <span style=\"color: #800000; text-decoration-color: #800000\">│</span>\n",
       "<span style=\"color: #800000; text-decoration-color: #800000\">│</span> <span style=\"color: #808000; text-decoration-color: #808000; font-weight: bold\">pclient.py</span>:<span style=\"color: #0000ff; text-decoration-color: #0000ff\">288</span> in <span style=\"color: #00ff00; text-decoration-color: #00ff00\">command</span>                                                                        <span style=\"color: #800000; text-decoration-color: #800000\">│</span>\n",
       "<span style=\"color: #800000; text-decoration-color: #800000\">│</span>                                                                                                  <span style=\"color: #800000; text-decoration-color: #800000\">│</span>\n",
       "<span style=\"color: #800000; text-decoration-color: #800000\">│</span>   <span style=\"color: #7f7f7f; text-decoration-color: #7f7f7f\">287 │   │   </span>method = <span style=\"color: #808000; text-decoration-color: #808000\">'POST'</span> <span style=\"color: #0000ff; text-decoration-color: #0000ff\">if</span> payload <span style=\"color: #0000ff; text-decoration-color: #0000ff\">else</span> <span style=\"color: #808000; text-decoration-color: #808000\">'GET'</span>                                              <span style=\"color: #800000; text-decoration-color: #800000\">│</span>\n",
       "<span style=\"color: #800000; text-decoration-color: #800000\">│</span> <span style=\"color: #800000; text-decoration-color: #800000\">❱ </span>288 <span style=\"color: #7f7f7f; text-decoration-color: #7f7f7f\">│   │   </span>response = <span style=\"color: #00ffff; text-decoration-color: #00ffff\">self</span>._raw_request(payload, params, headers, method)                     <span style=\"color: #800000; text-decoration-color: #800000\">│</span>\n",
       "<span style=\"color: #800000; text-decoration-color: #800000\">│</span>   <span style=\"color: #7f7f7f; text-decoration-color: #7f7f7f\">289 │   │   </span>result = response.data.decode()[:-<span style=\"color: #0000ff; text-decoration-color: #0000ff\">1</span>].split(<span style=\"color: #808000; text-decoration-color: #808000\">'\\t'</span>)                                   <span style=\"color: #800000; text-decoration-color: #800000\">│</span>\n",
       "<span style=\"color: #800000; text-decoration-color: #800000\">│</span>                                                                                                  <span style=\"color: #800000; text-decoration-color: #800000\">│</span>\n",
       "<span style=\"color: #800000; text-decoration-color: #800000\">│</span> <span style=\"color: #bfbf7f; text-decoration-color: #bfbf7f\">/Users/tbent/.mambaforge/envs/confirm/lib/python3.10/site-packages/clickhouse_connect/driver/</span><span style=\"color: #808000; text-decoration-color: #808000; font-weight: bold\">htt</span> <span style=\"color: #800000; text-decoration-color: #800000\">│</span>\n",
       "<span style=\"color: #800000; text-decoration-color: #800000\">│</span> <span style=\"color: #808000; text-decoration-color: #808000; font-weight: bold\">pclient.py</span>:<span style=\"color: #0000ff; text-decoration-color: #0000ff\">363</span> in <span style=\"color: #00ff00; text-decoration-color: #00ff00\">_raw_request</span>                                                                   <span style=\"color: #800000; text-decoration-color: #800000\">│</span>\n",
       "<span style=\"color: #800000; text-decoration-color: #800000\">│</span>                                                                                                  <span style=\"color: #800000; text-decoration-color: #800000\">│</span>\n",
       "<span style=\"color: #800000; text-decoration-color: #800000\">│</span>   <span style=\"color: #7f7f7f; text-decoration-color: #7f7f7f\">362 │   │   │   │   │   </span>error_handler(response)                                                <span style=\"color: #800000; text-decoration-color: #800000\">│</span>\n",
       "<span style=\"color: #800000; text-decoration-color: #800000\">│</span> <span style=\"color: #800000; text-decoration-color: #800000\">❱ </span>363 <span style=\"color: #7f7f7f; text-decoration-color: #7f7f7f\">│   │   │   │   </span><span style=\"color: #00ffff; text-decoration-color: #00ffff\">self</span>._error_handler(response)                                              <span style=\"color: #800000; text-decoration-color: #800000\">│</span>\n",
       "<span style=\"color: #800000; text-decoration-color: #800000\">│</span>   <span style=\"color: #7f7f7f; text-decoration-color: #7f7f7f\">364 </span>                                                                                           <span style=\"color: #800000; text-decoration-color: #800000\">│</span>\n",
       "<span style=\"color: #800000; text-decoration-color: #800000\">│</span>                                                                                                  <span style=\"color: #800000; text-decoration-color: #800000\">│</span>\n",
       "<span style=\"color: #800000; text-decoration-color: #800000\">│</span> <span style=\"color: #bfbf7f; text-decoration-color: #bfbf7f\">/Users/tbent/.mambaforge/envs/confirm/lib/python3.10/site-packages/clickhouse_connect/driver/</span><span style=\"color: #808000; text-decoration-color: #808000; font-weight: bold\">htt</span> <span style=\"color: #800000; text-decoration-color: #800000\">│</span>\n",
       "<span style=\"color: #800000; text-decoration-color: #800000\">│</span> <span style=\"color: #808000; text-decoration-color: #808000; font-weight: bold\">pclient.py</span>:<span style=\"color: #0000ff; text-decoration-color: #0000ff\">304</span> in <span style=\"color: #00ff00; text-decoration-color: #00ff00\">_error_handler</span>                                                                 <span style=\"color: #800000; text-decoration-color: #800000\">│</span>\n",
       "<span style=\"color: #800000; text-decoration-color: #800000\">│</span>                                                                                                  <span style=\"color: #800000; text-decoration-color: #800000\">│</span>\n",
       "<span style=\"color: #800000; text-decoration-color: #800000\">│</span>   <span style=\"color: #7f7f7f; text-decoration-color: #7f7f7f\">303 │   │   │   </span>err_str = <span style=\"color: #808000; text-decoration-color: #808000\">f':{</span>err_str<span style=\"color: #808000; text-decoration-color: #808000\">}\\n {</span>err_msg[<span style=\"color: #0000ff; text-decoration-color: #0000ff\">0</span>:<span style=\"color: #0000ff; text-decoration-color: #0000ff\">240</span>]<span style=\"color: #808000; text-decoration-color: #808000\">}'</span>                                     <span style=\"color: #800000; text-decoration-color: #800000\">│</span>\n",
       "<span style=\"color: #800000; text-decoration-color: #800000\">│</span> <span style=\"color: #800000; text-decoration-color: #800000\">❱ </span>304 <span style=\"color: #7f7f7f; text-decoration-color: #7f7f7f\">│   │   </span><span style=\"color: #0000ff; text-decoration-color: #0000ff\">raise</span> OperationalError(err_str) <span style=\"color: #0000ff; text-decoration-color: #0000ff\">if</span> retried <span style=\"color: #0000ff; text-decoration-color: #0000ff\">else</span> DatabaseError(err_str) <span style=\"color: #0000ff; text-decoration-color: #0000ff\">from</span> <span style=\"color: #00ffff; text-decoration-color: #00ffff\">None</span>   <span style=\"color: #800000; text-decoration-color: #800000\">│</span>\n",
       "<span style=\"color: #800000; text-decoration-color: #800000\">│</span>   <span style=\"color: #7f7f7f; text-decoration-color: #7f7f7f\">305 </span>                                                                                           <span style=\"color: #800000; text-decoration-color: #800000\">│</span>\n",
       "<span style=\"color: #800000; text-decoration-color: #800000\">╰──────────────────────────────────────────────────────────────────────────────────────────────────╯</span>\n",
       "<span style=\"color: #ff0000; text-decoration-color: #ff0000; font-weight: bold\">DatabaseError: </span>:HTTPDriver for <span style=\"color: #0000ff; text-decoration-color: #0000ff; text-decoration: underline\">https://t2n4z83v82.us-east-1.aws.clickhouse.cloud:8443</span> returned response code <span style=\"color: #008080; text-decoration-color: #008080; font-weight: bold\">400</span><span style=\"font-weight: bold\">)</span>\n",
       " Code: <span style=\"color: #008080; text-decoration-color: #008080; font-weight: bold\">62</span>. <span style=\"color: #00ff00; text-decoration-color: #00ff00; font-weight: bold\">DB::E</span>xception: Syntax error: failed at position <span style=\"color: #008080; text-decoration-color: #008080; font-weight: bold\">54</span> <span style=\"font-weight: bold\">(</span><span style=\"color: #008000; text-decoration-color: #008000\">'0'</span><span style=\"font-weight: bold\">)</span> <span style=\"font-weight: bold\">(</span>line <span style=\"color: #008080; text-decoration-color: #008080; font-weight: bold\">2</span>, col <span style=\"color: #008080; text-decoration-color: #008080; font-weight: bold\">53</span><span style=\"font-weight: bold\">)</span>: <span style=\"color: #008080; text-decoration-color: #008080; font-weight: bold\">0</span> <span style=\"color: #800080; text-decoration-color: #800080; font-weight: bold\">Nullable</span><span style=\"font-weight: bold\">(</span>Float64<span style=\"font-weight: bold\">)</span>,<span style=\"color: #008080; text-decoration-color: #008080; font-weight: bold\">1</span> \n",
       "<span style=\"color: #800080; text-decoration-color: #800080; font-weight: bold\">Nullable</span><span style=\"font-weight: bold\">(</span>Float64<span style=\"font-weight: bold\">)</span>,<span style=\"color: #008080; text-decoration-color: #008080; font-weight: bold\">2</span> <span style=\"color: #800080; text-decoration-color: #800080; font-weight: bold\">Nullable</span><span style=\"font-weight: bold\">(</span>Float64<span style=\"font-weight: bold\">)</span>,<span style=\"color: #008080; text-decoration-color: #008080; font-weight: bold\">3</span> <span style=\"color: #800080; text-decoration-color: #800080; font-weight: bold\">Nullable</span><span style=\"font-weight: bold\">(</span>Float64<span style=\"font-weight: bold\">)</span>,<span style=\"color: #008080; text-decoration-color: #008080; font-weight: bold\">4</span> <span style=\"color: #800080; text-decoration-color: #800080; font-weight: bold\">Nullable</span><span style=\"font-weight: bold\">(</span>Float64<span style=\"font-weight: bold\">)</span>,<span style=\"color: #008080; text-decoration-color: #008080; font-weight: bold\">5</span> <span style=\"color: #800080; text-decoration-color: #800080; font-weight: bold\">Nullable</span><span style=\"font-weight: bold\">(</span>Float64<span style=\"font-weight: bold\">)</span>,<span style=\"color: #008080; text-decoration-color: #008080; font-weight: bold\">6</span> \n",
       "<span style=\"color: #800080; text-decoration-color: #800080; font-weight: bold\">Nullable</span><span style=\"font-weight: bold\">(</span>Float64<span style=\"font-weight: bold\">)</span>,<span style=\"color: #008080; text-decoration-color: #008080; font-weight: bold\">7</span> <span style=\"color: #800080; text-decoration-color: #800080; font-weight: bold\">Nullable</span><span style=\"font-weight: bold\">(</span>Floa\n",
       "</pre>\n"
      ],
      "text/plain": [
       "\u001b[31m╭─\u001b[0m\u001b[31m──────────────────────────────\u001b[0m\u001b[31m \u001b[0m\u001b[1;31mTraceback \u001b[0m\u001b[1;2;31m(most recent call last)\u001b[0m\u001b[31m \u001b[0m\u001b[31m───────────────────────────────\u001b[0m\u001b[31m─╮\u001b[0m\n",
       "\u001b[31m│\u001b[0m \u001b[2;33m/var/folders/mt/cmys2v_143q1kpcrdt5wcdyr0000gn/T/ipykernel_21669/\u001b[0m\u001b[1;33m1814994783.py\u001b[0m:\u001b[94m10\u001b[0m in \u001b[92m<module>\u001b[0m    \u001b[31m│\u001b[0m\n",
       "\u001b[31m│\u001b[0m                                                                                                  \u001b[31m│\u001b[0m\n",
       "\u001b[31m│\u001b[0m                                                                                                  \u001b[31m│\u001b[0m\n",
       "\u001b[31m│\u001b[0m \u001b[2;33m/Users/tbent/confirm/confirmasaurus/confirm/cloud/\u001b[0m\u001b[1;33mclickhouse.py\u001b[0m:\u001b[94m330\u001b[0m in \u001b[92mcommand\u001b[0m                   \u001b[31m│\u001b[0m\n",
       "\u001b[31m│\u001b[0m                                                                                                  \u001b[31m│\u001b[0m\n",
       "\u001b[31m│\u001b[0m   \u001b[2m329 \u001b[0m\u001b[2m│   \u001b[0mstart = time.time()                                                                    \u001b[31m│\u001b[0m\n",
       "\u001b[31m│\u001b[0m \u001b[31m❱ \u001b[0m330 \u001b[2m│   \u001b[0mout = retry_ch_action(client.command, query, *args, **kwargs)                          \u001b[31m│\u001b[0m\n",
       "\u001b[31m│\u001b[0m   \u001b[2m331 \u001b[0m\u001b[2m│   \u001b[0mlogger.debug(\u001b[33mf\u001b[0m\u001b[33m\"\u001b[0m\u001b[33mCommand took \u001b[0m\u001b[33m{\u001b[0mtime.time()\u001b[90m \u001b[0m-\u001b[90m \u001b[0mstart\u001b[33m}\u001b[0m\u001b[33m seconds\u001b[0m\u001b[33m\\n\u001b[0m\u001b[33m{\u001b[0mquery\u001b[33m}\u001b[0m\u001b[33m\"\u001b[0m)                   \u001b[31m│\u001b[0m\n",
       "\u001b[31m│\u001b[0m                                                                                                  \u001b[31m│\u001b[0m\n",
       "\u001b[31m│\u001b[0m \u001b[2;33m/Users/tbent/confirm/confirmasaurus/confirm/cloud/\u001b[0m\u001b[1;33mclickhouse.py\u001b[0m:\u001b[94m265\u001b[0m in \u001b[92mretry_ch_action\u001b[0m           \u001b[31m│\u001b[0m\n",
       "\u001b[31m│\u001b[0m                                                                                                  \u001b[31m│\u001b[0m\n",
       "\u001b[31m│\u001b[0m   \u001b[2m264 \u001b[0m\u001b[2m│   │   \u001b[0m                                                                                   \u001b[31m│\u001b[0m\n",
       "\u001b[31m│\u001b[0m \u001b[31m❱ \u001b[0m265 \u001b[2m│   │   \u001b[0m\u001b[94mraise\u001b[0m e                                                                            \u001b[31m│\u001b[0m\n",
       "\u001b[31m│\u001b[0m   \u001b[2m266 \u001b[0m                                                                                           \u001b[31m│\u001b[0m\n",
       "\u001b[31m│\u001b[0m                                                                                                  \u001b[31m│\u001b[0m\n",
       "\u001b[31m│\u001b[0m \u001b[2;33m/Users/tbent/confirm/confirmasaurus/confirm/cloud/\u001b[0m\u001b[1;33mclickhouse.py\u001b[0m:\u001b[94m245\u001b[0m in \u001b[92mretry_ch_action\u001b[0m           \u001b[31m│\u001b[0m\n",
       "\u001b[31m│\u001b[0m                                                                                                  \u001b[31m│\u001b[0m\n",
       "\u001b[31m│\u001b[0m   \u001b[2m244 \u001b[0m\u001b[2m│   \u001b[0m\u001b[94mtry\u001b[0m:                                                                                   \u001b[31m│\u001b[0m\n",
       "\u001b[31m│\u001b[0m \u001b[31m❱ \u001b[0m245 \u001b[2m│   │   \u001b[0m\u001b[94mreturn\u001b[0m method(*args, **kwargs)                                                     \u001b[31m│\u001b[0m\n",
       "\u001b[31m│\u001b[0m   \u001b[2m246 \u001b[0m\u001b[2m│   \u001b[0m\u001b[94mexcept\u001b[0m clickhouse_connect.driver.exceptions.DatabaseError \u001b[94mas\u001b[0m e:                        \u001b[31m│\u001b[0m\n",
       "\u001b[31m│\u001b[0m                                                                                                  \u001b[31m│\u001b[0m\n",
       "\u001b[31m│\u001b[0m \u001b[2;33m/Users/tbent/.mambaforge/envs/confirm/lib/python3.10/site-packages/clickhouse_connect/driver/\u001b[0m\u001b[1;33mhtt\u001b[0m \u001b[31m│\u001b[0m\n",
       "\u001b[31m│\u001b[0m \u001b[1;33mpclient.py\u001b[0m:\u001b[94m288\u001b[0m in \u001b[92mcommand\u001b[0m                                                                        \u001b[31m│\u001b[0m\n",
       "\u001b[31m│\u001b[0m                                                                                                  \u001b[31m│\u001b[0m\n",
       "\u001b[31m│\u001b[0m   \u001b[2m287 \u001b[0m\u001b[2m│   │   \u001b[0mmethod = \u001b[33m'\u001b[0m\u001b[33mPOST\u001b[0m\u001b[33m'\u001b[0m \u001b[94mif\u001b[0m payload \u001b[94melse\u001b[0m \u001b[33m'\u001b[0m\u001b[33mGET\u001b[0m\u001b[33m'\u001b[0m                                              \u001b[31m│\u001b[0m\n",
       "\u001b[31m│\u001b[0m \u001b[31m❱ \u001b[0m288 \u001b[2m│   │   \u001b[0mresponse = \u001b[96mself\u001b[0m._raw_request(payload, params, headers, method)                     \u001b[31m│\u001b[0m\n",
       "\u001b[31m│\u001b[0m   \u001b[2m289 \u001b[0m\u001b[2m│   │   \u001b[0mresult = response.data.decode()[:-\u001b[94m1\u001b[0m].split(\u001b[33m'\u001b[0m\u001b[33m\\t\u001b[0m\u001b[33m'\u001b[0m)                                   \u001b[31m│\u001b[0m\n",
       "\u001b[31m│\u001b[0m                                                                                                  \u001b[31m│\u001b[0m\n",
       "\u001b[31m│\u001b[0m \u001b[2;33m/Users/tbent/.mambaforge/envs/confirm/lib/python3.10/site-packages/clickhouse_connect/driver/\u001b[0m\u001b[1;33mhtt\u001b[0m \u001b[31m│\u001b[0m\n",
       "\u001b[31m│\u001b[0m \u001b[1;33mpclient.py\u001b[0m:\u001b[94m363\u001b[0m in \u001b[92m_raw_request\u001b[0m                                                                   \u001b[31m│\u001b[0m\n",
       "\u001b[31m│\u001b[0m                                                                                                  \u001b[31m│\u001b[0m\n",
       "\u001b[31m│\u001b[0m   \u001b[2m362 \u001b[0m\u001b[2m│   │   │   │   │   \u001b[0merror_handler(response)                                                \u001b[31m│\u001b[0m\n",
       "\u001b[31m│\u001b[0m \u001b[31m❱ \u001b[0m363 \u001b[2m│   │   │   │   \u001b[0m\u001b[96mself\u001b[0m._error_handler(response)                                              \u001b[31m│\u001b[0m\n",
       "\u001b[31m│\u001b[0m   \u001b[2m364 \u001b[0m                                                                                           \u001b[31m│\u001b[0m\n",
       "\u001b[31m│\u001b[0m                                                                                                  \u001b[31m│\u001b[0m\n",
       "\u001b[31m│\u001b[0m \u001b[2;33m/Users/tbent/.mambaforge/envs/confirm/lib/python3.10/site-packages/clickhouse_connect/driver/\u001b[0m\u001b[1;33mhtt\u001b[0m \u001b[31m│\u001b[0m\n",
       "\u001b[31m│\u001b[0m \u001b[1;33mpclient.py\u001b[0m:\u001b[94m304\u001b[0m in \u001b[92m_error_handler\u001b[0m                                                                 \u001b[31m│\u001b[0m\n",
       "\u001b[31m│\u001b[0m                                                                                                  \u001b[31m│\u001b[0m\n",
       "\u001b[31m│\u001b[0m   \u001b[2m303 \u001b[0m\u001b[2m│   │   │   \u001b[0merr_str = \u001b[33mf\u001b[0m\u001b[33m'\u001b[0m\u001b[33m:\u001b[0m\u001b[33m{\u001b[0merr_str\u001b[33m}\u001b[0m\u001b[33m\\n\u001b[0m\u001b[33m \u001b[0m\u001b[33m{\u001b[0merr_msg[\u001b[94m0\u001b[0m:\u001b[94m240\u001b[0m]\u001b[33m}\u001b[0m\u001b[33m'\u001b[0m                                     \u001b[31m│\u001b[0m\n",
       "\u001b[31m│\u001b[0m \u001b[31m❱ \u001b[0m304 \u001b[2m│   │   \u001b[0m\u001b[94mraise\u001b[0m OperationalError(err_str) \u001b[94mif\u001b[0m retried \u001b[94melse\u001b[0m DatabaseError(err_str) \u001b[94mfrom\u001b[0m \u001b[96mNone\u001b[0m   \u001b[31m│\u001b[0m\n",
       "\u001b[31m│\u001b[0m   \u001b[2m305 \u001b[0m                                                                                           \u001b[31m│\u001b[0m\n",
       "\u001b[31m╰──────────────────────────────────────────────────────────────────────────────────────────────────╯\u001b[0m\n",
       "\u001b[1;91mDatabaseError: \u001b[0m:HTTPDriver for \u001b[4;94mhttps://t2n4z83v82.us-east-1.aws.clickhouse.cloud:8443\u001b[0m returned response code \u001b[1;36m400\u001b[0m\u001b[1m)\u001b[0m\n",
       " Code: \u001b[1;36m62\u001b[0m. \u001b[1;92mDB::E\u001b[0mxception: Syntax error: failed at position \u001b[1;36m54\u001b[0m \u001b[1m(\u001b[0m\u001b[32m'0'\u001b[0m\u001b[1m)\u001b[0m \u001b[1m(\u001b[0mline \u001b[1;36m2\u001b[0m, col \u001b[1;36m53\u001b[0m\u001b[1m)\u001b[0m: \u001b[1;36m0\u001b[0m \u001b[1;35mNullable\u001b[0m\u001b[1m(\u001b[0mFloat64\u001b[1m)\u001b[0m,\u001b[1;36m1\u001b[0m \n",
       "\u001b[1;35mNullable\u001b[0m\u001b[1m(\u001b[0mFloat64\u001b[1m)\u001b[0m,\u001b[1;36m2\u001b[0m \u001b[1;35mNullable\u001b[0m\u001b[1m(\u001b[0mFloat64\u001b[1m)\u001b[0m,\u001b[1;36m3\u001b[0m \u001b[1;35mNullable\u001b[0m\u001b[1m(\u001b[0mFloat64\u001b[1m)\u001b[0m,\u001b[1;36m4\u001b[0m \u001b[1;35mNullable\u001b[0m\u001b[1m(\u001b[0mFloat64\u001b[1m)\u001b[0m,\u001b[1;36m5\u001b[0m \u001b[1;35mNullable\u001b[0m\u001b[1m(\u001b[0mFloat64\u001b[1m)\u001b[0m,\u001b[1;36m6\u001b[0m \n",
       "\u001b[1;35mNullable\u001b[0m\u001b[1m(\u001b[0mFloat64\u001b[1m)\u001b[0m,\u001b[1;36m7\u001b[0m \u001b[1;35mNullable\u001b[0m\u001b[1m(\u001b[0mFloa\n"
      ]
     },
     "metadata": {},
     "output_type": "display_data"
    }
   ],
   "source": [
    "import time\n",
    "import asyncio\n",
    "import confirm.cloud.clickhouse as ch\n",
    "import clickhouse_connect\n",
    "con_details = ch.get_ch_config()\n",
    "con_details['database'] = 'unnamed_7483655fa9c1418fa12f79915a9bf545'\n",
    "ch_client = clickhouse_connect.get_client(**con_details, connect_timeout=60)\n",
    "name = \"results\"\n",
    "cols = ch.get_create_table_cols(df)\n",
    "ch.command(\n",
    "    ch_client,\n",
    "    f\"\"\"\n",
    "                CREATE TABLE IF NOT EXISTS {name} ({\",\".join(cols)})\n",
    "                ENGINE = MergeTree()\n",
    "                ORDER BY ()\n",
    "                \"\"\",\n",
    "    ch.default_insert_settings,\n",
    ")\n"
   ]
  },
  {
   "cell_type": "code",
   "execution_count": 58,
   "metadata": {},
   "outputs": [
    {
     "data": {
      "text/html": [
       "<pre style=\"white-space:pre;overflow-x:auto;line-height:normal;font-family:Menlo,'DejaVu Sans Mono',consolas,'Courier New',monospace\"><span style=\"color: #ff0000; text-decoration-color: #ff0000; font-weight: bold\">CancelledError</span>\n",
       "\n",
       "<span style=\"font-style: italic\">During handling of the above exception, another exception occurred:</span>\n",
       "\n",
       "<span style=\"color: #800000; text-decoration-color: #800000\">╭─────────────────────────────── </span><span style=\"color: #800000; text-decoration-color: #800000; font-weight: bold\">Traceback </span><span style=\"color: #bf7f7f; text-decoration-color: #bf7f7f; font-weight: bold\">(most recent call last)</span><span style=\"color: #800000; text-decoration-color: #800000\"> ────────────────────────────────╮</span>\n",
       "<span style=\"color: #800000; text-decoration-color: #800000\">│</span> <span style=\"color: #bfbf7f; text-decoration-color: #bfbf7f\">/var/folders/mt/cmys2v_143q1kpcrdt5wcdyr0000gn/T/ipykernel_17085/</span><span style=\"color: #808000; text-decoration-color: #808000; font-weight: bold\">3310388982.py</span>:<span style=\"color: #0000ff; text-decoration-color: #0000ff\">12</span> in <span style=\"color: #00ff00; text-decoration-color: #00ff00\">&lt;module&gt;</span>    <span style=\"color: #800000; text-decoration-color: #800000\">│</span>\n",
       "<span style=\"color: #800000; text-decoration-color: #800000\">│</span>                                                                                                  <span style=\"color: #800000; text-decoration-color: #800000\">│</span>\n",
       "<span style=\"color: #800000; text-decoration-color: #800000\">╰──────────────────────────────────────────────────────────────────────────────────────────────────╯</span>\n",
       "<span style=\"color: #ff0000; text-decoration-color: #ff0000; font-weight: bold\">CancelledError</span>\n",
       "</pre>\n"
      ],
      "text/plain": [
       "\u001b[1;91mCancelledError\u001b[0m\n",
       "\n",
       "\u001b[3mDuring handling of the above exception, another exception occurred:\u001b[0m\n",
       "\n",
       "\u001b[31m╭─\u001b[0m\u001b[31m──────────────────────────────\u001b[0m\u001b[31m \u001b[0m\u001b[1;31mTraceback \u001b[0m\u001b[1;2;31m(most recent call last)\u001b[0m\u001b[31m \u001b[0m\u001b[31m───────────────────────────────\u001b[0m\u001b[31m─╮\u001b[0m\n",
       "\u001b[31m│\u001b[0m \u001b[2;33m/var/folders/mt/cmys2v_143q1kpcrdt5wcdyr0000gn/T/ipykernel_17085/\u001b[0m\u001b[1;33m3310388982.py\u001b[0m:\u001b[94m12\u001b[0m in \u001b[92m<module>\u001b[0m    \u001b[31m│\u001b[0m\n",
       "\u001b[31m│\u001b[0m                                                                                                  \u001b[31m│\u001b[0m\n",
       "\u001b[31m╰──────────────────────────────────────────────────────────────────────────────────────────────────╯\u001b[0m\n",
       "\u001b[1;91mCancelledError\u001b[0m\n"
      ]
     },
     "metadata": {},
     "output_type": "display_data"
    }
   ],
   "source": [
    "start = time.time()\n",
    "n = 10000\n",
    "tasks = [\n",
    "    asyncio.to_thread(\n",
    "        ch_client.insert_arrow,\n",
    "        \"results\",\n",
    "        arrow_tbl[i * n : (i + 1) * n],\n",
    "        settings=ch.async_insert_settings,\n",
    "    )\n",
    "    for i in range(64)\n",
    "]\n",
    "await asyncio.gather(*tasks)\n",
    "print(time.time() - start)\n"
   ]
  },
  {
   "cell_type": "code",
   "execution_count": 15,
   "metadata": {},
   "outputs": [
    {
     "data": {
      "application/vnd.jupyter.widget-view+json": {
       "model_id": "16f939fba70d4f42b1e3de088b94afb5",
       "version_major": 2,
       "version_minor": 0
      },
      "text/plain": [
       "FloatProgress(value=0.0, layout=Layout(width='100%'), style=ProgressStyle(bar_color='black'))"
      ]
     },
     "metadata": {},
     "output_type": "display_data"
    },
    {
     "name": "stdout",
     "output_type": "stream",
     "text": [
      "CPU times: user 26.8 s, sys: 3.03 s, total: 29.9 s\n",
      "Wall time: 48.6 s\n"
     ]
    },
    {
     "data": {
      "text/plain": [
       "<duckdb.DuckDBPyConnection at 0x107befbb0>"
      ]
     },
     "execution_count": 15,
     "metadata": {},
     "output_type": "execute_result"
    }
   ],
   "source": [
    "%%time\n",
    "con.execute(\"copy (select * from results where step_id > 7 and step_id <= 10) to 's3://confirmasaurus-db-backup/results' (FORMAT parquet, PARTITION_BY ('step_id'), ALLOW_OVERWRITE TRUE)\")"
   ]
  },
  {
   "cell_type": "code",
   "execution_count": 53,
   "metadata": {},
   "outputs": [
    {
     "data": {
      "text/plain": [
       "(4295117, 130)"
      ]
     },
     "execution_count": 53,
     "metadata": {},
     "output_type": "execute_result"
    }
   ],
   "source": [
    "df.shape"
   ]
  },
  {
   "cell_type": "code",
   "execution_count": 60,
   "metadata": {},
   "outputs": [
    {
     "data": {
      "text/plain": [
       "'unnamed_7483655fa9c1418fa12f79915a9bf545'"
      ]
     },
     "execution_count": 60,
     "metadata": {},
     "output_type": "execute_result"
    }
   ],
   "source": [
    "ch_client.database"
   ]
  },
  {
   "cell_type": "code",
   "execution_count": 3,
   "metadata": {},
   "outputs": [
    {
     "data": {
      "application/vnd.jupyter.widget-view+json": {
       "model_id": "5e96b9cfb1cf4080b8b64487970eff69",
       "version_major": 2,
       "version_minor": 0
      },
      "text/plain": [
       "FloatProgress(value=0.0, layout=Layout(width='100%'), style=ProgressStyle(bar_color='black'))"
      ]
     },
     "metadata": {},
     "output_type": "display_data"
    },
    {
     "name": "stdout",
     "output_type": "stream",
     "text": [
      "took  43.81673884391785\n",
      "took  43.81678104400635\n",
      "took  43.81679892539978\n",
      "took  43.8168158531189\n",
      "took  43.81683397293091\n"
     ]
    }
   ],
   "source": [
    "import numpy as np\n",
    "import pandas as pd\n",
    "import pyarrow as pa\n",
    "arr = np.random.uniform(size=(400000, 130))\n",
    "df = pd.DataFrame(arr)\n",
    "arrow_tbl = pa.Table.from_pandas(df)\n",
    "\n",
    "import duckdb\n",
    "import time\n",
    "con = duckdb.connect()\n",
    "con.execute(\"\"\"\n",
    "install httpfs;\n",
    "load httpfs;\n",
    "set s3_region='us-east-1';\n",
    "set s3_access_key_id='';\n",
    "set s3_secret_access_key='';\n",
    "\"\"\")\n",
    "start = time.time()\n",
    "con.execute(\"copy (select * from arrow_tbl) to 's3://confirmasaurus-db-backup/results' (FORMAT parquet)\")\n",
    "print('took ', time.time() - start)\n",
    "print('took ', time.time() - start)\n",
    "print('took ', time.time() - start)\n",
    "print('took ', time.time() - start)\n",
    "print('took ', time.time() - start)"
   ]
  },
  {
   "cell_type": "code",
   "execution_count": 4,
   "metadata": {},
   "outputs": [
    {
     "data": {
      "application/vnd.jupyter.widget-view+json": {
       "model_id": "663c956c60fc4786abd228219b924303",
       "version_major": 2,
       "version_minor": 0
      },
      "text/plain": [
       "Output()"
      ]
     },
     "metadata": {},
     "output_type": "display_data"
    },
    {
     "data": {
      "text/html": [
       "<pre style=\"white-space:pre;overflow-x:auto;line-height:normal;font-family:Menlo,'DejaVu Sans Mono',consolas,'Courier New',monospace\"><span style=\"color: #008000; text-decoration-color: #008000\">✓</span> Initialized. <span style=\"color: #b2b2b2; text-decoration-color: #b2b2b2\">View app at </span><span style=\"color: #b2b2b2; text-decoration-color: #b2b2b2; text-decoration: underline\">https://modal.com/apps/ap-Md2LcMuNqrnpoiccl08Tg1</span>\n",
       "</pre>\n"
      ],
      "text/plain": [
       "\u001b[32m✓\u001b[0m Initialized. \u001b[38;5;249mView app at \u001b[0m\u001b[4;38;5;249mhttps://modal.com/apps/ap-Md2LcMuNqrnpoiccl08Tg1\u001b[0m\n"
      ]
     },
     "metadata": {},
     "output_type": "display_data"
    },
    {
     "data": {
      "text/html": [
       "<pre style=\"white-space:pre;overflow-x:auto;line-height:normal;font-family:Menlo,'DejaVu Sans Mono',consolas,'Courier New',monospace\"></pre>\n"
      ],
      "text/plain": []
     },
     "metadata": {},
     "output_type": "display_data"
    },
    {
     "data": {
      "application/vnd.jupyter.widget-view+json": {
       "model_id": "4fa80e1097024cf2a7b5a0ff0416370c",
       "version_major": 2,
       "version_minor": 0
      },
      "text/plain": [
       "Output()"
      ]
     },
     "metadata": {},
     "output_type": "display_data"
    },
    {
     "name": "stderr",
     "output_type": "stream",
     "text": [
      "2023-03-27T17:20:43-0400 Mount of '.' is empty.\n"
     ]
    },
    {
     "data": {
      "text/html": [
       "<pre style=\"white-space:pre;overflow-x:auto;line-height:normal;font-family:Menlo,'DejaVu Sans Mono',consolas,'Courier New',monospace\"></pre>\n"
      ],
      "text/plain": []
     },
     "metadata": {},
     "output_type": "display_data"
    },
    {
     "data": {
      "text/html": [
       "<pre style=\"white-space:pre;overflow-x:auto;line-height:normal;font-family:Menlo,'DejaVu Sans Mono',consolas,'Courier New',monospace\"><span style=\"color: #008000; text-decoration-color: #008000\">✓</span> Created objects.\n",
       "<span style=\"color: #808080; text-decoration-color: #808080\">├── </span><span style=\"color: #008000; text-decoration-color: #008000\">🔨</span> Created test_fnc.\n",
       "<span style=\"color: #808080; text-decoration-color: #808080\">├── </span><span style=\"color: #008000; text-decoration-color: #008000\">🔨</span> Created mount /Users/tbent/confirm/confirmasaurus/confirm\n",
       "<span style=\"color: #808080; text-decoration-color: #808080\">├── </span><span style=\"color: #008000; text-decoration-color: #008000\">🔨</span> Created mount /Users/tbent/confirm/confirmasaurus/imprint/imprint\n",
       "<span style=\"color: #808080; text-decoration-color: #808080\">└── </span><span style=\"color: #008000; text-decoration-color: #008000\">🔨</span> Created mount .\n",
       "</pre>\n"
      ],
      "text/plain": [
       "\u001b[32m✓\u001b[0m Created objects.\n",
       "\u001b[38;5;244m├── \u001b[0m\u001b[32m🔨\u001b[0m Created test_fnc.\n",
       "\u001b[38;5;244m├── \u001b[0m\u001b[32m🔨\u001b[0m Created mount /Users/tbent/confirm/confirmasaurus/confirm\n",
       "\u001b[38;5;244m├── \u001b[0m\u001b[32m🔨\u001b[0m Created mount /Users/tbent/confirm/confirmasaurus/imprint/imprint\n",
       "\u001b[38;5;244m└── \u001b[0m\u001b[32m🔨\u001b[0m Created mount .\n"
      ]
     },
     "metadata": {},
     "output_type": "display_data"
    },
    {
     "data": {
      "application/vnd.jupyter.widget-view+json": {
       "model_id": "e2fd1a27c959467e80dc9d7e98263b18",
       "version_major": 2,
       "version_minor": 0
      },
      "text/plain": [
       "Output()"
      ]
     },
     "metadata": {},
     "output_type": "display_data"
    },
    {
     "data": {
      "text/html": [
       "<pre style=\"white-space:pre;overflow-x:auto;line-height:normal;font-family:Menlo,'DejaVu Sans Mono',consolas,'Courier New',monospace\"><span style=\"color: #000080; text-decoration-color: #000080\">took  3.69688081741333\n",
       "took  3.696958065032959\n",
       "took  3.6969656944274902\n",
       "took  3.696972608566284\n",
       "</span></pre>\n"
      ],
      "text/plain": [
       "\u001b[34mtook  3.69688081741333\n",
       "took  3.696958065032959\n",
       "took  3.6969656944274902\n",
       "took  3.696972608566284\n",
       "\u001b[0m"
      ]
     },
     "metadata": {},
     "output_type": "display_data"
    },
    {
     "data": {
      "text/html": [
       "<pre style=\"white-space:pre;overflow-x:auto;line-height:normal;font-family:Menlo,'DejaVu Sans Mono',consolas,'Courier New',monospace\"></pre>\n"
      ],
      "text/plain": []
     },
     "metadata": {},
     "output_type": "display_data"
    },
    {
     "data": {
      "text/html": [
       "<pre style=\"white-space:pre;overflow-x:auto;line-height:normal;font-family:Menlo,'DejaVu Sans Mono',consolas,'Courier New',monospace\"><span style=\"color: #000080; text-decoration-color: #000080\">took  3.6969923973083496\n",
       "</span></pre>\n"
      ],
      "text/plain": [
       "\u001b[34mtook  3.6969923973083496\n",
       "\u001b[0m"
      ]
     },
     "metadata": {},
     "output_type": "display_data"
    },
    {
     "data": {
      "text/html": [
       "<pre style=\"white-space:pre;overflow-x:auto;line-height:normal;font-family:Menlo,'DejaVu Sans Mono',consolas,'Courier New',monospace\"><span style=\"color: #008000; text-decoration-color: #008000\">✓</span> App completed.\n",
       "</pre>\n"
      ],
      "text/plain": [
       "\u001b[32m✓\u001b[0m App completed.\n"
      ]
     },
     "metadata": {},
     "output_type": "display_data"
    }
   ],
   "source": [
    "import confirm.cloud.modal_util as modal_util\n",
    "import modal\n",
    "import numpy as np\n",
    "import pandas as pd\n",
    "import pyarrow as pa\n",
    "modal_cfg = modal_util.get_defaults()\n",
    "\n",
    "stub = modal.Stub()\n",
    "\n",
    "@stub.function(**modal_cfg)\n",
    "def test_fnc():\n",
    "    arr = np.random.uniform(size=(400000, 130))\n",
    "    df = pd.DataFrame(arr)\n",
    "    arrow_tbl = pa.Table.from_pandas(df)\n",
    "\n",
    "    import duckdb\n",
    "    import time\n",
    "    con = duckdb.connect()\n",
    "    con.execute(\"\"\"\n",
    "    install httpfs;\n",
    "    load httpfs;\n",
    "    set s3_region='us-east-1';\n",
    "    set s3_access_key_id='';\n",
    "    set s3_secret_access_key='';\n",
    "    \"\"\")\n",
    "    start = time.time()\n",
    "    con.execute(\"copy (select * from arrow_tbl) to 's3://confirmasaurus-db-backup/results' (FORMAT parquet)\")\n",
    "    print('took ', time.time() - start)\n",
    "    print('took ', time.time() - start)\n",
    "    print('took ', time.time() - start)\n",
    "    print('took ', time.time() - start)\n",
    "    print('took ', time.time() - start)\n",
    "    \n",
    "    # ch_client = ch.connect('unnamed_7483655fa9c1418fa12f79915a9bf545')\n",
    "    # async def insert():\n",
    "    #     n = 10000\n",
    "    #     tasks = [\n",
    "    #         asyncio.to_thread(\n",
    "    #             ch_client.insert_arrow,\n",
    "    #             \"results\",\n",
    "    #             arrow_tbl[i * n : (i + 1) * n],\n",
    "    #             settings=ch.async_insert_settings,\n",
    "    #         )\n",
    "    #         for i in range(64)\n",
    "    #     ]\n",
    "    #     await asyncio.gather(*tasks)\n",
    "    # asyncio.run(insert())\n",
    "\n",
    "with stub.run():\n",
    "    test_fnc.call()"
   ]
  }
 ],
 "metadata": {
  "kernelspec": {
   "display_name": "confirm",
   "language": "python",
   "name": "python3"
  },
  "language_info": {
   "codemirror_mode": {
    "name": "ipython",
    "version": 3
   },
   "file_extension": ".py",
   "mimetype": "text/x-python",
   "name": "python",
   "nbconvert_exporter": "python",
   "pygments_lexer": "ipython3",
   "version": "3.10.9"
  },
  "orig_nbformat": 4
 },
 "nbformat": 4,
 "nbformat_minor": 2
}
