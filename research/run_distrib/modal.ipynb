{
 "cells": [
  {
   "cell_type": "code",
   "execution_count": 1,
   "metadata": {},
   "outputs": [],
   "source": [
    "import imprint.nb_util as nb_util\n",
    "nb_util.setup_nb()\n",
    "import os\n",
    "import time\n",
    "import imprint as ip\n",
    "from imprint.models.ztest import ZTest1D\n",
    "import confirm.adagrid as ada\n",
    "import confirm.cloud.clickhouse as ch\n",
    "import pandas as pd\n",
    "import matplotlib.pyplot as plt\n",
    "import numpy as np"
   ]
  },
  {
   "cell_type": "code",
   "execution_count": 2,
   "metadata": {},
   "outputs": [
    {
     "name": "stdout",
     "output_type": "stream",
     "text": [
      "{'K_distribution': {8192: 2},\n",
      " 'bias_tie': '-0.000024',\n",
      " 'converged': False,\n",
      " 'desc': 'working',\n",
      " 'grid_cost': 0.019326683,\n",
      " 'i': 0,\n",
      " 'lamss': -1.9857934,\n",
      " 'max(B_lamss)': '-1.887401',\n",
      " 'min(B_lamss)': '-2.031679',\n",
      " 'n_complete': 0,\n",
      " 'n_deepen': 0,\n",
      " 'n_impossible': 0,\n",
      " 'n_processed': 2,\n",
      " 'n_refine': 1,\n",
      " 'runtime_cleanup': '0.003219',\n",
      " 'runtime_convergence_check': '0.131467',\n",
      " 'runtime_get_work': '0.002104',\n",
      " 'runtime_new_packet': '0.000003',\n",
      " 'runtime_processing': '0.053996',\n",
      " 'runtime_refine_deepen': '0.113060',\n",
      " 'spread_tie': '0.001587',\n",
      " 'std_tie': '0.000552',\n",
      " 'tie + slack': '0.024795',\n",
      " 'tie_{k}(lamss)': '0.005493'}\n",
      "{'K_distribution': {8192: 2, 16384: 1},\n",
      " 'bias_tie': '0.000220',\n",
      " 'converged': '0.000000',\n",
      " 'desc': 'working',\n",
      " 'grid_cost': 0.0127125885,\n",
      " 'i': 1,\n",
      " 'lamss': -1.9545794,\n",
      " 'max(B_lamss)': '-1.938797',\n",
      " 'min(B_lamss)': '-1.999353',\n",
      " 'n_complete': 0,\n",
      " 'n_deepen': 1,\n",
      " 'n_impossible': 0,\n",
      " 'n_processed': 3,\n",
      " 'n_refine': 1,\n",
      " 'runtime_cleanup': '0.003365',\n",
      " 'runtime_convergence_check': '0.004857',\n",
      " 'runtime_get_work': '0.002532',\n",
      " 'runtime_new_packet': '0.000001',\n",
      " 'runtime_processing': '0.069236',\n",
      " 'runtime_refine_deepen': '0.065870',\n",
      " 'spread_tie': '0.003174',\n",
      " 'std_tie': '0.001068',\n",
      " 'tie + slack': '0.025017',\n",
      " 'tie_{k}(lamss)': '0.012085'}\n",
      "{'K_distribution': {8192: 2, 16384: 1, 32768: 1},\n",
      " 'bias_tie': '-0.000415',\n",
      " 'converged': False,\n",
      " 'desc': 'working',\n",
      " 'grid_cost': 0.007335838,\n",
      " 'i': 2,\n",
      " 'lamss': -1.9634643,\n",
      " 'max(B_lamss)': '-1.935918',\n",
      " 'min(B_lamss)': '-1.978195',\n",
      " 'n_complete': 0,\n",
      " 'n_deepen': 2,\n",
      " 'n_impossible': 0,\n",
      " 'n_processed': 4,\n",
      " 'n_refine': 1,\n",
      " 'runtime_cleanup': '0.003710',\n",
      " 'runtime_convergence_check': '0.005640',\n",
      " 'runtime_get_work': '0.002658',\n",
      " 'runtime_new_packet': '0.000002',\n",
      " 'runtime_processing': '0.088739',\n",
      " 'runtime_refine_deepen': '0.068689',\n",
      " 'spread_tie': '0.003052',\n",
      " 'std_tie': '0.001077',\n",
      " 'tie + slack': '0.024377',\n",
      " 'tie_{k}(lamss)': '0.017456'}\n",
      "{'K_distribution': {8192: 2, 16384: 1, 32768: 1, 65536: 1},\n",
      " 'bias_tie': '-0.000366',\n",
      " 'converged': False,\n",
      " 'desc': 'working',\n",
      " 'grid_cost': 0.0039445423,\n",
      " 'i': 3,\n",
      " 'lamss': -1.9590595,\n",
      " 'max(B_lamss)': '-1.918080',\n",
      " 'min(B_lamss)': '-1.986207',\n",
      " 'n_complete': 0,\n",
      " 'n_deepen': 3,\n",
      " 'n_impossible': 0,\n",
      " 'n_processed': 5,\n",
      " 'n_refine': 1,\n",
      " 'runtime_cleanup': '0.003254',\n",
      " 'runtime_convergence_check': '0.005292',\n",
      " 'runtime_get_work': '0.002464',\n",
      " 'runtime_new_packet': '0.000001',\n",
      " 'runtime_processing': '0.107583',\n",
      " 'runtime_refine_deepen': '0.066023',\n",
      " 'spread_tie': '0.002808',\n",
      " 'std_tie': '0.001004',\n",
      " 'tie + slack': '0.024452',\n",
      " 'tie_{k}(lamss)': '0.020874'}\n",
      "{'K_distribution': {8192: 2, 16384: 1, 32768: 1, 65536: 1, 131072: 1},\n",
      " 'bias_tie': '-0.000317',\n",
      " 'converged': False,\n",
      " 'desc': 'working',\n",
      " 'grid_cost': 0.002045676,\n",
      " 'i': 4,\n",
      " 'lamss': -1.944948,\n",
      " 'max(B_lamss)': '-1.920145',\n",
      " 'min(B_lamss)': '-1.959790',\n",
      " 'n_complete': 0,\n",
      " 'n_deepen': 4,\n",
      " 'n_impossible': 0,\n",
      " 'n_processed': 6,\n",
      " 'n_refine': 1,\n",
      " 'runtime_cleanup': '0.003614',\n",
      " 'runtime_convergence_check': '0.005035',\n",
      " 'runtime_get_work': '0.002135',\n",
      " 'runtime_new_packet': '0.000002',\n",
      " 'runtime_processing': '0.122459',\n",
      " 'runtime_refine_deepen': '0.068220',\n",
      " 'spread_tie': '0.002319',\n",
      " 'std_tie': '0.000802',\n",
      " 'tie + slack': '0.024555',\n",
      " 'tie_{k}(lamss)': '0.022827'}\n",
      "{'K_distribution': {16384: 2, 32768: 1, 65536: 1, 131072: 3},\n",
      " 'bias_tie': '-0.000171',\n",
      " 'converged': False,\n",
      " 'desc': 'working',\n",
      " 'grid_cost': 0.0010417458,\n",
      " 'i': 5,\n",
      " 'lamss': -1.9499098,\n",
      " 'max(B_lamss)': '-1.916039',\n",
      " 'min(B_lamss)': '-1.959244',\n",
      " 'n_complete': 0,\n",
      " 'n_deepen': 5,\n",
      " 'n_impossible': 0,\n",
      " 'n_processed': 7,\n",
      " 'n_refine': 1,\n",
      " 'runtime_cleanup': '0.003529',\n",
      " 'runtime_convergence_check': '0.005349',\n",
      " 'runtime_get_work': '0.002972',\n",
      " 'runtime_new_packet': '0.000002',\n",
      " 'runtime_processing': '0.291289',\n",
      " 'runtime_refine_deepen': '0.069074',\n",
      " 'spread_tie': '0.002441',\n",
      " 'std_tie': '0.000841',\n",
      " 'tie + slack': '0.024675',\n",
      " 'tie_{k}(lamss)': '0.023804'}\n",
      "{'K_distribution': {16384: 2, 32768: 1, 65536: 1, 131072: 7},\n",
      " 'bias_tie': '0.000415',\n",
      " 'converged': '0.000000',\n",
      " 'desc': 'working',\n",
      " 'grid_cost': 0.0010417458,\n",
      " 'i': 6,\n",
      " 'lamss': -1.9537517,\n",
      " 'max(B_lamss)': '-1.936119',\n",
      " 'min(B_lamss)': '-1.978360',\n",
      " 'n_complete': 0,\n",
      " 'n_deepen': 3,\n",
      " 'n_impossible': 0,\n",
      " 'n_processed': 11,\n",
      " 'n_refine': 4,\n",
      " 'runtime_cleanup': '0.003595',\n",
      " 'runtime_convergence_check': '0.050135',\n",
      " 'runtime_get_work': '0.003104',\n",
      " 'runtime_new_packet': '0.000003',\n",
      " 'runtime_processing': '0.540258',\n",
      " 'runtime_refine_deepen': '0.069063',\n",
      " 'spread_tie': '0.002441',\n",
      " 'std_tie': '0.000820',\n",
      " 'tie + slack': '0.025322',\n",
      " 'tie_{k}(lamss)': '0.023865'}\n",
      "{'K_distribution': {16384: 2, 32768: 1, 65536: 1, 131072: 15},\n",
      " 'bias_tie': '0.000366',\n",
      " 'converged': '0.000000',\n",
      " 'desc': 'working',\n",
      " 'grid_cost': 0.0005256701,\n",
      " 'i': 7,\n",
      " 'lamss': -1.9537866,\n",
      " 'max(B_lamss)': '-1.929968',\n",
      " 'min(B_lamss)': '-1.978311',\n",
      " 'n_complete': 0,\n",
      " 'n_deepen': 3,\n",
      " 'n_impossible': 0,\n",
      " 'n_processed': 19,\n",
      " 'n_refine': 8,\n",
      " 'runtime_cleanup': '0.004089',\n",
      " 'runtime_convergence_check': '0.005111',\n",
      " 'runtime_get_work': '0.002670',\n",
      " 'runtime_new_packet': '0.000001',\n",
      " 'runtime_processing': '1.024250',\n",
      " 'runtime_refine_deepen': '0.067811',\n",
      " 'spread_tie': '0.002747',\n",
      " 'std_tie': '0.000960',\n",
      " 'tie + slack': '0.025306',\n",
      " 'tie_{k}(lamss)': '0.024414'}\n",
      "{'K_distribution': {16384: 2, 32768: 1, 65536: 1, 131072: 31},\n",
      " 'bias_tie': '0.000598',\n",
      " 'converged': '0.000000',\n",
      " 'desc': 'working',\n",
      " 'grid_cost': 0.000264043,\n",
      " 'i': 8,\n",
      " 'lamss': -1.9514192,\n",
      " 'max(B_lamss)': '-1.944253',\n",
      " 'min(B_lamss)': '-1.978410',\n",
      " 'n_complete': 0,\n",
      " 'n_deepen': 3,\n",
      " 'n_impossible': 0,\n",
      " 'n_processed': 35,\n",
      " 'n_refine': 16,\n",
      " 'runtime_cleanup': '0.003505',\n",
      " 'runtime_convergence_check': '0.006167',\n",
      " 'runtime_get_work': '0.002817',\n",
      " 'runtime_new_packet': '0.000001',\n",
      " 'runtime_processing': '1.986602',\n",
      " 'runtime_refine_deepen': '0.067765',\n",
      " 'spread_tie': '0.002075',\n",
      " 'std_tie': '0.000722',\n",
      " 'tie + slack': '0.025520',\n",
      " 'tie_{k}(lamss)': '0.024658'}\n",
      "{'K_distribution': {32768: 2, 65536: 1, 131072: 57},\n",
      " 'bias_tie': '0.000830',\n",
      " 'converged': '0.000000',\n",
      " 'desc': 'working',\n",
      " 'grid_cost': 0.000264043,\n",
      " 'i': 9,\n",
      " 'lamss': -1.9507118,\n",
      " 'max(B_lamss)': '-1.952282',\n",
      " 'min(B_lamss)': '-1.980174',\n",
      " 'n_complete': 0,\n",
      " 'n_deepen': 4,\n",
      " 'n_impossible': 0,\n",
      " 'n_processed': 60,\n",
      " 'n_refine': 28,\n",
      " 'runtime_cleanup': '0.003217',\n",
      " 'runtime_convergence_check': '0.049445',\n",
      " 'runtime_get_work': '0.002743',\n",
      " 'runtime_new_packet': '0.000002',\n",
      " 'runtime_processing': '3.503632',\n",
      " 'runtime_refine_deepen': '0.066168',\n",
      " 'spread_tie': '0.001801',\n",
      " 'std_tie': '0.000670',\n",
      " 'tie + slack': '0.025783',\n",
      " 'tie_{k}(lamss)': '0.024689'}\n",
      "{'K_distribution': {65536: 2, 131072: 59},\n",
      " 'bias_tie': '0.000354',\n",
      " 'converged': '0.000000',\n",
      " 'desc': 'working',\n",
      " 'grid_cost': 0.00013232417,\n",
      " 'i': 10,\n",
      " 'lamss': -1.9582566,\n",
      " 'max(B_lamss)': '-1.955517',\n",
      " 'min(B_lamss)': '-1.970207',\n",
      " 'n_complete': 0,\n",
      " 'n_deepen': 3,\n",
      " 'n_impossible': 0,\n",
      " 'n_processed': 61,\n",
      " 'n_refine': 29,\n",
      " 'runtime_cleanup': '0.003612',\n",
      " 'runtime_convergence_check': '0.005090',\n",
      " 'runtime_get_work': '0.002633',\n",
      " 'runtime_new_packet': '0.000001',\n",
      " 'runtime_processing': '3.667133',\n",
      " 'runtime_refine_deepen': '0.066717',\n",
      " 'spread_tie': '0.000671',\n",
      " 'std_tie': '0.000258',\n",
      " 'tie + slack': '0.025297',\n",
      " 'tie_{k}(lamss)': '0.024811'}\n",
      "{'K_distribution': {65536: 4, 131072: 60},\n",
      " 'bias_tie': '0.000256',\n",
      " 'converged': '0.000000',\n",
      " 'desc': 'working',\n",
      " 'grid_cost': 0.00013232417,\n",
      " 'i': 11,\n",
      " 'lamss': -1.9560716,\n",
      " 'max(B_lamss)': '-1.953600',\n",
      " 'min(B_lamss)': '-1.972466',\n",
      " 'n_complete': 0,\n",
      " 'n_deepen': 0,\n",
      " 'n_impossible': 0,\n",
      " 'n_processed': 64,\n",
      " 'n_refine': 32,\n",
      " 'runtime_cleanup': '0.003296',\n",
      " 'runtime_convergence_check': '0.055503',\n",
      " 'runtime_get_work': '0.002779',\n",
      " 'runtime_new_packet': '0.000003',\n",
      " 'runtime_processing': '3.799060',\n",
      " 'runtime_refine_deepen': '0.068663',\n",
      " 'spread_tie': '0.000977',\n",
      " 'std_tie': '0.000325',\n",
      " 'tie + slack': '0.025230',\n",
      " 'tie_{k}(lamss)': '0.024841'}\n",
      "{'K_distribution': {131072: 60},\n",
      " 'bias_tie': '0.000259',\n",
      " 'converged': '0.000000',\n",
      " 'desc': 'working',\n",
      " 'grid_cost': 6.6237524e-05,\n",
      " 'i': 12,\n",
      " 'lamss': -1.9556766,\n",
      " 'max(B_lamss)': '-1.954353',\n",
      " 'min(B_lamss)': '-1.971746',\n",
      " 'n_complete': 0,\n",
      " 'n_deepen': 4,\n",
      " 'n_impossible': 0,\n",
      " 'n_processed': 60,\n",
      " 'n_refine': 28,\n",
      " 'runtime_cleanup': '0.003798',\n",
      " 'runtime_convergence_check': '0.005883',\n",
      " 'runtime_get_work': '0.003245',\n",
      " 'runtime_new_packet': '0.000002',\n",
      " 'runtime_processing': '3.575023',\n",
      " 'runtime_refine_deepen': '0.067065',\n",
      " 'spread_tie': '0.000839',\n",
      " 'std_tie': '0.000301',\n",
      " 'tie + slack': '0.025243',\n",
      " 'tie_{k}(lamss)': '0.024918'}\n",
      "{'bias_tie': '0.000101',\n",
      " 'converged': '0.000000',\n",
      " 'desc': 'working',\n",
      " 'grid_cost': 6.6237524e-05,\n",
      " 'i': 13,\n",
      " 'lamss': -1.9629546,\n",
      " 'max(B_lamss)': '-1.941467',\n",
      " 'min(B_lamss)': '-1.979644',\n",
      " 'n_complete': 32,\n",
      " 'n_deepen': 0,\n",
      " 'n_impossible': 0,\n",
      " 'n_refine': 0,\n",
      " 'runtime_cleanup': '0.064853',\n",
      " 'runtime_convergence_check': '0.054208',\n",
      " 'runtime_get_work': '0.002503',\n",
      " 'runtime_new_packet': '0.000002',\n",
      " 'spread_tie': '0.001968',\n",
      " 'std_tie': '0.000587',\n",
      " 'tie + slack': '0.025092',\n",
      " 'tie_{k}(lamss)': '0.024925'}\n",
      "{'K_distribution': {131072: 8},\n",
      " 'bias_tie': '0.000101',\n",
      " 'converged': '0.000000',\n",
      " 'desc': 'working',\n",
      " 'grid_cost': 6.6237524e-05,\n",
      " 'i': 14,\n",
      " 'lamss': -1.9629546,\n",
      " 'max(B_lamss)': '-1.941467',\n",
      " 'min(B_lamss)': '-1.979644',\n",
      " 'n_complete': 28,\n",
      " 'n_deepen': 0,\n",
      " 'n_impossible': 0,\n",
      " 'n_processed': 8,\n",
      " 'n_refine': 4,\n",
      " 'runtime_cleanup': '0.003209',\n",
      " 'runtime_convergence_check': '0.005287',\n",
      " 'runtime_get_work': '0.002282',\n",
      " 'runtime_new_packet': '0.000001',\n",
      " 'runtime_processing': '0.532824',\n",
      " 'runtime_refine_deepen': '0.066058',\n",
      " 'spread_tie': '0.001968',\n",
      " 'std_tie': '0.000587',\n",
      " 'tie + slack': '0.025092',\n",
      " 'tie_{k}(lamss)': '0.024925'}\n",
      "{'K_distribution': {131072: 48},\n",
      " 'bias_tie': '0.000101',\n",
      " 'converged': '0.000000',\n",
      " 'desc': 'working',\n",
      " 'grid_cost': 6.6237524e-05,\n",
      " 'i': 15,\n",
      " 'lamss': -1.9629546,\n",
      " 'max(B_lamss)': '-1.941467',\n",
      " 'min(B_lamss)': '-1.979644',\n",
      " 'n_complete': 8,\n",
      " 'n_deepen': 0,\n",
      " 'n_impossible': 0,\n",
      " 'n_processed': 48,\n",
      " 'n_refine': 24,\n",
      " 'runtime_cleanup': '0.003286',\n",
      " 'runtime_convergence_check': '0.005272',\n",
      " 'runtime_get_work': '0.002499',\n",
      " 'runtime_new_packet': '0.000001',\n",
      " 'runtime_processing': '2.952722',\n",
      " 'runtime_refine_deepen': '0.066909',\n",
      " 'spread_tie': '0.001968',\n",
      " 'std_tie': '0.000587',\n",
      " 'tie + slack': '0.025092',\n",
      " 'tie_{k}(lamss)': '0.024925'}\n",
      "{'bias_tie': '0.000101',\n",
      " 'converged': '0.000000',\n",
      " 'desc': 'working',\n",
      " 'grid_cost': 6.6237524e-05,\n",
      " 'i': 16,\n",
      " 'lamss': -1.9629546,\n",
      " 'max(B_lamss)': '-1.941467',\n",
      " 'min(B_lamss)': '-1.979644',\n",
      " 'n_complete': 32,\n",
      " 'n_deepen': 0,\n",
      " 'n_impossible': 0,\n",
      " 'n_refine': 0,\n",
      " 'runtime_cleanup': '0.064691',\n",
      " 'runtime_convergence_check': '0.005599',\n",
      " 'runtime_get_work': '0.002647',\n",
      " 'runtime_new_packet': '0.000002',\n",
      " 'spread_tie': '0.001968',\n",
      " 'std_tie': '0.000587',\n",
      " 'tie + slack': '0.025092',\n",
      " 'tie_{k}(lamss)': '0.024925'}\n",
      "{'K_distribution': {131072: 32},\n",
      " 'bias_tie': '0.000101',\n",
      " 'converged': '0.000000',\n",
      " 'desc': 'working',\n",
      " 'grid_cost': 6.6237524e-05,\n",
      " 'i': 17,\n",
      " 'lamss': -1.9629546,\n",
      " 'max(B_lamss)': '-1.941467',\n",
      " 'min(B_lamss)': '-1.979644',\n",
      " 'n_complete': 16,\n",
      " 'n_deepen': 0,\n",
      " 'n_impossible': 0,\n",
      " 'n_processed': 32,\n",
      " 'n_refine': 16,\n",
      " 'runtime_cleanup': '0.003275',\n",
      " 'runtime_convergence_check': '0.005772',\n",
      " 'runtime_get_work': '0.002580',\n",
      " 'runtime_new_packet': '0.000001',\n",
      " 'runtime_processing': '1.953150',\n",
      " 'runtime_refine_deepen': '0.067095',\n",
      " 'spread_tie': '0.001968',\n",
      " 'std_tie': '0.000587',\n",
      " 'tie + slack': '0.025092',\n",
      " 'tie_{k}(lamss)': '0.024925'}\n",
      "{'K_distribution': {131072: 48},\n",
      " 'bias_tie': '0.000101',\n",
      " 'converged': '0.000000',\n",
      " 'desc': 'working',\n",
      " 'grid_cost': 6.6237524e-05,\n",
      " 'i': 18,\n",
      " 'lamss': -1.9629546,\n",
      " 'max(B_lamss)': '-1.941467',\n",
      " 'min(B_lamss)': '-1.979644',\n",
      " 'n_complete': 8,\n",
      " 'n_deepen': 0,\n",
      " 'n_impossible': 0,\n",
      " 'n_processed': 48,\n",
      " 'n_refine': 24,\n",
      " 'runtime_cleanup': '0.003853',\n",
      " 'runtime_convergence_check': '0.005498',\n",
      " 'runtime_get_work': '0.002240',\n",
      " 'runtime_new_packet': '0.000001',\n",
      " 'runtime_processing': '2.851431',\n",
      " 'runtime_refine_deepen': '0.065635',\n",
      " 'spread_tie': '0.001968',\n",
      " 'std_tie': '0.000587',\n",
      " 'tie + slack': '0.025092',\n",
      " 'tie_{k}(lamss)': '0.024925'}\n",
      "{'bias_tie': '0.000101',\n",
      " 'converged': '0.000000',\n",
      " 'desc': 'working',\n",
      " 'grid_cost': 6.6237524e-05,\n",
      " 'i': 19,\n",
      " 'lamss': -1.9629546,\n",
      " 'max(B_lamss)': '-1.941467',\n",
      " 'min(B_lamss)': '-1.979644',\n",
      " 'n_complete': 32,\n",
      " 'n_deepen': 0,\n",
      " 'n_impossible': 0,\n",
      " 'n_refine': 0,\n",
      " 'runtime_cleanup': '0.067417',\n",
      " 'runtime_convergence_check': '0.005863',\n",
      " 'runtime_get_work': '0.002705',\n",
      " 'runtime_new_packet': '0.000001',\n",
      " 'spread_tie': '0.001968',\n",
      " 'std_tie': '0.000587',\n",
      " 'tie + slack': '0.025092',\n",
      " 'tie_{k}(lamss)': '0.024925'}\n",
      "{'K_distribution': {131072: 32},\n",
      " 'bias_tie': '0.000101',\n",
      " 'converged': '0.000000',\n",
      " 'desc': 'working',\n",
      " 'grid_cost': 6.6237524e-05,\n",
      " 'i': 20,\n",
      " 'lamss': -1.9629546,\n",
      " 'max(B_lamss)': '-1.941467',\n",
      " 'min(B_lamss)': '-1.979644',\n",
      " 'n_complete': 16,\n",
      " 'n_deepen': 0,\n",
      " 'n_impossible': 0,\n",
      " 'n_processed': 32,\n",
      " 'n_refine': 16,\n",
      " 'runtime_cleanup': '0.003458',\n",
      " 'runtime_convergence_check': '0.005704',\n",
      " 'runtime_get_work': '0.002419',\n",
      " 'runtime_new_packet': '0.000001',\n",
      " 'runtime_processing': '1.896165',\n",
      " 'runtime_refine_deepen': '0.067512',\n",
      " 'spread_tie': '0.001968',\n",
      " 'std_tie': '0.000587',\n",
      " 'tie + slack': '0.025092',\n",
      " 'tie_{k}(lamss)': '0.024925'}\n",
      "{'K_distribution': {131072: 64},\n",
      " 'bias_tie': '0.000101',\n",
      " 'converged': '0.000000',\n",
      " 'desc': 'working',\n",
      " 'grid_cost': 6.6237524e-05,\n",
      " 'i': 21,\n",
      " 'lamss': -1.9629546,\n",
      " 'max(B_lamss)': '-1.941467',\n",
      " 'min(B_lamss)': '-1.979644',\n",
      " 'n_complete': 0,\n",
      " 'n_deepen': 0,\n",
      " 'n_impossible': 0,\n",
      " 'n_processed': 64,\n",
      " 'n_refine': 32,\n",
      " 'runtime_cleanup': '0.003806',\n",
      " 'runtime_convergence_check': '0.005728',\n",
      " 'runtime_get_work': '0.002401',\n",
      " 'runtime_new_packet': '0.000001',\n",
      " 'runtime_processing': '3.829527',\n",
      " 'runtime_refine_deepen': '0.067071',\n",
      " 'spread_tie': '0.001968',\n",
      " 'std_tie': '0.000587',\n",
      " 'tie + slack': '0.025092',\n",
      " 'tie_{k}(lamss)': '0.024925'}\n",
      "{'bias_tie': '0.000101',\n",
      " 'converged': '0.000000',\n",
      " 'desc': 'working',\n",
      " 'grid_cost': 6.6237524e-05,\n",
      " 'i': 22,\n",
      " 'lamss': -1.9629546,\n",
      " 'max(B_lamss)': '-1.941467',\n",
      " 'min(B_lamss)': '-1.979644',\n",
      " 'n_complete': 32,\n",
      " 'n_deepen': 0,\n",
      " 'n_impossible': 0,\n",
      " 'n_refine': 0,\n",
      " 'runtime_cleanup': '0.065157',\n",
      " 'runtime_convergence_check': '0.005884',\n",
      " 'runtime_get_work': '0.002895',\n",
      " 'runtime_new_packet': '0.000002',\n",
      " 'spread_tie': '0.001968',\n",
      " 'std_tie': '0.000587',\n",
      " 'tie + slack': '0.025092',\n",
      " 'tie_{k}(lamss)': '0.024925'}\n",
      "{'bias_tie': '0.000101',\n",
      " 'converged': '0.000000',\n",
      " 'desc': 'working',\n",
      " 'grid_cost': 6.6237524e-05,\n",
      " 'i': 23,\n",
      " 'lamss': -1.9629546,\n",
      " 'max(B_lamss)': '-1.941467',\n",
      " 'min(B_lamss)': '-1.979644',\n",
      " 'n_complete': 32,\n",
      " 'n_deepen': 0,\n",
      " 'n_impossible': 0,\n",
      " 'n_refine': 0,\n",
      " 'runtime_cleanup': '0.065207',\n",
      " 'runtime_convergence_check': '0.005326',\n",
      " 'runtime_get_work': '0.002244',\n",
      " 'runtime_new_packet': '0.000001',\n",
      " 'spread_tie': '0.001968',\n",
      " 'std_tie': '0.000587',\n",
      " 'tie + slack': '0.025092',\n",
      " 'tie_{k}(lamss)': '0.024925'}\n",
      "{'K_distribution': {131072: 64},\n",
      " 'bias_tie': '0.000101',\n",
      " 'converged': '0.000000',\n",
      " 'desc': 'working',\n",
      " 'grid_cost': 6.6237524e-05,\n",
      " 'i': 24,\n",
      " 'lamss': -1.9629546,\n",
      " 'max(B_lamss)': '-1.941467',\n",
      " 'min(B_lamss)': '-1.979644',\n",
      " 'n_complete': 0,\n",
      " 'n_deepen': 0,\n",
      " 'n_impossible': 0,\n",
      " 'n_processed': 64,\n",
      " 'n_refine': 32,\n",
      " 'runtime_cleanup': '0.003471',\n",
      " 'runtime_convergence_check': '0.005426',\n",
      " 'runtime_get_work': '0.002253',\n",
      " 'runtime_new_packet': '0.000001',\n",
      " 'runtime_processing': '3.767991',\n",
      " 'runtime_refine_deepen': '0.068888',\n",
      " 'spread_tie': '0.001968',\n",
      " 'std_tie': '0.000587',\n",
      " 'tie + slack': '0.025092',\n",
      " 'tie_{k}(lamss)': '0.024925'}\n",
      "{'K_distribution': {131072: 64},\n",
      " 'bias_tie': '0.000101',\n",
      " 'converged': '0.000000',\n",
      " 'desc': 'working',\n",
      " 'grid_cost': 6.6237524e-05,\n",
      " 'i': 25,\n",
      " 'lamss': -1.9629546,\n",
      " 'max(B_lamss)': '-1.941467',\n",
      " 'min(B_lamss)': '-1.979644',\n",
      " 'n_complete': 0,\n",
      " 'n_deepen': 0,\n",
      " 'n_impossible': 0,\n",
      " 'n_processed': 64,\n",
      " 'n_refine': 32,\n",
      " 'runtime_cleanup': '0.003311',\n",
      " 'runtime_convergence_check': '0.005363',\n",
      " 'runtime_get_work': '0.002494',\n",
      " 'runtime_new_packet': '0.000002',\n",
      " 'runtime_processing': '3.757480',\n",
      " 'runtime_refine_deepen': '0.066015',\n",
      " 'spread_tie': '0.001968',\n",
      " 'std_tie': '0.000587',\n",
      " 'tie + slack': '0.025092',\n",
      " 'tie_{k}(lamss)': '0.024925'}\n",
      "{'K_distribution': {131072: 56},\n",
      " 'bias_tie': '0.000101',\n",
      " 'converged': '0.000000',\n",
      " 'desc': 'working',\n",
      " 'grid_cost': 6.6237524e-05,\n",
      " 'i': 26,\n",
      " 'lamss': -1.9629546,\n",
      " 'max(B_lamss)': '-1.941467',\n",
      " 'min(B_lamss)': '-1.979644',\n",
      " 'n_complete': 4,\n",
      " 'n_deepen': 0,\n",
      " 'n_impossible': 0,\n",
      " 'n_processed': 56,\n",
      " 'n_refine': 28,\n",
      " 'runtime_cleanup': '0.003183',\n",
      " 'runtime_convergence_check': '0.005293',\n",
      " 'runtime_get_work': '0.002491',\n",
      " 'runtime_new_packet': '0.000001',\n",
      " 'runtime_processing': '3.365340',\n",
      " 'runtime_refine_deepen': '0.066435',\n",
      " 'spread_tie': '0.001968',\n",
      " 'std_tie': '0.000587',\n",
      " 'tie + slack': '0.025092',\n",
      " 'tie_{k}(lamss)': '0.024925'}\n",
      "{'bias_tie': '0.000101',\n",
      " 'converged': '0.000000',\n",
      " 'desc': 'working',\n",
      " 'grid_cost': 6.6237524e-05,\n",
      " 'i': 27,\n",
      " 'lamss': -1.9629546,\n",
      " 'max(B_lamss)': '-1.941467',\n",
      " 'min(B_lamss)': '-1.979644',\n",
      " 'n_complete': 32,\n",
      " 'n_deepen': 0,\n",
      " 'n_impossible': 0,\n",
      " 'n_refine': 0,\n",
      " 'runtime_cleanup': '0.067552',\n",
      " 'runtime_convergence_check': '0.005816',\n",
      " 'runtime_get_work': '0.002508',\n",
      " 'runtime_new_packet': '0.000002',\n",
      " 'spread_tie': '0.001968',\n",
      " 'std_tie': '0.000587',\n",
      " 'tie + slack': '0.025092',\n",
      " 'tie_{k}(lamss)': '0.024925'}\n",
      "{'K_distribution': {131072: 16},\n",
      " 'bias_tie': '0.000101',\n",
      " 'converged': '0.000000',\n",
      " 'desc': 'working',\n",
      " 'grid_cost': 6.6237524e-05,\n",
      " 'i': 28,\n",
      " 'lamss': -1.9629546,\n",
      " 'max(B_lamss)': '-1.941467',\n",
      " 'min(B_lamss)': '-1.979644',\n",
      " 'n_complete': 24,\n",
      " 'n_deepen': 0,\n",
      " 'n_impossible': 0,\n",
      " 'n_processed': 16,\n",
      " 'n_refine': 8,\n",
      " 'runtime_cleanup': '0.003371',\n",
      " 'runtime_convergence_check': '0.005756',\n",
      " 'runtime_get_work': '0.002631',\n",
      " 'runtime_new_packet': '0.000001',\n",
      " 'runtime_processing': '0.983546',\n",
      " 'runtime_refine_deepen': '0.067145',\n",
      " 'spread_tie': '0.001968',\n",
      " 'std_tie': '0.000587',\n",
      " 'tie + slack': '0.025092',\n",
      " 'tie_{k}(lamss)': '0.024925'}\n",
      "{'K_distribution': {131072: 32},\n",
      " 'bias_tie': '0.000101',\n",
      " 'converged': '0.000000',\n",
      " 'desc': 'working',\n",
      " 'grid_cost': 6.6237524e-05,\n",
      " 'i': 29,\n",
      " 'lamss': -1.9629546,\n",
      " 'max(B_lamss)': '-1.941467',\n",
      " 'min(B_lamss)': '-1.979644',\n",
      " 'n_complete': 16,\n",
      " 'n_deepen': 0,\n",
      " 'n_impossible': 0,\n",
      " 'n_processed': 32,\n",
      " 'n_refine': 16,\n",
      " 'runtime_cleanup': '0.003418',\n",
      " 'runtime_convergence_check': '0.005715',\n",
      " 'runtime_get_work': '0.002384',\n",
      " 'runtime_new_packet': '0.000001',\n",
      " 'runtime_processing': '1.907181',\n",
      " 'runtime_refine_deepen': '0.066548',\n",
      " 'spread_tie': '0.001968',\n",
      " 'std_tie': '0.000587',\n",
      " 'tie + slack': '0.025092',\n",
      " 'tie_{k}(lamss)': '0.024925'}\n",
      "{'bias_tie': '0.000101',\n",
      " 'converged': '0.000000',\n",
      " 'desc': 'working',\n",
      " 'grid_cost': 6.6237524e-05,\n",
      " 'i': 30,\n",
      " 'lamss': -1.9629546,\n",
      " 'max(B_lamss)': '-1.941467',\n",
      " 'min(B_lamss)': '-1.979644',\n",
      " 'n_complete': 32,\n",
      " 'n_deepen': 0,\n",
      " 'n_impossible': 0,\n",
      " 'n_refine': 0,\n",
      " 'runtime_cleanup': '0.064555',\n",
      " 'runtime_convergence_check': '0.005503',\n",
      " 'runtime_get_work': '0.002583',\n",
      " 'runtime_new_packet': '0.000001',\n",
      " 'spread_tie': '0.001968',\n",
      " 'std_tie': '0.000587',\n",
      " 'tie + slack': '0.025092',\n",
      " 'tie_{k}(lamss)': '0.024925'}\n",
      "{'K_distribution': {131072: 64},\n",
      " 'bias_tie': '0.000101',\n",
      " 'converged': '0.000000',\n",
      " 'desc': 'working',\n",
      " 'grid_cost': 6.6237524e-05,\n",
      " 'i': 31,\n",
      " 'lamss': -1.9629546,\n",
      " 'max(B_lamss)': '-1.941467',\n",
      " 'min(B_lamss)': '-1.979644',\n",
      " 'n_complete': 0,\n",
      " 'n_deepen': 0,\n",
      " 'n_impossible': 0,\n",
      " 'n_processed': 64,\n",
      " 'n_refine': 32,\n",
      " 'runtime_cleanup': '0.003654',\n",
      " 'runtime_convergence_check': '0.005498',\n",
      " 'runtime_get_work': '0.002601',\n",
      " 'runtime_new_packet': '0.000002',\n",
      " 'runtime_processing': '3.783585',\n",
      " 'runtime_refine_deepen': '0.066251',\n",
      " 'spread_tie': '0.001968',\n",
      " 'std_tie': '0.000587',\n",
      " 'tie + slack': '0.025092',\n",
      " 'tie_{k}(lamss)': '0.024925'}\n",
      "{'K_distribution': {131072: 32},\n",
      " 'bias_tie': '0.000101',\n",
      " 'converged': '0.000000',\n",
      " 'desc': 'working',\n",
      " 'grid_cost': 6.6237524e-05,\n",
      " 'i': 32,\n",
      " 'lamss': -1.9629546,\n",
      " 'max(B_lamss)': '-1.941467',\n",
      " 'min(B_lamss)': '-1.979644',\n",
      " 'n_complete': 16,\n",
      " 'n_deepen': 0,\n",
      " 'n_impossible': 0,\n",
      " 'n_processed': 32,\n",
      " 'n_refine': 16,\n",
      " 'runtime_cleanup': '0.004008',\n",
      " 'runtime_convergence_check': '0.005394',\n",
      " 'runtime_get_work': '0.002528',\n",
      " 'runtime_new_packet': '0.000001',\n",
      " 'runtime_processing': '1.927720',\n",
      " 'runtime_refine_deepen': '0.066910',\n",
      " 'spread_tie': '0.001968',\n",
      " 'std_tie': '0.000587',\n",
      " 'tie + slack': '0.025092',\n",
      " 'tie_{k}(lamss)': '0.024925'}\n",
      "{'bias_tie': '0.000101',\n",
      " 'converged': '0.000000',\n",
      " 'desc': 'working',\n",
      " 'grid_cost': 6.6237524e-05,\n",
      " 'i': 33,\n",
      " 'lamss': -1.9629546,\n",
      " 'max(B_lamss)': '-1.941467',\n",
      " 'min(B_lamss)': '-1.979644',\n",
      " 'n_complete': 32,\n",
      " 'n_deepen': 0,\n",
      " 'n_impossible': 0,\n",
      " 'n_refine': 0,\n",
      " 'runtime_cleanup': '0.068378',\n",
      " 'runtime_convergence_check': '0.005937',\n",
      " 'runtime_get_work': '0.002763',\n",
      " 'runtime_new_packet': '0.000002',\n",
      " 'spread_tie': '0.001968',\n",
      " 'std_tie': '0.000587',\n",
      " 'tie + slack': '0.025092',\n",
      " 'tie_{k}(lamss)': '0.024925'}\n",
      "{'K_distribution': {131072: 64},\n",
      " 'bias_tie': '0.000101',\n",
      " 'converged': '0.000000',\n",
      " 'desc': 'working',\n",
      " 'grid_cost': 6.6237524e-05,\n",
      " 'i': 34,\n",
      " 'lamss': -1.9629546,\n",
      " 'max(B_lamss)': '-1.941467',\n",
      " 'min(B_lamss)': '-1.979644',\n",
      " 'n_complete': 0,\n",
      " 'n_deepen': 0,\n",
      " 'n_impossible': 0,\n",
      " 'n_processed': 64,\n",
      " 'n_refine': 32,\n",
      " 'runtime_cleanup': '0.003471',\n",
      " 'runtime_convergence_check': '0.006252',\n",
      " 'runtime_get_work': '0.002618',\n",
      " 'runtime_new_packet': '0.000002',\n",
      " 'runtime_processing': '3.850380',\n",
      " 'runtime_refine_deepen': '0.068984',\n",
      " 'spread_tie': '0.001968',\n",
      " 'std_tie': '0.000587',\n",
      " 'tie + slack': '0.025092',\n",
      " 'tie_{k}(lamss)': '0.024925'}\n",
      "{'bias_tie': '0.000101',\n",
      " 'converged': '0.000000',\n",
      " 'desc': 'working',\n",
      " 'grid_cost': 6.6237524e-05,\n",
      " 'i': 35,\n",
      " 'lamss': -1.9629546,\n",
      " 'max(B_lamss)': '-1.941467',\n",
      " 'min(B_lamss)': '-1.979644',\n",
      " 'n_complete': 32,\n",
      " 'n_deepen': 0,\n",
      " 'n_impossible': 0,\n",
      " 'n_refine': 0,\n",
      " 'runtime_cleanup': '0.067539',\n",
      " 'runtime_convergence_check': '0.006344',\n",
      " 'runtime_get_work': '0.002883',\n",
      " 'runtime_new_packet': '0.000003',\n",
      " 'spread_tie': '0.001968',\n",
      " 'std_tie': '0.000587',\n",
      " 'tie + slack': '0.025092',\n",
      " 'tie_{k}(lamss)': '0.024925'}\n",
      "{'bias_tie': '0.000101',\n",
      " 'converged': '0.000000',\n",
      " 'desc': 'working',\n",
      " 'grid_cost': 6.6237524e-05,\n",
      " 'i': 36,\n",
      " 'lamss': -1.9629546,\n",
      " 'max(B_lamss)': '-1.941467',\n",
      " 'min(B_lamss)': '-1.979644',\n",
      " 'n_complete': 32,\n",
      " 'n_deepen': 0,\n",
      " 'n_impossible': 0,\n",
      " 'n_refine': 0,\n",
      " 'runtime_cleanup': '0.067491',\n",
      " 'runtime_convergence_check': '0.006841',\n",
      " 'runtime_get_work': '0.002350',\n",
      " 'runtime_new_packet': '0.000002',\n",
      " 'spread_tie': '0.001968',\n",
      " 'std_tie': '0.000587',\n",
      " 'tie + slack': '0.025092',\n",
      " 'tie_{k}(lamss)': '0.024925'}\n",
      "{'K_distribution': {131072: 16},\n",
      " 'bias_tie': '0.000101',\n",
      " 'converged': '0.000000',\n",
      " 'desc': 'working',\n",
      " 'grid_cost': 6.6237524e-05,\n",
      " 'i': 37,\n",
      " 'lamss': -1.9629546,\n",
      " 'max(B_lamss)': '-1.941467',\n",
      " 'min(B_lamss)': '-1.979644',\n",
      " 'n_complete': 0,\n",
      " 'n_deepen': 0,\n",
      " 'n_impossible': 0,\n",
      " 'n_processed': 16,\n",
      " 'n_refine': 8,\n",
      " 'runtime_cleanup': '0.003501',\n",
      " 'runtime_convergence_check': '0.006590',\n",
      " 'runtime_get_work': '0.003006',\n",
      " 'runtime_new_packet': '0.000002',\n",
      " 'runtime_processing': '0.990263',\n",
      " 'runtime_refine_deepen': '0.069502',\n",
      " 'spread_tie': '0.001968',\n",
      " 'std_tie': '0.000587',\n",
      " 'tie + slack': '0.025092',\n",
      " 'tie_{k}(lamss)': '0.024925'}\n",
      "{'K_distribution': {131072: 32},\n",
      " 'bias_tie': '0.000101',\n",
      " 'converged': '0.000000',\n",
      " 'desc': 'working',\n",
      " 'grid_cost': 6.6237524e-05,\n",
      " 'i': 38,\n",
      " 'lamss': -1.9629546,\n",
      " 'max(B_lamss)': '-1.941467',\n",
      " 'min(B_lamss)': '-1.979644',\n",
      " 'n_complete': 0,\n",
      " 'n_deepen': 0,\n",
      " 'n_impossible': 0,\n",
      " 'n_processed': 32,\n",
      " 'n_refine': 16,\n",
      " 'runtime_cleanup': '0.003323',\n",
      " 'runtime_convergence_check': '0.006854',\n",
      " 'runtime_get_work': '0.003257',\n",
      " 'runtime_new_packet': '0.000002',\n",
      " 'runtime_processing': '1.905125',\n",
      " 'runtime_refine_deepen': '0.068776',\n",
      " 'spread_tie': '0.001968',\n",
      " 'std_tie': '0.000587',\n",
      " 'tie + slack': '0.025092',\n",
      " 'tie_{k}(lamss)': '0.024925'}\n",
      "{'K_distribution': {131072: 48},\n",
      " 'bias_tie': '0.000101',\n",
      " 'converged': '0.000000',\n",
      " 'desc': 'working',\n",
      " 'grid_cost': 6.6237524e-05,\n",
      " 'i': 39,\n",
      " 'lamss': -1.9629546,\n",
      " 'max(B_lamss)': '-1.941467',\n",
      " 'min(B_lamss)': '-1.979644',\n",
      " 'n_complete': 8,\n",
      " 'n_deepen': 0,\n",
      " 'n_impossible': 0,\n",
      " 'n_processed': 48,\n",
      " 'n_refine': 24,\n",
      " 'runtime_cleanup': '0.003395',\n",
      " 'runtime_convergence_check': '0.005318',\n",
      " 'runtime_get_work': '0.002614',\n",
      " 'runtime_new_packet': '0.000001',\n",
      " 'runtime_processing': '2.830869',\n",
      " 'runtime_refine_deepen': '0.066462',\n",
      " 'spread_tie': '0.001968',\n",
      " 'std_tie': '0.000587',\n",
      " 'tie + slack': '0.025092',\n",
      " 'tie_{k}(lamss)': '0.024925'}\n",
      "{'bias_tie': '0.000101',\n",
      " 'converged': '0.000000',\n",
      " 'desc': 'working',\n",
      " 'grid_cost': 6.6237524e-05,\n",
      " 'i': 40,\n",
      " 'lamss': -1.9629546,\n",
      " 'max(B_lamss)': '-1.941467',\n",
      " 'min(B_lamss)': '-1.979644',\n",
      " 'n_complete': 32,\n",
      " 'n_deepen': 0,\n",
      " 'n_impossible': 0,\n",
      " 'n_refine': 0,\n",
      " 'runtime_cleanup': '0.065786',\n",
      " 'runtime_convergence_check': '0.005376',\n",
      " 'runtime_get_work': '0.002810',\n",
      " 'runtime_new_packet': '0.000002',\n",
      " 'spread_tie': '0.001968',\n",
      " 'std_tie': '0.000587',\n",
      " 'tie + slack': '0.025092',\n",
      " 'tie_{k}(lamss)': '0.024925'}\n",
      "{'bias_tie': '0.000101',\n",
      " 'converged': '0.000000',\n",
      " 'desc': 'working',\n",
      " 'grid_cost': 6.6237524e-05,\n",
      " 'i': 41,\n",
      " 'lamss': -1.9629546,\n",
      " 'max(B_lamss)': '-1.941467',\n",
      " 'min(B_lamss)': '-1.979644',\n",
      " 'n_complete': 16,\n",
      " 'n_deepen': 0,\n",
      " 'n_impossible': 0,\n",
      " 'n_refine': 0,\n",
      " 'runtime_cleanup': '0.066173',\n",
      " 'runtime_convergence_check': '0.005921',\n",
      " 'runtime_get_work': '0.002485',\n",
      " 'runtime_new_packet': '0.000001',\n",
      " 'spread_tie': '0.001968',\n",
      " 'std_tie': '0.000587',\n",
      " 'tie + slack': '0.025092',\n",
      " 'tie_{k}(lamss)': '0.024925'}\n",
      "{'bias_tie': '0.000101',\n",
      " 'converged': '0.000000',\n",
      " 'desc': 'new_packet',\n",
      " 'grid_cost': 6.6237524e-05,\n",
      " 'i': 42,\n",
      " 'lamss': -1.9629546,\n",
      " 'max(B_lamss)': '-1.941467',\n",
      " 'min(B_lamss)': '-1.979644',\n",
      " 'n_impossible': 0,\n",
      " 'runtime_convergence_check': '0.005509',\n",
      " 'runtime_get_work': '0.002007',\n",
      " 'runtime_new_packet': '0.000001',\n",
      " 'spread_tie': '0.001968',\n",
      " 'std_tie': '0.000587',\n",
      " 'tie + slack': '0.025092',\n",
      " 'tie_{k}(lamss)': '0.024925'}\n",
      "{'bias_tie': '0.000101',\n",
      " 'converged': '0.000000',\n",
      " 'desc': 'new_packet',\n",
      " 'grid_cost': 6.6237524e-05,\n",
      " 'i': 43,\n",
      " 'lamss': -1.9629546,\n",
      " 'max(B_lamss)': '-1.941467',\n",
      " 'min(B_lamss)': '-1.979644',\n",
      " 'n_impossible': 0,\n",
      " 'runtime_convergence_check': '0.005571',\n",
      " 'runtime_get_work': '0.002091',\n",
      " 'runtime_new_packet': '0.000001',\n",
      " 'spread_tie': '0.001968',\n",
      " 'std_tie': '0.000587',\n",
      " 'tie + slack': '0.025092',\n",
      " 'tie_{k}(lamss)': '0.024925'}\n",
      "{'bias_tie': '0.000101',\n",
      " 'converged': '0.000000',\n",
      " 'desc': 'new_packet',\n",
      " 'grid_cost': 6.6237524e-05,\n",
      " 'i': 44,\n",
      " 'lamss': -1.9629546,\n",
      " 'max(B_lamss)': '-1.941467',\n",
      " 'min(B_lamss)': '-1.979644',\n",
      " 'n_impossible': 0,\n",
      " 'runtime_convergence_check': '0.005555',\n",
      " 'runtime_get_work': '0.002306',\n",
      " 'runtime_new_packet': '0.000001',\n",
      " 'spread_tie': '0.001968',\n",
      " 'std_tie': '0.000587',\n",
      " 'tie + slack': '0.025092',\n",
      " 'tie_{k}(lamss)': '0.024925'}\n",
      "{'bias_tie': '0.000101',\n",
      " 'converged': '0.000000',\n",
      " 'desc': 'new_packet',\n",
      " 'grid_cost': 6.6237524e-05,\n",
      " 'i': 45,\n",
      " 'lamss': -1.9629546,\n",
      " 'max(B_lamss)': '-1.941467',\n",
      " 'min(B_lamss)': '-1.979644',\n",
      " 'n_impossible': 0,\n",
      " 'runtime_convergence_check': '0.005652',\n",
      " 'runtime_get_work': '0.002392',\n",
      " 'runtime_new_packet': '0.000001',\n",
      " 'spread_tie': '0.001968',\n",
      " 'std_tie': '0.000587',\n",
      " 'tie + slack': '0.025092',\n",
      " 'tie_{k}(lamss)': '0.024925'}\n",
      "{'bias_tie': '0.000101',\n",
      " 'converged': '0.000000',\n",
      " 'desc': 'new_packet',\n",
      " 'grid_cost': 6.6237524e-05,\n",
      " 'i': 46,\n",
      " 'lamss': -1.9629546,\n",
      " 'max(B_lamss)': '-1.941467',\n",
      " 'min(B_lamss)': '-1.979644',\n",
      " 'n_impossible': 0,\n",
      " 'runtime_convergence_check': '0.005210',\n",
      " 'runtime_get_work': '0.002145',\n",
      " 'runtime_new_packet': '0.000001',\n",
      " 'spread_tie': '0.001968',\n",
      " 'std_tie': '0.000587',\n",
      " 'tie + slack': '0.025092',\n",
      " 'tie_{k}(lamss)': '0.024925'}\n",
      "{'bias_tie': '0.000101',\n",
      " 'converged': '0.000000',\n",
      " 'desc': 'new_packet',\n",
      " 'grid_cost': 6.6237524e-05,\n",
      " 'i': 47,\n",
      " 'lamss': -1.9629546,\n",
      " 'max(B_lamss)': '-1.941467',\n",
      " 'min(B_lamss)': '-1.979644',\n",
      " 'n_impossible': 0,\n",
      " 'runtime_convergence_check': '0.005195',\n",
      " 'runtime_get_work': '0.002076',\n",
      " 'runtime_new_packet': '0.000001',\n",
      " 'spread_tie': '0.001968',\n",
      " 'std_tie': '0.000587',\n",
      " 'tie + slack': '0.025092',\n",
      " 'tie_{k}(lamss)': '0.024925'}\n",
      "{'bias_tie': '0.000101',\n",
      " 'converged': '0.000000',\n",
      " 'desc': 'new_packet',\n",
      " 'grid_cost': 6.6237524e-05,\n",
      " 'i': 48,\n",
      " 'lamss': -1.9629546,\n",
      " 'max(B_lamss)': '-1.941467',\n",
      " 'min(B_lamss)': '-1.979644',\n",
      " 'n_impossible': 0,\n",
      " 'runtime_convergence_check': '0.005556',\n",
      " 'runtime_get_work': '0.002388',\n",
      " 'runtime_new_packet': '0.000001',\n",
      " 'spread_tie': '0.001968',\n",
      " 'std_tie': '0.000587',\n",
      " 'tie + slack': '0.025092',\n",
      " 'tie_{k}(lamss)': '0.024925'}\n",
      "{'bias_tie': '0.000101',\n",
      " 'converged': '0.000000',\n",
      " 'desc': 'new_packet',\n",
      " 'grid_cost': 6.6237524e-05,\n",
      " 'i': 49,\n",
      " 'lamss': -1.9629546,\n",
      " 'max(B_lamss)': '-1.941467',\n",
      " 'min(B_lamss)': '-1.979644',\n",
      " 'n_impossible': 0,\n",
      " 'runtime_convergence_check': '0.005718',\n",
      " 'runtime_get_work': '0.002478',\n",
      " 'runtime_new_packet': '0.000001',\n",
      " 'spread_tie': '0.001968',\n",
      " 'std_tie': '0.000587',\n",
      " 'tie + slack': '0.025092',\n",
      " 'tie_{k}(lamss)': '0.024925'}\n",
      "{'bias_tie': '0.000101',\n",
      " 'converged': '0.000000',\n",
      " 'desc': 'new_packet',\n",
      " 'grid_cost': 6.6237524e-05,\n",
      " 'i': 50,\n",
      " 'lamss': -1.9629546,\n",
      " 'max(B_lamss)': '-1.941467',\n",
      " 'min(B_lamss)': '-1.979644',\n",
      " 'n_impossible': 0,\n",
      " 'runtime_convergence_check': '0.005896',\n",
      " 'runtime_get_work': '0.002151',\n",
      " 'runtime_new_packet': '0.000001',\n",
      " 'spread_tie': '0.001968',\n",
      " 'std_tie': '0.000587',\n",
      " 'tie + slack': '0.025092',\n",
      " 'tie_{k}(lamss)': '0.024925'}\n",
      "{'bias_tie': '0.000101',\n",
      " 'converged': '0.000000',\n",
      " 'desc': 'new_packet',\n",
      " 'grid_cost': 6.6237524e-05,\n",
      " 'i': 51,\n",
      " 'lamss': -1.9629546,\n",
      " 'max(B_lamss)': '-1.941467',\n",
      " 'min(B_lamss)': '-1.979644',\n",
      " 'n_impossible': 0,\n",
      " 'runtime_convergence_check': '0.005272',\n",
      " 'runtime_get_work': '0.002267',\n",
      " 'runtime_new_packet': '0.000001',\n",
      " 'spread_tie': '0.001968',\n",
      " 'std_tie': '0.000587',\n",
      " 'tie + slack': '0.025092',\n",
      " 'tie_{k}(lamss)': '0.024925'}\n",
      "{'bias_tie': '0.000101',\n",
      " 'converged': '0.000000',\n",
      " 'desc': 'new_packet',\n",
      " 'grid_cost': 6.6237524e-05,\n",
      " 'i': 52,\n",
      " 'lamss': -1.9629546,\n",
      " 'max(B_lamss)': '-1.941467',\n",
      " 'min(B_lamss)': '-1.979644',\n",
      " 'n_impossible': 0,\n",
      " 'runtime_convergence_check': '0.005130',\n",
      " 'runtime_get_work': '0.002171',\n",
      " 'runtime_new_packet': '0.000001',\n",
      " 'spread_tie': '0.001968',\n",
      " 'std_tie': '0.000587',\n",
      " 'tie + slack': '0.025092',\n",
      " 'tie_{k}(lamss)': '0.024925'}\n",
      "{'bias_tie': '0.000101',\n",
      " 'converged': '0.000000',\n",
      " 'desc': 'new_packet',\n",
      " 'grid_cost': 6.6237524e-05,\n",
      " 'i': 53,\n",
      " 'lamss': -1.9629546,\n",
      " 'max(B_lamss)': '-1.941467',\n",
      " 'min(B_lamss)': '-1.979644',\n",
      " 'n_impossible': 0,\n",
      " 'runtime_convergence_check': '0.005658',\n",
      " 'runtime_get_work': '0.002103',\n",
      " 'runtime_new_packet': '0.000001',\n",
      " 'spread_tie': '0.001968',\n",
      " 'std_tie': '0.000587',\n",
      " 'tie + slack': '0.025092',\n",
      " 'tie_{k}(lamss)': '0.024925'}\n",
      "{'bias_tie': '0.000101',\n",
      " 'converged': '0.000000',\n",
      " 'desc': 'new_packet',\n",
      " 'grid_cost': 6.6237524e-05,\n",
      " 'i': 54,\n",
      " 'lamss': -1.9629546,\n",
      " 'max(B_lamss)': '-1.941467',\n",
      " 'min(B_lamss)': '-1.979644',\n",
      " 'n_impossible': 0,\n",
      " 'runtime_convergence_check': '0.005872',\n",
      " 'runtime_get_work': '0.002178',\n",
      " 'runtime_new_packet': '0.000002',\n",
      " 'spread_tie': '0.001968',\n",
      " 'std_tie': '0.000587',\n",
      " 'tie + slack': '0.025092',\n",
      " 'tie_{k}(lamss)': '0.024925'}\n",
      "{'bias_tie': '0.000101',\n",
      " 'converged': '0.000000',\n",
      " 'desc': 'new_packet',\n",
      " 'grid_cost': 6.6237524e-05,\n",
      " 'i': 55,\n",
      " 'lamss': -1.9629546,\n",
      " 'max(B_lamss)': '-1.941467',\n",
      " 'min(B_lamss)': '-1.979644',\n",
      " 'n_impossible': 0,\n",
      " 'runtime_convergence_check': '0.005579',\n",
      " 'runtime_get_work': '0.002317',\n",
      " 'runtime_new_packet': '0.000001',\n",
      " 'spread_tie': '0.001968',\n",
      " 'std_tie': '0.000587',\n",
      " 'tie + slack': '0.025092',\n",
      " 'tie_{k}(lamss)': '0.024925'}\n",
      "{'bias_tie': '0.000101',\n",
      " 'converged': '0.000000',\n",
      " 'desc': 'new_packet',\n",
      " 'grid_cost': 6.6237524e-05,\n",
      " 'i': 56,\n",
      " 'lamss': -1.9629546,\n",
      " 'max(B_lamss)': '-1.941467',\n",
      " 'min(B_lamss)': '-1.979644',\n",
      " 'n_impossible': 0,\n",
      " 'runtime_convergence_check': '0.005545',\n",
      " 'runtime_get_work': '0.002202',\n",
      " 'runtime_new_packet': '0.000001',\n",
      " 'spread_tie': '0.001968',\n",
      " 'std_tie': '0.000587',\n",
      " 'tie + slack': '0.025092',\n",
      " 'tie_{k}(lamss)': '0.024925'}\n",
      "{'bias_tie': '0.000101',\n",
      " 'converged': '0.000000',\n",
      " 'desc': 'new_packet',\n",
      " 'grid_cost': 6.6237524e-05,\n",
      " 'i': 57,\n",
      " 'lamss': -1.9629546,\n",
      " 'max(B_lamss)': '-1.941467',\n",
      " 'min(B_lamss)': '-1.979644',\n",
      " 'n_impossible': 0,\n",
      " 'runtime_convergence_check': '0.005594',\n",
      " 'runtime_get_work': '0.002101',\n",
      " 'runtime_new_packet': '0.000002',\n",
      " 'spread_tie': '0.001968',\n",
      " 'std_tie': '0.000587',\n",
      " 'tie + slack': '0.025092',\n",
      " 'tie_{k}(lamss)': '0.024925'}\n",
      "{'bias_tie': '0.000101',\n",
      " 'converged': '0.000000',\n",
      " 'desc': 'new_packet',\n",
      " 'grid_cost': 6.6237524e-05,\n",
      " 'i': 58,\n",
      " 'lamss': -1.9629546,\n",
      " 'max(B_lamss)': '-1.941467',\n",
      " 'min(B_lamss)': '-1.979644',\n",
      " 'n_impossible': 0,\n",
      " 'runtime_convergence_check': '0.005938',\n",
      " 'runtime_get_work': '0.002627',\n",
      " 'runtime_new_packet': '0.000001',\n",
      " 'spread_tie': '0.001968',\n",
      " 'std_tie': '0.000587',\n",
      " 'tie + slack': '0.025092',\n",
      " 'tie_{k}(lamss)': '0.024925'}\n",
      "{'bias_tie': '0.000101',\n",
      " 'converged': '0.000000',\n",
      " 'desc': 'new_packet',\n",
      " 'grid_cost': 6.6237524e-05,\n",
      " 'i': 59,\n",
      " 'lamss': -1.9629546,\n",
      " 'max(B_lamss)': '-1.941467',\n",
      " 'min(B_lamss)': '-1.979644',\n",
      " 'n_impossible': 0,\n",
      " 'runtime_convergence_check': '0.006127',\n",
      " 'runtime_get_work': '0.002491',\n",
      " 'runtime_new_packet': '0.000001',\n",
      " 'spread_tie': '0.001968',\n",
      " 'std_tie': '0.000587',\n",
      " 'tie + slack': '0.025092',\n",
      " 'tie_{k}(lamss)': '0.024925'}\n",
      "{'bias_tie': '0.000101',\n",
      " 'converged': '0.000000',\n",
      " 'desc': 'new_packet',\n",
      " 'grid_cost': 6.6237524e-05,\n",
      " 'i': 60,\n",
      " 'lamss': -1.9629546,\n",
      " 'max(B_lamss)': '-1.941467',\n",
      " 'min(B_lamss)': '-1.979644',\n",
      " 'n_impossible': 0,\n",
      " 'runtime_convergence_check': '0.006012',\n",
      " 'runtime_get_work': '0.002248',\n",
      " 'runtime_new_packet': '0.000001',\n",
      " 'spread_tie': '0.001968',\n",
      " 'std_tie': '0.000587',\n",
      " 'tie + slack': '0.025092',\n",
      " 'tie_{k}(lamss)': '0.024925'}\n",
      "{'bias_tie': '0.000101',\n",
      " 'converged': '0.000000',\n",
      " 'desc': 'new_packet',\n",
      " 'grid_cost': 6.6237524e-05,\n",
      " 'i': 61,\n",
      " 'lamss': -1.9629546,\n",
      " 'max(B_lamss)': '-1.941467',\n",
      " 'min(B_lamss)': '-1.979644',\n",
      " 'n_impossible': 0,\n",
      " 'runtime_convergence_check': '0.005731',\n",
      " 'runtime_get_work': '0.002305',\n",
      " 'runtime_new_packet': '0.000001',\n",
      " 'spread_tie': '0.001968',\n",
      " 'std_tie': '0.000587',\n",
      " 'tie + slack': '0.025092',\n",
      " 'tie_{k}(lamss)': '0.024925'}\n",
      "{'bias_tie': '0.000101',\n",
      " 'converged': '0.000000',\n",
      " 'desc': 'new_packet',\n",
      " 'grid_cost': 6.6237524e-05,\n",
      " 'i': 62,\n",
      " 'lamss': -1.9629546,\n",
      " 'max(B_lamss)': '-1.941467',\n",
      " 'min(B_lamss)': '-1.979644',\n",
      " 'n_impossible': 0,\n",
      " 'runtime_convergence_check': '0.005544',\n",
      " 'runtime_get_work': '0.002588',\n",
      " 'runtime_new_packet': '0.000002',\n",
      " 'spread_tie': '0.001968',\n",
      " 'std_tie': '0.000587',\n",
      " 'tie + slack': '0.025092',\n",
      " 'tie_{k}(lamss)': '0.024925'}\n",
      "{'bias_tie': '0.000101',\n",
      " 'converged': '0.000000',\n",
      " 'desc': 'new_packet',\n",
      " 'grid_cost': 6.6237524e-05,\n",
      " 'i': 63,\n",
      " 'lamss': -1.9629546,\n",
      " 'max(B_lamss)': '-1.941467',\n",
      " 'min(B_lamss)': '-1.979644',\n",
      " 'n_impossible': 0,\n",
      " 'runtime_convergence_check': '0.006081',\n",
      " 'runtime_get_work': '0.002361',\n",
      " 'runtime_new_packet': '0.000001',\n",
      " 'spread_tie': '0.001968',\n",
      " 'std_tie': '0.000587',\n",
      " 'tie + slack': '0.025092',\n",
      " 'tie_{k}(lamss)': '0.024925'}\n",
      "{'bias_tie': '0.000101',\n",
      " 'converged': '0.000000',\n",
      " 'desc': 'new_packet',\n",
      " 'grid_cost': 6.6237524e-05,\n",
      " 'i': 64,\n",
      " 'lamss': -1.9629546,\n",
      " 'max(B_lamss)': '-1.941467',\n",
      " 'min(B_lamss)': '-1.979644',\n",
      " 'n_impossible': 0,\n",
      " 'runtime_convergence_check': '0.005374',\n",
      " 'runtime_get_work': '0.002320',\n",
      " 'runtime_new_packet': '0.000001',\n",
      " 'spread_tie': '0.001968',\n",
      " 'std_tie': '0.000587',\n",
      " 'tie + slack': '0.025092',\n",
      " 'tie_{k}(lamss)': '0.024925'}\n",
      "{'bias_tie': '0.000101',\n",
      " 'converged': '0.000000',\n",
      " 'desc': 'new_packet',\n",
      " 'grid_cost': 6.6237524e-05,\n",
      " 'i': 65,\n",
      " 'lamss': -1.9629546,\n",
      " 'max(B_lamss)': '-1.941467',\n",
      " 'min(B_lamss)': '-1.979644',\n",
      " 'n_impossible': 0,\n",
      " 'runtime_convergence_check': '0.005410',\n",
      " 'runtime_get_work': '0.002227',\n",
      " 'runtime_new_packet': '0.000000',\n",
      " 'spread_tie': '0.001968',\n",
      " 'std_tie': '0.000587',\n",
      " 'tie + slack': '0.025092',\n",
      " 'tie_{k}(lamss)': '0.024925'}\n",
      "{'bias_tie': '0.000101',\n",
      " 'converged': '0.000000',\n",
      " 'desc': 'new_packet',\n",
      " 'grid_cost': 6.6237524e-05,\n",
      " 'i': 66,\n",
      " 'lamss': -1.9629546,\n",
      " 'max(B_lamss)': '-1.941467',\n",
      " 'min(B_lamss)': '-1.979644',\n",
      " 'n_impossible': 0,\n",
      " 'runtime_convergence_check': '0.005546',\n",
      " 'runtime_get_work': '0.002161',\n",
      " 'runtime_new_packet': '0.000002',\n",
      " 'spread_tie': '0.001968',\n",
      " 'std_tie': '0.000587',\n",
      " 'tie + slack': '0.025092',\n",
      " 'tie_{k}(lamss)': '0.024925'}\n",
      "{'bias_tie': '0.000101',\n",
      " 'converged': '0.000000',\n",
      " 'desc': 'new_packet',\n",
      " 'grid_cost': 6.6237524e-05,\n",
      " 'i': 67,\n",
      " 'lamss': -1.9629546,\n",
      " 'max(B_lamss)': '-1.941467',\n",
      " 'min(B_lamss)': '-1.979644',\n",
      " 'n_impossible': 0,\n",
      " 'runtime_convergence_check': '0.005949',\n",
      " 'runtime_get_work': '0.002121',\n",
      " 'runtime_new_packet': '0.000001',\n",
      " 'spread_tie': '0.001968',\n",
      " 'std_tie': '0.000587',\n",
      " 'tie + slack': '0.025092',\n",
      " 'tie_{k}(lamss)': '0.024925'}\n",
      "{'bias_tie': '0.000101',\n",
      " 'converged': '0.000000',\n",
      " 'desc': 'new_packet',\n",
      " 'grid_cost': 6.6237524e-05,\n",
      " 'i': 68,\n",
      " 'lamss': -1.9629546,\n",
      " 'max(B_lamss)': '-1.941467',\n",
      " 'min(B_lamss)': '-1.979644',\n",
      " 'n_impossible': 0,\n",
      " 'runtime_convergence_check': '0.005108',\n",
      " 'runtime_get_work': '0.002161',\n",
      " 'runtime_new_packet': '0.000001',\n",
      " 'spread_tie': '0.001968',\n",
      " 'std_tie': '0.000587',\n",
      " 'tie + slack': '0.025092',\n",
      " 'tie_{k}(lamss)': '0.024925'}\n",
      "{'bias_tie': '0.000101',\n",
      " 'converged': '0.000000',\n",
      " 'desc': 'new_packet',\n",
      " 'grid_cost': 6.6237524e-05,\n",
      " 'i': 69,\n",
      " 'lamss': -1.9629546,\n",
      " 'max(B_lamss)': '-1.941467',\n",
      " 'min(B_lamss)': '-1.979644',\n",
      " 'n_impossible': 0,\n",
      " 'runtime_convergence_check': '0.005396',\n",
      " 'runtime_get_work': '0.002259',\n",
      " 'runtime_new_packet': '0.000001',\n",
      " 'spread_tie': '0.001968',\n",
      " 'std_tie': '0.000587',\n",
      " 'tie + slack': '0.025092',\n",
      " 'tie_{k}(lamss)': '0.024925'}\n",
      "{'bias_tie': '0.000101',\n",
      " 'converged': '0.000000',\n",
      " 'desc': 'new_packet',\n",
      " 'grid_cost': 6.6237524e-05,\n",
      " 'i': 70,\n",
      " 'lamss': -1.9629546,\n",
      " 'max(B_lamss)': '-1.941467',\n",
      " 'min(B_lamss)': '-1.979644',\n",
      " 'n_impossible': 0,\n",
      " 'runtime_convergence_check': '0.005246',\n",
      " 'runtime_get_work': '0.002169',\n",
      " 'runtime_new_packet': '0.000000',\n",
      " 'spread_tie': '0.001968',\n",
      " 'std_tie': '0.000587',\n",
      " 'tie + slack': '0.025092',\n",
      " 'tie_{k}(lamss)': '0.024925'}\n",
      "{'bias_tie': '0.000101',\n",
      " 'converged': '0.000000',\n",
      " 'desc': 'new_packet',\n",
      " 'grid_cost': 6.6237524e-05,\n",
      " 'i': 71,\n",
      " 'lamss': -1.9629546,\n",
      " 'max(B_lamss)': '-1.941467',\n",
      " 'min(B_lamss)': '-1.979644',\n",
      " 'n_impossible': 0,\n",
      " 'runtime_convergence_check': '0.005354',\n",
      " 'runtime_get_work': '0.002018',\n",
      " 'runtime_new_packet': '0.000001',\n",
      " 'spread_tie': '0.001968',\n",
      " 'std_tie': '0.000587',\n",
      " 'tie + slack': '0.025092',\n",
      " 'tie_{k}(lamss)': '0.024925'}\n",
      "{'bias_tie': '0.000101',\n",
      " 'converged': '0.000000',\n",
      " 'desc': 'new_packet',\n",
      " 'grid_cost': 6.6237524e-05,\n",
      " 'i': 72,\n",
      " 'lamss': -1.9629546,\n",
      " 'max(B_lamss)': '-1.941467',\n",
      " 'min(B_lamss)': '-1.979644',\n",
      " 'n_impossible': 0,\n",
      " 'runtime_convergence_check': '0.005275',\n",
      " 'runtime_get_work': '0.002063',\n",
      " 'runtime_new_packet': '0.000001',\n",
      " 'spread_tie': '0.001968',\n",
      " 'std_tie': '0.000587',\n",
      " 'tie + slack': '0.025092',\n",
      " 'tie_{k}(lamss)': '0.024925'}\n",
      "{'bias_tie': '0.000101',\n",
      " 'converged': '0.000000',\n",
      " 'desc': 'new_packet',\n",
      " 'grid_cost': 6.6237524e-05,\n",
      " 'i': 73,\n",
      " 'lamss': -1.9629546,\n",
      " 'max(B_lamss)': '-1.941467',\n",
      " 'min(B_lamss)': '-1.979644',\n",
      " 'n_impossible': 0,\n",
      " 'runtime_convergence_check': '0.005798',\n",
      " 'runtime_get_work': '0.002343',\n",
      " 'runtime_new_packet': '0.000001',\n",
      " 'spread_tie': '0.001968',\n",
      " 'std_tie': '0.000587',\n",
      " 'tie + slack': '0.025092',\n",
      " 'tie_{k}(lamss)': '0.024925'}\n",
      "{'bias_tie': '0.000101',\n",
      " 'converged': '0.000000',\n",
      " 'desc': 'new_packet',\n",
      " 'grid_cost': 6.6237524e-05,\n",
      " 'i': 74,\n",
      " 'lamss': -1.9629546,\n",
      " 'max(B_lamss)': '-1.941467',\n",
      " 'min(B_lamss)': '-1.979644',\n",
      " 'n_impossible': 0,\n",
      " 'runtime_convergence_check': '0.006309',\n",
      " 'runtime_get_work': '0.002919',\n",
      " 'runtime_new_packet': '0.000001',\n",
      " 'spread_tie': '0.001968',\n",
      " 'std_tie': '0.000587',\n",
      " 'tie + slack': '0.025092',\n",
      " 'tie_{k}(lamss)': '0.024925'}\n",
      "{'bias_tie': '0.000101',\n",
      " 'converged': '0.000000',\n",
      " 'desc': 'new_packet',\n",
      " 'grid_cost': 6.6237524e-05,\n",
      " 'i': 75,\n",
      " 'lamss': -1.9629546,\n",
      " 'max(B_lamss)': '-1.941467',\n",
      " 'min(B_lamss)': '-1.979644',\n",
      " 'n_impossible': 0,\n",
      " 'runtime_convergence_check': '0.005413',\n",
      " 'runtime_get_work': '0.002190',\n",
      " 'runtime_new_packet': '0.000001',\n",
      " 'spread_tie': '0.001968',\n",
      " 'std_tie': '0.000587',\n",
      " 'tie + slack': '0.025092',\n",
      " 'tie_{k}(lamss)': '0.024925'}\n",
      "{'bias_tie': '0.000101',\n",
      " 'converged': '0.000000',\n",
      " 'desc': 'new_packet',\n",
      " 'grid_cost': 6.6237524e-05,\n",
      " 'i': 76,\n",
      " 'lamss': -1.9629546,\n",
      " 'max(B_lamss)': '-1.941467',\n",
      " 'min(B_lamss)': '-1.979644',\n",
      " 'n_impossible': 0,\n",
      " 'runtime_convergence_check': '0.005317',\n",
      " 'runtime_get_work': '0.002140',\n",
      " 'runtime_new_packet': '0.000002',\n",
      " 'spread_tie': '0.001968',\n",
      " 'std_tie': '0.000587',\n",
      " 'tie + slack': '0.025092',\n",
      " 'tie_{k}(lamss)': '0.024925'}\n",
      "{'bias_tie': '0.000101',\n",
      " 'converged': '0.000000',\n",
      " 'desc': 'new_packet',\n",
      " 'grid_cost': 6.6237524e-05,\n",
      " 'i': 77,\n",
      " 'lamss': -1.9629546,\n",
      " 'max(B_lamss)': '-1.941467',\n",
      " 'min(B_lamss)': '-1.979644',\n",
      " 'n_impossible': 0,\n",
      " 'runtime_convergence_check': '0.005620',\n",
      " 'runtime_get_work': '0.002225',\n",
      " 'runtime_new_packet': '0.000001',\n",
      " 'spread_tie': '0.001968',\n",
      " 'std_tie': '0.000587',\n",
      " 'tie + slack': '0.025092',\n",
      " 'tie_{k}(lamss)': '0.024925'}\n",
      "{'bias_tie': '0.000101',\n",
      " 'converged': '0.000000',\n",
      " 'desc': 'new_packet',\n",
      " 'grid_cost': 6.6237524e-05,\n",
      " 'i': 78,\n",
      " 'lamss': -1.9629546,\n",
      " 'max(B_lamss)': '-1.941467',\n",
      " 'min(B_lamss)': '-1.979644',\n",
      " 'n_impossible': 0,\n",
      " 'runtime_convergence_check': '0.005921',\n",
      " 'runtime_get_work': '0.002170',\n",
      " 'runtime_new_packet': '0.000002',\n",
      " 'spread_tie': '0.001968',\n",
      " 'std_tie': '0.000587',\n",
      " 'tie + slack': '0.025092',\n",
      " 'tie_{k}(lamss)': '0.024925'}\n",
      "{'bias_tie': '0.000101',\n",
      " 'converged': '0.000000',\n",
      " 'desc': 'new_packet',\n",
      " 'grid_cost': 6.6237524e-05,\n",
      " 'i': 79,\n",
      " 'lamss': -1.9629546,\n",
      " 'max(B_lamss)': '-1.941467',\n",
      " 'min(B_lamss)': '-1.979644',\n",
      " 'n_impossible': 0,\n",
      " 'runtime_convergence_check': '0.005667',\n",
      " 'runtime_get_work': '0.002295',\n",
      " 'runtime_new_packet': '0.000001',\n",
      " 'spread_tie': '0.001968',\n",
      " 'std_tie': '0.000587',\n",
      " 'tie + slack': '0.025092',\n",
      " 'tie_{k}(lamss)': '0.024925'}\n",
      "{'bias_tie': '0.000101',\n",
      " 'converged': '0.000000',\n",
      " 'desc': 'new_packet',\n",
      " 'grid_cost': 6.6237524e-05,\n",
      " 'i': 80,\n",
      " 'lamss': -1.9629546,\n",
      " 'max(B_lamss)': '-1.941467',\n",
      " 'min(B_lamss)': '-1.979644',\n",
      " 'n_impossible': 0,\n",
      " 'runtime_convergence_check': '0.005829',\n",
      " 'runtime_get_work': '0.002230',\n",
      " 'runtime_new_packet': '0.000002',\n",
      " 'spread_tie': '0.001968',\n",
      " 'std_tie': '0.000587',\n",
      " 'tie + slack': '0.025092',\n",
      " 'tie_{k}(lamss)': '0.024925'}\n",
      "{'bias_tie': '0.000101',\n",
      " 'converged': '0.000000',\n",
      " 'desc': 'new_packet',\n",
      " 'grid_cost': 6.6237524e-05,\n",
      " 'i': 81,\n",
      " 'lamss': -1.9629546,\n",
      " 'max(B_lamss)': '-1.941467',\n",
      " 'min(B_lamss)': '-1.979644',\n",
      " 'n_impossible': 0,\n",
      " 'runtime_convergence_check': '0.005905',\n",
      " 'runtime_get_work': '0.002162',\n",
      " 'runtime_new_packet': '0.000002',\n",
      " 'spread_tie': '0.001968',\n",
      " 'std_tie': '0.000587',\n",
      " 'tie + slack': '0.025092',\n",
      " 'tie_{k}(lamss)': '0.024925'}\n",
      "{'bias_tie': '0.000101',\n",
      " 'converged': '0.000000',\n",
      " 'desc': 'new_packet',\n",
      " 'grid_cost': 6.6237524e-05,\n",
      " 'i': 82,\n",
      " 'lamss': -1.9629546,\n",
      " 'max(B_lamss)': '-1.941467',\n",
      " 'min(B_lamss)': '-1.979644',\n",
      " 'n_impossible': 0,\n",
      " 'runtime_convergence_check': '0.006331',\n",
      " 'runtime_get_work': '0.002523',\n",
      " 'runtime_new_packet': '0.000002',\n",
      " 'spread_tie': '0.001968',\n",
      " 'std_tie': '0.000587',\n",
      " 'tie + slack': '0.025092',\n",
      " 'tie_{k}(lamss)': '0.024925'}\n",
      "{'bias_tie': '0.000101',\n",
      " 'converged': '0.000000',\n",
      " 'desc': 'new_packet',\n",
      " 'grid_cost': 6.6237524e-05,\n",
      " 'i': 83,\n",
      " 'lamss': -1.9629546,\n",
      " 'max(B_lamss)': '-1.941467',\n",
      " 'min(B_lamss)': '-1.979644',\n",
      " 'n_impossible': 0,\n",
      " 'runtime_convergence_check': '0.005926',\n",
      " 'runtime_get_work': '0.002617',\n",
      " 'runtime_new_packet': '0.000001',\n",
      " 'spread_tie': '0.001968',\n",
      " 'std_tie': '0.000587',\n",
      " 'tie + slack': '0.025092',\n",
      " 'tie_{k}(lamss)': '0.024925'}\n",
      "{'bias_tie': '0.000101',\n",
      " 'converged': '0.000000',\n",
      " 'desc': 'new_packet',\n",
      " 'grid_cost': 6.6237524e-05,\n",
      " 'i': 84,\n",
      " 'lamss': -1.9629546,\n",
      " 'max(B_lamss)': '-1.941467',\n",
      " 'min(B_lamss)': '-1.979644',\n",
      " 'n_impossible': 0,\n",
      " 'runtime_convergence_check': '0.006212',\n",
      " 'runtime_get_work': '0.002284',\n",
      " 'runtime_new_packet': '0.000002',\n",
      " 'spread_tie': '0.001968',\n",
      " 'std_tie': '0.000587',\n",
      " 'tie + slack': '0.025092',\n",
      " 'tie_{k}(lamss)': '0.024925'}\n",
      "{'bias_tie': '0.000101',\n",
      " 'converged': '0.000000',\n",
      " 'desc': 'new_packet',\n",
      " 'grid_cost': 6.6237524e-05,\n",
      " 'i': 85,\n",
      " 'lamss': -1.9629546,\n",
      " 'max(B_lamss)': '-1.941467',\n",
      " 'min(B_lamss)': '-1.979644',\n",
      " 'n_impossible': 0,\n",
      " 'runtime_convergence_check': '0.006170',\n",
      " 'runtime_get_work': '0.002609',\n",
      " 'runtime_new_packet': '0.000001',\n",
      " 'spread_tie': '0.001968',\n",
      " 'std_tie': '0.000587',\n",
      " 'tie + slack': '0.025092',\n",
      " 'tie_{k}(lamss)': '0.024925'}\n",
      "{'bias_tie': '0.000101',\n",
      " 'converged': '0.000000',\n",
      " 'desc': 'new_packet',\n",
      " 'grid_cost': 6.6237524e-05,\n",
      " 'i': 86,\n",
      " 'lamss': -1.9629546,\n",
      " 'max(B_lamss)': '-1.941467',\n",
      " 'min(B_lamss)': '-1.979644',\n",
      " 'n_impossible': 0,\n",
      " 'runtime_convergence_check': '0.005761',\n",
      " 'runtime_get_work': '0.002598',\n",
      " 'runtime_new_packet': '0.000002',\n",
      " 'spread_tie': '0.001968',\n",
      " 'std_tie': '0.000587',\n",
      " 'tie + slack': '0.025092',\n",
      " 'tie_{k}(lamss)': '0.024925'}\n",
      "{'bias_tie': '0.000101',\n",
      " 'converged': '0.000000',\n",
      " 'desc': 'new_packet',\n",
      " 'grid_cost': 6.6237524e-05,\n",
      " 'i': 87,\n",
      " 'lamss': -1.9629546,\n",
      " 'max(B_lamss)': '-1.941467',\n",
      " 'min(B_lamss)': '-1.979644',\n",
      " 'n_impossible': 0,\n",
      " 'runtime_convergence_check': '0.005478',\n",
      " 'runtime_get_work': '0.002582',\n",
      " 'runtime_new_packet': '0.000001',\n",
      " 'spread_tie': '0.001968',\n",
      " 'std_tie': '0.000587',\n",
      " 'tie + slack': '0.025092',\n",
      " 'tie_{k}(lamss)': '0.024925'}\n",
      "{'bias_tie': '0.000101',\n",
      " 'converged': '0.000000',\n",
      " 'desc': 'new_packet',\n",
      " 'grid_cost': 6.6237524e-05,\n",
      " 'i': 88,\n",
      " 'lamss': -1.9629546,\n",
      " 'max(B_lamss)': '-1.941467',\n",
      " 'min(B_lamss)': '-1.979644',\n",
      " 'n_impossible': 0,\n",
      " 'runtime_convergence_check': '0.005228',\n",
      " 'runtime_get_work': '0.002292',\n",
      " 'runtime_new_packet': '0.000001',\n",
      " 'spread_tie': '0.001968',\n",
      " 'std_tie': '0.000587',\n",
      " 'tie + slack': '0.025092',\n",
      " 'tie_{k}(lamss)': '0.024925'}\n",
      "{'bias_tie': '0.000101',\n",
      " 'converged': '0.000000',\n",
      " 'desc': 'new_packet',\n",
      " 'grid_cost': 6.6237524e-05,\n",
      " 'i': 89,\n",
      " 'lamss': -1.9629546,\n",
      " 'max(B_lamss)': '-1.941467',\n",
      " 'min(B_lamss)': '-1.979644',\n",
      " 'n_impossible': 0,\n",
      " 'runtime_convergence_check': '0.005750',\n",
      " 'runtime_get_work': '0.002299',\n",
      " 'runtime_new_packet': '0.000001',\n",
      " 'spread_tie': '0.001968',\n",
      " 'std_tie': '0.000587',\n",
      " 'tie + slack': '0.025092',\n",
      " 'tie_{k}(lamss)': '0.024925'}\n",
      "{'bias_tie': '0.000101',\n",
      " 'converged': '0.000000',\n",
      " 'desc': 'new_packet',\n",
      " 'grid_cost': 6.6237524e-05,\n",
      " 'i': 90,\n",
      " 'lamss': -1.9629546,\n",
      " 'max(B_lamss)': '-1.941467',\n",
      " 'min(B_lamss)': '-1.979644',\n",
      " 'n_impossible': 0,\n",
      " 'runtime_convergence_check': '0.005739',\n",
      " 'runtime_get_work': '0.002130',\n",
      " 'runtime_new_packet': '0.000001',\n",
      " 'spread_tie': '0.001968',\n",
      " 'std_tie': '0.000587',\n",
      " 'tie + slack': '0.025092',\n",
      " 'tie_{k}(lamss)': '0.024925'}\n",
      "{'bias_tie': '0.000101',\n",
      " 'converged': '0.000000',\n",
      " 'desc': 'new_packet',\n",
      " 'grid_cost': 6.6237524e-05,\n",
      " 'i': 91,\n",
      " 'lamss': -1.9629546,\n",
      " 'max(B_lamss)': '-1.941467',\n",
      " 'min(B_lamss)': '-1.979644',\n",
      " 'n_impossible': 0,\n",
      " 'runtime_convergence_check': '0.005606',\n",
      " 'runtime_get_work': '0.002203',\n",
      " 'runtime_new_packet': '0.000001',\n",
      " 'spread_tie': '0.001968',\n",
      " 'std_tie': '0.000587',\n",
      " 'tie + slack': '0.025092',\n",
      " 'tie_{k}(lamss)': '0.024925'}\n",
      "{'bias_tie': '0.000101',\n",
      " 'converged': '0.000000',\n",
      " 'desc': 'new_packet',\n",
      " 'grid_cost': 6.6237524e-05,\n",
      " 'i': 92,\n",
      " 'lamss': -1.9629546,\n",
      " 'max(B_lamss)': '-1.941467',\n",
      " 'min(B_lamss)': '-1.979644',\n",
      " 'n_impossible': 0,\n",
      " 'runtime_convergence_check': '0.005328',\n",
      " 'runtime_get_work': '0.002063',\n",
      " 'runtime_new_packet': '0.000001',\n",
      " 'spread_tie': '0.001968',\n",
      " 'std_tie': '0.000587',\n",
      " 'tie + slack': '0.025092',\n",
      " 'tie_{k}(lamss)': '0.024925'}\n",
      "{'bias_tie': '0.000101',\n",
      " 'converged': '0.000000',\n",
      " 'desc': 'new_packet',\n",
      " 'grid_cost': 6.6237524e-05,\n",
      " 'i': 93,\n",
      " 'lamss': -1.9629546,\n",
      " 'max(B_lamss)': '-1.941467',\n",
      " 'min(B_lamss)': '-1.979644',\n",
      " 'n_impossible': 0,\n",
      " 'runtime_convergence_check': '0.005638',\n",
      " 'runtime_get_work': '0.002041',\n",
      " 'runtime_new_packet': '0.000002',\n",
      " 'spread_tie': '0.001968',\n",
      " 'std_tie': '0.000587',\n",
      " 'tie + slack': '0.025092',\n",
      " 'tie_{k}(lamss)': '0.024925'}\n",
      "{'bias_tie': '0.000101',\n",
      " 'converged': '0.000000',\n",
      " 'desc': 'new_packet',\n",
      " 'grid_cost': 6.6237524e-05,\n",
      " 'i': 94,\n",
      " 'lamss': -1.9629546,\n",
      " 'max(B_lamss)': '-1.941467',\n",
      " 'min(B_lamss)': '-1.979644',\n",
      " 'n_impossible': 0,\n",
      " 'runtime_convergence_check': '0.007195',\n",
      " 'runtime_get_work': '0.002770',\n",
      " 'runtime_new_packet': '0.000002',\n",
      " 'spread_tie': '0.001968',\n",
      " 'std_tie': '0.000587',\n",
      " 'tie + slack': '0.025092',\n",
      " 'tie_{k}(lamss)': '0.024925'}\n",
      "{'bias_tie': '0.000101',\n",
      " 'converged': '0.000000',\n",
      " 'desc': 'new_packet',\n",
      " 'grid_cost': 6.6237524e-05,\n",
      " 'i': 95,\n",
      " 'lamss': -1.9629546,\n",
      " 'max(B_lamss)': '-1.941467',\n",
      " 'min(B_lamss)': '-1.979644',\n",
      " 'n_impossible': 0,\n",
      " 'runtime_convergence_check': '0.006054',\n",
      " 'runtime_get_work': '0.002924',\n",
      " 'runtime_new_packet': '0.000001',\n",
      " 'spread_tie': '0.001968',\n",
      " 'std_tie': '0.000587',\n",
      " 'tie + slack': '0.025092',\n",
      " 'tie_{k}(lamss)': '0.024925'}\n",
      "{'bias_tie': '0.000101',\n",
      " 'converged': '0.000000',\n",
      " 'desc': 'new_packet',\n",
      " 'grid_cost': 6.6237524e-05,\n",
      " 'i': 96,\n",
      " 'lamss': -1.9629546,\n",
      " 'max(B_lamss)': '-1.941467',\n",
      " 'min(B_lamss)': '-1.979644',\n",
      " 'n_impossible': 0,\n",
      " 'runtime_convergence_check': '0.005558',\n",
      " 'runtime_get_work': '0.002249',\n",
      " 'runtime_new_packet': '0.000001',\n",
      " 'spread_tie': '0.001968',\n",
      " 'std_tie': '0.000587',\n",
      " 'tie + slack': '0.025092',\n",
      " 'tie_{k}(lamss)': '0.024925'}\n",
      "{'bias_tie': '0.000101',\n",
      " 'converged': '0.000000',\n",
      " 'desc': 'new_packet',\n",
      " 'grid_cost': 6.6237524e-05,\n",
      " 'i': 97,\n",
      " 'lamss': -1.9629546,\n",
      " 'max(B_lamss)': '-1.941467',\n",
      " 'min(B_lamss)': '-1.979644',\n",
      " 'n_impossible': 0,\n",
      " 'runtime_convergence_check': '0.005436',\n",
      " 'runtime_get_work': '0.002489',\n",
      " 'runtime_new_packet': '0.000001',\n",
      " 'spread_tie': '0.001968',\n",
      " 'std_tie': '0.000587',\n",
      " 'tie + slack': '0.025092',\n",
      " 'tie_{k}(lamss)': '0.024925'}\n",
      "{'bias_tie': '0.000101',\n",
      " 'converged': '0.000000',\n",
      " 'desc': 'new_packet',\n",
      " 'grid_cost': 6.6237524e-05,\n",
      " 'i': 98,\n",
      " 'lamss': -1.9629546,\n",
      " 'max(B_lamss)': '-1.941467',\n",
      " 'min(B_lamss)': '-1.979644',\n",
      " 'n_impossible': 0,\n",
      " 'runtime_convergence_check': '0.005910',\n",
      " 'runtime_get_work': '0.002493',\n",
      " 'runtime_new_packet': '0.000001',\n",
      " 'spread_tie': '0.001968',\n",
      " 'std_tie': '0.000587',\n",
      " 'tie + slack': '0.025092',\n",
      " 'tie_{k}(lamss)': '0.024925'}\n",
      "{'bias_tie': '0.000101',\n",
      " 'converged': '0.000000',\n",
      " 'desc': 'new_packet',\n",
      " 'grid_cost': 6.6237524e-05,\n",
      " 'i': 99,\n",
      " 'lamss': -1.9629546,\n",
      " 'max(B_lamss)': '-1.941467',\n",
      " 'min(B_lamss)': '-1.979644',\n",
      " 'n_impossible': 0,\n",
      " 'runtime_convergence_check': '0.005826',\n",
      " 'runtime_get_work': '0.002635',\n",
      " 'runtime_new_packet': '0.000001',\n",
      " 'spread_tie': '0.001968',\n",
      " 'std_tie': '0.000587',\n",
      " 'tie + slack': '0.025092',\n",
      " 'tie_{k}(lamss)': '0.024925'}\n"
     ]
    }
   ],
   "source": [
    "g = ip.cartesian_grid(theta_min=[-1], theta_max=[1], null_hypos=[ip.hypo(\"x0 < 0\")])\n",
    "iter, reports, db = ada.ada_calibrate(\n",
    "    ZTest1D,\n",
    "    g=g,\n",
    "    nB=5,\n",
    "    tile_batch_size=1,\n",
    "    packet_size=32,\n",
    "    iter_size=32,\n",
    "    grid_target=0.0001,\n",
    "    bias_target=0.0001,\n",
    ")"
   ]
  },
  {
   "cell_type": "code",
   "execution_count": null,
   "metadata": {},
   "outputs": [],
   "source": [
    "db = ch.Clickhouse.connect(job_id=\"distributed\")\n",
    "iter, reports, db = ada.ada_calibrate(\n",
    "    ZTest1D,\n",
    "    g=g,\n",
    "    nB=5,\n",
    "    packet_size=32,\n",
    "    iter_size=8,\n",
    "    grid_target=0.0001,\n",
    "    bias_target=0.0001,\n",
    ")"
   ]
  },
  {
   "cell_type": "code",
   "execution_count": null,
   "metadata": {},
   "outputs": [],
   "source": [
    "tiles = db.get_all()"
   ]
  },
  {
   "cell_type": "code",
   "execution_count": 4,
   "metadata": {},
   "outputs": [
    {
     "name": "stderr",
     "output_type": "stream",
     "text": [
      "ERROR:clickhouse_connect.driver.httpclient:Code: 81. DB::Exception: Database distributed doesn't exist. (UNKNOWN_DATABASE) (version 22.12.1.21301 (official build))\n",
      "\n"
     ]
    },
    {
     "name": "stdout",
     "output_type": "stream",
     "text": [
      "Dropping the following databases:\n",
      "['distributed']\n",
      "drop database distributed\n"
     ]
    },
    {
     "ename": "DatabaseError",
     "evalue": ":HTTPDriver for https://t2n4z83v82.us-east-1.aws.clickhouse.cloud:8443 returned response code 404)\n Code: 81. DB::Exception: Database distributed doesn't exist. (UNKNOWN_DATABASE) (version 22.12.1.21301 (official build))\n",
     "output_type": "error",
     "traceback": [
      "\u001b[0;31m---------------------------------------------------------------------------\u001b[0m",
      "\u001b[0;31mDatabaseError\u001b[0m                             Traceback (most recent call last)",
      "Cell \u001b[0;32mIn[4], line 1\u001b[0m\n\u001b[0;32m----> 1\u001b[0m ch\u001b[39m.\u001b[39;49mclear_dbs(db1\u001b[39m.\u001b[39;49mclient, names\u001b[39m=\u001b[39;49m[\u001b[39m'\u001b[39;49m\u001b[39mdistributed\u001b[39;49m\u001b[39m'\u001b[39;49m], yes\u001b[39m=\u001b[39;49m\u001b[39mTrue\u001b[39;49;00m)\n",
      "File \u001b[0;32m~/confirm/confirmasaurus/confirm/cloud/clickhouse.py:548\u001b[0m, in \u001b[0;36mclear_dbs\u001b[0;34m(client, names, yes)\u001b[0m\n\u001b[1;32m    546\u001b[0m cmd \u001b[39m=\u001b[39m \u001b[39mf\u001b[39m\u001b[39m\"\u001b[39m\u001b[39mdrop database \u001b[39m\u001b[39m{\u001b[39;00mdb\u001b[39m}\u001b[39;00m\u001b[39m\"\u001b[39m\n\u001b[1;32m    547\u001b[0m \u001b[39mprint\u001b[39m(cmd)\n\u001b[0;32m--> 548\u001b[0m client\u001b[39m.\u001b[39;49mcommand(cmd)\n",
      "File \u001b[0;32m~/.mambaforge/envs/confirm/lib/python3.10/site-packages/clickhouse_connect/driver/httpclient.py:277\u001b[0m, in \u001b[0;36mHttpClient.command\u001b[0;34m(self, cmd, parameters, data, settings, use_database)\u001b[0m\n\u001b[1;32m    275\u001b[0m params\u001b[39m.\u001b[39mupdate(\u001b[39mself\u001b[39m\u001b[39m.\u001b[39m_validate_settings(settings \u001b[39mor\u001b[39;00m {}))\n\u001b[1;32m    276\u001b[0m method \u001b[39m=\u001b[39m \u001b[39m'\u001b[39m\u001b[39mPOST\u001b[39m\u001b[39m'\u001b[39m \u001b[39mif\u001b[39;00m payload \u001b[39melse\u001b[39;00m \u001b[39m'\u001b[39m\u001b[39mGET\u001b[39m\u001b[39m'\u001b[39m\n\u001b[0;32m--> 277\u001b[0m response \u001b[39m=\u001b[39m \u001b[39mself\u001b[39;49m\u001b[39m.\u001b[39;49m_raw_request(payload, params, headers, method)\n\u001b[1;32m    278\u001b[0m result \u001b[39m=\u001b[39m response\u001b[39m.\u001b[39mcontent\u001b[39m.\u001b[39mdecode()[:\u001b[39m-\u001b[39m\u001b[39m1\u001b[39m]\u001b[39m.\u001b[39msplit(\u001b[39m'\u001b[39m\u001b[39m\\t\u001b[39;00m\u001b[39m'\u001b[39m)\n\u001b[1;32m    279\u001b[0m \u001b[39mif\u001b[39;00m \u001b[39mlen\u001b[39m(result) \u001b[39m==\u001b[39m \u001b[39m1\u001b[39m:\n",
      "File \u001b[0;32m~/.mambaforge/envs/confirm/lib/python3.10/site-packages/clickhouse_connect/driver/httpclient.py:335\u001b[0m, in \u001b[0;36mHttpClient._raw_request\u001b[0;34m(self, data, params, headers, method, retries, error_handler)\u001b[0m\n\u001b[1;32m    333\u001b[0m \u001b[39mif\u001b[39;00m error_handler:\n\u001b[1;32m    334\u001b[0m     error_handler(response)\n\u001b[0;32m--> 335\u001b[0m \u001b[39mself\u001b[39;49m\u001b[39m.\u001b[39;49m_error_handler(response)\n",
      "File \u001b[0;32m~/.mambaforge/envs/confirm/lib/python3.10/site-packages/clickhouse_connect/driver/httpclient.py:292\u001b[0m, in \u001b[0;36mHttpClient._error_handler\u001b[0;34m(self, response, retried)\u001b[0m\n\u001b[1;32m    290\u001b[0m     logger\u001b[39m.\u001b[39merror(\u001b[39mstr\u001b[39m(err_msg))\n\u001b[1;32m    291\u001b[0m     err_str \u001b[39m=\u001b[39m \u001b[39mf\u001b[39m\u001b[39m'\u001b[39m\u001b[39m:\u001b[39m\u001b[39m{\u001b[39;00merr_str\u001b[39m}\u001b[39;00m\u001b[39m\\n\u001b[39;00m\u001b[39m \u001b[39m\u001b[39m{\u001b[39;00merr_msg[\u001b[39m0\u001b[39m:\u001b[39m240\u001b[39m]\u001b[39m}\u001b[39;00m\u001b[39m'\u001b[39m\n\u001b[0;32m--> 292\u001b[0m \u001b[39mraise\u001b[39;00m OperationalError(err_str) \u001b[39mif\u001b[39;00m retried \u001b[39melse\u001b[39;00m DatabaseError(err_str) \u001b[39mfrom\u001b[39;00m \u001b[39mNone\u001b[39m\n",
      "\u001b[0;31mDatabaseError\u001b[0m: :HTTPDriver for https://t2n4z83v82.us-east-1.aws.clickhouse.cloud:8443 returned response code 404)\n Code: 81. DB::Exception: Database distributed doesn't exist. (UNKNOWN_DATABASE) (version 22.12.1.21301 (official build))\n"
     ]
    }
   ],
   "source": [
    "ch.clear_dbs(db1.client, names=['distributed'], yes=True)"
   ]
  },
  {
   "cell_type": "code",
   "execution_count": 14,
   "metadata": {},
   "outputs": [
    {
     "name": "stdout",
     "output_type": "stream",
     "text": [
      "True config\n"
     ]
    }
   ],
   "source": [
    "# from confirm.adagrid.calibration import AdaCalibrationDriver, CalibrationConfig\n",
    "# import json\n",
    "# gtemp = ip.Grid(db1.get_all())\n",
    "# null_hypos = [ip.hypo(\"x0 < 0\")]\n",
    "# c= CalibrationConfig(ZTest1D, *[None] * 16, defaults=db1.store.get('config').iloc[0].to_dict())\n",
    "# model = ZTest1D(\n",
    "#     seed=c.model_seed,\n",
    "#     max_K=c.init_K * 2**c.n_K_double,\n",
    "#     **json.loads(c.model_kwargs),\n",
    "# )\n",
    "# driver = AdaCalibrationDriver(None, model, null_hypos, c)\n",
    "# driver.bootstrap_calibrate(gtemp.df, 0.025)\n",
    "# gtemp.df['K'].value_counts()"
   ]
  },
  {
   "cell_type": "code",
   "execution_count": 7,
   "metadata": {},
   "outputs": [
    {
     "name": "stdout",
     "output_type": "stream",
     "text": [
      "Connecting to t2n4z83v82.us-east-1.aws.clickhouse.cloud:8443/None as default.\n",
      "Connecting to t2n4z83v82.us-east-1.aws.clickhouse.cloud:8443/distributed as default.\n",
      "Connected to job distributed\n",
      "{'K_distribution': {8192: 2},\n",
      " 'bias_tie': '-0.000220',\n",
      " 'grid_cost': 0.019326683,\n",
      " 'i': 0,\n",
      " 'lamss': -1.9857934,\n",
      " 'max(B_lamss)': '-1.798113',\n",
      " 'min(B_lamss)': '-2.068757',\n",
      " 'n_complete': 0,\n",
      " 'n_deepen': 0,\n",
      " 'n_impossible': 0,\n",
      " 'n_processed': 2,\n",
      " 'n_refine': 1,\n",
      " 'runtime_cleanup': '0.501476',\n",
      " 'runtime_convergence_check': '0.768013',\n",
      " 'runtime_processing': '0.082312',\n",
      " 'runtime_refine_deepen': '0.226842',\n",
      " 'spread_tie': '0.004028',\n",
      " 'std_tie': '0.000810',\n",
      " 'tie + slack': '0.024600',\n",
      " 'tie_{k}(lamss)': '0.005493'}\n"
     ]
    }
   ],
   "source": [
    "g = ip.cartesian_grid(theta_min=[-1], theta_max=[1], null_hypos=[ip.hypo(\"x0 < 0\")])\n",
    "db = ch.Clickhouse.connect(job_id='distributed')\n",
    "_ = ada_calibrate(ZTest1D, db=db, g=g, n_iter=1, iter_size=8, grid_target=0.0001, bias_target=0.0001)"
   ]
  },
  {
   "cell_type": "code",
   "execution_count": 8,
   "metadata": {},
   "outputs": [
    {
     "data": {
      "application/vnd.jupyter.widget-view+json": {
       "model_id": "e8f55b54df6c48418f0cef62e95fd0bc",
       "version_major": 2,
       "version_minor": 0
      },
      "text/plain": [
       "Output()"
      ]
     },
     "metadata": {},
     "output_type": "display_data"
    },
    {
     "data": {
      "text/html": [
       "<pre style=\"white-space:pre;overflow-x:auto;line-height:normal;font-family:Menlo,'DejaVu Sans Mono',consolas,'Courier New',monospace\"></pre>\n"
      ],
      "text/plain": []
     },
     "metadata": {},
     "output_type": "display_data"
    },
    {
     "data": {
      "text/html": [
       "<pre style=\"white-space:pre;overflow-x:auto;line-height:normal;font-family:Menlo,'DejaVu Sans Mono',consolas,'Courier New',monospace\"><span style=\"color: #008000; text-decoration-color: #008000\">✓</span> Initialized. <span style=\"color: #b2b2b2; text-decoration-color: #b2b2b2\">View app at </span><span style=\"color: #b2b2b2; text-decoration-color: #b2b2b2; text-decoration: underline\">https://modal.com/apps/ap-BOOmKvdrCFf70Q0dGE2WQF</span>\n",
       "</pre>\n"
      ],
      "text/plain": [
       "\u001b[32m✓\u001b[0m Initialized. \u001b[38;5;249mView app at \u001b[0m\u001b[4;38;5;249mhttps://modal.com/apps/ap-BOOmKvdrCFf70Q0dGE2WQF\u001b[0m\n"
      ]
     },
     "metadata": {},
     "output_type": "display_data"
    },
    {
     "data": {
      "application/vnd.jupyter.widget-view+json": {
       "model_id": "1191f1aa1c6b4be4a2b0209fda573c19",
       "version_major": 2,
       "version_minor": 0
      },
      "text/plain": [
       "Output()"
      ]
     },
     "metadata": {},
     "output_type": "display_data"
    },
    {
     "data": {
      "text/html": [
       "<pre style=\"white-space:pre;overflow-x:auto;line-height:normal;font-family:Menlo,'DejaVu Sans Mono',consolas,'Courier New',monospace\"></pre>\n"
      ],
      "text/plain": []
     },
     "metadata": {},
     "output_type": "display_data"
    },
    {
     "data": {
      "text/html": [
       "<pre style=\"white-space:pre;overflow-x:auto;line-height:normal;font-family:Menlo,'DejaVu Sans Mono',consolas,'Courier New',monospace\"><span style=\"color: #008000; text-decoration-color: #008000\">✓</span> Created objects.\n",
       "<span style=\"color: #808080; text-decoration-color: #808080\">├── </span><span style=\"color: #008000; text-decoration-color: #008000\">🔨</span> Created worker.\n",
       "<span style=\"color: #808080; text-decoration-color: #808080\">├── </span><span style=\"color: #008000; text-decoration-color: #008000\">🔨</span> Mounted /Users/tbent/confirm/confirmasaurus/confirm at /pkg/confirm\n",
       "<span style=\"color: #808080; text-decoration-color: #808080\">└── </span><span style=\"color: #008000; text-decoration-color: #008000\">🔨</span> Mounted /Users/tbent/confirm/confirmasaurus/imprint/imprint at /pkg/imprint\n",
       "</pre>\n"
      ],
      "text/plain": [
       "\u001b[32m✓\u001b[0m Created objects.\n",
       "\u001b[38;5;244m├── \u001b[0m\u001b[32m🔨\u001b[0m Created worker.\n",
       "\u001b[38;5;244m├── \u001b[0m\u001b[32m🔨\u001b[0m Mounted /Users/tbent/confirm/confirmasaurus/confirm at /pkg/confirm\n",
       "\u001b[38;5;244m└── \u001b[0m\u001b[32m🔨\u001b[0m Mounted /Users/tbent/confirm/confirmasaurus/imprint/imprint at /pkg/imprint\n"
      ]
     },
     "metadata": {},
     "output_type": "display_data"
    },
    {
     "data": {
      "application/vnd.jupyter.widget-view+json": {
       "model_id": "70aa26dabe2f451d951781e47470d643",
       "version_major": 2,
       "version_minor": 0
      },
      "text/plain": [
       "Output()"
      ]
     },
     "metadata": {},
     "output_type": "display_data"
    },
    {
     "data": {
      "text/html": [
       "<pre style=\"white-space:pre;overflow-x:auto;line-height:normal;font-family:Menlo,'DejaVu Sans Mono',consolas,'Courier New',monospace\"><span style=\"color: #000080; text-decoration-color: #000080\">Connecting to t2n4z83v82.us-east-1.aws.clickhouse.cloud:8443/None as default.\n",
       "</span></pre>\n"
      ],
      "text/plain": [
       "\u001b[34mConnecting to t2n4z83v82.us-east-1.aws.clickhouse.cloud:8443/None as default.\n",
       "\u001b[0m"
      ]
     },
     "metadata": {},
     "output_type": "display_data"
    },
    {
     "data": {
      "text/html": [
       "<pre style=\"white-space:pre;overflow-x:auto;line-height:normal;font-family:Menlo,'DejaVu Sans Mono',consolas,'Courier New',monospace\"><span style=\"color: #000080; text-decoration-color: #000080\">Connecting to t2n4z83v82.us-east-1.aws.clickhouse.cloud:8443/distributed as default.\n",
       "</span></pre>\n"
      ],
      "text/plain": [
       "\u001b[34mConnecting to t2n4z83v82.us-east-1.aws.clickhouse.cloud:8443/distributed as default.\n",
       "\u001b[0m"
      ]
     },
     "metadata": {},
     "output_type": "display_data"
    },
    {
     "data": {
      "text/html": [
       "<pre style=\"white-space:pre;overflow-x:auto;line-height:normal;font-family:Menlo,'DejaVu Sans Mono',consolas,'Courier New',monospace\"><span style=\"color: #000080; text-decoration-color: #000080\">Connected to job distributed\n",
       "</span></pre>\n"
      ],
      "text/plain": [
       "\u001b[34mConnected to job distributed\n",
       "\u001b[0m"
      ]
     },
     "metadata": {},
     "output_type": "display_data"
    },
    {
     "data": {
      "text/html": [
       "<pre style=\"white-space:pre;overflow-x:auto;line-height:normal;font-family:Menlo,'DejaVu Sans Mono',consolas,'Courier New',monospace\"><span style=\"color: #000080; text-decoration-color: #000080\">Connecting to t2n4z83v82.us-east-1.aws.clickhouse.cloud:8443/None as default.\n",
       "</span></pre>\n"
      ],
      "text/plain": [
       "\u001b[34mConnecting to t2n4z83v82.us-east-1.aws.clickhouse.cloud:8443/None as default.\n",
       "\u001b[0m"
      ]
     },
     "metadata": {},
     "output_type": "display_data"
    },
    {
     "data": {
      "text/html": [
       "<pre style=\"white-space:pre;overflow-x:auto;line-height:normal;font-family:Menlo,'DejaVu Sans Mono',consolas,'Courier New',monospace\"><span style=\"color: #000080; text-decoration-color: #000080\">True config\n",
       "</span></pre>\n"
      ],
      "text/plain": [
       "\u001b[34mTrue config\n",
       "\u001b[0m"
      ]
     },
     "metadata": {},
     "output_type": "display_data"
    },
    {
     "data": {
      "text/html": [
       "<pre style=\"white-space:pre;overflow-x:auto;line-height:normal;font-family:Menlo,'DejaVu Sans Mono',consolas,'Courier New',monospace\"><span style=\"color: #000080; text-decoration-color: #000080\">Connecting to t2n4z83v82.us-east-1.aws.clickhouse.cloud:8443/distributed as default.\n",
       "</span></pre>\n"
      ],
      "text/plain": [
       "\u001b[34mConnecting to t2n4z83v82.us-east-1.aws.clickhouse.cloud:8443/distributed as default.\n",
       "\u001b[0m"
      ]
     },
     "metadata": {},
     "output_type": "display_data"
    },
    {
     "data": {
      "text/html": [
       "<pre style=\"white-space:pre;overflow-x:auto;line-height:normal;font-family:Menlo,'DejaVu Sans Mono',consolas,'Courier New',monospace\"><span style=\"color: #000080; text-decoration-color: #000080\">Connected to job distributed\n",
       "</span></pre>\n"
      ],
      "text/plain": [
       "\u001b[34mConnected to job distributed\n",
       "\u001b[0m"
      ]
     },
     "metadata": {},
     "output_type": "display_data"
    },
    {
     "data": {
      "text/html": [
       "<pre style=\"white-space:pre;overflow-x:auto;line-height:normal;font-family:Menlo,'DejaVu Sans Mono',consolas,'Courier New',monospace\"><span style=\"color: #000080; text-decoration-color: #000080\">True config\n",
       "</span></pre>\n"
      ],
      "text/plain": [
       "\u001b[34mTrue config\n",
       "\u001b[0m"
      ]
     },
     "metadata": {},
     "output_type": "display_data"
    },
    {
     "data": {
      "text/html": [
       "<pre style=\"white-space:pre;overflow-x:auto;line-height:normal;font-family:Menlo,'DejaVu Sans Mono',consolas,'Courier New',monospace\"><span style=\"color: #800000; text-decoration-color: #800000\">2023-01-11 02:21:07.945285: W external/org_tensorflow/tensorflow/tsl/platform/default/dso_loader.cc:66] Could not load dynamic library 'libcuda.so.1'; dlerror: libcuda.so.1: cannot open shared object file: No such file or directory; LD_LIBRARY_PATH: /usr/local/nvidia/lib:/usr/local/nvidia/lib64\n",
       "</span></pre>\n"
      ],
      "text/plain": [
       "\u001b[31m2023-01-11 02:21:07.945285: W external/org_tensorflow/tensorflow/tsl/platform/default/dso_loader.cc:66] Could not load dynamic library 'libcuda.so.1'; dlerror: libcuda.so.1: cannot open shared object file: No such file or directory; LD_LIBRARY_PATH: /usr/local/nvidia/lib:/usr/local/nvidia/lib64\n",
       "\u001b[0m"
      ]
     },
     "metadata": {},
     "output_type": "display_data"
    },
    {
     "data": {
      "text/html": [
       "<pre style=\"white-space:pre;overflow-x:auto;line-height:normal;font-family:Menlo,'DejaVu Sans Mono',consolas,'Courier New',monospace\"><span style=\"color: #800000; text-decoration-color: #800000\">2023-01-11 02:21:07.945313: W external/org_tensorflow/tensorflow/compiler/xla/stream_executor/cuda/cuda_driver.cc:265] failed call to cuInit: UNKNOWN ERROR (303)\n",
       "</span></pre>\n"
      ],
      "text/plain": [
       "\u001b[31m2023-01-11 02:21:07.945313: W external/org_tensorflow/tensorflow/compiler/xla/stream_executor/cuda/cuda_driver.cc:265] failed call to cuInit: UNKNOWN ERROR (303)\n",
       "\u001b[0m"
      ]
     },
     "metadata": {},
     "output_type": "display_data"
    },
    {
     "data": {
      "text/html": [
       "<pre style=\"white-space:pre;overflow-x:auto;line-height:normal;font-family:Menlo,'DejaVu Sans Mono',consolas,'Courier New',monospace\"><span style=\"color: #800000; text-decoration-color: #800000\">2023-01-11T02:21:07+0000 No GPU/TPU found, falling back to CPU. (Set TF_CPP_MIN_LOG_LEVEL=0 and rerun for more info.)\n",
       "</span></pre>\n"
      ],
      "text/plain": [
       "\u001b[31m2023-01-11T02:21:07+0000 No GPU/TPU found, falling back to CPU. (Set TF_CPP_MIN_LOG_LEVEL=0 and rerun for more info.)\n",
       "\u001b[0m"
      ]
     },
     "metadata": {},
     "output_type": "display_data"
    },
    {
     "data": {
      "text/html": [
       "<pre style=\"white-space:pre;overflow-x:auto;line-height:normal;font-family:Menlo,'DejaVu Sans Mono',consolas,'Courier New',monospace\"><span style=\"color: #000080; text-decoration-color: #000080\">exists config   model_name  ...                                     platform\n",
       "</span></pre>\n"
      ],
      "text/plain": [
       "\u001b[34mexists config   model_name  ...                                     platform\n",
       "\u001b[0m"
      ]
     },
     "metadata": {},
     "output_type": "display_data"
    },
    {
     "data": {
      "text/html": [
       "<pre style=\"white-space:pre;overflow-x:auto;line-height:normal;font-family:Menlo,'DejaVu Sans Mono',consolas,'Courier New',monospace\"><span style=\"color: #000080; text-decoration-color: #000080\">0    ZTest1D  ...  Linux-5.13.0-1029-aws-x86_64-with-glibc2.35\n",
       "</span></pre>\n"
      ],
      "text/plain": [
       "\u001b[34m0    ZTest1D  ...  Linux-5.13.0-1029-aws-x86_64-with-glibc2.35\n",
       "\u001b[0m"
      ]
     },
     "metadata": {},
     "output_type": "display_data"
    },
    {
     "data": {
      "text/html": [
       "<pre style=\"white-space:pre;overflow-x:auto;line-height:normal;font-family:Menlo,'DejaVu Sans Mono',consolas,'Courier New',monospace\"><span style=\"color: #000080; text-decoration-color: #000080\">\n",
       "</span></pre>\n"
      ],
      "text/plain": [
       "\u001b[34m\n",
       "\u001b[0m"
      ]
     },
     "metadata": {},
     "output_type": "display_data"
    },
    {
     "data": {
      "text/html": [
       "<pre style=\"white-space:pre;overflow-x:auto;line-height:normal;font-family:Menlo,'DejaVu Sans Mono',consolas,'Courier New',monospace\"><span style=\"color: #000080; text-decoration-color: #000080\">[1 rows x 22 columns]\n",
       "</span></pre>\n"
      ],
      "text/plain": [
       "\u001b[34m[1 rows x 22 columns]\n",
       "\u001b[0m"
      ]
     },
     "metadata": {},
     "output_type": "display_data"
    },
    {
     "data": {
      "text/html": [
       "<pre style=\"white-space:pre;overflow-x:auto;line-height:normal;font-family:Menlo,'DejaVu Sans Mono',consolas,'Courier New',monospace\"><span style=\"color: #800000; text-decoration-color: #800000\">2023-01-11 02:21:08.388863: W external/org_tensorflow/tensorflow/tsl/platform/default/dso_loader.cc:66] Could not load dynamic library 'libcuda.so.1'; dlerror: libcuda.so.1: cannot open shared object file: No such file or directory; LD_LIBRARY_PATH: /usr/local/nvidia/lib:/usr/local/nvidia/lib64\n",
       "</span></pre>\n"
      ],
      "text/plain": [
       "\u001b[31m2023-01-11 02:21:08.388863: W external/org_tensorflow/tensorflow/tsl/platform/default/dso_loader.cc:66] Could not load dynamic library 'libcuda.so.1'; dlerror: libcuda.so.1: cannot open shared object file: No such file or directory; LD_LIBRARY_PATH: /usr/local/nvidia/lib:/usr/local/nvidia/lib64\n",
       "\u001b[0m"
      ]
     },
     "metadata": {},
     "output_type": "display_data"
    },
    {
     "data": {
      "text/html": [
       "<pre style=\"white-space:pre;overflow-x:auto;line-height:normal;font-family:Menlo,'DejaVu Sans Mono',consolas,'Courier New',monospace\"><span style=\"color: #800000; text-decoration-color: #800000\">2023-01-11 02:21:08.388889: W external/org_tensorflow/tensorflow/compiler/xla/stream_executor/cuda/cuda_driver.cc:265] failed call to cuInit: UNKNOWN ERROR (303)\n",
       "</span></pre>\n"
      ],
      "text/plain": [
       "\u001b[31m2023-01-11 02:21:08.388889: W external/org_tensorflow/tensorflow/compiler/xla/stream_executor/cuda/cuda_driver.cc:265] failed call to cuInit: UNKNOWN ERROR (303)\n",
       "\u001b[0m"
      ]
     },
     "metadata": {},
     "output_type": "display_data"
    },
    {
     "data": {
      "text/html": [
       "<pre style=\"white-space:pre;overflow-x:auto;line-height:normal;font-family:Menlo,'DejaVu Sans Mono',consolas,'Courier New',monospace\"><span style=\"color: #800000; text-decoration-color: #800000\">2023-01-11T02:21:08+0000 No GPU/TPU found, falling back to CPU. (Set TF_CPP_MIN_LOG_LEVEL=0 and rerun for more info.)\n",
       "</span></pre>\n"
      ],
      "text/plain": [
       "\u001b[31m2023-01-11T02:21:08+0000 No GPU/TPU found, falling back to CPU. (Set TF_CPP_MIN_LOG_LEVEL=0 and rerun for more info.)\n",
       "\u001b[0m"
      ]
     },
     "metadata": {},
     "output_type": "display_data"
    },
    {
     "data": {
      "text/html": [
       "<pre style=\"white-space:pre;overflow-x:auto;line-height:normal;font-family:Menlo,'DejaVu Sans Mono',consolas,'Courier New',monospace\"><span style=\"color: #000080; text-decoration-color: #000080\">exists config   model_name  ...                                     platform\n",
       "</span></pre>\n"
      ],
      "text/plain": [
       "\u001b[34mexists config   model_name  ...                                     platform\n",
       "\u001b[0m"
      ]
     },
     "metadata": {},
     "output_type": "display_data"
    },
    {
     "data": {
      "text/html": [
       "<pre style=\"white-space:pre;overflow-x:auto;line-height:normal;font-family:Menlo,'DejaVu Sans Mono',consolas,'Courier New',monospace\"><span style=\"color: #000080; text-decoration-color: #000080\">0    ZTest1D  ...  Linux-5.13.0-1029-aws-x86_64-with-glibc2.35\n",
       "</span></pre>\n"
      ],
      "text/plain": [
       "\u001b[34m0    ZTest1D  ...  Linux-5.13.0-1029-aws-x86_64-with-glibc2.35\n",
       "\u001b[0m"
      ]
     },
     "metadata": {},
     "output_type": "display_data"
    },
    {
     "data": {
      "text/html": [
       "<pre style=\"white-space:pre;overflow-x:auto;line-height:normal;font-family:Menlo,'DejaVu Sans Mono',consolas,'Courier New',monospace\"><span style=\"color: #000080; text-decoration-color: #000080\">\n",
       "</span></pre>\n"
      ],
      "text/plain": [
       "\u001b[34m\n",
       "\u001b[0m"
      ]
     },
     "metadata": {},
     "output_type": "display_data"
    },
    {
     "data": {
      "text/html": [
       "<pre style=\"white-space:pre;overflow-x:auto;line-height:normal;font-family:Menlo,'DejaVu Sans Mono',consolas,'Courier New',monospace\"><span style=\"color: #000080; text-decoration-color: #000080\">[1 rows x 22 columns]\n",
       "</span></pre>\n"
      ],
      "text/plain": [
       "\u001b[34m[1 rows x 22 columns]\n",
       "\u001b[0m"
      ]
     },
     "metadata": {},
     "output_type": "display_data"
    },
    {
     "data": {
      "text/html": [
       "<pre style=\"white-space:pre;overflow-x:auto;line-height:normal;font-family:Menlo,'DejaVu Sans Mono',consolas,'Courier New',monospace\"><span style=\"color: #000080; text-decoration-color: #000080\">True null_hypos\n",
       "</span></pre>\n"
      ],
      "text/plain": [
       "\u001b[34mTrue null_hypos\n",
       "\u001b[0m"
      ]
     },
     "metadata": {},
     "output_type": "display_data"
    },
    {
     "data": {
      "text/html": [
       "<pre style=\"white-space:pre;overflow-x:auto;line-height:normal;font-family:Menlo,'DejaVu Sans Mono',consolas,'Courier New',monospace\"><span style=\"color: #000080; text-decoration-color: #000080\">True null_hypos\n",
       "</span></pre>\n"
      ],
      "text/plain": [
       "\u001b[34mTrue null_hypos\n",
       "\u001b[0m"
      ]
     },
     "metadata": {},
     "output_type": "display_data"
    },
    {
     "data": {
      "text/html": [
       "<pre style=\"white-space:pre;overflow-x:auto;line-height:normal;font-family:Menlo,'DejaVu Sans Mono',consolas,'Courier New',monospace\"><span style=\"color: #000080; text-decoration-color: #000080\">{'K_distribution': {8192: 2, 16384: 1},\n",
       "</span></pre>\n"
      ],
      "text/plain": [
       "\u001b[34m{'K_distribution': {8192: 2, 16384: 1},\n",
       "\u001b[0m"
      ]
     },
     "metadata": {},
     "output_type": "display_data"
    },
    {
     "data": {
      "text/html": [
       "<pre style=\"white-space:pre;overflow-x:auto;line-height:normal;font-family:Menlo,'DejaVu Sans Mono',consolas,'Courier New',monospace\"><span style=\"color: #000080; text-decoration-color: #000080\"> 'bias_tie': '-0.000002',\n",
       "</span></pre>\n"
      ],
      "text/plain": [
       "\u001b[34m 'bias_tie': '-0.000002',\n",
       "\u001b[0m"
      ]
     },
     "metadata": {},
     "output_type": "display_data"
    },
    {
     "data": {
      "text/html": [
       "<pre style=\"white-space:pre;overflow-x:auto;line-height:normal;font-family:Menlo,'DejaVu Sans Mono',consolas,'Courier New',monospace\"><span style=\"color: #000080; text-decoration-color: #000080\"> 'grid_cost': 0.0127125885,\n",
       "</span></pre>\n"
      ],
      "text/plain": [
       "\u001b[34m 'grid_cost': 0.0127125885,\n",
       "\u001b[0m"
      ]
     },
     "metadata": {},
     "output_type": "display_data"
    },
    {
     "data": {
      "text/html": [
       "<pre style=\"white-space:pre;overflow-x:auto;line-height:normal;font-family:Menlo,'DejaVu Sans Mono',consolas,'Courier New',monospace\"><span style=\"color: #000080; text-decoration-color: #000080\"> 'i': 0,\n",
       "</span></pre>\n"
      ],
      "text/plain": [
       "\u001b[34m 'i': 0,\n",
       "\u001b[0m"
      ]
     },
     "metadata": {},
     "output_type": "display_data"
    },
    {
     "data": {
      "text/html": [
       "<pre style=\"white-space:pre;overflow-x:auto;line-height:normal;font-family:Menlo,'DejaVu Sans Mono',consolas,'Courier New',monospace\"><span style=\"color: #000080; text-decoration-color: #000080\"> 'lamss': -1.9545794,\n",
       "</span></pre>\n"
      ],
      "text/plain": [
       "\u001b[34m 'lamss': -1.9545794,\n",
       "\u001b[0m"
      ]
     },
     "metadata": {},
     "output_type": "display_data"
    },
    {
     "data": {
      "text/html": [
       "<pre style=\"white-space:pre;overflow-x:auto;line-height:normal;font-family:Menlo,'DejaVu Sans Mono',consolas,'Courier New',monospace\"><span style=\"color: #000080; text-decoration-color: #000080\"> 'max(B_lamss)': '-1.902798',\n",
       "</span></pre>\n"
      ],
      "text/plain": [
       "\u001b[34m 'max(B_lamss)': '-1.902798',\n",
       "\u001b[0m"
      ]
     },
     "metadata": {},
     "output_type": "display_data"
    },
    {
     "data": {
      "text/html": [
       "<pre style=\"white-space:pre;overflow-x:auto;line-height:normal;font-family:Menlo,'DejaVu Sans Mono',consolas,'Courier New',monospace\"><span style=\"color: #000080; text-decoration-color: #000080\"> 'min(B_lamss)': '-2.024673',\n",
       "</span></pre>\n"
      ],
      "text/plain": [
       "\u001b[34m 'min(B_lamss)': '-2.024673',\n",
       "\u001b[0m"
      ]
     },
     "metadata": {},
     "output_type": "display_data"
    },
    {
     "data": {
      "text/html": [
       "<pre style=\"white-space:pre;overflow-x:auto;line-height:normal;font-family:Menlo,'DejaVu Sans Mono',consolas,'Courier New',monospace\"><span style=\"color: #000080; text-decoration-color: #000080\"> 'n_complete': 0,\n",
       "</span></pre>\n"
      ],
      "text/plain": [
       "\u001b[34m 'n_complete': 0,\n",
       "\u001b[0m"
      ]
     },
     "metadata": {},
     "output_type": "display_data"
    },
    {
     "data": {
      "text/html": [
       "<pre style=\"white-space:pre;overflow-x:auto;line-height:normal;font-family:Menlo,'DejaVu Sans Mono',consolas,'Courier New',monospace\"><span style=\"color: #000080; text-decoration-color: #000080\"> 'n_deepen': 1,\n",
       "</span></pre>\n"
      ],
      "text/plain": [
       "\u001b[34m 'n_deepen': 1,\n",
       "\u001b[0m"
      ]
     },
     "metadata": {},
     "output_type": "display_data"
    },
    {
     "data": {
      "text/html": [
       "<pre style=\"white-space:pre;overflow-x:auto;line-height:normal;font-family:Menlo,'DejaVu Sans Mono',consolas,'Courier New',monospace\"><span style=\"color: #000080; text-decoration-color: #000080\"> 'n_impossible': 0,\n",
       "</span></pre>\n"
      ],
      "text/plain": [
       "\u001b[34m 'n_impossible': 0,\n",
       "\u001b[0m"
      ]
     },
     "metadata": {},
     "output_type": "display_data"
    },
    {
     "data": {
      "text/html": [
       "<pre style=\"white-space:pre;overflow-x:auto;line-height:normal;font-family:Menlo,'DejaVu Sans Mono',consolas,'Courier New',monospace\"><span style=\"color: #000080; text-decoration-color: #000080\"> 'n_processed': 3,\n",
       "</span></pre>\n"
      ],
      "text/plain": [
       "\u001b[34m 'n_processed': 3,\n",
       "\u001b[0m"
      ]
     },
     "metadata": {},
     "output_type": "display_data"
    },
    {
     "data": {
      "text/html": [
       "<pre style=\"white-space:pre;overflow-x:auto;line-height:normal;font-family:Menlo,'DejaVu Sans Mono',consolas,'Courier New',monospace\"><span style=\"color: #000080; text-decoration-color: #000080\"> 'n_refine': 1,\n",
       "</span></pre>\n"
      ],
      "text/plain": [
       "\u001b[34m 'n_refine': 1,\n",
       "\u001b[0m"
      ]
     },
     "metadata": {},
     "output_type": "display_data"
    },
    {
     "data": {
      "text/html": [
       "<pre style=\"white-space:pre;overflow-x:auto;line-height:normal;font-family:Menlo,'DejaVu Sans Mono',consolas,'Courier New',monospace\"><span style=\"color: #000080; text-decoration-color: #000080\"> 'runtime_cleanup': '0.327316',\n",
       "</span></pre>\n"
      ],
      "text/plain": [
       "\u001b[34m 'runtime_cleanup': '0.327316',\n",
       "\u001b[0m"
      ]
     },
     "metadata": {},
     "output_type": "display_data"
    },
    {
     "data": {
      "text/html": [
       "<pre style=\"white-space:pre;overflow-x:auto;line-height:normal;font-family:Menlo,'DejaVu Sans Mono',consolas,'Courier New',monospace\"><span style=\"color: #000080; text-decoration-color: #000080\"> 'runtime_convergence_check': '0.949161',\n",
       "</span></pre>\n"
      ],
      "text/plain": [
       "\u001b[34m 'runtime_convergence_check': '0.949161',\n",
       "\u001b[0m"
      ]
     },
     "metadata": {},
     "output_type": "display_data"
    },
    {
     "data": {
      "text/html": [
       "<pre style=\"white-space:pre;overflow-x:auto;line-height:normal;font-family:Menlo,'DejaVu Sans Mono',consolas,'Courier New',monospace\"><span style=\"color: #000080; text-decoration-color: #000080\"> 'runtime_processing': '0.315361',\n",
       "</span></pre>\n"
      ],
      "text/plain": [
       "\u001b[34m 'runtime_processing': '0.315361',\n",
       "\u001b[0m"
      ]
     },
     "metadata": {},
     "output_type": "display_data"
    },
    {
     "data": {
      "text/html": [
       "<pre style=\"white-space:pre;overflow-x:auto;line-height:normal;font-family:Menlo,'DejaVu Sans Mono',consolas,'Courier New',monospace\"><span style=\"color: #000080; text-decoration-color: #000080\"> 'runtime_refine_deepen': '0.252197',\n",
       "</span></pre>\n"
      ],
      "text/plain": [
       "\u001b[34m 'runtime_refine_deepen': '0.252197',\n",
       "\u001b[0m"
      ]
     },
     "metadata": {},
     "output_type": "display_data"
    },
    {
     "data": {
      "text/html": [
       "<pre style=\"white-space:pre;overflow-x:auto;line-height:normal;font-family:Menlo,'DejaVu Sans Mono',consolas,'Courier New',monospace\"><span style=\"color: #000080; text-decoration-color: #000080\"> 'spread_tie': '0.005005',\n",
       "</span></pre>\n"
      ],
      "text/plain": [
       "\u001b[34m 'spread_tie': '0.005005',\n",
       "\u001b[0m"
      ]
     },
     "metadata": {},
     "output_type": "display_data"
    },
    {
     "data": {
      "text/html": [
       "<pre style=\"white-space:pre;overflow-x:auto;line-height:normal;font-family:Menlo,'DejaVu Sans Mono',consolas,'Courier New',monospace\"><span style=\"color: #000080; text-decoration-color: #000080\"> 'std_tie': '0.001154',\n",
       "</span></pre>\n"
      ],
      "text/plain": [
       "\u001b[34m 'std_tie': '0.001154',\n",
       "\u001b[0m"
      ]
     },
     "metadata": {},
     "output_type": "display_data"
    },
    {
     "data": {
      "text/html": [
       "<pre style=\"white-space:pre;overflow-x:auto;line-height:normal;font-family:Menlo,'DejaVu Sans Mono',consolas,'Courier New',monospace\"><span style=\"color: #000080; text-decoration-color: #000080\"> 'tie + slack': '0.024795',\n",
       "</span></pre>\n"
      ],
      "text/plain": [
       "\u001b[34m 'tie + slack': '0.024795',\n",
       "\u001b[0m"
      ]
     },
     "metadata": {},
     "output_type": "display_data"
    },
    {
     "data": {
      "text/html": [
       "<pre style=\"white-space:pre;overflow-x:auto;line-height:normal;font-family:Menlo,'DejaVu Sans Mono',consolas,'Courier New',monospace\"><span style=\"color: #000080; text-decoration-color: #000080\"> 'tie_{k}(lamss)': '0.012085'}\n",
       "</span></pre>\n"
      ],
      "text/plain": [
       "\u001b[34m 'tie_{k}(lamss)': '0.012085'}\n",
       "\u001b[0m"
      ]
     },
     "metadata": {},
     "output_type": "display_data"
    },
    {
     "data": {
      "text/html": [
       "<pre style=\"white-space:pre;overflow-x:auto;line-height:normal;font-family:Menlo,'DejaVu Sans Mono',consolas,'Courier New',monospace\"><span style=\"color: #000080; text-decoration-color: #000080\">{'K_distribution': {8192: 2, 16384: 1},\n",
       "</span></pre>\n"
      ],
      "text/plain": [
       "\u001b[34m{'K_distribution': {8192: 2, 16384: 1},\n",
       "\u001b[0m"
      ]
     },
     "metadata": {},
     "output_type": "display_data"
    },
    {
     "data": {
      "text/html": [
       "<pre style=\"white-space:pre;overflow-x:auto;line-height:normal;font-family:Menlo,'DejaVu Sans Mono',consolas,'Courier New',monospace\"><span style=\"color: #000080; text-decoration-color: #000080\"> 'bias_tie': '-0.000002',\n",
       "</span></pre>\n"
      ],
      "text/plain": [
       "\u001b[34m 'bias_tie': '-0.000002',\n",
       "\u001b[0m"
      ]
     },
     "metadata": {},
     "output_type": "display_data"
    },
    {
     "data": {
      "text/html": [
       "<pre style=\"white-space:pre;overflow-x:auto;line-height:normal;font-family:Menlo,'DejaVu Sans Mono',consolas,'Courier New',monospace\"><span style=\"color: #000080; text-decoration-color: #000080\"> 'grid_cost': 0.0127125885,\n",
       "</span></pre>\n"
      ],
      "text/plain": [
       "\u001b[34m 'grid_cost': 0.0127125885,\n",
       "\u001b[0m"
      ]
     },
     "metadata": {},
     "output_type": "display_data"
    },
    {
     "data": {
      "text/html": [
       "<pre style=\"white-space:pre;overflow-x:auto;line-height:normal;font-family:Menlo,'DejaVu Sans Mono',consolas,'Courier New',monospace\"><span style=\"color: #000080; text-decoration-color: #000080\"> 'i': 0,\n",
       "</span></pre>\n"
      ],
      "text/plain": [
       "\u001b[34m 'i': 0,\n",
       "\u001b[0m"
      ]
     },
     "metadata": {},
     "output_type": "display_data"
    },
    {
     "data": {
      "text/html": [
       "<pre style=\"white-space:pre;overflow-x:auto;line-height:normal;font-family:Menlo,'DejaVu Sans Mono',consolas,'Courier New',monospace\"><span style=\"color: #000080; text-decoration-color: #000080\"> 'lamss': -1.9545794,\n",
       "</span></pre>\n"
      ],
      "text/plain": [
       "\u001b[34m 'lamss': -1.9545794,\n",
       "\u001b[0m"
      ]
     },
     "metadata": {},
     "output_type": "display_data"
    },
    {
     "data": {
      "text/html": [
       "<pre style=\"white-space:pre;overflow-x:auto;line-height:normal;font-family:Menlo,'DejaVu Sans Mono',consolas,'Courier New',monospace\"><span style=\"color: #000080; text-decoration-color: #000080\"> 'max(B_lamss)': '-1.902798',\n",
       "</span></pre>\n"
      ],
      "text/plain": [
       "\u001b[34m 'max(B_lamss)': '-1.902798',\n",
       "\u001b[0m"
      ]
     },
     "metadata": {},
     "output_type": "display_data"
    },
    {
     "data": {
      "text/html": [
       "<pre style=\"white-space:pre;overflow-x:auto;line-height:normal;font-family:Menlo,'DejaVu Sans Mono',consolas,'Courier New',monospace\"><span style=\"color: #000080; text-decoration-color: #000080\"> 'min(B_lamss)': '-2.024673',\n",
       "</span></pre>\n"
      ],
      "text/plain": [
       "\u001b[34m 'min(B_lamss)': '-2.024673',\n",
       "\u001b[0m"
      ]
     },
     "metadata": {},
     "output_type": "display_data"
    },
    {
     "data": {
      "text/html": [
       "<pre style=\"white-space:pre;overflow-x:auto;line-height:normal;font-family:Menlo,'DejaVu Sans Mono',consolas,'Courier New',monospace\"><span style=\"color: #000080; text-decoration-color: #000080\"> 'n_complete': 0,\n",
       "</span></pre>\n"
      ],
      "text/plain": [
       "\u001b[34m 'n_complete': 0,\n",
       "\u001b[0m"
      ]
     },
     "metadata": {},
     "output_type": "display_data"
    },
    {
     "data": {
      "text/html": [
       "<pre style=\"white-space:pre;overflow-x:auto;line-height:normal;font-family:Menlo,'DejaVu Sans Mono',consolas,'Courier New',monospace\"><span style=\"color: #000080; text-decoration-color: #000080\"> 'n_deepen': 1,\n",
       "</span></pre>\n"
      ],
      "text/plain": [
       "\u001b[34m 'n_deepen': 1,\n",
       "\u001b[0m"
      ]
     },
     "metadata": {},
     "output_type": "display_data"
    },
    {
     "data": {
      "text/html": [
       "<pre style=\"white-space:pre;overflow-x:auto;line-height:normal;font-family:Menlo,'DejaVu Sans Mono',consolas,'Courier New',monospace\"><span style=\"color: #000080; text-decoration-color: #000080\"> 'n_impossible': 0,\n",
       "</span></pre>\n"
      ],
      "text/plain": [
       "\u001b[34m 'n_impossible': 0,\n",
       "\u001b[0m"
      ]
     },
     "metadata": {},
     "output_type": "display_data"
    },
    {
     "data": {
      "text/html": [
       "<pre style=\"white-space:pre;overflow-x:auto;line-height:normal;font-family:Menlo,'DejaVu Sans Mono',consolas,'Courier New',monospace\"><span style=\"color: #000080; text-decoration-color: #000080\"> 'n_processed': 3,\n",
       "</span></pre>\n"
      ],
      "text/plain": [
       "\u001b[34m 'n_processed': 3,\n",
       "\u001b[0m"
      ]
     },
     "metadata": {},
     "output_type": "display_data"
    },
    {
     "data": {
      "text/html": [
       "<pre style=\"white-space:pre;overflow-x:auto;line-height:normal;font-family:Menlo,'DejaVu Sans Mono',consolas,'Courier New',monospace\"><span style=\"color: #000080; text-decoration-color: #000080\"> 'n_refine': 1,\n",
       "</span></pre>\n"
      ],
      "text/plain": [
       "\u001b[34m 'n_refine': 1,\n",
       "\u001b[0m"
      ]
     },
     "metadata": {},
     "output_type": "display_data"
    },
    {
     "data": {
      "text/html": [
       "<pre style=\"white-space:pre;overflow-x:auto;line-height:normal;font-family:Menlo,'DejaVu Sans Mono',consolas,'Courier New',monospace\"><span style=\"color: #000080; text-decoration-color: #000080\"> 'runtime_cleanup': '0.526437',\n",
       "</span></pre>\n"
      ],
      "text/plain": [
       "\u001b[34m 'runtime_cleanup': '0.526437',\n",
       "\u001b[0m"
      ]
     },
     "metadata": {},
     "output_type": "display_data"
    },
    {
     "data": {
      "text/html": [
       "<pre style=\"white-space:pre;overflow-x:auto;line-height:normal;font-family:Menlo,'DejaVu Sans Mono',consolas,'Courier New',monospace\"><span style=\"color: #000080; text-decoration-color: #000080\"> 'runtime_convergence_check': '0.592920',\n",
       "</span></pre>\n"
      ],
      "text/plain": [
       "\u001b[34m 'runtime_convergence_check': '0.592920',\n",
       "\u001b[0m"
      ]
     },
     "metadata": {},
     "output_type": "display_data"
    },
    {
     "data": {
      "text/html": [
       "<pre style=\"white-space:pre;overflow-x:auto;line-height:normal;font-family:Menlo,'DejaVu Sans Mono',consolas,'Courier New',monospace\"><span style=\"color: #000080; text-decoration-color: #000080\"> 'runtime_processing': '0.345811',\n",
       "</span></pre>\n"
      ],
      "text/plain": [
       "\u001b[34m 'runtime_processing': '0.345811',\n",
       "\u001b[0m"
      ]
     },
     "metadata": {},
     "output_type": "display_data"
    },
    {
     "data": {
      "text/html": [
       "<pre style=\"white-space:pre;overflow-x:auto;line-height:normal;font-family:Menlo,'DejaVu Sans Mono',consolas,'Courier New',monospace\"><span style=\"color: #000080; text-decoration-color: #000080\"> 'runtime_refine_deepen': '0.262752',\n",
       "</span></pre>\n"
      ],
      "text/plain": [
       "\u001b[34m 'runtime_refine_deepen': '0.262752',\n",
       "\u001b[0m"
      ]
     },
     "metadata": {},
     "output_type": "display_data"
    },
    {
     "data": {
      "text/html": [
       "<pre style=\"white-space:pre;overflow-x:auto;line-height:normal;font-family:Menlo,'DejaVu Sans Mono',consolas,'Courier New',monospace\"><span style=\"color: #000080; text-decoration-color: #000080\"> 'spread_tie': '0.005005',\n",
       "</span></pre>\n"
      ],
      "text/plain": [
       "\u001b[34m 'spread_tie': '0.005005',\n",
       "\u001b[0m"
      ]
     },
     "metadata": {},
     "output_type": "display_data"
    },
    {
     "data": {
      "text/html": [
       "<pre style=\"white-space:pre;overflow-x:auto;line-height:normal;font-family:Menlo,'DejaVu Sans Mono',consolas,'Courier New',monospace\"><span style=\"color: #000080; text-decoration-color: #000080\"> 'std_tie': '0.001154',\n",
       "</span></pre>\n"
      ],
      "text/plain": [
       "\u001b[34m 'std_tie': '0.001154',\n",
       "\u001b[0m"
      ]
     },
     "metadata": {},
     "output_type": "display_data"
    },
    {
     "data": {
      "text/html": [
       "<pre style=\"white-space:pre;overflow-x:auto;line-height:normal;font-family:Menlo,'DejaVu Sans Mono',consolas,'Courier New',monospace\"><span style=\"color: #000080; text-decoration-color: #000080\"> 'tie + slack': '0.024795',\n",
       "</span></pre>\n"
      ],
      "text/plain": [
       "\u001b[34m 'tie + slack': '0.024795',\n",
       "\u001b[0m"
      ]
     },
     "metadata": {},
     "output_type": "display_data"
    },
    {
     "data": {
      "text/html": [
       "<pre style=\"white-space:pre;overflow-x:auto;line-height:normal;font-family:Menlo,'DejaVu Sans Mono',consolas,'Courier New',monospace\"><span style=\"color: #000080; text-decoration-color: #000080\"> 'tie_{k}(lamss)': '0.012085'}\n",
       "</span></pre>\n"
      ],
      "text/plain": [
       "\u001b[34m 'tie_{k}(lamss)': '0.012085'}\n",
       "\u001b[0m"
      ]
     },
     "metadata": {},
     "output_type": "display_data"
    },
    {
     "data": {
      "text/html": [
       "<pre style=\"white-space:pre;overflow-x:auto;line-height:normal;font-family:Menlo,'DejaVu Sans Mono',consolas,'Courier New',monospace\"><span style=\"color: #000080; text-decoration-color: #000080\">{'K_distribution': {8192: 2, 16384: 1, 32768: 1},\n",
       "</span></pre>\n"
      ],
      "text/plain": [
       "\u001b[34m{'K_distribution': {8192: 2, 16384: 1, 32768: 1},\n",
       "\u001b[0m"
      ]
     },
     "metadata": {},
     "output_type": "display_data"
    },
    {
     "data": {
      "text/html": [
       "<pre style=\"white-space:pre;overflow-x:auto;line-height:normal;font-family:Menlo,'DejaVu Sans Mono',consolas,'Courier New',monospace\"><span style=\"color: #000080; text-decoration-color: #000080\"> 'bias_tie': '-0.000205',\n",
       "</span></pre>\n"
      ],
      "text/plain": [
       "\u001b[34m 'bias_tie': '-0.000205',\n",
       "\u001b[0m"
      ]
     },
     "metadata": {},
     "output_type": "display_data"
    },
    {
     "data": {
      "text/html": [
       "<pre style=\"white-space:pre;overflow-x:auto;line-height:normal;font-family:Menlo,'DejaVu Sans Mono',consolas,'Courier New',monospace\"><span style=\"color: #000080; text-decoration-color: #000080\"> 'grid_cost': 0.007335838,\n",
       "</span></pre>\n"
      ],
      "text/plain": [
       "\u001b[34m 'grid_cost': 0.007335838,\n",
       "\u001b[0m"
      ]
     },
     "metadata": {},
     "output_type": "display_data"
    },
    {
     "data": {
      "text/html": [
       "<pre style=\"white-space:pre;overflow-x:auto;line-height:normal;font-family:Menlo,'DejaVu Sans Mono',consolas,'Courier New',monospace\"><span style=\"color: #000080; text-decoration-color: #000080\"> 'i': 1,\n",
       "</span></pre>\n"
      ],
      "text/plain": [
       "\u001b[34m 'i': 1,\n",
       "\u001b[0m"
      ]
     },
     "metadata": {},
     "output_type": "display_data"
    },
    {
     "data": {
      "text/html": [
       "<pre style=\"white-space:pre;overflow-x:auto;line-height:normal;font-family:Menlo,'DejaVu Sans Mono',consolas,'Courier New',monospace\"><span style=\"color: #000080; text-decoration-color: #000080\"> 'lamss': -1.9634643,\n",
       "</span></pre>\n"
      ],
      "text/plain": [
       "\u001b[34m 'lamss': -1.9634643,\n",
       "\u001b[0m"
      ]
     },
     "metadata": {},
     "output_type": "display_data"
    },
    {
     "data": {
      "text/html": [
       "<pre style=\"white-space:pre;overflow-x:auto;line-height:normal;font-family:Menlo,'DejaVu Sans Mono',consolas,'Courier New',monospace\"><span style=\"color: #000080; text-decoration-color: #000080\"> 'max(B_lamss)': '-1.911527',\n",
       "</span></pre>\n"
      ],
      "text/plain": [
       "\u001b[34m 'max(B_lamss)': '-1.911527',\n",
       "\u001b[0m"
      ]
     },
     "metadata": {},
     "output_type": "display_data"
    },
    {
     "data": {
      "text/html": [
       "<pre style=\"white-space:pre;overflow-x:auto;line-height:normal;font-family:Menlo,'DejaVu Sans Mono',consolas,'Courier New',monospace\"><span style=\"color: #000080; text-decoration-color: #000080\"> 'min(B_lamss)': '-2.023798',\n",
       "</span></pre>\n"
      ],
      "text/plain": [
       "\u001b[34m 'min(B_lamss)': '-2.023798',\n",
       "\u001b[0m"
      ]
     },
     "metadata": {},
     "output_type": "display_data"
    },
    {
     "data": {
      "text/html": [
       "<pre style=\"white-space:pre;overflow-x:auto;line-height:normal;font-family:Menlo,'DejaVu Sans Mono',consolas,'Courier New',monospace\"><span style=\"color: #000080; text-decoration-color: #000080\"> 'n_complete': 0,\n",
       "</span></pre>\n"
      ],
      "text/plain": [
       "\u001b[34m 'n_complete': 0,\n",
       "\u001b[0m"
      ]
     },
     "metadata": {},
     "output_type": "display_data"
    },
    {
     "data": {
      "text/html": [
       "<pre style=\"white-space:pre;overflow-x:auto;line-height:normal;font-family:Menlo,'DejaVu Sans Mono',consolas,'Courier New',monospace\"><span style=\"color: #000080; text-decoration-color: #000080\"> 'n_deepen': 2,\n",
       "</span></pre>\n"
      ],
      "text/plain": [
       "\u001b[34m 'n_deepen': 2,\n",
       "\u001b[0m"
      ]
     },
     "metadata": {},
     "output_type": "display_data"
    },
    {
     "data": {
      "text/html": [
       "<pre style=\"white-space:pre;overflow-x:auto;line-height:normal;font-family:Menlo,'DejaVu Sans Mono',consolas,'Courier New',monospace\"><span style=\"color: #000080; text-decoration-color: #000080\"> 'n_impossible': 0,\n",
       "</span></pre>\n"
      ],
      "text/plain": [
       "\u001b[34m 'n_impossible': 0,\n",
       "\u001b[0m"
      ]
     },
     "metadata": {},
     "output_type": "display_data"
    },
    {
     "data": {
      "text/html": [
       "<pre style=\"white-space:pre;overflow-x:auto;line-height:normal;font-family:Menlo,'DejaVu Sans Mono',consolas,'Courier New',monospace\"><span style=\"color: #000080; text-decoration-color: #000080\"> 'n_processed': 4,\n",
       "</span></pre>\n"
      ],
      "text/plain": [
       "\u001b[34m 'n_processed': 4,\n",
       "\u001b[0m"
      ]
     },
     "metadata": {},
     "output_type": "display_data"
    },
    {
     "data": {
      "text/html": [
       "<pre style=\"white-space:pre;overflow-x:auto;line-height:normal;font-family:Menlo,'DejaVu Sans Mono',consolas,'Courier New',monospace\"><span style=\"color: #000080; text-decoration-color: #000080\"> 'n_refine': 1,\n",
       "</span></pre>\n"
      ],
      "text/plain": [
       "\u001b[34m 'n_refine': 1,\n",
       "\u001b[0m"
      ]
     },
     "metadata": {},
     "output_type": "display_data"
    },
    {
     "data": {
      "text/html": [
       "<pre style=\"white-space:pre;overflow-x:auto;line-height:normal;font-family:Menlo,'DejaVu Sans Mono',consolas,'Courier New',monospace\"><span style=\"color: #000080; text-decoration-color: #000080\"> 'runtime_cleanup': '0.293518',\n",
       "</span></pre>\n"
      ],
      "text/plain": [
       "\u001b[34m 'runtime_cleanup': '0.293518',\n",
       "\u001b[0m"
      ]
     },
     "metadata": {},
     "output_type": "display_data"
    },
    {
     "data": {
      "text/html": [
       "<pre style=\"white-space:pre;overflow-x:auto;line-height:normal;font-family:Menlo,'DejaVu Sans Mono',consolas,'Courier New',monospace\"><span style=\"color: #000080; text-decoration-color: #000080\"> 'runtime_convergence_check': '0.338144',\n",
       "</span></pre>\n"
      ],
      "text/plain": [
       "\u001b[34m 'runtime_convergence_check': '0.338144',\n",
       "\u001b[0m"
      ]
     },
     "metadata": {},
     "output_type": "display_data"
    },
    {
     "data": {
      "text/html": [
       "<pre style=\"white-space:pre;overflow-x:auto;line-height:normal;font-family:Menlo,'DejaVu Sans Mono',consolas,'Courier New',monospace\"><span style=\"color: #000080; text-decoration-color: #000080\"> 'runtime_processing': '0.146789',\n",
       "</span></pre>\n"
      ],
      "text/plain": [
       "\u001b[34m 'runtime_processing': '0.146789',\n",
       "\u001b[0m"
      ]
     },
     "metadata": {},
     "output_type": "display_data"
    },
    {
     "data": {
      "text/html": [
       "<pre style=\"white-space:pre;overflow-x:auto;line-height:normal;font-family:Menlo,'DejaVu Sans Mono',consolas,'Courier New',monospace\"><span style=\"color: #000080; text-decoration-color: #000080\"> 'runtime_refine_deepen': '0.074740',\n",
       "</span></pre>\n"
      ],
      "text/plain": [
       "\u001b[34m 'runtime_refine_deepen': '0.074740',\n",
       "\u001b[0m"
      ]
     },
     "metadata": {},
     "output_type": "display_data"
    },
    {
     "data": {
      "text/html": [
       "<pre style=\"white-space:pre;overflow-x:auto;line-height:normal;font-family:Menlo,'DejaVu Sans Mono',consolas,'Courier New',monospace\"><span style=\"color: #000080; text-decoration-color: #000080\"> 'spread_tie': '0.005737',\n",
       "</span></pre>\n"
      ],
      "text/plain": [
       "\u001b[34m 'spread_tie': '0.005737',\n",
       "\u001b[0m"
      ]
     },
     "metadata": {},
     "output_type": "display_data"
    },
    {
     "data": {
      "text/html": [
       "<pre style=\"white-space:pre;overflow-x:auto;line-height:normal;font-family:Menlo,'DejaVu Sans Mono',consolas,'Courier New',monospace\"><span style=\"color: #000080; text-decoration-color: #000080\"> 'std_tie': '0.001329',\n",
       "</span></pre>\n"
      ],
      "text/plain": [
       "\u001b[34m 'std_tie': '0.001329',\n",
       "\u001b[0m"
      ]
     },
     "metadata": {},
     "output_type": "display_data"
    },
    {
     "data": {
      "text/html": [
       "<pre style=\"white-space:pre;overflow-x:auto;line-height:normal;font-family:Menlo,'DejaVu Sans Mono',consolas,'Courier New',monospace\"><span style=\"color: #000080; text-decoration-color: #000080\"> 'tie + slack': '0.024587',\n",
       "</span></pre>\n"
      ],
      "text/plain": [
       "\u001b[34m 'tie + slack': '0.024587',\n",
       "\u001b[0m"
      ]
     },
     "metadata": {},
     "output_type": "display_data"
    },
    {
     "data": {
      "text/html": [
       "<pre style=\"white-space:pre;overflow-x:auto;line-height:normal;font-family:Menlo,'DejaVu Sans Mono',consolas,'Courier New',monospace\"><span style=\"color: #000080; text-decoration-color: #000080\"> 'tie_{k}(lamss)': '0.017456'}\n",
       "</span></pre>\n"
      ],
      "text/plain": [
       "\u001b[34m 'tie_{k}(lamss)': '0.017456'}\n",
       "\u001b[0m"
      ]
     },
     "metadata": {},
     "output_type": "display_data"
    },
    {
     "data": {
      "text/html": [
       "<pre style=\"white-space:pre;overflow-x:auto;line-height:normal;font-family:Menlo,'DejaVu Sans Mono',consolas,'Courier New',monospace\"><span style=\"color: #000080; text-decoration-color: #000080\">{'bias_tie': '-0.000205',\n",
       "</span></pre>\n"
      ],
      "text/plain": [
       "\u001b[34m{'bias_tie': '-0.000205',\n",
       "\u001b[0m"
      ]
     },
     "metadata": {},
     "output_type": "display_data"
    },
    {
     "data": {
      "text/html": [
       "<pre style=\"white-space:pre;overflow-x:auto;line-height:normal;font-family:Menlo,'DejaVu Sans Mono',consolas,'Courier New',monospace\"><span style=\"color: #000080; text-decoration-color: #000080\"> 'grid_cost': 0.007335838,\n",
       "</span></pre>\n"
      ],
      "text/plain": [
       "\u001b[34m 'grid_cost': 0.007335838,\n",
       "\u001b[0m"
      ]
     },
     "metadata": {},
     "output_type": "display_data"
    },
    {
     "data": {
      "text/html": [
       "<pre style=\"white-space:pre;overflow-x:auto;line-height:normal;font-family:Menlo,'DejaVu Sans Mono',consolas,'Courier New',monospace\"><span style=\"color: #000080; text-decoration-color: #000080\"> 'i': 1,\n",
       "</span></pre>\n"
      ],
      "text/plain": [
       "\u001b[34m 'i': 1,\n",
       "\u001b[0m"
      ]
     },
     "metadata": {},
     "output_type": "display_data"
    },
    {
     "data": {
      "text/html": [
       "<pre style=\"white-space:pre;overflow-x:auto;line-height:normal;font-family:Menlo,'DejaVu Sans Mono',consolas,'Courier New',monospace\"><span style=\"color: #000080; text-decoration-color: #000080\"> 'lamss': -1.9634643,\n",
       "</span></pre>\n"
      ],
      "text/plain": [
       "\u001b[34m 'lamss': -1.9634643,\n",
       "\u001b[0m"
      ]
     },
     "metadata": {},
     "output_type": "display_data"
    },
    {
     "data": {
      "text/html": [
       "<pre style=\"white-space:pre;overflow-x:auto;line-height:normal;font-family:Menlo,'DejaVu Sans Mono',consolas,'Courier New',monospace\"><span style=\"color: #000080; text-decoration-color: #000080\"> 'max(B_lamss)': '-1.911527',\n",
       "</span></pre>\n"
      ],
      "text/plain": [
       "\u001b[34m 'max(B_lamss)': '-1.911527',\n",
       "\u001b[0m"
      ]
     },
     "metadata": {},
     "output_type": "display_data"
    },
    {
     "data": {
      "text/html": [
       "<pre style=\"white-space:pre;overflow-x:auto;line-height:normal;font-family:Menlo,'DejaVu Sans Mono',consolas,'Courier New',monospace\"><span style=\"color: #000080; text-decoration-color: #000080\"> 'min(B_lamss)': '-2.023798',\n",
       "</span></pre>\n"
      ],
      "text/plain": [
       "\u001b[34m 'min(B_lamss)': '-2.023798',\n",
       "\u001b[0m"
      ]
     },
     "metadata": {},
     "output_type": "display_data"
    },
    {
     "data": {
      "text/html": [
       "<pre style=\"white-space:pre;overflow-x:auto;line-height:normal;font-family:Menlo,'DejaVu Sans Mono',consolas,'Courier New',monospace\"><span style=\"color: #000080; text-decoration-color: #000080\"> 'n_complete': 0,\n",
       "</span></pre>\n"
      ],
      "text/plain": [
       "\u001b[34m 'n_complete': 0,\n",
       "\u001b[0m"
      ]
     },
     "metadata": {},
     "output_type": "display_data"
    },
    {
     "data": {
      "text/html": [
       "<pre style=\"white-space:pre;overflow-x:auto;line-height:normal;font-family:Menlo,'DejaVu Sans Mono',consolas,'Courier New',monospace\"><span style=\"color: #000080; text-decoration-color: #000080\"> 'n_deepen': 0,\n",
       "</span></pre>\n"
      ],
      "text/plain": [
       "\u001b[34m 'n_deepen': 0,\n",
       "\u001b[0m"
      ]
     },
     "metadata": {},
     "output_type": "display_data"
    },
    {
     "data": {
      "text/html": [
       "<pre style=\"white-space:pre;overflow-x:auto;line-height:normal;font-family:Menlo,'DejaVu Sans Mono',consolas,'Courier New',monospace\"><span style=\"color: #000080; text-decoration-color: #000080\"> 'n_impossible': 0,\n",
       "</span></pre>\n"
      ],
      "text/plain": [
       "\u001b[34m 'n_impossible': 0,\n",
       "\u001b[0m"
      ]
     },
     "metadata": {},
     "output_type": "display_data"
    },
    {
     "data": {
      "text/html": [
       "<pre style=\"white-space:pre;overflow-x:auto;line-height:normal;font-family:Menlo,'DejaVu Sans Mono',consolas,'Courier New',monospace\"><span style=\"color: #000080; text-decoration-color: #000080\"> 'n_refine': 0,\n",
       "</span></pre>\n"
      ],
      "text/plain": [
       "\u001b[34m 'n_refine': 0,\n",
       "\u001b[0m"
      ]
     },
     "metadata": {},
     "output_type": "display_data"
    },
    {
     "data": {
      "text/html": [
       "<pre style=\"white-space:pre;overflow-x:auto;line-height:normal;font-family:Menlo,'DejaVu Sans Mono',consolas,'Courier New',monospace\"><span style=\"color: #000080; text-decoration-color: #000080\"> 'runtime_cleanup': '0.081371',\n",
       "</span></pre>\n"
      ],
      "text/plain": [
       "\u001b[34m 'runtime_cleanup': '0.081371',\n",
       "\u001b[0m"
      ]
     },
     "metadata": {},
     "output_type": "display_data"
    },
    {
     "data": {
      "text/html": [
       "<pre style=\"white-space:pre;overflow-x:auto;line-height:normal;font-family:Menlo,'DejaVu Sans Mono',consolas,'Courier New',monospace\"><span style=\"color: #000080; text-decoration-color: #000080\"> 'runtime_convergence_check': '0.312619',\n",
       "</span></pre>\n"
      ],
      "text/plain": [
       "\u001b[34m 'runtime_convergence_check': '0.312619',\n",
       "\u001b[0m"
      ]
     },
     "metadata": {},
     "output_type": "display_data"
    },
    {
     "data": {
      "text/html": [
       "<pre style=\"white-space:pre;overflow-x:auto;line-height:normal;font-family:Menlo,'DejaVu Sans Mono',consolas,'Courier New',monospace\"><span style=\"color: #000080; text-decoration-color: #000080\"> 'spread_tie': '0.005737',\n",
       "</span></pre>\n"
      ],
      "text/plain": [
       "\u001b[34m 'spread_tie': '0.005737',\n",
       "\u001b[0m"
      ]
     },
     "metadata": {},
     "output_type": "display_data"
    },
    {
     "data": {
      "text/html": [
       "<pre style=\"white-space:pre;overflow-x:auto;line-height:normal;font-family:Menlo,'DejaVu Sans Mono',consolas,'Courier New',monospace\"><span style=\"color: #000080; text-decoration-color: #000080\"> 'std_tie': '0.001329',\n",
       "</span></pre>\n"
      ],
      "text/plain": [
       "\u001b[34m 'std_tie': '0.001329',\n",
       "\u001b[0m"
      ]
     },
     "metadata": {},
     "output_type": "display_data"
    },
    {
     "data": {
      "text/html": [
       "<pre style=\"white-space:pre;overflow-x:auto;line-height:normal;font-family:Menlo,'DejaVu Sans Mono',consolas,'Courier New',monospace\"><span style=\"color: #000080; text-decoration-color: #000080\"> 'tie + slack': '0.024587',\n",
       "</span></pre>\n"
      ],
      "text/plain": [
       "\u001b[34m 'tie + slack': '0.024587',\n",
       "\u001b[0m"
      ]
     },
     "metadata": {},
     "output_type": "display_data"
    },
    {
     "data": {
      "text/html": [
       "<pre style=\"white-space:pre;overflow-x:auto;line-height:normal;font-family:Menlo,'DejaVu Sans Mono',consolas,'Courier New',monospace\"><span style=\"color: #000080; text-decoration-color: #000080\"> 'tie_{k}(lamss)': '0.017456'}\n",
       "</span></pre>\n"
      ],
      "text/plain": [
       "\u001b[34m 'tie_{k}(lamss)': '0.017456'}\n",
       "\u001b[0m"
      ]
     },
     "metadata": {},
     "output_type": "display_data"
    },
    {
     "data": {
      "text/html": [
       "<pre style=\"white-space:pre;overflow-x:auto;line-height:normal;font-family:Menlo,'DejaVu Sans Mono',consolas,'Courier New',monospace\"><span style=\"color: #000080; text-decoration-color: #000080\">{'K_distribution': {8192: 2, 16384: 1, 32768: 1, 65536: 1},\n",
       "</span></pre>\n"
      ],
      "text/plain": [
       "\u001b[34m{'K_distribution': {8192: 2, 16384: 1, 32768: 1, 65536: 1},\n",
       "\u001b[0m"
      ]
     },
     "metadata": {},
     "output_type": "display_data"
    },
    {
     "data": {
      "text/html": [
       "<pre style=\"white-space:pre;overflow-x:auto;line-height:normal;font-family:Menlo,'DejaVu Sans Mono',consolas,'Courier New',monospace\"><span style=\"color: #000080; text-decoration-color: #000080\"> 'bias_tie': '-0.000298',\n",
       "</span></pre>\n"
      ],
      "text/plain": [
       "\u001b[34m 'bias_tie': '-0.000298',\n",
       "\u001b[0m"
      ]
     },
     "metadata": {},
     "output_type": "display_data"
    },
    {
     "data": {
      "text/html": [
       "<pre style=\"white-space:pre;overflow-x:auto;line-height:normal;font-family:Menlo,'DejaVu Sans Mono',consolas,'Courier New',monospace\"><span style=\"color: #000080; text-decoration-color: #000080\"> 'grid_cost': 0.0039445423,\n",
       "</span></pre>\n"
      ],
      "text/plain": [
       "\u001b[34m 'grid_cost': 0.0039445423,\n",
       "\u001b[0m"
      ]
     },
     "metadata": {},
     "output_type": "display_data"
    },
    {
     "data": {
      "text/html": [
       "<pre style=\"white-space:pre;overflow-x:auto;line-height:normal;font-family:Menlo,'DejaVu Sans Mono',consolas,'Courier New',monospace\"><span style=\"color: #000080; text-decoration-color: #000080\"> 'i': 2,\n",
       "</span></pre>\n"
      ],
      "text/plain": [
       "\u001b[34m 'i': 2,\n",
       "\u001b[0m"
      ]
     },
     "metadata": {},
     "output_type": "display_data"
    },
    {
     "data": {
      "text/html": [
       "<pre style=\"white-space:pre;overflow-x:auto;line-height:normal;font-family:Menlo,'DejaVu Sans Mono',consolas,'Courier New',monospace\"><span style=\"color: #000080; text-decoration-color: #000080\"> 'lamss': -1.9590595,\n",
       "</span></pre>\n"
      ],
      "text/plain": [
       "\u001b[34m 'lamss': -1.9590595,\n",
       "\u001b[0m"
      ]
     },
     "metadata": {},
     "output_type": "display_data"
    },
    {
     "data": {
      "text/html": [
       "<pre style=\"white-space:pre;overflow-x:auto;line-height:normal;font-family:Menlo,'DejaVu Sans Mono',consolas,'Courier New',monospace\"><span style=\"color: #000080; text-decoration-color: #000080\"> 'max(B_lamss)': '-1.910285',\n",
       "</span></pre>\n"
      ],
      "text/plain": [
       "\u001b[34m 'max(B_lamss)': '-1.910285',\n",
       "\u001b[0m"
      ]
     },
     "metadata": {},
     "output_type": "display_data"
    },
    {
     "data": {
      "text/html": [
       "<pre style=\"white-space:pre;overflow-x:auto;line-height:normal;font-family:Menlo,'DejaVu Sans Mono',consolas,'Courier New',monospace\"><span style=\"color: #000080; text-decoration-color: #000080\"> 'min(B_lamss)': '-2.008589',\n",
       "</span></pre>\n"
      ],
      "text/plain": [
       "\u001b[34m 'min(B_lamss)': '-2.008589',\n",
       "\u001b[0m"
      ]
     },
     "metadata": {},
     "output_type": "display_data"
    },
    {
     "data": {
      "text/html": [
       "<pre style=\"white-space:pre;overflow-x:auto;line-height:normal;font-family:Menlo,'DejaVu Sans Mono',consolas,'Courier New',monospace\"><span style=\"color: #000080; text-decoration-color: #000080\"> 'n_complete': 0,\n",
       "</span></pre>\n"
      ],
      "text/plain": [
       "\u001b[34m 'n_complete': 0,\n",
       "\u001b[0m"
      ]
     },
     "metadata": {},
     "output_type": "display_data"
    },
    {
     "data": {
      "text/html": [
       "<pre style=\"white-space:pre;overflow-x:auto;line-height:normal;font-family:Menlo,'DejaVu Sans Mono',consolas,'Courier New',monospace\"><span style=\"color: #000080; text-decoration-color: #000080\"> 'n_deepen': 3,\n",
       "</span></pre>\n"
      ],
      "text/plain": [
       "\u001b[34m 'n_deepen': 3,\n",
       "\u001b[0m"
      ]
     },
     "metadata": {},
     "output_type": "display_data"
    },
    {
     "data": {
      "text/html": [
       "<pre style=\"white-space:pre;overflow-x:auto;line-height:normal;font-family:Menlo,'DejaVu Sans Mono',consolas,'Courier New',monospace\"><span style=\"color: #000080; text-decoration-color: #000080\"> 'n_impossible': 0,\n",
       "</span></pre>\n"
      ],
      "text/plain": [
       "\u001b[34m 'n_impossible': 0,\n",
       "\u001b[0m"
      ]
     },
     "metadata": {},
     "output_type": "display_data"
    },
    {
     "data": {
      "text/html": [
       "<pre style=\"white-space:pre;overflow-x:auto;line-height:normal;font-family:Menlo,'DejaVu Sans Mono',consolas,'Courier New',monospace\"><span style=\"color: #000080; text-decoration-color: #000080\"> 'n_processed': 5,\n",
       "</span></pre>\n"
      ],
      "text/plain": [
       "\u001b[34m 'n_processed': 5,\n",
       "\u001b[0m"
      ]
     },
     "metadata": {},
     "output_type": "display_data"
    },
    {
     "data": {
      "text/html": [
       "<pre style=\"white-space:pre;overflow-x:auto;line-height:normal;font-family:Menlo,'DejaVu Sans Mono',consolas,'Courier New',monospace\"><span style=\"color: #000080; text-decoration-color: #000080\"> 'n_refine': 1,\n",
       "</span></pre>\n"
      ],
      "text/plain": [
       "\u001b[34m 'n_refine': 1,\n",
       "\u001b[0m"
      ]
     },
     "metadata": {},
     "output_type": "display_data"
    },
    {
     "data": {
      "text/html": [
       "<pre style=\"white-space:pre;overflow-x:auto;line-height:normal;font-family:Menlo,'DejaVu Sans Mono',consolas,'Courier New',monospace\"><span style=\"color: #000080; text-decoration-color: #000080\"> 'runtime_cleanup': '0.441216',\n",
       "</span></pre>\n"
      ],
      "text/plain": [
       "\u001b[34m 'runtime_cleanup': '0.441216',\n",
       "\u001b[0m"
      ]
     },
     "metadata": {},
     "output_type": "display_data"
    },
    {
     "data": {
      "text/html": [
       "<pre style=\"white-space:pre;overflow-x:auto;line-height:normal;font-family:Menlo,'DejaVu Sans Mono',consolas,'Courier New',monospace\"><span style=\"color: #000080; text-decoration-color: #000080\"> 'runtime_convergence_check': '0.313777',\n",
       "</span></pre>\n"
      ],
      "text/plain": [
       "\u001b[34m 'runtime_convergence_check': '0.313777',\n",
       "\u001b[0m"
      ]
     },
     "metadata": {},
     "output_type": "display_data"
    },
    {
     "data": {
      "text/html": [
       "<pre style=\"white-space:pre;overflow-x:auto;line-height:normal;font-family:Menlo,'DejaVu Sans Mono',consolas,'Courier New',monospace\"><span style=\"color: #000080; text-decoration-color: #000080\"> 'runtime_processing': '0.220206',\n",
       "</span></pre>\n"
      ],
      "text/plain": [
       "\u001b[34m 'runtime_processing': '0.220206',\n",
       "\u001b[0m"
      ]
     },
     "metadata": {},
     "output_type": "display_data"
    },
    {
     "data": {
      "text/html": [
       "<pre style=\"white-space:pre;overflow-x:auto;line-height:normal;font-family:Menlo,'DejaVu Sans Mono',consolas,'Courier New',monospace\"><span style=\"color: #000080; text-decoration-color: #000080\"> 'runtime_refine_deepen': '0.076902',\n",
       "</span></pre>\n"
      ],
      "text/plain": [
       "\u001b[34m 'runtime_refine_deepen': '0.076902',\n",
       "\u001b[0m"
      ]
     },
     "metadata": {},
     "output_type": "display_data"
    },
    {
     "data": {
      "text/html": [
       "<pre style=\"white-space:pre;overflow-x:auto;line-height:normal;font-family:Menlo,'DejaVu Sans Mono',consolas,'Courier New',monospace\"><span style=\"color: #000080; text-decoration-color: #000080\"> 'spread_tie': '0.005371',\n",
       "</span></pre>\n"
      ],
      "text/plain": [
       "\u001b[34m 'spread_tie': '0.005371',\n",
       "\u001b[0m"
      ]
     },
     "metadata": {},
     "output_type": "display_data"
    },
    {
     "data": {
      "text/html": [
       "<pre style=\"white-space:pre;overflow-x:auto;line-height:normal;font-family:Menlo,'DejaVu Sans Mono',consolas,'Courier New',monospace\"><span style=\"color: #000080; text-decoration-color: #000080\"> 'std_tie': '0.001330',\n",
       "</span></pre>\n"
      ],
      "text/plain": [
       "\u001b[34m 'std_tie': '0.001330',\n",
       "\u001b[0m"
      ]
     },
     "metadata": {},
     "output_type": "display_data"
    },
    {
     "data": {
      "text/html": [
       "<pre style=\"white-space:pre;overflow-x:auto;line-height:normal;font-family:Menlo,'DejaVu Sans Mono',consolas,'Courier New',monospace\"><span style=\"color: #000080; text-decoration-color: #000080\"> 'tie + slack': '0.024521',\n",
       "</span></pre>\n"
      ],
      "text/plain": [
       "\u001b[34m 'tie + slack': '0.024521',\n",
       "\u001b[0m"
      ]
     },
     "metadata": {},
     "output_type": "display_data"
    },
    {
     "data": {
      "text/html": [
       "<pre style=\"white-space:pre;overflow-x:auto;line-height:normal;font-family:Menlo,'DejaVu Sans Mono',consolas,'Courier New',monospace\"><span style=\"color: #000080; text-decoration-color: #000080\"> 'tie_{k}(lamss)': '0.020874'}\n",
       "</span></pre>\n"
      ],
      "text/plain": [
       "\u001b[34m 'tie_{k}(lamss)': '0.020874'}\n",
       "\u001b[0m"
      ]
     },
     "metadata": {},
     "output_type": "display_data"
    },
    {
     "data": {
      "text/html": [
       "<pre style=\"white-space:pre;overflow-x:auto;line-height:normal;font-family:Menlo,'DejaVu Sans Mono',consolas,'Courier New',monospace\"><span style=\"color: #000080; text-decoration-color: #000080\">{'K_distribution': {8192: 2, 16384: 1, 32768: 1, 65536: 1},\n",
       "</span></pre>\n"
      ],
      "text/plain": [
       "\u001b[34m{'K_distribution': {8192: 2, 16384: 1, 32768: 1, 65536: 1},\n",
       "\u001b[0m"
      ]
     },
     "metadata": {},
     "output_type": "display_data"
    },
    {
     "data": {
      "text/html": [
       "<pre style=\"white-space:pre;overflow-x:auto;line-height:normal;font-family:Menlo,'DejaVu Sans Mono',consolas,'Courier New',monospace\"><span style=\"color: #000080; text-decoration-color: #000080\"> 'bias_tie': '-0.000205',\n",
       "</span></pre>\n"
      ],
      "text/plain": [
       "\u001b[34m 'bias_tie': '-0.000205',\n",
       "\u001b[0m"
      ]
     },
     "metadata": {},
     "output_type": "display_data"
    },
    {
     "data": {
      "text/html": [
       "<pre style=\"white-space:pre;overflow-x:auto;line-height:normal;font-family:Menlo,'DejaVu Sans Mono',consolas,'Courier New',monospace\"><span style=\"color: #000080; text-decoration-color: #000080\"> 'grid_cost': 0.007335838,\n",
       "</span></pre>\n"
      ],
      "text/plain": [
       "\u001b[34m 'grid_cost': 0.007335838,\n",
       "\u001b[0m"
      ]
     },
     "metadata": {},
     "output_type": "display_data"
    },
    {
     "data": {
      "text/html": [
       "<pre style=\"white-space:pre;overflow-x:auto;line-height:normal;font-family:Menlo,'DejaVu Sans Mono',consolas,'Courier New',monospace\"><span style=\"color: #000080; text-decoration-color: #000080\"> 'i': 2,\n",
       "</span></pre>\n"
      ],
      "text/plain": [
       "\u001b[34m 'i': 2,\n",
       "\u001b[0m"
      ]
     },
     "metadata": {},
     "output_type": "display_data"
    },
    {
     "data": {
      "text/html": [
       "<pre style=\"white-space:pre;overflow-x:auto;line-height:normal;font-family:Menlo,'DejaVu Sans Mono',consolas,'Courier New',monospace\"><span style=\"color: #000080; text-decoration-color: #000080\"> 'lamss': -1.9634643,\n",
       "</span></pre>\n"
      ],
      "text/plain": [
       "\u001b[34m 'lamss': -1.9634643,\n",
       "\u001b[0m"
      ]
     },
     "metadata": {},
     "output_type": "display_data"
    },
    {
     "data": {
      "text/html": [
       "<pre style=\"white-space:pre;overflow-x:auto;line-height:normal;font-family:Menlo,'DejaVu Sans Mono',consolas,'Courier New',monospace\"><span style=\"color: #000080; text-decoration-color: #000080\"> 'max(B_lamss)': '-1.911527',\n",
       "</span></pre>\n"
      ],
      "text/plain": [
       "\u001b[34m 'max(B_lamss)': '-1.911527',\n",
       "\u001b[0m"
      ]
     },
     "metadata": {},
     "output_type": "display_data"
    },
    {
     "data": {
      "text/html": [
       "<pre style=\"white-space:pre;overflow-x:auto;line-height:normal;font-family:Menlo,'DejaVu Sans Mono',consolas,'Courier New',monospace\"><span style=\"color: #000080; text-decoration-color: #000080\"> 'min(B_lamss)': '-2.023798',\n",
       "</span></pre>\n"
      ],
      "text/plain": [
       "\u001b[34m 'min(B_lamss)': '-2.023798',\n",
       "\u001b[0m"
      ]
     },
     "metadata": {},
     "output_type": "display_data"
    },
    {
     "data": {
      "text/html": [
       "<pre style=\"white-space:pre;overflow-x:auto;line-height:normal;font-family:Menlo,'DejaVu Sans Mono',consolas,'Courier New',monospace\"><span style=\"color: #000080; text-decoration-color: #000080\"> 'n_complete': 0,\n",
       "</span></pre>\n"
      ],
      "text/plain": [
       "\u001b[34m 'n_complete': 0,\n",
       "\u001b[0m"
      ]
     },
     "metadata": {},
     "output_type": "display_data"
    },
    {
     "data": {
      "text/html": [
       "<pre style=\"white-space:pre;overflow-x:auto;line-height:normal;font-family:Menlo,'DejaVu Sans Mono',consolas,'Courier New',monospace\"><span style=\"color: #000080; text-decoration-color: #000080\"> 'n_deepen': 3,\n",
       "</span></pre>\n"
      ],
      "text/plain": [
       "\u001b[34m 'n_deepen': 3,\n",
       "\u001b[0m"
      ]
     },
     "metadata": {},
     "output_type": "display_data"
    },
    {
     "data": {
      "text/html": [
       "<pre style=\"white-space:pre;overflow-x:auto;line-height:normal;font-family:Menlo,'DejaVu Sans Mono',consolas,'Courier New',monospace\"><span style=\"color: #000080; text-decoration-color: #000080\"> 'n_impossible': 0,\n",
       "</span></pre>\n"
      ],
      "text/plain": [
       "\u001b[34m 'n_impossible': 0,\n",
       "\u001b[0m"
      ]
     },
     "metadata": {},
     "output_type": "display_data"
    },
    {
     "data": {
      "text/html": [
       "<pre style=\"white-space:pre;overflow-x:auto;line-height:normal;font-family:Menlo,'DejaVu Sans Mono',consolas,'Courier New',monospace\"><span style=\"color: #000080; text-decoration-color: #000080\"> 'n_processed': 5,\n",
       "</span></pre>\n"
      ],
      "text/plain": [
       "\u001b[34m 'n_processed': 5,\n",
       "\u001b[0m"
      ]
     },
     "metadata": {},
     "output_type": "display_data"
    },
    {
     "data": {
      "text/html": [
       "<pre style=\"white-space:pre;overflow-x:auto;line-height:normal;font-family:Menlo,'DejaVu Sans Mono',consolas,'Courier New',monospace\"><span style=\"color: #000080; text-decoration-color: #000080\"> 'n_refine': 1,\n",
       "</span></pre>\n"
      ],
      "text/plain": [
       "\u001b[34m 'n_refine': 1,\n",
       "\u001b[0m"
      ]
     },
     "metadata": {},
     "output_type": "display_data"
    },
    {
     "data": {
      "text/html": [
       "<pre style=\"white-space:pre;overflow-x:auto;line-height:normal;font-family:Menlo,'DejaVu Sans Mono',consolas,'Courier New',monospace\"><span style=\"color: #000080; text-decoration-color: #000080\"> 'runtime_cleanup': '0.354265',\n",
       "</span></pre>\n"
      ],
      "text/plain": [
       "\u001b[34m 'runtime_cleanup': '0.354265',\n",
       "\u001b[0m"
      ]
     },
     "metadata": {},
     "output_type": "display_data"
    },
    {
     "data": {
      "text/html": [
       "<pre style=\"white-space:pre;overflow-x:auto;line-height:normal;font-family:Menlo,'DejaVu Sans Mono',consolas,'Courier New',monospace\"><span style=\"color: #000080; text-decoration-color: #000080\"> 'runtime_convergence_check': '0.453841',\n",
       "</span></pre>\n"
      ],
      "text/plain": [
       "\u001b[34m 'runtime_convergence_check': '0.453841',\n",
       "\u001b[0m"
      ]
     },
     "metadata": {},
     "output_type": "display_data"
    },
    {
     "data": {
      "text/html": [
       "<pre style=\"white-space:pre;overflow-x:auto;line-height:normal;font-family:Menlo,'DejaVu Sans Mono',consolas,'Courier New',monospace\"><span style=\"color: #000080; text-decoration-color: #000080\"> 'runtime_processing': '0.309230',\n",
       "</span></pre>\n"
      ],
      "text/plain": [
       "\u001b[34m 'runtime_processing': '0.309230',\n",
       "\u001b[0m"
      ]
     },
     "metadata": {},
     "output_type": "display_data"
    },
    {
     "data": {
      "text/html": [
       "<pre style=\"white-space:pre;overflow-x:auto;line-height:normal;font-family:Menlo,'DejaVu Sans Mono',consolas,'Courier New',monospace\"><span style=\"color: #000080; text-decoration-color: #000080\"> 'runtime_refine_deepen': '0.108927',\n",
       "</span></pre>\n"
      ],
      "text/plain": [
       "\u001b[34m 'runtime_refine_deepen': '0.108927',\n",
       "\u001b[0m"
      ]
     },
     "metadata": {},
     "output_type": "display_data"
    },
    {
     "data": {
      "text/html": [
       "<pre style=\"white-space:pre;overflow-x:auto;line-height:normal;font-family:Menlo,'DejaVu Sans Mono',consolas,'Courier New',monospace\"><span style=\"color: #000080; text-decoration-color: #000080\"> 'spread_tie': '0.005737',\n",
       "</span></pre>\n"
      ],
      "text/plain": [
       "\u001b[34m 'spread_tie': '0.005737',\n",
       "\u001b[0m"
      ]
     },
     "metadata": {},
     "output_type": "display_data"
    },
    {
     "data": {
      "text/html": [
       "<pre style=\"white-space:pre;overflow-x:auto;line-height:normal;font-family:Menlo,'DejaVu Sans Mono',consolas,'Courier New',monospace\"><span style=\"color: #000080; text-decoration-color: #000080\"> 'std_tie': '0.001329',\n",
       "</span></pre>\n"
      ],
      "text/plain": [
       "\u001b[34m 'std_tie': '0.001329',\n",
       "\u001b[0m"
      ]
     },
     "metadata": {},
     "output_type": "display_data"
    },
    {
     "data": {
      "text/html": [
       "<pre style=\"white-space:pre;overflow-x:auto;line-height:normal;font-family:Menlo,'DejaVu Sans Mono',consolas,'Courier New',monospace\"><span style=\"color: #000080; text-decoration-color: #000080\"> 'tie + slack': '0.024587',\n",
       "</span></pre>\n"
      ],
      "text/plain": [
       "\u001b[34m 'tie + slack': '0.024587',\n",
       "\u001b[0m"
      ]
     },
     "metadata": {},
     "output_type": "display_data"
    },
    {
     "data": {
      "text/html": [
       "<pre style=\"white-space:pre;overflow-x:auto;line-height:normal;font-family:Menlo,'DejaVu Sans Mono',consolas,'Courier New',monospace\"><span style=\"color: #000080; text-decoration-color: #000080\"> 'tie_{k}(lamss)': '0.017456'}\n",
       "</span></pre>\n"
      ],
      "text/plain": [
       "\u001b[34m 'tie_{k}(lamss)': '0.017456'}\n",
       "\u001b[0m"
      ]
     },
     "metadata": {},
     "output_type": "display_data"
    },
    {
     "data": {
      "text/html": [
       "<pre style=\"white-space:pre;overflow-x:auto;line-height:normal;font-family:Menlo,'DejaVu Sans Mono',consolas,'Courier New',monospace\"><span style=\"color: #000080; text-decoration-color: #000080\">{'K_distribution': {8192: 2, 16384: 1, 32768: 1, 65536: 1, 131072: 1},\n",
       "</span></pre>\n"
      ],
      "text/plain": [
       "\u001b[34m{'K_distribution': {8192: 2, 16384: 1, 32768: 1, 65536: 1, 131072: 1},\n",
       "\u001b[0m"
      ]
     },
     "metadata": {},
     "output_type": "display_data"
    },
    {
     "data": {
      "text/html": [
       "<pre style=\"white-space:pre;overflow-x:auto;line-height:normal;font-family:Menlo,'DejaVu Sans Mono',consolas,'Courier New',monospace\"><span style=\"color: #000080; text-decoration-color: #000080\"> 'bias_tie': '-0.000281',\n",
       "</span></pre>\n"
      ],
      "text/plain": [
       "\u001b[34m 'bias_tie': '-0.000281',\n",
       "\u001b[0m"
      ]
     },
     "metadata": {},
     "output_type": "display_data"
    },
    {
     "data": {
      "text/html": [
       "<pre style=\"white-space:pre;overflow-x:auto;line-height:normal;font-family:Menlo,'DejaVu Sans Mono',consolas,'Courier New',monospace\"><span style=\"color: #000080; text-decoration-color: #000080\"> 'grid_cost': 0.002045676,\n",
       "</span></pre>\n"
      ],
      "text/plain": [
       "\u001b[34m 'grid_cost': 0.002045676,\n",
       "\u001b[0m"
      ]
     },
     "metadata": {},
     "output_type": "display_data"
    },
    {
     "data": {
      "text/html": [
       "<pre style=\"white-space:pre;overflow-x:auto;line-height:normal;font-family:Menlo,'DejaVu Sans Mono',consolas,'Courier New',monospace\"><span style=\"color: #000080; text-decoration-color: #000080\"> 'i': 3,\n",
       "</span></pre>\n"
      ],
      "text/plain": [
       "\u001b[34m 'i': 3,\n",
       "\u001b[0m"
      ]
     },
     "metadata": {},
     "output_type": "display_data"
    },
    {
     "data": {
      "text/html": [
       "<pre style=\"white-space:pre;overflow-x:auto;line-height:normal;font-family:Menlo,'DejaVu Sans Mono',consolas,'Courier New',monospace\"><span style=\"color: #000080; text-decoration-color: #000080\"> 'lamss': -1.944948,\n",
       "</span></pre>\n"
      ],
      "text/plain": [
       "\u001b[34m 'lamss': -1.944948,\n",
       "\u001b[0m"
      ]
     },
     "metadata": {},
     "output_type": "display_data"
    },
    {
     "data": {
      "text/html": [
       "<pre style=\"white-space:pre;overflow-x:auto;line-height:normal;font-family:Menlo,'DejaVu Sans Mono',consolas,'Courier New',monospace\"><span style=\"color: #000080; text-decoration-color: #000080\"> 'max(B_lamss)': '-1.899986',\n",
       "</span></pre>\n"
      ],
      "text/plain": [
       "\u001b[34m 'max(B_lamss)': '-1.899986',\n",
       "\u001b[0m"
      ]
     },
     "metadata": {},
     "output_type": "display_data"
    },
    {
     "data": {
      "text/html": [
       "<pre style=\"white-space:pre;overflow-x:auto;line-height:normal;font-family:Menlo,'DejaVu Sans Mono',consolas,'Courier New',monospace\"><span style=\"color: #000080; text-decoration-color: #000080\"> 'min(B_lamss)': '-2.002424',\n",
       "</span></pre>\n"
      ],
      "text/plain": [
       "\u001b[34m 'min(B_lamss)': '-2.002424',\n",
       "\u001b[0m"
      ]
     },
     "metadata": {},
     "output_type": "display_data"
    },
    {
     "data": {
      "text/html": [
       "<pre style=\"white-space:pre;overflow-x:auto;line-height:normal;font-family:Menlo,'DejaVu Sans Mono',consolas,'Courier New',monospace\"><span style=\"color: #000080; text-decoration-color: #000080\"> 'n_complete': 0,\n",
       "</span></pre>\n"
      ],
      "text/plain": [
       "\u001b[34m 'n_complete': 0,\n",
       "\u001b[0m"
      ]
     },
     "metadata": {},
     "output_type": "display_data"
    },
    {
     "data": {
      "text/html": [
       "<pre style=\"white-space:pre;overflow-x:auto;line-height:normal;font-family:Menlo,'DejaVu Sans Mono',consolas,'Courier New',monospace\"><span style=\"color: #000080; text-decoration-color: #000080\"> 'n_deepen': 4,\n",
       "</span></pre>\n"
      ],
      "text/plain": [
       "\u001b[34m 'n_deepen': 4,\n",
       "\u001b[0m"
      ]
     },
     "metadata": {},
     "output_type": "display_data"
    },
    {
     "data": {
      "text/html": [
       "<pre style=\"white-space:pre;overflow-x:auto;line-height:normal;font-family:Menlo,'DejaVu Sans Mono',consolas,'Courier New',monospace\"><span style=\"color: #000080; text-decoration-color: #000080\"> 'n_impossible': 0,\n",
       "</span></pre>\n"
      ],
      "text/plain": [
       "\u001b[34m 'n_impossible': 0,\n",
       "\u001b[0m"
      ]
     },
     "metadata": {},
     "output_type": "display_data"
    },
    {
     "data": {
      "text/html": [
       "<pre style=\"white-space:pre;overflow-x:auto;line-height:normal;font-family:Menlo,'DejaVu Sans Mono',consolas,'Courier New',monospace\"><span style=\"color: #000080; text-decoration-color: #000080\"> 'n_processed': 6,\n",
       "</span></pre>\n"
      ],
      "text/plain": [
       "\u001b[34m 'n_processed': 6,\n",
       "\u001b[0m"
      ]
     },
     "metadata": {},
     "output_type": "display_data"
    },
    {
     "data": {
      "text/html": [
       "<pre style=\"white-space:pre;overflow-x:auto;line-height:normal;font-family:Menlo,'DejaVu Sans Mono',consolas,'Courier New',monospace\"><span style=\"color: #000080; text-decoration-color: #000080\"> 'n_refine': 1,\n",
       "</span></pre>\n"
      ],
      "text/plain": [
       "\u001b[34m 'n_refine': 1,\n",
       "\u001b[0m"
      ]
     },
     "metadata": {},
     "output_type": "display_data"
    },
    {
     "data": {
      "text/html": [
       "<pre style=\"white-space:pre;overflow-x:auto;line-height:normal;font-family:Menlo,'DejaVu Sans Mono',consolas,'Courier New',monospace\"><span style=\"color: #000080; text-decoration-color: #000080\"> 'runtime_cleanup': '0.330602',\n",
       "</span></pre>\n"
      ],
      "text/plain": [
       "\u001b[34m 'runtime_cleanup': '0.330602',\n",
       "\u001b[0m"
      ]
     },
     "metadata": {},
     "output_type": "display_data"
    },
    {
     "data": {
      "text/html": [
       "<pre style=\"white-space:pre;overflow-x:auto;line-height:normal;font-family:Menlo,'DejaVu Sans Mono',consolas,'Courier New',monospace\"><span style=\"color: #000080; text-decoration-color: #000080\"> 'runtime_convergence_check': '0.293560',\n",
       "</span></pre>\n"
      ],
      "text/plain": [
       "\u001b[34m 'runtime_convergence_check': '0.293560',\n",
       "\u001b[0m"
      ]
     },
     "metadata": {},
     "output_type": "display_data"
    },
    {
     "data": {
      "text/html": [
       "<pre style=\"white-space:pre;overflow-x:auto;line-height:normal;font-family:Menlo,'DejaVu Sans Mono',consolas,'Courier New',monospace\"><span style=\"color: #000080; text-decoration-color: #000080\"> 'runtime_processing': '0.354326',\n",
       "</span></pre>\n"
      ],
      "text/plain": [
       "\u001b[34m 'runtime_processing': '0.354326',\n",
       "\u001b[0m"
      ]
     },
     "metadata": {},
     "output_type": "display_data"
    },
    {
     "data": {
      "text/html": [
       "<pre style=\"white-space:pre;overflow-x:auto;line-height:normal;font-family:Menlo,'DejaVu Sans Mono',consolas,'Courier New',monospace\"><span style=\"color: #000080; text-decoration-color: #000080\"> 'runtime_refine_deepen': '0.078113',\n",
       "</span></pre>\n"
      ],
      "text/plain": [
       "\u001b[34m 'runtime_refine_deepen': '0.078113',\n",
       "\u001b[0m"
      ]
     },
     "metadata": {},
     "output_type": "display_data"
    },
    {
     "data": {
      "text/html": [
       "<pre style=\"white-space:pre;overflow-x:auto;line-height:normal;font-family:Menlo,'DejaVu Sans Mono',consolas,'Courier New',monospace\"><span style=\"color: #000080; text-decoration-color: #000080\"> 'spread_tie': '0.005005',\n",
       "</span></pre>\n"
      ],
      "text/plain": [
       "\u001b[34m 'spread_tie': '0.005005',\n",
       "\u001b[0m"
      ]
     },
     "metadata": {},
     "output_type": "display_data"
    },
    {
     "data": {
      "text/html": [
       "<pre style=\"white-space:pre;overflow-x:auto;line-height:normal;font-family:Menlo,'DejaVu Sans Mono',consolas,'Courier New',monospace\"><span style=\"color: #000080; text-decoration-color: #000080\"> 'std_tie': '0.001272',\n",
       "</span></pre>\n"
      ],
      "text/plain": [
       "\u001b[34m 'std_tie': '0.001272',\n",
       "\u001b[0m"
      ]
     },
     "metadata": {},
     "output_type": "display_data"
    },
    {
     "data": {
      "text/html": [
       "<pre style=\"white-space:pre;overflow-x:auto;line-height:normal;font-family:Menlo,'DejaVu Sans Mono',consolas,'Courier New',monospace\"><span style=\"color: #000080; text-decoration-color: #000080\"> 'tie + slack': '0.024592',\n",
       "</span></pre>\n"
      ],
      "text/plain": [
       "\u001b[34m 'tie + slack': '0.024592',\n",
       "\u001b[0m"
      ]
     },
     "metadata": {},
     "output_type": "display_data"
    },
    {
     "data": {
      "text/html": [
       "<pre style=\"white-space:pre;overflow-x:auto;line-height:normal;font-family:Menlo,'DejaVu Sans Mono',consolas,'Courier New',monospace\"><span style=\"color: #000080; text-decoration-color: #000080\"> 'tie_{k}(lamss)': '0.022827'}\n",
       "</span></pre>\n"
      ],
      "text/plain": [
       "\u001b[34m 'tie_{k}(lamss)': '0.022827'}\n",
       "\u001b[0m"
      ]
     },
     "metadata": {},
     "output_type": "display_data"
    },
    {
     "data": {
      "text/html": [
       "<pre style=\"white-space:pre;overflow-x:auto;line-height:normal;font-family:Menlo,'DejaVu Sans Mono',consolas,'Courier New',monospace\"><span style=\"color: #000080; text-decoration-color: #000080\">{'K_distribution': {8192: 2, 16384: 1, 32768: 1, 65536: 1, 131072: 2},\n",
       "</span></pre>\n"
      ],
      "text/plain": [
       "\u001b[34m{'K_distribution': {8192: 2, 16384: 1, 32768: 1, 65536: 1, 131072: 2},\n",
       "\u001b[0m"
      ]
     },
     "metadata": {},
     "output_type": "display_data"
    },
    {
     "data": {
      "text/html": [
       "<pre style=\"white-space:pre;overflow-x:auto;line-height:normal;font-family:Menlo,'DejaVu Sans Mono',consolas,'Courier New',monospace\"><span style=\"color: #000080; text-decoration-color: #000080\"> 'bias_tie': '-0.000281',\n",
       "</span></pre>\n"
      ],
      "text/plain": [
       "\u001b[34m 'bias_tie': '-0.000281',\n",
       "\u001b[0m"
      ]
     },
     "metadata": {},
     "output_type": "display_data"
    },
    {
     "data": {
      "text/html": [
       "<pre style=\"white-space:pre;overflow-x:auto;line-height:normal;font-family:Menlo,'DejaVu Sans Mono',consolas,'Courier New',monospace\"><span style=\"color: #000080; text-decoration-color: #000080\"> 'grid_cost': 0.002045676,\n",
       "</span></pre>\n"
      ],
      "text/plain": [
       "\u001b[34m 'grid_cost': 0.002045676,\n",
       "\u001b[0m"
      ]
     },
     "metadata": {},
     "output_type": "display_data"
    },
    {
     "data": {
      "text/html": [
       "<pre style=\"white-space:pre;overflow-x:auto;line-height:normal;font-family:Menlo,'DejaVu Sans Mono',consolas,'Courier New',monospace\"><span style=\"color: #000080; text-decoration-color: #000080\"> 'i': 3,\n",
       "</span></pre>\n"
      ],
      "text/plain": [
       "\u001b[34m 'i': 3,\n",
       "\u001b[0m"
      ]
     },
     "metadata": {},
     "output_type": "display_data"
    },
    {
     "data": {
      "text/html": [
       "<pre style=\"white-space:pre;overflow-x:auto;line-height:normal;font-family:Menlo,'DejaVu Sans Mono',consolas,'Courier New',monospace\"><span style=\"color: #000080; text-decoration-color: #000080\"> 'lamss': -1.944948,\n",
       "</span></pre>\n"
      ],
      "text/plain": [
       "\u001b[34m 'lamss': -1.944948,\n",
       "\u001b[0m"
      ]
     },
     "metadata": {},
     "output_type": "display_data"
    },
    {
     "data": {
      "text/html": [
       "<pre style=\"white-space:pre;overflow-x:auto;line-height:normal;font-family:Menlo,'DejaVu Sans Mono',consolas,'Courier New',monospace\"><span style=\"color: #000080; text-decoration-color: #000080\"> 'max(B_lamss)': '-1.899986',\n",
       "</span></pre>\n"
      ],
      "text/plain": [
       "\u001b[34m 'max(B_lamss)': '-1.899986',\n",
       "\u001b[0m"
      ]
     },
     "metadata": {},
     "output_type": "display_data"
    },
    {
     "data": {
      "text/html": [
       "<pre style=\"white-space:pre;overflow-x:auto;line-height:normal;font-family:Menlo,'DejaVu Sans Mono',consolas,'Courier New',monospace\"><span style=\"color: #000080; text-decoration-color: #000080\"> 'min(B_lamss)': '-2.002424',\n",
       "</span></pre>\n"
      ],
      "text/plain": [
       "\u001b[34m 'min(B_lamss)': '-2.002424',\n",
       "\u001b[0m"
      ]
     },
     "metadata": {},
     "output_type": "display_data"
    },
    {
     "data": {
      "text/html": [
       "<pre style=\"white-space:pre;overflow-x:auto;line-height:normal;font-family:Menlo,'DejaVu Sans Mono',consolas,'Courier New',monospace\"><span style=\"color: #000080; text-decoration-color: #000080\"> 'n_complete': 0,\n",
       "</span></pre>\n"
      ],
      "text/plain": [
       "\u001b[34m 'n_complete': 0,\n",
       "\u001b[0m"
      ]
     },
     "metadata": {},
     "output_type": "display_data"
    },
    {
     "data": {
      "text/html": [
       "<pre style=\"white-space:pre;overflow-x:auto;line-height:normal;font-family:Menlo,'DejaVu Sans Mono',consolas,'Courier New',monospace\"><span style=\"color: #000080; text-decoration-color: #000080\"> 'n_deepen': 5,\n",
       "</span></pre>\n"
      ],
      "text/plain": [
       "\u001b[34m 'n_deepen': 5,\n",
       "\u001b[0m"
      ]
     },
     "metadata": {},
     "output_type": "display_data"
    },
    {
     "data": {
      "text/html": [
       "<pre style=\"white-space:pre;overflow-x:auto;line-height:normal;font-family:Menlo,'DejaVu Sans Mono',consolas,'Courier New',monospace\"><span style=\"color: #000080; text-decoration-color: #000080\"> 'n_impossible': 0,\n",
       "</span></pre>\n"
      ],
      "text/plain": [
       "\u001b[34m 'n_impossible': 0,\n",
       "\u001b[0m"
      ]
     },
     "metadata": {},
     "output_type": "display_data"
    },
    {
     "data": {
      "text/html": [
       "<pre style=\"white-space:pre;overflow-x:auto;line-height:normal;font-family:Menlo,'DejaVu Sans Mono',consolas,'Courier New',monospace\"><span style=\"color: #000080; text-decoration-color: #000080\"> 'n_processed': 7,\n",
       "</span></pre>\n"
      ],
      "text/plain": [
       "\u001b[34m 'n_processed': 7,\n",
       "\u001b[0m"
      ]
     },
     "metadata": {},
     "output_type": "display_data"
    },
    {
     "data": {
      "text/html": [
       "<pre style=\"white-space:pre;overflow-x:auto;line-height:normal;font-family:Menlo,'DejaVu Sans Mono',consolas,'Courier New',monospace\"><span style=\"color: #000080; text-decoration-color: #000080\"> 'n_refine': 1,\n",
       "</span></pre>\n"
      ],
      "text/plain": [
       "\u001b[34m 'n_refine': 1,\n",
       "\u001b[0m"
      ]
     },
     "metadata": {},
     "output_type": "display_data"
    },
    {
     "data": {
      "text/html": [
       "<pre style=\"white-space:pre;overflow-x:auto;line-height:normal;font-family:Menlo,'DejaVu Sans Mono',consolas,'Courier New',monospace\"><span style=\"color: #000080; text-decoration-color: #000080\"> 'runtime_cleanup': '0.414568',\n",
       "</span></pre>\n"
      ],
      "text/plain": [
       "\u001b[34m 'runtime_cleanup': '0.414568',\n",
       "\u001b[0m"
      ]
     },
     "metadata": {},
     "output_type": "display_data"
    },
    {
     "data": {
      "text/html": [
       "<pre style=\"white-space:pre;overflow-x:auto;line-height:normal;font-family:Menlo,'DejaVu Sans Mono',consolas,'Courier New',monospace\"><span style=\"color: #000080; text-decoration-color: #000080\"> 'runtime_convergence_check': '0.514677',\n",
       "</span></pre>\n"
      ],
      "text/plain": [
       "\u001b[34m 'runtime_convergence_check': '0.514677',\n",
       "\u001b[0m"
      ]
     },
     "metadata": {},
     "output_type": "display_data"
    },
    {
     "data": {
      "text/html": [
       "<pre style=\"white-space:pre;overflow-x:auto;line-height:normal;font-family:Menlo,'DejaVu Sans Mono',consolas,'Courier New',monospace\"><span style=\"color: #000080; text-decoration-color: #000080\"> 'runtime_processing': '0.366389',\n",
       "</span></pre>\n"
      ],
      "text/plain": [
       "\u001b[34m 'runtime_processing': '0.366389',\n",
       "\u001b[0m"
      ]
     },
     "metadata": {},
     "output_type": "display_data"
    },
    {
     "data": {
      "text/html": [
       "<pre style=\"white-space:pre;overflow-x:auto;line-height:normal;font-family:Menlo,'DejaVu Sans Mono',consolas,'Courier New',monospace\"><span style=\"color: #000080; text-decoration-color: #000080\"> 'runtime_refine_deepen': '0.082994',\n",
       "</span></pre>\n"
      ],
      "text/plain": [
       "\u001b[34m 'runtime_refine_deepen': '0.082994',\n",
       "\u001b[0m"
      ]
     },
     "metadata": {},
     "output_type": "display_data"
    },
    {
     "data": {
      "text/html": [
       "<pre style=\"white-space:pre;overflow-x:auto;line-height:normal;font-family:Menlo,'DejaVu Sans Mono',consolas,'Courier New',monospace\"><span style=\"color: #000080; text-decoration-color: #000080\"> 'spread_tie': '0.005005',\n",
       "</span></pre>\n"
      ],
      "text/plain": [
       "\u001b[34m 'spread_tie': '0.005005',\n",
       "\u001b[0m"
      ]
     },
     "metadata": {},
     "output_type": "display_data"
    },
    {
     "data": {
      "text/html": [
       "<pre style=\"white-space:pre;overflow-x:auto;line-height:normal;font-family:Menlo,'DejaVu Sans Mono',consolas,'Courier New',monospace\"><span style=\"color: #000080; text-decoration-color: #000080\"> 'std_tie': '0.001272',\n",
       "</span></pre>\n"
      ],
      "text/plain": [
       "\u001b[34m 'std_tie': '0.001272',\n",
       "\u001b[0m"
      ]
     },
     "metadata": {},
     "output_type": "display_data"
    },
    {
     "data": {
      "text/html": [
       "<pre style=\"white-space:pre;overflow-x:auto;line-height:normal;font-family:Menlo,'DejaVu Sans Mono',consolas,'Courier New',monospace\"><span style=\"color: #000080; text-decoration-color: #000080\"> 'tie + slack': '0.024592',\n",
       "</span></pre>\n"
      ],
      "text/plain": [
       "\u001b[34m 'tie + slack': '0.024592',\n",
       "\u001b[0m"
      ]
     },
     "metadata": {},
     "output_type": "display_data"
    },
    {
     "data": {
      "text/html": [
       "<pre style=\"white-space:pre;overflow-x:auto;line-height:normal;font-family:Menlo,'DejaVu Sans Mono',consolas,'Courier New',monospace\"><span style=\"color: #000080; text-decoration-color: #000080\"> 'tie_{k}(lamss)': '0.022827'}\n",
       "</span></pre>\n"
      ],
      "text/plain": [
       "\u001b[34m 'tie_{k}(lamss)': '0.022827'}\n",
       "\u001b[0m"
      ]
     },
     "metadata": {},
     "output_type": "display_data"
    },
    {
     "data": {
      "text/html": [
       "<pre style=\"white-space:pre;overflow-x:auto;line-height:normal;font-family:Menlo,'DejaVu Sans Mono',consolas,'Courier New',monospace\"><span style=\"color: #000080; text-decoration-color: #000080\">{'K_distribution': {8192: 2, 16384: 1, 32768: 1, 65536: 1, 131072: 4},\n",
       "</span></pre>\n"
      ],
      "text/plain": [
       "\u001b[34m{'K_distribution': {8192: 2, 16384: 1, 32768: 1, 65536: 1, 131072: 4},\n",
       "\u001b[0m"
      ]
     },
     "metadata": {},
     "output_type": "display_data"
    },
    {
     "data": {
      "text/html": [
       "<pre style=\"white-space:pre;overflow-x:auto;line-height:normal;font-family:Menlo,'DejaVu Sans Mono',consolas,'Courier New',monospace\"><span style=\"color: #000080; text-decoration-color: #000080\"> 'bias_tie': '-0.000342',\n",
       "</span></pre>\n"
      ],
      "text/plain": [
       "\u001b[34m 'bias_tie': '-0.000342',\n",
       "\u001b[0m"
      ]
     },
     "metadata": {},
     "output_type": "display_data"
    },
    {
     "data": {
      "text/html": [
       "<pre style=\"white-space:pre;overflow-x:auto;line-height:normal;font-family:Menlo,'DejaVu Sans Mono',consolas,'Courier New',monospace\"><span style=\"color: #000080; text-decoration-color: #000080\"> 'grid_cost': 0.0010417458,\n",
       "</span></pre>\n"
      ],
      "text/plain": [
       "\u001b[34m 'grid_cost': 0.0010417458,\n",
       "\u001b[0m"
      ]
     },
     "metadata": {},
     "output_type": "display_data"
    },
    {
     "data": {
      "text/html": [
       "<pre style=\"white-space:pre;overflow-x:auto;line-height:normal;font-family:Menlo,'DejaVu Sans Mono',consolas,'Courier New',monospace\"><span style=\"color: #000080; text-decoration-color: #000080\"> 'i': 4,\n",
       "</span></pre>\n"
      ],
      "text/plain": [
       "\u001b[34m 'i': 4,\n",
       "\u001b[0m"
      ]
     },
     "metadata": {},
     "output_type": "display_data"
    },
    {
     "data": {
      "text/html": [
       "<pre style=\"white-space:pre;overflow-x:auto;line-height:normal;font-family:Menlo,'DejaVu Sans Mono',consolas,'Courier New',monospace\"><span style=\"color: #000080; text-decoration-color: #000080\"> 'lamss': -1.9499098,\n",
       "</span></pre>\n"
      ],
      "text/plain": [
       "\u001b[34m 'lamss': -1.9499098,\n",
       "\u001b[0m"
      ]
     },
     "metadata": {},
     "output_type": "display_data"
    },
    {
     "data": {
      "text/html": [
       "<pre style=\"white-space:pre;overflow-x:auto;line-height:normal;font-family:Menlo,'DejaVu Sans Mono',consolas,'Courier New',monospace\"><span style=\"color: #000080; text-decoration-color: #000080\"> 'max(B_lamss)': '-1.891494',\n",
       "</span></pre>\n"
      ],
      "text/plain": [
       "\u001b[34m 'max(B_lamss)': '-1.891494',\n",
       "\u001b[0m"
      ]
     },
     "metadata": {},
     "output_type": "display_data"
    },
    {
     "data": {
      "text/html": [
       "<pre style=\"white-space:pre;overflow-x:auto;line-height:normal;font-family:Menlo,'DejaVu Sans Mono',consolas,'Courier New',monospace\"><span style=\"color: #000080; text-decoration-color: #000080\"> 'min(B_lamss)': '-2.002685',\n",
       "</span></pre>\n"
      ],
      "text/plain": [
       "\u001b[34m 'min(B_lamss)': '-2.002685',\n",
       "\u001b[0m"
      ]
     },
     "metadata": {},
     "output_type": "display_data"
    },
    {
     "data": {
      "text/html": [
       "<pre style=\"white-space:pre;overflow-x:auto;line-height:normal;font-family:Menlo,'DejaVu Sans Mono',consolas,'Courier New',monospace\"><span style=\"color: #000080; text-decoration-color: #000080\"> 'n_complete': 0,\n",
       "</span></pre>\n"
      ],
      "text/plain": [
       "\u001b[34m 'n_complete': 0,\n",
       "\u001b[0m"
      ]
     },
     "metadata": {},
     "output_type": "display_data"
    },
    {
     "data": {
      "text/html": [
       "<pre style=\"white-space:pre;overflow-x:auto;line-height:normal;font-family:Menlo,'DejaVu Sans Mono',consolas,'Courier New',monospace\"><span style=\"color: #000080; text-decoration-color: #000080\"> 'n_deepen': 5,\n",
       "</span></pre>\n"
      ],
      "text/plain": [
       "\u001b[34m 'n_deepen': 5,\n",
       "\u001b[0m"
      ]
     },
     "metadata": {},
     "output_type": "display_data"
    },
    {
     "data": {
      "text/html": [
       "<pre style=\"white-space:pre;overflow-x:auto;line-height:normal;font-family:Menlo,'DejaVu Sans Mono',consolas,'Courier New',monospace\"><span style=\"color: #000080; text-decoration-color: #000080\"> 'n_impossible': 0,\n",
       "</span></pre>\n"
      ],
      "text/plain": [
       "\u001b[34m 'n_impossible': 0,\n",
       "\u001b[0m"
      ]
     },
     "metadata": {},
     "output_type": "display_data"
    },
    {
     "data": {
      "text/html": [
       "<pre style=\"white-space:pre;overflow-x:auto;line-height:normal;font-family:Menlo,'DejaVu Sans Mono',consolas,'Courier New',monospace\"><span style=\"color: #000080; text-decoration-color: #000080\"> 'n_processed': 9,\n",
       "</span></pre>\n"
      ],
      "text/plain": [
       "\u001b[34m 'n_processed': 9,\n",
       "\u001b[0m"
      ]
     },
     "metadata": {},
     "output_type": "display_data"
    },
    {
     "data": {
      "text/html": [
       "<pre style=\"white-space:pre;overflow-x:auto;line-height:normal;font-family:Menlo,'DejaVu Sans Mono',consolas,'Courier New',monospace\"><span style=\"color: #000080; text-decoration-color: #000080\"> 'n_refine': 2,\n",
       "</span></pre>\n"
      ],
      "text/plain": [
       "\u001b[34m 'n_refine': 2,\n",
       "\u001b[0m"
      ]
     },
     "metadata": {},
     "output_type": "display_data"
    },
    {
     "data": {
      "text/html": [
       "<pre style=\"white-space:pre;overflow-x:auto;line-height:normal;font-family:Menlo,'DejaVu Sans Mono',consolas,'Courier New',monospace\"><span style=\"color: #000080; text-decoration-color: #000080\"> 'runtime_cleanup': '0.467935',\n",
       "</span></pre>\n"
      ],
      "text/plain": [
       "\u001b[34m 'runtime_cleanup': '0.467935',\n",
       "\u001b[0m"
      ]
     },
     "metadata": {},
     "output_type": "display_data"
    },
    {
     "data": {
      "text/html": [
       "<pre style=\"white-space:pre;overflow-x:auto;line-height:normal;font-family:Menlo,'DejaVu Sans Mono',consolas,'Courier New',monospace\"><span style=\"color: #000080; text-decoration-color: #000080\"> 'runtime_convergence_check': '0.420153',\n",
       "</span></pre>\n"
      ],
      "text/plain": [
       "\u001b[34m 'runtime_convergence_check': '0.420153',\n",
       "\u001b[0m"
      ]
     },
     "metadata": {},
     "output_type": "display_data"
    },
    {
     "data": {
      "text/html": [
       "<pre style=\"white-space:pre;overflow-x:auto;line-height:normal;font-family:Menlo,'DejaVu Sans Mono',consolas,'Courier New',monospace\"><span style=\"color: #000080; text-decoration-color: #000080\"> 'runtime_processing': '0.345642',\n",
       "</span></pre>\n"
      ],
      "text/plain": [
       "\u001b[34m 'runtime_processing': '0.345642',\n",
       "\u001b[0m"
      ]
     },
     "metadata": {},
     "output_type": "display_data"
    },
    {
     "data": {
      "text/html": [
       "<pre style=\"white-space:pre;overflow-x:auto;line-height:normal;font-family:Menlo,'DejaVu Sans Mono',consolas,'Courier New',monospace\"><span style=\"color: #000080; text-decoration-color: #000080\"> 'runtime_refine_deepen': '0.110670',\n",
       "</span></pre>\n"
      ],
      "text/plain": [
       "\u001b[34m 'runtime_refine_deepen': '0.110670',\n",
       "\u001b[0m"
      ]
     },
     "metadata": {},
     "output_type": "display_data"
    },
    {
     "data": {
      "text/html": [
       "<pre style=\"white-space:pre;overflow-x:auto;line-height:normal;font-family:Menlo,'DejaVu Sans Mono',consolas,'Courier New',monospace\"><span style=\"color: #000080; text-decoration-color: #000080\"> 'spread_tie': '0.005371',\n",
       "</span></pre>\n"
      ],
      "text/plain": [
       "\u001b[34m 'spread_tie': '0.005371',\n",
       "\u001b[0m"
      ]
     },
     "metadata": {},
     "output_type": "display_data"
    },
    {
     "data": {
      "text/html": [
       "<pre style=\"white-space:pre;overflow-x:auto;line-height:normal;font-family:Menlo,'DejaVu Sans Mono',consolas,'Courier New',monospace\"><span style=\"color: #000080; text-decoration-color: #000080\"> 'std_tie': '0.001321',\n",
       "</span></pre>\n"
      ],
      "text/plain": [
       "\u001b[34m 'std_tie': '0.001321',\n",
       "\u001b[0m"
      ]
     },
     "metadata": {},
     "output_type": "display_data"
    },
    {
     "data": {
      "text/html": [
       "<pre style=\"white-space:pre;overflow-x:auto;line-height:normal;font-family:Menlo,'DejaVu Sans Mono',consolas,'Courier New',monospace\"><span style=\"color: #000080; text-decoration-color: #000080\"> 'tie + slack': '0.024504',\n",
       "</span></pre>\n"
      ],
      "text/plain": [
       "\u001b[34m 'tie + slack': '0.024504',\n",
       "\u001b[0m"
      ]
     },
     "metadata": {},
     "output_type": "display_data"
    },
    {
     "data": {
      "text/html": [
       "<pre style=\"white-space:pre;overflow-x:auto;line-height:normal;font-family:Menlo,'DejaVu Sans Mono',consolas,'Courier New',monospace\"><span style=\"color: #000080; text-decoration-color: #000080\"> 'tie_{k}(lamss)': '0.023804'}\n",
       "</span></pre>\n"
      ],
      "text/plain": [
       "\u001b[34m 'tie_{k}(lamss)': '0.023804'}\n",
       "\u001b[0m"
      ]
     },
     "metadata": {},
     "output_type": "display_data"
    },
    {
     "data": {
      "text/html": [
       "<pre style=\"white-space:pre;overflow-x:auto;line-height:normal;font-family:Menlo,'DejaVu Sans Mono',consolas,'Courier New',monospace\"><span style=\"color: #000080; text-decoration-color: #000080\">{'K_distribution': {131072: 4},\n",
       "</span></pre>\n"
      ],
      "text/plain": [
       "\u001b[34m{'K_distribution': {131072: 4},\n",
       "\u001b[0m"
      ]
     },
     "metadata": {},
     "output_type": "display_data"
    },
    {
     "data": {
      "text/html": [
       "<pre style=\"white-space:pre;overflow-x:auto;line-height:normal;font-family:Menlo,'DejaVu Sans Mono',consolas,'Courier New',monospace\"><span style=\"color: #000080; text-decoration-color: #000080\"> 'bias_tie': '-0.000342',\n",
       "</span></pre>\n"
      ],
      "text/plain": [
       "\u001b[34m 'bias_tie': '-0.000342',\n",
       "\u001b[0m"
      ]
     },
     "metadata": {},
     "output_type": "display_data"
    },
    {
     "data": {
      "text/html": [
       "<pre style=\"white-space:pre;overflow-x:auto;line-height:normal;font-family:Menlo,'DejaVu Sans Mono',consolas,'Courier New',monospace\"><span style=\"color: #000080; text-decoration-color: #000080\"> 'grid_cost': 0.0010417458,\n",
       "</span></pre>\n"
      ],
      "text/plain": [
       "\u001b[34m 'grid_cost': 0.0010417458,\n",
       "\u001b[0m"
      ]
     },
     "metadata": {},
     "output_type": "display_data"
    },
    {
     "data": {
      "text/html": [
       "<pre style=\"white-space:pre;overflow-x:auto;line-height:normal;font-family:Menlo,'DejaVu Sans Mono',consolas,'Courier New',monospace\"><span style=\"color: #000080; text-decoration-color: #000080\"> 'i': 4,\n",
       "</span></pre>\n"
      ],
      "text/plain": [
       "\u001b[34m 'i': 4,\n",
       "\u001b[0m"
      ]
     },
     "metadata": {},
     "output_type": "display_data"
    },
    {
     "data": {
      "text/html": [
       "<pre style=\"white-space:pre;overflow-x:auto;line-height:normal;font-family:Menlo,'DejaVu Sans Mono',consolas,'Courier New',monospace\"><span style=\"color: #000080; text-decoration-color: #000080\"> 'lamss': -1.9499098,\n",
       "</span></pre>\n"
      ],
      "text/plain": [
       "\u001b[34m 'lamss': -1.9499098,\n",
       "\u001b[0m"
      ]
     },
     "metadata": {},
     "output_type": "display_data"
    },
    {
     "data": {
      "text/html": [
       "<pre style=\"white-space:pre;overflow-x:auto;line-height:normal;font-family:Menlo,'DejaVu Sans Mono',consolas,'Courier New',monospace\"><span style=\"color: #000080; text-decoration-color: #000080\"> 'max(B_lamss)': '-1.891494',\n",
       "</span></pre>\n"
      ],
      "text/plain": [
       "\u001b[34m 'max(B_lamss)': '-1.891494',\n",
       "\u001b[0m"
      ]
     },
     "metadata": {},
     "output_type": "display_data"
    },
    {
     "data": {
      "text/html": [
       "<pre style=\"white-space:pre;overflow-x:auto;line-height:normal;font-family:Menlo,'DejaVu Sans Mono',consolas,'Courier New',monospace\"><span style=\"color: #000080; text-decoration-color: #000080\"> 'min(B_lamss)': '-2.002685',\n",
       "</span></pre>\n"
      ],
      "text/plain": [
       "\u001b[34m 'min(B_lamss)': '-2.002685',\n",
       "\u001b[0m"
      ]
     },
     "metadata": {},
     "output_type": "display_data"
    },
    {
     "data": {
      "text/html": [
       "<pre style=\"white-space:pre;overflow-x:auto;line-height:normal;font-family:Menlo,'DejaVu Sans Mono',consolas,'Courier New',monospace\"><span style=\"color: #000080; text-decoration-color: #000080\"> 'n_complete': 0,\n",
       "</span></pre>\n"
      ],
      "text/plain": [
       "\u001b[34m 'n_complete': 0,\n",
       "\u001b[0m"
      ]
     },
     "metadata": {},
     "output_type": "display_data"
    },
    {
     "data": {
      "text/html": [
       "<pre style=\"white-space:pre;overflow-x:auto;line-height:normal;font-family:Menlo,'DejaVu Sans Mono',consolas,'Courier New',monospace\"><span style=\"color: #000080; text-decoration-color: #000080\"> 'n_deepen': 0,\n",
       "</span></pre>\n"
      ],
      "text/plain": [
       "\u001b[34m 'n_deepen': 0,\n",
       "\u001b[0m"
      ]
     },
     "metadata": {},
     "output_type": "display_data"
    },
    {
     "data": {
      "text/html": [
       "<pre style=\"white-space:pre;overflow-x:auto;line-height:normal;font-family:Menlo,'DejaVu Sans Mono',consolas,'Courier New',monospace\"><span style=\"color: #000080; text-decoration-color: #000080\"> 'n_impossible': 0,\n",
       "</span></pre>\n"
      ],
      "text/plain": [
       "\u001b[34m 'n_impossible': 0,\n",
       "\u001b[0m"
      ]
     },
     "metadata": {},
     "output_type": "display_data"
    },
    {
     "data": {
      "text/html": [
       "<pre style=\"white-space:pre;overflow-x:auto;line-height:normal;font-family:Menlo,'DejaVu Sans Mono',consolas,'Courier New',monospace\"><span style=\"color: #000080; text-decoration-color: #000080\"> 'n_processed': 4,\n",
       "</span></pre>\n"
      ],
      "text/plain": [
       "\u001b[34m 'n_processed': 4,\n",
       "\u001b[0m"
      ]
     },
     "metadata": {},
     "output_type": "display_data"
    },
    {
     "data": {
      "text/html": [
       "<pre style=\"white-space:pre;overflow-x:auto;line-height:normal;font-family:Menlo,'DejaVu Sans Mono',consolas,'Courier New',monospace\"><span style=\"color: #000080; text-decoration-color: #000080\"> 'n_refine': 2,\n",
       "</span></pre>\n"
      ],
      "text/plain": [
       "\u001b[34m 'n_refine': 2,\n",
       "\u001b[0m"
      ]
     },
     "metadata": {},
     "output_type": "display_data"
    },
    {
     "data": {
      "text/html": [
       "<pre style=\"white-space:pre;overflow-x:auto;line-height:normal;font-family:Menlo,'DejaVu Sans Mono',consolas,'Courier New',monospace\"><span style=\"color: #000080; text-decoration-color: #000080\"> 'runtime_cleanup': '0.332273',\n",
       "</span></pre>\n"
      ],
      "text/plain": [
       "\u001b[34m 'runtime_cleanup': '0.332273',\n",
       "\u001b[0m"
      ]
     },
     "metadata": {},
     "output_type": "display_data"
    },
    {
     "data": {
      "text/html": [
       "<pre style=\"white-space:pre;overflow-x:auto;line-height:normal;font-family:Menlo,'DejaVu Sans Mono',consolas,'Courier New',monospace\"><span style=\"color: #000080; text-decoration-color: #000080\"> 'runtime_convergence_check': '0.495323',\n",
       "</span></pre>\n"
      ],
      "text/plain": [
       "\u001b[34m 'runtime_convergence_check': '0.495323',\n",
       "\u001b[0m"
      ]
     },
     "metadata": {},
     "output_type": "display_data"
    },
    {
     "data": {
      "text/html": [
       "<pre style=\"white-space:pre;overflow-x:auto;line-height:normal;font-family:Menlo,'DejaVu Sans Mono',consolas,'Courier New',monospace\"><span style=\"color: #000080; text-decoration-color: #000080\"> 'runtime_processing': '0.218602',\n",
       "</span></pre>\n"
      ],
      "text/plain": [
       "\u001b[34m 'runtime_processing': '0.218602',\n",
       "\u001b[0m"
      ]
     },
     "metadata": {},
     "output_type": "display_data"
    },
    {
     "data": {
      "text/html": [
       "<pre style=\"white-space:pre;overflow-x:auto;line-height:normal;font-family:Menlo,'DejaVu Sans Mono',consolas,'Courier New',monospace\"><span style=\"color: #000080; text-decoration-color: #000080\"> 'runtime_refine_deepen': '0.094131',\n",
       "</span></pre>\n"
      ],
      "text/plain": [
       "\u001b[34m 'runtime_refine_deepen': '0.094131',\n",
       "\u001b[0m"
      ]
     },
     "metadata": {},
     "output_type": "display_data"
    },
    {
     "data": {
      "text/html": [
       "<pre style=\"white-space:pre;overflow-x:auto;line-height:normal;font-family:Menlo,'DejaVu Sans Mono',consolas,'Courier New',monospace\"><span style=\"color: #000080; text-decoration-color: #000080\"> 'spread_tie': '0.005371',\n",
       "</span></pre>\n"
      ],
      "text/plain": [
       "\u001b[34m 'spread_tie': '0.005371',\n",
       "\u001b[0m"
      ]
     },
     "metadata": {},
     "output_type": "display_data"
    },
    {
     "data": {
      "text/html": [
       "<pre style=\"white-space:pre;overflow-x:auto;line-height:normal;font-family:Menlo,'DejaVu Sans Mono',consolas,'Courier New',monospace\"><span style=\"color: #000080; text-decoration-color: #000080\"> 'std_tie': '0.001321',\n",
       "</span></pre>\n"
      ],
      "text/plain": [
       "\u001b[34m 'std_tie': '0.001321',\n",
       "\u001b[0m"
      ]
     },
     "metadata": {},
     "output_type": "display_data"
    },
    {
     "data": {
      "text/html": [
       "<pre style=\"white-space:pre;overflow-x:auto;line-height:normal;font-family:Menlo,'DejaVu Sans Mono',consolas,'Courier New',monospace\"><span style=\"color: #000080; text-decoration-color: #000080\"> 'tie + slack': '0.024504',\n",
       "</span></pre>\n"
      ],
      "text/plain": [
       "\u001b[34m 'tie + slack': '0.024504',\n",
       "\u001b[0m"
      ]
     },
     "metadata": {},
     "output_type": "display_data"
    },
    {
     "data": {
      "text/html": [
       "<pre style=\"white-space:pre;overflow-x:auto;line-height:normal;font-family:Menlo,'DejaVu Sans Mono',consolas,'Courier New',monospace\"><span style=\"color: #000080; text-decoration-color: #000080\"> 'tie_{k}(lamss)': '0.023804'}\n",
       "</span></pre>\n"
      ],
      "text/plain": [
       "\u001b[34m 'tie_{k}(lamss)': '0.023804'}\n",
       "\u001b[0m"
      ]
     },
     "metadata": {},
     "output_type": "display_data"
    },
    {
     "data": {
      "text/html": [
       "<pre style=\"white-space:pre;overflow-x:auto;line-height:normal;font-family:Menlo,'DejaVu Sans Mono',consolas,'Courier New',monospace\"><span style=\"color: #000080; text-decoration-color: #000080\">{'K_distribution': {16384: 2, 32768: 1, 65536: 1, 131072: 7},\n",
       "</span></pre>\n"
      ],
      "text/plain": [
       "\u001b[34m{'K_distribution': {16384: 2, 32768: 1, 65536: 1, 131072: 7},\n",
       "\u001b[0m"
      ]
     },
     "metadata": {},
     "output_type": "display_data"
    },
    {
     "data": {
      "text/html": [
       "<pre style=\"white-space:pre;overflow-x:auto;line-height:normal;font-family:Menlo,'DejaVu Sans Mono',consolas,'Courier New',monospace\"><span style=\"color: #000080; text-decoration-color: #000080\"> 'bias_tie': '-0.000027',\n",
       "</span></pre>\n"
      ],
      "text/plain": [
       "\u001b[34m 'bias_tie': '-0.000027',\n",
       "\u001b[0m"
      ]
     },
     "metadata": {},
     "output_type": "display_data"
    },
    {
     "data": {
      "text/html": [
       "<pre style=\"white-space:pre;overflow-x:auto;line-height:normal;font-family:Menlo,'DejaVu Sans Mono',consolas,'Courier New',monospace\"><span style=\"color: #000080; text-decoration-color: #000080\"> 'grid_cost': 0.0005256701,\n",
       "</span></pre>\n"
      ],
      "text/plain": [
       "\u001b[34m 'grid_cost': 0.0005256701,\n",
       "\u001b[0m"
      ]
     },
     "metadata": {},
     "output_type": "display_data"
    },
    {
     "data": {
      "text/html": [
       "<pre style=\"white-space:pre;overflow-x:auto;line-height:normal;font-family:Menlo,'DejaVu Sans Mono',consolas,'Courier New',monospace\"><span style=\"color: #000080; text-decoration-color: #000080\"> 'i': 5,\n",
       "</span></pre>\n"
      ],
      "text/plain": [
       "\u001b[34m 'i': 5,\n",
       "\u001b[0m"
      ]
     },
     "metadata": {},
     "output_type": "display_data"
    },
    {
     "data": {
      "text/html": [
       "<pre style=\"white-space:pre;overflow-x:auto;line-height:normal;font-family:Menlo,'DejaVu Sans Mono',consolas,'Courier New',monospace\"><span style=\"color: #000080; text-decoration-color: #000080\"> 'lamss': -1.9523972,\n",
       "</span></pre>\n"
      ],
      "text/plain": [
       "\u001b[34m 'lamss': -1.9523972,\n",
       "\u001b[0m"
      ]
     },
     "metadata": {},
     "output_type": "display_data"
    },
    {
     "data": {
      "text/html": [
       "<pre style=\"white-space:pre;overflow-x:auto;line-height:normal;font-family:Menlo,'DejaVu Sans Mono',consolas,'Courier New',monospace\"><span style=\"color: #000080; text-decoration-color: #000080\"> 'max(B_lamss)': '-1.890788',\n",
       "</span></pre>\n"
      ],
      "text/plain": [
       "\u001b[34m 'max(B_lamss)': '-1.890788',\n",
       "\u001b[0m"
      ]
     },
     "metadata": {},
     "output_type": "display_data"
    },
    {
     "data": {
      "text/html": [
       "<pre style=\"white-space:pre;overflow-x:auto;line-height:normal;font-family:Menlo,'DejaVu Sans Mono',consolas,'Courier New',monospace\"><span style=\"color: #000080; text-decoration-color: #000080\"> 'min(B_lamss)': '-2.005622',\n",
       "</span></pre>\n"
      ],
      "text/plain": [
       "\u001b[34m 'min(B_lamss)': '-2.005622',\n",
       "\u001b[0m"
      ]
     },
     "metadata": {},
     "output_type": "display_data"
    },
    {
     "data": {
      "text/html": [
       "<pre style=\"white-space:pre;overflow-x:auto;line-height:normal;font-family:Menlo,'DejaVu Sans Mono',consolas,'Courier New',monospace\"><span style=\"color: #000080; text-decoration-color: #000080\"> 'n_complete': 0,\n",
       "</span></pre>\n"
      ],
      "text/plain": [
       "\u001b[34m 'n_complete': 0,\n",
       "\u001b[0m"
      ]
     },
     "metadata": {},
     "output_type": "display_data"
    },
    {
     "data": {
      "text/html": [
       "<pre style=\"white-space:pre;overflow-x:auto;line-height:normal;font-family:Menlo,'DejaVu Sans Mono',consolas,'Courier New',monospace\"><span style=\"color: #000080; text-decoration-color: #000080\"> 'n_deepen': 5,\n",
       "</span></pre>\n"
      ],
      "text/plain": [
       "\u001b[34m 'n_deepen': 5,\n",
       "\u001b[0m"
      ]
     },
     "metadata": {},
     "output_type": "display_data"
    },
    {
     "data": {
      "text/html": [
       "<pre style=\"white-space:pre;overflow-x:auto;line-height:normal;font-family:Menlo,'DejaVu Sans Mono',consolas,'Courier New',monospace\"><span style=\"color: #000080; text-decoration-color: #000080\"> 'n_impossible': 0,\n",
       "</span></pre>\n"
      ],
      "text/plain": [
       "\u001b[34m 'n_impossible': 0,\n",
       "\u001b[0m"
      ]
     },
     "metadata": {},
     "output_type": "display_data"
    },
    {
     "data": {
      "text/html": [
       "<pre style=\"white-space:pre;overflow-x:auto;line-height:normal;font-family:Menlo,'DejaVu Sans Mono',consolas,'Courier New',monospace\"><span style=\"color: #000080; text-decoration-color: #000080\"> 'n_processed': 11,\n",
       "</span></pre>\n"
      ],
      "text/plain": [
       "\u001b[34m 'n_processed': 11,\n",
       "\u001b[0m"
      ]
     },
     "metadata": {},
     "output_type": "display_data"
    },
    {
     "data": {
      "text/html": [
       "<pre style=\"white-space:pre;overflow-x:auto;line-height:normal;font-family:Menlo,'DejaVu Sans Mono',consolas,'Courier New',monospace\"><span style=\"color: #000080; text-decoration-color: #000080\"> 'n_refine': 3,\n",
       "</span></pre>\n"
      ],
      "text/plain": [
       "\u001b[34m 'n_refine': 3,\n",
       "\u001b[0m"
      ]
     },
     "metadata": {},
     "output_type": "display_data"
    },
    {
     "data": {
      "text/html": [
       "<pre style=\"white-space:pre;overflow-x:auto;line-height:normal;font-family:Menlo,'DejaVu Sans Mono',consolas,'Courier New',monospace\"><span style=\"color: #000080; text-decoration-color: #000080\"> 'runtime_cleanup': '0.381252',\n",
       "</span></pre>\n"
      ],
      "text/plain": [
       "\u001b[34m 'runtime_cleanup': '0.381252',\n",
       "\u001b[0m"
      ]
     },
     "metadata": {},
     "output_type": "display_data"
    },
    {
     "data": {
      "text/html": [
       "<pre style=\"white-space:pre;overflow-x:auto;line-height:normal;font-family:Menlo,'DejaVu Sans Mono',consolas,'Courier New',monospace\"><span style=\"color: #000080; text-decoration-color: #000080\"> 'runtime_convergence_check': '0.605595',\n",
       "</span></pre>\n"
      ],
      "text/plain": [
       "\u001b[34m 'runtime_convergence_check': '0.605595',\n",
       "\u001b[0m"
      ]
     },
     "metadata": {},
     "output_type": "display_data"
    },
    {
     "data": {
      "text/html": [
       "<pre style=\"white-space:pre;overflow-x:auto;line-height:normal;font-family:Menlo,'DejaVu Sans Mono',consolas,'Courier New',monospace\"><span style=\"color: #000080; text-decoration-color: #000080\"> 'runtime_processing': '0.512577',\n",
       "</span></pre>\n"
      ],
      "text/plain": [
       "\u001b[34m 'runtime_processing': '0.512577',\n",
       "\u001b[0m"
      ]
     },
     "metadata": {},
     "output_type": "display_data"
    },
    {
     "data": {
      "text/html": [
       "<pre style=\"white-space:pre;overflow-x:auto;line-height:normal;font-family:Menlo,'DejaVu Sans Mono',consolas,'Courier New',monospace\"><span style=\"color: #000080; text-decoration-color: #000080\"> 'runtime_refine_deepen': '0.088292',\n",
       "</span></pre>\n"
      ],
      "text/plain": [
       "\u001b[34m 'runtime_refine_deepen': '0.088292',\n",
       "\u001b[0m"
      ]
     },
     "metadata": {},
     "output_type": "display_data"
    },
    {
     "data": {
      "text/html": [
       "<pre style=\"white-space:pre;overflow-x:auto;line-height:normal;font-family:Menlo,'DejaVu Sans Mono',consolas,'Courier New',monospace\"><span style=\"color: #000080; text-decoration-color: #000080\"> 'spread_tie': '0.005737',\n",
       "</span></pre>\n"
      ],
      "text/plain": [
       "\u001b[34m 'spread_tie': '0.005737',\n",
       "\u001b[0m"
      ]
     },
     "metadata": {},
     "output_type": "display_data"
    },
    {
     "data": {
      "text/html": [
       "<pre style=\"white-space:pre;overflow-x:auto;line-height:normal;font-family:Menlo,'DejaVu Sans Mono',consolas,'Courier New',monospace\"><span style=\"color: #000080; text-decoration-color: #000080\"> 'std_tie': '0.001204',\n",
       "</span></pre>\n"
      ],
      "text/plain": [
       "\u001b[34m 'std_tie': '0.001204',\n",
       "\u001b[0m"
      ]
     },
     "metadata": {},
     "output_type": "display_data"
    },
    {
     "data": {
      "text/html": [
       "<pre style=\"white-space:pre;overflow-x:auto;line-height:normal;font-family:Menlo,'DejaVu Sans Mono',consolas,'Courier New',monospace\"><span style=\"color: #000080; text-decoration-color: #000080\"> 'tie + slack': '0.024791',\n",
       "</span></pre>\n"
      ],
      "text/plain": [
       "\u001b[34m 'tie + slack': '0.024791',\n",
       "\u001b[0m"
      ]
     },
     "metadata": {},
     "output_type": "display_data"
    },
    {
     "data": {
      "text/html": [
       "<pre style=\"white-space:pre;overflow-x:auto;line-height:normal;font-family:Menlo,'DejaVu Sans Mono',consolas,'Courier New',monospace\"><span style=\"color: #000080; text-decoration-color: #000080\"> 'tie_{k}(lamss)': '0.024292'}\n",
       "</span></pre>\n"
      ],
      "text/plain": [
       "\u001b[34m 'tie_{k}(lamss)': '0.024292'}\n",
       "\u001b[0m"
      ]
     },
     "metadata": {},
     "output_type": "display_data"
    },
    {
     "data": {
      "text/html": [
       "<pre style=\"white-space:pre;overflow-x:auto;line-height:normal;font-family:Menlo,'DejaVu Sans Mono',consolas,'Courier New',monospace\"><span style=\"color: #000080; text-decoration-color: #000080\">{'K_distribution': {16384: 2, 32768: 1, 65536: 1, 131072: 7},\n",
       "</span></pre>\n"
      ],
      "text/plain": [
       "\u001b[34m{'K_distribution': {16384: 2, 32768: 1, 65536: 1, 131072: 7},\n",
       "\u001b[0m"
      ]
     },
     "metadata": {},
     "output_type": "display_data"
    },
    {
     "data": {
      "text/html": [
       "<pre style=\"white-space:pre;overflow-x:auto;line-height:normal;font-family:Menlo,'DejaVu Sans Mono',consolas,'Courier New',monospace\"><span style=\"color: #000080; text-decoration-color: #000080\"> 'bias_tie': '-0.000027',\n",
       "</span></pre>\n"
      ],
      "text/plain": [
       "\u001b[34m 'bias_tie': '-0.000027',\n",
       "\u001b[0m"
      ]
     },
     "metadata": {},
     "output_type": "display_data"
    },
    {
     "data": {
      "text/html": [
       "<pre style=\"white-space:pre;overflow-x:auto;line-height:normal;font-family:Menlo,'DejaVu Sans Mono',consolas,'Courier New',monospace\"><span style=\"color: #000080; text-decoration-color: #000080\"> 'grid_cost': 0.0005256701,\n",
       "</span></pre>\n"
      ],
      "text/plain": [
       "\u001b[34m 'grid_cost': 0.0005256701,\n",
       "\u001b[0m"
      ]
     },
     "metadata": {},
     "output_type": "display_data"
    },
    {
     "data": {
      "text/html": [
       "<pre style=\"white-space:pre;overflow-x:auto;line-height:normal;font-family:Menlo,'DejaVu Sans Mono',consolas,'Courier New',monospace\"><span style=\"color: #000080; text-decoration-color: #000080\"> 'i': 5,\n",
       "</span></pre>\n"
      ],
      "text/plain": [
       "\u001b[34m 'i': 5,\n",
       "\u001b[0m"
      ]
     },
     "metadata": {},
     "output_type": "display_data"
    },
    {
     "data": {
      "text/html": [
       "<pre style=\"white-space:pre;overflow-x:auto;line-height:normal;font-family:Menlo,'DejaVu Sans Mono',consolas,'Courier New',monospace\"><span style=\"color: #000080; text-decoration-color: #000080\"> 'lamss': -1.9523972,\n",
       "</span></pre>\n"
      ],
      "text/plain": [
       "\u001b[34m 'lamss': -1.9523972,\n",
       "\u001b[0m"
      ]
     },
     "metadata": {},
     "output_type": "display_data"
    },
    {
     "data": {
      "text/html": [
       "<pre style=\"white-space:pre;overflow-x:auto;line-height:normal;font-family:Menlo,'DejaVu Sans Mono',consolas,'Courier New',monospace\"><span style=\"color: #000080; text-decoration-color: #000080\"> 'max(B_lamss)': '-1.890788',\n",
       "</span></pre>\n"
      ],
      "text/plain": [
       "\u001b[34m 'max(B_lamss)': '-1.890788',\n",
       "\u001b[0m"
      ]
     },
     "metadata": {},
     "output_type": "display_data"
    },
    {
     "data": {
      "text/html": [
       "<pre style=\"white-space:pre;overflow-x:auto;line-height:normal;font-family:Menlo,'DejaVu Sans Mono',consolas,'Courier New',monospace\"><span style=\"color: #000080; text-decoration-color: #000080\"> 'min(B_lamss)': '-2.005622',\n",
       "</span></pre>\n"
      ],
      "text/plain": [
       "\u001b[34m 'min(B_lamss)': '-2.005622',\n",
       "\u001b[0m"
      ]
     },
     "metadata": {},
     "output_type": "display_data"
    },
    {
     "data": {
      "text/html": [
       "<pre style=\"white-space:pre;overflow-x:auto;line-height:normal;font-family:Menlo,'DejaVu Sans Mono',consolas,'Courier New',monospace\"><span style=\"color: #000080; text-decoration-color: #000080\"> 'n_complete': 0,\n",
       "</span></pre>\n"
      ],
      "text/plain": [
       "\u001b[34m 'n_complete': 0,\n",
       "\u001b[0m"
      ]
     },
     "metadata": {},
     "output_type": "display_data"
    },
    {
     "data": {
      "text/html": [
       "<pre style=\"white-space:pre;overflow-x:auto;line-height:normal;font-family:Menlo,'DejaVu Sans Mono',consolas,'Courier New',monospace\"><span style=\"color: #000080; text-decoration-color: #000080\"> 'n_deepen': 5,\n",
       "</span></pre>\n"
      ],
      "text/plain": [
       "\u001b[34m 'n_deepen': 5,\n",
       "\u001b[0m"
      ]
     },
     "metadata": {},
     "output_type": "display_data"
    },
    {
     "data": {
      "text/html": [
       "<pre style=\"white-space:pre;overflow-x:auto;line-height:normal;font-family:Menlo,'DejaVu Sans Mono',consolas,'Courier New',monospace\"><span style=\"color: #000080; text-decoration-color: #000080\"> 'n_impossible': 0,\n",
       "</span></pre>\n"
      ],
      "text/plain": [
       "\u001b[34m 'n_impossible': 0,\n",
       "\u001b[0m"
      ]
     },
     "metadata": {},
     "output_type": "display_data"
    },
    {
     "data": {
      "text/html": [
       "<pre style=\"white-space:pre;overflow-x:auto;line-height:normal;font-family:Menlo,'DejaVu Sans Mono',consolas,'Courier New',monospace\"><span style=\"color: #000080; text-decoration-color: #000080\"> 'n_processed': 11,\n",
       "</span></pre>\n"
      ],
      "text/plain": [
       "\u001b[34m 'n_processed': 11,\n",
       "\u001b[0m"
      ]
     },
     "metadata": {},
     "output_type": "display_data"
    },
    {
     "data": {
      "text/html": [
       "<pre style=\"white-space:pre;overflow-x:auto;line-height:normal;font-family:Menlo,'DejaVu Sans Mono',consolas,'Courier New',monospace\"><span style=\"color: #000080; text-decoration-color: #000080\"> 'n_refine': 3,\n",
       "</span></pre>\n"
      ],
      "text/plain": [
       "\u001b[34m 'n_refine': 3,\n",
       "\u001b[0m"
      ]
     },
     "metadata": {},
     "output_type": "display_data"
    },
    {
     "data": {
      "text/html": [
       "<pre style=\"white-space:pre;overflow-x:auto;line-height:normal;font-family:Menlo,'DejaVu Sans Mono',consolas,'Courier New',monospace\"><span style=\"color: #000080; text-decoration-color: #000080\"> 'runtime_cleanup': '0.366359',\n",
       "</span></pre>\n"
      ],
      "text/plain": [
       "\u001b[34m 'runtime_cleanup': '0.366359',\n",
       "\u001b[0m"
      ]
     },
     "metadata": {},
     "output_type": "display_data"
    },
    {
     "data": {
      "text/html": [
       "<pre style=\"white-space:pre;overflow-x:auto;line-height:normal;font-family:Menlo,'DejaVu Sans Mono',consolas,'Courier New',monospace\"><span style=\"color: #000080; text-decoration-color: #000080\"> 'runtime_convergence_check': '0.514784',\n",
       "</span></pre>\n"
      ],
      "text/plain": [
       "\u001b[34m 'runtime_convergence_check': '0.514784',\n",
       "\u001b[0m"
      ]
     },
     "metadata": {},
     "output_type": "display_data"
    },
    {
     "data": {
      "text/html": [
       "<pre style=\"white-space:pre;overflow-x:auto;line-height:normal;font-family:Menlo,'DejaVu Sans Mono',consolas,'Courier New',monospace\"><span style=\"color: #000080; text-decoration-color: #000080\"> 'runtime_processing': '0.522578',\n",
       "</span></pre>\n"
      ],
      "text/plain": [
       "\u001b[34m 'runtime_processing': '0.522578',\n",
       "\u001b[0m"
      ]
     },
     "metadata": {},
     "output_type": "display_data"
    },
    {
     "data": {
      "text/html": [
       "<pre style=\"white-space:pre;overflow-x:auto;line-height:normal;font-family:Menlo,'DejaVu Sans Mono',consolas,'Courier New',monospace\"><span style=\"color: #000080; text-decoration-color: #000080\"> 'runtime_refine_deepen': '0.085381',\n",
       "</span></pre>\n"
      ],
      "text/plain": [
       "\u001b[34m 'runtime_refine_deepen': '0.085381',\n",
       "\u001b[0m"
      ]
     },
     "metadata": {},
     "output_type": "display_data"
    },
    {
     "data": {
      "text/html": [
       "<pre style=\"white-space:pre;overflow-x:auto;line-height:normal;font-family:Menlo,'DejaVu Sans Mono',consolas,'Courier New',monospace\"><span style=\"color: #000080; text-decoration-color: #000080\"> 'spread_tie': '0.005737',\n",
       "</span></pre>\n"
      ],
      "text/plain": [
       "\u001b[34m 'spread_tie': '0.005737',\n",
       "\u001b[0m"
      ]
     },
     "metadata": {},
     "output_type": "display_data"
    },
    {
     "data": {
      "text/html": [
       "<pre style=\"white-space:pre;overflow-x:auto;line-height:normal;font-family:Menlo,'DejaVu Sans Mono',consolas,'Courier New',monospace\"><span style=\"color: #000080; text-decoration-color: #000080\"> 'std_tie': '0.001204',\n",
       "</span></pre>\n"
      ],
      "text/plain": [
       "\u001b[34m 'std_tie': '0.001204',\n",
       "\u001b[0m"
      ]
     },
     "metadata": {},
     "output_type": "display_data"
    },
    {
     "data": {
      "text/html": [
       "<pre style=\"white-space:pre;overflow-x:auto;line-height:normal;font-family:Menlo,'DejaVu Sans Mono',consolas,'Courier New',monospace\"><span style=\"color: #000080; text-decoration-color: #000080\"> 'tie + slack': '0.024791',\n",
       "</span></pre>\n"
      ],
      "text/plain": [
       "\u001b[34m 'tie + slack': '0.024791',\n",
       "\u001b[0m"
      ]
     },
     "metadata": {},
     "output_type": "display_data"
    },
    {
     "data": {
      "text/html": [
       "<pre style=\"white-space:pre;overflow-x:auto;line-height:normal;font-family:Menlo,'DejaVu Sans Mono',consolas,'Courier New',monospace\"><span style=\"color: #000080; text-decoration-color: #000080\"> 'tie_{k}(lamss)': '0.024292'}\n",
       "</span></pre>\n"
      ],
      "text/plain": [
       "\u001b[34m 'tie_{k}(lamss)': '0.024292'}\n",
       "\u001b[0m"
      ]
     },
     "metadata": {},
     "output_type": "display_data"
    },
    {
     "data": {
      "text/html": [
       "<pre style=\"white-space:pre;overflow-x:auto;line-height:normal;font-family:Menlo,'DejaVu Sans Mono',consolas,'Courier New',monospace\"><span style=\"color: #000080; text-decoration-color: #000080\">{'K_distribution': {32768: 2, 65536: 1, 131072: 9},\n",
       "</span></pre>\n"
      ],
      "text/plain": [
       "\u001b[34m{'K_distribution': {32768: 2, 65536: 1, 131072: 9},\n",
       "\u001b[0m"
      ]
     },
     "metadata": {},
     "output_type": "display_data"
    },
    {
     "data": {
      "text/html": [
       "<pre style=\"white-space:pre;overflow-x:auto;line-height:normal;font-family:Menlo,'DejaVu Sans Mono',consolas,'Courier New',monospace\"><span style=\"color: #000080; text-decoration-color: #000080\"> 'bias_tie': '0.000222',\n",
       "</span></pre>\n"
      ],
      "text/plain": [
       "\u001b[34m 'bias_tie': '0.000222',\n",
       "\u001b[0m"
      ]
     },
     "metadata": {},
     "output_type": "display_data"
    },
    {
     "data": {
      "text/html": [
       "<pre style=\"white-space:pre;overflow-x:auto;line-height:normal;font-family:Menlo,'DejaVu Sans Mono',consolas,'Courier New',monospace\"><span style=\"color: #000080; text-decoration-color: #000080\"> 'grid_cost': 0.0005256701,\n",
       "</span></pre>\n"
      ],
      "text/plain": [
       "\u001b[34m 'grid_cost': 0.0005256701,\n",
       "\u001b[0m"
      ]
     },
     "metadata": {},
     "output_type": "display_data"
    },
    {
     "data": {
      "text/html": [
       "<pre style=\"white-space:pre;overflow-x:auto;line-height:normal;font-family:Menlo,'DejaVu Sans Mono',consolas,'Courier New',monospace\"><span style=\"color: #000080; text-decoration-color: #000080\"> 'i': 6,\n",
       "</span></pre>\n"
      ],
      "text/plain": [
       "\u001b[34m 'i': 6,\n",
       "\u001b[0m"
      ]
     },
     "metadata": {},
     "output_type": "display_data"
    },
    {
     "data": {
      "text/html": [
       "<pre style=\"white-space:pre;overflow-x:auto;line-height:normal;font-family:Menlo,'DejaVu Sans Mono',consolas,'Courier New',monospace\"><span style=\"color: #000080; text-decoration-color: #000080\"> 'lamss': -1.9537866,\n",
       "</span></pre>\n"
      ],
      "text/plain": [
       "\u001b[34m 'lamss': -1.9537866,\n",
       "\u001b[0m"
      ]
     },
     "metadata": {},
     "output_type": "display_data"
    },
    {
     "data": {
      "text/html": [
       "<pre style=\"white-space:pre;overflow-x:auto;line-height:normal;font-family:Menlo,'DejaVu Sans Mono',consolas,'Courier New',monospace\"><span style=\"color: #000080; text-decoration-color: #000080\"> 'max(B_lamss)': '-1.914193',\n",
       "</span></pre>\n"
      ],
      "text/plain": [
       "\u001b[34m 'max(B_lamss)': '-1.914193',\n",
       "\u001b[0m"
      ]
     },
     "metadata": {},
     "output_type": "display_data"
    },
    {
     "data": {
      "text/html": [
       "<pre style=\"white-space:pre;overflow-x:auto;line-height:normal;font-family:Menlo,'DejaVu Sans Mono',consolas,'Courier New',monospace\"><span style=\"color: #000080; text-decoration-color: #000080\"> 'min(B_lamss)': '-1.993012',\n",
       "</span></pre>\n"
      ],
      "text/plain": [
       "\u001b[34m 'min(B_lamss)': '-1.993012',\n",
       "\u001b[0m"
      ]
     },
     "metadata": {},
     "output_type": "display_data"
    },
    {
     "data": {
      "text/html": [
       "<pre style=\"white-space:pre;overflow-x:auto;line-height:normal;font-family:Menlo,'DejaVu Sans Mono',consolas,'Courier New',monospace\"><span style=\"color: #000080; text-decoration-color: #000080\"> 'n_complete': 0,\n",
       "</span></pre>\n"
      ],
      "text/plain": [
       "\u001b[34m 'n_complete': 0,\n",
       "\u001b[0m"
      ]
     },
     "metadata": {},
     "output_type": "display_data"
    },
    {
     "data": {
      "text/html": [
       "<pre style=\"white-space:pre;overflow-x:auto;line-height:normal;font-family:Menlo,'DejaVu Sans Mono',consolas,'Courier New',monospace\"><span style=\"color: #000080; text-decoration-color: #000080\"> 'n_deepen': 4,\n",
       "</span></pre>\n"
      ],
      "text/plain": [
       "\u001b[34m 'n_deepen': 4,\n",
       "\u001b[0m"
      ]
     },
     "metadata": {},
     "output_type": "display_data"
    },
    {
     "data": {
      "text/html": [
       "<pre style=\"white-space:pre;overflow-x:auto;line-height:normal;font-family:Menlo,'DejaVu Sans Mono',consolas,'Courier New',monospace\"><span style=\"color: #000080; text-decoration-color: #000080\"> 'n_impossible': 0,\n",
       "</span></pre>\n"
      ],
      "text/plain": [
       "\u001b[34m 'n_impossible': 0,\n",
       "\u001b[0m"
      ]
     },
     "metadata": {},
     "output_type": "display_data"
    },
    {
     "data": {
      "text/html": [
       "<pre style=\"white-space:pre;overflow-x:auto;line-height:normal;font-family:Menlo,'DejaVu Sans Mono',consolas,'Courier New',monospace\"><span style=\"color: #000080; text-decoration-color: #000080\"> 'n_processed': 12,\n",
       "</span></pre>\n"
      ],
      "text/plain": [
       "\u001b[34m 'n_processed': 12,\n",
       "\u001b[0m"
      ]
     },
     "metadata": {},
     "output_type": "display_data"
    },
    {
     "data": {
      "text/html": [
       "<pre style=\"white-space:pre;overflow-x:auto;line-height:normal;font-family:Menlo,'DejaVu Sans Mono',consolas,'Courier New',monospace\"><span style=\"color: #000080; text-decoration-color: #000080\"> 'n_refine': 4,\n",
       "</span></pre>\n"
      ],
      "text/plain": [
       "\u001b[34m 'n_refine': 4,\n",
       "\u001b[0m"
      ]
     },
     "metadata": {},
     "output_type": "display_data"
    },
    {
     "data": {
      "text/html": [
       "<pre style=\"white-space:pre;overflow-x:auto;line-height:normal;font-family:Menlo,'DejaVu Sans Mono',consolas,'Courier New',monospace\"><span style=\"color: #000080; text-decoration-color: #000080\"> 'runtime_cleanup': '0.400077',\n",
       "</span></pre>\n"
      ],
      "text/plain": [
       "\u001b[34m 'runtime_cleanup': '0.400077',\n",
       "\u001b[0m"
      ]
     },
     "metadata": {},
     "output_type": "display_data"
    },
    {
     "data": {
      "text/html": [
       "<pre style=\"white-space:pre;overflow-x:auto;line-height:normal;font-family:Menlo,'DejaVu Sans Mono',consolas,'Courier New',monospace\"><span style=\"color: #000080; text-decoration-color: #000080\"> 'runtime_convergence_check': '0.496608',\n",
       "</span></pre>\n"
      ],
      "text/plain": [
       "\u001b[34m 'runtime_convergence_check': '0.496608',\n",
       "\u001b[0m"
      ]
     },
     "metadata": {},
     "output_type": "display_data"
    },
    {
     "data": {
      "text/html": [
       "<pre style=\"white-space:pre;overflow-x:auto;line-height:normal;font-family:Menlo,'DejaVu Sans Mono',consolas,'Courier New',monospace\"><span style=\"color: #000080; text-decoration-color: #000080\"> 'runtime_processing': '0.616812',\n",
       "</span></pre>\n"
      ],
      "text/plain": [
       "\u001b[34m 'runtime_processing': '0.616812',\n",
       "\u001b[0m"
      ]
     },
     "metadata": {},
     "output_type": "display_data"
    },
    {
     "data": {
      "text/html": [
       "<pre style=\"white-space:pre;overflow-x:auto;line-height:normal;font-family:Menlo,'DejaVu Sans Mono',consolas,'Courier New',monospace\"><span style=\"color: #000080; text-decoration-color: #000080\"> 'runtime_refine_deepen': '0.087327',\n",
       "</span></pre>\n"
      ],
      "text/plain": [
       "\u001b[34m 'runtime_refine_deepen': '0.087327',\n",
       "\u001b[0m"
      ]
     },
     "metadata": {},
     "output_type": "display_data"
    },
    {
     "data": {
      "text/html": [
       "<pre style=\"white-space:pre;overflow-x:auto;line-height:normal;font-family:Menlo,'DejaVu Sans Mono',consolas,'Courier New',monospace\"><span style=\"color: #000080; text-decoration-color: #000080\"> 'spread_tie': '0.004089',\n",
       "</span></pre>\n"
      ],
      "text/plain": [
       "\u001b[34m 'spread_tie': '0.004089',\n",
       "\u001b[0m"
      ]
     },
     "metadata": {},
     "output_type": "display_data"
    },
    {
     "data": {
      "text/html": [
       "<pre style=\"white-space:pre;overflow-x:auto;line-height:normal;font-family:Menlo,'DejaVu Sans Mono',consolas,'Courier New',monospace\"><span style=\"color: #000080; text-decoration-color: #000080\"> 'std_tie': '0.001092',\n",
       "</span></pre>\n"
      ],
      "text/plain": [
       "\u001b[34m 'std_tie': '0.001092',\n",
       "\u001b[0m"
      ]
     },
     "metadata": {},
     "output_type": "display_data"
    },
    {
     "data": {
      "text/html": [
       "<pre style=\"white-space:pre;overflow-x:auto;line-height:normal;font-family:Menlo,'DejaVu Sans Mono',consolas,'Courier New',monospace\"><span style=\"color: #000080; text-decoration-color: #000080\"> 'tie + slack': '0.025162',\n",
       "</span></pre>\n"
      ],
      "text/plain": [
       "\u001b[34m 'tie + slack': '0.025162',\n",
       "\u001b[0m"
      ]
     },
     "metadata": {},
     "output_type": "display_data"
    },
    {
     "data": {
      "text/html": [
       "<pre style=\"white-space:pre;overflow-x:auto;line-height:normal;font-family:Menlo,'DejaVu Sans Mono',consolas,'Courier New',monospace\"><span style=\"color: #000080; text-decoration-color: #000080\"> 'tie_{k}(lamss)': '0.024414'}\n",
       "</span></pre>\n"
      ],
      "text/plain": [
       "\u001b[34m 'tie_{k}(lamss)': '0.024414'}\n",
       "\u001b[0m"
      ]
     },
     "metadata": {},
     "output_type": "display_data"
    },
    {
     "data": {
      "text/html": [
       "<pre style=\"white-space:pre;overflow-x:auto;line-height:normal;font-family:Menlo,'DejaVu Sans Mono',consolas,'Courier New',monospace\"><span style=\"color: #000080; text-decoration-color: #000080\">{'K_distribution': {32768: 2, 65536: 1, 131072: 9},\n",
       "</span></pre>\n"
      ],
      "text/plain": [
       "\u001b[34m{'K_distribution': {32768: 2, 65536: 1, 131072: 9},\n",
       "\u001b[0m"
      ]
     },
     "metadata": {},
     "output_type": "display_data"
    },
    {
     "data": {
      "text/html": [
       "<pre style=\"white-space:pre;overflow-x:auto;line-height:normal;font-family:Menlo,'DejaVu Sans Mono',consolas,'Courier New',monospace\"><span style=\"color: #000080; text-decoration-color: #000080\"> 'bias_tie': '0.000222',\n",
       "</span></pre>\n"
      ],
      "text/plain": [
       "\u001b[34m 'bias_tie': '0.000222',\n",
       "\u001b[0m"
      ]
     },
     "metadata": {},
     "output_type": "display_data"
    },
    {
     "data": {
      "text/html": [
       "<pre style=\"white-space:pre;overflow-x:auto;line-height:normal;font-family:Menlo,'DejaVu Sans Mono',consolas,'Courier New',monospace\"><span style=\"color: #000080; text-decoration-color: #000080\"> 'grid_cost': 0.0005256701,\n",
       "</span></pre>\n"
      ],
      "text/plain": [
       "\u001b[34m 'grid_cost': 0.0005256701,\n",
       "\u001b[0m"
      ]
     },
     "metadata": {},
     "output_type": "display_data"
    },
    {
     "data": {
      "text/html": [
       "<pre style=\"white-space:pre;overflow-x:auto;line-height:normal;font-family:Menlo,'DejaVu Sans Mono',consolas,'Courier New',monospace\"><span style=\"color: #000080; text-decoration-color: #000080\"> 'i': 6,\n",
       "</span></pre>\n"
      ],
      "text/plain": [
       "\u001b[34m 'i': 6,\n",
       "\u001b[0m"
      ]
     },
     "metadata": {},
     "output_type": "display_data"
    },
    {
     "data": {
      "text/html": [
       "<pre style=\"white-space:pre;overflow-x:auto;line-height:normal;font-family:Menlo,'DejaVu Sans Mono',consolas,'Courier New',monospace\"><span style=\"color: #000080; text-decoration-color: #000080\"> 'lamss': -1.9537866,\n",
       "</span></pre>\n"
      ],
      "text/plain": [
       "\u001b[34m 'lamss': -1.9537866,\n",
       "\u001b[0m"
      ]
     },
     "metadata": {},
     "output_type": "display_data"
    },
    {
     "data": {
      "text/html": [
       "<pre style=\"white-space:pre;overflow-x:auto;line-height:normal;font-family:Menlo,'DejaVu Sans Mono',consolas,'Courier New',monospace\"><span style=\"color: #000080; text-decoration-color: #000080\"> 'max(B_lamss)': '-1.914193',\n",
       "</span></pre>\n"
      ],
      "text/plain": [
       "\u001b[34m 'max(B_lamss)': '-1.914193',\n",
       "\u001b[0m"
      ]
     },
     "metadata": {},
     "output_type": "display_data"
    },
    {
     "data": {
      "text/html": [
       "<pre style=\"white-space:pre;overflow-x:auto;line-height:normal;font-family:Menlo,'DejaVu Sans Mono',consolas,'Courier New',monospace\"><span style=\"color: #000080; text-decoration-color: #000080\"> 'min(B_lamss)': '-1.993012',\n",
       "</span></pre>\n"
      ],
      "text/plain": [
       "\u001b[34m 'min(B_lamss)': '-1.993012',\n",
       "\u001b[0m"
      ]
     },
     "metadata": {},
     "output_type": "display_data"
    },
    {
     "data": {
      "text/html": [
       "<pre style=\"white-space:pre;overflow-x:auto;line-height:normal;font-family:Menlo,'DejaVu Sans Mono',consolas,'Courier New',monospace\"><span style=\"color: #000080; text-decoration-color: #000080\"> 'n_complete': 0,\n",
       "</span></pre>\n"
      ],
      "text/plain": [
       "\u001b[34m 'n_complete': 0,\n",
       "\u001b[0m"
      ]
     },
     "metadata": {},
     "output_type": "display_data"
    },
    {
     "data": {
      "text/html": [
       "<pre style=\"white-space:pre;overflow-x:auto;line-height:normal;font-family:Menlo,'DejaVu Sans Mono',consolas,'Courier New',monospace\"><span style=\"color: #000080; text-decoration-color: #000080\"> 'n_deepen': 4,\n",
       "</span></pre>\n"
      ],
      "text/plain": [
       "\u001b[34m 'n_deepen': 4,\n",
       "\u001b[0m"
      ]
     },
     "metadata": {},
     "output_type": "display_data"
    },
    {
     "data": {
      "text/html": [
       "<pre style=\"white-space:pre;overflow-x:auto;line-height:normal;font-family:Menlo,'DejaVu Sans Mono',consolas,'Courier New',monospace\"><span style=\"color: #000080; text-decoration-color: #000080\"> 'n_impossible': 0,\n",
       "</span></pre>\n"
      ],
      "text/plain": [
       "\u001b[34m 'n_impossible': 0,\n",
       "\u001b[0m"
      ]
     },
     "metadata": {},
     "output_type": "display_data"
    },
    {
     "data": {
      "text/html": [
       "<pre style=\"white-space:pre;overflow-x:auto;line-height:normal;font-family:Menlo,'DejaVu Sans Mono',consolas,'Courier New',monospace\"><span style=\"color: #000080; text-decoration-color: #000080\"> 'n_processed': 12,\n",
       "</span></pre>\n"
      ],
      "text/plain": [
       "\u001b[34m 'n_processed': 12,\n",
       "\u001b[0m"
      ]
     },
     "metadata": {},
     "output_type": "display_data"
    },
    {
     "data": {
      "text/html": [
       "<pre style=\"white-space:pre;overflow-x:auto;line-height:normal;font-family:Menlo,'DejaVu Sans Mono',consolas,'Courier New',monospace\"><span style=\"color: #000080; text-decoration-color: #000080\"> 'n_refine': 4,\n",
       "</span></pre>\n"
      ],
      "text/plain": [
       "\u001b[34m 'n_refine': 4,\n",
       "\u001b[0m"
      ]
     },
     "metadata": {},
     "output_type": "display_data"
    },
    {
     "data": {
      "text/html": [
       "<pre style=\"white-space:pre;overflow-x:auto;line-height:normal;font-family:Menlo,'DejaVu Sans Mono',consolas,'Courier New',monospace\"><span style=\"color: #000080; text-decoration-color: #000080\"> 'runtime_cleanup': '0.415468',\n",
       "</span></pre>\n"
      ],
      "text/plain": [
       "\u001b[34m 'runtime_cleanup': '0.415468',\n",
       "\u001b[0m"
      ]
     },
     "metadata": {},
     "output_type": "display_data"
    },
    {
     "data": {
      "text/html": [
       "<pre style=\"white-space:pre;overflow-x:auto;line-height:normal;font-family:Menlo,'DejaVu Sans Mono',consolas,'Courier New',monospace\"><span style=\"color: #000080; text-decoration-color: #000080\"> 'runtime_convergence_check': '0.606955',\n",
       "</span></pre>\n"
      ],
      "text/plain": [
       "\u001b[34m 'runtime_convergence_check': '0.606955',\n",
       "\u001b[0m"
      ]
     },
     "metadata": {},
     "output_type": "display_data"
    },
    {
     "data": {
      "text/html": [
       "<pre style=\"white-space:pre;overflow-x:auto;line-height:normal;font-family:Menlo,'DejaVu Sans Mono',consolas,'Courier New',monospace\"><span style=\"color: #000080; text-decoration-color: #000080\"> 'runtime_processing': '0.631355',\n",
       "</span></pre>\n"
      ],
      "text/plain": [
       "\u001b[34m 'runtime_processing': '0.631355',\n",
       "\u001b[0m"
      ]
     },
     "metadata": {},
     "output_type": "display_data"
    },
    {
     "data": {
      "text/html": [
       "<pre style=\"white-space:pre;overflow-x:auto;line-height:normal;font-family:Menlo,'DejaVu Sans Mono',consolas,'Courier New',monospace\"><span style=\"color: #000080; text-decoration-color: #000080\"> 'runtime_refine_deepen': '0.090180',\n",
       "</span></pre>\n"
      ],
      "text/plain": [
       "\u001b[34m 'runtime_refine_deepen': '0.090180',\n",
       "\u001b[0m"
      ]
     },
     "metadata": {},
     "output_type": "display_data"
    },
    {
     "data": {
      "text/html": [
       "<pre style=\"white-space:pre;overflow-x:auto;line-height:normal;font-family:Menlo,'DejaVu Sans Mono',consolas,'Courier New',monospace\"><span style=\"color: #000080; text-decoration-color: #000080\"> 'spread_tie': '0.004089',\n",
       "</span></pre>\n"
      ],
      "text/plain": [
       "\u001b[34m 'spread_tie': '0.004089',\n",
       "\u001b[0m"
      ]
     },
     "metadata": {},
     "output_type": "display_data"
    },
    {
     "data": {
      "text/html": [
       "<pre style=\"white-space:pre;overflow-x:auto;line-height:normal;font-family:Menlo,'DejaVu Sans Mono',consolas,'Courier New',monospace\"><span style=\"color: #000080; text-decoration-color: #000080\"> 'std_tie': '0.001092',\n",
       "</span></pre>\n"
      ],
      "text/plain": [
       "\u001b[34m 'std_tie': '0.001092',\n",
       "\u001b[0m"
      ]
     },
     "metadata": {},
     "output_type": "display_data"
    },
    {
     "data": {
      "text/html": [
       "<pre style=\"white-space:pre;overflow-x:auto;line-height:normal;font-family:Menlo,'DejaVu Sans Mono',consolas,'Courier New',monospace\"><span style=\"color: #000080; text-decoration-color: #000080\"> 'tie + slack': '0.025162',\n",
       "</span></pre>\n"
      ],
      "text/plain": [
       "\u001b[34m 'tie + slack': '0.025162',\n",
       "\u001b[0m"
      ]
     },
     "metadata": {},
     "output_type": "display_data"
    },
    {
     "data": {
      "text/html": [
       "<pre style=\"white-space:pre;overflow-x:auto;line-height:normal;font-family:Menlo,'DejaVu Sans Mono',consolas,'Courier New',monospace\"><span style=\"color: #000080; text-decoration-color: #000080\"> 'tie_{k}(lamss)': '0.024414'}\n",
       "</span></pre>\n"
      ],
      "text/plain": [
       "\u001b[34m 'tie_{k}(lamss)': '0.024414'}\n",
       "\u001b[0m"
      ]
     },
     "metadata": {},
     "output_type": "display_data"
    },
    {
     "data": {
      "text/html": [
       "<pre style=\"white-space:pre;overflow-x:auto;line-height:normal;font-family:Menlo,'DejaVu Sans Mono',consolas,'Courier New',monospace\"><span style=\"color: #000080; text-decoration-color: #000080\">{'K_distribution': {32768: 2, 65536: 1, 131072: 11},\n",
       "</span></pre>\n"
      ],
      "text/plain": [
       "\u001b[34m{'K_distribution': {32768: 2, 65536: 1, 131072: 11},\n",
       "\u001b[0m"
      ]
     },
     "metadata": {},
     "output_type": "display_data"
    },
    {
     "data": {
      "text/html": [
       "<pre style=\"white-space:pre;overflow-x:auto;line-height:normal;font-family:Menlo,'DejaVu Sans Mono',consolas,'Courier New',monospace\"><span style=\"color: #000080; text-decoration-color: #000080\"> 'bias_tie': '-0.000045',\n",
       "</span></pre>\n"
      ],
      "text/plain": [
       "\u001b[34m 'bias_tie': '-0.000045',\n",
       "\u001b[0m"
      ]
     },
     "metadata": {},
     "output_type": "display_data"
    },
    {
     "data": {
      "text/html": [
       "<pre style=\"white-space:pre;overflow-x:auto;line-height:normal;font-family:Menlo,'DejaVu Sans Mono',consolas,'Courier New',monospace\"><span style=\"color: #000080; text-decoration-color: #000080\"> 'grid_cost': 0.0005256701,\n",
       "</span></pre>\n"
      ],
      "text/plain": [
       "\u001b[34m 'grid_cost': 0.0005256701,\n",
       "\u001b[0m"
      ]
     },
     "metadata": {},
     "output_type": "display_data"
    },
    {
     "data": {
      "text/html": [
       "<pre style=\"white-space:pre;overflow-x:auto;line-height:normal;font-family:Menlo,'DejaVu Sans Mono',consolas,'Courier New',monospace\"><span style=\"color: #000080; text-decoration-color: #000080\"> 'i': 7,\n",
       "</span></pre>\n"
      ],
      "text/plain": [
       "\u001b[34m 'i': 7,\n",
       "\u001b[0m"
      ]
     },
     "metadata": {},
     "output_type": "display_data"
    },
    {
     "data": {
      "text/html": [
       "<pre style=\"white-space:pre;overflow-x:auto;line-height:normal;font-family:Menlo,'DejaVu Sans Mono',consolas,'Courier New',monospace\"><span style=\"color: #000080; text-decoration-color: #000080\"> 'lamss': -1.9585172,\n",
       "</span></pre>\n"
      ],
      "text/plain": [
       "\u001b[34m 'lamss': -1.9585172,\n",
       "\u001b[0m"
      ]
     },
     "metadata": {},
     "output_type": "display_data"
    },
    {
     "data": {
      "text/html": [
       "<pre style=\"white-space:pre;overflow-x:auto;line-height:normal;font-family:Menlo,'DejaVu Sans Mono',consolas,'Courier New',monospace\"><span style=\"color: #000080; text-decoration-color: #000080\"> 'max(B_lamss)': '-1.922150',\n",
       "</span></pre>\n"
      ],
      "text/plain": [
       "\u001b[34m 'max(B_lamss)': '-1.922150',\n",
       "\u001b[0m"
      ]
     },
     "metadata": {},
     "output_type": "display_data"
    },
    {
     "data": {
      "text/html": [
       "<pre style=\"white-space:pre;overflow-x:auto;line-height:normal;font-family:Menlo,'DejaVu Sans Mono',consolas,'Courier New',monospace\"><span style=\"color: #000080; text-decoration-color: #000080\"> 'min(B_lamss)': '-1.981422',\n",
       "</span></pre>\n"
      ],
      "text/plain": [
       "\u001b[34m 'min(B_lamss)': '-1.981422',\n",
       "\u001b[0m"
      ]
     },
     "metadata": {},
     "output_type": "display_data"
    },
    {
     "data": {
      "text/html": [
       "<pre style=\"white-space:pre;overflow-x:auto;line-height:normal;font-family:Menlo,'DejaVu Sans Mono',consolas,'Courier New',monospace\"><span style=\"color: #000080; text-decoration-color: #000080\"> 'n_complete': 0,\n",
       "</span></pre>\n"
      ],
      "text/plain": [
       "\u001b[34m 'n_complete': 0,\n",
       "\u001b[0m"
      ]
     },
     "metadata": {},
     "output_type": "display_data"
    },
    {
     "data": {
      "text/html": [
       "<pre style=\"white-space:pre;overflow-x:auto;line-height:normal;font-family:Menlo,'DejaVu Sans Mono',consolas,'Courier New',monospace\"><span style=\"color: #000080; text-decoration-color: #000080\"> 'n_deepen': 2,\n",
       "</span></pre>\n"
      ],
      "text/plain": [
       "\u001b[34m 'n_deepen': 2,\n",
       "\u001b[0m"
      ]
     },
     "metadata": {},
     "output_type": "display_data"
    },
    {
     "data": {
      "text/html": [
       "<pre style=\"white-space:pre;overflow-x:auto;line-height:normal;font-family:Menlo,'DejaVu Sans Mono',consolas,'Courier New',monospace\"><span style=\"color: #000080; text-decoration-color: #000080\"> 'n_impossible': 0,\n",
       "</span></pre>\n"
      ],
      "text/plain": [
       "\u001b[34m 'n_impossible': 0,\n",
       "\u001b[0m"
      ]
     },
     "metadata": {},
     "output_type": "display_data"
    },
    {
     "data": {
      "text/html": [
       "<pre style=\"white-space:pre;overflow-x:auto;line-height:normal;font-family:Menlo,'DejaVu Sans Mono',consolas,'Courier New',monospace\"><span style=\"color: #000080; text-decoration-color: #000080\"> 'n_processed': 14,\n",
       "</span></pre>\n"
      ],
      "text/plain": [
       "\u001b[34m 'n_processed': 14,\n",
       "\u001b[0m"
      ]
     },
     "metadata": {},
     "output_type": "display_data"
    },
    {
     "data": {
      "text/html": [
       "<pre style=\"white-space:pre;overflow-x:auto;line-height:normal;font-family:Menlo,'DejaVu Sans Mono',consolas,'Courier New',monospace\"><span style=\"color: #000080; text-decoration-color: #000080\"> 'n_refine': 6,\n",
       "</span></pre>\n"
      ],
      "text/plain": [
       "\u001b[34m 'n_refine': 6,\n",
       "\u001b[0m"
      ]
     },
     "metadata": {},
     "output_type": "display_data"
    },
    {
     "data": {
      "text/html": [
       "<pre style=\"white-space:pre;overflow-x:auto;line-height:normal;font-family:Menlo,'DejaVu Sans Mono',consolas,'Courier New',monospace\"><span style=\"color: #000080; text-decoration-color: #000080\"> 'runtime_cleanup': '0.399814',\n",
       "</span></pre>\n"
      ],
      "text/plain": [
       "\u001b[34m 'runtime_cleanup': '0.399814',\n",
       "\u001b[0m"
      ]
     },
     "metadata": {},
     "output_type": "display_data"
    },
    {
     "data": {
      "text/html": [
       "<pre style=\"white-space:pre;overflow-x:auto;line-height:normal;font-family:Menlo,'DejaVu Sans Mono',consolas,'Courier New',monospace\"><span style=\"color: #000080; text-decoration-color: #000080\"> 'runtime_convergence_check': '0.662424',\n",
       "</span></pre>\n"
      ],
      "text/plain": [
       "\u001b[34m 'runtime_convergence_check': '0.662424',\n",
       "\u001b[0m"
      ]
     },
     "metadata": {},
     "output_type": "display_data"
    },
    {
     "data": {
      "text/html": [
       "<pre style=\"white-space:pre;overflow-x:auto;line-height:normal;font-family:Menlo,'DejaVu Sans Mono',consolas,'Courier New',monospace\"><span style=\"color: #000080; text-decoration-color: #000080\"> 'runtime_processing': '0.617759',\n",
       "</span></pre>\n"
      ],
      "text/plain": [
       "\u001b[34m 'runtime_processing': '0.617759',\n",
       "\u001b[0m"
      ]
     },
     "metadata": {},
     "output_type": "display_data"
    },
    {
     "data": {
      "text/html": [
       "<pre style=\"white-space:pre;overflow-x:auto;line-height:normal;font-family:Menlo,'DejaVu Sans Mono',consolas,'Courier New',monospace\"><span style=\"color: #000080; text-decoration-color: #000080\"> 'runtime_refine_deepen': '0.091173',\n",
       "</span></pre>\n"
      ],
      "text/plain": [
       "\u001b[34m 'runtime_refine_deepen': '0.091173',\n",
       "\u001b[0m"
      ]
     },
     "metadata": {},
     "output_type": "display_data"
    },
    {
     "data": {
      "text/html": [
       "<pre style=\"white-space:pre;overflow-x:auto;line-height:normal;font-family:Menlo,'DejaVu Sans Mono',consolas,'Courier New',monospace\"><span style=\"color: #000080; text-decoration-color: #000080\"> 'spread_tie': '0.003326',\n",
       "</span></pre>\n"
      ],
      "text/plain": [
       "\u001b[34m 'spread_tie': '0.003326',\n",
       "\u001b[0m"
      ]
     },
     "metadata": {},
     "output_type": "display_data"
    },
    {
     "data": {
      "text/html": [
       "<pre style=\"white-space:pre;overflow-x:auto;line-height:normal;font-family:Menlo,'DejaVu Sans Mono',consolas,'Courier New',monospace\"><span style=\"color: #000080; text-decoration-color: #000080\"> 'std_tie': '0.000890',\n",
       "</span></pre>\n"
      ],
      "text/plain": [
       "\u001b[34m 'std_tie': '0.000890',\n",
       "\u001b[0m"
      ]
     },
     "metadata": {},
     "output_type": "display_data"
    },
    {
     "data": {
      "text/html": [
       "<pre style=\"white-space:pre;overflow-x:auto;line-height:normal;font-family:Menlo,'DejaVu Sans Mono',consolas,'Courier New',monospace\"><span style=\"color: #000080; text-decoration-color: #000080\"> 'tie + slack': '0.024895',\n",
       "</span></pre>\n"
      ],
      "text/plain": [
       "\u001b[34m 'tie + slack': '0.024895',\n",
       "\u001b[0m"
      ]
     },
     "metadata": {},
     "output_type": "display_data"
    },
    {
     "data": {
      "text/html": [
       "<pre style=\"white-space:pre;overflow-x:auto;line-height:normal;font-family:Menlo,'DejaVu Sans Mono',consolas,'Courier New',monospace\"><span style=\"color: #000080; text-decoration-color: #000080\"> 'tie_{k}(lamss)': '0.024414'}\n",
       "</span></pre>\n"
      ],
      "text/plain": [
       "\u001b[34m 'tie_{k}(lamss)': '0.024414'}\n",
       "\u001b[0m"
      ]
     },
     "metadata": {},
     "output_type": "display_data"
    },
    {
     "data": {
      "text/html": [
       "<pre style=\"white-space:pre;overflow-x:auto;line-height:normal;font-family:Menlo,'DejaVu Sans Mono',consolas,'Courier New',monospace\"><span style=\"color: #000080; text-decoration-color: #000080\">{'K_distribution': {32768: 2, 65536: 1, 131072: 11},\n",
       "</span></pre>\n"
      ],
      "text/plain": [
       "\u001b[34m{'K_distribution': {32768: 2, 65536: 1, 131072: 11},\n",
       "\u001b[0m"
      ]
     },
     "metadata": {},
     "output_type": "display_data"
    },
    {
     "data": {
      "text/html": [
       "<pre style=\"white-space:pre;overflow-x:auto;line-height:normal;font-family:Menlo,'DejaVu Sans Mono',consolas,'Courier New',monospace\"><span style=\"color: #000080; text-decoration-color: #000080\"> 'bias_tie': '-0.000045',\n",
       "</span></pre>\n"
      ],
      "text/plain": [
       "\u001b[34m 'bias_tie': '-0.000045',\n",
       "\u001b[0m"
      ]
     },
     "metadata": {},
     "output_type": "display_data"
    },
    {
     "data": {
      "text/html": [
       "<pre style=\"white-space:pre;overflow-x:auto;line-height:normal;font-family:Menlo,'DejaVu Sans Mono',consolas,'Courier New',monospace\"><span style=\"color: #000080; text-decoration-color: #000080\"> 'grid_cost': 0.0005256701,\n",
       "</span></pre>\n"
      ],
      "text/plain": [
       "\u001b[34m 'grid_cost': 0.0005256701,\n",
       "\u001b[0m"
      ]
     },
     "metadata": {},
     "output_type": "display_data"
    },
    {
     "data": {
      "text/html": [
       "<pre style=\"white-space:pre;overflow-x:auto;line-height:normal;font-family:Menlo,'DejaVu Sans Mono',consolas,'Courier New',monospace\"><span style=\"color: #000080; text-decoration-color: #000080\"> 'i': 7,\n",
       "</span></pre>\n"
      ],
      "text/plain": [
       "\u001b[34m 'i': 7,\n",
       "\u001b[0m"
      ]
     },
     "metadata": {},
     "output_type": "display_data"
    },
    {
     "data": {
      "text/html": [
       "<pre style=\"white-space:pre;overflow-x:auto;line-height:normal;font-family:Menlo,'DejaVu Sans Mono',consolas,'Courier New',monospace\"><span style=\"color: #000080; text-decoration-color: #000080\"> 'lamss': -1.9585172,\n",
       "</span></pre>\n"
      ],
      "text/plain": [
       "\u001b[34m 'lamss': -1.9585172,\n",
       "\u001b[0m"
      ]
     },
     "metadata": {},
     "output_type": "display_data"
    },
    {
     "data": {
      "text/html": [
       "<pre style=\"white-space:pre;overflow-x:auto;line-height:normal;font-family:Menlo,'DejaVu Sans Mono',consolas,'Courier New',monospace\"><span style=\"color: #000080; text-decoration-color: #000080\"> 'max(B_lamss)': '-1.922150',\n",
       "</span></pre>\n"
      ],
      "text/plain": [
       "\u001b[34m 'max(B_lamss)': '-1.922150',\n",
       "\u001b[0m"
      ]
     },
     "metadata": {},
     "output_type": "display_data"
    },
    {
     "data": {
      "text/html": [
       "<pre style=\"white-space:pre;overflow-x:auto;line-height:normal;font-family:Menlo,'DejaVu Sans Mono',consolas,'Courier New',monospace\"><span style=\"color: #000080; text-decoration-color: #000080\"> 'min(B_lamss)': '-1.981422',\n",
       "</span></pre>\n"
      ],
      "text/plain": [
       "\u001b[34m 'min(B_lamss)': '-1.981422',\n",
       "\u001b[0m"
      ]
     },
     "metadata": {},
     "output_type": "display_data"
    },
    {
     "data": {
      "text/html": [
       "<pre style=\"white-space:pre;overflow-x:auto;line-height:normal;font-family:Menlo,'DejaVu Sans Mono',consolas,'Courier New',monospace\"><span style=\"color: #000080; text-decoration-color: #000080\"> 'n_complete': 0,\n",
       "</span></pre>\n"
      ],
      "text/plain": [
       "\u001b[34m 'n_complete': 0,\n",
       "\u001b[0m"
      ]
     },
     "metadata": {},
     "output_type": "display_data"
    },
    {
     "data": {
      "text/html": [
       "<pre style=\"white-space:pre;overflow-x:auto;line-height:normal;font-family:Menlo,'DejaVu Sans Mono',consolas,'Courier New',monospace\"><span style=\"color: #000080; text-decoration-color: #000080\"> 'n_deepen': 2,\n",
       "</span></pre>\n"
      ],
      "text/plain": [
       "\u001b[34m 'n_deepen': 2,\n",
       "\u001b[0m"
      ]
     },
     "metadata": {},
     "output_type": "display_data"
    },
    {
     "data": {
      "text/html": [
       "<pre style=\"white-space:pre;overflow-x:auto;line-height:normal;font-family:Menlo,'DejaVu Sans Mono',consolas,'Courier New',monospace\"><span style=\"color: #000080; text-decoration-color: #000080\"> 'n_impossible': 0,\n",
       "</span></pre>\n"
      ],
      "text/plain": [
       "\u001b[34m 'n_impossible': 0,\n",
       "\u001b[0m"
      ]
     },
     "metadata": {},
     "output_type": "display_data"
    },
    {
     "data": {
      "text/html": [
       "<pre style=\"white-space:pre;overflow-x:auto;line-height:normal;font-family:Menlo,'DejaVu Sans Mono',consolas,'Courier New',monospace\"><span style=\"color: #000080; text-decoration-color: #000080\"> 'n_processed': 14,\n",
       "</span></pre>\n"
      ],
      "text/plain": [
       "\u001b[34m 'n_processed': 14,\n",
       "\u001b[0m"
      ]
     },
     "metadata": {},
     "output_type": "display_data"
    },
    {
     "data": {
      "text/html": [
       "<pre style=\"white-space:pre;overflow-x:auto;line-height:normal;font-family:Menlo,'DejaVu Sans Mono',consolas,'Courier New',monospace\"><span style=\"color: #000080; text-decoration-color: #000080\"> 'n_refine': 6,\n",
       "</span></pre>\n"
      ],
      "text/plain": [
       "\u001b[34m 'n_refine': 6,\n",
       "\u001b[0m"
      ]
     },
     "metadata": {},
     "output_type": "display_data"
    },
    {
     "data": {
      "text/html": [
       "<pre style=\"white-space:pre;overflow-x:auto;line-height:normal;font-family:Menlo,'DejaVu Sans Mono',consolas,'Courier New',monospace\"><span style=\"color: #000080; text-decoration-color: #000080\"> 'runtime_cleanup': '0.419330',\n",
       "</span></pre>\n"
      ],
      "text/plain": [
       "\u001b[34m 'runtime_cleanup': '0.419330',\n",
       "\u001b[0m"
      ]
     },
     "metadata": {},
     "output_type": "display_data"
    },
    {
     "data": {
      "text/html": [
       "<pre style=\"white-space:pre;overflow-x:auto;line-height:normal;font-family:Menlo,'DejaVu Sans Mono',consolas,'Courier New',monospace\"><span style=\"color: #000080; text-decoration-color: #000080\"> 'runtime_convergence_check': '0.713721',\n",
       "</span></pre>\n"
      ],
      "text/plain": [
       "\u001b[34m 'runtime_convergence_check': '0.713721',\n",
       "\u001b[0m"
      ]
     },
     "metadata": {},
     "output_type": "display_data"
    },
    {
     "data": {
      "text/html": [
       "<pre style=\"white-space:pre;overflow-x:auto;line-height:normal;font-family:Menlo,'DejaVu Sans Mono',consolas,'Courier New',monospace\"><span style=\"color: #000080; text-decoration-color: #000080\"> 'runtime_processing': '0.626581',\n",
       "</span></pre>\n"
      ],
      "text/plain": [
       "\u001b[34m 'runtime_processing': '0.626581',\n",
       "\u001b[0m"
      ]
     },
     "metadata": {},
     "output_type": "display_data"
    },
    {
     "data": {
      "text/html": [
       "<pre style=\"white-space:pre;overflow-x:auto;line-height:normal;font-family:Menlo,'DejaVu Sans Mono',consolas,'Courier New',monospace\"><span style=\"color: #000080; text-decoration-color: #000080\"> 'runtime_refine_deepen': '0.105506',\n",
       "</span></pre>\n"
      ],
      "text/plain": [
       "\u001b[34m 'runtime_refine_deepen': '0.105506',\n",
       "\u001b[0m"
      ]
     },
     "metadata": {},
     "output_type": "display_data"
    },
    {
     "data": {
      "text/html": [
       "<pre style=\"white-space:pre;overflow-x:auto;line-height:normal;font-family:Menlo,'DejaVu Sans Mono',consolas,'Courier New',monospace\"><span style=\"color: #000080; text-decoration-color: #000080\"> 'spread_tie': '0.003326',\n",
       "</span></pre>\n"
      ],
      "text/plain": [
       "\u001b[34m 'spread_tie': '0.003326',\n",
       "\u001b[0m"
      ]
     },
     "metadata": {},
     "output_type": "display_data"
    },
    {
     "data": {
      "text/html": [
       "<pre style=\"white-space:pre;overflow-x:auto;line-height:normal;font-family:Menlo,'DejaVu Sans Mono',consolas,'Courier New',monospace\"><span style=\"color: #000080; text-decoration-color: #000080\"> 'std_tie': '0.000890',\n",
       "</span></pre>\n"
      ],
      "text/plain": [
       "\u001b[34m 'std_tie': '0.000890',\n",
       "\u001b[0m"
      ]
     },
     "metadata": {},
     "output_type": "display_data"
    },
    {
     "data": {
      "text/html": [
       "<pre style=\"white-space:pre;overflow-x:auto;line-height:normal;font-family:Menlo,'DejaVu Sans Mono',consolas,'Courier New',monospace\"><span style=\"color: #000080; text-decoration-color: #000080\"> 'tie + slack': '0.024895',\n",
       "</span></pre>\n"
      ],
      "text/plain": [
       "\u001b[34m 'tie + slack': '0.024895',\n",
       "\u001b[0m"
      ]
     },
     "metadata": {},
     "output_type": "display_data"
    },
    {
     "data": {
      "text/html": [
       "<pre style=\"white-space:pre;overflow-x:auto;line-height:normal;font-family:Menlo,'DejaVu Sans Mono',consolas,'Courier New',monospace\"><span style=\"color: #000080; text-decoration-color: #000080\"> 'tie_{k}(lamss)': '0.024414'}\n",
       "</span></pre>\n"
      ],
      "text/plain": [
       "\u001b[34m 'tie_{k}(lamss)': '0.024414'}\n",
       "\u001b[0m"
      ]
     },
     "metadata": {},
     "output_type": "display_data"
    },
    {
     "data": {
      "text/html": [
       "<pre style=\"white-space:pre;overflow-x:auto;line-height:normal;font-family:Menlo,'DejaVu Sans Mono',consolas,'Courier New',monospace\"><span style=\"color: #000080; text-decoration-color: #000080\">{'K_distribution': {32768: 2, 65536: 1, 131072: 11},\n",
       "</span></pre>\n"
      ],
      "text/plain": [
       "\u001b[34m{'K_distribution': {32768: 2, 65536: 1, 131072: 11},\n",
       "\u001b[0m"
      ]
     },
     "metadata": {},
     "output_type": "display_data"
    },
    {
     "data": {
      "text/html": [
       "<pre style=\"white-space:pre;overflow-x:auto;line-height:normal;font-family:Menlo,'DejaVu Sans Mono',consolas,'Courier New',monospace\"><span style=\"color: #000080; text-decoration-color: #000080\"> 'bias_tie': '0.000126',\n",
       "</span></pre>\n"
      ],
      "text/plain": [
       "\u001b[34m 'bias_tie': '0.000126',\n",
       "\u001b[0m"
      ]
     },
     "metadata": {},
     "output_type": "display_data"
    },
    {
     "data": {
      "text/html": [
       "<pre style=\"white-space:pre;overflow-x:auto;line-height:normal;font-family:Menlo,'DejaVu Sans Mono',consolas,'Courier New',monospace\"><span style=\"color: #000080; text-decoration-color: #000080\"> 'grid_cost': 0.000264043,\n",
       "</span></pre>\n"
      ],
      "text/plain": [
       "\u001b[34m 'grid_cost': 0.000264043,\n",
       "\u001b[0m"
      ]
     },
     "metadata": {},
     "output_type": "display_data"
    },
    {
     "data": {
      "text/html": [
       "<pre style=\"white-space:pre;overflow-x:auto;line-height:normal;font-family:Menlo,'DejaVu Sans Mono',consolas,'Courier New',monospace\"><span style=\"color: #000080; text-decoration-color: #000080\"> 'i': 8,\n",
       "</span></pre>\n"
      ],
      "text/plain": [
       "\u001b[34m 'i': 8,\n",
       "\u001b[0m"
      ]
     },
     "metadata": {},
     "output_type": "display_data"
    },
    {
     "data": {
      "text/html": [
       "<pre style=\"white-space:pre;overflow-x:auto;line-height:normal;font-family:Menlo,'DejaVu Sans Mono',consolas,'Courier New',monospace\"><span style=\"color: #000080; text-decoration-color: #000080\"> 'lamss': -1.9585243,\n",
       "</span></pre>\n"
      ],
      "text/plain": [
       "\u001b[34m 'lamss': -1.9585243,\n",
       "\u001b[0m"
      ]
     },
     "metadata": {},
     "output_type": "display_data"
    },
    {
     "data": {
      "text/html": [
       "<pre style=\"white-space:pre;overflow-x:auto;line-height:normal;font-family:Menlo,'DejaVu Sans Mono',consolas,'Courier New',monospace\"><span style=\"color: #000080; text-decoration-color: #000080\"> 'max(B_lamss)': '-1.928307',\n",
       "</span></pre>\n"
      ],
      "text/plain": [
       "\u001b[34m 'max(B_lamss)': '-1.928307',\n",
       "\u001b[0m"
      ]
     },
     "metadata": {},
     "output_type": "display_data"
    },
    {
     "data": {
      "text/html": [
       "<pre style=\"white-space:pre;overflow-x:auto;line-height:normal;font-family:Menlo,'DejaVu Sans Mono',consolas,'Courier New',monospace\"><span style=\"color: #000080; text-decoration-color: #000080\"> 'min(B_lamss)': '-1.979097',\n",
       "</span></pre>\n"
      ],
      "text/plain": [
       "\u001b[34m 'min(B_lamss)': '-1.979097',\n",
       "\u001b[0m"
      ]
     },
     "metadata": {},
     "output_type": "display_data"
    },
    {
     "data": {
      "text/html": [
       "<pre style=\"white-space:pre;overflow-x:auto;line-height:normal;font-family:Menlo,'DejaVu Sans Mono',consolas,'Courier New',monospace\"><span style=\"color: #000080; text-decoration-color: #000080\"> 'n_complete': 0,\n",
       "</span></pre>\n"
      ],
      "text/plain": [
       "\u001b[34m 'n_complete': 0,\n",
       "\u001b[0m"
      ]
     },
     "metadata": {},
     "output_type": "display_data"
    },
    {
     "data": {
      "text/html": [
       "<pre style=\"white-space:pre;overflow-x:auto;line-height:normal;font-family:Menlo,'DejaVu Sans Mono',consolas,'Courier New',monospace\"><span style=\"color: #000080; text-decoration-color: #000080\"> 'n_deepen': 2,\n",
       "</span></pre>\n"
      ],
      "text/plain": [
       "\u001b[34m 'n_deepen': 2,\n",
       "\u001b[0m"
      ]
     },
     "metadata": {},
     "output_type": "display_data"
    },
    {
     "data": {
      "text/html": [
       "<pre style=\"white-space:pre;overflow-x:auto;line-height:normal;font-family:Menlo,'DejaVu Sans Mono',consolas,'Courier New',monospace\"><span style=\"color: #000080; text-decoration-color: #000080\"> 'n_impossible': 0,\n",
       "</span></pre>\n"
      ],
      "text/plain": [
       "\u001b[34m 'n_impossible': 0,\n",
       "\u001b[0m"
      ]
     },
     "metadata": {},
     "output_type": "display_data"
    },
    {
     "data": {
      "text/html": [
       "<pre style=\"white-space:pre;overflow-x:auto;line-height:normal;font-family:Menlo,'DejaVu Sans Mono',consolas,'Courier New',monospace\"><span style=\"color: #000080; text-decoration-color: #000080\"> 'n_processed': 14,\n",
       "</span></pre>\n"
      ],
      "text/plain": [
       "\u001b[34m 'n_processed': 14,\n",
       "\u001b[0m"
      ]
     },
     "metadata": {},
     "output_type": "display_data"
    },
    {
     "data": {
      "text/html": [
       "<pre style=\"white-space:pre;overflow-x:auto;line-height:normal;font-family:Menlo,'DejaVu Sans Mono',consolas,'Courier New',monospace\"><span style=\"color: #000080; text-decoration-color: #000080\"> 'n_refine': 6,\n",
       "</span></pre>\n"
      ],
      "text/plain": [
       "\u001b[34m 'n_refine': 6,\n",
       "\u001b[0m"
      ]
     },
     "metadata": {},
     "output_type": "display_data"
    },
    {
     "data": {
      "text/html": [
       "<pre style=\"white-space:pre;overflow-x:auto;line-height:normal;font-family:Menlo,'DejaVu Sans Mono',consolas,'Courier New',monospace\"><span style=\"color: #000080; text-decoration-color: #000080\"> 'runtime_cleanup': '0.344388',\n",
       "</span></pre>\n"
      ],
      "text/plain": [
       "\u001b[34m 'runtime_cleanup': '0.344388',\n",
       "\u001b[0m"
      ]
     },
     "metadata": {},
     "output_type": "display_data"
    },
    {
     "data": {
      "text/html": [
       "<pre style=\"white-space:pre;overflow-x:auto;line-height:normal;font-family:Menlo,'DejaVu Sans Mono',consolas,'Courier New',monospace\"><span style=\"color: #000080; text-decoration-color: #000080\"> 'runtime_convergence_check': '0.528586',\n",
       "</span></pre>\n"
      ],
      "text/plain": [
       "\u001b[34m 'runtime_convergence_check': '0.528586',\n",
       "\u001b[0m"
      ]
     },
     "metadata": {},
     "output_type": "display_data"
    },
    {
     "data": {
      "text/html": [
       "<pre style=\"white-space:pre;overflow-x:auto;line-height:normal;font-family:Menlo,'DejaVu Sans Mono',consolas,'Courier New',monospace\"><span style=\"color: #000080; text-decoration-color: #000080\"> 'runtime_processing': '0.542842',\n",
       "</span></pre>\n"
      ],
      "text/plain": [
       "\u001b[34m 'runtime_processing': '0.542842',\n",
       "\u001b[0m"
      ]
     },
     "metadata": {},
     "output_type": "display_data"
    },
    {
     "data": {
      "text/html": [
       "<pre style=\"white-space:pre;overflow-x:auto;line-height:normal;font-family:Menlo,'DejaVu Sans Mono',consolas,'Courier New',monospace\"><span style=\"color: #000080; text-decoration-color: #000080\"> 'runtime_refine_deepen': '0.134823',\n",
       "</span></pre>\n"
      ],
      "text/plain": [
       "\u001b[34m 'runtime_refine_deepen': '0.134823',\n",
       "\u001b[0m"
      ]
     },
     "metadata": {},
     "output_type": "display_data"
    },
    {
     "data": {
      "text/html": [
       "<pre style=\"white-space:pre;overflow-x:auto;line-height:normal;font-family:Menlo,'DejaVu Sans Mono',consolas,'Courier New',monospace\"><span style=\"color: #000080; text-decoration-color: #000080\"> 'spread_tie': '0.002838',\n",
       "</span></pre>\n"
      ],
      "text/plain": [
       "\u001b[34m 'spread_tie': '0.002838',\n",
       "\u001b[0m"
      ]
     },
     "metadata": {},
     "output_type": "display_data"
    },
    {
     "data": {
      "text/html": [
       "<pre style=\"white-space:pre;overflow-x:auto;line-height:normal;font-family:Menlo,'DejaVu Sans Mono',consolas,'Courier New',monospace\"><span style=\"color: #000080; text-decoration-color: #000080\"> 'std_tie': '0.000702',\n",
       "</span></pre>\n"
      ],
      "text/plain": [
       "\u001b[34m 'std_tie': '0.000702',\n",
       "\u001b[0m"
      ]
     },
     "metadata": {},
     "output_type": "display_data"
    },
    {
     "data": {
      "text/html": [
       "<pre style=\"white-space:pre;overflow-x:auto;line-height:normal;font-family:Menlo,'DejaVu Sans Mono',consolas,'Courier New',monospace\"><span style=\"color: #000080; text-decoration-color: #000080\"> 'tie + slack': '0.025079',\n",
       "</span></pre>\n"
      ],
      "text/plain": [
       "\u001b[34m 'tie + slack': '0.025079',\n",
       "\u001b[0m"
      ]
     },
     "metadata": {},
     "output_type": "display_data"
    },
    {
     "data": {
      "text/html": [
       "<pre style=\"white-space:pre;overflow-x:auto;line-height:normal;font-family:Menlo,'DejaVu Sans Mono',consolas,'Courier New',monospace\"><span style=\"color: #000080; text-decoration-color: #000080\"> 'tie_{k}(lamss)': '0.024689'}\n",
       "</span></pre>\n"
      ],
      "text/plain": [
       "\u001b[34m 'tie_{k}(lamss)': '0.024689'}\n",
       "\u001b[0m"
      ]
     },
     "metadata": {},
     "output_type": "display_data"
    },
    {
     "data": {
      "text/html": [
       "<pre style=\"white-space:pre;overflow-x:auto;line-height:normal;font-family:Menlo,'DejaVu Sans Mono',consolas,'Courier New',monospace\"><span style=\"color: #000080; text-decoration-color: #000080\">{'K_distribution': {32768: 2, 65536: 1, 131072: 11},\n",
       "</span></pre>\n"
      ],
      "text/plain": [
       "\u001b[34m{'K_distribution': {32768: 2, 65536: 1, 131072: 11},\n",
       "\u001b[0m"
      ]
     },
     "metadata": {},
     "output_type": "display_data"
    },
    {
     "data": {
      "text/html": [
       "<pre style=\"white-space:pre;overflow-x:auto;line-height:normal;font-family:Menlo,'DejaVu Sans Mono',consolas,'Courier New',monospace\"><span style=\"color: #000080; text-decoration-color: #000080\"> 'bias_tie': '0.000126',\n",
       "</span></pre>\n"
      ],
      "text/plain": [
       "\u001b[34m 'bias_tie': '0.000126',\n",
       "\u001b[0m"
      ]
     },
     "metadata": {},
     "output_type": "display_data"
    },
    {
     "data": {
      "text/html": [
       "<pre style=\"white-space:pre;overflow-x:auto;line-height:normal;font-family:Menlo,'DejaVu Sans Mono',consolas,'Courier New',monospace\"><span style=\"color: #000080; text-decoration-color: #000080\"> 'grid_cost': 0.000264043,\n",
       "</span></pre>\n"
      ],
      "text/plain": [
       "\u001b[34m 'grid_cost': 0.000264043,\n",
       "\u001b[0m"
      ]
     },
     "metadata": {},
     "output_type": "display_data"
    },
    {
     "data": {
      "text/html": [
       "<pre style=\"white-space:pre;overflow-x:auto;line-height:normal;font-family:Menlo,'DejaVu Sans Mono',consolas,'Courier New',monospace\"><span style=\"color: #000080; text-decoration-color: #000080\"> 'i': 8,\n",
       "</span></pre>\n"
      ],
      "text/plain": [
       "\u001b[34m 'i': 8,\n",
       "\u001b[0m"
      ]
     },
     "metadata": {},
     "output_type": "display_data"
    },
    {
     "data": {
      "text/html": [
       "<pre style=\"white-space:pre;overflow-x:auto;line-height:normal;font-family:Menlo,'DejaVu Sans Mono',consolas,'Courier New',monospace\"><span style=\"color: #000080; text-decoration-color: #000080\"> 'lamss': -1.9585243,\n",
       "</span></pre>\n"
      ],
      "text/plain": [
       "\u001b[34m 'lamss': -1.9585243,\n",
       "\u001b[0m"
      ]
     },
     "metadata": {},
     "output_type": "display_data"
    },
    {
     "data": {
      "text/html": [
       "<pre style=\"white-space:pre;overflow-x:auto;line-height:normal;font-family:Menlo,'DejaVu Sans Mono',consolas,'Courier New',monospace\"><span style=\"color: #000080; text-decoration-color: #000080\"> 'max(B_lamss)': '-1.928307',\n",
       "</span></pre>\n"
      ],
      "text/plain": [
       "\u001b[34m 'max(B_lamss)': '-1.928307',\n",
       "\u001b[0m"
      ]
     },
     "metadata": {},
     "output_type": "display_data"
    },
    {
     "data": {
      "text/html": [
       "<pre style=\"white-space:pre;overflow-x:auto;line-height:normal;font-family:Menlo,'DejaVu Sans Mono',consolas,'Courier New',monospace\"><span style=\"color: #000080; text-decoration-color: #000080\"> 'min(B_lamss)': '-1.979097',\n",
       "</span></pre>\n"
      ],
      "text/plain": [
       "\u001b[34m 'min(B_lamss)': '-1.979097',\n",
       "\u001b[0m"
      ]
     },
     "metadata": {},
     "output_type": "display_data"
    },
    {
     "data": {
      "text/html": [
       "<pre style=\"white-space:pre;overflow-x:auto;line-height:normal;font-family:Menlo,'DejaVu Sans Mono',consolas,'Courier New',monospace\"><span style=\"color: #000080; text-decoration-color: #000080\"> 'n_complete': 0,\n",
       "</span></pre>\n"
      ],
      "text/plain": [
       "\u001b[34m 'n_complete': 0,\n",
       "\u001b[0m"
      ]
     },
     "metadata": {},
     "output_type": "display_data"
    },
    {
     "data": {
      "text/html": [
       "<pre style=\"white-space:pre;overflow-x:auto;line-height:normal;font-family:Menlo,'DejaVu Sans Mono',consolas,'Courier New',monospace\"><span style=\"color: #000080; text-decoration-color: #000080\"> 'n_deepen': 2,\n",
       "</span></pre>\n"
      ],
      "text/plain": [
       "\u001b[34m 'n_deepen': 2,\n",
       "\u001b[0m"
      ]
     },
     "metadata": {},
     "output_type": "display_data"
    },
    {
     "data": {
      "text/html": [
       "<pre style=\"white-space:pre;overflow-x:auto;line-height:normal;font-family:Menlo,'DejaVu Sans Mono',consolas,'Courier New',monospace\"><span style=\"color: #000080; text-decoration-color: #000080\"> 'n_impossible': 0,\n",
       "</span></pre>\n"
      ],
      "text/plain": [
       "\u001b[34m 'n_impossible': 0,\n",
       "\u001b[0m"
      ]
     },
     "metadata": {},
     "output_type": "display_data"
    },
    {
     "data": {
      "text/html": [
       "<pre style=\"white-space:pre;overflow-x:auto;line-height:normal;font-family:Menlo,'DejaVu Sans Mono',consolas,'Courier New',monospace\"><span style=\"color: #000080; text-decoration-color: #000080\"> 'n_processed': 14,\n",
       "</span></pre>\n"
      ],
      "text/plain": [
       "\u001b[34m 'n_processed': 14,\n",
       "\u001b[0m"
      ]
     },
     "metadata": {},
     "output_type": "display_data"
    },
    {
     "data": {
      "text/html": [
       "<pre style=\"white-space:pre;overflow-x:auto;line-height:normal;font-family:Menlo,'DejaVu Sans Mono',consolas,'Courier New',monospace\"><span style=\"color: #000080; text-decoration-color: #000080\"> 'n_refine': 6,\n",
       "</span></pre>\n"
      ],
      "text/plain": [
       "\u001b[34m 'n_refine': 6,\n",
       "\u001b[0m"
      ]
     },
     "metadata": {},
     "output_type": "display_data"
    },
    {
     "data": {
      "text/html": [
       "<pre style=\"white-space:pre;overflow-x:auto;line-height:normal;font-family:Menlo,'DejaVu Sans Mono',consolas,'Courier New',monospace\"><span style=\"color: #000080; text-decoration-color: #000080\"> 'runtime_cleanup': '0.272202',\n",
       "</span></pre>\n"
      ],
      "text/plain": [
       "\u001b[34m 'runtime_cleanup': '0.272202',\n",
       "\u001b[0m"
      ]
     },
     "metadata": {},
     "output_type": "display_data"
    },
    {
     "data": {
      "text/html": [
       "<pre style=\"white-space:pre;overflow-x:auto;line-height:normal;font-family:Menlo,'DejaVu Sans Mono',consolas,'Courier New',monospace\"><span style=\"color: #000080; text-decoration-color: #000080\"> 'runtime_convergence_check': '0.502321',\n",
       "</span></pre>\n"
      ],
      "text/plain": [
       "\u001b[34m 'runtime_convergence_check': '0.502321',\n",
       "\u001b[0m"
      ]
     },
     "metadata": {},
     "output_type": "display_data"
    },
    {
     "data": {
      "text/html": [
       "<pre style=\"white-space:pre;overflow-x:auto;line-height:normal;font-family:Menlo,'DejaVu Sans Mono',consolas,'Courier New',monospace\"><span style=\"color: #000080; text-decoration-color: #000080\"> 'runtime_processing': '0.546783',\n",
       "</span></pre>\n"
      ],
      "text/plain": [
       "\u001b[34m 'runtime_processing': '0.546783',\n",
       "\u001b[0m"
      ]
     },
     "metadata": {},
     "output_type": "display_data"
    },
    {
     "data": {
      "text/html": [
       "<pre style=\"white-space:pre;overflow-x:auto;line-height:normal;font-family:Menlo,'DejaVu Sans Mono',consolas,'Courier New',monospace\"><span style=\"color: #000080; text-decoration-color: #000080\"> 'runtime_refine_deepen': '0.082999',\n",
       "</span></pre>\n"
      ],
      "text/plain": [
       "\u001b[34m 'runtime_refine_deepen': '0.082999',\n",
       "\u001b[0m"
      ]
     },
     "metadata": {},
     "output_type": "display_data"
    },
    {
     "data": {
      "text/html": [
       "<pre style=\"white-space:pre;overflow-x:auto;line-height:normal;font-family:Menlo,'DejaVu Sans Mono',consolas,'Courier New',monospace\"><span style=\"color: #000080; text-decoration-color: #000080\"> 'spread_tie': '0.002838',\n",
       "</span></pre>\n"
      ],
      "text/plain": [
       "\u001b[34m 'spread_tie': '0.002838',\n",
       "\u001b[0m"
      ]
     },
     "metadata": {},
     "output_type": "display_data"
    },
    {
     "data": {
      "text/html": [
       "<pre style=\"white-space:pre;overflow-x:auto;line-height:normal;font-family:Menlo,'DejaVu Sans Mono',consolas,'Courier New',monospace\"><span style=\"color: #000080; text-decoration-color: #000080\"> 'std_tie': '0.000702',\n",
       "</span></pre>\n"
      ],
      "text/plain": [
       "\u001b[34m 'std_tie': '0.000702',\n",
       "\u001b[0m"
      ]
     },
     "metadata": {},
     "output_type": "display_data"
    },
    {
     "data": {
      "text/html": [
       "<pre style=\"white-space:pre;overflow-x:auto;line-height:normal;font-family:Menlo,'DejaVu Sans Mono',consolas,'Courier New',monospace\"><span style=\"color: #000080; text-decoration-color: #000080\"> 'tie + slack': '0.025079',\n",
       "</span></pre>\n"
      ],
      "text/plain": [
       "\u001b[34m 'tie + slack': '0.025079',\n",
       "\u001b[0m"
      ]
     },
     "metadata": {},
     "output_type": "display_data"
    },
    {
     "data": {
      "text/html": [
       "<pre style=\"white-space:pre;overflow-x:auto;line-height:normal;font-family:Menlo,'DejaVu Sans Mono',consolas,'Courier New',monospace\"><span style=\"color: #000080; text-decoration-color: #000080\"> 'tie_{k}(lamss)': '0.024689'}\n",
       "</span></pre>\n"
      ],
      "text/plain": [
       "\u001b[34m 'tie_{k}(lamss)': '0.024689'}\n",
       "\u001b[0m"
      ]
     },
     "metadata": {},
     "output_type": "display_data"
    },
    {
     "data": {
      "text/html": [
       "<pre style=\"white-space:pre;overflow-x:auto;line-height:normal;font-family:Menlo,'DejaVu Sans Mono',consolas,'Courier New',monospace\"><span style=\"color: #000080; text-decoration-color: #000080\">{'K_distribution': {65536: 2, 131072: 11},\n",
       "</span></pre>\n"
      ],
      "text/plain": [
       "\u001b[34m{'K_distribution': {65536: 2, 131072: 11},\n",
       "\u001b[0m"
      ]
     },
     "metadata": {},
     "output_type": "display_data"
    },
    {
     "data": {
      "text/html": [
       "<pre style=\"white-space:pre;overflow-x:auto;line-height:normal;font-family:Menlo,'DejaVu Sans Mono',consolas,'Courier New',monospace\"><span style=\"color: #000080; text-decoration-color: #000080\"> 'bias_tie': '0.000350',\n",
       "</span></pre>\n"
      ],
      "text/plain": [
       "\u001b[34m 'bias_tie': '0.000350',\n",
       "\u001b[0m"
      ]
     },
     "metadata": {},
     "output_type": "display_data"
    },
    {
     "data": {
      "text/html": [
       "<pre style=\"white-space:pre;overflow-x:auto;line-height:normal;font-family:Menlo,'DejaVu Sans Mono',consolas,'Courier New',monospace\"><span style=\"color: #000080; text-decoration-color: #000080\"> 'grid_cost': 0.00013232417,\n",
       "</span></pre>\n"
      ],
      "text/plain": [
       "\u001b[34m 'grid_cost': 0.00013232417,\n",
       "\u001b[0m"
      ]
     },
     "metadata": {},
     "output_type": "display_data"
    },
    {
     "data": {
      "text/html": [
       "<pre style=\"white-space:pre;overflow-x:auto;line-height:normal;font-family:Menlo,'DejaVu Sans Mono',consolas,'Courier New',monospace\"><span style=\"color: #000080; text-decoration-color: #000080\"> 'i': 9,\n",
       "</span></pre>\n"
      ],
      "text/plain": [
       "\u001b[34m 'i': 9,\n",
       "\u001b[0m"
      ]
     },
     "metadata": {},
     "output_type": "display_data"
    },
    {
     "data": {
      "text/html": [
       "<pre style=\"white-space:pre;overflow-x:auto;line-height:normal;font-family:Menlo,'DejaVu Sans Mono',consolas,'Courier New',monospace\"><span style=\"color: #000080; text-decoration-color: #000080\"> 'lamss': -1.9582566,\n",
       "</span></pre>\n"
      ],
      "text/plain": [
       "\u001b[34m 'lamss': -1.9582566,\n",
       "\u001b[0m"
      ]
     },
     "metadata": {},
     "output_type": "display_data"
    },
    {
     "data": {
      "text/html": [
       "<pre style=\"white-space:pre;overflow-x:auto;line-height:normal;font-family:Menlo,'DejaVu Sans Mono',consolas,'Courier New',monospace\"><span style=\"color: #000080; text-decoration-color: #000080\"> 'max(B_lamss)': '-1.936772',\n",
       "</span></pre>\n"
      ],
      "text/plain": [
       "\u001b[34m 'max(B_lamss)': '-1.936772',\n",
       "\u001b[0m"
      ]
     },
     "metadata": {},
     "output_type": "display_data"
    },
    {
     "data": {
      "text/html": [
       "<pre style=\"white-space:pre;overflow-x:auto;line-height:normal;font-family:Menlo,'DejaVu Sans Mono',consolas,'Courier New',monospace\"><span style=\"color: #000080; text-decoration-color: #000080\"> 'min(B_lamss)': '-1.980363',\n",
       "</span></pre>\n"
      ],
      "text/plain": [
       "\u001b[34m 'min(B_lamss)': '-1.980363',\n",
       "\u001b[0m"
      ]
     },
     "metadata": {},
     "output_type": "display_data"
    },
    {
     "data": {
      "text/html": [
       "<pre style=\"white-space:pre;overflow-x:auto;line-height:normal;font-family:Menlo,'DejaVu Sans Mono',consolas,'Courier New',monospace\"><span style=\"color: #000080; text-decoration-color: #000080\"> 'n_complete': 0,\n",
       "</span></pre>\n"
      ],
      "text/plain": [
       "\u001b[34m 'n_complete': 0,\n",
       "\u001b[0m"
      ]
     },
     "metadata": {},
     "output_type": "display_data"
    },
    {
     "data": {
      "text/html": [
       "<pre style=\"white-space:pre;overflow-x:auto;line-height:normal;font-family:Menlo,'DejaVu Sans Mono',consolas,'Courier New',monospace\"><span style=\"color: #000080; text-decoration-color: #000080\"> 'n_deepen': 3,\n",
       "</span></pre>\n"
      ],
      "text/plain": [
       "\u001b[34m 'n_deepen': 3,\n",
       "\u001b[0m"
      ]
     },
     "metadata": {},
     "output_type": "display_data"
    },
    {
     "data": {
      "text/html": [
       "<pre style=\"white-space:pre;overflow-x:auto;line-height:normal;font-family:Menlo,'DejaVu Sans Mono',consolas,'Courier New',monospace\"><span style=\"color: #000080; text-decoration-color: #000080\"> 'n_impossible': 0,\n",
       "</span></pre>\n"
      ],
      "text/plain": [
       "\u001b[34m 'n_impossible': 0,\n",
       "\u001b[0m"
      ]
     },
     "metadata": {},
     "output_type": "display_data"
    },
    {
     "data": {
      "text/html": [
       "<pre style=\"white-space:pre;overflow-x:auto;line-height:normal;font-family:Menlo,'DejaVu Sans Mono',consolas,'Courier New',monospace\"><span style=\"color: #000080; text-decoration-color: #000080\"> 'n_processed': 13,\n",
       "</span></pre>\n"
      ],
      "text/plain": [
       "\u001b[34m 'n_processed': 13,\n",
       "\u001b[0m"
      ]
     },
     "metadata": {},
     "output_type": "display_data"
    },
    {
     "data": {
      "text/html": [
       "<pre style=\"white-space:pre;overflow-x:auto;line-height:normal;font-family:Menlo,'DejaVu Sans Mono',consolas,'Courier New',monospace\"><span style=\"color: #000080; text-decoration-color: #000080\"> 'n_refine': 5,\n",
       "</span></pre>\n"
      ],
      "text/plain": [
       "\u001b[34m 'n_refine': 5,\n",
       "\u001b[0m"
      ]
     },
     "metadata": {},
     "output_type": "display_data"
    },
    {
     "data": {
      "text/html": [
       "<pre style=\"white-space:pre;overflow-x:auto;line-height:normal;font-family:Menlo,'DejaVu Sans Mono',consolas,'Courier New',monospace\"><span style=\"color: #000080; text-decoration-color: #000080\"> 'runtime_cleanup': '0.313950',\n",
       "</span></pre>\n"
      ],
      "text/plain": [
       "\u001b[34m 'runtime_cleanup': '0.313950',\n",
       "\u001b[0m"
      ]
     },
     "metadata": {},
     "output_type": "display_data"
    },
    {
     "data": {
      "text/html": [
       "<pre style=\"white-space:pre;overflow-x:auto;line-height:normal;font-family:Menlo,'DejaVu Sans Mono',consolas,'Courier New',monospace\"><span style=\"color: #000080; text-decoration-color: #000080\"> 'runtime_convergence_check': '0.645851',\n",
       "</span></pre>\n"
      ],
      "text/plain": [
       "\u001b[34m 'runtime_convergence_check': '0.645851',\n",
       "\u001b[0m"
      ]
     },
     "metadata": {},
     "output_type": "display_data"
    },
    {
     "data": {
      "text/html": [
       "<pre style=\"white-space:pre;overflow-x:auto;line-height:normal;font-family:Menlo,'DejaVu Sans Mono',consolas,'Courier New',monospace\"><span style=\"color: #000080; text-decoration-color: #000080\"> 'runtime_processing': '0.506488',\n",
       "</span></pre>\n"
      ],
      "text/plain": [
       "\u001b[34m 'runtime_processing': '0.506488',\n",
       "\u001b[0m"
      ]
     },
     "metadata": {},
     "output_type": "display_data"
    },
    {
     "data": {
      "text/html": [
       "<pre style=\"white-space:pre;overflow-x:auto;line-height:normal;font-family:Menlo,'DejaVu Sans Mono',consolas,'Courier New',monospace\"><span style=\"color: #000080; text-decoration-color: #000080\"> 'runtime_refine_deepen': '0.087065',\n",
       "</span></pre>\n"
      ],
      "text/plain": [
       "\u001b[34m 'runtime_refine_deepen': '0.087065',\n",
       "\u001b[0m"
      ]
     },
     "metadata": {},
     "output_type": "display_data"
    },
    {
     "data": {
      "text/html": [
       "<pre style=\"white-space:pre;overflow-x:auto;line-height:normal;font-family:Menlo,'DejaVu Sans Mono',consolas,'Courier New',monospace\"><span style=\"color: #000080; text-decoration-color: #000080\"> 'spread_tie': '0.002563',\n",
       "</span></pre>\n"
      ],
      "text/plain": [
       "\u001b[34m 'spread_tie': '0.002563',\n",
       "\u001b[0m"
      ]
     },
     "metadata": {},
     "output_type": "display_data"
    },
    {
     "data": {
      "text/html": [
       "<pre style=\"white-space:pre;overflow-x:auto;line-height:normal;font-family:Menlo,'DejaVu Sans Mono',consolas,'Courier New',monospace\"><span style=\"color: #000080; text-decoration-color: #000080\"> 'std_tie': '0.000548',\n",
       "</span></pre>\n"
      ],
      "text/plain": [
       "\u001b[34m 'std_tie': '0.000548',\n",
       "\u001b[0m"
      ]
     },
     "metadata": {},
     "output_type": "display_data"
    },
    {
     "data": {
      "text/html": [
       "<pre style=\"white-space:pre;overflow-x:auto;line-height:normal;font-family:Menlo,'DejaVu Sans Mono',consolas,'Courier New',monospace\"><span style=\"color: #000080; text-decoration-color: #000080\"> 'tie + slack': '0.025293',\n",
       "</span></pre>\n"
      ],
      "text/plain": [
       "\u001b[34m 'tie + slack': '0.025293',\n",
       "\u001b[0m"
      ]
     },
     "metadata": {},
     "output_type": "display_data"
    },
    {
     "data": {
      "text/html": [
       "<pre style=\"white-space:pre;overflow-x:auto;line-height:normal;font-family:Menlo,'DejaVu Sans Mono',consolas,'Courier New',monospace\"><span style=\"color: #000080; text-decoration-color: #000080\"> 'tie_{k}(lamss)': '0.024811'}\n",
       "</span></pre>\n"
      ],
      "text/plain": [
       "\u001b[34m 'tie_{k}(lamss)': '0.024811'}\n",
       "\u001b[0m"
      ]
     },
     "metadata": {},
     "output_type": "display_data"
    },
    {
     "data": {
      "text/html": [
       "<pre style=\"white-space:pre;overflow-x:auto;line-height:normal;font-family:Menlo,'DejaVu Sans Mono',consolas,'Courier New',monospace\"><span style=\"color: #000080; text-decoration-color: #000080\">{'K_distribution': {65536: 2, 131072: 11},\n",
       "</span></pre>\n"
      ],
      "text/plain": [
       "\u001b[34m{'K_distribution': {65536: 2, 131072: 11},\n",
       "\u001b[0m"
      ]
     },
     "metadata": {},
     "output_type": "display_data"
    },
    {
     "data": {
      "text/html": [
       "<pre style=\"white-space:pre;overflow-x:auto;line-height:normal;font-family:Menlo,'DejaVu Sans Mono',consolas,'Courier New',monospace\"><span style=\"color: #000080; text-decoration-color: #000080\"> 'bias_tie': '0.000350',\n",
       "</span></pre>\n"
      ],
      "text/plain": [
       "\u001b[34m 'bias_tie': '0.000350',\n",
       "\u001b[0m"
      ]
     },
     "metadata": {},
     "output_type": "display_data"
    },
    {
     "data": {
      "text/html": [
       "<pre style=\"white-space:pre;overflow-x:auto;line-height:normal;font-family:Menlo,'DejaVu Sans Mono',consolas,'Courier New',monospace\"><span style=\"color: #000080; text-decoration-color: #000080\"> 'grid_cost': 0.00013232417,\n",
       "</span></pre>\n"
      ],
      "text/plain": [
       "\u001b[34m 'grid_cost': 0.00013232417,\n",
       "\u001b[0m"
      ]
     },
     "metadata": {},
     "output_type": "display_data"
    },
    {
     "data": {
      "text/html": [
       "<pre style=\"white-space:pre;overflow-x:auto;line-height:normal;font-family:Menlo,'DejaVu Sans Mono',consolas,'Courier New',monospace\"><span style=\"color: #000080; text-decoration-color: #000080\"> 'i': 9,\n",
       "</span></pre>\n"
      ],
      "text/plain": [
       "\u001b[34m 'i': 9,\n",
       "\u001b[0m"
      ]
     },
     "metadata": {},
     "output_type": "display_data"
    },
    {
     "data": {
      "text/html": [
       "<pre style=\"white-space:pre;overflow-x:auto;line-height:normal;font-family:Menlo,'DejaVu Sans Mono',consolas,'Courier New',monospace\"><span style=\"color: #000080; text-decoration-color: #000080\"> 'lamss': -1.9582566,\n",
       "</span></pre>\n"
      ],
      "text/plain": [
       "\u001b[34m 'lamss': -1.9582566,\n",
       "\u001b[0m"
      ]
     },
     "metadata": {},
     "output_type": "display_data"
    },
    {
     "data": {
      "text/html": [
       "<pre style=\"white-space:pre;overflow-x:auto;line-height:normal;font-family:Menlo,'DejaVu Sans Mono',consolas,'Courier New',monospace\"><span style=\"color: #000080; text-decoration-color: #000080\"> 'max(B_lamss)': '-1.936772',\n",
       "</span></pre>\n"
      ],
      "text/plain": [
       "\u001b[34m 'max(B_lamss)': '-1.936772',\n",
       "\u001b[0m"
      ]
     },
     "metadata": {},
     "output_type": "display_data"
    },
    {
     "data": {
      "text/html": [
       "<pre style=\"white-space:pre;overflow-x:auto;line-height:normal;font-family:Menlo,'DejaVu Sans Mono',consolas,'Courier New',monospace\"><span style=\"color: #000080; text-decoration-color: #000080\"> 'min(B_lamss)': '-1.980363',\n",
       "</span></pre>\n"
      ],
      "text/plain": [
       "\u001b[34m 'min(B_lamss)': '-1.980363',\n",
       "\u001b[0m"
      ]
     },
     "metadata": {},
     "output_type": "display_data"
    },
    {
     "data": {
      "text/html": [
       "<pre style=\"white-space:pre;overflow-x:auto;line-height:normal;font-family:Menlo,'DejaVu Sans Mono',consolas,'Courier New',monospace\"><span style=\"color: #000080; text-decoration-color: #000080\"> 'n_complete': 0,\n",
       "</span></pre>\n"
      ],
      "text/plain": [
       "\u001b[34m 'n_complete': 0,\n",
       "\u001b[0m"
      ]
     },
     "metadata": {},
     "output_type": "display_data"
    },
    {
     "data": {
      "text/html": [
       "<pre style=\"white-space:pre;overflow-x:auto;line-height:normal;font-family:Menlo,'DejaVu Sans Mono',consolas,'Courier New',monospace\"><span style=\"color: #000080; text-decoration-color: #000080\"> 'n_deepen': 3,\n",
       "</span></pre>\n"
      ],
      "text/plain": [
       "\u001b[34m 'n_deepen': 3,\n",
       "\u001b[0m"
      ]
     },
     "metadata": {},
     "output_type": "display_data"
    },
    {
     "data": {
      "text/html": [
       "<pre style=\"white-space:pre;overflow-x:auto;line-height:normal;font-family:Menlo,'DejaVu Sans Mono',consolas,'Courier New',monospace\"><span style=\"color: #000080; text-decoration-color: #000080\"> 'n_impossible': 0,\n",
       "</span></pre>\n"
      ],
      "text/plain": [
       "\u001b[34m 'n_impossible': 0,\n",
       "\u001b[0m"
      ]
     },
     "metadata": {},
     "output_type": "display_data"
    },
    {
     "data": {
      "text/html": [
       "<pre style=\"white-space:pre;overflow-x:auto;line-height:normal;font-family:Menlo,'DejaVu Sans Mono',consolas,'Courier New',monospace\"><span style=\"color: #000080; text-decoration-color: #000080\"> 'n_processed': 13,\n",
       "</span></pre>\n"
      ],
      "text/plain": [
       "\u001b[34m 'n_processed': 13,\n",
       "\u001b[0m"
      ]
     },
     "metadata": {},
     "output_type": "display_data"
    },
    {
     "data": {
      "text/html": [
       "<pre style=\"white-space:pre;overflow-x:auto;line-height:normal;font-family:Menlo,'DejaVu Sans Mono',consolas,'Courier New',monospace\"><span style=\"color: #000080; text-decoration-color: #000080\"> 'n_refine': 5,\n",
       "</span></pre>\n"
      ],
      "text/plain": [
       "\u001b[34m 'n_refine': 5,\n",
       "\u001b[0m"
      ]
     },
     "metadata": {},
     "output_type": "display_data"
    },
    {
     "data": {
      "text/html": [
       "<pre style=\"white-space:pre;overflow-x:auto;line-height:normal;font-family:Menlo,'DejaVu Sans Mono',consolas,'Courier New',monospace\"><span style=\"color: #000080; text-decoration-color: #000080\"> 'runtime_cleanup': '0.537602',\n",
       "</span></pre>\n"
      ],
      "text/plain": [
       "\u001b[34m 'runtime_cleanup': '0.537602',\n",
       "\u001b[0m"
      ]
     },
     "metadata": {},
     "output_type": "display_data"
    },
    {
     "data": {
      "text/html": [
       "<pre style=\"white-space:pre;overflow-x:auto;line-height:normal;font-family:Menlo,'DejaVu Sans Mono',consolas,'Courier New',monospace\"><span style=\"color: #000080; text-decoration-color: #000080\"> 'runtime_convergence_check': '0.622494',\n",
       "</span></pre>\n"
      ],
      "text/plain": [
       "\u001b[34m 'runtime_convergence_check': '0.622494',\n",
       "\u001b[0m"
      ]
     },
     "metadata": {},
     "output_type": "display_data"
    },
    {
     "data": {
      "text/html": [
       "<pre style=\"white-space:pre;overflow-x:auto;line-height:normal;font-family:Menlo,'DejaVu Sans Mono',consolas,'Courier New',monospace\"><span style=\"color: #000080; text-decoration-color: #000080\"> 'runtime_processing': '0.511081',\n",
       "</span></pre>\n"
      ],
      "text/plain": [
       "\u001b[34m 'runtime_processing': '0.511081',\n",
       "\u001b[0m"
      ]
     },
     "metadata": {},
     "output_type": "display_data"
    },
    {
     "data": {
      "text/html": [
       "<pre style=\"white-space:pre;overflow-x:auto;line-height:normal;font-family:Menlo,'DejaVu Sans Mono',consolas,'Courier New',monospace\"><span style=\"color: #000080; text-decoration-color: #000080\"> 'runtime_refine_deepen': '0.097517',\n",
       "</span></pre>\n"
      ],
      "text/plain": [
       "\u001b[34m 'runtime_refine_deepen': '0.097517',\n",
       "\u001b[0m"
      ]
     },
     "metadata": {},
     "output_type": "display_data"
    },
    {
     "data": {
      "text/html": [
       "<pre style=\"white-space:pre;overflow-x:auto;line-height:normal;font-family:Menlo,'DejaVu Sans Mono',consolas,'Courier New',monospace\"><span style=\"color: #000080; text-decoration-color: #000080\"> 'spread_tie': '0.002563',\n",
       "</span></pre>\n"
      ],
      "text/plain": [
       "\u001b[34m 'spread_tie': '0.002563',\n",
       "\u001b[0m"
      ]
     },
     "metadata": {},
     "output_type": "display_data"
    },
    {
     "data": {
      "text/html": [
       "<pre style=\"white-space:pre;overflow-x:auto;line-height:normal;font-family:Menlo,'DejaVu Sans Mono',consolas,'Courier New',monospace\"><span style=\"color: #000080; text-decoration-color: #000080\"> 'std_tie': '0.000548',\n",
       "</span></pre>\n"
      ],
      "text/plain": [
       "\u001b[34m 'std_tie': '0.000548',\n",
       "\u001b[0m"
      ]
     },
     "metadata": {},
     "output_type": "display_data"
    },
    {
     "data": {
      "text/html": [
       "<pre style=\"white-space:pre;overflow-x:auto;line-height:normal;font-family:Menlo,'DejaVu Sans Mono',consolas,'Courier New',monospace\"><span style=\"color: #000080; text-decoration-color: #000080\"> 'tie + slack': '0.025293',\n",
       "</span></pre>\n"
      ],
      "text/plain": [
       "\u001b[34m 'tie + slack': '0.025293',\n",
       "\u001b[0m"
      ]
     },
     "metadata": {},
     "output_type": "display_data"
    },
    {
     "data": {
      "text/html": [
       "<pre style=\"white-space:pre;overflow-x:auto;line-height:normal;font-family:Menlo,'DejaVu Sans Mono',consolas,'Courier New',monospace\"><span style=\"color: #000080; text-decoration-color: #000080\"> 'tie_{k}(lamss)': '0.024811'}\n",
       "</span></pre>\n"
      ],
      "text/plain": [
       "\u001b[34m 'tie_{k}(lamss)': '0.024811'}\n",
       "\u001b[0m"
      ]
     },
     "metadata": {},
     "output_type": "display_data"
    },
    {
     "data": {
      "text/html": [
       "<pre style=\"white-space:pre;overflow-x:auto;line-height:normal;font-family:Menlo,'DejaVu Sans Mono',consolas,'Courier New',monospace\"><span style=\"color: #000080; text-decoration-color: #000080\">{'K_distribution': {131072: 14},\n",
       "</span></pre>\n"
      ],
      "text/plain": [
       "\u001b[34m{'K_distribution': {131072: 14},\n",
       "\u001b[0m"
      ]
     },
     "metadata": {},
     "output_type": "display_data"
    },
    {
     "data": {
      "text/html": [
       "<pre style=\"white-space:pre;overflow-x:auto;line-height:normal;font-family:Menlo,'DejaVu Sans Mono',consolas,'Courier New',monospace\"><span style=\"color: #000080; text-decoration-color: #000080\"> 'bias_tie': '0.000279',\n",
       "</span></pre>\n"
      ],
      "text/plain": [
       "\u001b[34m 'bias_tie': '0.000279',\n",
       "\u001b[0m"
      ]
     },
     "metadata": {},
     "output_type": "display_data"
    },
    {
     "data": {
      "text/html": [
       "<pre style=\"white-space:pre;overflow-x:auto;line-height:normal;font-family:Menlo,'DejaVu Sans Mono',consolas,'Courier New',monospace\"><span style=\"color: #000080; text-decoration-color: #000080\"> 'grid_cost': 0.00013232417,\n",
       "</span></pre>\n"
      ],
      "text/plain": [
       "\u001b[34m 'grid_cost': 0.00013232417,\n",
       "\u001b[0m"
      ]
     },
     "metadata": {},
     "output_type": "display_data"
    },
    {
     "data": {
      "text/html": [
       "<pre style=\"white-space:pre;overflow-x:auto;line-height:normal;font-family:Menlo,'DejaVu Sans Mono',consolas,'Courier New',monospace\"><span style=\"color: #000080; text-decoration-color: #000080\"> 'i': 10,\n",
       "</span></pre>\n"
      ],
      "text/plain": [
       "\u001b[34m 'i': 10,\n",
       "\u001b[0m"
      ]
     },
     "metadata": {},
     "output_type": "display_data"
    },
    {
     "data": {
      "text/html": [
       "<pre style=\"white-space:pre;overflow-x:auto;line-height:normal;font-family:Menlo,'DejaVu Sans Mono',consolas,'Courier New',monospace\"><span style=\"color: #000080; text-decoration-color: #000080\"> 'lamss': -1.9560716,\n",
       "</span></pre>\n"
      ],
      "text/plain": [
       "\u001b[34m 'lamss': -1.9560716,\n",
       "\u001b[0m"
      ]
     },
     "metadata": {},
     "output_type": "display_data"
    },
    {
     "data": {
      "text/html": [
       "<pre style=\"white-space:pre;overflow-x:auto;line-height:normal;font-family:Menlo,'DejaVu Sans Mono',consolas,'Courier New',monospace\"><span style=\"color: #000080; text-decoration-color: #000080\"> 'max(B_lamss)': '-1.936620',\n",
       "</span></pre>\n"
      ],
      "text/plain": [
       "\u001b[34m 'max(B_lamss)': '-1.936620',\n",
       "\u001b[0m"
      ]
     },
     "metadata": {},
     "output_type": "display_data"
    },
    {
     "data": {
      "text/html": [
       "<pre style=\"white-space:pre;overflow-x:auto;line-height:normal;font-family:Menlo,'DejaVu Sans Mono',consolas,'Courier New',monospace\"><span style=\"color: #000080; text-decoration-color: #000080\"> 'min(B_lamss)': '-1.980363',\n",
       "</span></pre>\n"
      ],
      "text/plain": [
       "\u001b[34m 'min(B_lamss)': '-1.980363',\n",
       "\u001b[0m"
      ]
     },
     "metadata": {},
     "output_type": "display_data"
    },
    {
     "data": {
      "text/html": [
       "<pre style=\"white-space:pre;overflow-x:auto;line-height:normal;font-family:Menlo,'DejaVu Sans Mono',consolas,'Courier New',monospace\"><span style=\"color: #000080; text-decoration-color: #000080\"> 'n_complete': 0,\n",
       "</span></pre>\n"
      ],
      "text/plain": [
       "\u001b[34m 'n_complete': 0,\n",
       "\u001b[0m"
      ]
     },
     "metadata": {},
     "output_type": "display_data"
    },
    {
     "data": {
      "text/html": [
       "<pre style=\"white-space:pre;overflow-x:auto;line-height:normal;font-family:Menlo,'DejaVu Sans Mono',consolas,'Courier New',monospace\"><span style=\"color: #000080; text-decoration-color: #000080\"> 'n_deepen': 2,\n",
       "</span></pre>\n"
      ],
      "text/plain": [
       "\u001b[34m 'n_deepen': 2,\n",
       "\u001b[0m"
      ]
     },
     "metadata": {},
     "output_type": "display_data"
    },
    {
     "data": {
      "text/html": [
       "<pre style=\"white-space:pre;overflow-x:auto;line-height:normal;font-family:Menlo,'DejaVu Sans Mono',consolas,'Courier New',monospace\"><span style=\"color: #000080; text-decoration-color: #000080\"> 'n_impossible': 0,\n",
       "</span></pre>\n"
      ],
      "text/plain": [
       "\u001b[34m 'n_impossible': 0,\n",
       "\u001b[0m"
      ]
     },
     "metadata": {},
     "output_type": "display_data"
    },
    {
     "data": {
      "text/html": [
       "<pre style=\"white-space:pre;overflow-x:auto;line-height:normal;font-family:Menlo,'DejaVu Sans Mono',consolas,'Courier New',monospace\"><span style=\"color: #000080; text-decoration-color: #000080\"> 'n_processed': 14,\n",
       "</span></pre>\n"
      ],
      "text/plain": [
       "\u001b[34m 'n_processed': 14,\n",
       "\u001b[0m"
      ]
     },
     "metadata": {},
     "output_type": "display_data"
    },
    {
     "data": {
      "text/html": [
       "<pre style=\"white-space:pre;overflow-x:auto;line-height:normal;font-family:Menlo,'DejaVu Sans Mono',consolas,'Courier New',monospace\"><span style=\"color: #000080; text-decoration-color: #000080\"> 'n_refine': 6,\n",
       "</span></pre>\n"
      ],
      "text/plain": [
       "\u001b[34m 'n_refine': 6,\n",
       "\u001b[0m"
      ]
     },
     "metadata": {},
     "output_type": "display_data"
    },
    {
     "data": {
      "text/html": [
       "<pre style=\"white-space:pre;overflow-x:auto;line-height:normal;font-family:Menlo,'DejaVu Sans Mono',consolas,'Courier New',monospace\"><span style=\"color: #000080; text-decoration-color: #000080\"> 'runtime_cleanup': '0.411098',\n",
       "</span></pre>\n"
      ],
      "text/plain": [
       "\u001b[34m 'runtime_cleanup': '0.411098',\n",
       "\u001b[0m"
      ]
     },
     "metadata": {},
     "output_type": "display_data"
    },
    {
     "data": {
      "text/html": [
       "<pre style=\"white-space:pre;overflow-x:auto;line-height:normal;font-family:Menlo,'DejaVu Sans Mono',consolas,'Courier New',monospace\"><span style=\"color: #000080; text-decoration-color: #000080\"> 'runtime_convergence_check': '0.665879',\n",
       "</span></pre>\n"
      ],
      "text/plain": [
       "\u001b[34m 'runtime_convergence_check': '0.665879',\n",
       "\u001b[0m"
      ]
     },
     "metadata": {},
     "output_type": "display_data"
    },
    {
     "data": {
      "text/html": [
       "<pre style=\"white-space:pre;overflow-x:auto;line-height:normal;font-family:Menlo,'DejaVu Sans Mono',consolas,'Courier New',monospace\"><span style=\"color: #000080; text-decoration-color: #000080\"> 'runtime_processing': '0.649031',\n",
       "</span></pre>\n"
      ],
      "text/plain": [
       "\u001b[34m 'runtime_processing': '0.649031',\n",
       "\u001b[0m"
      ]
     },
     "metadata": {},
     "output_type": "display_data"
    },
    {
     "data": {
      "text/html": [
       "<pre style=\"white-space:pre;overflow-x:auto;line-height:normal;font-family:Menlo,'DejaVu Sans Mono',consolas,'Courier New',monospace\"><span style=\"color: #000080; text-decoration-color: #000080\"> 'runtime_refine_deepen': '0.100152',\n",
       "</span></pre>\n"
      ],
      "text/plain": [
       "\u001b[34m 'runtime_refine_deepen': '0.100152',\n",
       "\u001b[0m"
      ]
     },
     "metadata": {},
     "output_type": "display_data"
    },
    {
     "data": {
      "text/html": [
       "<pre style=\"white-space:pre;overflow-x:auto;line-height:normal;font-family:Menlo,'DejaVu Sans Mono',consolas,'Courier New',monospace\"><span style=\"color: #000080; text-decoration-color: #000080\"> 'spread_tie': '0.002518',\n",
       "</span></pre>\n"
      ],
      "text/plain": [
       "\u001b[34m 'spread_tie': '0.002518',\n",
       "\u001b[0m"
      ]
     },
     "metadata": {},
     "output_type": "display_data"
    },
    {
     "data": {
      "text/html": [
       "<pre style=\"white-space:pre;overflow-x:auto;line-height:normal;font-family:Menlo,'DejaVu Sans Mono',consolas,'Courier New',monospace\"><span style=\"color: #000080; text-decoration-color: #000080\"> 'std_tie': '0.000506',\n",
       "</span></pre>\n"
      ],
      "text/plain": [
       "\u001b[34m 'std_tie': '0.000506',\n",
       "\u001b[0m"
      ]
     },
     "metadata": {},
     "output_type": "display_data"
    },
    {
     "data": {
      "text/html": [
       "<pre style=\"white-space:pre;overflow-x:auto;line-height:normal;font-family:Menlo,'DejaVu Sans Mono',consolas,'Courier New',monospace\"><span style=\"color: #000080; text-decoration-color: #000080\"> 'tie + slack': '0.025253',\n",
       "</span></pre>\n"
      ],
      "text/plain": [
       "\u001b[34m 'tie + slack': '0.025253',\n",
       "\u001b[0m"
      ]
     },
     "metadata": {},
     "output_type": "display_data"
    },
    {
     "data": {
      "text/html": [
       "<pre style=\"white-space:pre;overflow-x:auto;line-height:normal;font-family:Menlo,'DejaVu Sans Mono',consolas,'Courier New',monospace\"><span style=\"color: #000080; text-decoration-color: #000080\"> 'tie_{k}(lamss)': '0.024841'}\n",
       "</span></pre>\n"
      ],
      "text/plain": [
       "\u001b[34m 'tie_{k}(lamss)': '0.024841'}\n",
       "\u001b[0m"
      ]
     },
     "metadata": {},
     "output_type": "display_data"
    },
    {
     "data": {
      "text/html": [
       "<pre style=\"white-space:pre;overflow-x:auto;line-height:normal;font-family:Menlo,'DejaVu Sans Mono',consolas,'Courier New',monospace\"><span style=\"color: #000080; text-decoration-color: #000080\">{'K_distribution': {131072: 14},\n",
       "</span></pre>\n"
      ],
      "text/plain": [
       "\u001b[34m{'K_distribution': {131072: 14},\n",
       "\u001b[0m"
      ]
     },
     "metadata": {},
     "output_type": "display_data"
    },
    {
     "data": {
      "text/html": [
       "<pre style=\"white-space:pre;overflow-x:auto;line-height:normal;font-family:Menlo,'DejaVu Sans Mono',consolas,'Courier New',monospace\"><span style=\"color: #000080; text-decoration-color: #000080\"> 'bias_tie': '0.000279',\n",
       "</span></pre>\n"
      ],
      "text/plain": [
       "\u001b[34m 'bias_tie': '0.000279',\n",
       "\u001b[0m"
      ]
     },
     "metadata": {},
     "output_type": "display_data"
    },
    {
     "data": {
      "text/html": [
       "<pre style=\"white-space:pre;overflow-x:auto;line-height:normal;font-family:Menlo,'DejaVu Sans Mono',consolas,'Courier New',monospace\"><span style=\"color: #000080; text-decoration-color: #000080\"> 'grid_cost': 0.00013232417,\n",
       "</span></pre>\n"
      ],
      "text/plain": [
       "\u001b[34m 'grid_cost': 0.00013232417,\n",
       "\u001b[0m"
      ]
     },
     "metadata": {},
     "output_type": "display_data"
    },
    {
     "data": {
      "text/html": [
       "<pre style=\"white-space:pre;overflow-x:auto;line-height:normal;font-family:Menlo,'DejaVu Sans Mono',consolas,'Courier New',monospace\"><span style=\"color: #000080; text-decoration-color: #000080\"> 'i': 10,\n",
       "</span></pre>\n"
      ],
      "text/plain": [
       "\u001b[34m 'i': 10,\n",
       "\u001b[0m"
      ]
     },
     "metadata": {},
     "output_type": "display_data"
    },
    {
     "data": {
      "text/html": [
       "<pre style=\"white-space:pre;overflow-x:auto;line-height:normal;font-family:Menlo,'DejaVu Sans Mono',consolas,'Courier New',monospace\"><span style=\"color: #000080; text-decoration-color: #000080\"> 'lamss': -1.9560716,\n",
       "</span></pre>\n"
      ],
      "text/plain": [
       "\u001b[34m 'lamss': -1.9560716,\n",
       "\u001b[0m"
      ]
     },
     "metadata": {},
     "output_type": "display_data"
    },
    {
     "data": {
      "text/html": [
       "<pre style=\"white-space:pre;overflow-x:auto;line-height:normal;font-family:Menlo,'DejaVu Sans Mono',consolas,'Courier New',monospace\"><span style=\"color: #000080; text-decoration-color: #000080\"> 'max(B_lamss)': '-1.936620',\n",
       "</span></pre>\n"
      ],
      "text/plain": [
       "\u001b[34m 'max(B_lamss)': '-1.936620',\n",
       "\u001b[0m"
      ]
     },
     "metadata": {},
     "output_type": "display_data"
    },
    {
     "data": {
      "text/html": [
       "<pre style=\"white-space:pre;overflow-x:auto;line-height:normal;font-family:Menlo,'DejaVu Sans Mono',consolas,'Courier New',monospace\"><span style=\"color: #000080; text-decoration-color: #000080\"> 'min(B_lamss)': '-1.980363',\n",
       "</span></pre>\n"
      ],
      "text/plain": [
       "\u001b[34m 'min(B_lamss)': '-1.980363',\n",
       "\u001b[0m"
      ]
     },
     "metadata": {},
     "output_type": "display_data"
    },
    {
     "data": {
      "text/html": [
       "<pre style=\"white-space:pre;overflow-x:auto;line-height:normal;font-family:Menlo,'DejaVu Sans Mono',consolas,'Courier New',monospace\"><span style=\"color: #000080; text-decoration-color: #000080\"> 'n_complete': 0,\n",
       "</span></pre>\n"
      ],
      "text/plain": [
       "\u001b[34m 'n_complete': 0,\n",
       "\u001b[0m"
      ]
     },
     "metadata": {},
     "output_type": "display_data"
    },
    {
     "data": {
      "text/html": [
       "<pre style=\"white-space:pre;overflow-x:auto;line-height:normal;font-family:Menlo,'DejaVu Sans Mono',consolas,'Courier New',monospace\"><span style=\"color: #000080; text-decoration-color: #000080\"> 'n_deepen': 2,\n",
       "</span></pre>\n"
      ],
      "text/plain": [
       "\u001b[34m 'n_deepen': 2,\n",
       "\u001b[0m"
      ]
     },
     "metadata": {},
     "output_type": "display_data"
    },
    {
     "data": {
      "text/html": [
       "<pre style=\"white-space:pre;overflow-x:auto;line-height:normal;font-family:Menlo,'DejaVu Sans Mono',consolas,'Courier New',monospace\"><span style=\"color: #000080; text-decoration-color: #000080\"> 'n_impossible': 0,\n",
       "</span></pre>\n"
      ],
      "text/plain": [
       "\u001b[34m 'n_impossible': 0,\n",
       "\u001b[0m"
      ]
     },
     "metadata": {},
     "output_type": "display_data"
    },
    {
     "data": {
      "text/html": [
       "<pre style=\"white-space:pre;overflow-x:auto;line-height:normal;font-family:Menlo,'DejaVu Sans Mono',consolas,'Courier New',monospace\"><span style=\"color: #000080; text-decoration-color: #000080\"> 'n_processed': 14,\n",
       "</span></pre>\n"
      ],
      "text/plain": [
       "\u001b[34m 'n_processed': 14,\n",
       "\u001b[0m"
      ]
     },
     "metadata": {},
     "output_type": "display_data"
    },
    {
     "data": {
      "text/html": [
       "<pre style=\"white-space:pre;overflow-x:auto;line-height:normal;font-family:Menlo,'DejaVu Sans Mono',consolas,'Courier New',monospace\"><span style=\"color: #000080; text-decoration-color: #000080\"> 'n_refine': 6,\n",
       "</span></pre>\n"
      ],
      "text/plain": [
       "\u001b[34m 'n_refine': 6,\n",
       "\u001b[0m"
      ]
     },
     "metadata": {},
     "output_type": "display_data"
    },
    {
     "data": {
      "text/html": [
       "<pre style=\"white-space:pre;overflow-x:auto;line-height:normal;font-family:Menlo,'DejaVu Sans Mono',consolas,'Courier New',monospace\"><span style=\"color: #000080; text-decoration-color: #000080\"> 'runtime_cleanup': '0.322089',\n",
       "</span></pre>\n"
      ],
      "text/plain": [
       "\u001b[34m 'runtime_cleanup': '0.322089',\n",
       "\u001b[0m"
      ]
     },
     "metadata": {},
     "output_type": "display_data"
    },
    {
     "data": {
      "text/html": [
       "<pre style=\"white-space:pre;overflow-x:auto;line-height:normal;font-family:Menlo,'DejaVu Sans Mono',consolas,'Courier New',monospace\"><span style=\"color: #000080; text-decoration-color: #000080\"> 'runtime_convergence_check': '0.642700',\n",
       "</span></pre>\n"
      ],
      "text/plain": [
       "\u001b[34m 'runtime_convergence_check': '0.642700',\n",
       "\u001b[0m"
      ]
     },
     "metadata": {},
     "output_type": "display_data"
    },
    {
     "data": {
      "text/html": [
       "<pre style=\"white-space:pre;overflow-x:auto;line-height:normal;font-family:Menlo,'DejaVu Sans Mono',consolas,'Courier New',monospace\"><span style=\"color: #000080; text-decoration-color: #000080\"> 'runtime_processing': '0.671392',\n",
       "</span></pre>\n"
      ],
      "text/plain": [
       "\u001b[34m 'runtime_processing': '0.671392',\n",
       "\u001b[0m"
      ]
     },
     "metadata": {},
     "output_type": "display_data"
    },
    {
     "data": {
      "text/html": [
       "<pre style=\"white-space:pre;overflow-x:auto;line-height:normal;font-family:Menlo,'DejaVu Sans Mono',consolas,'Courier New',monospace\"><span style=\"color: #000080; text-decoration-color: #000080\"> 'runtime_refine_deepen': '0.074580',\n",
       "</span></pre>\n"
      ],
      "text/plain": [
       "\u001b[34m 'runtime_refine_deepen': '0.074580',\n",
       "\u001b[0m"
      ]
     },
     "metadata": {},
     "output_type": "display_data"
    },
    {
     "data": {
      "text/html": [
       "<pre style=\"white-space:pre;overflow-x:auto;line-height:normal;font-family:Menlo,'DejaVu Sans Mono',consolas,'Courier New',monospace\"><span style=\"color: #000080; text-decoration-color: #000080\"> 'spread_tie': '0.002518',\n",
       "</span></pre>\n"
      ],
      "text/plain": [
       "\u001b[34m 'spread_tie': '0.002518',\n",
       "\u001b[0m"
      ]
     },
     "metadata": {},
     "output_type": "display_data"
    },
    {
     "data": {
      "text/html": [
       "<pre style=\"white-space:pre;overflow-x:auto;line-height:normal;font-family:Menlo,'DejaVu Sans Mono',consolas,'Courier New',monospace\"><span style=\"color: #000080; text-decoration-color: #000080\"> 'std_tie': '0.000506',\n",
       "</span></pre>\n"
      ],
      "text/plain": [
       "\u001b[34m 'std_tie': '0.000506',\n",
       "\u001b[0m"
      ]
     },
     "metadata": {},
     "output_type": "display_data"
    },
    {
     "data": {
      "text/html": [
       "<pre style=\"white-space:pre;overflow-x:auto;line-height:normal;font-family:Menlo,'DejaVu Sans Mono',consolas,'Courier New',monospace\"><span style=\"color: #000080; text-decoration-color: #000080\"> 'tie + slack': '0.025253',\n",
       "</span></pre>\n"
      ],
      "text/plain": [
       "\u001b[34m 'tie + slack': '0.025253',\n",
       "\u001b[0m"
      ]
     },
     "metadata": {},
     "output_type": "display_data"
    },
    {
     "data": {
      "text/html": [
       "<pre style=\"white-space:pre;overflow-x:auto;line-height:normal;font-family:Menlo,'DejaVu Sans Mono',consolas,'Courier New',monospace\"><span style=\"color: #000080; text-decoration-color: #000080\"> 'tie_{k}(lamss)': '0.024841'}\n",
       "</span></pre>\n"
      ],
      "text/plain": [
       "\u001b[34m 'tie_{k}(lamss)': '0.024841'}\n",
       "\u001b[0m"
      ]
     },
     "metadata": {},
     "output_type": "display_data"
    },
    {
     "data": {
      "text/html": [
       "<pre style=\"white-space:pre;overflow-x:auto;line-height:normal;font-family:Menlo,'DejaVu Sans Mono',consolas,'Courier New',monospace\"><span style=\"color: #000080; text-decoration-color: #000080\">{'K_distribution': {131072: 16},\n",
       "</span></pre>\n"
      ],
      "text/plain": [
       "\u001b[34m{'K_distribution': {131072: 16},\n",
       "\u001b[0m"
      ]
     },
     "metadata": {},
     "output_type": "display_data"
    },
    {
     "data": {
      "text/html": [
       "<pre style=\"white-space:pre;overflow-x:auto;line-height:normal;font-family:Menlo,'DejaVu Sans Mono',consolas,'Courier New',monospace\"><span style=\"color: #000080; text-decoration-color: #000080\"> 'bias_tie': '0.000047',\n",
       "</span></pre>\n"
      ],
      "text/plain": [
       "\u001b[34m 'bias_tie': '0.000047',\n",
       "\u001b[0m"
      ]
     },
     "metadata": {},
     "output_type": "display_data"
    },
    {
     "data": {
      "text/html": [
       "<pre style=\"white-space:pre;overflow-x:auto;line-height:normal;font-family:Menlo,'DejaVu Sans Mono',consolas,'Courier New',monospace\"><span style=\"color: #000080; text-decoration-color: #000080\"> 'grid_cost': 0.00013232417,\n",
       "</span></pre>\n"
      ],
      "text/plain": [
       "\u001b[34m 'grid_cost': 0.00013232417,\n",
       "\u001b[0m"
      ]
     },
     "metadata": {},
     "output_type": "display_data"
    },
    {
     "data": {
      "text/html": [
       "<pre style=\"white-space:pre;overflow-x:auto;line-height:normal;font-family:Menlo,'DejaVu Sans Mono',consolas,'Courier New',monospace\"><span style=\"color: #000080; text-decoration-color: #000080\"> 'i': 11,\n",
       "</span></pre>\n"
      ],
      "text/plain": [
       "\u001b[34m 'i': 11,\n",
       "\u001b[0m"
      ]
     },
     "metadata": {},
     "output_type": "display_data"
    },
    {
     "data": {
      "text/html": [
       "<pre style=\"white-space:pre;overflow-x:auto;line-height:normal;font-family:Menlo,'DejaVu Sans Mono',consolas,'Courier New',monospace\"><span style=\"color: #000080; text-decoration-color: #000080\"> 'lamss': -1.9628606,\n",
       "</span></pre>\n"
      ],
      "text/plain": [
       "\u001b[34m 'lamss': -1.9628606,\n",
       "\u001b[0m"
      ]
     },
     "metadata": {},
     "output_type": "display_data"
    },
    {
     "data": {
      "text/html": [
       "<pre style=\"white-space:pre;overflow-x:auto;line-height:normal;font-family:Menlo,'DejaVu Sans Mono',consolas,'Courier New',monospace\"><span style=\"color: #000080; text-decoration-color: #000080\"> 'max(B_lamss)': '-1.934336',\n",
       "</span></pre>\n"
      ],
      "text/plain": [
       "\u001b[34m 'max(B_lamss)': '-1.934336',\n",
       "\u001b[0m"
      ]
     },
     "metadata": {},
     "output_type": "display_data"
    },
    {
     "data": {
      "text/html": [
       "<pre style=\"white-space:pre;overflow-x:auto;line-height:normal;font-family:Menlo,'DejaVu Sans Mono',consolas,'Courier New',monospace\"><span style=\"color: #000080; text-decoration-color: #000080\"> 'min(B_lamss)': '-1.987006',\n",
       "</span></pre>\n"
      ],
      "text/plain": [
       "\u001b[34m 'min(B_lamss)': '-1.987006',\n",
       "\u001b[0m"
      ]
     },
     "metadata": {},
     "output_type": "display_data"
    },
    {
     "data": {
      "text/html": [
       "<pre style=\"white-space:pre;overflow-x:auto;line-height:normal;font-family:Menlo,'DejaVu Sans Mono',consolas,'Courier New',monospace\"><span style=\"color: #000080; text-decoration-color: #000080\"> 'n_complete': 0,\n",
       "</span></pre>\n"
      ],
      "text/plain": [
       "\u001b[34m 'n_complete': 0,\n",
       "\u001b[0m"
      ]
     },
     "metadata": {},
     "output_type": "display_data"
    },
    {
     "data": {
      "text/html": [
       "<pre style=\"white-space:pre;overflow-x:auto;line-height:normal;font-family:Menlo,'DejaVu Sans Mono',consolas,'Courier New',monospace\"><span style=\"color: #000080; text-decoration-color: #000080\"> 'n_deepen': 0,\n",
       "</span></pre>\n"
      ],
      "text/plain": [
       "\u001b[34m 'n_deepen': 0,\n",
       "\u001b[0m"
      ]
     },
     "metadata": {},
     "output_type": "display_data"
    },
    {
     "data": {
      "text/html": [
       "<pre style=\"white-space:pre;overflow-x:auto;line-height:normal;font-family:Menlo,'DejaVu Sans Mono',consolas,'Courier New',monospace\"><span style=\"color: #000080; text-decoration-color: #000080\"> 'n_impossible': 0,\n",
       "</span></pre>\n"
      ],
      "text/plain": [
       "\u001b[34m 'n_impossible': 0,\n",
       "\u001b[0m"
      ]
     },
     "metadata": {},
     "output_type": "display_data"
    },
    {
     "data": {
      "text/html": [
       "<pre style=\"white-space:pre;overflow-x:auto;line-height:normal;font-family:Menlo,'DejaVu Sans Mono',consolas,'Courier New',monospace\"><span style=\"color: #000080; text-decoration-color: #000080\"> 'n_processed': 16,\n",
       "</span></pre>\n"
      ],
      "text/plain": [
       "\u001b[34m 'n_processed': 16,\n",
       "\u001b[0m"
      ]
     },
     "metadata": {},
     "output_type": "display_data"
    },
    {
     "data": {
      "text/html": [
       "<pre style=\"white-space:pre;overflow-x:auto;line-height:normal;font-family:Menlo,'DejaVu Sans Mono',consolas,'Courier New',monospace\"><span style=\"color: #000080; text-decoration-color: #000080\"> 'n_refine': 8,\n",
       "</span></pre>\n"
      ],
      "text/plain": [
       "\u001b[34m 'n_refine': 8,\n",
       "\u001b[0m"
      ]
     },
     "metadata": {},
     "output_type": "display_data"
    },
    {
     "data": {
      "text/html": [
       "<pre style=\"white-space:pre;overflow-x:auto;line-height:normal;font-family:Menlo,'DejaVu Sans Mono',consolas,'Courier New',monospace\"><span style=\"color: #000080; text-decoration-color: #000080\"> 'runtime_cleanup': '0.420482',\n",
       "</span></pre>\n"
      ],
      "text/plain": [
       "\u001b[34m 'runtime_cleanup': '0.420482',\n",
       "\u001b[0m"
      ]
     },
     "metadata": {},
     "output_type": "display_data"
    },
    {
     "data": {
      "text/html": [
       "<pre style=\"white-space:pre;overflow-x:auto;line-height:normal;font-family:Menlo,'DejaVu Sans Mono',consolas,'Courier New',monospace\"><span style=\"color: #000080; text-decoration-color: #000080\"> 'runtime_convergence_check': '0.511058',\n",
       "</span></pre>\n"
      ],
      "text/plain": [
       "\u001b[34m 'runtime_convergence_check': '0.511058',\n",
       "\u001b[0m"
      ]
     },
     "metadata": {},
     "output_type": "display_data"
    },
    {
     "data": {
      "text/html": [
       "<pre style=\"white-space:pre;overflow-x:auto;line-height:normal;font-family:Menlo,'DejaVu Sans Mono',consolas,'Courier New',monospace\"><span style=\"color: #000080; text-decoration-color: #000080\"> 'runtime_processing': '0.650313',\n",
       "</span></pre>\n"
      ],
      "text/plain": [
       "\u001b[34m 'runtime_processing': '0.650313',\n",
       "\u001b[0m"
      ]
     },
     "metadata": {},
     "output_type": "display_data"
    },
    {
     "data": {
      "text/html": [
       "<pre style=\"white-space:pre;overflow-x:auto;line-height:normal;font-family:Menlo,'DejaVu Sans Mono',consolas,'Courier New',monospace\"><span style=\"color: #000080; text-decoration-color: #000080\"> 'runtime_refine_deepen': '0.083531',\n",
       "</span></pre>\n"
      ],
      "text/plain": [
       "\u001b[34m 'runtime_refine_deepen': '0.083531',\n",
       "\u001b[0m"
      ]
     },
     "metadata": {},
     "output_type": "display_data"
    },
    {
     "data": {
      "text/html": [
       "<pre style=\"white-space:pre;overflow-x:auto;line-height:normal;font-family:Menlo,'DejaVu Sans Mono',consolas,'Courier New',monospace\"><span style=\"color: #000080; text-decoration-color: #000080\"> 'spread_tie': '0.002861',\n",
       "</span></pre>\n"
      ],
      "text/plain": [
       "\u001b[34m 'spread_tie': '0.002861',\n",
       "\u001b[0m"
      ]
     },
     "metadata": {},
     "output_type": "display_data"
    },
    {
     "data": {
      "text/html": [
       "<pre style=\"white-space:pre;overflow-x:auto;line-height:normal;font-family:Menlo,'DejaVu Sans Mono',consolas,'Courier New',monospace\"><span style=\"color: #000080; text-decoration-color: #000080\"> 'std_tie': '0.000573',\n",
       "</span></pre>\n"
      ],
      "text/plain": [
       "\u001b[34m 'std_tie': '0.000573',\n",
       "\u001b[0m"
      ]
     },
     "metadata": {},
     "output_type": "display_data"
    },
    {
     "data": {
      "text/html": [
       "<pre style=\"white-space:pre;overflow-x:auto;line-height:normal;font-family:Menlo,'DejaVu Sans Mono',consolas,'Courier New',monospace\"><span style=\"color: #000080; text-decoration-color: #000080\"> 'tie + slack': '0.025035',\n",
       "</span></pre>\n"
      ],
      "text/plain": [
       "\u001b[34m 'tie + slack': '0.025035',\n",
       "\u001b[0m"
      ]
     },
     "metadata": {},
     "output_type": "display_data"
    },
    {
     "data": {
      "text/html": [
       "<pre style=\"white-space:pre;overflow-x:auto;line-height:normal;font-family:Menlo,'DejaVu Sans Mono',consolas,'Courier New',monospace\"><span style=\"color: #000080; text-decoration-color: #000080\"> 'tie_{k}(lamss)': '0.024857'}\n",
       "</span></pre>\n"
      ],
      "text/plain": [
       "\u001b[34m 'tie_{k}(lamss)': '0.024857'}\n",
       "\u001b[0m"
      ]
     },
     "metadata": {},
     "output_type": "display_data"
    },
    {
     "data": {
      "text/html": [
       "<pre style=\"white-space:pre;overflow-x:auto;line-height:normal;font-family:Menlo,'DejaVu Sans Mono',consolas,'Courier New',monospace\"><span style=\"color: #000080; text-decoration-color: #000080\">{'bias_tie': '0.000053',\n",
       "</span></pre>\n"
      ],
      "text/plain": [
       "\u001b[34m{'bias_tie': '0.000053',\n",
       "\u001b[0m"
      ]
     },
     "metadata": {},
     "output_type": "display_data"
    },
    {
     "data": {
      "text/html": [
       "<pre style=\"white-space:pre;overflow-x:auto;line-height:normal;font-family:Menlo,'DejaVu Sans Mono',consolas,'Courier New',monospace\"><span style=\"color: #000080; text-decoration-color: #000080\"> 'grid_cost': 6.6237524e-05,\n",
       "</span></pre>\n"
      ],
      "text/plain": [
       "\u001b[34m 'grid_cost': 6.6237524e-05,\n",
       "\u001b[0m"
      ]
     },
     "metadata": {},
     "output_type": "display_data"
    },
    {
     "data": {
      "text/html": [
       "<pre style=\"white-space:pre;overflow-x:auto;line-height:normal;font-family:Menlo,'DejaVu Sans Mono',consolas,'Courier New',monospace\"><span style=\"color: #000080; text-decoration-color: #000080\"> 'i': 12,\n",
       "</span></pre>\n"
      ],
      "text/plain": [
       "\u001b[34m 'i': 12,\n",
       "\u001b[0m"
      ]
     },
     "metadata": {},
     "output_type": "display_data"
    },
    {
     "data": {
      "text/html": [
       "<pre style=\"white-space:pre;overflow-x:auto;line-height:normal;font-family:Menlo,'DejaVu Sans Mono',consolas,'Courier New',monospace\"><span style=\"color: #000080; text-decoration-color: #000080\"> 'lamss': -1.9629546,\n",
       "</span></pre>\n"
      ],
      "text/plain": [
       "\u001b[34m 'lamss': -1.9629546,\n",
       "\u001b[0m"
      ]
     },
     "metadata": {},
     "output_type": "display_data"
    },
    {
     "data": {
      "text/html": [
       "<pre style=\"white-space:pre;overflow-x:auto;line-height:normal;font-family:Menlo,'DejaVu Sans Mono',consolas,'Courier New',monospace\"><span style=\"color: #000080; text-decoration-color: #000080\"> 'max(B_lamss)': '-1.933407',\n",
       "</span></pre>\n"
      ],
      "text/plain": [
       "\u001b[34m 'max(B_lamss)': '-1.933407',\n",
       "\u001b[0m"
      ]
     },
     "metadata": {},
     "output_type": "display_data"
    },
    {
     "data": {
      "text/html": [
       "<pre style=\"white-space:pre;overflow-x:auto;line-height:normal;font-family:Menlo,'DejaVu Sans Mono',consolas,'Courier New',monospace\"><span style=\"color: #000080; text-decoration-color: #000080\"> 'min(B_lamss)': '-1.986514',\n",
       "</span></pre>\n"
      ],
      "text/plain": [
       "\u001b[34m 'min(B_lamss)': '-1.986514',\n",
       "\u001b[0m"
      ]
     },
     "metadata": {},
     "output_type": "display_data"
    },
    {
     "data": {
      "text/html": [
       "<pre style=\"white-space:pre;overflow-x:auto;line-height:normal;font-family:Menlo,'DejaVu Sans Mono',consolas,'Courier New',monospace\"><span style=\"color: #000080; text-decoration-color: #000080\"> 'n_impossible': 0,\n",
       "</span></pre>\n"
      ],
      "text/plain": [
       "\u001b[34m 'n_impossible': 0,\n",
       "\u001b[0m"
      ]
     },
     "metadata": {},
     "output_type": "display_data"
    },
    {
     "data": {
      "text/html": [
       "<pre style=\"white-space:pre;overflow-x:auto;line-height:normal;font-family:Menlo,'DejaVu Sans Mono',consolas,'Courier New',monospace\"><span style=\"color: #000080; text-decoration-color: #000080\"> 'runtime_convergence_check': '0.491767',\n",
       "</span></pre>\n"
      ],
      "text/plain": [
       "\u001b[34m 'runtime_convergence_check': '0.491767',\n",
       "\u001b[0m"
      ]
     },
     "metadata": {},
     "output_type": "display_data"
    },
    {
     "data": {
      "text/html": [
       "<pre style=\"white-space:pre;overflow-x:auto;line-height:normal;font-family:Menlo,'DejaVu Sans Mono',consolas,'Courier New',monospace\"><span style=\"color: #000080; text-decoration-color: #000080\"> 'spread_tie': '0.002861',\n",
       "</span></pre>\n"
      ],
      "text/plain": [
       "\u001b[34m 'spread_tie': '0.002861',\n",
       "\u001b[0m"
      ]
     },
     "metadata": {},
     "output_type": "display_data"
    },
    {
     "data": {
      "text/html": [
       "<pre style=\"white-space:pre;overflow-x:auto;line-height:normal;font-family:Menlo,'DejaVu Sans Mono',consolas,'Courier New',monospace\"><span style=\"color: #000080; text-decoration-color: #000080\"> 'std_tie': '0.000571',\n",
       "</span></pre>\n"
      ],
      "text/plain": [
       "\u001b[34m 'std_tie': '0.000571',\n",
       "\u001b[0m"
      ]
     },
     "metadata": {},
     "output_type": "display_data"
    },
    {
     "data": {
      "text/html": [
       "<pre style=\"white-space:pre;overflow-x:auto;line-height:normal;font-family:Menlo,'DejaVu Sans Mono',consolas,'Courier New',monospace\"><span style=\"color: #000080; text-decoration-color: #000080\"> 'tie + slack': '0.025044',\n",
       "</span></pre>\n"
      ],
      "text/plain": [
       "\u001b[34m 'tie + slack': '0.025044',\n",
       "\u001b[0m"
      ]
     },
     "metadata": {},
     "output_type": "display_data"
    },
    {
     "data": {
      "text/html": [
       "<pre style=\"white-space:pre;overflow-x:auto;line-height:normal;font-family:Menlo,'DejaVu Sans Mono',consolas,'Courier New',monospace\"><span style=\"color: #000080; text-decoration-color: #000080\"> 'tie_{k}(lamss)': '0.024925'}\n",
       "</span></pre>\n"
      ],
      "text/plain": [
       "\u001b[34m 'tie_{k}(lamss)': '0.024925'}\n",
       "\u001b[0m"
      ]
     },
     "metadata": {},
     "output_type": "display_data"
    },
    {
     "data": {
      "text/html": [
       "<pre style=\"white-space:pre;overflow-x:auto;line-height:normal;font-family:Menlo,'DejaVu Sans Mono',consolas,'Courier New',monospace\"><span style=\"color: #000080; text-decoration-color: #000080\">{'K_distribution': {131072: 16},\n",
       "</span></pre>\n"
      ],
      "text/plain": [
       "\u001b[34m{'K_distribution': {131072: 16},\n",
       "\u001b[0m"
      ]
     },
     "metadata": {},
     "output_type": "display_data"
    },
    {
     "data": {
      "text/html": [
       "<pre style=\"white-space:pre;overflow-x:auto;line-height:normal;font-family:Menlo,'DejaVu Sans Mono',consolas,'Courier New',monospace\"><span style=\"color: #000080; text-decoration-color: #000080\"> 'bias_tie': '0.000047',\n",
       "</span></pre>\n"
      ],
      "text/plain": [
       "\u001b[34m 'bias_tie': '0.000047',\n",
       "\u001b[0m"
      ]
     },
     "metadata": {},
     "output_type": "display_data"
    },
    {
     "data": {
      "text/html": [
       "<pre style=\"white-space:pre;overflow-x:auto;line-height:normal;font-family:Menlo,'DejaVu Sans Mono',consolas,'Courier New',monospace\"><span style=\"color: #000080; text-decoration-color: #000080\"> 'grid_cost': 0.00013232417,\n",
       "</span></pre>\n"
      ],
      "text/plain": [
       "\u001b[34m 'grid_cost': 0.00013232417,\n",
       "\u001b[0m"
      ]
     },
     "metadata": {},
     "output_type": "display_data"
    },
    {
     "data": {
      "text/html": [
       "<pre style=\"white-space:pre;overflow-x:auto;line-height:normal;font-family:Menlo,'DejaVu Sans Mono',consolas,'Courier New',monospace\"><span style=\"color: #000080; text-decoration-color: #000080\"> 'i': 11,\n",
       "</span></pre>\n"
      ],
      "text/plain": [
       "\u001b[34m 'i': 11,\n",
       "\u001b[0m"
      ]
     },
     "metadata": {},
     "output_type": "display_data"
    },
    {
     "data": {
      "text/html": [
       "<pre style=\"white-space:pre;overflow-x:auto;line-height:normal;font-family:Menlo,'DejaVu Sans Mono',consolas,'Courier New',monospace\"><span style=\"color: #000080; text-decoration-color: #000080\"> 'lamss': -1.9628606,\n",
       "</span></pre>\n"
      ],
      "text/plain": [
       "\u001b[34m 'lamss': -1.9628606,\n",
       "\u001b[0m"
      ]
     },
     "metadata": {},
     "output_type": "display_data"
    },
    {
     "data": {
      "text/html": [
       "<pre style=\"white-space:pre;overflow-x:auto;line-height:normal;font-family:Menlo,'DejaVu Sans Mono',consolas,'Courier New',monospace\"><span style=\"color: #000080; text-decoration-color: #000080\"> 'max(B_lamss)': '-1.934336',\n",
       "</span></pre>\n"
      ],
      "text/plain": [
       "\u001b[34m 'max(B_lamss)': '-1.934336',\n",
       "\u001b[0m"
      ]
     },
     "metadata": {},
     "output_type": "display_data"
    },
    {
     "data": {
      "text/html": [
       "<pre style=\"white-space:pre;overflow-x:auto;line-height:normal;font-family:Menlo,'DejaVu Sans Mono',consolas,'Courier New',monospace\"><span style=\"color: #000080; text-decoration-color: #000080\"> 'min(B_lamss)': '-1.987006',\n",
       "</span></pre>\n"
      ],
      "text/plain": [
       "\u001b[34m 'min(B_lamss)': '-1.987006',\n",
       "\u001b[0m"
      ]
     },
     "metadata": {},
     "output_type": "display_data"
    },
    {
     "data": {
      "text/html": [
       "<pre style=\"white-space:pre;overflow-x:auto;line-height:normal;font-family:Menlo,'DejaVu Sans Mono',consolas,'Courier New',monospace\"><span style=\"color: #000080; text-decoration-color: #000080\"> 'n_complete': 0,\n",
       "</span></pre>\n"
      ],
      "text/plain": [
       "\u001b[34m 'n_complete': 0,\n",
       "\u001b[0m"
      ]
     },
     "metadata": {},
     "output_type": "display_data"
    },
    {
     "data": {
      "text/html": [
       "<pre style=\"white-space:pre;overflow-x:auto;line-height:normal;font-family:Menlo,'DejaVu Sans Mono',consolas,'Courier New',monospace\"><span style=\"color: #000080; text-decoration-color: #000080\"> 'n_deepen': 0,\n",
       "</span></pre>\n"
      ],
      "text/plain": [
       "\u001b[34m 'n_deepen': 0,\n",
       "\u001b[0m"
      ]
     },
     "metadata": {},
     "output_type": "display_data"
    },
    {
     "data": {
      "text/html": [
       "<pre style=\"white-space:pre;overflow-x:auto;line-height:normal;font-family:Menlo,'DejaVu Sans Mono',consolas,'Courier New',monospace\"><span style=\"color: #000080; text-decoration-color: #000080\"> 'n_impossible': 0,\n",
       "</span></pre>\n"
      ],
      "text/plain": [
       "\u001b[34m 'n_impossible': 0,\n",
       "\u001b[0m"
      ]
     },
     "metadata": {},
     "output_type": "display_data"
    },
    {
     "data": {
      "text/html": [
       "<pre style=\"white-space:pre;overflow-x:auto;line-height:normal;font-family:Menlo,'DejaVu Sans Mono',consolas,'Courier New',monospace\"><span style=\"color: #000080; text-decoration-color: #000080\"> 'n_processed': 16,\n",
       "</span></pre>\n"
      ],
      "text/plain": [
       "\u001b[34m 'n_processed': 16,\n",
       "\u001b[0m"
      ]
     },
     "metadata": {},
     "output_type": "display_data"
    },
    {
     "data": {
      "text/html": [
       "<pre style=\"white-space:pre;overflow-x:auto;line-height:normal;font-family:Menlo,'DejaVu Sans Mono',consolas,'Courier New',monospace\"><span style=\"color: #000080; text-decoration-color: #000080\"> 'n_refine': 8,\n",
       "</span></pre>\n"
      ],
      "text/plain": [
       "\u001b[34m 'n_refine': 8,\n",
       "\u001b[0m"
      ]
     },
     "metadata": {},
     "output_type": "display_data"
    },
    {
     "data": {
      "text/html": [
       "<pre style=\"white-space:pre;overflow-x:auto;line-height:normal;font-family:Menlo,'DejaVu Sans Mono',consolas,'Courier New',monospace\"><span style=\"color: #000080; text-decoration-color: #000080\"> 'runtime_cleanup': '0.303000',\n",
       "</span></pre>\n"
      ],
      "text/plain": [
       "\u001b[34m 'runtime_cleanup': '0.303000',\n",
       "\u001b[0m"
      ]
     },
     "metadata": {},
     "output_type": "display_data"
    },
    {
     "data": {
      "text/html": [
       "<pre style=\"white-space:pre;overflow-x:auto;line-height:normal;font-family:Menlo,'DejaVu Sans Mono',consolas,'Courier New',monospace\"><span style=\"color: #000080; text-decoration-color: #000080\"> 'runtime_convergence_check': '0.598943',\n",
       "</span></pre>\n"
      ],
      "text/plain": [
       "\u001b[34m 'runtime_convergence_check': '0.598943',\n",
       "\u001b[0m"
      ]
     },
     "metadata": {},
     "output_type": "display_data"
    },
    {
     "data": {
      "text/html": [
       "<pre style=\"white-space:pre;overflow-x:auto;line-height:normal;font-family:Menlo,'DejaVu Sans Mono',consolas,'Courier New',monospace\"><span style=\"color: #000080; text-decoration-color: #000080\"> 'runtime_processing': '0.656765',\n",
       "</span></pre>\n"
      ],
      "text/plain": [
       "\u001b[34m 'runtime_processing': '0.656765',\n",
       "\u001b[0m"
      ]
     },
     "metadata": {},
     "output_type": "display_data"
    },
    {
     "data": {
      "text/html": [
       "<pre style=\"white-space:pre;overflow-x:auto;line-height:normal;font-family:Menlo,'DejaVu Sans Mono',consolas,'Courier New',monospace\"><span style=\"color: #000080; text-decoration-color: #000080\"> 'runtime_refine_deepen': '0.086185',\n",
       "</span></pre>\n"
      ],
      "text/plain": [
       "\u001b[34m 'runtime_refine_deepen': '0.086185',\n",
       "\u001b[0m"
      ]
     },
     "metadata": {},
     "output_type": "display_data"
    },
    {
     "data": {
      "text/html": [
       "<pre style=\"white-space:pre;overflow-x:auto;line-height:normal;font-family:Menlo,'DejaVu Sans Mono',consolas,'Courier New',monospace\"><span style=\"color: #000080; text-decoration-color: #000080\"> 'spread_tie': '0.002861',\n",
       "</span></pre>\n"
      ],
      "text/plain": [
       "\u001b[34m 'spread_tie': '0.002861',\n",
       "\u001b[0m"
      ]
     },
     "metadata": {},
     "output_type": "display_data"
    },
    {
     "data": {
      "text/html": [
       "<pre style=\"white-space:pre;overflow-x:auto;line-height:normal;font-family:Menlo,'DejaVu Sans Mono',consolas,'Courier New',monospace\"><span style=\"color: #000080; text-decoration-color: #000080\"> 'std_tie': '0.000573',\n",
       "</span></pre>\n"
      ],
      "text/plain": [
       "\u001b[34m 'std_tie': '0.000573',\n",
       "\u001b[0m"
      ]
     },
     "metadata": {},
     "output_type": "display_data"
    },
    {
     "data": {
      "text/html": [
       "<pre style=\"white-space:pre;overflow-x:auto;line-height:normal;font-family:Menlo,'DejaVu Sans Mono',consolas,'Courier New',monospace\"><span style=\"color: #000080; text-decoration-color: #000080\"> 'tie + slack': '0.025035',\n",
       "</span></pre>\n"
      ],
      "text/plain": [
       "\u001b[34m 'tie + slack': '0.025035',\n",
       "\u001b[0m"
      ]
     },
     "metadata": {},
     "output_type": "display_data"
    },
    {
     "data": {
      "text/html": [
       "<pre style=\"white-space:pre;overflow-x:auto;line-height:normal;font-family:Menlo,'DejaVu Sans Mono',consolas,'Courier New',monospace\"><span style=\"color: #000080; text-decoration-color: #000080\"> 'tie_{k}(lamss)': '0.024857'}\n",
       "</span></pre>\n"
      ],
      "text/plain": [
       "\u001b[34m 'tie_{k}(lamss)': '0.024857'}\n",
       "\u001b[0m"
      ]
     },
     "metadata": {},
     "output_type": "display_data"
    },
    {
     "data": {
      "text/html": [
       "<pre style=\"white-space:pre;overflow-x:auto;line-height:normal;font-family:Menlo,'DejaVu Sans Mono',consolas,'Courier New',monospace\"><span style=\"color: #000080; text-decoration-color: #000080\">{'bias_tie': '0.000053',\n",
       "</span></pre>\n"
      ],
      "text/plain": [
       "\u001b[34m{'bias_tie': '0.000053',\n",
       "\u001b[0m"
      ]
     },
     "metadata": {},
     "output_type": "display_data"
    },
    {
     "data": {
      "text/html": [
       "<pre style=\"white-space:pre;overflow-x:auto;line-height:normal;font-family:Menlo,'DejaVu Sans Mono',consolas,'Courier New',monospace\"><span style=\"color: #000080; text-decoration-color: #000080\"> 'grid_cost': 6.6237524e-05,\n",
       "</span></pre>\n"
      ],
      "text/plain": [
       "\u001b[34m 'grid_cost': 6.6237524e-05,\n",
       "\u001b[0m"
      ]
     },
     "metadata": {},
     "output_type": "display_data"
    },
    {
     "data": {
      "text/html": [
       "<pre style=\"white-space:pre;overflow-x:auto;line-height:normal;font-family:Menlo,'DejaVu Sans Mono',consolas,'Courier New',monospace\"><span style=\"color: #000080; text-decoration-color: #000080\"> 'i': 12,\n",
       "</span></pre>\n"
      ],
      "text/plain": [
       "\u001b[34m 'i': 12,\n",
       "\u001b[0m"
      ]
     },
     "metadata": {},
     "output_type": "display_data"
    },
    {
     "data": {
      "text/html": [
       "<pre style=\"white-space:pre;overflow-x:auto;line-height:normal;font-family:Menlo,'DejaVu Sans Mono',consolas,'Courier New',monospace\"><span style=\"color: #000080; text-decoration-color: #000080\"> 'lamss': -1.9629546,\n",
       "</span></pre>\n"
      ],
      "text/plain": [
       "\u001b[34m 'lamss': -1.9629546,\n",
       "\u001b[0m"
      ]
     },
     "metadata": {},
     "output_type": "display_data"
    },
    {
     "data": {
      "text/html": [
       "<pre style=\"white-space:pre;overflow-x:auto;line-height:normal;font-family:Menlo,'DejaVu Sans Mono',consolas,'Courier New',monospace\"><span style=\"color: #000080; text-decoration-color: #000080\"> 'max(B_lamss)': '-1.933407',\n",
       "</span></pre>\n"
      ],
      "text/plain": [
       "\u001b[34m 'max(B_lamss)': '-1.933407',\n",
       "\u001b[0m"
      ]
     },
     "metadata": {},
     "output_type": "display_data"
    },
    {
     "data": {
      "text/html": [
       "<pre style=\"white-space:pre;overflow-x:auto;line-height:normal;font-family:Menlo,'DejaVu Sans Mono',consolas,'Courier New',monospace\"><span style=\"color: #000080; text-decoration-color: #000080\"> 'min(B_lamss)': '-1.986514',\n",
       "</span></pre>\n"
      ],
      "text/plain": [
       "\u001b[34m 'min(B_lamss)': '-1.986514',\n",
       "\u001b[0m"
      ]
     },
     "metadata": {},
     "output_type": "display_data"
    },
    {
     "data": {
      "text/html": [
       "<pre style=\"white-space:pre;overflow-x:auto;line-height:normal;font-family:Menlo,'DejaVu Sans Mono',consolas,'Courier New',monospace\"><span style=\"color: #000080; text-decoration-color: #000080\"> 'n_impossible': 0,\n",
       "</span></pre>\n"
      ],
      "text/plain": [
       "\u001b[34m 'n_impossible': 0,\n",
       "\u001b[0m"
      ]
     },
     "metadata": {},
     "output_type": "display_data"
    },
    {
     "data": {
      "text/html": [
       "<pre style=\"white-space:pre;overflow-x:auto;line-height:normal;font-family:Menlo,'DejaVu Sans Mono',consolas,'Courier New',monospace\"><span style=\"color: #000080; text-decoration-color: #000080\"> 'runtime_convergence_check': '0.540273',\n",
       "</span></pre>\n"
      ],
      "text/plain": [
       "\u001b[34m 'runtime_convergence_check': '0.540273',\n",
       "\u001b[0m"
      ]
     },
     "metadata": {},
     "output_type": "display_data"
    },
    {
     "data": {
      "text/html": [
       "<pre style=\"white-space:pre;overflow-x:auto;line-height:normal;font-family:Menlo,'DejaVu Sans Mono',consolas,'Courier New',monospace\"><span style=\"color: #000080; text-decoration-color: #000080\"> 'spread_tie': '0.002861',\n",
       "</span></pre>\n"
      ],
      "text/plain": [
       "\u001b[34m 'spread_tie': '0.002861',\n",
       "\u001b[0m"
      ]
     },
     "metadata": {},
     "output_type": "display_data"
    },
    {
     "data": {
      "text/html": [
       "<pre style=\"white-space:pre;overflow-x:auto;line-height:normal;font-family:Menlo,'DejaVu Sans Mono',consolas,'Courier New',monospace\"><span style=\"color: #000080; text-decoration-color: #000080\"> 'std_tie': '0.000571',\n",
       "</span></pre>\n"
      ],
      "text/plain": [
       "\u001b[34m 'std_tie': '0.000571',\n",
       "\u001b[0m"
      ]
     },
     "metadata": {},
     "output_type": "display_data"
    },
    {
     "data": {
      "text/html": [
       "<pre style=\"white-space:pre;overflow-x:auto;line-height:normal;font-family:Menlo,'DejaVu Sans Mono',consolas,'Courier New',monospace\"><span style=\"color: #000080; text-decoration-color: #000080\"> 'tie + slack': '0.025044',\n",
       "</span></pre>\n"
      ],
      "text/plain": [
       "\u001b[34m 'tie + slack': '0.025044',\n",
       "\u001b[0m"
      ]
     },
     "metadata": {},
     "output_type": "display_data"
    },
    {
     "data": {
      "text/html": [
       "<pre style=\"white-space:pre;overflow-x:auto;line-height:normal;font-family:Menlo,'DejaVu Sans Mono',consolas,'Courier New',monospace\"><span style=\"color: #000080; text-decoration-color: #000080\"> 'tie_{k}(lamss)': '0.024925'}\n",
       "</span></pre>\n"
      ],
      "text/plain": [
       "\u001b[34m 'tie_{k}(lamss)': '0.024925'}\n",
       "\u001b[0m"
      ]
     },
     "metadata": {},
     "output_type": "display_data"
    },
    {
     "data": {
      "text/html": [
       "<pre style=\"white-space:pre;overflow-x:auto;line-height:normal;font-family:Menlo,'DejaVu Sans Mono',consolas,'Courier New',monospace\"></pre>\n"
      ],
      "text/plain": []
     },
     "metadata": {},
     "output_type": "display_data"
    },
    {
     "data": {
      "text/html": [
       "<pre style=\"white-space:pre;overflow-x:auto;line-height:normal;font-family:Menlo,'DejaVu Sans Mono',consolas,'Courier New',monospace\"><span style=\"color: #008000; text-decoration-color: #008000\">✓</span> App completed.\n",
       "</pre>\n"
      ],
      "text/plain": [
       "\u001b[32m✓\u001b[0m App completed.\n"
      ]
     },
     "metadata": {},
     "output_type": "display_data"
    }
   ],
   "source": [
    "job_id = db.job_id\n",
    "def worker(i):\n",
    "    db = ch.Clickhouse.connect(job_id=job_id)\n",
    "    return ada_calibrate(ZTest1D, db=db, n_iter=100)[:2]\n",
    "# iter_two2, reports_two2, ada_two2 = step(0)\n",
    "import modal\n",
    "stub = modal.Stub(\"two_workers\")\n",
    "wrapper = modal_util.modalize(stub)(worker)\n",
    "with stub.run():\n",
    "    results = list(wrapper.map([1, 2]))"
   ]
  },
  {
   "cell_type": "code",
   "execution_count": 17,
   "metadata": {},
   "outputs": [
    {
     "data": {
      "text/html": [
       "<div>\n",
       "<style scoped>\n",
       "    .dataframe tbody tr th:only-of-type {\n",
       "        vertical-align: middle;\n",
       "    }\n",
       "\n",
       "    .dataframe tbody tr th {\n",
       "        vertical-align: top;\n",
       "    }\n",
       "\n",
       "    .dataframe thead th {\n",
       "        text-align: right;\n",
       "    }\n",
       "</style>\n",
       "<table border=\"1\" class=\"dataframe\">\n",
       "  <thead>\n",
       "    <tr style=\"text-align: right;\">\n",
       "      <th></th>\n",
       "      <th>id</th>\n",
       "      <th>active</th>\n",
       "      <th>parent_id</th>\n",
       "      <th>theta0</th>\n",
       "      <th>radii0</th>\n",
       "      <th>null_truth0</th>\n",
       "      <th>K</th>\n",
       "      <th>alpha0</th>\n",
       "      <th>grid_cost</th>\n",
       "      <th>impossible</th>\n",
       "      <th>orderer</th>\n",
       "      <th>lams</th>\n",
       "      <th>B_lams0</th>\n",
       "      <th>B_lams1</th>\n",
       "      <th>B_lams2</th>\n",
       "      <th>B_lams3</th>\n",
       "      <th>B_lams4</th>\n",
       "      <th>B_lams5</th>\n",
       "      <th>B_lams6</th>\n",
       "      <th>B_lams7</th>\n",
       "      <th>B_lams8</th>\n",
       "      <th>B_lams9</th>\n",
       "      <th>B_lams10</th>\n",
       "      <th>B_lams11</th>\n",
       "      <th>B_lams12</th>\n",
       "      <th>B_lams13</th>\n",
       "      <th>B_lams14</th>\n",
       "      <th>B_lams15</th>\n",
       "      <th>B_lams16</th>\n",
       "      <th>B_lams17</th>\n",
       "      <th>B_lams18</th>\n",
       "      <th>B_lams19</th>\n",
       "      <th>B_lams20</th>\n",
       "      <th>B_lams21</th>\n",
       "      <th>B_lams22</th>\n",
       "      <th>B_lams23</th>\n",
       "      <th>B_lams24</th>\n",
       "      <th>B_lams25</th>\n",
       "      <th>B_lams26</th>\n",
       "      <th>B_lams27</th>\n",
       "      <th>B_lams28</th>\n",
       "      <th>B_lams29</th>\n",
       "      <th>B_lams30</th>\n",
       "      <th>B_lams31</th>\n",
       "      <th>B_lams32</th>\n",
       "      <th>B_lams33</th>\n",
       "      <th>B_lams34</th>\n",
       "      <th>B_lams35</th>\n",
       "      <th>B_lams36</th>\n",
       "      <th>B_lams37</th>\n",
       "      <th>B_lams38</th>\n",
       "      <th>B_lams39</th>\n",
       "      <th>B_lams40</th>\n",
       "      <th>B_lams41</th>\n",
       "      <th>B_lams42</th>\n",
       "      <th>B_lams43</th>\n",
       "      <th>B_lams44</th>\n",
       "      <th>B_lams45</th>\n",
       "      <th>B_lams46</th>\n",
       "      <th>B_lams47</th>\n",
       "      <th>B_lams48</th>\n",
       "      <th>B_lams49</th>\n",
       "      <th>twb_lams0</th>\n",
       "      <th>twb_lams1</th>\n",
       "      <th>twb_lams2</th>\n",
       "      <th>twb_lams3</th>\n",
       "      <th>twb_lams4</th>\n",
       "      <th>twb_lams5</th>\n",
       "      <th>twb_lams6</th>\n",
       "      <th>twb_lams7</th>\n",
       "      <th>twb_lams8</th>\n",
       "      <th>twb_lams9</th>\n",
       "      <th>twb_lams10</th>\n",
       "      <th>twb_lams11</th>\n",
       "      <th>twb_lams12</th>\n",
       "      <th>twb_lams13</th>\n",
       "      <th>twb_lams14</th>\n",
       "      <th>twb_lams15</th>\n",
       "      <th>twb_lams16</th>\n",
       "      <th>twb_lams17</th>\n",
       "      <th>twb_lams18</th>\n",
       "      <th>twb_lams19</th>\n",
       "      <th>twb_lams20</th>\n",
       "      <th>twb_lams21</th>\n",
       "      <th>twb_lams22</th>\n",
       "      <th>twb_lams23</th>\n",
       "      <th>twb_lams24</th>\n",
       "      <th>twb_lams25</th>\n",
       "      <th>twb_lams26</th>\n",
       "      <th>twb_lams27</th>\n",
       "      <th>twb_lams28</th>\n",
       "      <th>twb_lams29</th>\n",
       "      <th>twb_lams30</th>\n",
       "      <th>twb_lams31</th>\n",
       "      <th>twb_lams32</th>\n",
       "      <th>twb_lams33</th>\n",
       "      <th>twb_lams34</th>\n",
       "      <th>twb_lams35</th>\n",
       "      <th>twb_lams36</th>\n",
       "      <th>twb_lams37</th>\n",
       "      <th>twb_lams38</th>\n",
       "      <th>twb_lams39</th>\n",
       "      <th>twb_lams40</th>\n",
       "      <th>twb_lams41</th>\n",
       "      <th>twb_lams42</th>\n",
       "      <th>twb_lams43</th>\n",
       "      <th>twb_lams44</th>\n",
       "      <th>twb_lams45</th>\n",
       "      <th>twb_lams46</th>\n",
       "      <th>twb_lams47</th>\n",
       "      <th>twb_lams48</th>\n",
       "      <th>twb_lams49</th>\n",
       "      <th>twb_min_lams</th>\n",
       "      <th>twb_mean_lams</th>\n",
       "      <th>twb_max_lams</th>\n",
       "      <th>worker_id</th>\n",
       "      <th>birthiter</th>\n",
       "      <th>birthtime</th>\n",
       "      <th>eligible</th>\n",
       "    </tr>\n",
       "  </thead>\n",
       "  <tbody>\n",
       "    <tr>\n",
       "      <th>0</th>\n",
       "      <td>4314962121109798913</td>\n",
       "      <td>1</td>\n",
       "      <td>4314961914951368704</td>\n",
       "      <td>-0.000977</td>\n",
       "      <td>0.000977</td>\n",
       "      <td>1</td>\n",
       "      <td>131072</td>\n",
       "      <td>0.024934</td>\n",
       "      <td>0.000066</td>\n",
       "      <td>0</td>\n",
       "      <td>-1.98048</td>\n",
       "      <td>-1.962955</td>\n",
       "      <td>-1.977205</td>\n",
       "      <td>-1.933407</td>\n",
       "      <td>-1.951893</td>\n",
       "      <td>-1.986514</td>\n",
       "      <td>-1.968618</td>\n",
       "      <td>-1.969336</td>\n",
       "      <td>-1.954626</td>\n",
       "      <td>-1.960623</td>\n",
       "      <td>-1.95731</td>\n",
       "      <td>-1.961715</td>\n",
       "      <td>-1.966287</td>\n",
       "      <td>-1.970392</td>\n",
       "      <td>-1.963837</td>\n",
       "      <td>-1.961454</td>\n",
       "      <td>-1.951085</td>\n",
       "      <td>-1.964332</td>\n",
       "      <td>-1.954349</td>\n",
       "      <td>-1.976983</td>\n",
       "      <td>-1.964354</td>\n",
       "      <td>-1.939287</td>\n",
       "      <td>-1.969342</td>\n",
       "      <td>-1.961313</td>\n",
       "      <td>-1.969013</td>\n",
       "      <td>-1.96701</td>\n",
       "      <td>-1.956662</td>\n",
       "      <td>-1.963559</td>\n",
       "      <td>-1.947736</td>\n",
       "      <td>-1.983023</td>\n",
       "      <td>-1.950786</td>\n",
       "      <td>-1.963407</td>\n",
       "      <td>-1.954763</td>\n",
       "      <td>-1.95731</td>\n",
       "      <td>-1.981023</td>\n",
       "      <td>-1.967217</td>\n",
       "      <td>-1.939289</td>\n",
       "      <td>-1.970929</td>\n",
       "      <td>-1.966397</td>\n",
       "      <td>-1.958448</td>\n",
       "      <td>-1.981867</td>\n",
       "      <td>-1.977207</td>\n",
       "      <td>-1.962502</td>\n",
       "      <td>-1.960048</td>\n",
       "      <td>-1.978019</td>\n",
       "      <td>-1.966714</td>\n",
       "      <td>-1.952595</td>\n",
       "      <td>-1.969336</td>\n",
       "      <td>-1.972361</td>\n",
       "      <td>-1.973286</td>\n",
       "      <td>-1.957325</td>\n",
       "      <td>-1.974628</td>\n",
       "      <td>-1.955119</td>\n",
       "      <td>-1.954577</td>\n",
       "      <td>-1.957325</td>\n",
       "      <td>-1.96759</td>\n",
       "      <td>-1.974523</td>\n",
       "      <td>-1.973124</td>\n",
       "      <td>-1.962955</td>\n",
       "      <td>-1.972361</td>\n",
       "      <td>-1.96701</td>\n",
       "      <td>-1.963837</td>\n",
       "      <td>-1.966362</td>\n",
       "      <td>-1.963491</td>\n",
       "      <td>-1.969771</td>\n",
       "      <td>-1.977044</td>\n",
       "      <td>-1.951219</td>\n",
       "      <td>-1.95427</td>\n",
       "      <td>-1.98048</td>\n",
       "      <td>-1.963864</td>\n",
       "      <td>-1.961313</td>\n",
       "      <td>-1.9684</td>\n",
       "      <td>-1.95364</td>\n",
       "      <td>-1.973699</td>\n",
       "      <td>-1.955682</td>\n",
       "      <td>-1.963967</td>\n",
       "      <td>-1.962318</td>\n",
       "      <td>-1.954349</td>\n",
       "      <td>-1.963282</td>\n",
       "      <td>-1.965409</td>\n",
       "      <td>-1.951754</td>\n",
       "      <td>-1.960629</td>\n",
       "      <td>-1.961313</td>\n",
       "      <td>-1.954349</td>\n",
       "      <td>-1.953719</td>\n",
       "      <td>-1.959556</td>\n",
       "      <td>-1.964961</td>\n",
       "      <td>-1.960048</td>\n",
       "      <td>-1.953182</td>\n",
       "      <td>-1.95445</td>\n",
       "      <td>-1.966362</td>\n",
       "      <td>-1.964332</td>\n",
       "      <td>-1.960623</td>\n",
       "      <td>-1.954213</td>\n",
       "      <td>-1.957325</td>\n",
       "      <td>-1.963025</td>\n",
       "      <td>-1.970689</td>\n",
       "      <td>-1.963025</td>\n",
       "      <td>-1.970929</td>\n",
       "      <td>-1.961715</td>\n",
       "      <td>-1.950842</td>\n",
       "      <td>-1.973848</td>\n",
       "      <td>-1.98048</td>\n",
       "      <td>-1.962557</td>\n",
       "      <td>-1.950842</td>\n",
       "      <td>11</td>\n",
       "      <td>11</td>\n",
       "      <td>1.673404e+09</td>\n",
       "      <td>1</td>\n",
       "    </tr>\n",
       "  </tbody>\n",
       "</table>\n",
       "</div>"
      ],
      "text/plain": [
       "                    id  active            parent_id    theta0    radii0  \\\n",
       "0  4314962121109798913       1  4314961914951368704 -0.000977  0.000977   \n",
       "\n",
       "   null_truth0       K    alpha0  grid_cost  impossible  orderer      lams  \\\n",
       "0            1  131072  0.024934   0.000066           0 -1.98048 -1.962955   \n",
       "\n",
       "    B_lams0   B_lams1   B_lams2   B_lams3   B_lams4   B_lams5   B_lams6  \\\n",
       "0 -1.977205 -1.933407 -1.951893 -1.986514 -1.968618 -1.969336 -1.954626   \n",
       "\n",
       "    B_lams7  B_lams8   B_lams9  B_lams10  B_lams11  B_lams12  B_lams13  \\\n",
       "0 -1.960623 -1.95731 -1.961715 -1.966287 -1.970392 -1.963837 -1.961454   \n",
       "\n",
       "   B_lams14  B_lams15  B_lams16  B_lams17  B_lams18  B_lams19  B_lams20  \\\n",
       "0 -1.951085 -1.964332 -1.954349 -1.976983 -1.964354 -1.939287 -1.969342   \n",
       "\n",
       "   B_lams21  B_lams22  B_lams23  B_lams24  B_lams25  B_lams26  B_lams27  \\\n",
       "0 -1.961313 -1.969013  -1.96701 -1.956662 -1.963559 -1.947736 -1.983023   \n",
       "\n",
       "   B_lams28  B_lams29  B_lams30  B_lams31  B_lams32  B_lams33  B_lams34  \\\n",
       "0 -1.950786 -1.963407 -1.954763  -1.95731 -1.981023 -1.967217 -1.939289   \n",
       "\n",
       "   B_lams35  B_lams36  B_lams37  B_lams38  B_lams39  B_lams40  B_lams41  \\\n",
       "0 -1.970929 -1.966397 -1.958448 -1.981867 -1.977207 -1.962502 -1.960048   \n",
       "\n",
       "   B_lams42  B_lams43  B_lams44  B_lams45  B_lams46  B_lams47  B_lams48  \\\n",
       "0 -1.978019 -1.966714 -1.952595 -1.969336 -1.972361 -1.973286 -1.957325   \n",
       "\n",
       "   B_lams49  twb_lams0  twb_lams1  twb_lams2  twb_lams3  twb_lams4  twb_lams5  \\\n",
       "0 -1.974628  -1.955119  -1.954577  -1.957325   -1.96759  -1.974523  -1.973124   \n",
       "\n",
       "   twb_lams6  twb_lams7  twb_lams8  twb_lams9  twb_lams10  twb_lams11  \\\n",
       "0  -1.962955  -1.972361   -1.96701  -1.963837   -1.966362   -1.963491   \n",
       "\n",
       "   twb_lams12  twb_lams13  twb_lams14  twb_lams15  twb_lams16  twb_lams17  \\\n",
       "0   -1.969771   -1.977044   -1.951219    -1.95427    -1.98048   -1.963864   \n",
       "\n",
       "   twb_lams18  twb_lams19  twb_lams20  twb_lams21  twb_lams22  twb_lams23  \\\n",
       "0   -1.961313     -1.9684    -1.95364   -1.973699   -1.955682   -1.963967   \n",
       "\n",
       "   twb_lams24  twb_lams25  twb_lams26  twb_lams27  twb_lams28  twb_lams29  \\\n",
       "0   -1.962318   -1.954349   -1.963282   -1.965409   -1.951754   -1.960629   \n",
       "\n",
       "   twb_lams30  twb_lams31  twb_lams32  twb_lams33  twb_lams34  twb_lams35  \\\n",
       "0   -1.961313   -1.954349   -1.953719   -1.959556   -1.964961   -1.960048   \n",
       "\n",
       "   twb_lams36  twb_lams37  twb_lams38  twb_lams39  twb_lams40  twb_lams41  \\\n",
       "0   -1.953182    -1.95445   -1.966362   -1.964332   -1.960623   -1.954213   \n",
       "\n",
       "   twb_lams42  twb_lams43  twb_lams44  twb_lams45  twb_lams46  twb_lams47  \\\n",
       "0   -1.957325   -1.963025   -1.970689   -1.963025   -1.970929   -1.961715   \n",
       "\n",
       "   twb_lams48  twb_lams49  twb_min_lams  twb_mean_lams  twb_max_lams  \\\n",
       "0   -1.950842   -1.973848      -1.98048      -1.962557     -1.950842   \n",
       "\n",
       "   worker_id  birthiter     birthtime  eligible  \n",
       "0         11         11  1.673404e+09         1  "
      ]
     },
     "execution_count": 17,
     "metadata": {},
     "output_type": "execute_result"
    }
   ],
   "source": [
    "db.worst_tile('lams')"
   ]
  },
  {
   "cell_type": "code",
   "execution_count": 14,
   "metadata": {},
   "outputs": [
    {
     "data": {
      "image/png": "[encoded data removed]",
      "text/plain": [
       "<Figure size 640x480 with 1 Axes>"
      ]
     },
     "metadata": {
      "image/png": {
       "height": 414,
       "width": 559
      }
     },
     "output_type": "display_data"
    },
    {
     "data": {
      "image/png": "[encoded data removed]",
      "text/plain": [
       "<Figure size 640x480 with 1 Axes>"
      ]
     },
     "metadata": {
      "image/png": {
       "height": 414,
       "width": 559
      }
     },
     "output_type": "display_data"
    }
   ],
   "source": [
    "df2 = db.get_all()\n",
    "plt.plot(np.sort(df2['theta0']))\n",
    "plt.show()\n",
    "plt.plot(df2['theta0'], df2['lams'], 'o')\n",
    "plt.show()"
   ]
  },
  {
   "cell_type": "code",
   "execution_count": 12,
   "metadata": {},
   "outputs": [
    {
     "data": {
      "image/png": "[encoded data removed]",
      "text/plain": [
       "<Figure size 640x480 with 1 Axes>"
      ]
     },
     "metadata": {
      "image/png": {
       "height": 414,
       "width": 559
      }
     },
     "output_type": "display_data"
    }
   ],
   "source": [
    "plt.plot(np.sort(db1.get_all()['theta0']))\n",
    "plt.show()"
   ]
  },
  {
   "cell_type": "code",
   "execution_count": null,
   "metadata": {},
   "outputs": [],
   "source": []
  }
 ],
 "metadata": {
  "kernelspec": {
   "display_name": "Python 3",
   "language": "python",
   "name": "python3"
  },
  "language_info": {
   "codemirror_mode": {
    "name": "ipython",
    "version": 3
   },
   "file_extension": ".py",
   "mimetype": "text/x-python",
   "name": "python",
   "nbconvert_exporter": "python",
   "pygments_lexer": "ipython3",
   "version": "3.10.8"
  },
  "orig_nbformat": 4,
  "vscode": {
   "interpreter": {
    "hash": "b4c6ec5b2d6c7b38df115d547b82cd53ca25eea58d87299956d35a9dc79f19f1"
   }
  }
 },
 "nbformat": 4,
 "nbformat_minor": 2
}
