{
 "cells": [
  {
   "cell_type": "code",
   "execution_count": 1,
   "metadata": {},
   "outputs": [],
   "source": [
    "import imprint.nb_util as nb_util\n",
    "nb_util.setup_nb()\n",
    "import os\n",
    "import time\n",
    "import imprint as ip\n",
    "from imprint.models.ztest import ZTest1D\n",
    "import confirm.adagrid as ada\n",
    "import confirm.cloud.clickhouse as ch\n",
    "import pandas as pd\n",
    "import matplotlib.pyplot as plt\n",
    "import numpy as np"
   ]
  },
  {
   "cell_type": "code",
   "execution_count": 2,
   "metadata": {},
   "outputs": [
    {
     "name": "stderr",
     "output_type": "stream",
     "text": [
      "DEBUG:imprint.timer:unique_timer() = 1674178958, now = 1674178958.272506, last = 0, self = 11219482032\n",
      "DEBUG:imprint.grid:_gen_short_uuids(n_bits=18, worker_bits=18): n=2, worker_id=1, t=1674178958\n",
      "DEBUG:imprint.grid:[4368237513924673536 4368237513924673537]\n"
     ]
    },
    {
     "name": "stdout",
     "output_type": "stream",
     "text": [
      "2\n",
      "2\n",
      "2\n",
      "2\n",
      "2\n",
      "2\n",
      "2\n",
      "2\n",
      "2\n",
      "2\n",
      "2\n",
      "2\n",
      "2\n"
     ]
    },
    {
     "name": "stderr",
     "output_type": "stream",
     "text": [
      "DEBUG:imprint.timer:unique_timer() = 1674178961, now = 1674178961.221676, last = 1674178958, self = 11219482032\n",
      "DEBUG:imprint.grid:_gen_short_uuids(n_bits=18, worker_bits=18): n=0, worker_id=2, t=1674178961\n",
      "DEBUG:imprint.grid:[]\n",
      "DEBUG:imprint.timer:unique_timer() = 1674178961, now = 1674178961.2237, last = 1674178961, self = 11219482032\n",
      "DEBUG:imprint.grid:_gen_short_uuids(n_bits=18, worker_bits=18): n=2, worker_id=2, t=1674178962\n",
      "DEBUG:imprint.grid:[4368237788802842624 4368237788802842625]\n",
      "DEBUG:confirm.adagrid.calibration:{'K_distribution': {8192: 2},\n",
      " 'bias_tie': '-0.000024',\n",
      " 'converged': False,\n",
      " 'grid_cost': '0.019327',\n",
      " 'i': 0,\n",
      " 'lamss': '-1.985793',\n",
      " 'max(B_lamss)': '-1.887401',\n",
      " 'min(B_lamss)': '-2.031679',\n",
      " 'n_complete': 0,\n",
      " 'n_deepen': 0,\n",
      " 'n_impossible': 0,\n",
      " 'n_processed': 2,\n",
      " 'n_refine': 1,\n",
      " 'runtime_cleanup': '0.003487',\n",
      " 'runtime_get_work': '0.136866',\n",
      " 'runtime_processing': '0.059627',\n",
      " 'runtime_refine_deepen': '0.114438',\n",
      " 'spread_tie': '0.001587',\n",
      " 'status': 'WORKING',\n",
      " 'std_tie': '0.000552',\n",
      " 'tie + slack': '0.024795',\n",
      " 'tie_{k}(lamss)': '0.005493',\n",
      " 'worker_id': 2}\n",
      "DEBUG:imprint.timer:unique_timer() = 1674178961, now = 1674178961.366037, last = 1674178962, self = 11219482032\n",
      "DEBUG:imprint.grid:_gen_short_uuids(n_bits=18, worker_bits=18): n=1, worker_id=2, t=1674178963\n",
      "DEBUG:imprint.grid:[4368237857522319360]\n",
      "DEBUG:imprint.timer:unique_timer() = 1674178961, now = 1674178961.368295, last = 1674178963, self = 11219482032\n",
      "DEBUG:imprint.grid:_gen_short_uuids(n_bits=18, worker_bits=18): n=2, worker_id=2, t=1674178964\n",
      "DEBUG:imprint.grid:[4368237926241796096 4368237926241796097]\n",
      "DEBUG:confirm.adagrid.calibration:{'K_distribution': {8192: 2, 16384: 1},\n",
      " 'bias_tie': '0.000220',\n",
      " 'converged': '0.000000',\n",
      " 'grid_cost': '0.012713',\n",
      " 'i': 1,\n",
      " 'lamss': '-1.954579',\n",
      " 'max(B_lamss)': '-1.938797',\n",
      " 'min(B_lamss)': '-1.999353',\n",
      " 'n_complete': 0,\n",
      " 'n_deepen': 1,\n",
      " 'n_impossible': 0,\n",
      " 'n_processed': 3,\n",
      " 'n_refine': 1,\n",
      " 'runtime_cleanup': '0.003222',\n",
      " 'runtime_get_work': '0.009252',\n",
      " 'runtime_processing': '0.073745',\n",
      " 'runtime_refine_deepen': '0.071304',\n",
      " 'spread_tie': '0.003174',\n",
      " 'status': 'WORKING',\n",
      " 'std_tie': '0.001068',\n",
      " 'tie + slack': '0.025017',\n",
      " 'tie_{k}(lamss)': '0.012085',\n",
      " 'worker_id': 2}\n",
      "DEBUG:imprint.timer:unique_timer() = 1674178961, now = 1674178961.524195, last = 1674178964, self = 11219482032\n",
      "DEBUG:imprint.grid:_gen_short_uuids(n_bits=18, worker_bits=18): n=2, worker_id=2, t=1674178965\n",
      "DEBUG:imprint.grid:[4368237994961272832 4368237994961272833]\n",
      "DEBUG:imprint.timer:unique_timer() = 1674178961, now = 1674178961.5270011, last = 1674178965, self = 11219482032\n",
      "DEBUG:imprint.grid:_gen_short_uuids(n_bits=18, worker_bits=18): n=2, worker_id=2, t=1674178966\n",
      "DEBUG:imprint.grid:[4368238063680749568 4368238063680749569]\n",
      "DEBUG:confirm.adagrid.calibration:{'K_distribution': {8192: 2, 16384: 1, 32768: 1},\n",
      " 'bias_tie': '-0.000415',\n",
      " 'converged': False,\n",
      " 'grid_cost': '0.007336',\n",
      " 'i': 2,\n",
      " 'lamss': '-1.963464',\n",
      " 'max(B_lamss)': '-1.935918',\n",
      " 'min(B_lamss)': '-1.978195',\n",
      " 'n_complete': 0,\n",
      " 'n_deepen': 2,\n",
      " 'n_impossible': 0,\n",
      " 'n_processed': 4,\n",
      " 'n_refine': 1,\n",
      " 'runtime_cleanup': '0.003719',\n",
      " 'runtime_get_work': '0.009978',\n",
      " 'runtime_processing': '0.088347',\n",
      " 'runtime_refine_deepen': '0.071037',\n",
      " 'spread_tie': '0.003052',\n",
      " 'status': 'WORKING',\n",
      " 'std_tie': '0.001077',\n",
      " 'tie + slack': '0.024377',\n",
      " 'tie_{k}(lamss)': '0.017456',\n",
      " 'worker_id': 2}\n",
      "DEBUG:imprint.timer:unique_timer() = 1674178961, now = 1674178961.6972601, last = 1674178966, self = 11219482032\n",
      "DEBUG:imprint.grid:_gen_short_uuids(n_bits=18, worker_bits=18): n=3, worker_id=2, t=1674178967\n",
      "DEBUG:imprint.grid:[4368238132400226304 4368238132400226305 4368238132400226306]\n",
      "DEBUG:imprint.timer:unique_timer() = 1674178961, now = 1674178961.69946, last = 1674178967, self = 11219482032\n",
      "DEBUG:imprint.grid:_gen_short_uuids(n_bits=18, worker_bits=18): n=2, worker_id=2, t=1674178968\n",
      "DEBUG:imprint.grid:[4368238201119703040 4368238201119703041]\n",
      "DEBUG:confirm.adagrid.calibration:{'K_distribution': {8192: 2, 16384: 1, 32768: 1, 65536: 1},\n",
      " 'bias_tie': '-0.000366',\n",
      " 'converged': False,\n",
      " 'grid_cost': '0.003945',\n",
      " 'i': 3,\n",
      " 'lamss': '-1.959059',\n",
      " 'max(B_lamss)': '-1.918080',\n",
      " 'min(B_lamss)': '-1.986207',\n",
      " 'n_complete': 0,\n",
      " 'n_deepen': 3,\n",
      " 'n_impossible': 0,\n",
      " 'n_processed': 5,\n",
      " 'n_refine': 1,\n",
      " 'runtime_cleanup': '0.003259',\n",
      " 'runtime_get_work': '0.009324',\n",
      " 'runtime_processing': '0.108824',\n",
      " 'runtime_refine_deepen': '0.070434',\n",
      " 'spread_tie': '0.002808',\n",
      " 'status': 'WORKING',\n",
      " 'std_tie': '0.001004',\n",
      " 'tie + slack': '0.024452',\n",
      " 'tie_{k}(lamss)': '0.020874',\n",
      " 'worker_id': 2}\n",
      "DEBUG:imprint.timer:unique_timer() = 1674178961, now = 1674178961.887979, last = 1674178968, self = 11219482032\n",
      "DEBUG:imprint.grid:_gen_short_uuids(n_bits=18, worker_bits=18): n=4, worker_id=2, t=1674178969\n",
      "DEBUG:imprint.grid:[4368238269839179776 4368238269839179777 4368238269839179778 4368238269839179779]\n",
      "DEBUG:imprint.timer:unique_timer() = 1674178961, now = 1674178961.889833, last = 1674178969, self = 11219482032\n",
      "DEBUG:imprint.grid:_gen_short_uuids(n_bits=18, worker_bits=18): n=2, worker_id=2, t=1674178970\n",
      "DEBUG:imprint.grid:[4368238338558656512 4368238338558656513]\n",
      "DEBUG:confirm.adagrid.calibration:{'K_distribution': {8192: 2, 16384: 1, 32768: 1, 65536: 1, 131072: 1},\n",
      " 'bias_tie': '-0.000317',\n",
      " 'converged': False,\n",
      " 'grid_cost': '0.002046',\n",
      " 'i': 4,\n",
      " 'lamss': '-1.944948',\n",
      " 'max(B_lamss)': '-1.920145',\n",
      " 'min(B_lamss)': '-1.959790',\n",
      " 'n_complete': 0,\n",
      " 'n_deepen': 4,\n",
      " 'n_impossible': 0,\n",
      " 'n_processed': 6,\n",
      " 'n_refine': 1,\n",
      " 'runtime_cleanup': '0.003370',\n",
      " 'runtime_get_work': '0.008851',\n",
      " 'runtime_processing': '0.118717',\n",
      " 'runtime_refine_deepen': '0.068255',\n",
      " 'spread_tie': '0.002319',\n",
      " 'status': 'WORKING',\n",
      " 'std_tie': '0.000802',\n",
      " 'tie + slack': '0.024555',\n",
      " 'tie_{k}(lamss)': '0.022827',\n",
      " 'worker_id': 2}\n",
      "DEBUG:imprint.timer:unique_timer() = 1674178962, now = 1674178962.088643, last = 1674178970, self = 11219482032\n",
      "DEBUG:imprint.grid:_gen_short_uuids(n_bits=18, worker_bits=18): n=5, worker_id=2, t=1674178971\n",
      "DEBUG:imprint.grid:[4368238407278133248 4368238407278133249 4368238407278133250 4368238407278133251\n",
      " 4368238407278133252]\n",
      "DEBUG:imprint.timer:unique_timer() = 1674178962, now = 1674178962.090785, last = 1674178971, self = 11219482032\n",
      "DEBUG:imprint.grid:_gen_short_uuids(n_bits=18, worker_bits=18): n=2, worker_id=2, t=1674178972\n",
      "DEBUG:imprint.grid:[4368238475997609984 4368238475997609985]\n",
      "DEBUG:confirm.adagrid.calibration:{'K_distribution': {16384: 2, 32768: 1, 65536: 1, 131072: 3},\n",
      " 'bias_tie': '-0.000171',\n",
      " 'converged': False,\n",
      " 'grid_cost': '0.001042',\n",
      " 'i': 5,\n",
      " 'lamss': '-1.949910',\n",
      " 'max(B_lamss)': '-1.916039',\n",
      " 'min(B_lamss)': '-1.959244',\n",
      " 'n_complete': 0,\n",
      " 'n_deepen': 5,\n",
      " 'n_impossible': 0,\n",
      " 'n_processed': 7,\n",
      " 'n_refine': 1,\n",
      " 'runtime_cleanup': '0.003235',\n",
      " 'runtime_get_work': '0.008656',\n",
      " 'runtime_processing': '0.278021',\n",
      " 'runtime_refine_deepen': '0.069784',\n",
      " 'spread_tie': '0.002441',\n",
      " 'status': 'WORKING',\n",
      " 'std_tie': '0.000841',\n",
      " 'tie + slack': '0.024675',\n",
      " 'tie_{k}(lamss)': '0.023804',\n",
      " 'worker_id': 2}\n",
      "DEBUG:imprint.timer:unique_timer() = 1674178962, now = 1674178962.490104, last = 1674178972, self = 11219482032\n",
      "DEBUG:imprint.grid:_gen_short_uuids(n_bits=18, worker_bits=18): n=3, worker_id=2, t=1674178973\n",
      "DEBUG:imprint.grid:[4368238544717086720 4368238544717086721 4368238544717086722]\n",
      "DEBUG:imprint.timer:unique_timer() = 1674178962, now = 1674178962.49217, last = 1674178973, self = 11219482032\n",
      "DEBUG:imprint.grid:_gen_short_uuids(n_bits=18, worker_bits=18): n=8, worker_id=2, t=1674178974\n",
      "DEBUG:imprint.grid:[4368238613436563456 4368238613436563457 4368238613436563458 4368238613436563459\n",
      " 4368238613436563460 4368238613436563461 4368238613436563462 4368238613436563463]\n",
      "DEBUG:confirm.adagrid.calibration:{'K_distribution': {16384: 2, 32768: 1, 65536: 1, 131072: 7},\n",
      " 'bias_tie': '0.000415',\n",
      " 'converged': '0.000000',\n",
      " 'grid_cost': '0.001042',\n",
      " 'i': 6,\n",
      " 'lamss': '-1.953752',\n",
      " 'max(B_lamss)': '-1.936119',\n",
      " 'min(B_lamss)': '-1.978360',\n",
      " 'n_complete': 0,\n",
      " 'n_deepen': 3,\n",
      " 'n_impossible': 0,\n",
      " 'n_processed': 11,\n",
      " 'n_refine': 4,\n",
      " 'runtime_cleanup': '0.003047',\n",
      " 'runtime_get_work': '0.050962',\n",
      " 'runtime_processing': '0.513533',\n",
      " 'runtime_refine_deepen': '0.068018',\n",
      " 'spread_tie': '0.002441',\n",
      " 'status': 'WORKING',\n",
      " 'std_tie': '0.000820',\n",
      " 'tie + slack': '0.025322',\n",
      " 'tie_{k}(lamss)': '0.023865',\n",
      " 'worker_id': 2}\n",
      "DEBUG:imprint.timer:unique_timer() = 1674178963, now = 1674178963.085366, last = 1674178974, self = 11219482032\n",
      "DEBUG:imprint.grid:_gen_short_uuids(n_bits=18, worker_bits=18): n=3, worker_id=2, t=1674178975\n",
      "DEBUG:imprint.grid:[4368238682156040192 4368238682156040193 4368238682156040194]\n",
      "DEBUG:imprint.timer:unique_timer() = 1674178963, now = 1674178963.087308, last = 1674178975, self = 11219482032\n",
      "DEBUG:imprint.grid:_gen_short_uuids(n_bits=18, worker_bits=18): n=16, worker_id=2, t=1674178976\n",
      "DEBUG:imprint.grid:[4368238750875516928 4368238750875516929 4368238750875516930 4368238750875516931\n",
      " 4368238750875516932 4368238750875516933 4368238750875516934 4368238750875516935\n",
      " 4368238750875516936 4368238750875516937 4368238750875516938 4368238750875516939\n",
      " 4368238750875516940 4368238750875516941 4368238750875516942 4368238750875516943]\n",
      "DEBUG:confirm.adagrid.calibration:{'K_distribution': {16384: 2, 32768: 1, 65536: 1, 131072: 15},\n",
      " 'bias_tie': '0.000366',\n",
      " 'converged': '0.000000',\n",
      " 'grid_cost': '0.000526',\n",
      " 'i': 7,\n",
      " 'lamss': '-1.953787',\n",
      " 'max(B_lamss)': '-1.929968',\n",
      " 'min(B_lamss)': '-1.978311',\n",
      " 'n_complete': 0,\n",
      " 'n_deepen': 3,\n",
      " 'n_impossible': 0,\n",
      " 'n_processed': 19,\n",
      " 'n_refine': 8,\n",
      " 'runtime_cleanup': '0.004178',\n",
      " 'runtime_get_work': '0.009406',\n",
      " 'runtime_processing': '1.009823',\n",
      " 'runtime_refine_deepen': '0.068869',\n",
      " 'spread_tie': '0.002747',\n",
      " 'status': 'WORKING',\n",
      " 'std_tie': '0.000960',\n",
      " 'tie + slack': '0.025306',\n",
      " 'tie_{k}(lamss)': '0.024414',\n",
      " 'worker_id': 2}\n",
      "DEBUG:imprint.timer:unique_timer() = 1674178964, now = 1674178964.185236, last = 1674178976, self = 11219482032\n",
      "DEBUG:imprint.grid:_gen_short_uuids(n_bits=18, worker_bits=18): n=3, worker_id=2, t=1674178977\n",
      "DEBUG:imprint.grid:[4368238819594993664 4368238819594993665 4368238819594993666]\n",
      "DEBUG:imprint.timer:unique_timer() = 1674178964, now = 1674178964.1878731, last = 1674178977, self = 11219482032\n",
      "DEBUG:imprint.grid:_gen_short_uuids(n_bits=18, worker_bits=18): n=32, worker_id=2, t=1674178978\n",
      "DEBUG:imprint.grid:[4368238888314470400 4368238888314470401 4368238888314470402 4368238888314470403\n",
      " 4368238888314470404 4368238888314470405 4368238888314470406 4368238888314470407\n",
      " 4368238888314470408 4368238888314470409 4368238888314470410 4368238888314470411\n",
      " 4368238888314470412 4368238888314470413 4368238888314470414 4368238888314470415\n",
      " 4368238888314470416 4368238888314470417 4368238888314470418 4368238888314470419\n",
      " 4368238888314470420 4368238888314470421 4368238888314470422 4368238888314470423\n",
      " 4368238888314470424 4368238888314470425 4368238888314470426 4368238888314470427\n",
      " 4368238888314470428 4368238888314470429 4368238888314470430 4368238888314470431]\n",
      "DEBUG:confirm.adagrid.calibration:{'K_distribution': {16384: 2, 32768: 1, 65536: 1, 131072: 31},\n",
      " 'bias_tie': '0.000598',\n",
      " 'converged': '0.000000',\n",
      " 'grid_cost': '0.000264',\n",
      " 'i': 8,\n",
      " 'lamss': '-1.951419',\n",
      " 'max(B_lamss)': '-1.944253',\n",
      " 'min(B_lamss)': '-1.978410',\n",
      " 'n_complete': 0,\n",
      " 'n_deepen': 3,\n",
      " 'n_impossible': 0,\n",
      " 'n_processed': 35,\n",
      " 'n_refine': 16,\n",
      " 'runtime_cleanup': '0.003784',\n",
      " 'runtime_get_work': '0.011119',\n",
      " 'runtime_processing': '1.986854',\n",
      " 'runtime_refine_deepen': '0.075190',\n",
      " 'spread_tie': '0.002075',\n",
      " 'status': 'WORKING',\n",
      " 'std_tie': '0.000722',\n",
      " 'tie + slack': '0.025520',\n",
      " 'tie_{k}(lamss)': '0.024658',\n",
      " 'worker_id': 2}\n",
      "DEBUG:imprint.timer:unique_timer() = 1674178966, now = 1674178966.343153, last = 1674178978, self = 11219482032\n",
      "DEBUG:imprint.grid:_gen_short_uuids(n_bits=18, worker_bits=18): n=4, worker_id=2, t=1674178979\n",
      "DEBUG:imprint.grid:[4368238957033947136 4368238957033947137 4368238957033947138 4368238957033947139]\n",
      "DEBUG:imprint.timer:unique_timer() = 1674178966, now = 1674178966.3459918, last = 1674178979, self = 11219482032\n",
      "DEBUG:imprint.grid:_gen_short_uuids(n_bits=18, worker_bits=18): n=56, worker_id=2, t=1674178980\n",
      "DEBUG:imprint.grid:[4368239025753423872 4368239025753423873 4368239025753423874 4368239025753423875\n",
      " 4368239025753423876 4368239025753423877 4368239025753423878 4368239025753423879\n",
      " 4368239025753423880 4368239025753423881 4368239025753423882 4368239025753423883\n",
      " 4368239025753423884 4368239025753423885 4368239025753423886 4368239025753423887\n",
      " 4368239025753423888 4368239025753423889 4368239025753423890 4368239025753423891\n",
      " 4368239025753423892 4368239025753423893 4368239025753423894 4368239025753423895\n",
      " 4368239025753423896 4368239025753423897 4368239025753423898 4368239025753423899\n",
      " 4368239025753423900 4368239025753423901 4368239025753423902 4368239025753423903\n",
      " 4368239025753423904 4368239025753423905 4368239025753423906 4368239025753423907\n",
      " 4368239025753423908 4368239025753423909 4368239025753423910 4368239025753423911\n",
      " 4368239025753423912 4368239025753423913 4368239025753423914 4368239025753423915\n",
      " 4368239025753423916 4368239025753423917 4368239025753423918 4368239025753423919\n",
      " 4368239025753423920 4368239025753423921 4368239025753423922 4368239025753423923\n",
      " 4368239025753423924 4368239025753423925 4368239025753423926 4368239025753423927]\n",
      "DEBUG:confirm.adagrid.calibration:{'K_distribution': {32768: 2, 65536: 1, 131072: 57},\n",
      " 'bias_tie': '0.000830',\n",
      " 'converged': '0.000000',\n",
      " 'grid_cost': '0.000264',\n",
      " 'i': 9,\n",
      " 'lamss': '-1.950712',\n",
      " 'max(B_lamss)': '-1.952282',\n",
      " 'min(B_lamss)': '-1.980174',\n",
      " 'n_complete': 0,\n",
      " 'n_deepen': 4,\n",
      " 'n_impossible': 0,\n",
      " 'n_processed': 60,\n",
      " 'n_refine': 28,\n",
      " 'runtime_cleanup': '0.003367',\n",
      " 'runtime_get_work': '0.091804',\n",
      " 'runtime_processing': '3.504102',\n",
      " 'runtime_refine_deepen': '0.074897',\n",
      " 'spread_tie': '0.001801',\n",
      " 'status': 'WORKING',\n",
      " 'std_tie': '0.000670',\n",
      " 'tie + slack': '0.025783',\n",
      " 'tie_{k}(lamss)': '0.024689',\n",
      " 'worker_id': 2}\n",
      "DEBUG:imprint.timer:unique_timer() = 1674178969, now = 1674178969.933077, last = 1674178980, self = 11219482032\n",
      "DEBUG:imprint.grid:_gen_short_uuids(n_bits=18, worker_bits=18): n=3, worker_id=2, t=1674178981\n",
      "DEBUG:imprint.grid:[4368239094472900608 4368239094472900609 4368239094472900610]\n",
      "DEBUG:imprint.timer:unique_timer() = 1674178969, now = 1674178969.935155, last = 1674178981, self = 11219482032\n",
      "DEBUG:imprint.grid:_gen_short_uuids(n_bits=18, worker_bits=18): n=58, worker_id=2, t=1674178982\n",
      "DEBUG:imprint.grid:[4368239163192377344 4368239163192377345 4368239163192377346 4368239163192377347\n",
      " 4368239163192377348 4368239163192377349 4368239163192377350 4368239163192377351\n",
      " 4368239163192377352 4368239163192377353 4368239163192377354 4368239163192377355\n",
      " 4368239163192377356 4368239163192377357 4368239163192377358 4368239163192377359\n",
      " 4368239163192377360 4368239163192377361 4368239163192377362 4368239163192377363\n",
      " 4368239163192377364 4368239163192377365 4368239163192377366 4368239163192377367\n",
      " 4368239163192377368 4368239163192377369 4368239163192377370 4368239163192377371\n",
      " 4368239163192377372 4368239163192377373 4368239163192377374 4368239163192377375\n",
      " 4368239163192377376 4368239163192377377 4368239163192377378 4368239163192377379\n",
      " 4368239163192377380 4368239163192377381 4368239163192377382 4368239163192377383\n",
      " 4368239163192377384 4368239163192377385 4368239163192377386 4368239163192377387\n",
      " 4368239163192377388 4368239163192377389 4368239163192377390 4368239163192377391\n",
      " 4368239163192377392 4368239163192377393 4368239163192377394 4368239163192377395\n",
      " 4368239163192377396 4368239163192377397 4368239163192377398 4368239163192377399\n",
      " 4368239163192377400 4368239163192377401]\n",
      "DEBUG:confirm.adagrid.calibration:{'K_distribution': {65536: 2, 131072: 59},\n",
      " 'bias_tie': '0.000354',\n",
      " 'converged': '0.000000',\n",
      " 'grid_cost': '0.000132',\n",
      " 'i': 10,\n",
      " 'lamss': '-1.958257',\n",
      " 'max(B_lamss)': '-1.955517',\n",
      " 'min(B_lamss)': '-1.970207',\n",
      " 'n_complete': 0,\n",
      " 'n_deepen': 3,\n",
      " 'n_impossible': 0,\n",
      " 'n_processed': 61,\n",
      " 'n_refine': 29,\n",
      " 'runtime_cleanup': '0.003464',\n",
      " 'runtime_get_work': '0.009921',\n",
      " 'runtime_processing': '3.554550',\n",
      " 'runtime_refine_deepen': '0.070076',\n",
      " 'spread_tie': '0.000671',\n",
      " 'status': 'WORKING',\n",
      " 'std_tie': '0.000258',\n",
      " 'tie + slack': '0.025297',\n",
      " 'tie_{k}(lamss)': '0.024811',\n",
      " 'worker_id': 2}\n",
      "DEBUG:imprint.timer:unique_timer() = 1674178973, now = 1674178973.623998, last = 1674178982, self = 11219482032\n",
      "DEBUG:imprint.grid:_gen_short_uuids(n_bits=18, worker_bits=18): n=2, worker_id=2, t=1674178983\n",
      "DEBUG:imprint.grid:[4368239231911854080 4368239231911854081]\n",
      "DEBUG:imprint.timer:unique_timer() = 1674178973, now = 1674178973.6259148, last = 1674178983, self = 11219482032\n",
      "DEBUG:imprint.grid:_gen_short_uuids(n_bits=18, worker_bits=18): n=60, worker_id=2, t=1674178984\n",
      "DEBUG:imprint.grid:[4368239300631330816 4368239300631330817 4368239300631330818 4368239300631330819\n",
      " 4368239300631330820 4368239300631330821 4368239300631330822 4368239300631330823\n",
      " 4368239300631330824 4368239300631330825 4368239300631330826 4368239300631330827\n",
      " 4368239300631330828 4368239300631330829 4368239300631330830 4368239300631330831\n",
      " 4368239300631330832 4368239300631330833 4368239300631330834 4368239300631330835\n",
      " 4368239300631330836 4368239300631330837 4368239300631330838 4368239300631330839\n",
      " 4368239300631330840 4368239300631330841 4368239300631330842 4368239300631330843\n",
      " 4368239300631330844 4368239300631330845 4368239300631330846 4368239300631330847\n",
      " 4368239300631330848 4368239300631330849 4368239300631330850 4368239300631330851\n",
      " 4368239300631330852 4368239300631330853 4368239300631330854 4368239300631330855\n",
      " 4368239300631330856 4368239300631330857 4368239300631330858 4368239300631330859\n",
      " 4368239300631330860 4368239300631330861 4368239300631330862 4368239300631330863\n",
      " 4368239300631330864 4368239300631330865 4368239300631330866 4368239300631330867\n",
      " 4368239300631330868 4368239300631330869 4368239300631330870 4368239300631330871\n",
      " 4368239300631330872 4368239300631330873 4368239300631330874 4368239300631330875]\n",
      "DEBUG:confirm.adagrid.calibration:{'K_distribution': {131072: 62},\n",
      " 'bias_tie': '0.000256',\n",
      " 'converged': '0.000000',\n",
      " 'grid_cost': '0.000132',\n",
      " 'i': 11,\n",
      " 'lamss': '-1.956072',\n",
      " 'max(B_lamss)': '-1.953600',\n",
      " 'min(B_lamss)': '-1.972466',\n",
      " 'n_complete': 0,\n",
      " 'n_deepen': 2,\n",
      " 'n_impossible': 0,\n",
      " 'n_processed': 62,\n",
      " 'n_refine': 30,\n",
      " 'runtime_cleanup': '0.004133',\n",
      " 'runtime_get_work': '0.062172',\n",
      " 'runtime_processing': '3.700719',\n",
      " 'runtime_refine_deepen': '0.069763',\n",
      " 'spread_tie': '0.000977',\n",
      " 'status': 'WORKING',\n",
      " 'std_tie': '0.000325',\n",
      " 'tie + slack': '0.025230',\n",
      " 'tie_{k}(lamss)': '0.024841',\n",
      " 'worker_id': 2}\n",
      "DEBUG:confirm.adagrid.calibration:{'bias_tie': '0.000092',\n",
      " 'converged': True,\n",
      " 'grid_cost': '0.000132',\n",
      " 'i': 12,\n",
      " 'lamss': '-1.962861',\n",
      " 'max(B_lamss)': '-1.941912',\n",
      " 'min(B_lamss)': '-1.979558',\n",
      " 'runtime_get_work': '0.063236',\n",
      " 'spread_tie': '0.001953',\n",
      " 'status': 'CONVERGED',\n",
      " 'std_tie': '0.000585',\n",
      " 'tie + slack': '0.025080',\n",
      " 'tie_{k}(lamss)': '0.024857',\n",
      " 'worker_id': 2}\n"
     ]
    }
   ],
   "source": [
    "g = ip.cartesian_grid(theta_min=[-1], theta_max=[1], null_hypos=[ip.hypo(\"x0 < 0\")])\n",
    "iter, reports, db = ada.ada_calibrate(\n",
    "    ZTest1D,\n",
    "    g=g,\n",
    "    nB=5,\n",
    "    tile_batch_size=1,\n",
    "    step_size=32,\n",
    "    packet_size=32,\n",
    "    grid_target=0.00015,\n",
    "    bias_target=0.00015,\n",
    ")"
   ]
  },
  {
   "cell_type": "code",
   "execution_count": 3,
   "metadata": {},
   "outputs": [
    {
     "name": "stderr",
     "output_type": "stream",
     "text": [
      "INFO:confirm.cloud.clickhouse:Clickhouse config: default@t2n4z83v82.us-east-1.aws.clickhouse.cloud:8443/None\n",
      "INFO:confirm.cloud.clickhouse:Clickhouse config: default@t2n4z83v82.us-east-1.aws.clickhouse.cloud:8443/535ed998df59457f8ae7b93e9a8f61df\n",
      "INFO:confirm.cloud.clickhouse:Connected to job 535ed998df59457f8ae7b93e9a8f61df\n"
     ]
    },
    {
     "name": "stdout",
     "output_type": "stream",
     "text": [
      "2\n",
      "2\n",
      "2\n",
      "2\n",
      "2\n",
      "2\n",
      "2\n",
      "2\n",
      "2\n",
      "2\n",
      "2\n",
      "2\n",
      "2\n"
     ]
    },
    {
     "name": "stderr",
     "output_type": "stream",
     "text": [
      "DEBUG:confirm.cloud.clickhouse:set_or_append(config) -> False None\n",
      "DEBUG:confirm.cloud.clickhouse:set(config) -> False config\n",
      "DEBUG:confirm.cloud.clickhouse:writing 1 new tiles\n",
      "DEBUG:confirm.cloud.clickhouse:set step info: (-1, 0, 0)\n",
      "DEBUG:confirm.cloud.clickhouse:set(null_hypos) -> False null_hypos\n",
      "DEBUG:confirm.cloud.clickhouse:get step info: (-1, 0, 0)\n",
      "DEBUG:confirm.cloud.clickhouse:new step (0, 0, 1) n_tiles=1 packet_size=8\n",
      "DEBUG:confirm.cloud.clickhouse:new step df.head():                     id  step_id  step_iter\n",
      "0  4368237513924673536        0          0\n",
      "DEBUG:confirm.cloud.clickhouse:set step info: (0, 0, 1)\n",
      "DEBUG:confirm.cloud.clickhouse:get step info: (0, 0, 1)\n",
      "DEBUG:confirm.cloud.clickhouse:get_work(step_id=0, step_iter=0)\n",
      "DEBUG:confirm.cloud.clickhouse:get_work(...) returned 1 tiles\n",
      "DEBUG:confirm.cloud.clickhouse:set step info: (0, 1, 1)\n",
      "DEBUG:imprint.timer:unique_timer() = 1674179127, now = 1674179127.1768608, last = 1674178984, self = 11219482032\n",
      "DEBUG:imprint.grid:_gen_short_uuids(n_bits=18, worker_bits=18): n=0, worker_id=2, t=1674179127\n",
      "DEBUG:imprint.grid:[]\n",
      "DEBUG:imprint.timer:unique_timer() = 1674179127, now = 1674179127.178655, last = 1674179127, self = 11219482032\n",
      "DEBUG:imprint.grid:_gen_short_uuids(n_bits=18, worker_bits=18): n=2, worker_id=2, t=1674179128\n",
      "DEBUG:imprint.grid:[4368249196235980800 4368249196235980801]\n",
      "DEBUG:confirm.cloud.clickhouse:writing 2 new tiles\n",
      "DEBUG:confirm.cloud.clickhouse:finish:    step_id  step_iter                   id  active          time  worker_id\n",
      "0        0          0  4368237513924673536   False  1.674179e+09          2\n",
      "DEBUG:confirm.adagrid.calibration:{'K_distribution': {8192: 2},\n",
      " 'bias_tie': '-0.000024',\n",
      " 'converged': False,\n",
      " 'distributed_next_loop': 1,\n",
      " 'grid_cost': '0.019327',\n",
      " 'i': 0,\n",
      " 'lamss': '-1.985793',\n",
      " 'max(B_lamss)': '-1.887401',\n",
      " 'min(B_lamss)': '-2.031679',\n",
      " 'n_complete': 0,\n",
      " 'n_deepen': 0,\n",
      " 'n_impossible': 0,\n",
      " 'n_processed': 2,\n",
      " 'n_refine': 1,\n",
      " 'runtime_cleanup': '0.431960',\n",
      " 'runtime_get_work': '0.629900',\n",
      " 'runtime_processing': '0.035948',\n",
      " 'runtime_refine_deepen': '0.170138',\n",
      " 'spread_tie': '0.001587',\n",
      " 'status': 'NEW_STEP',\n",
      " 'std_tie': '0.000552',\n",
      " 'step_id': 0,\n",
      " 'step_iter': 0,\n",
      " 'step_n_iter': 1,\n",
      " 'tie + slack': '0.024795',\n",
      " 'tie_{k}(lamss)': '0.005493',\n",
      " 'work_extraction_time': '1674179126.954214',\n",
      " 'worker_id': 2}\n",
      "DEBUG:confirm.cloud.clickhouse:get step info: (0, 1, 1)\n",
      "DEBUG:confirm.cloud.clickhouse:new step (1, 0, 1) n_tiles=2 packet_size=8\n",
      "DEBUG:confirm.cloud.clickhouse:new step df.head():                     id  step_id  step_iter\n",
      "0  4368249196235980801        1          0\n",
      "1  4368249196235980800        1          0\n",
      "DEBUG:confirm.cloud.clickhouse:set step info: (1, 0, 1)\n",
      "DEBUG:confirm.cloud.clickhouse:get step info: (1, 0, 1)\n",
      "DEBUG:confirm.cloud.clickhouse:get_work(step_id=1, step_iter=0)\n",
      "DEBUG:confirm.cloud.clickhouse:get_work(...) returned 2 tiles\n",
      "DEBUG:confirm.cloud.clickhouse:set step info: (1, 1, 1)\n",
      "DEBUG:imprint.timer:unique_timer() = 1674179128, now = 1674179128.317622, last = 1674179128, self = 11219482032\n",
      "DEBUG:imprint.grid:_gen_short_uuids(n_bits=18, worker_bits=18): n=1, worker_id=2, t=1674179129\n",
      "DEBUG:imprint.grid:[4368249264955457536]\n",
      "DEBUG:imprint.timer:unique_timer() = 1674179128, now = 1674179128.3195982, last = 1674179129, self = 11219482032\n",
      "DEBUG:imprint.grid:_gen_short_uuids(n_bits=18, worker_bits=18): n=2, worker_id=2, t=1674179130\n",
      "DEBUG:imprint.grid:[4368249333674934272 4368249333674934273]\n",
      "DEBUG:confirm.cloud.clickhouse:writing 3 new tiles\n",
      "DEBUG:confirm.cloud.clickhouse:finish:    step_id  step_iter                   id  active          time  worker_id\n",
      "0        1          0  4368249196235980801   False  1.674179e+09          2\n",
      "1        1          0  4368249196235980800   False  1.674179e+09          2\n",
      "DEBUG:confirm.adagrid.calibration:{'K_distribution': {8192: 2, 16384: 1},\n",
      " 'bias_tie': '0.000220',\n",
      " 'converged': '0.000000',\n",
      " 'distributed_next_loop': 1,\n",
      " 'grid_cost': '0.012713',\n",
      " 'i': 1,\n",
      " 'lamss': '-1.954579',\n",
      " 'max(B_lamss)': '-1.938797',\n",
      " 'min(B_lamss)': '-1.999353',\n",
      " 'n_complete': 0,\n",
      " 'n_deepen': 1,\n",
      " 'n_impossible': 0,\n",
      " 'n_processed': 3,\n",
      " 'n_refine': 1,\n",
      " 'runtime_cleanup': '0.392534',\n",
      " 'runtime_get_work': '0.572695',\n",
      " 'runtime_processing': '0.087955',\n",
      " 'runtime_refine_deepen': '0.098727',\n",
      " 'spread_tie': '0.003174',\n",
      " 'status': 'NEW_STEP',\n",
      " 'std_tie': '0.001068',\n",
      " 'step_id': 1,\n",
      " 'step_iter': 0,\n",
      " 'step_n_iter': 1,\n",
      " 'tie + slack': '0.025017',\n",
      " 'tie_{k}(lamss)': '0.012085',\n",
      " 'work_extraction_time': '1674179128.157245',\n",
      " 'worker_id': 2}\n",
      "DEBUG:confirm.cloud.clickhouse:get step info: (1, 1, 1)\n",
      "DEBUG:confirm.cloud.clickhouse:new step (2, 0, 1) n_tiles=3 packet_size=8\n",
      "DEBUG:confirm.cloud.clickhouse:new step df.head():                     id  step_id  step_iter\n",
      "0  4368249333674934273        2          0\n",
      "1  4368249333674934272        2          0\n",
      "2  4368249264955457536        2          0\n",
      "DEBUG:confirm.cloud.clickhouse:set step info: (2, 0, 1)\n",
      "DEBUG:confirm.cloud.clickhouse:get step info: (2, 0, 1)\n",
      "DEBUG:confirm.cloud.clickhouse:get_work(step_id=2, step_iter=0)\n",
      "DEBUG:confirm.cloud.clickhouse:get_work(...) returned 3 tiles\n",
      "DEBUG:confirm.cloud.clickhouse:set step info: (2, 1, 1)\n",
      "DEBUG:imprint.timer:unique_timer() = 1674179129, now = 1674179129.44129, last = 1674179130, self = 11219482032\n",
      "DEBUG:imprint.grid:_gen_short_uuids(n_bits=18, worker_bits=18): n=2, worker_id=2, t=1674179131\n",
      "DEBUG:imprint.grid:[4368249402394411008 4368249402394411009]\n",
      "DEBUG:imprint.timer:unique_timer() = 1674179129, now = 1674179129.4439628, last = 1674179131, self = 11219482032\n",
      "DEBUG:imprint.grid:_gen_short_uuids(n_bits=18, worker_bits=18): n=2, worker_id=2, t=1674179132\n",
      "DEBUG:imprint.grid:[4368249471113887744 4368249471113887745]\n",
      "DEBUG:confirm.cloud.clickhouse:writing 4 new tiles\n",
      "DEBUG:confirm.cloud.clickhouse:finish:    step_id  step_iter                   id  active          time  worker_id\n",
      "0        2          0  4368249333674934273   False  1.674179e+09          2\n",
      "1        2          0  4368249333674934272   False  1.674179e+09          2\n",
      "2        2          0  4368249264955457536   False  1.674179e+09          2\n",
      "DEBUG:confirm.adagrid.calibration:{'K_distribution': {8192: 2, 16384: 1, 32768: 1},\n",
      " 'bias_tie': '-0.000415',\n",
      " 'converged': False,\n",
      " 'distributed_next_loop': 1,\n",
      " 'grid_cost': '0.007336',\n",
      " 'i': 2,\n",
      " 'lamss': '-1.963464',\n",
      " 'max(B_lamss)': '-1.935918',\n",
      " 'min(B_lamss)': '-1.978195',\n",
      " 'n_complete': 0,\n",
      " 'n_deepen': 2,\n",
      " 'n_impossible': 0,\n",
      " 'n_processed': 4,\n",
      " 'n_refine': 1,\n",
      " 'runtime_cleanup': '0.413027',\n",
      " 'runtime_get_work': '0.534344',\n",
      " 'runtime_processing': '0.152088',\n",
      " 'runtime_refine_deepen': '0.109583',\n",
      " 'spread_tie': '0.003052',\n",
      " 'status': 'NEW_STEP',\n",
      " 'std_tie': '0.001077',\n",
      " 'step_id': 2,\n",
      " 'step_iter': 0,\n",
      " 'step_n_iter': 1,\n",
      " 'tie + slack': '0.024377',\n",
      " 'tie_{k}(lamss)': '0.017456',\n",
      " 'work_extraction_time': '1674179129.272287',\n",
      " 'worker_id': 2}\n",
      "DEBUG:confirm.cloud.clickhouse:get step info: (2, 1, 1)\n",
      "DEBUG:confirm.cloud.clickhouse:new step (3, 0, 1) n_tiles=4 packet_size=8\n",
      "DEBUG:confirm.cloud.clickhouse:new step df.head():                     id  step_id  step_iter\n",
      "0  4368249471113887745        3          0\n",
      "1  4368249471113887744        3          0\n",
      "2  4368249402394411008        3          0\n",
      "3  4368249402394411009        3          0\n",
      "DEBUG:confirm.cloud.clickhouse:set step info: (3, 0, 1)\n",
      "DEBUG:confirm.cloud.clickhouse:get step info: (3, 0, 1)\n",
      "DEBUG:confirm.cloud.clickhouse:get_work(step_id=3, step_iter=0)\n",
      "DEBUG:confirm.cloud.clickhouse:get_work(...) returned 4 tiles\n",
      "DEBUG:confirm.cloud.clickhouse:set step info: (3, 1, 1)\n",
      "DEBUG:imprint.timer:unique_timer() = 1674179130, now = 1674179130.681675, last = 1674179132, self = 11219482032\n",
      "DEBUG:imprint.grid:_gen_short_uuids(n_bits=18, worker_bits=18): n=3, worker_id=2, t=1674179133\n",
      "DEBUG:imprint.grid:[4368249539833364480 4368249539833364481 4368249539833364482]\n",
      "DEBUG:imprint.timer:unique_timer() = 1674179130, now = 1674179130.6838112, last = 1674179133, self = 11219482032\n",
      "DEBUG:imprint.grid:_gen_short_uuids(n_bits=18, worker_bits=18): n=2, worker_id=2, t=1674179134\n",
      "DEBUG:imprint.grid:[4368249608552841216 4368249608552841217]\n",
      "DEBUG:confirm.cloud.clickhouse:writing 5 new tiles\n",
      "DEBUG:confirm.cloud.clickhouse:finish:    step_id  step_iter                   id  active          time  worker_id\n",
      "0        3          0  4368249471113887745   False  1.674179e+09          2\n",
      "1        3          0  4368249471113887744   False  1.674179e+09          2\n",
      "2        3          0  4368249402394411008   False  1.674179e+09          2\n",
      "3        3          0  4368249402394411009   False  1.674179e+09          2\n",
      "DEBUG:confirm.adagrid.calibration:{'K_distribution': {8192: 2, 16384: 1, 32768: 1, 65536: 1},\n",
      " 'bias_tie': '-0.000366',\n",
      " 'converged': False,\n",
      " 'distributed_next_loop': 1,\n",
      " 'grid_cost': '0.003945',\n",
      " 'i': 3,\n",
      " 'lamss': '-1.959059',\n",
      " 'max(B_lamss)': '-1.918080',\n",
      " 'min(B_lamss)': '-1.986207',\n",
      " 'n_complete': 0,\n",
      " 'n_deepen': 3,\n",
      " 'n_impossible': 0,\n",
      " 'n_processed': 5,\n",
      " 'n_refine': 1,\n",
      " 'runtime_cleanup': '0.439384',\n",
      " 'runtime_get_work': '0.572143',\n",
      " 'runtime_processing': '0.240129',\n",
      " 'runtime_refine_deepen': '0.100967',\n",
      " 'spread_tie': '0.002808',\n",
      " 'status': 'NEW_STEP',\n",
      " 'std_tie': '0.001004',\n",
      " 'step_id': 3,\n",
      " 'step_iter': 0,\n",
      " 'step_n_iter': 1,\n",
      " 'tie + slack': '0.024452',\n",
      " 'tie_{k}(lamss)': '0.020874',\n",
      " 'work_extraction_time': '1674179130.523502',\n",
      " 'worker_id': 2}\n",
      "DEBUG:confirm.cloud.clickhouse:get step info: (3, 1, 1)\n",
      "DEBUG:confirm.cloud.clickhouse:new step (4, 0, 1) n_tiles=5 packet_size=8\n",
      "DEBUG:confirm.cloud.clickhouse:new step df.head():                     id  step_id  step_iter\n",
      "0  4368249608552841217        4          0\n",
      "1  4368249608552841216        4          0\n",
      "2  4368249539833364480        4          0\n",
      "3  4368249539833364481        4          0\n",
      "4  4368249539833364482        4          0\n",
      "DEBUG:confirm.cloud.clickhouse:set step info: (4, 0, 1)\n",
      "DEBUG:confirm.cloud.clickhouse:get step info: (4, 0, 1)\n",
      "DEBUG:confirm.cloud.clickhouse:get_work(step_id=4, step_iter=0)\n",
      "DEBUG:confirm.cloud.clickhouse:get_work(...) returned 5 tiles\n",
      "DEBUG:confirm.cloud.clickhouse:set step info: (4, 1, 1)\n",
      "DEBUG:imprint.timer:unique_timer() = 1674179132, now = 1674179132.176384, last = 1674179134, self = 11219482032\n",
      "DEBUG:imprint.grid:_gen_short_uuids(n_bits=18, worker_bits=18): n=4, worker_id=2, t=1674179135\n",
      "DEBUG:imprint.grid:[4368249677272317952 4368249677272317953 4368249677272317954 4368249677272317955]\n",
      "DEBUG:imprint.timer:unique_timer() = 1674179132, now = 1674179132.178454, last = 1674179135, self = 11219482032\n",
      "DEBUG:imprint.grid:_gen_short_uuids(n_bits=18, worker_bits=18): n=2, worker_id=2, t=1674179136\n",
      "DEBUG:imprint.grid:[4368249745991794688 4368249745991794689]\n",
      "DEBUG:confirm.cloud.clickhouse:writing 6 new tiles\n",
      "DEBUG:confirm.cloud.clickhouse:finish:    step_id  step_iter                   id  active          time  worker_id\n",
      "0        4          0  4368249608552841217   False  1.674179e+09          2\n",
      "1        4          0  4368249608552841216   False  1.674179e+09          2\n",
      "2        4          0  4368249539833364480   False  1.674179e+09          2\n",
      "3        4          0  4368249539833364481   False  1.674179e+09          2\n",
      "4        4          0  4368249539833364482   False  1.674179e+09          2\n",
      "DEBUG:confirm.adagrid.calibration:{'K_distribution': {8192: 2, 16384: 1, 32768: 1, 65536: 1, 131072: 1},\n",
      " 'bias_tie': '-0.000317',\n",
      " 'converged': False,\n",
      " 'distributed_next_loop': 1,\n",
      " 'grid_cost': '0.002046',\n",
      " 'i': 4,\n",
      " 'lamss': '-1.944948',\n",
      " 'max(B_lamss)': '-1.920145',\n",
      " 'min(B_lamss)': '-1.959790',\n",
      " 'n_complete': 0,\n",
      " 'n_deepen': 4,\n",
      " 'n_impossible': 0,\n",
      " 'n_processed': 6,\n",
      " 'n_refine': 1,\n",
      " 'runtime_cleanup': '0.479108',\n",
      " 'runtime_get_work': '0.702302',\n",
      " 'runtime_processing': '0.479986',\n",
      " 'runtime_refine_deepen': '0.111023',\n",
      " 'spread_tie': '0.002319',\n",
      " 'status': 'NEW_STEP',\n",
      " 'std_tie': '0.000802',\n",
      " 'step_id': 4,\n",
      " 'step_iter': 0,\n",
      " 'step_n_iter': 1,\n",
      " 'tie + slack': '0.024555',\n",
      " 'tie_{k}(lamss)': '0.022827',\n",
      " 'work_extraction_time': '1674179131.996683',\n",
      " 'worker_id': 2}\n",
      "DEBUG:confirm.cloud.clickhouse:get step info: (4, 1, 1)\n",
      "DEBUG:confirm.cloud.clickhouse:new step (5, 0, 1) n_tiles=6 packet_size=8\n",
      "DEBUG:confirm.cloud.clickhouse:new step df.head():                     id  step_id  step_iter\n",
      "0  4368249745991794689        5          0\n",
      "1  4368249677272317952        5          0\n",
      "2  4368249745991794688        5          0\n",
      "3  4368249677272317953        5          0\n",
      "4  4368249677272317954        5          0\n",
      "DEBUG:confirm.cloud.clickhouse:set step info: (5, 0, 1)\n",
      "DEBUG:confirm.cloud.clickhouse:get step info: (5, 0, 1)\n",
      "DEBUG:confirm.cloud.clickhouse:get_work(step_id=5, step_iter=0)\n",
      "DEBUG:confirm.cloud.clickhouse:get_work(...) returned 6 tiles\n",
      "DEBUG:confirm.cloud.clickhouse:set step info: (5, 1, 1)\n",
      "DEBUG:imprint.timer:unique_timer() = 1674179133, now = 1674179133.891809, last = 1674179136, self = 11219482032\n",
      "DEBUG:imprint.grid:_gen_short_uuids(n_bits=18, worker_bits=18): n=5, worker_id=2, t=1674179137\n",
      "DEBUG:imprint.grid:[4368249814711271424 4368249814711271425 4368249814711271426 4368249814711271427\n",
      " 4368249814711271428]\n",
      "DEBUG:imprint.timer:unique_timer() = 1674179133, now = 1674179133.8938491, last = 1674179137, self = 11219482032\n",
      "DEBUG:imprint.grid:_gen_short_uuids(n_bits=18, worker_bits=18): n=2, worker_id=2, t=1674179138\n",
      "DEBUG:imprint.grid:[4368249883430748160 4368249883430748161]\n",
      "DEBUG:confirm.cloud.clickhouse:writing 7 new tiles\n",
      "DEBUG:confirm.cloud.clickhouse:finish:    step_id  step_iter                   id  active          time  worker_id\n",
      "0        5          0  4368249745991794689   False  1.674179e+09          2\n",
      "1        5          0  4368249677272317952   False  1.674179e+09          2\n",
      "2        5          0  4368249745991794688   False  1.674179e+09          2\n",
      "3        5          0  4368249677272317953   False  1.674179e+09          2\n",
      "4        5          0  4368249677272317954   False  1.674179e+09          2\n",
      "DEBUG:confirm.adagrid.calibration:{'K_distribution': {16384: 2, 32768: 1, 65536: 1, 131072: 3},\n",
      " 'bias_tie': '-0.000171',\n",
      " 'converged': False,\n",
      " 'distributed_next_loop': 1,\n",
      " 'grid_cost': '0.001042',\n",
      " 'i': 5,\n",
      " 'lamss': '-1.949910',\n",
      " 'max(B_lamss)': '-1.916039',\n",
      " 'min(B_lamss)': '-1.959244',\n",
      " 'n_complete': 0,\n",
      " 'n_deepen': 5,\n",
      " 'n_impossible': 0,\n",
      " 'n_processed': 7,\n",
      " 'n_refine': 1,\n",
      " 'runtime_cleanup': '0.476021',\n",
      " 'runtime_get_work': '0.646300',\n",
      " 'runtime_processing': '0.431205',\n",
      " 'runtime_refine_deepen': '0.108787',\n",
      " 'spread_tie': '0.002441',\n",
      " 'status': 'NEW_STEP',\n",
      " 'std_tie': '0.000841',\n",
      " 'step_id': 5,\n",
      " 'step_iter': 0,\n",
      " 'step_n_iter': 1,\n",
      " 'tie + slack': '0.024675',\n",
      " 'tie_{k}(lamss)': '0.023804',\n",
      " 'work_extraction_time': '1674179133.724526',\n",
      " 'worker_id': 2}\n",
      "DEBUG:confirm.cloud.clickhouse:get step info: (5, 1, 1)\n",
      "DEBUG:confirm.cloud.clickhouse:new step (6, 0, 1) n_tiles=7 packet_size=8\n",
      "DEBUG:confirm.cloud.clickhouse:new step df.head():                     id  step_id  step_iter\n",
      "0  4368249814711271424        6          0\n",
      "1  4368249814711271426        6          0\n",
      "2  4368249814711271425        6          0\n",
      "3  4368249814711271427        6          0\n",
      "4  4368249814711271428        6          0\n",
      "DEBUG:confirm.cloud.clickhouse:set step info: (6, 0, 1)\n",
      "DEBUG:confirm.cloud.clickhouse:get step info: (6, 0, 1)\n",
      "DEBUG:confirm.cloud.clickhouse:get_work(step_id=6, step_iter=0)\n",
      "DEBUG:confirm.cloud.clickhouse:get_work(...) returned 7 tiles\n",
      "DEBUG:confirm.cloud.clickhouse:set step info: (6, 1, 1)\n",
      "DEBUG:imprint.timer:unique_timer() = 1674179135, now = 1674179135.6436028, last = 1674179138, self = 11219482032\n",
      "DEBUG:imprint.grid:_gen_short_uuids(n_bits=18, worker_bits=18): n=3, worker_id=2, t=1674179139\n",
      "DEBUG:imprint.grid:[4368249952150224896 4368249952150224897 4368249952150224898]\n",
      "DEBUG:imprint.timer:unique_timer() = 1674179135, now = 1674179135.6454852, last = 1674179139, self = 11219482032\n",
      "DEBUG:imprint.grid:_gen_short_uuids(n_bits=18, worker_bits=18): n=8, worker_id=2, t=1674179140\n",
      "DEBUG:imprint.grid:[4368250020869701632 4368250020869701633 4368250020869701634 4368250020869701635\n",
      " 4368250020869701636 4368250020869701637 4368250020869701638 4368250020869701639]\n",
      "DEBUG:confirm.cloud.clickhouse:writing 11 new tiles\n",
      "DEBUG:confirm.cloud.clickhouse:finish:    step_id  step_iter                   id  active          time  worker_id\n",
      "0        6          0  4368249814711271424   False  1.674179e+09          2\n",
      "1        6          0  4368249814711271426   False  1.674179e+09          2\n",
      "2        6          0  4368249814711271425   False  1.674179e+09          2\n",
      "3        6          0  4368249814711271427   False  1.674179e+09          2\n",
      "4        6          0  4368249814711271428   False  1.674179e+09          2\n",
      "DEBUG:confirm.adagrid.calibration:{'K_distribution': {16384: 2, 32768: 1, 65536: 1, 131072: 7},\n",
      " 'bias_tie': '0.000415',\n",
      " 'converged': '0.000000',\n",
      " 'distributed_next_loop': 1,\n",
      " 'grid_cost': '0.001042',\n",
      " 'i': 6,\n",
      " 'lamss': '-1.953752',\n",
      " 'max(B_lamss)': '-1.936119',\n",
      " 'min(B_lamss)': '-1.978360',\n",
      " 'n_complete': 0,\n",
      " 'n_deepen': 3,\n",
      " 'n_impossible': 0,\n",
      " 'n_processed': 11,\n",
      " 'n_refine': 4,\n",
      " 'runtime_cleanup': '0.424738',\n",
      " 'runtime_get_work': '0.745211',\n",
      " 'runtime_processing': '0.664723',\n",
      " 'runtime_refine_deepen': '0.098097',\n",
      " 'spread_tie': '0.002441',\n",
      " 'status': 'NEW_STEP',\n",
      " 'std_tie': '0.000820',\n",
      " 'step_id': 6,\n",
      " 'step_iter': 0,\n",
      " 'step_n_iter': 1,\n",
      " 'tie + slack': '0.025322',\n",
      " 'tie_{k}(lamss)': '0.023865',\n",
      " 'work_extraction_time': '1674179135.481830',\n",
      " 'worker_id': 2}\n",
      "DEBUG:confirm.cloud.clickhouse:get step info: (6, 1, 1)\n",
      "DEBUG:confirm.cloud.clickhouse:new step (7, 0, 2) n_tiles=11 packet_size=8\n",
      "DEBUG:confirm.cloud.clickhouse:new step df.head():                     id  step_id  step_iter\n",
      "0  4368250020869701633        7          0\n",
      "1  4368250020869701632        7          1\n",
      "2  4368249952150224896        7          1\n",
      "3  4368249952150224897        7          1\n",
      "4  4368249952150224898        7          0\n",
      "DEBUG:confirm.cloud.clickhouse:set step info: (7, 0, 2)\n",
      "DEBUG:confirm.cloud.clickhouse:get step info: (7, 0, 2)\n",
      "DEBUG:confirm.cloud.clickhouse:get_work(step_id=7, step_iter=0)\n",
      "DEBUG:confirm.cloud.clickhouse:get_work(...) returned 6 tiles\n",
      "DEBUG:confirm.cloud.clickhouse:set step info: (7, 1, 2)\n",
      "DEBUG:imprint.timer:unique_timer() = 1674179137, now = 1674179137.5647218, last = 1674179140, self = 11219482032\n",
      "DEBUG:imprint.grid:_gen_short_uuids(n_bits=18, worker_bits=18): n=0, worker_id=2, t=1674179141\n",
      "DEBUG:imprint.grid:[]\n",
      "DEBUG:imprint.timer:unique_timer() = 1674179137, now = 1674179137.566575, last = 1674179141, self = 11219482032\n",
      "DEBUG:imprint.grid:_gen_short_uuids(n_bits=18, worker_bits=18): n=12, worker_id=2, t=1674179142\n",
      "DEBUG:imprint.grid:[4368250158308655104 4368250158308655105 4368250158308655106 4368250158308655107\n",
      " 4368250158308655108 4368250158308655109 4368250158308655110 4368250158308655111\n",
      " 4368250158308655112 4368250158308655113 4368250158308655114 4368250158308655115]\n",
      "DEBUG:confirm.cloud.clickhouse:writing 12 new tiles\n",
      "DEBUG:confirm.cloud.clickhouse:finish:    step_id  step_iter                   id  active          time  worker_id\n",
      "0        7          0  4368250020869701633   False  1.674179e+09          2\n",
      "1        7          0  4368249952150224898   False  1.674179e+09          2\n",
      "2        7          0  4368250020869701634   False  1.674179e+09          2\n",
      "3        7          0  4368250020869701637   False  1.674179e+09          2\n",
      "4        7          0  4368250020869701636   False  1.674179e+09          2\n",
      "DEBUG:confirm.adagrid.calibration:{'K_distribution': {16384: 2, 131072: 10},\n",
      " 'bias_tie': '0.000366',\n",
      " 'converged': '0.000000',\n",
      " 'distributed_next_loop': 1,\n",
      " 'grid_cost': '0.000526',\n",
      " 'i': 7,\n",
      " 'lamss': '-1.953787',\n",
      " 'max(B_lamss)': '-1.929968',\n",
      " 'min(B_lamss)': '-1.978311',\n",
      " 'n_complete': 0,\n",
      " 'n_deepen': 0,\n",
      " 'n_impossible': 0,\n",
      " 'n_processed': 12,\n",
      " 'n_refine': 6,\n",
      " 'runtime_cleanup': '0.534423',\n",
      " 'runtime_get_work': '0.730758',\n",
      " 'runtime_processing': '0.796530',\n",
      " 'runtime_refine_deepen': '0.099870',\n",
      " 'spread_tie': '0.002747',\n",
      " 'status': 'NEW_STEP',\n",
      " 'std_tie': '0.000960',\n",
      " 'step_id': 7,\n",
      " 'step_iter': 0,\n",
      " 'step_n_iter': 2,\n",
      " 'tie + slack': '0.025306',\n",
      " 'tie_{k}(lamss)': '0.024414',\n",
      " 'work_extraction_time': '1674179137.405268',\n",
      " 'worker_id': 2}\n",
      "DEBUG:confirm.cloud.clickhouse:get step info: (7, 1, 2)\n",
      "DEBUG:confirm.cloud.clickhouse:get_work(step_id=7, step_iter=1)\n",
      "DEBUG:confirm.cloud.clickhouse:get_work(...) returned 5 tiles\n",
      "DEBUG:confirm.cloud.clickhouse:set step info: (7, 2, 2)\n",
      "DEBUG:imprint.timer:unique_timer() = 1674179139, now = 1674179139.158891, last = 1674179142, self = 11219482032\n",
      "DEBUG:imprint.grid:_gen_short_uuids(n_bits=18, worker_bits=18): n=3, worker_id=2, t=1674179143\n",
      "DEBUG:imprint.grid:[4368250227028131840 4368250227028131841 4368250227028131842]\n",
      "DEBUG:imprint.timer:unique_timer() = 1674179139, now = 1674179139.160761, last = 1674179143, self = 11219482032\n",
      "DEBUG:imprint.grid:_gen_short_uuids(n_bits=18, worker_bits=18): n=4, worker_id=2, t=1674179144\n",
      "DEBUG:imprint.grid:[4368250295747608576 4368250295747608577 4368250295747608578 4368250295747608579]\n",
      "DEBUG:confirm.cloud.clickhouse:writing 7 new tiles\n",
      "DEBUG:confirm.cloud.clickhouse:finish:    step_id  step_iter                   id  active          time  worker_id\n",
      "0        7          1  4368250020869701632   False  1.674179e+09          2\n",
      "1        7          1  4368249952150224896   False  1.674179e+09          2\n",
      "2        7          1  4368249952150224897   False  1.674179e+09          2\n",
      "3        7          1  4368250020869701635   False  1.674179e+09          2\n",
      "4        7          1  4368250020869701638   False  1.674179e+09          2\n",
      "DEBUG:confirm.adagrid.calibration:{'K_distribution': {32768: 1, 65536: 1, 131072: 5},\n",
      " 'distributed_next_loop': 0,\n",
      " 'i': 8,\n",
      " 'n_complete': 0,\n",
      " 'n_deepen': 3,\n",
      " 'n_impossible': 0,\n",
      " 'n_processed': 7,\n",
      " 'n_refine': 2,\n",
      " 'runtime_cleanup': '0.399444',\n",
      " 'runtime_get_work': '0.153159',\n",
      " 'runtime_processing': '0.678400',\n",
      " 'runtime_refine_deepen': '0.108569',\n",
      " 'status': 'WORKING',\n",
      " 'step_id': 7,\n",
      " 'step_iter': 1,\n",
      " 'step_n_iter': 2,\n",
      " 'work_extraction_time': '1674179138.991756',\n",
      " 'worker_id': 2}\n",
      "DEBUG:confirm.cloud.clickhouse:get step info: (7, 2, 2)\n",
      "DEBUG:confirm.cloud.clickhouse:new step (8, 0, 3) n_tiles=19 packet_size=8\n",
      "DEBUG:confirm.cloud.clickhouse:new step df.head():                     id  step_id  step_iter\n",
      "0  4368250158308655105        8          2\n",
      "1  4368250158308655104        8          2\n",
      "2  4368250227028131840        8          0\n",
      "3  4368250227028131841        8          1\n",
      "4  4368250227028131842        8          1\n",
      "DEBUG:confirm.cloud.clickhouse:set step info: (8, 0, 3)\n",
      "DEBUG:confirm.cloud.clickhouse:get step info: (8, 0, 3)\n",
      "DEBUG:confirm.cloud.clickhouse:get_work(step_id=8, step_iter=0)\n",
      "DEBUG:confirm.cloud.clickhouse:get_work(...) returned 7 tiles\n",
      "DEBUG:confirm.cloud.clickhouse:set step info: (8, 1, 3)\n",
      "DEBUG:imprint.timer:unique_timer() = 1674179140, now = 1674179140.917086, last = 1674179144, self = 11219482032\n",
      "DEBUG:imprint.grid:_gen_short_uuids(n_bits=18, worker_bits=18): n=1, worker_id=2, t=1674179145\n",
      "DEBUG:imprint.grid:[4368250364467085312]\n",
      "DEBUG:imprint.timer:unique_timer() = 1674179140, now = 1674179140.919435, last = 1674179145, self = 11219482032\n",
      "DEBUG:imprint.grid:_gen_short_uuids(n_bits=18, worker_bits=18): n=12, worker_id=2, t=1674179146\n",
      "DEBUG:imprint.grid:[4368250433186562048 4368250433186562049 4368250433186562050 4368250433186562051\n",
      " 4368250433186562052 4368250433186562053 4368250433186562054 4368250433186562055\n",
      " 4368250433186562056 4368250433186562057 4368250433186562058 4368250433186562059]\n",
      "DEBUG:confirm.cloud.clickhouse:writing 13 new tiles\n",
      "DEBUG:confirm.cloud.clickhouse:finish:    step_id  step_iter                   id  active          time  worker_id\n",
      "0        8          0  4368250227028131840   False  1.674179e+09          2\n",
      "1        8          0  4368250158308655107   False  1.674179e+09          2\n",
      "2        8          0  4368250295747608576   False  1.674179e+09          2\n",
      "3        8          0  4368250158308655110   False  1.674179e+09          2\n",
      "4        8          0  4368250158308655113   False  1.674179e+09          2\n",
      "DEBUG:confirm.adagrid.calibration:{'K_distribution': {65536: 1, 131072: 12},\n",
      " 'bias_tie': '0.000598',\n",
      " 'converged': '0.000000',\n",
      " 'distributed_next_loop': 1,\n",
      " 'grid_cost': '0.000264',\n",
      " 'i': 9,\n",
      " 'lamss': '-1.951419',\n",
      " 'max(B_lamss)': '-1.944253',\n",
      " 'min(B_lamss)': '-1.978410',\n",
      " 'n_complete': 0,\n",
      " 'n_deepen': 1,\n",
      " 'n_impossible': 0,\n",
      " 'n_processed': 13,\n",
      " 'n_refine': 6,\n",
      " 'runtime_cleanup': '0.478843',\n",
      " 'runtime_get_work': '0.574452',\n",
      " 'runtime_processing': '0.868731',\n",
      " 'runtime_refine_deepen': '0.105219',\n",
      " 'spread_tie': '0.002075',\n",
      " 'status': 'NEW_STEP',\n",
      " 'std_tie': '0.000722',\n",
      " 'step_id': 8,\n",
      " 'step_iter': 0,\n",
      " 'step_n_iter': 3,\n",
      " 'tie + slack': '0.025520',\n",
      " 'tie_{k}(lamss)': '0.024658',\n",
      " 'work_extraction_time': '1674179140.753736',\n",
      " 'worker_id': 2}\n",
      "DEBUG:confirm.cloud.clickhouse:get step info: (8, 1, 3)\n",
      "DEBUG:confirm.cloud.clickhouse:get_work(step_id=8, step_iter=1)\n",
      "DEBUG:confirm.cloud.clickhouse:get_work(...) returned 6 tiles\n",
      "DEBUG:confirm.cloud.clickhouse:set step info: (8, 2, 3)\n",
      "DEBUG:imprint.timer:unique_timer() = 1674179142, now = 1674179142.52878, last = 1674179146, self = 11219482032\n",
      "DEBUG:imprint.grid:_gen_short_uuids(n_bits=18, worker_bits=18): n=1, worker_id=2, t=1674179147\n",
      "DEBUG:imprint.grid:[4368250501906038784]\n",
      "DEBUG:imprint.timer:unique_timer() = 1674179142, now = 1674179142.531026, last = 1674179147, self = 11219482032\n",
      "DEBUG:imprint.grid:_gen_short_uuids(n_bits=18, worker_bits=18): n=10, worker_id=2, t=1674179148\n",
      "DEBUG:imprint.grid:[4368250570625515520 4368250570625515521 4368250570625515522 4368250570625515523\n",
      " 4368250570625515524 4368250570625515525 4368250570625515526 4368250570625515527\n",
      " 4368250570625515528 4368250570625515529]\n",
      "DEBUG:confirm.cloud.clickhouse:writing 11 new tiles\n",
      "DEBUG:confirm.cloud.clickhouse:finish:    step_id  step_iter                   id  active          time  worker_id\n",
      "0        8          1  4368250227028131841   False  1.674179e+09          2\n",
      "1        8          1  4368250227028131842   False  1.674179e+09          2\n",
      "2        8          1  4368250295747608577   False  1.674179e+09          2\n",
      "3        8          1  4368250158308655109   False  1.674179e+09          2\n",
      "4        8          1  4368250158308655115   False  1.674179e+09          2\n",
      "DEBUG:confirm.adagrid.calibration:{'K_distribution': {131072: 11},\n",
      " 'distributed_next_loop': 0,\n",
      " 'i': 10,\n",
      " 'n_complete': 0,\n",
      " 'n_deepen': 1,\n",
      " 'n_impossible': 0,\n",
      " 'n_processed': 11,\n",
      " 'n_refine': 5,\n",
      " 'runtime_cleanup': '0.473829',\n",
      " 'runtime_get_work': '0.149885',\n",
      " 'runtime_processing': '0.765851',\n",
      " 'runtime_refine_deepen': '0.113497',\n",
      " 'status': 'WORKING',\n",
      " 'step_id': 8,\n",
      " 'step_iter': 1,\n",
      " 'step_n_iter': 3,\n",
      " 'work_extraction_time': '1674179142.364659',\n",
      " 'worker_id': 2}\n",
      "DEBUG:confirm.cloud.clickhouse:get step info: (8, 2, 3)\n",
      "DEBUG:confirm.cloud.clickhouse:get_work(step_id=8, step_iter=2)\n",
      "DEBUG:confirm.cloud.clickhouse:get_work(...) returned 6 tiles\n",
      "DEBUG:confirm.cloud.clickhouse:set step info: (8, 3, 3)\n",
      "DEBUG:imprint.timer:unique_timer() = 1674179144, now = 1674179144.0769558, last = 1674179148, self = 11219482032\n",
      "DEBUG:imprint.grid:_gen_short_uuids(n_bits=18, worker_bits=18): n=1, worker_id=2, t=1674179149\n",
      "DEBUG:imprint.grid:[4368250639344992256]\n",
      "DEBUG:imprint.timer:unique_timer() = 1674179144, now = 1674179144.07882, last = 1674179149, self = 11219482032\n",
      "DEBUG:imprint.grid:_gen_short_uuids(n_bits=18, worker_bits=18): n=10, worker_id=2, t=1674179150\n",
      "DEBUG:imprint.grid:[4368250708064468992 4368250708064468993 4368250708064468994 4368250708064468995\n",
      " 4368250708064468996 4368250708064468997 4368250708064468998 4368250708064468999\n",
      " 4368250708064469000 4368250708064469001]\n",
      "DEBUG:confirm.cloud.clickhouse:writing 11 new tiles\n",
      "DEBUG:confirm.cloud.clickhouse:finish:    step_id  step_iter                   id  active          time  worker_id\n",
      "0        8          2  4368250158308655105   False  1.674179e+09          2\n",
      "1        8          2  4368250158308655104   False  1.674179e+09          2\n",
      "2        8          2  4368250158308655106   False  1.674179e+09          2\n",
      "3        8          2  4368250158308655108   False  1.674179e+09          2\n",
      "4        8          2  4368250158308655111   False  1.674179e+09          2\n",
      "DEBUG:confirm.adagrid.calibration:{'K_distribution': {16384: 2, 32768: 1, 131072: 8},\n",
      " 'distributed_next_loop': 0,\n",
      " 'i': 11,\n",
      " 'n_complete': 0,\n",
      " 'n_deepen': 1,\n",
      " 'n_impossible': 0,\n",
      " 'n_processed': 11,\n",
      " 'n_refine': 5,\n",
      " 'runtime_cleanup': '0.466779',\n",
      " 'runtime_get_work': '0.202116',\n",
      " 'runtime_processing': '0.609438',\n",
      " 'runtime_refine_deepen': '0.103484',\n",
      " 'status': 'WORKING',\n",
      " 'step_id': 8,\n",
      " 'step_iter': 2,\n",
      " 'step_n_iter': 3,\n",
      " 'work_extraction_time': '1674179143.913409',\n",
      " 'worker_id': 2}\n",
      "DEBUG:confirm.cloud.clickhouse:get step info: (8, 3, 3)\n",
      "DEBUG:confirm.cloud.clickhouse:new step (9, 0, 4) n_tiles=32 packet_size=8\n",
      "DEBUG:confirm.cloud.clickhouse:new step df.head():                     id  step_id  step_iter\n",
      "0  4368250708064468993        9          3\n",
      "1  4368250708064468992        9          2\n",
      "2  4368250639344992256        9          0\n",
      "3  4368250501906038784        9          3\n",
      "4  4368250364467085312        9          0\n",
      "DEBUG:confirm.cloud.clickhouse:set step info: (9, 0, 4)\n",
      "DEBUG:confirm.cloud.clickhouse:get step info: (9, 0, 4)\n",
      "DEBUG:confirm.cloud.clickhouse:get_work(step_id=9, step_iter=0)\n",
      "DEBUG:confirm.cloud.clickhouse:get_work(...) returned 8 tiles\n",
      "DEBUG:confirm.cloud.clickhouse:set step info: (9, 1, 4)\n",
      "DEBUG:imprint.timer:unique_timer() = 1674179145, now = 1674179145.890356, last = 1674179150, self = 11219482032\n",
      "DEBUG:imprint.grid:_gen_short_uuids(n_bits=18, worker_bits=18): n=2, worker_id=2, t=1674179151\n",
      "DEBUG:imprint.grid:[4368250776783945728 4368250776783945729]\n",
      "DEBUG:imprint.timer:unique_timer() = 1674179145, now = 1674179145.892477, last = 1674179151, self = 11219482032\n",
      "DEBUG:imprint.grid:_gen_short_uuids(n_bits=18, worker_bits=18): n=12, worker_id=2, t=1674179152\n",
      "DEBUG:imprint.grid:[4368250845503422464 4368250845503422465 4368250845503422466 4368250845503422467\n",
      " 4368250845503422468 4368250845503422469 4368250845503422470 4368250845503422471\n",
      " 4368250845503422472 4368250845503422473 4368250845503422474 4368250845503422475]\n",
      "DEBUG:confirm.cloud.clickhouse:writing 14 new tiles\n",
      "DEBUG:confirm.cloud.clickhouse:finish:    step_id  step_iter                   id  active          time  worker_id\n",
      "0        9          0  4368250639344992256   False  1.674179e+09          2\n",
      "1        9          0  4368250364467085312   False  1.674179e+09          2\n",
      "2        9          0  4368250570625515520   False  1.674179e+09          2\n",
      "3        9          0  4368250708064468994   False  1.674179e+09          2\n",
      "4        9          0  4368250570625515522   False  1.674179e+09          2\n",
      "DEBUG:confirm.adagrid.calibration:{'K_distribution': {65536: 1, 131072: 13},\n",
      " 'bias_tie': '0.000830',\n",
      " 'converged': '0.000000',\n",
      " 'distributed_next_loop': 1,\n",
      " 'grid_cost': '0.000264',\n",
      " 'i': 12,\n",
      " 'lamss': '-1.950712',\n",
      " 'max(B_lamss)': '-1.952282',\n",
      " 'min(B_lamss)': '-1.980174',\n",
      " 'n_complete': 0,\n",
      " 'n_deepen': 2,\n",
      " 'n_impossible': 0,\n",
      " 'n_processed': 14,\n",
      " 'n_refine': 6,\n",
      " 'runtime_cleanup': '0.371600',\n",
      " 'runtime_get_work': '0.621772',\n",
      " 'runtime_processing': '1.091729',\n",
      " 'runtime_refine_deepen': '0.114423',\n",
      " 'spread_tie': '0.001801',\n",
      " 'status': 'NEW_STEP',\n",
      " 'std_tie': '0.000670',\n",
      " 'step_id': 9,\n",
      " 'step_iter': 0,\n",
      " 'step_n_iter': 4,\n",
      " 'tie + slack': '0.025783',\n",
      " 'tie_{k}(lamss)': '0.024689',\n",
      " 'work_extraction_time': '1674179145.720022',\n",
      " 'worker_id': 2}\n",
      "DEBUG:confirm.cloud.clickhouse:get step info: (9, 1, 4)\n",
      "DEBUG:confirm.cloud.clickhouse:get_work(step_id=9, step_iter=1)\n",
      "DEBUG:confirm.cloud.clickhouse:get_work(...) returned 8 tiles\n",
      "DEBUG:confirm.cloud.clickhouse:set step info: (9, 2, 4)\n",
      "DEBUG:imprint.timer:unique_timer() = 1674179147, now = 1674179147.6234748, last = 1674179152, self = 11219482032\n",
      "DEBUG:imprint.grid:_gen_short_uuids(n_bits=18, worker_bits=18): n=0, worker_id=2, t=1674179153\n",
      "DEBUG:imprint.grid:[]\n",
      "DEBUG:imprint.timer:unique_timer() = 1674179147, now = 1674179147.625532, last = 1674179153, self = 11219482032\n",
      "DEBUG:imprint.grid:_gen_short_uuids(n_bits=18, worker_bits=18): n=16, worker_id=2, t=1674179154\n",
      "DEBUG:imprint.grid:[4368250982942375936 4368250982942375937 4368250982942375938 4368250982942375939\n",
      " 4368250982942375940 4368250982942375941 4368250982942375942 4368250982942375943\n",
      " 4368250982942375944 4368250982942375945 4368250982942375946 4368250982942375947\n",
      " 4368250982942375948 4368250982942375949 4368250982942375950 4368250982942375951]\n",
      "DEBUG:confirm.cloud.clickhouse:writing 16 new tiles\n",
      "DEBUG:confirm.cloud.clickhouse:finish:    step_id  step_iter                   id  active          time  worker_id\n",
      "0        9          1  4368250433186562048   False  1.674179e+09          2\n",
      "1        9          1  4368250570625515523   False  1.674179e+09          2\n",
      "2        9          1  4368250570625515525   False  1.674179e+09          2\n",
      "3        9          1  4368250570625515524   False  1.674179e+09          2\n",
      "4        9          1  4368250708064468998   False  1.674179e+09          2\n",
      "DEBUG:confirm.adagrid.calibration:{'K_distribution': {131072: 16},\n",
      " 'distributed_next_loop': 0,\n",
      " 'i': 13,\n",
      " 'n_complete': 0,\n",
      " 'n_deepen': 0,\n",
      " 'n_impossible': 0,\n",
      " 'n_processed': 16,\n",
      " 'n_refine': 8,\n",
      " 'runtime_cleanup': '0.422502',\n",
      " 'runtime_get_work': '0.153900',\n",
      " 'runtime_processing': '0.985449',\n",
      " 'runtime_refine_deepen': '0.115244',\n",
      " 'status': 'WORKING',\n",
      " 'step_id': 9,\n",
      " 'step_iter': 1,\n",
      " 'step_n_iter': 4,\n",
      " 'work_extraction_time': '1674179147.450933',\n",
      " 'worker_id': 2}\n",
      "DEBUG:confirm.cloud.clickhouse:get step info: (9, 2, 4)\n",
      "DEBUG:confirm.cloud.clickhouse:get_work(step_id=9, step_iter=2)\n",
      "DEBUG:confirm.cloud.clickhouse:get_work(...) returned 8 tiles\n",
      "DEBUG:confirm.cloud.clickhouse:set step info: (9, 3, 4)\n",
      "DEBUG:imprint.timer:unique_timer() = 1674179149, now = 1674179149.308425, last = 1674179154, self = 11219482032\n",
      "DEBUG:imprint.grid:_gen_short_uuids(n_bits=18, worker_bits=18): n=1, worker_id=2, t=1674179155\n",
      "DEBUG:imprint.grid:[4368251051661852672]\n",
      "DEBUG:imprint.timer:unique_timer() = 1674179149, now = 1674179149.310405, last = 1674179155, self = 11219482032\n",
      "DEBUG:imprint.grid:_gen_short_uuids(n_bits=18, worker_bits=18): n=14, worker_id=2, t=1674179156\n",
      "DEBUG:imprint.grid:[4368251120381329408 4368251120381329409 4368251120381329410 4368251120381329411\n",
      " 4368251120381329412 4368251120381329413 4368251120381329414 4368251120381329415\n",
      " 4368251120381329416 4368251120381329417 4368251120381329418 4368251120381329419\n",
      " 4368251120381329420 4368251120381329421]\n",
      "DEBUG:confirm.cloud.clickhouse:writing 15 new tiles\n",
      "DEBUG:confirm.cloud.clickhouse:finish:    step_id  step_iter                   id  active          time  worker_id\n",
      "0        9          2  4368250708064468992   False  1.674179e+09          2\n",
      "1        9          2  4368250570625515521   False  1.674179e+09          2\n",
      "2        9          2  4368250708064468997   False  1.674179e+09          2\n",
      "3        9          2  4368250708064468996   False  1.674179e+09          2\n",
      "4        9          2  4368250708064468999   False  1.674179e+09          2\n",
      "DEBUG:confirm.adagrid.calibration:{'K_distribution': {32768: 1, 131072: 14},\n",
      " 'distributed_next_loop': 0,\n",
      " 'i': 14,\n",
      " 'n_complete': 0,\n",
      " 'n_deepen': 1,\n",
      " 'n_impossible': 0,\n",
      " 'n_processed': 15,\n",
      " 'n_refine': 7,\n",
      " 'runtime_cleanup': '0.382960',\n",
      " 'runtime_get_work': '0.163770',\n",
      " 'runtime_processing': '1.045578',\n",
      " 'runtime_refine_deepen': '0.111555',\n",
      " 'status': 'WORKING',\n",
      " 'step_id': 9,\n",
      " 'step_iter': 2,\n",
      " 'step_n_iter': 4,\n",
      " 'work_extraction_time': '1674179149.124896',\n",
      " 'worker_id': 2}\n",
      "DEBUG:confirm.cloud.clickhouse:get step info: (9, 3, 4)\n",
      "DEBUG:confirm.cloud.clickhouse:get_work(step_id=9, step_iter=3)\n",
      "DEBUG:confirm.cloud.clickhouse:get_work(...) returned 8 tiles\n",
      "DEBUG:confirm.cloud.clickhouse:set step info: (9, 4, 4)\n",
      "DEBUG:imprint.timer:unique_timer() = 1674179150, now = 1674179150.9922938, last = 1674179156, self = 11219482032\n",
      "DEBUG:imprint.grid:_gen_short_uuids(n_bits=18, worker_bits=18): n=1, worker_id=2, t=1674179157\n",
      "DEBUG:imprint.grid:[4368251189100806144]\n",
      "DEBUG:imprint.timer:unique_timer() = 1674179150, now = 1674179150.994499, last = 1674179157, self = 11219482032\n",
      "DEBUG:imprint.grid:_gen_short_uuids(n_bits=18, worker_bits=18): n=14, worker_id=2, t=1674179158\n",
      "DEBUG:imprint.grid:[4368251257820282880 4368251257820282881 4368251257820282882 4368251257820282883\n",
      " 4368251257820282884 4368251257820282885 4368251257820282886 4368251257820282887\n",
      " 4368251257820282888 4368251257820282889 4368251257820282890 4368251257820282891\n",
      " 4368251257820282892 4368251257820282893]\n",
      "DEBUG:confirm.cloud.clickhouse:writing 15 new tiles\n",
      "DEBUG:confirm.cloud.clickhouse:finish:    step_id  step_iter                   id  active          time  worker_id\n",
      "0        9          3  4368250708064468993   False  1.674179e+09          2\n",
      "1        9          3  4368250501906038784   False  1.674179e+09          2\n",
      "2        9          3  4368250433186562049   False  1.674179e+09          2\n",
      "3        9          3  4368250708064468995   False  1.674179e+09          2\n",
      "4        9          3  4368250433186562051   False  1.674179e+09          2\n",
      "DEBUG:confirm.adagrid.calibration:{'K_distribution': {32768: 1, 131072: 14},\n",
      " 'distributed_next_loop': 0,\n",
      " 'i': 15,\n",
      " 'n_complete': 0,\n",
      " 'n_deepen': 1,\n",
      " 'n_impossible': 0,\n",
      " 'n_processed': 15,\n",
      " 'n_refine': 7,\n",
      " 'runtime_cleanup': '0.459797',\n",
      " 'runtime_get_work': '0.145783',\n",
      " 'runtime_processing': '0.995656',\n",
      " 'runtime_refine_deepen': '0.108480',\n",
      " 'status': 'WORKING',\n",
      " 'step_id': 9,\n",
      " 'step_iter': 3,\n",
      " 'step_n_iter': 4,\n",
      " 'work_extraction_time': '1674179150.828549',\n",
      " 'worker_id': 2}\n",
      "DEBUG:confirm.cloud.clickhouse:get step info: (9, 4, 4)\n",
      "DEBUG:confirm.cloud.clickhouse:new step (10, 0, 4) n_tiles=32 packet_size=8\n",
      "DEBUG:confirm.cloud.clickhouse:new step df.head():                     id  step_id  step_iter\n",
      "0  4368251189100806144       10          1\n",
      "1  4368251051661852672       10          2\n",
      "2  4368250776783945729       10          3\n",
      "3  4368250776783945728       10          2\n",
      "4  4368251257820282881       10          3\n",
      "DEBUG:confirm.cloud.clickhouse:set step info: (10, 0, 4)\n",
      "DEBUG:confirm.cloud.clickhouse:get step info: (10, 0, 4)\n",
      "DEBUG:confirm.cloud.clickhouse:get_work(step_id=10, step_iter=0)\n",
      "DEBUG:confirm.cloud.clickhouse:get_work(...) returned 8 tiles\n",
      "DEBUG:confirm.cloud.clickhouse:set step info: (10, 1, 4)\n",
      "DEBUG:imprint.timer:unique_timer() = 1674179153, now = 1674179153.180553, last = 1674179158, self = 11219482032\n",
      "DEBUG:imprint.grid:_gen_short_uuids(n_bits=18, worker_bits=18): n=0, worker_id=2, t=1674179159\n",
      "DEBUG:imprint.grid:[]\n",
      "DEBUG:imprint.timer:unique_timer() = 1674179153, now = 1674179153.182475, last = 1674179159, self = 11219482032\n",
      "DEBUG:imprint.grid:_gen_short_uuids(n_bits=18, worker_bits=18): n=16, worker_id=2, t=1674179160\n",
      "DEBUG:imprint.grid:[4368251395259236352 4368251395259236353 4368251395259236354 4368251395259236355\n",
      " 4368251395259236356 4368251395259236357 4368251395259236358 4368251395259236359\n",
      " 4368251395259236360 4368251395259236361 4368251395259236362 4368251395259236363\n",
      " 4368251395259236364 4368251395259236365 4368251395259236366 4368251395259236367]\n",
      "DEBUG:confirm.cloud.clickhouse:writing 16 new tiles\n",
      "DEBUG:confirm.cloud.clickhouse:finish:    step_id  step_iter                   id  active          time  worker_id\n",
      "0       10          0  4368251120381329408   False  1.674179e+09          2\n",
      "1       10          0  4368250845503422465   False  1.674179e+09          2\n",
      "2       10          0  4368251257820282884   False  1.674179e+09          2\n",
      "3       10          0  4368250982942375938   False  1.674179e+09          2\n",
      "4       10          0  4368250845503422468   False  1.674179e+09          2\n",
      "DEBUG:confirm.adagrid.calibration:{'K_distribution': {131072: 16},\n",
      " 'bias_tie': '0.000354',\n",
      " 'converged': '0.000000',\n",
      " 'distributed_next_loop': 1,\n",
      " 'grid_cost': '0.000132',\n",
      " 'i': 16,\n",
      " 'lamss': '-1.958257',\n",
      " 'max(B_lamss)': '-1.955517',\n",
      " 'min(B_lamss)': '-1.970207',\n",
      " 'n_complete': 0,\n",
      " 'n_deepen': 0,\n",
      " 'n_impossible': 0,\n",
      " 'n_processed': 16,\n",
      " 'n_refine': 8,\n",
      " 'runtime_cleanup': '0.526710',\n",
      " 'runtime_get_work': '0.624155',\n",
      " 'runtime_processing': '0.936528',\n",
      " 'runtime_refine_deepen': '0.106855',\n",
      " 'spread_tie': '0.000671',\n",
      " 'status': 'NEW_STEP',\n",
      " 'std_tie': '0.000258',\n",
      " 'step_id': 10,\n",
      " 'step_iter': 0,\n",
      " 'step_n_iter': 4,\n",
      " 'tie + slack': '0.025297',\n",
      " 'tie_{k}(lamss)': '0.024811',\n",
      " 'work_extraction_time': '1674179153.010478',\n",
      " 'worker_id': 2}\n",
      "DEBUG:confirm.cloud.clickhouse:get step info: (10, 1, 4)\n",
      "DEBUG:confirm.cloud.clickhouse:get_work(step_id=10, step_iter=1)\n",
      "DEBUG:confirm.cloud.clickhouse:get_work(...) returned 8 tiles\n",
      "DEBUG:confirm.cloud.clickhouse:set step info: (10, 2, 4)\n",
      "DEBUG:imprint.timer:unique_timer() = 1674179155, now = 1674179155.0652642, last = 1674179160, self = 11219482032\n",
      "DEBUG:imprint.grid:_gen_short_uuids(n_bits=18, worker_bits=18): n=1, worker_id=2, t=1674179161\n",
      "DEBUG:imprint.grid:[4368251463978713088]\n",
      "DEBUG:imprint.timer:unique_timer() = 1674179155, now = 1674179155.067301, last = 1674179161, self = 11219482032\n",
      "DEBUG:imprint.grid:_gen_short_uuids(n_bits=18, worker_bits=18): n=14, worker_id=2, t=1674179162\n",
      "DEBUG:imprint.grid:[4368251532698189824 4368251532698189825 4368251532698189826 4368251532698189827\n",
      " 4368251532698189828 4368251532698189829 4368251532698189830 4368251532698189831\n",
      " 4368251532698189832 4368251532698189833 4368251532698189834 4368251532698189835\n",
      " 4368251532698189836 4368251532698189837]\n",
      "DEBUG:confirm.cloud.clickhouse:writing 15 new tiles\n",
      "DEBUG:confirm.cloud.clickhouse:finish:    step_id  step_iter                   id  active          time  worker_id\n",
      "0       10          1  4368251189100806144   False  1.674179e+09          2\n",
      "1       10          1  4368251257820282880   False  1.674179e+09          2\n",
      "2       10          1  4368251120381329409   False  1.674179e+09          2\n",
      "3       10          1  4368250982942375937   False  1.674179e+09          2\n",
      "4       10          1  4368250845503422467   False  1.674179e+09          2\n",
      "DEBUG:confirm.adagrid.calibration:{'K_distribution': {65536: 1, 131072: 14},\n",
      " 'distributed_next_loop': 0,\n",
      " 'i': 17,\n",
      " 'n_complete': 0,\n",
      " 'n_deepen': 1,\n",
      " 'n_impossible': 0,\n",
      " 'n_processed': 15,\n",
      " 'n_refine': 7,\n",
      " 'runtime_cleanup': '0.335603',\n",
      " 'runtime_get_work': '0.269784',\n",
      " 'runtime_processing': '1.021796',\n",
      " 'runtime_refine_deepen': '0.150356',\n",
      " 'status': 'WORKING',\n",
      " 'step_id': 10,\n",
      " 'step_iter': 1,\n",
      " 'step_n_iter': 4,\n",
      " 'work_extraction_time': '1674179154.844841',\n",
      " 'worker_id': 2}\n",
      "DEBUG:confirm.cloud.clickhouse:get step info: (10, 2, 4)\n",
      "DEBUG:confirm.cloud.clickhouse:get_work(step_id=10, step_iter=2)\n",
      "DEBUG:confirm.cloud.clickhouse:get_work(...) returned 8 tiles\n",
      "DEBUG:confirm.cloud.clickhouse:set step info: (10, 3, 4)\n",
      "DEBUG:imprint.timer:unique_timer() = 1674179156, now = 1674179156.6927218, last = 1674179162, self = 11219482032\n",
      "DEBUG:imprint.grid:_gen_short_uuids(n_bits=18, worker_bits=18): n=2, worker_id=2, t=1674179163\n",
      "DEBUG:imprint.grid:[4368251601417666560 4368251601417666561]\n",
      "DEBUG:imprint.timer:unique_timer() = 1674179156, now = 1674179156.694718, last = 1674179163, self = 11219482032\n",
      "DEBUG:imprint.grid:_gen_short_uuids(n_bits=18, worker_bits=18): n=12, worker_id=2, t=1674179164\n",
      "DEBUG:imprint.grid:[4368251670137143296 4368251670137143297 4368251670137143298 4368251670137143299\n",
      " 4368251670137143300 4368251670137143301 4368251670137143302 4368251670137143303\n",
      " 4368251670137143304 4368251670137143305 4368251670137143306 4368251670137143307]\n",
      "DEBUG:confirm.cloud.clickhouse:writing 14 new tiles\n",
      "DEBUG:confirm.cloud.clickhouse:finish:    step_id  step_iter                   id  active          time  worker_id\n",
      "0       10          2  4368251051661852672   False  1.674179e+09          2\n",
      "1       10          2  4368250776783945728   False  1.674179e+09          2\n",
      "2       10          2  4368251257820282883   False  1.674179e+09          2\n",
      "3       10          2  4368251257820282882   False  1.674179e+09          2\n",
      "4       10          2  4368250982942375936   False  1.674179e+09          2\n",
      "DEBUG:confirm.adagrid.calibration:{'K_distribution': {65536: 1, 131072: 13},\n",
      " 'distributed_next_loop': 0,\n",
      " 'i': 18,\n",
      " 'n_complete': 0,\n",
      " 'n_deepen': 2,\n",
      " 'n_impossible': 0,\n",
      " 'n_processed': 14,\n",
      " 'n_refine': 6,\n",
      " 'runtime_cleanup': '0.401340',\n",
      " 'runtime_get_work': '0.162463',\n",
      " 'runtime_processing': '1.023621',\n",
      " 'runtime_refine_deepen': '0.106181',\n",
      " 'status': 'WORKING',\n",
      " 'step_id': 10,\n",
      " 'step_iter': 2,\n",
      " 'step_n_iter': 4,\n",
      " 'work_extraction_time': '1674179156.519005',\n",
      " 'worker_id': 2}\n",
      "DEBUG:confirm.cloud.clickhouse:get step info: (10, 3, 4)\n",
      "DEBUG:confirm.cloud.clickhouse:get_work(step_id=10, step_iter=3)\n",
      "DEBUG:confirm.cloud.clickhouse:get_work(...) returned 8 tiles\n",
      "DEBUG:confirm.cloud.clickhouse:set step info: (10, 4, 4)\n",
      "DEBUG:imprint.timer:unique_timer() = 1674179158, now = 1674179158.391712, last = 1674179164, self = 11219482032\n",
      "DEBUG:imprint.grid:_gen_short_uuids(n_bits=18, worker_bits=18): n=0, worker_id=2, t=1674179165\n",
      "DEBUG:imprint.grid:[]\n",
      "DEBUG:imprint.timer:unique_timer() = 1674179158, now = 1674179158.393617, last = 1674179165, self = 11219482032\n",
      "DEBUG:imprint.grid:_gen_short_uuids(n_bits=18, worker_bits=18): n=16, worker_id=2, t=1674179166\n",
      "DEBUG:imprint.grid:[4368251807576096768 4368251807576096769 4368251807576096770 4368251807576096771\n",
      " 4368251807576096772 4368251807576096773 4368251807576096774 4368251807576096775\n",
      " 4368251807576096776 4368251807576096777 4368251807576096778 4368251807576096779\n",
      " 4368251807576096780 4368251807576096781 4368251807576096782 4368251807576096783]\n",
      "DEBUG:confirm.cloud.clickhouse:writing 16 new tiles\n",
      "DEBUG:confirm.cloud.clickhouse:finish:    step_id  step_iter                   id  active          time  worker_id\n",
      "0       10          3  4368250776783945729   False  1.674179e+09          2\n",
      "1       10          3  4368251257820282881   False  1.674179e+09          2\n",
      "2       10          3  4368250845503422464   False  1.674179e+09          2\n",
      "3       10          3  4368250845503422466   False  1.674179e+09          2\n",
      "4       10          3  4368251257820282887   False  1.674179e+09          2\n",
      "DEBUG:confirm.adagrid.calibration:{'K_distribution': {131072: 16},\n",
      " 'distributed_next_loop': 0,\n",
      " 'i': 19,\n",
      " 'n_complete': 0,\n",
      " 'n_deepen': 0,\n",
      " 'n_impossible': 0,\n",
      " 'n_processed': 16,\n",
      " 'n_refine': 8,\n",
      " 'runtime_cleanup': '0.460412',\n",
      " 'runtime_get_work': '0.160443',\n",
      " 'runtime_processing': '0.941919',\n",
      " 'runtime_refine_deepen': '0.112929',\n",
      " 'status': 'WORKING',\n",
      " 'step_id': 10,\n",
      " 'step_iter': 3,\n",
      " 'step_n_iter': 4,\n",
      " 'work_extraction_time': '1674179158.212054',\n",
      " 'worker_id': 2}\n",
      "DEBUG:confirm.cloud.clickhouse:get step info: (10, 4, 4)\n",
      "DEBUG:confirm.cloud.clickhouse:new step (11, 0, 4) n_tiles=32 packet_size=8\n",
      "DEBUG:confirm.cloud.clickhouse:new step df.head():                     id  step_id  step_iter\n",
      "0  4368251601417666561       11          1\n",
      "1  4368251463978713088       11          3\n",
      "2  4368251807576096769       11          1\n",
      "3  4368251601417666560       11          2\n",
      "4  4368251807576096768       11          0\n",
      "DEBUG:confirm.cloud.clickhouse:set step info: (11, 0, 4)\n",
      "DEBUG:confirm.cloud.clickhouse:get step info: (11, 0, 4)\n",
      "DEBUG:confirm.cloud.clickhouse:get_work(step_id=11, step_iter=0)\n",
      "DEBUG:confirm.cloud.clickhouse:get_work(...) returned 8 tiles\n",
      "DEBUG:confirm.cloud.clickhouse:set step info: (11, 1, 4)\n",
      "DEBUG:imprint.timer:unique_timer() = 1674179160, now = 1674179160.619394, last = 1674179166, self = 11219482032\n",
      "DEBUG:imprint.grid:_gen_short_uuids(n_bits=18, worker_bits=18): n=0, worker_id=2, t=1674179167\n",
      "DEBUG:imprint.grid:[]\n",
      "DEBUG:imprint.timer:unique_timer() = 1674179160, now = 1674179160.621525, last = 1674179167, self = 11219482032\n",
      "DEBUG:imprint.grid:_gen_short_uuids(n_bits=18, worker_bits=18): n=16, worker_id=2, t=1674179168\n",
      "DEBUG:imprint.grid:[4368251945015050240 4368251945015050241 4368251945015050242 4368251945015050243\n",
      " 4368251945015050244 4368251945015050245 4368251945015050246 4368251945015050247\n",
      " 4368251945015050248 4368251945015050249 4368251945015050250 4368251945015050251\n",
      " 4368251945015050252 4368251945015050253 4368251945015050254 4368251945015050255]\n",
      "DEBUG:confirm.cloud.clickhouse:writing 16 new tiles\n",
      "DEBUG:confirm.cloud.clickhouse:finish:    step_id  step_iter                   id  active          time  worker_id\n",
      "0       11          0  4368251807576096768   False  1.674179e+09          2\n",
      "1       11          0  4368251532698189825   False  1.674179e+09          2\n",
      "2       11          0  4368251532698189827   False  1.674179e+09          2\n",
      "3       11          0  4368251532698189826   False  1.674179e+09          2\n",
      "4       11          0  4368251395259236354   False  1.674179e+09          2\n",
      "DEBUG:confirm.adagrid.calibration:{'K_distribution': {131072: 16},\n",
      " 'bias_tie': '0.000256',\n",
      " 'converged': '0.000000',\n",
      " 'distributed_next_loop': 1,\n",
      " 'grid_cost': '0.000132',\n",
      " 'i': 20,\n",
      " 'lamss': '-1.956072',\n",
      " 'max(B_lamss)': '-1.953600',\n",
      " 'min(B_lamss)': '-1.972466',\n",
      " 'n_complete': 0,\n",
      " 'n_deepen': 0,\n",
      " 'n_impossible': 0,\n",
      " 'n_processed': 16,\n",
      " 'n_refine': 8,\n",
      " 'runtime_cleanup': '0.483977',\n",
      " 'runtime_get_work': '0.720428',\n",
      " 'runtime_processing': '0.936421',\n",
      " 'runtime_refine_deepen': '0.103663',\n",
      " 'spread_tie': '0.000977',\n",
      " 'status': 'NEW_STEP',\n",
      " 'std_tie': '0.000325',\n",
      " 'step_id': 11,\n",
      " 'step_iter': 0,\n",
      " 'step_n_iter': 4,\n",
      " 'tie + slack': '0.025230',\n",
      " 'tie_{k}(lamss)': '0.024841',\n",
      " 'work_extraction_time': '1674179160.456210',\n",
      " 'worker_id': 2}\n",
      "DEBUG:confirm.cloud.clickhouse:get step info: (11, 1, 4)\n",
      "DEBUG:confirm.cloud.clickhouse:get_work(step_id=11, step_iter=1)\n",
      "DEBUG:confirm.cloud.clickhouse:get_work(...) returned 8 tiles\n",
      "DEBUG:confirm.cloud.clickhouse:set step info: (11, 2, 4)\n",
      "DEBUG:imprint.timer:unique_timer() = 1674179162, now = 1674179162.371136, last = 1674179168, self = 11219482032\n",
      "DEBUG:imprint.grid:_gen_short_uuids(n_bits=18, worker_bits=18): n=0, worker_id=2, t=1674179169\n",
      "DEBUG:imprint.grid:[]\n",
      "DEBUG:imprint.timer:unique_timer() = 1674179162, now = 1674179162.372978, last = 1674179169, self = 11219482032\n",
      "DEBUG:imprint.grid:_gen_short_uuids(n_bits=18, worker_bits=18): n=16, worker_id=2, t=1674179170\n",
      "DEBUG:imprint.grid:[4368252082454003712 4368252082454003713 4368252082454003714 4368252082454003715\n",
      " 4368252082454003716 4368252082454003717 4368252082454003718 4368252082454003719\n",
      " 4368252082454003720 4368252082454003721 4368252082454003722 4368252082454003723\n",
      " 4368252082454003724 4368252082454003725 4368252082454003726 4368252082454003727]\n",
      "DEBUG:confirm.cloud.clickhouse:writing 16 new tiles\n",
      "DEBUG:confirm.cloud.clickhouse:finish:    step_id  step_iter                   id  active          time  worker_id\n",
      "0       11          1  4368251601417666561   False  1.674179e+09          2\n",
      "1       11          1  4368251807576096769   False  1.674179e+09          2\n",
      "2       11          1  4368251395259236355   False  1.674179e+09          2\n",
      "3       11          1  4368251670137143299   False  1.674179e+09          2\n",
      "4       11          1  4368251532698189828   False  1.674179e+09          2\n",
      "DEBUG:confirm.adagrid.calibration:{'K_distribution': {131072: 16},\n",
      " 'distributed_next_loop': 0,\n",
      " 'i': 21,\n",
      " 'n_complete': 0,\n",
      " 'n_deepen': 0,\n",
      " 'n_impossible': 0,\n",
      " 'n_processed': 16,\n",
      " 'n_refine': 8,\n",
      " 'runtime_cleanup': '0.448518',\n",
      " 'runtime_get_work': '0.226800',\n",
      " 'runtime_processing': '0.938391',\n",
      " 'runtime_refine_deepen': '0.102809',\n",
      " 'status': 'WORKING',\n",
      " 'step_id': 11,\n",
      " 'step_iter': 1,\n",
      " 'step_n_iter': 4,\n",
      " 'work_extraction_time': '1674179162.212460',\n",
      " 'worker_id': 2}\n",
      "DEBUG:confirm.cloud.clickhouse:get step info: (11, 2, 4)\n",
      "DEBUG:confirm.cloud.clickhouse:get_work(step_id=11, step_iter=2)\n",
      "DEBUG:confirm.cloud.clickhouse:get_work(...) returned 8 tiles\n",
      "DEBUG:confirm.cloud.clickhouse:set step info: (11, 3, 4)\n",
      "DEBUG:imprint.timer:unique_timer() = 1674179164, now = 1674179164.080043, last = 1674179170, self = 11219482032\n",
      "DEBUG:imprint.grid:_gen_short_uuids(n_bits=18, worker_bits=18): n=1, worker_id=2, t=1674179171\n",
      "DEBUG:imprint.grid:[4368252151173480448]\n",
      "DEBUG:imprint.timer:unique_timer() = 1674179164, now = 1674179164.0817668, last = 1674179171, self = 11219482032\n",
      "DEBUG:imprint.grid:_gen_short_uuids(n_bits=18, worker_bits=18): n=14, worker_id=2, t=1674179172\n",
      "DEBUG:imprint.grid:[4368252219892957184 4368252219892957185 4368252219892957186 4368252219892957187\n",
      " 4368252219892957188 4368252219892957189 4368252219892957190 4368252219892957191\n",
      " 4368252219892957192 4368252219892957193 4368252219892957194 4368252219892957195\n",
      " 4368252219892957196 4368252219892957197]\n",
      "DEBUG:confirm.cloud.clickhouse:writing 15 new tiles\n",
      "DEBUG:confirm.cloud.clickhouse:finish:    step_id  step_iter                   id  active          time  worker_id\n",
      "0       11          2  4368251601417666560   False  1.674179e+09          2\n",
      "1       11          2  4368251807576096771   False  1.674179e+09          2\n",
      "2       11          2  4368251532698189824   False  1.674179e+09          2\n",
      "3       11          2  4368251395259236353   False  1.674179e+09          2\n",
      "4       11          2  4368251395259236352   False  1.674179e+09          2\n",
      "DEBUG:confirm.adagrid.calibration:{'K_distribution': {131072: 15},\n",
      " 'distributed_next_loop': 0,\n",
      " 'i': 22,\n",
      " 'n_complete': 0,\n",
      " 'n_deepen': 1,\n",
      " 'n_impossible': 0,\n",
      " 'n_processed': 15,\n",
      " 'n_refine': 7,\n",
      " 'runtime_cleanup': '0.412221',\n",
      " 'runtime_get_work': '0.153400',\n",
      " 'runtime_processing': '0.954780',\n",
      " 'runtime_refine_deepen': '0.167317',\n",
      " 'status': 'WORKING',\n",
      " 'step_id': 11,\n",
      " 'step_iter': 2,\n",
      " 'step_n_iter': 4,\n",
      " 'work_extraction_time': '1674179163.855139',\n",
      " 'worker_id': 2}\n",
      "DEBUG:confirm.cloud.clickhouse:get step info: (11, 3, 4)\n",
      "DEBUG:confirm.cloud.clickhouse:get_work(step_id=11, step_iter=3)\n",
      "DEBUG:confirm.cloud.clickhouse:get_work(...) returned 8 tiles\n",
      "DEBUG:confirm.cloud.clickhouse:set step info: (11, 4, 4)\n",
      "DEBUG:imprint.timer:unique_timer() = 1674179165, now = 1674179165.715457, last = 1674179172, self = 11219482032\n",
      "DEBUG:imprint.grid:_gen_short_uuids(n_bits=18, worker_bits=18): n=1, worker_id=2, t=1674179173\n",
      "DEBUG:imprint.grid:[4368252288612433920]\n",
      "DEBUG:imprint.timer:unique_timer() = 1674179165, now = 1674179165.717949, last = 1674179173, self = 11219482032\n",
      "DEBUG:imprint.grid:_gen_short_uuids(n_bits=18, worker_bits=18): n=14, worker_id=2, t=1674179174\n",
      "DEBUG:imprint.grid:[4368252357331910656 4368252357331910657 4368252357331910658 4368252357331910659\n",
      " 4368252357331910660 4368252357331910661 4368252357331910662 4368252357331910663\n",
      " 4368252357331910664 4368252357331910665 4368252357331910666 4368252357331910667\n",
      " 4368252357331910668 4368252357331910669]\n",
      "DEBUG:confirm.cloud.clickhouse:writing 15 new tiles\n",
      "DEBUG:confirm.cloud.clickhouse:finish:    step_id  step_iter                   id  active          time  worker_id\n",
      "0       11          3  4368251463978713088   False  1.674179e+09          2\n",
      "1       11          3  4368251807576096770   False  1.674179e+09          2\n",
      "2       11          3  4368251807576096773   False  1.674179e+09          2\n",
      "3       11          3  4368251807576096772   False  1.674179e+09          2\n",
      "4       11          3  4368251670137143297   False  1.674179e+09          2\n",
      "DEBUG:confirm.adagrid.calibration:{'K_distribution': {131072: 15},\n",
      " 'distributed_next_loop': 0,\n",
      " 'i': 23,\n",
      " 'n_complete': 0,\n",
      " 'n_deepen': 1,\n",
      " 'n_impossible': 0,\n",
      " 'n_processed': 15,\n",
      " 'n_refine': 7,\n",
      " 'runtime_cleanup': '0.390107',\n",
      " 'runtime_get_work': '0.157196',\n",
      " 'runtime_processing': '0.946717',\n",
      " 'runtime_refine_deepen': '0.111779',\n",
      " 'status': 'WORKING',\n",
      " 'step_id': 11,\n",
      " 'step_iter': 3,\n",
      " 'step_n_iter': 4,\n",
      " 'work_extraction_time': '1674179165.545368',\n",
      " 'worker_id': 2}\n",
      "DEBUG:confirm.cloud.clickhouse:get step info: (11, 4, 4)\n",
      "DEBUG:confirm.adagrid.calibration:{'bias_tie': '0.000092',\n",
      " 'converged': True,\n",
      " 'distributed_next_loop': 0,\n",
      " 'grid_cost': '0.000132',\n",
      " 'i': 24,\n",
      " 'lamss': '-1.962861',\n",
      " 'max(B_lamss)': '-1.941912',\n",
      " 'min(B_lamss)': '-1.979558',\n",
      " 'runtime_get_work': '0.264487',\n",
      " 'spread_tie': '0.001953',\n",
      " 'status': 'CONVERGED',\n",
      " 'std_tie': '0.000585',\n",
      " 'step_id': 11,\n",
      " 'step_iter': 4,\n",
      " 'step_n_iter': 4,\n",
      " 'tie + slack': '0.025080',\n",
      " 'tie_{k}(lamss)': '0.024857',\n",
      " 'worker_id': 2}\n"
     ]
    }
   ],
   "source": [
    "db_ch = ch.Clickhouse.connect()\n",
    "iter, reports, _ = ada.ada_calibrate(\n",
    "    ZTest1D,\n",
    "    g=g,\n",
    "    db=db_ch,\n",
    "    nB=5,\n",
    "    step_size=32,\n",
    "    packet_size=8,\n",
    "    grid_target=0.00015,\n",
    "    bias_target=0.00015,\n",
    ")"
   ]
  },
  {
   "cell_type": "code",
   "execution_count": 15,
   "metadata": {},
   "outputs": [
    {
     "name": "stderr",
     "output_type": "stream",
     "text": [
      "INFO:confirm.cloud.clickhouse:Clickhouse config: default@t2n4z83v82.us-east-1.aws.clickhouse.cloud:8443/None\n",
      "INFO:confirm.cloud.clickhouse:Clickhouse config: default@t2n4z83v82.us-east-1.aws.clickhouse.cloud:8443/73aae88932c7407cb33b5cefffc63ca1\n",
      "INFO:confirm.cloud.clickhouse:Connected to job 73aae88932c7407cb33b5cefffc63ca1\n",
      "DEBUG:confirm.cloud.clickhouse:set_or_append(config) -> False None\n",
      "DEBUG:confirm.cloud.clickhouse:set(config) -> False config\n",
      "DEBUG:confirm.cloud.clickhouse:set(null_hypos) -> False null_hypos\n",
      "INFO:confirm.cloud.clickhouse:Clickhouse config: default@t2n4z83v82.us-east-1.aws.clickhouse.cloud:8443/None\n",
      "INFO:confirm.cloud.clickhouse:Clickhouse config: default@t2n4z83v82.us-east-1.aws.clickhouse.cloud:8443/73aae88932c7407cb33b5cefffc63ca1\n",
      "INFO:confirm.cloud.clickhouse:Connected to job 73aae88932c7407cb33b5cefffc63ca1\n",
      "DEBUG:confirm.cloud.clickhouse:get(config) -> True config\n",
      "DEBUG:confirm.cloud.clickhouse:set_or_append(config) -> True config\n",
      "DEBUG:confirm.cloud.clickhouse:get(null_hypos) -> True null_hypos\n",
      "DEBUG:confirm.cloud.clickhouse:get_work(step_id=0, step_iter=0)\n",
      "DEBUG:confirm.cloud.clickhouse:get_work(...) returned 1 tiles\n",
      "DEBUG:confirm.adagrid.calibration:{'K_distribution': {8192: 2},\n",
      " 'bias_tie': '-0.000024',\n",
      " 'converged': False,\n",
      " 'distributed_next_loop': 1,\n",
      " 'grid_cost': '0.019327',\n",
      " 'i': 0,\n",
      " 'lamss': '-1.985793',\n",
      " 'max(B_lamss)': '-1.887401',\n",
      " 'min(B_lamss)': '-2.031679',\n",
      " 'n_complete': 0,\n",
      " 'n_deepen': 0,\n",
      " 'n_impossible': 0,\n",
      " 'n_processed': 2,\n",
      " 'n_refine': 1,\n",
      " 'runtime_cleanup': '0.374823',\n",
      " 'runtime_get_work': '0.463596',\n",
      " 'runtime_processing': '0.071214',\n",
      " 'runtime_refine_deepen': '0.149770',\n",
      " 'spread_tie': '0.001587',\n",
      " 'status': 'NEW_STEP',\n",
      " 'std_tie': '0.000552',\n",
      " 'step_id': 0,\n",
      " 'step_iter': 0,\n",
      " 'step_n_iter': 1,\n",
      " 'tie + slack': '0.024795',\n",
      " 'tie_{k}(lamss)': '0.005493',\n",
      " 'work_extraction_time': '1674150528.784608',\n",
      " 'worker_id': 1}\n",
      "DEBUG:confirm.cloud.clickhouse:get_work(step_id=1, step_iter=0)\n",
      "DEBUG:confirm.cloud.clickhouse:get_work(...) returned 2 tiles\n",
      "DEBUG:confirm.adagrid.calibration:{'K_distribution': {8192: 2, 16384: 1},\n",
      " 'bias_tie': '0.000220',\n",
      " 'converged': False,\n",
      " 'distributed_next_loop': 1,\n",
      " 'grid_cost': '0.012713',\n",
      " 'i': 1,\n",
      " 'lamss': '-1.954579',\n",
      " 'max(B_lamss)': '-1.938797',\n",
      " 'min(B_lamss)': '-1.999353',\n",
      " 'n_complete': 0,\n",
      " 'n_deepen': 1,\n",
      " 'n_impossible': 0,\n",
      " 'n_processed': 3,\n",
      " 'n_refine': 1,\n",
      " 'runtime_cleanup': '0.348717',\n",
      " 'runtime_get_work': '0.481850',\n",
      " 'runtime_processing': '0.061693',\n",
      " 'runtime_refine_deepen': '0.101806',\n",
      " 'spread_tie': '0.003174',\n",
      " 'status': 'NEW_STEP',\n",
      " 'std_tie': '0.001068',\n",
      " 'step_id': 1,\n",
      " 'step_iter': 0,\n",
      " 'step_n_iter': 1,\n",
      " 'tie + slack': '0.025017',\n",
      " 'tie_{k}(lamss)': '0.012085',\n",
      " 'work_extraction_time': '1674150529.861265',\n",
      " 'worker_id': 1}\n",
      "DEBUG:confirm.cloud.clickhouse:get_work(step_id=2, step_iter=0)\n",
      "DEBUG:confirm.cloud.clickhouse:get_work(...) returned 3 tiles\n",
      "DEBUG:confirm.adagrid.calibration:{'K_distribution': {8192: 2, 16384: 1, 32768: 1},\n",
      " 'bias_tie': '-0.000415',\n",
      " 'converged': False,\n",
      " 'distributed_next_loop': 1,\n",
      " 'grid_cost': '0.007336',\n",
      " 'i': 2,\n",
      " 'lamss': '-1.963464',\n",
      " 'max(B_lamss)': '-1.935918',\n",
      " 'min(B_lamss)': '-1.978195',\n",
      " 'n_complete': 0,\n",
      " 'n_deepen': 2,\n",
      " 'n_impossible': 0,\n",
      " 'n_processed': 4,\n",
      " 'n_refine': 1,\n",
      " 'runtime_cleanup': '0.409317',\n",
      " 'runtime_get_work': '0.499962',\n",
      " 'runtime_processing': '0.115085',\n",
      " 'runtime_refine_deepen': '0.098532',\n",
      " 'spread_tie': '0.003052',\n",
      " 'status': 'NEW_STEP',\n",
      " 'std_tie': '0.001077',\n",
      " 'step_id': 2,\n",
      " 'step_iter': 0,\n",
      " 'step_n_iter': 1,\n",
      " 'tie + slack': '0.024377',\n",
      " 'tie_{k}(lamss)': '0.017456',\n",
      " 'work_extraction_time': '1674150530.878604',\n",
      " 'worker_id': 1}\n",
      "DEBUG:confirm.cloud.clickhouse:get_work(step_id=3, step_iter=0)\n",
      "DEBUG:confirm.cloud.clickhouse:get_work(...) returned 4 tiles\n",
      "DEBUG:confirm.adagrid.calibration:{'K_distribution': {8192: 2, 16384: 1, 32768: 1, 65536: 1},\n",
      " 'bias_tie': '-0.000366',\n",
      " 'converged': False,\n",
      " 'distributed_next_loop': 1,\n",
      " 'grid_cost': '0.003945',\n",
      " 'i': 3,\n",
      " 'lamss': '-1.959059',\n",
      " 'max(B_lamss)': '-1.918080',\n",
      " 'min(B_lamss)': '-1.986207',\n",
      " 'n_complete': 0,\n",
      " 'n_deepen': 3,\n",
      " 'n_impossible': 0,\n",
      " 'n_processed': 5,\n",
      " 'n_refine': 1,\n",
      " 'runtime_cleanup': '0.388626',\n",
      " 'runtime_get_work': '0.478295',\n",
      " 'runtime_processing': '0.198519',\n",
      " 'runtime_refine_deepen': '0.100867',\n",
      " 'spread_tie': '0.002808',\n",
      " 'status': 'NEW_STEP',\n",
      " 'std_tie': '0.001004',\n",
      " 'step_id': 3,\n",
      " 'step_iter': 0,\n",
      " 'step_n_iter': 1,\n",
      " 'tie + slack': '0.024452',\n",
      " 'tie_{k}(lamss)': '0.020874',\n",
      " 'work_extraction_time': '1674150531.980603',\n",
      " 'worker_id': 1}\n",
      "DEBUG:confirm.cloud.clickhouse:get_work(step_id=4, step_iter=0)\n",
      "DEBUG:confirm.cloud.clickhouse:get_work(...) returned 5 tiles\n",
      "DEBUG:confirm.adagrid.calibration:{'K_distribution': {8192: 2, 16384: 1, 32768: 1, 65536: 1, 131072: 1},\n",
      " 'bias_tie': '-0.000317',\n",
      " 'converged': False,\n",
      " 'distributed_next_loop': 1,\n",
      " 'grid_cost': '0.002046',\n",
      " 'i': 4,\n",
      " 'lamss': '-1.944948',\n",
      " 'max(B_lamss)': '-1.920145',\n",
      " 'min(B_lamss)': '-1.959790',\n",
      " 'n_complete': 0,\n",
      " 'n_deepen': 4,\n",
      " 'n_impossible': 0,\n",
      " 'n_processed': 6,\n",
      " 'n_refine': 1,\n",
      " 'runtime_cleanup': '0.332048',\n",
      " 'runtime_get_work': '0.526399',\n",
      " 'runtime_processing': '0.432031',\n",
      " 'runtime_refine_deepen': '0.100690',\n",
      " 'spread_tie': '0.002319',\n",
      " 'status': 'NEW_STEP',\n",
      " 'std_tie': '0.000802',\n",
      " 'step_id': 4,\n",
      " 'step_iter': 0,\n",
      " 'step_n_iter': 1,\n",
      " 'tie + slack': '0.024555',\n",
      " 'tie_{k}(lamss)': '0.022827',\n",
      " 'work_extraction_time': '1674150533.205506',\n",
      " 'worker_id': 1}\n",
      "DEBUG:confirm.cloud.clickhouse:get_work(step_id=5, step_iter=0)\n",
      "DEBUG:confirm.cloud.clickhouse:get_work(...) returned 6 tiles\n",
      "DEBUG:confirm.adagrid.calibration:{'K_distribution': {16384: 2, 32768: 1, 65536: 1, 131072: 3},\n",
      " 'bias_tie': '-0.000171',\n",
      " 'converged': False,\n",
      " 'distributed_next_loop': 1,\n",
      " 'grid_cost': '0.001042',\n",
      " 'i': 5,\n",
      " 'lamss': '-1.949910',\n",
      " 'max(B_lamss)': '-1.916039',\n",
      " 'min(B_lamss)': '-1.959244',\n",
      " 'n_complete': 0,\n",
      " 'n_deepen': 5,\n",
      " 'n_impossible': 0,\n",
      " 'n_processed': 7,\n",
      " 'n_refine': 1,\n",
      " 'runtime_cleanup': '0.339620',\n",
      " 'runtime_get_work': '0.484841',\n",
      " 'runtime_processing': '0.396640',\n",
      " 'runtime_refine_deepen': '0.096499',\n",
      " 'spread_tie': '0.002441',\n",
      " 'status': 'NEW_STEP',\n",
      " 'std_tie': '0.000841',\n",
      " 'step_id': 5,\n",
      " 'step_iter': 0,\n",
      " 'step_n_iter': 1,\n",
      " 'tie + slack': '0.024675',\n",
      " 'tie_{k}(lamss)': '0.023804',\n",
      " 'work_extraction_time': '1674150534.551295',\n",
      " 'worker_id': 1}\n",
      "DEBUG:confirm.cloud.clickhouse:get_work(step_id=6, step_iter=0)\n",
      "DEBUG:confirm.cloud.clickhouse:get_work(...) returned 7 tiles\n",
      "DEBUG:confirm.adagrid.calibration:{'K_distribution': {16384: 2, 32768: 1, 65536: 1, 131072: 7},\n",
      " 'bias_tie': '0.000415',\n",
      " 'converged': '0.000000',\n",
      " 'distributed_next_loop': 1,\n",
      " 'grid_cost': '0.001042',\n",
      " 'i': 6,\n",
      " 'lamss': '-1.953752',\n",
      " 'max(B_lamss)': '-1.936119',\n",
      " 'min(B_lamss)': '-1.978360',\n",
      " 'n_complete': 0,\n",
      " 'n_deepen': 3,\n",
      " 'n_impossible': 0,\n",
      " 'n_processed': 11,\n",
      " 'n_refine': 4,\n",
      " 'runtime_cleanup': '0.345639',\n",
      " 'runtime_get_work': '0.531370',\n",
      " 'runtime_processing': '0.632149',\n",
      " 'runtime_refine_deepen': '0.102295',\n",
      " 'spread_tie': '0.002441',\n",
      " 'status': 'NEW_STEP',\n",
      " 'std_tie': '0.000820',\n",
      " 'step_id': 6,\n",
      " 'step_iter': 0,\n",
      " 'step_n_iter': 1,\n",
      " 'tie + slack': '0.025322',\n",
      " 'tie_{k}(lamss)': '0.023865',\n",
      " 'work_extraction_time': '1674150535.919946',\n",
      " 'worker_id': 1}\n",
      "DEBUG:confirm.cloud.clickhouse:get_work(step_id=7, step_iter=0)\n",
      "DEBUG:confirm.cloud.clickhouse:get_work(...) returned 6 tiles\n",
      "DEBUG:confirm.adagrid.calibration:{'K_distribution': {16384: 2, 32768: 1, 131072: 8},\n",
      " 'bias_tie': '0.000366',\n",
      " 'converged': '0.000000',\n",
      " 'distributed_next_loop': 1,\n",
      " 'grid_cost': '0.000526',\n",
      " 'i': 7,\n",
      " 'lamss': '-1.953787',\n",
      " 'max(B_lamss)': '-1.929968',\n",
      " 'min(B_lamss)': '-1.978311',\n",
      " 'n_complete': 0,\n",
      " 'n_deepen': 1,\n",
      " 'n_impossible': 0,\n",
      " 'n_processed': 11,\n",
      " 'n_refine': 5,\n",
      " 'runtime_cleanup': '0.340052',\n",
      " 'runtime_get_work': '0.519353',\n",
      " 'runtime_processing': '0.541363',\n",
      " 'runtime_refine_deepen': '0.100529',\n",
      " 'spread_tie': '0.002747',\n",
      " 'status': 'NEW_STEP',\n",
      " 'std_tie': '0.000960',\n",
      " 'step_id': 7,\n",
      " 'step_iter': 0,\n",
      " 'step_n_iter': 2,\n",
      " 'tie + slack': '0.025306',\n",
      " 'tie_{k}(lamss)': '0.024414',\n",
      " 'work_extraction_time': '1674150537.519840',\n",
      " 'worker_id': 1}\n",
      "DEBUG:confirm.cloud.clickhouse:get_work(step_id=7, step_iter=1)\n",
      "DEBUG:confirm.cloud.clickhouse:get_work(...) returned 5 tiles\n",
      "DEBUG:confirm.adagrid.calibration:{'K_distribution': {65536: 1, 131072: 7},\n",
      " 'distributed_next_loop': 0,\n",
      " 'i': 8,\n",
      " 'n_complete': 0,\n",
      " 'n_deepen': 2,\n",
      " 'n_impossible': 0,\n",
      " 'n_processed': 8,\n",
      " 'n_refine': 3,\n",
      " 'runtime_cleanup': '0.384037',\n",
      " 'runtime_get_work': '0.115632',\n",
      " 'runtime_processing': '0.548360',\n",
      " 'runtime_refine_deepen': '0.099236',\n",
      " 'status': 'WORKING',\n",
      " 'step_id': 7,\n",
      " 'step_iter': 1,\n",
      " 'step_n_iter': 2,\n",
      " 'work_extraction_time': '1674150538.621400',\n",
      " 'worker_id': 1}\n",
      "DEBUG:confirm.cloud.clickhouse:get_work(step_id=8, step_iter=0)\n",
      "DEBUG:confirm.cloud.clickhouse:get_work(...) returned 7 tiles\n",
      "DEBUG:confirm.adagrid.calibration:{'K_distribution': {32768: 1, 131072: 12},\n",
      " 'bias_tie': '0.000598',\n",
      " 'converged': '0.000000',\n",
      " 'distributed_next_loop': 1,\n",
      " 'grid_cost': '0.000264',\n",
      " 'i': 9,\n",
      " 'lamss': '-1.951419',\n",
      " 'max(B_lamss)': '-1.944253',\n",
      " 'min(B_lamss)': '-1.978410',\n",
      " 'n_complete': 0,\n",
      " 'n_deepen': 1,\n",
      " 'n_impossible': 0,\n",
      " 'n_processed': 13,\n",
      " 'n_refine': 6,\n",
      " 'runtime_cleanup': '0.382971',\n",
      " 'runtime_get_work': '0.610458',\n",
      " 'runtime_processing': '0.752465',\n",
      " 'runtime_refine_deepen': '0.104462',\n",
      " 'spread_tie': '0.002075',\n",
      " 'status': 'NEW_STEP',\n",
      " 'std_tie': '0.000722',\n",
      " 'step_id': 8,\n",
      " 'step_iter': 0,\n",
      " 'step_n_iter': 3,\n",
      " 'tie + slack': '0.025520',\n",
      " 'tie_{k}(lamss)': '0.024658',\n",
      " 'work_extraction_time': '1674150540.268150',\n",
      " 'worker_id': 1}\n",
      "DEBUG:confirm.cloud.clickhouse:get_work(step_id=8, step_iter=1)\n",
      "DEBUG:confirm.cloud.clickhouse:get_work(...) returned 6 tiles\n",
      "DEBUG:confirm.adagrid.calibration:{'K_distribution': {65536: 1, 131072: 9},\n",
      " 'distributed_next_loop': 0,\n",
      " 'i': 10,\n",
      " 'n_complete': 0,\n",
      " 'n_deepen': 2,\n",
      " 'n_impossible': 0,\n",
      " 'n_processed': 10,\n",
      " 'n_refine': 4,\n",
      " 'runtime_cleanup': '0.320852',\n",
      " 'runtime_get_work': '0.124507',\n",
      " 'runtime_processing': '0.781766',\n",
      " 'runtime_refine_deepen': '0.104539',\n",
      " 'status': 'WORKING',\n",
      " 'step_id': 8,\n",
      " 'step_iter': 1,\n",
      " 'step_n_iter': 3,\n",
      " 'work_extraction_time': '1674150541.634580',\n",
      " 'worker_id': 1}\n",
      "DEBUG:confirm.cloud.clickhouse:get_work(step_id=8, step_iter=2)\n",
      "DEBUG:confirm.cloud.clickhouse:get_work(...) returned 6 tiles\n",
      "DEBUG:confirm.adagrid.calibration:{'K_distribution': {32768: 1, 131072: 10},\n",
      " 'distributed_next_loop': 0,\n",
      " 'i': 11,\n",
      " 'n_complete': 0,\n",
      " 'n_deepen': 1,\n",
      " 'n_impossible': 0,\n",
      " 'n_processed': 11,\n",
      " 'n_refine': 5,\n",
      " 'runtime_cleanup': '0.386953',\n",
      " 'runtime_get_work': '0.116542',\n",
      " 'runtime_processing': '0.752841',\n",
      " 'runtime_refine_deepen': '0.100575',\n",
      " 'status': 'WORKING',\n",
      " 'step_id': 8,\n",
      " 'step_iter': 2,\n",
      " 'step_n_iter': 3,\n",
      " 'work_extraction_time': '1674150542.964748',\n",
      " 'worker_id': 1}\n",
      "DEBUG:confirm.adagrid.calibration:{'bias_tie': '0.000275',\n",
      " 'converged': True,\n",
      " 'distributed_next_loop': 0,\n",
      " 'grid_cost': '0.000264',\n",
      " 'i': 12,\n",
      " 'lamss': '-1.958524',\n",
      " 'max(B_lamss)': '-1.954118',\n",
      " 'min(B_lamss)': '-1.970356',\n",
      " 'runtime_get_work': '0.198517',\n",
      " 'spread_tie': '0.000824',\n",
      " 'status': 'CONVERGED',\n",
      " 'std_tie': '0.000301',\n",
      " 'step_id': 8,\n",
      " 'step_iter': 3,\n",
      " 'step_n_iter': 3,\n",
      " 'tie + slack': '0.025227',\n",
      " 'tie_{k}(lamss)': '0.024689',\n",
      " 'worker_id': 1}\n"
     ]
    }
   ],
   "source": [
    "g = ip.cartesian_grid(theta_min=[-1], theta_max=[1], null_hypos=[ip.hypo(\"x0 < 0\")])\n",
    "db_dist = ch.Clickhouse.connect()\n",
    "iter, reports, _ = ada.ada_calibrate(\n",
    "    ZTest1D,\n",
    "    g=g,\n",
    "    db=db_dist,\n",
    "    n_iter=0,\n",
    "    nB=5,\n",
    "    step_size=32,\n",
    "    packet_size=8,\n",
    "    grid_target=0.0003,\n",
    "    bias_target=0.0003,\n",
    ")\n",
    "db_w = ch.Clickhouse.connect(job_id=db_dist.job_id)\n",
    "iter, reports, _ = ada.ada_calibrate(ZTest1D, db=db_w, n_iter=100)"
   ]
  },
  {
   "attachments": {},
   "cell_type": "markdown",
   "metadata": {},
   "source": [
    "## Run two threaded workers"
   ]
  },
  {
   "cell_type": "code",
   "execution_count": 16,
   "metadata": {},
   "outputs": [
    {
     "name": "stderr",
     "output_type": "stream",
     "text": [
      "INFO:confirm.cloud.clickhouse:Clickhouse config: default@t2n4z83v82.us-east-1.aws.clickhouse.cloud:8443/None\n",
      "INFO:confirm.cloud.clickhouse:Clickhouse config: default@t2n4z83v82.us-east-1.aws.clickhouse.cloud:8443/threaded\n",
      "INFO:confirm.cloud.clickhouse:Connected to job threaded\n",
      "DEBUG:confirm.cloud.clickhouse:set_or_append(config) -> False None\n",
      "DEBUG:confirm.cloud.clickhouse:set(config) -> False config\n",
      "DEBUG:confirm.cloud.clickhouse:set(null_hypos) -> False null_hypos\n"
     ]
    }
   ],
   "source": [
    "g = ip.cartesian_grid(theta_min=[-1], theta_max=[1], null_hypos=[ip.hypo(\"x0 < 0\")])\n",
    "db_dist = ch.Clickhouse.connect(job_id=\"threaded\")\n",
    "iter, reports, _ = ada.ada_calibrate(\n",
    "    ZTest1D,\n",
    "    g=g,\n",
    "    db=db_dist,\n",
    "    nB=5,\n",
    "    n_iter=0,\n",
    "    step_size=32,\n",
    "    packet_size=8,\n",
    "    grid_target=0.0003,\n",
    "    bias_target=0.0003,\n",
    ")"
   ]
  },
  {
   "cell_type": "code",
   "execution_count": 17,
   "metadata": {},
   "outputs": [
    {
     "name": "stderr",
     "output_type": "stream",
     "text": [
      "INFO:confirm.cloud.clickhouse:Clickhouse config: default@t2n4z83v82.us-east-1.aws.clickhouse.cloud:8443/None\n",
      "INFO:confirm.cloud.clickhouse:Clickhouse config: default@t2n4z83v82.us-east-1.aws.clickhouse.cloud:8443/None\n",
      "INFO:confirm.cloud.clickhouse:Clickhouse config: default@t2n4z83v82.us-east-1.aws.clickhouse.cloud:8443/threaded\n",
      "INFO:confirm.cloud.clickhouse:Clickhouse config: default@t2n4z83v82.us-east-1.aws.clickhouse.cloud:8443/threaded\n",
      "INFO:confirm.cloud.clickhouse:Connected to job threaded\n",
      "INFO:confirm.cloud.clickhouse:Connected to job threaded\n",
      "DEBUG:confirm.cloud.clickhouse:get(config) -> True config\n",
      "DEBUG:confirm.cloud.clickhouse:get(config) -> True config\n",
      "DEBUG:confirm.cloud.clickhouse:set_or_append(config) -> True config\n",
      "DEBUG:confirm.cloud.clickhouse:set_or_append(config) -> True config\n",
      "DEBUG:confirm.cloud.clickhouse:get(null_hypos) -> True null_hypos\n",
      "DEBUG:confirm.cloud.clickhouse:get(null_hypos) -> True null_hypos\n",
      "DEBUG:confirm.cloud.clickhouse:get_work(step_id=0, step_iter=0)\n",
      "DEBUG:confirm.cloud.clickhouse:get_work(...) returned 1 tiles\n",
      "DEBUG:confirm.adagrid.calibration:{'K_distribution': {8192: 2},\n",
      " 'bias_tie': '-0.000024',\n",
      " 'converged': False,\n",
      " 'distributed_next_loop': 1,\n",
      " 'grid_cost': '0.019327',\n",
      " 'i': 0,\n",
      " 'lamss': '-1.985793',\n",
      " 'max(B_lamss)': '-1.887401',\n",
      " 'min(B_lamss)': '-2.031679',\n",
      " 'n_complete': 0,\n",
      " 'n_deepen': 0,\n",
      " 'n_impossible': 0,\n",
      " 'n_processed': 2,\n",
      " 'n_refine': 1,\n",
      " 'runtime_cleanup': '0.395970',\n",
      " 'runtime_get_work': '0.438157',\n",
      " 'runtime_processing': '0.072653',\n",
      " 'runtime_refine_deepen': '0.150847',\n",
      " 'spread_tie': '0.001587',\n",
      " 'status': 'NEW_STEP',\n",
      " 'std_tie': '0.000552',\n",
      " 'step_id': 0,\n",
      " 'step_iter': 0,\n",
      " 'step_n_iter': 1,\n",
      " 'tie + slack': '0.024795',\n",
      " 'tie_{k}(lamss)': '0.005493',\n",
      " 'work_extraction_time': '1674150580.481252',\n",
      " 'worker_id': 1}\n",
      "DEBUG:confirm.cloud.clickhouse:get_work(step_id=1, step_iter=0)\n",
      "DEBUG:confirm.cloud.clickhouse:get_work(...) returned 2 tiles\n",
      "DEBUG:confirm.adagrid.calibration:{'K_distribution': {8192: 2, 16384: 1},\n",
      " 'bias_tie': '0.000220',\n",
      " 'converged': False,\n",
      " 'distributed_next_loop': 1,\n",
      " 'grid_cost': '0.012713',\n",
      " 'i': 1,\n",
      " 'lamss': '-1.954579',\n",
      " 'max(B_lamss)': '-1.938797',\n",
      " 'min(B_lamss)': '-1.999353',\n",
      " 'n_complete': 0,\n",
      " 'n_deepen': 1,\n",
      " 'n_impossible': 0,\n",
      " 'n_processed': 3,\n",
      " 'n_refine': 1,\n",
      " 'runtime_cleanup': '0.413030',\n",
      " 'runtime_get_work': '0.471224',\n",
      " 'runtime_processing': '0.057985',\n",
      " 'runtime_refine_deepen': '0.097946',\n",
      " 'spread_tie': '0.003174',\n",
      " 'status': 'NEW_STEP',\n",
      " 'std_tie': '0.001068',\n",
      " 'step_id': 1,\n",
      " 'step_iter': 0,\n",
      " 'step_n_iter': 1,\n",
      " 'tie + slack': '0.025017',\n",
      " 'tie_{k}(lamss)': '0.012085',\n",
      " 'work_extraction_time': '1674150581.575732',\n",
      " 'worker_id': 1}\n",
      "DEBUG:confirm.cloud.clickhouse:get_work(step_id=2, step_iter=0)\n",
      "DEBUG:confirm.cloud.clickhouse:get_work(...) returned 3 tiles\n",
      "DEBUG:confirm.adagrid.calibration:{'K_distribution': {8192: 2, 16384: 1, 32768: 1},\n",
      " 'bias_tie': '-0.000415',\n",
      " 'converged': False,\n",
      " 'distributed_next_loop': 1,\n",
      " 'grid_cost': '0.007336',\n",
      " 'i': 2,\n",
      " 'lamss': '-1.963464',\n",
      " 'max(B_lamss)': '-1.935918',\n",
      " 'min(B_lamss)': '-1.978195',\n",
      " 'n_complete': 0,\n",
      " 'n_deepen': 2,\n",
      " 'n_impossible': 0,\n",
      " 'n_processed': 4,\n",
      " 'n_refine': 1,\n",
      " 'runtime_cleanup': '0.387435',\n",
      " 'runtime_get_work': '0.488402',\n",
      " 'runtime_processing': '0.119649',\n",
      " 'runtime_refine_deepen': '0.103262',\n",
      " 'spread_tie': '0.003052',\n",
      " 'status': 'NEW_STEP',\n",
      " 'std_tie': '0.001077',\n",
      " 'step_id': 2,\n",
      " 'step_iter': 0,\n",
      " 'step_n_iter': 1,\n",
      " 'tie + slack': '0.024377',\n",
      " 'tie_{k}(lamss)': '0.017456',\n",
      " 'work_extraction_time': '1674150582.627566',\n",
      " 'worker_id': 1}\n",
      "DEBUG:confirm.cloud.clickhouse:get_work(step_id=3, step_iter=0)\n",
      "DEBUG:confirm.cloud.clickhouse:get_work(...) returned 4 tiles\n",
      "DEBUG:confirm.adagrid.calibration:{'K_distribution': {8192: 2, 16384: 1, 32768: 1, 65536: 1},\n",
      " 'bias_tie': '-0.000366',\n",
      " 'converged': False,\n",
      " 'distributed_next_loop': 1,\n",
      " 'grid_cost': '0.003945',\n",
      " 'i': 3,\n",
      " 'lamss': '-1.959059',\n",
      " 'max(B_lamss)': '-1.918080',\n",
      " 'min(B_lamss)': '-1.986207',\n",
      " 'n_complete': 0,\n",
      " 'n_deepen': 3,\n",
      " 'n_impossible': 0,\n",
      " 'n_processed': 5,\n",
      " 'n_refine': 1,\n",
      " 'runtime_cleanup': '0.381473',\n",
      " 'runtime_get_work': '0.429823',\n",
      " 'runtime_processing': '0.199870',\n",
      " 'runtime_refine_deepen': '0.095753',\n",
      " 'spread_tie': '0.002808',\n",
      " 'status': 'NEW_STEP',\n",
      " 'std_tie': '0.001004',\n",
      " 'step_id': 3,\n",
      " 'step_iter': 0,\n",
      " 'step_n_iter': 1,\n",
      " 'tie + slack': '0.024452',\n",
      " 'tie_{k}(lamss)': '0.020874',\n",
      " 'work_extraction_time': '1674150583.681910',\n",
      " 'worker_id': 1}\n",
      "DEBUG:confirm.cloud.clickhouse:get_work(step_id=4, step_iter=0)\n",
      "DEBUG:confirm.cloud.clickhouse:get_work(...) returned 5 tiles\n",
      "WARNING:confirm.cloud.clickhouse:Worker 2 has been waiting for work for 3 iterations. This might indicate a bug.\n",
      "DEBUG:confirm.adagrid.calibration:{'K_distribution': {8192: 2, 16384: 1, 32768: 1, 65536: 1, 131072: 1},\n",
      " 'bias_tie': '-0.000317',\n",
      " 'converged': False,\n",
      " 'distributed_next_loop': 1,\n",
      " 'grid_cost': '0.002046',\n",
      " 'i': 4,\n",
      " 'lamss': '-1.944948',\n",
      " 'max(B_lamss)': '-1.920145',\n",
      " 'min(B_lamss)': '-1.959790',\n",
      " 'n_complete': 0,\n",
      " 'n_deepen': 4,\n",
      " 'n_impossible': 0,\n",
      " 'n_processed': 6,\n",
      " 'n_refine': 1,\n",
      " 'runtime_cleanup': '0.452358',\n",
      " 'runtime_get_work': '0.479129',\n",
      " 'runtime_processing': '0.439152',\n",
      " 'runtime_refine_deepen': '0.097484',\n",
      " 'spread_tie': '0.002319',\n",
      " 'status': 'NEW_STEP',\n",
      " 'std_tie': '0.000802',\n",
      " 'step_id': 4,\n",
      " 'step_iter': 0,\n",
      " 'step_n_iter': 1,\n",
      " 'tie + slack': '0.024555',\n",
      " 'tie_{k}(lamss)': '0.022827',\n",
      " 'work_extraction_time': '1674150584.834374',\n",
      " 'worker_id': 1}\n",
      "WARNING:confirm.cloud.clickhouse:Worker 2 has been waiting for work for 4 iterations. This might indicate a bug.\n",
      "DEBUG:confirm.cloud.clickhouse:get_work(step_id=5, step_iter=0)\n",
      "DEBUG:confirm.cloud.clickhouse:get_work(...) returned 6 tiles\n",
      "DEBUG:confirm.adagrid.calibration:{'K_distribution': {16384: 2, 32768: 1, 65536: 1, 131072: 3},\n",
      " 'bias_tie': '-0.000171',\n",
      " 'converged': False,\n",
      " 'distributed_next_loop': 1,\n",
      " 'grid_cost': '0.001042',\n",
      " 'i': 5,\n",
      " 'lamss': '-1.949910',\n",
      " 'max(B_lamss)': '-1.916039',\n",
      " 'min(B_lamss)': '-1.959244',\n",
      " 'n_complete': 0,\n",
      " 'n_deepen': 5,\n",
      " 'n_impossible': 0,\n",
      " 'n_processed': 7,\n",
      " 'n_refine': 1,\n",
      " 'runtime_cleanup': '0.453398',\n",
      " 'runtime_get_work': '0.473053',\n",
      " 'runtime_processing': '0.397245',\n",
      " 'runtime_refine_deepen': '0.095843',\n",
      " 'spread_tie': '0.002441',\n",
      " 'status': 'NEW_STEP',\n",
      " 'std_tie': '0.000841',\n",
      " 'step_id': 5,\n",
      " 'step_iter': 0,\n",
      " 'step_n_iter': 1,\n",
      " 'tie + slack': '0.024675',\n",
      " 'tie_{k}(lamss)': '0.023804',\n",
      " 'work_extraction_time': '1674150586.303089',\n",
      " 'worker_id': 1}\n",
      "WARNING:confirm.cloud.clickhouse:Worker 2 has been waiting for work for 5 iterations. This might indicate a bug.\n",
      "DEBUG:confirm.cloud.clickhouse:get_work(step_id=6, step_iter=0)\n",
      "DEBUG:confirm.cloud.clickhouse:get_work(...) returned 7 tiles\n",
      "DEBUG:confirm.adagrid.calibration:{'K_distribution': {16384: 2, 32768: 1, 65536: 1, 131072: 7},\n",
      " 'distributed_next_loop': 6,\n",
      " 'i': 0,\n",
      " 'n_complete': 0,\n",
      " 'n_deepen': 3,\n",
      " 'n_impossible': 0,\n",
      " 'n_processed': 11,\n",
      " 'n_refine': 4,\n",
      " 'runtime_cleanup': '0.384512',\n",
      " 'runtime_get_work': '7.669693',\n",
      " 'runtime_processing': '0.742395',\n",
      " 'runtime_refine_deepen': '0.146644',\n",
      " 'status': 'WORKING',\n",
      " 'step_id': 6,\n",
      " 'step_iter': 0,\n",
      " 'step_n_iter': 1,\n",
      " 'work_extraction_time': '1674150587.749412',\n",
      " 'worker_id': 2}\n",
      "DEBUG:confirm.cloud.clickhouse:get_work(step_id=7, step_iter=0)\n",
      "DEBUG:confirm.cloud.clickhouse:get_work(...) returned 6 tiles\n",
      "DEBUG:confirm.cloud.clickhouse:get_work(step_id=7, step_iter=1)\n",
      "DEBUG:confirm.cloud.clickhouse:get_work(...) returned 5 tiles\n",
      "DEBUG:confirm.adagrid.calibration:{'K_distribution': {16384: 2, 32768: 1, 131072: 5},\n",
      " 'bias_tie': '0.000415',\n",
      " 'converged': '0.000000',\n",
      " 'distributed_next_loop': 3,\n",
      " 'grid_cost': '0.001042',\n",
      " 'i': 6,\n",
      " 'lamss': '-1.953752',\n",
      " 'max(B_lamss)': '-1.936119',\n",
      " 'min(B_lamss)': '-1.978360',\n",
      " 'n_complete': 0,\n",
      " 'n_deepen': 2,\n",
      " 'n_impossible': 0,\n",
      " 'n_processed': 8,\n",
      " 'n_refine': 3,\n",
      " 'runtime_cleanup': '0.462882',\n",
      " 'runtime_get_work': '3.025668',\n",
      " 'runtime_processing': '0.555326',\n",
      " 'runtime_refine_deepen': '0.099061',\n",
      " 'spread_tie': '0.002441',\n",
      " 'status': 'NEW_STEP',\n",
      " 'std_tie': '0.000820',\n",
      " 'step_id': 7,\n",
      " 'step_iter': 1,\n",
      " 'step_n_iter': 2,\n",
      " 'tie + slack': '0.025322',\n",
      " 'tie_{k}(lamss)': '0.023865',\n",
      " 'work_extraction_time': '1674150590.273215',\n",
      " 'worker_id': 1}\n",
      "DEBUG:confirm.adagrid.calibration:{'K_distribution': {65536: 1, 131072: 10},\n",
      " 'bias_tie': '0.000366',\n",
      " 'converged': '0.000000',\n",
      " 'distributed_next_loop': 1,\n",
      " 'grid_cost': '0.000526',\n",
      " 'i': 1,\n",
      " 'lamss': '-1.953787',\n",
      " 'max(B_lamss)': '-1.929968',\n",
      " 'min(B_lamss)': '-1.978311',\n",
      " 'n_complete': 0,\n",
      " 'n_deepen': 1,\n",
      " 'n_impossible': 0,\n",
      " 'n_processed': 11,\n",
      " 'n_refine': 5,\n",
      " 'runtime_cleanup': '0.545001',\n",
      " 'runtime_get_work': '1.009251',\n",
      " 'runtime_processing': '0.810152',\n",
      " 'runtime_refine_deepen': '0.098294',\n",
      " 'spread_tie': '0.002747',\n",
      " 'status': 'NEW_STEP',\n",
      " 'std_tie': '0.000960',\n",
      " 'step_id': 7,\n",
      " 'step_iter': 0,\n",
      " 'step_n_iter': 2,\n",
      " 'tie + slack': '0.025306',\n",
      " 'tie_{k}(lamss)': '0.024414',\n",
      " 'work_extraction_time': '1674150590.024446',\n",
      " 'worker_id': 2}\n",
      "DEBUG:confirm.cloud.clickhouse:get_work(step_id=8, step_iter=0)\n",
      "DEBUG:confirm.cloud.clickhouse:get_work(...) returned 7 tiles\n",
      "DEBUG:confirm.cloud.clickhouse:get_work(step_id=8, step_iter=1)\n",
      "DEBUG:confirm.cloud.clickhouse:get_work(...) returned 6 tiles\n",
      "DEBUG:confirm.adagrid.calibration:{'K_distribution': {32768: 1, 65536: 1, 131072: 9},\n",
      " 'bias_tie': '0.000598',\n",
      " 'converged': '0.000000',\n",
      " 'distributed_next_loop': 2,\n",
      " 'grid_cost': '0.000264',\n",
      " 'i': 7,\n",
      " 'lamss': '-1.951419',\n",
      " 'max(B_lamss)': '-1.944253',\n",
      " 'min(B_lamss)': '-1.978410',\n",
      " 'n_complete': 0,\n",
      " 'n_deepen': 3,\n",
      " 'n_impossible': 0,\n",
      " 'n_processed': 11,\n",
      " 'n_refine': 4,\n",
      " 'runtime_cleanup': '0.424301',\n",
      " 'runtime_get_work': '1.785590',\n",
      " 'runtime_processing': '0.850517',\n",
      " 'runtime_refine_deepen': '0.100202',\n",
      " 'spread_tie': '0.002075',\n",
      " 'status': 'NEW_STEP',\n",
      " 'std_tie': '0.000722',\n",
      " 'step_id': 8,\n",
      " 'step_iter': 0,\n",
      " 'step_n_iter': 3,\n",
      " 'tie + slack': '0.025520',\n",
      " 'tie_{k}(lamss)': '0.024658',\n",
      " 'work_extraction_time': '1674150593.178962',\n",
      " 'worker_id': 1}\n",
      "DEBUG:confirm.cloud.clickhouse:get_work(step_id=8, step_iter=2)\n",
      "DEBUG:confirm.cloud.clickhouse:get_work(...) returned 6 tiles\n",
      "DEBUG:confirm.adagrid.calibration:{'K_distribution': {32768: 1, 131072: 10},\n",
      " 'distributed_next_loop': 1,\n",
      " 'i': 2,\n",
      " 'n_complete': 0,\n",
      " 'n_deepen': 1,\n",
      " 'n_impossible': 0,\n",
      " 'n_processed': 11,\n",
      " 'n_refine': 5,\n",
      " 'runtime_cleanup': '0.500628',\n",
      " 'runtime_get_work': '1.970522',\n",
      " 'runtime_processing': '0.763018',\n",
      " 'runtime_refine_deepen': '0.098895',\n",
      " 'status': 'WORKING',\n",
      " 'step_id': 8,\n",
      " 'step_iter': 1,\n",
      " 'step_n_iter': 3,\n",
      " 'work_extraction_time': '1674150593.453412',\n",
      " 'worker_id': 2}\n",
      "DEBUG:confirm.adagrid.calibration:{'K_distribution': {131072: 12},\n",
      " 'distributed_next_loop': 0,\n",
      " 'i': 8,\n",
      " 'n_complete': 0,\n",
      " 'n_deepen': 0,\n",
      " 'n_impossible': 0,\n",
      " 'n_processed': 12,\n",
      " 'n_refine': 6,\n",
      " 'runtime_cleanup': '0.327081',\n",
      " 'runtime_get_work': '0.117191',\n",
      " 'runtime_processing': '0.698971',\n",
      " 'runtime_refine_deepen': '0.105855',\n",
      " 'status': 'WORKING',\n",
      " 'step_id': 8,\n",
      " 'step_iter': 2,\n",
      " 'step_n_iter': 3,\n",
      " 'work_extraction_time': '1674150594.671127',\n",
      " 'worker_id': 1}\n",
      "DEBUG:confirm.adagrid.calibration:{'bias_tie': '0.000275',\n",
      " 'converged': True,\n",
      " 'distributed_next_loop': 0,\n",
      " 'grid_cost': '0.000264',\n",
      " 'i': 9,\n",
      " 'lamss': '-1.958524',\n",
      " 'max(B_lamss)': '-1.954118',\n",
      " 'min(B_lamss)': '-1.970356',\n",
      " 'runtime_get_work': '0.191709',\n",
      " 'spread_tie': '0.000824',\n",
      " 'status': 'CONVERGED',\n",
      " 'std_tie': '0.000301',\n",
      " 'step_id': 8,\n",
      " 'step_iter': 3,\n",
      " 'step_n_iter': 3,\n",
      " 'tie + slack': '0.025227',\n",
      " 'tie_{k}(lamss)': '0.024689',\n",
      " 'worker_id': 1}\n",
      "DEBUG:confirm.adagrid.calibration:{'bias_tie': '0.000275',\n",
      " 'converged': True,\n",
      " 'distributed_next_loop': 1,\n",
      " 'grid_cost': '0.000264',\n",
      " 'i': 3,\n",
      " 'lamss': '-1.958524',\n",
      " 'max(B_lamss)': '-1.954118',\n",
      " 'min(B_lamss)': '-1.970356',\n",
      " 'runtime_get_work': '1.408869',\n",
      " 'spread_tie': '0.000824',\n",
      " 'status': 'CONVERGED',\n",
      " 'std_tie': '0.000301',\n",
      " 'step_id': 8,\n",
      " 'step_iter': 3,\n",
      " 'step_n_iter': 3,\n",
      " 'tie + slack': '0.025227',\n",
      " 'tie_{k}(lamss)': '0.024689',\n",
      " 'worker_id': 2}\n"
     ]
    }
   ],
   "source": [
    "from concurrent.futures import ThreadPoolExecutor, wait\n",
    "def worker():\n",
    "    import confirm.adagrid as ada\n",
    "    import confirm.cloud.clickhouse as ch\n",
    "    from imprint.models.ztest import ZTest1D\n",
    "    db_w = ch.Clickhouse.connect(job_id='threaded')\n",
    "    return ada.ada_calibrate(ZTest1D, db=db_w, n_iter=100)[:2]\n",
    "\n",
    "with ThreadPoolExecutor(max_workers=2) as executor:\n",
    "    futures = [executor.submit(worker) for i in range(2)]\n",
    "    wait(futures)\n",
    "    outputs = [f.result() for f in futures]"
   ]
  },
  {
   "attachments": {},
   "cell_type": "markdown",
   "metadata": {},
   "source": [
    "## Run two distributed workers"
   ]
  },
  {
   "cell_type": "code",
   "execution_count": 19,
   "metadata": {},
   "outputs": [
    {
     "name": "stderr",
     "output_type": "stream",
     "text": [
      "INFO:confirm.cloud.clickhouse:Clickhouse config: default@t2n4z83v82.us-east-1.aws.clickhouse.cloud:8443/None\n",
      "INFO:confirm.cloud.clickhouse:Clickhouse config: default@t2n4z83v82.us-east-1.aws.clickhouse.cloud:8443/74b1caa58c6d4e31bef2252015710597\n",
      "INFO:confirm.cloud.clickhouse:Connected to job 74b1caa58c6d4e31bef2252015710597\n",
      "DEBUG:confirm.cloud.clickhouse:set_or_append(config) -> False None\n",
      "DEBUG:confirm.cloud.clickhouse:set(config) -> False config\n",
      "DEBUG:confirm.cloud.clickhouse:set(null_hypos) -> False null_hypos\n"
     ]
    }
   ],
   "source": [
    "g = ip.cartesian_grid(theta_min=[-1], theta_max=[1], null_hypos=[ip.hypo(\"x0 < 0\")])\n",
    "db_dist = ch.Clickhouse.connect()\n",
    "iter, reports, _ = ada.ada_calibrate(\n",
    "    ZTest1D,\n",
    "    g=g,\n",
    "    db=db_dist,\n",
    "    nB=5,\n",
    "    n_iter=0,\n",
    "    step_size=32,\n",
    "    packet_size=8,\n",
    "    grid_target=0.0003,\n",
    "    bias_target=0.0003,\n",
    ")"
   ]
  },
  {
   "cell_type": "code",
   "execution_count": 1,
   "metadata": {},
   "outputs": [
    {
     "data": {
      "application/vnd.jupyter.widget-view+json": {
       "model_id": "4bb35afc1732464b81481204ad190f77",
       "version_major": 2,
       "version_minor": 0
      },
      "text/plain": [
       "Output()"
      ]
     },
     "metadata": {},
     "output_type": "display_data"
    },
    {
     "data": {
      "text/html": [
       "<pre style=\"white-space:pre;overflow-x:auto;line-height:normal;font-family:Menlo,'DejaVu Sans Mono',consolas,'Courier New',monospace\"></pre>\n"
      ],
      "text/plain": []
     },
     "metadata": {},
     "output_type": "display_data"
    },
    {
     "data": {
      "text/html": [
       "<pre style=\"white-space:pre;overflow-x:auto;line-height:normal;font-family:Menlo,'DejaVu Sans Mono',consolas,'Courier New',monospace\"><span style=\"color: #008000; text-decoration-color: #008000\">✓</span> Initialized. <span style=\"color: #b2b2b2; text-decoration-color: #b2b2b2\">View app at </span><span style=\"color: #b2b2b2; text-decoration-color: #b2b2b2; text-decoration: underline\">https://modal.com/apps/ap-91UL1wwGpxqnsTy7zCuAjx</span>\n",
       "</pre>\n"
      ],
      "text/plain": [
       "\u001b[32m✓\u001b[0m Initialized. \u001b[38;5;249mView app at \u001b[0m\u001b[4;38;5;249mhttps://modal.com/apps/ap-91UL1wwGpxqnsTy7zCuAjx\u001b[0m\n"
      ]
     },
     "metadata": {},
     "output_type": "display_data"
    },
    {
     "data": {
      "application/vnd.jupyter.widget-view+json": {
       "model_id": "34483b5ee473418a86e6bb0d699a3b57",
       "version_major": 2,
       "version_minor": 0
      },
      "text/plain": [
       "Output()"
      ]
     },
     "metadata": {},
     "output_type": "display_data"
    },
    {
     "data": {
      "text/html": [
       "<pre style=\"white-space:pre;overflow-x:auto;line-height:normal;font-family:Menlo,'DejaVu Sans Mono',consolas,'Courier New',monospace\"></pre>\n"
      ],
      "text/plain": []
     },
     "metadata": {},
     "output_type": "display_data"
    },
    {
     "data": {
      "text/html": [
       "<pre style=\"white-space:pre;overflow-x:auto;line-height:normal;font-family:Menlo,'DejaVu Sans Mono',consolas,'Courier New',monospace\"><span style=\"color: #008000; text-decoration-color: #008000\">✓</span> Created objects.\n",
       "<span style=\"color: #808080; text-decoration-color: #808080\">├── </span><span style=\"color: #008000; text-decoration-color: #008000\">🔨</span> Created worker.\n",
       "<span style=\"color: #808080; text-decoration-color: #808080\">├── </span><span style=\"color: #008000; text-decoration-color: #008000\">🔨</span> Mounted /Users/tbent/confirm/confirmasaurus/confirm at /root/confirm\n",
       "<span style=\"color: #808080; text-decoration-color: #808080\">├── </span><span style=\"color: #008000; text-decoration-color: #008000\">🔨</span> Mounted /Users/tbent/confirm/confirmasaurus/confirm at /pkg/confirm\n",
       "<span style=\"color: #808080; text-decoration-color: #808080\">└── </span><span style=\"color: #008000; text-decoration-color: #008000\">🔨</span> Mounted /Users/tbent/confirm/confirmasaurus/imprint/imprint at /pkg/imprint\n",
       "</pre>\n"
      ],
      "text/plain": [
       "\u001b[32m✓\u001b[0m Created objects.\n",
       "\u001b[38;5;244m├── \u001b[0m\u001b[32m🔨\u001b[0m Created worker.\n",
       "\u001b[38;5;244m├── \u001b[0m\u001b[32m🔨\u001b[0m Mounted /Users/tbent/confirm/confirmasaurus/confirm at /root/confirm\n",
       "\u001b[38;5;244m├── \u001b[0m\u001b[32m🔨\u001b[0m Mounted /Users/tbent/confirm/confirmasaurus/confirm at /pkg/confirm\n",
       "\u001b[38;5;244m└── \u001b[0m\u001b[32m🔨\u001b[0m Mounted /Users/tbent/confirm/confirmasaurus/imprint/imprint at /pkg/imprint\n"
      ]
     },
     "metadata": {},
     "output_type": "display_data"
    },
    {
     "data": {
      "application/vnd.jupyter.widget-view+json": {
       "model_id": "5b0495bde088453487bbb88f3ee88d50",
       "version_major": 2,
       "version_minor": 0
      },
      "text/plain": [
       "Output()"
      ]
     },
     "metadata": {},
     "output_type": "display_data"
    },
    {
     "data": {
      "text/html": [
       "<pre style=\"white-space:pre;overflow-x:auto;line-height:normal;font-family:Menlo,'DejaVu Sans Mono',consolas,'Courier New',monospace\"><span style=\"color: #800000; text-decoration-color: #800000\">2023-01-19T17:52:04+0000 Clickhouse config: default@t2n4z83v82.us-east-1.aws.clickhouse.cloud:8443/None\n",
       "</span></pre>\n"
      ],
      "text/plain": [
       "\u001b[31m2023-01-19T17:52:04+0000 Clickhouse config: default@t2n4z83v82.us-east-1.aws.clickhouse.cloud:8443/None\n",
       "\u001b[0m"
      ]
     },
     "metadata": {},
     "output_type": "display_data"
    },
    {
     "data": {
      "text/html": [
       "<pre style=\"white-space:pre;overflow-x:auto;line-height:normal;font-family:Menlo,'DejaVu Sans Mono',consolas,'Courier New',monospace\"><span style=\"color: #800000; text-decoration-color: #800000\">2023-01-19T17:52:04+0000 Clickhouse config: default@t2n4z83v82.us-east-1.aws.clickhouse.cloud:8443/74b1caa58c6d4e31bef2252015710597\n",
       "</span></pre>\n"
      ],
      "text/plain": [
       "\u001b[31m2023-01-19T17:52:04+0000 Clickhouse config: default@t2n4z83v82.us-east-1.aws.clickhouse.cloud:8443/74b1caa58c6d4e31bef2252015710597\n",
       "\u001b[0m"
      ]
     },
     "metadata": {},
     "output_type": "display_data"
    },
    {
     "data": {
      "text/html": [
       "<pre style=\"white-space:pre;overflow-x:auto;line-height:normal;font-family:Menlo,'DejaVu Sans Mono',consolas,'Courier New',monospace\"><span style=\"color: #800000; text-decoration-color: #800000\">2023-01-19T17:52:04+0000 Connected to job 74b1caa58c6d4e31bef2252015710597\n",
       "</span></pre>\n"
      ],
      "text/plain": [
       "\u001b[31m2023-01-19T17:52:04+0000 Connected to job 74b1caa58c6d4e31bef2252015710597\n",
       "\u001b[0m"
      ]
     },
     "metadata": {},
     "output_type": "display_data"
    },
    {
     "data": {
      "text/html": [
       "<pre style=\"white-space:pre;overflow-x:auto;line-height:normal;font-family:Menlo,'DejaVu Sans Mono',consolas,'Courier New',monospace\"><span style=\"color: #800000; text-decoration-color: #800000\">2023-01-19T17:52:04+0000 get(config) -&gt; True config\n",
       "</span></pre>\n"
      ],
      "text/plain": [
       "\u001b[31m2023-01-19T17:52:04+0000 get(config) -> True config\n",
       "\u001b[0m"
      ]
     },
     "metadata": {},
     "output_type": "display_data"
    },
    {
     "data": {
      "text/html": [
       "<pre style=\"white-space:pre;overflow-x:auto;line-height:normal;font-family:Menlo,'DejaVu Sans Mono',consolas,'Courier New',monospace\"><span style=\"color: #800000; text-decoration-color: #800000\">2023-01-19T17:52:05+0000 Clickhouse config: default@t2n4z83v82.us-east-1.aws.clickhouse.cloud:8443/None\n",
       "</span></pre>\n"
      ],
      "text/plain": [
       "\u001b[31m2023-01-19T17:52:05+0000 Clickhouse config: default@t2n4z83v82.us-east-1.aws.clickhouse.cloud:8443/None\n",
       "\u001b[0m"
      ]
     },
     "metadata": {},
     "output_type": "display_data"
    },
    {
     "data": {
      "text/html": [
       "<pre style=\"white-space:pre;overflow-x:auto;line-height:normal;font-family:Menlo,'DejaVu Sans Mono',consolas,'Courier New',monospace\"><span style=\"color: #800000; text-decoration-color: #800000\">2023-01-19T17:52:05+0000 Clickhouse config: default@t2n4z83v82.us-east-1.aws.clickhouse.cloud:8443/74b1caa58c6d4e31bef2252015710597\n",
       "</span></pre>\n"
      ],
      "text/plain": [
       "\u001b[31m2023-01-19T17:52:05+0000 Clickhouse config: default@t2n4z83v82.us-east-1.aws.clickhouse.cloud:8443/74b1caa58c6d4e31bef2252015710597\n",
       "\u001b[0m"
      ]
     },
     "metadata": {},
     "output_type": "display_data"
    },
    {
     "data": {
      "text/html": [
       "<pre style=\"white-space:pre;overflow-x:auto;line-height:normal;font-family:Menlo,'DejaVu Sans Mono',consolas,'Courier New',monospace\"><span style=\"color: #800000; text-decoration-color: #800000\">2023-01-19T17:52:05+0000 Connected to job 74b1caa58c6d4e31bef2252015710597\n",
       "</span></pre>\n"
      ],
      "text/plain": [
       "\u001b[31m2023-01-19T17:52:05+0000 Connected to job 74b1caa58c6d4e31bef2252015710597\n",
       "\u001b[0m"
      ]
     },
     "metadata": {},
     "output_type": "display_data"
    },
    {
     "data": {
      "text/html": [
       "<pre style=\"white-space:pre;overflow-x:auto;line-height:normal;font-family:Menlo,'DejaVu Sans Mono',consolas,'Courier New',monospace\"><span style=\"color: #800000; text-decoration-color: #800000\">2023-01-19T17:52:05+0000 get(config) -&gt; True config\n",
       "</span></pre>\n"
      ],
      "text/plain": [
       "\u001b[31m2023-01-19T17:52:05+0000 get(config) -> True config\n",
       "\u001b[0m"
      ]
     },
     "metadata": {},
     "output_type": "display_data"
    },
    {
     "data": {
      "text/html": [
       "<pre style=\"white-space:pre;overflow-x:auto;line-height:normal;font-family:Menlo,'DejaVu Sans Mono',consolas,'Courier New',monospace\"><span style=\"color: #800000; text-decoration-color: #800000\">2023-01-19 17:52:06.516999: W external/org_tensorflow/tensorflow/tsl/platform/default/dso_loader.cc:66] Could not load dynamic library 'libcuda.so.1'; dlerror: libcuda.so.1: cannot open shared object file: No such file or directory; LD_LIBRARY_PATH: /usr/local/nvidia/lib:/usr/local/nvidia/lib64\n",
       "</span></pre>\n"
      ],
      "text/plain": [
       "\u001b[31m2023-01-19 17:52:06.516999: W external/org_tensorflow/tensorflow/tsl/platform/default/dso_loader.cc:66] Could not load dynamic library 'libcuda.so.1'; dlerror: libcuda.so.1: cannot open shared object file: No such file or directory; LD_LIBRARY_PATH: /usr/local/nvidia/lib:/usr/local/nvidia/lib64\n",
       "\u001b[0m"
      ]
     },
     "metadata": {},
     "output_type": "display_data"
    },
    {
     "data": {
      "text/html": [
       "<pre style=\"white-space:pre;overflow-x:auto;line-height:normal;font-family:Menlo,'DejaVu Sans Mono',consolas,'Courier New',monospace\"><span style=\"color: #800000; text-decoration-color: #800000\">2023-01-19 17:52:06.517029: W external/org_tensorflow/tensorflow/compiler/xla/stream_executor/cuda/cuda_driver.cc:265] failed call to cuInit: UNKNOWN ERROR (303)\n",
       "</span></pre>\n"
      ],
      "text/plain": [
       "\u001b[31m2023-01-19 17:52:06.517029: W external/org_tensorflow/tensorflow/compiler/xla/stream_executor/cuda/cuda_driver.cc:265] failed call to cuInit: UNKNOWN ERROR (303)\n",
       "\u001b[0m"
      ]
     },
     "metadata": {},
     "output_type": "display_data"
    },
    {
     "data": {
      "text/html": [
       "<pre style=\"white-space:pre;overflow-x:auto;line-height:normal;font-family:Menlo,'DejaVu Sans Mono',consolas,'Courier New',monospace\"><span style=\"color: #800000; text-decoration-color: #800000\">2023-01-19T17:52:06+0000 No GPU/TPU found, falling back to CPU. (Set TF_CPP_MIN_LOG_LEVEL=0 and rerun for more info.)\n",
       "</span></pre>\n"
      ],
      "text/plain": [
       "\u001b[31m2023-01-19T17:52:06+0000 No GPU/TPU found, falling back to CPU. (Set TF_CPP_MIN_LOG_LEVEL=0 and rerun for more info.)\n",
       "\u001b[0m"
      ]
     },
     "metadata": {},
     "output_type": "display_data"
    },
    {
     "data": {
      "text/html": [
       "<pre style=\"white-space:pre;overflow-x:auto;line-height:normal;font-family:Menlo,'DejaVu Sans Mono',consolas,'Courier New',monospace\"><span style=\"color: #800000; text-decoration-color: #800000\">2023-01-19T17:52:06+0000 set_or_append(config) -&gt; True config\n",
       "</span></pre>\n"
      ],
      "text/plain": [
       "\u001b[31m2023-01-19T17:52:06+0000 set_or_append(config) -> True config\n",
       "\u001b[0m"
      ]
     },
     "metadata": {},
     "output_type": "display_data"
    },
    {
     "data": {
      "text/html": [
       "<pre style=\"white-space:pre;overflow-x:auto;line-height:normal;font-family:Menlo,'DejaVu Sans Mono',consolas,'Courier New',monospace\"><span style=\"color: #800000; text-decoration-color: #800000\">2023-01-19 17:52:06.825704: W external/org_tensorflow/tensorflow/tsl/platform/default/dso_loader.cc:66] Could not load dynamic library 'libcuda.so.1'; dlerror: libcuda.so.1: cannot open shared object file: No such file or directory; LD_LIBRARY_PATH: /usr/local/nvidia/lib:/usr/local/nvidia/lib64\n",
       "</span></pre>\n"
      ],
      "text/plain": [
       "\u001b[31m2023-01-19 17:52:06.825704: W external/org_tensorflow/tensorflow/tsl/platform/default/dso_loader.cc:66] Could not load dynamic library 'libcuda.so.1'; dlerror: libcuda.so.1: cannot open shared object file: No such file or directory; LD_LIBRARY_PATH: /usr/local/nvidia/lib:/usr/local/nvidia/lib64\n",
       "\u001b[0m"
      ]
     },
     "metadata": {},
     "output_type": "display_data"
    },
    {
     "data": {
      "text/html": [
       "<pre style=\"white-space:pre;overflow-x:auto;line-height:normal;font-family:Menlo,'DejaVu Sans Mono',consolas,'Courier New',monospace\"><span style=\"color: #800000; text-decoration-color: #800000\">2023-01-19 17:52:06.825734: W external/org_tensorflow/tensorflow/compiler/xla/stream_executor/cuda/cuda_driver.cc:265] failed call to cuInit: UNKNOWN ERROR (303)\n",
       "</span></pre>\n"
      ],
      "text/plain": [
       "\u001b[31m2023-01-19 17:52:06.825734: W external/org_tensorflow/tensorflow/compiler/xla/stream_executor/cuda/cuda_driver.cc:265] failed call to cuInit: UNKNOWN ERROR (303)\n",
       "\u001b[0m"
      ]
     },
     "metadata": {},
     "output_type": "display_data"
    },
    {
     "data": {
      "text/html": [
       "<pre style=\"white-space:pre;overflow-x:auto;line-height:normal;font-family:Menlo,'DejaVu Sans Mono',consolas,'Courier New',monospace\"><span style=\"color: #800000; text-decoration-color: #800000\">2023-01-19T17:52:06+0000 No GPU/TPU found, falling back to CPU. (Set TF_CPP_MIN_LOG_LEVEL=0 and rerun for more info.)\n",
       "</span></pre>\n"
      ],
      "text/plain": [
       "\u001b[31m2023-01-19T17:52:06+0000 No GPU/TPU found, falling back to CPU. (Set TF_CPP_MIN_LOG_LEVEL=0 and rerun for more info.)\n",
       "\u001b[0m"
      ]
     },
     "metadata": {},
     "output_type": "display_data"
    },
    {
     "data": {
      "text/html": [
       "<pre style=\"white-space:pre;overflow-x:auto;line-height:normal;font-family:Menlo,'DejaVu Sans Mono',consolas,'Courier New',monospace\"><span style=\"color: #800000; text-decoration-color: #800000\">2023-01-19T17:52:06+0000 set_or_append(config) -&gt; True config\n",
       "</span></pre>\n"
      ],
      "text/plain": [
       "\u001b[31m2023-01-19T17:52:06+0000 set_or_append(config) -> True config\n",
       "\u001b[0m"
      ]
     },
     "metadata": {},
     "output_type": "display_data"
    },
    {
     "data": {
      "text/html": [
       "<pre style=\"white-space:pre;overflow-x:auto;line-height:normal;font-family:Menlo,'DejaVu Sans Mono',consolas,'Courier New',monospace\"><span style=\"color: #800000; text-decoration-color: #800000\">2023-01-19T17:52:07+0000 get(null_hypos) -&gt; True null_hypos\n",
       "</span></pre>\n"
      ],
      "text/plain": [
       "\u001b[31m2023-01-19T17:52:07+0000 get(null_hypos) -> True null_hypos\n",
       "\u001b[0m"
      ]
     },
     "metadata": {},
     "output_type": "display_data"
    },
    {
     "data": {
      "text/html": [
       "<pre style=\"white-space:pre;overflow-x:auto;line-height:normal;font-family:Menlo,'DejaVu Sans Mono',consolas,'Courier New',monospace\"><span style=\"color: #800000; text-decoration-color: #800000\">2023-01-19T17:52:07+0000 get(null_hypos) -&gt; True null_hypos\n",
       "</span></pre>\n"
      ],
      "text/plain": [
       "\u001b[31m2023-01-19T17:52:07+0000 get(null_hypos) -> True null_hypos\n",
       "\u001b[0m"
      ]
     },
     "metadata": {},
     "output_type": "display_data"
    },
    {
     "data": {
      "text/html": [
       "<pre style=\"white-space:pre;overflow-x:auto;line-height:normal;font-family:Menlo,'DejaVu Sans Mono',consolas,'Courier New',monospace\"><span style=\"color: #800000; text-decoration-color: #800000\">2023-01-19T17:52:09+0000 get_work(step_id=0, step_iter=0)\n",
       "</span></pre>\n"
      ],
      "text/plain": [
       "\u001b[31m2023-01-19T17:52:09+0000 get_work(step_id=0, step_iter=0)\n",
       "\u001b[0m"
      ]
     },
     "metadata": {},
     "output_type": "display_data"
    },
    {
     "data": {
      "text/html": [
       "<pre style=\"white-space:pre;overflow-x:auto;line-height:normal;font-family:Menlo,'DejaVu Sans Mono',consolas,'Courier New',monospace\"><span style=\"color: #800000; text-decoration-color: #800000\">2023-01-19T17:52:09+0000 get_work(...) returned 1 tiles\n",
       "</span></pre>\n"
      ],
      "text/plain": [
       "\u001b[31m2023-01-19T17:52:09+0000 get_work(...) returned 1 tiles\n",
       "\u001b[0m"
      ]
     },
     "metadata": {},
     "output_type": "display_data"
    },
    {
     "data": {
      "text/html": [
       "<pre style=\"white-space:pre;overflow-x:auto;line-height:normal;font-family:Menlo,'DejaVu Sans Mono',consolas,'Courier New',monospace\"><span style=\"color: #800000; text-decoration-color: #800000\">2023-01-19T17:52:10+0000 {'K_distribution': {8192: 2},\n",
       "</span></pre>\n"
      ],
      "text/plain": [
       "\u001b[31m2023-01-19T17:52:10+0000 {'K_distribution': {8192: 2},\n",
       "\u001b[0m"
      ]
     },
     "metadata": {},
     "output_type": "display_data"
    },
    {
     "data": {
      "text/html": [
       "<pre style=\"white-space:pre;overflow-x:auto;line-height:normal;font-family:Menlo,'DejaVu Sans Mono',consolas,'Courier New',monospace\"><span style=\"color: #800000; text-decoration-color: #800000\"> 'bias_tie': '-0.000024',\n",
       "</span></pre>\n"
      ],
      "text/plain": [
       "\u001b[31m 'bias_tie': '-0.000024',\n",
       "\u001b[0m"
      ]
     },
     "metadata": {},
     "output_type": "display_data"
    },
    {
     "data": {
      "text/html": [
       "<pre style=\"white-space:pre;overflow-x:auto;line-height:normal;font-family:Menlo,'DejaVu Sans Mono',consolas,'Courier New',monospace\"><span style=\"color: #800000; text-decoration-color: #800000\"> 'converged': False,\n",
       "</span></pre>\n"
      ],
      "text/plain": [
       "\u001b[31m 'converged': False,\n",
       "\u001b[0m"
      ]
     },
     "metadata": {},
     "output_type": "display_data"
    },
    {
     "data": {
      "text/html": [
       "<pre style=\"white-space:pre;overflow-x:auto;line-height:normal;font-family:Menlo,'DejaVu Sans Mono',consolas,'Courier New',monospace\"><span style=\"color: #800000; text-decoration-color: #800000\"> 'distributed_next_loop': 1,\n",
       "</span></pre>\n"
      ],
      "text/plain": [
       "\u001b[31m 'distributed_next_loop': 1,\n",
       "\u001b[0m"
      ]
     },
     "metadata": {},
     "output_type": "display_data"
    },
    {
     "data": {
      "text/html": [
       "<pre style=\"white-space:pre;overflow-x:auto;line-height:normal;font-family:Menlo,'DejaVu Sans Mono',consolas,'Courier New',monospace\"><span style=\"color: #800000; text-decoration-color: #800000\"> 'grid_cost': '0.019327',\n",
       "</span></pre>\n"
      ],
      "text/plain": [
       "\u001b[31m 'grid_cost': '0.019327',\n",
       "\u001b[0m"
      ]
     },
     "metadata": {},
     "output_type": "display_data"
    },
    {
     "data": {
      "text/html": [
       "<pre style=\"white-space:pre;overflow-x:auto;line-height:normal;font-family:Menlo,'DejaVu Sans Mono',consolas,'Courier New',monospace\"><span style=\"color: #800000; text-decoration-color: #800000\"> 'i': 0,\n",
       "</span></pre>\n"
      ],
      "text/plain": [
       "\u001b[31m 'i': 0,\n",
       "\u001b[0m"
      ]
     },
     "metadata": {},
     "output_type": "display_data"
    },
    {
     "data": {
      "text/html": [
       "<pre style=\"white-space:pre;overflow-x:auto;line-height:normal;font-family:Menlo,'DejaVu Sans Mono',consolas,'Courier New',monospace\"><span style=\"color: #800000; text-decoration-color: #800000\"> 'lamss': '-1.985793',\n",
       "</span></pre>\n"
      ],
      "text/plain": [
       "\u001b[31m 'lamss': '-1.985793',\n",
       "\u001b[0m"
      ]
     },
     "metadata": {},
     "output_type": "display_data"
    },
    {
     "data": {
      "text/html": [
       "<pre style=\"white-space:pre;overflow-x:auto;line-height:normal;font-family:Menlo,'DejaVu Sans Mono',consolas,'Courier New',monospace\"><span style=\"color: #800000; text-decoration-color: #800000\"> 'max(B_lamss)': '-1.887401',\n",
       "</span></pre>\n"
      ],
      "text/plain": [
       "\u001b[31m 'max(B_lamss)': '-1.887401',\n",
       "\u001b[0m"
      ]
     },
     "metadata": {},
     "output_type": "display_data"
    },
    {
     "data": {
      "text/html": [
       "<pre style=\"white-space:pre;overflow-x:auto;line-height:normal;font-family:Menlo,'DejaVu Sans Mono',consolas,'Courier New',monospace\"><span style=\"color: #800000; text-decoration-color: #800000\"> 'min(B_lamss)': '-2.031679',\n",
       "</span></pre>\n"
      ],
      "text/plain": [
       "\u001b[31m 'min(B_lamss)': '-2.031679',\n",
       "\u001b[0m"
      ]
     },
     "metadata": {},
     "output_type": "display_data"
    },
    {
     "data": {
      "text/html": [
       "<pre style=\"white-space:pre;overflow-x:auto;line-height:normal;font-family:Menlo,'DejaVu Sans Mono',consolas,'Courier New',monospace\"><span style=\"color: #800000; text-decoration-color: #800000\"> 'n_complete': 0,\n",
       "</span></pre>\n"
      ],
      "text/plain": [
       "\u001b[31m 'n_complete': 0,\n",
       "\u001b[0m"
      ]
     },
     "metadata": {},
     "output_type": "display_data"
    },
    {
     "data": {
      "text/html": [
       "<pre style=\"white-space:pre;overflow-x:auto;line-height:normal;font-family:Menlo,'DejaVu Sans Mono',consolas,'Courier New',monospace\"><span style=\"color: #800000; text-decoration-color: #800000\"> 'n_deepen': 0,\n",
       "</span></pre>\n"
      ],
      "text/plain": [
       "\u001b[31m 'n_deepen': 0,\n",
       "\u001b[0m"
      ]
     },
     "metadata": {},
     "output_type": "display_data"
    },
    {
     "data": {
      "text/html": [
       "<pre style=\"white-space:pre;overflow-x:auto;line-height:normal;font-family:Menlo,'DejaVu Sans Mono',consolas,'Courier New',monospace\"><span style=\"color: #800000; text-decoration-color: #800000\"> 'n_impossible': 0,\n",
       "</span></pre>\n"
      ],
      "text/plain": [
       "\u001b[31m 'n_impossible': 0,\n",
       "\u001b[0m"
      ]
     },
     "metadata": {},
     "output_type": "display_data"
    },
    {
     "data": {
      "text/html": [
       "<pre style=\"white-space:pre;overflow-x:auto;line-height:normal;font-family:Menlo,'DejaVu Sans Mono',consolas,'Courier New',monospace\"><span style=\"color: #800000; text-decoration-color: #800000\"> 'n_processed': 2,\n",
       "</span></pre>\n"
      ],
      "text/plain": [
       "\u001b[31m 'n_processed': 2,\n",
       "\u001b[0m"
      ]
     },
     "metadata": {},
     "output_type": "display_data"
    },
    {
     "data": {
      "text/html": [
       "<pre style=\"white-space:pre;overflow-x:auto;line-height:normal;font-family:Menlo,'DejaVu Sans Mono',consolas,'Courier New',monospace\"><span style=\"color: #800000; text-decoration-color: #800000\"> 'n_refine': 1,\n",
       "</span></pre>\n"
      ],
      "text/plain": [
       "\u001b[31m 'n_refine': 1,\n",
       "\u001b[0m"
      ]
     },
     "metadata": {},
     "output_type": "display_data"
    },
    {
     "data": {
      "text/html": [
       "<pre style=\"white-space:pre;overflow-x:auto;line-height:normal;font-family:Menlo,'DejaVu Sans Mono',consolas,'Courier New',monospace\"><span style=\"color: #800000; text-decoration-color: #800000\"> 'runtime_cleanup': '0.361115',\n",
       "</span></pre>\n"
      ],
      "text/plain": [
       "\u001b[31m 'runtime_cleanup': '0.361115',\n",
       "\u001b[0m"
      ]
     },
     "metadata": {},
     "output_type": "display_data"
    },
    {
     "data": {
      "text/html": [
       "<pre style=\"white-space:pre;overflow-x:auto;line-height:normal;font-family:Menlo,'DejaVu Sans Mono',consolas,'Courier New',monospace\"><span style=\"color: #800000; text-decoration-color: #800000\"> 'runtime_get_work': '0.423074',\n",
       "</span></pre>\n"
      ],
      "text/plain": [
       "\u001b[31m 'runtime_get_work': '0.423074',\n",
       "\u001b[0m"
      ]
     },
     "metadata": {},
     "output_type": "display_data"
    },
    {
     "data": {
      "text/html": [
       "<pre style=\"white-space:pre;overflow-x:auto;line-height:normal;font-family:Menlo,'DejaVu Sans Mono',consolas,'Courier New',monospace\"><span style=\"color: #800000; text-decoration-color: #800000\"> 'runtime_processing': '0.214608',\n",
       "</span></pre>\n"
      ],
      "text/plain": [
       "\u001b[31m 'runtime_processing': '0.214608',\n",
       "\u001b[0m"
      ]
     },
     "metadata": {},
     "output_type": "display_data"
    },
    {
     "data": {
      "text/html": [
       "<pre style=\"white-space:pre;overflow-x:auto;line-height:normal;font-family:Menlo,'DejaVu Sans Mono',consolas,'Courier New',monospace\"><span style=\"color: #800000; text-decoration-color: #800000\"> 'runtime_refine_deepen': '0.241845',\n",
       "</span></pre>\n"
      ],
      "text/plain": [
       "\u001b[31m 'runtime_refine_deepen': '0.241845',\n",
       "\u001b[0m"
      ]
     },
     "metadata": {},
     "output_type": "display_data"
    },
    {
     "data": {
      "text/html": [
       "<pre style=\"white-space:pre;overflow-x:auto;line-height:normal;font-family:Menlo,'DejaVu Sans Mono',consolas,'Courier New',monospace\"><span style=\"color: #800000; text-decoration-color: #800000\"> 'spread_tie': '0.001587',\n",
       "</span></pre>\n"
      ],
      "text/plain": [
       "\u001b[31m 'spread_tie': '0.001587',\n",
       "\u001b[0m"
      ]
     },
     "metadata": {},
     "output_type": "display_data"
    },
    {
     "data": {
      "text/html": [
       "<pre style=\"white-space:pre;overflow-x:auto;line-height:normal;font-family:Menlo,'DejaVu Sans Mono',consolas,'Courier New',monospace\"><span style=\"color: #800000; text-decoration-color: #800000\"> 'status': 'NEW_STEP',\n",
       "</span></pre>\n"
      ],
      "text/plain": [
       "\u001b[31m 'status': 'NEW_STEP',\n",
       "\u001b[0m"
      ]
     },
     "metadata": {},
     "output_type": "display_data"
    },
    {
     "data": {
      "text/html": [
       "<pre style=\"white-space:pre;overflow-x:auto;line-height:normal;font-family:Menlo,'DejaVu Sans Mono',consolas,'Courier New',monospace\"><span style=\"color: #800000; text-decoration-color: #800000\"> 'std_tie': '0.000552',\n",
       "</span></pre>\n"
      ],
      "text/plain": [
       "\u001b[31m 'std_tie': '0.000552',\n",
       "\u001b[0m"
      ]
     },
     "metadata": {},
     "output_type": "display_data"
    },
    {
     "data": {
      "text/html": [
       "<pre style=\"white-space:pre;overflow-x:auto;line-height:normal;font-family:Menlo,'DejaVu Sans Mono',consolas,'Courier New',monospace\"><span style=\"color: #800000; text-decoration-color: #800000\"> 'step_id': 0,\n",
       "</span></pre>\n"
      ],
      "text/plain": [
       "\u001b[31m 'step_id': 0,\n",
       "\u001b[0m"
      ]
     },
     "metadata": {},
     "output_type": "display_data"
    },
    {
     "data": {
      "text/html": [
       "<pre style=\"white-space:pre;overflow-x:auto;line-height:normal;font-family:Menlo,'DejaVu Sans Mono',consolas,'Courier New',monospace\"><span style=\"color: #800000; text-decoration-color: #800000\"> 'step_iter': 0,\n",
       "</span></pre>\n"
      ],
      "text/plain": [
       "\u001b[31m 'step_iter': 0,\n",
       "\u001b[0m"
      ]
     },
     "metadata": {},
     "output_type": "display_data"
    },
    {
     "data": {
      "text/html": [
       "<pre style=\"white-space:pre;overflow-x:auto;line-height:normal;font-family:Menlo,'DejaVu Sans Mono',consolas,'Courier New',monospace\"><span style=\"color: #800000; text-decoration-color: #800000\"> 'step_n_iter': 1,\n",
       "</span></pre>\n"
      ],
      "text/plain": [
       "\u001b[31m 'step_n_iter': 1,\n",
       "\u001b[0m"
      ]
     },
     "metadata": {},
     "output_type": "display_data"
    },
    {
     "data": {
      "text/html": [
       "<pre style=\"white-space:pre;overflow-x:auto;line-height:normal;font-family:Menlo,'DejaVu Sans Mono',consolas,'Courier New',monospace\"><span style=\"color: #800000; text-decoration-color: #800000\"> 'tie + slack': '0.024795',\n",
       "</span></pre>\n"
      ],
      "text/plain": [
       "\u001b[31m 'tie + slack': '0.024795',\n",
       "\u001b[0m"
      ]
     },
     "metadata": {},
     "output_type": "display_data"
    },
    {
     "data": {
      "text/html": [
       "<pre style=\"white-space:pre;overflow-x:auto;line-height:normal;font-family:Menlo,'DejaVu Sans Mono',consolas,'Courier New',monospace\"><span style=\"color: #800000; text-decoration-color: #800000\"> 'tie_{k}(lamss)': '0.005493',\n",
       "</span></pre>\n"
      ],
      "text/plain": [
       "\u001b[31m 'tie_{k}(lamss)': '0.005493',\n",
       "\u001b[0m"
      ]
     },
     "metadata": {},
     "output_type": "display_data"
    },
    {
     "data": {
      "text/html": [
       "<pre style=\"white-space:pre;overflow-x:auto;line-height:normal;font-family:Menlo,'DejaVu Sans Mono',consolas,'Courier New',monospace\"><span style=\"color: #800000; text-decoration-color: #800000\"> 'work_extraction_time': '1674150729.521951',\n",
       "</span></pre>\n"
      ],
      "text/plain": [
       "\u001b[31m 'work_extraction_time': '1674150729.521951',\n",
       "\u001b[0m"
      ]
     },
     "metadata": {},
     "output_type": "display_data"
    },
    {
     "data": {
      "text/html": [
       "<pre style=\"white-space:pre;overflow-x:auto;line-height:normal;font-family:Menlo,'DejaVu Sans Mono',consolas,'Courier New',monospace\"><span style=\"color: #800000; text-decoration-color: #800000\"> 'worker_id': 1}\n",
       "</span></pre>\n"
      ],
      "text/plain": [
       "\u001b[31m 'worker_id': 1}\n",
       "\u001b[0m"
      ]
     },
     "metadata": {},
     "output_type": "display_data"
    },
    {
     "data": {
      "text/html": [
       "<pre style=\"white-space:pre;overflow-x:auto;line-height:normal;font-family:Menlo,'DejaVu Sans Mono',consolas,'Courier New',monospace\"><span style=\"color: #800000; text-decoration-color: #800000\">2023-01-19T17:52:10+0000 get_work(step_id=1, step_iter=0)\n",
       "</span></pre>\n"
      ],
      "text/plain": [
       "\u001b[31m2023-01-19T17:52:10+0000 get_work(step_id=1, step_iter=0)\n",
       "\u001b[0m"
      ]
     },
     "metadata": {},
     "output_type": "display_data"
    },
    {
     "data": {
      "text/html": [
       "<pre style=\"white-space:pre;overflow-x:auto;line-height:normal;font-family:Menlo,'DejaVu Sans Mono',consolas,'Courier New',monospace\"><span style=\"color: #800000; text-decoration-color: #800000\">2023-01-19T17:52:10+0000 get_work(...) returned 2 tiles\n",
       "</span></pre>\n"
      ],
      "text/plain": [
       "\u001b[31m2023-01-19T17:52:10+0000 get_work(...) returned 2 tiles\n",
       "\u001b[0m"
      ]
     },
     "metadata": {},
     "output_type": "display_data"
    },
    {
     "data": {
      "text/html": [
       "<pre style=\"white-space:pre;overflow-x:auto;line-height:normal;font-family:Menlo,'DejaVu Sans Mono',consolas,'Courier New',monospace\"><span style=\"color: #800000; text-decoration-color: #800000\">2023-01-19T17:52:11+0000 {'K_distribution': {8192: 2, 16384: 1},\n",
       "</span></pre>\n"
      ],
      "text/plain": [
       "\u001b[31m2023-01-19T17:52:11+0000 {'K_distribution': {8192: 2, 16384: 1},\n",
       "\u001b[0m"
      ]
     },
     "metadata": {},
     "output_type": "display_data"
    },
    {
     "data": {
      "text/html": [
       "<pre style=\"white-space:pre;overflow-x:auto;line-height:normal;font-family:Menlo,'DejaVu Sans Mono',consolas,'Courier New',monospace\"><span style=\"color: #800000; text-decoration-color: #800000\"> 'bias_tie': '0.000220',\n",
       "</span></pre>\n"
      ],
      "text/plain": [
       "\u001b[31m 'bias_tie': '0.000220',\n",
       "\u001b[0m"
      ]
     },
     "metadata": {},
     "output_type": "display_data"
    },
    {
     "data": {
      "text/html": [
       "<pre style=\"white-space:pre;overflow-x:auto;line-height:normal;font-family:Menlo,'DejaVu Sans Mono',consolas,'Courier New',monospace\"><span style=\"color: #800000; text-decoration-color: #800000\"> 'converged': False,\n",
       "</span></pre>\n"
      ],
      "text/plain": [
       "\u001b[31m 'converged': False,\n",
       "\u001b[0m"
      ]
     },
     "metadata": {},
     "output_type": "display_data"
    },
    {
     "data": {
      "text/html": [
       "<pre style=\"white-space:pre;overflow-x:auto;line-height:normal;font-family:Menlo,'DejaVu Sans Mono',consolas,'Courier New',monospace\"><span style=\"color: #800000; text-decoration-color: #800000\"> 'distributed_next_loop': 1,\n",
       "</span></pre>\n"
      ],
      "text/plain": [
       "\u001b[31m 'distributed_next_loop': 1,\n",
       "\u001b[0m"
      ]
     },
     "metadata": {},
     "output_type": "display_data"
    },
    {
     "data": {
      "text/html": [
       "<pre style=\"white-space:pre;overflow-x:auto;line-height:normal;font-family:Menlo,'DejaVu Sans Mono',consolas,'Courier New',monospace\"><span style=\"color: #800000; text-decoration-color: #800000\"> 'grid_cost': '0.012713',\n",
       "</span></pre>\n"
      ],
      "text/plain": [
       "\u001b[31m 'grid_cost': '0.012713',\n",
       "\u001b[0m"
      ]
     },
     "metadata": {},
     "output_type": "display_data"
    },
    {
     "data": {
      "text/html": [
       "<pre style=\"white-space:pre;overflow-x:auto;line-height:normal;font-family:Menlo,'DejaVu Sans Mono',consolas,'Courier New',monospace\"><span style=\"color: #800000; text-decoration-color: #800000\"> 'i': 1,\n",
       "</span></pre>\n"
      ],
      "text/plain": [
       "\u001b[31m 'i': 1,\n",
       "\u001b[0m"
      ]
     },
     "metadata": {},
     "output_type": "display_data"
    },
    {
     "data": {
      "text/html": [
       "<pre style=\"white-space:pre;overflow-x:auto;line-height:normal;font-family:Menlo,'DejaVu Sans Mono',consolas,'Courier New',monospace\"><span style=\"color: #800000; text-decoration-color: #800000\"> 'lamss': '-1.954579',\n",
       "</span></pre>\n"
      ],
      "text/plain": [
       "\u001b[31m 'lamss': '-1.954579',\n",
       "\u001b[0m"
      ]
     },
     "metadata": {},
     "output_type": "display_data"
    },
    {
     "data": {
      "text/html": [
       "<pre style=\"white-space:pre;overflow-x:auto;line-height:normal;font-family:Menlo,'DejaVu Sans Mono',consolas,'Courier New',monospace\"><span style=\"color: #800000; text-decoration-color: #800000\"> 'max(B_lamss)': '-1.938797',\n",
       "</span></pre>\n"
      ],
      "text/plain": [
       "\u001b[31m 'max(B_lamss)': '-1.938797',\n",
       "\u001b[0m"
      ]
     },
     "metadata": {},
     "output_type": "display_data"
    },
    {
     "data": {
      "text/html": [
       "<pre style=\"white-space:pre;overflow-x:auto;line-height:normal;font-family:Menlo,'DejaVu Sans Mono',consolas,'Courier New',monospace\"><span style=\"color: #800000; text-decoration-color: #800000\"> 'min(B_lamss)': '-1.999353',\n",
       "</span></pre>\n"
      ],
      "text/plain": [
       "\u001b[31m 'min(B_lamss)': '-1.999353',\n",
       "\u001b[0m"
      ]
     },
     "metadata": {},
     "output_type": "display_data"
    },
    {
     "data": {
      "text/html": [
       "<pre style=\"white-space:pre;overflow-x:auto;line-height:normal;font-family:Menlo,'DejaVu Sans Mono',consolas,'Courier New',monospace\"><span style=\"color: #800000; text-decoration-color: #800000\"> 'n_complete': 0,\n",
       "</span></pre>\n"
      ],
      "text/plain": [
       "\u001b[31m 'n_complete': 0,\n",
       "\u001b[0m"
      ]
     },
     "metadata": {},
     "output_type": "display_data"
    },
    {
     "data": {
      "text/html": [
       "<pre style=\"white-space:pre;overflow-x:auto;line-height:normal;font-family:Menlo,'DejaVu Sans Mono',consolas,'Courier New',monospace\"><span style=\"color: #800000; text-decoration-color: #800000\"> 'n_deepen': 1,\n",
       "</span></pre>\n"
      ],
      "text/plain": [
       "\u001b[31m 'n_deepen': 1,\n",
       "\u001b[0m"
      ]
     },
     "metadata": {},
     "output_type": "display_data"
    },
    {
     "data": {
      "text/html": [
       "<pre style=\"white-space:pre;overflow-x:auto;line-height:normal;font-family:Menlo,'DejaVu Sans Mono',consolas,'Courier New',monospace\"><span style=\"color: #800000; text-decoration-color: #800000\"> 'n_impossible': 0,\n",
       "</span></pre>\n"
      ],
      "text/plain": [
       "\u001b[31m 'n_impossible': 0,\n",
       "\u001b[0m"
      ]
     },
     "metadata": {},
     "output_type": "display_data"
    },
    {
     "data": {
      "text/html": [
       "<pre style=\"white-space:pre;overflow-x:auto;line-height:normal;font-family:Menlo,'DejaVu Sans Mono',consolas,'Courier New',monospace\"><span style=\"color: #800000; text-decoration-color: #800000\"> 'n_processed': 3,\n",
       "</span></pre>\n"
      ],
      "text/plain": [
       "\u001b[31m 'n_processed': 3,\n",
       "\u001b[0m"
      ]
     },
     "metadata": {},
     "output_type": "display_data"
    },
    {
     "data": {
      "text/html": [
       "<pre style=\"white-space:pre;overflow-x:auto;line-height:normal;font-family:Menlo,'DejaVu Sans Mono',consolas,'Courier New',monospace\"><span style=\"color: #800000; text-decoration-color: #800000\"> 'n_refine': 1,\n",
       "</span></pre>\n"
      ],
      "text/plain": [
       "\u001b[31m 'n_refine': 1,\n",
       "\u001b[0m"
      ]
     },
     "metadata": {},
     "output_type": "display_data"
    },
    {
     "data": {
      "text/html": [
       "<pre style=\"white-space:pre;overflow-x:auto;line-height:normal;font-family:Menlo,'DejaVu Sans Mono',consolas,'Courier New',monospace\"><span style=\"color: #800000; text-decoration-color: #800000\"> 'runtime_cleanup': '0.355302',\n",
       "</span></pre>\n"
      ],
      "text/plain": [
       "\u001b[31m 'runtime_cleanup': '0.355302',\n",
       "\u001b[0m"
      ]
     },
     "metadata": {},
     "output_type": "display_data"
    },
    {
     "data": {
      "text/html": [
       "<pre style=\"white-space:pre;overflow-x:auto;line-height:normal;font-family:Menlo,'DejaVu Sans Mono',consolas,'Courier New',monospace\"><span style=\"color: #800000; text-decoration-color: #800000\"> 'runtime_get_work': '0.286665',\n",
       "</span></pre>\n"
      ],
      "text/plain": [
       "\u001b[31m 'runtime_get_work': '0.286665',\n",
       "\u001b[0m"
      ]
     },
     "metadata": {},
     "output_type": "display_data"
    },
    {
     "data": {
      "text/html": [
       "<pre style=\"white-space:pre;overflow-x:auto;line-height:normal;font-family:Menlo,'DejaVu Sans Mono',consolas,'Courier New',monospace\"><span style=\"color: #800000; text-decoration-color: #800000\"> 'runtime_processing': '0.139106',\n",
       "</span></pre>\n"
      ],
      "text/plain": [
       "\u001b[31m 'runtime_processing': '0.139106',\n",
       "\u001b[0m"
      ]
     },
     "metadata": {},
     "output_type": "display_data"
    },
    {
     "data": {
      "text/html": [
       "<pre style=\"white-space:pre;overflow-x:auto;line-height:normal;font-family:Menlo,'DejaVu Sans Mono',consolas,'Courier New',monospace\"><span style=\"color: #800000; text-decoration-color: #800000\"> 'runtime_refine_deepen': '0.062325',\n",
       "</span></pre>\n"
      ],
      "text/plain": [
       "\u001b[31m 'runtime_refine_deepen': '0.062325',\n",
       "\u001b[0m"
      ]
     },
     "metadata": {},
     "output_type": "display_data"
    },
    {
     "data": {
      "text/html": [
       "<pre style=\"white-space:pre;overflow-x:auto;line-height:normal;font-family:Menlo,'DejaVu Sans Mono',consolas,'Courier New',monospace\"><span style=\"color: #800000; text-decoration-color: #800000\"> 'spread_tie': '0.003174',\n",
       "</span></pre>\n"
      ],
      "text/plain": [
       "\u001b[31m 'spread_tie': '0.003174',\n",
       "\u001b[0m"
      ]
     },
     "metadata": {},
     "output_type": "display_data"
    },
    {
     "data": {
      "text/html": [
       "<pre style=\"white-space:pre;overflow-x:auto;line-height:normal;font-family:Menlo,'DejaVu Sans Mono',consolas,'Courier New',monospace\"><span style=\"color: #800000; text-decoration-color: #800000\"> 'status': 'NEW_STEP',\n",
       "</span></pre>\n"
      ],
      "text/plain": [
       "\u001b[31m 'status': 'NEW_STEP',\n",
       "\u001b[0m"
      ]
     },
     "metadata": {},
     "output_type": "display_data"
    },
    {
     "data": {
      "text/html": [
       "<pre style=\"white-space:pre;overflow-x:auto;line-height:normal;font-family:Menlo,'DejaVu Sans Mono',consolas,'Courier New',monospace\"><span style=\"color: #800000; text-decoration-color: #800000\"> 'std_tie': '0.001068',\n",
       "</span></pre>\n"
      ],
      "text/plain": [
       "\u001b[31m 'std_tie': '0.001068',\n",
       "\u001b[0m"
      ]
     },
     "metadata": {},
     "output_type": "display_data"
    },
    {
     "data": {
      "text/html": [
       "<pre style=\"white-space:pre;overflow-x:auto;line-height:normal;font-family:Menlo,'DejaVu Sans Mono',consolas,'Courier New',monospace\"><span style=\"color: #800000; text-decoration-color: #800000\"> 'step_id': 1,\n",
       "</span></pre>\n"
      ],
      "text/plain": [
       "\u001b[31m 'step_id': 1,\n",
       "\u001b[0m"
      ]
     },
     "metadata": {},
     "output_type": "display_data"
    },
    {
     "data": {
      "text/html": [
       "<pre style=\"white-space:pre;overflow-x:auto;line-height:normal;font-family:Menlo,'DejaVu Sans Mono',consolas,'Courier New',monospace\"><span style=\"color: #800000; text-decoration-color: #800000\"> 'step_iter': 0,\n",
       "</span></pre>\n"
      ],
      "text/plain": [
       "\u001b[31m 'step_iter': 0,\n",
       "\u001b[0m"
      ]
     },
     "metadata": {},
     "output_type": "display_data"
    },
    {
     "data": {
      "text/html": [
       "<pre style=\"white-space:pre;overflow-x:auto;line-height:normal;font-family:Menlo,'DejaVu Sans Mono',consolas,'Courier New',monospace\"><span style=\"color: #800000; text-decoration-color: #800000\"> 'step_n_iter': 1,\n",
       "</span></pre>\n"
      ],
      "text/plain": [
       "\u001b[31m 'step_n_iter': 1,\n",
       "\u001b[0m"
      ]
     },
     "metadata": {},
     "output_type": "display_data"
    },
    {
     "data": {
      "text/html": [
       "<pre style=\"white-space:pre;overflow-x:auto;line-height:normal;font-family:Menlo,'DejaVu Sans Mono',consolas,'Courier New',monospace\"><span style=\"color: #800000; text-decoration-color: #800000\"> 'tie + slack': '0.025017',\n",
       "</span></pre>\n"
      ],
      "text/plain": [
       "\u001b[31m 'tie + slack': '0.025017',\n",
       "\u001b[0m"
      ]
     },
     "metadata": {},
     "output_type": "display_data"
    },
    {
     "data": {
      "text/html": [
       "<pre style=\"white-space:pre;overflow-x:auto;line-height:normal;font-family:Menlo,'DejaVu Sans Mono',consolas,'Courier New',monospace\"><span style=\"color: #800000; text-decoration-color: #800000\"> 'tie_{k}(lamss)': '0.012085',\n",
       "</span></pre>\n"
      ],
      "text/plain": [
       "\u001b[31m 'tie_{k}(lamss)': '0.012085',\n",
       "\u001b[0m"
      ]
     },
     "metadata": {},
     "output_type": "display_data"
    },
    {
     "data": {
      "text/html": [
       "<pre style=\"white-space:pre;overflow-x:auto;line-height:normal;font-family:Menlo,'DejaVu Sans Mono',consolas,'Courier New',monospace\"><span style=\"color: #800000; text-decoration-color: #800000\"> 'work_extraction_time': '1674150730.627255',\n",
       "</span></pre>\n"
      ],
      "text/plain": [
       "\u001b[31m 'work_extraction_time': '1674150730.627255',\n",
       "\u001b[0m"
      ]
     },
     "metadata": {},
     "output_type": "display_data"
    },
    {
     "data": {
      "text/html": [
       "<pre style=\"white-space:pre;overflow-x:auto;line-height:normal;font-family:Menlo,'DejaVu Sans Mono',consolas,'Courier New',monospace\"><span style=\"color: #800000; text-decoration-color: #800000\"> 'worker_id': 1}\n",
       "</span></pre>\n"
      ],
      "text/plain": [
       "\u001b[31m 'worker_id': 1}\n",
       "\u001b[0m"
      ]
     },
     "metadata": {},
     "output_type": "display_data"
    },
    {
     "data": {
      "text/html": [
       "<pre style=\"white-space:pre;overflow-x:auto;line-height:normal;font-family:Menlo,'DejaVu Sans Mono',consolas,'Courier New',monospace\"><span style=\"color: #800000; text-decoration-color: #800000\">2023-01-19T17:52:11+0000 get_work(step_id=2, step_iter=0)\n",
       "</span></pre>\n"
      ],
      "text/plain": [
       "\u001b[31m2023-01-19T17:52:11+0000 get_work(step_id=2, step_iter=0)\n",
       "\u001b[0m"
      ]
     },
     "metadata": {},
     "output_type": "display_data"
    },
    {
     "data": {
      "text/html": [
       "<pre style=\"white-space:pre;overflow-x:auto;line-height:normal;font-family:Menlo,'DejaVu Sans Mono',consolas,'Courier New',monospace\"><span style=\"color: #800000; text-decoration-color: #800000\">2023-01-19T17:52:11+0000 get_work(...) returned 3 tiles\n",
       "</span></pre>\n"
      ],
      "text/plain": [
       "\u001b[31m2023-01-19T17:52:11+0000 get_work(...) returned 3 tiles\n",
       "\u001b[0m"
      ]
     },
     "metadata": {},
     "output_type": "display_data"
    },
    {
     "data": {
      "text/html": [
       "<pre style=\"white-space:pre;overflow-x:auto;line-height:normal;font-family:Menlo,'DejaVu Sans Mono',consolas,'Courier New',monospace\"><span style=\"color: #800000; text-decoration-color: #800000\">2023-01-19T17:52:12+0000 {'K_distribution': {8192: 2, 16384: 1, 32768: 1},\n",
       "</span></pre>\n"
      ],
      "text/plain": [
       "\u001b[31m2023-01-19T17:52:12+0000 {'K_distribution': {8192: 2, 16384: 1, 32768: 1},\n",
       "\u001b[0m"
      ]
     },
     "metadata": {},
     "output_type": "display_data"
    },
    {
     "data": {
      "text/html": [
       "<pre style=\"white-space:pre;overflow-x:auto;line-height:normal;font-family:Menlo,'DejaVu Sans Mono',consolas,'Courier New',monospace\"><span style=\"color: #800000; text-decoration-color: #800000\"> 'bias_tie': '-0.000415',\n",
       "</span></pre>\n"
      ],
      "text/plain": [
       "\u001b[31m 'bias_tie': '-0.000415',\n",
       "\u001b[0m"
      ]
     },
     "metadata": {},
     "output_type": "display_data"
    },
    {
     "data": {
      "text/html": [
       "<pre style=\"white-space:pre;overflow-x:auto;line-height:normal;font-family:Menlo,'DejaVu Sans Mono',consolas,'Courier New',monospace\"><span style=\"color: #800000; text-decoration-color: #800000\"> 'converged': False,\n",
       "</span></pre>\n"
      ],
      "text/plain": [
       "\u001b[31m 'converged': False,\n",
       "\u001b[0m"
      ]
     },
     "metadata": {},
     "output_type": "display_data"
    },
    {
     "data": {
      "text/html": [
       "<pre style=\"white-space:pre;overflow-x:auto;line-height:normal;font-family:Menlo,'DejaVu Sans Mono',consolas,'Courier New',monospace\"><span style=\"color: #800000; text-decoration-color: #800000\"> 'distributed_next_loop': 1,\n",
       "</span></pre>\n"
      ],
      "text/plain": [
       "\u001b[31m 'distributed_next_loop': 1,\n",
       "\u001b[0m"
      ]
     },
     "metadata": {},
     "output_type": "display_data"
    },
    {
     "data": {
      "text/html": [
       "<pre style=\"white-space:pre;overflow-x:auto;line-height:normal;font-family:Menlo,'DejaVu Sans Mono',consolas,'Courier New',monospace\"><span style=\"color: #800000; text-decoration-color: #800000\"> 'grid_cost': '0.007336',\n",
       "</span></pre>\n"
      ],
      "text/plain": [
       "\u001b[31m 'grid_cost': '0.007336',\n",
       "\u001b[0m"
      ]
     },
     "metadata": {},
     "output_type": "display_data"
    },
    {
     "data": {
      "text/html": [
       "<pre style=\"white-space:pre;overflow-x:auto;line-height:normal;font-family:Menlo,'DejaVu Sans Mono',consolas,'Courier New',monospace\"><span style=\"color: #800000; text-decoration-color: #800000\"> 'i': 2,\n",
       "</span></pre>\n"
      ],
      "text/plain": [
       "\u001b[31m 'i': 2,\n",
       "\u001b[0m"
      ]
     },
     "metadata": {},
     "output_type": "display_data"
    },
    {
     "data": {
      "text/html": [
       "<pre style=\"white-space:pre;overflow-x:auto;line-height:normal;font-family:Menlo,'DejaVu Sans Mono',consolas,'Courier New',monospace\"><span style=\"color: #800000; text-decoration-color: #800000\"> 'lamss': '-1.963464',\n",
       "</span></pre>\n"
      ],
      "text/plain": [
       "\u001b[31m 'lamss': '-1.963464',\n",
       "\u001b[0m"
      ]
     },
     "metadata": {},
     "output_type": "display_data"
    },
    {
     "data": {
      "text/html": [
       "<pre style=\"white-space:pre;overflow-x:auto;line-height:normal;font-family:Menlo,'DejaVu Sans Mono',consolas,'Courier New',monospace\"><span style=\"color: #800000; text-decoration-color: #800000\"> 'max(B_lamss)': '-1.935918',\n",
       "</span></pre>\n"
      ],
      "text/plain": [
       "\u001b[31m 'max(B_lamss)': '-1.935918',\n",
       "\u001b[0m"
      ]
     },
     "metadata": {},
     "output_type": "display_data"
    },
    {
     "data": {
      "text/html": [
       "<pre style=\"white-space:pre;overflow-x:auto;line-height:normal;font-family:Menlo,'DejaVu Sans Mono',consolas,'Courier New',monospace\"><span style=\"color: #800000; text-decoration-color: #800000\"> 'min(B_lamss)': '-1.978195',\n",
       "</span></pre>\n"
      ],
      "text/plain": [
       "\u001b[31m 'min(B_lamss)': '-1.978195',\n",
       "\u001b[0m"
      ]
     },
     "metadata": {},
     "output_type": "display_data"
    },
    {
     "data": {
      "text/html": [
       "<pre style=\"white-space:pre;overflow-x:auto;line-height:normal;font-family:Menlo,'DejaVu Sans Mono',consolas,'Courier New',monospace\"><span style=\"color: #800000; text-decoration-color: #800000\"> 'n_complete': 0,\n",
       "</span></pre>\n"
      ],
      "text/plain": [
       "\u001b[31m 'n_complete': 0,\n",
       "\u001b[0m"
      ]
     },
     "metadata": {},
     "output_type": "display_data"
    },
    {
     "data": {
      "text/html": [
       "<pre style=\"white-space:pre;overflow-x:auto;line-height:normal;font-family:Menlo,'DejaVu Sans Mono',consolas,'Courier New',monospace\"><span style=\"color: #800000; text-decoration-color: #800000\"> 'n_deepen': 2,\n",
       "</span></pre>\n"
      ],
      "text/plain": [
       "\u001b[31m 'n_deepen': 2,\n",
       "\u001b[0m"
      ]
     },
     "metadata": {},
     "output_type": "display_data"
    },
    {
     "data": {
      "text/html": [
       "<pre style=\"white-space:pre;overflow-x:auto;line-height:normal;font-family:Menlo,'DejaVu Sans Mono',consolas,'Courier New',monospace\"><span style=\"color: #800000; text-decoration-color: #800000\"> 'n_impossible': 0,\n",
       "</span></pre>\n"
      ],
      "text/plain": [
       "\u001b[31m 'n_impossible': 0,\n",
       "\u001b[0m"
      ]
     },
     "metadata": {},
     "output_type": "display_data"
    },
    {
     "data": {
      "text/html": [
       "<pre style=\"white-space:pre;overflow-x:auto;line-height:normal;font-family:Menlo,'DejaVu Sans Mono',consolas,'Courier New',monospace\"><span style=\"color: #800000; text-decoration-color: #800000\"> 'n_processed': 4,\n",
       "</span></pre>\n"
      ],
      "text/plain": [
       "\u001b[31m 'n_processed': 4,\n",
       "\u001b[0m"
      ]
     },
     "metadata": {},
     "output_type": "display_data"
    },
    {
     "data": {
      "text/html": [
       "<pre style=\"white-space:pre;overflow-x:auto;line-height:normal;font-family:Menlo,'DejaVu Sans Mono',consolas,'Courier New',monospace\"><span style=\"color: #800000; text-decoration-color: #800000\"> 'n_refine': 1,\n",
       "</span></pre>\n"
      ],
      "text/plain": [
       "\u001b[31m 'n_refine': 1,\n",
       "\u001b[0m"
      ]
     },
     "metadata": {},
     "output_type": "display_data"
    },
    {
     "data": {
      "text/html": [
       "<pre style=\"white-space:pre;overflow-x:auto;line-height:normal;font-family:Menlo,'DejaVu Sans Mono',consolas,'Courier New',monospace\"><span style=\"color: #800000; text-decoration-color: #800000\"> 'runtime_cleanup': '0.344058',\n",
       "</span></pre>\n"
      ],
      "text/plain": [
       "\u001b[31m 'runtime_cleanup': '0.344058',\n",
       "\u001b[0m"
      ]
     },
     "metadata": {},
     "output_type": "display_data"
    },
    {
     "data": {
      "text/html": [
       "<pre style=\"white-space:pre;overflow-x:auto;line-height:normal;font-family:Menlo,'DejaVu Sans Mono',consolas,'Courier New',monospace\"><span style=\"color: #800000; text-decoration-color: #800000\"> 'runtime_get_work': '0.287567',\n",
       "</span></pre>\n"
      ],
      "text/plain": [
       "\u001b[31m 'runtime_get_work': '0.287567',\n",
       "\u001b[0m"
      ]
     },
     "metadata": {},
     "output_type": "display_data"
    },
    {
     "data": {
      "text/html": [
       "<pre style=\"white-space:pre;overflow-x:auto;line-height:normal;font-family:Menlo,'DejaVu Sans Mono',consolas,'Courier New',monospace\"><span style=\"color: #800000; text-decoration-color: #800000\"> 'runtime_processing': '0.153263',\n",
       "</span></pre>\n"
      ],
      "text/plain": [
       "\u001b[31m 'runtime_processing': '0.153263',\n",
       "\u001b[0m"
      ]
     },
     "metadata": {},
     "output_type": "display_data"
    },
    {
     "data": {
      "text/html": [
       "<pre style=\"white-space:pre;overflow-x:auto;line-height:normal;font-family:Menlo,'DejaVu Sans Mono',consolas,'Courier New',monospace\"><span style=\"color: #800000; text-decoration-color: #800000\"> 'runtime_refine_deepen': '0.062938',\n",
       "</span></pre>\n"
      ],
      "text/plain": [
       "\u001b[31m 'runtime_refine_deepen': '0.062938',\n",
       "\u001b[0m"
      ]
     },
     "metadata": {},
     "output_type": "display_data"
    },
    {
     "data": {
      "text/html": [
       "<pre style=\"white-space:pre;overflow-x:auto;line-height:normal;font-family:Menlo,'DejaVu Sans Mono',consolas,'Courier New',monospace\"><span style=\"color: #800000; text-decoration-color: #800000\"> 'spread_tie': '0.003052',\n",
       "</span></pre>\n"
      ],
      "text/plain": [
       "\u001b[31m 'spread_tie': '0.003052',\n",
       "\u001b[0m"
      ]
     },
     "metadata": {},
     "output_type": "display_data"
    },
    {
     "data": {
      "text/html": [
       "<pre style=\"white-space:pre;overflow-x:auto;line-height:normal;font-family:Menlo,'DejaVu Sans Mono',consolas,'Courier New',monospace\"><span style=\"color: #800000; text-decoration-color: #800000\"> 'status': 'NEW_STEP',\n",
       "</span></pre>\n"
      ],
      "text/plain": [
       "\u001b[31m 'status': 'NEW_STEP',\n",
       "\u001b[0m"
      ]
     },
     "metadata": {},
     "output_type": "display_data"
    },
    {
     "data": {
      "text/html": [
       "<pre style=\"white-space:pre;overflow-x:auto;line-height:normal;font-family:Menlo,'DejaVu Sans Mono',consolas,'Courier New',monospace\"><span style=\"color: #800000; text-decoration-color: #800000\"> 'std_tie': '0.001077',\n",
       "</span></pre>\n"
      ],
      "text/plain": [
       "\u001b[31m 'std_tie': '0.001077',\n",
       "\u001b[0m"
      ]
     },
     "metadata": {},
     "output_type": "display_data"
    },
    {
     "data": {
      "text/html": [
       "<pre style=\"white-space:pre;overflow-x:auto;line-height:normal;font-family:Menlo,'DejaVu Sans Mono',consolas,'Courier New',monospace\"><span style=\"color: #800000; text-decoration-color: #800000\"> 'step_id': 2,\n",
       "</span></pre>\n"
      ],
      "text/plain": [
       "\u001b[31m 'step_id': 2,\n",
       "\u001b[0m"
      ]
     },
     "metadata": {},
     "output_type": "display_data"
    },
    {
     "data": {
      "text/html": [
       "<pre style=\"white-space:pre;overflow-x:auto;line-height:normal;font-family:Menlo,'DejaVu Sans Mono',consolas,'Courier New',monospace\"><span style=\"color: #800000; text-decoration-color: #800000\"> 'step_iter': 0,\n",
       "</span></pre>\n"
      ],
      "text/plain": [
       "\u001b[31m 'step_iter': 0,\n",
       "\u001b[0m"
      ]
     },
     "metadata": {},
     "output_type": "display_data"
    },
    {
     "data": {
      "text/html": [
       "<pre style=\"white-space:pre;overflow-x:auto;line-height:normal;font-family:Menlo,'DejaVu Sans Mono',consolas,'Courier New',monospace\"><span style=\"color: #800000; text-decoration-color: #800000\"> 'step_n_iter': 1,\n",
       "</span></pre>\n"
      ],
      "text/plain": [
       "\u001b[31m 'step_n_iter': 1,\n",
       "\u001b[0m"
      ]
     },
     "metadata": {},
     "output_type": "display_data"
    },
    {
     "data": {
      "text/html": [
       "<pre style=\"white-space:pre;overflow-x:auto;line-height:normal;font-family:Menlo,'DejaVu Sans Mono',consolas,'Courier New',monospace\"><span style=\"color: #800000; text-decoration-color: #800000\"> 'tie + slack': '0.024377',\n",
       "</span></pre>\n"
      ],
      "text/plain": [
       "\u001b[31m 'tie + slack': '0.024377',\n",
       "\u001b[0m"
      ]
     },
     "metadata": {},
     "output_type": "display_data"
    },
    {
     "data": {
      "text/html": [
       "<pre style=\"white-space:pre;overflow-x:auto;line-height:normal;font-family:Menlo,'DejaVu Sans Mono',consolas,'Courier New',monospace\"><span style=\"color: #800000; text-decoration-color: #800000\"> 'tie_{k}(lamss)': '0.017456',\n",
       "</span></pre>\n"
      ],
      "text/plain": [
       "\u001b[31m 'tie_{k}(lamss)': '0.017456',\n",
       "\u001b[0m"
      ]
     },
     "metadata": {},
     "output_type": "display_data"
    },
    {
     "data": {
      "text/html": [
       "<pre style=\"white-space:pre;overflow-x:auto;line-height:normal;font-family:Menlo,'DejaVu Sans Mono',consolas,'Courier New',monospace\"><span style=\"color: #800000; text-decoration-color: #800000\"> 'work_extraction_time': '1674150731.472651',\n",
       "</span></pre>\n"
      ],
      "text/plain": [
       "\u001b[31m 'work_extraction_time': '1674150731.472651',\n",
       "\u001b[0m"
      ]
     },
     "metadata": {},
     "output_type": "display_data"
    },
    {
     "data": {
      "text/html": [
       "<pre style=\"white-space:pre;overflow-x:auto;line-height:normal;font-family:Menlo,'DejaVu Sans Mono',consolas,'Courier New',monospace\"><span style=\"color: #800000; text-decoration-color: #800000\"> 'worker_id': 1}\n",
       "</span></pre>\n"
      ],
      "text/plain": [
       "\u001b[31m 'worker_id': 1}\n",
       "\u001b[0m"
      ]
     },
     "metadata": {},
     "output_type": "display_data"
    },
    {
     "data": {
      "text/html": [
       "<pre style=\"white-space:pre;overflow-x:auto;line-height:normal;font-family:Menlo,'DejaVu Sans Mono',consolas,'Courier New',monospace\"><span style=\"color: #800000; text-decoration-color: #800000\">2023-01-19T17:52:12+0000 get_work(step_id=3, step_iter=0)\n",
       "</span></pre>\n"
      ],
      "text/plain": [
       "\u001b[31m2023-01-19T17:52:12+0000 get_work(step_id=3, step_iter=0)\n",
       "\u001b[0m"
      ]
     },
     "metadata": {},
     "output_type": "display_data"
    },
    {
     "data": {
      "text/html": [
       "<pre style=\"white-space:pre;overflow-x:auto;line-height:normal;font-family:Menlo,'DejaVu Sans Mono',consolas,'Courier New',monospace\"><span style=\"color: #800000; text-decoration-color: #800000\">2023-01-19T17:52:12+0000 get_work(...) returned 4 tiles\n",
       "</span></pre>\n"
      ],
      "text/plain": [
       "\u001b[31m2023-01-19T17:52:12+0000 get_work(...) returned 4 tiles\n",
       "\u001b[0m"
      ]
     },
     "metadata": {},
     "output_type": "display_data"
    },
    {
     "data": {
      "text/html": [
       "<pre style=\"white-space:pre;overflow-x:auto;line-height:normal;font-family:Menlo,'DejaVu Sans Mono',consolas,'Courier New',monospace\"><span style=\"color: #800000; text-decoration-color: #800000\">2023-01-19T17:52:13+0000 {'K_distribution': {8192: 2, 16384: 1, 32768: 1, 65536: 1},\n",
       "</span></pre>\n"
      ],
      "text/plain": [
       "\u001b[31m2023-01-19T17:52:13+0000 {'K_distribution': {8192: 2, 16384: 1, 32768: 1, 65536: 1},\n",
       "\u001b[0m"
      ]
     },
     "metadata": {},
     "output_type": "display_data"
    },
    {
     "data": {
      "text/html": [
       "<pre style=\"white-space:pre;overflow-x:auto;line-height:normal;font-family:Menlo,'DejaVu Sans Mono',consolas,'Courier New',monospace\"><span style=\"color: #800000; text-decoration-color: #800000\"> 'bias_tie': '-0.000366',\n",
       "</span></pre>\n"
      ],
      "text/plain": [
       "\u001b[31m 'bias_tie': '-0.000366',\n",
       "\u001b[0m"
      ]
     },
     "metadata": {},
     "output_type": "display_data"
    },
    {
     "data": {
      "text/html": [
       "<pre style=\"white-space:pre;overflow-x:auto;line-height:normal;font-family:Menlo,'DejaVu Sans Mono',consolas,'Courier New',monospace\"><span style=\"color: #800000; text-decoration-color: #800000\"> 'converged': False,\n",
       "</span></pre>\n"
      ],
      "text/plain": [
       "\u001b[31m 'converged': False,\n",
       "\u001b[0m"
      ]
     },
     "metadata": {},
     "output_type": "display_data"
    },
    {
     "data": {
      "text/html": [
       "<pre style=\"white-space:pre;overflow-x:auto;line-height:normal;font-family:Menlo,'DejaVu Sans Mono',consolas,'Courier New',monospace\"><span style=\"color: #800000; text-decoration-color: #800000\"> 'distributed_next_loop': 1,\n",
       "</span></pre>\n"
      ],
      "text/plain": [
       "\u001b[31m 'distributed_next_loop': 1,\n",
       "\u001b[0m"
      ]
     },
     "metadata": {},
     "output_type": "display_data"
    },
    {
     "data": {
      "text/html": [
       "<pre style=\"white-space:pre;overflow-x:auto;line-height:normal;font-family:Menlo,'DejaVu Sans Mono',consolas,'Courier New',monospace\"><span style=\"color: #800000; text-decoration-color: #800000\"> 'grid_cost': '0.003945',\n",
       "</span></pre>\n"
      ],
      "text/plain": [
       "\u001b[31m 'grid_cost': '0.003945',\n",
       "\u001b[0m"
      ]
     },
     "metadata": {},
     "output_type": "display_data"
    },
    {
     "data": {
      "text/html": [
       "<pre style=\"white-space:pre;overflow-x:auto;line-height:normal;font-family:Menlo,'DejaVu Sans Mono',consolas,'Courier New',monospace\"><span style=\"color: #800000; text-decoration-color: #800000\"> 'i': 3,\n",
       "</span></pre>\n"
      ],
      "text/plain": [
       "\u001b[31m 'i': 3,\n",
       "\u001b[0m"
      ]
     },
     "metadata": {},
     "output_type": "display_data"
    },
    {
     "data": {
      "text/html": [
       "<pre style=\"white-space:pre;overflow-x:auto;line-height:normal;font-family:Menlo,'DejaVu Sans Mono',consolas,'Courier New',monospace\"><span style=\"color: #800000; text-decoration-color: #800000\"> 'lamss': '-1.959059',\n",
       "</span></pre>\n"
      ],
      "text/plain": [
       "\u001b[31m 'lamss': '-1.959059',\n",
       "\u001b[0m"
      ]
     },
     "metadata": {},
     "output_type": "display_data"
    },
    {
     "data": {
      "text/html": [
       "<pre style=\"white-space:pre;overflow-x:auto;line-height:normal;font-family:Menlo,'DejaVu Sans Mono',consolas,'Courier New',monospace\"><span style=\"color: #800000; text-decoration-color: #800000\"> 'max(B_lamss)': '-1.918080',\n",
       "</span></pre>\n"
      ],
      "text/plain": [
       "\u001b[31m 'max(B_lamss)': '-1.918080',\n",
       "\u001b[0m"
      ]
     },
     "metadata": {},
     "output_type": "display_data"
    },
    {
     "data": {
      "text/html": [
       "<pre style=\"white-space:pre;overflow-x:auto;line-height:normal;font-family:Menlo,'DejaVu Sans Mono',consolas,'Courier New',monospace\"><span style=\"color: #800000; text-decoration-color: #800000\"> 'min(B_lamss)': '-1.986207',\n",
       "</span></pre>\n"
      ],
      "text/plain": [
       "\u001b[31m 'min(B_lamss)': '-1.986207',\n",
       "\u001b[0m"
      ]
     },
     "metadata": {},
     "output_type": "display_data"
    },
    {
     "data": {
      "text/html": [
       "<pre style=\"white-space:pre;overflow-x:auto;line-height:normal;font-family:Menlo,'DejaVu Sans Mono',consolas,'Courier New',monospace\"><span style=\"color: #800000; text-decoration-color: #800000\"> 'n_complete': 0,\n",
       "</span></pre>\n"
      ],
      "text/plain": [
       "\u001b[31m 'n_complete': 0,\n",
       "\u001b[0m"
      ]
     },
     "metadata": {},
     "output_type": "display_data"
    },
    {
     "data": {
      "text/html": [
       "<pre style=\"white-space:pre;overflow-x:auto;line-height:normal;font-family:Menlo,'DejaVu Sans Mono',consolas,'Courier New',monospace\"><span style=\"color: #800000; text-decoration-color: #800000\"> 'n_deepen': 3,\n",
       "</span></pre>\n"
      ],
      "text/plain": [
       "\u001b[31m 'n_deepen': 3,\n",
       "\u001b[0m"
      ]
     },
     "metadata": {},
     "output_type": "display_data"
    },
    {
     "data": {
      "text/html": [
       "<pre style=\"white-space:pre;overflow-x:auto;line-height:normal;font-family:Menlo,'DejaVu Sans Mono',consolas,'Courier New',monospace\"><span style=\"color: #800000; text-decoration-color: #800000\"> 'n_impossible': 0,\n",
       "</span></pre>\n"
      ],
      "text/plain": [
       "\u001b[31m 'n_impossible': 0,\n",
       "\u001b[0m"
      ]
     },
     "metadata": {},
     "output_type": "display_data"
    },
    {
     "data": {
      "text/html": [
       "<pre style=\"white-space:pre;overflow-x:auto;line-height:normal;font-family:Menlo,'DejaVu Sans Mono',consolas,'Courier New',monospace\"><span style=\"color: #800000; text-decoration-color: #800000\"> 'n_processed': 5,\n",
       "</span></pre>\n"
      ],
      "text/plain": [
       "\u001b[31m 'n_processed': 5,\n",
       "\u001b[0m"
      ]
     },
     "metadata": {},
     "output_type": "display_data"
    },
    {
     "data": {
      "text/html": [
       "<pre style=\"white-space:pre;overflow-x:auto;line-height:normal;font-family:Menlo,'DejaVu Sans Mono',consolas,'Courier New',monospace\"><span style=\"color: #800000; text-decoration-color: #800000\"> 'n_refine': 1,\n",
       "</span></pre>\n"
      ],
      "text/plain": [
       "\u001b[31m 'n_refine': 1,\n",
       "\u001b[0m"
      ]
     },
     "metadata": {},
     "output_type": "display_data"
    },
    {
     "data": {
      "text/html": [
       "<pre style=\"white-space:pre;overflow-x:auto;line-height:normal;font-family:Menlo,'DejaVu Sans Mono',consolas,'Courier New',monospace\"><span style=\"color: #800000; text-decoration-color: #800000\"> 'runtime_cleanup': '0.335416',\n",
       "</span></pre>\n"
      ],
      "text/plain": [
       "\u001b[31m 'runtime_cleanup': '0.335416',\n",
       "\u001b[0m"
      ]
     },
     "metadata": {},
     "output_type": "display_data"
    },
    {
     "data": {
      "text/html": [
       "<pre style=\"white-space:pre;overflow-x:auto;line-height:normal;font-family:Menlo,'DejaVu Sans Mono',consolas,'Courier New',monospace\"><span style=\"color: #800000; text-decoration-color: #800000\"> 'runtime_get_work': '0.278144',\n",
       "</span></pre>\n"
      ],
      "text/plain": [
       "\u001b[31m 'runtime_get_work': '0.278144',\n",
       "\u001b[0m"
      ]
     },
     "metadata": {},
     "output_type": "display_data"
    },
    {
     "data": {
      "text/html": [
       "<pre style=\"white-space:pre;overflow-x:auto;line-height:normal;font-family:Menlo,'DejaVu Sans Mono',consolas,'Courier New',monospace\"><span style=\"color: #800000; text-decoration-color: #800000\"> 'runtime_processing': '0.326243',\n",
       "</span></pre>\n"
      ],
      "text/plain": [
       "\u001b[31m 'runtime_processing': '0.326243',\n",
       "\u001b[0m"
      ]
     },
     "metadata": {},
     "output_type": "display_data"
    },
    {
     "data": {
      "text/html": [
       "<pre style=\"white-space:pre;overflow-x:auto;line-height:normal;font-family:Menlo,'DejaVu Sans Mono',consolas,'Courier New',monospace\"><span style=\"color: #800000; text-decoration-color: #800000\"> 'runtime_refine_deepen': '0.064528',\n",
       "</span></pre>\n"
      ],
      "text/plain": [
       "\u001b[31m 'runtime_refine_deepen': '0.064528',\n",
       "\u001b[0m"
      ]
     },
     "metadata": {},
     "output_type": "display_data"
    },
    {
     "data": {
      "text/html": [
       "<pre style=\"white-space:pre;overflow-x:auto;line-height:normal;font-family:Menlo,'DejaVu Sans Mono',consolas,'Courier New',monospace\"><span style=\"color: #800000; text-decoration-color: #800000\"> 'spread_tie': '0.002808',\n",
       "</span></pre>\n"
      ],
      "text/plain": [
       "\u001b[31m 'spread_tie': '0.002808',\n",
       "\u001b[0m"
      ]
     },
     "metadata": {},
     "output_type": "display_data"
    },
    {
     "data": {
      "text/html": [
       "<pre style=\"white-space:pre;overflow-x:auto;line-height:normal;font-family:Menlo,'DejaVu Sans Mono',consolas,'Courier New',monospace\"><span style=\"color: #800000; text-decoration-color: #800000\"> 'status': 'NEW_STEP',\n",
       "</span></pre>\n"
      ],
      "text/plain": [
       "\u001b[31m 'status': 'NEW_STEP',\n",
       "\u001b[0m"
      ]
     },
     "metadata": {},
     "output_type": "display_data"
    },
    {
     "data": {
      "text/html": [
       "<pre style=\"white-space:pre;overflow-x:auto;line-height:normal;font-family:Menlo,'DejaVu Sans Mono',consolas,'Courier New',monospace\"><span style=\"color: #800000; text-decoration-color: #800000\"> 'std_tie': '0.001004',\n",
       "</span></pre>\n"
      ],
      "text/plain": [
       "\u001b[31m 'std_tie': '0.001004',\n",
       "\u001b[0m"
      ]
     },
     "metadata": {},
     "output_type": "display_data"
    },
    {
     "data": {
      "text/html": [
       "<pre style=\"white-space:pre;overflow-x:auto;line-height:normal;font-family:Menlo,'DejaVu Sans Mono',consolas,'Courier New',monospace\"><span style=\"color: #800000; text-decoration-color: #800000\"> 'step_id': 3,\n",
       "</span></pre>\n"
      ],
      "text/plain": [
       "\u001b[31m 'step_id': 3,\n",
       "\u001b[0m"
      ]
     },
     "metadata": {},
     "output_type": "display_data"
    },
    {
     "data": {
      "text/html": [
       "<pre style=\"white-space:pre;overflow-x:auto;line-height:normal;font-family:Menlo,'DejaVu Sans Mono',consolas,'Courier New',monospace\"><span style=\"color: #800000; text-decoration-color: #800000\"> 'step_iter': 0,\n",
       "</span></pre>\n"
      ],
      "text/plain": [
       "\u001b[31m 'step_iter': 0,\n",
       "\u001b[0m"
      ]
     },
     "metadata": {},
     "output_type": "display_data"
    },
    {
     "data": {
      "text/html": [
       "<pre style=\"white-space:pre;overflow-x:auto;line-height:normal;font-family:Menlo,'DejaVu Sans Mono',consolas,'Courier New',monospace\"><span style=\"color: #800000; text-decoration-color: #800000\"> 'step_n_iter': 1,\n",
       "</span></pre>\n"
      ],
      "text/plain": [
       "\u001b[31m 'step_n_iter': 1,\n",
       "\u001b[0m"
      ]
     },
     "metadata": {},
     "output_type": "display_data"
    },
    {
     "data": {
      "text/html": [
       "<pre style=\"white-space:pre;overflow-x:auto;line-height:normal;font-family:Menlo,'DejaVu Sans Mono',consolas,'Courier New',monospace\"><span style=\"color: #800000; text-decoration-color: #800000\"> 'tie + slack': '0.024452',\n",
       "</span></pre>\n"
      ],
      "text/plain": [
       "\u001b[31m 'tie + slack': '0.024452',\n",
       "\u001b[0m"
      ]
     },
     "metadata": {},
     "output_type": "display_data"
    },
    {
     "data": {
      "text/html": [
       "<pre style=\"white-space:pre;overflow-x:auto;line-height:normal;font-family:Menlo,'DejaVu Sans Mono',consolas,'Courier New',monospace\"><span style=\"color: #800000; text-decoration-color: #800000\"> 'tie_{k}(lamss)': '0.020874',\n",
       "</span></pre>\n"
      ],
      "text/plain": [
       "\u001b[31m 'tie_{k}(lamss)': '0.020874',\n",
       "\u001b[0m"
      ]
     },
     "metadata": {},
     "output_type": "display_data"
    },
    {
     "data": {
      "text/html": [
       "<pre style=\"white-space:pre;overflow-x:auto;line-height:normal;font-family:Menlo,'DejaVu Sans Mono',consolas,'Courier New',monospace\"><span style=\"color: #800000; text-decoration-color: #800000\"> 'work_extraction_time': '1674150732.312092',\n",
       "</span></pre>\n"
      ],
      "text/plain": [
       "\u001b[31m 'work_extraction_time': '1674150732.312092',\n",
       "\u001b[0m"
      ]
     },
     "metadata": {},
     "output_type": "display_data"
    },
    {
     "data": {
      "text/html": [
       "<pre style=\"white-space:pre;overflow-x:auto;line-height:normal;font-family:Menlo,'DejaVu Sans Mono',consolas,'Courier New',monospace\"><span style=\"color: #800000; text-decoration-color: #800000\"> 'worker_id': 1}\n",
       "</span></pre>\n"
      ],
      "text/plain": [
       "\u001b[31m 'worker_id': 1}\n",
       "\u001b[0m"
      ]
     },
     "metadata": {},
     "output_type": "display_data"
    },
    {
     "data": {
      "text/html": [
       "<pre style=\"white-space:pre;overflow-x:auto;line-height:normal;font-family:Menlo,'DejaVu Sans Mono',consolas,'Courier New',monospace\"><span style=\"color: #800000; text-decoration-color: #800000\">2023-01-19T17:52:13+0000 get_work(step_id=4, step_iter=0)\n",
       "</span></pre>\n"
      ],
      "text/plain": [
       "\u001b[31m2023-01-19T17:52:13+0000 get_work(step_id=4, step_iter=0)\n",
       "\u001b[0m"
      ]
     },
     "metadata": {},
     "output_type": "display_data"
    },
    {
     "data": {
      "text/html": [
       "<pre style=\"white-space:pre;overflow-x:auto;line-height:normal;font-family:Menlo,'DejaVu Sans Mono',consolas,'Courier New',monospace\"><span style=\"color: #800000; text-decoration-color: #800000\">2023-01-19T17:52:13+0000 get_work(...) returned 5 tiles\n",
       "</span></pre>\n"
      ],
      "text/plain": [
       "\u001b[31m2023-01-19T17:52:13+0000 get_work(...) returned 5 tiles\n",
       "\u001b[0m"
      ]
     },
     "metadata": {},
     "output_type": "display_data"
    },
    {
     "data": {
      "text/html": [
       "<pre style=\"white-space:pre;overflow-x:auto;line-height:normal;font-family:Menlo,'DejaVu Sans Mono',consolas,'Courier New',monospace\"><span style=\"color: #800000; text-decoration-color: #800000\">2023-01-19T17:52:13+0000 Worker 2 has been waiting for work for 3 iterations. This might indicate a bug.\n",
       "</span></pre>\n"
      ],
      "text/plain": [
       "\u001b[31m2023-01-19T17:52:13+0000 Worker 2 has been waiting for work for 3 iterations. This might indicate a bug.\n",
       "\u001b[0m"
      ]
     },
     "metadata": {},
     "output_type": "display_data"
    },
    {
     "data": {
      "text/html": [
       "<pre style=\"white-space:pre;overflow-x:auto;line-height:normal;font-family:Menlo,'DejaVu Sans Mono',consolas,'Courier New',monospace\"><span style=\"color: #800000; text-decoration-color: #800000\">2023-01-19T17:52:14+0000 {'K_distribution': {8192: 2, 16384: 1, 32768: 1, 65536: 1, 131072: 1},\n",
       "</span></pre>\n"
      ],
      "text/plain": [
       "\u001b[31m2023-01-19T17:52:14+0000 {'K_distribution': {8192: 2, 16384: 1, 32768: 1, 65536: 1, 131072: 1},\n",
       "\u001b[0m"
      ]
     },
     "metadata": {},
     "output_type": "display_data"
    },
    {
     "data": {
      "text/html": [
       "<pre style=\"white-space:pre;overflow-x:auto;line-height:normal;font-family:Menlo,'DejaVu Sans Mono',consolas,'Courier New',monospace\"><span style=\"color: #800000; text-decoration-color: #800000\"> 'bias_tie': '-0.000317',\n",
       "</span></pre>\n"
      ],
      "text/plain": [
       "\u001b[31m 'bias_tie': '-0.000317',\n",
       "\u001b[0m"
      ]
     },
     "metadata": {},
     "output_type": "display_data"
    },
    {
     "data": {
      "text/html": [
       "<pre style=\"white-space:pre;overflow-x:auto;line-height:normal;font-family:Menlo,'DejaVu Sans Mono',consolas,'Courier New',monospace\"><span style=\"color: #800000; text-decoration-color: #800000\"> 'converged': False,\n",
       "</span></pre>\n"
      ],
      "text/plain": [
       "\u001b[31m 'converged': False,\n",
       "\u001b[0m"
      ]
     },
     "metadata": {},
     "output_type": "display_data"
    },
    {
     "data": {
      "text/html": [
       "<pre style=\"white-space:pre;overflow-x:auto;line-height:normal;font-family:Menlo,'DejaVu Sans Mono',consolas,'Courier New',monospace\"><span style=\"color: #800000; text-decoration-color: #800000\"> 'distributed_next_loop': 1,\n",
       "</span></pre>\n"
      ],
      "text/plain": [
       "\u001b[31m 'distributed_next_loop': 1,\n",
       "\u001b[0m"
      ]
     },
     "metadata": {},
     "output_type": "display_data"
    },
    {
     "data": {
      "text/html": [
       "<pre style=\"white-space:pre;overflow-x:auto;line-height:normal;font-family:Menlo,'DejaVu Sans Mono',consolas,'Courier New',monospace\"><span style=\"color: #800000; text-decoration-color: #800000\"> 'grid_cost': '0.002046',\n",
       "</span></pre>\n"
      ],
      "text/plain": [
       "\u001b[31m 'grid_cost': '0.002046',\n",
       "\u001b[0m"
      ]
     },
     "metadata": {},
     "output_type": "display_data"
    },
    {
     "data": {
      "text/html": [
       "<pre style=\"white-space:pre;overflow-x:auto;line-height:normal;font-family:Menlo,'DejaVu Sans Mono',consolas,'Courier New',monospace\"><span style=\"color: #800000; text-decoration-color: #800000\"> 'i': 4,\n",
       "</span></pre>\n"
      ],
      "text/plain": [
       "\u001b[31m 'i': 4,\n",
       "\u001b[0m"
      ]
     },
     "metadata": {},
     "output_type": "display_data"
    },
    {
     "data": {
      "text/html": [
       "<pre style=\"white-space:pre;overflow-x:auto;line-height:normal;font-family:Menlo,'DejaVu Sans Mono',consolas,'Courier New',monospace\"><span style=\"color: #800000; text-decoration-color: #800000\"> 'lamss': '-1.944948',\n",
       "</span></pre>\n"
      ],
      "text/plain": [
       "\u001b[31m 'lamss': '-1.944948',\n",
       "\u001b[0m"
      ]
     },
     "metadata": {},
     "output_type": "display_data"
    },
    {
     "data": {
      "text/html": [
       "<pre style=\"white-space:pre;overflow-x:auto;line-height:normal;font-family:Menlo,'DejaVu Sans Mono',consolas,'Courier New',monospace\"><span style=\"color: #800000; text-decoration-color: #800000\"> 'max(B_lamss)': '-1.920145',\n",
       "</span></pre>\n"
      ],
      "text/plain": [
       "\u001b[31m 'max(B_lamss)': '-1.920145',\n",
       "\u001b[0m"
      ]
     },
     "metadata": {},
     "output_type": "display_data"
    },
    {
     "data": {
      "text/html": [
       "<pre style=\"white-space:pre;overflow-x:auto;line-height:normal;font-family:Menlo,'DejaVu Sans Mono',consolas,'Courier New',monospace\"><span style=\"color: #800000; text-decoration-color: #800000\"> 'min(B_lamss)': '-1.959790',\n",
       "</span></pre>\n"
      ],
      "text/plain": [
       "\u001b[31m 'min(B_lamss)': '-1.959790',\n",
       "\u001b[0m"
      ]
     },
     "metadata": {},
     "output_type": "display_data"
    },
    {
     "data": {
      "text/html": [
       "<pre style=\"white-space:pre;overflow-x:auto;line-height:normal;font-family:Menlo,'DejaVu Sans Mono',consolas,'Courier New',monospace\"><span style=\"color: #800000; text-decoration-color: #800000\"> 'n_complete': 0,\n",
       "</span></pre>\n"
      ],
      "text/plain": [
       "\u001b[31m 'n_complete': 0,\n",
       "\u001b[0m"
      ]
     },
     "metadata": {},
     "output_type": "display_data"
    },
    {
     "data": {
      "text/html": [
       "<pre style=\"white-space:pre;overflow-x:auto;line-height:normal;font-family:Menlo,'DejaVu Sans Mono',consolas,'Courier New',monospace\"><span style=\"color: #800000; text-decoration-color: #800000\"> 'n_deepen': 4,\n",
       "</span></pre>\n"
      ],
      "text/plain": [
       "\u001b[31m 'n_deepen': 4,\n",
       "\u001b[0m"
      ]
     },
     "metadata": {},
     "output_type": "display_data"
    },
    {
     "data": {
      "text/html": [
       "<pre style=\"white-space:pre;overflow-x:auto;line-height:normal;font-family:Menlo,'DejaVu Sans Mono',consolas,'Courier New',monospace\"><span style=\"color: #800000; text-decoration-color: #800000\"> 'n_impossible': 0,\n",
       "</span></pre>\n"
      ],
      "text/plain": [
       "\u001b[31m 'n_impossible': 0,\n",
       "\u001b[0m"
      ]
     },
     "metadata": {},
     "output_type": "display_data"
    },
    {
     "data": {
      "text/html": [
       "<pre style=\"white-space:pre;overflow-x:auto;line-height:normal;font-family:Menlo,'DejaVu Sans Mono',consolas,'Courier New',monospace\"><span style=\"color: #800000; text-decoration-color: #800000\"> 'n_processed': 6,\n",
       "</span></pre>\n"
      ],
      "text/plain": [
       "\u001b[31m 'n_processed': 6,\n",
       "\u001b[0m"
      ]
     },
     "metadata": {},
     "output_type": "display_data"
    },
    {
     "data": {
      "text/html": [
       "<pre style=\"white-space:pre;overflow-x:auto;line-height:normal;font-family:Menlo,'DejaVu Sans Mono',consolas,'Courier New',monospace\"><span style=\"color: #800000; text-decoration-color: #800000\"> 'n_refine': 1,\n",
       "</span></pre>\n"
      ],
      "text/plain": [
       "\u001b[31m 'n_refine': 1,\n",
       "\u001b[0m"
      ]
     },
     "metadata": {},
     "output_type": "display_data"
    },
    {
     "data": {
      "text/html": [
       "<pre style=\"white-space:pre;overflow-x:auto;line-height:normal;font-family:Menlo,'DejaVu Sans Mono',consolas,'Courier New',monospace\"><span style=\"color: #800000; text-decoration-color: #800000\"> 'runtime_cleanup': '0.390480',\n",
       "</span></pre>\n"
      ],
      "text/plain": [
       "\u001b[31m 'runtime_cleanup': '0.390480',\n",
       "\u001b[0m"
      ]
     },
     "metadata": {},
     "output_type": "display_data"
    },
    {
     "data": {
      "text/html": [
       "<pre style=\"white-space:pre;overflow-x:auto;line-height:normal;font-family:Menlo,'DejaVu Sans Mono',consolas,'Courier New',monospace\"><span style=\"color: #800000; text-decoration-color: #800000\"> 'runtime_get_work': '0.248745',\n",
       "</span></pre>\n"
      ],
      "text/plain": [
       "\u001b[31m 'runtime_get_work': '0.248745',\n",
       "\u001b[0m"
      ]
     },
     "metadata": {},
     "output_type": "display_data"
    },
    {
     "data": {
      "text/html": [
       "<pre style=\"white-space:pre;overflow-x:auto;line-height:normal;font-family:Menlo,'DejaVu Sans Mono',consolas,'Courier New',monospace\"><span style=\"color: #800000; text-decoration-color: #800000\"> 'runtime_processing': '0.362687',\n",
       "</span></pre>\n"
      ],
      "text/plain": [
       "\u001b[31m 'runtime_processing': '0.362687',\n",
       "\u001b[0m"
      ]
     },
     "metadata": {},
     "output_type": "display_data"
    },
    {
     "data": {
      "text/html": [
       "<pre style=\"white-space:pre;overflow-x:auto;line-height:normal;font-family:Menlo,'DejaVu Sans Mono',consolas,'Courier New',monospace\"><span style=\"color: #800000; text-decoration-color: #800000\"> 'runtime_refine_deepen': '0.063583',\n",
       "</span></pre>\n"
      ],
      "text/plain": [
       "\u001b[31m 'runtime_refine_deepen': '0.063583',\n",
       "\u001b[0m"
      ]
     },
     "metadata": {},
     "output_type": "display_data"
    },
    {
     "data": {
      "text/html": [
       "<pre style=\"white-space:pre;overflow-x:auto;line-height:normal;font-family:Menlo,'DejaVu Sans Mono',consolas,'Courier New',monospace\"><span style=\"color: #800000; text-decoration-color: #800000\"> 'spread_tie': '0.002319',\n",
       "</span></pre>\n"
      ],
      "text/plain": [
       "\u001b[31m 'spread_tie': '0.002319',\n",
       "\u001b[0m"
      ]
     },
     "metadata": {},
     "output_type": "display_data"
    },
    {
     "data": {
      "text/html": [
       "<pre style=\"white-space:pre;overflow-x:auto;line-height:normal;font-family:Menlo,'DejaVu Sans Mono',consolas,'Courier New',monospace\"><span style=\"color: #800000; text-decoration-color: #800000\"> 'status': 'NEW_STEP',\n",
       "</span></pre>\n"
      ],
      "text/plain": [
       "\u001b[31m 'status': 'NEW_STEP',\n",
       "\u001b[0m"
      ]
     },
     "metadata": {},
     "output_type": "display_data"
    },
    {
     "data": {
      "text/html": [
       "<pre style=\"white-space:pre;overflow-x:auto;line-height:normal;font-family:Menlo,'DejaVu Sans Mono',consolas,'Courier New',monospace\"><span style=\"color: #800000; text-decoration-color: #800000\"> 'std_tie': '0.000802',\n",
       "</span></pre>\n"
      ],
      "text/plain": [
       "\u001b[31m 'std_tie': '0.000802',\n",
       "\u001b[0m"
      ]
     },
     "metadata": {},
     "output_type": "display_data"
    },
    {
     "data": {
      "text/html": [
       "<pre style=\"white-space:pre;overflow-x:auto;line-height:normal;font-family:Menlo,'DejaVu Sans Mono',consolas,'Courier New',monospace\"><span style=\"color: #800000; text-decoration-color: #800000\"> 'step_id': 4,\n",
       "</span></pre>\n"
      ],
      "text/plain": [
       "\u001b[31m 'step_id': 4,\n",
       "\u001b[0m"
      ]
     },
     "metadata": {},
     "output_type": "display_data"
    },
    {
     "data": {
      "text/html": [
       "<pre style=\"white-space:pre;overflow-x:auto;line-height:normal;font-family:Menlo,'DejaVu Sans Mono',consolas,'Courier New',monospace\"><span style=\"color: #800000; text-decoration-color: #800000\"> 'step_iter': 0,\n",
       "</span></pre>\n"
      ],
      "text/plain": [
       "\u001b[31m 'step_iter': 0,\n",
       "\u001b[0m"
      ]
     },
     "metadata": {},
     "output_type": "display_data"
    },
    {
     "data": {
      "text/html": [
       "<pre style=\"white-space:pre;overflow-x:auto;line-height:normal;font-family:Menlo,'DejaVu Sans Mono',consolas,'Courier New',monospace\"><span style=\"color: #800000; text-decoration-color: #800000\"> 'step_n_iter': 1,\n",
       "</span></pre>\n"
      ],
      "text/plain": [
       "\u001b[31m 'step_n_iter': 1,\n",
       "\u001b[0m"
      ]
     },
     "metadata": {},
     "output_type": "display_data"
    },
    {
     "data": {
      "text/html": [
       "<pre style=\"white-space:pre;overflow-x:auto;line-height:normal;font-family:Menlo,'DejaVu Sans Mono',consolas,'Courier New',monospace\"><span style=\"color: #800000; text-decoration-color: #800000\"> 'tie + slack': '0.024555',\n",
       "</span></pre>\n"
      ],
      "text/plain": [
       "\u001b[31m 'tie + slack': '0.024555',\n",
       "\u001b[0m"
      ]
     },
     "metadata": {},
     "output_type": "display_data"
    },
    {
     "data": {
      "text/html": [
       "<pre style=\"white-space:pre;overflow-x:auto;line-height:normal;font-family:Menlo,'DejaVu Sans Mono',consolas,'Courier New',monospace\"><span style=\"color: #800000; text-decoration-color: #800000\"> 'tie_{k}(lamss)': '0.022827',\n",
       "</span></pre>\n"
      ],
      "text/plain": [
       "\u001b[31m 'tie_{k}(lamss)': '0.022827',\n",
       "\u001b[0m"
      ]
     },
     "metadata": {},
     "output_type": "display_data"
    },
    {
     "data": {
      "text/html": [
       "<pre style=\"white-space:pre;overflow-x:auto;line-height:normal;font-family:Menlo,'DejaVu Sans Mono',consolas,'Courier New',monospace\"><span style=\"color: #800000; text-decoration-color: #800000\"> 'work_extraction_time': '1674150733.288074',\n",
       "</span></pre>\n"
      ],
      "text/plain": [
       "\u001b[31m 'work_extraction_time': '1674150733.288074',\n",
       "\u001b[0m"
      ]
     },
     "metadata": {},
     "output_type": "display_data"
    },
    {
     "data": {
      "text/html": [
       "<pre style=\"white-space:pre;overflow-x:auto;line-height:normal;font-family:Menlo,'DejaVu Sans Mono',consolas,'Courier New',monospace\"><span style=\"color: #800000; text-decoration-color: #800000\"> 'worker_id': 1}\n",
       "</span></pre>\n"
      ],
      "text/plain": [
       "\u001b[31m 'worker_id': 1}\n",
       "\u001b[0m"
      ]
     },
     "metadata": {},
     "output_type": "display_data"
    },
    {
     "data": {
      "text/html": [
       "<pre style=\"white-space:pre;overflow-x:auto;line-height:normal;font-family:Menlo,'DejaVu Sans Mono',consolas,'Courier New',monospace\"><span style=\"color: #800000; text-decoration-color: #800000\">2023-01-19T17:52:14+0000 get_work(step_id=5, step_iter=0)\n",
       "</span></pre>\n"
      ],
      "text/plain": [
       "\u001b[31m2023-01-19T17:52:14+0000 get_work(step_id=5, step_iter=0)\n",
       "\u001b[0m"
      ]
     },
     "metadata": {},
     "output_type": "display_data"
    },
    {
     "data": {
      "text/html": [
       "<pre style=\"white-space:pre;overflow-x:auto;line-height:normal;font-family:Menlo,'DejaVu Sans Mono',consolas,'Courier New',monospace\"><span style=\"color: #800000; text-decoration-color: #800000\">2023-01-19T17:52:14+0000 get_work(...) returned 6 tiles\n",
       "</span></pre>\n"
      ],
      "text/plain": [
       "\u001b[31m2023-01-19T17:52:14+0000 get_work(...) returned 6 tiles\n",
       "\u001b[0m"
      ]
     },
     "metadata": {},
     "output_type": "display_data"
    },
    {
     "data": {
      "text/html": [
       "<pre style=\"white-space:pre;overflow-x:auto;line-height:normal;font-family:Menlo,'DejaVu Sans Mono',consolas,'Courier New',monospace\"><span style=\"color: #800000; text-decoration-color: #800000\">2023-01-19T17:52:14+0000 Worker 2 has been waiting for work for 4 iterations. This might indicate a bug.\n",
       "</span></pre>\n"
      ],
      "text/plain": [
       "\u001b[31m2023-01-19T17:52:14+0000 Worker 2 has been waiting for work for 4 iterations. This might indicate a bug.\n",
       "\u001b[0m"
      ]
     },
     "metadata": {},
     "output_type": "display_data"
    },
    {
     "data": {
      "text/html": [
       "<pre style=\"white-space:pre;overflow-x:auto;line-height:normal;font-family:Menlo,'DejaVu Sans Mono',consolas,'Courier New',monospace\"><span style=\"color: #800000; text-decoration-color: #800000\">2023-01-19T17:52:15+0000 {'K_distribution': {16384: 2, 32768: 1, 65536: 1, 131072: 3},\n",
       "</span></pre>\n"
      ],
      "text/plain": [
       "\u001b[31m2023-01-19T17:52:15+0000 {'K_distribution': {16384: 2, 32768: 1, 65536: 1, 131072: 3},\n",
       "\u001b[0m"
      ]
     },
     "metadata": {},
     "output_type": "display_data"
    },
    {
     "data": {
      "text/html": [
       "<pre style=\"white-space:pre;overflow-x:auto;line-height:normal;font-family:Menlo,'DejaVu Sans Mono',consolas,'Courier New',monospace\"><span style=\"color: #800000; text-decoration-color: #800000\"> 'bias_tie': '-0.000171',\n",
       "</span></pre>\n"
      ],
      "text/plain": [
       "\u001b[31m 'bias_tie': '-0.000171',\n",
       "\u001b[0m"
      ]
     },
     "metadata": {},
     "output_type": "display_data"
    },
    {
     "data": {
      "text/html": [
       "<pre style=\"white-space:pre;overflow-x:auto;line-height:normal;font-family:Menlo,'DejaVu Sans Mono',consolas,'Courier New',monospace\"><span style=\"color: #800000; text-decoration-color: #800000\"> 'converged': False,\n",
       "</span></pre>\n"
      ],
      "text/plain": [
       "\u001b[31m 'converged': False,\n",
       "\u001b[0m"
      ]
     },
     "metadata": {},
     "output_type": "display_data"
    },
    {
     "data": {
      "text/html": [
       "<pre style=\"white-space:pre;overflow-x:auto;line-height:normal;font-family:Menlo,'DejaVu Sans Mono',consolas,'Courier New',monospace\"><span style=\"color: #800000; text-decoration-color: #800000\"> 'distributed_next_loop': 1,\n",
       "</span></pre>\n"
      ],
      "text/plain": [
       "\u001b[31m 'distributed_next_loop': 1,\n",
       "\u001b[0m"
      ]
     },
     "metadata": {},
     "output_type": "display_data"
    },
    {
     "data": {
      "text/html": [
       "<pre style=\"white-space:pre;overflow-x:auto;line-height:normal;font-family:Menlo,'DejaVu Sans Mono',consolas,'Courier New',monospace\"><span style=\"color: #800000; text-decoration-color: #800000\"> 'grid_cost': '0.001042',\n",
       "</span></pre>\n"
      ],
      "text/plain": [
       "\u001b[31m 'grid_cost': '0.001042',\n",
       "\u001b[0m"
      ]
     },
     "metadata": {},
     "output_type": "display_data"
    },
    {
     "data": {
      "text/html": [
       "<pre style=\"white-space:pre;overflow-x:auto;line-height:normal;font-family:Menlo,'DejaVu Sans Mono',consolas,'Courier New',monospace\"><span style=\"color: #800000; text-decoration-color: #800000\"> 'i': 5,\n",
       "</span></pre>\n"
      ],
      "text/plain": [
       "\u001b[31m 'i': 5,\n",
       "\u001b[0m"
      ]
     },
     "metadata": {},
     "output_type": "display_data"
    },
    {
     "data": {
      "text/html": [
       "<pre style=\"white-space:pre;overflow-x:auto;line-height:normal;font-family:Menlo,'DejaVu Sans Mono',consolas,'Courier New',monospace\"><span style=\"color: #800000; text-decoration-color: #800000\"> 'lamss': '-1.949910',\n",
       "</span></pre>\n"
      ],
      "text/plain": [
       "\u001b[31m 'lamss': '-1.949910',\n",
       "\u001b[0m"
      ]
     },
     "metadata": {},
     "output_type": "display_data"
    },
    {
     "data": {
      "text/html": [
       "<pre style=\"white-space:pre;overflow-x:auto;line-height:normal;font-family:Menlo,'DejaVu Sans Mono',consolas,'Courier New',monospace\"><span style=\"color: #800000; text-decoration-color: #800000\"> 'max(B_lamss)': '-1.916039',\n",
       "</span></pre>\n"
      ],
      "text/plain": [
       "\u001b[31m 'max(B_lamss)': '-1.916039',\n",
       "\u001b[0m"
      ]
     },
     "metadata": {},
     "output_type": "display_data"
    },
    {
     "data": {
      "text/html": [
       "<pre style=\"white-space:pre;overflow-x:auto;line-height:normal;font-family:Menlo,'DejaVu Sans Mono',consolas,'Courier New',monospace\"><span style=\"color: #800000; text-decoration-color: #800000\"> 'min(B_lamss)': '-1.959244',\n",
       "</span></pre>\n"
      ],
      "text/plain": [
       "\u001b[31m 'min(B_lamss)': '-1.959244',\n",
       "\u001b[0m"
      ]
     },
     "metadata": {},
     "output_type": "display_data"
    },
    {
     "data": {
      "text/html": [
       "<pre style=\"white-space:pre;overflow-x:auto;line-height:normal;font-family:Menlo,'DejaVu Sans Mono',consolas,'Courier New',monospace\"><span style=\"color: #800000; text-decoration-color: #800000\"> 'n_complete': 0,\n",
       "</span></pre>\n"
      ],
      "text/plain": [
       "\u001b[31m 'n_complete': 0,\n",
       "\u001b[0m"
      ]
     },
     "metadata": {},
     "output_type": "display_data"
    },
    {
     "data": {
      "text/html": [
       "<pre style=\"white-space:pre;overflow-x:auto;line-height:normal;font-family:Menlo,'DejaVu Sans Mono',consolas,'Courier New',monospace\"><span style=\"color: #800000; text-decoration-color: #800000\"> 'n_deepen': 5,\n",
       "</span></pre>\n"
      ],
      "text/plain": [
       "\u001b[31m 'n_deepen': 5,\n",
       "\u001b[0m"
      ]
     },
     "metadata": {},
     "output_type": "display_data"
    },
    {
     "data": {
      "text/html": [
       "<pre style=\"white-space:pre;overflow-x:auto;line-height:normal;font-family:Menlo,'DejaVu Sans Mono',consolas,'Courier New',monospace\"><span style=\"color: #800000; text-decoration-color: #800000\"> 'n_impossible': 0,\n",
       "</span></pre>\n"
      ],
      "text/plain": [
       "\u001b[31m 'n_impossible': 0,\n",
       "\u001b[0m"
      ]
     },
     "metadata": {},
     "output_type": "display_data"
    },
    {
     "data": {
      "text/html": [
       "<pre style=\"white-space:pre;overflow-x:auto;line-height:normal;font-family:Menlo,'DejaVu Sans Mono',consolas,'Courier New',monospace\"><span style=\"color: #800000; text-decoration-color: #800000\"> 'n_processed': 7,\n",
       "</span></pre>\n"
      ],
      "text/plain": [
       "\u001b[31m 'n_processed': 7,\n",
       "\u001b[0m"
      ]
     },
     "metadata": {},
     "output_type": "display_data"
    },
    {
     "data": {
      "text/html": [
       "<pre style=\"white-space:pre;overflow-x:auto;line-height:normal;font-family:Menlo,'DejaVu Sans Mono',consolas,'Courier New',monospace\"><span style=\"color: #800000; text-decoration-color: #800000\"> 'n_refine': 1,\n",
       "</span></pre>\n"
      ],
      "text/plain": [
       "\u001b[31m 'n_refine': 1,\n",
       "\u001b[0m"
      ]
     },
     "metadata": {},
     "output_type": "display_data"
    },
    {
     "data": {
      "text/html": [
       "<pre style=\"white-space:pre;overflow-x:auto;line-height:normal;font-family:Menlo,'DejaVu Sans Mono',consolas,'Courier New',monospace\"><span style=\"color: #800000; text-decoration-color: #800000\"> 'runtime_cleanup': '0.313329',\n",
       "</span></pre>\n"
      ],
      "text/plain": [
       "\u001b[31m 'runtime_cleanup': '0.313329',\n",
       "\u001b[0m"
      ]
     },
     "metadata": {},
     "output_type": "display_data"
    },
    {
     "data": {
      "text/html": [
       "<pre style=\"white-space:pre;overflow-x:auto;line-height:normal;font-family:Menlo,'DejaVu Sans Mono',consolas,'Courier New',monospace\"><span style=\"color: #800000; text-decoration-color: #800000\"> 'runtime_get_work': '0.236350',\n",
       "</span></pre>\n"
      ],
      "text/plain": [
       "\u001b[31m 'runtime_get_work': '0.236350',\n",
       "\u001b[0m"
      ]
     },
     "metadata": {},
     "output_type": "display_data"
    },
    {
     "data": {
      "text/html": [
       "<pre style=\"white-space:pre;overflow-x:auto;line-height:normal;font-family:Menlo,'DejaVu Sans Mono',consolas,'Courier New',monospace\"><span style=\"color: #800000; text-decoration-color: #800000\"> 'runtime_processing': '0.357255',\n",
       "</span></pre>\n"
      ],
      "text/plain": [
       "\u001b[31m 'runtime_processing': '0.357255',\n",
       "\u001b[0m"
      ]
     },
     "metadata": {},
     "output_type": "display_data"
    },
    {
     "data": {
      "text/html": [
       "<pre style=\"white-space:pre;overflow-x:auto;line-height:normal;font-family:Menlo,'DejaVu Sans Mono',consolas,'Courier New',monospace\"><span style=\"color: #800000; text-decoration-color: #800000\"> 'runtime_refine_deepen': '0.064530',\n",
       "</span></pre>\n"
      ],
      "text/plain": [
       "\u001b[31m 'runtime_refine_deepen': '0.064530',\n",
       "\u001b[0m"
      ]
     },
     "metadata": {},
     "output_type": "display_data"
    },
    {
     "data": {
      "text/html": [
       "<pre style=\"white-space:pre;overflow-x:auto;line-height:normal;font-family:Menlo,'DejaVu Sans Mono',consolas,'Courier New',monospace\"><span style=\"color: #800000; text-decoration-color: #800000\"> 'spread_tie': '0.002441',\n",
       "</span></pre>\n"
      ],
      "text/plain": [
       "\u001b[31m 'spread_tie': '0.002441',\n",
       "\u001b[0m"
      ]
     },
     "metadata": {},
     "output_type": "display_data"
    },
    {
     "data": {
      "text/html": [
       "<pre style=\"white-space:pre;overflow-x:auto;line-height:normal;font-family:Menlo,'DejaVu Sans Mono',consolas,'Courier New',monospace\"><span style=\"color: #800000; text-decoration-color: #800000\"> 'status': 'NEW_STEP',\n",
       "</span></pre>\n"
      ],
      "text/plain": [
       "\u001b[31m 'status': 'NEW_STEP',\n",
       "\u001b[0m"
      ]
     },
     "metadata": {},
     "output_type": "display_data"
    },
    {
     "data": {
      "text/html": [
       "<pre style=\"white-space:pre;overflow-x:auto;line-height:normal;font-family:Menlo,'DejaVu Sans Mono',consolas,'Courier New',monospace\"><span style=\"color: #800000; text-decoration-color: #800000\"> 'std_tie': '0.000841',\n",
       "</span></pre>\n"
      ],
      "text/plain": [
       "\u001b[31m 'std_tie': '0.000841',\n",
       "\u001b[0m"
      ]
     },
     "metadata": {},
     "output_type": "display_data"
    },
    {
     "data": {
      "text/html": [
       "<pre style=\"white-space:pre;overflow-x:auto;line-height:normal;font-family:Menlo,'DejaVu Sans Mono',consolas,'Courier New',monospace\"><span style=\"color: #800000; text-decoration-color: #800000\"> 'step_id': 5,\n",
       "</span></pre>\n"
      ],
      "text/plain": [
       "\u001b[31m 'step_id': 5,\n",
       "\u001b[0m"
      ]
     },
     "metadata": {},
     "output_type": "display_data"
    },
    {
     "data": {
      "text/html": [
       "<pre style=\"white-space:pre;overflow-x:auto;line-height:normal;font-family:Menlo,'DejaVu Sans Mono',consolas,'Courier New',monospace\"><span style=\"color: #800000; text-decoration-color: #800000\"> 'step_iter': 0,\n",
       "</span></pre>\n"
      ],
      "text/plain": [
       "\u001b[31m 'step_iter': 0,\n",
       "\u001b[0m"
      ]
     },
     "metadata": {},
     "output_type": "display_data"
    },
    {
     "data": {
      "text/html": [
       "<pre style=\"white-space:pre;overflow-x:auto;line-height:normal;font-family:Menlo,'DejaVu Sans Mono',consolas,'Courier New',monospace\"><span style=\"color: #800000; text-decoration-color: #800000\"> 'step_n_iter': 1,\n",
       "</span></pre>\n"
      ],
      "text/plain": [
       "\u001b[31m 'step_n_iter': 1,\n",
       "\u001b[0m"
      ]
     },
     "metadata": {},
     "output_type": "display_data"
    },
    {
     "data": {
      "text/html": [
       "<pre style=\"white-space:pre;overflow-x:auto;line-height:normal;font-family:Menlo,'DejaVu Sans Mono',consolas,'Courier New',monospace\"><span style=\"color: #800000; text-decoration-color: #800000\"> 'tie + slack': '0.024675',\n",
       "</span></pre>\n"
      ],
      "text/plain": [
       "\u001b[31m 'tie + slack': '0.024675',\n",
       "\u001b[0m"
      ]
     },
     "metadata": {},
     "output_type": "display_data"
    },
    {
     "data": {
      "text/html": [
       "<pre style=\"white-space:pre;overflow-x:auto;line-height:normal;font-family:Menlo,'DejaVu Sans Mono',consolas,'Courier New',monospace\"><span style=\"color: #800000; text-decoration-color: #800000\"> 'tie_{k}(lamss)': '0.023804',\n",
       "</span></pre>\n"
      ],
      "text/plain": [
       "\u001b[31m 'tie_{k}(lamss)': '0.023804',\n",
       "\u001b[0m"
      ]
     },
     "metadata": {},
     "output_type": "display_data"
    },
    {
     "data": {
      "text/html": [
       "<pre style=\"white-space:pre;overflow-x:auto;line-height:normal;font-family:Menlo,'DejaVu Sans Mono',consolas,'Courier New',monospace\"><span style=\"color: #800000; text-decoration-color: #800000\"> 'work_extraction_time': '1674150734.342324',\n",
       "</span></pre>\n"
      ],
      "text/plain": [
       "\u001b[31m 'work_extraction_time': '1674150734.342324',\n",
       "\u001b[0m"
      ]
     },
     "metadata": {},
     "output_type": "display_data"
    },
    {
     "data": {
      "text/html": [
       "<pre style=\"white-space:pre;overflow-x:auto;line-height:normal;font-family:Menlo,'DejaVu Sans Mono',consolas,'Courier New',monospace\"><span style=\"color: #800000; text-decoration-color: #800000\"> 'worker_id': 1}\n",
       "</span></pre>\n"
      ],
      "text/plain": [
       "\u001b[31m 'worker_id': 1}\n",
       "\u001b[0m"
      ]
     },
     "metadata": {},
     "output_type": "display_data"
    },
    {
     "data": {
      "text/html": [
       "<pre style=\"white-space:pre;overflow-x:auto;line-height:normal;font-family:Menlo,'DejaVu Sans Mono',consolas,'Courier New',monospace\"><span style=\"color: #800000; text-decoration-color: #800000\">2023-01-19T17:52:15+0000 get_work(step_id=6, step_iter=0)\n",
       "</span></pre>\n"
      ],
      "text/plain": [
       "\u001b[31m2023-01-19T17:52:15+0000 get_work(step_id=6, step_iter=0)\n",
       "\u001b[0m"
      ]
     },
     "metadata": {},
     "output_type": "display_data"
    },
    {
     "data": {
      "text/html": [
       "<pre style=\"white-space:pre;overflow-x:auto;line-height:normal;font-family:Menlo,'DejaVu Sans Mono',consolas,'Courier New',monospace\"><span style=\"color: #800000; text-decoration-color: #800000\">2023-01-19T17:52:15+0000 get_work(...) returned 7 tiles\n",
       "</span></pre>\n"
      ],
      "text/plain": [
       "\u001b[31m2023-01-19T17:52:15+0000 get_work(...) returned 7 tiles\n",
       "\u001b[0m"
      ]
     },
     "metadata": {},
     "output_type": "display_data"
    },
    {
     "data": {
      "text/html": [
       "<pre style=\"white-space:pre;overflow-x:auto;line-height:normal;font-family:Menlo,'DejaVu Sans Mono',consolas,'Courier New',monospace\"><span style=\"color: #800000; text-decoration-color: #800000\">2023-01-19T17:52:15+0000 Worker 2 has been waiting for work for 5 iterations. This might indicate a bug.\n",
       "</span></pre>\n"
      ],
      "text/plain": [
       "\u001b[31m2023-01-19T17:52:15+0000 Worker 2 has been waiting for work for 5 iterations. This might indicate a bug.\n",
       "\u001b[0m"
      ]
     },
     "metadata": {},
     "output_type": "display_data"
    },
    {
     "data": {
      "text/html": [
       "<pre style=\"white-space:pre;overflow-x:auto;line-height:normal;font-family:Menlo,'DejaVu Sans Mono',consolas,'Courier New',monospace\"><span style=\"color: #800000; text-decoration-color: #800000\">2023-01-19T17:52:16+0000 {'K_distribution': {16384: 2, 32768: 1, 65536: 1, 131072: 7},\n",
       "</span></pre>\n"
      ],
      "text/plain": [
       "\u001b[31m2023-01-19T17:52:16+0000 {'K_distribution': {16384: 2, 32768: 1, 65536: 1, 131072: 7},\n",
       "\u001b[0m"
      ]
     },
     "metadata": {},
     "output_type": "display_data"
    },
    {
     "data": {
      "text/html": [
       "<pre style=\"white-space:pre;overflow-x:auto;line-height:normal;font-family:Menlo,'DejaVu Sans Mono',consolas,'Courier New',monospace\"><span style=\"color: #800000; text-decoration-color: #800000\"> 'bias_tie': '0.000415',\n",
       "</span></pre>\n"
      ],
      "text/plain": [
       "\u001b[31m 'bias_tie': '0.000415',\n",
       "\u001b[0m"
      ]
     },
     "metadata": {},
     "output_type": "display_data"
    },
    {
     "data": {
      "text/html": [
       "<pre style=\"white-space:pre;overflow-x:auto;line-height:normal;font-family:Menlo,'DejaVu Sans Mono',consolas,'Courier New',monospace\"><span style=\"color: #800000; text-decoration-color: #800000\"> 'converged': '0.000000',\n",
       "</span></pre>\n"
      ],
      "text/plain": [
       "\u001b[31m 'converged': '0.000000',\n",
       "\u001b[0m"
      ]
     },
     "metadata": {},
     "output_type": "display_data"
    },
    {
     "data": {
      "text/html": [
       "<pre style=\"white-space:pre;overflow-x:auto;line-height:normal;font-family:Menlo,'DejaVu Sans Mono',consolas,'Courier New',monospace\"><span style=\"color: #800000; text-decoration-color: #800000\"> 'distributed_next_loop': 1,\n",
       "</span></pre>\n"
      ],
      "text/plain": [
       "\u001b[31m 'distributed_next_loop': 1,\n",
       "\u001b[0m"
      ]
     },
     "metadata": {},
     "output_type": "display_data"
    },
    {
     "data": {
      "text/html": [
       "<pre style=\"white-space:pre;overflow-x:auto;line-height:normal;font-family:Menlo,'DejaVu Sans Mono',consolas,'Courier New',monospace\"><span style=\"color: #800000; text-decoration-color: #800000\"> 'grid_cost': '0.001042',\n",
       "</span></pre>\n"
      ],
      "text/plain": [
       "\u001b[31m 'grid_cost': '0.001042',\n",
       "\u001b[0m"
      ]
     },
     "metadata": {},
     "output_type": "display_data"
    },
    {
     "data": {
      "text/html": [
       "<pre style=\"white-space:pre;overflow-x:auto;line-height:normal;font-family:Menlo,'DejaVu Sans Mono',consolas,'Courier New',monospace\"><span style=\"color: #800000; text-decoration-color: #800000\"> 'i': 6,\n",
       "</span></pre>\n"
      ],
      "text/plain": [
       "\u001b[31m 'i': 6,\n",
       "\u001b[0m"
      ]
     },
     "metadata": {},
     "output_type": "display_data"
    },
    {
     "data": {
      "text/html": [
       "<pre style=\"white-space:pre;overflow-x:auto;line-height:normal;font-family:Menlo,'DejaVu Sans Mono',consolas,'Courier New',monospace\"><span style=\"color: #800000; text-decoration-color: #800000\"> 'lamss': '-1.953752',\n",
       "</span></pre>\n"
      ],
      "text/plain": [
       "\u001b[31m 'lamss': '-1.953752',\n",
       "\u001b[0m"
      ]
     },
     "metadata": {},
     "output_type": "display_data"
    },
    {
     "data": {
      "text/html": [
       "<pre style=\"white-space:pre;overflow-x:auto;line-height:normal;font-family:Menlo,'DejaVu Sans Mono',consolas,'Courier New',monospace\"><span style=\"color: #800000; text-decoration-color: #800000\"> 'max(B_lamss)': '-1.936119',\n",
       "</span></pre>\n"
      ],
      "text/plain": [
       "\u001b[31m 'max(B_lamss)': '-1.936119',\n",
       "\u001b[0m"
      ]
     },
     "metadata": {},
     "output_type": "display_data"
    },
    {
     "data": {
      "text/html": [
       "<pre style=\"white-space:pre;overflow-x:auto;line-height:normal;font-family:Menlo,'DejaVu Sans Mono',consolas,'Courier New',monospace\"><span style=\"color: #800000; text-decoration-color: #800000\"> 'min(B_lamss)': '-1.978360',\n",
       "</span></pre>\n"
      ],
      "text/plain": [
       "\u001b[31m 'min(B_lamss)': '-1.978360',\n",
       "\u001b[0m"
      ]
     },
     "metadata": {},
     "output_type": "display_data"
    },
    {
     "data": {
      "text/html": [
       "<pre style=\"white-space:pre;overflow-x:auto;line-height:normal;font-family:Menlo,'DejaVu Sans Mono',consolas,'Courier New',monospace\"><span style=\"color: #800000; text-decoration-color: #800000\"> 'n_complete': 0,\n",
       "</span></pre>\n"
      ],
      "text/plain": [
       "\u001b[31m 'n_complete': 0,\n",
       "\u001b[0m"
      ]
     },
     "metadata": {},
     "output_type": "display_data"
    },
    {
     "data": {
      "text/html": [
       "<pre style=\"white-space:pre;overflow-x:auto;line-height:normal;font-family:Menlo,'DejaVu Sans Mono',consolas,'Courier New',monospace\"><span style=\"color: #800000; text-decoration-color: #800000\"> 'n_deepen': 3,\n",
       "</span></pre>\n"
      ],
      "text/plain": [
       "\u001b[31m 'n_deepen': 3,\n",
       "\u001b[0m"
      ]
     },
     "metadata": {},
     "output_type": "display_data"
    },
    {
     "data": {
      "text/html": [
       "<pre style=\"white-space:pre;overflow-x:auto;line-height:normal;font-family:Menlo,'DejaVu Sans Mono',consolas,'Courier New',monospace\"><span style=\"color: #800000; text-decoration-color: #800000\"> 'n_impossible': 0,\n",
       "</span></pre>\n"
      ],
      "text/plain": [
       "\u001b[31m 'n_impossible': 0,\n",
       "\u001b[0m"
      ]
     },
     "metadata": {},
     "output_type": "display_data"
    },
    {
     "data": {
      "text/html": [
       "<pre style=\"white-space:pre;overflow-x:auto;line-height:normal;font-family:Menlo,'DejaVu Sans Mono',consolas,'Courier New',monospace\"><span style=\"color: #800000; text-decoration-color: #800000\"> 'n_processed': 11,\n",
       "</span></pre>\n"
      ],
      "text/plain": [
       "\u001b[31m 'n_processed': 11,\n",
       "\u001b[0m"
      ]
     },
     "metadata": {},
     "output_type": "display_data"
    },
    {
     "data": {
      "text/html": [
       "<pre style=\"white-space:pre;overflow-x:auto;line-height:normal;font-family:Menlo,'DejaVu Sans Mono',consolas,'Courier New',monospace\"><span style=\"color: #800000; text-decoration-color: #800000\"> 'n_refine': 4,\n",
       "</span></pre>\n"
      ],
      "text/plain": [
       "\u001b[31m 'n_refine': 4,\n",
       "\u001b[0m"
      ]
     },
     "metadata": {},
     "output_type": "display_data"
    },
    {
     "data": {
      "text/html": [
       "<pre style=\"white-space:pre;overflow-x:auto;line-height:normal;font-family:Menlo,'DejaVu Sans Mono',consolas,'Courier New',monospace\"><span style=\"color: #800000; text-decoration-color: #800000\"> 'runtime_cleanup': '0.312017',\n",
       "</span></pre>\n"
      ],
      "text/plain": [
       "\u001b[31m 'runtime_cleanup': '0.312017',\n",
       "\u001b[0m"
      ]
     },
     "metadata": {},
     "output_type": "display_data"
    },
    {
     "data": {
      "text/html": [
       "<pre style=\"white-space:pre;overflow-x:auto;line-height:normal;font-family:Menlo,'DejaVu Sans Mono',consolas,'Courier New',monospace\"><span style=\"color: #800000; text-decoration-color: #800000\"> 'runtime_get_work': '0.320788',\n",
       "</span></pre>\n"
      ],
      "text/plain": [
       "\u001b[31m 'runtime_get_work': '0.320788',\n",
       "\u001b[0m"
      ]
     },
     "metadata": {},
     "output_type": "display_data"
    },
    {
     "data": {
      "text/html": [
       "<pre style=\"white-space:pre;overflow-x:auto;line-height:normal;font-family:Menlo,'DejaVu Sans Mono',consolas,'Courier New',monospace\"><span style=\"color: #800000; text-decoration-color: #800000\"> 'runtime_processing': '0.500974',\n",
       "</span></pre>\n"
      ],
      "text/plain": [
       "\u001b[31m 'runtime_processing': '0.500974',\n",
       "\u001b[0m"
      ]
     },
     "metadata": {},
     "output_type": "display_data"
    },
    {
     "data": {
      "text/html": [
       "<pre style=\"white-space:pre;overflow-x:auto;line-height:normal;font-family:Menlo,'DejaVu Sans Mono',consolas,'Courier New',monospace\"><span style=\"color: #800000; text-decoration-color: #800000\"> 'runtime_refine_deepen': '0.063247',\n",
       "</span></pre>\n"
      ],
      "text/plain": [
       "\u001b[31m 'runtime_refine_deepen': '0.063247',\n",
       "\u001b[0m"
      ]
     },
     "metadata": {},
     "output_type": "display_data"
    },
    {
     "data": {
      "text/html": [
       "<pre style=\"white-space:pre;overflow-x:auto;line-height:normal;font-family:Menlo,'DejaVu Sans Mono',consolas,'Courier New',monospace\"><span style=\"color: #800000; text-decoration-color: #800000\"> 'spread_tie': '0.002441',\n",
       "</span></pre>\n"
      ],
      "text/plain": [
       "\u001b[31m 'spread_tie': '0.002441',\n",
       "\u001b[0m"
      ]
     },
     "metadata": {},
     "output_type": "display_data"
    },
    {
     "data": {
      "text/html": [
       "<pre style=\"white-space:pre;overflow-x:auto;line-height:normal;font-family:Menlo,'DejaVu Sans Mono',consolas,'Courier New',monospace\"><span style=\"color: #800000; text-decoration-color: #800000\"> 'status': 'NEW_STEP',\n",
       "</span></pre>\n"
      ],
      "text/plain": [
       "\u001b[31m 'status': 'NEW_STEP',\n",
       "\u001b[0m"
      ]
     },
     "metadata": {},
     "output_type": "display_data"
    },
    {
     "data": {
      "text/html": [
       "<pre style=\"white-space:pre;overflow-x:auto;line-height:normal;font-family:Menlo,'DejaVu Sans Mono',consolas,'Courier New',monospace\"><span style=\"color: #800000; text-decoration-color: #800000\"> 'std_tie': '0.000820',\n",
       "</span></pre>\n"
      ],
      "text/plain": [
       "\u001b[31m 'std_tie': '0.000820',\n",
       "\u001b[0m"
      ]
     },
     "metadata": {},
     "output_type": "display_data"
    },
    {
     "data": {
      "text/html": [
       "<pre style=\"white-space:pre;overflow-x:auto;line-height:normal;font-family:Menlo,'DejaVu Sans Mono',consolas,'Courier New',monospace\"><span style=\"color: #800000; text-decoration-color: #800000\"> 'step_id': 6,\n",
       "</span></pre>\n"
      ],
      "text/plain": [
       "\u001b[31m 'step_id': 6,\n",
       "\u001b[0m"
      ]
     },
     "metadata": {},
     "output_type": "display_data"
    },
    {
     "data": {
      "text/html": [
       "<pre style=\"white-space:pre;overflow-x:auto;line-height:normal;font-family:Menlo,'DejaVu Sans Mono',consolas,'Courier New',monospace\"><span style=\"color: #800000; text-decoration-color: #800000\"> 'step_iter': 0,\n",
       "</span></pre>\n"
      ],
      "text/plain": [
       "\u001b[31m 'step_iter': 0,\n",
       "\u001b[0m"
      ]
     },
     "metadata": {},
     "output_type": "display_data"
    },
    {
     "data": {
      "text/html": [
       "<pre style=\"white-space:pre;overflow-x:auto;line-height:normal;font-family:Menlo,'DejaVu Sans Mono',consolas,'Courier New',monospace\"><span style=\"color: #800000; text-decoration-color: #800000\"> 'step_n_iter': 1,\n",
       "</span></pre>\n"
      ],
      "text/plain": [
       "\u001b[31m 'step_n_iter': 1,\n",
       "\u001b[0m"
      ]
     },
     "metadata": {},
     "output_type": "display_data"
    },
    {
     "data": {
      "text/html": [
       "<pre style=\"white-space:pre;overflow-x:auto;line-height:normal;font-family:Menlo,'DejaVu Sans Mono',consolas,'Courier New',monospace\"><span style=\"color: #800000; text-decoration-color: #800000\"> 'tie + slack': '0.025322',\n",
       "</span></pre>\n"
      ],
      "text/plain": [
       "\u001b[31m 'tie + slack': '0.025322',\n",
       "\u001b[0m"
      ]
     },
     "metadata": {},
     "output_type": "display_data"
    },
    {
     "data": {
      "text/html": [
       "<pre style=\"white-space:pre;overflow-x:auto;line-height:normal;font-family:Menlo,'DejaVu Sans Mono',consolas,'Courier New',monospace\"><span style=\"color: #800000; text-decoration-color: #800000\"> 'tie_{k}(lamss)': '0.023865',\n",
       "</span></pre>\n"
      ],
      "text/plain": [
       "\u001b[31m 'tie_{k}(lamss)': '0.023865',\n",
       "\u001b[0m"
      ]
     },
     "metadata": {},
     "output_type": "display_data"
    },
    {
     "data": {
      "text/html": [
       "<pre style=\"white-space:pre;overflow-x:auto;line-height:normal;font-family:Menlo,'DejaVu Sans Mono',consolas,'Courier New',monospace\"><span style=\"color: #800000; text-decoration-color: #800000\"> 'work_extraction_time': '1674150735.399124',\n",
       "</span></pre>\n"
      ],
      "text/plain": [
       "\u001b[31m 'work_extraction_time': '1674150735.399124',\n",
       "\u001b[0m"
      ]
     },
     "metadata": {},
     "output_type": "display_data"
    },
    {
     "data": {
      "text/html": [
       "<pre style=\"white-space:pre;overflow-x:auto;line-height:normal;font-family:Menlo,'DejaVu Sans Mono',consolas,'Courier New',monospace\"><span style=\"color: #800000; text-decoration-color: #800000\"> 'worker_id': 1}\n",
       "</span></pre>\n"
      ],
      "text/plain": [
       "\u001b[31m 'worker_id': 1}\n",
       "\u001b[0m"
      ]
     },
     "metadata": {},
     "output_type": "display_data"
    },
    {
     "data": {
      "text/html": [
       "<pre style=\"white-space:pre;overflow-x:auto;line-height:normal;font-family:Menlo,'DejaVu Sans Mono',consolas,'Courier New',monospace\"><span style=\"color: #800000; text-decoration-color: #800000\">2023-01-19T17:52:16+0000 get_work(step_id=7, step_iter=0)\n",
       "</span></pre>\n"
      ],
      "text/plain": [
       "\u001b[31m2023-01-19T17:52:16+0000 get_work(step_id=7, step_iter=0)\n",
       "\u001b[0m"
      ]
     },
     "metadata": {},
     "output_type": "display_data"
    },
    {
     "data": {
      "text/html": [
       "<pre style=\"white-space:pre;overflow-x:auto;line-height:normal;font-family:Menlo,'DejaVu Sans Mono',consolas,'Courier New',monospace\"><span style=\"color: #800000; text-decoration-color: #800000\">2023-01-19T17:52:16+0000 get_work(...) returned 6 tiles\n",
       "</span></pre>\n"
      ],
      "text/plain": [
       "\u001b[31m2023-01-19T17:52:16+0000 get_work(...) returned 6 tiles\n",
       "\u001b[0m"
      ]
     },
     "metadata": {},
     "output_type": "display_data"
    },
    {
     "data": {
      "text/html": [
       "<pre style=\"white-space:pre;overflow-x:auto;line-height:normal;font-family:Menlo,'DejaVu Sans Mono',consolas,'Courier New',monospace\"><span style=\"color: #800000; text-decoration-color: #800000\">2023-01-19T17:52:16+0000 Worker 2 has been waiting for work for 6 iterations. This might indicate a bug.\n",
       "</span></pre>\n"
      ],
      "text/plain": [
       "\u001b[31m2023-01-19T17:52:16+0000 Worker 2 has been waiting for work for 6 iterations. This might indicate a bug.\n",
       "\u001b[0m"
      ]
     },
     "metadata": {},
     "output_type": "display_data"
    },
    {
     "data": {
      "text/html": [
       "<pre style=\"white-space:pre;overflow-x:auto;line-height:normal;font-family:Menlo,'DejaVu Sans Mono',consolas,'Courier New',monospace\"><span style=\"color: #800000; text-decoration-color: #800000\">2023-01-19T17:52:16+0000 get_work(step_id=7, step_iter=1)\n",
       "</span></pre>\n"
      ],
      "text/plain": [
       "\u001b[31m2023-01-19T17:52:16+0000 get_work(step_id=7, step_iter=1)\n",
       "\u001b[0m"
      ]
     },
     "metadata": {},
     "output_type": "display_data"
    },
    {
     "data": {
      "text/html": [
       "<pre style=\"white-space:pre;overflow-x:auto;line-height:normal;font-family:Menlo,'DejaVu Sans Mono',consolas,'Courier New',monospace\"><span style=\"color: #800000; text-decoration-color: #800000\">2023-01-19T17:52:16+0000 get_work(...) returned 5 tiles\n",
       "</span></pre>\n"
      ],
      "text/plain": [
       "\u001b[31m2023-01-19T17:52:16+0000 get_work(...) returned 5 tiles\n",
       "\u001b[0m"
      ]
     },
     "metadata": {},
     "output_type": "display_data"
    },
    {
     "data": {
      "text/html": [
       "<pre style=\"white-space:pre;overflow-x:auto;line-height:normal;font-family:Menlo,'DejaVu Sans Mono',consolas,'Courier New',monospace\"><span style=\"color: #800000; text-decoration-color: #800000\">2023-01-19T17:52:17+0000 {'K_distribution': {16384: 2, 65536: 1, 131072: 8},\n",
       "</span></pre>\n"
      ],
      "text/plain": [
       "\u001b[31m2023-01-19T17:52:17+0000 {'K_distribution': {16384: 2, 65536: 1, 131072: 8},\n",
       "\u001b[0m"
      ]
     },
     "metadata": {},
     "output_type": "display_data"
    },
    {
     "data": {
      "text/html": [
       "<pre style=\"white-space:pre;overflow-x:auto;line-height:normal;font-family:Menlo,'DejaVu Sans Mono',consolas,'Courier New',monospace\"><span style=\"color: #800000; text-decoration-color: #800000\"> 'bias_tie': '0.000366',\n",
       "</span></pre>\n"
      ],
      "text/plain": [
       "\u001b[31m 'bias_tie': '0.000366',\n",
       "\u001b[0m"
      ]
     },
     "metadata": {},
     "output_type": "display_data"
    },
    {
     "data": {
      "text/html": [
       "<pre style=\"white-space:pre;overflow-x:auto;line-height:normal;font-family:Menlo,'DejaVu Sans Mono',consolas,'Courier New',monospace\"><span style=\"color: #800000; text-decoration-color: #800000\"> 'converged': '0.000000',\n",
       "</span></pre>\n"
      ],
      "text/plain": [
       "\u001b[31m 'converged': '0.000000',\n",
       "\u001b[0m"
      ]
     },
     "metadata": {},
     "output_type": "display_data"
    },
    {
     "data": {
      "text/html": [
       "<pre style=\"white-space:pre;overflow-x:auto;line-height:normal;font-family:Menlo,'DejaVu Sans Mono',consolas,'Courier New',monospace\"><span style=\"color: #800000; text-decoration-color: #800000\"> 'distributed_next_loop': 1,\n",
       "</span></pre>\n"
      ],
      "text/plain": [
       "\u001b[31m 'distributed_next_loop': 1,\n",
       "\u001b[0m"
      ]
     },
     "metadata": {},
     "output_type": "display_data"
    },
    {
     "data": {
      "text/html": [
       "<pre style=\"white-space:pre;overflow-x:auto;line-height:normal;font-family:Menlo,'DejaVu Sans Mono',consolas,'Courier New',monospace\"><span style=\"color: #800000; text-decoration-color: #800000\"> 'grid_cost': '0.000526',\n",
       "</span></pre>\n"
      ],
      "text/plain": [
       "\u001b[31m 'grid_cost': '0.000526',\n",
       "\u001b[0m"
      ]
     },
     "metadata": {},
     "output_type": "display_data"
    },
    {
     "data": {
      "text/html": [
       "<pre style=\"white-space:pre;overflow-x:auto;line-height:normal;font-family:Menlo,'DejaVu Sans Mono',consolas,'Courier New',monospace\"><span style=\"color: #800000; text-decoration-color: #800000\"> 'i': 7,\n",
       "</span></pre>\n"
      ],
      "text/plain": [
       "\u001b[31m 'i': 7,\n",
       "\u001b[0m"
      ]
     },
     "metadata": {},
     "output_type": "display_data"
    },
    {
     "data": {
      "text/html": [
       "<pre style=\"white-space:pre;overflow-x:auto;line-height:normal;font-family:Menlo,'DejaVu Sans Mono',consolas,'Courier New',monospace\"><span style=\"color: #800000; text-decoration-color: #800000\"> 'lamss': '-1.953787',\n",
       "</span></pre>\n"
      ],
      "text/plain": [
       "\u001b[31m 'lamss': '-1.953787',\n",
       "\u001b[0m"
      ]
     },
     "metadata": {},
     "output_type": "display_data"
    },
    {
     "data": {
      "text/html": [
       "<pre style=\"white-space:pre;overflow-x:auto;line-height:normal;font-family:Menlo,'DejaVu Sans Mono',consolas,'Courier New',monospace\"><span style=\"color: #800000; text-decoration-color: #800000\"> 'max(B_lamss)': '-1.929968',\n",
       "</span></pre>\n"
      ],
      "text/plain": [
       "\u001b[31m 'max(B_lamss)': '-1.929968',\n",
       "\u001b[0m"
      ]
     },
     "metadata": {},
     "output_type": "display_data"
    },
    {
     "data": {
      "text/html": [
       "<pre style=\"white-space:pre;overflow-x:auto;line-height:normal;font-family:Menlo,'DejaVu Sans Mono',consolas,'Courier New',monospace\"><span style=\"color: #800000; text-decoration-color: #800000\"> 'min(B_lamss)': '-1.978311',\n",
       "</span></pre>\n"
      ],
      "text/plain": [
       "\u001b[31m 'min(B_lamss)': '-1.978311',\n",
       "\u001b[0m"
      ]
     },
     "metadata": {},
     "output_type": "display_data"
    },
    {
     "data": {
      "text/html": [
       "<pre style=\"white-space:pre;overflow-x:auto;line-height:normal;font-family:Menlo,'DejaVu Sans Mono',consolas,'Courier New',monospace\"><span style=\"color: #800000; text-decoration-color: #800000\"> 'n_complete': 0,\n",
       "</span></pre>\n"
      ],
      "text/plain": [
       "\u001b[31m 'n_complete': 0,\n",
       "\u001b[0m"
      ]
     },
     "metadata": {},
     "output_type": "display_data"
    },
    {
     "data": {
      "text/html": [
       "<pre style=\"white-space:pre;overflow-x:auto;line-height:normal;font-family:Menlo,'DejaVu Sans Mono',consolas,'Courier New',monospace\"><span style=\"color: #800000; text-decoration-color: #800000\"> 'n_deepen': 1,\n",
       "</span></pre>\n"
      ],
      "text/plain": [
       "\u001b[31m 'n_deepen': 1,\n",
       "\u001b[0m"
      ]
     },
     "metadata": {},
     "output_type": "display_data"
    },
    {
     "data": {
      "text/html": [
       "<pre style=\"white-space:pre;overflow-x:auto;line-height:normal;font-family:Menlo,'DejaVu Sans Mono',consolas,'Courier New',monospace\"><span style=\"color: #800000; text-decoration-color: #800000\"> 'n_impossible': 0,\n",
       "</span></pre>\n"
      ],
      "text/plain": [
       "\u001b[31m 'n_impossible': 0,\n",
       "\u001b[0m"
      ]
     },
     "metadata": {},
     "output_type": "display_data"
    },
    {
     "data": {
      "text/html": [
       "<pre style=\"white-space:pre;overflow-x:auto;line-height:normal;font-family:Menlo,'DejaVu Sans Mono',consolas,'Courier New',monospace\"><span style=\"color: #800000; text-decoration-color: #800000\"> 'n_processed': 11,\n",
       "</span></pre>\n"
      ],
      "text/plain": [
       "\u001b[31m 'n_processed': 11,\n",
       "\u001b[0m"
      ]
     },
     "metadata": {},
     "output_type": "display_data"
    },
    {
     "data": {
      "text/html": [
       "<pre style=\"white-space:pre;overflow-x:auto;line-height:normal;font-family:Menlo,'DejaVu Sans Mono',consolas,'Courier New',monospace\"><span style=\"color: #800000; text-decoration-color: #800000\"> 'n_refine': 5,\n",
       "</span></pre>\n"
      ],
      "text/plain": [
       "\u001b[31m 'n_refine': 5,\n",
       "\u001b[0m"
      ]
     },
     "metadata": {},
     "output_type": "display_data"
    },
    {
     "data": {
      "text/html": [
       "<pre style=\"white-space:pre;overflow-x:auto;line-height:normal;font-family:Menlo,'DejaVu Sans Mono',consolas,'Courier New',monospace\"><span style=\"color: #800000; text-decoration-color: #800000\"> 'runtime_cleanup': '0.398851',\n",
       "</span></pre>\n"
      ],
      "text/plain": [
       "\u001b[31m 'runtime_cleanup': '0.398851',\n",
       "\u001b[0m"
      ]
     },
     "metadata": {},
     "output_type": "display_data"
    },
    {
     "data": {
      "text/html": [
       "<pre style=\"white-space:pre;overflow-x:auto;line-height:normal;font-family:Menlo,'DejaVu Sans Mono',consolas,'Courier New',monospace\"><span style=\"color: #800000; text-decoration-color: #800000\"> 'runtime_get_work': '0.281843',\n",
       "</span></pre>\n"
      ],
      "text/plain": [
       "\u001b[31m 'runtime_get_work': '0.281843',\n",
       "\u001b[0m"
      ]
     },
     "metadata": {},
     "output_type": "display_data"
    },
    {
     "data": {
      "text/html": [
       "<pre style=\"white-space:pre;overflow-x:auto;line-height:normal;font-family:Menlo,'DejaVu Sans Mono',consolas,'Courier New',monospace\"><span style=\"color: #800000; text-decoration-color: #800000\"> 'runtime_processing': '0.467525',\n",
       "</span></pre>\n"
      ],
      "text/plain": [
       "\u001b[31m 'runtime_processing': '0.467525',\n",
       "\u001b[0m"
      ]
     },
     "metadata": {},
     "output_type": "display_data"
    },
    {
     "data": {
      "text/html": [
       "<pre style=\"white-space:pre;overflow-x:auto;line-height:normal;font-family:Menlo,'DejaVu Sans Mono',consolas,'Courier New',monospace\"><span style=\"color: #800000; text-decoration-color: #800000\"> 'runtime_refine_deepen': '0.063997',\n",
       "</span></pre>\n"
      ],
      "text/plain": [
       "\u001b[31m 'runtime_refine_deepen': '0.063997',\n",
       "\u001b[0m"
      ]
     },
     "metadata": {},
     "output_type": "display_data"
    },
    {
     "data": {
      "text/html": [
       "<pre style=\"white-space:pre;overflow-x:auto;line-height:normal;font-family:Menlo,'DejaVu Sans Mono',consolas,'Courier New',monospace\"><span style=\"color: #800000; text-decoration-color: #800000\"> 'spread_tie': '0.002747',\n",
       "</span></pre>\n"
      ],
      "text/plain": [
       "\u001b[31m 'spread_tie': '0.002747',\n",
       "\u001b[0m"
      ]
     },
     "metadata": {},
     "output_type": "display_data"
    },
    {
     "data": {
      "text/html": [
       "<pre style=\"white-space:pre;overflow-x:auto;line-height:normal;font-family:Menlo,'DejaVu Sans Mono',consolas,'Courier New',monospace\"><span style=\"color: #800000; text-decoration-color: #800000\"> 'status': 'NEW_STEP',\n",
       "</span></pre>\n"
      ],
      "text/plain": [
       "\u001b[31m 'status': 'NEW_STEP',\n",
       "\u001b[0m"
      ]
     },
     "metadata": {},
     "output_type": "display_data"
    },
    {
     "data": {
      "text/html": [
       "<pre style=\"white-space:pre;overflow-x:auto;line-height:normal;font-family:Menlo,'DejaVu Sans Mono',consolas,'Courier New',monospace\"><span style=\"color: #800000; text-decoration-color: #800000\"> 'std_tie': '0.000960',\n",
       "</span></pre>\n"
      ],
      "text/plain": [
       "\u001b[31m 'std_tie': '0.000960',\n",
       "\u001b[0m"
      ]
     },
     "metadata": {},
     "output_type": "display_data"
    },
    {
     "data": {
      "text/html": [
       "<pre style=\"white-space:pre;overflow-x:auto;line-height:normal;font-family:Menlo,'DejaVu Sans Mono',consolas,'Courier New',monospace\"><span style=\"color: #800000; text-decoration-color: #800000\"> 'step_id': 7,\n",
       "</span></pre>\n"
      ],
      "text/plain": [
       "\u001b[31m 'step_id': 7,\n",
       "\u001b[0m"
      ]
     },
     "metadata": {},
     "output_type": "display_data"
    },
    {
     "data": {
      "text/html": [
       "<pre style=\"white-space:pre;overflow-x:auto;line-height:normal;font-family:Menlo,'DejaVu Sans Mono',consolas,'Courier New',monospace\"><span style=\"color: #800000; text-decoration-color: #800000\"> 'step_iter': 0,\n",
       "</span></pre>\n"
      ],
      "text/plain": [
       "\u001b[31m 'step_iter': 0,\n",
       "\u001b[0m"
      ]
     },
     "metadata": {},
     "output_type": "display_data"
    },
    {
     "data": {
      "text/html": [
       "<pre style=\"white-space:pre;overflow-x:auto;line-height:normal;font-family:Menlo,'DejaVu Sans Mono',consolas,'Courier New',monospace\"><span style=\"color: #800000; text-decoration-color: #800000\"> 'step_n_iter': 2,\n",
       "</span></pre>\n"
      ],
      "text/plain": [
       "\u001b[31m 'step_n_iter': 2,\n",
       "\u001b[0m"
      ]
     },
     "metadata": {},
     "output_type": "display_data"
    },
    {
     "data": {
      "text/html": [
       "<pre style=\"white-space:pre;overflow-x:auto;line-height:normal;font-family:Menlo,'DejaVu Sans Mono',consolas,'Courier New',monospace\"><span style=\"color: #800000; text-decoration-color: #800000\"> 'tie + slack': '0.025306',\n",
       "</span></pre>\n"
      ],
      "text/plain": [
       "\u001b[31m 'tie + slack': '0.025306',\n",
       "\u001b[0m"
      ]
     },
     "metadata": {},
     "output_type": "display_data"
    },
    {
     "data": {
      "text/html": [
       "<pre style=\"white-space:pre;overflow-x:auto;line-height:normal;font-family:Menlo,'DejaVu Sans Mono',consolas,'Courier New',monospace\"><span style=\"color: #800000; text-decoration-color: #800000\"> 'tie_{k}(lamss)': '0.024414',\n",
       "</span></pre>\n"
      ],
      "text/plain": [
       "\u001b[31m 'tie_{k}(lamss)': '0.024414',\n",
       "\u001b[0m"
      ]
     },
     "metadata": {},
     "output_type": "display_data"
    },
    {
     "data": {
      "text/html": [
       "<pre style=\"white-space:pre;overflow-x:auto;line-height:normal;font-family:Menlo,'DejaVu Sans Mono',consolas,'Courier New',monospace\"><span style=\"color: #800000; text-decoration-color: #800000\"> 'work_extraction_time': '1674150736.558352',\n",
       "</span></pre>\n"
      ],
      "text/plain": [
       "\u001b[31m 'work_extraction_time': '1674150736.558352',\n",
       "\u001b[0m"
      ]
     },
     "metadata": {},
     "output_type": "display_data"
    },
    {
     "data": {
      "text/html": [
       "<pre style=\"white-space:pre;overflow-x:auto;line-height:normal;font-family:Menlo,'DejaVu Sans Mono',consolas,'Courier New',monospace\"><span style=\"color: #800000; text-decoration-color: #800000\"> 'worker_id': 1}\n",
       "</span></pre>\n"
      ],
      "text/plain": [
       "\u001b[31m 'worker_id': 1}\n",
       "\u001b[0m"
      ]
     },
     "metadata": {},
     "output_type": "display_data"
    },
    {
     "data": {
      "text/html": [
       "<pre style=\"white-space:pre;overflow-x:auto;line-height:normal;font-family:Menlo,'DejaVu Sans Mono',consolas,'Courier New',monospace\"><span style=\"color: #800000; text-decoration-color: #800000\">2023-01-19T17:52:17+0000 {'K_distribution': {32768: 1, 131072: 7},\n",
       "</span></pre>\n"
      ],
      "text/plain": [
       "\u001b[31m2023-01-19T17:52:17+0000 {'K_distribution': {32768: 1, 131072: 7},\n",
       "\u001b[0m"
      ]
     },
     "metadata": {},
     "output_type": "display_data"
    },
    {
     "data": {
      "text/html": [
       "<pre style=\"white-space:pre;overflow-x:auto;line-height:normal;font-family:Menlo,'DejaVu Sans Mono',consolas,'Courier New',monospace\"><span style=\"color: #800000; text-decoration-color: #800000\"> 'distributed_next_loop': 7,\n",
       "</span></pre>\n"
      ],
      "text/plain": [
       "\u001b[31m 'distributed_next_loop': 7,\n",
       "\u001b[0m"
      ]
     },
     "metadata": {},
     "output_type": "display_data"
    },
    {
     "data": {
      "text/html": [
       "<pre style=\"white-space:pre;overflow-x:auto;line-height:normal;font-family:Menlo,'DejaVu Sans Mono',consolas,'Courier New',monospace\"><span style=\"color: #800000; text-decoration-color: #800000\"> 'i': 0,\n",
       "</span></pre>\n"
      ],
      "text/plain": [
       "\u001b[31m 'i': 0,\n",
       "\u001b[0m"
      ]
     },
     "metadata": {},
     "output_type": "display_data"
    },
    {
     "data": {
      "text/html": [
       "<pre style=\"white-space:pre;overflow-x:auto;line-height:normal;font-family:Menlo,'DejaVu Sans Mono',consolas,'Courier New',monospace\"><span style=\"color: #800000; text-decoration-color: #800000\"> 'n_complete': 0,\n",
       "</span></pre>\n"
      ],
      "text/plain": [
       "\u001b[31m 'n_complete': 0,\n",
       "\u001b[0m"
      ]
     },
     "metadata": {},
     "output_type": "display_data"
    },
    {
     "data": {
      "text/html": [
       "<pre style=\"white-space:pre;overflow-x:auto;line-height:normal;font-family:Menlo,'DejaVu Sans Mono',consolas,'Courier New',monospace\"><span style=\"color: #800000; text-decoration-color: #800000\"> 'n_deepen': 2,\n",
       "</span></pre>\n"
      ],
      "text/plain": [
       "\u001b[31m 'n_deepen': 2,\n",
       "\u001b[0m"
      ]
     },
     "metadata": {},
     "output_type": "display_data"
    },
    {
     "data": {
      "text/html": [
       "<pre style=\"white-space:pre;overflow-x:auto;line-height:normal;font-family:Menlo,'DejaVu Sans Mono',consolas,'Courier New',monospace\"><span style=\"color: #800000; text-decoration-color: #800000\"> 'n_impossible': 0,\n",
       "</span></pre>\n"
      ],
      "text/plain": [
       "\u001b[31m 'n_impossible': 0,\n",
       "\u001b[0m"
      ]
     },
     "metadata": {},
     "output_type": "display_data"
    },
    {
     "data": {
      "text/html": [
       "<pre style=\"white-space:pre;overflow-x:auto;line-height:normal;font-family:Menlo,'DejaVu Sans Mono',consolas,'Courier New',monospace\"><span style=\"color: #800000; text-decoration-color: #800000\"> 'n_processed': 8,\n",
       "</span></pre>\n"
      ],
      "text/plain": [
       "\u001b[31m 'n_processed': 8,\n",
       "\u001b[0m"
      ]
     },
     "metadata": {},
     "output_type": "display_data"
    },
    {
     "data": {
      "text/html": [
       "<pre style=\"white-space:pre;overflow-x:auto;line-height:normal;font-family:Menlo,'DejaVu Sans Mono',consolas,'Courier New',monospace\"><span style=\"color: #800000; text-decoration-color: #800000\"> 'n_refine': 3,\n",
       "</span></pre>\n"
      ],
      "text/plain": [
       "\u001b[31m 'n_refine': 3,\n",
       "\u001b[0m"
      ]
     },
     "metadata": {},
     "output_type": "display_data"
    },
    {
     "data": {
      "text/html": [
       "<pre style=\"white-space:pre;overflow-x:auto;line-height:normal;font-family:Menlo,'DejaVu Sans Mono',consolas,'Courier New',monospace\"><span style=\"color: #800000; text-decoration-color: #800000\"> 'runtime_cleanup': '0.356002',\n",
       "</span></pre>\n"
      ],
      "text/plain": [
       "\u001b[31m 'runtime_cleanup': '0.356002',\n",
       "\u001b[0m"
      ]
     },
     "metadata": {},
     "output_type": "display_data"
    },
    {
     "data": {
      "text/html": [
       "<pre style=\"white-space:pre;overflow-x:auto;line-height:normal;font-family:Menlo,'DejaVu Sans Mono',consolas,'Courier New',monospace\"><span style=\"color: #800000; text-decoration-color: #800000\"> 'runtime_get_work': '7.459028',\n",
       "</span></pre>\n"
      ],
      "text/plain": [
       "\u001b[31m 'runtime_get_work': '7.459028',\n",
       "\u001b[0m"
      ]
     },
     "metadata": {},
     "output_type": "display_data"
    },
    {
     "data": {
      "text/html": [
       "<pre style=\"white-space:pre;overflow-x:auto;line-height:normal;font-family:Menlo,'DejaVu Sans Mono',consolas,'Courier New',monospace\"><span style=\"color: #800000; text-decoration-color: #800000\"> 'runtime_processing': '0.603924',\n",
       "</span></pre>\n"
      ],
      "text/plain": [
       "\u001b[31m 'runtime_processing': '0.603924',\n",
       "\u001b[0m"
      ]
     },
     "metadata": {},
     "output_type": "display_data"
    },
    {
     "data": {
      "text/html": [
       "<pre style=\"white-space:pre;overflow-x:auto;line-height:normal;font-family:Menlo,'DejaVu Sans Mono',consolas,'Courier New',monospace\"><span style=\"color: #800000; text-decoration-color: #800000\"> 'runtime_refine_deepen': '0.258677',\n",
       "</span></pre>\n"
      ],
      "text/plain": [
       "\u001b[31m 'runtime_refine_deepen': '0.258677',\n",
       "\u001b[0m"
      ]
     },
     "metadata": {},
     "output_type": "display_data"
    },
    {
     "data": {
      "text/html": [
       "<pre style=\"white-space:pre;overflow-x:auto;line-height:normal;font-family:Menlo,'DejaVu Sans Mono',consolas,'Courier New',monospace\"><span style=\"color: #800000; text-decoration-color: #800000\"> 'status': 'WORKING',\n",
       "</span></pre>\n"
      ],
      "text/plain": [
       "\u001b[31m 'status': 'WORKING',\n",
       "\u001b[0m"
      ]
     },
     "metadata": {},
     "output_type": "display_data"
    },
    {
     "data": {
      "text/html": [
       "<pre style=\"white-space:pre;overflow-x:auto;line-height:normal;font-family:Menlo,'DejaVu Sans Mono',consolas,'Courier New',monospace\"><span style=\"color: #800000; text-decoration-color: #800000\"> 'step_id': 7,\n",
       "</span></pre>\n"
      ],
      "text/plain": [
       "\u001b[31m 'step_id': 7,\n",
       "\u001b[0m"
      ]
     },
     "metadata": {},
     "output_type": "display_data"
    },
    {
     "data": {
      "text/html": [
       "<pre style=\"white-space:pre;overflow-x:auto;line-height:normal;font-family:Menlo,'DejaVu Sans Mono',consolas,'Courier New',monospace\"><span style=\"color: #800000; text-decoration-color: #800000\"> 'step_iter': 1,\n",
       "</span></pre>\n"
      ],
      "text/plain": [
       "\u001b[31m 'step_iter': 1,\n",
       "\u001b[0m"
      ]
     },
     "metadata": {},
     "output_type": "display_data"
    },
    {
     "data": {
      "text/html": [
       "<pre style=\"white-space:pre;overflow-x:auto;line-height:normal;font-family:Menlo,'DejaVu Sans Mono',consolas,'Courier New',monospace\"><span style=\"color: #800000; text-decoration-color: #800000\"> 'step_n_iter': 2,\n",
       "</span></pre>\n"
      ],
      "text/plain": [
       "\u001b[31m 'step_n_iter': 2,\n",
       "\u001b[0m"
      ]
     },
     "metadata": {},
     "output_type": "display_data"
    },
    {
     "data": {
      "text/html": [
       "<pre style=\"white-space:pre;overflow-x:auto;line-height:normal;font-family:Menlo,'DejaVu Sans Mono',consolas,'Courier New',monospace\"><span style=\"color: #800000; text-decoration-color: #800000\"> 'work_extraction_time': '1674150736.720992',\n",
       "</span></pre>\n"
      ],
      "text/plain": [
       "\u001b[31m 'work_extraction_time': '1674150736.720992',\n",
       "\u001b[0m"
      ]
     },
     "metadata": {},
     "output_type": "display_data"
    },
    {
     "data": {
      "text/html": [
       "<pre style=\"white-space:pre;overflow-x:auto;line-height:normal;font-family:Menlo,'DejaVu Sans Mono',consolas,'Courier New',monospace\"><span style=\"color: #800000; text-decoration-color: #800000\"> 'worker_id': 2}\n",
       "</span></pre>\n"
      ],
      "text/plain": [
       "\u001b[31m 'worker_id': 2}\n",
       "\u001b[0m"
      ]
     },
     "metadata": {},
     "output_type": "display_data"
    },
    {
     "data": {
      "text/html": [
       "<pre style=\"white-space:pre;overflow-x:auto;line-height:normal;font-family:Menlo,'DejaVu Sans Mono',consolas,'Courier New',monospace\"><span style=\"color: #800000; text-decoration-color: #800000\">2023-01-19T17:52:18+0000 get_work(step_id=8, step_iter=0)\n",
       "</span></pre>\n"
      ],
      "text/plain": [
       "\u001b[31m2023-01-19T17:52:18+0000 get_work(step_id=8, step_iter=0)\n",
       "\u001b[0m"
      ]
     },
     "metadata": {},
     "output_type": "display_data"
    },
    {
     "data": {
      "text/html": [
       "<pre style=\"white-space:pre;overflow-x:auto;line-height:normal;font-family:Menlo,'DejaVu Sans Mono',consolas,'Courier New',monospace\"><span style=\"color: #800000; text-decoration-color: #800000\">2023-01-19T17:52:18+0000 get_work(...) returned 7 tiles\n",
       "</span></pre>\n"
      ],
      "text/plain": [
       "\u001b[31m2023-01-19T17:52:18+0000 get_work(...) returned 7 tiles\n",
       "\u001b[0m"
      ]
     },
     "metadata": {},
     "output_type": "display_data"
    },
    {
     "data": {
      "text/html": [
       "<pre style=\"white-space:pre;overflow-x:auto;line-height:normal;font-family:Menlo,'DejaVu Sans Mono',consolas,'Courier New',monospace\"><span style=\"color: #800000; text-decoration-color: #800000\">2023-01-19T17:52:18+0000 get_work(step_id=8, step_iter=1)\n",
       "</span></pre>\n"
      ],
      "text/plain": [
       "\u001b[31m2023-01-19T17:52:18+0000 get_work(step_id=8, step_iter=1)\n",
       "\u001b[0m"
      ]
     },
     "metadata": {},
     "output_type": "display_data"
    },
    {
     "data": {
      "text/html": [
       "<pre style=\"white-space:pre;overflow-x:auto;line-height:normal;font-family:Menlo,'DejaVu Sans Mono',consolas,'Courier New',monospace\"><span style=\"color: #800000; text-decoration-color: #800000\">2023-01-19T17:52:18+0000 get_work(...) returned 6 tiles\n",
       "</span></pre>\n"
      ],
      "text/plain": [
       "\u001b[31m2023-01-19T17:52:18+0000 get_work(...) returned 6 tiles\n",
       "\u001b[0m"
      ]
     },
     "metadata": {},
     "output_type": "display_data"
    },
    {
     "data": {
      "text/html": [
       "<pre style=\"white-space:pre;overflow-x:auto;line-height:normal;font-family:Menlo,'DejaVu Sans Mono',consolas,'Courier New',monospace\"><span style=\"color: #800000; text-decoration-color: #800000\">2023-01-19T17:52:19+0000 {'K_distribution': {32768: 1, 131072: 11},\n",
       "</span></pre>\n"
      ],
      "text/plain": [
       "\u001b[31m2023-01-19T17:52:19+0000 {'K_distribution': {32768: 1, 131072: 11},\n",
       "\u001b[0m"
      ]
     },
     "metadata": {},
     "output_type": "display_data"
    },
    {
     "data": {
      "text/html": [
       "<pre style=\"white-space:pre;overflow-x:auto;line-height:normal;font-family:Menlo,'DejaVu Sans Mono',consolas,'Courier New',monospace\"><span style=\"color: #800000; text-decoration-color: #800000\"> 'bias_tie': '0.000415',\n",
       "</span></pre>\n"
      ],
      "text/plain": [
       "\u001b[31m 'bias_tie': '0.000415',\n",
       "\u001b[0m"
      ]
     },
     "metadata": {},
     "output_type": "display_data"
    },
    {
     "data": {
      "text/html": [
       "<pre style=\"white-space:pre;overflow-x:auto;line-height:normal;font-family:Menlo,'DejaVu Sans Mono',consolas,'Courier New',monospace\"><span style=\"color: #800000; text-decoration-color: #800000\"> 'converged': '0.000000',\n",
       "</span></pre>\n"
      ],
      "text/plain": [
       "\u001b[31m 'converged': '0.000000',\n",
       "\u001b[0m"
      ]
     },
     "metadata": {},
     "output_type": "display_data"
    },
    {
     "data": {
      "text/html": [
       "<pre style=\"white-space:pre;overflow-x:auto;line-height:normal;font-family:Menlo,'DejaVu Sans Mono',consolas,'Courier New',monospace\"><span style=\"color: #800000; text-decoration-color: #800000\"> 'distributed_next_loop': 1,\n",
       "</span></pre>\n"
      ],
      "text/plain": [
       "\u001b[31m 'distributed_next_loop': 1,\n",
       "\u001b[0m"
      ]
     },
     "metadata": {},
     "output_type": "display_data"
    },
    {
     "data": {
      "text/html": [
       "<pre style=\"white-space:pre;overflow-x:auto;line-height:normal;font-family:Menlo,'DejaVu Sans Mono',consolas,'Courier New',monospace\"><span style=\"color: #800000; text-decoration-color: #800000\"> 'grid_cost': '0.000264',\n",
       "</span></pre>\n"
      ],
      "text/plain": [
       "\u001b[31m 'grid_cost': '0.000264',\n",
       "\u001b[0m"
      ]
     },
     "metadata": {},
     "output_type": "display_data"
    },
    {
     "data": {
      "text/html": [
       "<pre style=\"white-space:pre;overflow-x:auto;line-height:normal;font-family:Menlo,'DejaVu Sans Mono',consolas,'Courier New',monospace\"><span style=\"color: #800000; text-decoration-color: #800000\"> 'i': 1,\n",
       "</span></pre>\n"
      ],
      "text/plain": [
       "\u001b[31m 'i': 1,\n",
       "\u001b[0m"
      ]
     },
     "metadata": {},
     "output_type": "display_data"
    },
    {
     "data": {
      "text/html": [
       "<pre style=\"white-space:pre;overflow-x:auto;line-height:normal;font-family:Menlo,'DejaVu Sans Mono',consolas,'Courier New',monospace\"><span style=\"color: #800000; text-decoration-color: #800000\"> 'lamss': '-1.951419',\n",
       "</span></pre>\n"
      ],
      "text/plain": [
       "\u001b[31m 'lamss': '-1.951419',\n",
       "\u001b[0m"
      ]
     },
     "metadata": {},
     "output_type": "display_data"
    },
    {
     "data": {
      "text/html": [
       "<pre style=\"white-space:pre;overflow-x:auto;line-height:normal;font-family:Menlo,'DejaVu Sans Mono',consolas,'Courier New',monospace\"><span style=\"color: #800000; text-decoration-color: #800000\"> 'max(B_lamss)': '-1.933531',\n",
       "</span></pre>\n"
      ],
      "text/plain": [
       "\u001b[31m 'max(B_lamss)': '-1.933531',\n",
       "\u001b[0m"
      ]
     },
     "metadata": {},
     "output_type": "display_data"
    },
    {
     "data": {
      "text/html": [
       "<pre style=\"white-space:pre;overflow-x:auto;line-height:normal;font-family:Menlo,'DejaVu Sans Mono',consolas,'Courier New',monospace\"><span style=\"color: #800000; text-decoration-color: #800000\"> 'min(B_lamss)': '-1.978410',\n",
       "</span></pre>\n"
      ],
      "text/plain": [
       "\u001b[31m 'min(B_lamss)': '-1.978410',\n",
       "\u001b[0m"
      ]
     },
     "metadata": {},
     "output_type": "display_data"
    },
    {
     "data": {
      "text/html": [
       "<pre style=\"white-space:pre;overflow-x:auto;line-height:normal;font-family:Menlo,'DejaVu Sans Mono',consolas,'Courier New',monospace\"><span style=\"color: #800000; text-decoration-color: #800000\"> 'n_complete': 0,\n",
       "</span></pre>\n"
      ],
      "text/plain": [
       "\u001b[31m 'n_complete': 0,\n",
       "\u001b[0m"
      ]
     },
     "metadata": {},
     "output_type": "display_data"
    },
    {
     "data": {
      "text/html": [
       "<pre style=\"white-space:pre;overflow-x:auto;line-height:normal;font-family:Menlo,'DejaVu Sans Mono',consolas,'Courier New',monospace\"><span style=\"color: #800000; text-decoration-color: #800000\"> 'n_deepen': 2,\n",
       "</span></pre>\n"
      ],
      "text/plain": [
       "\u001b[31m 'n_deepen': 2,\n",
       "\u001b[0m"
      ]
     },
     "metadata": {},
     "output_type": "display_data"
    },
    {
     "data": {
      "text/html": [
       "<pre style=\"white-space:pre;overflow-x:auto;line-height:normal;font-family:Menlo,'DejaVu Sans Mono',consolas,'Courier New',monospace\"><span style=\"color: #800000; text-decoration-color: #800000\"> 'n_impossible': 0,\n",
       "</span></pre>\n"
      ],
      "text/plain": [
       "\u001b[31m 'n_impossible': 0,\n",
       "\u001b[0m"
      ]
     },
     "metadata": {},
     "output_type": "display_data"
    },
    {
     "data": {
      "text/html": [
       "<pre style=\"white-space:pre;overflow-x:auto;line-height:normal;font-family:Menlo,'DejaVu Sans Mono',consolas,'Courier New',monospace\"><span style=\"color: #800000; text-decoration-color: #800000\"> 'n_processed': 12,\n",
       "</span></pre>\n"
      ],
      "text/plain": [
       "\u001b[31m 'n_processed': 12,\n",
       "\u001b[0m"
      ]
     },
     "metadata": {},
     "output_type": "display_data"
    },
    {
     "data": {
      "text/html": [
       "<pre style=\"white-space:pre;overflow-x:auto;line-height:normal;font-family:Menlo,'DejaVu Sans Mono',consolas,'Courier New',monospace\"><span style=\"color: #800000; text-decoration-color: #800000\"> 'n_refine': 5,\n",
       "</span></pre>\n"
      ],
      "text/plain": [
       "\u001b[31m 'n_refine': 5,\n",
       "\u001b[0m"
      ]
     },
     "metadata": {},
     "output_type": "display_data"
    },
    {
     "data": {
      "text/html": [
       "<pre style=\"white-space:pre;overflow-x:auto;line-height:normal;font-family:Menlo,'DejaVu Sans Mono',consolas,'Courier New',monospace\"><span style=\"color: #800000; text-decoration-color: #800000\"> 'runtime_cleanup': '0.382510',\n",
       "</span></pre>\n"
      ],
      "text/plain": [
       "\u001b[31m 'runtime_cleanup': '0.382510',\n",
       "\u001b[0m"
      ]
     },
     "metadata": {},
     "output_type": "display_data"
    },
    {
     "data": {
      "text/html": [
       "<pre style=\"white-space:pre;overflow-x:auto;line-height:normal;font-family:Menlo,'DejaVu Sans Mono',consolas,'Courier New',monospace\"><span style=\"color: #800000; text-decoration-color: #800000\"> 'runtime_get_work': '0.419852',\n",
       "</span></pre>\n"
      ],
      "text/plain": [
       "\u001b[31m 'runtime_get_work': '0.419852',\n",
       "\u001b[0m"
      ]
     },
     "metadata": {},
     "output_type": "display_data"
    },
    {
     "data": {
      "text/html": [
       "<pre style=\"white-space:pre;overflow-x:auto;line-height:normal;font-family:Menlo,'DejaVu Sans Mono',consolas,'Courier New',monospace\"><span style=\"color: #800000; text-decoration-color: #800000\"> 'runtime_processing': '0.531698',\n",
       "</span></pre>\n"
      ],
      "text/plain": [
       "\u001b[31m 'runtime_processing': '0.531698',\n",
       "\u001b[0m"
      ]
     },
     "metadata": {},
     "output_type": "display_data"
    },
    {
     "data": {
      "text/html": [
       "<pre style=\"white-space:pre;overflow-x:auto;line-height:normal;font-family:Menlo,'DejaVu Sans Mono',consolas,'Courier New',monospace\"><span style=\"color: #800000; text-decoration-color: #800000\"> 'runtime_refine_deepen': '0.061254',\n",
       "</span></pre>\n"
      ],
      "text/plain": [
       "\u001b[31m 'runtime_refine_deepen': '0.061254',\n",
       "\u001b[0m"
      ]
     },
     "metadata": {},
     "output_type": "display_data"
    },
    {
     "data": {
      "text/html": [
       "<pre style=\"white-space:pre;overflow-x:auto;line-height:normal;font-family:Menlo,'DejaVu Sans Mono',consolas,'Courier New',monospace\"><span style=\"color: #800000; text-decoration-color: #800000\"> 'spread_tie': '0.002625',\n",
       "</span></pre>\n"
      ],
      "text/plain": [
       "\u001b[31m 'spread_tie': '0.002625',\n",
       "\u001b[0m"
      ]
     },
     "metadata": {},
     "output_type": "display_data"
    },
    {
     "data": {
      "text/html": [
       "<pre style=\"white-space:pre;overflow-x:auto;line-height:normal;font-family:Menlo,'DejaVu Sans Mono',consolas,'Courier New',monospace\"><span style=\"color: #800000; text-decoration-color: #800000\"> 'status': 'NEW_STEP',\n",
       "</span></pre>\n"
      ],
      "text/plain": [
       "\u001b[31m 'status': 'NEW_STEP',\n",
       "\u001b[0m"
      ]
     },
     "metadata": {},
     "output_type": "display_data"
    },
    {
     "data": {
      "text/html": [
       "<pre style=\"white-space:pre;overflow-x:auto;line-height:normal;font-family:Menlo,'DejaVu Sans Mono',consolas,'Courier New',monospace\"><span style=\"color: #800000; text-decoration-color: #800000\"> 'std_tie': '0.000891',\n",
       "</span></pre>\n"
      ],
      "text/plain": [
       "\u001b[31m 'std_tie': '0.000891',\n",
       "\u001b[0m"
      ]
     },
     "metadata": {},
     "output_type": "display_data"
    },
    {
     "data": {
      "text/html": [
       "<pre style=\"white-space:pre;overflow-x:auto;line-height:normal;font-family:Menlo,'DejaVu Sans Mono',consolas,'Courier New',monospace\"><span style=\"color: #800000; text-decoration-color: #800000\"> 'step_id': 8,\n",
       "</span></pre>\n"
      ],
      "text/plain": [
       "\u001b[31m 'step_id': 8,\n",
       "\u001b[0m"
      ]
     },
     "metadata": {},
     "output_type": "display_data"
    },
    {
     "data": {
      "text/html": [
       "<pre style=\"white-space:pre;overflow-x:auto;line-height:normal;font-family:Menlo,'DejaVu Sans Mono',consolas,'Courier New',monospace\"><span style=\"color: #800000; text-decoration-color: #800000\"> 'step_iter': 0,\n",
       "</span></pre>\n"
      ],
      "text/plain": [
       "\u001b[31m 'step_iter': 0,\n",
       "\u001b[0m"
      ]
     },
     "metadata": {},
     "output_type": "display_data"
    },
    {
     "data": {
      "text/html": [
       "<pre style=\"white-space:pre;overflow-x:auto;line-height:normal;font-family:Menlo,'DejaVu Sans Mono',consolas,'Courier New',monospace\"><span style=\"color: #800000; text-decoration-color: #800000\"> 'step_n_iter': 2,\n",
       "</span></pre>\n"
      ],
      "text/plain": [
       "\u001b[31m 'step_n_iter': 2,\n",
       "\u001b[0m"
      ]
     },
     "metadata": {},
     "output_type": "display_data"
    },
    {
     "data": {
      "text/html": [
       "<pre style=\"white-space:pre;overflow-x:auto;line-height:normal;font-family:Menlo,'DejaVu Sans Mono',consolas,'Courier New',monospace\"><span style=\"color: #800000; text-decoration-color: #800000\"> 'tie + slack': '0.025337',\n",
       "</span></pre>\n"
      ],
      "text/plain": [
       "\u001b[31m 'tie + slack': '0.025337',\n",
       "\u001b[0m"
      ]
     },
     "metadata": {},
     "output_type": "display_data"
    },
    {
     "data": {
      "text/html": [
       "<pre style=\"white-space:pre;overflow-x:auto;line-height:normal;font-family:Menlo,'DejaVu Sans Mono',consolas,'Courier New',monospace\"><span style=\"color: #800000; text-decoration-color: #800000\"> 'tie_{k}(lamss)': '0.024658',\n",
       "</span></pre>\n"
      ],
      "text/plain": [
       "\u001b[31m 'tie_{k}(lamss)': '0.024658',\n",
       "\u001b[0m"
      ]
     },
     "metadata": {},
     "output_type": "display_data"
    },
    {
     "data": {
      "text/html": [
       "<pre style=\"white-space:pre;overflow-x:auto;line-height:normal;font-family:Menlo,'DejaVu Sans Mono',consolas,'Courier New',monospace\"><span style=\"color: #800000; text-decoration-color: #800000\"> 'work_extraction_time': '1674150738.360254',\n",
       "</span></pre>\n"
      ],
      "text/plain": [
       "\u001b[31m 'work_extraction_time': '1674150738.360254',\n",
       "\u001b[0m"
      ]
     },
     "metadata": {},
     "output_type": "display_data"
    },
    {
     "data": {
      "text/html": [
       "<pre style=\"white-space:pre;overflow-x:auto;line-height:normal;font-family:Menlo,'DejaVu Sans Mono',consolas,'Courier New',monospace\"><span style=\"color: #800000; text-decoration-color: #800000\">2023-01-19T17:52:19+0000 {'K_distribution': {32768: 1, 131072: 10},\n",
       "</span></pre>\n"
      ],
      "text/plain": [
       "\u001b[31m2023-01-19T17:52:19+0000 {'K_distribution': {32768: 1, 131072: 10},\n",
       "\u001b[0m"
      ]
     },
     "metadata": {},
     "output_type": "display_data"
    },
    {
     "data": {
      "text/html": [
       "<pre style=\"white-space:pre;overflow-x:auto;line-height:normal;font-family:Menlo,'DejaVu Sans Mono',consolas,'Courier New',monospace\"><span style=\"color: #800000; text-decoration-color: #800000\"> 'distributed_next_loop': 1,\n",
       "</span></pre>\n"
      ],
      "text/plain": [
       "\u001b[31m 'distributed_next_loop': 1,\n",
       "\u001b[0m"
      ]
     },
     "metadata": {},
     "output_type": "display_data"
    },
    {
     "data": {
      "text/html": [
       "<pre style=\"white-space:pre;overflow-x:auto;line-height:normal;font-family:Menlo,'DejaVu Sans Mono',consolas,'Courier New',monospace\"><span style=\"color: #800000; text-decoration-color: #800000\"> 'i': 8,\n",
       "</span></pre>\n"
      ],
      "text/plain": [
       "\u001b[31m 'i': 8,\n",
       "\u001b[0m"
      ]
     },
     "metadata": {},
     "output_type": "display_data"
    },
    {
     "data": {
      "text/html": [
       "<pre style=\"white-space:pre;overflow-x:auto;line-height:normal;font-family:Menlo,'DejaVu Sans Mono',consolas,'Courier New',monospace\"><span style=\"color: #800000; text-decoration-color: #800000\"> 'n_complete': 0,\n",
       "</span></pre>\n"
      ],
      "text/plain": [
       "\u001b[31m 'n_complete': 0,\n",
       "\u001b[0m"
      ]
     },
     "metadata": {},
     "output_type": "display_data"
    },
    {
     "data": {
      "text/html": [
       "<pre style=\"white-space:pre;overflow-x:auto;line-height:normal;font-family:Menlo,'DejaVu Sans Mono',consolas,'Courier New',monospace\"><span style=\"color: #800000; text-decoration-color: #800000\"> 'n_deepen': 1,\n",
       "</span></pre>\n"
      ],
      "text/plain": [
       "\u001b[31m 'n_deepen': 1,\n",
       "\u001b[0m"
      ]
     },
     "metadata": {},
     "output_type": "display_data"
    },
    {
     "data": {
      "text/html": [
       "<pre style=\"white-space:pre;overflow-x:auto;line-height:normal;font-family:Menlo,'DejaVu Sans Mono',consolas,'Courier New',monospace\"><span style=\"color: #800000; text-decoration-color: #800000\"> 'n_impossible': 0,\n",
       "</span></pre>\n"
      ],
      "text/plain": [
       "\u001b[31m 'n_impossible': 0,\n",
       "\u001b[0m"
      ]
     },
     "metadata": {},
     "output_type": "display_data"
    },
    {
     "data": {
      "text/html": [
       "<pre style=\"white-space:pre;overflow-x:auto;line-height:normal;font-family:Menlo,'DejaVu Sans Mono',consolas,'Courier New',monospace\"><span style=\"color: #800000; text-decoration-color: #800000\"> 'n_processed': 11,\n",
       "</span></pre>\n"
      ],
      "text/plain": [
       "\u001b[31m 'n_processed': 11,\n",
       "\u001b[0m"
      ]
     },
     "metadata": {},
     "output_type": "display_data"
    },
    {
     "data": {
      "text/html": [
       "<pre style=\"white-space:pre;overflow-x:auto;line-height:normal;font-family:Menlo,'DejaVu Sans Mono',consolas,'Courier New',monospace\"><span style=\"color: #800000; text-decoration-color: #800000\"> 'n_refine': 5,\n",
       "</span></pre>\n"
      ],
      "text/plain": [
       "\u001b[31m 'n_refine': 5,\n",
       "\u001b[0m"
      ]
     },
     "metadata": {},
     "output_type": "display_data"
    },
    {
     "data": {
      "text/html": [
       "<pre style=\"white-space:pre;overflow-x:auto;line-height:normal;font-family:Menlo,'DejaVu Sans Mono',consolas,'Courier New',monospace\"><span style=\"color: #800000; text-decoration-color: #800000\"> 'runtime_cleanup': '0.433732',\n",
       "</span></pre>\n"
      ],
      "text/plain": [
       "\u001b[31m 'runtime_cleanup': '0.433732',\n",
       "\u001b[0m"
      ]
     },
     "metadata": {},
     "output_type": "display_data"
    },
    {
     "data": {
      "text/html": [
       "<pre style=\"white-space:pre;overflow-x:auto;line-height:normal;font-family:Menlo,'DejaVu Sans Mono',consolas,'Courier New',monospace\"><span style=\"color: #800000; text-decoration-color: #800000\"> 'runtime_get_work': '1.038731',\n",
       "</span></pre>\n"
      ],
      "text/plain": [
       "\u001b[31m 'runtime_get_work': '1.038731',\n",
       "\u001b[0m"
      ]
     },
     "metadata": {},
     "output_type": "display_data"
    },
    {
     "data": {
      "text/html": [
       "<pre style=\"white-space:pre;overflow-x:auto;line-height:normal;font-family:Menlo,'DejaVu Sans Mono',consolas,'Courier New',monospace\"><span style=\"color: #800000; text-decoration-color: #800000\"> 'runtime_processing': '0.552878',\n",
       "</span></pre>\n"
      ],
      "text/plain": [
       "\u001b[31m 'runtime_processing': '0.552878',\n",
       "\u001b[0m"
      ]
     },
     "metadata": {},
     "output_type": "display_data"
    },
    {
     "data": {
      "text/html": [
       "<pre style=\"white-space:pre;overflow-x:auto;line-height:normal;font-family:Menlo,'DejaVu Sans Mono',consolas,'Courier New',monospace\"><span style=\"color: #800000; text-decoration-color: #800000\"> 'runtime_refine_deepen': '0.065060',\n",
       "</span></pre>\n"
      ],
      "text/plain": [
       "\u001b[31m 'runtime_refine_deepen': '0.065060',\n",
       "\u001b[0m"
      ]
     },
     "metadata": {},
     "output_type": "display_data"
    },
    {
     "data": {
      "text/html": [
       "<pre style=\"white-space:pre;overflow-x:auto;line-height:normal;font-family:Menlo,'DejaVu Sans Mono',consolas,'Courier New',monospace\"><span style=\"color: #800000; text-decoration-color: #800000\"> 'status': 'WORKING',\n",
       "</span></pre>\n"
      ],
      "text/plain": [
       "\u001b[31m 'status': 'WORKING',\n",
       "\u001b[0m"
      ]
     },
     "metadata": {},
     "output_type": "display_data"
    },
    {
     "data": {
      "text/html": [
       "<pre style=\"white-space:pre;overflow-x:auto;line-height:normal;font-family:Menlo,'DejaVu Sans Mono',consolas,'Courier New',monospace\"><span style=\"color: #800000; text-decoration-color: #800000\"> 'step_id': 8,\n",
       "</span></pre>\n"
      ],
      "text/plain": [
       "\u001b[31m 'step_id': 8,\n",
       "\u001b[0m"
      ]
     },
     "metadata": {},
     "output_type": "display_data"
    },
    {
     "data": {
      "text/html": [
       "<pre style=\"white-space:pre;overflow-x:auto;line-height:normal;font-family:Menlo,'DejaVu Sans Mono',consolas,'Courier New',monospace\"><span style=\"color: #800000; text-decoration-color: #800000\"> 'step_iter': 1,\n",
       "</span></pre>\n"
      ],
      "text/plain": [
       "\u001b[31m 'step_iter': 1,\n",
       "\u001b[0m"
      ]
     },
     "metadata": {},
     "output_type": "display_data"
    },
    {
     "data": {
      "text/html": [
       "<pre style=\"white-space:pre;overflow-x:auto;line-height:normal;font-family:Menlo,'DejaVu Sans Mono',consolas,'Courier New',monospace\"><span style=\"color: #800000; text-decoration-color: #800000\"> 'step_n_iter': 2,\n",
       "</span></pre>\n"
      ],
      "text/plain": [
       "\u001b[31m 'step_n_iter': 2,\n",
       "\u001b[0m"
      ]
     },
     "metadata": {},
     "output_type": "display_data"
    },
    {
     "data": {
      "text/html": [
       "<pre style=\"white-space:pre;overflow-x:auto;line-height:normal;font-family:Menlo,'DejaVu Sans Mono',consolas,'Courier New',monospace\"><span style=\"color: #800000; text-decoration-color: #800000\"> 'work_extraction_time': '1674150738.528583',\n",
       "</span></pre>\n"
      ],
      "text/plain": [
       "\u001b[31m 'work_extraction_time': '1674150738.528583',\n",
       "\u001b[0m"
      ]
     },
     "metadata": {},
     "output_type": "display_data"
    },
    {
     "data": {
      "text/html": [
       "<pre style=\"white-space:pre;overflow-x:auto;line-height:normal;font-family:Menlo,'DejaVu Sans Mono',consolas,'Courier New',monospace\"><span style=\"color: #800000; text-decoration-color: #800000\"> 'worker_id': 1}\n",
       "</span></pre>\n"
      ],
      "text/plain": [
       "\u001b[31m 'worker_id': 1}\n",
       "\u001b[0m"
      ]
     },
     "metadata": {},
     "output_type": "display_data"
    },
    {
     "data": {
      "text/html": [
       "<pre style=\"white-space:pre;overflow-x:auto;line-height:normal;font-family:Menlo,'DejaVu Sans Mono',consolas,'Courier New',monospace\"><span style=\"color: #800000; text-decoration-color: #800000\">2023-01-19T17:52:19+0000 {'bias_tie': '0.000275',\n",
       "</span></pre>\n"
      ],
      "text/plain": [
       "\u001b[31m2023-01-19T17:52:19+0000 {'bias_tie': '0.000275',\n",
       "\u001b[0m"
      ]
     },
     "metadata": {},
     "output_type": "display_data"
    },
    {
     "data": {
      "text/html": [
       "<pre style=\"white-space:pre;overflow-x:auto;line-height:normal;font-family:Menlo,'DejaVu Sans Mono',consolas,'Courier New',monospace\"><span style=\"color: #800000; text-decoration-color: #800000\"> 'converged': True,\n",
       "</span></pre>\n"
      ],
      "text/plain": [
       "\u001b[31m 'converged': True,\n",
       "\u001b[0m"
      ]
     },
     "metadata": {},
     "output_type": "display_data"
    },
    {
     "data": {
      "text/html": [
       "<pre style=\"white-space:pre;overflow-x:auto;line-height:normal;font-family:Menlo,'DejaVu Sans Mono',consolas,'Courier New',monospace\"><span style=\"color: #800000; text-decoration-color: #800000\"> 'distributed_next_loop': 0,\n",
       "</span></pre>\n"
      ],
      "text/plain": [
       "\u001b[31m 'distributed_next_loop': 0,\n",
       "\u001b[0m"
      ]
     },
     "metadata": {},
     "output_type": "display_data"
    },
    {
     "data": {
      "text/html": [
       "<pre style=\"white-space:pre;overflow-x:auto;line-height:normal;font-family:Menlo,'DejaVu Sans Mono',consolas,'Courier New',monospace\"><span style=\"color: #800000; text-decoration-color: #800000\"> 'grid_cost': '0.000264',\n",
       "</span></pre>\n"
      ],
      "text/plain": [
       "\u001b[31m 'grid_cost': '0.000264',\n",
       "\u001b[0m"
      ]
     },
     "metadata": {},
     "output_type": "display_data"
    },
    {
     "data": {
      "text/html": [
       "<pre style=\"white-space:pre;overflow-x:auto;line-height:normal;font-family:Menlo,'DejaVu Sans Mono',consolas,'Courier New',monospace\"><span style=\"color: #800000; text-decoration-color: #800000\"> 'i': 9,\n",
       "</span></pre>\n"
      ],
      "text/plain": [
       "\u001b[31m 'i': 9,\n",
       "\u001b[0m"
      ]
     },
     "metadata": {},
     "output_type": "display_data"
    },
    {
     "data": {
      "text/html": [
       "<pre style=\"white-space:pre;overflow-x:auto;line-height:normal;font-family:Menlo,'DejaVu Sans Mono',consolas,'Courier New',monospace\"><span style=\"color: #800000; text-decoration-color: #800000\"> 'lamss': '-1.950712',\n",
       "</span></pre>\n"
      ],
      "text/plain": [
       "\u001b[31m 'lamss': '-1.950712',\n",
       "\u001b[0m"
      ]
     },
     "metadata": {},
     "output_type": "display_data"
    },
    {
     "data": {
      "text/html": [
       "<pre style=\"white-space:pre;overflow-x:auto;line-height:normal;font-family:Menlo,'DejaVu Sans Mono',consolas,'Courier New',monospace\"><span style=\"color: #800000; text-decoration-color: #800000\"> 'max(B_lamss)': '-1.946306',\n",
       "</span></pre>\n"
      ],
      "text/plain": [
       "\u001b[31m 'max(B_lamss)': '-1.946306',\n",
       "\u001b[0m"
      ]
     },
     "metadata": {},
     "output_type": "display_data"
    },
    {
     "data": {
      "text/html": [
       "<pre style=\"white-space:pre;overflow-x:auto;line-height:normal;font-family:Menlo,'DejaVu Sans Mono',consolas,'Courier New',monospace\"><span style=\"color: #800000; text-decoration-color: #800000\"> 'min(B_lamss)': '-1.962543',\n",
       "</span></pre>\n"
      ],
      "text/plain": [
       "\u001b[31m 'min(B_lamss)': '-1.962543',\n",
       "\u001b[0m"
      ]
     },
     "metadata": {},
     "output_type": "display_data"
    },
    {
     "data": {
      "text/html": [
       "<pre style=\"white-space:pre;overflow-x:auto;line-height:normal;font-family:Menlo,'DejaVu Sans Mono',consolas,'Courier New',monospace\"><span style=\"color: #800000; text-decoration-color: #800000\"> 'runtime_get_work': '0.132046',\n",
       "</span></pre>\n"
      ],
      "text/plain": [
       "\u001b[31m 'runtime_get_work': '0.132046',\n",
       "\u001b[0m"
      ]
     },
     "metadata": {},
     "output_type": "display_data"
    },
    {
     "data": {
      "text/html": [
       "<pre style=\"white-space:pre;overflow-x:auto;line-height:normal;font-family:Menlo,'DejaVu Sans Mono',consolas,'Courier New',monospace\"><span style=\"color: #800000; text-decoration-color: #800000\"> 'spread_tie': '0.000824',\n",
       "</span></pre>\n"
      ],
      "text/plain": [
       "\u001b[31m 'spread_tie': '0.000824',\n",
       "\u001b[0m"
      ]
     },
     "metadata": {},
     "output_type": "display_data"
    },
    {
     "data": {
      "text/html": [
       "<pre style=\"white-space:pre;overflow-x:auto;line-height:normal;font-family:Menlo,'DejaVu Sans Mono',consolas,'Courier New',monospace\"><span style=\"color: #800000; text-decoration-color: #800000\"> 'status': 'CONVERGED',\n",
       "</span></pre>\n"
      ],
      "text/plain": [
       "\u001b[31m 'status': 'CONVERGED',\n",
       "\u001b[0m"
      ]
     },
     "metadata": {},
     "output_type": "display_data"
    },
    {
     "data": {
      "text/html": [
       "<pre style=\"white-space:pre;overflow-x:auto;line-height:normal;font-family:Menlo,'DejaVu Sans Mono',consolas,'Courier New',monospace\"><span style=\"color: #800000; text-decoration-color: #800000\"> 'std_tie': '0.000301',\n",
       "</span></pre>\n"
      ],
      "text/plain": [
       "\u001b[31m 'std_tie': '0.000301',\n",
       "\u001b[0m"
      ]
     },
     "metadata": {},
     "output_type": "display_data"
    },
    {
     "data": {
      "text/html": [
       "<pre style=\"white-space:pre;overflow-x:auto;line-height:normal;font-family:Menlo,'DejaVu Sans Mono',consolas,'Courier New',monospace\"><span style=\"color: #800000; text-decoration-color: #800000\"> 'step_id': 8,\n",
       "</span></pre>\n"
      ],
      "text/plain": [
       "\u001b[31m 'step_id': 8,\n",
       "\u001b[0m"
      ]
     },
     "metadata": {},
     "output_type": "display_data"
    },
    {
     "data": {
      "text/html": [
       "<pre style=\"white-space:pre;overflow-x:auto;line-height:normal;font-family:Menlo,'DejaVu Sans Mono',consolas,'Courier New',monospace\"><span style=\"color: #800000; text-decoration-color: #800000\"> 'step_iter': 2,\n",
       "</span></pre>\n"
      ],
      "text/plain": [
       "\u001b[31m 'step_iter': 2,\n",
       "\u001b[0m"
      ]
     },
     "metadata": {},
     "output_type": "display_data"
    },
    {
     "data": {
      "text/html": [
       "<pre style=\"white-space:pre;overflow-x:auto;line-height:normal;font-family:Menlo,'DejaVu Sans Mono',consolas,'Courier New',monospace\"><span style=\"color: #800000; text-decoration-color: #800000\"> 'step_n_iter': 2,\n",
       "</span></pre>\n"
      ],
      "text/plain": [
       "\u001b[31m 'step_n_iter': 2,\n",
       "\u001b[0m"
      ]
     },
     "metadata": {},
     "output_type": "display_data"
    },
    {
     "data": {
      "text/html": [
       "<pre style=\"white-space:pre;overflow-x:auto;line-height:normal;font-family:Menlo,'DejaVu Sans Mono',consolas,'Courier New',monospace\"><span style=\"color: #800000; text-decoration-color: #800000\"> 'tie + slack': '0.025227',\n",
       "</span></pre>\n"
      ],
      "text/plain": [
       "\u001b[31m 'tie + slack': '0.025227',\n",
       "\u001b[0m"
      ]
     },
     "metadata": {},
     "output_type": "display_data"
    },
    {
     "data": {
      "text/html": [
       "<pre style=\"white-space:pre;overflow-x:auto;line-height:normal;font-family:Menlo,'DejaVu Sans Mono',consolas,'Courier New',monospace\"><span style=\"color: #800000; text-decoration-color: #800000\"> 'tie_{k}(lamss)': '0.024689',\n",
       "</span></pre>\n"
      ],
      "text/plain": [
       "\u001b[31m 'tie_{k}(lamss)': '0.024689',\n",
       "\u001b[0m"
      ]
     },
     "metadata": {},
     "output_type": "display_data"
    },
    {
     "data": {
      "text/html": [
       "<pre style=\"white-space:pre;overflow-x:auto;line-height:normal;font-family:Menlo,'DejaVu Sans Mono',consolas,'Courier New',monospace\"><span style=\"color: #800000; text-decoration-color: #800000\"> 'worker_id': 1}\n",
       "</span></pre>\n"
      ],
      "text/plain": [
       "\u001b[31m 'worker_id': 1}\n",
       "\u001b[0m"
      ]
     },
     "metadata": {},
     "output_type": "display_data"
    },
    {
     "data": {
      "text/html": [
       "<pre style=\"white-space:pre;overflow-x:auto;line-height:normal;font-family:Menlo,'DejaVu Sans Mono',consolas,'Courier New',monospace\"><span style=\"color: #800000; text-decoration-color: #800000\">2023-01-19T17:52:20+0000 {'bias_tie': '0.000275',\n",
       "</span></pre>\n"
      ],
      "text/plain": [
       "\u001b[31m2023-01-19T17:52:20+0000 {'bias_tie': '0.000275',\n",
       "\u001b[0m"
      ]
     },
     "metadata": {},
     "output_type": "display_data"
    },
    {
     "data": {
      "text/html": [
       "<pre style=\"white-space:pre;overflow-x:auto;line-height:normal;font-family:Menlo,'DejaVu Sans Mono',consolas,'Courier New',monospace\"><span style=\"color: #800000; text-decoration-color: #800000\"> 'converged': True,\n",
       "</span></pre>\n"
      ],
      "text/plain": [
       "\u001b[31m 'converged': True,\n",
       "\u001b[0m"
      ]
     },
     "metadata": {},
     "output_type": "display_data"
    },
    {
     "data": {
      "text/html": [
       "<pre style=\"white-space:pre;overflow-x:auto;line-height:normal;font-family:Menlo,'DejaVu Sans Mono',consolas,'Courier New',monospace\"><span style=\"color: #800000; text-decoration-color: #800000\"> 'distributed_next_loop': 1,\n",
       "</span></pre>\n"
      ],
      "text/plain": [
       "\u001b[31m 'distributed_next_loop': 1,\n",
       "\u001b[0m"
      ]
     },
     "metadata": {},
     "output_type": "display_data"
    },
    {
     "data": {
      "text/html": [
       "<pre style=\"white-space:pre;overflow-x:auto;line-height:normal;font-family:Menlo,'DejaVu Sans Mono',consolas,'Courier New',monospace\"><span style=\"color: #800000; text-decoration-color: #800000\"> 'grid_cost': '0.000264',\n",
       "</span></pre>\n"
      ],
      "text/plain": [
       "\u001b[31m 'grid_cost': '0.000264',\n",
       "\u001b[0m"
      ]
     },
     "metadata": {},
     "output_type": "display_data"
    },
    {
     "data": {
      "text/html": [
       "<pre style=\"white-space:pre;overflow-x:auto;line-height:normal;font-family:Menlo,'DejaVu Sans Mono',consolas,'Courier New',monospace\"><span style=\"color: #800000; text-decoration-color: #800000\"> 'i': 2,\n",
       "</span></pre>\n"
      ],
      "text/plain": [
       "\u001b[31m 'i': 2,\n",
       "\u001b[0m"
      ]
     },
     "metadata": {},
     "output_type": "display_data"
    },
    {
     "data": {
      "text/html": [
       "<pre style=\"white-space:pre;overflow-x:auto;line-height:normal;font-family:Menlo,'DejaVu Sans Mono',consolas,'Courier New',monospace\"><span style=\"color: #800000; text-decoration-color: #800000\"> 'lamss': '-1.950712',\n",
       "</span></pre>\n"
      ],
      "text/plain": [
       "\u001b[31m 'lamss': '-1.950712',\n",
       "\u001b[0m"
      ]
     },
     "metadata": {},
     "output_type": "display_data"
    },
    {
     "data": {
      "text/html": [
       "<pre style=\"white-space:pre;overflow-x:auto;line-height:normal;font-family:Menlo,'DejaVu Sans Mono',consolas,'Courier New',monospace\"><span style=\"color: #800000; text-decoration-color: #800000\"> 'max(B_lamss)': '-1.946306',\n",
       "</span></pre>\n"
      ],
      "text/plain": [
       "\u001b[31m 'max(B_lamss)': '-1.946306',\n",
       "\u001b[0m"
      ]
     },
     "metadata": {},
     "output_type": "display_data"
    },
    {
     "data": {
      "text/html": [
       "<pre style=\"white-space:pre;overflow-x:auto;line-height:normal;font-family:Menlo,'DejaVu Sans Mono',consolas,'Courier New',monospace\"><span style=\"color: #800000; text-decoration-color: #800000\"> 'min(B_lamss)': '-1.962543',\n",
       "</span></pre>\n"
      ],
      "text/plain": [
       "\u001b[31m 'min(B_lamss)': '-1.962543',\n",
       "\u001b[0m"
      ]
     },
     "metadata": {},
     "output_type": "display_data"
    },
    {
     "data": {
      "text/html": [
       "<pre style=\"white-space:pre;overflow-x:auto;line-height:normal;font-family:Menlo,'DejaVu Sans Mono',consolas,'Courier New',monospace\"><span style=\"color: #800000; text-decoration-color: #800000\"> 'runtime_get_work': '1.131531',\n",
       "</span></pre>\n"
      ],
      "text/plain": [
       "\u001b[31m 'runtime_get_work': '1.131531',\n",
       "\u001b[0m"
      ]
     },
     "metadata": {},
     "output_type": "display_data"
    },
    {
     "data": {
      "text/html": [
       "<pre style=\"white-space:pre;overflow-x:auto;line-height:normal;font-family:Menlo,'DejaVu Sans Mono',consolas,'Courier New',monospace\"><span style=\"color: #800000; text-decoration-color: #800000\"> 'spread_tie': '0.000824',\n",
       "</span></pre>\n"
      ],
      "text/plain": [
       "\u001b[31m 'spread_tie': '0.000824',\n",
       "\u001b[0m"
      ]
     },
     "metadata": {},
     "output_type": "display_data"
    },
    {
     "data": {
      "text/html": [
       "<pre style=\"white-space:pre;overflow-x:auto;line-height:normal;font-family:Menlo,'DejaVu Sans Mono',consolas,'Courier New',monospace\"><span style=\"color: #800000; text-decoration-color: #800000\"> 'status': 'CONVERGED',\n",
       "</span></pre>\n"
      ],
      "text/plain": [
       "\u001b[31m 'status': 'CONVERGED',\n",
       "\u001b[0m"
      ]
     },
     "metadata": {},
     "output_type": "display_data"
    },
    {
     "data": {
      "text/html": [
       "<pre style=\"white-space:pre;overflow-x:auto;line-height:normal;font-family:Menlo,'DejaVu Sans Mono',consolas,'Courier New',monospace\"><span style=\"color: #800000; text-decoration-color: #800000\"> 'std_tie': '0.000301',\n",
       "</span></pre>\n"
      ],
      "text/plain": [
       "\u001b[31m 'std_tie': '0.000301',\n",
       "\u001b[0m"
      ]
     },
     "metadata": {},
     "output_type": "display_data"
    },
    {
     "data": {
      "text/html": [
       "<pre style=\"white-space:pre;overflow-x:auto;line-height:normal;font-family:Menlo,'DejaVu Sans Mono',consolas,'Courier New',monospace\"><span style=\"color: #800000; text-decoration-color: #800000\"> 'step_id': 8,\n",
       "</span></pre>\n"
      ],
      "text/plain": [
       "\u001b[31m 'step_id': 8,\n",
       "\u001b[0m"
      ]
     },
     "metadata": {},
     "output_type": "display_data"
    },
    {
     "data": {
      "text/html": [
       "<pre style=\"white-space:pre;overflow-x:auto;line-height:normal;font-family:Menlo,'DejaVu Sans Mono',consolas,'Courier New',monospace\"><span style=\"color: #800000; text-decoration-color: #800000\"> 'step_iter': 2,\n",
       "</span></pre>\n"
      ],
      "text/plain": [
       "\u001b[31m 'step_iter': 2,\n",
       "\u001b[0m"
      ]
     },
     "metadata": {},
     "output_type": "display_data"
    },
    {
     "data": {
      "text/html": [
       "<pre style=\"white-space:pre;overflow-x:auto;line-height:normal;font-family:Menlo,'DejaVu Sans Mono',consolas,'Courier New',monospace\"><span style=\"color: #800000; text-decoration-color: #800000\"> 'step_n_iter': 2,\n",
       "</span></pre>\n"
      ],
      "text/plain": [
       "\u001b[31m 'step_n_iter': 2,\n",
       "\u001b[0m"
      ]
     },
     "metadata": {},
     "output_type": "display_data"
    },
    {
     "data": {
      "text/html": [
       "<pre style=\"white-space:pre;overflow-x:auto;line-height:normal;font-family:Menlo,'DejaVu Sans Mono',consolas,'Courier New',monospace\"><span style=\"color: #800000; text-decoration-color: #800000\"> 'tie + slack': '0.025227',\n",
       "</span></pre>\n"
      ],
      "text/plain": [
       "\u001b[31m 'tie + slack': '0.025227',\n",
       "\u001b[0m"
      ]
     },
     "metadata": {},
     "output_type": "display_data"
    },
    {
     "data": {
      "text/html": [
       "<pre style=\"white-space:pre;overflow-x:auto;line-height:normal;font-family:Menlo,'DejaVu Sans Mono',consolas,'Courier New',monospace\"><span style=\"color: #800000; text-decoration-color: #800000\"> 'tie_{k}(lamss)': '0.024689',\n",
       "</span></pre>\n"
      ],
      "text/plain": [
       "\u001b[31m 'tie_{k}(lamss)': '0.024689',\n",
       "\u001b[0m"
      ]
     },
     "metadata": {},
     "output_type": "display_data"
    },
    {
     "data": {
      "text/html": [
       "<pre style=\"white-space:pre;overflow-x:auto;line-height:normal;font-family:Menlo,'DejaVu Sans Mono',consolas,'Courier New',monospace\"><span style=\"color: #800000; text-decoration-color: #800000\"> 'worker_id': 2}\n",
       "</span></pre>\n"
      ],
      "text/plain": [
       "\u001b[31m 'worker_id': 2}\n",
       "\u001b[0m"
      ]
     },
     "metadata": {},
     "output_type": "display_data"
    },
    {
     "data": {
      "text/html": [
       "<pre style=\"white-space:pre;overflow-x:auto;line-height:normal;font-family:Menlo,'DejaVu Sans Mono',consolas,'Courier New',monospace\"></pre>\n"
      ],
      "text/plain": []
     },
     "metadata": {},
     "output_type": "display_data"
    },
    {
     "data": {
      "text/html": [
       "<pre style=\"white-space:pre;overflow-x:auto;line-height:normal;font-family:Menlo,'DejaVu Sans Mono',consolas,'Courier New',monospace\"><span style=\"color: #008000; text-decoration-color: #008000\">✓</span> App completed.\n",
       "</pre>\n"
      ],
      "text/plain": [
       "\u001b[32m✓\u001b[0m App completed.\n"
      ]
     },
     "metadata": {},
     "output_type": "display_data"
    }
   ],
   "source": [
    "\n",
    "import confirm.cloud.modal_util as modal_util\n",
    "import modal\n",
    "stub = modal.Stub(\"two_workers\")\n",
    "\n",
    "@stub.function(\n",
    "    image=modal_util.get_image(dependency_groups=[\"test\", \"cloud\"]),\n",
    "    retries=0,\n",
    "    mounts=modal.create_package_mounts([\"confirm\", \"imprint\"]),\n",
    "    secret=modal.Secret.from_name(\"confirm-secrets\")\n",
    ")\n",
    "def worker(i):\n",
    "    import confirm.adagrid as ada\n",
    "    import confirm.cloud.clickhouse as ch\n",
    "    from imprint.models.ztest import ZTest1D\n",
    "    db_w = ch.Clickhouse.connect(job_id='74b1caa58c6d4e31bef2252015710597')\n",
    "    return ada.ada_calibrate(ZTest1D, db=db_w, n_iter=100)[:2]\n",
    "\n",
    "with stub.run():\n",
    "    results = list(worker.map([1, 2]))"
   ]
  }
 ],
 "metadata": {
  "kernelspec": {
   "display_name": "Python 3",
   "language": "python",
   "name": "python3"
  },
  "language_info": {
   "codemirror_mode": {
    "name": "ipython",
    "version": 3
   },
   "file_extension": ".py",
   "mimetype": "text/x-python",
   "name": "python",
   "nbconvert_exporter": "python",
   "pygments_lexer": "ipython3",
   "version": "3.10.8 | packaged by conda-forge | (main, Nov 22 2022, 08:25:29) [Clang 14.0.6 ]"
  },
  "orig_nbformat": 4,
  "vscode": {
   "interpreter": {
    "hash": "b4c6ec5b2d6c7b38df115d547b82cd53ca25eea58d87299956d35a9dc79f19f1"
   }
  }
 },
 "nbformat": 4,
 "nbformat_minor": 2
}
