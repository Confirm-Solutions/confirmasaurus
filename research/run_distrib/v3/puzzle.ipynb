{
 "cells": [
  {
   "cell_type": "code",
   "execution_count": 2,
   "metadata": {},
   "outputs": [
    {
     "name": "stdout",
     "output_type": "stream",
     "text": [
      "The autoreload extension is already loaded. To reload it, use:\n",
      "  %reload_ext autoreload\n",
      "[worker_id=None] 2023-03-13 14:40:31,280 - imprint - DEBUG \n",
      "Enabling 64-bit floats in JAX.\n",
      "Hello world\n",
      "[worker_id=None] 2023-03-13 14:40:32,285 - confirm.adagrid.backend - INFO \n",
      "Backing up database\n",
      "[worker_id=None] 2023-03-13 14:40:32,286 - confirm.adagrid.backend - INFO \n",
      "Backup complete\n",
      "[worker_id=None] 2023-03-13 14:40:33,287 - confirm.adagrid.backend - INFO \n",
      "Backing up database\n",
      "[worker_id=None] 2023-03-13 14:40:33,287 - confirm.adagrid.backend - INFO \n",
      "Backup complete\n",
      "[worker_id=None] 2023-03-13 14:40:34,285 - confirm.adagrid.backend - INFO \n",
      "Backing up database\n",
      "[worker_id=None] 2023-03-13 14:40:34,286 - confirm.adagrid.backend - INFO \n",
      "Backup complete\n"
     ]
    }
   ],
   "source": [
    "import logging\n",
    "import asyncio\n",
    "import contextlib\n",
    "from imprint.nb_util import setup_nb\n",
    "setup_nb()\n",
    "from confirm.adagrid.backend import backup_daemon\n",
    "\n",
    "    \n",
    "class DB:\n",
    "    calls = 0\n",
    "    def backup(self):\n",
    "        self.calls += 1\n",
    "\n",
    "db = DB()\n",
    "async with backup_daemon(db, backup_interval=1):\n",
    "    print(\"Hello world\")\n",
    "    await asyncio.sleep(3)\n",
    "assert(db.calls == 3)"
   ]
  },
  {
   "cell_type": "code",
   "execution_count": null,
   "metadata": {},
   "outputs": [],
   "source": []
  }
 ],
 "metadata": {
  "kernelspec": {
   "display_name": "confirm",
   "language": "python",
   "name": "python3"
  },
  "language_info": {
   "codemirror_mode": {
    "name": "ipython",
    "version": 3
   },
   "file_extension": ".py",
   "mimetype": "text/x-python",
   "name": "python",
   "nbconvert_exporter": "python",
   "pygments_lexer": "ipython3",
   "version": "3.10.9"
  },
  "orig_nbformat": 4
 },
 "nbformat": 4,
 "nbformat_minor": 2
}
