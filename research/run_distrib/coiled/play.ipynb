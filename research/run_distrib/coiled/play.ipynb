{
 "cells": [
  {
   "cell_type": "code",
   "execution_count": 26,
   "metadata": {},
   "outputs": [
    {
     "data": {
      "text/plain": [
       "{'id': 13761,\n",
       " 'created': '2023-03-08T20:30:19.261113+00:00',\n",
       " 'updated': '2023-03-08T20:30:19.270043+00:00',\n",
       " 'name': 'smalldev',\n",
       " 'spec_count': 1,\n",
       " 'latest_spec': {'id': 14178,\n",
       "  'created': '2023-03-08T20:30:19.267857+00:00',\n",
       "  'updated': '2023-03-08T20:30:19.271449+00:00',\n",
       "  'md5': '86144adca7903f3de7c8c1a564a1cdc3',\n",
       "  'latest_build': None,\n",
       "  'container_uri': 'ghcr.io/confirm-solutions/smalldev:latest'}}"
      ]
     },
     "execution_count": 26,
     "metadata": {},
     "output_type": "execute_result"
    }
   ],
   "source": [
    "import coiled\n",
    "\n",
    "coiled.create_software_environment(\n",
    "    name=\"smalldev\",\n",
    "    container=\"ghcr.io/confirm-solutions/smalldev:latest\",\n",
    ")"
   ]
  },
  {
   "cell_type": "code",
   "execution_count": 24,
   "metadata": {},
   "outputs": [
    {
     "data": {
      "text/html": [
       "<pre style=\"white-space:pre;overflow-x:auto;line-height:normal;font-family:Menlo,'DejaVu Sans Mono',consolas,'Courier New',monospace\"></pre>\n"
      ],
      "text/plain": [
       "\u001b[?25l"
      ]
     },
     "metadata": {},
     "output_type": "display_data"
    },
    {
     "data": {
      "application/vnd.jupyter.widget-view+json": {
       "model_id": "2efdb6506c804413b3d1f72faf32a982",
       "version_major": 2,
       "version_minor": 0
      },
      "text/plain": [
       "Output()"
      ]
     },
     "metadata": {},
     "output_type": "display_data"
    },
    {
     "data": {
      "text/html": [
       "<pre style=\"white-space:pre;overflow-x:auto;line-height:normal;font-family:Menlo,'DejaVu Sans Mono',consolas,'Courier New',monospace\">\n",
       "</pre>\n"
      ],
      "text/plain": [
       "\n",
       "\u001b[?25h"
      ]
     },
     "metadata": {},
     "output_type": "display_data"
    },
    {
     "ename": "ClusterCreationError",
     "evalue": "Cluster status is error (reason: Workers all had error -> Failed pulling software environment image, error code 18) (cluster_id: 164869)",
     "output_type": "error",
     "traceback": [
      "\u001b[0;31m---------------------------------------------------------------------------\u001b[0m",
      "\u001b[0;31mClusterCreationError\u001b[0m                      Traceback (most recent call last)",
      "Cell \u001b[0;32mIn[24], line 1\u001b[0m\n\u001b[0;32m----> 1\u001b[0m cluster \u001b[39m=\u001b[39m coiled\u001b[39m.\u001b[39;49mCluster(\n\u001b[1;32m      2\u001b[0m     software\u001b[39m=\u001b[39;49m\u001b[39m\"\u001b[39;49m\u001b[39mrapids-stable\u001b[39;49m\u001b[39m\"\u001b[39;49m,\n\u001b[1;32m      3\u001b[0m     n_workers\u001b[39m=\u001b[39;49m\u001b[39m2\u001b[39;49m,\n\u001b[1;32m      4\u001b[0m     scheduler_gpu\u001b[39m=\u001b[39;49m\u001b[39mTrue\u001b[39;49;00m,  \u001b[39m# recommended\u001b[39;49;00m\n\u001b[1;32m      5\u001b[0m     worker_gpu\u001b[39m=\u001b[39;49m\u001b[39m1\u001b[39;49m,  \u001b[39m# single T4 per worker\u001b[39;49;00m\n\u001b[1;32m      6\u001b[0m     worker_class\u001b[39m=\u001b[39;49m\u001b[39m\"\u001b[39;49m\u001b[39mdask_cuda.CUDAWorker\u001b[39;49m\u001b[39m\"\u001b[39;49m,  \u001b[39m# recommended\u001b[39;49;00m\n\u001b[1;32m      7\u001b[0m     environ\u001b[39m=\u001b[39;49m{\u001b[39m\"\u001b[39;49m\u001b[39mDISABLE_JUPYTER\u001b[39;49m\u001b[39m\"\u001b[39;49m: \u001b[39m\"\u001b[39;49m\u001b[39mtrue\u001b[39;49m\u001b[39m\"\u001b[39;49m},  \u001b[39m# needed for \"stable\" RAPIDS image\u001b[39;49;00m\n\u001b[1;32m      8\u001b[0m )\n",
      "File \u001b[0;32m~/.mambaforge/envs/confirm/lib/python3.10/site-packages/coiled/_beta/cluster.py:497\u001b[0m, in \u001b[0;36mClusterBeta.__init__\u001b[0;34m(self, name, software, n_workers, worker_class, worker_options, worker_vm_types, worker_cpu, worker_memory, worker_disk_size, worker_gpu, worker_gpu_type, scheduler_class, scheduler_options, scheduler_vm_types, scheduler_cpu, scheduler_memory, scheduler_gpu, asynchronous, cloud, account, shutdown_on_close, use_scheduler_public_ip, use_dashboard_https, credentials, credentials_duration_seconds, timeout, environ, tags, send_dask_config, backend_options, show_widget, configure_logging, wait_for_workers, package_sync, package_sync_strict, package_sync_ignore, package_sync_fail_on, private_to_creator, use_best_zone, compute_purchase_option, scheduler_port, allow_ingress_from, allow_ssh, new_build_backend)\u001b[0m\n\u001b[1;32m    495\u001b[0m     \u001b[39mif\u001b[39;00m \u001b[39mself\u001b[39m\u001b[39m.\u001b[39mcluster_id:\n\u001b[1;32m    496\u001b[0m         log_cluster_debug_info(\u001b[39mself\u001b[39m\u001b[39m.\u001b[39mcluster_id, \u001b[39mself\u001b[39m\u001b[39m.\u001b[39maccount)\n\u001b[0;32m--> 497\u001b[0m     \u001b[39mraise\u001b[39;00m e\u001b[39m.\u001b[39mwith_traceback(\u001b[39mNone\u001b[39;00m)\n\u001b[1;32m    498\u001b[0m \u001b[39mexcept\u001b[39;00m \u001b[39mKeyboardInterrupt\u001b[39;00m \u001b[39mas\u001b[39;00m e:\n\u001b[1;32m    499\u001b[0m     error \u001b[39m=\u001b[39m e\n",
      "\u001b[0;31mClusterCreationError\u001b[0m: Cluster status is error (reason: Workers all had error -> Failed pulling software environment image, error code 18) (cluster_id: 164869)"
     ]
    }
   ],
   "source": [
    "cluster = coiled.Cluster(\n",
    "    software=\"smalldev\",\n",
    "    n_workers=2,\n",
    "    scheduler_gpu=True,  # recommended\n",
    "    worker_gpu=1,  # single T4 per worker\n",
    "    worker_class=\"dask_cuda.CUDAWorker\",  # recommended\n",
    "    environ={\"DISABLE_JUPYTER\": \"true\"},  # needed for \"stable\" RAPIDS image\n",
    ")"
   ]
  },
  {
   "cell_type": "code",
   "execution_count": 9,
   "metadata": {},
   "outputs": [
    {
     "data": {
      "text/html": [
       "<pre style=\"white-space:pre;overflow-x:auto;line-height:normal;font-family:Menlo,'DejaVu Sans Mono',consolas,'Courier New',monospace\"></pre>\n"
      ],
      "text/plain": [
       "\u001b[?25l"
      ]
     },
     "metadata": {},
     "output_type": "display_data"
    },
    {
     "data": {
      "application/vnd.jupyter.widget-view+json": {
       "model_id": "4806552bd53c4949b0798c012a5ecc63",
       "version_major": 2,
       "version_minor": 0
      },
      "text/plain": [
       "Output()"
      ]
     },
     "metadata": {},
     "output_type": "display_data"
    },
    {
     "data": {
      "text/html": [
       "<pre style=\"white-space:pre;overflow-x:auto;line-height:normal;font-family:Menlo,'DejaVu Sans Mono',consolas,'Courier New',monospace\">\r\u001b[2K\u001b[1A\u001b[2K\u001b[1A\u001b[2K\u001b[1A\u001b[2K\u001b[1A\u001b[2K\u001b[1A\u001b[2Kray 2.3.0 has requirement grpcio&lt;=1.49.1,&gt;=1.42.0; python_version &gt;= \"3.10\" and sys_platform == \"darwin\", but you \n",
       "have grpcio 1.52.1.\n",
       "╭────────────────────────────────────────── <span style=\"color: #008000; text-decoration-color: #008000\">Package Sync</span> ──────────────────────────────────────────╮\n",
       "│ Fetching latest package priorities <span style=\"color: #729c1f; text-decoration-color: #729c1f\">━━━━━━━━━━━━━━━━━━━━━━━━━━━━━━━━━━━━━━━━</span> <span style=\"color: #808000; text-decoration-color: #808000\">0:00:00</span>              │\n",
       "│ Scanning 24 conda packages         <span style=\"color: #729c1f; text-decoration-color: #729c1f\">━━━━━━━━━━━━━━━━━━━━━━━━━━━━━━━━━━━━━━━━</span> <span style=\"color: #808000; text-decoration-color: #808000\">0:00:00</span>              │\n",
       "│ Scanning 247 python packages       <span style=\"color: #729c1f; text-decoration-color: #729c1f\">━━━━━━━━━━━━━━━━━━━━━━━━━━━━━━━━━━━━━━━━</span> <span style=\"color: #808000; text-decoration-color: #808000\">0:00:00</span>              │\n",
       "│ Running pip check                  <span style=\"color: #3a3a3a; text-decoration-color: #3a3a3a\">━━━━━━━━━━━━━━━━━━━━━━━━━━━━━━━━━━━━━━━━</span> <span style=\"color: #808000; text-decoration-color: #808000\">0:00:00</span>              │\n",
       "╰──────────────────────────────────────────────────────────────────────────────────────────────────╯</pre>\n"
      ],
      "text/plain": [
       "\r\u001b[2K\u001b[1A\u001b[2K\u001b[1A\u001b[2K\u001b[1A\u001b[2K\u001b[1A\u001b[2K\u001b[1A\u001b[2Kray 2.3.0 has requirement grpcio<=1.49.1,>=1.42.0; python_version >= \"3.10\" and sys_platform == \"darwin\", but you \n",
       "have grpcio 1.52.1.\n",
       "╭────────────────────────────────────────── \u001b[32mPackage Sync\u001b[0m ──────────────────────────────────────────╮\n",
       "│ Fetching latest package priorities \u001b[38;2;114;156;31m━━━━━━━━━━━━━━━━━━━━━━━━━━━━━━━━━━━━━━━━\u001b[0m \u001b[33m0:00:00\u001b[0m              │\n",
       "│ Scanning 24 conda packages         \u001b[38;2;114;156;31m━━━━━━━━━━━━━━━━━━━━━━━━━━━━━━━━━━━━━━━━\u001b[0m \u001b[33m0:00:00\u001b[0m              │\n",
       "│ Scanning 247 python packages       \u001b[38;2;114;156;31m━━━━━━━━━━━━━━━━━━━━━━━━━━━━━━━━━━━━━━━━\u001b[0m \u001b[33m0:00:00\u001b[0m              │\n",
       "│ Running pip check                  \u001b[38;5;237m━━━━━━━━━━━━━━━━━━━━━━━━━━━━━━━━━━━━━━━━\u001b[0m \u001b[33m0:00:00\u001b[0m              │\n",
       "╰──────────────────────────────────────────────────────────────────────────────────────────────────╯"
      ]
     },
     "metadata": {},
     "output_type": "display_data"
    },
    {
     "data": {
      "text/html": [
       "<pre style=\"white-space:pre;overflow-x:auto;line-height:normal;font-family:Menlo,'DejaVu Sans Mono',consolas,'Courier New',monospace\">\r\u001b[2K\u001b[1A\u001b[2K\u001b[1A\u001b[2K\u001b[1A\u001b[2K\u001b[1A\u001b[2K\u001b[1A\u001b[2Kconfirm 0.1.0 has requirement jaxlib==0.4.3; sys_platform == \"darwin\", but you have jaxlib 0.4.4.\n",
       "╭────────────────────────────────────────── <span style=\"color: #008000; text-decoration-color: #008000\">Package Sync</span> ──────────────────────────────────────────╮\n",
       "│ Fetching latest package priorities <span style=\"color: #729c1f; text-decoration-color: #729c1f\">━━━━━━━━━━━━━━━━━━━━━━━━━━━━━━━━━━━━━━━━</span> <span style=\"color: #808000; text-decoration-color: #808000\">0:00:00</span>              │\n",
       "│ Scanning 24 conda packages         <span style=\"color: #729c1f; text-decoration-color: #729c1f\">━━━━━━━━━━━━━━━━━━━━━━━━━━━━━━━━━━━━━━━━</span> <span style=\"color: #808000; text-decoration-color: #808000\">0:00:00</span>              │\n",
       "│ Scanning 247 python packages       <span style=\"color: #729c1f; text-decoration-color: #729c1f\">━━━━━━━━━━━━━━━━━━━━━━━━━━━━━━━━━━━━━━━━</span> <span style=\"color: #808000; text-decoration-color: #808000\">0:00:00</span>              │\n",
       "│ Running pip check                  <span style=\"color: #3a3a3a; text-decoration-color: #3a3a3a\">━━━━━━━━━━━━━━━━━━━━━━━━━━━━━━━━━━━━━━━━</span> <span style=\"color: #808000; text-decoration-color: #808000\">0:00:00</span>              │\n",
       "╰──────────────────────────────────────────────────────────────────────────────────────────────────╯</pre>\n"
      ],
      "text/plain": [
       "\r\u001b[2K\u001b[1A\u001b[2K\u001b[1A\u001b[2K\u001b[1A\u001b[2K\u001b[1A\u001b[2K\u001b[1A\u001b[2Kconfirm 0.1.0 has requirement jaxlib==0.4.3; sys_platform == \"darwin\", but you have jaxlib 0.4.4.\n",
       "╭────────────────────────────────────────── \u001b[32mPackage Sync\u001b[0m ──────────────────────────────────────────╮\n",
       "│ Fetching latest package priorities \u001b[38;2;114;156;31m━━━━━━━━━━━━━━━━━━━━━━━━━━━━━━━━━━━━━━━━\u001b[0m \u001b[33m0:00:00\u001b[0m              │\n",
       "│ Scanning 24 conda packages         \u001b[38;2;114;156;31m━━━━━━━━━━━━━━━━━━━━━━━━━━━━━━━━━━━━━━━━\u001b[0m \u001b[33m0:00:00\u001b[0m              │\n",
       "│ Scanning 247 python packages       \u001b[38;2;114;156;31m━━━━━━━━━━━━━━━━━━━━━━━━━━━━━━━━━━━━━━━━\u001b[0m \u001b[33m0:00:00\u001b[0m              │\n",
       "│ Running pip check                  \u001b[38;5;237m━━━━━━━━━━━━━━━━━━━━━━━━━━━━━━━━━━━━━━━━\u001b[0m \u001b[33m0:00:00\u001b[0m              │\n",
       "╰──────────────────────────────────────────────────────────────────────────────────────────────────╯"
      ]
     },
     "metadata": {},
     "output_type": "display_data"
    },
    {
     "data": {
      "text/html": [
       "<pre style=\"white-space:pre;overflow-x:auto;line-height:normal;font-family:Menlo,'DejaVu Sans Mono',consolas,'Courier New',monospace\">\r\u001b[2K\u001b[1A\u001b[2K\u001b[1A\u001b[2K\u001b[1A\u001b[2K\u001b[1A\u001b[2K\u001b[1A\u001b[2K\u001b[1A\u001b[2KPackage - ray, Pip check had the following issues that need resolving: \n",
       "ray 2.3.0 has requirement grpcio&lt;=1.49.1,&gt;=1.42.0; python_version &gt;= \"3.10\" and sys_platform == \"darwin\", but you \n",
       "have grpcio 1.52.1.\n",
       "╭────────────────────────────────────────── <span style=\"color: #008000; text-decoration-color: #008000\">Package Sync</span> ──────────────────────────────────────────╮\n",
       "│ Fetching latest package priorities <span style=\"color: #729c1f; text-decoration-color: #729c1f\">━━━━━━━━━━━━━━━━━━━━━━━━━━━━━━━━━━━━━━━━</span> <span style=\"color: #808000; text-decoration-color: #808000\">0:00:00</span>              │\n",
       "│ Scanning 24 conda packages         <span style=\"color: #729c1f; text-decoration-color: #729c1f\">━━━━━━━━━━━━━━━━━━━━━━━━━━━━━━━━━━━━━━━━</span> <span style=\"color: #808000; text-decoration-color: #808000\">0:00:00</span>              │\n",
       "│ Scanning 247 python packages       <span style=\"color: #729c1f; text-decoration-color: #729c1f\">━━━━━━━━━━━━━━━━━━━━━━━━━━━━━━━━━━━━━━━━</span> <span style=\"color: #808000; text-decoration-color: #808000\">0:00:00</span>              │\n",
       "│ Running pip check                  <span style=\"color: #729c1f; text-decoration-color: #729c1f\">━━━━━━━━━━━━━━━━━━━━━━━━━━━━━━━━━━━━━━━━</span> <span style=\"color: #808000; text-decoration-color: #808000\">0:00:00</span>              │\n",
       "│ Validating environment             <span style=\"color: #729c1f; text-decoration-color: #729c1f\">━━━━━━━━━━━━━━━━━━━━━━━━━━━━━━━━━━━━━━━━</span> <span style=\"color: #808000; text-decoration-color: #808000\">0:00:06</span>              │\n",
       "╰──────────────────────────────────────────────────────────────────────────────────────────────────╯</pre>\n"
      ],
      "text/plain": [
       "\r\u001b[2K\u001b[1A\u001b[2K\u001b[1A\u001b[2K\u001b[1A\u001b[2K\u001b[1A\u001b[2K\u001b[1A\u001b[2K\u001b[1A\u001b[2KPackage - ray, Pip check had the following issues that need resolving: \n",
       "ray 2.3.0 has requirement grpcio<=1.49.1,>=1.42.0; python_version >= \"3.10\" and sys_platform == \"darwin\", but you \n",
       "have grpcio 1.52.1.\n",
       "╭────────────────────────────────────────── \u001b[32mPackage Sync\u001b[0m ──────────────────────────────────────────╮\n",
       "│ Fetching latest package priorities \u001b[38;2;114;156;31m━━━━━━━━━━━━━━━━━━━━━━━━━━━━━━━━━━━━━━━━\u001b[0m \u001b[33m0:00:00\u001b[0m              │\n",
       "│ Scanning 24 conda packages         \u001b[38;2;114;156;31m━━━━━━━━━━━━━━━━━━━━━━━━━━━━━━━━━━━━━━━━\u001b[0m \u001b[33m0:00:00\u001b[0m              │\n",
       "│ Scanning 247 python packages       \u001b[38;2;114;156;31m━━━━━━━━━━━━━━━━━━━━━━━━━━━━━━━━━━━━━━━━\u001b[0m \u001b[33m0:00:00\u001b[0m              │\n",
       "│ Running pip check                  \u001b[38;2;114;156;31m━━━━━━━━━━━━━━━━━━━━━━━━━━━━━━━━━━━━━━━━\u001b[0m \u001b[33m0:00:00\u001b[0m              │\n",
       "│ Validating environment             \u001b[38;2;114;156;31m━━━━━━━━━━━━━━━━━━━━━━━━━━━━━━━━━━━━━━━━\u001b[0m \u001b[33m0:00:06\u001b[0m              │\n",
       "╰──────────────────────────────────────────────────────────────────────────────────────────────────╯"
      ]
     },
     "metadata": {},
     "output_type": "display_data"
    },
    {
     "data": {
      "text/html": [
       "<pre style=\"white-space:pre;overflow-x:auto;line-height:normal;font-family:Menlo,'DejaVu Sans Mono',consolas,'Courier New',monospace\">\r\u001b[2K\u001b[1A\u001b[2K\u001b[1A\u001b[2K\u001b[1A\u001b[2K\u001b[1A\u001b[2K\u001b[1A\u001b[2K\u001b[1A\u001b[2KPackage - confirm, Pip check had the following issues that need resolving: \n",
       "confirm 0.1.0 has requirement jaxlib==0.4.3; sys_platform == \"darwin\", but you have jaxlib 0.4.4.\n",
       "╭────────────────────────────────────────── <span style=\"color: #008000; text-decoration-color: #008000\">Package Sync</span> ──────────────────────────────────────────╮\n",
       "│ Fetching latest package priorities <span style=\"color: #729c1f; text-decoration-color: #729c1f\">━━━━━━━━━━━━━━━━━━━━━━━━━━━━━━━━━━━━━━━━</span> <span style=\"color: #808000; text-decoration-color: #808000\">0:00:00</span>              │\n",
       "│ Scanning 24 conda packages         <span style=\"color: #729c1f; text-decoration-color: #729c1f\">━━━━━━━━━━━━━━━━━━━━━━━━━━━━━━━━━━━━━━━━</span> <span style=\"color: #808000; text-decoration-color: #808000\">0:00:00</span>              │\n",
       "│ Scanning 247 python packages       <span style=\"color: #729c1f; text-decoration-color: #729c1f\">━━━━━━━━━━━━━━━━━━━━━━━━━━━━━━━━━━━━━━━━</span> <span style=\"color: #808000; text-decoration-color: #808000\">0:00:00</span>              │\n",
       "│ Running pip check                  <span style=\"color: #729c1f; text-decoration-color: #729c1f\">━━━━━━━━━━━━━━━━━━━━━━━━━━━━━━━━━━━━━━━━</span> <span style=\"color: #808000; text-decoration-color: #808000\">0:00:00</span>              │\n",
       "│ Validating environment             <span style=\"color: #729c1f; text-decoration-color: #729c1f\">━━━━━━━━━━━━━━━━━━━━━━━━━━━━━━━━━━━━━━━━</span> <span style=\"color: #808000; text-decoration-color: #808000\">0:00:06</span>              │\n",
       "╰──────────────────────────────────────────────────────────────────────────────────────────────────╯</pre>\n"
      ],
      "text/plain": [
       "\r\u001b[2K\u001b[1A\u001b[2K\u001b[1A\u001b[2K\u001b[1A\u001b[2K\u001b[1A\u001b[2K\u001b[1A\u001b[2K\u001b[1A\u001b[2KPackage - confirm, Pip check had the following issues that need resolving: \n",
       "confirm 0.1.0 has requirement jaxlib==0.4.3; sys_platform == \"darwin\", but you have jaxlib 0.4.4.\n",
       "╭────────────────────────────────────────── \u001b[32mPackage Sync\u001b[0m ──────────────────────────────────────────╮\n",
       "│ Fetching latest package priorities \u001b[38;2;114;156;31m━━━━━━━━━━━━━━━━━━━━━━━━━━━━━━━━━━━━━━━━\u001b[0m \u001b[33m0:00:00\u001b[0m              │\n",
       "│ Scanning 24 conda packages         \u001b[38;2;114;156;31m━━━━━━━━━━━━━━━━━━━━━━━━━━━━━━━━━━━━━━━━\u001b[0m \u001b[33m0:00:00\u001b[0m              │\n",
       "│ Scanning 247 python packages       \u001b[38;2;114;156;31m━━━━━━━━━━━━━━━━━━━━━━━━━━━━━━━━━━━━━━━━\u001b[0m \u001b[33m0:00:00\u001b[0m              │\n",
       "│ Running pip check                  \u001b[38;2;114;156;31m━━━━━━━━━━━━━━━━━━━━━━━━━━━━━━━━━━━━━━━━\u001b[0m \u001b[33m0:00:00\u001b[0m              │\n",
       "│ Validating environment             \u001b[38;2;114;156;31m━━━━━━━━━━━━━━━━━━━━━━━━━━━━━━━━━━━━━━━━\u001b[0m \u001b[33m0:00:06\u001b[0m              │\n",
       "╰──────────────────────────────────────────────────────────────────────────────────────────────────╯"
      ]
     },
     "metadata": {},
     "output_type": "display_data"
    },
    {
     "data": {
      "text/html": [
       "<pre style=\"white-space:pre;overflow-x:auto;line-height:normal;font-family:Menlo,'DejaVu Sans Mono',consolas,'Courier New',monospace\">\n",
       "</pre>\n"
      ],
      "text/plain": [
       "\n",
       "\u001b[?25h"
      ]
     },
     "metadata": {},
     "output_type": "display_data"
    },
    {
     "data": {
      "text/html": [
       "<pre style=\"white-space:pre;overflow-x:auto;line-height:normal;font-family:Menlo,'DejaVu Sans Mono',consolas,'Courier New',monospace\">╭──────────────────────────────────── <span style=\"color: #800000; text-decoration-color: #800000; font-weight: bold\">Not Synced with Cluster</span> ─────────────────────────────────────╮\n",
       "│           ╷                                                                          ╷           │\n",
       "│  <span style=\"font-weight: bold\"> Package </span>│<span style=\"font-weight: bold\"> Error                                                                    </span>│<span style=\"font-weight: bold\"> Risk    </span>  │\n",
       "│ ╶─────────┼──────────────────────────────────────────────────────────────────────────┼─────────╴ │\n",
       "│   ray     │ Pip check had the following issues that need resolving:                  │ Warning   │\n",
       "│           │ ray 2.3.0 has requirement grpcio&lt;=1.49.1,&gt;=1.42.0; python_version &gt;=     │           │\n",
       "│           │ \"3.10\" and sys_platform == \"darwin\", but you have grpcio 1.52.1.         │           │\n",
       "│   confirm │ Pip check had the following issues that need resolving:                  │ Warning   │\n",
       "│           │ confirm 0.1.0 has requirement jaxlib==0.4.3; sys_platform == \"darwin\",   │           │\n",
       "│           │ but you have jaxlib 0.4.4.                                               │           │\n",
       "│           ╵                                                                          ╵           │\n",
       "╰──────────────────────────────────────────────────────────────────────────────────────────────────╯\n",
       "</pre>\n"
      ],
      "text/plain": [
       "╭──────────────────────────────────── \u001b[1;31mNot Synced with Cluster\u001b[0m ─────────────────────────────────────╮\n",
       "│           ╷                                                                          ╷           │\n",
       "│  \u001b[1m \u001b[0m\u001b[1mPackage\u001b[0m\u001b[1m \u001b[0m│\u001b[1m \u001b[0m\u001b[1mError                                                                   \u001b[0m\u001b[1m \u001b[0m│\u001b[1m \u001b[0m\u001b[1mRisk   \u001b[0m\u001b[1m \u001b[0m  │\n",
       "│ ╶─────────┼──────────────────────────────────────────────────────────────────────────┼─────────╴ │\n",
       "│   ray     │ Pip check had the following issues that need resolving:                  │ Warning   │\n",
       "│           │ ray 2.3.0 has requirement grpcio<=1.49.1,>=1.42.0; python_version >=     │           │\n",
       "│           │ \"3.10\" and sys_platform == \"darwin\", but you have grpcio 1.52.1.         │           │\n",
       "│   confirm │ Pip check had the following issues that need resolving:                  │ Warning   │\n",
       "│           │ confirm 0.1.0 has requirement jaxlib==0.4.3; sys_platform == \"darwin\",   │           │\n",
       "│           │ but you have jaxlib 0.4.4.                                               │           │\n",
       "│           ╵                                                                          ╵           │\n",
       "╰──────────────────────────────────────────────────────────────────────────────────────────────────╯\n"
      ]
     },
     "metadata": {},
     "output_type": "display_data"
    },
    {
     "data": {
      "text/html": [
       "<pre style=\"white-space:pre;overflow-x:auto;line-height:normal;font-family:Menlo,'DejaVu Sans Mono',consolas,'Courier New',monospace\"></pre>\n"
      ],
      "text/plain": [
       "\u001b[?25l"
      ]
     },
     "metadata": {},
     "output_type": "display_data"
    },
    {
     "data": {
      "application/vnd.jupyter.widget-view+json": {
       "model_id": "8fd8884e959b49abbccd46c7bd2cc324",
       "version_major": 2,
       "version_minor": 0
      },
      "text/plain": [
       "Output()"
      ]
     },
     "metadata": {},
     "output_type": "display_data"
    },
    {
     "data": {
      "text/html": [
       "<pre style=\"white-space:pre;overflow-x:auto;line-height:normal;font-family:Menlo,'DejaVu Sans Mono',consolas,'Courier New',monospace\">\n",
       "</pre>\n"
      ],
      "text/plain": [
       "\n",
       "\u001b[?25h"
      ]
     },
     "metadata": {},
     "output_type": "display_data"
    }
   ],
   "source": [
    "import coiled\n",
    "# create a remote Dask cluster with Coiled\n",
    "cluster = coiled.Cluster(name=\"my-cluster\", n_workers=2)"
   ]
  },
  {
   "cell_type": "code",
   "execution_count": 10,
   "metadata": {},
   "outputs": [
    {
     "name": "stdout",
     "output_type": "stream",
     "text": [
      "Dask scheduler dashboard: https://cluster-wnozz.dask.host?token=Mi-9N3wIDi1BwCsH\n"
     ]
    }
   ],
   "source": [
    "# connect a Dask client to the cluster\n",
    "client = cluster.get_client()\n",
    "\n",
    "# link to Dask scheduler dashboard\n",
    "print(\"Dask scheduler dashboard:\", client.dashboard_link)\n"
   ]
  },
  {
   "cell_type": "code",
   "execution_count": 18,
   "metadata": {},
   "outputs": [
    {
     "ename": "ModuleNotFoundError",
     "evalue": "No module named 'confirm'",
     "output_type": "error",
     "traceback": [
      "\u001b[0;31m---------------------------------------------------------------------------\u001b[0m",
      "\u001b[0;31mModuleNotFoundError\u001b[0m                       Traceback (most recent call last)",
      "Cell \u001b[0;32mIn[18], line 29\u001b[0m\n\u001b[1;32m     10\u001b[0m     \u001b[39mreturn\u001b[39;00m jnp\u001b[39m.\u001b[39msum(data[:,\u001b[39m0\u001b[39m] \u001b[39m>\u001b[39m data[:,\u001b[39m1\u001b[39m])\n\u001b[1;32m     11\u001b[0m     \u001b[39m# import numpy as np\u001b[39;00m\n\u001b[1;32m     12\u001b[0m     \u001b[39m# import imprint as ip\u001b[39;00m\n\u001b[1;32m     13\u001b[0m     \u001b[39m# from imprint.models.ztest import ZTest1D\u001b[39;00m\n\u001b[0;32m   (...)\u001b[0m\n\u001b[1;32m     26\u001b[0m     \u001b[39m# )\u001b[39;00m\n\u001b[1;32m     27\u001b[0m     \u001b[39m# return ip.Grid(db.get_results(), 1).prune_inactive().n_tiles\u001b[39;00m\n\u001b[0;32m---> 29\u001b[0m NN \u001b[39m=\u001b[39m run_ada()\u001b[39m.\u001b[39;49mcompute()\n",
      "File \u001b[0;32m~/.mambaforge/envs/confirm/lib/python3.10/site-packages/dask/base.py:314\u001b[0m, in \u001b[0;36mDaskMethodsMixin.compute\u001b[0;34m(self, **kwargs)\u001b[0m\n\u001b[1;32m    290\u001b[0m \u001b[39mdef\u001b[39;00m \u001b[39mcompute\u001b[39m(\u001b[39mself\u001b[39m, \u001b[39m*\u001b[39m\u001b[39m*\u001b[39mkwargs):\n\u001b[1;32m    291\u001b[0m \u001b[39m    \u001b[39m\u001b[39m\"\"\"Compute this dask collection\u001b[39;00m\n\u001b[1;32m    292\u001b[0m \n\u001b[1;32m    293\u001b[0m \u001b[39m    This turns a lazy Dask collection into its in-memory equivalent.\u001b[39;00m\n\u001b[0;32m   (...)\u001b[0m\n\u001b[1;32m    312\u001b[0m \u001b[39m    dask.base.compute\u001b[39;00m\n\u001b[1;32m    313\u001b[0m \u001b[39m    \"\"\"\u001b[39;00m\n\u001b[0;32m--> 314\u001b[0m     (result,) \u001b[39m=\u001b[39m compute(\u001b[39mself\u001b[39;49m, traverse\u001b[39m=\u001b[39;49m\u001b[39mFalse\u001b[39;49;00m, \u001b[39m*\u001b[39;49m\u001b[39m*\u001b[39;49mkwargs)\n\u001b[1;32m    315\u001b[0m     \u001b[39mreturn\u001b[39;00m result\n",
      "File \u001b[0;32m~/.mambaforge/envs/confirm/lib/python3.10/site-packages/dask/base.py:599\u001b[0m, in \u001b[0;36mcompute\u001b[0;34m(traverse, optimize_graph, scheduler, get, *args, **kwargs)\u001b[0m\n\u001b[1;32m    596\u001b[0m     keys\u001b[39m.\u001b[39mappend(x\u001b[39m.\u001b[39m__dask_keys__())\n\u001b[1;32m    597\u001b[0m     postcomputes\u001b[39m.\u001b[39mappend(x\u001b[39m.\u001b[39m__dask_postcompute__())\n\u001b[0;32m--> 599\u001b[0m results \u001b[39m=\u001b[39m schedule(dsk, keys, \u001b[39m*\u001b[39;49m\u001b[39m*\u001b[39;49mkwargs)\n\u001b[1;32m    600\u001b[0m \u001b[39mreturn\u001b[39;00m repack([f(r, \u001b[39m*\u001b[39ma) \u001b[39mfor\u001b[39;00m r, (f, a) \u001b[39min\u001b[39;00m \u001b[39mzip\u001b[39m(results, postcomputes)])\n",
      "File \u001b[0;32m~/.mambaforge/envs/confirm/lib/python3.10/site-packages/distributed/client.py:3136\u001b[0m, in \u001b[0;36mClient.get\u001b[0;34m(self, dsk, keys, workers, allow_other_workers, resources, sync, asynchronous, direct, retries, priority, fifo_timeout, actors, **kwargs)\u001b[0m\n\u001b[1;32m   3134\u001b[0m         should_rejoin \u001b[39m=\u001b[39m \u001b[39mFalse\u001b[39;00m\n\u001b[1;32m   3135\u001b[0m \u001b[39mtry\u001b[39;00m:\n\u001b[0;32m-> 3136\u001b[0m     results \u001b[39m=\u001b[39m \u001b[39mself\u001b[39;49m\u001b[39m.\u001b[39;49mgather(packed, asynchronous\u001b[39m=\u001b[39;49masynchronous, direct\u001b[39m=\u001b[39;49mdirect)\n\u001b[1;32m   3137\u001b[0m \u001b[39mfinally\u001b[39;00m:\n\u001b[1;32m   3138\u001b[0m     \u001b[39mfor\u001b[39;00m f \u001b[39min\u001b[39;00m futures\u001b[39m.\u001b[39mvalues():\n",
      "File \u001b[0;32m~/.mambaforge/envs/confirm/lib/python3.10/site-packages/distributed/client.py:2305\u001b[0m, in \u001b[0;36mClient.gather\u001b[0;34m(self, futures, errors, direct, asynchronous)\u001b[0m\n\u001b[1;32m   2303\u001b[0m \u001b[39melse\u001b[39;00m:\n\u001b[1;32m   2304\u001b[0m     local_worker \u001b[39m=\u001b[39m \u001b[39mNone\u001b[39;00m\n\u001b[0;32m-> 2305\u001b[0m \u001b[39mreturn\u001b[39;00m \u001b[39mself\u001b[39;49m\u001b[39m.\u001b[39;49msync(\n\u001b[1;32m   2306\u001b[0m     \u001b[39mself\u001b[39;49m\u001b[39m.\u001b[39;49m_gather,\n\u001b[1;32m   2307\u001b[0m     futures,\n\u001b[1;32m   2308\u001b[0m     errors\u001b[39m=\u001b[39;49merrors,\n\u001b[1;32m   2309\u001b[0m     direct\u001b[39m=\u001b[39;49mdirect,\n\u001b[1;32m   2310\u001b[0m     local_worker\u001b[39m=\u001b[39;49mlocal_worker,\n\u001b[1;32m   2311\u001b[0m     asynchronous\u001b[39m=\u001b[39;49masynchronous,\n\u001b[1;32m   2312\u001b[0m )\n",
      "File \u001b[0;32m~/.mambaforge/envs/confirm/lib/python3.10/site-packages/distributed/utils.py:338\u001b[0m, in \u001b[0;36mSyncMethodMixin.sync\u001b[0;34m(self, func, asynchronous, callback_timeout, *args, **kwargs)\u001b[0m\n\u001b[1;32m    336\u001b[0m     \u001b[39mreturn\u001b[39;00m future\n\u001b[1;32m    337\u001b[0m \u001b[39melse\u001b[39;00m:\n\u001b[0;32m--> 338\u001b[0m     \u001b[39mreturn\u001b[39;00m sync(\n\u001b[1;32m    339\u001b[0m         \u001b[39mself\u001b[39;49m\u001b[39m.\u001b[39;49mloop, func, \u001b[39m*\u001b[39;49margs, callback_timeout\u001b[39m=\u001b[39;49mcallback_timeout, \u001b[39m*\u001b[39;49m\u001b[39m*\u001b[39;49mkwargs\n\u001b[1;32m    340\u001b[0m     )\n",
      "File \u001b[0;32m~/.mambaforge/envs/confirm/lib/python3.10/site-packages/distributed/utils.py:405\u001b[0m, in \u001b[0;36msync\u001b[0;34m(loop, func, callback_timeout, *args, **kwargs)\u001b[0m\n\u001b[1;32m    403\u001b[0m \u001b[39mif\u001b[39;00m error:\n\u001b[1;32m    404\u001b[0m     typ, exc, tb \u001b[39m=\u001b[39m error\n\u001b[0;32m--> 405\u001b[0m     \u001b[39mraise\u001b[39;00m exc\u001b[39m.\u001b[39mwith_traceback(tb)\n\u001b[1;32m    406\u001b[0m \u001b[39melse\u001b[39;00m:\n\u001b[1;32m    407\u001b[0m     \u001b[39mreturn\u001b[39;00m result\n",
      "File \u001b[0;32m~/.mambaforge/envs/confirm/lib/python3.10/site-packages/distributed/utils.py:378\u001b[0m, in \u001b[0;36msync.<locals>.f\u001b[0;34m()\u001b[0m\n\u001b[1;32m    376\u001b[0m         future \u001b[39m=\u001b[39m asyncio\u001b[39m.\u001b[39mwait_for(future, callback_timeout)\n\u001b[1;32m    377\u001b[0m     future \u001b[39m=\u001b[39m asyncio\u001b[39m.\u001b[39mensure_future(future)\n\u001b[0;32m--> 378\u001b[0m     result \u001b[39m=\u001b[39m \u001b[39myield\u001b[39;00m future\n\u001b[1;32m    379\u001b[0m \u001b[39mexcept\u001b[39;00m \u001b[39mException\u001b[39;00m:\n\u001b[1;32m    380\u001b[0m     error \u001b[39m=\u001b[39m sys\u001b[39m.\u001b[39mexc_info()\n",
      "File \u001b[0;32m~/.mambaforge/envs/confirm/lib/python3.10/site-packages/tornado/gen.py:769\u001b[0m, in \u001b[0;36mRunner.run\u001b[0;34m(self)\u001b[0m\n\u001b[1;32m    766\u001b[0m exc_info \u001b[39m=\u001b[39m \u001b[39mNone\u001b[39;00m\n\u001b[1;32m    768\u001b[0m \u001b[39mtry\u001b[39;00m:\n\u001b[0;32m--> 769\u001b[0m     value \u001b[39m=\u001b[39m future\u001b[39m.\u001b[39;49mresult()\n\u001b[1;32m    770\u001b[0m \u001b[39mexcept\u001b[39;00m \u001b[39mException\u001b[39;00m:\n\u001b[1;32m    771\u001b[0m     exc_info \u001b[39m=\u001b[39m sys\u001b[39m.\u001b[39mexc_info()\n",
      "File \u001b[0;32m~/.mambaforge/envs/confirm/lib/python3.10/site-packages/distributed/client.py:2168\u001b[0m, in \u001b[0;36mClient._gather\u001b[0;34m(self, futures, errors, direct, local_worker)\u001b[0m\n\u001b[1;32m   2166\u001b[0m         exc \u001b[39m=\u001b[39m CancelledError(key)\n\u001b[1;32m   2167\u001b[0m     \u001b[39melse\u001b[39;00m:\n\u001b[0;32m-> 2168\u001b[0m         \u001b[39mraise\u001b[39;00m exception\u001b[39m.\u001b[39mwith_traceback(traceback)\n\u001b[1;32m   2169\u001b[0m     \u001b[39mraise\u001b[39;00m exc\n\u001b[1;32m   2170\u001b[0m \u001b[39mif\u001b[39;00m errors \u001b[39m==\u001b[39m \u001b[39m\"\u001b[39m\u001b[39mskip\u001b[39m\u001b[39m\"\u001b[39m:\n",
      "Cell \u001b[0;32mIn[18], line 7\u001b[0m, in \u001b[0;36mrun_ada\u001b[0;34m()\u001b[0m\n\u001b[1;32m      5\u001b[0m \u001b[39mimport\u001b[39;00m \u001b[39mjax\u001b[39;00m\n\u001b[1;32m      6\u001b[0m \u001b[39mimport\u001b[39;00m \u001b[39mjax\u001b[39;00m\u001b[39m.\u001b[39;00m\u001b[39mnumpy\u001b[39;00m \u001b[39mas\u001b[39;00m \u001b[39mjnp\u001b[39;00m\n\u001b[0;32m----> 7\u001b[0m \u001b[39mimport\u001b[39;00m \u001b[39mconfirm\u001b[39;00m\n\u001b[1;32m      8\u001b[0m seed \u001b[39m=\u001b[39m jax\u001b[39m.\u001b[39mrandom\u001b[39m.\u001b[39mPRNGKey(\u001b[39m0\u001b[39m)\n\u001b[1;32m      9\u001b[0m data \u001b[39m=\u001b[39m jax\u001b[39m.\u001b[39mrandom\u001b[39m.\u001b[39muniform(seed, shape\u001b[39m=\u001b[39m(\u001b[39m100000\u001b[39m, \u001b[39m2\u001b[39m))\n",
      "\u001b[0;31mModuleNotFoundError\u001b[0m: No module named 'confirm'"
     ]
    }
   ],
   "source": [
    "import dask\n",
    "\n",
    "@dask.delayed\n",
    "def run_ada():\n",
    "    import jax\n",
    "    import jax.numpy as jnp\n",
    "    seed = jax.random.PRNGKey(0)\n",
    "    data = jax.random.uniform(seed, shape=(100000, 2))\n",
    "    return jnp.sum(data[:,0] > data[:,1])\n",
    "    # import numpy as np\n",
    "    # import imprint as ip\n",
    "    # from imprint.models.ztest import ZTest1D\n",
    "    # import confirm.adagrid as ada\n",
    "    # d = 1\n",
    "    # g = ip.cartesian_grid(\n",
    "    #     theta_min=np.full(d, -1),\n",
    "    #     theta_max=np.full(d, 0),\n",
    "    #     null_hypos=[ip.hypo(\"theta0 > theta1\")],\n",
    "    # )\n",
    "    # db = ada.ada_validate(\n",
    "    #     ZTest1D,\n",
    "    #     g=g,\n",
    "    #     lam=-1.96,\n",
    "    #     prod=False\n",
    "    # )\n",
    "    # return ip.Grid(db.get_results(), 1).prune_inactive().n_tiles\n",
    "\n",
    "NN = run_ada().compute()"
   ]
  },
  {
   "cell_type": "code",
   "execution_count": 6,
   "metadata": {},
   "outputs": [
    {
     "data": {
      "text/plain": [
       "Delayed('int-7fdd1fc6-7bed-41cf-bafb-d28ada417996')"
      ]
     },
     "execution_count": 6,
     "metadata": {},
     "output_type": "execute_result"
    }
   ],
   "source": [
    "df.shape[0]"
   ]
  },
  {
   "cell_type": "code",
   "execution_count": 20,
   "metadata": {},
   "outputs": [],
   "source": [
    "client.close()"
   ]
  },
  {
   "cell_type": "code",
   "execution_count": 21,
   "metadata": {},
   "outputs": [],
   "source": [
    "cluster.close()"
   ]
  }
 ],
 "metadata": {
  "kernelspec": {
   "display_name": "confirm",
   "language": "python",
   "name": "python3"
  },
  "language_info": {
   "codemirror_mode": {
    "name": "ipython",
    "version": 3
   },
   "file_extension": ".py",
   "mimetype": "text/x-python",
   "name": "python",
   "nbconvert_exporter": "python",
   "pygments_lexer": "ipython3",
   "version": "3.10.9"
  },
  "orig_nbformat": 4
 },
 "nbformat": 4,
 "nbformat_minor": 2
}
