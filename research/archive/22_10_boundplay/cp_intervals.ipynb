{
 "cells": [
  {
   "cell_type": "code",
   "execution_count": 1,
   "metadata": {},
   "outputs": [],
   "source": [
    "import confirm.outlaw.nb_util as nb_util\n",
    "\n",
    "nb_util.setup_nb()\n",
    "import numpy as np\n",
    "import jax.numpy as jnp\n",
    "import jax\n",
    "import scipy.stats\n",
    "import matplotlib.pyplot as plt"
   ]
  },
  {
   "cell_type": "markdown",
   "metadata": {},
   "source": [
    "## Investigating Clopper-Pearson"
   ]
  },
  {
   "cell_type": "markdown",
   "metadata": {},
   "source": []
  },
  {
   "cell_type": "code",
   "execution_count": 2,
   "metadata": {},
   "outputs": [
    {
     "name": "stdout",
     "output_type": "stream",
     "text": [
      "true type I error 0.03080342278204773\n",
      "CPU times: user 7.03 s, sys: 368 ms, total: 7.4 s\n",
      "Wall time: 7.33 s\n"
     ]
    }
   ],
   "source": [
    "%%time\n",
    "n = 50\n",
    "p = 0.2\n",
    "thresh = 16\n",
    "print(\"true type I error\", 1 - scipy.stats.binom.cdf(thresh - 1, n, p))\n",
    "\n",
    "niter = 1\n",
    "ntests = 100000\n",
    "nsims = 1000\n",
    "delta = 0.01\n",
    "test_ests = np.empty((niter, ntests))\n",
    "n_failures = np.empty(niter, dtype=np.int32)\n",
    "for i in range(niter):\n",
    "    samples = scipy.stats.binom.rvs(n, p, size=nsims)\n",
    "    reject = samples >= thresh\n",
    "    typeI_sum = jnp.sum(reject)\n",
    "    typeI_est = typeI_sum / nsims\n",
    "    typeI_CI = (\n",
    "        scipy.stats.beta.ppf(1 - delta, typeI_sum + 1, nsims - typeI_sum) - typeI_est\n",
    "    )\n",
    "    upper99 = typeI_est + typeI_CI\n",
    "\n",
    "    test_ests[i, :] = jnp.mean(\n",
    "        scipy.stats.binom.rvs(n, p, size=(ntests, nsims)) > thresh, axis=-1\n",
    "    )\n",
    "    n_failures[i] = jnp.sum(test_ests > upper99)"
   ]
  },
  {
   "cell_type": "code",
   "execution_count": 3,
   "metadata": {},
   "outputs": [],
   "source": [
    "empirical99 = np.percentile(test_ests.flatten(), 99)"
   ]
  },
  {
   "cell_type": "code",
   "execution_count": 4,
   "metadata": {},
   "outputs": [
    {
     "data": {
      "text/plain": [
       "0.024000000208616257"
      ]
     },
     "execution_count": 4,
     "metadata": {},
     "output_type": "execute_result"
    }
   ],
   "source": [
    "empirical99"
   ]
  },
  {
   "cell_type": "code",
   "execution_count": 5,
   "metadata": {},
   "outputs": [],
   "source": [
    "nsims = 40000000\n",
    "samples = scipy.stats.binom.rvs(n, p, size=nsims)\n",
    "reject = samples >= thresh\n",
    "typeI_sum = jnp.sum(reject)\n",
    "typeI_est = typeI_sum / nsims\n",
    "typeI_CI = scipy.stats.beta.ppf(1 - delta, typeI_sum + 1, nsims - typeI_sum) - typeI_est\n",
    "upper99_2 = typeI_est + typeI_CI"
   ]
  },
  {
   "cell_type": "code",
   "execution_count": 6,
   "metadata": {},
   "outputs": [
    {
     "data": {
      "text/plain": [
       "(DeviceArray(0.03077822, dtype=float64),\n",
       " DeviceArray(6.35886319e-05, dtype=float64))"
      ]
     },
     "execution_count": 6,
     "metadata": {},
     "output_type": "execute_result"
    }
   ],
   "source": [
    "typeI_est, typeI_CI"
   ]
  },
  {
   "cell_type": "code",
   "execution_count": 7,
   "metadata": {},
   "outputs": [
    {
     "data": {
      "image/png": "[encoded data removed]",
      "text/plain": [
       "<Figure size 432x288 with 1 Axes>"
      ]
     },
     "metadata": {
      "image/png": {
       "height": 265,
       "width": 407
      },
      "needs_background": "light"
     },
     "output_type": "display_data"
    }
   ],
   "source": [
    "plt.hist(test_ests.flatten())\n",
    "plt.axvline(upper99, color=\"r\", label=\"CP bound\")\n",
    "plt.axvline(upper99_2, color=\"r\", label=\"CP bound 2\")\n",
    "plt.axvline(empirical99, color=\"k\", label=\"empirical 99th percentile\")\n",
    "plt.xlabel(\"type I error\")\n",
    "plt.ylabel(\"count\")\n",
    "plt.legend()\n",
    "plt.show()"
   ]
  },
  {
   "cell_type": "code",
   "execution_count": 8,
   "metadata": {},
   "outputs": [
    {
     "data": {
      "text/plain": [
       "DeviceArray(1231129, dtype=int64)"
      ]
     },
     "execution_count": 8,
     "metadata": {},
     "output_type": "execute_result"
    }
   ],
   "source": [
    "typeI_sum"
   ]
  },
  {
   "cell_type": "code",
   "execution_count": 9,
   "metadata": {},
   "outputs": [
    {
     "data": {
      "text/plain": [
       "0.0"
      ]
     },
     "execution_count": 9,
     "metadata": {},
     "output_type": "execute_result"
    }
   ],
   "source": [
    "(n_failures.sum() / (niter * ntests))"
   ]
  },
  {
   "cell_type": "markdown",
   "metadata": {},
   "source": [
    "## Check gradient bound"
   ]
  },
  {
   "cell_type": "code",
   "execution_count": 10,
   "metadata": {},
   "outputs": [],
   "source": [
    "n = 50\n",
    "p = 0.2\n",
    "t = jax.scipy.special.logit(p)\n",
    "At = lambda t: -n * jnp.log(1 - jax.scipy.special.expit(t))\n",
    "g = lambda t, x: t * x - At(t)\n",
    "dg = jax.grad(g)\n",
    "dg_vmap = jax.vmap(dg, in_axes=(None, 0))\n",
    "\n",
    "holderp = 1.2\n",
    "holderq = 6.0\n",
    "# holderq = 1.0 / (1 - 1.0 / holderp)"
   ]
  },
  {
   "cell_type": "code",
   "execution_count": 12,
   "metadata": {},
   "outputs": [
    {
     "data": {
      "text/plain": [
       "(DeviceArray(4.46680721, dtype=float64),\n",
       " DeviceArray(4.46680721, dtype=float64, weak_type=True))"
      ]
     },
     "execution_count": 12,
     "metadata": {},
     "output_type": "execute_result"
    }
   ],
   "source": [
    "# numerical integral to compute E[ |grad g|^q]^(1/q)\n",
    "# need to compute for the worst t in the \"tile\".\n",
    "def C_numerical(t, p, holderq):\n",
    "    xs = jnp.arange(n + 1).astype(jnp.float64)\n",
    "    eggq = jnp.abs(dg_vmap(t, xs)) ** holderq\n",
    "    return sum(eggq * scipy.stats.binom.pmf(xs, n, p)) ** (1 / holderq)\n",
    "\n",
    "\n",
    "# Formula for C with q = 6 from wikipedia\n",
    "def C_wiki(p):\n",
    "    assert holderq == 6\n",
    "    return (\n",
    "        n\n",
    "        * p\n",
    "        * (1 - p)\n",
    "        * (\n",
    "            1\n",
    "            - 30 * p * (1 - p) * (1 - 4 * p * (1 - p))\n",
    "            + 5 * n * p * (1 - p) * (5 - 26 * p * (1 - p))\n",
    "            + 15 * n**2 * p**2 * (1 - p) ** 2\n",
    "        )\n",
    "    ) ** (1 / 6)\n",
    "\n",
    "\n",
    "# p = 0.2 corresponds to t=-1.386\n",
    "# choose theta = -1.1 as the edge of our tile.\n",
    "# so our tile is going to extend unidirectionally from -1.386 (the grid pt) to -1.1\n",
    "# since the constant is monotonic in the relevant region, we can just compute\n",
    "# at the edge of the tile to get a maximum value.\n",
    "# tmax = -1.1\n",
    "tmax = t\n",
    "pmax = jax.scipy.special.expit(tmax)\n",
    "C = C_wiki(pmax)\n",
    "C_numerical(tmax, pmax, holderq), C_wiki(pmax)"
   ]
  },
  {
   "cell_type": "code",
   "execution_count": 13,
   "metadata": {},
   "outputs": [
    {
     "name": "stdout",
     "output_type": "stream",
     "text": [
      "true type I error 0.0009324364894210957\n",
      "4 1.3333333333333333\n",
      "5 1.25\n",
      "6 1.2\n",
      "7 1.1666666666666665\n",
      "8 1.1428571428571428\n",
      "9 1.125\n",
      "10 1.1111111111111112\n",
      "11 1.1\n",
      "12 1.090909090909091\n",
      "13 1.0833333333333333\n",
      "14 1.0769230769230769\n",
      "15 1.0714285714285714\n"
     ]
    },
    {
     "data": {
      "text/plain": [
       "(DeviceArray(0.00105638, dtype=float64),\n",
       " [DeviceArray(0.0218209, dtype=float64),\n",
       "  DeviceArray(0.01708739, dtype=float64),\n",
       "  DeviceArray(0.01478594, dtype=float64),\n",
       "  DeviceArray(0.01351862, dtype=float64),\n",
       "  DeviceArray(0.01277607, dtype=float64),\n",
       "  DeviceArray(0.01233228, dtype=float64),\n",
       "  DeviceArray(0.01207249, dtype=float64),\n",
       "  DeviceArray(0.01193241, dtype=float64),\n",
       "  DeviceArray(0.01187333, dtype=float64),\n",
       "  DeviceArray(0.01187064, dtype=float64),\n",
       "  DeviceArray(0.01190807, dtype=float64),\n",
       "  DeviceArray(0.01197453, dtype=float64)])"
      ]
     },
     "execution_count": 13,
     "metadata": {},
     "output_type": "execute_result"
    }
   ],
   "source": [
    "np.random.seed(0)\n",
    "thresh = 20\n",
    "nsims = 500000\n",
    "print(\"true type I error\", 1 - scipy.stats.binom.cdf(thresh - 1, n, p))\n",
    "samples = scipy.stats.binom.rvs(n, p, size=nsims)\n",
    "reject = samples >= thresh\n",
    "typeI_sum = jnp.sum(reject)\n",
    "typeI_est = typeI_sum / nsims\n",
    "typeI_CI = scipy.stats.beta.ppf(1 - delta, typeI_sum + 1, nsims - typeI_sum) - typeI_est\n",
    "\n",
    "grad_bound = []\n",
    "for q in [4, 5, 6, 7, 8, 9, 10, 11, 12, 13, 14, 15]:\n",
    "    holderq = q\n",
    "    holderp = 1.0 / (1 - 1.0 / holderq)\n",
    "    print(holderq, holderp)\n",
    "    C = C_numerical(tmax, pmax, holderq)\n",
    "    grad_bound.append(C * (typeI_est + typeI_CI) ** (1 / holderp))\n",
    "typeI_est + typeI_CI, grad_bound"
   ]
  },
  {
   "cell_type": "code",
   "execution_count": 14,
   "metadata": {},
   "outputs": [
    {
     "data": {
      "text/plain": [
       "(0.01092108,\n",
       " [DeviceArray(0.0218209, dtype=float64),\n",
       "  DeviceArray(0.01708739, dtype=float64),\n",
       "  DeviceArray(0.01478594, dtype=float64),\n",
       "  DeviceArray(0.01351862, dtype=float64),\n",
       "  DeviceArray(0.01277607, dtype=float64),\n",
       "  DeviceArray(0.01233228, dtype=float64),\n",
       "  DeviceArray(0.01207249, dtype=float64),\n",
       "  DeviceArray(0.01193241, dtype=float64),\n",
       "  DeviceArray(0.01187333, dtype=float64),\n",
       "  DeviceArray(0.01187064, dtype=float64),\n",
       "  DeviceArray(0.01190807, dtype=float64),\n",
       "  DeviceArray(0.01197453, dtype=float64)])"
      ]
     },
     "execution_count": 14,
     "metadata": {},
     "output_type": "execute_result"
    }
   ],
   "source": [
    "ntests = 100\n",
    "new_samples = scipy.stats.binom.rvs(n, p, size=(ntests, nsims))\n",
    "grad_est = np.mean((new_samples >= thresh) * (new_samples - n * p), axis=-1)\n",
    "np.percentile(grad_est, 99), grad_bound"
   ]
  },
  {
   "cell_type": "code",
   "execution_count": 15,
   "metadata": {},
   "outputs": [
    {
     "data": {
      "text/plain": [
       "DeviceArray(0.01187064, dtype=float64)"
      ]
     },
     "execution_count": 15,
     "metadata": {},
     "output_type": "execute_result"
    }
   ],
   "source": [
    "min(grad_bound)"
   ]
  },
  {
   "cell_type": "code",
   "execution_count": 16,
   "metadata": {},
   "outputs": [
    {
     "data": {
      "text/plain": [
       "(array([], dtype=int64),)"
      ]
     },
     "execution_count": 16,
     "metadata": {},
     "output_type": "execute_result"
    }
   ],
   "source": [
    "np.where(grad_est > min(grad_bound))"
   ]
  },
  {
   "cell_type": "code",
   "execution_count": 18,
   "metadata": {},
   "outputs": [
    {
     "data": {
      "image/png": "[encoded data removed]",
      "text/plain": [
       "<Figure size 432x288 with 1 Axes>"
      ]
     },
     "metadata": {
      "image/png": {
       "height": 249,
       "width": 370
      },
      "needs_background": "light"
     },
     "output_type": "display_data"
    }
   ],
   "source": [
    "plt.hist(grad_est)\n",
    "for i in range(len(grad_bound)):\n",
    "    plt.axvline(grad_bound[i], color=\"r\")\n",
    "plt.show()"
   ]
  },
  {
   "cell_type": "code",
   "execution_count": null,
   "metadata": {},
   "outputs": [],
   "source": []
  }
 ],
 "metadata": {
  "kernelspec": {
   "display_name": "Python 3.10.5 ('confirm')",
   "language": "python",
   "name": "python3"
  },
  "language_info": {
   "codemirror_mode": {
    "name": "ipython",
    "version": 3
   },
   "file_extension": ".py",
   "mimetype": "text/x-python",
   "name": "python",
   "nbconvert_exporter": "python",
   "pygments_lexer": "ipython3",
   "version": "3.10.5"
  },
  "orig_nbformat": 4,
  "vscode": {
   "interpreter": {
    "hash": "b4c6ec5b2d6c7b38df115d547b82cd53ca25eea58d87299956d35a9dc79f19f1"
   }
  }
 },
 "nbformat": 4,
 "nbformat_minor": 2
}
