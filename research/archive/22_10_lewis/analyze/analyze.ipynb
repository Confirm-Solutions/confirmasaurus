{
 "cells": [
  {
   "cell_type": "markdown",
   "metadata": {},
   "source": [
    "# Analyze Upper Bound of Type I Error for Lei Example"
   ]
  },
  {
   "cell_type": "code",
   "execution_count": 1,
   "metadata": {},
   "outputs": [],
   "source": [
    "%load_ext autoreload\n",
    "%autoreload 2"
   ]
  },
  {
   "cell_type": "code",
   "execution_count": 3,
   "metadata": {},
   "outputs": [],
   "source": [
    "import jax\n",
    "import os\n",
    "import numpy as np\n",
    "from confirm.imprint import grid\n",
    "from confirm.lewislib import grid as lewgrid\n",
    "from confirm.lewislib import lewis\n",
    "from confirm.imprint import binomial"
   ]
  },
  {
   "cell_type": "code",
   "execution_count": 4,
   "metadata": {},
   "outputs": [],
   "source": [
    "# Configuration used during simulation\n",
    "params = {\n",
    "    \"n_arms\": 4,\n",
    "    \"n_stage_1\": 50,\n",
    "    \"n_stage_2\": 100,\n",
    "    \"n_stage_1_interims\": 2,\n",
    "    \"n_stage_1_add_per_interim\": 100,\n",
    "    \"n_stage_2_add_per_interim\": 100,\n",
    "    \"stage_1_futility_threshold\": 0.15,\n",
    "    \"stage_1_efficacy_threshold\": 0.7,\n",
    "    \"stage_2_futility_threshold\": 0.2,\n",
    "    \"stage_2_efficacy_threshold\": 0.95,\n",
    "    \"inter_stage_futility_threshold\": 0.6,\n",
    "    \"posterior_difference_threshold\": 0,\n",
    "    \"rejection_threshold\": 0.05,\n",
    "    \"key\": jax.random.PRNGKey(0),\n",
    "    \"n_pr_sims\": 100,\n",
    "    \"n_sig2_sims\": 20,\n",
    "    \"batch_size\": int(2**20),\n",
    "    \"cache_tables\": False,\n",
    "}\n",
    "size = 52\n",
    "n_sim_batches = 500\n",
    "sim_batch_size = 100"
   ]
  },
  {
   "cell_type": "code",
   "execution_count": 5,
   "metadata": {},
   "outputs": [],
   "source": [
    "# construct Lei object\n",
    "lei_obj = lewis.Lewis45(**params)"
   ]
  },
  {
   "cell_type": "code",
   "execution_count": 6,
   "metadata": {},
   "outputs": [],
   "source": [
    "# construct the same grid used during simulation\n",
    "n_arms = params[\"n_arms\"]\n",
    "lower = np.full(n_arms, -1)\n",
    "upper = np.full(n_arms, 1)\n",
    "thetas, radii = lewgrid.make_cartesian_grid_range(\n",
    "    size=size,\n",
    "    lower=lower,\n",
    "    upper=upper,\n",
    ")\n",
    "ns = np.concatenate(\n",
    "    [np.ones(n_arms - 1)[:, None], -np.eye(n_arms - 1)],\n",
    "    axis=-1,\n",
    ")\n",
    "null_hypos = [grid.HyperPlane(n, 0) for n in ns]\n",
    "gr = grid.build_grid(\n",
    "    thetas=thetas,\n",
    "    radii=radii,\n",
    "    null_hypos=null_hypos,\n",
    ")\n",
    "gr = grid.prune(gr)"
   ]
  },
  {
   "cell_type": "code",
   "execution_count": 7,
   "metadata": {},
   "outputs": [],
   "source": [
    "# construct tile informations used during simulation\n",
    "theta_tiles = gr.thetas[gr.grid_pt_idx]\n",
    "p_tiles = jax.scipy.special.expit(theta_tiles)\n",
    "tile_radii = gr.radii[gr.grid_pt_idx]\n",
    "null_truths = gr.null_truth.astype(bool)\n",
    "sim_size = 2 * n_sim_batches * sim_batch_size  # 2 instances parallelized\n",
    "sim_sizes = np.full(gr.n_tiles, sim_size)"
   ]
  },
  {
   "cell_type": "code",
   "execution_count": 8,
   "metadata": {},
   "outputs": [],
   "source": [
    "# get type I sum and score\n",
    "cwd = \".\"\n",
    "data_dir = os.path.join(cwd, \"../data\")\n",
    "output_dir = os.path.join(data_dir, \"output_1\")\n",
    "typeI_sum = np.loadtxt(os.path.join(output_dir, \"typeI_sum.csv\"), delimiter=\",\")\n",
    "typeI_score = np.loadtxt(os.path.join(output_dir, \"typeI_score.csv\"), delimiter=\",\")\n",
    "output_dir = os.path.join(data_dir, \"output_2\")\n",
    "typeI_sum += np.loadtxt(os.path.join(output_dir, \"typeI_sum.csv\"), delimiter=\",\")\n",
    "typeI_score += np.loadtxt(os.path.join(output_dir, \"typeI_score.csv\"), delimiter=\",\")"
   ]
  },
  {
   "cell_type": "code",
   "execution_count": 26,
   "metadata": {},
   "outputs": [],
   "source": [
    "delta = 0.025\n",
    "n_arm_samples = int(lei_obj.unifs_shape()[0])\n",
    "tile_corners = gr.vertices"
   ]
  },
  {
   "cell_type": "code",
   "execution_count": 38,
   "metadata": {},
   "outputs": [],
   "source": [
    "# construct Holder upper bound\n",
    "d0, d0u = binomial.zero_order_bound(\n",
    "    typeI_sum=typeI_sum,\n",
    "    sim_sizes=sim_sizes,\n",
    "    delta=delta,\n",
    "    delta_prop_0to1=1,\n",
    ")\n",
    "typeI_bound = d0 + d0u\n",
    "\n",
    "total_holder = binomial.holder_odi_bound(\n",
    "    typeI_bound=typeI_bound,\n",
    "    theta_tiles=theta_tiles,\n",
    "    tile_corners=tile_corners,\n",
    "    n_arm_samples=n_arm_samples,\n",
    "    holderq=16,\n",
    ")"
   ]
  },
  {
   "cell_type": "code",
   "execution_count": 28,
   "metadata": {},
   "outputs": [],
   "source": [
    "# construct classical upper bound\n",
    "total, d0, d0u, d1w, d1uw, d2uw = binomial.upper_bound(\n",
    "    theta_tiles,\n",
    "    tile_radii,\n",
    "    gr.vertices,\n",
    "    sim_sizes,\n",
    "    n_arm_samples,\n",
    "    typeI_sum,\n",
    "    typeI_score,\n",
    ")"
   ]
  },
  {
   "cell_type": "code",
   "execution_count": 39,
   "metadata": {},
   "outputs": [],
   "source": [
    "# prepare bound components\n",
    "\n",
    "# classical\n",
    "bound_components = np.array(\n",
    "    [\n",
    "        d0,\n",
    "        d0u,\n",
    "        d1w,\n",
    "        d1uw,\n",
    "        d2uw,\n",
    "        total,\n",
    "    ]\n",
    ").T\n",
    "\n",
    "# holder\n",
    "dummy = np.zeros_like(d0)\n",
    "bound_components_holder = np.array(\n",
    "    [\n",
    "        d0,\n",
    "        d0u,\n",
    "        dummy,\n",
    "        dummy,\n",
    "        dummy,\n",
    "        total_holder,\n",
    "    ]\n",
    ").T"
   ]
  },
  {
   "cell_type": "code",
   "execution_count": 30,
   "metadata": {},
   "outputs": [
    {
     "data": {
      "text/plain": [
       "(array([-0.98076923, -0.94230769, -0.90384615, -0.86538462, -0.82692308,\n",
       "        -0.78846154, -0.75      , -0.71153846, -0.67307692, -0.63461538,\n",
       "        -0.59615385, -0.55769231, -0.51923077, -0.48076923, -0.44230769,\n",
       "        -0.40384615, -0.36538462, -0.32692308, -0.28846154, -0.25      ,\n",
       "        -0.21153846, -0.17307692, -0.13461538, -0.09615385, -0.05769231,\n",
       "        -0.01923077,  0.01923077,  0.05769231,  0.09615385,  0.13461538,\n",
       "         0.17307692,  0.21153846,  0.25      ,  0.28846154,  0.32692308,\n",
       "         0.36538462,  0.40384615,  0.44230769,  0.48076923,  0.51923077,\n",
       "         0.55769231,  0.59615385,  0.63461538,  0.67307692,  0.71153846,\n",
       "         0.75      ,  0.78846154,  0.82692308,  0.86538462,  0.90384615,\n",
       "         0.94230769,  0.98076923]),\n",
       " array([-0.98076923, -0.94230769, -0.90384615, -0.86538462, -0.82692308,\n",
       "        -0.78846154, -0.75      , -0.71153846, -0.67307692, -0.63461538,\n",
       "        -0.59615385, -0.55769231, -0.51923077, -0.48076923, -0.44230769,\n",
       "        -0.40384615, -0.36538462, -0.32692308, -0.28846154, -0.25      ,\n",
       "        -0.21153846, -0.17307692, -0.13461538, -0.09615385, -0.05769231,\n",
       "        -0.01923077,  0.01923077,  0.05769231,  0.09615385,  0.13461538,\n",
       "         0.17307692,  0.21153846,  0.25      ,  0.28846154,  0.32692308,\n",
       "         0.36538462,  0.40384615,  0.44230769,  0.48076923,  0.51923077,\n",
       "         0.55769231,  0.59615385,  0.63461538,  0.67307692,  0.71153846,\n",
       "         0.75      ,  0.78846154,  0.82692308,  0.86538462,  0.90384615,\n",
       "         0.94230769,  0.98076923]))"
      ]
     },
     "execution_count": 30,
     "metadata": {},
     "output_type": "execute_result"
    }
   ],
   "source": [
    "t2_uniques = np.unique(theta_tiles[:, 2])\n",
    "t3_uniques = np.unique(theta_tiles[:, 3])\n",
    "t2_uniques, t3_uniques"
   ]
  },
  {
   "cell_type": "code",
   "execution_count": 31,
   "metadata": {},
   "outputs": [],
   "source": [
    "# slice and save P, B\n",
    "t2 = t2_uniques[25]\n",
    "t3 = t3_uniques[20]\n",
    "selection = (theta_tiles[:, 2] == t2) & (theta_tiles[:, 3] == t3)"
   ]
  },
  {
   "cell_type": "code",
   "execution_count": 40,
   "metadata": {},
   "outputs": [],
   "source": [
    "bound_dir = os.path.join(data_dir, \"bound\")\n",
    "if not os.path.exists(bound_dir):\n",
    "    os.makedirs(bound_dir)\n",
    "\n",
    "np.savetxt(\n",
    "    f\"{bound_dir}/P_lei.csv\", theta_tiles[selection, :].T, fmt=\"%s\", delimiter=\",\"\n",
    ")\n",
    "np.savetxt(\n",
    "    f\"{bound_dir}/B_lei.csv\", bound_components[selection, :], fmt=\"%s\", delimiter=\",\"\n",
    ")\n",
    "np.savetxt(\n",
    "    f\"{bound_dir}/B_lei_holder.csv\",\n",
    "    bound_components_holder[selection, :],\n",
    "    fmt=\"%s\",\n",
    "    delimiter=\",\",\n",
    ")"
   ]
  }
 ],
 "metadata": {
  "kernelspec": {
   "display_name": "Python 3.10.5 ('confirm')",
   "language": "python",
   "name": "python3"
  },
  "language_info": {
   "codemirror_mode": {
    "name": "ipython",
    "version": 3
   },
   "file_extension": ".py",
   "mimetype": "text/x-python",
   "name": "python",
   "nbconvert_exporter": "python",
   "pygments_lexer": "ipython3",
   "version": "3.10.5"
  },
  "orig_nbformat": 4,
  "vscode": {
   "interpreter": {
    "hash": "d8e1ca1b3fede25e3995e2b26ea544fa1b75b9a17984e6284a43c1dc286640dd"
   }
  }
 },
 "nbformat": 4,
 "nbformat_minor": 2
}
