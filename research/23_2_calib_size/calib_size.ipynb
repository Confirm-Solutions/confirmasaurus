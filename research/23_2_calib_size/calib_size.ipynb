{
 "cells": [
  {
   "attachments": {},
   "cell_type": "markdown",
   "metadata": {},
   "source": [
    "# Calibration Size Study"
   ]
  },
  {
   "attachments": {},
   "cell_type": "markdown",
   "metadata": {},
   "source": [
    "This notebook studies the optimal calibration size.\n",
    "\n",
    "First, we assume continuous data so that $f_{\\hat{\\lambda}^*}(\\theta_0)$ is $\\mathrel{Beta}(k, N+1-k)$ where $k = \\lfloor{(N+1) \\alpha \\rfloor}$.\n",
    "We can then ask: given $\\epsilon, \\delta > 0$, find the smallest $N$ such that\n",
    "$$\n",
    "\\begin{align*}\n",
    "\\mathbb{P}(|Beta(k, N+1-k) - \\mu| > \\epsilon) \\leq \\delta\n",
    "\\end{align*}\n",
    "$$\n",
    "where $\\mu = \\mathbb{E}[Beta(k, N+1-k)]$."
   ]
  },
  {
   "cell_type": "code",
   "execution_count": 3,
   "metadata": {},
   "outputs": [],
   "source": [
    "import scipy\n",
    "import jax\n",
    "import jax.numpy as jnp\n",
    "import numpy as np\n",
    "import matplotlib.pyplot as plt"
   ]
  },
  {
   "cell_type": "code",
   "execution_count": 4,
   "metadata": {},
   "outputs": [
    {
     "data": {
      "text/plain": [
       "[<matplotlib.lines.Line2D at 0x7f1eae96d300>]"
      ]
     },
     "execution_count": 4,
     "metadata": {},
     "output_type": "execute_result"
    },
    {
     "data": {
      "image/png": "[encoded data removed]",
      "text/plain": [
       "<Figure size 640x480 with 1 Axes>"
      ]
     },
     "metadata": {},
     "output_type": "display_data"
    }
   ],
   "source": [
    "N = 1000\n",
    "alpha = 0.025\n",
    "k = int((N+1) * alpha)\n",
    "\n",
    "x = np.linspace(0, 1, 1000)\n",
    "px = scipy.stats.beta.pdf(x, k, N+1-k)\n",
    "plt.plot(x, px)"
   ]
  },
  {
   "cell_type": "code",
   "execution_count": 61,
   "metadata": {},
   "outputs": [],
   "source": [
    "def tail_prob(N, alpha, eps):\n",
    "    a = jnp.floor((N+1) * alpha)\n",
    "    b = N+1-a\n",
    "    return 1 - (\n",
    "        jax.scipy.special.betainc(a, b, alpha + eps) -\n",
    "        jax.scipy.special.betainc(a, b, alpha - eps)\n",
    "    )\n",
    "    \n",
    "def opt_size(min_N, max_N, alpha, eps, delta):\n",
    "    tail_prob_v = jax.vmap(tail_prob, in_axes=(0, None, None))\n",
    "    Ns = jnp.arange(min_N, max_N + 1)\n",
    "    tps = tail_prob_v(Ns, alpha, eps)\n",
    "    tps = jnp.where(jnp.isnan(tps), 1, tps)\n",
    "    tp_is_small = tps <= delta\n",
    "    i_star = jnp.argmax(tp_is_small)\n",
    "    return Ns[i_star], tp_is_small[i_star]"
   ]
  },
  {
   "cell_type": "code",
   "execution_count": 72,
   "metadata": {},
   "outputs": [
    {
     "data": {
      "text/plain": [
       "(DeviceArray(1497, dtype=int32), DeviceArray(True, dtype=bool, weak_type=True))"
      ]
     },
     "execution_count": 72,
     "metadata": {},
     "output_type": "execute_result"
    }
   ],
   "source": [
    "eps = 0.001\n",
    "delta = 0.05\n",
    "opt_size(1, 100000, 0.001, eps, delta)"
   ]
  },
  {
   "cell_type": "code",
   "execution_count": 70,
   "metadata": {},
   "outputs": [
    {
     "data": {
      "text/plain": [
       "DeviceArray(0.47710228, dtype=float32, weak_type=True)"
      ]
     },
     "execution_count": 70,
     "metadata": {},
     "output_type": "execute_result"
    }
   ],
   "source": [
    "tail_prob(5000, 0.5, 0.005)"
   ]
  }
 ],
 "metadata": {
  "kernelspec": {
   "display_name": "confirm",
   "language": "python",
   "name": "python3"
  },
  "language_info": {
   "codemirror_mode": {
    "name": "ipython",
    "version": 3
   },
   "file_extension": ".py",
   "mimetype": "text/x-python",
   "name": "python",
   "nbconvert_exporter": "python",
   "pygments_lexer": "ipython3",
   "version": "3.10.6"
  },
  "orig_nbformat": 4,
  "vscode": {
   "interpreter": {
    "hash": "5d574717a19d12573763700bcd6833eaae2108879723021a1c549979ef70be90"
   }
  }
 },
 "nbformat": 4,
 "nbformat_minor": 2
}
