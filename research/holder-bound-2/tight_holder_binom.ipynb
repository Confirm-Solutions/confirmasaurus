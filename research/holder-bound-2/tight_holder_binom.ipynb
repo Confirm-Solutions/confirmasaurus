{
 "cells": [
  {
   "cell_type": "markdown",
   "metadata": {},
   "source": [
    "# Tight Bounds for Binomial"
   ]
  },
  {
   "cell_type": "code",
   "execution_count": 1,
   "metadata": {},
   "outputs": [],
   "source": [
    "import jax\n",
    "import jax.numpy as jnp\n",
    "import numpy as np\n",
    "import scipy\n",
    "from scipy.stats import norm, beta\n",
    "import matplotlib.pyplot as plt"
   ]
  },
  {
   "cell_type": "markdown",
   "metadata": {},
   "source": [
    "This notebook studies the behavior of a collection of bounds in a simple binomial test setting.\n",
    "Consider $X \\sim Binom(n, p(\\theta))$ where $n$ is fixed, $\\theta \\in \\mathbb{R}$ is the natural parameter,\n",
    "and $p(\\theta)$ is the sigmoid function.\n",
    "For a fixed critical threshold $t^*$, we reject if $X > t^*$."
   ]
  },
  {
   "cell_type": "markdown",
   "metadata": {},
   "source": [
    "## Taylor Bound"
   ]
  },
  {
   "cell_type": "code",
   "execution_count": 2,
   "metadata": {},
   "outputs": [],
   "source": [
    "def f(theta, n, t):\n",
    "    return scipy.stats.binom.sf(t, n, scipy.special.expit(theta))\n",
    "    \n",
    "def df(theta, n, t):\n",
    "    p = scipy.special.expit(theta)\n",
    "    return scipy.stats.binom.expect(\n",
    "        lambda x: (x > t) * (x - n*p),\n",
    "        args=(n, p),\n",
    "    )"
   ]
  },
  {
   "cell_type": "code",
   "execution_count": 3,
   "metadata": {},
   "outputs": [],
   "source": [
    "def taylor_bound(f0, df0, vs, theta_0, n):\n",
    "    p = scipy.special.expit(theta_0)\n",
    "    return f0 + df0 * vs + 0.5 * vs**2 * n * p * (1-p)"
   ]
  },
  {
   "cell_type": "markdown",
   "metadata": {},
   "source": [
    "## Centered Holder Bound"
   ]
  },
  {
   "cell_type": "code",
   "execution_count": 4,
   "metadata": {},
   "outputs": [],
   "source": [
    "At = lambda t, n: -n * jnp.log(1 - jax.scipy.special.expit(t))\n",
    "g = lambda t, n, x: t * x - At(t, n)\n",
    "dg = jax.grad(g)\n",
    "dg_vmap = jax.vmap(dg, in_axes=(None, None, 0))"
   ]
  },
  {
   "cell_type": "code",
   "execution_count": 5,
   "metadata": {},
   "outputs": [],
   "source": [
    "def copt(a, p):\n",
    "    return 1 / (1 + ((1-a)/a)**(1/(p-1)))\n",
    "\n",
    "def C_numerical(n_arm_samples, t, hp, hq):\n",
    "    p = scipy.special.expit(t)\n",
    "    xs = np.arange(n_arm_samples + 1).astype(np.float64)\n",
    "    eggq = np.abs(dg_vmap(t, n_arm_samples, xs)) ** hq\n",
    "    return sum(eggq * scipy.stats.binom.pmf(xs, n_arm_samples, p)) ** (1 / hq)\n",
    "    \n",
    "def holder_bound(f0, n_arm_samples, t_path, hp, hc='opt'):\n",
    "    if hc == 'opt':\n",
    "        hc_func = copt\n",
    "    else:\n",
    "        hc_func = lambda a, p: hc\n",
    "    hq = 1 / (1 - 1 / hp)\n",
    "\n",
    "    def derivs(t, y):\n",
    "        cur_f = y[0]\n",
    "        c = hc_func(cur_f, hp)\n",
    "        cur_Fc = cur_f * (1 - c) ** hp + (1 - cur_f) * c ** hp\n",
    "        return C_numerical(n_arm_samples, t, hp, hq) * cur_Fc ** (1 / hp)\n",
    "    \n",
    "    t = t_path[0] \n",
    "    dt = t_path[-1] - t\n",
    "    centeredode = scipy.integrate.solve_ivp(derivs, (t, t+dt), [f0], t_eval=t_path, rtol=1e-10, atol=1e-10)\n",
    "    return centeredode['y'][0]"
   ]
  },
  {
   "cell_type": "markdown",
   "metadata": {},
   "source": [
    "## Performance Comparison"
   ]
  },
  {
   "cell_type": "code",
   "execution_count": 6,
   "metadata": {},
   "outputs": [],
   "source": [
    "theta_0 = -1\n",
    "n = 350\n",
    "v_max = 1\n",
    "n_steps = 20\n",
    "thresh = 110"
   ]
  },
  {
   "cell_type": "code",
   "execution_count": 7,
   "metadata": {},
   "outputs": [],
   "source": [
    "f0 = f(theta_0, n, thresh)\n",
    "df0 = df(theta_0, n, thresh)\n",
    "vs = np.linspace(0, v_max, n_steps)"
   ]
  },
  {
   "cell_type": "code",
   "execution_count": 8,
   "metadata": {},
   "outputs": [],
   "source": [
    "def run(theta_0, n, f0, df0, vs, thresh, hp, hc):\n",
    "    # compute true Type I Error\n",
    "    thetas = theta_0 + vs\n",
    "    fs = f(thetas, n, thresh)\n",
    "\n",
    "    # compute taylor bound\n",
    "    taylor_bounds = taylor_bound(f0, df0, vs, theta_0, n)\n",
    "\n",
    "    # compute holder centered bound\n",
    "    holder_bounds = [holder_bound(f0, n, vs, hp, c) for c in hc]\n",
    "    \n",
    "    # compute exp holder impr bound\n",
    "    #exp_holder_impr_bounds = exp_holder_impr_bound(f0, vs)\n",
    "\n",
    "    # plot everything\n",
    "    plt.plot(thetas, fs, ls='--', color='black', label='True TIE')\n",
    "    plt.plot(thetas, taylor_bounds, ls='-', label='taylor')\n",
    "    #for i, c in enumerate(hc):\n",
    "    #    plt.plot(thetas, holder_bounds[i], ls='--', label=f'centered-holder({c}), p={hp}')\n",
    "    #plt.plot(thetas, exp_holder_impr_bounds, ls=':', label='exp-holder-impr')\n",
    "    plt.legend()\n",
    "    plt.show()"
   ]
  },
  {
   "cell_type": "code",
   "execution_count": 9,
   "metadata": {},
   "outputs": [
    {
     "data": {
      "image/png": "[encoded data removed]",
      "text/plain": [
       "<Figure size 640x480 with 1 Axes>"
      ]
     },
     "metadata": {},
     "output_type": "display_data"
    }
   ],
   "source": [
    "run(\n",
    "    theta_0=theta_0,\n",
    "    n=n,\n",
    "    f0=f0,\n",
    "    df0=df0,\n",
    "    vs=vs,\n",
    "    thresh=thresh,\n",
    "    hp=2,\n",
    "    hc=[0, 0.2, 0.4, 0.6, 0.8, 1, 'opt'],\n",
    ")"
   ]
  }
 ],
 "metadata": {
  "kernelspec": {
   "display_name": "Python 3.10.6 ('confirm')",
   "language": "python",
   "name": "python3"
  },
  "language_info": {
   "codemirror_mode": {
    "name": "ipython",
    "version": 3
   },
   "file_extension": ".py",
   "mimetype": "text/x-python",
   "name": "python",
   "nbconvert_exporter": "python",
   "pygments_lexer": "ipython3",
   "version": "3.10.6"
  },
  "orig_nbformat": 4,
  "vscode": {
   "interpreter": {
    "hash": "5d574717a19d12573763700bcd6833eaae2108879723021a1c549979ef70be90"
   }
  }
 },
 "nbformat": 4,
 "nbformat_minor": 2
}
