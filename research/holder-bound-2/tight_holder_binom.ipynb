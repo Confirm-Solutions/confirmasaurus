{
 "cells": [
  {
   "cell_type": "markdown",
   "metadata": {},
   "source": [
    "# Tight Bounds for Binomial"
   ]
  },
  {
   "cell_type": "code",
   "execution_count": 32,
   "metadata": {},
   "outputs": [],
   "source": [
    "import jax\n",
    "import jax.numpy as jnp\n",
    "import numpy as np\n",
    "import scipy\n",
    "from scipy.stats import norm, beta\n",
    "import matplotlib.pyplot as plt\n",
    "import cvxpy as cp\n",
    "import confirm.mini_imprint.bound.binomial as binomial"
   ]
  },
  {
   "cell_type": "markdown",
   "metadata": {},
   "source": [
    "This notebook studies the behavior of a collection of bounds in a simple binomial test setting.\n",
    "Consider $X \\sim Binom(n, p(\\theta))$ where $n$ is fixed, $\\theta \\in \\mathbb{R}$ is the natural parameter,\n",
    "and $p(\\theta)$ is the sigmoid function.\n",
    "For a fixed critical threshold $t^*$, we reject if $X > t^*$."
   ]
  },
  {
   "cell_type": "markdown",
   "metadata": {},
   "source": [
    "\\begin{align*}\n",
    "A(\\theta) &:= n\\log(1 + e^{\\theta})\\\\\n",
    "A(\\theta_0 + qv) - A(\\theta_0)\n",
    "&:=\n",
    "n\\left(\\log(1 + e^{\\theta_0+qv}) - \\log(1 + e^{\\theta_0})\\right)\n",
    "\\\\&\\leq\n",
    "n q|v|\n",
    "\\end{align*}"
   ]
  },
  {
   "cell_type": "markdown",
   "metadata": {},
   "source": [
    "## Taylor Bound"
   ]
  },
  {
   "cell_type": "code",
   "execution_count": 28,
   "metadata": {},
   "outputs": [],
   "source": [
    "def f(theta, n, t):\n",
    "    return scipy.stats.binom.sf(t, n, scipy.special.expit(theta))\n",
    "    \n",
    "def df(theta, n, t):\n",
    "    p = scipy.special.expit(theta)\n",
    "    return scipy.stats.binom.expect(\n",
    "        lambda x: (x > t) * (x - n*p),\n",
    "        args=(n, p),\n",
    "    )"
   ]
  },
  {
   "cell_type": "code",
   "execution_count": 29,
   "metadata": {},
   "outputs": [],
   "source": [
    "def taylor_bound(f0, df0, vs, theta_0, n):\n",
    "    p = scipy.special.expit(theta_0)\n",
    "    return f0 + df0 * vs + 0.5 * vs**2 * n * p * (1-p)"
   ]
  },
  {
   "cell_type": "markdown",
   "metadata": {},
   "source": [
    "## Centered Holder Bound"
   ]
  },
  {
   "cell_type": "code",
   "execution_count": 30,
   "metadata": {},
   "outputs": [],
   "source": [
    "def copt(a, p):\n",
    "    return 1 / (1 + ((1-a)/a)**(1/(p-1)))\n",
    "\n",
    "def C_numerical(n_arm_samples, t, hp, hq):\n",
    "    p = scipy.special.expit(t)\n",
    "    xs = np.arange(n_arm_samples + 1).astype(np.float64)\n",
    "    eggq = np.abs(xs - n_arm_samples * p[:, None]) ** hq\n",
    "    return np.sum(eggq * scipy.stats.binom.pmf(xs, n_arm_samples, p[:, None]), axis=-1) ** (1 / hq)\n",
    "    \n",
    "def holder_bound(f0, n_arm_samples, theta_0, vs, hp, hc='opt'):\n",
    "    if isinstance(hp, np.ndarray):\n",
    "        bounds = np.array([holder_bound(f0, n_arm_samples, theta_0, vs, hpi, hc) for hpi in hp])\n",
    "        return np.min(bounds, axis=0)\n",
    "    if hc == 'opt':\n",
    "        hc = copt(f0, hp)\n",
    "    hq = 1 / (1 - 1 / hp)\n",
    "    B = hc ** hp\n",
    "    A = (1 - hc) ** hp - B\n",
    "    Cs = [\n",
    "        scipy.integrate.quadrature(\n",
    "            lambda h: np.abs(v) * C_numerical(n_arm_samples, theta_0 + h * v, hp, hq),\n",
    "            0.0,\n",
    "            1.0,\n",
    "        )[0]\n",
    "        for v in vs\n",
    "    ]\n",
    "    Cs = np.maximum.accumulate(Cs)\n",
    "    return 1/A * (A*Cs / hq + (A*f0 + B)**(1/hq))**hq - B/A"
   ]
  },
  {
   "cell_type": "markdown",
   "metadata": {},
   "source": [
    "## Exponential Holder Improved"
   ]
  },
  {
   "cell_type": "code",
   "execution_count": 31,
   "metadata": {},
   "outputs": [],
   "source": [
    "def log_partition(t, n):\n",
    "    return n * jnp.log(1 + jnp.exp(t))\n",
    "\n",
    "def log_partition_cp(t, n):\n",
    "    return n * cp.logistic(t)"
   ]
  },
  {
   "cell_type": "code",
   "execution_count": 33,
   "metadata": {},
   "outputs": [],
   "source": [
    "def exp_holder_impr_bound_(f0, n, theta_0, vs, q):\n",
    "    A0 = log_partition(theta_0, n)\n",
    "    bounds = f0 * np.exp(\n",
    "        (log_partition(theta_0 + q * vs, n) - A0) / q\n",
    "        - np.log(f0) / q\n",
    "        - (log_partition(theta_0 + vs, n) - A0)\n",
    "    )\n",
    "    return bounds\n",
    "\n",
    "def exp_holder_impr_bound(f0, n, theta_0, vs, q = 'inf'):\n",
    "    if isinstance(q, np.ndarray):\n",
    "        bounds = np.array([exp_holder_impr_bound_(f0, n, theta_0, vs, qi)[1] for qi in q])\n",
    "        order = np.argmin(bounds, axis=0)\n",
    "        return q[order], bounds[order, np.arange(0, len(order))]\n",
    "    if q == 'inf' or (isinstance(q, float) and np.isinf(q)): \n",
    "        return None, f0 * np.exp(n*vs - log_partition(theta_0 + vs, n) + log_partition(theta_0, n))\n",
    "    if q == 'opt':\n",
    "        a = -np.log(f0)\n",
    "        solver = binomial.ForwardQCPSolver(n)\n",
    "        q_solver = jax.jit(jax.vmap(solver.solve, in_axes=(None, 0, None)))\n",
    "        qs = q_solver(theta_0, vs, a)\n",
    "        bounds = exp_holder_impr_bound_(f0, n, theta_0, vs, qs)\n",
    "        return qs, bounds\n",
    "    return None, bounds"
   ]
  },
  {
   "cell_type": "markdown",
   "metadata": {},
   "source": [
    "## Performance Comparison"
   ]
  },
  {
   "cell_type": "code",
   "execution_count": 83,
   "metadata": {},
   "outputs": [],
   "source": [
    "n = 350\n",
    "theta_0 = -1.0\n",
    "theta_boundary = 0\n",
    "v_max = theta_boundary - theta_0\n",
    "n_steps = 100\n",
    "alpha = 0.025\n",
    "p_boundary = scipy.special.expit(theta_boundary)\n",
    "thresh = np.sqrt(n*p_boundary*(1-p_boundary)) * scipy.stats.norm.isf(alpha) + n*p_boundary"
   ]
  },
  {
   "cell_type": "code",
   "execution_count": 84,
   "metadata": {},
   "outputs": [],
   "source": [
    "f0 = f(theta_0, n, thresh)\n",
    "df0 = df(theta_0, n, thresh)\n",
    "vs = np.linspace(0.001, v_max, n_steps)"
   ]
  },
  {
   "cell_type": "code",
   "execution_count": 85,
   "metadata": {},
   "outputs": [],
   "source": [
    "def run(theta_0, n, f0, df0, vs, thresh, hp, hc, q='inf'):\n",
    "    # compute true Type I Error\n",
    "    thetas = theta_0 + vs\n",
    "    fs = f(thetas, n, thresh)\n",
    "\n",
    "    # compute taylor bound\n",
    "    taylor_bounds = taylor_bound(f0, df0, vs, theta_0, n)\n",
    "\n",
    "    # compute holder centered bound\n",
    "    holder_bounds = [holder_bound(f0, n, theta_0, vs, hp, c) for c in hc]\n",
    "    \n",
    "    # compute exp holder impr bound\n",
    "    qs, exp_holder_impr_bounds = exp_holder_impr_bound(f0, n, theta_0, vs, q)\n",
    "\n",
    "    # plot everything\n",
    "    plt.plot(thetas, fs, ls='--', color='black', label='True TIE')\n",
    "    plt.plot(thetas, taylor_bounds, ls='-', label='taylor')\n",
    "    for i, c in enumerate(hc):\n",
    "        plt.plot(thetas, holder_bounds[i], ls='--', label=f'centered-holder({c}), p={hp}')\n",
    "    plt.plot(thetas, exp_holder_impr_bounds, ls=':', label='exp-holder-impr')\n",
    "    plt.ylim(np.min(fs)-1e-4, np.max(exp_holder_impr_bounds)+1e-4)\n",
    "    plt.legend()\n",
    "    plt.show()\n",
    "    \n",
    "    return qs"
   ]
  },
  {
   "cell_type": "code",
   "execution_count": 86,
   "metadata": {},
   "outputs": [
    {
     "data": {
      "image/png": "[encoded data removed]",
      "text/plain": [
       "<Figure size 432x288 with 1 Axes>"
      ]
     },
     "metadata": {
      "needs_background": "light"
     },
     "output_type": "display_data"
    }
   ],
   "source": [
    "qs = run(\n",
    "    theta_0=theta_0,\n",
    "    n=n,\n",
    "    f0=f0,\n",
    "    df0=df0,\n",
    "    vs=vs,\n",
    "    thresh=thresh,\n",
    "    hp=1.5,\n",
    "    hc=['opt'],\n",
    "    q='opt',\n",
    ")"
   ]
  }
 ],
 "metadata": {
  "kernelspec": {
   "display_name": "Python 3.10.5 ('confirm')",
   "language": "python",
   "name": "python3"
  },
  "language_info": {
   "codemirror_mode": {
    "name": "ipython",
    "version": 3
   },
   "file_extension": ".py",
   "mimetype": "text/x-python",
   "name": "python",
   "nbconvert_exporter": "python",
   "pygments_lexer": "ipython3",
   "version": "3.10.5"
  },
  "orig_nbformat": 4,
  "vscode": {
   "interpreter": {
    "hash": "d8e1ca1b3fede25e3995e2b26ea544fa1b75b9a17984e6284a43c1dc286640dd"
   }
  }
 },
 "nbformat": 4,
 "nbformat_minor": 2
}
