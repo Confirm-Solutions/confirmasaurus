{
 "cells": [
  {
   "cell_type": "markdown",
   "metadata": {},
   "source": [
    "# Tight Bounds for Binomial"
   ]
  },
  {
   "cell_type": "code",
   "execution_count": 13,
   "metadata": {},
   "outputs": [],
   "source": [
    "import jax\n",
    "import jax.numpy as jnp\n",
    "import numpy as np\n",
    "import scipy\n",
    "from scipy.stats import norm, beta\n",
    "import matplotlib.pyplot as plt\n",
    "import cvxpy as cp"
   ]
  },
  {
   "cell_type": "markdown",
   "metadata": {},
   "source": [
    "This notebook studies the behavior of a collection of bounds in a simple binomial test setting.\n",
    "Consider $X \\sim Binom(n, p(\\theta))$ where $n$ is fixed, $\\theta \\in \\mathbb{R}$ is the natural parameter,\n",
    "and $p(\\theta)$ is the sigmoid function.\n",
    "For a fixed critical threshold $t^*$, we reject if $X > t^*$."
   ]
  },
  {
   "cell_type": "markdown",
   "metadata": {},
   "source": [
    "\\begin{align*}\n",
    "A(\\theta) &:= n\\log(1 + e^{\\theta})\\\\\n",
    "A(\\theta_0 + qv) - A(\\theta_0)\n",
    "&:=\n",
    "n\\left(\\log(1 + e^{\\theta_0+qv}) - \\log(1 + e^{\\theta_0})\\right)\n",
    "\\\\&\\leq\n",
    "n q|v|\n",
    "\\end{align*}"
   ]
  },
  {
   "cell_type": "markdown",
   "metadata": {},
   "source": [
    "## Taylor Bound"
   ]
  },
  {
   "cell_type": "code",
   "execution_count": 14,
   "metadata": {},
   "outputs": [],
   "source": [
    "def f(theta, n, t):\n",
    "    return scipy.stats.binom.sf(t, n, scipy.special.expit(theta))\n",
    "    \n",
    "def df(theta, n, t):\n",
    "    p = scipy.special.expit(theta)\n",
    "    return scipy.stats.binom.expect(\n",
    "        lambda x: (x > t) * (x - n*p),\n",
    "        args=(n, p),\n",
    "    )"
   ]
  },
  {
   "cell_type": "code",
   "execution_count": 15,
   "metadata": {},
   "outputs": [],
   "source": [
    "def taylor_bound(f0, df0, vs, theta_0, n):\n",
    "    p = scipy.special.expit(theta_0)\n",
    "    return f0 + df0 * vs + 0.5 * vs**2 * n * p * (1-p)"
   ]
  },
  {
   "cell_type": "markdown",
   "metadata": {},
   "source": [
    "## Centered Holder Bound"
   ]
  },
  {
   "cell_type": "code",
   "execution_count": 125,
   "metadata": {},
   "outputs": [],
   "source": [
    "def copt(a, p):\n",
    "    return 1 / (1 + ((1-a)/a)**(1/(p-1)))\n",
    "\n",
    "def C_numerical(n_arm_samples, t, hp, hq):\n",
    "    p = scipy.special.expit(t)\n",
    "    xs = np.arange(n_arm_samples + 1).astype(np.float64)\n",
    "    eggq = np.abs(xs - n_arm_samples * p[:, None]) ** hq\n",
    "    return np.sum(eggq * scipy.stats.binom.pmf(xs, n_arm_samples, p[:, None]), axis=-1) ** (1 / hq)\n",
    "    \n",
    "def holder_bound(f0, n_arm_samples, theta_0, vs, hp, hc='opt'):\n",
    "    if isinstance(hp, np.ndarray):\n",
    "        bounds = np.array([holder_bound(f0, n_arm_samples, theta_0, vs, hpi, hc) for hpi in hp])\n",
    "        return np.min(bounds, axis=0)\n",
    "    if hc == 'opt':\n",
    "        hc = copt(f0, hp)\n",
    "    hq = 1 / (1 - 1 / hp)\n",
    "    B = hc ** hp\n",
    "    A = (1 - hc) ** hp - B\n",
    "    Cs = [\n",
    "        scipy.integrate.quadrature(\n",
    "            lambda h: np.abs(v) * C_numerical(n_arm_samples, theta_0 + h * v, hp, hq),\n",
    "            0.0,\n",
    "            1.0,\n",
    "        )[0]\n",
    "        for v in vs\n",
    "    ]\n",
    "    Cs = np.maximum.accumulate(Cs)\n",
    "    return 1/A * (A*Cs / hq + (A*f0 + B)**(1/hq))**hq - B/A"
   ]
  },
  {
   "cell_type": "markdown",
   "metadata": {},
   "source": [
    "## Exponential Holder Improved"
   ]
  },
  {
   "cell_type": "code",
   "execution_count": 126,
   "metadata": {},
   "outputs": [],
   "source": [
    "def log_partition(t, n):\n",
    "    return n * jnp.log(1 + jnp.exp(t))\n",
    "\n",
    "def opt_q(theta_0, n, v, a, eps=1e-4, max_iters=1000):\n",
    "    def f(u, v, a):\n",
    "        q = jnp.exp(u) + 1\n",
    "        return (log_partition(theta_0 + q*v, n) - log_partition(theta_0, n) + a) / q \n",
    "    def df(u, v, a):\n",
    "        # up to a factor of 1/q^2\n",
    "        q = jnp.exp(u) + 1\n",
    "        t = theta_0 + q * v\n",
    "        return v * jax.scipy.special.expit(t) * q \\\n",
    "            - (jnp.logaddexp(0, t) - jnp.logaddexp(0, theta_0)) - a / n\n",
    "    ddf = jax.grad(lambda u: df(u, v, a))\n",
    "    u_opt = 0.0\n",
    "    #f_opt_prev = np.inf\n",
    "    #f_opt = f(u_opt, v, a)\n",
    "    df_u_opt = df(u_opt, v, a)\n",
    "    i = 0\n",
    "    while np.abs(df_u_opt) >= eps and i < max_iters:\n",
    "        ddf_u_opt = ddf(u_opt) \n",
    "        sgn_df = np.sign(df_u_opt)\n",
    "        sgn_ddf_u_opt = np.sign(ddf_u_opt)\n",
    "        if ddf_u_opt == 0:\n",
    "            u_opt = -sgn_df * np.inf\n",
    "            break\n",
    "        if sgn_df != sgn_ddf_u_opt and \\\n",
    "            np.log(np.abs(df_u_opt)) - np.log(np.abs(ddf_u_opt)) < np.log(1e6):\n",
    "            u_opt = np.inf\n",
    "            break\n",
    "        u_opt -= df_u_opt / ddf_u_opt\n",
    "        df_u_opt = df(u_opt, v, a)\n",
    "        #f_opt_prev = f_opt\n",
    "        #f_opt = f(u_opt, v, a)\n",
    "        i += 1\n",
    "    return jnp.exp(u_opt) + 1"
   ]
  },
  {
   "cell_type": "code",
   "execution_count": 127,
   "metadata": {},
   "outputs": [],
   "source": [
    "def exp_holder_impr_bound(f0, n, theta_0, vs, q = 'inf'):\n",
    "    if isinstance(q, np.ndarray):\n",
    "        bounds = np.array([exp_holder_impr_bound(f0, n, theta_0, vs, qi)[1] for qi in q])\n",
    "        order = np.argmin(bounds, axis=0)\n",
    "        return q[order], bounds[order, np.arange(0, len(order))]\n",
    "    if q == 'inf' or (isinstance(q, float) and np.isinf(q)): \n",
    "        return None, f0 * np.exp(n*vs - log_partition(theta_0 + vs, n) + log_partition(theta_0, n))\n",
    "    if q == 'opt':\n",
    "        a = -np.log(f0)\n",
    "        q = np.array([opt_q(theta_0, n, v, a) for v in vs])\n",
    "    A0 = log_partition(theta_0, n)\n",
    "    return None, f0 * np.exp(\n",
    "        (log_partition(theta_0 + q * vs, n) - A0) / q\n",
    "        - np.log(f0) / q\n",
    "        - (log_partition(theta_0 + vs, n) - A0)\n",
    "    )"
   ]
  },
  {
   "cell_type": "markdown",
   "metadata": {},
   "source": [
    "## Performance Comparison"
   ]
  },
  {
   "cell_type": "code",
   "execution_count": 128,
   "metadata": {},
   "outputs": [],
   "source": [
    "n = 500\n",
    "theta_0 = -1\n",
    "v_max = 0.1\n",
    "n_steps = 100\n",
    "alpha = 0.1\n",
    "p0 = scipy.special.expit(theta_0)\n",
    "thresh = np.sqrt(n*p0*(1-p0)) * scipy.stats.norm.isf(alpha) + n*p0"
   ]
  },
  {
   "cell_type": "code",
   "execution_count": 129,
   "metadata": {},
   "outputs": [],
   "source": [
    "f0 = f(theta_0, n, thresh)\n",
    "df0 = df(theta_0, n, thresh)\n",
    "vs = np.linspace(0, v_max, n_steps)"
   ]
  },
  {
   "cell_type": "code",
   "execution_count": 130,
   "metadata": {},
   "outputs": [],
   "source": [
    "def run(theta_0, n, f0, df0, vs, thresh, hp, hc, q='inf'):\n",
    "    # compute true Type I Error\n",
    "    thetas = theta_0 + vs\n",
    "    fs = f(thetas, n, thresh)\n",
    "\n",
    "    # compute taylor bound\n",
    "    taylor_bounds = taylor_bound(f0, df0, vs, theta_0, n)\n",
    "\n",
    "    # compute holder centered bound\n",
    "    holder_bounds = [holder_bound(f0, n, theta_0, vs, hp, c) for c in hc]\n",
    "    \n",
    "    # compute exp holder impr bound\n",
    "    qs, exp_holder_impr_bounds = exp_holder_impr_bound(f0, n, theta_0, vs, q)\n",
    "\n",
    "    # plot everything\n",
    "    plt.plot(thetas, fs, ls='--', color='black', label='True TIE')\n",
    "    #plt.plot(thetas, taylor_bounds, ls='-', label='taylor')\n",
    "    for i, c in enumerate(hc):\n",
    "        plt.plot(thetas, holder_bounds[i], ls='--', label=f'centered-holder({c}), p={hp}')\n",
    "    plt.plot(thetas, exp_holder_impr_bounds, ls=':', label='exp-holder-impr')\n",
    "    plt.legend()\n",
    "    plt.show()\n",
    "    \n",
    "    return qs"
   ]
  },
  {
   "cell_type": "code",
   "execution_count": 135,
   "metadata": {},
   "outputs": [
    {
     "ename": "KeyboardInterrupt",
     "evalue": "",
     "output_type": "error",
     "traceback": [
      "\u001b[0;31m---------------------------------------------------------------------------\u001b[0m",
      "\u001b[0;31mKeyboardInterrupt\u001b[0m                         Traceback (most recent call last)",
      "Cell \u001b[0;32mIn [135], line 1\u001b[0m\n\u001b[0;32m----> 1\u001b[0m qs \u001b[38;5;241m=\u001b[39m run(\n\u001b[1;32m      2\u001b[0m     theta_0\u001b[38;5;241m=\u001b[39mtheta_0,\n\u001b[1;32m      3\u001b[0m     n\u001b[38;5;241m=\u001b[39mn,\n\u001b[1;32m      4\u001b[0m     f0\u001b[38;5;241m=\u001b[39mf0,\n\u001b[1;32m      5\u001b[0m     df0\u001b[38;5;241m=\u001b[39mdf0,\n\u001b[1;32m      6\u001b[0m     vs\u001b[38;5;241m=\u001b[39mvs,\n\u001b[1;32m      7\u001b[0m     thresh\u001b[38;5;241m=\u001b[39mthresh,\n\u001b[1;32m      8\u001b[0m     hp\u001b[38;5;241m=\u001b[39mnp\u001b[38;5;241m.\u001b[39mlogspace(\u001b[38;5;241m0.1\u001b[39m, \u001b[38;5;241m5\u001b[39m, \u001b[38;5;241m100000\u001b[39m),\n\u001b[1;32m      9\u001b[0m     hc\u001b[38;5;241m=\u001b[39m[\u001b[38;5;124m'\u001b[39m\u001b[38;5;124mopt\u001b[39m\u001b[38;5;124m'\u001b[39m],\n\u001b[1;32m     10\u001b[0m     q\u001b[38;5;241m=\u001b[39mnp\u001b[38;5;241m.\u001b[39mlogspace(\u001b[38;5;241m0.1\u001b[39m, \u001b[38;5;241m5\u001b[39m, \u001b[38;5;241m100000\u001b[39m),\n\u001b[1;32m     11\u001b[0m     \u001b[38;5;66;03m#q=100000,\u001b[39;00m\n\u001b[1;32m     12\u001b[0m )\n",
      "Cell \u001b[0;32mIn [130], line 10\u001b[0m, in \u001b[0;36mrun\u001b[0;34m(theta_0, n, f0, df0, vs, thresh, hp, hc, q)\u001b[0m\n\u001b[1;32m      7\u001b[0m taylor_bounds \u001b[38;5;241m=\u001b[39m taylor_bound(f0, df0, vs, theta_0, n)\n\u001b[1;32m      9\u001b[0m \u001b[38;5;66;03m# compute holder centered bound\u001b[39;00m\n\u001b[0;32m---> 10\u001b[0m holder_bounds \u001b[38;5;241m=\u001b[39m [holder_bound(f0, n, theta_0, vs, hp, c) \u001b[38;5;28;01mfor\u001b[39;00m c \u001b[38;5;129;01min\u001b[39;00m hc]\n\u001b[1;32m     12\u001b[0m \u001b[38;5;66;03m# compute exp holder impr bound\u001b[39;00m\n\u001b[1;32m     13\u001b[0m qs, exp_holder_impr_bounds \u001b[38;5;241m=\u001b[39m exp_holder_impr_bound(f0, n, theta_0, vs, q)\n",
      "Cell \u001b[0;32mIn [130], line 10\u001b[0m, in \u001b[0;36m<listcomp>\u001b[0;34m(.0)\u001b[0m\n\u001b[1;32m      7\u001b[0m taylor_bounds \u001b[38;5;241m=\u001b[39m taylor_bound(f0, df0, vs, theta_0, n)\n\u001b[1;32m      9\u001b[0m \u001b[38;5;66;03m# compute holder centered bound\u001b[39;00m\n\u001b[0;32m---> 10\u001b[0m holder_bounds \u001b[38;5;241m=\u001b[39m [\u001b[43mholder_bound\u001b[49m\u001b[43m(\u001b[49m\u001b[43mf0\u001b[49m\u001b[43m,\u001b[49m\u001b[43m \u001b[49m\u001b[43mn\u001b[49m\u001b[43m,\u001b[49m\u001b[43m \u001b[49m\u001b[43mtheta_0\u001b[49m\u001b[43m,\u001b[49m\u001b[43m \u001b[49m\u001b[43mvs\u001b[49m\u001b[43m,\u001b[49m\u001b[43m \u001b[49m\u001b[43mhp\u001b[49m\u001b[43m,\u001b[49m\u001b[43m \u001b[49m\u001b[43mc\u001b[49m\u001b[43m)\u001b[49m \u001b[38;5;28;01mfor\u001b[39;00m c \u001b[38;5;129;01min\u001b[39;00m hc]\n\u001b[1;32m     12\u001b[0m \u001b[38;5;66;03m# compute exp holder impr bound\u001b[39;00m\n\u001b[1;32m     13\u001b[0m qs, exp_holder_impr_bounds \u001b[38;5;241m=\u001b[39m exp_holder_impr_bound(f0, n, theta_0, vs, q)\n",
      "Cell \u001b[0;32mIn [125], line 12\u001b[0m, in \u001b[0;36mholder_bound\u001b[0;34m(f0, n_arm_samples, theta_0, vs, hp, hc)\u001b[0m\n\u001b[1;32m     10\u001b[0m \u001b[38;5;28;01mdef\u001b[39;00m \u001b[38;5;21mholder_bound\u001b[39m(f0, n_arm_samples, theta_0, vs, hp, hc\u001b[38;5;241m=\u001b[39m\u001b[38;5;124m'\u001b[39m\u001b[38;5;124mopt\u001b[39m\u001b[38;5;124m'\u001b[39m):\n\u001b[1;32m     11\u001b[0m     \u001b[38;5;28;01mif\u001b[39;00m \u001b[38;5;28misinstance\u001b[39m(hp, np\u001b[38;5;241m.\u001b[39mndarray):\n\u001b[0;32m---> 12\u001b[0m         bounds \u001b[38;5;241m=\u001b[39m np\u001b[38;5;241m.\u001b[39marray([holder_bound(f0, n_arm_samples, theta_0, vs, hpi, hc) \u001b[38;5;28;01mfor\u001b[39;00m hpi \u001b[38;5;129;01min\u001b[39;00m hp])\n\u001b[1;32m     13\u001b[0m         \u001b[38;5;28;01mreturn\u001b[39;00m np\u001b[38;5;241m.\u001b[39mmin(bounds, axis\u001b[38;5;241m=\u001b[39m\u001b[38;5;241m0\u001b[39m)\n\u001b[1;32m     14\u001b[0m     \u001b[38;5;28;01mif\u001b[39;00m hc \u001b[38;5;241m==\u001b[39m \u001b[38;5;124m'\u001b[39m\u001b[38;5;124mopt\u001b[39m\u001b[38;5;124m'\u001b[39m:\n",
      "Cell \u001b[0;32mIn [125], line 12\u001b[0m, in \u001b[0;36m<listcomp>\u001b[0;34m(.0)\u001b[0m\n\u001b[1;32m     10\u001b[0m \u001b[38;5;28;01mdef\u001b[39;00m \u001b[38;5;21mholder_bound\u001b[39m(f0, n_arm_samples, theta_0, vs, hp, hc\u001b[38;5;241m=\u001b[39m\u001b[38;5;124m'\u001b[39m\u001b[38;5;124mopt\u001b[39m\u001b[38;5;124m'\u001b[39m):\n\u001b[1;32m     11\u001b[0m     \u001b[38;5;28;01mif\u001b[39;00m \u001b[38;5;28misinstance\u001b[39m(hp, np\u001b[38;5;241m.\u001b[39mndarray):\n\u001b[0;32m---> 12\u001b[0m         bounds \u001b[38;5;241m=\u001b[39m np\u001b[38;5;241m.\u001b[39marray([\u001b[43mholder_bound\u001b[49m\u001b[43m(\u001b[49m\u001b[43mf0\u001b[49m\u001b[43m,\u001b[49m\u001b[43m \u001b[49m\u001b[43mn_arm_samples\u001b[49m\u001b[43m,\u001b[49m\u001b[43m \u001b[49m\u001b[43mtheta_0\u001b[49m\u001b[43m,\u001b[49m\u001b[43m \u001b[49m\u001b[43mvs\u001b[49m\u001b[43m,\u001b[49m\u001b[43m \u001b[49m\u001b[43mhpi\u001b[49m\u001b[43m,\u001b[49m\u001b[43m \u001b[49m\u001b[43mhc\u001b[49m\u001b[43m)\u001b[49m \u001b[38;5;28;01mfor\u001b[39;00m hpi \u001b[38;5;129;01min\u001b[39;00m hp])\n\u001b[1;32m     13\u001b[0m         \u001b[38;5;28;01mreturn\u001b[39;00m np\u001b[38;5;241m.\u001b[39mmin(bounds, axis\u001b[38;5;241m=\u001b[39m\u001b[38;5;241m0\u001b[39m)\n\u001b[1;32m     14\u001b[0m     \u001b[38;5;28;01mif\u001b[39;00m hc \u001b[38;5;241m==\u001b[39m \u001b[38;5;124m'\u001b[39m\u001b[38;5;124mopt\u001b[39m\u001b[38;5;124m'\u001b[39m:\n",
      "Cell \u001b[0;32mIn [125], line 19\u001b[0m, in \u001b[0;36mholder_bound\u001b[0;34m(f0, n_arm_samples, theta_0, vs, hp, hc)\u001b[0m\n\u001b[1;32m     17\u001b[0m B \u001b[38;5;241m=\u001b[39m hc \u001b[38;5;241m*\u001b[39m\u001b[38;5;241m*\u001b[39m hp\n\u001b[1;32m     18\u001b[0m A \u001b[38;5;241m=\u001b[39m (\u001b[38;5;241m1\u001b[39m \u001b[38;5;241m-\u001b[39m hc) \u001b[38;5;241m*\u001b[39m\u001b[38;5;241m*\u001b[39m hp \u001b[38;5;241m-\u001b[39m B\n\u001b[0;32m---> 19\u001b[0m Cs \u001b[38;5;241m=\u001b[39m [\n\u001b[1;32m     20\u001b[0m     scipy\u001b[38;5;241m.\u001b[39mintegrate\u001b[38;5;241m.\u001b[39mquadrature(\n\u001b[1;32m     21\u001b[0m         \u001b[38;5;28;01mlambda\u001b[39;00m h: np\u001b[38;5;241m.\u001b[39mabs(v) \u001b[38;5;241m*\u001b[39m C_numerical(n_arm_samples, theta_0 \u001b[38;5;241m+\u001b[39m h \u001b[38;5;241m*\u001b[39m v, hp, hq),\n\u001b[1;32m     22\u001b[0m         \u001b[38;5;241m0.0\u001b[39m,\n\u001b[1;32m     23\u001b[0m         \u001b[38;5;241m1.0\u001b[39m,\n\u001b[1;32m     24\u001b[0m     )[\u001b[38;5;241m0\u001b[39m]\n\u001b[1;32m     25\u001b[0m     \u001b[38;5;28;01mfor\u001b[39;00m v \u001b[38;5;129;01min\u001b[39;00m vs\n\u001b[1;32m     26\u001b[0m ]\n\u001b[1;32m     27\u001b[0m Cs \u001b[38;5;241m=\u001b[39m np\u001b[38;5;241m.\u001b[39mmaximum\u001b[38;5;241m.\u001b[39maccumulate(Cs)\n\u001b[1;32m     28\u001b[0m \u001b[38;5;28;01mreturn\u001b[39;00m \u001b[38;5;241m1\u001b[39m\u001b[38;5;241m/\u001b[39mA \u001b[38;5;241m*\u001b[39m (A\u001b[38;5;241m*\u001b[39mCs \u001b[38;5;241m/\u001b[39m hq \u001b[38;5;241m+\u001b[39m (A\u001b[38;5;241m*\u001b[39mf0 \u001b[38;5;241m+\u001b[39m B)\u001b[38;5;241m*\u001b[39m\u001b[38;5;241m*\u001b[39m(\u001b[38;5;241m1\u001b[39m\u001b[38;5;241m/\u001b[39mhq))\u001b[38;5;241m*\u001b[39m\u001b[38;5;241m*\u001b[39mhq \u001b[38;5;241m-\u001b[39m B\u001b[38;5;241m/\u001b[39mA\n",
      "Cell \u001b[0;32mIn [125], line 20\u001b[0m, in \u001b[0;36m<listcomp>\u001b[0;34m(.0)\u001b[0m\n\u001b[1;32m     17\u001b[0m B \u001b[38;5;241m=\u001b[39m hc \u001b[38;5;241m*\u001b[39m\u001b[38;5;241m*\u001b[39m hp\n\u001b[1;32m     18\u001b[0m A \u001b[38;5;241m=\u001b[39m (\u001b[38;5;241m1\u001b[39m \u001b[38;5;241m-\u001b[39m hc) \u001b[38;5;241m*\u001b[39m\u001b[38;5;241m*\u001b[39m hp \u001b[38;5;241m-\u001b[39m B\n\u001b[1;32m     19\u001b[0m Cs \u001b[38;5;241m=\u001b[39m [\n\u001b[0;32m---> 20\u001b[0m     \u001b[43mscipy\u001b[49m\u001b[38;5;241;43m.\u001b[39;49m\u001b[43mintegrate\u001b[49m\u001b[38;5;241;43m.\u001b[39;49m\u001b[43mquadrature\u001b[49m\u001b[43m(\u001b[49m\n\u001b[1;32m     21\u001b[0m \u001b[43m        \u001b[49m\u001b[38;5;28;43;01mlambda\u001b[39;49;00m\u001b[43m \u001b[49m\u001b[43mh\u001b[49m\u001b[43m:\u001b[49m\u001b[43m \u001b[49m\u001b[43mnp\u001b[49m\u001b[38;5;241;43m.\u001b[39;49m\u001b[43mabs\u001b[49m\u001b[43m(\u001b[49m\u001b[43mv\u001b[49m\u001b[43m)\u001b[49m\u001b[43m \u001b[49m\u001b[38;5;241;43m*\u001b[39;49m\u001b[43m \u001b[49m\u001b[43mC_numerical\u001b[49m\u001b[43m(\u001b[49m\u001b[43mn_arm_samples\u001b[49m\u001b[43m,\u001b[49m\u001b[43m \u001b[49m\u001b[43mtheta_0\u001b[49m\u001b[43m \u001b[49m\u001b[38;5;241;43m+\u001b[39;49m\u001b[43m \u001b[49m\u001b[43mh\u001b[49m\u001b[43m \u001b[49m\u001b[38;5;241;43m*\u001b[39;49m\u001b[43m \u001b[49m\u001b[43mv\u001b[49m\u001b[43m,\u001b[49m\u001b[43m \u001b[49m\u001b[43mhp\u001b[49m\u001b[43m,\u001b[49m\u001b[43m \u001b[49m\u001b[43mhq\u001b[49m\u001b[43m)\u001b[49m\u001b[43m,\u001b[49m\n\u001b[1;32m     22\u001b[0m \u001b[43m        \u001b[49m\u001b[38;5;241;43m0.0\u001b[39;49m\u001b[43m,\u001b[49m\n\u001b[1;32m     23\u001b[0m \u001b[43m        \u001b[49m\u001b[38;5;241;43m1.0\u001b[39;49m\u001b[43m,\u001b[49m\n\u001b[1;32m     24\u001b[0m \u001b[43m    \u001b[49m\u001b[43m)\u001b[49m[\u001b[38;5;241m0\u001b[39m]\n\u001b[1;32m     25\u001b[0m     \u001b[38;5;28;01mfor\u001b[39;00m v \u001b[38;5;129;01min\u001b[39;00m vs\n\u001b[1;32m     26\u001b[0m ]\n\u001b[1;32m     27\u001b[0m Cs \u001b[38;5;241m=\u001b[39m np\u001b[38;5;241m.\u001b[39mmaximum\u001b[38;5;241m.\u001b[39maccumulate(Cs)\n\u001b[1;32m     28\u001b[0m \u001b[38;5;28;01mreturn\u001b[39;00m \u001b[38;5;241m1\u001b[39m\u001b[38;5;241m/\u001b[39mA \u001b[38;5;241m*\u001b[39m (A\u001b[38;5;241m*\u001b[39mCs \u001b[38;5;241m/\u001b[39m hq \u001b[38;5;241m+\u001b[39m (A\u001b[38;5;241m*\u001b[39mf0 \u001b[38;5;241m+\u001b[39m B)\u001b[38;5;241m*\u001b[39m\u001b[38;5;241m*\u001b[39m(\u001b[38;5;241m1\u001b[39m\u001b[38;5;241m/\u001b[39mhq))\u001b[38;5;241m*\u001b[39m\u001b[38;5;241m*\u001b[39mhq \u001b[38;5;241m-\u001b[39m B\u001b[38;5;241m/\u001b[39mA\n",
      "File \u001b[0;32m~/mambaforge/envs/confirm/lib/python3.10/site-packages/scipy/integrate/_quadrature.py:269\u001b[0m, in \u001b[0;36mquadrature\u001b[0;34m(func, a, b, args, tol, rtol, maxiter, vec_func, miniter)\u001b[0m\n\u001b[1;32m    267\u001b[0m maxiter \u001b[39m=\u001b[39m \u001b[39mmax\u001b[39m(miniter\u001b[39m+\u001b[39m\u001b[39m1\u001b[39m, maxiter)\n\u001b[1;32m    268\u001b[0m \u001b[39mfor\u001b[39;00m n \u001b[39min\u001b[39;00m \u001b[39mrange\u001b[39m(miniter, maxiter\u001b[39m+\u001b[39m\u001b[39m1\u001b[39m):\n\u001b[0;32m--> 269\u001b[0m     newval \u001b[39m=\u001b[39m fixed_quad(vfunc, a, b, (), n)[\u001b[39m0\u001b[39m]\n\u001b[1;32m    270\u001b[0m     err \u001b[39m=\u001b[39m \u001b[39mabs\u001b[39m(newval\u001b[39m-\u001b[39mval)\n\u001b[1;32m    271\u001b[0m     val \u001b[39m=\u001b[39m newval\n",
      "File \u001b[0;32m~/mambaforge/envs/confirm/lib/python3.10/site-packages/scipy/integrate/_quadrature.py:150\u001b[0m, in \u001b[0;36mfixed_quad\u001b[0;34m(func, a, b, args, n)\u001b[0m\n\u001b[1;32m    147\u001b[0m     \u001b[39mraise\u001b[39;00m \u001b[39mValueError\u001b[39;00m(\u001b[39m\"\u001b[39m\u001b[39mGaussian quadrature is only available for \u001b[39m\u001b[39m\"\u001b[39m\n\u001b[1;32m    148\u001b[0m                      \u001b[39m\"\u001b[39m\u001b[39mfinite limits.\u001b[39m\u001b[39m\"\u001b[39m)\n\u001b[1;32m    149\u001b[0m y \u001b[39m=\u001b[39m (b\u001b[39m-\u001b[39ma)\u001b[39m*\u001b[39m(x\u001b[39m+\u001b[39m\u001b[39m1\u001b[39m)\u001b[39m/\u001b[39m\u001b[39m2.0\u001b[39m \u001b[39m+\u001b[39m a\n\u001b[0;32m--> 150\u001b[0m \u001b[39mreturn\u001b[39;00m (b\u001b[39m-\u001b[39ma)\u001b[39m/\u001b[39m\u001b[39m2.0\u001b[39m \u001b[39m*\u001b[39m np\u001b[39m.\u001b[39msum(w\u001b[39m*\u001b[39mfunc(y, \u001b[39m*\u001b[39;49margs), axis\u001b[39m=\u001b[39m\u001b[39m-\u001b[39m\u001b[39m1\u001b[39m), \u001b[39mNone\u001b[39;00m\n",
      "File \u001b[0;32m~/mambaforge/envs/confirm/lib/python3.10/site-packages/scipy/integrate/_quadrature.py:180\u001b[0m, in \u001b[0;36mvectorize1.<locals>.vfunc\u001b[0;34m(x)\u001b[0m\n\u001b[1;32m    179\u001b[0m \u001b[39mdef\u001b[39;00m \u001b[39mvfunc\u001b[39m(x):\n\u001b[0;32m--> 180\u001b[0m     \u001b[39mreturn\u001b[39;00m func(x, \u001b[39m*\u001b[39;49margs)\n",
      "Cell \u001b[0;32mIn [125], line 21\u001b[0m, in \u001b[0;36mholder_bound.<locals>.<lambda>\u001b[0;34m(h)\u001b[0m\n\u001b[1;32m     17\u001b[0m B \u001b[38;5;241m=\u001b[39m hc \u001b[38;5;241m*\u001b[39m\u001b[38;5;241m*\u001b[39m hp\n\u001b[1;32m     18\u001b[0m A \u001b[38;5;241m=\u001b[39m (\u001b[38;5;241m1\u001b[39m \u001b[38;5;241m-\u001b[39m hc) \u001b[38;5;241m*\u001b[39m\u001b[38;5;241m*\u001b[39m hp \u001b[38;5;241m-\u001b[39m B\n\u001b[1;32m     19\u001b[0m Cs \u001b[38;5;241m=\u001b[39m [\n\u001b[1;32m     20\u001b[0m     scipy\u001b[38;5;241m.\u001b[39mintegrate\u001b[38;5;241m.\u001b[39mquadrature(\n\u001b[0;32m---> 21\u001b[0m         \u001b[38;5;28;01mlambda\u001b[39;00m h: np\u001b[38;5;241m.\u001b[39mabs(v) \u001b[38;5;241m*\u001b[39m \u001b[43mC_numerical\u001b[49m\u001b[43m(\u001b[49m\u001b[43mn_arm_samples\u001b[49m\u001b[43m,\u001b[49m\u001b[43m \u001b[49m\u001b[43mtheta_0\u001b[49m\u001b[43m \u001b[49m\u001b[38;5;241;43m+\u001b[39;49m\u001b[43m \u001b[49m\u001b[43mh\u001b[49m\u001b[43m \u001b[49m\u001b[38;5;241;43m*\u001b[39;49m\u001b[43m \u001b[49m\u001b[43mv\u001b[49m\u001b[43m,\u001b[49m\u001b[43m \u001b[49m\u001b[43mhp\u001b[49m\u001b[43m,\u001b[49m\u001b[43m \u001b[49m\u001b[43mhq\u001b[49m\u001b[43m)\u001b[49m,\n\u001b[1;32m     22\u001b[0m         \u001b[38;5;241m0.0\u001b[39m,\n\u001b[1;32m     23\u001b[0m         \u001b[38;5;241m1.0\u001b[39m,\n\u001b[1;32m     24\u001b[0m     )[\u001b[38;5;241m0\u001b[39m]\n\u001b[1;32m     25\u001b[0m     \u001b[38;5;28;01mfor\u001b[39;00m v \u001b[38;5;129;01min\u001b[39;00m vs\n\u001b[1;32m     26\u001b[0m ]\n\u001b[1;32m     27\u001b[0m Cs \u001b[38;5;241m=\u001b[39m np\u001b[38;5;241m.\u001b[39mmaximum\u001b[38;5;241m.\u001b[39maccumulate(Cs)\n\u001b[1;32m     28\u001b[0m \u001b[38;5;28;01mreturn\u001b[39;00m \u001b[38;5;241m1\u001b[39m\u001b[38;5;241m/\u001b[39mA \u001b[38;5;241m*\u001b[39m (A\u001b[38;5;241m*\u001b[39mCs \u001b[38;5;241m/\u001b[39m hq \u001b[38;5;241m+\u001b[39m (A\u001b[38;5;241m*\u001b[39mf0 \u001b[38;5;241m+\u001b[39m B)\u001b[38;5;241m*\u001b[39m\u001b[38;5;241m*\u001b[39m(\u001b[38;5;241m1\u001b[39m\u001b[38;5;241m/\u001b[39mhq))\u001b[38;5;241m*\u001b[39m\u001b[38;5;241m*\u001b[39mhq \u001b[38;5;241m-\u001b[39m B\u001b[38;5;241m/\u001b[39mA\n",
      "Cell \u001b[0;32mIn [125], line 8\u001b[0m, in \u001b[0;36mC_numerical\u001b[0;34m(n_arm_samples, t, hp, hq)\u001b[0m\n\u001b[1;32m      6\u001b[0m xs \u001b[38;5;241m=\u001b[39m np\u001b[38;5;241m.\u001b[39marange(n_arm_samples \u001b[38;5;241m+\u001b[39m \u001b[38;5;241m1\u001b[39m)\u001b[38;5;241m.\u001b[39mastype(np\u001b[38;5;241m.\u001b[39mfloat64)\n\u001b[1;32m      7\u001b[0m eggq \u001b[38;5;241m=\u001b[39m np\u001b[38;5;241m.\u001b[39mabs(xs \u001b[38;5;241m-\u001b[39m n_arm_samples \u001b[38;5;241m*\u001b[39m p[:, \u001b[38;5;28;01mNone\u001b[39;00m]) \u001b[38;5;241m*\u001b[39m\u001b[38;5;241m*\u001b[39m hq\n\u001b[0;32m----> 8\u001b[0m \u001b[38;5;28;01mreturn\u001b[39;00m np\u001b[38;5;241m.\u001b[39msum(eggq \u001b[38;5;241m*\u001b[39m \u001b[43mscipy\u001b[49m\u001b[38;5;241;43m.\u001b[39;49m\u001b[43mstats\u001b[49m\u001b[38;5;241;43m.\u001b[39;49m\u001b[43mbinom\u001b[49m\u001b[38;5;241;43m.\u001b[39;49m\u001b[43mpmf\u001b[49m\u001b[43m(\u001b[49m\u001b[43mxs\u001b[49m\u001b[43m,\u001b[49m\u001b[43m \u001b[49m\u001b[43mn_arm_samples\u001b[49m\u001b[43m,\u001b[49m\u001b[43m \u001b[49m\u001b[43mp\u001b[49m\u001b[43m[\u001b[49m\u001b[43m:\u001b[49m\u001b[43m,\u001b[49m\u001b[43m \u001b[49m\u001b[38;5;28;43;01mNone\u001b[39;49;00m\u001b[43m]\u001b[49m\u001b[43m)\u001b[49m, axis\u001b[38;5;241m=\u001b[39m\u001b[38;5;241m-\u001b[39m\u001b[38;5;241m1\u001b[39m) \u001b[38;5;241m*\u001b[39m\u001b[38;5;241m*\u001b[39m (\u001b[38;5;241m1\u001b[39m \u001b[38;5;241m/\u001b[39m hq)\n",
      "File \u001b[0;32m~/mambaforge/envs/confirm/lib/python3.10/site-packages/scipy/stats/_distn_infrastructure.py:3370\u001b[0m, in \u001b[0;36mrv_discrete.pmf\u001b[0;34m(self, k, *args, **kwds)\u001b[0m\n\u001b[1;32m   3368\u001b[0m \u001b[39mif\u001b[39;00m np\u001b[39m.\u001b[39many(cond):\n\u001b[1;32m   3369\u001b[0m     goodargs \u001b[39m=\u001b[39m argsreduce(cond, \u001b[39m*\u001b[39m((k,)\u001b[39m+\u001b[39margs))\n\u001b[0;32m-> 3370\u001b[0m     place(output, cond, np\u001b[39m.\u001b[39mclip(\u001b[39mself\u001b[39;49m\u001b[39m.\u001b[39;49m_pmf(\u001b[39m*\u001b[39;49mgoodargs), \u001b[39m0\u001b[39m, \u001b[39m1\u001b[39m))\n\u001b[1;32m   3371\u001b[0m \u001b[39mif\u001b[39;00m output\u001b[39m.\u001b[39mndim \u001b[39m==\u001b[39m \u001b[39m0\u001b[39m:\n\u001b[1;32m   3372\u001b[0m     \u001b[39mreturn\u001b[39;00m output[()]\n",
      "File \u001b[0;32m~/mambaforge/envs/confirm/lib/python3.10/site-packages/scipy/stats/_discrete_distns.py:78\u001b[0m, in \u001b[0;36mbinom_gen._pmf\u001b[0;34m(self, x, n, p)\u001b[0m\n\u001b[1;32m     76\u001b[0m \u001b[39mdef\u001b[39;00m \u001b[39m_pmf\u001b[39m(\u001b[39mself\u001b[39m, x, n, p):\n\u001b[1;32m     77\u001b[0m     \u001b[39m# binom.pmf(k) = choose(n, k) * p**k * (1-p)**(n-k)\u001b[39;00m\n\u001b[0;32m---> 78\u001b[0m     \u001b[39mreturn\u001b[39;00m _boost\u001b[39m.\u001b[39;49m_binom_pdf(x, n, p)\n",
      "\u001b[0;31mKeyboardInterrupt\u001b[0m: "
     ]
    }
   ],
   "source": [
    "qs = run(\n",
    "    theta_0=theta_0,\n",
    "    n=n,\n",
    "    f0=f0,\n",
    "    df0=df0,\n",
    "    vs=vs,\n",
    "    thresh=thresh,\n",
    "    hp=np.logspace(0.1, 5, 100),\n",
    "    hc=['opt'],\n",
    "    q=np.logspace(0.1, 5, 100000),\n",
    "    #q=100000,\n",
    ")"
   ]
  },
  {
   "cell_type": "code",
   "execution_count": 95,
   "metadata": {},
   "outputs": [
    {
     "data": {
      "text/plain": [
       "[<matplotlib.lines.Line2D at 0x7f3ff4123e80>]"
      ]
     },
     "execution_count": 95,
     "metadata": {},
     "output_type": "execute_result"
    },
    {
     "data": {
      "image/png": "[encoded data removed]",
      "text/plain": [
       "<Figure size 640x480 with 1 Axes>"
      ]
     },
     "metadata": {},
     "output_type": "display_data"
    }
   ],
   "source": [
    "plt.plot(theta_0 + vs, qs)"
   ]
  }
 ],
 "metadata": {
  "kernelspec": {
   "display_name": "Python 3.10.6 ('confirm')",
   "language": "python",
   "name": "python3"
  },
  "language_info": {
   "codemirror_mode": {
    "name": "ipython",
    "version": 3
   },
   "file_extension": ".py",
   "mimetype": "text/x-python",
   "name": "python",
   "nbconvert_exporter": "python",
   "pygments_lexer": "ipython3",
   "version": "3.10.6"
  },
  "orig_nbformat": 4,
  "vscode": {
   "interpreter": {
    "hash": "5d574717a19d12573763700bcd6833eaae2108879723021a1c549979ef70be90"
   }
  }
 },
 "nbformat": 4,
 "nbformat_minor": 2
}
