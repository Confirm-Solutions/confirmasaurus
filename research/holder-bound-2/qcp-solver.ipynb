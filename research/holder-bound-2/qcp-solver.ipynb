{
 "cells": [
  {
   "cell_type": "code",
   "execution_count": 166,
   "metadata": {},
   "outputs": [],
   "source": [
    "import cvxpy as cp\n",
    "import numpy as np\n",
    "import matplotlib.pyplot as plt\n",
    "import jax\n",
    "import jax.numpy as jnp"
   ]
  },
  {
   "cell_type": "markdown",
   "metadata": {},
   "source": [
    "## Optimizing q for Exponential Holder Bound"
   ]
  },
  {
   "cell_type": "code",
   "execution_count": 360,
   "metadata": {},
   "outputs": [],
   "source": [
    "def A(t, n):\n",
    "    return n * np.sum(np.maximum(t, 0) + np.log(1 + np.exp(-np.abs(t))))\n",
    "    \n",
    "def dA(t, n):\n",
    "    return n * jax.nn.sigmoid(t)\n",
    "    \n",
    "def A_cp(t, n):\n",
    "    return n * cp.sum(cp.logistic(t))\n",
    "\n",
    "def opt_q_cp(n, theta_0, v, a):\n",
    "    A0 = A(theta_0, n)\n",
    "    q = cp.Variable(pos=True)\n",
    "    objective_fn = (\n",
    "        (A_cp(theta_0 + (q+1) * v, n) - A0)\n",
    "        + a\n",
    "    ) / (q + 1)\n",
    "    objective = cp.Minimize(objective_fn)\n",
    "    problem = cp.Problem(objective)\n",
    "    problem.solve(qcp=True)\n",
    "    return q.value + 1\n",
    "    \n",
    "def phi_t(q, t, n, theta_0, v):\n",
    "    '''\n",
    "    Computes phi_t(q) defined as\n",
    "        A(theta_0 + qv) - tq \n",
    "    '''\n",
    "    return A(theta_0 + q * v, n) - t * q\n",
    "    \n",
    "def dphi_t(q, t, n, theta_0, v):\n",
    "    '''\n",
    "    Computes dphi_t(q)/dq given by\n",
    "        A'(theta_0 + qv)^T v - t\n",
    "    '''\n",
    "    return jnp.sum(dA(theta_0 + q*v, n) * v) - t\n",
    "    \n",
    "def convex_feasible(t, n, theta_0, v, bound, u0=10, tol=1e-6, max_iters=100):\n",
    "    '''\n",
    "    We say phi_t(q) is feasible if there exists q >= 1\n",
    "    such that phi_t(q) <= A(theta_0) - a.\n",
    "    To unconstrain the minimization problem, we parametrize q = 1 + e^u.\n",
    "\n",
    "    Assumes that u0 > tol.\n",
    "\n",
    "    Returns True if phi_t(q) is feasible.\n",
    "    '''\n",
    "    def transform(u):\n",
    "        return 1 + jnp.exp(u)\n",
    "        \n",
    "    def dtransform(u):\n",
    "        return jnp.exp(u)\n",
    "\n",
    "    u_prev = 0\n",
    "    q_prev = 2\n",
    "    dphi_t_u_prev = dphi_t(q_prev, t, n, theta_0, v)\n",
    "\n",
    "    u = u0\n",
    "    q = transform(u)\n",
    "    phi_t_u = phi_t(q, t, n, theta_0, v)\n",
    "    dphi_t_u = dphi_t(q, t, n, theta_0, v) * dtransform(u)\n",
    "\n",
    "    iter = 0\n",
    "    while (phi_t_u > bound) and (jnp.abs(u - u_prev) > tol) and (iter < max_iters):\n",
    "        # compute descent quantities\n",
    "        delta_dphi_t_u = dphi_t_u - dphi_t_u_prev\n",
    "        gamma = jnp.abs((u-u_prev) / delta_dphi_t_u)\n",
    "\n",
    "        # update previous states\n",
    "        u_prev = u\n",
    "        q_prev = q\n",
    "        dphi_t_u_prev = dphi_t_u\n",
    "        \n",
    "        # update current states\n",
    "        u = u - gamma * dphi_t_u\n",
    "        q = transform(u)\n",
    "        phi_t_u = phi_t(q, t, n, theta_0, v)\n",
    "        dphi_t_u = dphi_t(q, t, n, theta_0, v) * dtransform(u)\n",
    "        \n",
    "    return q, phi_t_u, (phi_t_u <= bound)\n",
    "    \n",
    "#def opt_q(n, theta_0, v, a):"
   ]
  },
  {
   "cell_type": "code",
   "execution_count": 471,
   "metadata": {},
   "outputs": [],
   "source": [
    "theta_0 = -1\n",
    "n = 350\n",
    "a = -np.log(0.025)\n",
    "t = 11.74999955\n",
    "v = 0.1\n",
    "bound = A(theta_0, n) - a"
   ]
  },
  {
   "cell_type": "code",
   "execution_count": 472,
   "metadata": {},
   "outputs": [
    {
     "name": "stdout",
     "output_type": "stream",
     "text": [
      "CPU times: user 88.5 ms, sys: 1.38 ms, total: 89.9 ms\n",
      "Wall time: 89.3 ms\n"
     ]
    },
    {
     "data": {
      "text/plain": [
       "(DeviceArray(2.8203723, dtype=float32),\n",
       " DeviceArray(105.902145, dtype=float32),\n",
       " DeviceArray(True, dtype=bool))"
      ]
     },
     "execution_count": 472,
     "metadata": {},
     "output_type": "execute_result"
    }
   ],
   "source": [
    "%%time\n",
    "q_opt, phi_t_q, is_feasible = convex_feasible(t, n, theta_0, v, bound)\n",
    "q_opt, phi_t_q, is_feasible"
   ]
  },
  {
   "cell_type": "code",
   "execution_count": 473,
   "metadata": {},
   "outputs": [
    {
     "data": {
      "text/plain": [
       "[<matplotlib.lines.Line2D at 0x2ae96f3a0>]"
      ]
     },
     "execution_count": 473,
     "metadata": {},
     "output_type": "execute_result"
    },
    {
     "data": {
      "image/png": "[encoded data removed]",
      "text/plain": [
       "<Figure size 432x288 with 1 Axes>"
      ]
     },
     "metadata": {
      "needs_background": "light"
     },
     "output_type": "display_data"
    }
   ],
   "source": [
    "qs = jnp.linspace(1.01, 10, 100)\n",
    "ys = np.array([phi_t(q, t, n, theta_0, v) for q in qs])\n",
    "plt.plot(qs, ys)\n",
    "plt.plot(qs, np.full_like(qs, bound), color='r')"
   ]
  },
  {
   "cell_type": "code",
   "execution_count": 474,
   "metadata": {},
   "outputs": [
    {
     "data": {
      "text/plain": [
       "[<matplotlib.lines.Line2D at 0x2aebff5e0>]"
      ]
     },
     "execution_count": 474,
     "metadata": {},
     "output_type": "execute_result"
    },
    {
     "data": {
      "image/png": "[encoded data removed]",
      "text/plain": [
       "<Figure size 432x288 with 1 Axes>"
      ]
     },
     "metadata": {
      "needs_background": "light"
     },
     "output_type": "display_data"
    }
   ],
   "source": [
    "def objective(n, theta_0, v, a, q):\n",
    "    return (A(theta_0 + q*v, n) - A(theta_0, n) + a) / q\n",
    "\n",
    "phis = np.array([\n",
    "    objective(n, theta_0, v, a, q) for q in qs\n",
    "]) \n",
    "plt.plot(qs, phis)\n",
    "plt.plot(q_opt, objective(n, theta_0, v, a, q_opt), 'ro')"
   ]
  },
  {
   "cell_type": "markdown",
   "metadata": {},
   "source": [
    "## Optimizing q for Implicit Exponential Holder Bound"
   ]
  },
  {
   "cell_type": "code",
   "execution_count": 354,
   "metadata": {},
   "outputs": [],
   "source": [
    "def objective_impl(n, theta_0, v, alpha, q):\n",
    "    return (\n",
    "        (A(theta_0 + q * v, n) - A(theta_0, n))\n",
    "        - q * ((A(theta_0 + v, n) - A(theta_0, n)) + np.log(alpha))\n",
    "    ) / (q-1)\n",
    "    \n",
    "def qcp_solve(n, theta_0, v, alpha):\n",
    "    shift = (A(theta_0 + v, n) - A(theta_0, n)) + np.log(alpha)\n",
    "    q = cp.Variable(pos=True)\n",
    "    objective_fn = (\n",
    "        (A_cp(theta_0 + (q+1) * v, n) - A(theta_0, n))\n",
    "        - (q+1) * shift\n",
    "    ) / q\n",
    "    objective = cp.Minimize(objective_fn)\n",
    "    problem = cp.Problem(objective)\n",
    "    min = 0\n",
    "    max = n * v - shift\n",
    "    problem.solve(qcp=True, low=min+1e-6, high=max)\n",
    "    return q.value + 1, problem.value"
   ]
  },
  {
   "cell_type": "code",
   "execution_count": 161,
   "metadata": {},
   "outputs": [],
   "source": [
    "n = 350\n",
    "theta_0 = -1\n",
    "vs = np.linspace(0, 1, 100)\n",
    "alpha = 0.025"
   ]
  },
  {
   "cell_type": "code",
   "execution_count": 162,
   "metadata": {},
   "outputs": [
    {
     "name": "stderr",
     "output_type": "stream",
     "text": [
      "/Users/jhyang/opt/miniconda3/envs/confirm/lib/python3.10/site-packages/cvxpy/problems/problem.py:1337: UserWarning: Solution may be inaccurate. Try another solver, adjusting the solver settings, or solve with verbose=True for more information.\n",
      "  warnings.warn(\n",
      "/Users/jhyang/opt/miniconda3/envs/confirm/lib/python3.10/site-packages/cvxpy/problems/problem.py:1337: UserWarning: Solution may be inaccurate. Try another solver, adjusting the solver settings, or solve with verbose=True for more information.\n",
      "  warnings.warn(\n",
      "/Users/jhyang/opt/miniconda3/envs/confirm/lib/python3.10/site-packages/cvxpy/problems/problem.py:1337: UserWarning: Solution may be inaccurate. Try another solver, adjusting the solver settings, or solve with verbose=True for more information.\n",
      "  warnings.warn(\n"
     ]
    },
    {
     "data": {
      "text/plain": [
       "[<matplotlib.lines.Line2D at 0x28c21d480>]"
      ]
     },
     "execution_count": 162,
     "metadata": {},
     "output_type": "execute_result"
    },
    {
     "data": {
      "image/png": "[encoded data removed]",
      "text/plain": [
       "<Figure size 432x288 with 1 Axes>"
      ]
     },
     "metadata": {
      "needs_background": "light"
     },
     "output_type": "display_data"
    }
   ],
   "source": [
    "# cvxpy method\n",
    "v = vs[2]\n",
    "opt_q, opt_loss = qcp_solve(n, theta_0, v, alpha)\n",
    "\n",
    "# brute force search method\n",
    "qs = np.linspace(1.3, 100, 1000)\n",
    "objs = np.array([objective(n, theta_0, v, alpha, q) for q in qs])\n",
    "i_min = np.argmin(objs)\n",
    "\n",
    "# plot\n",
    "plt.plot(qs, objs)\n",
    "plt.plot(qs[i_min], objs[i_min], 'r.')\n",
    "plt.plot(opt_q, opt_loss, 'b.')"
   ]
  }
 ],
 "metadata": {
  "kernelspec": {
   "display_name": "Python 3.10.5 ('confirm')",
   "language": "python",
   "name": "python3"
  },
  "language_info": {
   "codemirror_mode": {
    "name": "ipython",
    "version": 3
   },
   "file_extension": ".py",
   "mimetype": "text/x-python",
   "name": "python",
   "nbconvert_exporter": "python",
   "pygments_lexer": "ipython3",
   "version": "3.10.5"
  },
  "orig_nbformat": 4,
  "vscode": {
   "interpreter": {
    "hash": "d8e1ca1b3fede25e3995e2b26ea544fa1b75b9a17984e6284a43c1dc286640dd"
   }
  }
 },
 "nbformat": 4,
 "nbformat_minor": 2
}
