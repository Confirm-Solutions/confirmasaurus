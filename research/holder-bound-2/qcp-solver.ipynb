{
 "cells": [
  {
   "cell_type": "code",
   "execution_count": 47,
   "metadata": {},
   "outputs": [],
   "source": [
    "import cvxpy as cp\n",
    "import numpy as np\n",
    "import matplotlib.pyplot as plt"
   ]
  },
  {
   "cell_type": "code",
   "execution_count": 160,
   "metadata": {},
   "outputs": [],
   "source": [
    "def A(t, n):\n",
    "    return n * np.log(1 + np.exp(t))\n",
    "    \n",
    "def A_cp(t, n):\n",
    "    return n * cp.logistic(t)\n",
    "    \n",
    "def objective(n, theta_0, v, alpha, q):\n",
    "    return (\n",
    "        (A(theta_0 + q * v, n) - A(theta_0, n))\n",
    "        - q * ((A(theta_0 + v, n) - A(theta_0, n)) + np.log(alpha))\n",
    "    ) / (q-1)\n",
    "    \n",
    "def qcp_solve(n, theta_0, v, alpha):\n",
    "    shift = (A(theta_0 + v, n) - A(theta_0, n)) + np.log(alpha)\n",
    "    q = cp.Variable(pos=True)\n",
    "    objective_fn = (\n",
    "        (A_cp(theta_0 + (q+1) * v, n) - A(theta_0, n))\n",
    "        - (q+1) * shift\n",
    "    ) / q\n",
    "    objective = cp.Minimize(objective_fn)\n",
    "    problem = cp.Problem(objective)\n",
    "    min = 0\n",
    "    max = n * v - shift\n",
    "    problem.solve(qcp=True, low=min+1e-6, high=max)\n",
    "    return q.value + 1, problem.value"
   ]
  },
  {
   "cell_type": "code",
   "execution_count": 161,
   "metadata": {},
   "outputs": [],
   "source": [
    "n = 350\n",
    "theta_0 = -1\n",
    "vs = np.linspace(0, 1, 100)\n",
    "alpha = 0.025"
   ]
  },
  {
   "cell_type": "code",
   "execution_count": 162,
   "metadata": {},
   "outputs": [
    {
     "name": "stderr",
     "output_type": "stream",
     "text": [
      "/Users/jhyang/opt/miniconda3/envs/confirm/lib/python3.10/site-packages/cvxpy/problems/problem.py:1337: UserWarning: Solution may be inaccurate. Try another solver, adjusting the solver settings, or solve with verbose=True for more information.\n",
      "  warnings.warn(\n",
      "/Users/jhyang/opt/miniconda3/envs/confirm/lib/python3.10/site-packages/cvxpy/problems/problem.py:1337: UserWarning: Solution may be inaccurate. Try another solver, adjusting the solver settings, or solve with verbose=True for more information.\n",
      "  warnings.warn(\n",
      "/Users/jhyang/opt/miniconda3/envs/confirm/lib/python3.10/site-packages/cvxpy/problems/problem.py:1337: UserWarning: Solution may be inaccurate. Try another solver, adjusting the solver settings, or solve with verbose=True for more information.\n",
      "  warnings.warn(\n"
     ]
    },
    {
     "data": {
      "text/plain": [
       "[<matplotlib.lines.Line2D at 0x28c21d480>]"
      ]
     },
     "execution_count": 162,
     "metadata": {},
     "output_type": "execute_result"
    },
    {
     "data": {
      "image/png": "[encoded data removed]",
      "text/plain": [
       "<Figure size 432x288 with 1 Axes>"
      ]
     },
     "metadata": {
      "needs_background": "light"
     },
     "output_type": "display_data"
    }
   ],
   "source": [
    "# cvxpy method\n",
    "v = vs[2]\n",
    "opt_q, opt_loss = qcp_solve(n, theta_0, v, alpha)\n",
    "\n",
    "# brute force search method\n",
    "qs = np.linspace(1.3, 100, 1000)\n",
    "objs = np.array([objective(n, theta_0, v, alpha, q) for q in qs])\n",
    "i_min = np.argmin(objs)\n",
    "\n",
    "# plot\n",
    "plt.plot(qs, objs)\n",
    "plt.plot(qs[i_min], objs[i_min], 'r.')\n",
    "plt.plot(opt_q, opt_loss, 'b.')"
   ]
  }
 ],
 "metadata": {
  "kernelspec": {
   "display_name": "Python 3.10.5 ('confirm')",
   "language": "python",
   "name": "python3"
  },
  "language_info": {
   "codemirror_mode": {
    "name": "ipython",
    "version": 3
   },
   "file_extension": ".py",
   "mimetype": "text/x-python",
   "name": "python",
   "nbconvert_exporter": "python",
   "pygments_lexer": "ipython3",
   "version": "3.10.5"
  },
  "orig_nbformat": 4,
  "vscode": {
   "interpreter": {
    "hash": "d8e1ca1b3fede25e3995e2b26ea544fa1b75b9a17984e6284a43c1dc286640dd"
   }
  }
 },
 "nbformat": 4,
 "nbformat_minor": 2
}
