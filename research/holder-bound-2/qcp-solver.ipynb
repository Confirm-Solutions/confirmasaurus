{
 "cells": [
  {
   "cell_type": "code",
   "execution_count": 1,
   "metadata": {},
   "outputs": [],
   "source": [
    "%load_ext autoreload\n",
    "%autoreload 2"
   ]
  },
  {
   "cell_type": "code",
   "execution_count": 2,
   "metadata": {},
   "outputs": [],
   "source": [
    "import cvxpy as cp\n",
    "import numpy as np\n",
    "import matplotlib.pyplot as plt\n",
    "import jax\n",
    "import jax.numpy as jnp\n",
    "\n",
    "import confirm.mini_imprint.bound.binomial as binomial"
   ]
  },
  {
   "cell_type": "markdown",
   "metadata": {},
   "source": [
    "## Optimizing q for Exponential Holder Bound"
   ]
  },
  {
   "cell_type": "code",
   "execution_count": 3,
   "metadata": {},
   "outputs": [],
   "source": [
    "def A(t, n):\n",
    "    '''\n",
    "    Numerically stable implementation of n * log(1 + e^t).\n",
    "    '''\n",
    "    return n * np.sum(np.maximum(t, 0) + np.log(1 + np.exp(-np.abs(t))))\n",
    "    \n",
    "def dA(t, n):\n",
    "    return n * jax.nn.sigmoid(t)\n",
    "    \n",
    "def A_cp(t, n):\n",
    "    return n * cp.sum(cp.logistic(t))\n",
    "\n",
    "def opt_q_cp(n, theta_0, v, a):\n",
    "    '''\n",
    "    CVXPY implementation of finding optimal q\n",
    "    '''    \n",
    "    A0 = A(theta_0, n)\n",
    "    q = cp.Variable(pos=True)\n",
    "    objective_fn = (\n",
    "        (A_cp(theta_0 + (q+1) * v, n) - A0)\n",
    "        + a\n",
    "    ) / (q + 1)\n",
    "    objective = cp.Minimize(objective_fn)\n",
    "    problem = cp.Problem(objective)\n",
    "    problem.solve(qcp=True)\n",
    "    return q.value + 1 "
   ]
  },
  {
   "cell_type": "code",
   "execution_count": 4,
   "metadata": {},
   "outputs": [],
   "source": [
    "def phi_t(q, t, n, theta_0, v):\n",
    "    '''\n",
    "    Computes phi_t(q) defined as\n",
    "        A(theta_0 + qv) - tq \n",
    "    '''\n",
    "    return A(theta_0 + q * v, n) - t * q\n",
    "    \n",
    "def dphi_t(q, t, n, theta_0, v):\n",
    "    '''\n",
    "    Computes dphi_t(q)/dq given by\n",
    "        A'(theta_0 + qv)^T v - t\n",
    "    '''\n",
    "    return jnp.sum(dA(theta_0 + q*v, n) * v) - t\n",
    "\n",
    "def transform(u):\n",
    "    return 1 + A(u, 1)\n",
    "    \n",
    "def dtransform(u):\n",
    "    return dA(u, 1)\n",
    "    \n",
    "def inv_transform(q):\n",
    "    return (q-1) + jnp.log(1 - jnp.exp(1-q))\n",
    "    \n",
    "def convex_feasible(\n",
    "    t, n, theta_0, v, bound, \n",
    "    q0=2, tol=1e-7, max_tol=1e7, gamma_tol=1e7, max_iters=int(1e3),\n",
    "):\n",
    "    '''\n",
    "    We say phi_t(q) is feasible if there exists q >= 1\n",
    "    such that phi_t(q) <= bound, where bound == A(theta_0) - a.\n",
    "    To unconstrain the minimization problem, we parametrize q = log(1 + e^u) + 1.\n",
    "    We are using the Barzilai-Borwein method,\n",
    "    so we must guarantee that the newly parametrized function is also convex and Lipschitz.\n",
    "\n",
    "    Returns True if phi_t(q) is feasible.\n",
    "    '''\n",
    "    u0 = inv_transform(q0)\n",
    "\n",
    "    u_prev = u0 - jnp.maximum(1, tol)\n",
    "    q_prev = transform(u_prev)\n",
    "    dphi_t_u_prev = dphi_t(q_prev, t, n, theta_0, v) * dtransform(u_prev)\n",
    "\n",
    "    u = u0\n",
    "    q = q0\n",
    "    phi_t_u = phi_t(q, t, n, theta_0, v)\n",
    "    dphi_t_u = dphi_t(q, t, n, theta_0, v) * dtransform(u)\n",
    "\n",
    "    iter = 0\n",
    "    while (phi_t_u > bound) and (jnp.abs(u - u_prev) > tol) and (iter < max_iters) and jnp.abs(u) <= max_tol:\n",
    "        # compute descent quantities\n",
    "        abs_delta_dphi_t_u = jnp.abs(dphi_t_u - dphi_t_u_prev)\n",
    "        abs_delta_u = jnp.abs(u - u_prev)\n",
    "        if abs_delta_u > gamma_tol * abs_delta_dphi_t_u:\n",
    "            break\n",
    "        gamma = abs_delta_u / abs_delta_dphi_t_u\n",
    "\n",
    "        # update previous states\n",
    "        u_prev = u\n",
    "        q_prev = q\n",
    "        dphi_t_u_prev = dphi_t_u\n",
    "        \n",
    "        # update current states\n",
    "        u = u - gamma * dphi_t_u\n",
    "        q = transform(u)\n",
    "        phi_t_u = phi_t(q, t, n, theta_0, v)\n",
    "        dphi_t_u = dphi_t(q, t, n, theta_0, v) * dtransform(u)\n",
    "\n",
    "        iter += 1\n",
    "        \n",
    "    return q, phi_t_u, (phi_t_u <= bound), iter\n",
    "    \n",
    "def qcp_solve(n, theta_0, v, a, q0=2, bs_tol=1e-3, **kwargs):\n",
    "    A0 = A(theta_0, n)\n",
    "    bound = A0 - a\n",
    "\n",
    "    # theoretical bounds that contain the minimum value\n",
    "    lower = A(theta_0 + v, n) - A0\n",
    "    upper = n * jnp.sum(jnp.maximum(v, 0))\n",
    "    \n",
    "    q = jnp.inf\n",
    "    hint = q0\n",
    "\n",
    "    while upper - lower >= bs_tol:\n",
    "        mid = (upper + lower) / 2\n",
    "        q_new, _, is_feasible, _ = convex_feasible(mid, n, theta_0, v, bound, q0=hint, **kwargs)    \n",
    "        if is_feasible:\n",
    "            upper = mid\n",
    "            q, hint = q_new, q_new\n",
    "        else:\n",
    "            lower = mid\n",
    "    \n",
    "    return q"
   ]
  },
  {
   "cell_type": "code",
   "execution_count": 5,
   "metadata": {},
   "outputs": [],
   "source": [
    "theta_0 = jnp.array([-2., -1., 0.3])\n",
    "n = 350\n",
    "a = -np.log(0.025)\n",
    "v = 0.1 * jnp.array([0.4, 1, 0.2])"
   ]
  },
  {
   "cell_type": "code",
   "execution_count": 9,
   "metadata": {},
   "outputs": [],
   "source": [
    "solver = binomial.ForwardQCPSolver(n)\n",
    "solve_jit = jax.jit(solver.solve)"
   ]
  },
  {
   "cell_type": "code",
   "execution_count": 30,
   "metadata": {},
   "outputs": [
    {
     "name": "stdout",
     "output_type": "stream",
     "text": [
      "CPU times: user 123 µs, sys: 68 µs, total: 191 µs\n",
      "Wall time: 202 µs\n"
     ]
    },
    {
     "data": {
      "text/plain": [
       "(DeviceArray(17.552002, dtype=float32),\n",
       " DeviceArray(17.55262, dtype=float32),\n",
       " DeviceArray(2.9566169, dtype=float32, weak_type=True),\n",
       " DeviceArray(2.9566169, dtype=float32, weak_type=True))"
      ]
     },
     "execution_count": 30,
     "metadata": {},
     "output_type": "execute_result"
    }
   ],
   "source": [
    "%%time\n",
    "solve_jit(theta_0, v, a)"
   ]
  },
  {
   "cell_type": "code",
   "execution_count": 31,
   "metadata": {},
   "outputs": [
    {
     "name": "stdout",
     "output_type": "stream",
     "text": [
      "CPU times: user 38 ms, sys: 931 µs, total: 38.9 ms\n",
      "Wall time: 38.4 ms\n"
     ]
    },
    {
     "data": {
      "text/plain": [
       "2.956617552773106"
      ]
     },
     "execution_count": 31,
     "metadata": {},
     "output_type": "execute_result"
    }
   ],
   "source": [
    "%%time \n",
    "q_opt_qcp = qcp_solve(n, theta_0, v, a)\n",
    "q_opt_qcp"
   ]
  },
  {
   "cell_type": "code",
   "execution_count": 32,
   "metadata": {},
   "outputs": [
    {
     "name": "stdout",
     "output_type": "stream",
     "text": [
      "CPU times: user 141 ms, sys: 2.69 ms, total: 144 ms\n",
      "Wall time: 142 ms\n"
     ]
    },
    {
     "name": "stderr",
     "output_type": "stream",
     "text": [
      "/Users/jhyang/opt/miniconda3/envs/confirm/lib/python3.10/site-packages/cvxpy/problems/problem.py:1337: UserWarning: Solution may be inaccurate. Try another solver, adjusting the solver settings, or solve with verbose=True for more information.\n",
      "  warnings.warn(\n",
      "/Users/jhyang/opt/miniconda3/envs/confirm/lib/python3.10/site-packages/cvxpy/problems/problem.py:1337: UserWarning: Solution may be inaccurate. Try another solver, adjusting the solver settings, or solve with verbose=True for more information.\n",
      "  warnings.warn(\n",
      "/Users/jhyang/opt/miniconda3/envs/confirm/lib/python3.10/site-packages/cvxpy/problems/problem.py:1337: UserWarning: Solution may be inaccurate. Try another solver, adjusting the solver settings, or solve with verbose=True for more information.\n",
      "  warnings.warn(\n"
     ]
    }
   ],
   "source": [
    "%%time\n",
    "q_opt_qcp_cvxpy = opt_q_cp(n, theta_0, v, a)"
   ]
  },
  {
   "cell_type": "code",
   "execution_count": 33,
   "metadata": {},
   "outputs": [
    {
     "data": {
      "text/plain": [
       "[<matplotlib.lines.Line2D at 0x2a09502b0>]"
      ]
     },
     "execution_count": 33,
     "metadata": {},
     "output_type": "execute_result"
    },
    {
     "data": {
      "image/png": "[encoded data removed]",
      "text/plain": [
       "<Figure size 432x288 with 1 Axes>"
      ]
     },
     "metadata": {
      "needs_background": "light"
     },
     "output_type": "display_data"
    }
   ],
   "source": [
    "qs = jnp.linspace(1.0001, 100, 100)\n",
    "phis = np.array([\n",
    "    solver.objective(q, theta_0, v, a) for q in qs\n",
    "]) \n",
    "plt.plot(qs, phis)\n",
    "plt.plot(q_opt_qcp, solver.objective(q_opt_qcp, theta_0, v, a), 'bo')\n",
    "plt.plot(q_opt_qcp_cvxpy, solver.objective(q_opt_qcp_cvxpy, theta_0, v, a), 'r^')"
   ]
  },
  {
   "cell_type": "code",
   "execution_count": 34,
   "metadata": {},
   "outputs": [],
   "source": [
    "solver = binomial.ForwardQCPSolver(n)\n",
    "solve_vmap_jit = jax.jit(jax.vmap(lambda t, v, a: solver.solve(t, v, a)[2], in_axes=(0, 0, None)))\n",
    "\n",
    "def vectorize_run(key, m, d, a=-np.log(0.025), n=350):\n",
    "    theta_0 = jax.random.normal(key, (m, d))\n",
    "    _, key = jax.random.split(key)\n",
    "    v = 0.001 * jax.random.normal(key, (m, d))\n",
    "    return solve_vmap_jit(theta_0, v, a)"
   ]
  },
  {
   "cell_type": "code",
   "execution_count": 41,
   "metadata": {},
   "outputs": [
    {
     "name": "stdout",
     "output_type": "stream",
     "text": [
      "CPU times: user 5.67 s, sys: 42.6 ms, total: 5.71 s\n",
      "Wall time: 5.7 s\n"
     ]
    }
   ],
   "source": [
    "%%time\n",
    "qs = vectorize_run(\n",
    "    jax.random.PRNGKey(10),\n",
    "    100000,\n",
    "    3,\n",
    ")"
   ]
  },
  {
   "cell_type": "code",
   "execution_count": 42,
   "metadata": {},
   "outputs": [
    {
     "name": "stdout",
     "output_type": "stream",
     "text": [
      "2\n"
     ]
    },
    {
     "data": {
      "image/png": "[encoded data removed]",
      "text/plain": [
       "<Figure size 432x288 with 1 Axes>"
      ]
     },
     "metadata": {
      "needs_background": "light"
     },
     "output_type": "display_data"
    }
   ],
   "source": [
    "plt.hist(qs[~np.isinf(qs)], bins=30)\n",
    "print(np.sum(np.isinf(qs)))"
   ]
  },
  {
   "cell_type": "code",
   "execution_count": 49,
   "metadata": {},
   "outputs": [],
   "source": [
    "theta_0 = -1.\n",
    "n = 350\n",
    "f0 = 0.001\n",
    "vs = np.linspace(0, 1, 1000)\n",
    "solver = binomial.ForwardQCPSolver(n)\n",
    "q_solver = jax.jit(jax.vmap(solver.solve, in_axes=(None, 0, None)))"
   ]
  },
  {
   "cell_type": "code",
   "execution_count": 50,
   "metadata": {},
   "outputs": [],
   "source": [
    "qs = q_solver(theta_0, vs, -np.log(f0))"
   ]
  },
  {
   "cell_type": "code",
   "execution_count": 51,
   "metadata": {},
   "outputs": [],
   "source": [
    "bounder = jax.vmap(binomial.q_holder_bound, in_axes=(0, None, None, 0, None))\n",
    "bounds = bounder(qs, n, theta_0, vs, f0)"
   ]
  },
  {
   "cell_type": "code",
   "execution_count": 52,
   "metadata": {},
   "outputs": [
    {
     "data": {
      "text/plain": [
       "[<matplotlib.lines.Line2D at 0x2a12d6620>]"
      ]
     },
     "execution_count": 52,
     "metadata": {},
     "output_type": "execute_result"
    },
    {
     "data": {
      "image/png": "[encoded data removed]",
      "text/plain": [
       "<Figure size 432x288 with 1 Axes>"
      ]
     },
     "metadata": {
      "needs_background": "light"
     },
     "output_type": "display_data"
    }
   ],
   "source": [
    "plt.plot(theta_0 + vs, bounds, ls='-')"
   ]
  },
  {
   "cell_type": "markdown",
   "metadata": {},
   "source": [
    "## Optimizing q for Implicit Exponential Holder Bound"
   ]
  },
  {
   "cell_type": "code",
   "execution_count": 354,
   "metadata": {},
   "outputs": [],
   "source": [
    "def objective_impl(n, theta_0, v, alpha, q):\n",
    "    return (\n",
    "        (A(theta_0 + q * v, n) - A(theta_0, n))\n",
    "        - q * ((A(theta_0 + v, n) - A(theta_0, n)) + np.log(alpha))\n",
    "    ) / (q-1)\n",
    "    \n",
    "def qcp_solve(n, theta_0, v, alpha):\n",
    "    shift = (A(theta_0 + v, n) - A(theta_0, n)) + np.log(alpha)\n",
    "    q = cp.Variable(pos=True)\n",
    "    objective_fn = (\n",
    "        (A_cp(theta_0 + (q+1) * v, n) - A(theta_0, n))\n",
    "        - (q+1) * shift\n",
    "    ) / q\n",
    "    objective = cp.Minimize(objective_fn)\n",
    "    problem = cp.Problem(objective)\n",
    "    min = 0\n",
    "    max = n * v - shift\n",
    "    problem.solve(qcp=True, low=min+1e-6, high=max)\n",
    "    return q.value + 1, problem.value"
   ]
  },
  {
   "cell_type": "code",
   "execution_count": 161,
   "metadata": {},
   "outputs": [],
   "source": [
    "n = 350\n",
    "theta_0 = -1\n",
    "vs = np.linspace(0, 1, 100)\n",
    "alpha = 0.025"
   ]
  },
  {
   "cell_type": "code",
   "execution_count": 162,
   "metadata": {},
   "outputs": [
    {
     "name": "stderr",
     "output_type": "stream",
     "text": [
      "/Users/jhyang/opt/miniconda3/envs/confirm/lib/python3.10/site-packages/cvxpy/problems/problem.py:1337: UserWarning: Solution may be inaccurate. Try another solver, adjusting the solver settings, or solve with verbose=True for more information.\n",
      "  warnings.warn(\n",
      "/Users/jhyang/opt/miniconda3/envs/confirm/lib/python3.10/site-packages/cvxpy/problems/problem.py:1337: UserWarning: Solution may be inaccurate. Try another solver, adjusting the solver settings, or solve with verbose=True for more information.\n",
      "  warnings.warn(\n",
      "/Users/jhyang/opt/miniconda3/envs/confirm/lib/python3.10/site-packages/cvxpy/problems/problem.py:1337: UserWarning: Solution may be inaccurate. Try another solver, adjusting the solver settings, or solve with verbose=True for more information.\n",
      "  warnings.warn(\n"
     ]
    },
    {
     "data": {
      "text/plain": [
       "[<matplotlib.lines.Line2D at 0x28c21d480>]"
      ]
     },
     "execution_count": 162,
     "metadata": {},
     "output_type": "execute_result"
    },
    {
     "data": {
      "image/png": "[encoded data removed]",
      "text/plain": [
       "<Figure size 432x288 with 1 Axes>"
      ]
     },
     "metadata": {
      "needs_background": "light"
     },
     "output_type": "display_data"
    }
   ],
   "source": [
    "# cvxpy method\n",
    "v = vs[2]\n",
    "opt_q, opt_loss = qcp_solve(n, theta_0, v, alpha)\n",
    "\n",
    "# brute force search method\n",
    "qs = np.linspace(1.3, 100, 1000)\n",
    "objs = np.array([objective(n, theta_0, v, alpha, q) for q in qs])\n",
    "i_min = np.argmin(objs)\n",
    "\n",
    "# plot\n",
    "plt.plot(qs, objs)\n",
    "plt.plot(qs[i_min], objs[i_min], 'r.')\n",
    "plt.plot(opt_q, opt_loss, 'b.')"
   ]
  }
 ],
 "metadata": {
  "kernelspec": {
   "display_name": "Python 3.10.6 ('confirm')",
   "language": "python",
   "name": "python3"
  },
  "language_info": {
   "codemirror_mode": {
    "name": "ipython",
    "version": 3
   },
   "file_extension": ".py",
   "mimetype": "text/x-python",
   "name": "python",
   "nbconvert_exporter": "python",
   "pygments_lexer": "ipython3",
   "version": "3.10.6"
  },
  "orig_nbformat": 4,
  "vscode": {
   "interpreter": {
    "hash": "5d574717a19d12573763700bcd6833eaae2108879723021a1c549979ef70be90"
   }
  }
 },
 "nbformat": 4,
 "nbformat_minor": 2
}
