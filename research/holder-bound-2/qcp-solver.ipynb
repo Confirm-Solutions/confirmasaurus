{
 "cells": [
  {
   "cell_type": "code",
   "execution_count": 1,
   "metadata": {},
   "outputs": [],
   "source": [
    "import cvxpy as cp\n",
    "import numpy as np\n",
    "import matplotlib.pyplot as plt\n",
    "import jax\n",
    "import jax.numpy as jnp"
   ]
  },
  {
   "cell_type": "markdown",
   "metadata": {},
   "source": [
    "## Optimizing q for Exponential Holder Bound"
   ]
  },
  {
   "cell_type": "code",
   "execution_count": 214,
   "metadata": {},
   "outputs": [],
   "source": [
    "def A(t, n):\n",
    "    '''\n",
    "    Numerically stable implementation of n * log(1 + e^t).\n",
    "    '''\n",
    "    return n * np.sum(np.maximum(t, 0) + np.log(1 + np.exp(-np.abs(t))))\n",
    "    \n",
    "def dA(t, n):\n",
    "    return n * jax.nn.sigmoid(t)\n",
    "    \n",
    "def A_cp(t, n):\n",
    "    return n * cp.sum(cp.logistic(t))\n",
    "\n",
    "def opt_q_cp(n, theta_0, v, a):\n",
    "    '''\n",
    "    CVXPY implementation of finding optimal q\n",
    "    '''    \n",
    "    A0 = A(theta_0, n)\n",
    "    q = cp.Variable(pos=True)\n",
    "    objective_fn = (\n",
    "        (A_cp(theta_0 + (q+1) * v, n) - A0)\n",
    "        + a\n",
    "    ) / (q + 1)\n",
    "    objective = cp.Minimize(objective_fn)\n",
    "    problem = cp.Problem(objective)\n",
    "    problem.solve(qcp=True)\n",
    "    return q.value + 1 "
   ]
  },
  {
   "cell_type": "code",
   "execution_count": 247,
   "metadata": {},
   "outputs": [],
   "source": [
    "def phi_t(q, t, n, theta_0, v):\n",
    "    '''\n",
    "    Computes phi_t(q) defined as\n",
    "        A(theta_0 + qv) - tq \n",
    "    '''\n",
    "    return A(theta_0 + q * v, n) - t * q\n",
    "    \n",
    "def dphi_t(q, t, n, theta_0, v):\n",
    "    '''\n",
    "    Computes dphi_t(q)/dq given by\n",
    "        A'(theta_0 + qv)^T v - t\n",
    "    '''\n",
    "    return jnp.sum(dA(theta_0 + q*v, n) * v) - t\n",
    "\n",
    "def transform(u):\n",
    "    return 1 + A(u, 1)\n",
    "    \n",
    "def dtransform(u):\n",
    "    return dA(u, 1)\n",
    "    \n",
    "def inv_transform(q):\n",
    "    return (q-1) + jnp.log(1 - jnp.exp(1-q))\n",
    "    \n",
    "def convex_feasible(\n",
    "    t, n, theta_0, v, bound, \n",
    "    q0=2, tol=1e-7, max_tol=1e7, gamma_tol=1e7, max_iters=int(1e3),\n",
    "):\n",
    "    '''\n",
    "    We say phi_t(q) is feasible if there exists q >= 1\n",
    "    such that phi_t(q) <= bound, where bound == A(theta_0) - a.\n",
    "    To unconstrain the minimization problem, we parametrize q = log(1 + e^u) + 1.\n",
    "    We are using the Barzilai-Borwein method,\n",
    "    so we must guarantee that the newly parametrized function is also convex and Lipschitz.\n",
    "\n",
    "    Returns True if phi_t(q) is feasible.\n",
    "    '''\n",
    "    u0 = inv_transform(q0)\n",
    "\n",
    "    u_prev = u0 - jnp.maximum(1, tol)\n",
    "    q_prev = transform(u_prev)\n",
    "    dphi_t_u_prev = dphi_t(q_prev, t, n, theta_0, v) * dtransform(u_prev)\n",
    "\n",
    "    u = u0\n",
    "    q = q0\n",
    "    phi_t_u = phi_t(q, t, n, theta_0, v)\n",
    "    dphi_t_u = dphi_t(q, t, n, theta_0, v) * dtransform(u)\n",
    "\n",
    "    iter = 0\n",
    "    while (phi_t_u > bound) and (jnp.abs(u - u_prev) > tol) and (iter < max_iters) and jnp.abs(u) <= max_tol:\n",
    "        # compute descent quantities\n",
    "        abs_delta_dphi_t_u = jnp.abs(dphi_t_u - dphi_t_u_prev)\n",
    "        abs_delta_u = jnp.abs(u - u_prev)\n",
    "        if abs_delta_u > gamma_tol * abs_delta_dphi_t_u:\n",
    "            break\n",
    "        gamma = abs_delta_u / abs_delta_dphi_t_u\n",
    "\n",
    "        # update previous states\n",
    "        u_prev = u\n",
    "        q_prev = q\n",
    "        dphi_t_u_prev = dphi_t_u\n",
    "        \n",
    "        # update current states\n",
    "        u = u - gamma * dphi_t_u\n",
    "        q = transform(u)\n",
    "        phi_t_u = phi_t(q, t, n, theta_0, v)\n",
    "        dphi_t_u = dphi_t(q, t, n, theta_0, v) * dtransform(u)\n",
    "\n",
    "        iter += 1\n",
    "        \n",
    "    return q, phi_t_u, (phi_t_u <= bound), iter\n",
    "    \n",
    "def qcp_solve(n, theta_0, v, a, q0=2, bs_tol=1e-3, **kwargs):\n",
    "    A0 = A(theta_0, n)\n",
    "    bound = A0 - a\n",
    "\n",
    "    # theoretical bounds that contain the minimum value\n",
    "    lower = A(theta_0 + v, n) - A0\n",
    "    upper = n * jnp.sum(jnp.maximum(v, 0))\n",
    "    \n",
    "    q = jnp.inf\n",
    "    hint = q0\n",
    "\n",
    "    while upper - lower >= bs_tol:\n",
    "        mid = (upper + lower) / 2\n",
    "        q_new, _, is_feasible, _ = convex_feasible(mid, n, theta_0, v, bound, q0=hint, **kwargs)    \n",
    "        if is_feasible:\n",
    "            upper = mid\n",
    "            q, hint = q_new, q_new\n",
    "        else:\n",
    "            lower = mid\n",
    "    \n",
    "    return q"
   ]
  },
  {
   "cell_type": "code",
   "execution_count": 335,
   "metadata": {},
   "outputs": [],
   "source": [
    "# JAX version of the above\n",
    "class QCPSolver():\n",
    "    '''\n",
    "    \n",
    "    '''\n",
    "\n",
    "    def __init__(\n",
    "        self, \n",
    "        n,\n",
    "        a,\n",
    "        cp_convg_tol=1e-6, \n",
    "        cp_max_entropy_tol=1e7, \n",
    "        cp_gamma_tol=1e7, \n",
    "        cp_max_iters=int(1e2),\n",
    "        qcp_q0 = 2.,\n",
    "        qcp_convg_tol=1e-3,\n",
    "    ):\n",
    "        self.n = n\n",
    "        self.a = a\n",
    "        self.cp_convg_tol = cp_convg_tol\n",
    "        self.cp_max_entropy_tol = cp_max_entropy_tol\n",
    "        self.cp_gamma_tol = cp_gamma_tol\n",
    "        self.cp_max_iters = cp_max_iters\n",
    "        self.qcp_q0 = qcp_q0\n",
    "        self.qcp_convg_tol = qcp_convg_tol\n",
    "        \n",
    "    def logistic(self, t):\n",
    "        '''\n",
    "        Numerically stable implementation of log(1 + e^t).\n",
    "        '''\n",
    "        return jnp.maximum(t, 0) + jnp.log(1 + jnp.exp(-jnp.abs(t)))\n",
    "\n",
    "    def A(self, t):\n",
    "        return self.n * jnp.sum(self.logistic(t))\n",
    "        \n",
    "    def dA(self, t):\n",
    "        return self.n * jax.nn.sigmoid(t)\n",
    "\n",
    "    def phi_t(self, q, t, theta_0, v):\n",
    "        '''\n",
    "        Computes phi_t(q) defined as\n",
    "            A(theta_0 + qv) - tq \n",
    "        '''\n",
    "        return self.A(theta_0 + q * v) - t * q\n",
    "        \n",
    "    def dphi_t(self, q, t, theta_0, v):\n",
    "        '''\n",
    "        Computes dphi_t(q)/dq given by\n",
    "            A'(theta_0 + qv)^T v - t\n",
    "        '''\n",
    "        return jnp.sum(self.dA(theta_0 + q * v) * v) - t\n",
    "\n",
    "    def transform(self, u):\n",
    "        return 1 + self.logistic(u)\n",
    "        \n",
    "    def dtransform(self, u):\n",
    "        return jax.nn.sigmoid(u)\n",
    "        \n",
    "    def inv_transform(self, q):\n",
    "        return (q-1) + jnp.log(1 - jnp.exp(1-q))\n",
    "\n",
    "    def convex_feasible(\n",
    "        self, t, theta_0, v, bound, q_hint,\n",
    "    ):\n",
    "        '''\n",
    "        We say phi_t(q) is feasible if there exists q >= 1\n",
    "        such that phi_t(q) <= bound, where bound == A(theta_0) - a.\n",
    "        To unconstrain the minimization problem, we parametrize q = log(1 + e^u) + 1.\n",
    "        We are using the Barzilai-Borwein method,\n",
    "        so we must guarantee that the newly parametrized function is also convex and Lipschitz.\n",
    "\n",
    "        Returns True if phi_t(q) is feasible.\n",
    "        '''\n",
    "        q0 = q_hint\n",
    "        u0 = self.inv_transform(q0)\n",
    "\n",
    "        u_prev = u0 - jnp.maximum(1, 2*self.cp_convg_tol)\n",
    "        q_prev = self.transform(u_prev)\n",
    "        dphi_t_u_prev = self.dphi_t(q_prev, t, theta_0, v) * self.dtransform(u_prev)\n",
    "\n",
    "        u = u0\n",
    "        q = q0\n",
    "        phi_t_u = self.phi_t(q, t, theta_0, v)\n",
    "        dphi_t_u = self.dphi_t(q, t, theta_0, v) * self.dtransform(u)\n",
    "\n",
    "        iter = 0\n",
    "        \n",
    "        def _cond_func(args):\n",
    "            (\n",
    "                u_prev,\n",
    "                _,\n",
    "                _,\n",
    "                u,\n",
    "                _,\n",
    "                phi_t_u,\n",
    "                _, \n",
    "                iter,\n",
    "            ) = args\n",
    "            return (\n",
    "                (phi_t_u > bound) & \n",
    "                (jnp.abs(u - u_prev) > self.cp_convg_tol) & \n",
    "                (iter < self.cp_max_iters) & \n",
    "                (jnp.abs(u) <= self.cp_max_entropy_tol)\n",
    "            )\n",
    "\n",
    "        def _body_func(args):\n",
    "            (\n",
    "                u_prev,\n",
    "                q_prev,\n",
    "                dphi_t_u_prev,\n",
    "                u,\n",
    "                q,\n",
    "                phi_t_u,\n",
    "                dphi_t_u, \n",
    "                iter,\n",
    "            ) = args\n",
    "\n",
    "            # compute descent quantities\n",
    "            abs_delta_dphi_t_u = jnp.abs(dphi_t_u - dphi_t_u_prev)\n",
    "            abs_delta_u = jnp.abs(u - u_prev)\n",
    "            early_exit = (abs_delta_u > self.cp_gamma_tol * abs_delta_dphi_t_u)\n",
    "            gamma = jnp.where(early_exit, 0, abs_delta_u / abs_delta_dphi_t_u)\n",
    "\n",
    "            # update previous states\n",
    "            u_prev = u\n",
    "            q_prev = q\n",
    "            dphi_t_u_prev = dphi_t_u\n",
    "            \n",
    "            # update current states\n",
    "            u = u - gamma * dphi_t_u\n",
    "            q = self.transform(u)\n",
    "            phi_t_u = self.phi_t(q, t, theta_0, v)\n",
    "            dphi_t_u = self.dphi_t(q, t, theta_0, v) * self.dtransform(u)\n",
    "\n",
    "            iter = iter + 1\n",
    "            \n",
    "            return (\n",
    "                u_prev, q_prev, dphi_t_u_prev,\n",
    "                u, q, phi_t_u, dphi_t_u, iter\n",
    "            )\n",
    "            \n",
    "        args = (\n",
    "            u_prev,\n",
    "            q_prev,\n",
    "            dphi_t_u_prev,\n",
    "            u,\n",
    "            q,\n",
    "            phi_t_u,\n",
    "            dphi_t_u, \n",
    "            iter,\n",
    "        )\n",
    "\n",
    "        (\n",
    "            _,\n",
    "            _,\n",
    "            _,\n",
    "            _,\n",
    "            q,\n",
    "            phi_t_u,\n",
    "            _, \n",
    "            iter,\n",
    "        ) = jax.lax.while_loop(\n",
    "            _cond_func,\n",
    "            _body_func,\n",
    "            args,\n",
    "        )\n",
    "            \n",
    "        return q, (phi_t_u <= bound), iter\n",
    "\n",
    "    def solve(self, theta_0, v):\n",
    "        A0 = self.A(theta_0)\n",
    "        bound = A0 - self.a\n",
    "\n",
    "        # theoretical bounds that contain the minimum value\n",
    "        lower = self.A(theta_0 + v) - A0\n",
    "        upper = self.n * jnp.sum(jnp.maximum(v, 0))\n",
    "        \n",
    "        q = jnp.inf\n",
    "        q_hint = self.qcp_q0\n",
    "        \n",
    "        def _cond_func(args):\n",
    "            (\n",
    "                lower, upper, _, _,\n",
    "            ) = args\n",
    "            return (upper - lower) >= self.qcp_convg_tol\n",
    "            \n",
    "        def _body_func(args):\n",
    "            (\n",
    "                lower, upper, q, q_hint,\n",
    "            ) = args\n",
    "            mid = (upper + lower) / 2\n",
    "            q_new, is_feasible, _ = self.convex_feasible(\n",
    "                mid, theta_0, v, bound, q_hint\n",
    "            )    \n",
    "            lower, upper, q, q_hint = jax.lax.cond(\n",
    "                is_feasible,\n",
    "                lambda: (lower, mid, q_new, q_new),\n",
    "                lambda: (mid, upper, q, q_hint),\n",
    "            )\n",
    "            return (\n",
    "                lower, upper, q, q_hint\n",
    "            )\n",
    "            \n",
    "        args = (lower, upper, q, q_hint)\n",
    "\n",
    "        (\n",
    "            _, _, q, _,\n",
    "        ) = jax.lax.while_loop(\n",
    "            _cond_func,\n",
    "            _body_func,\n",
    "            args,\n",
    "        )\n",
    "        \n",
    "        return q"
   ]
  },
  {
   "cell_type": "code",
   "execution_count": 336,
   "metadata": {},
   "outputs": [],
   "source": [
    "theta_0 = jnp.array([-2., -1., 0.3])\n",
    "n = 1000\n",
    "a = -np.log(0.025)\n",
    "v = 0.01 * jnp.array([0.4, 1, 50])"
   ]
  },
  {
   "cell_type": "code",
   "execution_count": 337,
   "metadata": {},
   "outputs": [],
   "source": [
    "solver = QCPSolver(n, a)\n",
    "solve_jit = jax.jit(solver.solve)"
   ]
  },
  {
   "cell_type": "code",
   "execution_count": 345,
   "metadata": {},
   "outputs": [
    {
     "name": "stdout",
     "output_type": "stream",
     "text": [
      "CPU times: user 23.8 ms, sys: 0 ns, total: 23.8 ms\n",
      "Wall time: 21.9 ms\n"
     ]
    },
    {
     "data": {
      "text/plain": [
       "DeviceArray(1.0000064, dtype=float32, weak_type=True)"
      ]
     },
     "execution_count": 345,
     "metadata": {},
     "output_type": "execute_result"
    }
   ],
   "source": [
    "%%time\n",
    "solve_jit(theta_0, v)"
   ]
  },
  {
   "cell_type": "code",
   "execution_count": 339,
   "metadata": {},
   "outputs": [
    {
     "name": "stdout",
     "output_type": "stream",
     "text": [
      "CPU times: user 866 ms, sys: 368 ms, total: 1.23 s\n",
      "Wall time: 701 ms\n"
     ]
    },
    {
     "data": {
      "text/plain": [
       "1.0000064085497085"
      ]
     },
     "execution_count": 339,
     "metadata": {},
     "output_type": "execute_result"
    }
   ],
   "source": [
    "%%time \n",
    "q_opt_qcp = qcp_solve(n, theta_0, v, a)\n",
    "q_opt_qcp"
   ]
  },
  {
   "cell_type": "code",
   "execution_count": 340,
   "metadata": {},
   "outputs": [
    {
     "name": "stdout",
     "output_type": "stream",
     "text": [
      "CPU times: user 498 ms, sys: 0 ns, total: 498 ms\n",
      "Wall time: 495 ms\n"
     ]
    },
    {
     "name": "stderr",
     "output_type": "stream",
     "text": [
      "/home/jhyang/mambaforge/envs/confirm/lib/python3.10/site-packages/cvxpy/problems/problem.py:1337: UserWarning: Solution may be inaccurate. Try another solver, adjusting the solver settings, or solve with verbose=True for more information.\n",
      "  warnings.warn(\n",
      "/home/jhyang/mambaforge/envs/confirm/lib/python3.10/site-packages/cvxpy/problems/problem.py:1337: UserWarning: Solution may be inaccurate. Try another solver, adjusting the solver settings, or solve with verbose=True for more information.\n",
      "  warnings.warn(\n",
      "/home/jhyang/mambaforge/envs/confirm/lib/python3.10/site-packages/cvxpy/problems/problem.py:1337: UserWarning: Solution may be inaccurate. Try another solver, adjusting the solver settings, or solve with verbose=True for more information.\n",
      "  warnings.warn(\n",
      "/home/jhyang/mambaforge/envs/confirm/lib/python3.10/site-packages/cvxpy/problems/problem.py:1337: UserWarning: Solution may be inaccurate. Try another solver, adjusting the solver settings, or solve with verbose=True for more information.\n",
      "  warnings.warn(\n",
      "/home/jhyang/mambaforge/envs/confirm/lib/python3.10/site-packages/cvxpy/problems/problem.py:1337: UserWarning: Solution may be inaccurate. Try another solver, adjusting the solver settings, or solve with verbose=True for more information.\n",
      "  warnings.warn(\n",
      "/home/jhyang/mambaforge/envs/confirm/lib/python3.10/site-packages/cvxpy/problems/problem.py:1337: UserWarning: Solution may be inaccurate. Try another solver, adjusting the solver settings, or solve with verbose=True for more information.\n",
      "  warnings.warn(\n",
      "/home/jhyang/mambaforge/envs/confirm/lib/python3.10/site-packages/cvxpy/problems/problem.py:1337: UserWarning: Solution may be inaccurate. Try another solver, adjusting the solver settings, or solve with verbose=True for more information.\n",
      "  warnings.warn(\n",
      "/home/jhyang/mambaforge/envs/confirm/lib/python3.10/site-packages/cvxpy/problems/problem.py:1337: UserWarning: Solution may be inaccurate. Try another solver, adjusting the solver settings, or solve with verbose=True for more information.\n",
      "  warnings.warn(\n",
      "/home/jhyang/mambaforge/envs/confirm/lib/python3.10/site-packages/cvxpy/problems/problem.py:1337: UserWarning: Solution may be inaccurate. Try another solver, adjusting the solver settings, or solve with verbose=True for more information.\n",
      "  warnings.warn(\n",
      "/home/jhyang/mambaforge/envs/confirm/lib/python3.10/site-packages/cvxpy/problems/problem.py:1337: UserWarning: Solution may be inaccurate. Try another solver, adjusting the solver settings, or solve with verbose=True for more information.\n",
      "  warnings.warn(\n",
      "/home/jhyang/mambaforge/envs/confirm/lib/python3.10/site-packages/cvxpy/problems/problem.py:1337: UserWarning: Solution may be inaccurate. Try another solver, adjusting the solver settings, or solve with verbose=True for more information.\n",
      "  warnings.warn(\n"
     ]
    }
   ],
   "source": [
    "%%time\n",
    "q_opt_qcp_cvxpy = opt_q_cp(n, theta_0, v, a)"
   ]
  },
  {
   "cell_type": "code",
   "execution_count": 341,
   "metadata": {},
   "outputs": [
    {
     "data": {
      "text/plain": [
       "[<matplotlib.lines.Line2D at 0x7f18c93e9a80>]"
      ]
     },
     "execution_count": 341,
     "metadata": {},
     "output_type": "execute_result"
    },
    {
     "data": {
      "image/png": "[encoded data removed]",
      "text/plain": [
       "<Figure size 640x480 with 1 Axes>"
      ]
     },
     "metadata": {},
     "output_type": "display_data"
    }
   ],
   "source": [
    "def objective(n, theta_0, v, a, q):\n",
    "    return (A(theta_0 + q*v, n) - A(theta_0, n) + a) / q\n",
    "\n",
    "qs = jnp.linspace(1.0001, 100, 100)\n",
    "phis = np.array([\n",
    "    objective(n, theta_0, v, a, q) for q in qs\n",
    "]) \n",
    "plt.plot(qs, phis)\n",
    "plt.plot(q_opt_qcp, objective(n, theta_0, v, a, q_opt_qcp), 'bo')\n",
    "plt.plot(q_opt_qcp_cvxpy, objective(n, theta_0, v, a, q_opt_qcp_cvxpy), 'r^')"
   ]
  },
  {
   "cell_type": "code",
   "execution_count": 316,
   "metadata": {},
   "outputs": [],
   "source": [
    "solver = QCPSolver(n, a)\n",
    "solve_vmap_jit = jax.jit(jax.vmap(solver.solve, in_axes=(0, 0)))\n",
    "\n",
    "def vectorize_run(key, m, d, a=-np.log(0.025), n=350):\n",
    "    theta_0 = jax.random.normal(key, (m, d))\n",
    "    _, key = jax.random.split(key)\n",
    "    v = 0.001 * jax.random.normal(key, (m, d))\n",
    "    return solve_vmap_jit(theta_0, v)"
   ]
  },
  {
   "cell_type": "code",
   "execution_count": 326,
   "metadata": {},
   "outputs": [
    {
     "name": "stdout",
     "output_type": "stream",
     "text": [
      "CPU times: user 699 ms, sys: 31.2 ms, total: 730 ms\n",
      "Wall time: 726 ms\n"
     ]
    }
   ],
   "source": [
    "%%time\n",
    "qs = vectorize_run(\n",
    "    jax.random.PRNGKey(10),\n",
    "    10000,\n",
    "    3,\n",
    ")"
   ]
  },
  {
   "cell_type": "code",
   "execution_count": 328,
   "metadata": {},
   "outputs": [
    {
     "data": {
      "text/plain": [
       "(array([4.690e+03, 3.491e+03, 1.112e+03, 3.140e+02, 1.500e+02, 9.200e+01,\n",
       "        5.400e+01, 2.400e+01, 1.600e+01, 1.300e+01, 6.000e+00, 9.000e+00,\n",
       "        5.000e+00, 3.000e+00, 3.000e+00, 2.000e+00, 3.000e+00, 2.000e+00,\n",
       "        2.000e+00, 1.000e+00, 1.000e+00, 0.000e+00, 3.000e+00, 1.000e+00,\n",
       "        1.000e+00, 1.000e+00, 0.000e+00, 0.000e+00, 0.000e+00, 1.000e+00]),\n",
       " array([  39.17818069,  123.60180664,  208.0254364 ,  292.44906616,\n",
       "         376.87268066,  461.29632568,  545.71990967,  630.14355469,\n",
       "         714.56719971,  798.99084473,  883.41442871,  967.83807373,\n",
       "        1052.26171875, 1136.68530273, 1221.10888672, 1305.53259277,\n",
       "        1389.95617676, 1474.37988281, 1558.8034668 , 1643.22705078,\n",
       "        1727.65075684, 1812.07434082, 1896.4979248 , 1980.92163086,\n",
       "        2065.34521484, 2149.76879883, 2234.19238281, 2318.6159668 ,\n",
       "        2403.03979492, 2487.46337891, 2571.88696289]),\n",
       " <BarContainer object of 30 artists>)"
      ]
     },
     "execution_count": 328,
     "metadata": {},
     "output_type": "execute_result"
    },
    {
     "data": {
      "image/png": "[encoded data removed]",
      "text/plain": [
       "<Figure size 640x480 with 1 Axes>"
      ]
     },
     "metadata": {},
     "output_type": "display_data"
    }
   ],
   "source": [
    "plt.hist(qs, bins=30)"
   ]
  },
  {
   "cell_type": "markdown",
   "metadata": {},
   "source": [
    "## Optimizing q for Implicit Exponential Holder Bound"
   ]
  },
  {
   "cell_type": "code",
   "execution_count": 354,
   "metadata": {},
   "outputs": [],
   "source": [
    "def objective_impl(n, theta_0, v, alpha, q):\n",
    "    return (\n",
    "        (A(theta_0 + q * v, n) - A(theta_0, n))\n",
    "        - q * ((A(theta_0 + v, n) - A(theta_0, n)) + np.log(alpha))\n",
    "    ) / (q-1)\n",
    "    \n",
    "def qcp_solve(n, theta_0, v, alpha):\n",
    "    shift = (A(theta_0 + v, n) - A(theta_0, n)) + np.log(alpha)\n",
    "    q = cp.Variable(pos=True)\n",
    "    objective_fn = (\n",
    "        (A_cp(theta_0 + (q+1) * v, n) - A(theta_0, n))\n",
    "        - (q+1) * shift\n",
    "    ) / q\n",
    "    objective = cp.Minimize(objective_fn)\n",
    "    problem = cp.Problem(objective)\n",
    "    min = 0\n",
    "    max = n * v - shift\n",
    "    problem.solve(qcp=True, low=min+1e-6, high=max)\n",
    "    return q.value + 1, problem.value"
   ]
  },
  {
   "cell_type": "code",
   "execution_count": 161,
   "metadata": {},
   "outputs": [],
   "source": [
    "n = 350\n",
    "theta_0 = -1\n",
    "vs = np.linspace(0, 1, 100)\n",
    "alpha = 0.025"
   ]
  },
  {
   "cell_type": "code",
   "execution_count": 162,
   "metadata": {},
   "outputs": [
    {
     "name": "stderr",
     "output_type": "stream",
     "text": [
      "/Users/jhyang/opt/miniconda3/envs/confirm/lib/python3.10/site-packages/cvxpy/problems/problem.py:1337: UserWarning: Solution may be inaccurate. Try another solver, adjusting the solver settings, or solve with verbose=True for more information.\n",
      "  warnings.warn(\n",
      "/Users/jhyang/opt/miniconda3/envs/confirm/lib/python3.10/site-packages/cvxpy/problems/problem.py:1337: UserWarning: Solution may be inaccurate. Try another solver, adjusting the solver settings, or solve with verbose=True for more information.\n",
      "  warnings.warn(\n",
      "/Users/jhyang/opt/miniconda3/envs/confirm/lib/python3.10/site-packages/cvxpy/problems/problem.py:1337: UserWarning: Solution may be inaccurate. Try another solver, adjusting the solver settings, or solve with verbose=True for more information.\n",
      "  warnings.warn(\n"
     ]
    },
    {
     "data": {
      "text/plain": [
       "[<matplotlib.lines.Line2D at 0x28c21d480>]"
      ]
     },
     "execution_count": 162,
     "metadata": {},
     "output_type": "execute_result"
    },
    {
     "data": {
      "image/png": "[encoded data removed]",
      "text/plain": [
       "<Figure size 432x288 with 1 Axes>"
      ]
     },
     "metadata": {
      "needs_background": "light"
     },
     "output_type": "display_data"
    }
   ],
   "source": [
    "# cvxpy method\n",
    "v = vs[2]\n",
    "opt_q, opt_loss = qcp_solve(n, theta_0, v, alpha)\n",
    "\n",
    "# brute force search method\n",
    "qs = np.linspace(1.3, 100, 1000)\n",
    "objs = np.array([objective(n, theta_0, v, alpha, q) for q in qs])\n",
    "i_min = np.argmin(objs)\n",
    "\n",
    "# plot\n",
    "plt.plot(qs, objs)\n",
    "plt.plot(qs[i_min], objs[i_min], 'r.')\n",
    "plt.plot(opt_q, opt_loss, 'b.')"
   ]
  }
 ],
 "metadata": {
  "kernelspec": {
   "display_name": "Python 3.10.6 ('confirm')",
   "language": "python",
   "name": "python3"
  },
  "language_info": {
   "codemirror_mode": {
    "name": "ipython",
    "version": 3
   },
   "file_extension": ".py",
   "mimetype": "text/x-python",
   "name": "python",
   "nbconvert_exporter": "python",
   "pygments_lexer": "ipython3",
   "version": "3.10.6"
  },
  "orig_nbformat": 4,
  "vscode": {
   "interpreter": {
    "hash": "5d574717a19d12573763700bcd6833eaae2108879723021a1c549979ef70be90"
   }
  }
 },
 "nbformat": 4,
 "nbformat_minor": 2
}
