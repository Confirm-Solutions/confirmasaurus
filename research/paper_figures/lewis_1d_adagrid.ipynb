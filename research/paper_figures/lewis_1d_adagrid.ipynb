{
 "cells": [
  {
   "cell_type": "code",
   "execution_count": 42,
   "metadata": {},
   "outputs": [
    {
     "name": "stdout",
     "output_type": "stream",
     "text": [
      "The autoreload extension is already loaded. To reload it, use:\n",
      "  %reload_ext autoreload\n"
     ]
    }
   ],
   "source": [
    "import confirm.outlaw.nb_util as nb_util\n",
    "\n",
    "nb_util.setup_nb()\n",
    "import jax\n",
    "import numpy as np\n",
    "import matplotlib.pyplot as plt\n",
    "from confirm.lewislib import lewis\n",
    "import confirm.imprint as ip"
   ]
  },
  {
   "cell_type": "code",
   "execution_count": 43,
   "metadata": {},
   "outputs": [],
   "source": [
    "name = \"1d_slice\"\n",
    "params = {\n",
    "    \"n_arms\": 4,\n",
    "    \"n_stage_1\": 50,\n",
    "    \"n_stage_2\": 100,\n",
    "    \"n_stage_1_interims\": 2,\n",
    "    \"n_stage_1_add_per_interim\": 100,\n",
    "    \"n_stage_2_add_per_interim\": 100,\n",
    "    \"stage_1_futility_threshold\": 0.15,\n",
    "    \"stage_1_efficacy_threshold\": 0.7,\n",
    "    \"stage_2_futility_threshold\": 0.2,\n",
    "    \"stage_2_efficacy_threshold\": 0.95,\n",
    "    \"inter_stage_futility_threshold\": 0.6,\n",
    "    \"posterior_difference_threshold\": 0,\n",
    "    \"rejection_threshold\": 0.05,\n",
    "    \"key\": jax.random.PRNGKey(0),\n",
    "    \"n_table_pts\": 20,\n",
    "    \"n_pr_sims\": 100,\n",
    "    \"n_sig2_sims\": 20,\n",
    "    \"batch_size\": int(2**12),\n",
    "    \"cache_tables\": f\"./{name}/lei_cache.pkl\",\n",
    "}"
   ]
  },
  {
   "cell_type": "code",
   "execution_count": 44,
   "metadata": {},
   "outputs": [],
   "source": [
    "import os\n",
    "import time\n",
    "import modal\n",
    "import pandas as pd\n",
    "import confirm.cloud.modal_util as modal_util\n",
    "\n",
    "stub = modal.Stub(\"confirm\")\n",
    "\n",
    "img = modal_util.get_image()\n",
    "\n",
    "\n",
    "@stub.function(\n",
    "    image=img,\n",
    "    gpu=modal.gpu.A100(),\n",
    "    retries=0,\n",
    "    mounts=modal.create_package_mounts([\"confirm\"]),\n",
    "    timeout=60 * 60 * 2,\n",
    ")\n",
    "def cloud_validate(g, *, K, params):\n",
    "    start = time.time()\n",
    "    rej_df = ip.validate(\n",
    "        lewis.Lewis45Model,\n",
    "        g,\n",
    "        lam=0.06253,\n",
    "        K=K,\n",
    "        tile_batch_size=128,\n",
    "        model_kwargs=params,\n",
    "    )\n",
    "    print(time.time() - start)\n",
    "    return g.add_cols(rej_df)"
   ]
  },
  {
   "cell_type": "code",
   "execution_count": 45,
   "metadata": {},
   "outputs": [],
   "source": [
    "g = ip.cartesian_grid([-1, -2], [1, -1], n=[10, 400]).concat(\n",
    "    ip.cartesian_grid([-1, -4], [1, -2], n=[10, 400]),\n",
    "    ip.cartesian_grid([-1, -8], [1, -4], n=[10, 400]),\n",
    "    ip.cartesian_grid([-1, -10], [1, -8], n=[10, 100]),\n",
    ")\n",
    "g.df[\"theta3\"] = g.df[\"theta1\"]\n",
    "g.df[\"theta1\"] = g.df[\"theta0\"]\n",
    "g.df[\"theta2\"] = g.df[\"theta0\"]\n",
    "g.df[\"radii3\"] = g.df[\"radii1\"]\n",
    "g.df[\"radii0\"] = 0\n",
    "g.df[\"radii1\"] = 0\n",
    "g.df[\"radii2\"] = 0\n",
    "g.df[\"null_truth0\"] = True\n",
    "g.df[\"null_truth1\"] = True\n",
    "g.df[\"null_truth2\"] = True"
   ]
  },
  {
   "cell_type": "code",
   "execution_count": 46,
   "metadata": {},
   "outputs": [
    {
     "data": {
      "text/plain": [
       "(13000, 15)"
      ]
     },
     "execution_count": 46,
     "metadata": {},
     "output_type": "execute_result"
    }
   ],
   "source": [
    "g.df.shape"
   ]
  },
  {
   "cell_type": "code",
   "execution_count": 5,
   "metadata": {},
   "outputs": [],
   "source": [
    "# import pandas as pd\n",
    "# rej_df = pd.read_parquet(\"./1d_slice/1d_orthogonal_ada.parquet\")\n",
    "# rej_df\n",
    "# boundcost = rej_df['tie_bound'] - rej_df['tie_cp_bound']\n",
    "# refine = boundcost > 0.001\n",
    "# g_refine = g.subset(refine).refine()\n",
    "# g_new = g_refine.concat(g.subset(~refine))\n",
    "# new_t3 = np.sort(np.unique(g_new.df['theta3']))\n",
    "# new_t3.shape[0]\n",
    "# plt.plot(new_t3, '*')\n",
    "# plt.show()"
   ]
  },
  {
   "cell_type": "code",
   "execution_count": 12,
   "metadata": {},
   "outputs": [
    {
     "data": {
      "application/vnd.jupyter.widget-view+json": {
       "model_id": "5935d3dd6c7e48cca80340e55d761629",
       "version_major": 2,
       "version_minor": 0
      },
      "text/plain": [
       "Output()"
      ]
     },
     "metadata": {},
     "output_type": "display_data"
    },
    {
     "data": {
      "text/html": [
       "<pre style=\"white-space:pre;overflow-x:auto;line-height:normal;font-family:Menlo,'DejaVu Sans Mono',consolas,'Courier New',monospace\"></pre>\n"
      ],
      "text/plain": []
     },
     "metadata": {},
     "output_type": "display_data"
    },
    {
     "data": {
      "text/html": [
       "<pre style=\"white-space:pre;overflow-x:auto;line-height:normal;font-family:Menlo,'DejaVu Sans Mono',consolas,'Courier New',monospace\"><span style=\"color: #008000; text-decoration-color: #008000\">✓</span> Initialized. <span style=\"color: #b2b2b2; text-decoration-color: #b2b2b2\">View app at </span><span style=\"color: #b2b2b2; text-decoration-color: #b2b2b2; text-decoration: underline\">https://modal.com/apps/ap-PBgJxQO27hBdpLqbECUUpo</span>\n",
       "</pre>\n"
      ],
      "text/plain": [
       "\u001b[32m✓\u001b[0m Initialized. \u001b[38;5;249mView app at \u001b[0m\u001b[4;38;5;249mhttps://modal.com/apps/ap-PBgJxQO27hBdpLqbECUUpo\u001b[0m\n"
      ]
     },
     "metadata": {},
     "output_type": "display_data"
    },
    {
     "data": {
      "application/vnd.jupyter.widget-view+json": {
       "model_id": "ddf886523ff84149a9c7d54aa9c6ef33",
       "version_major": 2,
       "version_minor": 0
      },
      "text/plain": [
       "Output()"
      ]
     },
     "metadata": {},
     "output_type": "display_data"
    },
    {
     "data": {
      "text/html": [
       "<pre style=\"white-space:pre;overflow-x:auto;line-height:normal;font-family:Menlo,'DejaVu Sans Mono',consolas,'Courier New',monospace\"></pre>\n"
      ],
      "text/plain": []
     },
     "metadata": {},
     "output_type": "display_data"
    },
    {
     "data": {
      "text/html": [
       "<pre style=\"white-space:pre;overflow-x:auto;line-height:normal;font-family:Menlo,'DejaVu Sans Mono',consolas,'Courier New',monospace\"><span style=\"color: #008000; text-decoration-color: #008000\">✓</span> Created objects.\n",
       "<span style=\"color: #808080; text-decoration-color: #808080\">├── </span><span style=\"color: #008000; text-decoration-color: #008000\">🔨</span> Created cloud_validate.\n",
       "<span style=\"color: #808080; text-decoration-color: #808080\">└── </span><span style=\"color: #008000; text-decoration-color: #008000\">🔨</span> Mounted /Users/tbent/confirm/confirmasaurus/confirm at /pkg/confirm\n",
       "</pre>\n"
      ],
      "text/plain": [
       "\u001b[32m✓\u001b[0m Created objects.\n",
       "\u001b[38;5;244m├── \u001b[0m\u001b[32m🔨\u001b[0m Created cloud_validate.\n",
       "\u001b[38;5;244m└── \u001b[0m\u001b[32m🔨\u001b[0m Mounted /Users/tbent/confirm/confirmasaurus/confirm at /pkg/confirm\n"
      ]
     },
     "metadata": {},
     "output_type": "display_data"
    },
    {
     "data": {
      "application/vnd.jupyter.widget-view+json": {
       "model_id": "bc72521d94dd4df2859d2eff9b297f46",
       "version_major": 2,
       "version_minor": 0
      },
      "text/plain": [
       "Output()"
      ]
     },
     "metadata": {},
     "output_type": "display_data"
    },
    {
     "data": {
      "text/html": [
       "<pre style=\"white-space:pre;overflow-x:auto;line-height:normal;font-family:Menlo,'DejaVu Sans Mono',consolas,'Courier New',monospace\"><span style=\"color: #000080; text-decoration-color: #000080\">148.8567566871643\n",
       "</span></pre>\n"
      ],
      "text/plain": [
       "\u001b[34m148.8567566871643\n",
       "\u001b[0m"
      ]
     },
     "metadata": {},
     "output_type": "display_data"
    },
    {
     "data": {
      "text/html": [
       "<pre style=\"white-space:pre;overflow-x:auto;line-height:normal;font-family:Menlo,'DejaVu Sans Mono',consolas,'Courier New',monospace\"><span style=\"color: #000080; text-decoration-color: #000080\">149.31953930854797\n",
       "</span></pre>\n"
      ],
      "text/plain": [
       "\u001b[34m149.31953930854797\n",
       "\u001b[0m"
      ]
     },
     "metadata": {},
     "output_type": "display_data"
    },
    {
     "data": {
      "text/html": [
       "<pre style=\"white-space:pre;overflow-x:auto;line-height:normal;font-family:Menlo,'DejaVu Sans Mono',consolas,'Courier New',monospace\"><span style=\"color: #000080; text-decoration-color: #000080\">149.0628068447113\n",
       "</span></pre>\n"
      ],
      "text/plain": [
       "\u001b[34m149.0628068447113\n",
       "\u001b[0m"
      ]
     },
     "metadata": {},
     "output_type": "display_data"
    },
    {
     "data": {
      "text/html": [
       "<pre style=\"white-space:pre;overflow-x:auto;line-height:normal;font-family:Menlo,'DejaVu Sans Mono',consolas,'Courier New',monospace\"><span style=\"color: #000080; text-decoration-color: #000080\">149.45700407028198\n",
       "</span></pre>\n"
      ],
      "text/plain": [
       "\u001b[34m149.45700407028198\n",
       "\u001b[0m"
      ]
     },
     "metadata": {},
     "output_type": "display_data"
    },
    {
     "data": {
      "text/html": [
       "<pre style=\"white-space:pre;overflow-x:auto;line-height:normal;font-family:Menlo,'DejaVu Sans Mono',consolas,'Courier New',monospace\"><span style=\"color: #000080; text-decoration-color: #000080\">150.09921622276306\n",
       "</span></pre>\n"
      ],
      "text/plain": [
       "\u001b[34m150.09921622276306\n",
       "\u001b[0m"
      ]
     },
     "metadata": {},
     "output_type": "display_data"
    },
    {
     "data": {
      "text/html": [
       "<pre style=\"white-space:pre;overflow-x:auto;line-height:normal;font-family:Menlo,'DejaVu Sans Mono',consolas,'Courier New',monospace\"><span style=\"color: #000080; text-decoration-color: #000080\">150.49510192871094\n",
       "</span></pre>\n"
      ],
      "text/plain": [
       "\u001b[34m150.49510192871094\n",
       "\u001b[0m"
      ]
     },
     "metadata": {},
     "output_type": "display_data"
    },
    {
     "data": {
      "text/html": [
       "<pre style=\"white-space:pre;overflow-x:auto;line-height:normal;font-family:Menlo,'DejaVu Sans Mono',consolas,'Courier New',monospace\"><span style=\"color: #000080; text-decoration-color: #000080\">151.2924509048462\n",
       "</span></pre>\n"
      ],
      "text/plain": [
       "\u001b[34m151.2924509048462\n",
       "\u001b[0m"
      ]
     },
     "metadata": {},
     "output_type": "display_data"
    },
    {
     "data": {
      "text/html": [
       "<pre style=\"white-space:pre;overflow-x:auto;line-height:normal;font-family:Menlo,'DejaVu Sans Mono',consolas,'Courier New',monospace\"><span style=\"color: #000080; text-decoration-color: #000080\">151.65242505073547\n",
       "</span></pre>\n"
      ],
      "text/plain": [
       "\u001b[34m151.65242505073547\n",
       "\u001b[0m"
      ]
     },
     "metadata": {},
     "output_type": "display_data"
    },
    {
     "data": {
      "text/html": [
       "<pre style=\"white-space:pre;overflow-x:auto;line-height:normal;font-family:Menlo,'DejaVu Sans Mono',consolas,'Courier New',monospace\"><span style=\"color: #000080; text-decoration-color: #000080\">152.3472957611084\n",
       "</span></pre>\n"
      ],
      "text/plain": [
       "\u001b[34m152.3472957611084\n",
       "\u001b[0m"
      ]
     },
     "metadata": {},
     "output_type": "display_data"
    },
    {
     "data": {
      "text/html": [
       "<pre style=\"white-space:pre;overflow-x:auto;line-height:normal;font-family:Menlo,'DejaVu Sans Mono',consolas,'Courier New',monospace\"><span style=\"color: #000080; text-decoration-color: #000080\">117.488938331604\n",
       "</span></pre>\n"
      ],
      "text/plain": [
       "\u001b[34m117.488938331604\n",
       "\u001b[0m"
      ]
     },
     "metadata": {},
     "output_type": "display_data"
    },
    {
     "data": {
      "text/html": [
       "<pre style=\"white-space:pre;overflow-x:auto;line-height:normal;font-family:Menlo,'DejaVu Sans Mono',consolas,'Courier New',monospace\"><span style=\"color: #000080; text-decoration-color: #000080\">120.01974129676819\n",
       "</span></pre>\n"
      ],
      "text/plain": [
       "\u001b[34m120.01974129676819\n",
       "\u001b[0m"
      ]
     },
     "metadata": {},
     "output_type": "display_data"
    },
    {
     "data": {
      "text/html": [
       "<pre style=\"white-space:pre;overflow-x:auto;line-height:normal;font-family:Menlo,'DejaVu Sans Mono',consolas,'Courier New',monospace\"><span style=\"color: #000080; text-decoration-color: #000080\">120.48123025894165\n",
       "</span></pre>\n"
      ],
      "text/plain": [
       "\u001b[34m120.48123025894165\n",
       "\u001b[0m"
      ]
     },
     "metadata": {},
     "output_type": "display_data"
    },
    {
     "data": {
      "text/html": [
       "<pre style=\"white-space:pre;overflow-x:auto;line-height:normal;font-family:Menlo,'DejaVu Sans Mono',consolas,'Courier New',monospace\"><span style=\"color: #000080; text-decoration-color: #000080\">120.84148049354553\n",
       "</span></pre>\n"
      ],
      "text/plain": [
       "\u001b[34m120.84148049354553\n",
       "\u001b[0m"
      ]
     },
     "metadata": {},
     "output_type": "display_data"
    },
    {
     "data": {
      "text/html": [
       "<pre style=\"white-space:pre;overflow-x:auto;line-height:normal;font-family:Menlo,'DejaVu Sans Mono',consolas,'Courier New',monospace\"><span style=\"color: #000080; text-decoration-color: #000080\">119.5331859588623\n",
       "</span></pre>\n"
      ],
      "text/plain": [
       "\u001b[34m119.5331859588623\n",
       "\u001b[0m"
      ]
     },
     "metadata": {},
     "output_type": "display_data"
    },
    {
     "data": {
      "text/html": [
       "<pre style=\"white-space:pre;overflow-x:auto;line-height:normal;font-family:Menlo,'DejaVu Sans Mono',consolas,'Courier New',monospace\"><span style=\"color: #000080; text-decoration-color: #000080\">121.00506472587585\n",
       "</span></pre>\n"
      ],
      "text/plain": [
       "\u001b[34m121.00506472587585\n",
       "\u001b[0m"
      ]
     },
     "metadata": {},
     "output_type": "display_data"
    },
    {
     "data": {
      "text/html": [
       "<pre style=\"white-space:pre;overflow-x:auto;line-height:normal;font-family:Menlo,'DejaVu Sans Mono',consolas,'Courier New',monospace\"><span style=\"color: #000080; text-decoration-color: #000080\">119.574298620224\n",
       "</span></pre>\n"
      ],
      "text/plain": [
       "\u001b[34m119.574298620224\n",
       "\u001b[0m"
      ]
     },
     "metadata": {},
     "output_type": "display_data"
    },
    {
     "data": {
      "text/html": [
       "<pre style=\"white-space:pre;overflow-x:auto;line-height:normal;font-family:Menlo,'DejaVu Sans Mono',consolas,'Courier New',monospace\"><span style=\"color: #000080; text-decoration-color: #000080\">120.39628434181213\n",
       "</span></pre>\n"
      ],
      "text/plain": [
       "\u001b[34m120.39628434181213\n",
       "\u001b[0m"
      ]
     },
     "metadata": {},
     "output_type": "display_data"
    },
    {
     "data": {
      "text/html": [
       "<pre style=\"white-space:pre;overflow-x:auto;line-height:normal;font-family:Menlo,'DejaVu Sans Mono',consolas,'Courier New',monospace\"><span style=\"color: #000080; text-decoration-color: #000080\">121.26166725158691\n",
       "</span></pre>\n"
      ],
      "text/plain": [
       "\u001b[34m121.26166725158691\n",
       "\u001b[0m"
      ]
     },
     "metadata": {},
     "output_type": "display_data"
    },
    {
     "data": {
      "text/html": [
       "<pre style=\"white-space:pre;overflow-x:auto;line-height:normal;font-family:Menlo,'DejaVu Sans Mono',consolas,'Courier New',monospace\"><span style=\"color: #000080; text-decoration-color: #000080\">118.70394277572632\n",
       "</span></pre>\n"
      ],
      "text/plain": [
       "\u001b[34m118.70394277572632\n",
       "\u001b[0m"
      ]
     },
     "metadata": {},
     "output_type": "display_data"
    },
    {
     "data": {
      "text/html": [
       "<pre style=\"white-space:pre;overflow-x:auto;line-height:normal;font-family:Menlo,'DejaVu Sans Mono',consolas,'Courier New',monospace\"><span style=\"color: #000080; text-decoration-color: #000080\">118.51146793365479\n",
       "</span></pre>\n"
      ],
      "text/plain": [
       "\u001b[34m118.51146793365479\n",
       "\u001b[0m"
      ]
     },
     "metadata": {},
     "output_type": "display_data"
    },
    {
     "data": {
      "text/html": [
       "<pre style=\"white-space:pre;overflow-x:auto;line-height:normal;font-family:Menlo,'DejaVu Sans Mono',consolas,'Courier New',monospace\"><span style=\"color: #000080; text-decoration-color: #000080\">119.58072662353516\n",
       "</span></pre>\n"
      ],
      "text/plain": [
       "\u001b[34m119.58072662353516\n",
       "\u001b[0m"
      ]
     },
     "metadata": {},
     "output_type": "display_data"
    },
    {
     "data": {
      "text/html": [
       "<pre style=\"white-space:pre;overflow-x:auto;line-height:normal;font-family:Menlo,'DejaVu Sans Mono',consolas,'Courier New',monospace\"><span style=\"color: #000080; text-decoration-color: #000080\">119.8971529006958\n",
       "</span></pre>\n"
      ],
      "text/plain": [
       "\u001b[34m119.8971529006958\n",
       "\u001b[0m"
      ]
     },
     "metadata": {},
     "output_type": "display_data"
    },
    {
     "data": {
      "text/html": [
       "<pre style=\"white-space:pre;overflow-x:auto;line-height:normal;font-family:Menlo,'DejaVu Sans Mono',consolas,'Courier New',monospace\"><span style=\"color: #000080; text-decoration-color: #000080\">120.42080640792847\n",
       "</span></pre>\n"
      ],
      "text/plain": [
       "\u001b[34m120.42080640792847\n",
       "\u001b[0m"
      ]
     },
     "metadata": {},
     "output_type": "display_data"
    },
    {
     "data": {
      "text/html": [
       "<pre style=\"white-space:pre;overflow-x:auto;line-height:normal;font-family:Menlo,'DejaVu Sans Mono',consolas,'Courier New',monospace\"></pre>\n"
      ],
      "text/plain": []
     },
     "metadata": {},
     "output_type": "display_data"
    },
    {
     "data": {
      "text/html": [
       "<pre style=\"white-space:pre;overflow-x:auto;line-height:normal;font-family:Menlo,'DejaVu Sans Mono',consolas,'Courier New',monospace\"><span style=\"color: #008000; text-decoration-color: #008000\">✓</span> App completed.\n",
       "</pre>\n"
      ],
      "text/plain": [
       "\u001b[32m✓\u001b[0m App completed.\n"
      ]
     },
     "metadata": {},
     "output_type": "display_data"
    }
   ],
   "source": [
    "n_chunks = 50\n",
    "with stub.run():\n",
    "    i = 27\n",
    "    gs = [ip.grid.Grid(d, g.null_hypos) for d in np.array_split(g.df, n_chunks)][i:]\n",
    "    rej_gs = []\n",
    "    for rej_g in cloud_validate.map(\n",
    "        gs, kwargs={\"K\": int(1.5 * 2**19), \"params\": params}, order_outputs=True\n",
    "    ):\n",
    "        rej_g.df.to_parquet(f\"./1d_slice/chunk_{i}.parquet\")\n",
    "        i += 1\n",
    "        rej_gs.append(rej_g)"
   ]
  },
  {
   "cell_type": "code",
   "execution_count": 50,
   "metadata": {},
   "outputs": [
    {
     "name": "stderr",
     "output_type": "stream",
     "text": [
      "/var/folders/mt/cmys2v_143q1kpcrdt5wcdyr0000gn/T/ipykernel_7536/3011929630.py:6: FutureWarning: In a future version, object-dtype columns with all-bool values will not be included in reductions with bool_only=True. Explicitly cast to bool dtype instead.\n",
      "  rej_gs.append(pd.concat(\n",
      "/var/folders/mt/cmys2v_143q1kpcrdt5wcdyr0000gn/T/ipykernel_7536/3011929630.py:6: FutureWarning: In a future version, object-dtype columns with all-bool values will not be included in reductions with bool_only=True. Explicitly cast to bool dtype instead.\n",
      "  rej_gs.append(pd.concat(\n",
      "/var/folders/mt/cmys2v_143q1kpcrdt5wcdyr0000gn/T/ipykernel_7536/3011929630.py:6: FutureWarning: In a future version, object-dtype columns with all-bool values will not be included in reductions with bool_only=True. Explicitly cast to bool dtype instead.\n",
      "  rej_gs.append(pd.concat(\n",
      "/var/folders/mt/cmys2v_143q1kpcrdt5wcdyr0000gn/T/ipykernel_7536/3011929630.py:6: FutureWarning: In a future version, object-dtype columns with all-bool values will not be included in reductions with bool_only=True. Explicitly cast to bool dtype instead.\n",
      "  rej_gs.append(pd.concat(\n",
      "/var/folders/mt/cmys2v_143q1kpcrdt5wcdyr0000gn/T/ipykernel_7536/3011929630.py:6: FutureWarning: In a future version, object-dtype columns with all-bool values will not be included in reductions with bool_only=True. Explicitly cast to bool dtype instead.\n",
      "  rej_gs.append(pd.concat(\n",
      "/var/folders/mt/cmys2v_143q1kpcrdt5wcdyr0000gn/T/ipykernel_7536/3011929630.py:6: FutureWarning: In a future version, object-dtype columns with all-bool values will not be included in reductions with bool_only=True. Explicitly cast to bool dtype instead.\n",
      "  rej_gs.append(pd.concat(\n",
      "/var/folders/mt/cmys2v_143q1kpcrdt5wcdyr0000gn/T/ipykernel_7536/3011929630.py:6: FutureWarning: In a future version, object-dtype columns with all-bool values will not be included in reductions with bool_only=True. Explicitly cast to bool dtype instead.\n",
      "  rej_gs.append(pd.concat(\n",
      "/var/folders/mt/cmys2v_143q1kpcrdt5wcdyr0000gn/T/ipykernel_7536/3011929630.py:6: FutureWarning: In a future version, object-dtype columns with all-bool values will not be included in reductions with bool_only=True. Explicitly cast to bool dtype instead.\n",
      "  rej_gs.append(pd.concat(\n",
      "/var/folders/mt/cmys2v_143q1kpcrdt5wcdyr0000gn/T/ipykernel_7536/3011929630.py:6: FutureWarning: In a future version, object-dtype columns with all-bool values will not be included in reductions with bool_only=True. Explicitly cast to bool dtype instead.\n",
      "  rej_gs.append(pd.concat(\n",
      "/var/folders/mt/cmys2v_143q1kpcrdt5wcdyr0000gn/T/ipykernel_7536/3011929630.py:6: FutureWarning: In a future version, object-dtype columns with all-bool values will not be included in reductions with bool_only=True. Explicitly cast to bool dtype instead.\n",
      "  rej_gs.append(pd.concat(\n",
      "/var/folders/mt/cmys2v_143q1kpcrdt5wcdyr0000gn/T/ipykernel_7536/3011929630.py:6: FutureWarning: In a future version, object-dtype columns with all-bool values will not be included in reductions with bool_only=True. Explicitly cast to bool dtype instead.\n",
      "  rej_gs.append(pd.concat(\n",
      "/var/folders/mt/cmys2v_143q1kpcrdt5wcdyr0000gn/T/ipykernel_7536/3011929630.py:6: FutureWarning: In a future version, object-dtype columns with all-bool values will not be included in reductions with bool_only=True. Explicitly cast to bool dtype instead.\n",
      "  rej_gs.append(pd.concat(\n",
      "/var/folders/mt/cmys2v_143q1kpcrdt5wcdyr0000gn/T/ipykernel_7536/3011929630.py:6: FutureWarning: In a future version, object-dtype columns with all-bool values will not be included in reductions with bool_only=True. Explicitly cast to bool dtype instead.\n",
      "  rej_gs.append(pd.concat(\n",
      "/var/folders/mt/cmys2v_143q1kpcrdt5wcdyr0000gn/T/ipykernel_7536/3011929630.py:6: FutureWarning: In a future version, object-dtype columns with all-bool values will not be included in reductions with bool_only=True. Explicitly cast to bool dtype instead.\n",
      "  rej_gs.append(pd.concat(\n",
      "/var/folders/mt/cmys2v_143q1kpcrdt5wcdyr0000gn/T/ipykernel_7536/3011929630.py:6: FutureWarning: In a future version, object-dtype columns with all-bool values will not be included in reductions with bool_only=True. Explicitly cast to bool dtype instead.\n",
      "  rej_gs.append(pd.concat(\n",
      "/var/folders/mt/cmys2v_143q1kpcrdt5wcdyr0000gn/T/ipykernel_7536/3011929630.py:6: FutureWarning: In a future version, object-dtype columns with all-bool values will not be included in reductions with bool_only=True. Explicitly cast to bool dtype instead.\n",
      "  rej_gs.append(pd.concat(\n",
      "/var/folders/mt/cmys2v_143q1kpcrdt5wcdyr0000gn/T/ipykernel_7536/3011929630.py:6: FutureWarning: In a future version, object-dtype columns with all-bool values will not be included in reductions with bool_only=True. Explicitly cast to bool dtype instead.\n",
      "  rej_gs.append(pd.concat(\n",
      "/var/folders/mt/cmys2v_143q1kpcrdt5wcdyr0000gn/T/ipykernel_7536/3011929630.py:6: FutureWarning: In a future version, object-dtype columns with all-bool values will not be included in reductions with bool_only=True. Explicitly cast to bool dtype instead.\n",
      "  rej_gs.append(pd.concat(\n",
      "/var/folders/mt/cmys2v_143q1kpcrdt5wcdyr0000gn/T/ipykernel_7536/3011929630.py:6: FutureWarning: In a future version, object-dtype columns with all-bool values will not be included in reductions with bool_only=True. Explicitly cast to bool dtype instead.\n",
      "  rej_gs.append(pd.concat(\n",
      "/var/folders/mt/cmys2v_143q1kpcrdt5wcdyr0000gn/T/ipykernel_7536/3011929630.py:6: FutureWarning: In a future version, object-dtype columns with all-bool values will not be included in reductions with bool_only=True. Explicitly cast to bool dtype instead.\n",
      "  rej_gs.append(pd.concat(\n",
      "/var/folders/mt/cmys2v_143q1kpcrdt5wcdyr0000gn/T/ipykernel_7536/3011929630.py:6: FutureWarning: In a future version, object-dtype columns with all-bool values will not be included in reductions with bool_only=True. Explicitly cast to bool dtype instead.\n",
      "  rej_gs.append(pd.concat(\n",
      "/var/folders/mt/cmys2v_143q1kpcrdt5wcdyr0000gn/T/ipykernel_7536/3011929630.py:6: FutureWarning: In a future version, object-dtype columns with all-bool values will not be included in reductions with bool_only=True. Explicitly cast to bool dtype instead.\n",
      "  rej_gs.append(pd.concat(\n",
      "/var/folders/mt/cmys2v_143q1kpcrdt5wcdyr0000gn/T/ipykernel_7536/3011929630.py:6: FutureWarning: In a future version, object-dtype columns with all-bool values will not be included in reductions with bool_only=True. Explicitly cast to bool dtype instead.\n",
      "  rej_gs.append(pd.concat(\n",
      "/var/folders/mt/cmys2v_143q1kpcrdt5wcdyr0000gn/T/ipykernel_7536/3011929630.py:6: FutureWarning: In a future version, object-dtype columns with all-bool values will not be included in reductions with bool_only=True. Explicitly cast to bool dtype instead.\n",
      "  rej_gs.append(pd.concat(\n",
      "/var/folders/mt/cmys2v_143q1kpcrdt5wcdyr0000gn/T/ipykernel_7536/3011929630.py:6: FutureWarning: In a future version, object-dtype columns with all-bool values will not be included in reductions with bool_only=True. Explicitly cast to bool dtype instead.\n",
      "  rej_gs.append(pd.concat(\n",
      "/var/folders/mt/cmys2v_143q1kpcrdt5wcdyr0000gn/T/ipykernel_7536/3011929630.py:6: FutureWarning: In a future version, object-dtype columns with all-bool values will not be included in reductions with bool_only=True. Explicitly cast to bool dtype instead.\n",
      "  rej_gs.append(pd.concat(\n",
      "/var/folders/mt/cmys2v_143q1kpcrdt5wcdyr0000gn/T/ipykernel_7536/3011929630.py:6: FutureWarning: In a future version, object-dtype columns with all-bool values will not be included in reductions with bool_only=True. Explicitly cast to bool dtype instead.\n",
      "  rej_gs.append(pd.concat(\n",
      "/var/folders/mt/cmys2v_143q1kpcrdt5wcdyr0000gn/T/ipykernel_7536/3011929630.py:6: FutureWarning: In a future version, object-dtype columns with all-bool values will not be included in reductions with bool_only=True. Explicitly cast to bool dtype instead.\n",
      "  rej_gs.append(pd.concat(\n",
      "/var/folders/mt/cmys2v_143q1kpcrdt5wcdyr0000gn/T/ipykernel_7536/3011929630.py:6: FutureWarning: In a future version, object-dtype columns with all-bool values will not be included in reductions with bool_only=True. Explicitly cast to bool dtype instead.\n",
      "  rej_gs.append(pd.concat(\n",
      "/var/folders/mt/cmys2v_143q1kpcrdt5wcdyr0000gn/T/ipykernel_7536/3011929630.py:6: FutureWarning: In a future version, object-dtype columns with all-bool values will not be included in reductions with bool_only=True. Explicitly cast to bool dtype instead.\n",
      "  rej_gs.append(pd.concat(\n",
      "/var/folders/mt/cmys2v_143q1kpcrdt5wcdyr0000gn/T/ipykernel_7536/3011929630.py:6: FutureWarning: In a future version, object-dtype columns with all-bool values will not be included in reductions with bool_only=True. Explicitly cast to bool dtype instead.\n",
      "  rej_gs.append(pd.concat(\n",
      "/var/folders/mt/cmys2v_143q1kpcrdt5wcdyr0000gn/T/ipykernel_7536/3011929630.py:6: FutureWarning: In a future version, object-dtype columns with all-bool values will not be included in reductions with bool_only=True. Explicitly cast to bool dtype instead.\n",
      "  rej_gs.append(pd.concat(\n",
      "/var/folders/mt/cmys2v_143q1kpcrdt5wcdyr0000gn/T/ipykernel_7536/3011929630.py:6: FutureWarning: In a future version, object-dtype columns with all-bool values will not be included in reductions with bool_only=True. Explicitly cast to bool dtype instead.\n",
      "  rej_gs.append(pd.concat(\n",
      "/var/folders/mt/cmys2v_143q1kpcrdt5wcdyr0000gn/T/ipykernel_7536/3011929630.py:6: FutureWarning: In a future version, object-dtype columns with all-bool values will not be included in reductions with bool_only=True. Explicitly cast to bool dtype instead.\n",
      "  rej_gs.append(pd.concat(\n",
      "/var/folders/mt/cmys2v_143q1kpcrdt5wcdyr0000gn/T/ipykernel_7536/3011929630.py:6: FutureWarning: In a future version, object-dtype columns with all-bool values will not be included in reductions with bool_only=True. Explicitly cast to bool dtype instead.\n",
      "  rej_gs.append(pd.concat(\n",
      "/var/folders/mt/cmys2v_143q1kpcrdt5wcdyr0000gn/T/ipykernel_7536/3011929630.py:6: FutureWarning: In a future version, object-dtype columns with all-bool values will not be included in reductions with bool_only=True. Explicitly cast to bool dtype instead.\n",
      "  rej_gs.append(pd.concat(\n",
      "/var/folders/mt/cmys2v_143q1kpcrdt5wcdyr0000gn/T/ipykernel_7536/3011929630.py:6: FutureWarning: In a future version, object-dtype columns with all-bool values will not be included in reductions with bool_only=True. Explicitly cast to bool dtype instead.\n",
      "  rej_gs.append(pd.concat(\n",
      "/var/folders/mt/cmys2v_143q1kpcrdt5wcdyr0000gn/T/ipykernel_7536/3011929630.py:6: FutureWarning: In a future version, object-dtype columns with all-bool values will not be included in reductions with bool_only=True. Explicitly cast to bool dtype instead.\n",
      "  rej_gs.append(pd.concat(\n",
      "/var/folders/mt/cmys2v_143q1kpcrdt5wcdyr0000gn/T/ipykernel_7536/3011929630.py:6: FutureWarning: In a future version, object-dtype columns with all-bool values will not be included in reductions with bool_only=True. Explicitly cast to bool dtype instead.\n",
      "  rej_gs.append(pd.concat(\n",
      "/var/folders/mt/cmys2v_143q1kpcrdt5wcdyr0000gn/T/ipykernel_7536/3011929630.py:6: FutureWarning: In a future version, object-dtype columns with all-bool values will not be included in reductions with bool_only=True. Explicitly cast to bool dtype instead.\n",
      "  rej_gs.append(pd.concat(\n",
      "/var/folders/mt/cmys2v_143q1kpcrdt5wcdyr0000gn/T/ipykernel_7536/3011929630.py:6: FutureWarning: In a future version, object-dtype columns with all-bool values will not be included in reductions with bool_only=True. Explicitly cast to bool dtype instead.\n",
      "  rej_gs.append(pd.concat(\n",
      "/var/folders/mt/cmys2v_143q1kpcrdt5wcdyr0000gn/T/ipykernel_7536/3011929630.py:6: FutureWarning: In a future version, object-dtype columns with all-bool values will not be included in reductions with bool_only=True. Explicitly cast to bool dtype instead.\n",
      "  rej_gs.append(pd.concat(\n",
      "/var/folders/mt/cmys2v_143q1kpcrdt5wcdyr0000gn/T/ipykernel_7536/3011929630.py:6: FutureWarning: In a future version, object-dtype columns with all-bool values will not be included in reductions with bool_only=True. Explicitly cast to bool dtype instead.\n",
      "  rej_gs.append(pd.concat(\n",
      "/var/folders/mt/cmys2v_143q1kpcrdt5wcdyr0000gn/T/ipykernel_7536/3011929630.py:6: FutureWarning: In a future version, object-dtype columns with all-bool values will not be included in reductions with bool_only=True. Explicitly cast to bool dtype instead.\n",
      "  rej_gs.append(pd.concat(\n",
      "/var/folders/mt/cmys2v_143q1kpcrdt5wcdyr0000gn/T/ipykernel_7536/3011929630.py:6: FutureWarning: In a future version, object-dtype columns with all-bool values will not be included in reductions with bool_only=True. Explicitly cast to bool dtype instead.\n",
      "  rej_gs.append(pd.concat(\n",
      "/var/folders/mt/cmys2v_143q1kpcrdt5wcdyr0000gn/T/ipykernel_7536/3011929630.py:6: FutureWarning: In a future version, object-dtype columns with all-bool values will not be included in reductions with bool_only=True. Explicitly cast to bool dtype instead.\n",
      "  rej_gs.append(pd.concat(\n",
      "/var/folders/mt/cmys2v_143q1kpcrdt5wcdyr0000gn/T/ipykernel_7536/3011929630.py:6: FutureWarning: In a future version, object-dtype columns with all-bool values will not be included in reductions with bool_only=True. Explicitly cast to bool dtype instead.\n",
      "  rej_gs.append(pd.concat(\n",
      "/var/folders/mt/cmys2v_143q1kpcrdt5wcdyr0000gn/T/ipykernel_7536/3011929630.py:6: FutureWarning: In a future version, object-dtype columns with all-bool values will not be included in reductions with bool_only=True. Explicitly cast to bool dtype instead.\n",
      "  rej_gs.append(pd.concat(\n",
      "/var/folders/mt/cmys2v_143q1kpcrdt5wcdyr0000gn/T/ipykernel_7536/3011929630.py:6: FutureWarning: In a future version, object-dtype columns with all-bool values will not be included in reductions with bool_only=True. Explicitly cast to bool dtype instead.\n",
      "  rej_gs.append(pd.concat(\n",
      "/Users/tbent/confirm/confirmasaurus/confirm/imprint/grid.py:318: FutureWarning: In a future version, object-dtype columns with all-bool values will not be included in reductions with bool_only=True. Explicitly cast to bool dtype instead.\n",
      "  pd.concat((self.df, *[o.df for o in others]), axis=0, ignore_index=True),\n"
     ]
    }
   ],
   "source": [
    "rej_gs = []\n",
    "for i in range(n_chunks):\n",
    "    chunk_g = pd.read_parquet(f\"./1d_slice/chunk_{i}.parquet\")\n",
    "    n_rows = chunk_g.shape[0]\n",
    "    if i > 0:\n",
    "        rej_gs.append(\n",
    "            pd.concat(\n",
    "                (\n",
    "                    chunk_g.iloc[: n_rows // 2]\n",
    "                    .reset_index()\n",
    "                    .drop([\"tie_sum\", \"tie_est\", \"tie_cp_bound\", \"tie_bound\"], axis=1),\n",
    "                    chunk_g.iloc[n_rows // 2 :][\n",
    "                        [\"tie_sum\", \"tie_est\", \"tie_cp_bound\", \"tie_bound\"]\n",
    "                    ].reset_index(),\n",
    "                ),\n",
    "                axis=1,\n",
    "            ).drop(\"index\", axis=1)\n",
    "        )\n",
    "    else:\n",
    "        rej_gs.append(chunk_g)\n",
    "rej_g_final = ip.grid.Grid(rej_gs[0]).concat(*[ip.grid.Grid(g) for g in rej_gs[1:]])\n",
    "rej_g_final.df.to_parquet(\"./1d_slice/1d_orthogonal_chunks.parquet\")"
   ]
  },
  {
   "cell_type": "code",
   "execution_count": 52,
   "metadata": {},
   "outputs": [
    {
     "data": {
      "text/html": [
       "<div>\n",
       "<style scoped>\n",
       "    .dataframe tbody tr th:only-of-type {\n",
       "        vertical-align: middle;\n",
       "    }\n",
       "\n",
       "    .dataframe tbody tr th {\n",
       "        vertical-align: top;\n",
       "    }\n",
       "\n",
       "    .dataframe thead th {\n",
       "        text-align: right;\n",
       "    }\n",
       "</style>\n",
       "<table border=\"1\" class=\"dataframe\">\n",
       "  <thead>\n",
       "    <tr style=\"text-align: right;\">\n",
       "      <th></th>\n",
       "      <th>id</th>\n",
       "      <th>active</th>\n",
       "      <th>eligible</th>\n",
       "      <th>parent_id</th>\n",
       "      <th>theta0</th>\n",
       "      <th>theta1</th>\n",
       "      <th>radii0</th>\n",
       "      <th>radii1</th>\n",
       "      <th>theta3</th>\n",
       "      <th>theta2</th>\n",
       "      <th>radii3</th>\n",
       "      <th>radii2</th>\n",
       "      <th>null_truth0</th>\n",
       "      <th>null_truth1</th>\n",
       "      <th>null_truth2</th>\n",
       "      <th>tie_sum</th>\n",
       "      <th>tie_est</th>\n",
       "      <th>tie_cp_bound</th>\n",
       "      <th>tie_bound</th>\n",
       "    </tr>\n",
       "  </thead>\n",
       "  <tbody>\n",
       "    <tr>\n",
       "      <th>0</th>\n",
       "      <td>1.025139e+19</td>\n",
       "      <td>True</td>\n",
       "      <td>True</td>\n",
       "      <td>0.0</td>\n",
       "      <td>-0.9</td>\n",
       "      <td>-0.9</td>\n",
       "      <td>0.0</td>\n",
       "      <td>0.0</td>\n",
       "      <td>-1.99875</td>\n",
       "      <td>-0.9</td>\n",
       "      <td>0.00125</td>\n",
       "      <td>0.0</td>\n",
       "      <td>True</td>\n",
       "      <td>True</td>\n",
       "      <td>True</td>\n",
       "      <td>11270.0</td>\n",
       "      <td>0.014331</td>\n",
       "      <td>0.014645</td>\n",
       "      <td>0.014990</td>\n",
       "    </tr>\n",
       "    <tr>\n",
       "      <th>1</th>\n",
       "      <td>1.025139e+19</td>\n",
       "      <td>True</td>\n",
       "      <td>True</td>\n",
       "      <td>0.0</td>\n",
       "      <td>-0.7</td>\n",
       "      <td>-0.7</td>\n",
       "      <td>0.0</td>\n",
       "      <td>0.0</td>\n",
       "      <td>-1.99875</td>\n",
       "      <td>-0.7</td>\n",
       "      <td>0.00125</td>\n",
       "      <td>0.0</td>\n",
       "      <td>True</td>\n",
       "      <td>True</td>\n",
       "      <td>True</td>\n",
       "      <td>15135.0</td>\n",
       "      <td>0.019245</td>\n",
       "      <td>0.019609</td>\n",
       "      <td>0.020053</td>\n",
       "    </tr>\n",
       "    <tr>\n",
       "      <th>2</th>\n",
       "      <td>1.025139e+19</td>\n",
       "      <td>True</td>\n",
       "      <td>True</td>\n",
       "      <td>0.0</td>\n",
       "      <td>-0.5</td>\n",
       "      <td>-0.5</td>\n",
       "      <td>0.0</td>\n",
       "      <td>0.0</td>\n",
       "      <td>-1.99875</td>\n",
       "      <td>-0.5</td>\n",
       "      <td>0.00125</td>\n",
       "      <td>0.0</td>\n",
       "      <td>True</td>\n",
       "      <td>True</td>\n",
       "      <td>True</td>\n",
       "      <td>18254.0</td>\n",
       "      <td>0.023211</td>\n",
       "      <td>0.023609</td>\n",
       "      <td>0.024131</td>\n",
       "    </tr>\n",
       "    <tr>\n",
       "      <th>3</th>\n",
       "      <td>1.025139e+19</td>\n",
       "      <td>True</td>\n",
       "      <td>True</td>\n",
       "      <td>0.0</td>\n",
       "      <td>-0.3</td>\n",
       "      <td>-0.3</td>\n",
       "      <td>0.0</td>\n",
       "      <td>0.0</td>\n",
       "      <td>-1.99875</td>\n",
       "      <td>-0.3</td>\n",
       "      <td>0.00125</td>\n",
       "      <td>0.0</td>\n",
       "      <td>True</td>\n",
       "      <td>True</td>\n",
       "      <td>True</td>\n",
       "      <td>20007.0</td>\n",
       "      <td>0.025440</td>\n",
       "      <td>0.025856</td>\n",
       "      <td>0.026420</td>\n",
       "    </tr>\n",
       "    <tr>\n",
       "      <th>4</th>\n",
       "      <td>1.025139e+19</td>\n",
       "      <td>True</td>\n",
       "      <td>True</td>\n",
       "      <td>0.0</td>\n",
       "      <td>-0.1</td>\n",
       "      <td>-0.1</td>\n",
       "      <td>0.0</td>\n",
       "      <td>0.0</td>\n",
       "      <td>-1.99875</td>\n",
       "      <td>-0.1</td>\n",
       "      <td>0.00125</td>\n",
       "      <td>0.0</td>\n",
       "      <td>True</td>\n",
       "      <td>True</td>\n",
       "      <td>True</td>\n",
       "      <td>21067.0</td>\n",
       "      <td>0.026788</td>\n",
       "      <td>0.027215</td>\n",
       "      <td>0.027803</td>\n",
       "    </tr>\n",
       "    <tr>\n",
       "      <th>...</th>\n",
       "      <td>...</td>\n",
       "      <td>...</td>\n",
       "      <td>...</td>\n",
       "      <td>...</td>\n",
       "      <td>...</td>\n",
       "      <td>...</td>\n",
       "      <td>...</td>\n",
       "      <td>...</td>\n",
       "      <td>...</td>\n",
       "      <td>...</td>\n",
       "      <td>...</td>\n",
       "      <td>...</td>\n",
       "      <td>...</td>\n",
       "      <td>...</td>\n",
       "      <td>...</td>\n",
       "      <td>...</td>\n",
       "      <td>...</td>\n",
       "      <td>...</td>\n",
       "      <td>...</td>\n",
       "    </tr>\n",
       "    <tr>\n",
       "      <th>12995</th>\n",
       "      <td>1.025139e+19</td>\n",
       "      <td>True</td>\n",
       "      <td>True</td>\n",
       "      <td>0.0</td>\n",
       "      <td>0.1</td>\n",
       "      <td>0.1</td>\n",
       "      <td>0.0</td>\n",
       "      <td>0.0</td>\n",
       "      <td>-8.01000</td>\n",
       "      <td>0.1</td>\n",
       "      <td>0.01000</td>\n",
       "      <td>0.0</td>\n",
       "      <td>True</td>\n",
       "      <td>True</td>\n",
       "      <td>True</td>\n",
       "      <td>22662.0</td>\n",
       "      <td>0.028816</td>\n",
       "      <td>0.029258</td>\n",
       "      <td>0.029785</td>\n",
       "    </tr>\n",
       "    <tr>\n",
       "      <th>12996</th>\n",
       "      <td>1.025139e+19</td>\n",
       "      <td>True</td>\n",
       "      <td>True</td>\n",
       "      <td>0.0</td>\n",
       "      <td>0.3</td>\n",
       "      <td>0.3</td>\n",
       "      <td>0.0</td>\n",
       "      <td>0.0</td>\n",
       "      <td>-8.01000</td>\n",
       "      <td>0.3</td>\n",
       "      <td>0.01000</td>\n",
       "      <td>0.0</td>\n",
       "      <td>True</td>\n",
       "      <td>True</td>\n",
       "      <td>True</td>\n",
       "      <td>22456.0</td>\n",
       "      <td>0.028554</td>\n",
       "      <td>0.028994</td>\n",
       "      <td>0.029517</td>\n",
       "    </tr>\n",
       "    <tr>\n",
       "      <th>12997</th>\n",
       "      <td>1.025139e+19</td>\n",
       "      <td>True</td>\n",
       "      <td>True</td>\n",
       "      <td>0.0</td>\n",
       "      <td>0.5</td>\n",
       "      <td>0.5</td>\n",
       "      <td>0.0</td>\n",
       "      <td>0.0</td>\n",
       "      <td>-8.01000</td>\n",
       "      <td>0.5</td>\n",
       "      <td>0.01000</td>\n",
       "      <td>0.0</td>\n",
       "      <td>True</td>\n",
       "      <td>True</td>\n",
       "      <td>True</td>\n",
       "      <td>21216.0</td>\n",
       "      <td>0.026978</td>\n",
       "      <td>0.027406</td>\n",
       "      <td>0.027905</td>\n",
       "    </tr>\n",
       "    <tr>\n",
       "      <th>12998</th>\n",
       "      <td>1.025139e+19</td>\n",
       "      <td>True</td>\n",
       "      <td>True</td>\n",
       "      <td>0.0</td>\n",
       "      <td>0.7</td>\n",
       "      <td>0.7</td>\n",
       "      <td>0.0</td>\n",
       "      <td>0.0</td>\n",
       "      <td>-8.01000</td>\n",
       "      <td>0.7</td>\n",
       "      <td>0.01000</td>\n",
       "      <td>0.0</td>\n",
       "      <td>True</td>\n",
       "      <td>True</td>\n",
       "      <td>True</td>\n",
       "      <td>19156.0</td>\n",
       "      <td>0.024358</td>\n",
       "      <td>0.024766</td>\n",
       "      <td>0.025226</td>\n",
       "    </tr>\n",
       "    <tr>\n",
       "      <th>12999</th>\n",
       "      <td>1.025139e+19</td>\n",
       "      <td>True</td>\n",
       "      <td>True</td>\n",
       "      <td>0.0</td>\n",
       "      <td>0.9</td>\n",
       "      <td>0.9</td>\n",
       "      <td>0.0</td>\n",
       "      <td>0.0</td>\n",
       "      <td>-8.01000</td>\n",
       "      <td>0.9</td>\n",
       "      <td>0.01000</td>\n",
       "      <td>0.0</td>\n",
       "      <td>True</td>\n",
       "      <td>True</td>\n",
       "      <td>True</td>\n",
       "      <td>16402.0</td>\n",
       "      <td>0.020856</td>\n",
       "      <td>0.021234</td>\n",
       "      <td>0.021641</td>\n",
       "    </tr>\n",
       "  </tbody>\n",
       "</table>\n",
       "<p>13000 rows × 19 columns</p>\n",
       "</div>"
      ],
      "text/plain": [
       "                 id  active  eligible  parent_id  theta0  theta1  radii0  \\\n",
       "0      1.025139e+19    True      True        0.0    -0.9    -0.9     0.0   \n",
       "1      1.025139e+19    True      True        0.0    -0.7    -0.7     0.0   \n",
       "2      1.025139e+19    True      True        0.0    -0.5    -0.5     0.0   \n",
       "3      1.025139e+19    True      True        0.0    -0.3    -0.3     0.0   \n",
       "4      1.025139e+19    True      True        0.0    -0.1    -0.1     0.0   \n",
       "...             ...     ...       ...        ...     ...     ...     ...   \n",
       "12995  1.025139e+19    True      True        0.0     0.1     0.1     0.0   \n",
       "12996  1.025139e+19    True      True        0.0     0.3     0.3     0.0   \n",
       "12997  1.025139e+19    True      True        0.0     0.5     0.5     0.0   \n",
       "12998  1.025139e+19    True      True        0.0     0.7     0.7     0.0   \n",
       "12999  1.025139e+19    True      True        0.0     0.9     0.9     0.0   \n",
       "\n",
       "       radii1   theta3  theta2   radii3  radii2  null_truth0  null_truth1  \\\n",
       "0         0.0 -1.99875    -0.9  0.00125     0.0         True         True   \n",
       "1         0.0 -1.99875    -0.7  0.00125     0.0         True         True   \n",
       "2         0.0 -1.99875    -0.5  0.00125     0.0         True         True   \n",
       "3         0.0 -1.99875    -0.3  0.00125     0.0         True         True   \n",
       "4         0.0 -1.99875    -0.1  0.00125     0.0         True         True   \n",
       "...       ...      ...     ...      ...     ...          ...          ...   \n",
       "12995     0.0 -8.01000     0.1  0.01000     0.0         True         True   \n",
       "12996     0.0 -8.01000     0.3  0.01000     0.0         True         True   \n",
       "12997     0.0 -8.01000     0.5  0.01000     0.0         True         True   \n",
       "12998     0.0 -8.01000     0.7  0.01000     0.0         True         True   \n",
       "12999     0.0 -8.01000     0.9  0.01000     0.0         True         True   \n",
       "\n",
       "       null_truth2  tie_sum   tie_est  tie_cp_bound  tie_bound  \n",
       "0             True  11270.0  0.014331      0.014645   0.014990  \n",
       "1             True  15135.0  0.019245      0.019609   0.020053  \n",
       "2             True  18254.0  0.023211      0.023609   0.024131  \n",
       "3             True  20007.0  0.025440      0.025856   0.026420  \n",
       "4             True  21067.0  0.026788      0.027215   0.027803  \n",
       "...            ...      ...       ...           ...        ...  \n",
       "12995         True  22662.0  0.028816      0.029258   0.029785  \n",
       "12996         True  22456.0  0.028554      0.028994   0.029517  \n",
       "12997         True  21216.0  0.026978      0.027406   0.027905  \n",
       "12998         True  19156.0  0.024358      0.024766   0.025226  \n",
       "12999         True  16402.0  0.020856      0.021234   0.021641  \n",
       "\n",
       "[13000 rows x 19 columns]"
      ]
     },
     "execution_count": 52,
     "metadata": {},
     "output_type": "execute_result"
    }
   ],
   "source": [
    "import pandas as pd\n",
    "\n",
    "rej_df = pd.read_parquet(\"./1d_slice/1d_orthogonal_chunks.parquet\")\n",
    "rej_df"
   ]
  },
  {
   "cell_type": "code",
   "execution_count": 63,
   "metadata": {},
   "outputs": [
    {
     "data": {
      "text/html": [
       "<div>\n",
       "<style scoped>\n",
       "    .dataframe tbody tr th:only-of-type {\n",
       "        vertical-align: middle;\n",
       "    }\n",
       "\n",
       "    .dataframe tbody tr th {\n",
       "        vertical-align: top;\n",
       "    }\n",
       "\n",
       "    .dataframe thead th {\n",
       "        text-align: right;\n",
       "    }\n",
       "</style>\n",
       "<table border=\"1\" class=\"dataframe\">\n",
       "  <thead>\n",
       "    <tr style=\"text-align: right;\">\n",
       "      <th></th>\n",
       "      <th>id</th>\n",
       "      <th>active</th>\n",
       "      <th>eligible</th>\n",
       "      <th>parent_id</th>\n",
       "      <th>theta0</th>\n",
       "      <th>theta1</th>\n",
       "      <th>radii0</th>\n",
       "      <th>radii1</th>\n",
       "      <th>theta3</th>\n",
       "      <th>theta2</th>\n",
       "      <th>radii3</th>\n",
       "      <th>radii2</th>\n",
       "      <th>null_truth0</th>\n",
       "      <th>null_truth1</th>\n",
       "      <th>null_truth2</th>\n",
       "      <th>tie_sum</th>\n",
       "      <th>tie_est</th>\n",
       "      <th>tie_cp_bound</th>\n",
       "      <th>tie_bound</th>\n",
       "    </tr>\n",
       "  </thead>\n",
       "  <tbody>\n",
       "    <tr>\n",
       "      <th>12001</th>\n",
       "      <td>1.025139e+19</td>\n",
       "      <td>True</td>\n",
       "      <td>True</td>\n",
       "      <td>0.0</td>\n",
       "      <td>-0.7</td>\n",
       "      <td>-0.7</td>\n",
       "      <td>0.0</td>\n",
       "      <td>0.0</td>\n",
       "      <td>-9.99000</td>\n",
       "      <td>-0.7</td>\n",
       "      <td>0.01000</td>\n",
       "      <td>0.0</td>\n",
       "      <td>True</td>\n",
       "      <td>True</td>\n",
       "      <td>True</td>\n",
       "      <td>24396.0</td>\n",
       "      <td>0.031021</td>\n",
       "      <td>0.031479</td>\n",
       "      <td>0.031814</td>\n",
       "    </tr>\n",
       "    <tr>\n",
       "      <th>12011</th>\n",
       "      <td>1.025139e+19</td>\n",
       "      <td>True</td>\n",
       "      <td>True</td>\n",
       "      <td>0.0</td>\n",
       "      <td>-0.7</td>\n",
       "      <td>-0.7</td>\n",
       "      <td>0.0</td>\n",
       "      <td>0.0</td>\n",
       "      <td>-9.97000</td>\n",
       "      <td>-0.7</td>\n",
       "      <td>0.01000</td>\n",
       "      <td>0.0</td>\n",
       "      <td>True</td>\n",
       "      <td>True</td>\n",
       "      <td>True</td>\n",
       "      <td>24396.0</td>\n",
       "      <td>0.031021</td>\n",
       "      <td>0.031479</td>\n",
       "      <td>0.031815</td>\n",
       "    </tr>\n",
       "    <tr>\n",
       "      <th>12021</th>\n",
       "      <td>1.025139e+19</td>\n",
       "      <td>True</td>\n",
       "      <td>True</td>\n",
       "      <td>0.0</td>\n",
       "      <td>-0.7</td>\n",
       "      <td>-0.7</td>\n",
       "      <td>0.0</td>\n",
       "      <td>0.0</td>\n",
       "      <td>-9.95000</td>\n",
       "      <td>-0.7</td>\n",
       "      <td>0.01000</td>\n",
       "      <td>0.0</td>\n",
       "      <td>True</td>\n",
       "      <td>True</td>\n",
       "      <td>True</td>\n",
       "      <td>24396.0</td>\n",
       "      <td>0.031021</td>\n",
       "      <td>0.031479</td>\n",
       "      <td>0.031817</td>\n",
       "    </tr>\n",
       "    <tr>\n",
       "      <th>12031</th>\n",
       "      <td>1.025139e+19</td>\n",
       "      <td>True</td>\n",
       "      <td>True</td>\n",
       "      <td>0.0</td>\n",
       "      <td>-0.7</td>\n",
       "      <td>-0.7</td>\n",
       "      <td>0.0</td>\n",
       "      <td>0.0</td>\n",
       "      <td>-9.93000</td>\n",
       "      <td>-0.7</td>\n",
       "      <td>0.01000</td>\n",
       "      <td>0.0</td>\n",
       "      <td>True</td>\n",
       "      <td>True</td>\n",
       "      <td>True</td>\n",
       "      <td>24396.0</td>\n",
       "      <td>0.031021</td>\n",
       "      <td>0.031479</td>\n",
       "      <td>0.031818</td>\n",
       "    </tr>\n",
       "    <tr>\n",
       "      <th>12041</th>\n",
       "      <td>1.025139e+19</td>\n",
       "      <td>True</td>\n",
       "      <td>True</td>\n",
       "      <td>0.0</td>\n",
       "      <td>-0.7</td>\n",
       "      <td>-0.7</td>\n",
       "      <td>0.0</td>\n",
       "      <td>0.0</td>\n",
       "      <td>-9.91000</td>\n",
       "      <td>-0.7</td>\n",
       "      <td>0.01000</td>\n",
       "      <td>0.0</td>\n",
       "      <td>True</td>\n",
       "      <td>True</td>\n",
       "      <td>True</td>\n",
       "      <td>24396.0</td>\n",
       "      <td>0.031021</td>\n",
       "      <td>0.031479</td>\n",
       "      <td>0.031820</td>\n",
       "    </tr>\n",
       "    <tr>\n",
       "      <th>...</th>\n",
       "      <td>...</td>\n",
       "      <td>...</td>\n",
       "      <td>...</td>\n",
       "      <td>...</td>\n",
       "      <td>...</td>\n",
       "      <td>...</td>\n",
       "      <td>...</td>\n",
       "      <td>...</td>\n",
       "      <td>...</td>\n",
       "      <td>...</td>\n",
       "      <td>...</td>\n",
       "      <td>...</td>\n",
       "      <td>...</td>\n",
       "      <td>...</td>\n",
       "      <td>...</td>\n",
       "      <td>...</td>\n",
       "      <td>...</td>\n",
       "      <td>...</td>\n",
       "      <td>...</td>\n",
       "    </tr>\n",
       "    <tr>\n",
       "      <th>3957</th>\n",
       "      <td>1.025139e+19</td>\n",
       "      <td>True</td>\n",
       "      <td>True</td>\n",
       "      <td>0.0</td>\n",
       "      <td>0.5</td>\n",
       "      <td>0.5</td>\n",
       "      <td>0.0</td>\n",
       "      <td>0.0</td>\n",
       "      <td>-1.01125</td>\n",
       "      <td>0.5</td>\n",
       "      <td>0.00125</td>\n",
       "      <td>0.0</td>\n",
       "      <td>True</td>\n",
       "      <td>True</td>\n",
       "      <td>True</td>\n",
       "      <td>17866.0</td>\n",
       "      <td>0.022718</td>\n",
       "      <td>0.023112</td>\n",
       "      <td>0.023792</td>\n",
       "    </tr>\n",
       "    <tr>\n",
       "      <th>3967</th>\n",
       "      <td>1.025139e+19</td>\n",
       "      <td>True</td>\n",
       "      <td>True</td>\n",
       "      <td>0.0</td>\n",
       "      <td>0.5</td>\n",
       "      <td>0.5</td>\n",
       "      <td>0.0</td>\n",
       "      <td>0.0</td>\n",
       "      <td>-1.00875</td>\n",
       "      <td>0.5</td>\n",
       "      <td>0.00125</td>\n",
       "      <td>0.0</td>\n",
       "      <td>True</td>\n",
       "      <td>True</td>\n",
       "      <td>True</td>\n",
       "      <td>17855.0</td>\n",
       "      <td>0.022704</td>\n",
       "      <td>0.023098</td>\n",
       "      <td>0.023778</td>\n",
       "    </tr>\n",
       "    <tr>\n",
       "      <th>3977</th>\n",
       "      <td>1.025139e+19</td>\n",
       "      <td>True</td>\n",
       "      <td>True</td>\n",
       "      <td>0.0</td>\n",
       "      <td>0.5</td>\n",
       "      <td>0.5</td>\n",
       "      <td>0.0</td>\n",
       "      <td>0.0</td>\n",
       "      <td>-1.00625</td>\n",
       "      <td>0.5</td>\n",
       "      <td>0.00125</td>\n",
       "      <td>0.0</td>\n",
       "      <td>True</td>\n",
       "      <td>True</td>\n",
       "      <td>True</td>\n",
       "      <td>17836.0</td>\n",
       "      <td>0.022680</td>\n",
       "      <td>0.023073</td>\n",
       "      <td>0.023753</td>\n",
       "    </tr>\n",
       "    <tr>\n",
       "      <th>3987</th>\n",
       "      <td>1.025139e+19</td>\n",
       "      <td>True</td>\n",
       "      <td>True</td>\n",
       "      <td>0.0</td>\n",
       "      <td>0.5</td>\n",
       "      <td>0.5</td>\n",
       "      <td>0.0</td>\n",
       "      <td>0.0</td>\n",
       "      <td>-1.00375</td>\n",
       "      <td>0.5</td>\n",
       "      <td>0.00125</td>\n",
       "      <td>0.0</td>\n",
       "      <td>True</td>\n",
       "      <td>True</td>\n",
       "      <td>True</td>\n",
       "      <td>17833.0</td>\n",
       "      <td>0.022676</td>\n",
       "      <td>0.023069</td>\n",
       "      <td>0.023750</td>\n",
       "    </tr>\n",
       "    <tr>\n",
       "      <th>3997</th>\n",
       "      <td>1.025139e+19</td>\n",
       "      <td>True</td>\n",
       "      <td>True</td>\n",
       "      <td>0.0</td>\n",
       "      <td>0.5</td>\n",
       "      <td>0.5</td>\n",
       "      <td>0.0</td>\n",
       "      <td>0.0</td>\n",
       "      <td>-1.00125</td>\n",
       "      <td>0.5</td>\n",
       "      <td>0.00125</td>\n",
       "      <td>0.0</td>\n",
       "      <td>True</td>\n",
       "      <td>True</td>\n",
       "      <td>True</td>\n",
       "      <td>17817.0</td>\n",
       "      <td>0.022655</td>\n",
       "      <td>0.023049</td>\n",
       "      <td>0.023729</td>\n",
       "    </tr>\n",
       "  </tbody>\n",
       "</table>\n",
       "<p>1300 rows × 19 columns</p>\n",
       "</div>"
      ],
      "text/plain": [
       "                 id  active  eligible  parent_id  theta0  theta1  radii0  \\\n",
       "12001  1.025139e+19    True      True        0.0    -0.7    -0.7     0.0   \n",
       "12011  1.025139e+19    True      True        0.0    -0.7    -0.7     0.0   \n",
       "12021  1.025139e+19    True      True        0.0    -0.7    -0.7     0.0   \n",
       "12031  1.025139e+19    True      True        0.0    -0.7    -0.7     0.0   \n",
       "12041  1.025139e+19    True      True        0.0    -0.7    -0.7     0.0   \n",
       "...             ...     ...       ...        ...     ...     ...     ...   \n",
       "3957   1.025139e+19    True      True        0.0     0.5     0.5     0.0   \n",
       "3967   1.025139e+19    True      True        0.0     0.5     0.5     0.0   \n",
       "3977   1.025139e+19    True      True        0.0     0.5     0.5     0.0   \n",
       "3987   1.025139e+19    True      True        0.0     0.5     0.5     0.0   \n",
       "3997   1.025139e+19    True      True        0.0     0.5     0.5     0.0   \n",
       "\n",
       "       radii1   theta3  theta2   radii3  radii2  null_truth0  null_truth1  \\\n",
       "12001     0.0 -9.99000    -0.7  0.01000     0.0         True         True   \n",
       "12011     0.0 -9.97000    -0.7  0.01000     0.0         True         True   \n",
       "12021     0.0 -9.95000    -0.7  0.01000     0.0         True         True   \n",
       "12031     0.0 -9.93000    -0.7  0.01000     0.0         True         True   \n",
       "12041     0.0 -9.91000    -0.7  0.01000     0.0         True         True   \n",
       "...       ...      ...     ...      ...     ...          ...          ...   \n",
       "3957      0.0 -1.01125     0.5  0.00125     0.0         True         True   \n",
       "3967      0.0 -1.00875     0.5  0.00125     0.0         True         True   \n",
       "3977      0.0 -1.00625     0.5  0.00125     0.0         True         True   \n",
       "3987      0.0 -1.00375     0.5  0.00125     0.0         True         True   \n",
       "3997      0.0 -1.00125     0.5  0.00125     0.0         True         True   \n",
       "\n",
       "       null_truth2  tie_sum   tie_est  tie_cp_bound  tie_bound  \n",
       "12001         True  24396.0  0.031021      0.031479   0.031814  \n",
       "12011         True  24396.0  0.031021      0.031479   0.031815  \n",
       "12021         True  24396.0  0.031021      0.031479   0.031817  \n",
       "12031         True  24396.0  0.031021      0.031479   0.031818  \n",
       "12041         True  24396.0  0.031021      0.031479   0.031820  \n",
       "...            ...      ...       ...           ...        ...  \n",
       "3957          True  17866.0  0.022718      0.023112   0.023792  \n",
       "3967          True  17855.0  0.022704      0.023098   0.023778  \n",
       "3977          True  17836.0  0.022680      0.023073   0.023753  \n",
       "3987          True  17833.0  0.022676      0.023069   0.023750  \n",
       "3997          True  17817.0  0.022655      0.023049   0.023729  \n",
       "\n",
       "[1300 rows x 19 columns]"
      ]
     },
     "execution_count": 63,
     "metadata": {},
     "output_type": "execute_result"
    }
   ],
   "source": [
    "worst_bound = rej_df.loc[rej_df.reset_index().groupby([\"theta3\"])[\"tie_bound\"].idxmax()]\n",
    "worst_bound"
   ]
  },
  {
   "cell_type": "code",
   "execution_count": null,
   "metadata": {},
   "outputs": [],
   "source": [
    "plt.scatter(rej_df[\"\"])"
   ]
  },
  {
   "cell_type": "code",
   "execution_count": 64,
   "metadata": {},
   "outputs": [
    {
     "data": {
      "image/png": "[encoded data removed]",
      "text/plain": [
       "<Figure size 640x480 with 1 Axes>"
      ]
     },
     "metadata": {
      "image/png": {
       "height": 460,
       "width": 569
      }
     },
     "output_type": "display_data"
    }
   ],
   "source": [
    "# worst_tie = rej_df[\"tie_est\"].values.reshape((100, 20)).max(axis=1)\n",
    "# worst_bound = rej_df[\"tie_bound\"].values.reshape((100, 20)).max(axis=1)\n",
    "plt.plot(\n",
    "    worst_bound[\"theta3\"],\n",
    "    100 * worst_bound[\"tie_est\"],\n",
    "    \"k-\",\n",
    "    label=\"Type I Error\",\n",
    ")\n",
    "plt.plot(\n",
    "    worst_bound[\"theta3\"],\n",
    "    100 * worst_bound[\"tie_bound\"],\n",
    "    \"r-\",\n",
    "    label=\"Tilt-Bound\",\n",
    ")\n",
    "plt.legend()\n",
    "plt.xlabel(r\"$\\theta_{3}$\")\n",
    "plt.ylabel(r\"Type I Error \\%\")\n",
    "plt.title(r\"$\\max_{\\theta_c}(f(\\theta_c, \\theta_c, \\theta_c, \\theta_3))$\")\n",
    "plt.savefig(\"lewis_1d_orthogonal.pdf\", bbox_inches=\"tight\")\n",
    "plt.show()"
   ]
  }
 ],
 "metadata": {
  "kernelspec": {
   "display_name": "Python 3.10.8 ('confirm')",
   "language": "python",
   "name": "python3"
  },
  "language_info": {
   "codemirror_mode": {
    "name": "ipython",
    "version": 3
   },
   "file_extension": ".py",
   "mimetype": "text/x-python",
   "name": "python",
   "nbconvert_exporter": "python",
   "pygments_lexer": "ipython3",
   "version": "3.10.8"
  },
  "orig_nbformat": 4,
  "vscode": {
   "interpreter": {
    "hash": "b4c6ec5b2d6c7b38df115d547b82cd53ca25eea58d87299956d35a9dc79f19f1"
   }
  }
 },
 "nbformat": 4,
 "nbformat_minor": 2
}
