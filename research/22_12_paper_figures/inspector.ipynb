{
 "cells": [
  {
   "cell_type": "code",
   "execution_count": null,
   "metadata": {},
   "outputs": [],
   "source": [
    "import confirm.outlaw.nb_util as nb_util\n",
    "\n",
    "nb_util.setup_nb()\n",
    "\n",
    "import confirm.imprint as ip\n",
    "import numpy as np\n",
    "import matplotlib.pyplot as plt"
   ]
  },
  {
   "cell_type": "code",
   "execution_count": null,
   "metadata": {},
   "outputs": [],
   "source": [
    "import shutil\n",
    "\n",
    "shutil.copy2(\"lewis1dslice.db\", \"lewis1dslice_inspect.db\")\n",
    "shutil.copy2(\"lewis1dslice.db.wal\", \"lewis1dslice_inspect.db.wal\")\n",
    "db = ip.db.DuckDB.connect(\"lewis1dslice_inspect.db\")"
   ]
  },
  {
   "cell_type": "code",
   "execution_count": null,
   "metadata": {},
   "outputs": [],
   "source": [
    "df = db.get_all()"
   ]
  },
  {
   "cell_type": "code",
   "execution_count": null,
   "metadata": {},
   "outputs": [],
   "source": [
    "def verify_adagrid(df):\n",
    "    inactive_ids = df.loc[~df[\"active\"], \"id\"]\n",
    "    assert inactive_ids.unique().shape == inactive_ids.shape\n",
    "\n",
    "    parents = df[\"parent_id\"].unique()\n",
    "    parents_that_dont_exist = np.setdiff1d(parents, inactive_ids)\n",
    "    inactive_tiles_with_no_children = np.setdiff1d(inactive_ids, parents)\n",
    "    print(parents_that_dont_exist)\n",
    "    # assert parents_that_dont_exist.shape[0] == 1\n",
    "    # assert parents_that_dont_exist[0] == 0\n",
    "    assert inactive_tiles_with_no_children.shape[0] == 0"
   ]
  },
  {
   "cell_type": "code",
   "execution_count": null,
   "metadata": {},
   "outputs": [],
   "source": [
    "verify_adagrid(df)"
   ]
  },
  {
   "cell_type": "code",
   "execution_count": null,
   "metadata": {},
   "outputs": [],
   "source": [
    "g = ip.Grid(df).active()"
   ]
  },
  {
   "cell_type": "code",
   "execution_count": null,
   "metadata": {},
   "outputs": [],
   "source": [
    "np.sum(g.df[\"total_cost\"] > 0.002), g.df.shape[0]"
   ]
  },
  {
   "cell_type": "code",
   "execution_count": null,
   "metadata": {},
   "outputs": [],
   "source": [
    "np.sum((g.df[\"total_cost\"] > 0.003) & (g.df[\"grid_cost\"] > g.df[\"sim_cost\"]))"
   ]
  },
  {
   "cell_type": "code",
   "execution_count": null,
   "metadata": {},
   "outputs": [],
   "source": [
    "plt.figure(figsize=(10, 10))\n",
    "plt.scatter(g.df[\"theta0\"], g.df[\"theta1\"], c=g.df[\"tie_bound\"], cmap=\"viridis\", s=4)\n",
    "plt.colorbar()\n",
    "plt.show()"
   ]
  },
  {
   "cell_type": "code",
   "execution_count": null,
   "metadata": {},
   "outputs": [],
   "source": [
    "plt.figure(figsize=(10, 10))\n",
    "plt.scatter(g.df[\"theta0\"], g.df[\"theta1\"], c=g.df[\"K\"], cmap=\"viridis\", s=4)\n",
    "plt.colorbar()\n",
    "plt.show()"
   ]
  },
  {
   "cell_type": "code",
   "execution_count": null,
   "metadata": {},
   "outputs": [],
   "source": [
    "plt.figure(figsize=(10, 10))\n",
    "plt.scatter(\n",
    "    g.df[\"theta0\"],\n",
    "    g.df[\"theta1\"],\n",
    "    c=g.df[\"total_cost\"],\n",
    "    cmap=\"viridis\",\n",
    "    s=4,\n",
    ")\n",
    "plt.colorbar()\n",
    "plt.show()"
   ]
  },
  {
   "cell_type": "code",
   "execution_count": null,
   "metadata": {},
   "outputs": [],
   "source": [
    "plt.figure(figsize=(10, 10))\n",
    "plt.scatter(\n",
    "    g.df[\"theta0\"],\n",
    "    g.df[\"theta1\"],\n",
    "    c=g.df[\"total_cost\"] < 0.003,\n",
    "    cmap=\"viridis\",\n",
    "    s=4,\n",
    ")\n",
    "plt.colorbar()\n",
    "plt.show()"
   ]
  },
  {
   "cell_type": "code",
   "execution_count": null,
   "metadata": {},
   "outputs": [],
   "source": [
    "plt.figure(figsize=(10, 10))\n",
    "plt.scatter(\n",
    "    g.df[\"theta0\"],\n",
    "    g.df[\"theta1\"],\n",
    "    c=g.df[\"grid_cost\"] > g.df[\"sim_cost\"],\n",
    "    cmap=\"viridis\",\n",
    "    s=4,\n",
    ")\n",
    "plt.colorbar()\n",
    "plt.show()"
   ]
  },
  {
   "cell_type": "code",
   "execution_count": null,
   "metadata": {},
   "outputs": [],
   "source": [
    "plt.figure(figsize=(10, 10))\n",
    "plt.scatter(\n",
    "    g.df[\"theta0\"],\n",
    "    g.df[\"theta1\"],\n",
    "    c=g.df[\"grid_cost\"],\n",
    "    cmap=\"viridis\",\n",
    "    s=4,\n",
    ")\n",
    "plt.xlabel(\"$\\\\theta_c$\")\n",
    "plt.ylabel(\"$\\\\theta_3$\")\n",
    "plt.colorbar()\n",
    "plt.title(\"Grid cost\")\n",
    "plt.show()"
   ]
  },
  {
   "cell_type": "code",
   "execution_count": null,
   "metadata": {},
   "outputs": [],
   "source": []
  }
 ],
 "metadata": {
  "kernelspec": {
   "display_name": "base",
   "language": "python",
   "name": "python3"
  },
  "language_info": {
   "codemirror_mode": {
    "name": "ipython",
    "version": 3
   },
   "file_extension": ".py",
   "mimetype": "text/x-python",
   "name": "python",
   "nbconvert_exporter": "python",
   "pygments_lexer": "ipython3",
   "version": "3.10.8 | packaged by conda-forge | (main, Nov 22 2022, 08:26:04) [GCC 10.4.0]"
  },
  "orig_nbformat": 4,
  "vscode": {
   "interpreter": {
    "hash": "d4d1e4263499bec80672ea0156c357c1ee493ec2b1c70f0acce89fc37c4a6abe"
   }
  }
 },
 "nbformat": 4,
 "nbformat_minor": 2
}
