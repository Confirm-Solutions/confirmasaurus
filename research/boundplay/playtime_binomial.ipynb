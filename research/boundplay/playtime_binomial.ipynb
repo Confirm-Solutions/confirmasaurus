{
 "cells": [
  {
   "cell_type": "code",
   "execution_count": 1,
   "metadata": {},
   "outputs": [],
   "source": [
    "import confirm.outlaw.nb_util as nb_util\n",
    "\n",
    "nb_util.setup_nb()\n",
    "import numpy as np\n",
    "import matplotlib.pyplot as plt\n",
    "import scipy.stats\n",
    "from numpy import sqrt\n",
    "import jax\n",
    "import jax.numpy as jnp"
   ]
  },
  {
   "cell_type": "code",
   "execution_count": 70,
   "metadata": {},
   "outputs": [
    {
     "data": {
      "text/plain": [
       "DeviceArray(4.46680721, dtype=float64)"
      ]
     },
     "execution_count": 70,
     "metadata": {},
     "output_type": "execute_result"
    }
   ],
   "source": [
    "n = 50\n",
    "p = 0.2\n",
    "t = jax.scipy.special.logit(p)\n",
    "At = lambda t: -n * jnp.log(1 - jax.scipy.special.expit(t))\n",
    "g = lambda t, x: t * x - At(t)\n",
    "dg = jax.grad(g)\n",
    "dg_vmap = jax.vmap(dg, in_axes=(None, 0))\n",
    "\n",
    "holderp = 1.2\n",
    "holderq = 1.0 / (1 - 1.0 / holderp)\n",
    "\n",
    "# numerical integral to compute E[ |grad g|^q]^(1/q)\n",
    "xs = jnp.arange(n + 1).astype(jnp.float64)\n",
    "eggq = jnp.abs(dg_vmap(t, xs)) ** holderq\n",
    "C = sum(eggq * scipy.stats.binom.pmf(xs, n, p)) ** (1 / holderq)\n",
    "C"
   ]
  },
  {
   "cell_type": "code",
   "execution_count": 71,
   "metadata": {},
   "outputs": [],
   "source": [
    "f0 = 0.001\n",
    "dt = 0.5\n",
    "t_path = np.linspace(t, t + dt, 100)\n",
    "def derivs(t, y):\n",
    "    cur_f = y[0]\n",
    "    return C * cur_f ** (1 / holderp)\n",
    "solution = scipy.integrate.solve_ivp(derivs, (t, t+dt), [f0], t_eval=t_path)"
   ]
  },
  {
   "cell_type": "code",
   "execution_count": 72,
   "metadata": {},
   "outputs": [],
   "source": [
    "grad_bound = derivs(t, [f0])\n",
    "hess_bound = n * p * (1 - p)\n",
    "classical = f0 + grad_bound * (t_path - t) + 0.5 * hess_bound * (t_path - t) ** 2"
   ]
  },
  {
   "cell_type": "code",
   "execution_count": 73,
   "metadata": {},
   "outputs": [
    {
     "data": {
      "image/png": "[encoded data removed]",
      "text/plain": [
       "<Figure size 432x288 with 1 Axes>"
      ]
     },
     "metadata": {
      "image/png": {
       "height": 265,
       "width": 387
      },
      "needs_background": "light"
     },
     "output_type": "display_data"
    }
   ],
   "source": [
    "plt.plot([t], [f0], 'ko')\n",
    "plt.plot(t_path, solution['y'][0,:], 'b-')\n",
    "plt.plot(t_path, classical, 'r--')\n",
    "plt.xlabel(r'$\\theta$')\n",
    "plt.ylabel('type I error')\n",
    "plt.show()"
   ]
  },
  {
   "cell_type": "code",
   "execution_count": 74,
   "metadata": {},
   "outputs": [],
   "source": [
    "idx = np.argmin(solution['y'][0, :] < 0.025)"
   ]
  },
  {
   "cell_type": "code",
   "execution_count": 75,
   "metadata": {},
   "outputs": [
    {
     "data": {
      "text/plain": [
       "-1.0832640580895876"
      ]
     },
     "execution_count": 75,
     "metadata": {},
     "output_type": "execute_result"
    }
   ],
   "source": [
    "t_path[idx]"
   ]
  },
  {
   "cell_type": "code",
   "execution_count": 69,
   "metadata": {},
   "outputs": [
    {
     "data": {
      "text/plain": [
       "DeviceArray(10.35543999, dtype=float64)"
      ]
     },
     "execution_count": 69,
     "metadata": {},
     "output_type": "execute_result"
    }
   ],
   "source": [
    "classical[-1] / solution['y'][0,-1]"
   ]
  },
  {
   "cell_type": "code",
   "execution_count": 42,
   "metadata": {},
   "outputs": [
    {
     "data": {
      "text/plain": [
       "0.0035554600275283887"
      ]
     },
     "execution_count": 42,
     "metadata": {},
     "output_type": "execute_result"
    }
   ],
   "source": [
    "solution['y'][0,-1]"
   ]
  }
 ],
 "metadata": {
  "kernelspec": {
   "display_name": "Python 3.10.5 ('confirm')",
   "language": "python",
   "name": "python3"
  },
  "language_info": {
   "codemirror_mode": {
    "name": "ipython",
    "version": 3
   },
   "file_extension": ".py",
   "mimetype": "text/x-python",
   "name": "python",
   "nbconvert_exporter": "python",
   "pygments_lexer": "ipython3",
   "version": "3.10.5"
  },
  "orig_nbformat": 4,
  "vscode": {
   "interpreter": {
    "hash": "b4c6ec5b2d6c7b38df115d547b82cd53ca25eea58d87299956d35a9dc79f19f1"
   }
  }
 },
 "nbformat": 4,
 "nbformat_minor": 2
}
