{
 "cells": [
  {
   "cell_type": "code",
   "execution_count": 1,
   "metadata": {},
   "outputs": [
    {
     "name": "stderr",
     "output_type": "stream",
     "text": [
      "/Users/tbent/.mambaforge/envs/confirm/lib/python3.10/site-packages/tqdm/auto.py:22: TqdmWarning: IProgress not found. Please update jupyter and ipywidgets. See https://ipywidgets.readthedocs.io/en/stable/user_install.html\n",
      "  from .autonotebook import tqdm as notebook_tqdm\n"
     ]
    }
   ],
   "source": [
    "import numpy as np\n",
    "import matplotlib.pyplot as plt\n",
    "import jax\n",
    "import jax.numpy as jnp\n",
    "import scipy.stats\n",
    "import numpyro.distributions as dist\n",
    "\n",
    "def C_numerical(t, q, n):\n",
    "    p = jax.scipy.special.expit(t)\n",
    "    xs = jnp.arange(n + 1)\n",
    "    return jnp.exp(jax.scipy.special.logsumexp(\n",
    "        q * jnp.log(jnp.abs(xs - n * p))\n",
    "        + dist.Binomial(n, p).log_prob(xs)\n",
    "    ))\n",
    "Cn = jax.jit(jax.vmap(C_numerical, in_axes=(0, None, None)), static_argnums=(2,))\n",
    "Cng = jax.jit(jax.vmap(jax.grad(C_numerical), in_axes=(0, None, None)), static_argnums=(2,))"
   ]
  },
  {
   "cell_type": "code",
   "execution_count": 2,
   "metadata": {},
   "outputs": [],
   "source": [
    "n = 10\n",
    "q = 1.2"
   ]
  },
  {
   "cell_type": "code",
   "execution_count": 3,
   "metadata": {},
   "outputs": [],
   "source": [
    "p = 0.4501\n",
    "xs = np.arange(n + 1)\n",
    "CS = np.sign(xs - n * p)\n",
    "x1 = int(np.floor(p * n))\n",
    "x2 = x1 + 1\n",
    "\n",
    "def C_numerical_fixed(t, q, n):\n",
    "    p = jax.scipy.special.expit(t)\n",
    "    xs = jnp.arange(n + 1)\n",
    "    return jnp.exp(jax.scipy.special.logsumexp(\n",
    "        q * jnp.log(CS * (xs - n * p))\n",
    "        + dist.Binomial(n, p).log_prob(xs)\n",
    "    ))"
   ]
  },
  {
   "cell_type": "code",
   "execution_count": 4,
   "metadata": {},
   "outputs": [
    {
     "data": {
      "image/png": "[encoded data removed]",
      "text/plain": [
       "<Figure size 432x288 with 1 Axes>"
      ]
     },
     "metadata": {
      "needs_background": "light"
     },
     "output_type": "display_data"
    }
   ],
   "source": [
    "domain = [-3, 3]\n",
    "ts = np.linspace(-3, 3, 2000)\n",
    "ps = jax.scipy.special.expit(ts)\n",
    "cs = Cn(ts, q, n)\n",
    "plt.title(f\"q = {q}\")\n",
    "plt.plot(ts, cs, label=\"C\")\n",
    "cgs = Cng(ts, q, n)\n",
    "plt.plot(ts, cgs, 'r.', label=\"dC/dtheta\")\n",
    "\n",
    "cs_fixed = jax.vmap(C_numerical_fixed, in_axes=(0, None, None))(ts, q, n)\n",
    "plt.plot(ts, cs_fixed, label=\"Cf\")\n",
    "plt.axhline(0, color='black')\n",
    "plt.legend()\n",
    "plt.xlabel(r\"$\\theta$\")\n",
    "plt.show()"
   ]
  },
  {
   "cell_type": "code",
   "execution_count": 5,
   "metadata": {},
   "outputs": [],
   "source": [
    "def C_numericalp(p, q, n):\n",
    "    xs = jnp.arange(n + 1)\n",
    "    return jnp.exp(jax.scipy.special.logsumexp(\n",
    "        q * jnp.log(jnp.abs(xs - n * p))\n",
    "        + dist.Binomial(n, p).log_prob(xs)\n",
    "    ))\n",
    "Cnpg = jax.jit(jax.vmap(jax.grad(C_numericalp), in_axes=(0, None, None)), static_argnums=(2,))"
   ]
  },
  {
   "cell_type": "code",
   "execution_count": 6,
   "metadata": {},
   "outputs": [
    {
     "data": {
      "image/png": "[encoded data removed]",
      "text/plain": [
       "<Figure size 432x288 with 1 Axes>"
      ]
     },
     "metadata": {
      "needs_background": "light"
     },
     "output_type": "display_data"
    }
   ],
   "source": [
    "ps = np.linspace(x1 / n + 1e-4, x2 / n, 100)\n",
    "MM = 0\n",
    "AA = 0\n",
    "for i in range(n + 1):\n",
    "    pmf = lambda p: jnp.exp(dist.Binomial(n, p).log_prob(i))\n",
    "    dpmf = jax.vmap(jax.grad(pmf))\n",
    "\n",
    "    full = lambda p: (CS[i] * (i - n * p)) ** q * pmf(p)\n",
    "    dfull = jax.vmap(jax.grad(full))\n",
    "\n",
    "    t1 = q * (CS[i] * (i - n * ps)) ** (q - 1) * (-CS[i] * n) * pmf(ps)\n",
    "    AA += t1\n",
    "    t2 = (CS[i] * (i - n * ps)) ** q * dpmf(ps)\n",
    "    d = t1 + t2\n",
    "    d2 = dfull(ps)\n",
    "    # np.testing.assert_allclose(d, d2, atol=1e-4)\n",
    "    MM += np.max(d)\n",
    "    \n",
    "     \n",
    "    # plt.plot(ps, d, label=f\"i = {i}\")\n",
    "plt.axhline(MM, color='b')\n",
    "plt.plot(ps, Cnpg(ps, q, n), 'r.')\n",
    "plt.show()"
   ]
  },
  {
   "cell_type": "code",
   "execution_count": 7,
   "metadata": {},
   "outputs": [
    {
     "data": {
      "text/plain": [
       "DeviceArray(-0.8033765, dtype=float32)"
      ]
     },
     "execution_count": 7,
     "metadata": {},
     "output_type": "execute_result"
    }
   ],
   "source": [
    "xs = np.arange(n + 1)\n",
    "pmf = lambda p: jnp.exp(dist.Binomial(n, p).log_prob(xs))\n",
    "ppp = 0.475\n",
    "np.sum(pmf(ppp) * CS * np.abs(xs - n * ppp) ** (q - 1) * ((xs - n * ppp) ** 2 / (ppp * (1 - ppp)) - q * n))"
   ]
  },
  {
   "cell_type": "code",
   "execution_count": 53,
   "metadata": {},
   "outputs": [
    {
     "data": {
      "text/plain": [
       "DeviceArray(9.927755, dtype=float32)"
      ]
     },
     "execution_count": 53,
     "metadata": {},
     "output_type": "execute_result"
    }
   ],
   "source": [
    "ps = np.array([x1 / n, x2/n])\n",
    "# ps = np.linspace(x1 / n, x2 / n, 100)\n",
    "pmf_max = np.max(jax.vmap(pmf)(ps), axis=0)\n",
    "bracket_max = np.max(CS[None] * ((xs[None] - n * ps[:,None]) ** 2 / (ps[:, None] * (1 - ps[:, None])) - q * n), axis=0)\n",
    "pow_max = np.max(np.abs(xs[None] - n * ps[:, None]), axis=0) ** (q - 1)\n",
    "np.sum(bracket_max * pow_max * pmf_max)"
   ]
  },
  {
   "cell_type": "code",
   "execution_count": 58,
   "metadata": {},
   "outputs": [
    {
     "name": "stderr",
     "output_type": "stream",
     "text": [
      "/var/folders/mt/cmys2v_143q1kpcrdt5wcdyr0000gn/T/ipykernel_94739/2140881920.py:2: RuntimeWarning: divide by zero encountered in divide\n",
      "  plt.plot(ps, (xs[None, ::3] - n * ps[:,None]) ** 2 / (ps[:, None] * (1 - ps[:, None])) - q * n)\n",
      "/var/folders/mt/cmys2v_143q1kpcrdt5wcdyr0000gn/T/ipykernel_94739/2140881920.py:2: RuntimeWarning: invalid value encountered in divide\n",
      "  plt.plot(ps, (xs[None, ::3] - n * ps[:,None]) ** 2 / (ps[:, None] * (1 - ps[:, None])) - q * n)\n"
     ]
    },
    {
     "data": {
      "image/png": "[encoded data removed]",
      "text/plain": [
       "<Figure size 432x288 with 1 Axes>"
      ]
     },
     "metadata": {
      "needs_background": "light"
     },
     "output_type": "display_data"
    }
   ],
   "source": [
    "ps = np.linspace(0, 1, 100)\n",
    "plt.plot(ps, (xs[None, ::3] - n * ps[:,None]) ** 2 / (ps[:, None] * (1 - ps[:, None])) - q * n)\n",
    "plt.show()"
   ]
  },
  {
   "cell_type": "code",
   "execution_count": 19,
   "metadata": {},
   "outputs": [
    {
     "name": "stderr",
     "output_type": "stream",
     "text": [
      "/var/folders/mt/cmys2v_143q1kpcrdt5wcdyr0000gn/T/ipykernel_94739/824325314.py:1: RuntimeWarning: divide by zero encountered in divide\n",
      "  xs / (2 * xs - n)\n"
     ]
    },
    {
     "data": {
      "text/plain": [
       "array([-0.        , -0.125     , -0.33333333, -0.75      , -2.        ,\n",
       "               inf,  3.        ,  1.75      ,  1.33333333,  1.125     ,\n",
       "        1.        ])"
      ]
     },
     "execution_count": 19,
     "metadata": {},
     "output_type": "execute_result"
    }
   ],
   "source": [
    "xs / (2 * xs - n)"
   ]
  },
  {
   "cell_type": "code",
   "execution_count": 31,
   "metadata": {},
   "outputs": [
    {
     "data": {
      "text/plain": [
       "DeviceArray(11.566728, dtype=float32)"
      ]
     },
     "execution_count": 31,
     "metadata": {},
     "output_type": "execute_result"
    }
   ],
   "source": [
    "ppp = 0.45\n",
    "QQ = 5.0\n",
    "PP = 1.0 / (1 - 1.0 / QQ)\n",
    "m1 = np.sum(pmf(ppp) * (np.abs(xs - n * ppp) ** (q - 1)) ** QQ) ** (1 / QQ)\n",
    "m2 = np.sum(pmf(ppp) * (np.abs(((xs - n * ppp) ** 2 / (ppp * (1 - ppp)) - q * n)) ** PP)) ** (1 / PP)\n",
    "m1*m2"
   ]
  },
  {
   "cell_type": "code",
   "execution_count": 21,
   "metadata": {},
   "outputs": [
    {
     "data": {
      "text/plain": [
       "DeviceArray([-0.80337703], dtype=float32)"
      ]
     },
     "execution_count": 21,
     "metadata": {},
     "output_type": "execute_result"
    }
   ],
   "source": [
    "Cnpg(np.array([ppp]), q, n)"
   ]
  },
  {
   "cell_type": "code",
   "execution_count": 227,
   "metadata": {},
   "outputs": [
    {
     "data": {
      "text/plain": [
       "24.75989999999999"
      ]
     },
     "execution_count": 227,
     "metadata": {},
     "output_type": "execute_result"
    }
   ],
   "source": [
    "ppp = 0.451\n",
    "xs = np.arange(n + 1)\n",
    "np.sum((xs - n * ppp) ** 2 * scipy.stats.binom.pmf(xs, n, ppp))"
   ]
  },
  {
   "cell_type": "code",
   "execution_count": 228,
   "metadata": {},
   "outputs": [],
   "source": [
    "px1 = np.maximum(np.min(ps) ** (xs - 1), np.max(ps) ** (xs - 1))\n",
    "opnx1 = np.maximum(np.min(ps) ** (n - xs - 1), np.max(ps) ** (n - xs - 1))\n",
    "xnp = np.maximum(xs - n * np.min(ps), xs - n * np.max(ps))\n",
    "dpdp = scipy.special.comb(n, xs) * px1 * opnx1 * xnp"
   ]
  },
  {
   "cell_type": "code",
   "execution_count": 229,
   "metadata": {},
   "outputs": [
    {
     "data": {
      "text/plain": [
       "14.018645287971157"
      ]
     },
     "execution_count": 229,
     "metadata": {},
     "output_type": "execute_result"
    }
   ],
   "source": [
    "xs = np.arange(n + 1)\n",
    "pmf = lambda p: jnp.exp(dist.Binomial(n, p).log_prob(xs))\n",
    "pmf_max = np.maximum(pmf(np.min(ps)), pmf(np.max(ps)))\n",
    "t1 = np.maximum(\n",
    "    q * (-n * CS) * (CS * (xs - n * np.min(ps))) ** (q - 1) * pmf_max,\n",
    "    q * (-n * CS) * (CS * (xs - n * np.max(ps))) ** (q - 1) * pmf_max,\n",
    ")\n",
    "t2 = np.maximum(\n",
    "    (CS * (xs - n * np.min(ps))) ** q * dpdp,\n",
    "    (CS * (xs - n * np.max(ps))) ** q * dpdp\n",
    ")\n",
    "np.sum(t1 + t2)"
   ]
  },
  {
   "cell_type": "code",
   "execution_count": 161,
   "metadata": {},
   "outputs": [
    {
     "data": {
      "image/png": "[encoded data removed]",
      "text/plain": [
       "<Figure size 432x288 with 1 Axes>"
      ]
     },
     "metadata": {
      "needs_background": "light"
     },
     "output_type": "display_data"
    }
   ],
   "source": [
    "ps = np.linspace(x1 / n, x2 / n, 100)\n",
    "# ps = np.linspace(0, 0.5, 100)\n",
    "for i in range(n + 1):\n",
    "    pmf = lambda p: jnp.exp(dist.Binomial(n, p).log_prob(i))\n",
    "    dpmf = jax.vmap(jax.grad(pmf))\n",
    "    plt.plot(ps, dpmf(ps), label=f\"x = {i}\")\n",
    "plt.axhline(0, color='black')\n",
    "plt.show()"
   ]
  },
  {
   "cell_type": "markdown",
   "metadata": {},
   "source": [
    "## Archive"
   ]
  },
  {
   "cell_type": "code",
   "execution_count": null,
   "metadata": {},
   "outputs": [
    {
     "data": {
      "text/plain": [
       "(DeviceArray(2.58610127, dtype=float64),\n",
       " DeviceArray(2.58610127, dtype=float64),\n",
       " DeviceArray(2.58610127, dtype=float64))"
      ]
     },
     "metadata": {},
     "output_type": "display_data"
    }
   ],
   "source": [
    "t = -1.1\n",
    "q = 1.2\n",
    "p = jax.scipy.special.expit(t)\n",
    "xs = jnp.arange(n + 1).astype(jnp.float64)\n",
    "out2 = jnp.exp((1 / q) * jax.scipy.special.logsumexp(\n",
    "    q * jnp.log(jnp.abs(dg_vmap(t, xs)))\n",
    "    + dist.Binomial(n, p).log_prob(xs)\n",
    "))\n",
    "\n",
    "eggq = jnp.abs(dg_vmap(t, xs)) ** q\n",
    "binom_pmf = jnp.exp(dist.Binomial(n, p).log_prob(xs))\n",
    "sum(eggq * binom_pmf) ** (1 / q), out2, C_numerical(t, q)\n",
    "n = 50\n",
    "\n",
    "# for each scallop\n",
    "# we know pmin, pmax. determine CS as above.\n",
    "# find the maximum of each term here: \n",
    "# sum those maximums.\n",
    "t1 = q * (-CS * n) * (CS * x - CS * n * p) ** (q - 1) * (p ** x) * ((1 - p) ** (n - x))\n",
    "t2 = (CS * x - CS * n * p) ** q * x * (p**(x - 1)) * ((1 - p) ** (n - x))\n",
    "t3 = (CS * x - CS * n * p) ** q * (p**x) * (n - x) * (-1) * ((1 - p) ** (n - x - 1))\n",
    "scipy.special.comb(n, x) * (t1 + t2 + t3)\n",
    "np.sum(\n",
    "    (\n",
    "        scipy.special.comb(n, x)\n",
    "        * (CS * (x - n * p)) ** q\n",
    "        * (p**x)\n",
    "        * ((1 - p) ** (n - x))\n",
    "    )\n",
    ") ** (1 / hq)\n",
    "\n",
    "n = 50\n",
    "p = 0.45\n",
    "x = np.arange(n + 1)\n",
    "hq = 1.2\n",
    "x_range = (12, 13)\n",
    "SC = np.sign(xs - n * p)\n",
    "FF = (SC * x - SC * n * p) ** hq * (p ** x) * ((1 - p) ** (n - x))\n",
    "ps = np.linspace(12/n, 13/n, 100)\n",
    "hq * np.log(SC * x[None, :] - SC * n * ps[:, None]) + x[None, :] * np.log(ps[:, None]) + (n - x[None, :]) * np.log(1 - ps[:, None])\n",
    "# np.sum((scipy.special.comb(n, x) * (C * (x - n * p)) ** hq * (p ** x) * ((1 - p) ** (n - x)))) ** (1 / hq)\n",
    "plot_q_theta(1.2, domain=[-0.3, -0.28])\n",
    "plt.show()\n",
    "q = 1.2\n",
    "xs_all = jnp.arange(n + 1).astype(jnp.float64)\n",
    "plt.figure(figsize=(10,10))\n",
    "for t in np.linspace(-2, -0.2, 19):\n",
    "    domain = np.array([t - 0.1, t + 0.1])\n",
    "    pdomain = jax.scipy.special.expit(domain)\n",
    "    pworst = pdomain[np.argmax(np.abs(pdomain))]\n",
    "\n",
    "    bad_x_range = jnp.arange(int(np.ceil(n*pdomain[0])), int(np.floor(n*pdomain[1])) + 1)\n",
    "    xs_base = jnp.setdiff1d(xs_all, bad_x_range)\n",
    "\n",
    "    all_max = np.sum(np.max(np.abs(xs_all[None, :] - n * pdomain[:, None]) ** q * scipy.stats.binom.pmf(xs_all, n, pdomain[:, None]), axis=0)) ** (1/q)\n",
    "\n",
    "    split_max = (\n",
    "        np.sum(np.max(np.abs(bad_x_range[None, :] - n * pdomain[:, None]) ** q * scipy.stats.binom.pmf(bad_x_range, n, pdomain[:, None]), axis=0))\n",
    "        + np.sum(np.abs(xs_base - n * pworst) ** q * scipy.stats.binom.pmf(xs_base, n, pworst))\n",
    "    ) ** (1/q)\n",
    "\n",
    "    simple_edge = np.sum(np.abs(xs_all - n * pworst) ** q * scipy.stats.binom.pmf(xs_all, n, pworst)) ** (1/q)\n",
    "\n",
    "    # plt.plot(domain, [all_max, all_max], 'r:', label=\"all\")\n",
    "    plt.plot(domain, [split_max, split_max], 'r-', label=\"split\")\n",
    "    plt.plot(domain, [simple_edge, simple_edge], 'm:', label=\"simple\")\n",
    "\n",
    "    ts = np.linspace(*domain, 1000)\n",
    "    cs = jax.jit(jax.vmap(C_numerical, in_axes=(0, None)))(ts, q)\n",
    "    plt.title(f\"q = {q}\")\n",
    "    plt.plot(ts, cs, 'k-')\n",
    "plt.show()\n",
    "# Let's construct a curve $C_e(\\theta)$ that has the property that:\n",
    "\n",
    "# $$\n",
    "# C(\\theta_{l}) \\leq C_e(\\theta) ~~ \\forall ~~ \\theta_{l} < \\theta\n",
    "# $$\n",
    "start_theta = scipy.special.logit(np.arange(1, n) / n)\n",
    "join = []\n",
    "j = 0\n",
    "left_f = C_numerical(start_theta[j], 1.2)\n",
    "right_f = C_numerical(start_theta[j + 1], 1.2)\n",
    "slope = (right_f - left_f) / (start_theta[j + 1] - start_theta[j])\n",
    "opt = scipy.optimize.minimize_scalar(\n",
    "    lambda t: -(C_numerical(t, 1.2) - (left_f + slope * (t - start_theta[j]))),\n",
    "    bounds = (start_theta[j], start_theta[j+1]),\n",
    "    method = \"bounded\",\n",
    ")\n",
    "join.append((opt['x'], C_numerical(opt['x'], 1.2)))\n",
    "\n",
    "for j in range(start_theta.shape[0] - 1):\n",
    "    opt = scipy.optimize.minimize_scalar(\n",
    "        lambda t: -(C_numerical(t, 1.2) - join[-1][1]) / (t - join[-1][0]),\n",
    "        bounds = (start_theta[j], start_theta[j+1]),\n",
    "        method = \"bounded\",\n",
    "    )\n",
    "    # print(opt['x'], opt['x'] - start_theta[j : (j+2)])\n",
    "    join.append((opt['x'], C_numerical(opt['x'], 1.2)))\n",
    "join = np.array(join)\n",
    "plt.figure(figsize=(3,3))\n",
    "ts = np.linspace(-2.5, 2.5, 1000)\n",
    "cs = jax.jit(jax.vmap(C_numerical, in_axes=(0, None)))(ts, q)\n",
    "plt.title(f\"q = {q}\")\n",
    "plt.plot(ts, cs, label=\"C\")\n",
    "cgs = jax.jit(jax.vmap(jax.grad(C_numerical), in_axes=(0, None)))(ts, q)\n",
    "cggs = jax.jit(jax.vmap(jax.grad(jax.grad(C_numerical)), in_axes=(0, None)))(ts, q)\n",
    "plt.plot(join[:,0], join[:,1], 'k-o')\n",
    "# plt.plot(ts, cgs, label=\"dC/dtheta\")\n",
    "# plt.plot(ts, cggs, label=\"d2C/dtheta2\")\n",
    "# abs_pts = scipy.special.logit(np.arange(1, n) / n)\n",
    "# for t in abs_pts:\n",
    "#     plt.axvline(t, color='black', linewidth=0.5)\n",
    "# plt.ylim([-1, 4])\n",
    "plt.xlim([np.min(ts), np.max(ts)])\n",
    "plt.ylim([np.min(cs), np.max(cs)])\n",
    "plt.legend()\n",
    "plt.xlabel(r\"$\\theta$\")\n",
    "plt.show()"
   ]
  }
 ],
 "metadata": {
  "kernelspec": {
   "display_name": "Python 3.10.5 ('confirm')",
   "language": "python",
   "name": "python3"
  },
  "language_info": {
   "codemirror_mode": {
    "name": "ipython",
    "version": 3
   },
   "file_extension": ".py",
   "mimetype": "text/x-python",
   "name": "python",
   "nbconvert_exporter": "python",
   "pygments_lexer": "ipython3",
   "version": "3.10.5"
  },
  "orig_nbformat": 4,
  "vscode": {
   "interpreter": {
    "hash": "b4c6ec5b2d6c7b38df115d547b82cd53ca25eea58d87299956d35a9dc79f19f1"
   }
  }
 },
 "nbformat": 4,
 "nbformat_minor": 2
}
