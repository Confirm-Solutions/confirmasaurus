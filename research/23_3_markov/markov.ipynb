{
 "cells": [
  {
   "cell_type": "code",
   "execution_count": 91,
   "metadata": {},
   "outputs": [],
   "source": [
    "import numpy as np\n",
    "import jax\n",
    "import jax.numpy as jnp\n",
    "import scipy\n",
    "from scipy.stats import norm\n",
    "import cvxpy as cp\n",
    "import matplotlib.pyplot as plt"
   ]
  },
  {
   "cell_type": "code",
   "execution_count": 227,
   "metadata": {},
   "outputs": [],
   "source": [
    "B = 50\n",
    "n_grid = 1000\n",
    "n_moments = 7\n",
    "t = 2"
   ]
  },
  {
   "cell_type": "code",
   "execution_count": 228,
   "metadata": {},
   "outputs": [],
   "source": [
    "# E[|X|^k], X ~ N(mu, sig)\n",
    "def moments(k, mu=0, sig=1):\n",
    "    m = (sig * np.sqrt(2)) ** k / np.sqrt(np.pi)\n",
    "    m *= scipy.special.gamma(0.5 * (1 + k))\n",
    "    m *= scipy.special.hyp1f1(-0.5 * k, 0.5, -0.5 * (mu / sig) ** 2)\n",
    "    return m"
   ]
  },
  {
   "cell_type": "code",
   "execution_count": 229,
   "metadata": {},
   "outputs": [],
   "source": [
    "xs = np.linspace(0, B, num=n_grid)\n",
    "ms = [moments(k) for k in range(1, n_moments+1)]\n",
    "M = np.array([\n",
    "    xs ** k\n",
    "    for k in range(1, n_moments+1)\n",
    "])"
   ]
  },
  {
   "cell_type": "code",
   "execution_count": 230,
   "metadata": {},
   "outputs": [
    {
     "ename": "SolverError",
     "evalue": "Solver 'ECOS' failed. Try another solver, or solve with verbose=True for more information.",
     "output_type": "error",
     "traceback": [
      "\u001b[0;31m---------------------------------------------------------------------------\u001b[0m",
      "\u001b[0;31mSolverError\u001b[0m                               Traceback (most recent call last)",
      "Cell \u001b[0;32mIn[230], line 12\u001b[0m\n\u001b[1;32m      5\u001b[0m constraints \u001b[39m=\u001b[39m [\n\u001b[1;32m      6\u001b[0m     \u001b[39m0\u001b[39m \u001b[39m<\u001b[39m\u001b[39m=\u001b[39m w,\n\u001b[1;32m      7\u001b[0m     w \u001b[39m<\u001b[39m\u001b[39m=\u001b[39m \u001b[39m1\u001b[39m,\n\u001b[1;32m      8\u001b[0m     cp\u001b[39m.\u001b[39msum(w) \u001b[39m==\u001b[39m \u001b[39m1\u001b[39m,\n\u001b[1;32m      9\u001b[0m     M \u001b[39m@\u001b[39m w \u001b[39m==\u001b[39m ms,\n\u001b[1;32m     10\u001b[0m ]\n\u001b[1;32m     11\u001b[0m prob \u001b[39m=\u001b[39m cp\u001b[39m.\u001b[39mProblem(objective, constraints)\n\u001b[0;32m---> 12\u001b[0m result \u001b[39m=\u001b[39m prob\u001b[39m.\u001b[39;49msolve(\n\u001b[1;32m     13\u001b[0m     solver\u001b[39m=\u001b[39;49m\u001b[39m'\u001b[39;49m\u001b[39mECOS\u001b[39;49m\u001b[39m'\u001b[39;49m,\n\u001b[1;32m     14\u001b[0m )\n",
      "File \u001b[0;32m~/opt/miniconda3/envs/confirm/lib/python3.10/site-packages/cvxpy/problems/problem.py:493\u001b[0m, in \u001b[0;36mProblem.solve\u001b[0;34m(self, *args, **kwargs)\u001b[0m\n\u001b[1;32m    491\u001b[0m \u001b[39melse\u001b[39;00m:\n\u001b[1;32m    492\u001b[0m     solve_func \u001b[39m=\u001b[39m Problem\u001b[39m.\u001b[39m_solve\n\u001b[0;32m--> 493\u001b[0m \u001b[39mreturn\u001b[39;00m solve_func(\u001b[39mself\u001b[39;49m, \u001b[39m*\u001b[39;49margs, \u001b[39m*\u001b[39;49m\u001b[39m*\u001b[39;49mkwargs)\n",
      "File \u001b[0;32m~/opt/miniconda3/envs/confirm/lib/python3.10/site-packages/cvxpy/problems/problem.py:1068\u001b[0m, in \u001b[0;36mProblem._solve\u001b[0;34m(self, solver, warm_start, verbose, gp, qcp, requires_grad, enforce_dpp, ignore_dpp, canon_backend, **kwargs)\u001b[0m\n\u001b[1;32m   1066\u001b[0m end \u001b[39m=\u001b[39m time\u001b[39m.\u001b[39mtime()\n\u001b[1;32m   1067\u001b[0m \u001b[39mself\u001b[39m\u001b[39m.\u001b[39m_solve_time \u001b[39m=\u001b[39m end \u001b[39m-\u001b[39m start\n\u001b[0;32m-> 1068\u001b[0m \u001b[39mself\u001b[39;49m\u001b[39m.\u001b[39;49munpack_results(solution, solving_chain, inverse_data)\n\u001b[1;32m   1069\u001b[0m \u001b[39mif\u001b[39;00m verbose:\n\u001b[1;32m   1070\u001b[0m     \u001b[39mprint\u001b[39m(_FOOTER)\n",
      "File \u001b[0;32m~/opt/miniconda3/envs/confirm/lib/python3.10/site-packages/cvxpy/problems/problem.py:1393\u001b[0m, in \u001b[0;36mProblem.unpack_results\u001b[0;34m(self, solution, chain, inverse_data)\u001b[0m\n\u001b[1;32m   1391\u001b[0m     warnings\u001b[39m.\u001b[39mwarn(INF_OR_UNB_MESSAGE)\n\u001b[1;32m   1392\u001b[0m \u001b[39mif\u001b[39;00m solution\u001b[39m.\u001b[39mstatus \u001b[39min\u001b[39;00m s\u001b[39m.\u001b[39mERROR:\n\u001b[0;32m-> 1393\u001b[0m     \u001b[39mraise\u001b[39;00m error\u001b[39m.\u001b[39mSolverError(\n\u001b[1;32m   1394\u001b[0m             \u001b[39m\"\u001b[39m\u001b[39mSolver \u001b[39m\u001b[39m'\u001b[39m\u001b[39m%s\u001b[39;00m\u001b[39m'\u001b[39m\u001b[39m failed. \u001b[39m\u001b[39m\"\u001b[39m \u001b[39m%\u001b[39m chain\u001b[39m.\u001b[39msolver\u001b[39m.\u001b[39mname() \u001b[39m+\u001b[39m\n\u001b[1;32m   1395\u001b[0m             \u001b[39m\"\u001b[39m\u001b[39mTry another solver, or solve with verbose=True for more \u001b[39m\u001b[39m\"\u001b[39m\n\u001b[1;32m   1396\u001b[0m             \u001b[39m\"\u001b[39m\u001b[39minformation.\u001b[39m\u001b[39m\"\u001b[39m)\n\u001b[1;32m   1398\u001b[0m \u001b[39mself\u001b[39m\u001b[39m.\u001b[39munpack(solution)\n\u001b[1;32m   1399\u001b[0m \u001b[39mself\u001b[39m\u001b[39m.\u001b[39m_solver_stats \u001b[39m=\u001b[39m SolverStats(\u001b[39mself\u001b[39m\u001b[39m.\u001b[39m_solution\u001b[39m.\u001b[39mattr,\n\u001b[1;32m   1400\u001b[0m                                  chain\u001b[39m.\u001b[39msolver\u001b[39m.\u001b[39mname())\n",
      "\u001b[0;31mSolverError\u001b[0m: Solver 'ECOS' failed. Try another solver, or solve with verbose=True for more information."
     ]
    }
   ],
   "source": [
    "w = cp.Variable(n_grid)\n",
    "objective = cp.Maximize(\n",
    "    cp.sum(w[xs > t])\n",
    ")\n",
    "constraints = [\n",
    "    0 <= w,\n",
    "    w <= 1,\n",
    "    cp.sum(w) == 1,\n",
    "    M @ w == ms,\n",
    "]\n",
    "prob = cp.Problem(objective, constraints)\n",
    "result = prob.solve(\n",
    "    solver='ECOS',\n",
    ")"
   ]
  },
  {
   "cell_type": "code",
   "execution_count": 226,
   "metadata": {},
   "outputs": [
    {
     "name": "stdout",
     "output_type": "stream",
     "text": [
      "0.12617891497342307\n",
      "[0.39894228 0.25       0.19947114 0.1875     0.19947114 0.234375\n",
      " 0.29920671]\n",
      "0.04550026389635839\n"
     ]
    }
   ],
   "source": [
    "print(result) # P(|X| > t) under F^*\n",
    "print( \n",
    "    (M @ w.value) / np.array([t ** i for i in range(1, n_moments+1)])\n",
    ")\n",
    "print(2 * scipy.stats.norm.sf(t)) # P(|X| > t)"
   ]
  }
 ],
 "metadata": {
  "kernelspec": {
   "display_name": "confirm",
   "language": "python",
   "name": "python3"
  },
  "language_info": {
   "codemirror_mode": {
    "name": "ipython",
    "version": 3
   },
   "file_extension": ".py",
   "mimetype": "text/x-python",
   "name": "python",
   "nbconvert_exporter": "python",
   "pygments_lexer": "ipython3",
   "version": "3.10.9"
  },
  "orig_nbformat": 4,
  "vscode": {
   "interpreter": {
    "hash": "d8e1ca1b3fede25e3995e2b26ea544fa1b75b9a17984e6284a43c1dc286640dd"
   }
  }
 },
 "nbformat": 4,
 "nbformat_minor": 2
}
