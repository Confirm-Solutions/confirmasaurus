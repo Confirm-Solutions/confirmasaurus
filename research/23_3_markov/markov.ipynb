{
 "cells": [
  {
   "cell_type": "code",
   "execution_count": 26,
   "metadata": {},
   "outputs": [],
   "source": [
    "import numpy as np\n",
    "import jax\n",
    "import jax.numpy as jnp\n",
    "import scipy\n",
    "from scipy.stats import norm"
   ]
  },
  {
   "cell_type": "code",
   "execution_count": 27,
   "metadata": {},
   "outputs": [],
   "source": [
    "B = 10\n",
    "n_grid = 10"
   ]
  },
  {
   "cell_type": "code",
   "execution_count": 28,
   "metadata": {},
   "outputs": [],
   "source": [
    "def moments(k, mu=0, sig=1):\n",
    "    m = (sig * np.sqrt(2)) ** k / np.sqrt(np.pi)\n",
    "    m *= scipy.special.gamma(0.5 * (1 + k))\n",
    "    m *= scipy.special.hyp1f1(-0.5 * k, 0.5, -0.5 * (mu / sig) ** 2)\n",
    "    return m"
   ]
  },
  {
   "cell_type": "code",
   "execution_count": 29,
   "metadata": {},
   "outputs": [
    {
     "data": {
      "text/plain": [
       "array([ 0.23880133,  1.06815081, -0.99359021,  1.58533381, -1.73245653,\n",
       "        1.3634195 , -0.74916701,  0.27304929, -0.05937879,  0.00583781])"
      ]
     },
     "execution_count": 29,
     "metadata": {},
     "output_type": "execute_result"
    }
   ],
   "source": [
    "xs = np.linspace(0, B, num=n_grid)\n",
    "ms = [moments(k) for k in range(n_grid)]\n",
    "axs = np.abs(xs)\n",
    "M = np.array([\n",
    "    axs ** k\n",
    "    for k in range(n_grid)\n",
    "])\n",
    "ws = np.linalg.solve(M, ms)\n",
    "ws"
   ]
  },
  {
   "attachments": {},
   "cell_type": "markdown",
   "metadata": {},
   "source": [
    "The weights can be outside $[0,1]$ range it seems..."
   ]
  }
 ],
 "metadata": {
  "kernelspec": {
   "display_name": "confirm",
   "language": "python",
   "name": "python3"
  },
  "language_info": {
   "codemirror_mode": {
    "name": "ipython",
    "version": 3
   },
   "file_extension": ".py",
   "mimetype": "text/x-python",
   "name": "python",
   "nbconvert_exporter": "python",
   "pygments_lexer": "ipython3",
   "version": "3.10.9"
  },
  "orig_nbformat": 4,
  "vscode": {
   "interpreter": {
    "hash": "d8e1ca1b3fede25e3995e2b26ea544fa1b75b9a17984e6284a43c1dc286640dd"
   }
  }
 },
 "nbformat": 4,
 "nbformat_minor": 2
}
