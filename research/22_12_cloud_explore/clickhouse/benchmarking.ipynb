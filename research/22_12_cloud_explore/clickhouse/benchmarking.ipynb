{
 "cells": [
  {
   "cell_type": "code",
   "execution_count": null,
   "metadata": {},
   "outputs": [],
   "source": [
    "import confirm.outlaw.nb_util as nb_util\n",
    "nb_util.setup_nb()\n",
    "import xxhash\n",
    "\n",
    "id = [0, 1]"
   ]
  },
  {
   "cell_type": "code",
   "execution_count": null,
   "metadata": {},
   "outputs": [],
   "source": [
    "import confirm.cloud.clickhouse as ch\n",
    "import pandas as pd\n",
    "import numpy as np\n",
    "# ch_db = ch.Clickhouse.connect()"
   ]
  },
  {
   "cell_type": "code",
   "execution_count": null,
   "metadata": {},
   "outputs": [],
   "source": [
    "df = pd.read_parquet('research/cloud_explore/clickhouse/dbtest.parquet')"
   ]
  },
  {
   "cell_type": "code",
   "execution_count": null,
   "metadata": {},
   "outputs": [],
   "source": [
    "import string\n",
    "import random\n",
    "# ids = [\n",
    "#     ''.join(random.choice(string.ascii_uppercase + string.digits) for _ in range(80))\n",
    "#     for i in range(100000)\n",
    "# ]\n",
    "A, Z = np.array([\"A\",\"Z\"]).view(\"int32\") \n",
    "\n",
    "NO_CODES = df.shape[0]\n",
    "LEN = 80\n",
    "\n",
    "ids = np.random.randint(low=A,high=Z,size=NO_CODES*LEN,dtype=\"int32\").view(f\"U{LEN}\")"
   ]
  },
  {
   "cell_type": "code",
   "execution_count": null,
   "metadata": {},
   "outputs": [],
   "source": [
    "# ids_hashed = [xxhash.xxh128_digest(ids[i]) for i in range(ids.shape[0])]"
   ]
  },
  {
   "cell_type": "code",
   "execution_count": null,
   "metadata": {},
   "outputs": [],
   "source": [
    "ch_db = ch.Clickhouse.connect(host='localhost', port=8123, password='')"
   ]
  },
  {
   "cell_type": "code",
   "execution_count": null,
   "metadata": {},
   "outputs": [],
   "source": [
    "df['id'] = df.index\n",
    "# df['id'] = ids\n",
    "# df['id'] = df['id'].astype('|S80')\n",
    "# df['id'] = ids_hashed\n",
    "# df['id'] = df['id'].astype(\"|S16\")\n",
    "df['eligible'] = True\n",
    "df['active'] = True\n",
    "df['lineage'] = ids\n",
    "df['lineage'] = df['id'].astype('|S80')\n",
    "df['orderer'] = df['orig_lam']"
   ]
  },
  {
   "cell_type": "code",
   "execution_count": null,
   "metadata": {},
   "outputs": [
    {
     "data": {
      "text/plain": [
       "7.646865994"
      ]
     },
     "metadata": {},
     "output_type": "display_data"
    }
   ],
   "source": [
    "df.memory_usage().sum() / 1e9"
   ]
  },
  {
   "cell_type": "code",
   "execution_count": null,
   "metadata": {},
   "outputs": [
    {
     "name": "stdout",
     "output_type": "stream",
     "text": [
      "Int64\n",
      "CPU times: user 974 ms, sys: 696 ms, total: 1.67 s\n",
      "Wall time: 3.74 s\n"
     ]
    }
   ],
   "source": [
    "%%time\n",
    "# ch_db.client.command('drop table tiles')\n",
    "# ch_db.client.command('drop table tiles_inactive')\n",
    "# ch_db.client.command('drop table work')\n",
    "ch_db.init_tiles(df[:5000000])"
   ]
  },
  {
   "cell_type": "code",
   "execution_count": null,
   "metadata": {},
   "outputs": [
    {
     "name": "stdout",
     "output_type": "stream",
     "text": [
      "CPU times: user 2.72 s, sys: 2 s, total: 4.71 s\n",
      "Wall time: 9.21 s\n"
     ]
    }
   ],
   "source": [
    "%%time\n",
    "ch_db.write(df[5000000:10000000])\n",
    "ch_db.write(df[10000000:15000000])\n",
    "ch_db.write(df[15000000:20000000])"
   ]
  },
  {
   "cell_type": "code",
   "execution_count": null,
   "metadata": {},
   "outputs": [
    {
     "name": "stdout",
     "output_type": "stream",
     "text": [
      "CPU times: user 2.65 s, sys: 1.93 s, total: 4.59 s\n",
      "Wall time: 9.12 s\n"
     ]
    }
   ],
   "source": [
    "%%time\n",
    "ch_db.write(df[5000000:10000000])\n",
    "ch_db.write(df[10000000:15000000])\n",
    "ch_db.write(df[15000000:20000000])"
   ]
  },
  {
   "cell_type": "code",
   "execution_count": null,
   "metadata": {},
   "outputs": [
    {
     "name": "stdout",
     "output_type": "stream",
     "text": [
      "0 0.10164499282836914\n",
      "1 0.08141803741455078\n",
      "2 0.08311700820922852\n",
      "3 0.07768011093139648\n",
      "4 0.08029007911682129\n"
     ]
    }
   ],
   "source": [
    "import time\n",
    "runtimes = []\n",
    "for i in range(5):\n",
    "    start = time.time()\n",
    "    ch_db.next(10000, 'orderer')\n",
    "    print(i, time.time() - start)\n",
    "    runtimes.append(time.time() - start)"
   ]
  },
  {
   "cell_type": "code",
   "execution_count": null,
   "metadata": {},
   "outputs": [],
   "source": [
    "import confirm.imprint as ip"
   ]
  },
  {
   "cell_type": "code",
   "execution_count": null,
   "metadata": {},
   "outputs": [
    {
     "name": "stdout",
     "output_type": "stream",
     "text": [
      "CPU times: user 53 µs, sys: 3 µs, total: 56 µs\n",
      "Wall time: 57 µs\n"
     ]
    },
    {
     "data": {
      "text/plain": [
       "array([10257294789557878784, 10257294789557878785, 10257294789557878786,\n",
       "       ..., 10257294789557888781, 10257294789557888782,\n",
       "       10257294789557888783], dtype=uint64)"
      ]
     },
     "metadata": {},
     "output_type": "display_data"
    }
   ],
   "source": [
    "%%time\n",
    "ip.grid.gen_short_uuids(10000)"
   ]
  },
  {
   "cell_type": "code",
   "execution_count": null,
   "metadata": {},
   "outputs": [
    {
     "name": "stdout",
     "output_type": "stream",
     "text": [
      "CPU times: user 2.66 ms, sys: 2 µs, total: 2.66 ms\n",
      "Wall time: 2.66 ms\n"
     ]
    }
   ],
   "source": [
    "%%time\n",
    "for i in range(10000):\n",
    "    xxhash.xxh64_intdigest(str(id))"
   ]
  }
 ],
 "metadata": {
  "kernelspec": {
   "display_name": "confirm",
   "language": "python",
   "name": "python3"
  },
  "language_info": {
   "codemirror_mode": {
    "name": "ipython",
    "version": 3
   },
   "file_extension": ".py",
   "mimetype": "text/x-python",
   "name": "python",
   "nbconvert_exporter": "python",
   "pygments_lexer": "ipython3",
   "version": "3.10.8"
  },
  "orig_nbformat": 4,
  "vscode": {
   "interpreter": {
    "hash": "b4c6ec5b2d6c7b38df115d547b82cd53ca25eea58d87299956d35a9dc79f19f1"
   }
  }
 },
 "nbformat": 4,
 "nbformat_minor": 2
}
