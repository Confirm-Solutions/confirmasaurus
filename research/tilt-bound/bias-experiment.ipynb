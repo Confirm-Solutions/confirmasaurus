{
 "cells": [
  {
   "cell_type": "code",
   "execution_count": 41,
   "metadata": {},
   "outputs": [],
   "source": [
    "%load_ext autoreload\n",
    "%autoreload 2"
   ]
  },
  {
   "cell_type": "code",
   "execution_count": 47,
   "metadata": {},
   "outputs": [],
   "source": [
    "import jax\n",
    "import jax.numpy as jnp\n",
    "import matplotlib.pyplot as plt"
   ]
  },
  {
   "cell_type": "markdown",
   "metadata": {},
   "source": [
    "Let $X \\sim N(\\theta, 1)$ be the data of interest.\n",
    "We restrict to $\\theta \\in [a,b]$ for some fixed $a, b$.\n",
    "We wish to estimate $G(\\theta) := \\theta$ by using our estimator $F(X) := \\max(a, \\min(X, b))$.\n",
    "This notebook covers our bias estimation method.\n",
    "That is, we wish to estimate $E_\\theta[F(X)] - G(\\theta)$ on a grid of $\\theta$'s.\n",
    "\n",
    "Let $f(\\theta) := E_\\theta[F(X) - G(\\theta)]$.\n",
    "Let $$\\tilde{F}(X) := \\frac{F(X) - a}{b-a}$$ \n",
    "so that $$f(\\theta) = (b-a) E_\\theta[\\tilde{F}(X)] + a - G(\\theta)$$\n",
    "Given $\\theta_0$, we obtain the Tilt-Bound on $E_\\theta[\\tilde{F}(X)]$,\n",
    "which gives us the bound\n",
    "$$(b-a) U(\\theta_0, v, q, E_{\\theta_0}[\\tilde{F}(X)]) + a - G(\\theta)$$"
   ]
  },
  {
   "cell_type": "code",
   "execution_count": 57,
   "metadata": {},
   "outputs": [],
   "source": [
    "def esti(x, a, b):\n",
    "    return jnp.maximum(a, jnp.minimum(x, b))\n",
    "\n",
    "\n",
    "def esti_tilde(x, a, b):\n",
    "    return (esti(x, a, b) - a) / (b - a)\n",
    "\n",
    "\n",
    "def G(x):\n",
    "    return x"
   ]
  },
  {
   "cell_type": "code",
   "execution_count": 49,
   "metadata": {},
   "outputs": [],
   "source": [
    "def exp_esti_tilde(theta, sig, a, b):\n",
    "    cdf_a = jax.scipy.stats.norm.cdf(a, theta, sig)\n",
    "    cdf_b = jax.scipy.stats.norm.cdf(b, theta, sig)\n",
    "    out = a * cdf_a\n",
    "    out = out + theta * (cdf_b - cdf_a)\n",
    "    out = out + sig**2 * (\n",
    "        jax.scipy.stats.norm.pdf(a, theta, sig)\n",
    "        - jax.scipy.stats.norm.pdf(b, theta, sig)\n",
    "    )\n",
    "    out = out + b * (1 - cdf_b)\n",
    "    return (out - a) / (b - a)"
   ]
  },
  {
   "cell_type": "code",
   "execution_count": 100,
   "metadata": {},
   "outputs": [],
   "source": [
    "def tilt_bound_fwd(v, f0):\n",
    "    logf0 = jnp.log(f0)\n",
    "    q_opt = jnp.maximum(jnp.sqrt(-2 * logf0) / jnp.abs(v), 1)\n",
    "    expo = 0.5 * (q_opt - 1) * v**2 - logf0 / q_opt\n",
    "    return f0 * jnp.exp(expo)"
   ]
  },
  {
   "cell_type": "code",
   "execution_count": 105,
   "metadata": {},
   "outputs": [],
   "source": [
    "a = 1\n",
    "b = 4\n",
    "radius = jnp.minimum(1e-2, (b - a) / 2)\n",
    "theta_0 = (a + b) / 2\n",
    "vs = jnp.linspace(-radius, radius, 100)\n",
    "f0 = exp_esti_tilde(theta_0, 1, a, b)"
   ]
  },
  {
   "cell_type": "code",
   "execution_count": 106,
   "metadata": {},
   "outputs": [],
   "source": [
    "tilt_bound_fwd_jv = jax.jit(jax.vmap(tilt_bound_fwd, in_axes=(0, None)))"
   ]
  },
  {
   "cell_type": "code",
   "execution_count": 107,
   "metadata": {},
   "outputs": [],
   "source": [
    "bounds = tilt_bound_fwd_jv(vs, f0)\n",
    "bounds = a + (b - a) * bounds - G(theta_0 + vs)\n",
    "true_bias = a + (b - a) * exp_esti_tilde(theta_0 + vs, 1, a, b) - G(theta_0 + vs)"
   ]
  },
  {
   "cell_type": "code",
   "execution_count": 108,
   "metadata": {},
   "outputs": [
    {
     "data": {
      "text/plain": [
       "[<matplotlib.lines.Line2D at 0x2b0ad8310>]"
      ]
     },
     "execution_count": 108,
     "metadata": {},
     "output_type": "execute_result"
    },
    {
     "data": {
      "image/png": "[encoded data removed]",
      "text/plain": [
       "<Figure size 432x288 with 1 Axes>"
      ]
     },
     "metadata": {
      "needs_background": "light"
     },
     "output_type": "display_data"
    }
   ],
   "source": [
    "plt.plot(vs, bounds)\n",
    "plt.plot(vs, true_bias)"
   ]
  }
 ],
 "metadata": {
  "kernelspec": {
   "display_name": "Python 3.10.5 ('confirm')",
   "language": "python",
   "name": "python3"
  },
  "language_info": {
   "codemirror_mode": {
    "name": "ipython",
    "version": 3
   },
   "file_extension": ".py",
   "mimetype": "text/x-python",
   "name": "python",
   "nbconvert_exporter": "python",
   "pygments_lexer": "ipython3",
   "version": "3.10.5"
  },
  "orig_nbformat": 4,
  "vscode": {
   "interpreter": {
    "hash": "d8e1ca1b3fede25e3995e2b26ea544fa1b75b9a17984e6284a43c1dc286640dd"
   }
  }
 },
 "nbformat": 4,
 "nbformat_minor": 2
}
