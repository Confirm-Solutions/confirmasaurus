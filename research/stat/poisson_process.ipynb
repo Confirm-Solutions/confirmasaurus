{
 "cells": [
  {
   "cell_type": "markdown",
   "metadata": {},
   "source": [
    "# Poisson Process Fun Time"
   ]
  },
  {
   "cell_type": "code",
   "execution_count": 115,
   "metadata": {},
   "outputs": [],
   "source": [
    "import numpy as np\n",
    "import jax.numpy as jnp\n",
    "import jax\n",
    "import matplotlib.pyplot as plt"
   ]
  },
  {
   "cell_type": "code",
   "execution_count": 154,
   "metadata": {},
   "outputs": [],
   "source": [
    "def h(p):\n",
    "    return p\n",
    "\n",
    "def method_1(lam, n_sims, t, seed):\n",
    "    key = jax.random.PRNGKey(seed)\n",
    "\n",
    "    Ns = jax.random.poisson(key=key, lam=lam, shape=(n_sims,))\n",
    "    max_Ns = jnp.max(Ns)\n",
    "    order = jnp.arange(0, max_Ns)\n",
    " \n",
    "    def stat(N, key): \n",
    "        p = jax.random.uniform(key=key, shape=(max_Ns,))\n",
    "        p_sub = jnp.where(order < N, p, jnp.nan)\n",
    "        return jnp.sum(h(p_sub) * (p_sub < t))\n",
    "    \n",
    "    keys = jax.random.split(key, num=n_sims)\n",
    "        \n",
    "    stat_vmapped = jax.vmap(stat, in_axes=(0,0))\n",
    "    stat_vmapped_jit = jax.jit(stat_vmapped)\n",
    "    out = stat_vmapped_jit(Ns, keys)\n",
    "    return out\n",
    "\n",
    "def method_2(lam, n_sims, t, seed, n_begin=10):\n",
    "    key = jax.random.PRNGKey(seed)\n",
    "\n",
    "    # sample Exp(lam) until the running sum is >= 1, then take everything before that point.\n",
    "    # If X_1,..., X_n ~ Exp(lam) and T_i = sum_{j=1}^i X_j,\n",
    "    # then (T_1,..., T_{n-1}) | T_n = t ~ (U_{(1)}, ..., U_{(n-1)}) where each U_i ~ Unif(0, t)\n",
    "    # \n",
    "    # Sampling procedure:\n",
    "    # - Increase n until T_n >= 1\n",
    "    # - Sample (T_1,..., T_{n-1}) | T_n via formula above.\n",
    "    # - Sum over h(T_i) 1{T_i < t}\n",
    "\n",
    "    def find_n_T_n(n_begin, key):\n",
    "        n = n_begin\n",
    "        T = 0\n",
    "        def body_fun(tup, key):\n",
    "            n, _ = tup\n",
    "            n = n + n_begin\n",
    "            _, key = jax.random.split(key)\n",
    "            return (n, jax.random.gamma(key=key, a=n) / lam)\n",
    "        out = jax.lax.while_loop(\n",
    "            lambda tup: tup[1] < 1, \n",
    "            lambda tup: body_fun(tup, key), \n",
    "            (n, T))\n",
    "        return jnp.array(out)\n",
    "\n",
    "    keys = jax.random.split(key, num=n_sims)\n",
    "    NT = jax.jit(jax.vmap(find_n_T_n, in_axes=(None, 0)))(n_begin, keys)\n",
    "    \n",
    "    N_max = int(jnp.max(NT[:,0]))\n",
    "    order = jnp.arange(0, N_max)\n",
    "    def stat(nt, key):\n",
    "        n, t_n = nt\n",
    "        unifs = jax.random.uniform(key=key, shape=(N_max,))\n",
    "        unifs = jnp.where(order < (n-1), unifs, jnp.inf)\n",
    "        unifs_sorted = jnp.sort(unifs)\n",
    "        Ts = t_n * unifs_sorted\n",
    "        return jnp.sum(h(Ts) * (Ts < t))\n",
    "\n",
    "    stat_vmapped = jax.vmap(stat, in_axes=(0,0))\n",
    "    stat_vmapped_jit = jax.jit(stat_vmapped)\n",
    "\n",
    "    keys = jax.random.split(keys[-1], num=n_sims)\n",
    "    return stat_vmapped_jit(NT, keys)\n"
   ]
  },
  {
   "cell_type": "code",
   "execution_count": 158,
   "metadata": {},
   "outputs": [],
   "source": [
    "lam = 100\n",
    "n_sims = 100000\n",
    "t = 0.2\n",
    "seed = 69"
   ]
  },
  {
   "cell_type": "code",
   "execution_count": 159,
   "metadata": {},
   "outputs": [],
   "source": [
    "out_1 = method_1(lam=lam, n_sims=n_sims, t=t, seed=seed)\n",
    "out_2 = method_2(lam=lam, n_sims=n_sims, t=t, seed=seed)"
   ]
  },
  {
   "cell_type": "code",
   "execution_count": 160,
   "metadata": {},
   "outputs": [
    {
     "data": {
      "image/png": "[encoded data removed]",
      "text/plain": [
       "<Figure size 432x288 with 1 Axes>"
      ]
     },
     "metadata": {
      "needs_background": "light"
     },
     "output_type": "display_data"
    }
   ],
   "source": [
    "plt.hist(out_1, bins=50, alpha=0.5, label='method_1')\n",
    "plt.hist(out_2, bins=50, alpha=0.5, label='method_2')\n",
    "plt.legend()\n",
    "plt.show()"
   ]
  }
 ],
 "metadata": {
  "kernelspec": {
   "display_name": "Python 3.10.5 ('confirm')",
   "language": "python",
   "name": "python3"
  },
  "language_info": {
   "codemirror_mode": {
    "name": "ipython",
    "version": 3
   },
   "file_extension": ".py",
   "mimetype": "text/x-python",
   "name": "python",
   "nbconvert_exporter": "python",
   "pygments_lexer": "ipython3",
   "version": "3.10.5"
  },
  "orig_nbformat": 4,
  "vscode": {
   "interpreter": {
    "hash": "d8e1ca1b3fede25e3995e2b26ea544fa1b75b9a17984e6284a43c1dc286640dd"
   }
  }
 },
 "nbformat": 4,
 "nbformat_minor": 2
}
