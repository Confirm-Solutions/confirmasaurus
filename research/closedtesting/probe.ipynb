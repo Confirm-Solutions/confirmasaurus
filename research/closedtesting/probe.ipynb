{
 "cells": [
  {
   "cell_type": "code",
   "execution_count": 1,
   "metadata": {},
   "outputs": [
    {
     "data": {
      "text/plain": [
       "<clickhouse_connect.driver.httpclient.HttpClient at 0x1114ab0a0>"
      ]
     },
     "execution_count": 1,
     "metadata": {},
     "output_type": "execute_result"
    }
   ],
   "source": [
    "import confirm.cloud.clickhouse as ch\n",
    "client = ch.connect('wd41_4d_v3')\n",
    "client"
   ]
  },
  {
   "cell_type": "code",
   "execution_count": 2,
   "metadata": {},
   "outputs": [
    {
     "name": "stderr",
     "output_type": "stream",
     "text": [
      "Code: 60. DB::Exception: Table wd41_4d_v3.reports doesn't exist. (UNKNOWN_TABLE) (version 22.13.1.24479 (official build))\n",
      "\n"
     ]
    },
    {
     "ename": "DatabaseError",
     "evalue": ":HTTPDriver for https://t2n4z83v82.us-east-1.aws.clickhouse.cloud:8443 returned response code 404)\n Code: 60. DB::Exception: Table wd41_4d_v3.reports doesn't exist. (UNKNOWN_TABLE) (version 22.13.1.24479 (official build))\n",
     "output_type": "error",
     "traceback": [
      "\u001b[0;31m---------------------------------------------------------------------------\u001b[0m",
      "\u001b[0;31mDatabaseError\u001b[0m                             Traceback (most recent call last)",
      "Cell \u001b[0;32mIn[2], line 1\u001b[0m\n\u001b[0;32m----> 1\u001b[0m reports_df \u001b[39m=\u001b[39m ch\u001b[39m.\u001b[39;49mquery_df(client, \u001b[39m'\u001b[39;49m\u001b[39mselect * from reports\u001b[39;49m\u001b[39m'\u001b[39;49m)\n",
      "File \u001b[0;32m~/confirm/confirmasaurus/confirm/cloud/clickhouse.py:164\u001b[0m, in \u001b[0;36mquery_df\u001b[0;34m(client, query)\u001b[0m\n\u001b[1;32m    158\u001b[0m \u001b[39mdef\u001b[39;00m \u001b[39mquery_df\u001b[39m(client, query):\n\u001b[1;32m    159\u001b[0m     \u001b[39m# Loading via Arrow and then converting to Pandas is faster than using\u001b[39;00m\n\u001b[1;32m    160\u001b[0m     \u001b[39m# query_df directly to load a pandas dataframe. I'm guessing that loading\u001b[39;00m\n\u001b[1;32m    161\u001b[0m     \u001b[39m# through arrow is a little less flexible or something, but for our\u001b[39;00m\n\u001b[1;32m    162\u001b[0m     \u001b[39m# purposes, faster loading is great.\u001b[39;00m\n\u001b[1;32m    163\u001b[0m     start \u001b[39m=\u001b[39m time\u001b[39m.\u001b[39mtime()\n\u001b[0;32m--> 164\u001b[0m     out \u001b[39m=\u001b[39m retry_ch_action(client\u001b[39m.\u001b[39;49mquery_arrow, query)\u001b[39m.\u001b[39mto_pandas()\n\u001b[1;32m    165\u001b[0m     logger\u001b[39m.\u001b[39mdebug(\u001b[39mf\u001b[39m\u001b[39m\"\u001b[39m\u001b[39mQuery took \u001b[39m\u001b[39m{\u001b[39;00mtime\u001b[39m.\u001b[39mtime()\u001b[39m \u001b[39m\u001b[39m-\u001b[39m\u001b[39m \u001b[39mstart\u001b[39m}\u001b[39;00m\u001b[39m seconds\u001b[39m\u001b[39m\\n\u001b[39;00m\u001b[39m{\u001b[39;00mquery\u001b[39m}\u001b[39;00m\u001b[39m\"\u001b[39m)\n\u001b[1;32m    166\u001b[0m     \u001b[39mreturn\u001b[39;00m out\n",
      "File \u001b[0;32m~/confirm/confirmasaurus/confirm/cloud/clickhouse.py:142\u001b[0m, in \u001b[0;36mretry_ch_action\u001b[0;34m(method, retries, is_retry, *args, **kwargs)\u001b[0m\n\u001b[1;32m    137\u001b[0m     \u001b[39mif\u001b[39;00m \u001b[39m\"\u001b[39m\u001b[39mCode: 285\u001b[39m\u001b[39m\"\u001b[39m \u001b[39min\u001b[39;00m msg:\n\u001b[1;32m    138\u001b[0m         \u001b[39mreturn\u001b[39;00m retry_ch_action(\n\u001b[1;32m    139\u001b[0m             method, \u001b[39m*\u001b[39margs, retries\u001b[39m=\u001b[39mretries \u001b[39m-\u001b[39m \u001b[39m1\u001b[39m, is_retry\u001b[39m=\u001b[39m\u001b[39mTrue\u001b[39;00m, \u001b[39m*\u001b[39m\u001b[39m*\u001b[39mkwargs\n\u001b[1;32m    140\u001b[0m         )\n\u001b[0;32m--> 142\u001b[0m     \u001b[39mraise\u001b[39;00m e\n\u001b[1;32m    144\u001b[0m \u001b[39m# https://github.com/Confirm-Solutions/confirmasaurus/actions/runs/4305452673/jobs/7507911386 # noqa\u001b[39;00m\n\u001b[1;32m    145\u001b[0m \u001b[39m# clickhouse_connect.driver.exceptions.OperationalError: Error\u001b[39;00m\n\u001b[1;32m    146\u001b[0m \u001b[39m# HTTPSConnectionPool(...) Read timed out. (read timeout=300)\u001b[39;00m\n\u001b[1;32m    147\u001b[0m \u001b[39m# executing HTTP request\u001b[39;00m\n\u001b[1;32m    148\u001b[0m \u001b[39mexcept\u001b[39;00m clickhouse_connect\u001b[39m.\u001b[39mdriver\u001b[39m.\u001b[39mexceptions\u001b[39m.\u001b[39mOperationalError \u001b[39mas\u001b[39;00m e:\n",
      "File \u001b[0;32m~/confirm/confirmasaurus/confirm/cloud/clickhouse.py:122\u001b[0m, in \u001b[0;36mretry_ch_action\u001b[0;34m(method, retries, is_retry, *args, **kwargs)\u001b[0m\n\u001b[1;32m    119\u001b[0m     logger\u001b[39m.\u001b[39merror(\u001b[39mf\u001b[39m\u001b[39m\"\u001b[39m\u001b[39mRetrying \u001b[39m\u001b[39m{\u001b[39;00mmethod\u001b[39m.\u001b[39m\u001b[39m__name__\u001b[39m\u001b[39m}\u001b[39;00m\u001b[39m with \u001b[39m\u001b[39m{\u001b[39;00margs\u001b[39m}\u001b[39;00m\u001b[39m \u001b[39m\u001b[39m{\u001b[39;00mkwargs\u001b[39m}\u001b[39;00m\u001b[39m\"\u001b[39m)\n\u001b[1;32m    121\u001b[0m \u001b[39mtry\u001b[39;00m:\n\u001b[0;32m--> 122\u001b[0m     \u001b[39mreturn\u001b[39;00m method(\u001b[39m*\u001b[39;49margs, \u001b[39m*\u001b[39;49m\u001b[39m*\u001b[39;49mkwargs)\n\u001b[1;32m    123\u001b[0m \u001b[39mexcept\u001b[39;00m clickhouse_connect\u001b[39m.\u001b[39mdriver\u001b[39m.\u001b[39mexceptions\u001b[39m.\u001b[39mDatabaseError \u001b[39mas\u001b[39;00m e:\n\u001b[1;32m    124\u001b[0m     msg \u001b[39m=\u001b[39m e\u001b[39m.\u001b[39margs[\u001b[39m0\u001b[39m]\n",
      "File \u001b[0;32m~/.mambaforge/envs/confirm/lib/python3.10/site-packages/clickhouse_connect/driver/client.py:403\u001b[0m, in \u001b[0;36mClient.query_arrow\u001b[0;34m(self, query, parameters, settings, use_strings)\u001b[0m\n\u001b[1;32m    401\u001b[0m \u001b[39mif\u001b[39;00m arrow_str_setting \u001b[39min\u001b[39;00m \u001b[39mself\u001b[39m\u001b[39m.\u001b[39mserver_settings \u001b[39mand\u001b[39;00m arrow_str_setting \u001b[39mnot\u001b[39;00m \u001b[39min\u001b[39;00m settings:\n\u001b[1;32m    402\u001b[0m     settings[arrow_str_setting] \u001b[39m=\u001b[39m \u001b[39m'\u001b[39m\u001b[39m1\u001b[39m\u001b[39m'\u001b[39m \u001b[39mif\u001b[39;00m use_strings \u001b[39melse\u001b[39;00m \u001b[39m'\u001b[39m\u001b[39m0\u001b[39m\u001b[39m'\u001b[39m\n\u001b[0;32m--> 403\u001b[0m \u001b[39mreturn\u001b[39;00m to_arrow(\u001b[39mself\u001b[39;49m\u001b[39m.\u001b[39;49mraw_query(query, parameters, settings, \u001b[39m'\u001b[39;49m\u001b[39mArrow\u001b[39;49m\u001b[39m'\u001b[39;49m))\n",
      "File \u001b[0;32m~/.mambaforge/envs/confirm/lib/python3.10/site-packages/clickhouse_connect/driver/httpclient.py:392\u001b[0m, in \u001b[0;36mHttpClient.raw_query\u001b[0;34m(self, query, parameters, settings, fmt, use_database)\u001b[0m\n\u001b[1;32m    390\u001b[0m     params[\u001b[39m'\u001b[39m\u001b[39mdatabase\u001b[39m\u001b[39m'\u001b[39m] \u001b[39m=\u001b[39m \u001b[39mself\u001b[39m\u001b[39m.\u001b[39mdatabase\n\u001b[1;32m    391\u001b[0m params\u001b[39m.\u001b[39mupdate(bind_params)\n\u001b[0;32m--> 392\u001b[0m \u001b[39mreturn\u001b[39;00m \u001b[39mself\u001b[39;49m\u001b[39m.\u001b[39;49m_raw_request(final_query, params)\u001b[39m.\u001b[39mdata\n",
      "File \u001b[0;32m~/.mambaforge/envs/confirm/lib/python3.10/site-packages/clickhouse_connect/driver/httpclient.py:363\u001b[0m, in \u001b[0;36mHttpClient._raw_request\u001b[0;34m(self, data, params, headers, method, retries, stream, server_wait, error_handler)\u001b[0m\n\u001b[1;32m    361\u001b[0m \u001b[39mif\u001b[39;00m error_handler:\n\u001b[1;32m    362\u001b[0m     error_handler(response)\n\u001b[0;32m--> 363\u001b[0m \u001b[39mself\u001b[39;49m\u001b[39m.\u001b[39;49m_error_handler(response)\n",
      "File \u001b[0;32m~/.mambaforge/envs/confirm/lib/python3.10/site-packages/clickhouse_connect/driver/httpclient.py:304\u001b[0m, in \u001b[0;36mHttpClient._error_handler\u001b[0;34m(self, response, retried)\u001b[0m\n\u001b[1;32m    302\u001b[0m     logger\u001b[39m.\u001b[39merror(err_msg)\n\u001b[1;32m    303\u001b[0m     err_str \u001b[39m=\u001b[39m \u001b[39mf\u001b[39m\u001b[39m'\u001b[39m\u001b[39m:\u001b[39m\u001b[39m{\u001b[39;00merr_str\u001b[39m}\u001b[39;00m\u001b[39m\\n\u001b[39;00m\u001b[39m \u001b[39m\u001b[39m{\u001b[39;00merr_msg[\u001b[39m0\u001b[39m:\u001b[39m240\u001b[39m]\u001b[39m}\u001b[39;00m\u001b[39m'\u001b[39m\n\u001b[0;32m--> 304\u001b[0m \u001b[39mraise\u001b[39;00m OperationalError(err_str) \u001b[39mif\u001b[39;00m retried \u001b[39melse\u001b[39;00m DatabaseError(err_str) \u001b[39mfrom\u001b[39;00m \u001b[39mNone\u001b[39m\n",
      "\u001b[0;31mDatabaseError\u001b[0m: :HTTPDriver for https://t2n4z83v82.us-east-1.aws.clickhouse.cloud:8443 returned response code 404)\n Code: 60. DB::Exception: Table wd41_4d_v3.reports doesn't exist. (UNKNOWN_TABLE) (version 22.13.1.24479 (official build))\n"
     ]
    }
   ],
   "source": [
    "reports_df = ch.query_df(client, 'select * from reports')"
   ]
  }
 ],
 "metadata": {
  "kernelspec": {
   "display_name": "confirm",
   "language": "python",
   "name": "python3"
  },
  "language_info": {
   "codemirror_mode": {
    "name": "ipython",
    "version": 3
   },
   "file_extension": ".py",
   "mimetype": "text/x-python",
   "name": "python",
   "nbconvert_exporter": "python",
   "pygments_lexer": "ipython3",
   "version": "3.10.9"
  },
  "orig_nbformat": 4
 },
 "nbformat": 4,
 "nbformat_minor": 2
}
