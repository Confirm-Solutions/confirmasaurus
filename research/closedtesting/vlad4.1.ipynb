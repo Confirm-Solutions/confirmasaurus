{
 "cells": [
  {
   "attachments": {},
   "cell_type": "markdown",
   "metadata": {},
   "source": [
    "This case study will explore the examples of Wassmer and Dragalin (2015). This paper uses closed testing methods to ensure Type I Error control, while adapting the trial to focus patient recruitment on the subpopulations where the treatment performs best.\n",
    "\n",
    "There are 3 different case studies in the paper: 4.1, 4.2, and 4.3.\n",
    "4.1 uses binomial outcomes, with a Bonferroni rule, with 2 total subgroups x 2 treatments (T vs C) = 4 parameters. Two analysis times, including the final. This should be improvable.\n",
    "4.2 uses exponential outcomes, does a log-rank test with Dunnett's test for multiple comparisons, with 2 total subgroups x 2 treatments = with 2 total subgroups x 2 treatments (T vs C) = 4 parameters. Four analysis times, including the final. We expect that this one is essentially tight/hard to improve, because it uses Dunnett, which should be tight\n",
    "4.3 uses exponential outcomes, and does log-rank tests with the Bonferroni rule, with 4 subgroups x 2 treatments = 8 parameters. This is too much for proof-by-simulation to cover. We could still give a superior power analysis to what was reported in the paper, which fixes many of these parameters and varies the treatment effects.\n",
    "\n",
    "Of this subset, WE WILL DO: 4.1, and then show that it can also be done under exponential outcomes, in both cases yielding improvements.\n",
    "\n",
    "If we want to beef it up further we could try to compare against 4.2\n"
   ]
  },
  {
   "cell_type": "code",
   "execution_count": 1,
   "metadata": {},
   "outputs": [],
   "source": [
    "from imprint.nb_util import setup_nb\n",
    "\n",
    "# setup_nb is a handy function for setting up some nice plotting defaults.\n",
    "setup_nb()\n",
    "import scipy.stats\n",
    "import matplotlib.pyplot as plt\n",
    "import numpy as np\n",
    "import pandas as pd\n",
    "import imprint as ip\n",
    "import numpy as np\n",
    "import math\n",
    "import random\n",
    "import jax\n",
    "import jax.numpy as jnp\n",
    "from scipy.special import expit, logit"
   ]
  },
  {
   "attachments": {},
   "cell_type": "markdown",
   "metadata": {},
   "source": [
    "First, we will replicate example 4.1\n",
    "The population breakdown is 54% HRplus, 46% no-HRplus. [Let's assumed blocked sample sizes, for simplicity; and note that this anyway describes how the problem would be approached with post-conditioning]\n",
    "\n",
    "The null hypotheses here are:\n",
    "(1) HRplus > 0.34\n",
    "(2) 0.54 p_HRplus + 0.46 p_HER+ > 0.54 _ 0.34 + 0.46 _ 0.23\n",
    "\n",
    "A decision will be made after 150 patients. There is no early-stopping, but the trial can either select the HRplus group, or continue to the final analysis. This selection occurs if the estimated effect size of HRplus = p-hat_HRplus - 0.34 > epsilon + p-hat_average - (0.34*.54 + 0.23*0.46)\n",
    "where epsilon = 10%\n",
    "\n",
    "If the HER+ group is dropped, then its p-value automatically jumps to 1 and stays there(cannot-reject) but it is still present for the closed test.\n",
    "\n",
    "The p-values for the closed test are determined by inference on the binomial using the z-approximation with pooling treatment and control:\n",
    "\n",
    "Z = pi-hat_1 - pi-hat_0 /sqrt(pi-hat-combined _ (1 - pi-hat-combined)_(1/n_1 + 1/n_2))\n",
    "\n",
    "We will do closed testing on the p-values from these two z-statistics.\n"
   ]
  },
  {
   "cell_type": "code",
   "execution_count": 2,
   "metadata": {},
   "outputs": [],
   "source": [
    "# Let's make some sub-methods, to perform the methods given one binomial setting\n",
    "pcontrol_TNBC = 0.34\n",
    "ptreat_TNBC = 0.38\n",
    "pcontrol_HRplus = 0.23\n",
    "ptreat_HRplus = 0.27\n",
    "\n",
    "# TODO: effect size is 0.04 so we are in alternative space for both hypotheses.\n",
    "# null hypo 1: effect size of tnbc = 0\n",
    "# null hypo 2: effect size of weighted average of tnbc and hrplus = 0\n",
    "#\n",
    "\n",
    "# generate hypotheses: for this, we have to do stuff similar to the closedtesting.pynb\n",
    "# There will be 2 hypotheses, one of which will have to be identified with a nonlinear equation in theta-space\n",
    "# Let's leave that to Ben, and just focus on executing the design"
   ]
  },
  {
   "attachments": {},
   "cell_type": "markdown",
   "metadata": {},
   "source": [
    "## Things to improve here:\n",
    "\n",
    "- constructing null hypothesis boundaries for imprint: ask mike\n",
    "- run imprint\n",
    "- make it fast/jax-ify\n",
    "- compare against a simple t-test with the same simulation/model.\n",
    "  "
   ]
  },
  {
   "cell_type": "code",
   "execution_count": 3,
   "metadata": {},
   "outputs": [
    {
     "data": {
      "text/plain": [
       "(40, 34, 148)"
      ]
     },
     "execution_count": 3,
     "metadata": {},
     "output_type": "execute_result"
    }
   ],
   "source": [
    "n_requested_first_stage = 150\n",
    "n_requested_second_stage = 150\n",
    "frac_tnbc = 0.54\n",
    "\n",
    "def split(n_stage):\n",
    "    return (\n",
    "        int(np.floor((n_stage * frac_tnbc) * 0.5)),\n",
    "        int(np.floor(n_stage * (1 - frac_tnbc) * 0.5)),\n",
    "    )\n",
    "\n",
    "n_TNBC_first_stage_per_arm, n_HRplus_first_stage_per_arm = split(n_requested_first_stage)\n",
    "n_TNBC_first_stage_total = n_TNBC_first_stage_per_arm * 2\n",
    "n_HRplus_first_stage_total = n_HRplus_first_stage_per_arm * 2\n",
    "n_first_stage = n_TNBC_first_stage_total + n_HRplus_first_stage_total\n",
    "n_TNBC_first_stage_per_arm, n_HRplus_first_stage_per_arm, n_first_stage\n"
   ]
  },
  {
   "cell_type": "code",
   "execution_count": 4,
   "metadata": {},
   "outputs": [
    {
     "data": {
      "text/plain": [
       "(40, 34, 148)"
      ]
     },
     "execution_count": 4,
     "metadata": {},
     "output_type": "execute_result"
    }
   ],
   "source": [
    "n_TNBC_second_stage_per_arm, n_HRplus_second_stage_per_arm = split(n_requested_second_stage)\n",
    "n_TNBC_second_stage_total = n_TNBC_second_stage_per_arm * 2\n",
    "n_HRplus_second_stage_total = n_HRplus_second_stage_per_arm * 2\n",
    "n_second_stage = n_TNBC_second_stage_total + n_HRplus_second_stage_total\n",
    "n_TNBC_second_stage_per_arm, n_HRplus_second_stage_per_arm, n_second_stage"
   ]
  },
  {
   "cell_type": "code",
   "execution_count": 5,
   "metadata": {},
   "outputs": [
    {
     "data": {
      "text/plain": [
       "array([0., 0., 0., 0., 0., 0., 0., 0., 0., 0.])"
      ]
     },
     "execution_count": 5,
     "metadata": {},
     "output_type": "execute_result"
    }
   ],
   "source": [
    "# Numpy randoms are reproducible in subsets.\n",
    "np.random.seed(0)\n",
    "A = np.random.uniform(size=10)\n",
    "np.random.seed(0)\n",
    "B = np.concatenate((np.random.uniform(size=5), np.random.uniform(size=5)))\n",
    "A - B"
   ]
  },
  {
   "cell_type": "code",
   "execution_count": 25,
   "metadata": {},
   "outputs": [
    {
     "name": "stderr",
     "output_type": "stream",
     "text": [
      "/var/folders/mt/cmys2v_143q1kpcrdt5wcdyr0000gn/T/ipykernel_58264/628296476.py:144: RuntimeWarning: invalid value encountered in scalar multiply\n",
      "  hypofull_live\n"
     ]
    }
   ],
   "source": [
    "# We'll repeat this for the second half, which is the same size as the first half\n",
    "# TODO: 54% TNBC, 46% HR+ (look at the paper) and then equal splits between\n",
    "# treatment and control within those subgroups.\n",
    "\n",
    "# npatientstotal = 600\n",
    "# npatientsperarm_firststage = 75  # for the first interim analysis\n",
    "\n",
    "# npatientstotal = 300\n",
    "# npatientsperarm_firststage = 37  # for the first interim analysis\n",
    "#\n",
    "def sim(pcontrol_TNBC=0.34, ptreat_TNBC=0.38, pcontrol_HRplus=0.23, ptreat_HRplus=0.27):\n",
    "    # We now have to make a list of the relevant\n",
    "    # intersection hypotheses,\n",
    "    # which are indentified by which subgroups are part of them\n",
    "    # In this example, there are 2 elementary hypotheses\n",
    "    hypoTNBC_live = True\n",
    "    hypofull_live = True\n",
    "    # There is also the intersection hypothesis:\n",
    "    # hypo_both_live\n",
    "\n",
    "    unifsTNBCcontrol = np.random.uniform(size=n_TNBC_first_stage_per_arm)\n",
    "    unifsTNBCtreat = np.random.uniform(size=n_TNBC_first_stage_per_arm)\n",
    "    unifsHRpluscontrol = np.random.uniform(size=n_HRplus_first_stage_per_arm)\n",
    "    unifsHRplustreat = np.random.uniform(size=n_HRplus_first_stage_per_arm)\n",
    "    # TODO: mean here\n",
    "    outcomesHRpluscontrol = unifsHRpluscontrol < pcontrol_HRplus\n",
    "    outcomesHRplustreat = unifsHRplustreat < ptreat_HRplus\n",
    "    outcomesTNBCcontrol = unifsTNBCcontrol < pcontrol_TNBC\n",
    "    outcomesTNBCtreat = unifsTNBCtreat < ptreat_TNBC\n",
    "\n",
    "    # Note: this could be expressed more simply as a single function if we could nicely combine treatment outcome columns. but whatever...\n",
    "    TNBC_pooledaverage = outcomesTNBCtreat.mean() / 2 + outcomesTNBCcontrol.mean() / 2\n",
    "    denominatorTNBC = np.sqrt(\n",
    "        TNBC_pooledaverage\n",
    "        * (1 - TNBC_pooledaverage)\n",
    "        * (2 / n_TNBC_first_stage_per_arm)\n",
    "    )\n",
    "    zTNBC_stage1 = (\n",
    "        outcomesTNBCtreat.mean() - outcomesTNBCcontrol.mean()\n",
    "    ) / denominatorTNBC\n",
    "\n",
    "    totally_pooledaverage = (\n",
    "        outcomesTNBCtreat.mean() * n_TNBC_first_stage_per_arm / n_first_stage\n",
    "        + outcomesTNBCcontrol.mean() * n_TNBC_first_stage_per_arm / n_first_stage\n",
    "        + outcomesHRplustreat.mean() * n_HRplus_first_stage_per_arm / n_first_stage\n",
    "        + outcomesHRpluscontrol.mean() * n_HRplus_first_stage_per_arm / n_first_stage\n",
    "    )\n",
    "    denominatortotallypooled = np.sqrt(\n",
    "        totally_pooledaverage\n",
    "        * (1 - totally_pooledaverage)\n",
    "        * (2 / (n_TNBC_first_stage_per_arm + n_HRplus_first_stage_per_arm))\n",
    "    )\n",
    "    tnbc_effect = outcomesTNBCtreat.mean() - outcomesTNBCcontrol.mean()\n",
    "    hrplus_effect = outcomesHRplustreat.mean() - outcomesHRpluscontrol.mean()\n",
    "    zfull_stage1 = (\n",
    "        (tnbc_effect * n_TNBC_first_stage_total / n_first_stage)\n",
    "        + (hrplus_effect * n_HRplus_first_stage_total / n_first_stage)\n",
    "    ) / denominatortotallypooled\n",
    "\n",
    "    # Arm-dropping logic: drop all elementary hypotheses with larger than 0.1 difference in effect size\n",
    "    effectsize_difference = tnbc_effect - hrplus_effect\n",
    "    # TODO: investigate this dropping logic. Section 3.4, ctrl-f \"epsilon\"\n",
    "    # TODO: this is wrong and should be compared to the weighted average\n",
    "    # treatment effects instead of the HRplus treatment effect.\n",
    "    if effectsize_difference > 0.1:\n",
    "        hypofull_live = False\n",
    "    if effectsize_difference < -0.1:\n",
    "        hypoTNBC_live = False\n",
    "\n",
    "    # now compute second-stage z-statistics\n",
    "    if not hypofull_live:  # In this case we drop the HRplus arm\n",
    "        # Here, we ignored n_HRplus_second_stage_per_arm patients because the\n",
    "        # HRplus arm has been dropped.\n",
    "        npatientsperarm_secondstage = n_requested_second_stage // 2\n",
    "        unifsTNBCcontrol = np.random.uniform(size=npatientsperarm_secondstage)\n",
    "        unifsTNBCtreat = np.random.uniform(size=npatientsperarm_secondstage)\n",
    "        outcomesTNBCcontrol = unifsTNBCcontrol < pcontrol_TNBC\n",
    "        outcomesTNBCtreat = unifsTNBCtreat < ptreat_TNBC\n",
    "        TNBC_pooledaverage = (\n",
    "            outcomesTNBCtreat.mean() / 2 + outcomesTNBCcontrol.mean() / 2\n",
    "        )\n",
    "        denominatorTNBC = np.sqrt(\n",
    "            TNBC_pooledaverage\n",
    "            * (1 - TNBC_pooledaverage)\n",
    "            * (2 / npatientsperarm_secondstage)\n",
    "        )\n",
    "        zTNBC_stage2 = (\n",
    "            outcomesTNBCtreat.mean() - outcomesTNBCcontrol.mean()\n",
    "        ) / denominatorTNBC\n",
    "        zfull_stage2 = -np.inf\n",
    "    else:\n",
    "        unifsTNBCcontrol = np.random.uniform(size=n_TNBC_second_stage_per_arm)\n",
    "        unifsTNBCtreat = np.random.uniform(size=n_TNBC_second_stage_per_arm)\n",
    "        unifsHRpluscontrol = np.random.uniform(size=n_HRplus_second_stage_per_arm)\n",
    "        unifsHRplustreat = np.random.uniform(size=n_HRplus_second_stage_per_arm)\n",
    "        outcomesHRpluscontrol = unifsHRpluscontrol < pcontrol_HRplus\n",
    "        outcomesHRplustreat = unifsHRplustreat < ptreat_HRplus\n",
    "        outcomesTNBCcontrol = unifsTNBCcontrol < pcontrol_TNBC\n",
    "        outcomesTNBCtreat = unifsTNBCtreat < ptreat_TNBC\n",
    "        TNBC_pooledaverage = (\n",
    "            outcomesTNBCtreat.mean() / 2 + outcomesTNBCcontrol.mean() / 2\n",
    "        )\n",
    "        denominatorTNBC = np.sqrt(\n",
    "            TNBC_pooledaverage\n",
    "            * (1 - TNBC_pooledaverage)\n",
    "            * (2 / n_TNBC_second_stage_per_arm)\n",
    "        )\n",
    "        zTNBC_stage2 = (\n",
    "            outcomesTNBCtreat.mean() - outcomesTNBCcontrol.mean()\n",
    "        ) / denominatorTNBC\n",
    "\n",
    "        totally_pooledaverage = (\n",
    "            outcomesTNBCtreat.mean() * n_TNBC_second_stage_per_arm / n_second_stage\n",
    "            + outcomesTNBCcontrol.mean() * n_TNBC_second_stage_per_arm / n_second_stage\n",
    "            + outcomesHRplustreat.mean() * n_HRplus_second_stage_per_arm / n_second_stage\n",
    "            + outcomesHRpluscontrol.mean() * n_HRplus_second_stage_per_arm / n_second_stage\n",
    "        )\n",
    "        denominatortotallypooled = np.sqrt(\n",
    "            totally_pooledaverage\n",
    "            * (1 - totally_pooledaverage)\n",
    "            * (2 / (n_TNBC_first_stage_per_arm + n_HRplus_first_stage_per_arm))\n",
    "        )\n",
    "        tnbc_effect = outcomesTNBCtreat.mean() - outcomesTNBCcontrol.mean()\n",
    "        hrplus_effect = outcomesHRplustreat.mean() - outcomesHRpluscontrol.mean()\n",
    "        zfull_stage2 = (\n",
    "            (tnbc_effect * n_TNBC_second_stage_total / n_second_stage)\n",
    "            + (hrplus_effect * n_HRplus_second_stage_total / n_second_stage)\n",
    "        ) / denominatortotallypooled\n",
    "\n",
    "    # now combine test statistics\n",
    "    # Now we go through the 3 intersection tests:\n",
    "    hypTNBC_zstat = zTNBC_stage1 / np.sqrt(2) + zTNBC_stage2 / np.sqrt(2)\n",
    "    hypfull_zstat = zfull_stage1 / np.sqrt(2) + zfull_stage2 / np.sqrt(2)\n",
    "\n",
    "    # Now doing the combination rule for the intersection test\n",
    "    # we multiply the p-value by two by analogy to bonferroni\n",
    "    HI_pfirst = 2 * (1 - scipy.stats.norm.cdf(max(zTNBC_stage1, zfull_stage1)))\n",
    "    HI_zfirst = scipy.stats.norm.ppf(1 - HI_pfirst)\n",
    "    HI_zsecond = (\n",
    "        hypofull_live\n",
    "        * hypoTNBC_live\n",
    "        * (\n",
    "            scipy.stats.norm.ppf(\n",
    "                1 - 2 * (1 - scipy.stats.norm.cdf(max(zTNBC_stage2, zfull_stage2)))\n",
    "            )\n",
    "        )\n",
    "    )\n",
    "    HI_zsecond += (not hypofull_live) * hypoTNBC_live * zTNBC_stage2\n",
    "    HI_zsecond += (\n",
    "        hypofull_live\n",
    "        * (not hypoTNBC_live)\n",
    "        * np.nan_to_num(zfull_stage2, posinf=0, neginf=0)\n",
    "    )\n",
    "\n",
    "    HI_zcombined = HI_zfirst / np.sqrt(2) + HI_zsecond / np.sqrt(2)\n",
    "\n",
    "    # Now we resolve which elementary statistics actually reject the null hypothesis\n",
    "    rejectintersection = HI_zcombined > 1.96\n",
    "    rejectTNBC_elementary = hypTNBC_zstat > 1.96\n",
    "    rejectfull_elementary = hypfull_zstat > 1.96\n",
    "\n",
    "    rejectTNBC_final = (\n",
    "        rejectTNBC_elementary & rejectintersection\n",
    "    )  # we use this for actual hypothesis rejections!\n",
    "    rejectfull_final = (\n",
    "        rejectfull_elementary & rejectintersection\n",
    "    )  # we use this for actual hypothesis rejections!\n",
    "    return dict(\n",
    "        hypoTNBC_live=hypoTNBC_live,\n",
    "        hypofull_live=hypofull_live,\n",
    "        rejectTNBC_final=rejectTNBC_final,\n",
    "        rejectfull_final=rejectfull_final,\n",
    "        zTNBC_stage1=zTNBC_stage1,\n",
    "        zTNBC_stage2=zTNBC_stage2,\n",
    "        zfull_stage1=zfull_stage1,\n",
    "        zfull_stage2=zfull_stage2,\n",
    "        HI_pfirst=HI_pfirst,\n",
    "        HI_zfirst=HI_zfirst,\n",
    "        HI_zsecond=HI_zsecond,\n",
    "        HI_zcombined=HI_zcombined,\n",
    "    )\n",
    "\n",
    "np.random.seed(1)\n",
    "results = pd.DataFrame([sim(ptreat_TNBC=0.44, ptreat_HRplus=0.33) for i in range(50000)])"
   ]
  },
  {
   "cell_type": "code",
   "execution_count": 26,
   "metadata": {},
   "outputs": [
    {
     "data": {
      "text/plain": [
       "hypoTNBC_live       0.736800\n",
       "hypofull_live       0.744080\n",
       "rejectTNBC_final    0.234240\n",
       "rejectfull_final    0.211640\n",
       "zTNBC_stage1        0.917388\n",
       "zTNBC_stage2        1.008775\n",
       "zfull_stage1        1.288906\n",
       "zfull_stage2            -inf\n",
       "HI_pfirst           0.306500\n",
       "HI_zfirst               -inf\n",
       "HI_zsecond              -inf\n",
       "HI_zcombined            -inf\n",
       "dtype: float64"
      ]
     },
     "execution_count": 26,
     "metadata": {},
     "output_type": "execute_result"
    }
   ],
   "source": [
    "results.mean()"
   ]
  },
  {
   "cell_type": "code",
   "execution_count": 27,
   "metadata": {},
   "outputs": [
    {
     "data": {
      "text/plain": [
       "hypoTNBC_live       0.440374\n",
       "hypofull_live       0.436381\n",
       "rejectTNBC_final    0.423527\n",
       "rejectfull_final    0.408475\n",
       "zTNBC_stage1        1.005376\n",
       "zTNBC_stage2        1.009221\n",
       "zfull_stage1        0.989171\n",
       "zfull_stage2             NaN\n",
       "HI_pfirst           0.369919\n",
       "HI_zfirst                NaN\n",
       "HI_zsecond               NaN\n",
       "HI_zcombined             NaN\n",
       "dtype: float64"
      ]
     },
     "execution_count": 27,
     "metadata": {},
     "output_type": "execute_result"
    }
   ],
   "source": [
    "results.std()"
   ]
  },
  {
   "cell_type": "code",
   "execution_count": 28,
   "metadata": {},
   "outputs": [
    {
     "data": {
      "text/plain": [
       "0.9860283931584408"
      ]
     },
     "execution_count": 28,
     "metadata": {},
     "output_type": "execute_result"
    }
   ],
   "source": [
    "results['zfull_stage2'].replace([-np.inf], np.nan).dropna().std()"
   ]
  },
  {
   "cell_type": "code",
   "execution_count": 12,
   "metadata": {},
   "outputs": [
    {
     "data": {
      "image/png": "[encoded data removed]",
      "text/plain": [
       "<Figure size 800x800 with 4 Axes>"
      ]
     },
     "metadata": {
      "image/png": {
       "height": 811,
       "width": 811
      }
     },
     "output_type": "display_data"
    }
   ],
   "source": [
    "import matplotlib.pyplot as plt\n",
    "\n",
    "plt.figure(figsize=(8, 8), constrained_layout=True)\n",
    "plt.subplot(2, 2, 1)\n",
    "plt.hist(results[\"zTNBC_stage1\"], bins=20)\n",
    "plt.subplot(2, 2, 2)\n",
    "plt.hist(results[\"zTNBC_stage2\"], bins=20)\n",
    "plt.subplot(2, 2, 3)\n",
    "plt.hist(results[\"zfull_stage1\"], bins=20)\n",
    "plt.subplot(2, 2, 4)\n",
    "plt.hist(results[\"zfull_stage2\"].replace(-np.inf, np.nan).dropna(), bins=20)\n",
    "plt.show()"
   ]
  },
  {
   "attachments": {},
   "cell_type": "markdown",
   "metadata": {},
   "source": [
    "## Old Mike scratch"
   ]
  },
  {
   "cell_type": "code",
   "execution_count": null,
   "metadata": {},
   "outputs": [],
   "source": [
    "# STOP HERE! THe below is just random scratch code, which might be useful later"
   ]
  },
  {
   "cell_type": "code",
   "execution_count": null,
   "metadata": {},
   "outputs": [],
   "source": [
    "grid = ip.cartesian_grid(\n",
    "    [-1, 1],\n",
    "    [-1, 1],\n",
    "    n=[20, 20],\n",
    "    prune=True,\n",
    "    null_hypos=[\n",
    "        ip.hypo(\"theta0 < \" + str(logit(0.3))),\n",
    "        ip.hypo(\"theta1 <\" + str(logit(0.3))),\n",
    "    ],\n",
    ")\n",
    "# x=BinomialClosed(0, 2, n = [100,100])\n",
    "# outs = x.sim_batch(0, 2, theta = grid.get_theta(), null_truth=grid.df[[\"null_truth0\", \"null_truth1\", \"null_truth2\"]])"
   ]
  },
  {
   "cell_type": "code",
   "execution_count": null,
   "metadata": {},
   "outputs": [],
   "source": [
    "class BinomialClosed:\n",
    "    def __init__(self, seed, max_K, *, n):\n",
    "        self.family = \"binomial\"\n",
    "        self.family_params = {\"n\": n[0]}\n",
    "        self.n = n\n",
    "        key = jax.random.PRNGKey(seed)\n",
    "        splitkeys = jax.random.split(key, num=2)\n",
    "        self.samples_arm1 = jax.random.uniform(\n",
    "            splitkeys[1], shape=(max_K, n[1]), dtype=np.float32\n",
    "        )\n",
    "\n",
    "        self.samples_arm0 = jax.random.uniform(\n",
    "            splitkeys[0], shape=(max_K, n[0]), dtype=np.float32\n",
    "        )\n",
    "\n",
    "    def sim_batch(self, begin_sim, end_sim, theta, null_truth, detailed=False):\n",
    "        p = expit(theta)\n",
    "        # successes is a 2-dimensional array of shape: (n_tiles, n_sims = K)\n",
    "        successes1 = np.sum(\n",
    "            self.samples_arm1[None, begin_sim:end_sim, :] < p[:, None, None, 1], axis=2\n",
    "        )\n",
    "        successes0 = np.sum(\n",
    "            self.samples_arm0[None, begin_sim:end_sim, :] < p[:, None, None, 0], axis=2\n",
    "        )\n",
    "        phat1 = successes1 / self.n[1]\n",
    "        phat0 = successes0 / self.n[0]\n",
    "        # pooledphat = (phat1*self.n[1] + phat0*self.n[0]) / (self.n[1] + self.n[0])\n",
    "        zstat0 = (phat0 - 0.5) / np.sqrt(phat0 * (1 - phat0) / self.n[0])\n",
    "        zstat1 = (phat1 - 0.7) / np.sqrt(phat1 * (1 - phat1) / self.n[1])\n",
    "        zstatcombo = (0.4 * (phat0 - 0.5) + 0.6 * (phat1 - 0.7)) / np.sqrt(\n",
    "            0.4**2 * phat0 * (1 - phat0) / self.n[0]\n",
    "            + 0.6**2 * phat1 * (1 - phat1) / self.n[1]\n",
    "        )\n",
    "        pvalues = 1 - scipy.stats.norm.cdf([zstat0, zstat1, zstatcombo])\n",
    "        pvalues = np.nan_to_num(pvalues) + (\n",
    "            [phat0, phat1, phat1 * phat0] == np.full_like(pvalues, 0)\n",
    "        )\n",
    "        # The following needs to be vectorized\n",
    "        possible_critical_values = np.sort(\n",
    "            np.concatenate(\n",
    "                (\n",
    "                    pvalues,\n",
    "                    2 * pvalues,\n",
    "                    3 * pvalues,\n",
    "                    np.full_like(pvalues[1, :, :], 100)[None, :, :],\n",
    "                )\n",
    "            ),\n",
    "            axis=0,\n",
    "        )\n",
    "        # next we need to apply closed testing to the 3 pvalues for EVERY choice in the list of possible critical values\n",
    "        rejections_list = closed_test_full(pvalues, possible_critical_values)\n",
    "        nullstatus = np.asarray(np.transpose(null_truth))\n",
    "        falserejs = np.logical_and(rejections_list, nullstatus[None, :, :, None])\n",
    "        fwer = np.any(falserejs, axis=1)\n",
    "        # some akwardness to cause the following minimum to give us the right answer\n",
    "        temp = 1000 * (1 - fwer) + fwer * possible_critical_values\n",
    "        out = np.min(temp, axis=0)\n",
    "        # out.shape : n_tiles, n_sims\n",
    "        return out"
   ]
  },
  {
   "cell_type": "code",
   "execution_count": 4,
   "metadata": {},
   "outputs": [
    {
     "name": "stderr",
     "output_type": "stream",
     "text": [
      "DEBUG:imprint.grid:[worker_id=None] \n",
      "_gen_short_uuids(n=400, worker_id=1, t=1674863641, n_bits=18, worker_bits=18) = [4415288571414708224 4415288571414708225 4415288571414708226, ...]:\n"
     ]
    }
   ],
   "source": [
    "# Make sure to grid -lambda space!\n",
    "grid = ip.cartesian_grid(\n",
    "    [-2.0, -1.0],\n",
    "    [-2.0, -1.0],\n",
    "    n=[20, 20],\n",
    "    prune=True,\n",
    "    null_hypos=[ip.hypo(\"theta0 < theta1\")],\n",
    ")"
   ]
  },
  {
   "cell_type": "code",
   "execution_count": 72,
   "metadata": {},
   "outputs": [],
   "source": [
    "# @jax.vmap\n",
    "@jax.jit\n",
    "def logrank_test(all_rvs, group, censoring_time):\n",
    "    n0 = jnp.array([jnp.sum(~group), jnp.sum(group)])\n",
    "    ordering = jnp.argsort(all_rvs)\n",
    "    ordered = all_rvs[ordering]\n",
    "    ordered_group = group[ordering]\n",
    "    include = ordered <= censoring_time\n",
    "    event_now = jnp.stack((~ordered_group, ordered_group), axis=0) * include\n",
    "    events_so_far = jnp.concatenate(\n",
    "        (jnp.zeros((2, 1)), event_now.cumsum(axis=1)[:, :-1]), axis=1\n",
    "    )\n",
    "    Nij = n0[:, None] - events_so_far\n",
    "    Oij = event_now\n",
    "    Nj = Nij.sum(axis=0)\n",
    "    Oj = Oij.sum(axis=0)\n",
    "    Eij = Nij * (Oj / Nj)\n",
    "    Vij = Eij * ((Nj - Oj) / Nj) * ((Nj - Nij) / (Nj - 1))\n",
    "    denom = jnp.sum(jnp.where(~jnp.isnan(Vij[0]), Vij[0], 0), axis=0)\n",
    "    return jnp.sum(Oij[0] - Eij[0], axis=0) / jnp.sqrt(denom)"
   ]
  },
  {
   "cell_type": "code",
   "execution_count": 23,
   "metadata": {},
   "outputs": [],
   "source": []
  },
  {
   "cell_type": "code",
   "execution_count": null,
   "metadata": {},
   "outputs": [],
   "source": [
    "# writing pseudocode for Wassmer and Dragalin (2015)\n",
    "# Let's do example 4.3 but applied to the subgroups of 4.1\n",
    "# Calculate worst-possible lengths: max sample size is 300; 54% HRplus / 46% split\n",
    "# Control rates are assumed to be: 0.34 HRplus, 0.23 otherwise.\n",
    "# We can enforce this for now, will grid it out later\n",
    "\n",
    "# (1) Generate max-samples in 4 columns: [HRplus T, HRplus C, HR+ T, HT+ C]\n",
    "# (2) Check effect size after first 150 patients; if difference > 0.1, drop the loser\n",
    "# (3) Do a z-combination test of the log-rank stats from the two time-points\n",
    "# (4) do closed testing if both groups are live. alpha = 0.025\n",
    "# (5) the intersection test\n",
    "\n",
    "# start the above with validation on treatment effects grid\n",
    "# then do it validating over"
   ]
  },
  {
   "cell_type": "code",
   "execution_count": 130,
   "metadata": {},
   "outputs": [
    {
     "data": {
      "text/plain": [
       "array([ 72.,  72.,  90.,  90., 108., 108.,  30.,  30.])"
      ]
     },
     "execution_count": 130,
     "metadata": {},
     "output_type": "execute_result"
    }
   ],
   "source": [
    "totalpatients = 600\n",
    "# Groups list:\n",
    "# 1: !HRplus ^ PH-; 2: HRplus ^ PH+; 3: !HRplus ^ PH+; 4: HRplus ^ PH-\n",
    "# The 4 groups to analyze are:\n",
    "# F = All groups, 1+2+3+4\n",
    "# S1: HRplus = 2 + 4\n",
    "# S2: PHS = 2 + 3\n",
    "# S3: HRplus + PHS = 2\n",
    "popfractions = [0.24, 0.3, 0.36, 0.10]\n",
    "samplesizes = totalpatients * np.array(popfractions)\n",
    "# These will have to be halved for treatment and control later!\n",
    "np.repeat(samplesizes, 2) / 2  # input sample sizes!\n",
    "# subgroup 0: all groups"
   ]
  },
  {
   "attachments": {},
   "cell_type": "markdown",
   "metadata": {},
   "source": [
    "#Steps of the design:\n",
    "\n",
    "\\begin{itemize}\n",
    "\\item Determine the nullspace:\n",
    "In this case, we're going to analyze\n",
    "closed testing's Type I Error separately for each intersection hypothesis. For conservatism, we'll assume the alternative guy trips the test, and is retained in the design to increase variability, but also does not eliminate any of the other arms (?)\n",
    "...oh no I think this doesn't work! Backing up!!!\n",
    "\\item\n",
    "Simulate exponentials\n",
    "Determine the interim analysis time: first 150 events\n",
    "Perform the log-rank test on that subset of events\n",
    "Use the epsilon-selection to select arms:\n",
    "0.667 > (control events / treat events)\\_best - (control events / treat events)\n",
    "Eliminate hypotheses completely for dropped arms\n",
    "Determine the final analysis time: first 151-300 events\n",
    "Determine the final analysis time: 300 events\n",
    "\n",
    "Normal combination test (sqrt(2)) factor\n",
    "\\end{itemize}\n"
   ]
  },
  {
   "cell_type": "code",
   "execution_count": 131,
   "metadata": {},
   "outputs": [],
   "source": []
  },
  {
   "cell_type": "code",
   "execution_count": 51,
   "metadata": {},
   "outputs": [
    {
     "data": {
      "text/plain": [
       "list"
      ]
     },
     "execution_count": 51,
     "metadata": {},
     "output_type": "execute_result"
    }
   ],
   "source": []
  },
  {
   "cell_type": "code",
   "execution_count": 88,
   "metadata": {},
   "outputs": [],
   "source": [
    "maxN = [\n",
    "    int(HRplus_selected_final_samps[0]),\n",
    "    HRplus_selected_final_samps[1],\n",
    "    HER_selected_final_samps[2],\n",
    "    HER_selected_final_samps[3],\n",
    "]"
   ]
  },
  {
   "cell_type": "code",
   "execution_count": 114,
   "metadata": {},
   "outputs": [],
   "source": [
    "import scipy.stats\n",
    "\n",
    "rvs = scipy.stats.expon.rvs(size=(maxN[0], 6))\n",
    "hazard_ratio = 1\n",
    "control_HRplus = rvs[:, 0]\n",
    "control_HER = rvs[:, 1]\n",
    "control_group3 = rvs[:, 2]\n",
    "treat_HRplus = rvs[:, 1] / hazard_ratio\n",
    "treat_HER = rvs[:, 3] / hazard_ratio"
   ]
  },
  {
   "cell_type": "code",
   "execution_count": 115,
   "metadata": {},
   "outputs": [],
   "source": [
    "def logrank_2group(control, treatment):\n",
    "    outcomes = np.concatenate([control, treatment])\n",
    "    group = np.concatenate(\n",
    "        [np.zeros(control.shape[0]), np.ones(treatment.shape[0])]\n",
    "    ).astype(bool)\n",
    "    ours = logrank_test(outcomes, group, censoring_time=10000)\n",
    "    return ours"
   ]
  },
  {
   "cell_type": "code",
   "execution_count": 116,
   "metadata": {},
   "outputs": [],
   "source": [
    "output = logrank_2group(control_HRplus, treat_HRplus)"
   ]
  },
  {
   "cell_type": "code",
   "execution_count": 117,
   "metadata": {},
   "outputs": [
    {
     "data": {
      "text/plain": [
       "DeviceArray(1.5558844, dtype=float32)"
      ]
     },
     "execution_count": 117,
     "metadata": {},
     "output_type": "execute_result"
    }
   ],
   "source": [
    "output"
   ]
  },
  {
   "cell_type": "code",
   "execution_count": 24,
   "metadata": {},
   "outputs": [
    {
     "data": {
      "text/plain": [
       "DeviceArray([          nan, 5.2642647e-02,           nan, 5.2622620e-02,           nan,\n",
       "                       nan,           nan,           nan, 5.2641593e-02, 2.2225672e-01, ...,\n",
       "                       nan, 5.2633159e-02,           nan, 5.2621566e-02,           nan,\n",
       "                       nan, 2.8201441e-09,           nan,           nan,           nan],            dtype=float32)"
      ]
     },
     "execution_count": 24,
     "metadata": {},
     "output_type": "execute_result"
    }
   ],
   "source": [
    "class LogRankVlad:\n",
    "    def __init__(self, seed, max_K, *, n, censoring_time):\n",
    "        self.max_K = max_K\n",
    "        self.censoring_time = censoring_time\n",
    "        self.n = n\n",
    "        self.family = \"exponential\"\n",
    "        self.family_params = {\"n\": n}\n",
    "\n",
    "        self.key = jax.random.PRNGKey(seed)\n",
    "        self.samples_1 = jax.random.exponential(self.key, shape=(max_K, n, 4))\n",
    "        self.group = jnp.concatenate(\n",
    "            [jnp.zeros((max_K, n)), jnp.ones((max_K, n))], axis=1\n",
    "        ).astype(bool)\n",
    "        self.vmap_logrank_test = jax.vmap(\n",
    "            jax.vmap(logrank_test, in_axes=(0, 0, None)), in_axes=(0, None, None)\n",
    "        )\n",
    "\n",
    "    def sim_batch(self, begin_sim, end_sim, theta, null_truth, detailed=False):\n",
    "        control_hazard = -theta[:, 0]\n",
    "        treatment_hazard = -theta[:, 1]\n",
    "        hazard_ratio = treatment_hazard / control_hazard\n",
    "        control_rvs = jnp.tile(\n",
    "            self.samples[None, :, :, 0], (hazard_ratio.shape[0], 1, 1)\n",
    "        )\n",
    "        treatment_rvs = self.samples[None, :, :, 1] / hazard_ratio[:, None, None]\n",
    "        all_rvs = jnp.concatenate([control_rvs, treatment_rvs], axis=2)\n",
    "        test_stat = -self.vmap_logrank_test(all_rvs, self.group, self.censoring_time)\n",
    "        return test_stat"
   ]
  },
  {
   "cell_type": "code",
   "execution_count": null,
   "metadata": {},
   "outputs": [],
   "source": [
    "g = ip.cartesian_grid(\n",
    "    [-1, -1], [-1, -1], n=[1, 1], null_hypos=[ip.hypo(\"theta0 > theta1\")]\n",
    ")"
   ]
  },
  {
   "cell_type": "code",
   "execution_count": null,
   "metadata": {},
   "outputs": [],
   "source": [
    "lr = LogRank(0, 200000, n=100, censoring_time=10000000)\n",
    "stats = lr.sim_batch(0, lr.max_K, g.get_theta(), g.get_null_truth())"
   ]
  }
 ],
 "metadata": {
  "kernelspec": {
   "display_name": "confirm",
   "language": "python",
   "name": "python3"
  },
  "language_info": {
   "codemirror_mode": {
    "name": "ipython",
    "version": 3
   },
   "file_extension": ".py",
   "mimetype": "text/x-python",
   "name": "python",
   "nbconvert_exporter": "python",
   "pygments_lexer": "ipython3",
   "version": "3.10.8"
  },
  "orig_nbformat": 4,
  "vscode": {
   "interpreter": {
    "hash": "b4c6ec5b2d6c7b38df115d547b82cd53ca25eea58d87299956d35a9dc79f19f1"
   }
  }
 },
 "nbformat": 4,
 "nbformat_minor": 2
}
