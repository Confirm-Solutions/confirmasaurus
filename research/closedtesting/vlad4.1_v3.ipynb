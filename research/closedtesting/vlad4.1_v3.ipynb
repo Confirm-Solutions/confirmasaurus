{
 "cells": [
  {
   "attachments": {},
   "cell_type": "markdown",
   "metadata": {},
   "source": [
    "This case study will explore the examples of Wassmer and Dragalin (2015). This paper uses closed testing methods to ensure Type I Error control, while adapting the trial to focus patient recruitment on the subpopulations where the treatment performs best.\n",
    "\n",
    "There are 3 different case studies in the paper: 4.1, 4.2, and 4.3.\n",
    "4.1 uses binomial outcomes, with a Bonferroni rule, with 2 total subgroups x 2 treatments (T vs C) = 4 parameters. Two analysis times, including the final. This should be improvable.\n",
    "4.2 uses exponential outcomes, does a log-rank test with Dunnett's test for multiple comparisons, with 2 total subgroups x 2 treatments = with 2 total subgroups x 2 treatments (T vs C) = 4 parameters. Four analysis times, including the final. We expect that this one is essentially tight/hard to improve, because it uses Dunnett, which should be tight\n",
    "4.3 uses exponential outcomes, and does log-rank tests with the Bonferroni rule, with 4 subgroups x 2 treatments = 8 parameters. This is too much for proof-by-simulation to cover. We could still give a superior power analysis to what was reported in the paper, which fixes many of these parameters and varies the treatment effects.\n",
    "\n",
    "Of this subset, WE WILL DO: 4.1, and then show that it can also be done under exponential outcomes, in both cases yielding improvements.\n",
    "\n",
    "If we want to beef it up further we could try to compare against 4.2\n"
   ]
  },
  {
   "cell_type": "code",
   "execution_count": 1,
   "metadata": {},
   "outputs": [],
   "source": [
    "from imprint.nb_util import setup_nb\n",
    "\n",
    "# setup_nb is a handy function for setting up some nice plotting defaults.\n",
    "setup_nb()\n",
    "import scipy.stats\n",
    "import matplotlib.pyplot as plt\n",
    "import numpy as np\n",
    "import pandas as pd\n",
    "import imprint as ip\n",
    "import numpy as np\n",
    "import math\n",
    "import random\n",
    "import jax\n",
    "import jax.numpy as jnp\n",
    "from scipy.special import expit, logit\n",
    "from jax.config import config\n",
    "\n",
    "config.update(\"jax_enable_x64\", True)"
   ]
  },
  {
   "attachments": {},
   "cell_type": "markdown",
   "metadata": {},
   "source": [
    "First, we will replicate example 4.1\n",
    "The population breakdown is 54% HRplus, 46% no-HRplus. [Let's assumed blocked sample sizes, for simplicity; and note that this anyway describes how the problem would be approached with post-conditioning]\n",
    "\n",
    "The null hypotheses here are:\n",
    "(1) HRplus > 0.34\n",
    "(2) 0.54 p_HRplus + 0.46 p_HER+ > 0.54 _ 0.34 + 0.46 _ 0.23\n",
    "\n",
    "A decision will be made after 150 patients. There is no early-stopping, but the trial can either select the HRplus group, or continue to the final analysis. This selection occurs if the estimated effect size of HRplus = p-hat_HRplus - 0.34 > epsilon + p-hat_average - (0.34*.54 + 0.23*0.46)\n",
    "where epsilon = 10%\n",
    "\n",
    "If the HER+ group is dropped, then its p-value automatically jumps to 1 and stays there(cannot-reject) but it is still present for the closed test.\n",
    "\n",
    "The p-values for the closed test are determined by inference on the binomial using the z-approximation with pooling treatment and control:\n",
    "\n",
    "Z = pi-hat_1 - pi-hat_0 /sqrt(pi-hat-combined _ (1 - pi-hat-combined)_(1/n_1 + 1/n_2))\n",
    "\n",
    "We will do closed testing on the p-values from these two z-statistics.\n"
   ]
  },
  {
   "cell_type": "code",
   "execution_count": 2,
   "metadata": {},
   "outputs": [],
   "source": [
    "# Let's make some sub-methods, to perform the methods given one binomial setting\n",
    "pcontrol_TNBC = 0.34\n",
    "ptreat_TNBC = 0.38\n",
    "pcontrol_HRplus = 0.23\n",
    "ptreat_HRplus = 0.27\n",
    "\n",
    "# TODO: effect size is 0.04 so we are in alternative space for both hypotheses.\n",
    "# null hypo 1: effect size of tnbc = 0\n",
    "# null hypo 2: effect size of weighted average of tnbc and hrplus = 0\n",
    "#\n",
    "\n",
    "# generate hypotheses: for this, we have to do stuff similar to the closedtesting.pynb\n",
    "# There will be 2 hypotheses, one of which will have to be identified with a nonlinear equation in theta-space\n",
    "# Let's leave that to Ben, and just focus on executing the design"
   ]
  },
  {
   "attachments": {},
   "cell_type": "markdown",
   "metadata": {},
   "source": [
    "## Things to improve here:\n",
    "\n",
    "- constructing null hypothesis boundaries for imprint: ask mike\n",
    "- run imprint\n",
    "- compare against a simple t-test with the same simulation/model.\n",
    "  "
   ]
  },
  {
   "cell_type": "code",
   "execution_count": 3,
   "metadata": {},
   "outputs": [
    {
     "name": "stdout",
     "output_type": "stream",
     "text": [
      "40 34 148\n",
      "40 34 148\n"
     ]
    }
   ],
   "source": [
    "n_requested_first_stage = 150\n",
    "n_requested_second_stage = 150\n",
    "frac_tnbc = 0.54\n",
    "\n",
    "def split(n_stage):\n",
    "    return (\n",
    "        int(np.floor((n_stage * frac_tnbc) * 0.5)),\n",
    "        int(np.floor(n_stage * (1 - frac_tnbc) * 0.5)),\n",
    "    )\n",
    "\n",
    "n_TNBC_first_stage_per_arm, n_HRplus_first_stage_per_arm = split(n_requested_first_stage)\n",
    "n_TNBC_first_stage_total = n_TNBC_first_stage_per_arm * 2\n",
    "n_HRplus_first_stage_total = n_HRplus_first_stage_per_arm * 2\n",
    "n_first_stage = n_TNBC_first_stage_total + n_HRplus_first_stage_total\n",
    "print(n_TNBC_first_stage_per_arm, n_HRplus_first_stage_per_arm, n_first_stage)\n",
    "\n",
    "n_TNBC_second_stage_per_arm, n_HRplus_second_stage_per_arm = split(n_requested_second_stage)\n",
    "n_TNBC_second_stage_total = n_TNBC_second_stage_per_arm * 2\n",
    "n_HRplus_second_stage_total = n_HRplus_second_stage_per_arm * 2\n",
    "n_second_stage = n_TNBC_second_stage_total + n_HRplus_second_stage_total\n",
    "print(n_TNBC_second_stage_per_arm, n_HRplus_second_stage_per_arm, n_second_stage)"
   ]
  },
  {
   "cell_type": "code",
   "execution_count": 4,
   "metadata": {},
   "outputs": [],
   "source": [
    "def zTNBC(phatTNBCcontrol, phatTNBCtreat, n_per_arm):\n",
    "    TNBC_pooledaverage = (phatTNBCtreat + phatTNBCcontrol) / 2\n",
    "    denominatorTNBC = jnp.sqrt(\n",
    "        TNBC_pooledaverage * (1 - TNBC_pooledaverage) * (2 / n_per_arm)\n",
    "    )\n",
    "    return (phatTNBCtreat - phatTNBCcontrol) / denominatorTNBC\n",
    "\n",
    "\n",
    "def zfull(phatTNBCcontrol, phatTNBCtreat, phatHRpluscontrol, phatHRplustreat):\n",
    "    totally_pooledaverage = (\n",
    "        phatTNBCtreat + phatTNBCcontrol\n",
    "    ) * n_TNBC_first_stage_per_arm / n_first_stage + (\n",
    "        phatHRplustreat + phatHRpluscontrol\n",
    "    ) * n_HRplus_first_stage_per_arm / n_first_stage\n",
    "    denominatortotallypooled = jnp.sqrt(\n",
    "        totally_pooledaverage\n",
    "        * (1 - totally_pooledaverage)\n",
    "        * (2 / (n_TNBC_first_stage_per_arm + n_HRplus_first_stage_per_arm))\n",
    "    )\n",
    "    tnbc_effect = phatTNBCtreat - phatTNBCcontrol\n",
    "    hrplus_effect = phatHRplustreat - phatHRpluscontrol\n",
    "    return (\n",
    "        (tnbc_effect * n_TNBC_first_stage_total / n_first_stage)\n",
    "        + (hrplus_effect * n_HRplus_first_stage_total / n_first_stage)\n",
    "    ) / denominatortotallypooled\n",
    "\n",
    "\n",
    "def sample(unifs, next_idx, n, p):\n",
    "    return next_idx + n, jnp.mean(unifs[next_idx : next_idx + n] < p, dtype=unifs.dtype)\n",
    "\n",
    "@jax.jit\n",
    "def stage1(unifs, pcontrol_TNBC, ptreat_TNBC, pcontrol_HRplus, ptreat_HRplus):\n",
    "    next_idx, phatTNBCcontrol = sample(unifs, 0, n_TNBC_first_stage_per_arm, pcontrol_TNBC)\n",
    "    next_idx, phatTNBCtreat = sample(unifs, next_idx, n_TNBC_first_stage_per_arm, ptreat_TNBC)\n",
    "    next_idx, phatHRpluscontrol = sample(unifs,\n",
    "        next_idx, n_HRplus_first_stage_per_arm, pcontrol_HRplus\n",
    "    )\n",
    "    next_idx, phatHRplustreat = sample(unifs,\n",
    "        next_idx, n_HRplus_first_stage_per_arm, ptreat_HRplus\n",
    "    )\n",
    "\n",
    "    # Arm-dropping logic: drop all elementary hypotheses with larger than 0.1 difference in effect size\n",
    "    tnbc_effect = phatTNBCtreat - phatTNBCcontrol\n",
    "    hrplus_effect = phatHRplustreat - phatHRpluscontrol\n",
    "    effectsize_difference = tnbc_effect - hrplus_effect\n",
    "    # TODO: investigate this dropping logic. Section 3.4, ctrl-f \"epsilon\"\n",
    "    # TODO: this is wrong and should be compared to the weighted average\n",
    "    # treatment effects instead of the HRplus treatment effect??\n",
    "    hypofull_live = effectsize_difference <= 0.1\n",
    "    hypoTNBC_live = effectsize_difference >= -0.1\n",
    "\n",
    "    return (\n",
    "        next_idx,\n",
    "        zTNBC(phatTNBCcontrol, phatTNBCtreat, n_TNBC_first_stage_per_arm),\n",
    "        zfull(phatTNBCcontrol, phatTNBCtreat, phatHRpluscontrol, phatHRplustreat),\n",
    "        phatTNBCcontrol,\n",
    "        phatTNBCtreat,\n",
    "        phatHRpluscontrol,\n",
    "        phatHRplustreat,\n",
    "        effectsize_difference,\n",
    "        hypofull_live,\n",
    "        hypoTNBC_live,\n",
    "    )"
   ]
  },
  {
   "cell_type": "code",
   "execution_count": 5,
   "metadata": {},
   "outputs": [],
   "source": [
    "def sim(\n",
    "    unifs,\n",
    "    pcontrol_TNBC=0.34,\n",
    "    ptreat_TNBC=0.38,\n",
    "    pcontrol_HRplus=0.23,\n",
    "    ptreat_HRplus=0.27,\n",
    "):\n",
    "    # We now have to make a list of the relevant\n",
    "    # intersection hypotheses,\n",
    "    # which are indentified by which subgroups are part of them\n",
    "    # In this example, there are 2 elementary hypotheses\n",
    "    # hypoTNBC_live = True\n",
    "    # hypofull_live = True\n",
    "    # There is also the intersection hypothesis:\n",
    "    # hypo_both_live\n",
    "\n",
    "    next_idx, zTNBC_stage1, zfull_stage1, phatTNBCcontrol, phatTNBCtreat, phatHRpluscontrol, phatHRplustreat, effectsize_difference, hypofull_live, hypoTNBC_live = stage1(\n",
    "        unifs, pcontrol_TNBC, ptreat_TNBC, pcontrol_HRplus, ptreat_HRplus\n",
    "    )\n",
    "\n",
    "    # now compute second-stage z-statistics\n",
    "    if not hypofull_live:  # In this case we drop the HRplus arm\n",
    "        # Here, we ignored n_HRplus_second_stage_per_arm patients because the\n",
    "        # HRplus arm has been dropped.\n",
    "        npatientsperarm_secondstage = n_second_stage // 2\n",
    "        next_idx, phatTNBCcontrol = sample(unifs,\n",
    "            next_idx, npatientsperarm_secondstage, pcontrol_TNBC\n",
    "        )\n",
    "        next_idx, phatTNBCtreat = sample(unifs,\n",
    "            next_idx, npatientsperarm_secondstage, ptreat_TNBC\n",
    "        )\n",
    "        zTNBC_stage2 = zTNBC(\n",
    "            phatTNBCcontrol, phatTNBCtreat, npatientsperarm_secondstage\n",
    "        )\n",
    "        zfull_stage2 = -np.inf\n",
    "    else:\n",
    "        next_idx, phatTNBCcontrol = sample(unifs,\n",
    "            next_idx, n_TNBC_second_stage_per_arm, pcontrol_TNBC\n",
    "        )\n",
    "        next_idx, phatTNBCtreat = sample(unifs,\n",
    "            next_idx, n_TNBC_second_stage_per_arm, ptreat_TNBC\n",
    "        )\n",
    "        next_idx, phatHRpluscontrol = sample(unifs,\n",
    "            next_idx, n_HRplus_second_stage_per_arm, pcontrol_HRplus\n",
    "        )\n",
    "        next_idx, phatHRplustreat = sample(unifs,\n",
    "            next_idx, n_HRplus_second_stage_per_arm, ptreat_HRplus\n",
    "        )\n",
    "        zTNBC_stage2 = zTNBC(\n",
    "            phatTNBCcontrol, phatTNBCtreat, n_TNBC_second_stage_per_arm\n",
    "        )\n",
    "        zfull_stage2 = zfull(\n",
    "            phatTNBCcontrol, phatTNBCtreat, phatHRpluscontrol, phatHRplustreat\n",
    "        )\n",
    "\n",
    "    # now combine test statistics\n",
    "    # Now we go through the 3 intersection tests:\n",
    "    hypTNBC_zstat = zTNBC_stage1 / np.sqrt(2) + zTNBC_stage2 / np.sqrt(2)\n",
    "    hypfull_zstat = zfull_stage1 / np.sqrt(2) + zfull_stage2 / np.sqrt(2)\n",
    "\n",
    "    # Now doing the combination rule for the intersection test\n",
    "    # we multiply the p-value by two by analogy to bonferroni\n",
    "    HI_pfirst = 2 * (1 - scipy.stats.norm.cdf(max(zTNBC_stage1, zfull_stage1)))\n",
    "    HI_zfirst = scipy.stats.norm.ppf(1 - HI_pfirst)\n",
    "    HI_zsecond = np.where(\n",
    "        hypofull_live and hypoTNBC_live,\n",
    "        (\n",
    "            scipy.stats.norm.ppf(\n",
    "                1 - 2 * (1 - scipy.stats.norm.cdf(max(zTNBC_stage2, zfull_stage2)))\n",
    "            )\n",
    "        ),\n",
    "        np.where(hypoTNBC_live, zTNBC_stage2, zfull_stage2)\n",
    "    )\n",
    "\n",
    "    HI_zcombined = HI_zfirst / np.sqrt(2) + HI_zsecond / np.sqrt(2)\n",
    "\n",
    "    # Now we resolve which elementary statistics actually reject the null hypothesis\n",
    "    rejectintersection = HI_zcombined > 1.96\n",
    "    rejectTNBC_elementary = hypTNBC_zstat > 1.96\n",
    "    rejectfull_elementary = hypfull_zstat > 1.96\n",
    "\n",
    "    rejectTNBC_final = (\n",
    "        rejectTNBC_elementary & rejectintersection\n",
    "    )  # we use this for actual hypothesis rejections!\n",
    "    rejectfull_final = (\n",
    "        rejectfull_elementary & rejectintersection\n",
    "    )  # we use this for actual hypothesis rejections!\n",
    "    return dict(\n",
    "        hypoTNBC_live=bool(hypoTNBC_live),\n",
    "        hypofull_live=bool(hypofull_live),\n",
    "        rejectTNBC_final=bool(rejectTNBC_final),\n",
    "        rejectfull_final=bool(rejectfull_final),\n",
    "        zTNBC_stage1=float(zTNBC_stage1),\n",
    "        zTNBC_stage2=float(zTNBC_stage2),\n",
    "        zfull_stage1=float(zfull_stage1),\n",
    "        zfull_stage2=float(zfull_stage2),\n",
    "        HI_pfirst=float(HI_pfirst),\n",
    "        HI_zfirst=float(HI_zfirst),\n",
    "        HI_zsecond=float(HI_zsecond),\n",
    "        HI_zcombined=float(HI_zcombined),\n",
    "    )\n",
    "\n",
    "\n",
    "np.random.seed(0)\n",
    "N = 500\n",
    "unifs = np.random.uniform(size=(N, n_first_stage + n_second_stage)).astype(np.float64)\n",
    "results = pd.DataFrame(\n",
    "    [sim(unifs[i], ptreat_TNBC=0.44, ptreat_HRplus=0.33) for i in range(N)],\n",
    "    dtype=np.float64\n",
    ")"
   ]
  },
  {
   "attachments": {},
   "cell_type": "markdown",
   "metadata": {},
   "source": [
    "## Making it clean and fast, phase 2"
   ]
  },
  {
   "cell_type": "code",
   "execution_count": 18,
   "metadata": {},
   "outputs": [],
   "source": [
    "import time\n",
    "import confirm.models.wd41 as wd41\n",
    "\n",
    "model = wd41.WD41()\n",
    "jitsim = jax.vmap(jax.jit(model.sim), in_axes=(0, None, None, None, None))\n",
    "np.random.seed(0)\n",
    "N = 500000\n",
    "unifs = np.random.uniform(size=(N, n_first_stage + n_second_stage)).astype(np.float32)"
   ]
  },
  {
   "cell_type": "code",
   "execution_count": 21,
   "metadata": {},
   "outputs": [
    {
     "name": "stdout",
     "output_type": "stream",
     "text": [
      "0.13395309448242188\n"
     ]
    }
   ],
   "source": [
    "start = time.time()\n",
    "new_results = pd.DataFrame(\n",
    "    jitsim(unifs, 0.34, 0.44, 0.23, 0.33),\n",
    "    dtype=np.float64\n",
    ")\n",
    "print(time.time() - start)\n",
    "# new_results = pd.DataFrame(\n",
    "#     [sim(unifs[i], ptreat_TNBC=0.44, ptreat_HRplus=0.33) for i in [39]],\n",
    "#     dtype=np.float64\n",
    "# )[results.columns]"
   ]
  },
  {
   "cell_type": "code",
   "execution_count": 9,
   "metadata": {},
   "outputs": [],
   "source": [
    "assert ((new_results.std()[['zTNBC_stage1', 'zTNBC_stage2', 'zfull_stage1']] - 1) < 0.03).all()"
   ]
  },
  {
   "cell_type": "code",
   "execution_count": 10,
   "metadata": {},
   "outputs": [],
   "source": [
    "pd.testing.assert_frame_equal(\n",
    "    results[new_results.columns].replace([-np.inf], np.nan), new_results.iloc[:500].replace([-np.inf], np.nan)\n",
    ")"
   ]
  },
  {
   "cell_type": "code",
   "execution_count": 16,
   "metadata": {},
   "outputs": [
    {
     "data": {
      "text/html": [
       "<pre style=\"white-space:pre;overflow-x:auto;line-height:normal;font-family:Menlo,'DejaVu Sans Mono',consolas,'Courier New',monospace\"></pre>\n"
      ],
      "text/plain": [
       "\u001b[?25l"
      ]
     },
     "metadata": {},
     "output_type": "display_data"
    },
    {
     "data": {
      "application/vnd.jupyter.widget-view+json": {
       "model_id": "91012fe4de66439b99333c1eb8be75db",
       "version_major": 2,
       "version_minor": 0
      },
      "text/plain": [
       "Output()"
      ]
     },
     "metadata": {},
     "output_type": "display_data"
    },
    {
     "data": {
      "text/html": [
       "<pre style=\"white-space:pre;overflow-x:auto;line-height:normal;font-family:Menlo,'DejaVu Sans Mono',consolas,'Courier New',monospace\">\n",
       "</pre>\n"
      ],
      "text/plain": [
       "\n",
       "\u001b[?25h\r\u001b[1A\u001b[2K"
      ]
     },
     "metadata": {},
     "output_type": "display_data"
    },
    {
     "data": {
      "text/html": [
       "<pre style=\"white-space:pre;overflow-x:auto;line-height:normal;font-family:Menlo,'DejaVu Sans Mono',consolas,'Courier New',monospace\"><span style=\"color: #008000; text-decoration-color: #008000\">✓</span> Initialized. <span style=\"color: #b2b2b2; text-decoration-color: #b2b2b2\">View app at </span><span style=\"color: #b2b2b2; text-decoration-color: #b2b2b2; text-decoration: underline\">https://modal.com/apps/ap-ozNEb8dFDeD8tppedqTKeH</span>\n",
       "</pre>\n"
      ],
      "text/plain": [
       "\u001b[32m✓\u001b[0m Initialized. \u001b[38;5;249mView app at \u001b[0m\u001b[4;38;5;249mhttps://modal.com/apps/ap-ozNEb8dFDeD8tppedqTKeH\u001b[0m\n"
      ]
     },
     "metadata": {},
     "output_type": "display_data"
    },
    {
     "data": {
      "text/html": [
       "<pre style=\"white-space:pre;overflow-x:auto;line-height:normal;font-family:Menlo,'DejaVu Sans Mono',consolas,'Courier New',monospace\"></pre>\n"
      ],
      "text/plain": [
       "\u001b[?25l"
      ]
     },
     "metadata": {},
     "output_type": "display_data"
    },
    {
     "data": {
      "application/vnd.jupyter.widget-view+json": {
       "model_id": "8cb324250cc24c84b95c85ea7a443a68",
       "version_major": 2,
       "version_minor": 0
      },
      "text/plain": [
       "Output()"
      ]
     },
     "metadata": {},
     "output_type": "display_data"
    },
    {
     "data": {
      "text/html": [
       "<pre style=\"white-space:pre;overflow-x:auto;line-height:normal;font-family:Menlo,'DejaVu Sans Mono',consolas,'Courier New',monospace\">\n",
       "</pre>\n"
      ],
      "text/plain": [
       "\n",
       "\u001b[?25h\r\u001b[1A\u001b[2K\u001b[1A\u001b[2K\u001b[1A\u001b[2K\u001b[1A\u001b[2K"
      ]
     },
     "metadata": {},
     "output_type": "display_data"
    },
    {
     "data": {
      "text/html": [
       "<pre style=\"white-space:pre;overflow-x:auto;line-height:normal;font-family:Menlo,'DejaVu Sans Mono',consolas,'Courier New',monospace\"><span style=\"color: #008000; text-decoration-color: #008000\">✓</span> Created objects.\n",
       "<span style=\"color: #808080; text-decoration-color: #808080\">├── </span><span style=\"color: #008000; text-decoration-color: #008000\">🔨</span> Created gpu_bench.\n",
       "<span style=\"color: #808080; text-decoration-color: #808080\">├── </span><span style=\"color: #008000; text-decoration-color: #008000\">🔨</span> Created mount /Users/tbent/confirm/confirmasaurus/confirm\n",
       "<span style=\"color: #808080; text-decoration-color: #808080\">└── </span><span style=\"color: #008000; text-decoration-color: #008000\">🔨</span> Created mount /Users/tbent/confirm/confirmasaurus/imprint/imprint\n",
       "</pre>\n"
      ],
      "text/plain": [
       "\u001b[32m✓\u001b[0m Created objects.\n",
       "\u001b[38;5;244m├── \u001b[0m\u001b[32m🔨\u001b[0m Created gpu_bench.\n",
       "\u001b[38;5;244m├── \u001b[0m\u001b[32m🔨\u001b[0m Created mount /Users/tbent/confirm/confirmasaurus/confirm\n",
       "\u001b[38;5;244m└── \u001b[0m\u001b[32m🔨\u001b[0m Created mount /Users/tbent/confirm/confirmasaurus/imprint/imprint\n"
      ]
     },
     "metadata": {},
     "output_type": "display_data"
    },
    {
     "data": {
      "text/html": [
       "<pre style=\"white-space:pre;overflow-x:auto;line-height:normal;font-family:Menlo,'DejaVu Sans Mono',consolas,'Courier New',monospace\"></pre>\n"
      ],
      "text/plain": [
       "\u001b[?25l"
      ]
     },
     "metadata": {},
     "output_type": "display_data"
    },
    {
     "data": {
      "application/vnd.jupyter.widget-view+json": {
       "model_id": "4cbce9a01cf244a2b22adaa75fcf531b",
       "version_major": 2,
       "version_minor": 0
      },
      "text/plain": [
       "Output()"
      ]
     },
     "metadata": {},
     "output_type": "display_data"
    },
    {
     "data": {
      "text/html": [
       "<pre style=\"white-space:pre;overflow-x:auto;line-height:normal;font-family:Menlo,'DejaVu Sans Mono',consolas,'Courier New',monospace\"><span style=\"color: #000080; text-decoration-color: #000080\">4.1699278354644775\n",
       "⠹ Running (1/1 containers active)...</span></pre>\n"
      ],
      "text/plain": [
       "\r\u001b[2K\u001b[34m4.1699278354644775\n",
       "\u001b[0m\u001b[34m⠹\u001b[0m\u001b[34m \u001b[0m\u001b[34mRunning (1/1 containers active)...\u001b[0m"
      ]
     },
     "metadata": {},
     "output_type": "display_data"
    },
    {
     "data": {
      "text/html": [
       "<pre style=\"white-space:pre;overflow-x:auto;line-height:normal;font-family:Menlo,'DejaVu Sans Mono',consolas,'Courier New',monospace\"><span style=\"color: #000080; text-decoration-color: #000080\">1.0380182266235352\n",
       "⠴ Running (1/1 containers active)...</span></pre>\n"
      ],
      "text/plain": [
       "\r\u001b[2K\u001b[34m1.0380182266235352\n",
       "\u001b[0m\u001b[34m⠴\u001b[0m\u001b[34m \u001b[0m\u001b[34mRunning (1/1 containers active)...\u001b[0m"
      ]
     },
     "metadata": {},
     "output_type": "display_data"
    },
    {
     "data": {
      "text/html": [
       "<pre style=\"white-space:pre;overflow-x:auto;line-height:normal;font-family:Menlo,'DejaVu Sans Mono',consolas,'Courier New',monospace\"><span style=\"color: #000080; text-decoration-color: #000080\">1.0001611709594727\n",
       "⠧ Running (1/1 containers active)...</span></pre>\n"
      ],
      "text/plain": [
       "\r\u001b[2K\u001b[34m1.0001611709594727\n",
       "\u001b[0m\u001b[34m⠧\u001b[0m\u001b[34m \u001b[0m\u001b[34mRunning (1/1 containers active)...\u001b[0m"
      ]
     },
     "metadata": {},
     "output_type": "display_data"
    },
    {
     "data": {
      "text/html": [
       "<pre style=\"white-space:pre;overflow-x:auto;line-height:normal;font-family:Menlo,'DejaVu Sans Mono',consolas,'Courier New',monospace\"><span style=\"color: #000080; text-decoration-color: #000080\">0.9858901500701904\n",
       "⠋ Running (1/1 containers active)...</span></pre>\n"
      ],
      "text/plain": [
       "\r\u001b[2K\u001b[34m0.9858901500701904\n",
       "\u001b[0m\u001b[34m⠋\u001b[0m\u001b[34m \u001b[0m\u001b[34mRunning (1/1 containers active)...\u001b[0m"
      ]
     },
     "metadata": {},
     "output_type": "display_data"
    },
    {
     "data": {
      "text/html": [
       "<pre style=\"white-space:pre;overflow-x:auto;line-height:normal;font-family:Menlo,'DejaVu Sans Mono',consolas,'Courier New',monospace\"><span style=\"color: #000080; text-decoration-color: #000080\">0.9904811382293701\n",
       "⠹ Running (1/1 containers active)...</span></pre>\n"
      ],
      "text/plain": [
       "\r\u001b[2K\u001b[34m0.9904811382293701\n",
       "\u001b[0m\u001b[34m⠹\u001b[0m\u001b[34m \u001b[0m\u001b[34mRunning (1/1 containers active)...\u001b[0m"
      ]
     },
     "metadata": {},
     "output_type": "display_data"
    },
    {
     "data": {
      "text/html": [
       "<pre style=\"white-space:pre;overflow-x:auto;line-height:normal;font-family:Menlo,'DejaVu Sans Mono',consolas,'Courier New',monospace\">\n",
       "</pre>\n"
      ],
      "text/plain": [
       "\n",
       "\u001b[?25h\r\u001b[1A\u001b[2K"
      ]
     },
     "metadata": {},
     "output_type": "display_data"
    },
    {
     "data": {
      "text/html": [
       "<pre style=\"white-space:pre;overflow-x:auto;line-height:normal;font-family:Menlo,'DejaVu Sans Mono',consolas,'Courier New',monospace\"><span style=\"color: #008000; text-decoration-color: #008000\">✓</span> App completed.\n",
       "</pre>\n"
      ],
      "text/plain": [
       "\u001b[32m✓\u001b[0m App completed.\n"
      ]
     },
     "metadata": {},
     "output_type": "display_data"
    }
   ],
   "source": [
    "def gpu_bench():\n",
    "    import confirm.models.wd41 as wd41\n",
    "    model = wd41.WD41()\n",
    "    jitsim = jax.vmap(jax.jit(model.sim), in_axes=(0, None, None, None, None))\n",
    "    np.random.seed(0)\n",
    "    N = 10000000\n",
    "    unifs = np.random.uniform(size=(N, n_first_stage + n_second_stage)).astype(np.float64)\n",
    "    unifs = jnp.array(unifs)\n",
    "\n",
    "    for i in range(5):\n",
    "        start = time.time()\n",
    "        new_results = pd.DataFrame(\n",
    "            jitsim(unifs, 0.34, 0.44, 0.23, 0.33),\n",
    "            dtype=np.float64\n",
    "        )\n",
    "        print(time.time() - start)\n",
    "\n",
    "import confirm.cloud.modal_util as modal_util\n",
    "modal_util.run_on_modal(gpu_bench, gpu='A100')"
   ]
  },
  {
   "cell_type": "code",
   "execution_count": 17,
   "metadata": {},
   "outputs": [
    {
     "name": "stdout",
     "output_type": "stream",
     "text": [
      "5.3118510246276855\n",
      "2.7410900592803955\n",
      "2.924514055252075\n",
      "2.7476882934570312\n",
      "2.6818671226501465\n"
     ]
    }
   ],
   "source": [
    "gpu_bench()"
   ]
  },
  {
   "cell_type": "code",
   "execution_count": null,
   "metadata": {},
   "outputs": [],
   "source": []
  }
 ],
 "metadata": {
  "kernelspec": {
   "display_name": "confirm",
   "language": "python",
   "name": "python3"
  },
  "language_info": {
   "codemirror_mode": {
    "name": "ipython",
    "version": 3
   },
   "file_extension": ".py",
   "mimetype": "text/x-python",
   "name": "python",
   "nbconvert_exporter": "python",
   "pygments_lexer": "ipython3",
   "version": "3.10.8"
  },
  "orig_nbformat": 4,
  "vscode": {
   "interpreter": {
    "hash": "b4c6ec5b2d6c7b38df115d547b82cd53ca25eea58d87299956d35a9dc79f19f1"
   }
  }
 },
 "nbformat": 4,
 "nbformat_minor": 2
}
