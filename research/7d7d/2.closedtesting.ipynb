{
 "cells": [
  {
   "cell_type": "code",
   "execution_count": 1,
   "metadata": {},
   "outputs": [],
   "source": [
    "from imprint.nb_util import setup_nb\n",
    "\n",
    "# setup_nb is a handy function for setting up some nice plotting defaults.\n",
    "setup_nb()\n",
    "import scipy.stats\n",
    "import matplotlib.pyplot as plt\n",
    "\n",
    "import imprint as ip\n",
    "import numpy as np\n",
    "import jax\n"
   ]
  },
  {
   "cell_type": "code",
   "execution_count": 4,
   "metadata": {},
   "outputs": [],
   "source": [
    "grid = ip.cartesian_grid(\n",
    "        [-3, -3], [3, 3], n=[20, 20], null_hypos=[ip.hypo(\"theta1 < theta0\")]\n",
    "    )\n",
    "lam = 0.025\n",
    "K = 100\n",
    "n = 50"
   ]
  },
  {
   "cell_type": "code",
   "execution_count": null,
   "metadata": {},
   "outputs": [],
   "source": []
  },
  {
   "cell_type": "code",
   "execution_count": 5,
   "metadata": {},
   "outputs": [
    {
     "ename": "NameError",
     "evalue": "name 'x' is not defined",
     "output_type": "error",
     "traceback": [
      "\u001b[0;31m---------------------------------------------------------------------------\u001b[0m",
      "\u001b[0;31mNameError\u001b[0m                                 Traceback (most recent call last)",
      "Cell \u001b[0;32mIn[5], line 1\u001b[0m\n\u001b[0;32m----> 1\u001b[0m x\u001b[39m.\u001b[39msamples\u001b[39m.\u001b[39mshape\n",
      "\u001b[0;31mNameError\u001b[0m: name 'x' is not defined"
     ]
    }
   ],
   "source": []
  },
  {
   "cell_type": "code",
   "execution_count": 6,
   "metadata": {},
   "outputs": [
    {
     "ename": "NameError",
     "evalue": "name 'BinomialClosed' is not defined",
     "output_type": "error",
     "traceback": [
      "\u001b[0;31m---------------------------------------------------------------------------\u001b[0m",
      "\u001b[0;31mNameError\u001b[0m                                 Traceback (most recent call last)",
      "Cell \u001b[0;32mIn[6], line 1\u001b[0m\n\u001b[0;32m----> 1\u001b[0m x \u001b[39m=\u001b[39m BinomialClosed(seed \u001b[39m=\u001b[39m \u001b[39m12312445\u001b[39m, max_K \u001b[39m=\u001b[39m \u001b[39m3\u001b[39m, n \u001b[39m=\u001b[39m \u001b[39m100\u001b[39m)\n\u001b[1;32m      2\u001b[0m x\u001b[39m.\u001b[39msamples\u001b[39m.\u001b[39mshape\n\u001b[1;32m      3\u001b[0m grid\u001b[39m.\u001b[39mget_theta()\u001b[39m.\u001b[39mshape\n",
      "\u001b[0;31mNameError\u001b[0m: name 'BinomialClosed' is not defined"
     ]
    }
   ],
   "source": []
  },
  {
   "cell_type": "code",
   "execution_count": 13,
   "metadata": {},
   "outputs": [],
   "source": [
    "class BinomialClosed:\n",
    "    def __init__(self, seed, max_K, *, n):\n",
    "        self.family = \"binomial\"\n",
    "        self.family_params = {\"n\": n[0]}\n",
    "        self.n=n\n",
    "        key = jax.random.PRNGKey(seed)\n",
    "        splitkeys = jax.random.split(key, num=2)\n",
    "        self.samples_arm1 = jax.random.uniform(\n",
    "            splitkeys[1], shape=(max_K, n[1]), dtype=np.float32\n",
    "        )\n",
    "        \n",
    "        self.samples_arm0 = jax.random.uniform(\n",
    "            splitkeys[0], shape=(max_K, n[0]), dtype=np.float32\n",
    "        )\n",
    "\n",
    "    def sim_batch(self, begin_sim, end_sim, theta, null_truth, detailed=False):\n",
    "        p = jax.scipy.special.expit(theta)\n",
    "        # successes is a 2-dimensional array of shape: (n_tiles, n_sims = K)\n",
    "        successes1 = np.sum(self.samples_arm1[None, begin_sim:end_sim, :] < p[:, None, None, 1],axis =2)\n",
    "        successes0 = np.sum(self.samples_arm0[None, begin_sim:end_sim, :] < p[:, None, None, 0],axis =2)\n",
    "        phat1 = successes1 / self.n[1]\n",
    "        phat0 = successes0 / self.n[0]\n",
    "        pooledphat = (phat1*self.n[1] + phat0*self.n[0]) / (self.n[1] + self.n[0])\n",
    "        zstats = (phat1 - phat0) / np.sqrt(pooledphat * (1 - pooledphat) * (1 / self.n[0] + 1 / self.n[1]))\n",
    "        #output is a 2-dimensional array of shape (n_tiles, n_sims = K)\n",
    "        return -zstats\n"
   ]
  },
  {
   "cell_type": "code",
   "execution_count": 14,
   "metadata": {},
   "outputs": [
    {
     "data": {
      "text/html": [
       "<div>\n",
       "<style scoped>\n",
       "    .dataframe tbody tr th:only-of-type {\n",
       "        vertical-align: middle;\n",
       "    }\n",
       "\n",
       "    .dataframe tbody tr th {\n",
       "        vertical-align: top;\n",
       "    }\n",
       "\n",
       "    .dataframe thead th {\n",
       "        text-align: right;\n",
       "    }\n",
       "</style>\n",
       "<table border=\"1\" class=\"dataframe\">\n",
       "  <thead>\n",
       "    <tr style=\"text-align: right;\">\n",
       "      <th></th>\n",
       "      <th>tie_sum</th>\n",
       "      <th>tie_est</th>\n",
       "      <th>tie_cp_bound</th>\n",
       "      <th>tie_bound</th>\n",
       "    </tr>\n",
       "  </thead>\n",
       "  <tbody>\n",
       "    <tr>\n",
       "      <th>0</th>\n",
       "      <td>50</td>\n",
       "      <td>0.50</td>\n",
       "      <td>0.619283</td>\n",
       "      <td>0.897643</td>\n",
       "    </tr>\n",
       "    <tr>\n",
       "      <th>1</th>\n",
       "      <td>25</td>\n",
       "      <td>0.25</td>\n",
       "      <td>0.364503</td>\n",
       "      <td>0.689318</td>\n",
       "    </tr>\n",
       "    <tr>\n",
       "      <th>2</th>\n",
       "      <td>8</td>\n",
       "      <td>0.08</td>\n",
       "      <td>0.165946</td>\n",
       "      <td>0.435788</td>\n",
       "    </tr>\n",
       "    <tr>\n",
       "      <th>3</th>\n",
       "      <td>1</td>\n",
       "      <td>0.01</td>\n",
       "      <td>0.064543</td>\n",
       "      <td>0.242026</td>\n",
       "    </tr>\n",
       "    <tr>\n",
       "      <th>4</th>\n",
       "      <td>0</td>\n",
       "      <td>0.00</td>\n",
       "      <td>0.045007</td>\n",
       "      <td>0.202271</td>\n",
       "    </tr>\n",
       "    <tr>\n",
       "      <th>...</th>\n",
       "      <td>...</td>\n",
       "      <td>...</td>\n",
       "      <td>...</td>\n",
       "      <td>...</td>\n",
       "    </tr>\n",
       "    <tr>\n",
       "      <th>225</th>\n",
       "      <td>54</td>\n",
       "      <td>0.54</td>\n",
       "      <td>0.657288</td>\n",
       "      <td>0.994163</td>\n",
       "    </tr>\n",
       "    <tr>\n",
       "      <th>226</th>\n",
       "      <td>59</td>\n",
       "      <td>0.59</td>\n",
       "      <td>0.703765</td>\n",
       "      <td>0.994046</td>\n",
       "    </tr>\n",
       "    <tr>\n",
       "      <th>227</th>\n",
       "      <td>51</td>\n",
       "      <td>0.51</td>\n",
       "      <td>0.628852</td>\n",
       "      <td>0.953501</td>\n",
       "    </tr>\n",
       "    <tr>\n",
       "      <th>228</th>\n",
       "      <td>49</td>\n",
       "      <td>0.49</td>\n",
       "      <td>0.609668</td>\n",
       "      <td>0.918437</td>\n",
       "    </tr>\n",
       "    <tr>\n",
       "      <th>229</th>\n",
       "      <td>55</td>\n",
       "      <td>0.55</td>\n",
       "      <td>0.666675</td>\n",
       "      <td>0.927530</td>\n",
       "    </tr>\n",
       "  </tbody>\n",
       "</table>\n",
       "<p>230 rows × 4 columns</p>\n",
       "</div>"
      ],
      "text/plain": [
       "     tie_sum  tie_est  tie_cp_bound  tie_bound\n",
       "0         50     0.50      0.619283   0.897643\n",
       "1         25     0.25      0.364503   0.689318\n",
       "2          8     0.08      0.165946   0.435788\n",
       "3          1     0.01      0.064543   0.242026\n",
       "4          0     0.00      0.045007   0.202271\n",
       "..       ...      ...           ...        ...\n",
       "225       54     0.54      0.657288   0.994163\n",
       "226       59     0.59      0.703765   0.994046\n",
       "227       51     0.51      0.628852   0.953501\n",
       "228       49     0.49      0.609668   0.918437\n",
       "229       55     0.55      0.666675   0.927530\n",
       "\n",
       "[230 rows x 4 columns]"
      ]
     },
     "execution_count": 14,
     "metadata": {},
     "output_type": "execute_result"
    }
   ],
   "source": [
    "ip.validate(BinomialClosed, grid, lam, K=K, model_kwargs=dict(n=[100,100]))"
   ]
  },
  {
   "cell_type": "code",
   "execution_count": null,
   "metadata": {},
   "outputs": [],
   "source": []
  }
 ],
 "metadata": {
  "kernelspec": {
   "display_name": "confirm",
   "language": "python",
   "name": "python3"
  },
  "language_info": {
   "codemirror_mode": {
    "name": "ipython",
    "version": 3
   },
   "file_extension": ".py",
   "mimetype": "text/x-python",
   "name": "python",
   "nbconvert_exporter": "python",
   "pygments_lexer": "ipython3",
   "version": "3.10.6"
  },
  "orig_nbformat": 4,
  "vscode": {
   "interpreter": {
    "hash": "244a70f8ba587ac945a75283a2462feda5931af2453571227e17a5a68b0d3888"
   }
  }
 },
 "nbformat": 4,
 "nbformat_minor": 2
}
