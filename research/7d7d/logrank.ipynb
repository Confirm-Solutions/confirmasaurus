{
 "cells": [
  {
   "cell_type": "code",
   "execution_count": 33,
   "metadata": {},
   "outputs": [],
   "source": [
    "import numpy as np\n",
    "import pandas as pd\n",
    "import matplotlib.pyplot as plt\n",
    "import jax\n",
    "import jax.numpy as jnp\n",
    "\n",
    "from lifelines.datasets import load_waltons\n",
    "df = load_waltons() "
   ]
  },
  {
   "cell_type": "code",
   "execution_count": 2,
   "metadata": {},
   "outputs": [
    {
     "data": {
      "text/plain": [
       "array(['miR-137', 'control'], dtype=object)"
      ]
     },
     "execution_count": 2,
     "metadata": {},
     "output_type": "execute_result"
    }
   ],
   "source": [
    "df['group'].unique()"
   ]
  },
  {
   "cell_type": "code",
   "execution_count": 3,
   "metadata": {},
   "outputs": [
    {
     "data": {
      "image/png": "[encoded data removed]",
      "text/plain": [
       "<Figure size 640x480 with 1 Axes>"
      ]
     },
     "metadata": {},
     "output_type": "display_data"
    }
   ],
   "source": [
    "from lifelines import KaplanMeierFitter\n",
    "kmf = KaplanMeierFitter()\n",
    "group_dfs = []\n",
    "for name, grouped_df in df.groupby('group'):\n",
    "    group_dfs.append(grouped_df)\n",
    "    kmf.fit(grouped_df['T'], grouped_df['E'], label=name)\n",
    "    kmf.plot_survival_function()"
   ]
  },
  {
   "cell_type": "code",
   "execution_count": 4,
   "metadata": {},
   "outputs": [
    {
     "data": {
      "text/plain": [
       "41.8595583505775"
      ]
     },
     "execution_count": 4,
     "metadata": {},
     "output_type": "execute_result"
    }
   ],
   "source": [
    "from lifelines.statistics import logrank_test, multivariate_logrank_test\n",
    "\n",
    "t0 = 20\n",
    "res = logrank_test(\n",
    "    group_dfs[0][\"T\"], \n",
    "    group_dfs[1][\"T\"],\n",
    "    group_dfs[0][\"E\"],\n",
    "    group_dfs[1][\"E\"],\n",
    "    t_0=t0\n",
    ")\n",
    "res.test_statistic"
   ]
  },
  {
   "cell_type": "code",
   "execution_count": 5,
   "metadata": {},
   "outputs": [
    {
     "data": {
      "text/plain": [
       "41.85955835057754"
      ]
     },
     "execution_count": 5,
     "metadata": {},
     "output_type": "execute_result"
    }
   ],
   "source": [
    "Nij = [[], []]\n",
    "Oij = [[], []]\n",
    "for i in range(2):\n",
    "    gdf = group_dfs[i]\n",
    "    for j in range(t0+1):\n",
    "        Nij[i].append(gdf.loc[gdf['T'] >= j].shape[0])\n",
    "        # Oij[i].append(gdf.loc[(gdf['T'] < j + 1e-5) & gdf['E']].shape[0])\n",
    "        Oij[i].append(gdf.loc[(np.abs(gdf['T'] - j) < 1e-5) & gdf['E']].shape[0])\n",
    "Nij = np.array(Nij)\n",
    "Oij = np.array(Oij)\n",
    "Nj = Nij.sum(axis=0)\n",
    "Oj = Oij.sum(axis=0)\n",
    "Eij = Nij * (Oj / Nj)\n",
    "Vij = Eij * ((Nj - Oj) / Nj) * ((Nj - Nij) / (Nj - 1))\n",
    "test_stat = np.sum(Oij - Eij, axis=1) ** 2 / np.sum(Vij, axis=1)\n",
    "test_stat[0]"
   ]
  },
  {
   "cell_type": "code",
   "execution_count": 6,
   "metadata": {},
   "outputs": [],
   "source": [
    "import scipy.stats\n",
    "rvs = scipy.stats.expon.rvs(size=(10, 2))\n",
    "control_rvs = rvs[:,0] \n",
    "hazard_ratio = 0.7\n",
    "treatment_rvs = rvs[:,1] / hazard_ratio"
   ]
  },
  {
   "cell_type": "code",
   "execution_count": 7,
   "metadata": {},
   "outputs": [
    {
     "data": {
      "image/png": "[encoded data removed]",
      "text/plain": [
       "<Figure size 640x480 with 1 Axes>"
      ]
     },
     "metadata": {},
     "output_type": "display_data"
    }
   ],
   "source": [
    "plt.hist(treatment_rvs)\n",
    "plt.hist(control_rvs)\n",
    "plt.show()"
   ]
  },
  {
   "cell_type": "code",
   "execution_count": 87,
   "metadata": {},
   "outputs": [],
   "source": [
    "censoring_time = 2\n",
    "all_rvs = np.concatenate([control_rvs, treatment_rvs])\n",
    "group = np.concatenate([np.zeros(control_rvs.shape[0]), np.ones(treatment_rvs.shape[0])]).astype(bool)"
   ]
  },
  {
   "cell_type": "code",
   "execution_count": 88,
   "metadata": {},
   "outputs": [
    {
     "data": {
      "text/plain": [
       "2.414067815518945"
      ]
     },
     "execution_count": 88,
     "metadata": {},
     "output_type": "execute_result"
    }
   ],
   "source": [
    "ordering = np.argsort(all_rvs)\n",
    "ordered_group = group[ordering]\n",
    "ordered = all_rvs[ordering]\n",
    "Nij = [[], []]\n",
    "Oij = [[], []]\n",
    "events_so_far = [0, 0]\n",
    "max_idx = np.argmin(ordered <= censoring_time)\n",
    "for j in range(max_idx):\n",
    "    for i in range(2):\n",
    "        event_now = ordered_group[j] == (i == 1)\n",
    "        Nij[i].append(rvs.shape[0] - events_so_far[i])\n",
    "        Oij[i].append(event_now)\n",
    "        events_so_far[i] += event_now\n",
    "Nij = np.array(Nij)\n",
    "Oij = np.array(Oij)\n",
    "Nj = Nij.sum(axis=0)\n",
    "Oj = Oij.sum(axis=0)\n",
    "Eij = Nij * (Oj / Nj)\n",
    "Vij = Eij * ((Nj - Oj) / Nj) * ((Nj - Nij) / (Nj - 1))\n",
    "test_stat = np.sum(Oij - Eij, axis=1) ** 2 / np.sum(Vij, axis=1)\n",
    "test_stat[0]"
   ]
  },
  {
   "cell_type": "code",
   "execution_count": 89,
   "metadata": {},
   "outputs": [
    {
     "data": {
      "text/plain": [
       "2.414067815518944"
      ]
     },
     "execution_count": 89,
     "metadata": {},
     "output_type": "execute_result"
    }
   ],
   "source": [
    "multivariate_logrank_test(ordered, ordered_group, t0=4).test_statistic"
   ]
  },
  {
   "cell_type": "code",
   "execution_count": 90,
   "metadata": {},
   "outputs": [],
   "source": [
    "ordering = jnp.argsort(all_rvs)\n",
    "ordered = all_rvs[ordering]\n",
    "ordered_group = group[ordering]\n",
    "max_idx = jnp.argmin(ordered <= censoring_time)\n",
    "event_now = jnp.stack((~ordered_group, ordered_group), axis=0) * (jnp.arange(ordered.shape[0]) < max_idx)\n",
    "events_so_far = jnp.concatenate((jnp.zeros((2, 1)), event_now.cumsum(axis=1)[:, :-1]), axis=1)\n",
    "Nij = rvs.shape[0] - events_so_far\n",
    "Oij = event_now\n",
    "Nj = Nij.sum(axis=0)\n",
    "Oj = Oij.sum(axis=0)\n",
    "Eij = Nij * (Oj / Nj)\n",
    "Vij = Eij * ((Nj - Oj) / Nj) * ((Nj - Nij) / (Nj - 1))\n",
    "test_stat = jnp.sum(Oij[0] - Eij[0], axis=0) ** 2 / jnp.sum(Vij[0], axis=0)"
   ]
  },
  {
   "cell_type": "code",
   "execution_count": 91,
   "metadata": {},
   "outputs": [
    {
     "data": {
      "text/plain": [
       "DeviceArray(2.4140677, dtype=float32)"
      ]
     },
     "execution_count": 91,
     "metadata": {},
     "output_type": "execute_result"
    }
   ],
   "source": [
    "test_stat"
   ]
  },
  {
   "cell_type": "code",
   "execution_count": 92,
   "metadata": {},
   "outputs": [
    {
     "data": {
      "text/plain": [
       "DeviceArray([2.4140673], dtype=float32)"
      ]
     },
     "execution_count": 92,
     "metadata": {},
     "output_type": "execute_result"
    }
   ],
   "source": [
    "@jax.vmap\n",
    "@jax.jit\n",
    "def logrank_test(all_rvs, group):\n",
    "    ordering = jnp.argsort(all_rvs)\n",
    "    ordered = all_rvs[ordering]\n",
    "    ordered_group = group[ordering]\n",
    "    max_idx = jnp.argmin(ordered <= censoring_time)\n",
    "    event_now = jnp.stack((~ordered_group, ordered_group), axis=0) * (jnp.arange(ordered.shape[0]) < max_idx)\n",
    "    events_so_far = jnp.concatenate((jnp.zeros((2, 1)), event_now.cumsum(axis=1)[:, :-1]), axis=1)\n",
    "    Nij = rvs.shape[0] - events_so_far\n",
    "    Oij = event_now\n",
    "    Nj = Nij.sum(axis=0)\n",
    "    Oj = Oij.sum(axis=0)\n",
    "    Eij = Nij * (Oj / Nj)\n",
    "    Vij = Eij * ((Nj - Oj) / Nj) * ((Nj - Nij) / (Nj - 1))\n",
    "    test_stat = jnp.sum(Oij[0] - Eij[0], axis=0) ** 2 / jnp.sum(Vij[0], axis=0)\n",
    "    return test_stat\n",
    "\n",
    "logrank_test(jnp.array([all_rvs]), jnp.array([group]))"
   ]
  },
  {
   "cell_type": "code",
   "execution_count": 93,
   "metadata": {},
   "outputs": [],
   "source": [
    "rvs = scipy.stats.expon.rvs(size=(100000, 10, 2))\n",
    "control_rvs = rvs[:,:,0] \n",
    "hazard_rate = 0.7\n",
    "treatment_rvs = rvs[:,:,1] / hazard_rate\n",
    "all_rvs = np.concatenate([control_rvs, treatment_rvs], axis=1)\n",
    "group = np.concatenate([np.zeros(control_rvs.shape), np.ones(treatment_rvs.shape)], axis=1).astype(bool)"
   ]
  },
  {
   "cell_type": "code",
   "execution_count": 96,
   "metadata": {},
   "outputs": [
    {
     "name": "stdout",
     "output_type": "stream",
     "text": [
      "CPU times: user 166 ms, sys: 9.29 ms, total: 176 ms\n",
      "Wall time: 151 ms\n"
     ]
    },
    {
     "data": {
      "text/plain": [
       "DeviceArray([0.00000000e+00, 1.12805765e-10, 7.69215375e-02, ...,\n",
       "             5.88364899e-02, 5.88270649e-02, 5.29390574e-01],            dtype=float32)"
      ]
     },
     "execution_count": 96,
     "metadata": {},
     "output_type": "execute_result"
    }
   ],
   "source": [
    "%%time\n",
    "logrank_test(all_rvs, group)"
   ]
  },
  {
   "cell_type": "code",
   "execution_count": 146,
   "metadata": {},
   "outputs": [
    {
     "data": {
      "text/plain": [
       "80.0"
      ]
     },
     "execution_count": 146,
     "metadata": {},
     "output_type": "execute_result"
    }
   ],
   "source": [
    "0.008 / rvs.shape[0] * 1e9"
   ]
  },
  {
   "cell_type": "code",
   "execution_count": null,
   "metadata": {},
   "outputs": [],
   "source": [
    "# The model here is survival analysis:\n",
    "# - recruit n patients at t=0\n",
    "# - observe them until censoring_time.\n",
    "class LogRank:\n",
    "    def __init__(self, seed, max_K, *, n, censoring_time):\n",
    "        \n",
    "        self.censoring_time"
   ]
  }
 ],
 "metadata": {
  "kernelspec": {
   "display_name": "confirm",
   "language": "python",
   "name": "python3"
  },
  "language_info": {
   "codemirror_mode": {
    "name": "ipython",
    "version": 3
   },
   "file_extension": ".py",
   "mimetype": "text/x-python",
   "name": "python",
   "nbconvert_exporter": "python",
   "pygments_lexer": "ipython3",
   "version": "3.10.8"
  },
  "orig_nbformat": 4,
  "vscode": {
   "interpreter": {
    "hash": "b4c6ec5b2d6c7b38df115d547b82cd53ca25eea58d87299956d35a9dc79f19f1"
   }
  }
 },
 "nbformat": 4,
 "nbformat_minor": 2
}
