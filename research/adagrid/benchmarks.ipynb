{
 "cells": [
  {
   "cell_type": "code",
   "execution_count": 1,
   "id": "def6611d",
   "metadata": {},
   "outputs": [
    {
     "name": "stderr",
     "output_type": "stream",
     "text": [
      "2022-11-09 17:26:45.275028: E external/org_tensorflow/tensorflow/compiler/xla/stream_executor/cuda/cuda_driver.cc:267] failed call to cuInit: CUDA_ERROR_SYSTEM_DRIVER_MISMATCH: system has unsupported display driver / cuda driver combination\n",
      "2022-11-09 17:26:45.275169: E external/org_tensorflow/tensorflow/compiler/xla/stream_executor/cuda/cuda_diagnostics.cc:313] kernel version 520.61.5 does not match DSO version 515.65.7 -- cannot find working devices in this configuration\n",
      "WARNING:jax._src.lib.xla_bridge:No GPU/TPU found, falling back to CPU. (Set TF_CPP_MIN_LOG_LEVEL=0 and rerun for more info.)\n"
     ]
    }
   ],
   "source": [
    "from confirm.outlaw.nb_util import setup_nb\n",
    "\n",
    "setup_nb()\n",
    "import jax\n",
    "import numpy as np\n",
    "import jax.numpy as jnp\n",
    "from confirm.lewislib import lewis\n",
    "\n",
    "# Configuration used during simulation\n",
    "name = \"4d_full\"\n",
    "params = {\n",
    "    \"n_arms\": 4,\n",
    "    \"n_stage_1\": 50,\n",
    "    \"n_stage_2\": 100,\n",
    "    \"n_stage_1_interims\": 2,\n",
    "    \"n_stage_1_add_per_interim\": 100,\n",
    "    \"n_stage_2_add_per_interim\": 100,\n",
    "    \"stage_1_futility_threshold\": 0.15,\n",
    "    \"stage_1_efficacy_threshold\": 0.7,\n",
    "    \"stage_2_futility_threshold\": 0.2,\n",
    "    \"stage_2_efficacy_threshold\": 0.95,\n",
    "    \"inter_stage_futility_threshold\": 0.6,\n",
    "    \"posterior_difference_threshold\": 0,\n",
    "    \"rejection_threshold\": 0.05,\n",
    "    \"key\": jax.random.PRNGKey(0),\n",
    "    \"n_table_pts\": 20,\n",
    "    \"n_pr_sims\": 100,\n",
    "    \"n_sig2_sims\": 20,\n",
    "    \"batch_size\": int(2**12),\n",
    "    \"cache_tables\": f\"./{name}/lei_cache.pkl\",\n",
    "}\n",
    "lei_obj = lewis.Lewis45(**params)\n",
    "n_arm_samples = int(lei_obj.unifs_shape()[0])"
   ]
  },
  {
   "cell_type": "code",
   "execution_count": 2,
   "metadata": {},
   "outputs": [],
   "source": [
    "import confirm.mini_imprint.lewis_drivers as lts\n",
    "\n",
    "N = 256\n",
    "K = 2**18\n",
    "unifs = jax.random.uniform(jax.random.PRNGKey(0), (K, n_arm_samples, 4))\n",
    "unifs_order = jnp.arange(n_arm_samples)\n",
    "theta = np.random.rand(N, 4)\n",
    "null_truth = np.ones((N, 3), dtype=bool)\n",
    "sim_sizes = np.full(N, 2**13)\n",
    "lam = 0.05"
   ]
  },
  {
   "attachments": {},
   "cell_type": "markdown",
   "metadata": {},
   "source": [
    "## Is copying the uniforms array expensive?"
   ]
  },
  {
   "cell_type": "code",
   "execution_count": 3,
   "metadata": {},
   "outputs": [
    {
     "name": "stdout",
     "output_type": "stream",
     "text": [
      "CPU times: user 32.4 ms, sys: 4.15 ms, total: 36.5 ms\n",
      "Wall time: 96.2 ms\n"
     ]
    },
    {
     "data": {
      "text/plain": [
       "DeviceArray([[179.80161698, 171.71986841, 182.57861407, 175.14109228],\n",
       "             [182.33056452, 169.87411049, 178.04835406, 175.63145328],\n",
       "             [175.99040328, 185.59461593, 177.51426566, 179.69973176],\n",
       "             [177.13297839, 172.99227953, 169.86119223, 168.91658085],\n",
       "             [171.89859426, 181.44848379, 179.28002138, 177.31247947],\n",
       "             [179.43708104, 172.75405059, 188.08694166, 175.59197108],\n",
       "             [171.98213949, 176.62782851, 181.80152753, 184.41477242],\n",
       "             [179.26737369, 171.73704153, 184.15515405, 171.13365942],\n",
       "             [176.69139802, 171.91147518, 184.71368942, 182.71569347],\n",
       "             [181.70612486, 176.24510559, 176.96877983, 175.30222542],\n",
       "             ...,\n",
       "             [165.7079974 , 177.41280957, 190.44120925, 173.16103124],\n",
       "             [180.24945033, 176.29029716, 171.97620631, 174.27696988],\n",
       "             [179.24719995, 175.40236968, 179.11769934, 179.31873293],\n",
       "             [175.08198462, 179.53311256, 186.79704052, 178.49785968],\n",
       "             [171.24808657, 169.11549248, 174.05707267, 174.25048493],\n",
       "             [185.07399882, 176.36921722, 175.56381766, 170.25158482],\n",
       "             [167.49035292, 182.78062734, 174.6989752 , 181.51367882],\n",
       "             [175.22159084, 170.73529552, 167.61407448, 172.89844536],\n",
       "             [166.31699317, 170.79744577, 168.66580471, 181.68507931],\n",
       "             [179.15907607, 175.14533495, 175.80560434, 171.88795625]], dtype=float64)"
      ]
     },
     "execution_count": 3,
     "metadata": {},
     "output_type": "execute_result"
    }
   ],
   "source": [
    "%%time\n",
    "unifs.sum(axis=1).block_until_ready()"
   ]
  },
  {
   "cell_type": "code",
   "execution_count": 4,
   "metadata": {},
   "outputs": [
    {
     "name": "stdout",
     "output_type": "stream",
     "text": [
      "CPU times: user 196 ms, sys: 13.8 ms, total: 210 ms\n",
      "Wall time: 371 ms\n"
     ]
    }
   ],
   "source": [
    "%%time\n",
    "outs = []\n",
    "for i in range(0, unifs.shape[0], 10000):\n",
    "    begin_idx = i\n",
    "    end_idx = min(i + 10000, unifs.shape[0])\n",
    "    outs.append(unifs[begin_idx:end_idx].sum(axis=1))\n",
    "outs = jnp.concatenate(outs).block_until_ready()"
   ]
  },
  {
   "cell_type": "code",
   "execution_count": 5,
   "metadata": {},
   "outputs": [
    {
     "name": "stdout",
     "output_type": "stream",
     "text": [
      "CPU times: user 52.9 ms, sys: 2.19 ms, total: 55.1 ms\n",
      "Wall time: 90.4 ms\n"
     ]
    },
    {
     "data": {
      "text/plain": [
       "DeviceArray([[179.80161698, 171.71986841, 182.57861407, 175.14109228],\n",
       "             [182.33056452, 169.87411049, 178.04835406, 175.63145328],\n",
       "             [175.99040328, 185.59461593, 177.51426566, 179.69973176],\n",
       "             [177.13297839, 172.99227953, 169.86119223, 168.91658085],\n",
       "             [171.89859426, 181.44848379, 179.28002138, 177.31247947],\n",
       "             [179.43708104, 172.75405059, 188.08694166, 175.59197108],\n",
       "             [171.98213949, 176.62782851, 181.80152753, 184.41477242],\n",
       "             [179.26737369, 171.73704153, 184.15515405, 171.13365942],\n",
       "             [176.69139802, 171.91147518, 184.71368942, 182.71569347],\n",
       "             [181.70612486, 176.24510559, 176.96877983, 175.30222542],\n",
       "             ...,\n",
       "             [176.10235683, 168.37626266, 170.48436907, 171.50836705],\n",
       "             [180.55719205, 175.48620749, 173.35058797, 177.0754814 ],\n",
       "             [174.80902265, 177.25224545, 171.39816258, 178.78827998],\n",
       "             [173.96520158, 175.34039108, 173.14592125, 175.32890055],\n",
       "             [165.55649755, 183.48450714, 186.16758819, 178.09121033],\n",
       "             [171.50741297, 178.53217074, 170.21395311, 174.78768787],\n",
       "             [174.59226283, 168.74450586, 174.53151603, 173.27860126],\n",
       "             [175.56138361, 174.30309861, 174.05287321, 170.92677694],\n",
       "             [182.65247131, 179.2113821 , 172.09564708, 176.99857547],\n",
       "             [185.83148738, 173.72706347, 173.95698858, 168.38950393]], dtype=float64)"
      ]
     },
     "execution_count": 5,
     "metadata": {},
     "output_type": "execute_result"
    }
   ],
   "source": [
    "%%time\n",
    "unifs[:100000].sum(axis=1).block_until_ready()"
   ]
  },
  {
   "cell_type": "code",
   "execution_count": 6,
   "metadata": {},
   "outputs": [
    {
     "name": "stdout",
     "output_type": "stream",
     "text": [
      "CPU times: user 43.2 ms, sys: 3.54 ms, total: 46.7 ms\n",
      "Wall time: 80.2 ms\n"
     ]
    }
   ],
   "source": [
    "%%time\n",
    "outs = []\n",
    "for i in range(0, 100000, 10000):\n",
    "    begin_idx = i\n",
    "    end_idx = min(i + 10000, unifs.shape[0])\n",
    "    outs.append(unifs[begin_idx:end_idx].sum(axis=1))\n",
    "outs = jnp.concatenate(outs).block_until_ready()"
   ]
  },
  {
   "cell_type": "code",
   "execution_count": 7,
   "metadata": {},
   "outputs": [
    {
     "name": "stdout",
     "output_type": "stream",
     "text": [
      "CPU times: user 53.5 ms, sys: 2.78 ms, total: 56.3 ms\n",
      "Wall time: 90.4 ms\n"
     ]
    },
    {
     "data": {
      "text/plain": [
       "DeviceArray([[179.80161698, 171.71986841, 182.57861407, 175.14109228],\n",
       "             [182.33056452, 169.87411049, 178.04835406, 175.63145328],\n",
       "             [175.99040328, 185.59461593, 177.51426566, 179.69973176],\n",
       "             [177.13297839, 172.99227953, 169.86119223, 168.91658085],\n",
       "             [171.89859426, 181.44848379, 179.28002138, 177.31247947],\n",
       "             [179.43708104, 172.75405059, 188.08694166, 175.59197108],\n",
       "             [171.98213949, 176.62782851, 181.80152753, 184.41477242],\n",
       "             [179.26737369, 171.73704153, 184.15515405, 171.13365942],\n",
       "             [176.69139802, 171.91147518, 184.71368942, 182.71569347],\n",
       "             [181.70612486, 176.24510559, 176.96877983, 175.30222542],\n",
       "             ...,\n",
       "             [179.14507797, 175.59830491, 168.03510018, 169.15966343],\n",
       "             [179.1704259 , 175.13724082, 168.31696202, 182.99072149],\n",
       "             [177.66093114, 174.56513581, 165.35283681, 175.80492763],\n",
       "             [168.65633582, 170.51986776, 180.63847469, 167.36296548],\n",
       "             [175.15494852, 182.87205106, 171.11327915, 167.27862631],\n",
       "             [181.12429494, 165.92164116, 184.06149989, 179.94325991],\n",
       "             [174.67365608, 179.04814715, 186.18900127, 182.80552941],\n",
       "             [173.81280718, 172.97979473, 183.42915055, 180.7378196 ],\n",
       "             [169.28492983, 177.00932069, 183.61724671, 169.44293996],\n",
       "             [174.43202272, 181.42703957, 173.56215574, 189.9872485 ]], dtype=float64)"
      ]
     },
     "execution_count": 7,
     "metadata": {},
     "output_type": "execute_result"
    }
   ],
   "source": [
    "%%time\n",
    "unifs[:30000].sum(axis=1).block_until_ready()"
   ]
  },
  {
   "cell_type": "code",
   "execution_count": 8,
   "metadata": {},
   "outputs": [
    {
     "name": "stdout",
     "output_type": "stream",
     "text": [
      "CPU times: user 25.1 ms, sys: 561 µs, total: 25.7 ms\n",
      "Wall time: 58.9 ms\n"
     ]
    }
   ],
   "source": [
    "%%time\n",
    "outs = []\n",
    "for i in range(0, 30000, 10000):\n",
    "    begin_idx = i\n",
    "    end_idx = min(i + 10000, unifs.shape[0])\n",
    "    outs.append(unifs[begin_idx:end_idx].sum(axis=1))\n",
    "outs = jnp.concatenate(outs).block_until_ready()"
   ]
  },
  {
   "cell_type": "code",
   "execution_count": 9,
   "metadata": {},
   "outputs": [
    {
     "data": {
      "text/plain": [
       "0"
      ]
     },
     "execution_count": 9,
     "metadata": {},
     "output_type": "execute_result"
    }
   ],
   "source": [
    "import gc\n",
    "\n",
    "gc.collect()"
   ]
  },
  {
   "cell_type": "code",
   "execution_count": 10,
   "metadata": {},
   "outputs": [
    {
     "name": "stdout",
     "output_type": "stream",
     "text": [
      "hi memory usage 3.026335682\n",
      "hi buffer sizes [(30000, 4), (30000, 4), (100000, 4), (262144, 4), (350,), (262144, 350, 4), (10, 160000, 3), (10, 4, 20), (10,), (10,), (4,), (10, 160000, 3), (10, 160000, 3), (10, 4, 20), (10,), (10,), (4,), (10, 160000, 3), (10, 4, 20), (10,), (10,), (4,), (4,), (3, 4), (4,), (1,), (20,), (20,), (20,), (19,), (20,), (4,), (1,), (15,), (15,), (15,), (2,)]\n"
     ]
    }
   ],
   "source": [
    "lts.memory_status(\"hi\")"
   ]
  },
  {
   "attachments": {},
   "cell_type": "markdown",
   "metadata": {},
   "source": [
    "## What batch sizes??"
   ]
  },
  {
   "cell_type": "code",
   "execution_count": 4,
   "metadata": {},
   "outputs": [
    {
     "name": "stdout",
     "output_type": "stream",
     "text": [
      "simulating with K=8192 and n_tiles=512 and batch_size=(64, 8192)\n",
      "simulation runtime 12.518173217773438\n",
      "CPU times: user 14.3 s, sys: 653 ms, total: 15 s\n",
      "Wall time: 12.5 s\n"
     ]
    }
   ],
   "source": [
    "%%time\n",
    "rejs = lts.rej_runner(\n",
    "    lei_obj,\n",
    "    sim_sizes,\n",
    "    lam,\n",
    "    theta,\n",
    "    null_truth,\n",
    "    unifs,\n",
    "    unifs_order,\n",
    "    sim_batch_size=8192,\n",
    "    grid_batch_size=64,\n",
    ")"
   ]
  },
  {
   "cell_type": "code",
   "execution_count": 23,
   "metadata": {},
   "outputs": [
    {
     "name": "stdout",
     "output_type": "stream",
     "text": [
      "simulating with K=8192 and n_tiles=512 and batch_size=(512, 8192)\n",
      "simulation runtime 2.4775424003601074\n",
      "CPU times: user 2.44 s, sys: 47.8 ms, total: 2.49 s\n",
      "Wall time: 2.48 s\n"
     ]
    }
   ],
   "source": [
    "%%time\n",
    "rejs = lts.rej_runner(\n",
    "    lei_obj,\n",
    "    sim_sizes,\n",
    "    lam,\n",
    "    theta,\n",
    "    null_truth,\n",
    "    unifs,\n",
    "    unifs_order,\n",
    "    sim_batch_size=8192,\n",
    "    grid_batch_size=512,\n",
    ")"
   ]
  },
  {
   "cell_type": "code",
   "execution_count": 43,
   "metadata": {},
   "outputs": [
    {
     "name": "stdout",
     "output_type": "stream",
     "text": [
      "simulating with K=8192 and n_tiles=512 and batch_size=(64, 1024)\n",
      "simulation runtime 2.4350481033325195\n",
      "CPU times: user 2.42 s, sys: 72.4 ms, total: 2.49 s\n",
      "Wall time: 2.44 s\n"
     ]
    }
   ],
   "source": [
    "%%time\n",
    "rejs = lts.rej_runner(\n",
    "    lei_obj,\n",
    "    sim_sizes,\n",
    "    lam,\n",
    "    theta,\n",
    "    null_truth,\n",
    "    unifs,\n",
    "    unifs_order,\n",
    "    sim_batch_size=1024,\n",
    "    grid_batch_size=64,\n",
    ")"
   ]
  },
  {
   "cell_type": "code",
   "execution_count": 64,
   "metadata": {},
   "outputs": [
    {
     "name": "stdout",
     "output_type": "stream",
     "text": [
      "simulating with K=8192 and n_tiles=256 and batch_size=(128, 2048)\n",
      "simulation runtime 1.3524508476257324\n",
      "CPU times: user 1.35 s, sys: 19.6 ms, total: 1.37 s\n",
      "Wall time: 1.36 s\n"
     ]
    }
   ],
   "source": [
    "%%time\n",
    "rejs = lts.rej_runner(\n",
    "    lei_obj,\n",
    "    sim_sizes,\n",
    "    lam,\n",
    "    theta,\n",
    "    null_truth,\n",
    "    unifs,\n",
    "    unifs_order,\n",
    "    sim_batch_size=2048,\n",
    "    grid_batch_size=128,\n",
    ")"
   ]
  },
  {
   "cell_type": "code",
   "execution_count": 12,
   "metadata": {},
   "outputs": [
    {
     "name": "stdout",
     "output_type": "stream",
     "text": [
      "simulating with K=8192 and n_tiles=512 and batch_size=(128, 8192)\n",
      "simulation runtime 2.251185178756714\n",
      "CPU times: user 2.1 s, sys: 157 ms, total: 2.26 s\n",
      "Wall time: 2.26 s\n"
     ]
    }
   ],
   "source": [
    "%%time\n",
    "rejs = lts.rej_runner(\n",
    "    lei_obj,\n",
    "    sim_sizes,\n",
    "    lam,\n",
    "    theta,\n",
    "    null_truth,\n",
    "    unifs,\n",
    "    unifs_order,\n",
    "    sim_batch_size=8192,\n",
    "    grid_batch_size=128,\n",
    ")"
   ]
  },
  {
   "cell_type": "code",
   "execution_count": 49,
   "metadata": {},
   "outputs": [
    {
     "name": "stdout",
     "output_type": "stream",
     "text": [
      "simulating with K=8192 and n_tiles=512 and batch_size=(128, 512)\n",
      "simulation runtime 2.4038445949554443\n",
      "CPU times: user 2.4 s, sys: 49.8 ms, total: 2.45 s\n",
      "Wall time: 2.41 s\n"
     ]
    }
   ],
   "source": [
    "%%time\n",
    "rejs = lts.rej_runner(\n",
    "    lei_obj,\n",
    "    sim_sizes,\n",
    "    lam,\n",
    "    theta,\n",
    "    null_truth,\n",
    "    unifs,\n",
    "    unifs_order,\n",
    "    sim_batch_size=512,\n",
    "    grid_batch_size=128,\n",
    ")"
   ]
  },
  {
   "cell_type": "code",
   "execution_count": 16,
   "metadata": {},
   "outputs": [
    {
     "name": "stdout",
     "output_type": "stream",
     "text": [
      "simulating with K=8192 and n_tiles=512 and batch_size=(64, 64)\n",
      "simulation runtime 4.788881063461304\n",
      "CPU times: user 4.86 s, sys: 523 ms, total: 5.38 s\n",
      "Wall time: 4.8 s\n"
     ]
    }
   ],
   "source": [
    "%%time\n",
    "rejs = lts.rej_runner(\n",
    "    lei_obj,\n",
    "    sim_sizes,\n",
    "    lam,\n",
    "    theta,\n",
    "    null_truth,\n",
    "    unifs,\n",
    "    unifs_order,\n",
    "    sim_batch_size=64,\n",
    "    grid_batch_size=64,\n",
    ")"
   ]
  },
  {
   "cell_type": "code",
   "execution_count": 17,
   "metadata": {},
   "outputs": [
    {
     "name": "stdout",
     "output_type": "stream",
     "text": [
      "simulating with K=8192 and n_tiles=64 and batch_size=(64, 1024)\n",
      "simulation runtime 0.4780433177947998\n",
      "CPU times: user 449 ms, sys: 36 ms, total: 485 ms\n",
      "Wall time: 479 ms\n"
     ]
    }
   ],
   "source": [
    "%%time\n",
    "rejs = lts.rej_runner(\n",
    "    lei_obj,\n",
    "    sim_sizes[:64],\n",
    "    lam,\n",
    "    theta[:64],\n",
    "    null_truth[:64],\n",
    "    unifs,\n",
    "    unifs_order,\n",
    "    sim_batch_size=1024,\n",
    "    grid_batch_size=64,\n",
    ")"
   ]
  },
  {
   "cell_type": "code",
   "execution_count": 118,
   "metadata": {},
   "outputs": [],
   "source": [
    "import time\n",
    "import gc\n",
    "import jax.numpy as jnp\n",
    "from confirm.lewislib import batch\n",
    "from confirm.mini_imprint.lewis_drivers import get_sim_size_groups\n",
    "\n",
    "\n",
    "def simulator(p, unifs, unifs_order):\n",
    "    return jnp.sum(unifs[:, :] < p[None, :]) / unifs.size, 1, 0\n",
    "\n",
    "\n",
    "simulatev = jax.vmap(simulator, in_axes=(None, 0, None))\n",
    "\n",
    "\n",
    "def stat(lei_obj, theta, null_truth, unifs, unifs_order):\n",
    "    p = jax.scipy.special.expit(theta)\n",
    "    test_stats, best_arms, _ = simulatev(p, unifs, unifs_order)\n",
    "    false_test_stats = jnp.where(null_truth[best_arms - 1], test_stats, 100.0)\n",
    "    return false_test_stats\n",
    "\n",
    "\n",
    "statv = jax.jit(jax.vmap(stat, in_axes=(None, 0, 0, None, None)), static_argnums=(0,))\n",
    "\n",
    "\n",
    "@jax.jit\n",
    "def sumstats(stats, lam):\n",
    "    return jnp.sum(stats < lam, axis=-1)\n",
    "\n",
    "\n",
    "def rej_runner(\n",
    "    lei_obj,\n",
    "    sim_sizes,\n",
    "    lam,\n",
    "    theta,\n",
    "    null_truth,\n",
    "    unifs,\n",
    "    unifs_order,\n",
    "    sim_batch_size=1024,\n",
    "    grid_batch_size=64,\n",
    "):\n",
    "    outs = []\n",
    "    for (_, idx, stats) in _stats_backend(\n",
    "        lei_obj,\n",
    "        sim_sizes,\n",
    "        theta,\n",
    "        null_truth,\n",
    "        unifs,\n",
    "        unifs_order,\n",
    "        sim_batch_size,\n",
    "        grid_batch_size,\n",
    "    ):\n",
    "        outs.append(sumstats(stats, lam))\n",
    "    return jnp.concatenate(outs)\n",
    "\n",
    "\n",
    "def _stats_backend(\n",
    "    lei_obj,\n",
    "    sim_sizes,\n",
    "    theta,\n",
    "    null_truth,\n",
    "    unifs,\n",
    "    unifs_order,\n",
    "    sim_batch_size=1024,\n",
    "    grid_batch_size=64,\n",
    "):\n",
    "    batched_statv = batch.batch(\n",
    "        batch.batch(\n",
    "            statv, sim_batch_size, in_axes=(None, None, None, 0, None), out_axes=(1,)\n",
    "        ),\n",
    "        grid_batch_size,\n",
    "        in_axes=(None, 0, 0, None, None),\n",
    "    )\n",
    "\n",
    "    for size, idx in get_sim_size_groups(sim_sizes):\n",
    "        print(\n",
    "            f\"simulating with K={size} and n_tiles={idx.sum()}\"\n",
    "            f\" and batch_size=({grid_batch_size}, {sim_batch_size})\"\n",
    "        )\n",
    "        start = time.time()\n",
    "        unifs_chunk = unifs[:size]\n",
    "        stats = batched_statv(\n",
    "            lei_obj, theta[idx], null_truth[idx], unifs_chunk, unifs_order\n",
    "        )\n",
    "        print(\"simulation runtime\", time.time() - start)\n",
    "\n",
    "        yield (size, idx, stats)"
   ]
  },
  {
   "cell_type": "code",
   "execution_count": 119,
   "metadata": {},
   "outputs": [],
   "source": [
    "from functools import partial\n",
    "\n",
    "\n",
    "@partial(jax.jit, static_argnums=(0,))\n",
    "def stat_sum(lei_obj, lam, theta, null_truth, unifs, unifs_order):\n",
    "    stats = jax.vmap(stat, in_axes=(None, 0, 0, None, None))(\n",
    "        lei_obj, theta, null_truth, unifs, unifs_order\n",
    "    )\n",
    "    return jnp.sum(stats < lam, axis=-1)"
   ]
  },
  {
   "cell_type": "code",
   "execution_count": 151,
   "metadata": {},
   "outputs": [],
   "source": [
    "unifs = jax.random.uniform(jax.random.PRNGKey(0), (K, 350, 4))"
   ]
  },
  {
   "cell_type": "code",
   "execution_count": 196,
   "metadata": {},
   "outputs": [
    {
     "name": "stdout",
     "output_type": "stream",
     "text": [
      "CPU times: user 4 ms, sys: 195 µs, total: 4.19 ms\n",
      "Wall time: 6.16 ms\n"
     ]
    }
   ],
   "source": [
    "%%time\n",
    "unifs_chunk = unifs[:1024]\n",
    "res = stat_sum(\n",
    "    lei_obj, 0.6, theta, null_truth, unifs_chunk, unifs_order\n",
    ").block_until_ready()"
   ]
  },
  {
   "cell_type": "code",
   "execution_count": 154,
   "metadata": {},
   "outputs": [],
   "source": [
    "batched_stat_sum = batch.batch(\n",
    "    batch.batch(\n",
    "        stat_sum, 8192, in_axes=(None, None, None, None, 0, None), out_axes=(1,)\n",
    "    ),\n",
    "    256,\n",
    "    in_axes=(None, None, 0, 0, None, None),\n",
    ")"
   ]
  },
  {
   "cell_type": "code",
   "execution_count": 158,
   "metadata": {},
   "outputs": [
    {
     "name": "stdout",
     "output_type": "stream",
     "text": [
      "CPU times: user 71.7 ms, sys: 20.1 ms, total: 91.8 ms\n",
      "Wall time: 126 ms\n"
     ]
    }
   ],
   "source": [
    "%%time\n",
    "unifs_chunk = unifs[:8192]\n",
    "stats = batched_stat_sum(\n",
    "    lei_obj, 0.05, theta, null_truth, unifs[:8192], unifs_order\n",
    ").block_until_ready()"
   ]
  },
  {
   "cell_type": "code",
   "execution_count": 161,
   "metadata": {},
   "outputs": [
    {
     "name": "stdout",
     "output_type": "stream",
     "text": [
      "CPU times: user 1.93 ms, sys: 4.03 ms, total: 5.96 ms\n",
      "Wall time: 33.7 ms\n"
     ]
    }
   ],
   "source": [
    "%%time\n",
    "unifs_chunk = unifs[:8192]\n",
    "stats = statv(lei_obj, theta, null_truth, unifs_chunk, unifs_order)\n",
    "rej = jnp.sum(stats < lam, axis=-1).block_until_ready()"
   ]
  },
  {
   "cell_type": "code",
   "execution_count": 162,
   "metadata": {},
   "outputs": [],
   "source": [
    "batched_statv = batch.batch(\n",
    "    batch.batch(statv, 8192, in_axes=(None, None, None, 0, None), out_axes=(1,)),\n",
    "    256,\n",
    "    in_axes=(None, 0, 0, None, None),\n",
    ")"
   ]
  },
  {
   "cell_type": "code",
   "execution_count": 164,
   "metadata": {},
   "outputs": [
    {
     "name": "stdout",
     "output_type": "stream",
     "text": [
      "CPU times: user 32.5 ms, sys: 64.3 ms, total: 96.7 ms\n",
      "Wall time: 131 ms\n"
     ]
    }
   ],
   "source": [
    "%%time\n",
    "unifs_chunk = unifs[:8192]\n",
    "stats = batched_statv(lei_obj, theta, null_truth, unifs_chunk, unifs_order)\n",
    "rej = jnp.sum(stats < lam, axis=-1).block_until_ready()"
   ]
  },
  {
   "cell_type": "code",
   "execution_count": 132,
   "metadata": {},
   "outputs": [],
   "source": [
    "batched_statv2 = batch.batch(\n",
    "    batch.batch(statv, 2048, in_axes=(None, None, None, 0, None), out_axes=(1,)),\n",
    "    128,\n",
    "    in_axes=(None, 0, 0, None, None),\n",
    ")"
   ]
  },
  {
   "cell_type": "code",
   "execution_count": 165,
   "metadata": {},
   "outputs": [
    {
     "name": "stdout",
     "output_type": "stream",
     "text": [
      "CPU times: user 142 ms, sys: 32.2 ms, total: 174 ms\n",
      "Wall time: 165 ms\n"
     ]
    }
   ],
   "source": [
    "%%time\n",
    "unifs_chunk = unifs[:8192]\n",
    "stats = batched_statv2(lei_obj, theta, null_truth, unifs_chunk, unifs_order)\n",
    "rej = jnp.sum(stats < lam, axis=-1).block_until_ready()"
   ]
  },
  {
   "cell_type": "code",
   "execution_count": 187,
   "metadata": {},
   "outputs": [
    {
     "name": "stdout",
     "output_type": "stream",
     "text": [
      "CPU times: user 4.94 ms, sys: 36 µs, total: 4.98 ms\n",
      "Wall time: 35.9 ms\n"
     ]
    }
   ],
   "source": [
    "%%time\n",
    "unifs_chunk = unifs[:8192]\n",
    "stats = statv(lei_obj, theta, null_truth, unifs_chunk, unifs_order)\n",
    "rej = np.sum(stats < lam, axis=-1).block_until_ready()"
   ]
  },
  {
   "cell_type": "code",
   "execution_count": 201,
   "metadata": {},
   "outputs": [
    {
     "name": "stdout",
     "output_type": "stream",
     "text": [
      "CPU times: user 1.85 ms, sys: 4.13 ms, total: 5.98 ms\n",
      "Wall time: 6.53 ms\n"
     ]
    },
    {
     "name": "stderr",
     "output_type": "stream",
     "text": [
      "Bad pipe message: %s [b'@\\x03iTd-r\\xedm\\xdaw\\xac\\x12Bm,\\x96\\x9f R&\\x90\\xb7V\\x1f\\x0f\\x9e/\\xbbQ \\x9d\\xb5F\\x95\\xf1\\xd1\\x9a\\x15\\xfcA\\x17\\xe8\\xc4]\\x12\\xb7|\\x89oG\\x00\\x08\\x13\\x02\\x13\\x03\\x13\\x01\\x00\\xff\\x01\\x00\\x00\\x8f\\x00\\x00\\x00\\x0e\\x00\\x0c\\x00\\x00\\t127.0.0.1\\x00\\x0b\\x00\\x04\\x03\\x00\\x01\\x02\\x00\\n\\x00\\x0c\\x00\\n\\x00\\x1d\\x00\\x17\\x00\\x1e\\x00\\x19\\x00\\x18\\x00#\\x00\\x00\\x00\\x16\\x00\\x00\\x00\\x17\\x00\\x00\\x00\\r\\x00\\x1e\\x00\\x1c\\x04\\x03\\x05\\x03\\x06\\x03\\x08\\x07\\x08\\x08\\x08\\t\\x08\\n\\x08\\x0b\\x08\\x04\\x08\\x05\\x08\\x06\\x04\\x01\\x05\\x01\\x06\\x01\\x00+\\x00\\x03\\x02\\x03\\x04\\x00-\\x00\\x02\\x01\\x01\\x003\\x00&\\x00$\\x00\\x1d\\x00 5\\\\h\\xd7&\\x9cC\\\\>C\\x99\\x14\\x0b\\xa6\\x08\\xc3:\\x96Q.Q\\xdf\\xc9']\n",
      "Bad pipe message: %s [b'\\x8e\\x1d\\x9bX\\xc6\\xcf\\x96I]1\\x1f\\x93\\x8b\\x82\\xd79+\\x84\\x00\\x00|\\xc0,\\xc00\\x00\\xa3\\x00\\x9f\\xcc\\xa9\\xcc\\xa8\\xcc\\xaa\\xc0\\xaf\\xc0\\xad\\xc0\\xa3\\xc0\\x9f\\xc0]\\xc0a\\xc0W\\xc0S\\xc0+\\xc0/\\x00\\xa2\\x00\\x9e\\xc0\\xae\\xc0\\xac\\xc0\\xa2\\xc0\\x9e\\xc0\\\\\\xc0`\\xc0V']\n",
      "Bad pipe message: %s [b'\\xc2\\x13;\\xf2\\x14\\xb2\\x05\\xb5\\x95\\xcb\\x89\\xd7\\x9d\\x1f\\x95\\xde\\xb6\\x8c\\x00\\x00\\xa2\\xc0\\x14\\xc0\\n\\x009\\x008\\x007\\x006\\x00\\x88\\x00\\x87\\x00\\x86\\x00\\x85\\xc0\\x19\\x00:\\x00\\x89\\xc0\\x0f\\xc0\\x05\\x005\\x00\\x84\\xc0\\x13\\xc0\\t\\x003\\x002\\x001\\x000\\x00\\x9a\\x00\\x99\\x00\\x98\\x00\\x97\\x00E\\x00D\\x00C\\x00B\\xc0\\x18\\x004\\x00\\x9b\\x00F\\xc0\\x0e\\xc0\\x04\\x00/\\x00\\x96\\x00A\\x00\\x07\\xc0\\x11\\xc0\\x07\\xc0\\x16\\x00\\x18\\xc0\\x0c\\xc0']\n",
      "Bad pipe message: %s [b'\\x05']\n",
      "Bad pipe message: %s [b'\\x14Xk|\\x8b\\xfa\\xb1$\\xff>\\xfb;\\xd3\\xe3\\xf9:\\xa9U\\x00\\x00>\\xc0\\x14\\xc0\\n\\x009\\x008\\x007\\x006\\xc0\\x0f\\xc0\\x05\\x005\\xc0\\x13\\xc0\\t\\x003\\x002\\x001\\x000\\xc0\\x0e\\xc0\\x04\\x00/\\x00\\x9a\\x00\\x99\\x00\\x98\\x00\\x97\\x00\\x96\\x00\\x07\\xc0\\x11\\xc0\\x07\\xc0\\x0c\\xc0\\x02\\x00\\x05\\x00\\x04\\x00\\xff\\x02']\n",
      "Bad pipe message: %s [b'']\n",
      "Bad pipe message: %s [b'5\\x862\\xfb\\x80\\xed\\xbbx\\x8d\\x92\\x03\\x81\\x1d\\xe6\\xab\\x99\\x01^\\x00\\x00\\xa2\\xc0\\x14\\xc0\\n\\x009\\x008\\x007\\x006\\x00\\x88\\x00\\x87\\x00\\x86\\x00\\x85\\xc0\\x19\\x00:\\x00\\x89\\xc0\\x0f\\xc0\\x05\\x005\\x00\\x84\\xc0\\x13\\xc0\\t\\x003\\x002\\x001\\x000\\x00\\x9a\\x00\\x99\\x00\\x98\\x00\\x97\\x00E\\x00D\\x00C\\x00B\\xc0\\x18\\x004\\x00\\x9b\\x00F\\xc0\\x0e\\xc0\\x04\\x00/\\x00']\n",
      "Bad pipe message: %s [b\"\\x87B\\xfa\\x9a\\xef\\x8f\\x99\\xcc\\xe7\\x877\\xc6'>+\\xcfr~\\x00\\x00\\x86\\xc00\\xc0,\\xc0(\\xc0$\\xc0\\x14\\xc0\\n\\x00\\xa5\\x00\\xa3\\x00\\xa1\\x00\\x9f\\x00k\\x00j\\x00i\\x00h\\x009\\x008\\x007\\x006\\xc02\\xc0.\\xc0*\\xc0&\\xc0\\x0f\\xc0\\x05\\x00\\x9d\\x00=\\x005\\xc0/\\xc0+\\xc0'\\xc0#\\xc0\\x13\\xc0\\t\\x00\\xa4\\x00\\xa2\\x00\\xa0\\x00\\x9e\\x00g\\x00@\\x00?\\x00>\\x003\\x002\\x001\\x000\\xc01\\xc0-\\xc0\"]\n",
      "Bad pipe message: %s [b'%\\xc0\\x0e\\xc0\\x04\\x00\\x9c\\x00<\\x00/\\x00\\x9a\\x00\\x99\\x00\\x98\\x00\\x97\\x00\\x96\\x00\\x07\\xc0\\x11\\xc0\\x07\\xc0\\x0c\\xc0\\x02\\x00\\x05\\x00\\x04\\x00\\xff\\x02\\x01\\x00']\n",
      "Bad pipe message: %s [b\"6\\xb16\\xfc\\x894L\\xa9\\x95|7\\xcb\\x04\\xf1L\\xf2\\xc5\\xf6\\x00\\x00\\xf4\\xc00\\xc0,\\xc0(\\xc0$\\xc0\\x14\\xc0\\n\\x00\\xa5\\x00\\xa3\\x00\\xa1\\x00\\x9f\\x00k\\x00j\\x00i\\x00h\\x009\\x008\\x007\\x006\\x00\\x88\\x00\\x87\\x00\\x86\\x00\\x85\\xc0\\x19\\x00\\xa7\\x00m\\x00:\\x00\\x89\\xc02\\xc0.\\xc0*\\xc0&\\xc0\\x0f\\xc0\\x05\\x00\\x9d\\x00=\\x005\\x00\\x84\\xc0/\\xc0+\\xc0'\\xc0#\\xc0\\x13\\xc0\\t\\x00\\xa4\\x00\\xa2\\x00\\xa0\\x00\\x9e\\x00g\\x00@\\x00?\\x00>\\x003\\x002\\x001\\x000\\x00\\x9a\\x00\\x99\\x00\\x98\\x00\\x97\\x00E\\x00D\\x00C\\x00B\\xc0\\x18\\x00\\xa6\\x00l\"]\n"
     ]
    }
   ],
   "source": [
    "%%time\n",
    "unifs_chunk = unifs[:1024]\n",
    "rejs = []\n",
    "j_step = 128\n",
    "i_step = 1024\n",
    "for i in range(0, unifs_chunk.shape[0], i_step):\n",
    "    i_begin = i\n",
    "    i_end = i + i_step\n",
    "    for j in range(0, theta.shape[0], j_step):\n",
    "        j_begin = j\n",
    "        j_end = min(theta.shape[0], j + j_step)\n",
    "        subunifs_chunk = unifs_chunk[i_begin:i_end]\n",
    "        # rejs.append(stat_sum(lei_obj, lam, theta[j_begin:j_end], null_truth[j_begin:j_end], subunifs_chunk, unifs_order))\n",
    "        stats = statv(\n",
    "            lei_obj,\n",
    "            theta[j_begin:j_end],\n",
    "            null_truth[j_begin:j_end],\n",
    "            subunifs_chunk,\n",
    "            unifs_order,\n",
    "        )\n",
    "        rejs.append(jnp.sum(stats < lam, axis=-1))\n",
    "rej = jnp.concatenate(rejs).block_until_ready()"
   ]
  },
  {
   "cell_type": "code",
   "execution_count": 40,
   "metadata": {},
   "outputs": [
    {
     "name": "stdout",
     "output_type": "stream",
     "text": [
      "simulating with K=8192 and n_tiles=256 and batch_size=(128, 2048)\n",
      "simulation runtime 1.266707420349121\n",
      "CPU times: user 1.24 s, sys: 44.4 ms, total: 1.28 s\n",
      "Wall time: 1.27 s\n"
     ]
    }
   ],
   "source": [
    "%%time\n",
    "rejs = lts.rej_runner(\n",
    "    lei_obj,\n",
    "    sim_sizes,\n",
    "    lam,\n",
    "    theta,\n",
    "    null_truth,\n",
    "    unifs,\n",
    "    unifs_order,\n",
    "    sim_batch_size=2048,\n",
    "    grid_batch_size=128,\n",
    ")"
   ]
  },
  {
   "cell_type": "code",
   "execution_count": null,
   "metadata": {},
   "outputs": [],
   "source": []
  },
  {
   "cell_type": "code",
   "execution_count": 3,
   "metadata": {},
   "outputs": [],
   "source": [
    "unifs = jax.random.uniform(jax.random.PRNGKey(10), (K, n_arm_samples, 4))"
   ]
  },
  {
   "cell_type": "code",
   "execution_count": 19,
   "metadata": {},
   "outputs": [
    {
     "name": "stdout",
     "output_type": "stream",
     "text": [
      "The line_profiler extension is already loaded. To reload it, use:\n",
      "  %reload_ext line_profiler\n"
     ]
    }
   ],
   "source": [
    "%load_ext line_profiler"
   ]
  },
  {
   "cell_type": "code",
   "execution_count": 21,
   "metadata": {},
   "outputs": [
    {
     "name": "stdout",
     "output_type": "stream",
     "text": [
      "simulating with K=8192 and n_tiles=512 and batch_size=(64, 1024)\n",
      "simulation runtime 2.30135178565979\n",
      "\n",
      "*** Profile printout saved to text file 'output.log'. \n"
     ]
    },
    {
     "data": {
      "text/plain": [
       "'Timer unit: 1e-06 s\\n\\nTotal time: 2.30714 s\\nFile: /tmp/ipykernel_18094/1071322944.py\\nFunction: rej_runner at line 21\\n\\nLine #      Hits         Time  Per Hit   % Time  Line Contents\\n==============================================================\\n    21                                           def rej_runner(\\n    22                                               lei_obj,\\n    23                                               sim_sizes,\\n    24                                               lam,\\n    25                                               theta,\\n    26                                               null_truth,\\n    27                                               unifs,\\n    28                                               unifs_order,\\n    29                                               sim_batch_size=1024,\\n    30                                               grid_batch_size=64,\\n    31                                           ):\\n    32         1          1.0      1.0      0.0      outs = []\\n    33         3    2303281.0 767760.3     99.8      for (_, idx, stats) in _stats_backend(\\n    34         1          1.0      1.0      0.0          lei_obj,\\n    35         1          0.0      0.0      0.0          sim_sizes,\\n    36         1          0.0      0.0      0.0          theta,\\n    37         1          0.0      0.0      0.0          null_truth,\\n    38         1          0.0      0.0      0.0          unifs,\\n    39         1          0.0      0.0      0.0          unifs_order,\\n    40         1          1.0      1.0      0.0          sim_batch_size,\\n    41         1          0.0      0.0      0.0          grid_batch_size,\\n    42                                               ):\\n    43         1       3634.0   3634.0      0.2          outs.append(sumstats(stats, lam))\\n    44         1        224.0    224.0      0.0      return jnp.concatenate(outs)\\n\\nTotal time: 2.30324 s\\nFile: /tmp/ipykernel_18094/1071322944.py\\nFunction: _stats_backend at line 47\\n\\nLine #      Hits         Time  Per Hit   % Time  Line Contents\\n==============================================================\\n    47                                           def _stats_backend(\\n    48                                               lei_obj,\\n    49                                               sim_sizes,\\n    50                                               theta,\\n    51                                               null_truth,\\n    52                                               unifs,\\n    53                                               unifs_order,\\n    54                                               sim_batch_size=1024,\\n    55                                               grid_batch_size=64,\\n    56                                           ):\\n    57         2          8.0      4.0      0.0      batched_statv = batch.batch(\\n    58         2         18.0      9.0      0.0          batch.batch(\\n    59         1          1.0      1.0      0.0              statv, sim_batch_size, in_axes=(None, None, None, 0, None), out_axes=(1,)\\n    60                                                   ),\\n    61         1          1.0      1.0      0.0          grid_batch_size,\\n    62         1          0.0      0.0      0.0          in_axes=(None, 0, 0, None, None),\\n    63                                               )\\n    64                                           \\n    65         2       1635.0    817.5      0.1      for size, idx in get_sim_size_groups(sim_sizes):\\n    66         2         63.0     31.5      0.0          print(\\n    67         3         39.0     13.0      0.0              f\"simulating with K={size} and n_tiles={idx.sum()}\"\\n    68         2          1.0      0.5      0.0              f\" and batch_size=({grid_batch_size}, {sim_batch_size})\"\\n    69                                                   )\\n    70         1          2.0      2.0      0.0          start = time.time()\\n    71         1       2325.0   2325.0      0.1          unifs_chunk = unifs[:size]\\n    72         2    2298726.0 1149363.0     99.8          stats = batched_statv(\\n    73         1        284.0    284.0      0.0              lei_obj, theta[idx], null_truth[idx], unifs_chunk, unifs_order\\n    74                                                   )\\n    75         1        133.0    133.0      0.0          print(\"simulation runtime\", time.time() - start)\\n    76                                           \\n    77         1          2.0      2.0      0.0          yield (size, idx, stats)'"
      ]
     },
     "execution_count": 21,
     "metadata": {},
     "output_type": "execute_result"
    },
    {
     "name": "stdout",
     "output_type": "stream",
     "text": [
      "Timer unit: 1e-06 s\n",
      "\n",
      "Total time: 2.30714 s\n",
      "File: /tmp/ipykernel_18094/1071322944.py\n",
      "Function: rej_runner at line 21\n",
      "\n",
      "Line #      Hits         Time  Per Hit   % Time  Line Contents\n",
      "==============================================================\n",
      "    21                                           def rej_runner(\n",
      "    22                                               lei_obj,\n",
      "    23                                               sim_sizes,\n",
      "    24                                               lam,\n",
      "    25                                               theta,\n",
      "    26                                               null_truth,\n",
      "    27                                               unifs,\n",
      "    28                                               unifs_order,\n",
      "    29                                               sim_batch_size=1024,\n",
      "    30                                               grid_batch_size=64,\n",
      "    31                                           ):\n",
      "    32         1          1.0      1.0      0.0      outs = []\n",
      "    33         3    2303281.0 767760.3     99.8      for (_, idx, stats) in _stats_backend(\n",
      "    34         1          1.0      1.0      0.0          lei_obj,\n",
      "    35         1          0.0      0.0      0.0          sim_sizes,\n",
      "    36         1          0.0      0.0      0.0          theta,\n",
      "    37         1          0.0      0.0      0.0          null_truth,\n",
      "    38         1          0.0      0.0      0.0          unifs,\n",
      "    39         1          0.0      0.0      0.0          unifs_order,\n",
      "    40         1          1.0      1.0      0.0          sim_batch_size,\n",
      "    41         1          0.0      0.0      0.0          grid_batch_size,\n",
      "    42                                               ):\n",
      "    43         1       3634.0   3634.0      0.2          outs.append(sumstats(stats, lam))\n",
      "    44         1        224.0    224.0      0.0      return jnp.concatenate(outs)\n",
      "\n",
      "Total time: 2.30324 s\n",
      "File: /tmp/ipykernel_18094/1071322944.py\n",
      "Function: _stats_backend at line 47\n",
      "\n",
      "Line #      Hits         Time  Per Hit   % Time  Line Contents\n",
      "==============================================================\n",
      "    47                                           def _stats_backend(\n",
      "    48                                               lei_obj,\n",
      "    49                                               sim_sizes,\n",
      "    50                                               theta,\n",
      "    51                                               null_truth,\n",
      "    52                                               unifs,\n",
      "    53                                               unifs_order,\n",
      "    54                                               sim_batch_size=1024,\n",
      "    55                                               grid_batch_size=64,\n",
      "    56                                           ):\n",
      "    57         2          8.0      4.0      0.0      batched_statv = batch.batch(\n",
      "    58         2         18.0      9.0      0.0          batch.batch(\n",
      "    59         1          1.0      1.0      0.0              statv, sim_batch_size, in_axes=(None, None, None, 0, None), out_axes=(1,)\n",
      "    60                                                   ),\n",
      "    61         1          1.0      1.0      0.0          grid_batch_size,\n",
      "    62         1          0.0      0.0      0.0          in_axes=(None, 0, 0, None, None),\n",
      "    63                                               )\n",
      "    64                                           \n",
      "    65         2       1635.0    817.5      0.1      for size, idx in get_sim_size_groups(sim_sizes):\n",
      "    66         2         63.0     31.5      0.0          print(\n",
      "    67         3         39.0     13.0      0.0              f\"simulating with K={size} and n_tiles={idx.sum()}\"\n",
      "    68         2          1.0      0.5      0.0              f\" and batch_size=({grid_batch_size}, {sim_batch_size})\"\n",
      "    69                                                   )\n",
      "    70         1          2.0      2.0      0.0          start = time.time()\n",
      "    71         1       2325.0   2325.0      0.1          unifs_chunk = unifs[:size]\n",
      "    72         2    2298726.0 1149363.0     99.8          stats = batched_statv(\n",
      "    73         1        284.0    284.0      0.0              lei_obj, theta[idx], null_truth[idx], unifs_chunk, unifs_order\n",
      "    74                                                   )\n",
      "    75         1        133.0    133.0      0.0          print(\"simulation runtime\", time.time() - start)\n",
      "    76                                           \n",
      "    77         1          2.0      2.0      0.0          yield (size, idx, stats)"
     ]
    }
   ],
   "source": [
    "%lprun -T output.log -f rej_runner -f _stats_backend rej_runner(lei_obj, sim_sizes, lam, theta, null_truth, unifs, unifs_order, sim_batch_size=1024, grid_batch_size=64)\n",
    "open(\"output.log\").read()"
   ]
  },
  {
   "cell_type": "code",
   "execution_count": null,
   "metadata": {},
   "outputs": [],
   "source": []
  }
 ],
 "metadata": {
  "kernelspec": {
   "display_name": "Python 3.10.6 ('base')",
   "language": "python",
   "name": "python3"
  },
  "language_info": {
   "codemirror_mode": {
    "name": "ipython",
    "version": 3
   },
   "file_extension": ".py",
   "mimetype": "text/x-python",
   "name": "python",
   "nbconvert_exporter": "python",
   "pygments_lexer": "ipython3",
   "version": "3.10.6"
  },
  "orig_nbformat": 4,
  "vscode": {
   "interpreter": {
    "hash": "d4d1e4263499bec80672ea0156c357c1ee493ec2b1c70f0acce89fc37c4a6abe"
   }
  }
 },
 "nbformat": 4,
 "nbformat_minor": 2
}
