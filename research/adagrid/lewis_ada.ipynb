{
 "cells": [
  {
   "cell_type": "code",
   "execution_count": 1,
   "metadata": {},
   "outputs": [
    {
     "name": "stderr",
     "output_type": "stream",
     "text": [
      "/opt/conda/lib/python3.10/site-packages/tqdm/auto.py:22: TqdmWarning: IProgress not found. Please update jupyter and ipywidgets. See https://ipywidgets.readthedocs.io/en/stable/user_install.html\n",
      "  from .autonotebook import tqdm as notebook_tqdm\n"
     ]
    }
   ],
   "source": [
    "import confirm.outlaw.nb_util as nb_util\n",
    "\n",
    "nb_util.setup_nb(pretty=True)\n",
    "\n",
    "import time\n",
    "import jax\n",
    "import os\n",
    "import re\n",
    "import pickle\n",
    "import numpy as np\n",
    "import jax.numpy as jnp\n",
    "import scipy.spatial\n",
    "import matplotlib.pyplot as plt\n",
    "from confirm.mini_imprint import grid\n",
    "from confirm.lewislib import grid as lewgrid\n",
    "from confirm.lewislib import lewis, batch\n",
    "from confirm.mini_imprint import binomial, checkpoint\n",
    "\n",
    "import confirm.mini_imprint.lewis_drivers as lts\n",
    "\n",
    "from rich import print as rprint\n",
    "\n",
    "# Configuration used during simulation\n",
    "name = \"4d_full\"\n",
    "params = {\n",
    "    \"n_arms\": 4,\n",
    "    \"n_stage_1\": 50,\n",
    "    \"n_stage_2\": 100,\n",
    "    \"n_stage_1_interims\": 2,\n",
    "    \"n_stage_1_add_per_interim\": 100,\n",
    "    \"n_stage_2_add_per_interim\": 100,\n",
    "    \"stage_1_futility_threshold\": 0.15,\n",
    "    \"stage_1_efficacy_threshold\": 0.7,\n",
    "    \"stage_2_futility_threshold\": 0.2,\n",
    "    \"stage_2_efficacy_threshold\": 0.95,\n",
    "    \"inter_stage_futility_threshold\": 0.6,\n",
    "    \"posterior_difference_threshold\": 0,\n",
    "    \"rejection_threshold\": 0.05,\n",
    "    \"key\": jax.random.PRNGKey(0),\n",
    "    \"n_table_pts\": 20,\n",
    "    \"n_pr_sims\": 100,\n",
    "    \"n_sig2_sims\": 20,\n",
    "    \"batch_size\": int(2**12),\n",
    "    \"cache_tables\": f\"./{name}/lei_cache.pkl\",\n",
    "}\n",
    "\n",
    "# Configuration used during simulation\n",
    "# name = \"3d_smaller2\"\n",
    "# params = {\n",
    "#     \"n_arms\": 3,\n",
    "#     \"n_stage_1\": 50,\n",
    "#     \"n_stage_2\": 100,\n",
    "#     \"n_stage_1_interims\": 2,\n",
    "#     \"n_stage_1_add_per_interim\": 100,\n",
    "#     \"n_stage_2_add_per_interim\": 100,\n",
    "#     \"stage_1_futility_threshold\": 0.15,\n",
    "#     \"stage_1_efficacy_threshold\": 0.7,\n",
    "#     \"stage_2_futility_threshold\": 0.2,\n",
    "#     \"stage_2_efficacy_threshold\": 0.95,\n",
    "#     \"inter_stage_futility_threshold\": 0.6,\n",
    "#     \"posterior_difference_threshold\": 0,\n",
    "#     \"rejection_threshold\": 0.05,\n",
    "#     \"key\": jax.random.PRNGKey(0),\n",
    "#     \"n_table_pts\": 20,\n",
    "#     \"n_pr_sims\": 100,\n",
    "#     \"n_sig2_sims\": 20,\n",
    "#     \"batch_size\": int(2**12),\n",
    "#     \"cache_tables\": f\"./{name}/lei_cache.pkl\",\n",
    "# }"
   ]
  },
  {
   "cell_type": "code",
   "execution_count": 2,
   "metadata": {},
   "outputs": [],
   "source": [
    "n_arms = params[\"n_arms\"]\n",
    "ns = np.concatenate(\n",
    "    [np.ones(n_arms - 1)[:, None], -np.eye(n_arms - 1)],\n",
    "    axis=-1,\n",
    ")\n",
    "null_hypos = [grid.HyperPlane(n, 0) for n in ns]\n",
    "symmetry = []\n",
    "for i in range(n_arms - 2):\n",
    "    n = np.zeros(n_arms)\n",
    "    n[i + 1] = 1\n",
    "    n[i + 2] = -1\n",
    "    symmetry.append(grid.HyperPlane(n, 0))\n",
    "\n",
    "theta_min = -1.0\n",
    "theta_max = 1.0\n",
    "init_grid_size = 8\n",
    "theta, radii = grid.cartesian_gridpts(\n",
    "    np.full(n_arms, theta_min),\n",
    "    np.full(n_arms, theta_max),\n",
    "    np.full(n_arms, init_grid_size),\n",
    ")\n",
    "g_raw = grid.build_grid(theta, radii)\n",
    "g = grid.build_grid(\n",
    "    theta, radii, null_hypos=null_hypos, symmetry_planes=symmetry, should_prune=True\n",
    ")"
   ]
  },
  {
   "cell_type": "code",
   "execution_count": 3,
   "metadata": {},
   "outputs": [],
   "source": [
    "import adastate\n",
    "from criterion import Criterion\n",
    "\n",
    "lei_obj = lewis.Lewis45(**params)\n",
    "n_arm_samples = int(lei_obj.unifs_shape()[0])"
   ]
  },
  {
   "cell_type": "code",
   "execution_count": 4,
   "metadata": {},
   "outputs": [],
   "source": [
    "P = adastate.AdaParams(\n",
    "    init_K=2**10,\n",
    "    n_K_double=8,\n",
    "    alpha_target=0.025,\n",
    "    grid_target=0.002,\n",
    "    bias_target=0.002,\n",
    "    nB_global=50,\n",
    "    nB_tile=50,\n",
    "    step_size=2**14,\n",
    "    tuning_min=20\n",
    ")\n",
    "D = adastate.init_data(P, lei_obj, 0)\n"
   ]
  },
  {
   "cell_type": "code",
   "execution_count": 6,
   "metadata": {},
   "outputs": [
    {
     "name": "stdout",
     "output_type": "stream",
     "text": [
      "initializing\n"
     ]
    }
   ],
   "source": [
    "load_iter = 'latest'\n",
    "S, load_iter, fn = adastate.load(name, load_iter)\n",
    "if S is None:\n",
    "    print('initializing')\n",
    "    S = adastate.init_state(P, g)\n",
    "S.todo[0] = True"
   ]
  },
  {
   "cell_type": "code",
   "execution_count": 7,
   "metadata": {},
   "outputs": [
    {
     "name": "stdout",
     "output_type": "stream",
     "text": [
      "starting iteration 0 with 1078 tiles to process\n",
      "runtime prediction: inf\n",
      "tuning for 4096 simulations with 1078 tiles and batch size (64, 1024)\n",
      "11.104144096374512\n",
      "0.8716518878936768\n",
      "step took 13.37s\n",
      "checkpointing took 0.00s\n",
      "criterion took 7.45s\n"
     ]
    },
    {
     "data": {
      "text/html": [
       "<pre style=\"white-space:pre;overflow-x:auto;line-height:normal;font-family:Menlo,'DejaVu Sans Mono',consolas,'Courier New',monospace\"><span style=\"font-weight: bold\">{</span>\n",
       "    <span style=\"color: #008000; text-decoration-color: #008000\">'overall_lam'</span>: <span style=\"color: #008000; text-decoration-color: #008000\">'0.00000'</span>,\n",
       "    <span style=\"color: #008000; text-decoration-color: #008000\">'lam_std'</span>: <span style=\"color: #008000; text-decoration-color: #008000\">'0.0000'</span>,\n",
       "    <span style=\"color: #008000; text-decoration-color: #008000\">'grid_cost'</span>: <span style=\"color: #008000; text-decoration-color: #008000\">'0.02500'</span>,\n",
       "    <span style=\"color: #008000; text-decoration-color: #008000\">'bias'</span>: <span style=\"color: #008000; text-decoration-color: #008000\">'0.00000'</span>,\n",
       "    <span style=\"color: #008000; text-decoration-color: #008000\">'total_slack'</span>: <span style=\"color: #008000; text-decoration-color: #008000\">'0.02500'</span>,\n",
       "    <span style=\"color: #008000; text-decoration-color: #008000\">'n_tiles'</span>: <span style=\"color: #008080; text-decoration-color: #008080; font-weight: bold\">1078</span>,\n",
       "    <span style=\"color: #008000; text-decoration-color: #008000\">'n_refine'</span>: <span style=\"color: #008080; text-decoration-color: #008080; font-weight: bold\">1078</span>,\n",
       "    <span style=\"color: #008000; text-decoration-color: #008000\">'n_refine_impossible'</span>: <span style=\"color: #008080; text-decoration-color: #008080; font-weight: bold\">1078</span>,\n",
       "    <span style=\"color: #008000; text-decoration-color: #008000\">'n_moresims'</span>: <span style=\"color: #008080; text-decoration-color: #008080; font-weight: bold\">0</span>,\n",
       "    <span style=\"color: #008000; text-decoration-color: #008000\">'n_moresims_impossible'</span>: <span style=\"color: #008080; text-decoration-color: #008080; font-weight: bold\">0</span>\n",
       "<span style=\"font-weight: bold\">}</span>\n",
       "</pre>\n"
      ],
      "text/plain": [
       "\u001b[1m{\u001b[0m\n",
       "    \u001b[32m'overall_lam'\u001b[0m: \u001b[32m'0.00000'\u001b[0m,\n",
       "    \u001b[32m'lam_std'\u001b[0m: \u001b[32m'0.0000'\u001b[0m,\n",
       "    \u001b[32m'grid_cost'\u001b[0m: \u001b[32m'0.02500'\u001b[0m,\n",
       "    \u001b[32m'bias'\u001b[0m: \u001b[32m'0.00000'\u001b[0m,\n",
       "    \u001b[32m'total_slack'\u001b[0m: \u001b[32m'0.02500'\u001b[0m,\n",
       "    \u001b[32m'n_tiles'\u001b[0m: \u001b[1;36m1078\u001b[0m,\n",
       "    \u001b[32m'n_refine'\u001b[0m: \u001b[1;36m1078\u001b[0m,\n",
       "    \u001b[32m'n_refine_impossible'\u001b[0m: \u001b[1;36m1078\u001b[0m,\n",
       "    \u001b[32m'n_moresims'\u001b[0m: \u001b[1;36m0\u001b[0m,\n",
       "    \u001b[32m'n_moresims_impossible'\u001b[0m: \u001b[1;36m0\u001b[0m\n",
       "\u001b[1m}\u001b[0m\n"
      ]
     },
     "metadata": {},
     "output_type": "display_data"
    },
    {
     "name": "stdout",
     "output_type": "stream",
     "text": [
      "refinement took 0.93s\n",
      "starting iteration 1 with 19796 tiles to process\n",
      "runtime prediction: 245.44\n",
      "tuning for 4096 simulations with 19796 tiles and batch size (64, 1024)\n",
      "31.948589324951172\n",
      "4.093671560287476\n",
      "step took 36.25s\n",
      "checkpointing took 0.01s\n",
      "criterion took 0.05s\n"
     ]
    },
    {
     "data": {
      "text/html": [
       "<pre style=\"white-space:pre;overflow-x:auto;line-height:normal;font-family:Menlo,'DejaVu Sans Mono',consolas,'Courier New',monospace\"><span style=\"font-weight: bold\">{</span>\n",
       "    <span style=\"color: #008000; text-decoration-color: #008000\">'overall_lam'</span>: <span style=\"color: #008000; text-decoration-color: #008000\">'0.00000'</span>,\n",
       "    <span style=\"color: #008000; text-decoration-color: #008000\">'lam_std'</span>: <span style=\"color: #008000; text-decoration-color: #008000\">'0.0000'</span>,\n",
       "    <span style=\"color: #008000; text-decoration-color: #008000\">'grid_cost'</span>: <span style=\"color: #008000; text-decoration-color: #008000\">'0.02439'</span>,\n",
       "    <span style=\"color: #008000; text-decoration-color: #008000\">'bias'</span>: <span style=\"color: #008000; text-decoration-color: #008000\">'0.00000'</span>,\n",
       "    <span style=\"color: #008000; text-decoration-color: #008000\">'total_slack'</span>: <span style=\"color: #008000; text-decoration-color: #008000\">'0.02439'</span>,\n",
       "    <span style=\"color: #008000; text-decoration-color: #008000\">'n_tiles'</span>: <span style=\"color: #008080; text-decoration-color: #008080; font-weight: bold\">19796</span>,\n",
       "    <span style=\"color: #008000; text-decoration-color: #008000\">'n_refine'</span>: <span style=\"color: #008080; text-decoration-color: #008080; font-weight: bold\">16384</span>,\n",
       "    <span style=\"color: #008000; text-decoration-color: #008000\">'n_refine_impossible'</span>: <span style=\"color: #008080; text-decoration-color: #008080; font-weight: bold\">0</span>,\n",
       "    <span style=\"color: #008000; text-decoration-color: #008000\">'n_moresims'</span>: <span style=\"color: #008080; text-decoration-color: #008080; font-weight: bold\">0</span>,\n",
       "    <span style=\"color: #008000; text-decoration-color: #008000\">'n_moresims_impossible'</span>: <span style=\"color: #008080; text-decoration-color: #008080; font-weight: bold\">0</span>\n",
       "<span style=\"font-weight: bold\">}</span>\n",
       "</pre>\n"
      ],
      "text/plain": [
       "\u001b[1m{\u001b[0m\n",
       "    \u001b[32m'overall_lam'\u001b[0m: \u001b[32m'0.00000'\u001b[0m,\n",
       "    \u001b[32m'lam_std'\u001b[0m: \u001b[32m'0.0000'\u001b[0m,\n",
       "    \u001b[32m'grid_cost'\u001b[0m: \u001b[32m'0.02439'\u001b[0m,\n",
       "    \u001b[32m'bias'\u001b[0m: \u001b[32m'0.00000'\u001b[0m,\n",
       "    \u001b[32m'total_slack'\u001b[0m: \u001b[32m'0.02439'\u001b[0m,\n",
       "    \u001b[32m'n_tiles'\u001b[0m: \u001b[1;36m19796\u001b[0m,\n",
       "    \u001b[32m'n_refine'\u001b[0m: \u001b[1;36m16384\u001b[0m,\n",
       "    \u001b[32m'n_refine_impossible'\u001b[0m: \u001b[1;36m0\u001b[0m,\n",
       "    \u001b[32m'n_moresims'\u001b[0m: \u001b[1;36m0\u001b[0m,\n",
       "    \u001b[32m'n_moresims_impossible'\u001b[0m: \u001b[1;36m0\u001b[0m\n",
       "\u001b[1m}\u001b[0m\n"
      ]
     },
     "metadata": {},
     "output_type": "display_data"
    },
    {
     "name": "stdout",
     "output_type": "stream",
     "text": [
      "refinement took 1.90s\n",
      "starting iteration 2 with 313188 tiles to process\n",
      "runtime prediction: 573.47\n",
      "tuning for 4096 simulations with 313188 tiles and batch size (64, 1024)\n",
      "519.131676197052\n",
      "62.64610433578491\n",
      "step took 584.13s\n",
      "checkpointing took 0.19s\n",
      "criterion took 0.27s\n"
     ]
    },
    {
     "data": {
      "text/html": [
       "<pre style=\"white-space:pre;overflow-x:auto;line-height:normal;font-family:Menlo,'DejaVu Sans Mono',consolas,'Courier New',monospace\"><span style=\"font-weight: bold\">{</span>\n",
       "    <span style=\"color: #008000; text-decoration-color: #008000\">'overall_lam'</span>: <span style=\"color: #008000; text-decoration-color: #008000\">'0.00567'</span>,\n",
       "    <span style=\"color: #008000; text-decoration-color: #008000\">'lam_std'</span>: <span style=\"color: #008000; text-decoration-color: #008000\">'0.0026'</span>,\n",
       "    <span style=\"color: #008000; text-decoration-color: #008000\">'grid_cost'</span>: <span style=\"color: #008000; text-decoration-color: #008000\">'0.02022'</span>,\n",
       "    <span style=\"color: #008000; text-decoration-color: #008000\">'bias'</span>: <span style=\"color: #008000; text-decoration-color: #008000\">'0.00077'</span>,\n",
       "    <span style=\"color: #008000; text-decoration-color: #008000\">'total_slack'</span>: <span style=\"color: #008000; text-decoration-color: #008000\">'0.02099'</span>,\n",
       "    <span style=\"color: #008000; text-decoration-color: #008000\">'n_tiles'</span>: <span style=\"color: #008080; text-decoration-color: #008080; font-weight: bold\">315272</span>,\n",
       "    <span style=\"color: #008000; text-decoration-color: #008000\">'n_refine'</span>: <span style=\"color: #008080; text-decoration-color: #008080; font-weight: bold\">16384</span>,\n",
       "    <span style=\"color: #008000; text-decoration-color: #008000\">'n_refine_impossible'</span>: <span style=\"color: #008080; text-decoration-color: #008080; font-weight: bold\">0</span>,\n",
       "    <span style=\"color: #008000; text-decoration-color: #008000\">'n_moresims'</span>: <span style=\"color: #008080; text-decoration-color: #008080; font-weight: bold\">0</span>,\n",
       "    <span style=\"color: #008000; text-decoration-color: #008000\">'n_moresims_impossible'</span>: <span style=\"color: #008080; text-decoration-color: #008080; font-weight: bold\">0</span>\n",
       "<span style=\"font-weight: bold\">}</span>\n",
       "</pre>\n"
      ],
      "text/plain": [
       "\u001b[1m{\u001b[0m\n",
       "    \u001b[32m'overall_lam'\u001b[0m: \u001b[32m'0.00567'\u001b[0m,\n",
       "    \u001b[32m'lam_std'\u001b[0m: \u001b[32m'0.0026'\u001b[0m,\n",
       "    \u001b[32m'grid_cost'\u001b[0m: \u001b[32m'0.02022'\u001b[0m,\n",
       "    \u001b[32m'bias'\u001b[0m: \u001b[32m'0.00077'\u001b[0m,\n",
       "    \u001b[32m'total_slack'\u001b[0m: \u001b[32m'0.02099'\u001b[0m,\n",
       "    \u001b[32m'n_tiles'\u001b[0m: \u001b[1;36m315272\u001b[0m,\n",
       "    \u001b[32m'n_refine'\u001b[0m: \u001b[1;36m16384\u001b[0m,\n",
       "    \u001b[32m'n_refine_impossible'\u001b[0m: \u001b[1;36m0\u001b[0m,\n",
       "    \u001b[32m'n_moresims'\u001b[0m: \u001b[1;36m0\u001b[0m,\n",
       "    \u001b[32m'n_moresims_impossible'\u001b[0m: \u001b[1;36m0\u001b[0m\n",
       "\u001b[1m}\u001b[0m\n"
      ]
     },
     "metadata": {},
     "output_type": "display_data"
    },
    {
     "name": "stdout",
     "output_type": "stream",
     "text": [
      "refinement took 2.10s\n",
      "starting iteration 3 with 313313 tiles to process\n",
      "runtime prediction: 584.36\n",
      "tuning for 4096 simulations with 313313 tiles and batch size (64, 1024)\n",
      "511.2866621017456\n",
      "62.90078806877136\n",
      "step took 576.31s\n",
      "checkpointing took 0.38s\n",
      "criterion took 0.76s\n"
     ]
    },
    {
     "data": {
      "text/html": [
       "<pre style=\"white-space:pre;overflow-x:auto;line-height:normal;font-family:Menlo,'DejaVu Sans Mono',consolas,'Courier New',monospace\"><span style=\"font-weight: bold\">{</span>\n",
       "    <span style=\"color: #008000; text-decoration-color: #008000\">'overall_lam'</span>: <span style=\"color: #008000; text-decoration-color: #008000\">'0.00567'</span>,\n",
       "    <span style=\"color: #008000; text-decoration-color: #008000\">'lam_std'</span>: <span style=\"color: #008000; text-decoration-color: #008000\">'0.0026'</span>,\n",
       "    <span style=\"color: #008000; text-decoration-color: #008000\">'grid_cost'</span>: <span style=\"color: #008000; text-decoration-color: #008000\">'0.02022'</span>,\n",
       "    <span style=\"color: #008000; text-decoration-color: #008000\">'bias'</span>: <span style=\"color: #008000; text-decoration-color: #008000\">'0.00077'</span>,\n",
       "    <span style=\"color: #008000; text-decoration-color: #008000\">'total_slack'</span>: <span style=\"color: #008000; text-decoration-color: #008000\">'0.02099'</span>,\n",
       "    <span style=\"color: #008000; text-decoration-color: #008000\">'n_tiles'</span>: <span style=\"color: #008080; text-decoration-color: #008080; font-weight: bold\">600075</span>,\n",
       "    <span style=\"color: #008000; text-decoration-color: #008000\">'n_refine'</span>: <span style=\"color: #008080; text-decoration-color: #008080; font-weight: bold\">16384</span>,\n",
       "    <span style=\"color: #008000; text-decoration-color: #008000\">'n_refine_impossible'</span>: <span style=\"color: #008080; text-decoration-color: #008080; font-weight: bold\">0</span>,\n",
       "    <span style=\"color: #008000; text-decoration-color: #008000\">'n_moresims'</span>: <span style=\"color: #008080; text-decoration-color: #008080; font-weight: bold\">0</span>,\n",
       "    <span style=\"color: #008000; text-decoration-color: #008000\">'n_moresims_impossible'</span>: <span style=\"color: #008080; text-decoration-color: #008080; font-weight: bold\">0</span>\n",
       "<span style=\"font-weight: bold\">}</span>\n",
       "</pre>\n"
      ],
      "text/plain": [
       "\u001b[1m{\u001b[0m\n",
       "    \u001b[32m'overall_lam'\u001b[0m: \u001b[32m'0.00567'\u001b[0m,\n",
       "    \u001b[32m'lam_std'\u001b[0m: \u001b[32m'0.0026'\u001b[0m,\n",
       "    \u001b[32m'grid_cost'\u001b[0m: \u001b[32m'0.02022'\u001b[0m,\n",
       "    \u001b[32m'bias'\u001b[0m: \u001b[32m'0.00077'\u001b[0m,\n",
       "    \u001b[32m'total_slack'\u001b[0m: \u001b[32m'0.02099'\u001b[0m,\n",
       "    \u001b[32m'n_tiles'\u001b[0m: \u001b[1;36m600075\u001b[0m,\n",
       "    \u001b[32m'n_refine'\u001b[0m: \u001b[1;36m16384\u001b[0m,\n",
       "    \u001b[32m'n_refine_impossible'\u001b[0m: \u001b[1;36m0\u001b[0m,\n",
       "    \u001b[32m'n_moresims'\u001b[0m: \u001b[1;36m0\u001b[0m,\n",
       "    \u001b[32m'n_moresims_impossible'\u001b[0m: \u001b[1;36m0\u001b[0m\n",
       "\u001b[1m}\u001b[0m\n"
      ]
     },
     "metadata": {},
     "output_type": "display_data"
    },
    {
     "name": "stdout",
     "output_type": "stream",
     "text": [
      "refinement took 2.62s\n",
      "starting iteration 4 with 355965 tiles to process\n",
      "runtime prediction: 654.77\n",
      "tuning for 4096 simulations with 355965 tiles and batch size (64, 1024)\n"
     ]
    },
    {
     "ename": "KeyboardInterrupt",
     "evalue": "",
     "output_type": "error",
     "traceback": [
      "\u001b[0;31m---------------------------------------------------------------------------\u001b[0m",
      "\u001b[0;31mKeyboardInterrupt\u001b[0m                         Traceback (most recent call last)",
      "Cell \u001b[0;32mIn [7], line 14\u001b[0m\n\u001b[1;32m     11\u001b[0m \u001b[39mprint\u001b[39m(\u001b[39mf\u001b[39m\u001b[39m\"\u001b[39m\u001b[39mruntime prediction: \u001b[39m\u001b[39m{\u001b[39;00mpredicted_time\u001b[39m:\u001b[39;00m\u001b[39m.2f\u001b[39m\u001b[39m}\u001b[39;00m\u001b[39m\"\u001b[39m)\n\u001b[1;32m     13\u001b[0m start \u001b[39m=\u001b[39m time\u001b[39m.\u001b[39mtime()\n\u001b[0;32m---> 14\u001b[0m R\u001b[39m.\u001b[39;49mstep(P, S, D)\n\u001b[1;32m     15\u001b[0m cost_per_sim \u001b[39m=\u001b[39m (time\u001b[39m.\u001b[39mtime() \u001b[39m-\u001b[39m start) \u001b[39m/\u001b[39m total_effort\n\u001b[1;32m     16\u001b[0m \u001b[39mprint\u001b[39m(\u001b[39mf\u001b[39m\u001b[39m\"\u001b[39m\u001b[39mstep took \u001b[39m\u001b[39m{\u001b[39;00mtime\u001b[39m.\u001b[39mtime() \u001b[39m-\u001b[39m start\u001b[39m:\u001b[39;00m\u001b[39m.2f\u001b[39m\u001b[39m}\u001b[39;00m\u001b[39ms\u001b[39m\u001b[39m\"\u001b[39m)\n",
      "File \u001b[0;32m/workspaces/confirmasaurus/research/adagrid/adastate.py:246\u001b[0m, in \u001b[0;36mAdaRunner.step\u001b[0;34m(self, P, S, D)\u001b[0m\n\u001b[1;32m    238\u001b[0m \u001b[39mdef\u001b[39;00m \u001b[39mstep\u001b[39m(\u001b[39mself\u001b[39m, P, S, D):\n\u001b[1;32m    239\u001b[0m     S\u001b[39m.\u001b[39malpha0[S\u001b[39m.\u001b[39mtodo] \u001b[39m=\u001b[39m \u001b[39mself\u001b[39m\u001b[39m.\u001b[39mbatched_invert_bound(\n\u001b[1;32m    240\u001b[0m         P\u001b[39m.\u001b[39malpha_target,\n\u001b[1;32m    241\u001b[0m         S\u001b[39m.\u001b[39mg\u001b[39m.\u001b[39mtheta_tiles[S\u001b[39m.\u001b[39mtodo],\n\u001b[1;32m    242\u001b[0m         S\u001b[39m.\u001b[39mg\u001b[39m.\u001b[39mvertices(S\u001b[39m.\u001b[39mtodo),\n\u001b[1;32m    243\u001b[0m         \u001b[39mself\u001b[39m\u001b[39m.\u001b[39mn_arm_samples,\n\u001b[1;32m    244\u001b[0m     )\n\u001b[0;32m--> 246\u001b[0m     bootstrap_cvs_todo \u001b[39m=\u001b[39m lts\u001b[39m.\u001b[39;49mbootstrap_tune_runner(\n\u001b[1;32m    247\u001b[0m         \u001b[39mself\u001b[39;49m\u001b[39m.\u001b[39;49mlei_obj,\n\u001b[1;32m    248\u001b[0m         S\u001b[39m.\u001b[39;49msim_sizes[S\u001b[39m.\u001b[39;49mtodo],\n\u001b[1;32m    249\u001b[0m         S\u001b[39m.\u001b[39;49malpha0[S\u001b[39m.\u001b[39;49mtodo],\n\u001b[1;32m    250\u001b[0m         S\u001b[39m.\u001b[39;49mg\u001b[39m.\u001b[39;49mtheta_tiles[S\u001b[39m.\u001b[39;49mtodo],\n\u001b[1;32m    251\u001b[0m         S\u001b[39m.\u001b[39;49mg\u001b[39m.\u001b[39;49mnull_truth[S\u001b[39m.\u001b[39;49mtodo],\n\u001b[1;32m    252\u001b[0m         D\u001b[39m.\u001b[39;49munifs,\n\u001b[1;32m    253\u001b[0m         D\u001b[39m.\u001b[39;49mbootstrap_idxs,\n\u001b[1;32m    254\u001b[0m         D\u001b[39m.\u001b[39;49munifs_order,\n\u001b[1;32m    255\u001b[0m     )\n\u001b[1;32m    257\u001b[0m     S\u001b[39m.\u001b[39morig_lam[S\u001b[39m.\u001b[39mtodo] \u001b[39m=\u001b[39m bootstrap_cvs_todo[:, \u001b[39m0\u001b[39m]\n\u001b[1;32m    258\u001b[0m     S\u001b[39m.\u001b[39mB_lam[S\u001b[39m.\u001b[39mtodo] \u001b[39m=\u001b[39m bootstrap_cvs_todo[:, \u001b[39m1\u001b[39m : \u001b[39m1\u001b[39m \u001b[39m+\u001b[39m P\u001b[39m.\u001b[39mnB_global]\n",
      "File \u001b[0;32m/workspaces/confirmasaurus/confirm/confirm/mini_imprint/lewis_drivers.py:177\u001b[0m, in \u001b[0;36mbootstrap_tune_runner\u001b[0;34m(lei_obj, sim_sizes, alpha, theta, null_truth, unifs, bootstrap_idxs, unifs_order, sim_batch_size, grid_batch_size)\u001b[0m\n\u001b[1;32m    172\u001b[0m \u001b[39mprint\u001b[39m(\n\u001b[1;32m    173\u001b[0m     \u001b[39mf\u001b[39m\u001b[39m\"\u001b[39m\u001b[39mtuning for \u001b[39m\u001b[39m{\u001b[39;00msize\u001b[39m}\u001b[39;00m\u001b[39m simulations with \u001b[39m\u001b[39m{\u001b[39;00midx\u001b[39m.\u001b[39msum()\u001b[39m}\u001b[39;00m\u001b[39m tiles\u001b[39m\u001b[39m\"\u001b[39m\n\u001b[1;32m    174\u001b[0m     \u001b[39mf\u001b[39m\u001b[39m\"\u001b[39m\u001b[39m and batch size (\u001b[39m\u001b[39m{\u001b[39;00mgrid_batch_size\u001b[39m}\u001b[39;00m\u001b[39m, \u001b[39m\u001b[39m{\u001b[39;00msim_batch_size\u001b[39m}\u001b[39;00m\u001b[39m)\u001b[39m\u001b[39m\"\u001b[39m\n\u001b[1;32m    175\u001b[0m )\n\u001b[1;32m    176\u001b[0m unifs_chunk \u001b[39m=\u001b[39m unifs[:size]\n\u001b[0;32m--> 177\u001b[0m stats \u001b[39m=\u001b[39m batched_statv(\n\u001b[1;32m    178\u001b[0m     lei_obj, theta[idx], null_truth[idx], unifs_chunk, unifs_order\n\u001b[1;32m    179\u001b[0m )\n\u001b[1;32m    180\u001b[0m \u001b[39mprint\u001b[39m(time\u001b[39m.\u001b[39mtime() \u001b[39m-\u001b[39m start)\n\u001b[1;32m    181\u001b[0m start \u001b[39m=\u001b[39m time\u001b[39m.\u001b[39mtime()\n",
      "File \u001b[0;32m/workspaces/confirmasaurus/confirm/confirm/lewislib/batch.py:159\u001b[0m, in \u001b[0;36mbatch.<locals>.internal\u001b[0;34m(*args)\u001b[0m\n\u001b[1;32m    158\u001b[0m \u001b[39mdef\u001b[39;00m \u001b[39minternal\u001b[39m(\u001b[39m*\u001b[39margs):\n\u001b[0;32m--> 159\u001b[0m     outs, n_pad \u001b[39m=\u001b[39m f_batch_all(\u001b[39m*\u001b[39;49margs)\n\u001b[1;32m    161\u001b[0m     return_first \u001b[39m=\u001b[39m \u001b[39mFalse\u001b[39;00m\n\u001b[1;32m    162\u001b[0m     \u001b[39mif\u001b[39;00m \u001b[39misinstance\u001b[39m(outs[\u001b[39m0\u001b[39m], np\u001b[39m.\u001b[39mndarray) \u001b[39mor\u001b[39;00m \u001b[39misinstance\u001b[39m(outs[\u001b[39m0\u001b[39m], jnp\u001b[39m.\u001b[39mDeviceArray):\n",
      "File \u001b[0;32m/workspaces/confirmasaurus/confirm/confirm/lewislib/batch.py:128\u001b[0m, in \u001b[0;36mbatch_all.<locals>.internal\u001b[0;34m(*args)\u001b[0m\n\u001b[1;32m    127\u001b[0m \u001b[39mdef\u001b[39;00m \u001b[39minternal\u001b[39m(\u001b[39m*\u001b[39margs):\n\u001b[0;32m--> 128\u001b[0m     outs \u001b[39m=\u001b[39m \u001b[39mtuple\u001b[39;49m(out \u001b[39mfor\u001b[39;49;00m out \u001b[39min\u001b[39;49;00m f_batch(\u001b[39m*\u001b[39;49margs))\n\u001b[1;32m    129\u001b[0m     \u001b[39mreturn\u001b[39;00m \u001b[39mtuple\u001b[39m(out[\u001b[39m0\u001b[39m] \u001b[39mfor\u001b[39;00m out \u001b[39min\u001b[39;00m outs), outs[\u001b[39m-\u001b[39m\u001b[39m1\u001b[39m][\u001b[39m-\u001b[39m\u001b[39m1\u001b[39m]\n",
      "File \u001b[0;32m/workspaces/confirmasaurus/confirm/confirm/lewislib/batch.py:128\u001b[0m, in \u001b[0;36m<genexpr>\u001b[0;34m(.0)\u001b[0m\n\u001b[1;32m    127\u001b[0m \u001b[39mdef\u001b[39;00m \u001b[39minternal\u001b[39m(\u001b[39m*\u001b[39margs):\n\u001b[0;32m--> 128\u001b[0m     outs \u001b[39m=\u001b[39m \u001b[39mtuple\u001b[39m(out \u001b[39mfor\u001b[39;00m out \u001b[39min\u001b[39;00m f_batch(\u001b[39m*\u001b[39margs))\n\u001b[1;32m    129\u001b[0m     \u001b[39mreturn\u001b[39;00m \u001b[39mtuple\u001b[39m(out[\u001b[39m0\u001b[39m] \u001b[39mfor\u001b[39;00m out \u001b[39min\u001b[39;00m outs), outs[\u001b[39m-\u001b[39m\u001b[39m1\u001b[39m][\u001b[39m-\u001b[39m\u001b[39m1\u001b[39m]\n",
      "File \u001b[0;32m/workspaces/confirmasaurus/confirm/confirm/lewislib/batch.py:95\u001b[0m, in \u001b[0;36mbatch_yield.<locals>.internal\u001b[0;34m(*args)\u001b[0m\n\u001b[1;32m     88\u001b[0m \u001b[39mfor\u001b[39;00m _ \u001b[39min\u001b[39;00m \u001b[39mrange\u001b[39m(n_full_batches):\n\u001b[1;32m     89\u001b[0m     batched_args \u001b[39m=\u001b[39m _create_batched_args(\n\u001b[1;32m     90\u001b[0m         args\u001b[39m=\u001b[39margs,\n\u001b[1;32m     91\u001b[0m         in_axes\u001b[39m=\u001b[39min_axes,\n\u001b[1;32m     92\u001b[0m         start\u001b[39m=\u001b[39mstart,\n\u001b[1;32m     93\u001b[0m         end\u001b[39m=\u001b[39mend,\n\u001b[1;32m     94\u001b[0m     )\n\u001b[0;32m---> 95\u001b[0m     \u001b[39myield\u001b[39;00m (f(\u001b[39m*\u001b[39;49mbatched_args), \u001b[39m0\u001b[39m)\n\u001b[1;32m     96\u001b[0m     start \u001b[39m+\u001b[39m\u001b[39m=\u001b[39m batch_size\n\u001b[1;32m     97\u001b[0m     end \u001b[39m+\u001b[39m\u001b[39m=\u001b[39m batch_size\n",
      "File \u001b[0;32m/workspaces/confirmasaurus/confirm/confirm/lewislib/batch.py:159\u001b[0m, in \u001b[0;36mbatch.<locals>.internal\u001b[0;34m(*args)\u001b[0m\n\u001b[1;32m    158\u001b[0m \u001b[39mdef\u001b[39;00m \u001b[39minternal\u001b[39m(\u001b[39m*\u001b[39margs):\n\u001b[0;32m--> 159\u001b[0m     outs, n_pad \u001b[39m=\u001b[39m f_batch_all(\u001b[39m*\u001b[39;49margs)\n\u001b[1;32m    161\u001b[0m     return_first \u001b[39m=\u001b[39m \u001b[39mFalse\u001b[39;00m\n\u001b[1;32m    162\u001b[0m     \u001b[39mif\u001b[39;00m \u001b[39misinstance\u001b[39m(outs[\u001b[39m0\u001b[39m], np\u001b[39m.\u001b[39mndarray) \u001b[39mor\u001b[39;00m \u001b[39misinstance\u001b[39m(outs[\u001b[39m0\u001b[39m], jnp\u001b[39m.\u001b[39mDeviceArray):\n",
      "File \u001b[0;32m/workspaces/confirmasaurus/confirm/confirm/lewislib/batch.py:128\u001b[0m, in \u001b[0;36mbatch_all.<locals>.internal\u001b[0;34m(*args)\u001b[0m\n\u001b[1;32m    127\u001b[0m \u001b[39mdef\u001b[39;00m \u001b[39minternal\u001b[39m(\u001b[39m*\u001b[39margs):\n\u001b[0;32m--> 128\u001b[0m     outs \u001b[39m=\u001b[39m \u001b[39mtuple\u001b[39;49m(out \u001b[39mfor\u001b[39;49;00m out \u001b[39min\u001b[39;49;00m f_batch(\u001b[39m*\u001b[39;49margs))\n\u001b[1;32m    129\u001b[0m     \u001b[39mreturn\u001b[39;00m \u001b[39mtuple\u001b[39m(out[\u001b[39m0\u001b[39m] \u001b[39mfor\u001b[39;00m out \u001b[39min\u001b[39;00m outs), outs[\u001b[39m-\u001b[39m\u001b[39m1\u001b[39m][\u001b[39m-\u001b[39m\u001b[39m1\u001b[39m]\n",
      "File \u001b[0;32m/workspaces/confirmasaurus/confirm/confirm/lewislib/batch.py:128\u001b[0m, in \u001b[0;36m<genexpr>\u001b[0;34m(.0)\u001b[0m\n\u001b[1;32m    127\u001b[0m \u001b[39mdef\u001b[39;00m \u001b[39minternal\u001b[39m(\u001b[39m*\u001b[39margs):\n\u001b[0;32m--> 128\u001b[0m     outs \u001b[39m=\u001b[39m \u001b[39mtuple\u001b[39m(out \u001b[39mfor\u001b[39;00m out \u001b[39min\u001b[39;00m f_batch(\u001b[39m*\u001b[39margs))\n\u001b[1;32m    129\u001b[0m     \u001b[39mreturn\u001b[39;00m \u001b[39mtuple\u001b[39m(out[\u001b[39m0\u001b[39m] \u001b[39mfor\u001b[39;00m out \u001b[39min\u001b[39;00m outs), outs[\u001b[39m-\u001b[39m\u001b[39m1\u001b[39m][\u001b[39m-\u001b[39m\u001b[39m1\u001b[39m]\n",
      "File \u001b[0;32m/workspaces/confirmasaurus/confirm/confirm/lewislib/batch.py:95\u001b[0m, in \u001b[0;36mbatch_yield.<locals>.internal\u001b[0;34m(*args)\u001b[0m\n\u001b[1;32m     88\u001b[0m \u001b[39mfor\u001b[39;00m _ \u001b[39min\u001b[39;00m \u001b[39mrange\u001b[39m(n_full_batches):\n\u001b[1;32m     89\u001b[0m     batched_args \u001b[39m=\u001b[39m _create_batched_args(\n\u001b[1;32m     90\u001b[0m         args\u001b[39m=\u001b[39margs,\n\u001b[1;32m     91\u001b[0m         in_axes\u001b[39m=\u001b[39min_axes,\n\u001b[1;32m     92\u001b[0m         start\u001b[39m=\u001b[39mstart,\n\u001b[1;32m     93\u001b[0m         end\u001b[39m=\u001b[39mend,\n\u001b[1;32m     94\u001b[0m     )\n\u001b[0;32m---> 95\u001b[0m     \u001b[39myield\u001b[39;00m (f(\u001b[39m*\u001b[39;49mbatched_args), \u001b[39m0\u001b[39m)\n\u001b[1;32m     96\u001b[0m     start \u001b[39m+\u001b[39m\u001b[39m=\u001b[39m batch_size\n\u001b[1;32m     97\u001b[0m     end \u001b[39m+\u001b[39m\u001b[39m=\u001b[39m batch_size\n",
      "\u001b[0;31mKeyboardInterrupt\u001b[0m: "
     ]
    }
   ],
   "source": [
    "R = adastate.AdaRunner(P, lei_obj)\n",
    "iter_max = 10000\n",
    "cost_per_sim = np.inf\n",
    "for II in range(load_iter + 1, iter_max):\n",
    "    if np.sum(S.todo) == 0:\n",
    "        break\n",
    "\n",
    "    print(f\"starting iteration {II} with {np.sum(S.todo)} tiles to process\")\n",
    "    total_effort = np.sum(S.sim_sizes[S.todo])\n",
    "    predicted_time = total_effort * cost_per_sim\n",
    "    print(f\"runtime prediction: {predicted_time:.2f}\")\n",
    "\n",
    "    start = time.time()\n",
    "    R.step(P, S, D)\n",
    "    cost_per_sim = (time.time() - start) / total_effort\n",
    "    print(f\"step took {time.time() - start:.2f}s\")\n",
    "\n",
    "    start = time.time()\n",
    "    adastate.save(f\"{name}/{II}.pkl\", S)\n",
    "    adastate.clean_checkpoints(name, II)\n",
    "    print(f\"checkpointing took {time.time() - start:.2f}s\")\n",
    "\n",
    "    start = time.time()\n",
    "    cr = Criterion(lei_obj, P, S, D)\n",
    "    print(f'criterion took {time.time() - start:.2f}s')\n",
    "    rprint(cr.report)\n",
    "\n",
    "    start = time.time()\n",
    "    if (np.sum(cr.which_refine) > 0 or np.sum(cr.which_deepen) > 0) and II != iter_max - 1:\n",
    "        S.sim_sizes[cr.which_deepen] = S.sim_sizes[cr.which_deepen] * 2\n",
    "        S.todo[cr.which_deepen] = True\n",
    "\n",
    "        S = S.refine(P, cr.which_refine, null_hypos, symmetry)\n",
    "        print(f\"refinement took {time.time() - start:.2f}s\")"
   ]
  },
  {
   "cell_type": "code",
   "execution_count": null,
   "metadata": {},
   "outputs": [],
   "source": []
  },
  {
   "cell_type": "code",
   "execution_count": 64,
   "metadata": {},
   "outputs": [
    {
     "name": "stdout",
     "output_type": "stream",
     "text": [
      "running for size 1000 with 4721515 tiles took 1573.7245726585388\n"
     ]
    }
   ],
   "source": [
    "typeI_sum = batched_rej(\n",
    "    sim_sizes,\n",
    "    (np.full(sim_sizes.shape[0], overall_cv),\n",
    "    g.theta_tiles,\n",
    "    g.null_truth,),\n",
    "    unifs,\n",
    "    unifs_order,\n",
    ")\n",
    "\n",
    "savedata = [\n",
    "    g,\n",
    "    sim_sizes,\n",
    "    bootstrap_cvs,\n",
    "    typeI_sum,\n",
    "    hob_upper,\n",
    "    pointwise_target_alpha\n",
    "]\n",
    "with open(f\"{name}/final.pkl\", \"wb\") as f:\n",
    "    pickle.dump(savedata, f)\n",
    "\n",
    "# Calculate actual type I errors?\n",
    "typeI_est, typeI_CI = binomial.zero_order_bound(\n",
    "    typeI_sum, sim_sizes, delta_validate, 1.0\n",
    ")\n",
    "typeI_bound = typeI_est + typeI_CI\n",
    "\n",
    "hob_upper = binomial.holder_odi_bound(\n",
    "    typeI_bound, g.theta_tiles, g.vertices, n_arm_samples, holderq\n",
    ")\n",
    "sim_cost = typeI_CI\n",
    "hob_empirical_cost = hob_upper - typeI_bound\n",
    "worst_idx = np.argmax(typeI_est)\n",
    "worst_tile = g.theta_tiles[worst_idx]\n",
    "typeI_est[worst_idx], worst_tile\n",
    "worst_cv_idx = np.argmin(sim_cvs)\n",
    "typeI_est[worst_cv_idx], sim_cvs[worst_cv_idx], g.theta_tiles[worst_cv_idx], pointwise_target_alpha[worst_cv_idx]\n",
    "plt.hist(typeI_est, bins=np.linspace(0.02,0.025, 100))\n",
    "plt.show()\n",
    "\n",
    "theta_0 = np.array([-1.0, -1.0, -1.0])      # sim point\n",
    "v = 0.1 * np.ones(theta_0.shape[0])     # displacement\n",
    "f0 = 0.01                               # Type I Error at theta_0\n",
    "fwd_solver = ehbound.ForwardQCPSolver(n=n_arm_samples)\n",
    "q_opt = fwd_solver.solve(theta_0=theta_0, v=v, a=f0) # optimal q\n",
    "ehbound.q_holder_bound_fwd(q_opt, n_arm_samples, theta_0, v, f0)"
   ]
  }
 ],
 "metadata": {
  "kernelspec": {
   "display_name": "Python 3.10.6 ('base')",
   "language": "python",
   "name": "python3"
  },
  "language_info": {
   "codemirror_mode": {
    "name": "ipython",
    "version": 3
   },
   "file_extension": ".py",
   "mimetype": "text/x-python",
   "name": "python",
   "nbconvert_exporter": "python",
   "pygments_lexer": "ipython3",
   "version": "3.10.6"
  },
  "orig_nbformat": 4,
  "vscode": {
   "interpreter": {
    "hash": "d4d1e4263499bec80672ea0156c357c1ee493ec2b1c70f0acce89fc37c4a6abe"
   }
  }
 },
 "nbformat": 4,
 "nbformat_minor": 2
}
