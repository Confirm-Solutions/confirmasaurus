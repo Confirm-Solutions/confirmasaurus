{
 "cells": [
  {
   "attachments": {},
   "cell_type": "markdown",
   "metadata": {},
   "source": [
    "Tuning inside Adagrid is a scary thing to do. This document is a summary of the various problems I've run into. \n",
    "\n",
    "First, some basics. We have three different groups of thresholds. $i$ is a tile index, $j$ is a bootstrap index.\n",
    "1. The original sample, $\\lambda^*_i$ and it's grid-wise minimum $\\lambda^{**}$. \n",
    "2. $N_B$  global bootstraps $\\lambda_{i, B_j}^*$ and their grid-wise minima $\\lambda_{B_j}^{**}$. In the code, info regarding these bootstraps is prefixed with `B_`.\n",
    "3. $N_b$  tile-wise investigation bootstraps $\\lambda_{i, b_j}^*$ and their tile-wise minima $\\lambda_{i}^{**}$. In the code, info regarding these bootstraps is prefixed with `twb_` standing for \"tile-wise bootstrap\". \n",
    "\n",
    "For each of these tuning problems, we tune at TIE level $\\alpha_0 = \\alpha - C_{\\alpha}$ where $C_{\\alpha}$ is the TIE consumed by continuous simulation extension. The C stands for \"cost\" and in the code this is called `alpha_cost`. \n",
    "\n",
    "The different problems I've run into so far:\n",
    "- impossible tuning. This occurs when $\\alpha_0 < 2 / (K+1)$ . In this situation, we can't tune because there are too few test statistics. We need to either run more simulations (increase $K$) or refine (increase $\\alpha_0$). \n",
    "- it's possible to have a tile where the twb_min_lam is large... like 1 but B_lam is small like 0.015. \n",
    "\t- these tiles have too much variance, but there's no way to detect them because our tilewise bootstrap didn't turn up any evidence of danger. \n",
    "\t- it's not possible to completely remove this possibility because there's always some randomness.\n",
    "\t- this partially suggests i'm using a baseline of too few simulations or too large tiles. this is fixable. I bumped up the baseline K to 4096.\n",
    "\t- another option would be to use a new bootstrap in some way to get a new sample?\n",
    "- part of the problem is tiles for which $\\alpha_0$ is super small and so the tuning result is like index 2 of the batch which will of course result in a high variance. the simple thing to do is to make $\\alpha_0$ larger. is there a smooth way to do this?"
   ]
  },
  {
   "cell_type": "code",
   "execution_count": 1,
   "metadata": {},
   "outputs": [
    {
     "name": "stderr",
     "output_type": "stream",
     "text": [
      "/opt/conda/lib/python3.10/site-packages/tqdm/auto.py:22: TqdmWarning: IProgress not found. Please update jupyter and ipywidgets. See https://ipywidgets.readthedocs.io/en/stable/user_install.html\n",
      "  from .autonotebook import tqdm as notebook_tqdm\n"
     ]
    }
   ],
   "source": [
    "import confirm.outlaw.nb_util as nb_util\n",
    "\n",
    "nb_util.setup_nb(pretty=True)\n",
    "\n",
    "import time\n",
    "import jax\n",
    "import os\n",
    "import re\n",
    "import pickle\n",
    "import numpy as np\n",
    "import jax.numpy as jnp\n",
    "import scipy.spatial\n",
    "import matplotlib.pyplot as plt\n",
    "from confirm.mini_imprint import grid\n",
    "from confirm.lewislib import grid as lewgrid\n",
    "from confirm.lewislib import lewis, batch\n",
    "from confirm.mini_imprint import binomial, checkpoint\n",
    "\n",
    "import confirm.mini_imprint.lewis_drivers as lts\n",
    "\n",
    "from rich import print as rprint\n",
    "\n",
    "# Configuration used during simulation\n",
    "name = \"4d_full\"\n",
    "params = {\n",
    "    \"n_arms\": 4,\n",
    "    \"n_stage_1\": 50,\n",
    "    \"n_stage_2\": 100,\n",
    "    \"n_stage_1_interims\": 2,\n",
    "    \"n_stage_1_add_per_interim\": 100,\n",
    "    \"n_stage_2_add_per_interim\": 100,\n",
    "    \"stage_1_futility_threshold\": 0.15,\n",
    "    \"stage_1_efficacy_threshold\": 0.7,\n",
    "    \"stage_2_futility_threshold\": 0.2,\n",
    "    \"stage_2_efficacy_threshold\": 0.95,\n",
    "    \"inter_stage_futility_threshold\": 0.6,\n",
    "    \"posterior_difference_threshold\": 0,\n",
    "    \"rejection_threshold\": 0.05,\n",
    "    \"key\": jax.random.PRNGKey(0),\n",
    "    \"n_table_pts\": 20,\n",
    "    \"n_pr_sims\": 100,\n",
    "    \"n_sig2_sims\": 20,\n",
    "    \"batch_size\": int(2**12),\n",
    "    \"cache_tables\": f\"./{name}/lei_cache.pkl\",\n",
    "}\n",
    "\n",
    "# Configuration used during simulation\n",
    "# name = \"3d_smaller2\"\n",
    "# params = {\n",
    "#     \"n_arms\": 3,\n",
    "#     \"n_stage_1\": 50,\n",
    "#     \"n_stage_2\": 100,\n",
    "#     \"n_stage_1_interims\": 2,\n",
    "#     \"n_stage_1_add_per_interim\": 100,\n",
    "#     \"n_stage_2_add_per_interim\": 100,\n",
    "#     \"stage_1_futility_threshold\": 0.15,\n",
    "#     \"stage_1_efficacy_threshold\": 0.7,\n",
    "#     \"stage_2_futility_threshold\": 0.2,\n",
    "#     \"stage_2_efficacy_threshold\": 0.95,\n",
    "#     \"inter_stage_futility_threshold\": 0.6,\n",
    "#     \"posterior_difference_threshold\": 0,\n",
    "#     \"rejection_threshold\": 0.05,\n",
    "#     \"key\": jax.random.PRNGKey(0),\n",
    "#     \"n_table_pts\": 20,\n",
    "#     \"n_pr_sims\": 100,\n",
    "#     \"n_sig2_sims\": 20,\n",
    "#     \"batch_size\": int(2**12),\n",
    "#     \"cache_tables\": f\"./{name}/lei_cache.pkl\",\n",
    "# }"
   ]
  },
  {
   "cell_type": "code",
   "execution_count": 2,
   "metadata": {},
   "outputs": [],
   "source": [
    "n_arms = params[\"n_arms\"]\n",
    "ns = np.concatenate(\n",
    "    [np.ones(n_arms - 1)[:, None], -np.eye(n_arms - 1)],\n",
    "    axis=-1,\n",
    ")\n",
    "null_hypos = [grid.HyperPlane(n, 0) for n in ns]\n",
    "symmetry = []\n",
    "for i in range(n_arms - 2):\n",
    "    n = np.zeros(n_arms)\n",
    "    n[i + 1] = 1\n",
    "    n[i + 2] = -1\n",
    "    symmetry.append(grid.HyperPlane(n, 0))\n",
    "\n",
    "theta_min = -1.0\n",
    "theta_max = 1.0\n",
    "init_grid_size = 8\n",
    "theta, radii = grid.cartesian_gridpts(\n",
    "    np.full(n_arms, theta_min),\n",
    "    np.full(n_arms, theta_max),\n",
    "    np.full(n_arms, init_grid_size),\n",
    ")\n",
    "g_raw = grid.build_grid(theta, radii)\n",
    "g = grid.build_grid(\n",
    "    theta, radii, null_hypos=null_hypos, symmetry_planes=symmetry, should_prune=True\n",
    ")"
   ]
  },
  {
   "cell_type": "code",
   "execution_count": 3,
   "metadata": {},
   "outputs": [],
   "source": [
    "import adastate\n",
    "from criterion import Criterion\n",
    "\n",
    "lei_obj = lewis.Lewis45(**params)\n",
    "n_arm_samples = int(lei_obj.unifs_shape()[0])"
   ]
  },
  {
   "cell_type": "code",
   "execution_count": 4,
   "metadata": {},
   "outputs": [],
   "source": [
    "P = adastate.AdaParams(\n",
    "    init_K=2**11,\n",
    "    n_K_double=8,\n",
    "    alpha_target=0.025,\n",
    "    grid_target=0.002,\n",
    "    bias_target=0.002,\n",
    "    nB_global=50,\n",
    "    nB_tile=50,\n",
    "    step_size=2**14,\n",
    "    tuning_min_idx=20\n",
    ")\n",
    "D = adastate.init_data(P, lei_obj, 0)\n",
    "adastate.save(f\"./{name}/data_params.pkl\", (P, D))"
   ]
  },
  {
   "cell_type": "code",
   "execution_count": 7,
   "metadata": {},
   "outputs": [
    {
     "name": "stdout",
     "output_type": "stream",
     "text": [
      "loading checkpoint 4d_full/124.pkl\n"
     ]
    }
   ],
   "source": [
    "load_iter = 'latest'\n",
    "S, load_iter, fn = adastate.load(name, load_iter)\n",
    "if S is None:\n",
    "    print('initializing')\n",
    "    S = adastate.init_state(P, g)\n",
    "S.todo[0] = True"
   ]
  },
  {
   "cell_type": "code",
   "execution_count": 8,
   "metadata": {},
   "outputs": [
    {
     "name": "stdout",
     "output_type": "stream",
     "text": [
      "starting iteration 125 with 1 tiles to process\n",
      "runtime prediction: inf\n",
      "tuning for 32768 simulations with 1 tiles and batch size (64, 1024)\n",
      "0.8734002113342285\n",
      "0.3879389762878418\n",
      "step took 3.35s\n",
      "checkpointing took 7.52s\n",
      "tuning for 2048 simulations with 1 tiles and batch size (1, 16384)\n",
      "0.08160567283630371\n",
      "0.2525291442871094\n",
      "criterion took 11.08s\n"
     ]
    },
    {
     "data": {
      "text/html": [
       "<pre style=\"white-space:pre;overflow-x:auto;line-height:normal;font-family:Menlo,'DejaVu Sans Mono',consolas,'Courier New',monospace\"><span style=\"font-weight: bold\">{</span>\n",
       "    <span style=\"color: #008000; text-decoration-color: #008000\">'overall_lam'</span>: <span style=\"color: #008000; text-decoration-color: #008000\">'0.04873'</span>,\n",
       "    <span style=\"color: #008000; text-decoration-color: #008000\">'lam_std'</span>: <span style=\"color: #008000; text-decoration-color: #008000\">'0.0066'</span>,\n",
       "    <span style=\"color: #008000; text-decoration-color: #008000\">'grid_cost'</span>: <span style=\"color: #008000; text-decoration-color: #008000\">'0.01358'</span>,\n",
       "    <span style=\"color: #008000; text-decoration-color: #008000\">'bias'</span>: <span style=\"color: #008000; text-decoration-color: #008000\">'0.00527'</span>,\n",
       "    <span style=\"color: #008000; text-decoration-color: #008000\">'total_slack'</span>: <span style=\"color: #008000; text-decoration-color: #008000\">'0.01885'</span>,\n",
       "    <span style=\"color: #008000; text-decoration-color: #008000\">'n_tiles'</span>: <span style=\"color: #008080; text-decoration-color: #008080; font-weight: bold\">11051773</span>,\n",
       "    <span style=\"color: #008000; text-decoration-color: #008000\">'n_refine'</span>: <span style=\"color: #008080; text-decoration-color: #008080; font-weight: bold\">5496</span>,\n",
       "    <span style=\"color: #008000; text-decoration-color: #008000\">'n_refine_impossible'</span>: <span style=\"color: #008080; text-decoration-color: #008080; font-weight: bold\">0</span>,\n",
       "    <span style=\"color: #008000; text-decoration-color: #008000\">'n_moresims'</span>: <span style=\"color: #008080; text-decoration-color: #008080; font-weight: bold\">10888</span>,\n",
       "    <span style=\"color: #008000; text-decoration-color: #008000\">'n_moresims_impossible'</span>: <span style=\"color: #008080; text-decoration-color: #008080; font-weight: bold\">0</span>\n",
       "<span style=\"font-weight: bold\">}</span>\n",
       "</pre>\n"
      ],
      "text/plain": [
       "\u001b[1m{\u001b[0m\n",
       "    \u001b[32m'overall_lam'\u001b[0m: \u001b[32m'0.04873'\u001b[0m,\n",
       "    \u001b[32m'lam_std'\u001b[0m: \u001b[32m'0.0066'\u001b[0m,\n",
       "    \u001b[32m'grid_cost'\u001b[0m: \u001b[32m'0.01358'\u001b[0m,\n",
       "    \u001b[32m'bias'\u001b[0m: \u001b[32m'0.00527'\u001b[0m,\n",
       "    \u001b[32m'total_slack'\u001b[0m: \u001b[32m'0.01885'\u001b[0m,\n",
       "    \u001b[32m'n_tiles'\u001b[0m: \u001b[1;36m11051773\u001b[0m,\n",
       "    \u001b[32m'n_refine'\u001b[0m: \u001b[1;36m5496\u001b[0m,\n",
       "    \u001b[32m'n_refine_impossible'\u001b[0m: \u001b[1;36m0\u001b[0m,\n",
       "    \u001b[32m'n_moresims'\u001b[0m: \u001b[1;36m10888\u001b[0m,\n",
       "    \u001b[32m'n_moresims_impossible'\u001b[0m: \u001b[1;36m0\u001b[0m\n",
       "\u001b[1m}\u001b[0m\n"
      ]
     },
     "metadata": {},
     "output_type": "display_data"
    },
    {
     "name": "stdout",
     "output_type": "stream",
     "text": [
      "refinement took 6.32s\n",
      "starting iteration 126 with 127848 tiles to process\n",
      "runtime prediction: 29025.09\n",
      "tuning for 2048 simulations with 116960 tiles and batch size (64, 1024)\n",
      "96.89662957191467\n",
      "19.538331747055054\n",
      "tuning for 4096 simulations with 10888 tiles and batch size (64, 1024)\n",
      "17.563320875167847\n",
      "2.470937490463257\n",
      "step took 137.82s\n",
      "checkpointing took 7.13s\n",
      "tuning for 2048 simulations with 1 tiles and batch size (1, 16384)\n",
      "0.08059406280517578\n",
      "0.25332045555114746\n",
      "criterion took 11.71s\n"
     ]
    },
    {
     "data": {
      "text/html": [
       "<pre style=\"white-space:pre;overflow-x:auto;line-height:normal;font-family:Menlo,'DejaVu Sans Mono',consolas,'Courier New',monospace\"><span style=\"font-weight: bold\">{</span>\n",
       "    <span style=\"color: #008000; text-decoration-color: #008000\">'overall_lam'</span>: <span style=\"color: #008000; text-decoration-color: #008000\">'0.04873'</span>,\n",
       "    <span style=\"color: #008000; text-decoration-color: #008000\">'lam_std'</span>: <span style=\"color: #008000; text-decoration-color: #008000\">'0.0066'</span>,\n",
       "    <span style=\"color: #008000; text-decoration-color: #008000\">'grid_cost'</span>: <span style=\"color: #008000; text-decoration-color: #008000\">'0.01358'</span>,\n",
       "    <span style=\"color: #008000; text-decoration-color: #008000\">'bias'</span>: <span style=\"color: #008000; text-decoration-color: #008000\">'0.00525'</span>,\n",
       "    <span style=\"color: #008000; text-decoration-color: #008000\">'total_slack'</span>: <span style=\"color: #008000; text-decoration-color: #008000\">'0.01883'</span>,\n",
       "    <span style=\"color: #008000; text-decoration-color: #008000\">'n_tiles'</span>: <span style=\"color: #008080; text-decoration-color: #008080; font-weight: bold\">11157631</span>,\n",
       "    <span style=\"color: #008000; text-decoration-color: #008000\">'n_refine'</span>: <span style=\"color: #008080; text-decoration-color: #008080; font-weight: bold\">266</span>,\n",
       "    <span style=\"color: #008000; text-decoration-color: #008000\">'n_refine_impossible'</span>: <span style=\"color: #008080; text-decoration-color: #008080; font-weight: bold\">0</span>,\n",
       "    <span style=\"color: #008000; text-decoration-color: #008000\">'n_moresims'</span>: <span style=\"color: #008080; text-decoration-color: #008080; font-weight: bold\">16118</span>,\n",
       "    <span style=\"color: #008000; text-decoration-color: #008000\">'n_moresims_impossible'</span>: <span style=\"color: #008080; text-decoration-color: #008080; font-weight: bold\">0</span>\n",
       "<span style=\"font-weight: bold\">}</span>\n",
       "</pre>\n"
      ],
      "text/plain": [
       "\u001b[1m{\u001b[0m\n",
       "    \u001b[32m'overall_lam'\u001b[0m: \u001b[32m'0.04873'\u001b[0m,\n",
       "    \u001b[32m'lam_std'\u001b[0m: \u001b[32m'0.0066'\u001b[0m,\n",
       "    \u001b[32m'grid_cost'\u001b[0m: \u001b[32m'0.01358'\u001b[0m,\n",
       "    \u001b[32m'bias'\u001b[0m: \u001b[32m'0.00525'\u001b[0m,\n",
       "    \u001b[32m'total_slack'\u001b[0m: \u001b[32m'0.01883'\u001b[0m,\n",
       "    \u001b[32m'n_tiles'\u001b[0m: \u001b[1;36m11157631\u001b[0m,\n",
       "    \u001b[32m'n_refine'\u001b[0m: \u001b[1;36m266\u001b[0m,\n",
       "    \u001b[32m'n_refine_impossible'\u001b[0m: \u001b[1;36m0\u001b[0m,\n",
       "    \u001b[32m'n_moresims'\u001b[0m: \u001b[1;36m16118\u001b[0m,\n",
       "    \u001b[32m'n_moresims_impossible'\u001b[0m: \u001b[1;36m0\u001b[0m\n",
       "\u001b[1m}\u001b[0m\n"
      ]
     },
     "metadata": {},
     "output_type": "display_data"
    },
    {
     "name": "stdout",
     "output_type": "stream",
     "text": [
      "refinement took 7.13s\n",
      "starting iteration 127 with 22502 tiles to process\n",
      "runtime prediction: 38.36\n",
      "tuning for 2048 simulations with 6384 tiles and batch size (64, 1024)\n",
      "5.336625814437866\n",
      "1.3505454063415527\n",
      "tuning for 4096 simulations with 16118 tiles and batch size (64, 1024)\n",
      "25.87602686882019\n",
      "3.5235230922698975\n",
      "step took 36.90s\n",
      "checkpointing took 7.26s\n",
      "tuning for 2048 simulations with 1 tiles and batch size (1, 16384)\n",
      "0.09521079063415527\n",
      "0.26537060737609863\n",
      "criterion took 11.09s\n"
     ]
    },
    {
     "data": {
      "text/html": [
       "<pre style=\"white-space:pre;overflow-x:auto;line-height:normal;font-family:Menlo,'DejaVu Sans Mono',consolas,'Courier New',monospace\"><span style=\"font-weight: bold\">{</span>\n",
       "    <span style=\"color: #008000; text-decoration-color: #008000\">'overall_lam'</span>: <span style=\"color: #008000; text-decoration-color: #008000\">'0.04873'</span>,\n",
       "    <span style=\"color: #008000; text-decoration-color: #008000\">'lam_std'</span>: <span style=\"color: #008000; text-decoration-color: #008000\">'0.0066'</span>,\n",
       "    <span style=\"color: #008000; text-decoration-color: #008000\">'grid_cost'</span>: <span style=\"color: #008000; text-decoration-color: #008000\">'0.01358'</span>,\n",
       "    <span style=\"color: #008000; text-decoration-color: #008000\">'bias'</span>: <span style=\"color: #008000; text-decoration-color: #008000\">'0.00525'</span>,\n",
       "    <span style=\"color: #008000; text-decoration-color: #008000\">'total_slack'</span>: <span style=\"color: #008000; text-decoration-color: #008000\">'0.01883'</span>,\n",
       "    <span style=\"color: #008000; text-decoration-color: #008000\">'n_tiles'</span>: <span style=\"color: #008080; text-decoration-color: #008080; font-weight: bold\">11163483</span>,\n",
       "    <span style=\"color: #008000; text-decoration-color: #008000\">'n_refine'</span>: <span style=\"color: #008080; text-decoration-color: #008080; font-weight: bold\">990</span>,\n",
       "    <span style=\"color: #008000; text-decoration-color: #008000\">'n_refine_impossible'</span>: <span style=\"color: #008080; text-decoration-color: #008080; font-weight: bold\">0</span>,\n",
       "    <span style=\"color: #008000; text-decoration-color: #008000\">'n_moresims'</span>: <span style=\"color: #008080; text-decoration-color: #008080; font-weight: bold\">15394</span>,\n",
       "    <span style=\"color: #008000; text-decoration-color: #008000\">'n_moresims_impossible'</span>: <span style=\"color: #008080; text-decoration-color: #008080; font-weight: bold\">0</span>\n",
       "<span style=\"font-weight: bold\">}</span>\n",
       "</pre>\n"
      ],
      "text/plain": [
       "\u001b[1m{\u001b[0m\n",
       "    \u001b[32m'overall_lam'\u001b[0m: \u001b[32m'0.04873'\u001b[0m,\n",
       "    \u001b[32m'lam_std'\u001b[0m: \u001b[32m'0.0066'\u001b[0m,\n",
       "    \u001b[32m'grid_cost'\u001b[0m: \u001b[32m'0.01358'\u001b[0m,\n",
       "    \u001b[32m'bias'\u001b[0m: \u001b[32m'0.00525'\u001b[0m,\n",
       "    \u001b[32m'total_slack'\u001b[0m: \u001b[32m'0.01883'\u001b[0m,\n",
       "    \u001b[32m'n_tiles'\u001b[0m: \u001b[1;36m11163483\u001b[0m,\n",
       "    \u001b[32m'n_refine'\u001b[0m: \u001b[1;36m990\u001b[0m,\n",
       "    \u001b[32m'n_refine_impossible'\u001b[0m: \u001b[1;36m0\u001b[0m,\n",
       "    \u001b[32m'n_moresims'\u001b[0m: \u001b[1;36m15394\u001b[0m,\n",
       "    \u001b[32m'n_moresims_impossible'\u001b[0m: \u001b[1;36m0\u001b[0m\n",
       "\u001b[1m}\u001b[0m\n"
      ]
     },
     "metadata": {},
     "output_type": "display_data"
    },
    {
     "name": "stdout",
     "output_type": "stream",
     "text": [
      "refinement took 6.91s\n",
      "starting iteration 128 with 36978 tiles to process\n",
      "runtime prediction: 50.04\n",
      "tuning for 2048 simulations with 21584 tiles and batch size (64, 1024)\n",
      "17.937230348587036\n",
      "3.7743823528289795\n",
      "tuning for 4096 simulations with 15394 tiles and batch size (64, 1024)\n",
      "24.701953411102295\n",
      "3.3779497146606445\n",
      "step took 50.71s\n",
      "checkpointing took 6.81s\n",
      "tuning for 2048 simulations with 1 tiles and batch size (1, 16384)\n",
      "0.09720706939697266\n",
      "0.2738652229309082\n",
      "criterion took 10.92s\n"
     ]
    },
    {
     "data": {
      "text/html": [
       "<pre style=\"white-space:pre;overflow-x:auto;line-height:normal;font-family:Menlo,'DejaVu Sans Mono',consolas,'Courier New',monospace\"><span style=\"font-weight: bold\">{</span>\n",
       "    <span style=\"color: #008000; text-decoration-color: #008000\">'overall_lam'</span>: <span style=\"color: #008000; text-decoration-color: #008000\">'0.04873'</span>,\n",
       "    <span style=\"color: #008000; text-decoration-color: #008000\">'lam_std'</span>: <span style=\"color: #008000; text-decoration-color: #008000\">'0.0066'</span>,\n",
       "    <span style=\"color: #008000; text-decoration-color: #008000\">'grid_cost'</span>: <span style=\"color: #008000; text-decoration-color: #008000\">'0.01358'</span>,\n",
       "    <span style=\"color: #008000; text-decoration-color: #008000\">'bias'</span>: <span style=\"color: #008000; text-decoration-color: #008000\">'0.00525'</span>,\n",
       "    <span style=\"color: #008000; text-decoration-color: #008000\">'total_slack'</span>: <span style=\"color: #008000; text-decoration-color: #008000\">'0.01883'</span>,\n",
       "    <span style=\"color: #008000; text-decoration-color: #008000\">'n_tiles'</span>: <span style=\"color: #008080; text-decoration-color: #008080; font-weight: bold\">11183159</span>,\n",
       "    <span style=\"color: #008000; text-decoration-color: #008000\">'n_refine'</span>: <span style=\"color: #008080; text-decoration-color: #008080; font-weight: bold\">10550</span>,\n",
       "    <span style=\"color: #008000; text-decoration-color: #008000\">'n_refine_impossible'</span>: <span style=\"color: #008080; text-decoration-color: #008080; font-weight: bold\">0</span>,\n",
       "    <span style=\"color: #008000; text-decoration-color: #008000\">'n_moresims'</span>: <span style=\"color: #008080; text-decoration-color: #008080; font-weight: bold\">5834</span>,\n",
       "    <span style=\"color: #008000; text-decoration-color: #008000\">'n_moresims_impossible'</span>: <span style=\"color: #008080; text-decoration-color: #008080; font-weight: bold\">0</span>\n",
       "<span style=\"font-weight: bold\">}</span>\n",
       "</pre>\n"
      ],
      "text/plain": [
       "\u001b[1m{\u001b[0m\n",
       "    \u001b[32m'overall_lam'\u001b[0m: \u001b[32m'0.04873'\u001b[0m,\n",
       "    \u001b[32m'lam_std'\u001b[0m: \u001b[32m'0.0066'\u001b[0m,\n",
       "    \u001b[32m'grid_cost'\u001b[0m: \u001b[32m'0.01358'\u001b[0m,\n",
       "    \u001b[32m'bias'\u001b[0m: \u001b[32m'0.00525'\u001b[0m,\n",
       "    \u001b[32m'total_slack'\u001b[0m: \u001b[32m'0.01883'\u001b[0m,\n",
       "    \u001b[32m'n_tiles'\u001b[0m: \u001b[1;36m11183159\u001b[0m,\n",
       "    \u001b[32m'n_refine'\u001b[0m: \u001b[1;36m10550\u001b[0m,\n",
       "    \u001b[32m'n_refine_impossible'\u001b[0m: \u001b[1;36m0\u001b[0m,\n",
       "    \u001b[32m'n_moresims'\u001b[0m: \u001b[1;36m5834\u001b[0m,\n",
       "    \u001b[32m'n_moresims_impossible'\u001b[0m: \u001b[1;36m0\u001b[0m\n",
       "\u001b[1m}\u001b[0m\n"
      ]
     },
     "metadata": {},
     "output_type": "display_data"
    },
    {
     "name": "stdout",
     "output_type": "stream",
     "text": [
      "refinement took 7.81s\n",
      "starting iteration 129 with 243902 tiles to process\n",
      "runtime prediction: 241.82\n",
      "tuning for 2048 simulations with 238068 tiles and batch size (64, 1024)\n",
      "197.3535394668579\n",
      "39.63521456718445\n",
      "tuning for 4096 simulations with 5834 tiles and batch size (64, 1024)\n",
      "9.452295064926147\n",
      "1.4555296897888184\n",
      "step took 249.82s\n",
      "checkpointing took 7.43s\n",
      "tuning for 2048 simulations with 1 tiles and batch size (1, 16384)\n",
      "0.09488844871520996\n",
      "0.27478981018066406\n",
      "criterion took 11.17s\n"
     ]
    },
    {
     "data": {
      "text/html": [
       "<pre style=\"white-space:pre;overflow-x:auto;line-height:normal;font-family:Menlo,'DejaVu Sans Mono',consolas,'Courier New',monospace\"><span style=\"font-weight: bold\">{</span>\n",
       "    <span style=\"color: #008000; text-decoration-color: #008000\">'overall_lam'</span>: <span style=\"color: #008000; text-decoration-color: #008000\">'0.04873'</span>,\n",
       "    <span style=\"color: #008000; text-decoration-color: #008000\">'lam_std'</span>: <span style=\"color: #008000; text-decoration-color: #008000\">'0.0066'</span>,\n",
       "    <span style=\"color: #008000; text-decoration-color: #008000\">'grid_cost'</span>: <span style=\"color: #008000; text-decoration-color: #008000\">'0.01358'</span>,\n",
       "    <span style=\"color: #008000; text-decoration-color: #008000\">'bias'</span>: <span style=\"color: #008000; text-decoration-color: #008000\">'0.00524'</span>,\n",
       "    <span style=\"color: #008000; text-decoration-color: #008000\">'total_slack'</span>: <span style=\"color: #008000; text-decoration-color: #008000\">'0.01882'</span>,\n",
       "    <span style=\"color: #008000; text-decoration-color: #008000\">'n_tiles'</span>: <span style=\"color: #008080; text-decoration-color: #008080; font-weight: bold\">11399403</span>,\n",
       "    <span style=\"color: #008000; text-decoration-color: #008000\">'n_refine'</span>: <span style=\"color: #008080; text-decoration-color: #008080; font-weight: bold\">2705</span>,\n",
       "    <span style=\"color: #008000; text-decoration-color: #008000\">'n_refine_impossible'</span>: <span style=\"color: #008080; text-decoration-color: #008080; font-weight: bold\">0</span>,\n",
       "    <span style=\"color: #008000; text-decoration-color: #008000\">'n_moresims'</span>: <span style=\"color: #008080; text-decoration-color: #008080; font-weight: bold\">13679</span>,\n",
       "    <span style=\"color: #008000; text-decoration-color: #008000\">'n_moresims_impossible'</span>: <span style=\"color: #008080; text-decoration-color: #008080; font-weight: bold\">0</span>\n",
       "<span style=\"font-weight: bold\">}</span>\n",
       "</pre>\n"
      ],
      "text/plain": [
       "\u001b[1m{\u001b[0m\n",
       "    \u001b[32m'overall_lam'\u001b[0m: \u001b[32m'0.04873'\u001b[0m,\n",
       "    \u001b[32m'lam_std'\u001b[0m: \u001b[32m'0.0066'\u001b[0m,\n",
       "    \u001b[32m'grid_cost'\u001b[0m: \u001b[32m'0.01358'\u001b[0m,\n",
       "    \u001b[32m'bias'\u001b[0m: \u001b[32m'0.00524'\u001b[0m,\n",
       "    \u001b[32m'total_slack'\u001b[0m: \u001b[32m'0.01882'\u001b[0m,\n",
       "    \u001b[32m'n_tiles'\u001b[0m: \u001b[1;36m11399403\u001b[0m,\n",
       "    \u001b[32m'n_refine'\u001b[0m: \u001b[1;36m2705\u001b[0m,\n",
       "    \u001b[32m'n_refine_impossible'\u001b[0m: \u001b[1;36m0\u001b[0m,\n",
       "    \u001b[32m'n_moresims'\u001b[0m: \u001b[1;36m13679\u001b[0m,\n",
       "    \u001b[32m'n_moresims_impossible'\u001b[0m: \u001b[1;36m0\u001b[0m\n",
       "\u001b[1m}\u001b[0m\n"
      ]
     },
     "metadata": {},
     "output_type": "display_data"
    },
    {
     "name": "stdout",
     "output_type": "stream",
     "text": [
      "refinement took 12.35s\n",
      "starting iteration 130 with 75863 tiles to process\n",
      "runtime prediction: 89.57\n",
      "tuning for 2048 simulations with 62184 tiles and batch size (64, 1024)\n",
      "51.58075714111328\n",
      "10.490442276000977\n",
      "tuning for 4096 simulations with 13679 tiles and batch size (64, 1024)\n",
      "21.96653151512146\n",
      "3.0932881832122803\n",
      "step took 88.29s\n",
      "checkpointing took 7.01s\n",
      "tuning for 2048 simulations with 1 tiles and batch size (1, 16384)\n",
      "0.09368181228637695\n",
      "0.25615906715393066\n",
      "criterion took 11.25s\n"
     ]
    },
    {
     "data": {
      "text/html": [
       "<pre style=\"white-space:pre;overflow-x:auto;line-height:normal;font-family:Menlo,'DejaVu Sans Mono',consolas,'Courier New',monospace\"><span style=\"font-weight: bold\">{</span>\n",
       "    <span style=\"color: #008000; text-decoration-color: #008000\">'overall_lam'</span>: <span style=\"color: #008000; text-decoration-color: #008000\">'0.04873'</span>,\n",
       "    <span style=\"color: #008000; text-decoration-color: #008000\">'lam_std'</span>: <span style=\"color: #008000; text-decoration-color: #008000\">'0.0066'</span>,\n",
       "    <span style=\"color: #008000; text-decoration-color: #008000\">'grid_cost'</span>: <span style=\"color: #008000; text-decoration-color: #008000\">'0.01358'</span>,\n",
       "    <span style=\"color: #008000; text-decoration-color: #008000\">'bias'</span>: <span style=\"color: #008000; text-decoration-color: #008000\">'0.00524'</span>,\n",
       "    <span style=\"color: #008000; text-decoration-color: #008000\">'total_slack'</span>: <span style=\"color: #008000; text-decoration-color: #008000\">'0.01882'</span>,\n",
       "    <span style=\"color: #008000; text-decoration-color: #008000\">'n_tiles'</span>: <span style=\"color: #008080; text-decoration-color: #008080; font-weight: bold\">11455036</span>,\n",
       "    <span style=\"color: #008000; text-decoration-color: #008000\">'n_refine'</span>: <span style=\"color: #008080; text-decoration-color: #008080; font-weight: bold\">3819</span>,\n",
       "    <span style=\"color: #008000; text-decoration-color: #008000\">'n_refine_impossible'</span>: <span style=\"color: #008080; text-decoration-color: #008080; font-weight: bold\">0</span>,\n",
       "    <span style=\"color: #008000; text-decoration-color: #008000\">'n_moresims'</span>: <span style=\"color: #008080; text-decoration-color: #008080; font-weight: bold\">12565</span>,\n",
       "    <span style=\"color: #008000; text-decoration-color: #008000\">'n_moresims_impossible'</span>: <span style=\"color: #008080; text-decoration-color: #008080; font-weight: bold\">0</span>\n",
       "<span style=\"font-weight: bold\">}</span>\n",
       "</pre>\n"
      ],
      "text/plain": [
       "\u001b[1m{\u001b[0m\n",
       "    \u001b[32m'overall_lam'\u001b[0m: \u001b[32m'0.04873'\u001b[0m,\n",
       "    \u001b[32m'lam_std'\u001b[0m: \u001b[32m'0.0066'\u001b[0m,\n",
       "    \u001b[32m'grid_cost'\u001b[0m: \u001b[32m'0.01358'\u001b[0m,\n",
       "    \u001b[32m'bias'\u001b[0m: \u001b[32m'0.00524'\u001b[0m,\n",
       "    \u001b[32m'total_slack'\u001b[0m: \u001b[32m'0.01882'\u001b[0m,\n",
       "    \u001b[32m'n_tiles'\u001b[0m: \u001b[1;36m11455036\u001b[0m,\n",
       "    \u001b[32m'n_refine'\u001b[0m: \u001b[1;36m3819\u001b[0m,\n",
       "    \u001b[32m'n_refine_impossible'\u001b[0m: \u001b[1;36m0\u001b[0m,\n",
       "    \u001b[32m'n_moresims'\u001b[0m: \u001b[1;36m12565\u001b[0m,\n",
       "    \u001b[32m'n_moresims_impossible'\u001b[0m: \u001b[1;36m0\u001b[0m\n",
       "\u001b[1m}\u001b[0m\n"
      ]
     },
     "metadata": {},
     "output_type": "display_data"
    },
    {
     "name": "stdout",
     "output_type": "stream",
     "text": [
      "refinement took 7.45s\n",
      "starting iteration 131 with 109125 tiles to process\n",
      "runtime prediction: 119.99\n",
      "tuning for 2048 simulations with 96560 tiles and batch size (64, 1024)\n",
      "79.8993809223175\n",
      "14.597189664840698\n",
      "tuning for 4096 simulations with 12565 tiles and batch size (64, 1024)\n"
     ]
    },
    {
     "name": "stderr",
     "output_type": "stream",
     "text": [
      "Bad pipe message: %s [b\"\\x00 \\xde\\xf8\\x8b\\xbc\\x00b\\xd8n\\x9e\\xefH#\\x8d\\xec\\xa4\\xee \\xfcR\\xf5\\xf3\\xe0\\x95D,B\\xc6\\x07\\x92\\xb9\\x01\\xa7\\xd3\\xf0\\x0epo'Xl\\x98\\xcc\\xe7\\xd2\\x16\\x00\\xb2k\\xea\\x00\\x08\\x13\\x02\\x13\\x03\\x13\\x01\\x00\\xff\\x01\\x00\\x00\\x8f\\x00\\x00\\x00\\x0e\\x00\\x0c\\x00\\x00\\t127.0.0.1\\x00\\x0b\\x00\\x04\\x03\\x00\\x01\\x02\\x00\\n\\x00\\x0c\\x00\\n\\x00\\x1d\\x00\\x17\\x00\\x1e\\x00\\x19\\x00\\x18\\x00#\\x00\\x00\\x00\\x16\\x00\\x00\\x00\\x17\\x00\"]\n",
      "Bad pipe message: %s [b'\\xc2(;\\xf0>\\xf7\\xa3o\\x15.\\xfa\\xc5a\\xf7\\x8e\\xc9\\xb5\\x80\\x00\\x00\\xa6\\xc0,\\xc00\\x00\\xa3\\x00\\x9f\\xcc\\xa9\\xcc\\xa8\\xcc\\xaa\\xc0\\xaf\\xc0\\xad\\xc0\\xa3\\xc0\\x9f\\xc0]\\xc0a\\xc0W\\xc0S\\xc0+\\xc0/']\n",
      "Bad pipe message: %s [b'\\xd4\\xe0\\xb5\\x12\\xa5\\x13\\xc3\\x85K\\xed\\xee$l|F\\xf3\\xba\\x91\\x00\\x00\\xa2\\xc0\\x14\\xc0\\n\\x009\\x008\\x007\\x006\\x00\\x88\\x00\\x87\\x00\\x86\\x00\\x85\\xc0\\x19\\x00:\\x00\\x89\\xc0\\x0f\\xc0\\x05\\x005\\x00\\x84\\xc0\\x13\\xc0\\t\\x003\\x002\\x001\\x00']\n",
      "Bad pipe message: %s [b'\\x9a\\x00\\x99\\x00\\x98\\x00\\x97\\x00E\\x00D\\x00C\\x00B\\xc0\\x18\\x004\\x00\\x9b\\x00F\\xc0\\x0e\\xc0\\x04\\x00/\\x00\\x96\\x00A\\x00\\x07\\xc0\\x11\\xc0\\x07\\xc0\\x16\\x00\\x18\\xc0\\x0c\\xc0\\x02']\n",
      "Bad pipe message: %s [b'\\x82\\xec\\xa6\\xa0\\x8cU\\xa9\\x06\\xab\\xf6\\xfd%\\xdd\\x02[\\xb3\\x10\\x1c\\x00\\x00>\\xc0\\x14\\xc0\\n\\x009\\x008\\x007\\x006\\xc0\\x0f\\xc0\\x05\\x005\\xc0\\x13\\xc0\\t\\x003\\x002\\x001\\x000\\xc0\\x0e\\xc0\\x04\\x00/\\x00\\x9a\\x00\\x99\\x00\\x98\\x00\\x97\\x00\\x96\\x00\\x07\\xc0\\x11\\xc0\\x07\\xc0\\x0c\\xc0\\x02\\x00\\x05\\x00\\x04\\x00\\xff\\x02\\x01\\x00\\x00C\\x00\\x00\\x00\\x0e\\x00\\x0c\\x00\\x00\\t127.0.0.1']\n",
      "Bad pipe message: %s [b'\\xf2h\\xda\\xcf\\xc8\\x12HS\\x85 \\xc3b\\xcct\\x1c\\x0e~\\xe7\\x00\\x00\\xa2\\xc0\\x14\\xc0\\n\\x009\\x008\\x007\\x006\\x00\\x88\\x00\\x87\\x00\\x86\\x00\\x85\\xc0\\x19\\x00:\\x00\\x89\\xc0\\x0f\\xc0\\x05\\x005\\x00\\x84']\n",
      "Bad pipe message: %s [b'r\\xcb\\xf0\\xeb\\xd8hB\\x04|vlp\\xf3\\x1d\\x07\\xa2\\xf9\\xd8\\x00\\x00\\xa2\\xc0\\x14\\xc0\\n\\x009\\x008\\x007\\x006\\x00\\x88\\x00\\x87\\x00\\x86\\x00\\x85\\xc0\\x19\\x00:\\x00\\x89']\n",
      "Bad pipe message: %s [b\"\\xaa\\x8b\\xb2\\xac\\x85RJ\\xd0\\x90\\x93\\xe3\\xa6\\xa88\\x91\\x87|:\\x00\\x00\\x86\\xc00\\xc0,\\xc0(\\xc0$\\xc0\\x14\\xc0\\n\\x00\\xa5\\x00\\xa3\\x00\\xa1\\x00\\x9f\\x00k\\x00j\\x00i\\x00h\\x009\\x008\\x007\\x006\\xc02\\xc0.\\xc0*\\xc0&\\xc0\\x0f\\xc0\\x05\\x00\\x9d\\x00=\\x005\\xc0/\\xc0+\\xc0'\\xc0#\\xc0\\x13\\xc0\\t\\x00\\xa4\\x00\\xa2\\x00\\xa0\\x00\\x9e\\x00g\\x00@\\x00?\\x00>\\x003\\x002\\x001\\x000\\xc01\\xc0\", b')\\xc0%\\xc0\\x0e\\xc0\\x04\\x00\\x9c\\x00<\\x00/\\x00\\x9a\\x00\\x99\\x00\\x98\\x00\\x97\\x00\\x96\\x00\\x07\\xc0\\x11\\xc0\\x07\\xc0\\x0c\\xc0\\x02\\x00\\x05\\x00\\x04\\x00\\xff\\x02\\x01\\x00\\x00g']\n",
      "Bad pipe message: %s [b'\\x9b\\xb4\\xb7\\x92\\xc4\\xf6\\x1d$\\xdc\\xa8\\xa7\\x00\\xc0W\\\\(\\xfd\\x1f\\x00\\x00\\xf4\\xc00\\xc0,\\xc0(\\xc0$\\xc0\\x14\\xc0\\n\\x00\\xa5\\x00\\xa3\\x00\\xa1\\x00\\x9f\\x00k\\x00j\\x00i\\x00h\\x009\\x008\\x007\\x006\\x00\\x88\\x00\\x87\\x00\\x86\\x00\\x85\\xc0\\x19\\x00\\xa7\\x00m\\x00:\\x00\\x89\\xc02\\xc0.']\n",
      "Bad pipe message: %s [b\"\\xc0&\\xc0\\x0f\\xc0\\x05\\x00\\x9d\\x00=\\x005\\x00\\x84\\xc0/\\xc0+\\xc0'\\xc0#\\xc0\\x13\\xc0\\t\\x00\\xa4\\x00\\xa2\\x00\\xa0\\x00\\x9e\\x00g\\x00@\\x00?\\x00>\\x003\\x002\\x001\\x000\\x00\\x9a\\x00\\x99\\x00\\x98\\x00\\x97\\x00E\\x00D\\x00C\\x00B\\xc0\\x18\\x00\\xa6\\x00l\\x004\\x00\\x9b\\x00F\\xc01\\xc0-\\xc0)\\xc0%\\xc0\\x0e\\xc0\\x04\\x00\\x9c\\x00<\\x00/\\x00\\x96\\x00A\\x00\\x07\\xc0\\x11\\xc0\\x07\\xc0\\x16\\x00\\x18\\xc0\\x0c\\xc0\\x02\\x00\\x05\\x00\\x04\\xc0\\x12\\xc0\\x08\\x00\\x16\\x00\\x13\\x00\\x10\\x00\\r\\xc0\\x17\\x00\\x1b\\xc0\\r\\xc0\\x03\\x00\\n\\x00\\x15\\x00\\x12\\x00\\x0f\\x00\\x0c\\x00\\x1a\\x00\\t\\x00\\x14\\x00\\x11\\x00\\x19\\x00\\x08\\x00\\x06\\x00\\x17\\x00\\x03\\xc0\\x10\\xc0\\x06\\xc0\\x15\\xc0\\x0b\\xc0\\x01\\x00;\\x00\\x02\\x00\\x01\\x00\\xff\\x02\\x01\\x00\\x00g\\x00\\x00\"]\n"
     ]
    },
    {
     "name": "stdout",
     "output_type": "stream",
     "text": [
      "20.159343957901\n",
      "2.759104013442993\n",
      "step took 118.75s\n",
      "checkpointing took 7.55s\n",
      "tuning for 2048 simulations with 1 tiles and batch size (1, 16384)\n",
      "0.0948643684387207\n",
      "0.26118898391723633\n",
      "criterion took 11.64s\n"
     ]
    },
    {
     "data": {
      "text/html": [
       "<pre style=\"white-space:pre;overflow-x:auto;line-height:normal;font-family:Menlo,'DejaVu Sans Mono',consolas,'Courier New',monospace\"><span style=\"font-weight: bold\">{</span>\n",
       "    <span style=\"color: #008000; text-decoration-color: #008000\">'overall_lam'</span>: <span style=\"color: #008000; text-decoration-color: #008000\">'0.04873'</span>,\n",
       "    <span style=\"color: #008000; text-decoration-color: #008000\">'lam_std'</span>: <span style=\"color: #008000; text-decoration-color: #008000\">'0.0066'</span>,\n",
       "    <span style=\"color: #008000; text-decoration-color: #008000\">'grid_cost'</span>: <span style=\"color: #008000; text-decoration-color: #008000\">'0.01358'</span>,\n",
       "    <span style=\"color: #008000; text-decoration-color: #008000\">'bias'</span>: <span style=\"color: #008000; text-decoration-color: #008000\">'0.00524'</span>,\n",
       "    <span style=\"color: #008000; text-decoration-color: #008000\">'total_slack'</span>: <span style=\"color: #008000; text-decoration-color: #008000\">'0.01882'</span>,\n",
       "    <span style=\"color: #008000; text-decoration-color: #008000\">'n_tiles'</span>: <span style=\"color: #008080; text-decoration-color: #008080; font-weight: bold\">11540230</span>,\n",
       "    <span style=\"color: #008000; text-decoration-color: #008000\">'n_refine'</span>: <span style=\"color: #008080; text-decoration-color: #008080; font-weight: bold\">4754</span>,\n",
       "    <span style=\"color: #008000; text-decoration-color: #008000\">'n_refine_impossible'</span>: <span style=\"color: #008080; text-decoration-color: #008080; font-weight: bold\">0</span>,\n",
       "    <span style=\"color: #008000; text-decoration-color: #008000\">'n_moresims'</span>: <span style=\"color: #008080; text-decoration-color: #008080; font-weight: bold\">11630</span>,\n",
       "    <span style=\"color: #008000; text-decoration-color: #008000\">'n_moresims_impossible'</span>: <span style=\"color: #008080; text-decoration-color: #008080; font-weight: bold\">0</span>\n",
       "<span style=\"font-weight: bold\">}</span>\n",
       "</pre>\n"
      ],
      "text/plain": [
       "\u001b[1m{\u001b[0m\n",
       "    \u001b[32m'overall_lam'\u001b[0m: \u001b[32m'0.04873'\u001b[0m,\n",
       "    \u001b[32m'lam_std'\u001b[0m: \u001b[32m'0.0066'\u001b[0m,\n",
       "    \u001b[32m'grid_cost'\u001b[0m: \u001b[32m'0.01358'\u001b[0m,\n",
       "    \u001b[32m'bias'\u001b[0m: \u001b[32m'0.00524'\u001b[0m,\n",
       "    \u001b[32m'total_slack'\u001b[0m: \u001b[32m'0.01882'\u001b[0m,\n",
       "    \u001b[32m'n_tiles'\u001b[0m: \u001b[1;36m11540230\u001b[0m,\n",
       "    \u001b[32m'n_refine'\u001b[0m: \u001b[1;36m4754\u001b[0m,\n",
       "    \u001b[32m'n_refine_impossible'\u001b[0m: \u001b[1;36m0\u001b[0m,\n",
       "    \u001b[32m'n_moresims'\u001b[0m: \u001b[1;36m11630\u001b[0m,\n",
       "    \u001b[32m'n_moresims_impossible'\u001b[0m: \u001b[1;36m0\u001b[0m\n",
       "\u001b[1m}\u001b[0m\n"
      ]
     },
     "metadata": {},
     "output_type": "display_data"
    },
    {
     "name": "stdout",
     "output_type": "stream",
     "text": [
      "refinement took 7.91s\n",
      "starting iteration 132 with 115826 tiles to process\n",
      "runtime prediction: 124.38\n",
      "tuning for 2048 simulations with 104196 tiles and batch size (64, 1024)\n",
      "85.90844917297363\n",
      "15.653781175613403\n",
      "tuning for 4096 simulations with 11630 tiles and batch size (64, 1024)\n",
      "18.610960960388184\n",
      "2.6488096714019775\n",
      "step took 124.18s\n",
      "checkpointing took 8.31s\n",
      "tuning for 2048 simulations with 1 tiles and batch size (1, 16384)\n",
      "0.09390139579772949\n",
      "0.2635467052459717\n",
      "criterion took 14.06s\n"
     ]
    },
    {
     "data": {
      "text/html": [
       "<pre style=\"white-space:pre;overflow-x:auto;line-height:normal;font-family:Menlo,'DejaVu Sans Mono',consolas,'Courier New',monospace\"><span style=\"font-weight: bold\">{</span>\n",
       "    <span style=\"color: #008000; text-decoration-color: #008000\">'overall_lam'</span>: <span style=\"color: #008000; text-decoration-color: #008000\">'0.04873'</span>,\n",
       "    <span style=\"color: #008000; text-decoration-color: #008000\">'lam_std'</span>: <span style=\"color: #008000; text-decoration-color: #008000\">'0.0067'</span>,\n",
       "    <span style=\"color: #008000; text-decoration-color: #008000\">'grid_cost'</span>: <span style=\"color: #008000; text-decoration-color: #008000\">'0.01358'</span>,\n",
       "    <span style=\"color: #008000; text-decoration-color: #008000\">'bias'</span>: <span style=\"color: #008000; text-decoration-color: #008000\">'0.00524'</span>,\n",
       "    <span style=\"color: #008000; text-decoration-color: #008000\">'total_slack'</span>: <span style=\"color: #008000; text-decoration-color: #008000\">'0.01882'</span>,\n",
       "    <span style=\"color: #008000; text-decoration-color: #008000\">'n_tiles'</span>: <span style=\"color: #008080; text-decoration-color: #008080; font-weight: bold\">11635330</span>,\n",
       "    <span style=\"color: #008000; text-decoration-color: #008000\">'n_refine'</span>: <span style=\"color: #008080; text-decoration-color: #008080; font-weight: bold\">3421</span>,\n",
       "    <span style=\"color: #008000; text-decoration-color: #008000\">'n_refine_impossible'</span>: <span style=\"color: #008080; text-decoration-color: #008080; font-weight: bold\">0</span>,\n",
       "    <span style=\"color: #008000; text-decoration-color: #008000\">'n_moresims'</span>: <span style=\"color: #008080; text-decoration-color: #008080; font-weight: bold\">12963</span>,\n",
       "    <span style=\"color: #008000; text-decoration-color: #008000\">'n_moresims_impossible'</span>: <span style=\"color: #008080; text-decoration-color: #008080; font-weight: bold\">0</span>\n",
       "<span style=\"font-weight: bold\">}</span>\n",
       "</pre>\n"
      ],
      "text/plain": [
       "\u001b[1m{\u001b[0m\n",
       "    \u001b[32m'overall_lam'\u001b[0m: \u001b[32m'0.04873'\u001b[0m,\n",
       "    \u001b[32m'lam_std'\u001b[0m: \u001b[32m'0.0067'\u001b[0m,\n",
       "    \u001b[32m'grid_cost'\u001b[0m: \u001b[32m'0.01358'\u001b[0m,\n",
       "    \u001b[32m'bias'\u001b[0m: \u001b[32m'0.00524'\u001b[0m,\n",
       "    \u001b[32m'total_slack'\u001b[0m: \u001b[32m'0.01882'\u001b[0m,\n",
       "    \u001b[32m'n_tiles'\u001b[0m: \u001b[1;36m11635330\u001b[0m,\n",
       "    \u001b[32m'n_refine'\u001b[0m: \u001b[1;36m3421\u001b[0m,\n",
       "    \u001b[32m'n_refine_impossible'\u001b[0m: \u001b[1;36m0\u001b[0m,\n",
       "    \u001b[32m'n_moresims'\u001b[0m: \u001b[1;36m12963\u001b[0m,\n",
       "    \u001b[32m'n_moresims_impossible'\u001b[0m: \u001b[1;36m0\u001b[0m\n",
       "\u001b[1m}\u001b[0m\n"
      ]
     },
     "metadata": {},
     "output_type": "display_data"
    },
    {
     "name": "stdout",
     "output_type": "stream",
     "text": [
      "refinement took 9.24s\n",
      "starting iteration 133 with 77571 tiles to process\n",
      "runtime prediction: 88.20\n",
      "tuning for 2048 simulations with 64608 tiles and batch size (64, 1024)\n",
      "54.77169442176819\n",
      "10.467864513397217\n",
      "tuning for 4096 simulations with 12963 tiles and batch size (64, 1024)\n",
      "20.813146829605103\n",
      "2.8315486907958984\n",
      "step took 90.04s\n",
      "checkpointing took 7.31s\n",
      "tuning for 2048 simulations with 1 tiles and batch size (1, 16384)\n",
      "0.09694790840148926\n",
      "0.2661004066467285\n",
      "criterion took 11.47s\n"
     ]
    },
    {
     "data": {
      "text/html": [
       "<pre style=\"white-space:pre;overflow-x:auto;line-height:normal;font-family:Menlo,'DejaVu Sans Mono',consolas,'Courier New',monospace\"><span style=\"font-weight: bold\">{</span>\n",
       "    <span style=\"color: #008000; text-decoration-color: #008000\">'overall_lam'</span>: <span style=\"color: #008000; text-decoration-color: #008000\">'0.04873'</span>,\n",
       "    <span style=\"color: #008000; text-decoration-color: #008000\">'lam_std'</span>: <span style=\"color: #008000; text-decoration-color: #008000\">'0.0067'</span>,\n",
       "    <span style=\"color: #008000; text-decoration-color: #008000\">'grid_cost'</span>: <span style=\"color: #008000; text-decoration-color: #008000\">'0.01358'</span>,\n",
       "    <span style=\"color: #008000; text-decoration-color: #008000\">'bias'</span>: <span style=\"color: #008000; text-decoration-color: #008000\">'0.00524'</span>,\n",
       "    <span style=\"color: #008000; text-decoration-color: #008000\">'total_slack'</span>: <span style=\"color: #008000; text-decoration-color: #008000\">'0.01882'</span>,\n",
       "    <span style=\"color: #008000; text-decoration-color: #008000\">'n_tiles'</span>: <span style=\"color: #008080; text-decoration-color: #008080; font-weight: bold\">11695115</span>,\n",
       "    <span style=\"color: #008000; text-decoration-color: #008000\">'n_refine'</span>: <span style=\"color: #008080; text-decoration-color: #008080; font-weight: bold\">2449</span>,\n",
       "    <span style=\"color: #008000; text-decoration-color: #008000\">'n_refine_impossible'</span>: <span style=\"color: #008080; text-decoration-color: #008080; font-weight: bold\">0</span>,\n",
       "    <span style=\"color: #008000; text-decoration-color: #008000\">'n_moresims'</span>: <span style=\"color: #008080; text-decoration-color: #008080; font-weight: bold\">13935</span>,\n",
       "    <span style=\"color: #008000; text-decoration-color: #008000\">'n_moresims_impossible'</span>: <span style=\"color: #008080; text-decoration-color: #008080; font-weight: bold\">0</span>\n",
       "<span style=\"font-weight: bold\">}</span>\n",
       "</pre>\n"
      ],
      "text/plain": [
       "\u001b[1m{\u001b[0m\n",
       "    \u001b[32m'overall_lam'\u001b[0m: \u001b[32m'0.04873'\u001b[0m,\n",
       "    \u001b[32m'lam_std'\u001b[0m: \u001b[32m'0.0067'\u001b[0m,\n",
       "    \u001b[32m'grid_cost'\u001b[0m: \u001b[32m'0.01358'\u001b[0m,\n",
       "    \u001b[32m'bias'\u001b[0m: \u001b[32m'0.00524'\u001b[0m,\n",
       "    \u001b[32m'total_slack'\u001b[0m: \u001b[32m'0.01882'\u001b[0m,\n",
       "    \u001b[32m'n_tiles'\u001b[0m: \u001b[1;36m11695115\u001b[0m,\n",
       "    \u001b[32m'n_refine'\u001b[0m: \u001b[1;36m2449\u001b[0m,\n",
       "    \u001b[32m'n_refine_impossible'\u001b[0m: \u001b[1;36m0\u001b[0m,\n",
       "    \u001b[32m'n_moresims'\u001b[0m: \u001b[1;36m13935\u001b[0m,\n",
       "    \u001b[32m'n_moresims_impossible'\u001b[0m: \u001b[1;36m0\u001b[0m\n",
       "\u001b[1m}\u001b[0m\n"
      ]
     },
     "metadata": {},
     "output_type": "display_data"
    },
    {
     "name": "stdout",
     "output_type": "stream",
     "text": [
      "refinement took 7.36s\n",
      "starting iteration 134 with 56439 tiles to process\n",
      "runtime prediction: 69.99\n",
      "tuning for 2048 simulations with 42504 tiles and batch size (64, 1024)\n",
      "35.072375535964966\n",
      "6.5060834884643555\n",
      "tuning for 4096 simulations with 13935 tiles and batch size (64, 1024)\n",
      "22.303184032440186\n",
      "3.0821940898895264\n",
      "step took 67.97s\n",
      "checkpointing took 7.51s\n",
      "tuning for 2048 simulations with 1 tiles and batch size (1, 16384)\n",
      "0.0812070369720459\n",
      "0.25762462615966797\n",
      "criterion took 12.13s\n"
     ]
    },
    {
     "data": {
      "text/html": [
       "<pre style=\"white-space:pre;overflow-x:auto;line-height:normal;font-family:Menlo,'DejaVu Sans Mono',consolas,'Courier New',monospace\"><span style=\"font-weight: bold\">{</span>\n",
       "    <span style=\"color: #008000; text-decoration-color: #008000\">'overall_lam'</span>: <span style=\"color: #008000; text-decoration-color: #008000\">'0.04873'</span>,\n",
       "    <span style=\"color: #008000; text-decoration-color: #008000\">'lam_std'</span>: <span style=\"color: #008000; text-decoration-color: #008000\">'0.0067'</span>,\n",
       "    <span style=\"color: #008000; text-decoration-color: #008000\">'grid_cost'</span>: <span style=\"color: #008000; text-decoration-color: #008000\">'0.01358'</span>,\n",
       "    <span style=\"color: #008000; text-decoration-color: #008000\">'bias'</span>: <span style=\"color: #008000; text-decoration-color: #008000\">'0.00524'</span>,\n",
       "    <span style=\"color: #008000; text-decoration-color: #008000\">'total_slack'</span>: <span style=\"color: #008000; text-decoration-color: #008000\">'0.01882'</span>,\n",
       "    <span style=\"color: #008000; text-decoration-color: #008000\">'n_tiles'</span>: <span style=\"color: #008080; text-decoration-color: #008080; font-weight: bold\">11734587</span>,\n",
       "    <span style=\"color: #008000; text-decoration-color: #008000\">'n_refine'</span>: <span style=\"color: #008080; text-decoration-color: #008080; font-weight: bold\">2614</span>,\n",
       "    <span style=\"color: #008000; text-decoration-color: #008000\">'n_refine_impossible'</span>: <span style=\"color: #008080; text-decoration-color: #008080; font-weight: bold\">0</span>,\n",
       "    <span style=\"color: #008000; text-decoration-color: #008000\">'n_moresims'</span>: <span style=\"color: #008080; text-decoration-color: #008080; font-weight: bold\">13770</span>,\n",
       "    <span style=\"color: #008000; text-decoration-color: #008000\">'n_moresims_impossible'</span>: <span style=\"color: #008080; text-decoration-color: #008080; font-weight: bold\">0</span>\n",
       "<span style=\"font-weight: bold\">}</span>\n",
       "</pre>\n"
      ],
      "text/plain": [
       "\u001b[1m{\u001b[0m\n",
       "    \u001b[32m'overall_lam'\u001b[0m: \u001b[32m'0.04873'\u001b[0m,\n",
       "    \u001b[32m'lam_std'\u001b[0m: \u001b[32m'0.0067'\u001b[0m,\n",
       "    \u001b[32m'grid_cost'\u001b[0m: \u001b[32m'0.01358'\u001b[0m,\n",
       "    \u001b[32m'bias'\u001b[0m: \u001b[32m'0.00524'\u001b[0m,\n",
       "    \u001b[32m'total_slack'\u001b[0m: \u001b[32m'0.01882'\u001b[0m,\n",
       "    \u001b[32m'n_tiles'\u001b[0m: \u001b[1;36m11734587\u001b[0m,\n",
       "    \u001b[32m'n_refine'\u001b[0m: \u001b[1;36m2614\u001b[0m,\n",
       "    \u001b[32m'n_refine_impossible'\u001b[0m: \u001b[1;36m0\u001b[0m,\n",
       "    \u001b[32m'n_moresims'\u001b[0m: \u001b[1;36m13770\u001b[0m,\n",
       "    \u001b[32m'n_moresims_impossible'\u001b[0m: \u001b[1;36m0\u001b[0m\n",
       "\u001b[1m}\u001b[0m\n"
      ]
     },
     "metadata": {},
     "output_type": "display_data"
    },
    {
     "name": "stdout",
     "output_type": "stream",
     "text": [
      "refinement took 15.77s\n",
      "starting iteration 135 with 68318 tiles to process\n",
      "runtime prediction: 79.28\n",
      "tuning for 2048 simulations with 54548 tiles and batch size (64, 1024)\n",
      "45.056532859802246\n",
      "8.331151485443115\n",
      "tuning for 4096 simulations with 13770 tiles and batch size (64, 1024)\n",
      "22.127875328063965\n",
      "3.0028235912323\n",
      "step took 79.62s\n",
      "checkpointing took 7.49s\n",
      "tuning for 2048 simulations with 1 tiles and batch size (1, 16384)\n",
      "0.1012732982635498\n",
      "0.2705380916595459\n",
      "criterion took 12.00s\n"
     ]
    },
    {
     "data": {
      "text/html": [
       "<pre style=\"white-space:pre;overflow-x:auto;line-height:normal;font-family:Menlo,'DejaVu Sans Mono',consolas,'Courier New',monospace\"><span style=\"font-weight: bold\">{</span>\n",
       "    <span style=\"color: #008000; text-decoration-color: #008000\">'overall_lam'</span>: <span style=\"color: #008000; text-decoration-color: #008000\">'0.04873'</span>,\n",
       "    <span style=\"color: #008000; text-decoration-color: #008000\">'lam_std'</span>: <span style=\"color: #008000; text-decoration-color: #008000\">'0.0067'</span>,\n",
       "    <span style=\"color: #008000; text-decoration-color: #008000\">'grid_cost'</span>: <span style=\"color: #008000; text-decoration-color: #008000\">'0.01358'</span>,\n",
       "    <span style=\"color: #008000; text-decoration-color: #008000\">'bias'</span>: <span style=\"color: #008000; text-decoration-color: #008000\">'0.00524'</span>,\n",
       "    <span style=\"color: #008000; text-decoration-color: #008000\">'total_slack'</span>: <span style=\"color: #008000; text-decoration-color: #008000\">'0.01882'</span>,\n",
       "    <span style=\"color: #008000; text-decoration-color: #008000\">'n_tiles'</span>: <span style=\"color: #008080; text-decoration-color: #008080; font-weight: bold\">11784769</span>,\n",
       "    <span style=\"color: #008000; text-decoration-color: #008000\">'n_refine'</span>: <span style=\"color: #008080; text-decoration-color: #008080; font-weight: bold\">4440</span>,\n",
       "    <span style=\"color: #008000; text-decoration-color: #008000\">'n_refine_impossible'</span>: <span style=\"color: #008080; text-decoration-color: #008080; font-weight: bold\">0</span>,\n",
       "    <span style=\"color: #008000; text-decoration-color: #008000\">'n_moresims'</span>: <span style=\"color: #008080; text-decoration-color: #008080; font-weight: bold\">11944</span>,\n",
       "    <span style=\"color: #008000; text-decoration-color: #008000\">'n_moresims_impossible'</span>: <span style=\"color: #008080; text-decoration-color: #008080; font-weight: bold\">0</span>\n",
       "<span style=\"font-weight: bold\">}</span>\n",
       "</pre>\n"
      ],
      "text/plain": [
       "\u001b[1m{\u001b[0m\n",
       "    \u001b[32m'overall_lam'\u001b[0m: \u001b[32m'0.04873'\u001b[0m,\n",
       "    \u001b[32m'lam_std'\u001b[0m: \u001b[32m'0.0067'\u001b[0m,\n",
       "    \u001b[32m'grid_cost'\u001b[0m: \u001b[32m'0.01358'\u001b[0m,\n",
       "    \u001b[32m'bias'\u001b[0m: \u001b[32m'0.00524'\u001b[0m,\n",
       "    \u001b[32m'total_slack'\u001b[0m: \u001b[32m'0.01882'\u001b[0m,\n",
       "    \u001b[32m'n_tiles'\u001b[0m: \u001b[1;36m11784769\u001b[0m,\n",
       "    \u001b[32m'n_refine'\u001b[0m: \u001b[1;36m4440\u001b[0m,\n",
       "    \u001b[32m'n_refine_impossible'\u001b[0m: \u001b[1;36m0\u001b[0m,\n",
       "    \u001b[32m'n_moresims'\u001b[0m: \u001b[1;36m11944\u001b[0m,\n",
       "    \u001b[32m'n_moresims_impossible'\u001b[0m: \u001b[1;36m0\u001b[0m\n",
       "\u001b[1m}\u001b[0m\n"
      ]
     },
     "metadata": {},
     "output_type": "display_data"
    },
    {
     "name": "stdout",
     "output_type": "stream",
     "text": [
      "refinement took 8.13s\n",
      "starting iteration 136 with 113612 tiles to process\n",
      "runtime prediction: 121.78\n",
      "tuning for 2048 simulations with 101668 tiles and batch size (64, 1024)\n",
      "83.92931365966797\n",
      "15.192634105682373\n",
      "tuning for 4096 simulations with 11944 tiles and batch size (64, 1024)\n",
      "19.135734796524048\n",
      "2.622493267059326\n",
      "step took 122.23s\n",
      "checkpointing took 7.59s\n",
      "tuning for 2048 simulations with 1 tiles and batch size (1, 16384)\n",
      "0.05370068550109863\n",
      "0.2593722343444824\n",
      "criterion took 11.51s\n"
     ]
    },
    {
     "data": {
      "text/html": [
       "<pre style=\"white-space:pre;overflow-x:auto;line-height:normal;font-family:Menlo,'DejaVu Sans Mono',consolas,'Courier New',monospace\"><span style=\"font-weight: bold\">{</span>\n",
       "    <span style=\"color: #008000; text-decoration-color: #008000\">'overall_lam'</span>: <span style=\"color: #008000; text-decoration-color: #008000\">'0.04873'</span>,\n",
       "    <span style=\"color: #008000; text-decoration-color: #008000\">'lam_std'</span>: <span style=\"color: #008000; text-decoration-color: #008000\">'0.0067'</span>,\n",
       "    <span style=\"color: #008000; text-decoration-color: #008000\">'grid_cost'</span>: <span style=\"color: #008000; text-decoration-color: #008000\">'0.01358'</span>,\n",
       "    <span style=\"color: #008000; text-decoration-color: #008000\">'bias'</span>: <span style=\"color: #008000; text-decoration-color: #008000\">'0.00524'</span>,\n",
       "    <span style=\"color: #008000; text-decoration-color: #008000\">'total_slack'</span>: <span style=\"color: #008000; text-decoration-color: #008000\">'0.01882'</span>,\n",
       "    <span style=\"color: #008000; text-decoration-color: #008000\">'n_tiles'</span>: <span style=\"color: #008080; text-decoration-color: #008080; font-weight: bold\">11876248</span>,\n",
       "    <span style=\"color: #008000; text-decoration-color: #008000\">'n_refine'</span>: <span style=\"color: #008080; text-decoration-color: #008080; font-weight: bold\">8048</span>,\n",
       "    <span style=\"color: #008000; text-decoration-color: #008000\">'n_refine_impossible'</span>: <span style=\"color: #008080; text-decoration-color: #008080; font-weight: bold\">0</span>,\n",
       "    <span style=\"color: #008000; text-decoration-color: #008000\">'n_moresims'</span>: <span style=\"color: #008080; text-decoration-color: #008080; font-weight: bold\">8336</span>,\n",
       "    <span style=\"color: #008000; text-decoration-color: #008000\">'n_moresims_impossible'</span>: <span style=\"color: #008080; text-decoration-color: #008080; font-weight: bold\">0</span>\n",
       "<span style=\"font-weight: bold\">}</span>\n",
       "</pre>\n"
      ],
      "text/plain": [
       "\u001b[1m{\u001b[0m\n",
       "    \u001b[32m'overall_lam'\u001b[0m: \u001b[32m'0.04873'\u001b[0m,\n",
       "    \u001b[32m'lam_std'\u001b[0m: \u001b[32m'0.0067'\u001b[0m,\n",
       "    \u001b[32m'grid_cost'\u001b[0m: \u001b[32m'0.01358'\u001b[0m,\n",
       "    \u001b[32m'bias'\u001b[0m: \u001b[32m'0.00524'\u001b[0m,\n",
       "    \u001b[32m'total_slack'\u001b[0m: \u001b[32m'0.01882'\u001b[0m,\n",
       "    \u001b[32m'n_tiles'\u001b[0m: \u001b[1;36m11876248\u001b[0m,\n",
       "    \u001b[32m'n_refine'\u001b[0m: \u001b[1;36m8048\u001b[0m,\n",
       "    \u001b[32m'n_refine_impossible'\u001b[0m: \u001b[1;36m0\u001b[0m,\n",
       "    \u001b[32m'n_moresims'\u001b[0m: \u001b[1;36m8336\u001b[0m,\n",
       "    \u001b[32m'n_moresims_impossible'\u001b[0m: \u001b[1;36m0\u001b[0m\n",
       "\u001b[1m}\u001b[0m\n"
      ]
     },
     "metadata": {},
     "output_type": "display_data"
    },
    {
     "name": "stdout",
     "output_type": "stream",
     "text": [
      "refinement took 7.77s\n",
      "starting iteration 137 with 186132 tiles to process\n",
      "runtime prediction: 189.31\n",
      "tuning for 2048 simulations with 177796 tiles and batch size (64, 1024)\n",
      "148.43761324882507\n",
      "27.255930423736572\n",
      "tuning for 4096 simulations with 8336 tiles and batch size (64, 1024)\n",
      "13.465358257293701\n",
      "1.9849934577941895\n",
      "step took 192.90s\n",
      "checkpointing took 7.61s\n",
      "tuning for 2048 simulations with 1 tiles and batch size (1, 16384)\n",
      "0.0850679874420166\n",
      "0.26450538635253906\n",
      "criterion took 12.00s\n"
     ]
    },
    {
     "data": {
      "text/html": [
       "<pre style=\"white-space:pre;overflow-x:auto;line-height:normal;font-family:Menlo,'DejaVu Sans Mono',consolas,'Courier New',monospace\"><span style=\"font-weight: bold\">{</span>\n",
       "    <span style=\"color: #008000; text-decoration-color: #008000\">'overall_lam'</span>: <span style=\"color: #008000; text-decoration-color: #008000\">'0.04873'</span>,\n",
       "    <span style=\"color: #008000; text-decoration-color: #008000\">'lam_std'</span>: <span style=\"color: #008000; text-decoration-color: #008000\">'0.0067'</span>,\n",
       "    <span style=\"color: #008000; text-decoration-color: #008000\">'grid_cost'</span>: <span style=\"color: #008000; text-decoration-color: #008000\">'0.01358'</span>,\n",
       "    <span style=\"color: #008000; text-decoration-color: #008000\">'bias'</span>: <span style=\"color: #008000; text-decoration-color: #008000\">'0.00520'</span>,\n",
       "    <span style=\"color: #008000; text-decoration-color: #008000\">'total_slack'</span>: <span style=\"color: #008000; text-decoration-color: #008000\">'0.01877'</span>,\n",
       "    <span style=\"color: #008000; text-decoration-color: #008000\">'n_tiles'</span>: <span style=\"color: #008080; text-decoration-color: #008080; font-weight: bold\">12037596</span>,\n",
       "    <span style=\"color: #008000; text-decoration-color: #008000\">'n_refine'</span>: <span style=\"color: #008080; text-decoration-color: #008080; font-weight: bold\">8177</span>,\n",
       "    <span style=\"color: #008000; text-decoration-color: #008000\">'n_refine_impossible'</span>: <span style=\"color: #008080; text-decoration-color: #008080; font-weight: bold\">0</span>,\n",
       "    <span style=\"color: #008000; text-decoration-color: #008000\">'n_moresims'</span>: <span style=\"color: #008080; text-decoration-color: #008080; font-weight: bold\">8207</span>,\n",
       "    <span style=\"color: #008000; text-decoration-color: #008000\">'n_moresims_impossible'</span>: <span style=\"color: #008080; text-decoration-color: #008080; font-weight: bold\">0</span>\n",
       "<span style=\"font-weight: bold\">}</span>\n",
       "</pre>\n"
      ],
      "text/plain": [
       "\u001b[1m{\u001b[0m\n",
       "    \u001b[32m'overall_lam'\u001b[0m: \u001b[32m'0.04873'\u001b[0m,\n",
       "    \u001b[32m'lam_std'\u001b[0m: \u001b[32m'0.0067'\u001b[0m,\n",
       "    \u001b[32m'grid_cost'\u001b[0m: \u001b[32m'0.01358'\u001b[0m,\n",
       "    \u001b[32m'bias'\u001b[0m: \u001b[32m'0.00520'\u001b[0m,\n",
       "    \u001b[32m'total_slack'\u001b[0m: \u001b[32m'0.01877'\u001b[0m,\n",
       "    \u001b[32m'n_tiles'\u001b[0m: \u001b[1;36m12037596\u001b[0m,\n",
       "    \u001b[32m'n_refine'\u001b[0m: \u001b[1;36m8177\u001b[0m,\n",
       "    \u001b[32m'n_refine_impossible'\u001b[0m: \u001b[1;36m0\u001b[0m,\n",
       "    \u001b[32m'n_moresims'\u001b[0m: \u001b[1;36m8207\u001b[0m,\n",
       "    \u001b[32m'n_moresims_impossible'\u001b[0m: \u001b[1;36m0\u001b[0m\n",
       "\u001b[1m}\u001b[0m\n"
      ]
     },
     "metadata": {},
     "output_type": "display_data"
    },
    {
     "name": "stdout",
     "output_type": "stream",
     "text": [
      "refinement took 8.08s\n",
      "starting iteration 138 with 192903 tiles to process\n",
      "runtime prediction: 199.49\n",
      "tuning for 2048 simulations with 184696 tiles and batch size (64, 1024)\n",
      "153.5243170261383\n",
      "27.75261902809143\n",
      "tuning for 4096 simulations with 8207 tiles and batch size (64, 1024)\n",
      "13.251951932907104\n",
      "1.896531105041504\n",
      "step took 198.36s\n",
      "checkpointing took 7.44s\n",
      "tuning for 2048 simulations with 1 tiles and batch size (1, 16384)\n",
      "0.08052206039428711\n",
      "0.2706177234649658\n",
      "criterion took 13.08s\n"
     ]
    },
    {
     "data": {
      "text/html": [
       "<pre style=\"white-space:pre;overflow-x:auto;line-height:normal;font-family:Menlo,'DejaVu Sans Mono',consolas,'Courier New',monospace\"><span style=\"font-weight: bold\">{</span>\n",
       "    <span style=\"color: #008000; text-decoration-color: #008000\">'overall_lam'</span>: <span style=\"color: #008000; text-decoration-color: #008000\">'0.04967'</span>,\n",
       "    <span style=\"color: #008000; text-decoration-color: #008000\">'lam_std'</span>: <span style=\"color: #008000; text-decoration-color: #008000\">'0.0068'</span>,\n",
       "    <span style=\"color: #008000; text-decoration-color: #008000\">'grid_cost'</span>: <span style=\"color: #008000; text-decoration-color: #008000\">'0.01368'</span>,\n",
       "    <span style=\"color: #008000; text-decoration-color: #008000\">'bias'</span>: <span style=\"color: #008000; text-decoration-color: #008000\">'0.00637'</span>,\n",
       "    <span style=\"color: #008000; text-decoration-color: #008000\">'total_slack'</span>: <span style=\"color: #008000; text-decoration-color: #008000\">'0.02004'</span>,\n",
       "    <span style=\"color: #008000; text-decoration-color: #008000\">'n_tiles'</span>: <span style=\"color: #008080; text-decoration-color: #008080; font-weight: bold\">12205297</span>,\n",
       "    <span style=\"color: #008000; text-decoration-color: #008000\">'n_refine'</span>: <span style=\"color: #008080; text-decoration-color: #008080; font-weight: bold\">2993</span>,\n",
       "    <span style=\"color: #008000; text-decoration-color: #008000\">'n_refine_impossible'</span>: <span style=\"color: #008080; text-decoration-color: #008080; font-weight: bold\">0</span>,\n",
       "    <span style=\"color: #008000; text-decoration-color: #008000\">'n_moresims'</span>: <span style=\"color: #008080; text-decoration-color: #008080; font-weight: bold\">13391</span>,\n",
       "    <span style=\"color: #008000; text-decoration-color: #008000\">'n_moresims_impossible'</span>: <span style=\"color: #008080; text-decoration-color: #008080; font-weight: bold\">0</span>\n",
       "<span style=\"font-weight: bold\">}</span>\n",
       "</pre>\n"
      ],
      "text/plain": [
       "\u001b[1m{\u001b[0m\n",
       "    \u001b[32m'overall_lam'\u001b[0m: \u001b[32m'0.04967'\u001b[0m,\n",
       "    \u001b[32m'lam_std'\u001b[0m: \u001b[32m'0.0068'\u001b[0m,\n",
       "    \u001b[32m'grid_cost'\u001b[0m: \u001b[32m'0.01368'\u001b[0m,\n",
       "    \u001b[32m'bias'\u001b[0m: \u001b[32m'0.00637'\u001b[0m,\n",
       "    \u001b[32m'total_slack'\u001b[0m: \u001b[32m'0.02004'\u001b[0m,\n",
       "    \u001b[32m'n_tiles'\u001b[0m: \u001b[1;36m12205297\u001b[0m,\n",
       "    \u001b[32m'n_refine'\u001b[0m: \u001b[1;36m2993\u001b[0m,\n",
       "    \u001b[32m'n_refine_impossible'\u001b[0m: \u001b[1;36m0\u001b[0m,\n",
       "    \u001b[32m'n_moresims'\u001b[0m: \u001b[1;36m13391\u001b[0m,\n",
       "    \u001b[32m'n_moresims_impossible'\u001b[0m: \u001b[1;36m0\u001b[0m\n",
       "\u001b[1m}\u001b[0m\n"
      ]
     },
     "metadata": {},
     "output_type": "display_data"
    },
    {
     "name": "stdout",
     "output_type": "stream",
     "text": [
      "refinement took 8.92s\n",
      "starting iteration 139 with 71015 tiles to process\n",
      "runtime prediction: 83.25\n",
      "tuning for 2048 simulations with 57624 tiles and batch size (64, 1024)\n",
      "47.61862897872925\n",
      "8.893636226654053\n",
      "tuning for 4096 simulations with 13391 tiles and batch size (64, 1024)\n",
      "21.528321266174316\n",
      "2.9316935539245605\n",
      "step took 82.08s\n",
      "checkpointing took 7.94s\n",
      "tuning for 2048 simulations with 1 tiles and batch size (1, 16384)\n",
      "0.0798349380493164\n",
      "0.25830745697021484\n",
      "criterion took 12.39s\n"
     ]
    },
    {
     "data": {
      "text/html": [
       "<pre style=\"white-space:pre;overflow-x:auto;line-height:normal;font-family:Menlo,'DejaVu Sans Mono',consolas,'Courier New',monospace\"><span style=\"font-weight: bold\">{</span>\n",
       "    <span style=\"color: #008000; text-decoration-color: #008000\">'overall_lam'</span>: <span style=\"color: #008000; text-decoration-color: #008000\">'0.04967'</span>,\n",
       "    <span style=\"color: #008000; text-decoration-color: #008000\">'lam_std'</span>: <span style=\"color: #008000; text-decoration-color: #008000\">'0.0068'</span>,\n",
       "    <span style=\"color: #008000; text-decoration-color: #008000\">'grid_cost'</span>: <span style=\"color: #008000; text-decoration-color: #008000\">'0.01368'</span>,\n",
       "    <span style=\"color: #008000; text-decoration-color: #008000\">'bias'</span>: <span style=\"color: #008000; text-decoration-color: #008000\">'0.00637'</span>,\n",
       "    <span style=\"color: #008000; text-decoration-color: #008000\">'total_slack'</span>: <span style=\"color: #008000; text-decoration-color: #008000\">'0.02004'</span>,\n",
       "    <span style=\"color: #008000; text-decoration-color: #008000\">'n_tiles'</span>: <span style=\"color: #008080; text-decoration-color: #008080; font-weight: bold\">12258375</span>,\n",
       "    <span style=\"color: #008000; text-decoration-color: #008000\">'n_refine'</span>: <span style=\"color: #008080; text-decoration-color: #008080; font-weight: bold\">1227</span>,\n",
       "    <span style=\"color: #008000; text-decoration-color: #008000\">'n_refine_impossible'</span>: <span style=\"color: #008080; text-decoration-color: #008080; font-weight: bold\">0</span>,\n",
       "    <span style=\"color: #008000; text-decoration-color: #008000\">'n_moresims'</span>: <span style=\"color: #008080; text-decoration-color: #008080; font-weight: bold\">15157</span>,\n",
       "    <span style=\"color: #008000; text-decoration-color: #008000\">'n_moresims_impossible'</span>: <span style=\"color: #008080; text-decoration-color: #008080; font-weight: bold\">0</span>\n",
       "<span style=\"font-weight: bold\">}</span>\n",
       "</pre>\n"
      ],
      "text/plain": [
       "\u001b[1m{\u001b[0m\n",
       "    \u001b[32m'overall_lam'\u001b[0m: \u001b[32m'0.04967'\u001b[0m,\n",
       "    \u001b[32m'lam_std'\u001b[0m: \u001b[32m'0.0068'\u001b[0m,\n",
       "    \u001b[32m'grid_cost'\u001b[0m: \u001b[32m'0.01368'\u001b[0m,\n",
       "    \u001b[32m'bias'\u001b[0m: \u001b[32m'0.00637'\u001b[0m,\n",
       "    \u001b[32m'total_slack'\u001b[0m: \u001b[32m'0.02004'\u001b[0m,\n",
       "    \u001b[32m'n_tiles'\u001b[0m: \u001b[1;36m12258375\u001b[0m,\n",
       "    \u001b[32m'n_refine'\u001b[0m: \u001b[1;36m1227\u001b[0m,\n",
       "    \u001b[32m'n_refine_impossible'\u001b[0m: \u001b[1;36m0\u001b[0m,\n",
       "    \u001b[32m'n_moresims'\u001b[0m: \u001b[1;36m15157\u001b[0m,\n",
       "    \u001b[32m'n_moresims_impossible'\u001b[0m: \u001b[1;36m0\u001b[0m\n",
       "\u001b[1m}\u001b[0m\n"
      ]
     },
     "metadata": {},
     "output_type": "display_data"
    },
    {
     "name": "stdout",
     "output_type": "stream",
     "text": [
      "refinement took 21.75s\n",
      "starting iteration 140 with 40941 tiles to process\n",
      "runtime prediction: 54.55\n",
      "tuning for 2048 simulations with 25784 tiles and batch size (64, 1024)\n",
      "21.312519073486328\n",
      "4.092013835906982\n",
      "tuning for 4096 simulations with 15157 tiles and batch size (64, 1024)\n",
      "24.257670402526855\n",
      "3.2786309719085693\n",
      "step took 53.94s\n",
      "checkpointing took 8.18s\n",
      "tuning for 2048 simulations with 1 tiles and batch size (1, 16384)\n",
      "0.11131882667541504\n",
      "0.26521944999694824\n",
      "criterion took 12.96s\n"
     ]
    },
    {
     "data": {
      "text/html": [
       "<pre style=\"white-space:pre;overflow-x:auto;line-height:normal;font-family:Menlo,'DejaVu Sans Mono',consolas,'Courier New',monospace\"><span style=\"font-weight: bold\">{</span>\n",
       "    <span style=\"color: #008000; text-decoration-color: #008000\">'overall_lam'</span>: <span style=\"color: #008000; text-decoration-color: #008000\">'0.04967'</span>,\n",
       "    <span style=\"color: #008000; text-decoration-color: #008000\">'lam_std'</span>: <span style=\"color: #008000; text-decoration-color: #008000\">'0.0068'</span>,\n",
       "    <span style=\"color: #008000; text-decoration-color: #008000\">'grid_cost'</span>: <span style=\"color: #008000; text-decoration-color: #008000\">'0.01368'</span>,\n",
       "    <span style=\"color: #008000; text-decoration-color: #008000\">'bias'</span>: <span style=\"color: #008000; text-decoration-color: #008000\">'0.00637'</span>,\n",
       "    <span style=\"color: #008000; text-decoration-color: #008000\">'total_slack'</span>: <span style=\"color: #008000; text-decoration-color: #008000\">'0.02004'</span>,\n",
       "    <span style=\"color: #008000; text-decoration-color: #008000\">'n_tiles'</span>: <span style=\"color: #008080; text-decoration-color: #008080; font-weight: bold\">12281657</span>,\n",
       "    <span style=\"color: #008000; text-decoration-color: #008000\">'n_refine'</span>: <span style=\"color: #008080; text-decoration-color: #008080; font-weight: bold\">4437</span>,\n",
       "    <span style=\"color: #008000; text-decoration-color: #008000\">'n_refine_impossible'</span>: <span style=\"color: #008080; text-decoration-color: #008080; font-weight: bold\">0</span>,\n",
       "    <span style=\"color: #008000; text-decoration-color: #008000\">'n_moresims'</span>: <span style=\"color: #008080; text-decoration-color: #008080; font-weight: bold\">11947</span>,\n",
       "    <span style=\"color: #008000; text-decoration-color: #008000\">'n_moresims_impossible'</span>: <span style=\"color: #008080; text-decoration-color: #008080; font-weight: bold\">0</span>\n",
       "<span style=\"font-weight: bold\">}</span>\n",
       "</pre>\n"
      ],
      "text/plain": [
       "\u001b[1m{\u001b[0m\n",
       "    \u001b[32m'overall_lam'\u001b[0m: \u001b[32m'0.04967'\u001b[0m,\n",
       "    \u001b[32m'lam_std'\u001b[0m: \u001b[32m'0.0068'\u001b[0m,\n",
       "    \u001b[32m'grid_cost'\u001b[0m: \u001b[32m'0.01368'\u001b[0m,\n",
       "    \u001b[32m'bias'\u001b[0m: \u001b[32m'0.00637'\u001b[0m,\n",
       "    \u001b[32m'total_slack'\u001b[0m: \u001b[32m'0.02004'\u001b[0m,\n",
       "    \u001b[32m'n_tiles'\u001b[0m: \u001b[1;36m12281657\u001b[0m,\n",
       "    \u001b[32m'n_refine'\u001b[0m: \u001b[1;36m4437\u001b[0m,\n",
       "    \u001b[32m'n_refine_impossible'\u001b[0m: \u001b[1;36m0\u001b[0m,\n",
       "    \u001b[32m'n_moresims'\u001b[0m: \u001b[1;36m11947\u001b[0m,\n",
       "    \u001b[32m'n_moresims_impossible'\u001b[0m: \u001b[1;36m0\u001b[0m\n",
       "\u001b[1m}\u001b[0m\n"
      ]
     },
     "metadata": {},
     "output_type": "display_data"
    },
    {
     "name": "stdout",
     "output_type": "stream",
     "text": [
      "refinement took 9.17s\n",
      "starting iteration 141 with 112751 tiles to process\n",
      "runtime prediction: 119.90\n",
      "tuning for 2048 simulations with 100804 tiles and batch size (64, 1024)\n",
      "83.21742296218872\n",
      "15.157179832458496\n",
      "tuning for 4096 simulations with 11947 tiles and batch size (64, 1024)\n",
      "19.138533115386963\n",
      "2.6225011348724365\n",
      "step took 121.53s\n",
      "checkpointing took 7.57s\n",
      "tuning for 2048 simulations with 1 tiles and batch size (1, 16384)\n",
      "0.08553051948547363\n",
      "0.25448083877563477\n",
      "criterion took 12.87s\n"
     ]
    },
    {
     "data": {
      "text/html": [
       "<pre style=\"white-space:pre;overflow-x:auto;line-height:normal;font-family:Menlo,'DejaVu Sans Mono',consolas,'Courier New',monospace\"><span style=\"font-weight: bold\">{</span>\n",
       "    <span style=\"color: #008000; text-decoration-color: #008000\">'overall_lam'</span>: <span style=\"color: #008000; text-decoration-color: #008000\">'0.04967'</span>,\n",
       "    <span style=\"color: #008000; text-decoration-color: #008000\">'lam_std'</span>: <span style=\"color: #008000; text-decoration-color: #008000\">'0.0068'</span>,\n",
       "    <span style=\"color: #008000; text-decoration-color: #008000\">'grid_cost'</span>: <span style=\"color: #008000; text-decoration-color: #008000\">'0.01368'</span>,\n",
       "    <span style=\"color: #008000; text-decoration-color: #008000\">'bias'</span>: <span style=\"color: #008000; text-decoration-color: #008000\">'0.00637'</span>,\n",
       "    <span style=\"color: #008000; text-decoration-color: #008000\">'total_slack'</span>: <span style=\"color: #008000; text-decoration-color: #008000\">'0.02004'</span>,\n",
       "    <span style=\"color: #008000; text-decoration-color: #008000\">'n_tiles'</span>: <span style=\"color: #008080; text-decoration-color: #008080; font-weight: bold\">12372747</span>,\n",
       "    <span style=\"color: #008000; text-decoration-color: #008000\">'n_refine'</span>: <span style=\"color: #008080; text-decoration-color: #008080; font-weight: bold\">4881</span>,\n",
       "    <span style=\"color: #008000; text-decoration-color: #008000\">'n_refine_impossible'</span>: <span style=\"color: #008080; text-decoration-color: #008080; font-weight: bold\">0</span>,\n",
       "    <span style=\"color: #008000; text-decoration-color: #008000\">'n_moresims'</span>: <span style=\"color: #008080; text-decoration-color: #008080; font-weight: bold\">11503</span>,\n",
       "    <span style=\"color: #008000; text-decoration-color: #008000\">'n_moresims_impossible'</span>: <span style=\"color: #008080; text-decoration-color: #008080; font-weight: bold\">0</span>\n",
       "<span style=\"font-weight: bold\">}</span>\n",
       "</pre>\n"
      ],
      "text/plain": [
       "\u001b[1m{\u001b[0m\n",
       "    \u001b[32m'overall_lam'\u001b[0m: \u001b[32m'0.04967'\u001b[0m,\n",
       "    \u001b[32m'lam_std'\u001b[0m: \u001b[32m'0.0068'\u001b[0m,\n",
       "    \u001b[32m'grid_cost'\u001b[0m: \u001b[32m'0.01368'\u001b[0m,\n",
       "    \u001b[32m'bias'\u001b[0m: \u001b[32m'0.00637'\u001b[0m,\n",
       "    \u001b[32m'total_slack'\u001b[0m: \u001b[32m'0.02004'\u001b[0m,\n",
       "    \u001b[32m'n_tiles'\u001b[0m: \u001b[1;36m12372747\u001b[0m,\n",
       "    \u001b[32m'n_refine'\u001b[0m: \u001b[1;36m4881\u001b[0m,\n",
       "    \u001b[32m'n_refine_impossible'\u001b[0m: \u001b[1;36m0\u001b[0m,\n",
       "    \u001b[32m'n_moresims'\u001b[0m: \u001b[1;36m11503\u001b[0m,\n",
       "    \u001b[32m'n_moresims_impossible'\u001b[0m: \u001b[1;36m0\u001b[0m\n",
       "\u001b[1m}\u001b[0m\n"
      ]
     },
     "metadata": {},
     "output_type": "display_data"
    },
    {
     "name": "stdout",
     "output_type": "stream",
     "text": [
      "refinement took 9.52s\n",
      "starting iteration 142 with 125243 tiles to process\n",
      "runtime prediction: 133.28\n",
      "tuning for 2048 simulations with 113740 tiles and batch size (64, 1024)\n",
      "93.9915406703949\n",
      "17.042383432388306\n",
      "tuning for 4096 simulations with 11503 tiles and batch size (64, 1024)\n",
      "18.4898419380188\n",
      "2.5517001152038574\n",
      "step took 133.57s\n",
      "checkpointing took 7.99s\n",
      "tuning for 2048 simulations with 1 tiles and batch size (1, 16384)\n",
      "0.07973361015319824\n",
      "0.2555570602416992\n",
      "criterion took 12.52s\n"
     ]
    },
    {
     "data": {
      "text/html": [
       "<pre style=\"white-space:pre;overflow-x:auto;line-height:normal;font-family:Menlo,'DejaVu Sans Mono',consolas,'Courier New',monospace\"><span style=\"font-weight: bold\">{</span>\n",
       "    <span style=\"color: #008000; text-decoration-color: #008000\">'overall_lam'</span>: <span style=\"color: #008000; text-decoration-color: #008000\">'0.04967'</span>,\n",
       "    <span style=\"color: #008000; text-decoration-color: #008000\">'lam_std'</span>: <span style=\"color: #008000; text-decoration-color: #008000\">'0.0068'</span>,\n",
       "    <span style=\"color: #008000; text-decoration-color: #008000\">'grid_cost'</span>: <span style=\"color: #008000; text-decoration-color: #008000\">'0.01368'</span>,\n",
       "    <span style=\"color: #008000; text-decoration-color: #008000\">'bias'</span>: <span style=\"color: #008000; text-decoration-color: #008000\">'0.00635'</span>,\n",
       "    <span style=\"color: #008000; text-decoration-color: #008000\">'total_slack'</span>: <span style=\"color: #008000; text-decoration-color: #008000\">'0.02002'</span>,\n",
       "    <span style=\"color: #008000; text-decoration-color: #008000\">'n_tiles'</span>: <span style=\"color: #008080; text-decoration-color: #008080; font-weight: bold\">12476197</span>,\n",
       "    <span style=\"color: #008000; text-decoration-color: #008000\">'n_refine'</span>: <span style=\"color: #008080; text-decoration-color: #008080; font-weight: bold\">7012</span>,\n",
       "    <span style=\"color: #008000; text-decoration-color: #008000\">'n_refine_impossible'</span>: <span style=\"color: #008080; text-decoration-color: #008080; font-weight: bold\">0</span>,\n",
       "    <span style=\"color: #008000; text-decoration-color: #008000\">'n_moresims'</span>: <span style=\"color: #008080; text-decoration-color: #008080; font-weight: bold\">9372</span>,\n",
       "    <span style=\"color: #008000; text-decoration-color: #008000\">'n_moresims_impossible'</span>: <span style=\"color: #008080; text-decoration-color: #008080; font-weight: bold\">0</span>\n",
       "<span style=\"font-weight: bold\">}</span>\n",
       "</pre>\n"
      ],
      "text/plain": [
       "\u001b[1m{\u001b[0m\n",
       "    \u001b[32m'overall_lam'\u001b[0m: \u001b[32m'0.04967'\u001b[0m,\n",
       "    \u001b[32m'lam_std'\u001b[0m: \u001b[32m'0.0068'\u001b[0m,\n",
       "    \u001b[32m'grid_cost'\u001b[0m: \u001b[32m'0.01368'\u001b[0m,\n",
       "    \u001b[32m'bias'\u001b[0m: \u001b[32m'0.00635'\u001b[0m,\n",
       "    \u001b[32m'total_slack'\u001b[0m: \u001b[32m'0.02002'\u001b[0m,\n",
       "    \u001b[32m'n_tiles'\u001b[0m: \u001b[1;36m12476197\u001b[0m,\n",
       "    \u001b[32m'n_refine'\u001b[0m: \u001b[1;36m7012\u001b[0m,\n",
       "    \u001b[32m'n_refine_impossible'\u001b[0m: \u001b[1;36m0\u001b[0m,\n",
       "    \u001b[32m'n_moresims'\u001b[0m: \u001b[1;36m9372\u001b[0m,\n",
       "    \u001b[32m'n_moresims_impossible'\u001b[0m: \u001b[1;36m0\u001b[0m\n",
       "\u001b[1m}\u001b[0m\n"
      ]
     },
     "metadata": {},
     "output_type": "display_data"
    },
    {
     "name": "stdout",
     "output_type": "stream",
     "text": [
      "refinement took 9.27s\n",
      "starting iteration 143 with 177604 tiles to process\n",
      "runtime prediction: 182.63\n",
      "tuning for 2048 simulations with 168232 tiles and batch size (64, 1024)\n",
      "140.37809801101685\n",
      "25.5211820602417\n",
      "tuning for 4096 simulations with 9372 tiles and batch size (64, 1024)\n",
      "15.082818984985352\n",
      "2.125535011291504\n",
      "step took 184.88s\n",
      "checkpointing took 7.97s\n",
      "tuning for 2048 simulations with 1 tiles and batch size (1, 16384)\n",
      "0.08860182762145996\n",
      "0.28585290908813477\n",
      "criterion took 15.72s\n"
     ]
    },
    {
     "data": {
      "text/html": [
       "<pre style=\"white-space:pre;overflow-x:auto;line-height:normal;font-family:Menlo,'DejaVu Sans Mono',consolas,'Courier New',monospace\"><span style=\"font-weight: bold\">{</span>\n",
       "    <span style=\"color: #008000; text-decoration-color: #008000\">'overall_lam'</span>: <span style=\"color: #008000; text-decoration-color: #008000\">'0.04967'</span>,\n",
       "    <span style=\"color: #008000; text-decoration-color: #008000\">'lam_std'</span>: <span style=\"color: #008000; text-decoration-color: #008000\">'0.0068'</span>,\n",
       "    <span style=\"color: #008000; text-decoration-color: #008000\">'grid_cost'</span>: <span style=\"color: #008000; text-decoration-color: #008000\">'0.01368'</span>,\n",
       "    <span style=\"color: #008000; text-decoration-color: #008000\">'bias'</span>: <span style=\"color: #008000; text-decoration-color: #008000\">'0.00632'</span>,\n",
       "    <span style=\"color: #008000; text-decoration-color: #008000\">'total_slack'</span>: <span style=\"color: #008000; text-decoration-color: #008000\">'0.02000'</span>,\n",
       "    <span style=\"color: #008000; text-decoration-color: #008000\">'n_tiles'</span>: <span style=\"color: #008080; text-decoration-color: #008080; font-weight: bold\">12626070</span>,\n",
       "    <span style=\"color: #008000; text-decoration-color: #008000\">'n_refine'</span>: <span style=\"color: #008080; text-decoration-color: #008080; font-weight: bold\">9879</span>,\n",
       "    <span style=\"color: #008000; text-decoration-color: #008000\">'n_refine_impossible'</span>: <span style=\"color: #008080; text-decoration-color: #008080; font-weight: bold\">0</span>,\n",
       "    <span style=\"color: #008000; text-decoration-color: #008000\">'n_moresims'</span>: <span style=\"color: #008080; text-decoration-color: #008080; font-weight: bold\">6505</span>,\n",
       "    <span style=\"color: #008000; text-decoration-color: #008000\">'n_moresims_impossible'</span>: <span style=\"color: #008080; text-decoration-color: #008080; font-weight: bold\">0</span>\n",
       "<span style=\"font-weight: bold\">}</span>\n",
       "</pre>\n"
      ],
      "text/plain": [
       "\u001b[1m{\u001b[0m\n",
       "    \u001b[32m'overall_lam'\u001b[0m: \u001b[32m'0.04967'\u001b[0m,\n",
       "    \u001b[32m'lam_std'\u001b[0m: \u001b[32m'0.0068'\u001b[0m,\n",
       "    \u001b[32m'grid_cost'\u001b[0m: \u001b[32m'0.01368'\u001b[0m,\n",
       "    \u001b[32m'bias'\u001b[0m: \u001b[32m'0.00632'\u001b[0m,\n",
       "    \u001b[32m'total_slack'\u001b[0m: \u001b[32m'0.02000'\u001b[0m,\n",
       "    \u001b[32m'n_tiles'\u001b[0m: \u001b[1;36m12626070\u001b[0m,\n",
       "    \u001b[32m'n_refine'\u001b[0m: \u001b[1;36m9879\u001b[0m,\n",
       "    \u001b[32m'n_refine_impossible'\u001b[0m: \u001b[1;36m0\u001b[0m,\n",
       "    \u001b[32m'n_moresims'\u001b[0m: \u001b[1;36m6505\u001b[0m,\n",
       "    \u001b[32m'n_moresims_impossible'\u001b[0m: \u001b[1;36m0\u001b[0m\n",
       "\u001b[1m}\u001b[0m\n"
      ]
     },
     "metadata": {},
     "output_type": "display_data"
    },
    {
     "name": "stdout",
     "output_type": "stream",
     "text": [
      "refinement took 11.24s\n",
      "starting iteration 144 with 226077 tiles to process\n",
      "runtime prediction: 229.98\n",
      "tuning for 2048 simulations with 219572 tiles and batch size (64, 1024)\n",
      "181.37529397010803\n",
      "32.739277362823486\n",
      "tuning for 4096 simulations with 6505 tiles and batch size (64, 1024)\n",
      "10.480717658996582\n",
      "1.5572118759155273\n",
      "step took 228.22s\n",
      "checkpointing took 8.10s\n",
      "tuning for 2048 simulations with 1 tiles and batch size (1, 16384)\n",
      "0.07948589324951172\n",
      "0.27148866653442383\n",
      "criterion took 13.55s\n"
     ]
    },
    {
     "data": {
      "text/html": [
       "<pre style=\"white-space:pre;overflow-x:auto;line-height:normal;font-family:Menlo,'DejaVu Sans Mono',consolas,'Courier New',monospace\"><span style=\"font-weight: bold\">{</span>\n",
       "    <span style=\"color: #008000; text-decoration-color: #008000\">'overall_lam'</span>: <span style=\"color: #008000; text-decoration-color: #008000\">'0.04967'</span>,\n",
       "    <span style=\"color: #008000; text-decoration-color: #008000\">'lam_std'</span>: <span style=\"color: #008000; text-decoration-color: #008000\">'0.0068'</span>,\n",
       "    <span style=\"color: #008000; text-decoration-color: #008000\">'grid_cost'</span>: <span style=\"color: #008000; text-decoration-color: #008000\">'0.01368'</span>,\n",
       "    <span style=\"color: #008000; text-decoration-color: #008000\">'bias'</span>: <span style=\"color: #008000; text-decoration-color: #008000\">'0.00631'</span>,\n",
       "    <span style=\"color: #008000; text-decoration-color: #008000\">'total_slack'</span>: <span style=\"color: #008000; text-decoration-color: #008000\">'0.01999'</span>,\n",
       "    <span style=\"color: #008000; text-decoration-color: #008000\">'n_tiles'</span>: <span style=\"color: #008080; text-decoration-color: #008080; font-weight: bold\">12826863</span>,\n",
       "    <span style=\"color: #008000; text-decoration-color: #008000\">'n_refine'</span>: <span style=\"color: #008080; text-decoration-color: #008080; font-weight: bold\">7060</span>,\n",
       "    <span style=\"color: #008000; text-decoration-color: #008000\">'n_refine_impossible'</span>: <span style=\"color: #008080; text-decoration-color: #008080; font-weight: bold\">0</span>,\n",
       "    <span style=\"color: #008000; text-decoration-color: #008000\">'n_moresims'</span>: <span style=\"color: #008080; text-decoration-color: #008080; font-weight: bold\">9324</span>,\n",
       "    <span style=\"color: #008000; text-decoration-color: #008000\">'n_moresims_impossible'</span>: <span style=\"color: #008080; text-decoration-color: #008080; font-weight: bold\">0</span>\n",
       "<span style=\"font-weight: bold\">}</span>\n",
       "</pre>\n"
      ],
      "text/plain": [
       "\u001b[1m{\u001b[0m\n",
       "    \u001b[32m'overall_lam'\u001b[0m: \u001b[32m'0.04967'\u001b[0m,\n",
       "    \u001b[32m'lam_std'\u001b[0m: \u001b[32m'0.0068'\u001b[0m,\n",
       "    \u001b[32m'grid_cost'\u001b[0m: \u001b[32m'0.01368'\u001b[0m,\n",
       "    \u001b[32m'bias'\u001b[0m: \u001b[32m'0.00631'\u001b[0m,\n",
       "    \u001b[32m'total_slack'\u001b[0m: \u001b[32m'0.01999'\u001b[0m,\n",
       "    \u001b[32m'n_tiles'\u001b[0m: \u001b[1;36m12826863\u001b[0m,\n",
       "    \u001b[32m'n_refine'\u001b[0m: \u001b[1;36m7060\u001b[0m,\n",
       "    \u001b[32m'n_refine_impossible'\u001b[0m: \u001b[1;36m0\u001b[0m,\n",
       "    \u001b[32m'n_moresims'\u001b[0m: \u001b[1;36m9324\u001b[0m,\n",
       "    \u001b[32m'n_moresims_impossible'\u001b[0m: \u001b[1;36m0\u001b[0m\n",
       "\u001b[1m}\u001b[0m\n"
      ]
     },
     "metadata": {},
     "output_type": "display_data"
    },
    {
     "name": "stdout",
     "output_type": "stream",
     "text": [
      "refinement took 10.13s\n",
      "starting iteration 145 with 174264 tiles to process\n",
      "runtime prediction: 180.15\n",
      "tuning for 2048 simulations with 164940 tiles and batch size (64, 1024)\n",
      "136.2464520931244\n",
      "24.773197412490845\n",
      "tuning for 4096 simulations with 9324 tiles and batch size (64, 1024)\n",
      "14.926278591156006\n",
      "2.083827257156372\n",
      "step took 179.81s\n",
      "checkpointing took 8.20s\n",
      "tuning for 2048 simulations with 1 tiles and batch size (1, 16384)\n",
      "0.09359169006347656\n",
      "0.25945472717285156\n",
      "criterion took 14.42s\n"
     ]
    },
    {
     "data": {
      "text/html": [
       "<pre style=\"white-space:pre;overflow-x:auto;line-height:normal;font-family:Menlo,'DejaVu Sans Mono',consolas,'Courier New',monospace\"><span style=\"font-weight: bold\">{</span>\n",
       "    <span style=\"color: #008000; text-decoration-color: #008000\">'overall_lam'</span>: <span style=\"color: #008000; text-decoration-color: #008000\">'0.04967'</span>,\n",
       "    <span style=\"color: #008000; text-decoration-color: #008000\">'lam_std'</span>: <span style=\"color: #008000; text-decoration-color: #008000\">'0.0068'</span>,\n",
       "    <span style=\"color: #008000; text-decoration-color: #008000\">'grid_cost'</span>: <span style=\"color: #008000; text-decoration-color: #008000\">'0.01368'</span>,\n",
       "    <span style=\"color: #008000; text-decoration-color: #008000\">'bias'</span>: <span style=\"color: #008000; text-decoration-color: #008000\">'0.00631'</span>,\n",
       "    <span style=\"color: #008000; text-decoration-color: #008000\">'total_slack'</span>: <span style=\"color: #008000; text-decoration-color: #008000\">'0.01999'</span>,\n",
       "    <span style=\"color: #008000; text-decoration-color: #008000\">'n_tiles'</span>: <span style=\"color: #008080; text-decoration-color: #008080; font-weight: bold\">12975948</span>,\n",
       "    <span style=\"color: #008000; text-decoration-color: #008000\">'n_refine'</span>: <span style=\"color: #008080; text-decoration-color: #008080; font-weight: bold\">5296</span>,\n",
       "    <span style=\"color: #008000; text-decoration-color: #008000\">'n_refine_impossible'</span>: <span style=\"color: #008080; text-decoration-color: #008080; font-weight: bold\">0</span>,\n",
       "    <span style=\"color: #008000; text-decoration-color: #008000\">'n_moresims'</span>: <span style=\"color: #008080; text-decoration-color: #008080; font-weight: bold\">11088</span>,\n",
       "    <span style=\"color: #008000; text-decoration-color: #008000\">'n_moresims_impossible'</span>: <span style=\"color: #008080; text-decoration-color: #008080; font-weight: bold\">0</span>\n",
       "<span style=\"font-weight: bold\">}</span>\n",
       "</pre>\n"
      ],
      "text/plain": [
       "\u001b[1m{\u001b[0m\n",
       "    \u001b[32m'overall_lam'\u001b[0m: \u001b[32m'0.04967'\u001b[0m,\n",
       "    \u001b[32m'lam_std'\u001b[0m: \u001b[32m'0.0068'\u001b[0m,\n",
       "    \u001b[32m'grid_cost'\u001b[0m: \u001b[32m'0.01368'\u001b[0m,\n",
       "    \u001b[32m'bias'\u001b[0m: \u001b[32m'0.00631'\u001b[0m,\n",
       "    \u001b[32m'total_slack'\u001b[0m: \u001b[32m'0.01999'\u001b[0m,\n",
       "    \u001b[32m'n_tiles'\u001b[0m: \u001b[1;36m12975948\u001b[0m,\n",
       "    \u001b[32m'n_refine'\u001b[0m: \u001b[1;36m5296\u001b[0m,\n",
       "    \u001b[32m'n_refine_impossible'\u001b[0m: \u001b[1;36m0\u001b[0m,\n",
       "    \u001b[32m'n_moresims'\u001b[0m: \u001b[1;36m11088\u001b[0m,\n",
       "    \u001b[32m'n_moresims_impossible'\u001b[0m: \u001b[1;36m0\u001b[0m\n",
       "\u001b[1m}\u001b[0m\n"
      ]
     },
     "metadata": {},
     "output_type": "display_data"
    },
    {
     "name": "stdout",
     "output_type": "stream",
     "text": [
      "refinement took 10.48s\n",
      "starting iteration 146 with 127316 tiles to process\n",
      "runtime prediction: 135.56\n",
      "tuning for 2048 simulations with 116228 tiles and batch size (64, 1024)\n",
      "95.99532318115234\n",
      "17.518115520477295\n",
      "tuning for 4096 simulations with 11088 tiles and batch size (64, 1024)\n",
      "17.864882230758667\n",
      "2.4578871726989746\n",
      "step took 135.33s\n",
      "checkpointing took 8.21s\n",
      "tuning for 2048 simulations with 1 tiles and batch size (1, 16384)\n",
      "0.09534597396850586\n",
      "0.2783076763153076\n",
      "criterion took 15.24s\n"
     ]
    },
    {
     "data": {
      "text/html": [
       "<pre style=\"white-space:pre;overflow-x:auto;line-height:normal;font-family:Menlo,'DejaVu Sans Mono',consolas,'Courier New',monospace\"><span style=\"font-weight: bold\">{</span>\n",
       "    <span style=\"color: #008000; text-decoration-color: #008000\">'overall_lam'</span>: <span style=\"color: #008000; text-decoration-color: #008000\">'0.04967'</span>,\n",
       "    <span style=\"color: #008000; text-decoration-color: #008000\">'lam_std'</span>: <span style=\"color: #008000; text-decoration-color: #008000\">'0.0068'</span>,\n",
       "    <span style=\"color: #008000; text-decoration-color: #008000\">'grid_cost'</span>: <span style=\"color: #008000; text-decoration-color: #008000\">'0.01368'</span>,\n",
       "    <span style=\"color: #008000; text-decoration-color: #008000\">'bias'</span>: <span style=\"color: #008000; text-decoration-color: #008000\">'0.00631'</span>,\n",
       "    <span style=\"color: #008000; text-decoration-color: #008000\">'total_slack'</span>: <span style=\"color: #008000; text-decoration-color: #008000\">'0.01999'</span>,\n",
       "    <span style=\"color: #008000; text-decoration-color: #008000\">'n_tiles'</span>: <span style=\"color: #008080; text-decoration-color: #008080; font-weight: bold\">13082314</span>,\n",
       "    <span style=\"color: #008000; text-decoration-color: #008000\">'n_refine'</span>: <span style=\"color: #008080; text-decoration-color: #008080; font-weight: bold\">3324</span>,\n",
       "    <span style=\"color: #008000; text-decoration-color: #008000\">'n_refine_impossible'</span>: <span style=\"color: #008080; text-decoration-color: #008080; font-weight: bold\">0</span>,\n",
       "    <span style=\"color: #008000; text-decoration-color: #008000\">'n_moresims'</span>: <span style=\"color: #008080; text-decoration-color: #008080; font-weight: bold\">13060</span>,\n",
       "    <span style=\"color: #008000; text-decoration-color: #008000\">'n_moresims_impossible'</span>: <span style=\"color: #008080; text-decoration-color: #008080; font-weight: bold\">0</span>\n",
       "<span style=\"font-weight: bold\">}</span>\n",
       "</pre>\n"
      ],
      "text/plain": [
       "\u001b[1m{\u001b[0m\n",
       "    \u001b[32m'overall_lam'\u001b[0m: \u001b[32m'0.04967'\u001b[0m,\n",
       "    \u001b[32m'lam_std'\u001b[0m: \u001b[32m'0.0068'\u001b[0m,\n",
       "    \u001b[32m'grid_cost'\u001b[0m: \u001b[32m'0.01368'\u001b[0m,\n",
       "    \u001b[32m'bias'\u001b[0m: \u001b[32m'0.00631'\u001b[0m,\n",
       "    \u001b[32m'total_slack'\u001b[0m: \u001b[32m'0.01999'\u001b[0m,\n",
       "    \u001b[32m'n_tiles'\u001b[0m: \u001b[1;36m13082314\u001b[0m,\n",
       "    \u001b[32m'n_refine'\u001b[0m: \u001b[1;36m3324\u001b[0m,\n",
       "    \u001b[32m'n_refine_impossible'\u001b[0m: \u001b[1;36m0\u001b[0m,\n",
       "    \u001b[32m'n_moresims'\u001b[0m: \u001b[1;36m13060\u001b[0m,\n",
       "    \u001b[32m'n_moresims_impossible'\u001b[0m: \u001b[1;36m0\u001b[0m\n",
       "\u001b[1m}\u001b[0m\n"
      ]
     },
     "metadata": {},
     "output_type": "display_data"
    },
    {
     "name": "stdout",
     "output_type": "stream",
     "text": [
      "refinement took 10.20s\n",
      "starting iteration 147 with 87996 tiles to process\n",
      "runtime prediction: 98.81\n",
      "tuning for 2048 simulations with 74936 tiles and batch size (64, 1024)\n",
      "61.8918182849884\n",
      "11.407104969024658\n",
      "tuning for 4096 simulations with 13060 tiles and batch size (64, 1024)\n",
      "20.985332250595093\n",
      "2.883843421936035\n",
      "step took 98.48s\n",
      "checkpointing took 8.48s\n",
      "tuning for 2048 simulations with 1 tiles and batch size (1, 16384)\n",
      "0.0950937271118164\n",
      "0.2793247699737549\n",
      "criterion took 14.05s\n"
     ]
    },
    {
     "data": {
      "text/html": [
       "<pre style=\"white-space:pre;overflow-x:auto;line-height:normal;font-family:Menlo,'DejaVu Sans Mono',consolas,'Courier New',monospace\"><span style=\"font-weight: bold\">{</span>\n",
       "    <span style=\"color: #008000; text-decoration-color: #008000\">'overall_lam'</span>: <span style=\"color: #008000; text-decoration-color: #008000\">'0.04967'</span>,\n",
       "    <span style=\"color: #008000; text-decoration-color: #008000\">'lam_std'</span>: <span style=\"color: #008000; text-decoration-color: #008000\">'0.0068'</span>,\n",
       "    <span style=\"color: #008000; text-decoration-color: #008000\">'grid_cost'</span>: <span style=\"color: #008000; text-decoration-color: #008000\">'0.01368'</span>,\n",
       "    <span style=\"color: #008000; text-decoration-color: #008000\">'bias'</span>: <span style=\"color: #008000; text-decoration-color: #008000\">'0.00624'</span>,\n",
       "    <span style=\"color: #008000; text-decoration-color: #008000\">'total_slack'</span>: <span style=\"color: #008000; text-decoration-color: #008000\">'0.01992'</span>,\n",
       "    <span style=\"color: #008000; text-decoration-color: #008000\">'n_tiles'</span>: <span style=\"color: #008080; text-decoration-color: #008080; font-weight: bold\">13150442</span>,\n",
       "    <span style=\"color: #008000; text-decoration-color: #008000\">'n_refine'</span>: <span style=\"color: #008080; text-decoration-color: #008080; font-weight: bold\">1056</span>,\n",
       "    <span style=\"color: #008000; text-decoration-color: #008000\">'n_refine_impossible'</span>: <span style=\"color: #008080; text-decoration-color: #008080; font-weight: bold\">0</span>,\n",
       "    <span style=\"color: #008000; text-decoration-color: #008000\">'n_moresims'</span>: <span style=\"color: #008080; text-decoration-color: #008080; font-weight: bold\">15328</span>,\n",
       "    <span style=\"color: #008000; text-decoration-color: #008000\">'n_moresims_impossible'</span>: <span style=\"color: #008080; text-decoration-color: #008080; font-weight: bold\">0</span>\n",
       "<span style=\"font-weight: bold\">}</span>\n",
       "</pre>\n"
      ],
      "text/plain": [
       "\u001b[1m{\u001b[0m\n",
       "    \u001b[32m'overall_lam'\u001b[0m: \u001b[32m'0.04967'\u001b[0m,\n",
       "    \u001b[32m'lam_std'\u001b[0m: \u001b[32m'0.0068'\u001b[0m,\n",
       "    \u001b[32m'grid_cost'\u001b[0m: \u001b[32m'0.01368'\u001b[0m,\n",
       "    \u001b[32m'bias'\u001b[0m: \u001b[32m'0.00624'\u001b[0m,\n",
       "    \u001b[32m'total_slack'\u001b[0m: \u001b[32m'0.01992'\u001b[0m,\n",
       "    \u001b[32m'n_tiles'\u001b[0m: \u001b[1;36m13150442\u001b[0m,\n",
       "    \u001b[32m'n_refine'\u001b[0m: \u001b[1;36m1056\u001b[0m,\n",
       "    \u001b[32m'n_refine_impossible'\u001b[0m: \u001b[1;36m0\u001b[0m,\n",
       "    \u001b[32m'n_moresims'\u001b[0m: \u001b[1;36m15328\u001b[0m,\n",
       "    \u001b[32m'n_moresims_impossible'\u001b[0m: \u001b[1;36m0\u001b[0m\n",
       "\u001b[1m}\u001b[0m\n"
      ]
     },
     "metadata": {},
     "output_type": "display_data"
    },
    {
     "name": "stdout",
     "output_type": "stream",
     "text": [
      "refinement took 10.00s\n",
      "starting iteration 148 with 32928 tiles to process\n",
      "runtime prediction: 47.03\n",
      "tuning for 2048 simulations with 17600 tiles and batch size (64, 1024)\n",
      "14.557708501815796\n",
      "2.837231159210205\n",
      "tuning for 4096 simulations with 15328 tiles and batch size (64, 1024)\n",
      "24.573076725006104\n",
      "3.2899112701416016\n",
      "step took 46.26s\n",
      "checkpointing took 8.13s\n",
      "tuning for 2048 simulations with 1 tiles and batch size (1, 16384)\n",
      "0.09479641914367676\n",
      "0.2855570316314697\n",
      "criterion took 14.07s\n"
     ]
    },
    {
     "data": {
      "text/html": [
       "<pre style=\"white-space:pre;overflow-x:auto;line-height:normal;font-family:Menlo,'DejaVu Sans Mono',consolas,'Courier New',monospace\"><span style=\"font-weight: bold\">{</span>\n",
       "    <span style=\"color: #008000; text-decoration-color: #008000\">'overall_lam'</span>: <span style=\"color: #008000; text-decoration-color: #008000\">'0.04967'</span>,\n",
       "    <span style=\"color: #008000; text-decoration-color: #008000\">'lam_std'</span>: <span style=\"color: #008000; text-decoration-color: #008000\">'0.0068'</span>,\n",
       "    <span style=\"color: #008000; text-decoration-color: #008000\">'grid_cost'</span>: <span style=\"color: #008000; text-decoration-color: #008000\">'0.01368'</span>,\n",
       "    <span style=\"color: #008000; text-decoration-color: #008000\">'bias'</span>: <span style=\"color: #008000; text-decoration-color: #008000\">'0.00624'</span>,\n",
       "    <span style=\"color: #008000; text-decoration-color: #008000\">'total_slack'</span>: <span style=\"color: #008000; text-decoration-color: #008000\">'0.01992'</span>,\n",
       "    <span style=\"color: #008000; text-decoration-color: #008000\">'n_tiles'</span>: <span style=\"color: #008080; text-decoration-color: #008080; font-weight: bold\">13166746</span>,\n",
       "    <span style=\"color: #008000; text-decoration-color: #008000\">'n_refine'</span>: <span style=\"color: #008080; text-decoration-color: #008080; font-weight: bold\">1684</span>,\n",
       "    <span style=\"color: #008000; text-decoration-color: #008000\">'n_refine_impossible'</span>: <span style=\"color: #008080; text-decoration-color: #008080; font-weight: bold\">0</span>,\n",
       "    <span style=\"color: #008000; text-decoration-color: #008000\">'n_moresims'</span>: <span style=\"color: #008080; text-decoration-color: #008080; font-weight: bold\">14700</span>,\n",
       "    <span style=\"color: #008000; text-decoration-color: #008000\">'n_moresims_impossible'</span>: <span style=\"color: #008080; text-decoration-color: #008080; font-weight: bold\">0</span>\n",
       "<span style=\"font-weight: bold\">}</span>\n",
       "</pre>\n"
      ],
      "text/plain": [
       "\u001b[1m{\u001b[0m\n",
       "    \u001b[32m'overall_lam'\u001b[0m: \u001b[32m'0.04967'\u001b[0m,\n",
       "    \u001b[32m'lam_std'\u001b[0m: \u001b[32m'0.0068'\u001b[0m,\n",
       "    \u001b[32m'grid_cost'\u001b[0m: \u001b[32m'0.01368'\u001b[0m,\n",
       "    \u001b[32m'bias'\u001b[0m: \u001b[32m'0.00624'\u001b[0m,\n",
       "    \u001b[32m'total_slack'\u001b[0m: \u001b[32m'0.01992'\u001b[0m,\n",
       "    \u001b[32m'n_tiles'\u001b[0m: \u001b[1;36m13166746\u001b[0m,\n",
       "    \u001b[32m'n_refine'\u001b[0m: \u001b[1;36m1684\u001b[0m,\n",
       "    \u001b[32m'n_refine_impossible'\u001b[0m: \u001b[1;36m0\u001b[0m,\n",
       "    \u001b[32m'n_moresims'\u001b[0m: \u001b[1;36m14700\u001b[0m,\n",
       "    \u001b[32m'n_moresims_impossible'\u001b[0m: \u001b[1;36m0\u001b[0m\n",
       "\u001b[1m}\u001b[0m\n"
      ]
     },
     "metadata": {},
     "output_type": "display_data"
    },
    {
     "name": "stdout",
     "output_type": "stream",
     "text": [
      "refinement took 9.48s\n",
      "starting iteration 149 with 52304 tiles to process\n",
      "runtime prediction: 64.23\n",
      "tuning for 2048 simulations with 37604 tiles and batch size (64, 1024)\n",
      "31.101231336593628\n",
      "5.832622051239014\n",
      "tuning for 4096 simulations with 14700 tiles and batch size (64, 1024)\n",
      "23.548077821731567\n",
      "3.1711807250976562\n",
      "step took 64.76s\n",
      "checkpointing took 8.41s\n",
      "tuning for 2048 simulations with 1 tiles and batch size (1, 16384)\n",
      "0.10033369064331055\n",
      "0.27898335456848145\n",
      "criterion took 13.21s\n"
     ]
    },
    {
     "data": {
      "text/html": [
       "<pre style=\"white-space:pre;overflow-x:auto;line-height:normal;font-family:Menlo,'DejaVu Sans Mono',consolas,'Courier New',monospace\"><span style=\"font-weight: bold\">{</span>\n",
       "    <span style=\"color: #008000; text-decoration-color: #008000\">'overall_lam'</span>: <span style=\"color: #008000; text-decoration-color: #008000\">'0.04967'</span>,\n",
       "    <span style=\"color: #008000; text-decoration-color: #008000\">'lam_std'</span>: <span style=\"color: #008000; text-decoration-color: #008000\">'0.0068'</span>,\n",
       "    <span style=\"color: #008000; text-decoration-color: #008000\">'grid_cost'</span>: <span style=\"color: #008000; text-decoration-color: #008000\">'0.01368'</span>,\n",
       "    <span style=\"color: #008000; text-decoration-color: #008000\">'bias'</span>: <span style=\"color: #008000; text-decoration-color: #008000\">'0.00624'</span>,\n",
       "    <span style=\"color: #008000; text-decoration-color: #008000\">'total_slack'</span>: <span style=\"color: #008000; text-decoration-color: #008000\">'0.01992'</span>,\n",
       "    <span style=\"color: #008000; text-decoration-color: #008000\">'n_tiles'</span>: <span style=\"color: #008080; text-decoration-color: #008080; font-weight: bold\">13200405</span>,\n",
       "    <span style=\"color: #008000; text-decoration-color: #008000\">'n_refine'</span>: <span style=\"color: #008080; text-decoration-color: #008080; font-weight: bold\">7492</span>,\n",
       "    <span style=\"color: #008000; text-decoration-color: #008000\">'n_refine_impossible'</span>: <span style=\"color: #008080; text-decoration-color: #008080; font-weight: bold\">0</span>,\n",
       "    <span style=\"color: #008000; text-decoration-color: #008000\">'n_moresims'</span>: <span style=\"color: #008080; text-decoration-color: #008080; font-weight: bold\">8892</span>,\n",
       "    <span style=\"color: #008000; text-decoration-color: #008000\">'n_moresims_impossible'</span>: <span style=\"color: #008080; text-decoration-color: #008080; font-weight: bold\">0</span>\n",
       "<span style=\"font-weight: bold\">}</span>\n",
       "</pre>\n"
      ],
      "text/plain": [
       "\u001b[1m{\u001b[0m\n",
       "    \u001b[32m'overall_lam'\u001b[0m: \u001b[32m'0.04967'\u001b[0m,\n",
       "    \u001b[32m'lam_std'\u001b[0m: \u001b[32m'0.0068'\u001b[0m,\n",
       "    \u001b[32m'grid_cost'\u001b[0m: \u001b[32m'0.01368'\u001b[0m,\n",
       "    \u001b[32m'bias'\u001b[0m: \u001b[32m'0.00624'\u001b[0m,\n",
       "    \u001b[32m'total_slack'\u001b[0m: \u001b[32m'0.01992'\u001b[0m,\n",
       "    \u001b[32m'n_tiles'\u001b[0m: \u001b[1;36m13200405\u001b[0m,\n",
       "    \u001b[32m'n_refine'\u001b[0m: \u001b[1;36m7492\u001b[0m,\n",
       "    \u001b[32m'n_refine_impossible'\u001b[0m: \u001b[1;36m0\u001b[0m,\n",
       "    \u001b[32m'n_moresims'\u001b[0m: \u001b[1;36m8892\u001b[0m,\n",
       "    \u001b[32m'n_moresims_impossible'\u001b[0m: \u001b[1;36m0\u001b[0m\n",
       "\u001b[1m}\u001b[0m\n"
      ]
     },
     "metadata": {},
     "output_type": "display_data"
    },
    {
     "name": "stdout",
     "output_type": "stream",
     "text": [
      "refinement took 9.51s\n",
      "starting iteration 150 with 159588 tiles to process\n",
      "runtime prediction: 162.84\n",
      "tuning for 2048 simulations with 150696 tiles and batch size (64, 1024)\n"
     ]
    }
   ],
   "source": [
    "R = adastate.AdaRunner(P, lei_obj)\n",
    "iter_max = 10000\n",
    "cost_per_sim = np.inf\n",
    "for II in range(load_iter + 1, iter_max):\n",
    "    if np.sum(S.todo) == 0:\n",
    "        break\n",
    "\n",
    "    print(f\"starting iteration {II} with {np.sum(S.todo)} tiles to process\")\n",
    "    total_effort = np.sum(S.sim_sizes[S.todo])\n",
    "    predicted_time = total_effort * cost_per_sim\n",
    "    print(f\"runtime prediction: {predicted_time:.2f}\")\n",
    "\n",
    "    start = time.time()\n",
    "    R.step(P, S, D)\n",
    "    cost_per_sim = (time.time() - start) / total_effort\n",
    "    print(f\"step took {time.time() - start:.2f}s\")\n",
    "\n",
    "    start = time.time()\n",
    "    adastate.save(f\"{name}/{II}.pkl\", S)\n",
    "    for old_i in checkpoint.exponential_delete(II, base=1):\n",
    "        fp = f\"{name}/{old_i}.pkl\"\n",
    "        if os.path.exists(fp):\n",
    "            os.remove(fp)\n",
    "    print(f\"checkpointing took {time.time() - start:.2f}s\")\n",
    "\n",
    "    start = time.time()\n",
    "    cr = Criterion(lei_obj, P, S, D)\n",
    "    print(f'criterion took {time.time() - start:.2f}s')\n",
    "    rprint(cr.report)\n",
    "\n",
    "    start = time.time()\n",
    "    if (np.sum(cr.which_refine) > 0 or np.sum(cr.which_deepen) > 0) and II != iter_max - 1:\n",
    "        S.sim_sizes[cr.which_deepen] = S.sim_sizes[cr.which_deepen] * 2\n",
    "        S.todo[cr.which_deepen] = True\n",
    "\n",
    "        S = S.refine(P, cr.which_refine, null_hypos, symmetry)\n",
    "        print(f\"refinement took {time.time() - start:.2f}s\")"
   ]
  },
  {
   "cell_type": "code",
   "execution_count": 64,
   "metadata": {},
   "outputs": [
    {
     "name": "stdout",
     "output_type": "stream",
     "text": [
      "running for size 1000 with 4721515 tiles took 1573.7245726585388\n"
     ]
    }
   ],
   "source": [
    "typeI_sum = batched_rej(\n",
    "    sim_sizes,\n",
    "    (np.full(sim_sizes.shape[0], overall_cv),\n",
    "    g.theta_tiles,\n",
    "    g.null_truth,),\n",
    "    unifs,\n",
    "    unifs_order,\n",
    ")\n",
    "\n",
    "savedata = [\n",
    "    g,\n",
    "    sim_sizes,\n",
    "    bootstrap_cvs,\n",
    "    typeI_sum,\n",
    "    hob_upper,\n",
    "    pointwise_target_alpha\n",
    "]\n",
    "with open(f\"{name}/final.pkl\", \"wb\") as f:\n",
    "    pickle.dump(savedata, f)\n",
    "\n",
    "# Calculate actual type I errors?\n",
    "typeI_est, typeI_CI = binomial.zero_order_bound(\n",
    "    typeI_sum, sim_sizes, delta_validate, 1.0\n",
    ")\n",
    "typeI_bound = typeI_est + typeI_CI\n",
    "\n",
    "hob_upper = binomial.holder_odi_bound(\n",
    "    typeI_bound, g.theta_tiles, g.vertices, n_arm_samples, holderq\n",
    ")\n",
    "sim_cost = typeI_CI\n",
    "hob_empirical_cost = hob_upper - typeI_bound\n",
    "worst_idx = np.argmax(typeI_est)\n",
    "worst_tile = g.theta_tiles[worst_idx]\n",
    "typeI_est[worst_idx], worst_tile\n",
    "worst_cv_idx = np.argmin(sim_cvs)\n",
    "typeI_est[worst_cv_idx], sim_cvs[worst_cv_idx], g.theta_tiles[worst_cv_idx], pointwise_target_alpha[worst_cv_idx]\n",
    "plt.hist(typeI_est, bins=np.linspace(0.02,0.025, 100))\n",
    "plt.show()\n",
    "\n",
    "theta_0 = np.array([-1.0, -1.0, -1.0])      # sim point\n",
    "v = 0.1 * np.ones(theta_0.shape[0])     # displacement\n",
    "f0 = 0.01                               # Type I Error at theta_0\n",
    "fwd_solver = ehbound.ForwardQCPSolver(n=n_arm_samples)\n",
    "q_opt = fwd_solver.solve(theta_0=theta_0, v=v, a=f0) # optimal q\n",
    "ehbound.q_holder_bound_fwd(q_opt, n_arm_samples, theta_0, v, f0)"
   ]
  }
 ],
 "metadata": {
  "kernelspec": {
   "display_name": "Python 3.10.5 ('confirm')",
   "language": "python",
   "name": "python3"
  },
  "language_info": {
   "codemirror_mode": {
    "name": "ipython",
    "version": 3
   },
   "file_extension": ".py",
   "mimetype": "text/x-python",
   "name": "python",
   "nbconvert_exporter": "python",
   "pygments_lexer": "ipython3",
   "version": "3.10.5"
  },
  "orig_nbformat": 4,
  "vscode": {
   "interpreter": {
    "hash": "b4c6ec5b2d6c7b38df115d547b82cd53ca25eea58d87299956d35a9dc79f19f1"
   }
  }
 },
 "nbformat": 4,
 "nbformat_minor": 2
}
