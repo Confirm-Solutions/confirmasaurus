{
 "cells": [
  {
   "cell_type": "code",
   "execution_count": 1,
   "metadata": {},
   "outputs": [],
   "source": [
    "import confirm.outlaw.nb_util as nb_util\n",
    "nb_util.setup_nb()"
   ]
  },
  {
   "cell_type": "code",
   "execution_count": 2,
   "metadata": {},
   "outputs": [],
   "source": [
    "import jax\n",
    "import os\n",
    "import numpy as np\n",
    "from confirm.mini_imprint import grid\n",
    "from confirm.lewislib import grid as lewgrid\n",
    "from confirm.lewislib import lewis\n",
    "from confirm.mini_imprint import binomial"
   ]
  },
  {
   "cell_type": "code",
   "execution_count": 3,
   "metadata": {},
   "outputs": [],
   "source": [
    "# Configuration used during simulation\n",
    "params = {\n",
    "    \"n_arms\" : 4,\n",
    "    \"n_stage_1\" : 50,\n",
    "    \"n_stage_2\" : 100,\n",
    "    \"n_stage_1_interims\" : 2,\n",
    "    \"n_stage_1_add_per_interim\" : 100,\n",
    "    \"n_stage_2_add_per_interim\" : 100,\n",
    "    \"stage_1_futility_threshold\" : 0.15,\n",
    "    \"stage_1_efficacy_threshold\" : 0.7,\n",
    "    \"stage_2_futility_threshold\" : 0.2,\n",
    "    \"stage_2_efficacy_threshold\" : 0.95,\n",
    "    \"inter_stage_futility_threshold\" : 0.6,\n",
    "    \"posterior_difference_threshold\" : 0,\n",
    "    \"rejection_threshold\" : 0.05,\n",
    "    \"key\" : jax.random.PRNGKey(0),\n",
    "    \"n_pr_sims\" : 100,\n",
    "    \"n_sig2_sims\" : 20,\n",
    "    \"batch_size\" : int(2**20),\n",
    "    \"cache_tables\" : './lei_cache.pkl',\n",
    "}\n",
    "\n",
    "params = {\n",
    "    \"n_arms\" : 4,\n",
    "    \"n_stage_1\" : 15,\n",
    "    \"n_stage_2\" : 33,\n",
    "    \"n_stage_1_interims\" : 2,\n",
    "    \"n_stage_1_add_per_interim\" : 33,\n",
    "    \"n_stage_2_add_per_interim\" : 33,\n",
    "    \"stage_1_futility_threshold\" : 0.15,\n",
    "    \"stage_1_efficacy_threshold\" : 0.7,\n",
    "    \"stage_2_futility_threshold\" : 0.2,\n",
    "    \"stage_2_efficacy_threshold\" : 0.95,\n",
    "    \"inter_stage_futility_threshold\" : 0.6,\n",
    "    \"posterior_difference_threshold\" : 0,\n",
    "    \"rejection_threshold\" : 0.05,\n",
    "    \"key\" : jax.random.PRNGKey(0),\n",
    "    \"n_pr_sims\" : 100,\n",
    "    \"n_sig2_sims\" : 20,\n",
    "    \"batch_size\" : int(2**20),\n",
    "    \"cache_tables\" : './lei_cache.pkl',\n",
    "}\n",
    "size = 52\n",
    "n_sim_batches = 500\n",
    "sim_batch_size = 100"
   ]
  },
  {
   "cell_type": "code",
   "execution_count": 4,
   "metadata": {},
   "outputs": [],
   "source": [
    "# construct Lei object\n",
    "lei_obj = lewis.Lewis45(**params)"
   ]
  },
  {
   "cell_type": "code",
   "execution_count": null,
   "metadata": {},
   "outputs": [],
   "source": []
  }
 ],
 "metadata": {
  "kernelspec": {
   "display_name": "Python 3.10.5 ('confirm')",
   "language": "python",
   "name": "python3"
  },
  "language_info": {
   "codemirror_mode": {
    "name": "ipython",
    "version": 3
   },
   "file_extension": ".py",
   "mimetype": "text/x-python",
   "name": "python",
   "nbconvert_exporter": "python",
   "pygments_lexer": "ipython3",
   "version": "3.10.5"
  },
  "orig_nbformat": 4,
  "vscode": {
   "interpreter": {
    "hash": "b4c6ec5b2d6c7b38df115d547b82cd53ca25eea58d87299956d35a9dc79f19f1"
   }
  }
 },
 "nbformat": 4,
 "nbformat_minor": 2
}
