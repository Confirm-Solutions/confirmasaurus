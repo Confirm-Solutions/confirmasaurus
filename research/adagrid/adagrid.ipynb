{
 "cells": [
  {
   "cell_type": "code",
   "execution_count": 1,
   "metadata": {},
   "outputs": [],
   "source": [
    "import confirm.berrylib.util as util\n",
    "util.setup_nb(pretty=False)\n",
    "\n",
    "from scipy.special import logit, expit\n",
    "import scipy.stats\n",
    "import matplotlib.pyplot as plt\n",
    "import numpy as np\n",
    "import jax.numpy as jnp\n",
    "import warnings\n",
    "# import pyimprint.grid as grid\n",
    "import confirm.berrylib.fast_inla as fast_inla\n",
    "import confirm.mini_imprint.binomial as binomial\n",
    "import confirm.mini_imprint.grid as grid\n",
    "\n",
    "import jax\n",
    "# set to cpu or gpu to run on a specific device.\n",
    "# jax.config.update('jax_platform_name', 'gpu')\n",
    "\n",
    "def chunked_simulate(g, sim_size, gridpt_chunk_size=5000, sim_chunk_size=50000):\n",
    "    theta_tiles = g.theta_tiles\n",
    "    typeI_sum = np.zeros(theta_tiles.shape[0])\n",
    "    typeI_score = np.zeros((theta_tiles.shape[0], n_arms))\n",
    "    n_gridpt_chunks = int(np.ceil(theta_tiles.shape[0] / gridpt_chunk_size))\n",
    "    n_sim_chunks = int(np.ceil(sim_size / sim_chunk_size))\n",
    "\n",
    "    for j in range(n_sim_chunks):\n",
    "        start_sims = j * sim_chunk_size\n",
    "        end_sims = min(start_sims + sim_chunk_size, sim_size)\n",
    "        nsims_this_chunk = end_sims - start_sims\n",
    "        samples = np.random.uniform(size=(nsims_this_chunk, n_arm_samples, n_arms))\n",
    "        for i in range(n_gridpt_chunks):\n",
    "            gridpt_start = i * gridpt_chunk_size\n",
    "            gridpt_end = (i + 1) * gridpt_chunk_size\n",
    "            gridpt_end = min(gridpt_end, theta_tiles.shape[0])\n",
    "            sum_chunk, score_chunk = accumulator(\n",
    "                theta_tiles[gridpt_start:gridpt_end],\n",
    "                g.null_truth[gridpt_start:gridpt_end],\n",
    "                samples\n",
    "            )\n",
    "            typeI_sum[gridpt_start:gridpt_end] += sum_chunk\n",
    "            typeI_score[gridpt_start:gridpt_end] += score_chunk\n",
    "    return typeI_sum, typeI_score\n",
    "\n",
    "# total, d0, d0u, d1w, d1uw, d2uw = binomial.upper_bound(\n",
    "#     g.theta_tiles,\n",
    "#     g.radii[g.grid_pt_idx],\n",
    "#     g.vertices,\n",
    "#     np.full(g.n_tiles, sim_size),\n",
    "#     n_arm_samples,\n",
    "#     typeI_sum,\n",
    "#     typeI_score,\n",
    "# )"
   ]
  },
  {
   "cell_type": "code",
   "execution_count": null,
   "metadata": {},
   "outputs": [],
   "source": [
    "import matplotlib as mpl"
   ]
  },
  {
   "cell_type": "code",
   "execution_count": null,
   "metadata": {},
   "outputs": [],
   "source": [
    "theta, radii = grid.cartesian_gridpts([-1, -1], [1, 1], [2, 2])\n",
    "null_hypos = [grid.HyperPlane(-np.identity(2)[i], -0.1) for i in range(2)]\n",
    "g = grid.build_grid(theta, radii, null_hypos)\n",
    "rects = []\n",
    "for i in range(g.n_tiles):\n",
    "    xy = np.min(g.vertices[i], axis=-1)\n",
    "    width = np.max(g.vertices[i], axis=-1) - xy\n",
    "    rects.append(mpl.patches.Rectangle(xy, *width, facecolor=None))\n",
    "plt.gca().add_collection(mpl.patches.PathCollection(rects))"
   ]
  },
  {
   "cell_type": "code",
   "execution_count": 2,
   "metadata": {},
   "outputs": [
    {
     "name": "stdout",
     "output_type": "stream",
     "text": [
      "CPU times: user 1.94 s, sys: 979 ms, total: 2.92 s\n",
      "Wall time: 2.86 s\n"
     ]
    }
   ],
   "source": [
    "%%time\n",
    "n_arms = 2\n",
    "n_arm_samples = 35\n",
    "fi = fast_inla.FastINLA(n_arms=n_arms, critical_value=0.99)\n",
    "rejection_table = binomial.build_rejection_table(n_arms, n_arm_samples, fi.rejection_inference)\n",
    "accumulator = binomial.binomial_accumulator(lambda data: binomial.lookup_rejection(rejection_table, data[...,0]))"
   ]
  },
  {
   "cell_type": "code",
   "execution_count": 45,
   "metadata": {},
   "outputs": [],
   "source": [
    "n_theta_1d = 4\n",
    "theta_min = -3.5\n",
    "theta_max = 1.0\n",
    "\n",
    "null_hypos = [\n",
    "    grid.HyperPlane(-np.identity(n_arms)[i], -logit(0.1)) for i in range(n_arms)\n",
    "]\n",
    "theta, radii = grid.cartesian_gridpts(\n",
    "    np.full(n_arms, theta_min), np.full(n_arms, theta_max), np.full(n_arms, n_theta_1d)\n",
    ")\n",
    "start_grid = grid.prune(grid.build_grid(theta, radii, null_hypos))"
   ]
  },
  {
   "cell_type": "code",
   "execution_count": 32,
   "metadata": {},
   "outputs": [],
   "source": [
    "seed = 10\n",
    "sim_size = 10000\n",
    "delta = 0.025"
   ]
  },
  {
   "cell_type": "code",
   "execution_count": 40,
   "metadata": {},
   "outputs": [],
   "source": [
    "# stop adagrid whenever hob is below this\n",
    "target_bound = 0.1\n",
    "\n",
    "# if we can't get below 0.1, refine until the edges are less than 20% above the\n",
    "# sim pt\n",
    "target_grid_rel_bound = 0.2\n",
    "# if we can't get below 0.1, refine until the edges are less than 20% above the\n",
    "# sim pt\n",
    "target_sim_rel_bound = 0.2\n",
    "N_max = int(2e5)\n",
    "\n",
    "iter_max = 5\n"
   ]
  },
  {
   "cell_type": "code",
   "execution_count": 41,
   "metadata": {},
   "outputs": [],
   "source": [
    "def dots_plot(g, typeI_upper_bound, hob):\n",
    "    plt.subplots(1, 2, figsize=(7, 3.0), constrained_layout=True)\n",
    "    plt.subplot(1,2,1)\n",
    "    plt.scatter(g.theta_tiles[:,0], g.theta_tiles[:, 1], c=hob, s=10)\n",
    "    plt.colorbar()\n",
    "    plt.subplot(1,2,2)\n",
    "    plt.scatter(g.theta_tiles[:,0], g.theta_tiles[:, 1], c=typeI_upper_bound, s=10)\n",
    "    plt.colorbar()\n",
    "    plt.show()"
   ]
  },
  {
   "cell_type": "code",
   "execution_count": 46,
   "metadata": {},
   "outputs": [
    {
     "data": {
      "image/png": "[encoded data removed]",
      "text/plain": [
       "<Figure size 700x300 with 4 Axes>"
      ]
     },
     "metadata": {},
     "output_type": "display_data"
    },
    {
     "name": "stdout",
     "output_type": "stream",
     "text": [
      "(16,) 0\n"
     ]
    },
    {
     "ename": "TypeError",
     "evalue": "refine_grid() takes 2 positional arguments but 3 were given",
     "output_type": "error",
     "traceback": [
      "\u001b[0;31m---------------------------------------------------------------------------\u001b[0m",
      "\u001b[0;31mTypeError\u001b[0m                                 Traceback (most recent call last)",
      "Cell \u001b[0;32mIn [46], line 42\u001b[0m\n\u001b[1;32m     39\u001b[0m     \u001b[38;5;28;01mbreak\u001b[39;00m\n\u001b[1;32m     40\u001b[0m \u001b[38;5;28mprint\u001b[39m(refine_tile_idxs[\u001b[38;5;241m0\u001b[39m]\u001b[38;5;241m.\u001b[39mshape, keep_tile_idxs\u001b[38;5;241m.\u001b[39mshape[\u001b[38;5;241m0\u001b[39m])\n\u001b[0;32m---> 42\u001b[0m (new_thetas, new_radii), unrefined_grid, keep_tile_idxs2 \u001b[38;5;241m=\u001b[39m \u001b[43mgrid\u001b[49m\u001b[38;5;241;43m.\u001b[39;49m\u001b[43mrefine_grid\u001b[49m\u001b[43m(\u001b[49m\n\u001b[1;32m     43\u001b[0m \u001b[43m    \u001b[49m\u001b[43mg\u001b[49m\u001b[43m,\u001b[49m\u001b[43m \u001b[49m\u001b[43mg\u001b[49m\u001b[38;5;241;43m.\u001b[39;49m\u001b[43mgrid_pt_idx\u001b[49m\u001b[43m[\u001b[49m\u001b[43mrefine_tile_idxs\u001b[49m\u001b[43m]\u001b[49m\u001b[43m,\u001b[49m\u001b[43m \u001b[49m\u001b[43mnull_hypos\u001b[49m\n\u001b[1;32m     44\u001b[0m \u001b[43m\u001b[49m\u001b[43m)\u001b[49m\n\u001b[1;32m     45\u001b[0m new_grid \u001b[38;5;241m=\u001b[39m grid\u001b[38;5;241m.\u001b[39mprune(grid\u001b[38;5;241m.\u001b[39mbuild_grid(new_thetas, new_radii, null_hypos))\n\u001b[1;32m     46\u001b[0m np\u001b[38;5;241m.\u001b[39mtesting\u001b[38;5;241m.\u001b[39massert_allclose(keep_tile_idxs, keep_tile_idxs2)\n",
      "\u001b[0;31mTypeError\u001b[0m: refine_grid() takes 2 positional arguments but 3 were given"
     ]
    }
   ],
   "source": [
    "new_grid = start_grid\n",
    "unrefined_grid = None\n",
    "for ada_i in range(iter_max):\n",
    "    # TODO: is setting the seed inside the loop okay?\n",
    "    np.random.seed(seed)\n",
    "    new_typeI_sum, _ = chunked_simulate(new_grid, sim_size)\n",
    "    if unrefined_grid is not None:\n",
    "        g = grid.concat_grids(new_grid, unrefined_grid)\n",
    "        typeI_sum = np.concatenate((unrefined_typeI_sum, new_typeI_sum))\n",
    "    else:\n",
    "        g = new_grid\n",
    "        typeI_sum = new_typeI_sum\n",
    "\n",
    "    typeI_est, typeI_CI = binomial.zero_order_bound(typeI_sum, sim_size, delta, 1.0)\n",
    "    typeI_upper_bound = typeI_est + typeI_CI\n",
    "\n",
    "    hob = binomial.holder_odi_bound(\n",
    "        typeI_upper_bound, g.theta_tiles, g.vertices, n_arm_samples, 6\n",
    "    )\n",
    "    dots_plot(g, typeI_upper_bound, hob)\n",
    "    if ada_i == iter_max - 1:\n",
    "        break\n",
    "\n",
    "    need_more_sims = typeI_upper_bound > target_bound\n",
    "    typeI_lower_bound = scipy.stats.beta.ppf(\n",
    "        1 - delta, typeI_sum, sim_size - typeI_sum + 1\n",
    "    )\n",
    "    typeI_lower_bound = np.where(np.isnan(typeI_lower_bound), 0, typeI_lower_bound)\n",
    "    likely_to_fail = typeI_lower_bound > target_bound\n",
    "    more_sims = (typeI_upper_bound > target_bound) & (target_bound > typeI_lower_bound)\n",
    "\n",
    "    need_refine = ((hob - typeI_upper_bound) / typeI_upper_bound > target_grid_rel_bound) & (\n",
    "        hob > target_bound\n",
    "    )\n",
    "    refine_tile_idxs = np.where(need_refine)\n",
    "    keep_tile_idxs = np.setdiff1d(np.arange(g.n_tiles), refine_tile_idxs[0])\n",
    "    if refine_tile_idxs[0].shape[0] == 0:\n",
    "        print('done because no refinement')\n",
    "        break\n",
    "    print(refine_tile_idxs[0].shape, keep_tile_idxs.shape[0])\n",
    "\n",
    "    (new_thetas, new_radii), unrefined_grid, keep_tile_idxs2 = grid.refine_grid(\n",
    "        g, g.grid_pt_idx[refine_tile_idxs], null_hypos\n",
    "    )\n",
    "    new_grid = grid.prune(grid.build_grid(new_thetas, new_radii))\n",
    "    np.testing.assert_allclose(keep_tile_idxs, keep_tile_idxs2)\n",
    "    unrefined_typeI_sum = typeI_sum[keep_tile_idxs]"
   ]
  },
  {
   "cell_type": "code",
   "execution_count": null,
   "metadata": {},
   "outputs": [],
   "source": []
  }
 ],
 "metadata": {
  "kernelspec": {
   "display_name": "Python 3.10.6 ('base')",
   "language": "python",
   "name": "python3"
  },
  "language_info": {
   "codemirror_mode": {
    "name": "ipython",
    "version": 3
   },
   "file_extension": ".py",
   "mimetype": "text/x-python",
   "name": "python",
   "nbconvert_exporter": "python",
   "pygments_lexer": "ipython3",
   "version": "3.10.6"
  },
  "orig_nbformat": 4,
  "vscode": {
   "interpreter": {
    "hash": "d4d1e4263499bec80672ea0156c357c1ee493ec2b1c70f0acce89fc37c4a6abe"
   }
  }
 },
 "nbformat": 4,
 "nbformat_minor": 2
}
