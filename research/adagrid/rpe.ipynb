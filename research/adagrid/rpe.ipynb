{
 "cells": [
  {
   "cell_type": "code",
   "execution_count": null,
   "metadata": {},
   "outputs": [],
   "source": [
    "import jax\n",
    "import jax.numpy as jnp\n",
    "import numpy as np\n",
    "\n",
    "\n",
    "def memory_status(title):\n",
    "    client = jax.lib.xla_bridge.get_backend()\n",
    "    mem_usage = sum([b.nbytes for b in client.live_buffers()]) / 1e9\n",
    "    print(f\"{title} memory usage\", mem_usage)\n",
    "    print(f\"{title} buffer sizes\", [b.shape for b in client.live_buffers()])\n",
    "\n",
    "\n",
    "key1 = jax.random.PRNGKey(0)\n",
    "unifs = jax.random.uniform(key=key1, shape=(256000, 350, 4), dtype=jnp.float32)\n",
    "\n",
    "\n",
    "def f(x):\n",
    "    return jnp.sum(x, axis=1)\n",
    "\n",
    "\n",
    "fj = jax.jit(f)\n",
    "for i in range(2):\n",
    "    for size in [1000, 2000, 4000, 8000, 16000, 32000, 64000, 128000, 256000]:\n",
    "        subset = unifs[:size]\n",
    "        fv = np.empty((size, unifs.shape[2]))\n",
    "        for i in range(size // 1000):\n",
    "            fv[i * 1000 : (i + 1) * 1000] = fj(subset[i * 1000 : (i + 1) * 1000])\n",
    "        print(size, fv.shape)\n",
    "        memory_status(\"report\")"
   ]
  },
  {
   "cell_type": "code",
   "execution_count": 1,
   "metadata": {},
   "outputs": [
    {
     "name": "stdout",
     "output_type": "stream",
     "text": [
      "hi\n"
     ]
    }
   ],
   "source": [
    "print(\"hi\")"
   ]
  }
 ],
 "metadata": {
  "kernelspec": {
   "display_name": "Python 3.10.6 ('base')",
   "language": "python",
   "name": "python3"
  },
  "language_info": {
   "codemirror_mode": {
    "name": "ipython",
    "version": 3
   },
   "file_extension": ".py",
   "mimetype": "text/x-python",
   "name": "python",
   "nbconvert_exporter": "python",
   "pygments_lexer": "ipython3",
   "version": "3.10.6"
  },
  "orig_nbformat": 4,
  "vscode": {
   "interpreter": {
    "hash": "d4d1e4263499bec80672ea0156c357c1ee493ec2b1c70f0acce89fc37c4a6abe"
   }
  }
 },
 "nbformat": 4,
 "nbformat_minor": 2
}
