{
 "cells": [
  {
   "cell_type": "code",
   "execution_count": 1,
   "metadata": {},
   "outputs": [],
   "source": [
    "import confirm.outlaw.nb_util as nb_util\n",
    "nb_util.setup_nb()\n",
    "\n",
    "import matplotlib.pyplot as plt\n",
    "import numpy as np\n",
    "import jax.numpy as jnp\n",
    "import jax\n",
    "# Run on CPU because a concurrent process is probably running on GPU.\n",
    "jax.config.update('jax_platform_name', 'cpu')\n",
    "\n",
    "import lewis_tune_sim as lts\n",
    "from confirm.lewislib import lewis"
   ]
  },
  {
   "cell_type": "code",
   "execution_count": 2,
   "metadata": {},
   "outputs": [],
   "source": [
    "import pickle\n",
    "with open('3d/68.pkl', 'rb') as f:\n",
    "    data = pickle.load(f)\n",
    "g, sim_sizes, sim_cvs, _, _, pointwise_target_alpha = data"
   ]
  },
  {
   "cell_type": "code",
   "execution_count": 3,
   "metadata": {},
   "outputs": [],
   "source": [
    "# Configuration used during simulation\n",
    "name = \"3d\"\n",
    "params = {\n",
    "    \"n_arms\": 3,\n",
    "    \"n_stage_1\": 50,\n",
    "    \"n_stage_2\": 100,\n",
    "    \"n_stage_1_interims\": 2,\n",
    "    \"n_stage_1_add_per_interim\": 100,\n",
    "    \"n_stage_2_add_per_interim\": 100,\n",
    "    \"stage_1_futility_threshold\": 0.15,\n",
    "    \"stage_1_efficacy_threshold\": 0.7,\n",
    "    \"stage_2_futility_threshold\": 0.2,\n",
    "    \"stage_2_efficacy_threshold\": 0.95,\n",
    "    \"inter_stage_futility_threshold\": 0.6,\n",
    "    \"posterior_difference_threshold\": 0,\n",
    "    \"rejection_threshold\": 0.05,\n",
    "    \"key\": jax.random.PRNGKey(0),\n",
    "    \"n_table_pts\": 20,\n",
    "    \"n_pr_sims\": 100,\n",
    "    \"n_sig2_sims\": 20,\n",
    "    \"batch_size\": int(2**12),\n",
    "    \"cache_tables\": f\"./{name}/lei_cache.pkl\",\n",
    "}\n",
    "lei_obj = lewis.Lewis45(**params)"
   ]
  },
  {
   "cell_type": "code",
   "execution_count": 4,
   "metadata": {},
   "outputs": [
    {
     "data": {
      "image/png": "[encoded data removed]",
      "text/plain": [
       "<Figure size 640x480 with 1 Axes>"
      ]
     },
     "metadata": {
      "image/png": {
       "height": 429,
       "width": 546
      }
     },
     "output_type": "display_data"
    }
   ],
   "source": [
    "plt.hist(pointwise_target_alpha[sim_cvs == 0], bins=100)\n",
    "plt.show()"
   ]
  },
  {
   "cell_type": "code",
   "execution_count": 44,
   "metadata": {},
   "outputs": [],
   "source": [
    "key = jax.random.PRNGKey(0)\n",
    "unifs = jax.random.uniform(key=key, shape=(np.max(sim_sizes),) + lei_obj.unifs_shape())\n",
    "unifs_order = np.arange(0, unifs.shape[1])\n",
    "\n",
    "batch_size = 2**4\n",
    "idxs = np.where(sim_cvs == 0)[0][:batch_size]\n",
    "overall_cv = 0\n",
    "simv = jax.jit(\n",
    "    jax.vmap(lts.sim, in_axes=(None, 0, None, None)), static_argnums=(0,)\n",
    ")\n",
    "tunev = jax.jit(jax.vmap(lts.tune, in_axes=(None, 0, 0, 0, None, None)), static_argnums=(0,))\n",
    "rejv = jax.jit(\n",
    "    jax.vmap(lts.rej, in_axes=(None, 0, 0, 0, None, None)), static_argnums=(0,)\n",
    ")\n",
    "batched_sim = lts.grouped_by_sim_size(lei_obj, simv, batch_size, n_out=2)\n",
    "batched_rej = lts.grouped_by_sim_size(lei_obj, rejv, batch_size)\n",
    "batched_tune = lts.grouped_by_sim_size(lei_obj, tunev, batch_size)"
   ]
  },
  {
   "cell_type": "code",
   "execution_count": 49,
   "metadata": {},
   "outputs": [],
   "source": [
    "test_stats, best_arms = lts.simv(lei_obj, g.theta_tiles[idxs], unifs[:1000], unifs_order[:1000])"
   ]
  },
  {
   "cell_type": "code",
   "execution_count": 69,
   "metadata": {},
   "outputs": [
    {
     "data": {
      "text/plain": [
       "DeviceArray(23, dtype=int64)"
      ]
     },
     "execution_count": 69,
     "metadata": {},
     "output_type": "execute_result"
    }
   ],
   "source": [
    "alpha = pointwise_target_alpha[idxs[0]]\n",
    "cv_idx = jnp.maximum(\n",
    "    jnp.floor((unifs.shape[0] + 1) * jnp.maximum(alpha, 0)).astype(int) - 1, 0\n",
    ")\n",
    "cv_idx"
   ]
  },
  {
   "cell_type": "code",
   "execution_count": 60,
   "metadata": {},
   "outputs": [
    {
     "data": {
      "text/plain": [
       "DeviceArray([0.        , 0.00526097, 0.00570855, 0.01033178, 0.01063929, 0.02898933, 0.03028939,\n",
       "             0.03182161, 0.0372274 , 0.03983137, 0.04402515, 0.04562993, 0.04808738, 0.0525456 ,\n",
       "             0.07057453, 0.08338165, 0.08699439, 0.0903775 , 0.09353179, 0.09524129, 0.0986853 ,\n",
       "             0.10353585, 0.10785986, 0.12315217, 0.13706904, 0.13781289, 0.18404676, 0.19944814,\n",
       "             0.21396142, 0.21507338, 0.21704441, 0.22825735, 0.24719905, 0.26880212, 0.27820072,\n",
       "             0.2824309 , 0.29691021, 0.360772  , 0.37241344, 0.38689041, 0.39546072, 0.41572249,\n",
       "             0.42838576, 0.54316623, 1.        , 1.        , 1.        , 1.        , 1.        ,\n",
       "             1.        , 1.        , 1.        , 1.        , 1.        , 1.        , 1.        ,\n",
       "             1.        , 1.        , 1.        , 1.        , 1.        , 1.        , 1.        ,\n",
       "             1.        , 1.        , 1.        , 1.        , 1.        , 1.        , 1.        ,\n",
       "             1.        , 1.        , 1.        , 1.        , 1.        , 1.        , 1.        ,\n",
       "             1.        , 1.        , 1.        , 1.        , 1.        , 1.        , 1.        ,\n",
       "             1.        , 1.        , 1.        , 1.        , 1.        , 1.        , 1.        ,\n",
       "             1.        , 1.        , 1.        , 1.        , 1.        , 1.        , 1.        ,\n",
       "             1.        , 1.        , 1.        , 1.        , 1.        , 1.        , 1.        ,\n",
       "             1.        , 1.        , 1.        , 1.        , 1.        , 1.        , 1.        ,\n",
       "             1.        , 1.        , 1.        , 1.        , 1.        , 1.        , 1.        ,\n",
       "             1.        , 1.        , 1.        , 1.        , 1.        , 1.        , 1.        ,\n",
       "             1.        , 1.        , 1.        , 1.        , 1.        , 1.        , 1.        ,\n",
       "             1.        , 1.        , 1.        , 1.        , 1.        , 1.        , 1.        ,\n",
       "             1.        , 1.        , 1.        , 1.        , 1.        , 1.        , 1.        ,\n",
       "             1.        , 1.        , 1.        , 1.        , 1.        , 1.        , 1.        ,\n",
       "             1.        , 1.        , 1.        , 1.        , 1.        , 1.        , 1.        ,\n",
       "             1.        , 1.        , 1.        , 1.        , 1.        , 1.        , 1.        ,\n",
       "             1.        , 1.        , 1.        , 1.        , 1.        , 1.        , 1.        ,\n",
       "             1.        , 1.        , 1.        , 1.        , 1.        , 1.        , 1.        ,\n",
       "             1.        , 1.        , 1.        , 1.        , 1.        , 1.        , 1.        ,\n",
       "             1.        , 1.        , 1.        , 1.        , 1.        , 1.        , 1.        ,\n",
       "             1.        , 1.        , 1.        , 1.        , 1.        , 1.        , 1.        ,\n",
       "             1.        , 1.        , 1.        , 1.        , 1.        , 1.        , 1.        ,\n",
       "             1.        , 1.        , 1.        , 1.        , 1.        , 1.        , 1.        ,\n",
       "             1.        , 1.        , 1.        , 1.        , 1.        , 1.        , 1.        ,\n",
       "             1.        , 1.        , 1.        , 1.        , 1.        , 1.        , 1.        ,\n",
       "             1.        , 1.        , 1.        , 1.        , 1.        , 1.        , 1.        ,\n",
       "             1.        , 1.        , 1.        , 1.        , 1.        , 1.        , 1.        ,\n",
       "             1.        , 1.        , 1.        , 1.        , 1.        , 1.        , 1.        ,\n",
       "             1.        , 1.        , 1.        , 1.        , 1.        , 1.        , 1.        ,\n",
       "             1.        , 1.        , 1.        , 1.        , 1.        , 1.        , 1.        ,\n",
       "             1.        , 1.        , 1.        , 1.        , 1.        , 1.        , 1.        ,\n",
       "             1.        , 1.        , 1.        , 1.        , 1.        , 1.        , 1.        ,\n",
       "             1.        , 1.        , 1.        , 1.        , 1.        , 1.        , 1.        ,\n",
       "             1.        , 1.        , 1.        , 1.        , 1.        , 1.        , 1.        ,\n",
       "             1.        , 1.        , 1.        , 1.        , 1.        , 1.        , 1.        ,\n",
       "             1.        , 1.        , 1.        , 1.        , 1.        , 1.        , 1.        ,\n",
       "             1.        , 1.        , 1.        , 1.        , 1.        , 1.        , 1.        ,\n",
       "             1.        , 1.        , 1.        , 1.        , 1.        , 1.        , 1.        ,\n",
       "             1.        , 1.        , 1.        , 1.        , 1.        , 1.        , 1.        ,\n",
       "             1.        , 1.        , 1.        , 1.        , 1.        , 1.        , 1.        ,\n",
       "             1.        , 1.        , 1.        , 1.        , 1.        , 1.        , 1.        ,\n",
       "             1.        , 1.        , 1.        , 1.        , 1.        , 1.        , 1.        ,\n",
       "             1.        , 1.        , 1.        , 1.        , 1.        , 1.        , 1.        ,\n",
       "             1.        , 1.        , 1.        , 1.        , 1.        , 1.        , 1.        ,\n",
       "             1.        , 1.        , 1.        , 1.        , 1.        , 1.        , 1.        ,\n",
       "             1.        , 1.        , 1.        , 1.        , 1.        , 1.        , 1.        ,\n",
       "             1.        , 1.        , 1.        , 1.        , 1.        , 1.        , 1.        ,\n",
       "             1.        , 1.        , 1.        , 1.        , 1.        , 1.        , 1.        ,\n",
       "             1.        , 1.        , 1.        , 1.        , 1.        , 1.        , 1.        ,\n",
       "             1.        , 1.        , 1.        , 1.        , 1.        , 1.        , 1.        ,\n",
       "             1.        , 1.        , 1.        , 1.        , 1.        , 1.        , 1.        ,\n",
       "             1.        , 1.        , 1.        , 1.        , 1.        , 1.        , 1.        ,\n",
       "             1.        , 1.        , 1.        , 1.        , 1.        , 1.        , 1.        ,\n",
       "             1.        , 1.        , 1.        , 1.        , 1.        , 1.        , 1.        ,\n",
       "             1.        , 1.        , 1.        , 1.        , 1.        , 1.        , 1.        ,\n",
       "             1.        , 1.        , 1.        , 1.        , 1.        , 1.        , 1.        ,\n",
       "             1.        , 1.        , 1.        , 1.        , 1.        , 1.        , 1.        ,\n",
       "             1.        , 1.        , 1.        , 1.        , 1.        , 1.        , 1.        ,\n",
       "             1.        , 1.        , 1.        , 1.        , 1.        , 1.        , 1.        ,\n",
       "             1.        , 1.        , 1.        , 1.        , 1.        , 1.        , 1.        ,\n",
       "             1.        , 1.        , 1.        , 1.        , 1.        , 1.        , 1.        ,\n",
       "             1.        , 1.        , 1.        , 1.        , 1.        , 1.        , 1.        ,\n",
       "             1.        , 1.        , 1.        , 1.        , 1.        , 1.        , 1.        ,\n",
       "             1.        , 1.        , 1.        , 1.        , 1.        , 1.        , 1.        ,\n",
       "             1.        , 1.        , 1.        , 1.        , 1.        , 1.        , 1.        ,\n",
       "             1.        , 1.        , 1.        , 1.        , 1.        , 1.        , 1.        ,\n",
       "             1.        , 1.        , 1.        , 1.        , 1.        , 1.        , 1.        ,\n",
       "             1.        , 1.        , 1.        , 1.        , 1.        , 1.        , 1.        ,\n",
       "             1.        , 1.        , 1.        , 1.        , 1.        , 1.        , 1.        ,\n",
       "             1.        , 1.        , 1.        , 1.        , 1.        , 1.        , 1.        ,\n",
       "             1.        , 1.        , 1.        , 1.        , 1.        , 1.        , 1.        ,\n",
       "             1.        , 1.        , 1.        , 1.        , 1.        , 1.        , 1.        ,\n",
       "             1.        , 1.        , 1.        , 1.        , 1.        , 1.        , 1.        ,\n",
       "             1.        , 1.        , 1.        , 1.        , 1.        , 1.        , 1.        ,\n",
       "             1.        , 1.        , 1.        , 1.        , 1.        , 1.        , 1.        ,\n",
       "             1.        , 1.        , 1.        , 1.        , 1.        , 1.        , 1.        ,\n",
       "             1.        , 1.        , 1.        , 1.        , 1.        , 1.        , 1.        ,\n",
       "             1.        , 1.        , 1.        , 1.        , 1.        , 1.        , 1.        ,\n",
       "             1.        , 1.        , 1.        , 1.        , 1.        , 1.        , 1.        ,\n",
       "             1.        , 1.        , 1.        , 1.        , 1.        , 1.        , 1.        ,\n",
       "             1.        , 1.        , 1.        , 1.        , 1.        , 1.        , 1.        ,\n",
       "             1.        , 1.        , 1.        , 1.        , 1.        , 1.        , 1.        ,\n",
       "             1.        , 1.        , 1.        , 1.        , 1.        , 1.        , 1.        ,\n",
       "             1.        , 1.        , 1.        , 1.        , 1.        , 1.        , 1.        ,\n",
       "             1.        , 1.        , 1.        , 1.        , 1.        , 1.        , 1.        ,\n",
       "             1.        , 1.        , 1.        , 1.        , 1.        , 1.        , 1.        ,\n",
       "             1.        , 1.        , 1.        , 1.        , 1.        , 1.        , 1.        ,\n",
       "             1.        , 1.        , 1.        , 1.        , 1.        , 1.        , 1.        ,\n",
       "             1.        , 1.        , 1.        , 1.        , 1.        , 1.        , 1.        ,\n",
       "             1.        , 1.        , 1.        , 1.        , 1.        , 1.        , 1.        ,\n",
       "             1.        , 1.        , 1.        , 1.        , 1.        , 1.        , 1.        ,\n",
       "             1.        , 1.        , 1.        , 1.        , 1.        , 1.        , 1.        ,\n",
       "             1.        , 1.        , 1.        , 1.        , 1.        , 1.        , 1.        ,\n",
       "             1.        , 1.        , 1.        , 1.        , 1.        , 1.        , 1.        ,\n",
       "             1.        , 1.        , 1.        , 1.        , 1.        , 1.        , 1.        ,\n",
       "             1.        , 1.        , 1.        , 1.        , 1.        , 1.        , 1.        ,\n",
       "             1.        , 1.        , 1.        , 1.        , 1.        , 1.        , 1.        ,\n",
       "             1.        , 1.        , 1.        , 1.        , 1.        , 1.        , 1.        ,\n",
       "             1.        , 1.        , 1.        , 1.        , 1.        , 1.        , 1.        ,\n",
       "             1.        , 1.        , 1.        , 1.        , 1.        , 1.        , 1.        ,\n",
       "             1.        , 1.        , 1.        , 1.        , 1.        , 1.        , 1.        ,\n",
       "             1.        , 1.        , 1.        , 1.        , 1.        , 1.        , 1.        ,\n",
       "             1.        , 1.        , 1.        , 1.        , 1.        , 1.        , 1.        ,\n",
       "             1.        , 1.        , 1.        , 1.        , 1.        , 1.        , 1.        ,\n",
       "             1.        , 1.        , 1.        , 1.        , 1.        , 1.        , 1.        ,\n",
       "             1.        , 1.        , 1.        , 1.        , 1.        , 1.        , 1.        ,\n",
       "             1.        , 1.        , 1.        , 1.        , 1.        , 1.        , 1.        ,\n",
       "             1.        , 1.        , 1.        , 1.        , 1.        , 1.        , 1.        ,\n",
       "             1.        , 1.        , 1.        , 1.        , 1.        , 1.        , 1.        ,\n",
       "             1.        , 1.        , 1.        , 1.        , 1.        , 1.        , 1.        ,\n",
       "             1.        , 1.        , 1.        , 1.        , 1.        , 1.        , 1.        ,\n",
       "             1.        , 1.        , 1.        , 1.        , 1.        , 1.        , 1.        ,\n",
       "             1.        , 1.        , 1.        , 1.        , 1.        , 1.        , 1.        ,\n",
       "             1.        , 1.        , 1.        , 1.        , 1.        , 1.        , 1.        ,\n",
       "             1.        , 1.        , 1.        , 1.        , 1.        , 1.        , 1.        ,\n",
       "             1.        , 1.        , 1.        , 1.        , 1.        , 1.        , 1.        ,\n",
       "             1.        , 1.        , 1.        , 1.        , 1.        , 1.        , 1.        ,\n",
       "             1.        , 1.        , 1.        , 1.        , 1.        , 1.        , 1.        ,\n",
       "             1.        , 1.        , 1.        , 1.        , 1.        , 1.        , 1.        ,\n",
       "             1.        , 1.        , 1.        , 1.        , 1.        , 1.        , 1.        ,\n",
       "             1.        , 1.        , 1.        , 1.        , 1.        , 1.        , 1.        ,\n",
       "             1.        , 1.        , 1.        , 1.        , 1.        , 1.        , 1.        ,\n",
       "             1.        , 1.        , 1.        , 1.        , 1.        , 1.        , 1.        ,\n",
       "             1.        , 1.        , 1.        , 1.        , 1.        , 1.        , 1.        ,\n",
       "             1.        , 1.        , 1.        , 1.        , 1.        , 1.        , 1.        ,\n",
       "             1.        , 1.        , 1.        , 1.        , 1.        , 1.        , 1.        ,\n",
       "             1.        , 1.        , 1.        , 1.        , 1.        , 1.        , 1.        ,\n",
       "             1.        , 1.        , 1.        , 1.        , 1.        , 1.        , 1.        ,\n",
       "             1.        , 1.        , 1.        , 1.        , 1.        , 1.        , 1.        ,\n",
       "             1.        , 1.        , 1.        , 1.        , 1.        , 1.        , 1.        ,\n",
       "             1.        , 1.        , 1.        , 1.        , 1.        , 1.        , 1.        ,\n",
       "             1.        , 1.        , 1.        , 1.        , 1.        , 1.        , 1.        ,\n",
       "             1.        , 1.        , 1.        , 1.        , 1.        , 1.        , 1.        ,\n",
       "             1.        , 1.        , 1.        , 1.        , 1.        , 1.        , 1.        ,\n",
       "             1.        , 1.        , 1.        , 1.        , 1.        , 1.        ],            dtype=float64)"
      ]
     },
     "execution_count": 60,
     "metadata": {},
     "output_type": "execute_result"
    }
   ],
   "source": [
    "sortedts = jnp.sort(test_stats[0])\n",
    "sortedts"
   ]
  },
  {
   "cell_type": "code",
   "execution_count": 41,
   "metadata": {},
   "outputs": [
    {
     "data": {
      "text/plain": [
       "(1000, 350, 3)"
      ]
     },
     "execution_count": 41,
     "metadata": {},
     "output_type": "execute_result"
    }
   ],
   "source": [
    "unifs.shape"
   ]
  },
  {
   "cell_type": "code",
   "execution_count": 39,
   "metadata": {},
   "outputs": [
    {
     "ename": "ValueError",
     "evalue": "shape mismatch: value array of shape (0,1000) could not be broadcast to indexing result of shape (16,1000)",
     "output_type": "error",
     "traceback": [
      "\u001b[0;31m---------------------------------------------------------------------------\u001b[0m",
      "\u001b[0;31mValueError\u001b[0m                                Traceback (most recent call last)",
      "Cell \u001b[0;32mIn [39], line 1\u001b[0m\n\u001b[0;32m----> 1\u001b[0m test_stats, best_arm \u001b[38;5;241m=\u001b[39m \u001b[43mbatched_sim\u001b[49m\u001b[43m(\u001b[49m\u001b[43msim_sizes\u001b[49m\u001b[43m[\u001b[49m\u001b[43midxs\u001b[49m\u001b[43m]\u001b[49m\u001b[43m,\u001b[49m\u001b[43m \u001b[49m\u001b[43m[\u001b[49m\u001b[43mg\u001b[49m\u001b[38;5;241;43m.\u001b[39;49m\u001b[43mtheta_tiles\u001b[49m\u001b[43m[\u001b[49m\u001b[43midxs\u001b[49m\u001b[43m]\u001b[49m\u001b[43m]\u001b[49m\u001b[43m,\u001b[49m\u001b[43m \u001b[49m\u001b[43m[\u001b[49m\u001b[43munifs\u001b[49m\u001b[43m,\u001b[49m\u001b[43m \u001b[49m\u001b[43munifs_order\u001b[49m\u001b[43m]\u001b[49m\u001b[43m)\u001b[49m\n",
      "File \u001b[0;32m/workspaces/confirmasaurus/research/adagrid/lewis_tune_sim.py:69\u001b[0m, in \u001b[0;36mgrouped_by_sim_size.<locals>.internal\u001b[0;34m(sim_sizes, tile_args, sim_args)\u001b[0m\n\u001b[1;32m     61\u001b[0m f_batched \u001b[39m=\u001b[39m batch\u001b[39m.\u001b[39mbatch_all_concat(\n\u001b[1;32m     62\u001b[0m     f, grid_batch_size, in_axes\u001b[39m=\u001b[39min_axes\n\u001b[1;32m     63\u001b[0m )\n\u001b[1;32m     64\u001b[0m res \u001b[39m=\u001b[39m f_batched(\n\u001b[1;32m     65\u001b[0m     lei_obj,\n\u001b[1;32m     66\u001b[0m     \u001b[39m*\u001b[39m[ta[idx] \u001b[39mfor\u001b[39;00m ta \u001b[39min\u001b[39;00m tile_args],\n\u001b[1;32m     67\u001b[0m     \u001b[39m*\u001b[39m[sa[:size] \u001b[39mfor\u001b[39;00m sa \u001b[39min\u001b[39;00m sim_args]\n\u001b[1;32m     68\u001b[0m )\n\u001b[0;32m---> 69\u001b[0m \u001b[39mfor\u001b[39;00m i \u001b[39min\u001b[39;00m \u001b[39mrange\u001b[39m(n_out):\n\u001b[1;32m     70\u001b[0m     \u001b[39mif\u001b[39;00m outs[i] \u001b[39mis\u001b[39;00m \u001b[39mNone\u001b[39;00m:\n\u001b[1;32m     71\u001b[0m         outs[i] \u001b[39m=\u001b[39m np\u001b[39m.\u001b[39mempty((tile_args[\u001b[39m0\u001b[39m]\u001b[39m.\u001b[39mshape[\u001b[39m0\u001b[39m], \u001b[39m*\u001b[39mres[i]\u001b[39m.\u001b[39mshape[\u001b[39m1\u001b[39m:]), dtype\u001b[39m=\u001b[39mres[i]\u001b[39m.\u001b[39mdtype)\n",
      "\u001b[0;31mValueError\u001b[0m: shape mismatch: value array of shape (0,1000) could not be broadcast to indexing result of shape (16,1000)"
     ]
    }
   ],
   "source": [
    "test_stats, best_arm = batched_sim(sim_sizes[idxs], [g.theta_tiles[idxs]], [unifs, unifs_order])"
   ]
  },
  {
   "cell_type": "code",
   "execution_count": null,
   "metadata": {},
   "outputs": [
    {
     "data": {
      "text/plain": [
       "(1000,)"
      ]
     },
     "execution_count": 24,
     "metadata": {},
     "output_type": "execute_result"
    }
   ],
   "source": [
    "test_stats.shape"
   ]
  },
  {
   "cell_type": "code",
   "execution_count": null,
   "metadata": {},
   "outputs": [],
   "source": [
    "typeI_sum = batched_sim(\n",
    "    sim_sizes[idxs],\n",
    "    np.full(idxs.shape[0], overall_cv),\n",
    "    g.theta_tiles[idxs],\n",
    "    g.null_truth[idxs],\n",
    "    unifs,\n",
    "    unifs_order,\n",
    ")"
   ]
  }
 ],
 "metadata": {
  "kernelspec": {
   "display_name": "Python 3.10.6 ('base')",
   "language": "python",
   "name": "python3"
  },
  "language_info": {
   "codemirror_mode": {
    "name": "ipython",
    "version": 3
   },
   "file_extension": ".py",
   "mimetype": "text/x-python",
   "name": "python",
   "nbconvert_exporter": "python",
   "pygments_lexer": "ipython3",
   "version": "3.10.6"
  },
  "orig_nbformat": 4,
  "vscode": {
   "interpreter": {
    "hash": "d4d1e4263499bec80672ea0156c357c1ee493ec2b1c70f0acce89fc37c4a6abe"
   }
  }
 },
 "nbformat": 4,
 "nbformat_minor": 2
}
