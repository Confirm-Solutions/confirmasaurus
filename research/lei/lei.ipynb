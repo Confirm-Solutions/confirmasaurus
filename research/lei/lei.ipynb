{
 "cells": [
  {
   "cell_type": "code",
   "execution_count": 1,
   "metadata": {},
   "outputs": [
    {
     "name": "stderr",
     "output_type": "stream",
     "text": [
      "/Users/jhyang/opt/miniconda3/envs/imprint/lib/python3.10/site-packages/tqdm/auto.py:22: TqdmWarning: IProgress not found. Please update jupyter and ipywidgets. See https://ipywidgets.readthedocs.io/en/stable/user_install.html\n",
      "  from .autonotebook import tqdm as notebook_tqdm\n"
     ]
    }
   ],
   "source": [
    "import inlaw\n",
    "import inlaw.berry as berry\n",
    "import inlaw.quad as quad\n",
    "import numpy as np\n",
    "import jax.numpy as jnp\n",
    "import jax\n",
    "import time\n",
    "import inlaw.inla as inla\n",
    "import numpyro.distributions as dist\n",
    "from functools import partial"
   ]
  },
  {
   "cell_type": "code",
   "execution_count": 2,
   "metadata": {},
   "outputs": [],
   "source": [
    "def my_timeit(N, f, iter=5, inner_iter=10, should_print=True):\n",
    "    _ = f()\n",
    "    runtimes = []\n",
    "    for i in range(iter):\n",
    "        start = time.time()\n",
    "        f()\n",
    "        runtimes.append(time.time() - start)\n",
    "    if should_print:\n",
    "        print(\"median runtime\", np.median(runtimes))\n",
    "        print(\"min us per sample \", np.min(runtimes) * 1e6 / N)\n",
    "        print(\"median us per sample\", np.median(runtimes) * 1e6 / N)\n",
    "    return runtimes\n",
    "\n",
    "def benchmark(N=10000, iter=5):\n",
    "    dtype = np.float32\n",
    "    data = berry.figure2_data(N).astype(dtype)\n",
    "    sig2_rule = quad.log_gauss_rule(15, 1e-6, 1e3)\n",
    "    sig2 = sig2_rule.pts.astype(dtype)\n",
    "    x0 = jnp.zeros((sig2.shape[0], 4), dtype=dtype)\n",
    "\n",
    "    print(\"\\ncustom dirty bayes\")\n",
    "    db = jax.jit(jax.vmap(berry.build_dirty_bayes(sig2, n_arms=4, dtype=dtype)))\n",
    "    my_timeit(N, lambda: db(data)[0].block_until_ready(), iter=iter)\n",
    "\n",
    "    print(\"\\ncustom dirty bayes\")\n",
    "    db = jax.jit(jax.vmap(berry.build_dirty_bayes(sig2, n_arms=4, dtype=dtype)))\n",
    "    my_timeit(N, lambda: db(data)[0].block_until_ready(), iter=iter)\n",
    "\n",
    "    def bench_ops(name, ops):\n",
    "        print(f\"\\n{name} gaussian\")\n",
    "        hyperpost = jax.jit(jax.vmap(ops.laplace_logpost, in_axes=(None, None, 0)))\n",
    "        p_pinned = dict(sig2=sig2, theta=None)\n",
    "        my_timeit(\n",
    "            N, lambda: hyperpost(x0, p_pinned, data)[0].block_until_ready(), iter=iter\n",
    "        )\n",
    "\n",
    "        print(f\"\\n{name} laplace\")\n",
    "        _, x_max, hess_info, _ = hyperpost(x0, p_pinned, data)\n",
    "        arm_logpost_f = jax.jit(\n",
    "            jax.vmap(\n",
    "                jax.vmap(\n",
    "                    ops.cond_laplace_logpost, in_axes=(0, 0, None, 0, 0, None, None)\n",
    "                ),\n",
    "                in_axes=(None, None, None, None, 0, None, None),\n",
    "            ),\n",
    "            static_argnums=(5, 6),\n",
    "        )\n",
    "        invv = jax.jit(jax.vmap(jax.vmap(ops.invert)))\n",
    "\n",
    "        def f():\n",
    "            inv_hess = invv(hess_info)\n",
    "            arm_post = []\n",
    "            for arm_idx in range(4):\n",
    "                cx, wts = inla.gauss_hermite_grid(\n",
    "                    x_max, inv_hess[..., arm_idx, :], arm_idx, n=25\n",
    "                )\n",
    "                arm_logpost = arm_logpost_f(\n",
    "                    x_max, inv_hess[:, :, arm_idx], p_pinned, data, cx, arm_idx, True\n",
    "                )\n",
    "                arm_post.append(inla.exp_and_normalize(arm_logpost, wts, axis=0))\n",
    "            return jnp.array(arm_post)\n",
    "\n",
    "        my_timeit(N, jax.jit(f), iter=iter)\n",
    "\n",
    "    custom_ops = berry.optimized(sig2, dtype=dtype).config(max_iter=10)\n",
    "    bench_ops(\"custom berry\", custom_ops)\n",
    "\n",
    "    ad_ops = inla.from_log_joint(\n",
    "        berry.log_joint(4), dict(sig2=np.array([np.nan]), theta=np.full(4, 0.0))\n",
    "    ).config(max_iter=10)\n",
    "    bench_ops(\"numpyro berry\", ad_ops)"
   ]
  },
  {
   "cell_type": "markdown",
   "metadata": {},
   "source": [
    "# Lei Example"
   ]
  },
  {
   "cell_type": "markdown",
   "metadata": {},
   "source": [
    "The following description is a clinical trial design using a Bayesian model with early-stopping rules for futility or efficacy of a drug.\n",
    "This design was explicitly requested to be studied by an FDA member (Lei) in the CID team."
   ]
  },
  {
   "cell_type": "markdown",
   "metadata": {},
   "source": [
    "> The following is a randomized, double-blind, placebo-controlled two-stage adaptive design intended to identify an optimal treatment regimen \n",
    "> from three possible regimens (for example, different dosages or different combinations of agents) and \n",
    "> to assess the efficacy of that regimen with respect to a primary binary response endpoint measured at month 6.\n",
    "> \n",
    "> In Stage 1, one of four experimental regimens will be selected, or the trial will stop for futility. \n",
    "> In this stage, a minimum of 200 and a maximum of 400 will be randomized 1:1:1:1 to one of the three experimental arms or one placebo arm. \n",
    "> Interim analyses will be conducted after 200, 300 and 400 subjects have been enrolled to select the best experimental regimen and to potentially stop \n",
    "> the trial for futility. \n",
    "> If an experimental regimen is dropped for futility at an interim analysis, \n",
    "> the next 100 subjects to be randomized will be allocated equally among the remaining arms in the study. \n",
    "> At each of these three analysis time points (N = 200, 300, 400), \n",
    "> the probabilities of being the best regimen (PrBest) and predictive probability of success (PPS) \n",
    "> are calculated for each experimental regimen using a Bayesian approach, \n",
    "> and the trial will either stop for futility, \n",
    "> continue to the next interim analysis, \n",
    "> or proceed to Stage 2 depending on the results of these PrBest and PPS calculations.\n",
    "> \n",
    "> In Stage 2, a minimum of 200 and a maximum of 400 additional subjects will be randomized 1:1 to the chosen regimen or placebo. \n",
    "> The two groups (pooling both Stage 1 and Stage 2 subjects) will be compared for efficacy and futility assessment at an interim analysis \n",
    "> after 200 subjects have been enrolled in Stage 2, \n",
    "> and for efficacy at a final analysis after 400 subjects have been enrolled in Stage 2 and fully followed-up for response. \n",
    "> The study may be stopped for futility or efficacy based on PPS at the interim analysis. \n",
    "> If the study continues to the final analysis, \n",
    "> the posterior distribution of the difference in response rates between placebo and the chosen experimental arm \n",
    "> will be evaluated against a pre-specified decision criterion.\n",
    "> \n",
    "> - Scenario 1: interim analyses are based on available data on the primary endpoint (measured at month 6)\n",
    "> - Scenario 2: interim analyses are based on available data on a secondary endpoint (measured at month 3) "
   ]
  },
  {
   "cell_type": "markdown",
   "metadata": {},
   "source": [
    "This notebook breaks down and discusses the components of the trial."
   ]
  },
  {
   "cell_type": "markdown",
   "metadata": {},
   "source": [
    "## Model"
   ]
  },
  {
   "cell_type": "markdown",
   "metadata": {},
   "source": [
    "The notation is as follows:"
   ]
  },
  {
   "cell_type": "markdown",
   "metadata": {},
   "source": [
    "- $y \\in \\mathbb{N}^d$: Binomial responses.\n",
    "- $p \\in [0,1]^d$: probability parameter to the Binomial distribution.\n",
    "- $n \\in \\mathbb{N}^d$: size parameter to the Binomial distribution.\n",
    "- $q \\in [0,1]^d$: base probability value to offset $p$.\n",
    "- $\\theta \\in \\R^d$: logit parameter that determines $p$.\n",
    "- $\\mu \\in \\mathbb{R}$: shared mean parameter among $\\theta_i$.\n",
    "- $\\sigma^2 \\in \\mathbb{R}_+$: shared variance parameter among $\\theta_i$.\n",
    "- $\\mu_0, \\sigma_0^2, \\alpha_0, \\beta_0 \\in \\mathbb{R}$: hyper-parameters."
   ]
  },
  {
   "cell_type": "markdown",
   "metadata": {},
   "source": [
    "The Bayesian model is described below:\n",
    "\\begin{align*}\n",
    "y_i | p_i &\\sim \\mathrm{Binom}(n_i, p_i) \\quad i = 1,\\ldots, d \\\\\n",
    "p_i &= {\\sf expit}(\\theta_i + \\mathrm{logit}(q_i) ) \\quad i = 1,\\ldots, d \\\\\n",
    "\\theta | \\mu, \\sigma^2 &\\sim \\mathcal{N}(\\mu \\mathbb{1}, \\sigma^2 I) \\\\\n",
    "\\mu &\\sim \\mathcal{N}(\\mu_0, \\sigma_0^2) \\\\\n",
    "\\sigma^2 &\\sim \\Gamma^{-1}(\\alpha_0, \\beta_0) \\\\\n",
    "\\end{align*}\n",
    "\n",
    "We note in passing that the model can be collapsed along $\\mu$ to get:\n",
    "\\begin{align*}\n",
    "y_i | p_i &\\sim \\mathrm{Binom}(n_i, p_i) \\quad i = 1,\\ldots, d \\\\\n",
    "p_i &= {\\sf expit}(\\theta_i + \\mathrm{logit}(q_i) ) \\quad i = 1,\\ldots, d \\\\\n",
    "\\theta | \\sigma^2 &\\sim \\mathcal{N}(\\mu_0 \\mathbb{1}, \\sigma^2 I + \\sigma_0^2 \\mathbb{1} \\mathbb{1}^\\top) \\\\\n",
    "\\sigma^2 &\\sim \\Gamma^{-1}(\\alpha_0, \\beta_0) \\\\\n",
    "\\end{align*}"
   ]
  },
  {
   "cell_type": "markdown",
   "metadata": {},
   "source": [
    "\n",
    "## Probability of Best Arm"
   ]
  },
  {
   "cell_type": "markdown",
   "metadata": {},
   "source": [
    "The first quantity of interest is probability of best (treatment) arm.\n",
    "Concretely, letting $i = 1$ denote the control arm, we wish to compute for each $1 < i \\leq d$:\n",
    "\\begin{align*}\n",
    "\\mathbb{P}(p_i > \\max\\limits_{j \\neq i} p_j | y, n)\n",
    "&=\n",
    "\\int \\mathbb{P}(p_i > \\max\\limits_{j \\neq i} p_j | y, n, \\sigma^2) p(\\sigma^2 | y, n) \\, d\\sigma^2\n",
    "\\\\&=\n",
    "\\int \\mathbb{P}(\\theta_i + c_i > \\max\\limits_{j \\neq i} (\\theta_j + c_j) | y, n, \\sigma^2) p(\\sigma^2 | y, n) \\, d\\sigma^2\n",
    "\\end{align*}\n",
    "where $c = \\mathrm{logit}(q)$.\n",
    "We can approximate this quantity by estimating the two integrand terms separately. \n",
    "By approximating $\\theta_i | y, n$ as normal, the first integrand term can be estimated by Monte Carlo.\n",
    "The second term can be estimated by INLA."
   ]
  },
  {
   "cell_type": "code",
   "execution_count": 3,
   "metadata": {},
   "outputs": [],
   "source": [
    "def pr_normal_best(mean, cov, key, n_sims):\n",
    "    '''\n",
    "    Estimates P[X_i > max_{j != i} X_j] where X ~ N(mean, cov) via sampling.\n",
    "    '''\n",
    "    out_shape = (n_sims, *mean.shape[:-1])\n",
    "    sims = jax.random.multivariate_normal(key, mean, cov, shape=out_shape)\n",
    "    order = jnp.arange(1, mean.shape[-1])\n",
    "    compute_pr_best_all = jax.vmap(lambda i: jnp.mean(jnp.argmax(sims, axis=-1) == i, axis=0))\n",
    "    return compute_pr_best_all(order)"
   ]
  },
  {
   "cell_type": "code",
   "execution_count": 4,
   "metadata": {},
   "outputs": [
    {
     "data": {
      "text/plain": [
       "DeviceArray([0.01431, 0.01442, 0.95713], dtype=float64)"
      ]
     },
     "execution_count": 4,
     "metadata": {},
     "output_type": "execute_result"
    }
   ],
   "source": [
    "d = 4\n",
    "mean = jnp.array([2, 2, 2, 5])\n",
    "cov = jnp.eye(d)\n",
    "key = jax.random.PRNGKey(0)\n",
    "n_sims = 100000\n",
    "jax.jit(pr_normal_best, static_argnums=(3,))(mean, cov, key, n_sims=n_sims)"
   ]
  },
  {
   "cell_type": "markdown",
   "metadata": {},
   "source": [
    "Next, we perform INLA to estimate $p(\\sigma^2 | y, n)$ on a grid of values for $\\sigma^2$."
   ]
  },
  {
   "cell_type": "code",
   "execution_count": 5,
   "metadata": {},
   "outputs": [],
   "source": [
    "sig2_rule = quad.log_gauss_rule(15, 1e-6, 1e3)\n",
    "custom_ops = berry.optimized(sig2_rule.pts, n_arms=4).config(\n",
    "    opt_tol=1e-3\n",
    ")\n"
   ]
  },
  {
   "cell_type": "code",
   "execution_count": 6,
   "metadata": {},
   "outputs": [],
   "source": [
    "def posterior_sigma_sq(data, pts, wts):\n",
    "    _, n_arms, _ = data.shape\n",
    "    sig2 = pts\n",
    "    n_sig2 = sig2.shape[0]\n",
    "    p_pinned = dict(sig2=sig2, theta=None)\n",
    "\n",
    "    f = jax.jit(jax.vmap(custom_ops.laplace_logpost, in_axes=(None, None, 0)))\n",
    "    logpost, x_max, hess, iters = f(\n",
    "        np.zeros((n_sig2, n_arms)), p_pinned, data\n",
    "    )\n",
    "    post = inla.exp_and_normalize(\n",
    "            logpost, wts, axis=1)\n",
    "\n",
    "    return post, x_max, hess, iters "
   ]
  },
  {
   "cell_type": "code",
   "execution_count": 7,
   "metadata": {},
   "outputs": [],
   "source": [
    "dtype = jnp.float64\n",
    "N = 1\n",
    "data = berry.figure2_data(N).astype(dtype)[0]\n",
    "post, _, hess, _ = jax.jit(posterior_sigma_sq)(data[None,:], sig2_rule.pts, sig2_rule.wts)\n",
    "n_arms = 4\n",
    "ff = jax.jit(jax.vmap(jax.vmap(\n",
    "    lambda h: jnp.diag(h[0]) + jnp.full(shape=(n_arms, n_arms), fill_value=h[1]))))"
   ]
  },
  {
   "cell_type": "markdown",
   "metadata": {},
   "source": [
    "Putting the two pieces together, we have the following function to compute the probability of best treatment arm."
   ]
  },
  {
   "cell_type": "code",
   "execution_count": 8,
   "metadata": {},
   "outputs": [],
   "source": [
    "def pr_best(data, pts, wts, key, n_sims):\n",
    "    n_arms, _ = data.shape\n",
    "    post, x_max, hess, _ = posterior_sigma_sq(data[None,:], pts, wts) \n",
    "    mean = x_max\n",
    "    hess_fn = jax.vmap(jax.vmap(lambda h: jnp.diag(h[0]) + jnp.full(shape=(n_arms, n_arms), fill_value=h[1])))\n",
    "    prec = -hess_fn(hess) # (n_sims, n_sigs, n_arms, n_arms)\n",
    "    cov = jnp.linalg.inv(prec)\n",
    "    pr_normal_best_out = pr_normal_best(mean, cov, key=key, n_sims=n_sims)\n",
    "    return jnp.matmul(pr_normal_best_out[:,0,:], post[0] * wts)"
   ]
  },
  {
   "cell_type": "code",
   "execution_count": 9,
   "metadata": {},
   "outputs": [
    {
     "data": {
      "text/plain": [
       "DeviceArray([0.03982225, 0.45002745, 0.47545385], dtype=float64)"
      ]
     },
     "execution_count": 9,
     "metadata": {},
     "output_type": "execute_result"
    }
   ],
   "source": [
    "n_sims = 13\n",
    "out = jax.jit(pr_best, static_argnums=(4,))(data, sig2_rule.pts, sig2_rule.wts, key, n_sims)\n",
    "out"
   ]
  },
  {
   "cell_type": "markdown",
   "metadata": {},
   "source": [
    "## Posterior Probability of Success\n",
    "\n",
    "The next quantity we need to compute is the posterior probability of success (PPS).\n",
    "For convenience of implementation, we will take this to mean the following:\n",
    "let $y, n$ denote the currently observed data\n",
    "and $A_i = \\{ \\text{Phase III rejects using treatment arm i} \\}$.\n",
    "Then, we wish to compute\n",
    "\\begin{align*}\n",
    "\\mathbb{P}(A_i | y, n)\n",
    "\\end{align*}\n",
    "Expanding the quantity,\n",
    "\\begin{align*}\n",
    "\\mathbb{P}(A_i | y, n) &=\n",
    "\\int \\mathbb{P}(A_i | y, n, \\theta_i, \\theta_0) p(\\theta_0, \\theta_i | y, n) \\, d\\theta_i d\\theta_0 \\\\&=\n",
    "\\int \\mathbb{P}(A_i | y, n, \\theta_i, \\theta_0) p(\\theta_0, \\theta_i | y, n) \\, d\\theta_i d\\theta_0\n",
    "\\end{align*}\n",
    "\n",
    "Once we have an estimate for $p(\\theta_0, \\theta_i | y, n)$, \n",
    "we can use 2-D quadrature to numerically integrate the integrand.\n",
    "Similar to computing the probability of best arm,\n",
    "\\begin{align*}\n",
    "p(\\theta_0, \\theta_i | y, n)\n",
    "&=\n",
    "\\int p(\\theta_0, \\theta_i | y, n, \\sigma^2) p(\\sigma^2 | y, n) \\, d\\sigma^2\n",
    "\\end{align*}\n",
    "We will use the Gaussian approximation for $p(\\theta_0, \\theta_i | y, n, \\sigma^2)$\n",
    "and use INLA to estimate $p(\\sigma^2 | y, n)$.\n",
    "\n",
    "\\begin{align*}\n",
    "p(\\theta | y, n, \\sigma^2)\n",
    "\\approx\n",
    "\\mathcal{N}(\\theta^*, -(H\\log p(\\theta^*, y, \\sigma^2))^{-1})\n",
    "\\\\\n",
    "\\implies\n",
    "p(\\theta_0, \\theta_i | y, n, \\sigma^2)\n",
    "\\approx\n",
    "\\mathcal{N}(\\theta^*_{[0,i]}, -(H\\log p(\\theta^*, y, \\sigma^2))^{-1}_{[0,i], [0,i]})\n",
    "\\end{align*}\n",
    "\n",
    "Method 1:\n"
   ]
  },
  {
   "cell_type": "markdown",
   "metadata": {},
   "source": [
    "## Phase III Final Analysis\n",
    "\n",
    "\\begin{align*}\n",
    "\\mathbb{P}(\\theta_i - \\theta_0 < t | y, n) < 0.1\n",
    "\\end{align*}\n",
    "\n",
    "\\begin{align*}\n",
    "\\mathbb{P}(\\theta_i - \\theta_0 < t | y, n)\n",
    "&=\n",
    "\\mathbb{P}(q_1^\\top \\theta < t | y,n)\n",
    "=\n",
    "\\int \\mathbb{P}(q_1^\\top \\theta < t | y, n, \\sigma^2) p(\\sigma^2 | y, n) \\, d\\sigma^2\n",
    "\\\\&=\n",
    "\\int \\mathbb{P}(q_1^\\top \\theta < t | y, n, \\sigma^2) p(\\sigma^2 | y, n) \\, d\\sigma^2\n",
    "\\\\\n",
    "q_1^\\top \\theta | y, n, \\sigma^2 &\\sim \\mathcal{N}(q_1^\\top \\theta^*, -q_1^\\top (H\\log p(\\theta^*, y, \\sigma^2))^{-1} q_1)\n",
    "\\end{align*}"
   ]
  },
  {
   "cell_type": "markdown",
   "metadata": {},
   "source": [
    "## Design Implementation"
   ]
  },
  {
   "cell_type": "code",
   "execution_count": 10,
   "metadata": {},
   "outputs": [
    {
     "name": "stdout",
     "output_type": "stream",
     "text": [
      "CPU times: user 427 µs, sys: 43 µs, total: 470 µs\n",
      "Wall time: 445 µs\n"
     ]
    }
   ],
   "source": [
    "%%time\n",
    "key = jax.random.PRNGKey(0)"
   ]
  },
  {
   "cell_type": "code",
   "execution_count": 11,
   "metadata": {},
   "outputs": [],
   "source": [
    "class Lewis45:\n",
    "    def __init__(\n",
    "        self,\n",
    "        n_arms,\n",
    "        n_stage_1,\n",
    "        n_stage_2,\n",
    "        n_interims,\n",
    "        n_add_per_interim,\n",
    "        futility_threshold,\n",
    "        pps_threshold_lower,\n",
    "        pps_threshold_upper,\n",
    "        posterior_difference_threshold,\n",
    "        rejection_threshold,\n",
    "        sig2_rule = quad.log_gauss_rule(15, 1e-6, 1e3),\n",
    "        dtype = jnp.float64,\n",
    "    ):\n",
    "        \"\"\"\n",
    "        Constructs an object to run the Lei example.\n",
    "\n",
    "        Parameters:\n",
    "        -----------\n",
    "        n_stage_1:      number of patients to enroll at stage 1 for each arm.\n",
    "        n_interims:     number of interims.\n",
    "        n_add_per_interim:      number of total patients to add per interim.\n",
    "        futility_threshold:     probability cut-off to decide futility for treatment arms.\n",
    "                                If P(arm_i best | data) < futility_threshold, declare arm_i as futile.\n",
    "        n_stage_2:              number of patients to add for stage 2 for each arm.\n",
    "        pps_threshold_lower:    threshold for checking futility: PPS < pps_threshold_lower <=> futility.\n",
    "        pps_threshold_upper:    threshold for checking efficacy: PPs > pps_threshold_upper <=> efficacy.\n",
    "        posterior_difference_threshold: threshold to compute posterior difference of selected arm p and control arm p.\n",
    "        rejection_threshold:    threshold for rejection at the final analysis (if reached):\n",
    "                                P(p_selected_treatment_arm - p_control_arm < posterior_difference_threshold | data) < rejection_threshold\n",
    "                                <=> rejection.\n",
    "        \"\"\"\n",
    "        self.n_arms = n_arms\n",
    "        self.n_stage_1 = n_stage_1\n",
    "        self.n_stage_2 = n_stage_2\n",
    "        self.n_interims = n_interims\n",
    "        self.n_add_per_interim = n_add_per_interim\n",
    "        self.futility_threshold = futility_threshold\n",
    "        self.pps_threshold_lower = pps_threshold_lower\n",
    "        self.pps_threshold_upper = pps_threshold_upper\n",
    "        self.posterior_difference_threshold = posterior_difference_threshold\n",
    "        self.rejection_threshold = rejection_threshold\n",
    "        \n",
    "        self.dtype = dtype\n",
    "\n",
    "        self.sig2_rule = sig2_rule\n",
    "        self.sig2_rule.pts = self.sig2_rule.pts.astype(self.dtype)\n",
    "        self.sig2_rule.wts = self.sig2_rule.wts.astype(self.dtype)\n",
    "        self.custom_ops = berry.optimized(self.sig2_rule.pts, n_arms=n_arms).config(\n",
    "            opt_tol=1e-3\n",
    "        )\n",
    "        \n",
    "    def posterior_sigma_sq(self, data):\n",
    "        '''\n",
    "        Computes the posterior of sigma^2 given data, p(sigma^2 | y)\n",
    "        using INLA method.\n",
    "        '''\n",
    "        _, n_arms, _ = data.shape\n",
    "        sig2 = sig2_rule.pts\n",
    "        n_sig2 = sig2.shape[0]\n",
    "        p_pinned = dict(sig2=sig2, theta=None)\n",
    "        f = jax.vmap(self.custom_ops.laplace_logpost, in_axes=(None, None, 0))\n",
    "        logpost, x_max, hess, iters = f(\n",
    "            np.zeros((n_sig2, n_arms), dtype=self.dtype), p_pinned, data\n",
    "        )\n",
    "        post = inla.exp_and_normalize(logpost, sig2_rule.wts[None, :], axis=1)\n",
    "\n",
    "        return post, x_max, hess, iters \n",
    "\n",
    "    @staticmethod\n",
    "    def pr_normal_best(mean, cov, key, n_sims):\n",
    "        '''\n",
    "        Estimates P[X_i > max_{j != i} X_j] where X ~ N(mean, cov) via sampling.\n",
    "        '''\n",
    "        out_shape = (n_sims, *mean.shape[:-1])\n",
    "        sims = jax.random.multivariate_normal(key, mean, cov, shape=out_shape)\n",
    "        order = jnp.arange(1, mean.shape[-1])\n",
    "        compute_pr_best_all = jax.vmap(lambda i: jnp.mean(jnp.argmax(sims, axis=-1) == i, axis=0))\n",
    "        return compute_pr_best_all(order)\n",
    "\n",
    "    def compute_pr_best(self, data, non_futile_idx, n_sims):\n",
    "        n_arms, _ = data.shape\n",
    "        post, x_max, hess, _ = self.posterior_sigma_sq(data[None,:]) \n",
    "        mean = x_max\n",
    "        hess_fn = jax.vmap(jax.vmap(lambda h: jnp.diag(h[0]) + jnp.full(shape=(n_arms, n_arms), fill_value=h[1])))\n",
    "        prec = -hess_fn(hess) # (n_sims, n_sigs, n_arms, n_arms)\n",
    "        cov = jnp.linalg.inv(prec)\n",
    "        pr_normal_best_out = pr_normal_best(mean, cov, key=key, n_sims=n_sims)\n",
    "        pr_best_out = jnp.matmul(pr_normal_best_out[:,0,:], post[0] * self.sig2_rule.wts)\n",
    "        return jnp.where(non_futile_idx == 0, jnp.nan, pr_best_out)\n",
    "             \n",
    "    @staticmethod\n",
    "    def compute_pps(data):\n",
    "        # TODO: fill in detail\n",
    "        return 0\n",
    "\n",
    "    @staticmethod\n",
    "    def posterior_difference(data, thresh):\n",
    "        # TODO: fill in detail\n",
    "        return 0.1\n",
    "\n",
    "    def stage_1(self, p, key, n_sims):\n",
    "        \"\"\"\n",
    "        Runs a single simulation of Stage 1 of the Lei example.\n",
    "\n",
    "        Parameters:\n",
    "        -----------\n",
    "        p:      simulation grid-point.\n",
    "        key:    jax PRNG key.\n",
    "\n",
    "        Returns:\n",
    "        --------\n",
    "        data, n_non_futile, non_futile_idx, pr_best, key\n",
    "\n",
    "        data:           (number of arms, 2) where column 0 is the simulated binomial data for each arm\n",
    "                        and column 1 is the corresponding value for the Binomial n parameter.\n",
    "        n_non_futile:   number of non-futile treatment arms.\n",
    "        non_futile_idx: vector of booleans indicating whether each arm is non-futile.\n",
    "        pr_best:        vector containing probability of being the best arm for each arm.\n",
    "                        It is set to jnp.nan if the arm was dropped for futility or if the arm is control (index 0).\n",
    "        key:            last PRNG key used.\n",
    "        \"\"\"\n",
    "\n",
    "        n_arms = self.n_arms\n",
    "        n_stage_1 = self.n_stage_1\n",
    "        n_interims = self.n_interims\n",
    "        n_add_per_interim = self.n_add_per_interim\n",
    "        futility_threshold = self.futility_threshold\n",
    "\n",
    "        # create initial data\n",
    "        n_arr = jnp.full(shape=n_arms, fill_value=n_stage_1)\n",
    "        data = dist.Binomial(total_count=n_arr, probs=p).sample(key)\n",
    "        data = jnp.stack((data, n_arr))\n",
    "\n",
    "        # auxiliary variables\n",
    "        stage_1_not_done = True\n",
    "        non_futile_idx = jnp.ones(n_arms, dtype=bool)\n",
    "        pr_best = self.compute_pr_best(data, non_futile_idx, n_sims)\n",
    "        order = jnp.arange(0, len(non_futile_idx))\n",
    "\n",
    "        # Stage 1:\n",
    "        for _ in range(n_interims):\n",
    "            # get non-futile arm indices (offset by 1 because of control arm)\n",
    "            # force control arm to be non-futile\n",
    "            non_futile_idx = jnp.where(order == 0, True, pr_best >= futility_threshold)\n",
    "\n",
    "            # if no non-futile treatment arms, terminate trial\n",
    "            # else if exactly 1 non-futile arm, terminate stage 1 by choosing that arm.\n",
    "            n_non_futile = jnp.sum(non_futile_idx[1:])\n",
    "            stage_1_not_done = n_non_futile > 1\n",
    "\n",
    "            continue_idx = non_futile_idx & stage_1_not_done\n",
    "\n",
    "            # evenly distribute the next patients across non-futile arms\n",
    "            remainder = n_add_per_interim % n_arms\n",
    "            n_new = jnp.where(\n",
    "                continue_idx, n_add_per_interim // n_non_futile + (order < remainder), 0\n",
    "            )\n",
    "            _, key = jax.random.split(key)\n",
    "            y_new = dist.Binomial(total_count=n_new, probs=p).sample(key)\n",
    "            data = data + jnp.stack((y_new, n_new), axis=-1)\n",
    "\n",
    "            # compute probability of best for each arm\n",
    "            pr_best = self.compute_pr_best(data, continue_idx, n_sims)\n",
    "\n",
    "        return data, n_non_futile, non_futile_idx, pr_best, key\n",
    "\n",
    "    def stage_2(\n",
    "        self,\n",
    "        data,\n",
    "        non_futile_idx,\n",
    "        pr_best,\n",
    "        p,\n",
    "        key,\n",
    "    ):\n",
    "        \"\"\"\n",
    "        Runs a single simulation of stage 2 of the Lei example.\n",
    "\n",
    "        Parameters:\n",
    "        -----------\n",
    "        data:   simulated binomial data as in lei_stage_1 output.\n",
    "        non_futile_idx:         a boolean vector indicating which arm is non-futile.\n",
    "        pr_best:                a vector of probability of each arm being best.\n",
    "                                Assume to be only well-defined whenever non_futile_idx is True.\n",
    "        p:                      simulation grid-point.\n",
    "        key:                    jax PRNG key.\n",
    "\n",
    "        Returns:\n",
    "        --------\n",
    "        0 if no rejection, otherwise 1.\n",
    "        \"\"\"\n",
    "        n_stage_2 = self.n_stage_2\n",
    "        pps_threshold_lower = self.pps_threshold_lower\n",
    "        pps_threshold_upper = self.pps_threshold_upper\n",
    "        posterior_difference_threshold = self.posterior_difference_threshold\n",
    "        rejection_threshold = self.rejection_threshold\n",
    "\n",
    "        # select best treatment arm based on probability of each arm being best\n",
    "        # since non_futile_idx always treats control arm (index 0) as non-futile,\n",
    "        # we read past it.\n",
    "        pr_best_subset = jnp.where(non_futile_idx[1:], pr_best[1:], 0)\n",
    "        best_arm = jnp.argmax(pr_best_subset) + 1\n",
    "        selected_idx = jnp.array([0, best_arm])\n",
    "        data_selected = data[selected_idx]\n",
    "        p_selected = p[selected_idx]\n",
    "\n",
    "        # add n_stage_2 number of patients to each of the control and selected treatment arms.\n",
    "        n_new = jnp.full(shape=len(selected_idx), fill_value=n_stage_2)\n",
    "        _, key = jax.random.split(key)\n",
    "        y_new = dist.Binomial(total_count=n_new, probs=p_selected).sample(key)\n",
    "\n",
    "        # pool outcomes for each arm\n",
    "        data_selected = data_selected + jnp.stack((y_new, n_new), axis=-1)\n",
    "\n",
    "        pps = self.compute_pps(data_selected)\n",
    "\n",
    "        # check early-stop based on futility (lower) or efficacy (upper)\n",
    "        early_stop = (pps < pps_threshold_lower) | (pps > pps_threshold_upper)\n",
    "\n",
    "        return jax.lax.cond(\n",
    "            early_stop,\n",
    "            lambda: False,\n",
    "            lambda: (\n",
    "                self.posterior_difference(data_selected, posterior_difference_threshold)\n",
    "                < rejection_threshold\n",
    "            ),\n",
    "        )\n",
    "\n",
    "    def single_sim(self, p, key, n_sims):\n",
    "        \"\"\"\n",
    "        Runs a single simulation of both stage 1 and stage 2.\n",
    "\n",
    "        Parameters:\n",
    "        -----------\n",
    "        p:      simulation grid-point.\n",
    "        key:    jax PRNG key.\n",
    "        \"\"\"\n",
    "\n",
    "        # Stage 1:\n",
    "        data, n_non_futile, non_futile_idx, pr_best, key = self.stage_1(\n",
    "            p=p,\n",
    "            key=key,\n",
    "            n_sims=n_sims,\n",
    "        )\n",
    "\n",
    "        # Stage 2 only if no early termination based on futility\n",
    "        return jax.lax.cond(\n",
    "            n_non_futile == 0,\n",
    "            lambda: False,\n",
    "            lambda: self.stage_2(\n",
    "                data=data,\n",
    "                non_futile_idx=non_futile_idx,\n",
    "                pr_best=pr_best,\n",
    "                p=p,\n",
    "                key=key,\n",
    "            ),\n",
    "        )\n",
    "\n",
    "    def simulate_point(self, n_sims, p, key, n_pr_best_sims):\n",
    "        keys = jax.random.split(key, num=n_sims)\n",
    "        single_sim_vmapped = jax.vmap(self.single_sim, in_axes=(None, 0, None))\n",
    "        return single_sim_vmapped(p, keys, n_pr_best_sims)\n",
    "\n",
    "    def simulate(self, n_sims, grid_points, key, n_pr_best_sims):\n",
    "        simulate_point_vmapped = jax.vmap(self.simulate_point, in_axes=(None, 0, None, None))\n",
    "        return simulate_point_vmapped(n_sims, grid_points, key, n_pr_best_sims)\n"
   ]
  },
  {
   "cell_type": "code",
   "execution_count": 12,
   "metadata": {},
   "outputs": [
    {
     "name": "stdout",
     "output_type": "stream",
     "text": [
      "CPU times: user 149 ms, sys: 3.19 ms, total: 153 ms\n",
      "Wall time: 75.9 ms\n"
     ]
    }
   ],
   "source": [
    "%%time\n",
    "params = {\n",
    "    \"n_arms\" : 2,\n",
    "    \"n_stage_1\" : 50,\n",
    "    \"n_interims\" : 3,\n",
    "    \"n_add_per_interim\" : 100,\n",
    "    \"futility_threshold\" : 0.1,\n",
    "    \"n_stage_2\" : 100,\n",
    "    \"pps_threshold_lower\" : 0.1,\n",
    "    \"pps_threshold_upper\" : 0.9,\n",
    "    \"posterior_difference_threshold\" : 0.1,\n",
    "    \"rejection_threshold\" : 0.05,\n",
    "}\n",
    "\n",
    "lei_obj = Lewis45(**params)"
   ]
  },
  {
   "cell_type": "code",
   "execution_count": 56,
   "metadata": {},
   "outputs": [
    {
     "name": "stdout",
     "output_type": "stream",
     "text": [
      "CPU times: user 193 ms, sys: 4.79 ms, total: 197 ms\n",
      "Wall time: 196 ms\n"
     ]
    }
   ],
   "source": [
    "%%time\n",
    "p = jnp.zeros(2)\n",
    "grid_points = jnp.array([p] * 1000)\n",
    "n_sims = 100000"
   ]
  },
  {
   "cell_type": "code",
   "execution_count": 67,
   "metadata": {},
   "outputs": [
    {
     "name": "stdout",
     "output_type": "stream",
     "text": [
      "CPU times: user 2.96 ms, sys: 8.21 ms, total: 11.2 ms\n",
      "Wall time: 3.54 ms\n"
     ]
    }
   ],
   "source": [
    "%%time\n",
    "#rejections = jax.jit(lei_obj.single_sim, static_argnums=(2,))(p, key, 100)\n",
    "#rejections = jax.jit(lei_obj.simulate_point, static_argnums=(0, 3,))(n_sims, p, key, 100)\n",
    "rejections = jax.jit(lei_obj.simulate, static_argnums=(0, 3))(n_sims, grid_points, key, 100)"
   ]
  },
  {
   "cell_type": "code",
   "execution_count": 55,
   "metadata": {},
   "outputs": [
    {
     "data": {
      "text/plain": [
       "(2, 1000000)"
      ]
     },
     "execution_count": 55,
     "metadata": {},
     "output_type": "execute_result"
    }
   ],
   "source": [
    "rejections.shape"
   ]
  }
 ],
 "metadata": {
  "kernelspec": {
   "display_name": "Python 3.10.5 ('imprint')",
   "language": "python",
   "name": "python3"
  },
  "language_info": {
   "codemirror_mode": {
    "name": "ipython",
    "version": 3
   },
   "file_extension": ".py",
   "mimetype": "text/x-python",
   "name": "python",
   "nbconvert_exporter": "python",
   "pygments_lexer": "ipython3",
   "version": "3.10.5"
  },
  "orig_nbformat": 4,
  "vscode": {
   "interpreter": {
    "hash": "c1ac85dcebcc513e5734f2a3cfba9e29281f7a08a7e6cb143e35b522d0bec04f"
   }
  }
 },
 "nbformat": 4,
 "nbformat_minor": 2
}
