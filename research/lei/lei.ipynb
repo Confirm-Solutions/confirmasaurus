{
 "cells": [
  {
   "cell_type": "code",
   "execution_count": 2,
   "metadata": {},
   "outputs": [],
   "source": [
    "%load_ext autoreload\n",
    "%autoreload 2"
   ]
  },
  {
   "cell_type": "code",
   "execution_count": 8,
   "metadata": {},
   "outputs": [],
   "source": [
    "import inlaw\n",
    "import inlaw.berry as berry\n",
    "import inlaw.quad as quad\n",
    "import numpy as np\n",
    "import jax.numpy as jnp\n",
    "import jax\n",
    "import time\n",
    "import inlaw.inla as inla\n",
    "import lewis"
   ]
  },
  {
   "cell_type": "markdown",
   "metadata": {},
   "source": [
    "# Lei Example"
   ]
  },
  {
   "cell_type": "markdown",
   "metadata": {},
   "source": [
    "The following description is a clinical trial design using a Bayesian model with early-stopping rules for futility or efficacy of a drug.\n",
    "This design was explicitly requested to be studied by an FDA member (Lei) in the CID team."
   ]
  },
  {
   "cell_type": "markdown",
   "metadata": {},
   "source": [
    "> The following is a randomized, double-blind, placebo-controlled two-stage adaptive design intended to identify an optimal treatment regimen \n",
    "> from three possible regimens (for example, different dosages or different combinations of agents) and \n",
    "> to assess the efficacy of that regimen with respect to a primary binary response endpoint measured at month 6.\n",
    "> \n",
    "> In Stage 1, one of four experimental regimens will be selected, or the trial will stop for futility. \n",
    "> In this stage, a minimum of 200 and a maximum of 400 will be randomized 1:1:1:1 to one of the three experimental arms or one placebo arm. \n",
    "> Interim analyses will be conducted after 200, 300 and 400 subjects have been enrolled to select the best experimental regimen and to potentially stop \n",
    "> the trial for futility. \n",
    "> If an experimental regimen is dropped for futility at an interim analysis, \n",
    "> the next 100 subjects to be randomized will be allocated equally among the remaining arms in the study. \n",
    "> At each of these three analysis time points (N = 200, 300, 400), \n",
    "> the probabilities of being the best regimen (PrBest) and predictive probability of success (PPS) \n",
    "> are calculated for each experimental regimen using a Bayesian approach, \n",
    "> and the trial will either stop for futility, \n",
    "> continue to the next interim analysis, \n",
    "> or proceed to Stage 2 depending on the results of these PrBest and PPS calculations.\n",
    "> \n",
    "> In Stage 2, a minimum of 200 and a maximum of 400 additional subjects will be randomized 1:1 to the chosen regimen or placebo. \n",
    "> The two groups (pooling both Stage 1 and Stage 2 subjects) will be compared for efficacy and futility assessment at an interim analysis \n",
    "> after 200 subjects have been enrolled in Stage 2, \n",
    "> and for efficacy at a final analysis after 400 subjects have been enrolled in Stage 2 and fully followed-up for response. \n",
    "> The study may be stopped for futility or efficacy based on PPS at the interim analysis. \n",
    "> If the study continues to the final analysis, \n",
    "> the posterior distribution of the difference in response rates between placebo and the chosen experimental arm \n",
    "> will be evaluated against a pre-specified decision criterion.\n",
    "> \n",
    "> - Scenario 1: interim analyses are based on available data on the primary endpoint (measured at month 6)\n",
    "> - Scenario 2: interim analyses are based on available data on a secondary endpoint (measured at month 3) "
   ]
  },
  {
   "cell_type": "markdown",
   "metadata": {},
   "source": [
    "This notebook breaks down and discusses the components of the trial."
   ]
  },
  {
   "cell_type": "markdown",
   "metadata": {},
   "source": [
    "## Model"
   ]
  },
  {
   "cell_type": "markdown",
   "metadata": {},
   "source": [
    "The notation is as follows:"
   ]
  },
  {
   "cell_type": "markdown",
   "metadata": {},
   "source": [
    "- $y \\in \\mathbb{N}^d$: Binomial responses.\n",
    "- $p \\in [0,1]^d$: probability parameter to the Binomial distribution.\n",
    "- $n \\in \\mathbb{N}^d$: size parameter to the Binomial distribution.\n",
    "- $q \\in [0,1]^d$: base probability value to offset $p$.\n",
    "- $\\theta \\in \\R^d$: logit parameter that determines $p$.\n",
    "- $\\mu \\in \\mathbb{R}$: shared mean parameter among $\\theta_i$.\n",
    "- $\\sigma^2 \\in \\mathbb{R}_+$: shared variance parameter among $\\theta_i$.\n",
    "- $\\mu_0, \\sigma_0^2, \\alpha_0, \\beta_0 \\in \\mathbb{R}$: hyper-parameters."
   ]
  },
  {
   "cell_type": "markdown",
   "metadata": {},
   "source": [
    "The Bayesian model is described below:\n",
    "\\begin{align*}\n",
    "y_i | p_i &\\sim \\mathrm{Binom}(n_i, p_i) \\quad i = 1,\\ldots, d \\\\\n",
    "p_i &= {\\sf expit}(\\theta_i + \\mathrm{logit}(q_i) ) \\quad i = 1,\\ldots, d \\\\\n",
    "\\theta | \\mu, \\sigma^2 &\\sim \\mathcal{N}(\\mu \\mathbb{1}, \\sigma^2 I) \\\\\n",
    "\\mu &\\sim \\mathcal{N}(\\mu_0, \\sigma_0^2) \\\\\n",
    "\\sigma^2 &\\sim \\Gamma^{-1}(\\alpha_0, \\beta_0) \\\\\n",
    "\\end{align*}\n",
    "\n",
    "We note in passing that the model can be collapsed along $\\mu$ to get:\n",
    "\\begin{align*}\n",
    "y_i | p_i &\\sim \\mathrm{Binom}(n_i, p_i) \\quad i = 1,\\ldots, d \\\\\n",
    "p_i &= {\\sf expit}(\\theta_i + \\mathrm{logit}(q_i) ) \\quad i = 1,\\ldots, d \\\\\n",
    "\\theta | \\sigma^2 &\\sim \\mathcal{N}(\\mu_0 \\mathbb{1}, \\sigma^2 I + \\sigma_0^2 \\mathbb{1} \\mathbb{1}^\\top) \\\\\n",
    "\\sigma^2 &\\sim \\Gamma^{-1}(\\alpha_0, \\beta_0) \\\\\n",
    "\\end{align*}"
   ]
  },
  {
   "cell_type": "markdown",
   "metadata": {},
   "source": [
    "\n",
    "## Probability of Best Arm"
   ]
  },
  {
   "cell_type": "markdown",
   "metadata": {},
   "source": [
    "The first quantity of interest is probability of best (treatment) arm.\n",
    "Concretely, letting $i = 1$ denote the control arm, we wish to compute for each $1 < i \\leq d$:\n",
    "\\begin{align*}\n",
    "\\mathbb{P}(p_i > \\max\\limits_{j \\neq i} p_j | y, n)\n",
    "&=\n",
    "\\int \\mathbb{P}(p_i > \\max\\limits_{j \\neq i} p_j | y, n, \\sigma^2) p(\\sigma^2 | y, n) \\, d\\sigma^2\n",
    "\\\\&=\n",
    "\\int \\mathbb{P}(\\theta_i + c_i > \\max\\limits_{j \\neq i} (\\theta_j + c_j) | y, n, \\sigma^2) p(\\sigma^2 | y, n) \\, d\\sigma^2\n",
    "\\end{align*}\n",
    "where $c = \\mathrm{logit}(q)$.\n",
    "We can approximate this quantity by estimating the two integrand terms separately. \n",
    "By approximating $\\theta_i | y, n$ as normal, the first integrand term can be estimated by Monte Carlo.\n",
    "The second term can be estimated by INLA."
   ]
  },
  {
   "cell_type": "code",
   "execution_count": 62,
   "metadata": {},
   "outputs": [],
   "source": [
    "def pr_normal_best(mean, cov, key, n_sims):\n",
    "    '''\n",
    "    Estimates P[X_i > max_{j != i} X_j] where X ~ N(mean, cov) via sampling.\n",
    "    '''\n",
    "    out_shape = (n_sims, *mean.shape[:-1])\n",
    "    sims = jax.random.multivariate_normal(key, mean, cov, shape=out_shape)\n",
    "    order = jnp.arange(1, mean.shape[-1])\n",
    "    compute_pr_best_all = jax.vmap(lambda i: jnp.mean(jnp.argmax(sims, axis=-1) == i, axis=0))\n",
    "    return compute_pr_best_all(order)"
   ]
  },
  {
   "cell_type": "code",
   "execution_count": 63,
   "metadata": {},
   "outputs": [
    {
     "data": {
      "text/plain": [
       "DeviceArray([0.01431, 0.01442, 0.95713], dtype=float64)"
      ]
     },
     "execution_count": 63,
     "metadata": {},
     "output_type": "execute_result"
    }
   ],
   "source": [
    "d = 4\n",
    "mean = jnp.array([2, 2, 2, 5])\n",
    "cov = jnp.eye(d)\n",
    "key = jax.random.PRNGKey(0)\n",
    "n_sims = 100000\n",
    "jax.jit(pr_normal_best, static_argnums=(3,))(mean, cov, key, n_sims=n_sims)"
   ]
  },
  {
   "cell_type": "markdown",
   "metadata": {},
   "source": [
    "Next, we perform INLA to estimate $p(\\sigma^2 | y, n)$ on a grid of values for $\\sigma^2$."
   ]
  },
  {
   "cell_type": "code",
   "execution_count": 64,
   "metadata": {},
   "outputs": [],
   "source": [
    "sig2_rule = quad.log_gauss_rule(15, 1e-6, 1e3)\n",
    "custom_ops = berry.optimized(sig2_rule.pts, n_arms=4).config(\n",
    "    opt_tol=1e-3\n",
    ")"
   ]
  },
  {
   "cell_type": "code",
   "execution_count": 65,
   "metadata": {},
   "outputs": [],
   "source": [
    "def posterior_sigma_sq(data, pts, wts):\n",
    "    n_arms, _ = data.shape\n",
    "    sig2 = pts\n",
    "    n_sig2 = sig2.shape[0]\n",
    "    p_pinned = dict(sig2=sig2, theta=None)\n",
    "\n",
    "    f = custom_ops.laplace_logpost\n",
    "    logpost, x_max, hess, iters = f(\n",
    "        np.zeros((n_sig2, n_arms)), p_pinned, data\n",
    "    )\n",
    "    post = inla.exp_and_normalize(\n",
    "            logpost, wts, axis=-1)\n",
    "\n",
    "    return post, x_max, hess, iters "
   ]
  },
  {
   "cell_type": "code",
   "execution_count": 66,
   "metadata": {},
   "outputs": [],
   "source": [
    "dtype = jnp.float64\n",
    "N = 1\n",
    "data = berry.figure2_data(N).astype(dtype)[0]\n",
    "post, _, hess, _ = jax.jit(posterior_sigma_sq)(data, sig2_rule.pts, sig2_rule.wts)\n",
    "n_arms = 4"
   ]
  },
  {
   "cell_type": "markdown",
   "metadata": {},
   "source": [
    "Putting the two pieces together, we have the following function to compute the probability of best treatment arm."
   ]
  },
  {
   "cell_type": "code",
   "execution_count": 67,
   "metadata": {},
   "outputs": [],
   "source": [
    "def pr_best(data, pts, wts, key, n_sims):\n",
    "    n_arms, _ = data.shape\n",
    "    post, x_max, hess, _ = posterior_sigma_sq(data, pts, wts) \n",
    "    mean = x_max\n",
    "    hess_fn = jax.vmap(lambda h: jnp.diag(h[0]) + jnp.full(shape=(n_arms, n_arms), fill_value=h[1]))\n",
    "    prec = -hess_fn(hess) # (n_sigs, n_arms, n_arms)\n",
    "    cov = jnp.linalg.inv(prec)\n",
    "    pr_normal_best_out = pr_normal_best(mean, cov, key=key, n_sims=n_sims)\n",
    "    return jnp.matmul(pr_normal_best_out, post * wts)"
   ]
  },
  {
   "cell_type": "code",
   "execution_count": 68,
   "metadata": {},
   "outputs": [
    {
     "data": {
      "text/plain": [
       "DeviceArray([0.03982225, 0.45002745, 0.47545385], dtype=float64)"
      ]
     },
     "execution_count": 68,
     "metadata": {},
     "output_type": "execute_result"
    }
   ],
   "source": [
    "n_sims = 13\n",
    "#out = jax.jit(pr_best, static_argnums=(4,))(data, sig2_rule.pts, sig2_rule.wts, key, n_sims)\n",
    "out = pr_best(data, sig2_rule.pts, sig2_rule.wts, key, n_sims)\n",
    "out"
   ]
  },
  {
   "cell_type": "markdown",
   "metadata": {},
   "source": [
    "## Phase III Final Analysis\n",
    "\n",
    "\\begin{align*}\n",
    "\\mathbb{P}(\\theta_i - \\theta_0 < t | y, n) < 0.1\n",
    "\\end{align*}\n",
    "\n",
    "\\begin{align*}\n",
    "\\mathbb{P}(\\theta_i - \\theta_0 < t | y, n)\n",
    "&=\n",
    "\\mathbb{P}(q_1^\\top \\theta < t | y,n)\n",
    "=\n",
    "\\int \\mathbb{P}(q_1^\\top \\theta < t | y, n, \\sigma^2) p(\\sigma^2 | y, n) \\, d\\sigma^2\n",
    "\\\\&=\n",
    "\\int \\mathbb{P}(q_1^\\top \\theta < t | y, n, \\sigma^2) p(\\sigma^2 | y, n) \\, d\\sigma^2\n",
    "\\\\\n",
    "q_1^\\top \\theta | y, n, \\sigma^2 &\\sim \\mathcal{N}(q_1^\\top \\theta^*, -q_1^\\top (H\\log p(\\theta^*, y, \\sigma^2))^{-1} q_1)\n",
    "\\end{align*}"
   ]
  },
  {
   "cell_type": "code",
   "execution_count": 69,
   "metadata": {},
   "outputs": [],
   "source": [
    "posterior_difference_threshold = 0.2\n",
    "rejection_threshold = 0.1"
   ]
  },
  {
   "cell_type": "code",
   "execution_count": 72,
   "metadata": {},
   "outputs": [
    {
     "data": {
      "text/plain": [
       "DeviceArray(0.47249139, dtype=float64)"
      ]
     },
     "execution_count": 72,
     "metadata": {},
     "output_type": "execute_result"
    }
   ],
   "source": [
    "post, x_max, hess, _ = posterior_sigma_sq(data, sig2_rule.pts, sig2_rule.wts)\n",
    "post_weighted = sig2_rule.wts * post\n",
    "hess_fn = jax.vmap(lambda h: jnp.diag(h[0]) + jnp.full(shape=(n_arms, n_arms), fill_value=h[1]))\n",
    "prec = -hess_fn(hess) # (n_sigs, n_arms, n_arms)\n",
    "q1 = np.zeros(n_arms)\n",
    "q1[0] = -1\n",
    "q1[1] = 1\n",
    "q1 = jnp.array(q1)\n",
    "loc = x_max @ q1\n",
    "scale = jnp.linalg.solve(prec, q1[None,:]) @ q1\n",
    "normal_term = jax.scipy.stats.norm.cdf(posterior_difference_threshold, loc=loc, scale=scale)\n",
    "posterior_difference = normal_term @ post_weighted\n",
    "\n",
    "posterior_difference"
   ]
  },
  {
   "cell_type": "markdown",
   "metadata": {},
   "source": [
    "## Posterior Probability of Success\n",
    "\n",
    "The next quantity we need to compute is the posterior probability of success (PPS).\n",
    "For convenience of implementation, we will take this to mean the following:\n",
    "let $y, n$ denote the currently observed data\n",
    "and $A_i = \\{ \\text{Phase III rejects using treatment arm i} \\}$.\n",
    "Then, we wish to compute\n",
    "\\begin{align*}\n",
    "\\mathbb{P}(A_i | y, n)\n",
    "\\end{align*}\n",
    "Expanding the quantity,\n",
    "\\begin{align*}\n",
    "\\mathbb{P}(A_i | y, n) &=\n",
    "\\int \\mathbb{P}(A_i | y, n, \\theta_i, \\theta_0) p(\\theta_0, \\theta_i | y, n) \\, d\\theta_i d\\theta_0 \\\\&=\n",
    "\\int \\mathbb{P}(A_i | y, n, \\theta_i, \\theta_0) p(\\theta_0, \\theta_i | y, n) \\, d\\theta_i d\\theta_0\n",
    "\\end{align*}\n",
    "\n",
    "Once we have an estimate for $p(\\theta_0, \\theta_i | y, n)$, \n",
    "we can use 2-D quadrature to numerically integrate the integrand.\n",
    "Similar to computing the probability of best arm,\n",
    "\\begin{align*}\n",
    "p(\\theta_0, \\theta_i | y, n)\n",
    "&=\n",
    "\\int p(\\theta_0, \\theta_i | y, n, \\sigma^2) p(\\sigma^2 | y, n) \\, d\\sigma^2\n",
    "\\end{align*}\n",
    "We will use the Gaussian approximation for $p(\\theta_0, \\theta_i | y, n, \\sigma^2)$\n",
    "and use INLA to estimate $p(\\sigma^2 | y, n)$.\n",
    "\n",
    "\\begin{align*}\n",
    "p(\\theta | y, n, \\sigma^2)\n",
    "\\approx\n",
    "\\mathcal{N}(\\theta^*, -(H\\log p(\\theta^*, y, \\sigma^2))^{-1})\n",
    "\\\\\n",
    "\\implies\n",
    "p(\\theta_0, \\theta_i | y, n, \\sigma^2)\n",
    "\\approx\n",
    "\\mathcal{N}(\\theta^*_{[0,i]}, -(H\\log p(\\theta^*, y, \\sigma^2))^{-1}_{[0,i], [0,i]})\n",
    "\\end{align*}\n",
    "\n",
    "Method 1:\n"
   ]
  },
  {
   "cell_type": "markdown",
   "metadata": {},
   "source": [
    "## Design Implementation"
   ]
  },
  {
   "cell_type": "code",
   "execution_count": 19,
   "metadata": {},
   "outputs": [
    {
     "name": "stdout",
     "output_type": "stream",
     "text": [
      "CPU times: user 5.04 ms, sys: 1.18 ms, total: 6.22 ms\n",
      "Wall time: 2.82 ms\n"
     ]
    }
   ],
   "source": [
    "%%time\n",
    "key = jax.random.PRNGKey(0)\n",
    "params = {\n",
    "    \"n_arms\" : 3,\n",
    "    \"n_stage_1\" : 50,\n",
    "    \"n_interims\" : 3,\n",
    "    \"n_add_per_interim\" : 100,\n",
    "    \"futility_threshold\" : 0.1,\n",
    "    \"n_stage_2\" : 100,\n",
    "    \"pps_threshold_lower\" : 0.1,\n",
    "    \"pps_threshold_upper\" : 0.9,\n",
    "    \"posterior_difference_threshold\" : 0.05,\n",
    "    \"rejection_threshold\" : 0.05,\n",
    "}\n",
    "lei_obj = lewis.Lewis45(**params)\n",
    "p = jnp.array([0.5, 0.5, 0.5])\n",
    "n_sims = 10000\n",
    "n_grid_points = 10\n",
    "keys = jax.random.split(key, num=n_sims)\n",
    "grid_points = jnp.array([p] * n_grid_points)"
   ]
  },
  {
   "cell_type": "code",
   "execution_count": 20,
   "metadata": {},
   "outputs": [
    {
     "ename": "IndexError",
     "evalue": "tuple index out of range",
     "output_type": "error",
     "traceback": [
      "\u001b[0;31m---------------------------------------------------------------------------\u001b[0m",
      "\u001b[0;31mIndexError\u001b[0m                                Traceback (most recent call last)",
      "File \u001b[0;32m<timed exec>:5\u001b[0m, in \u001b[0;36m<module>\u001b[0;34m\u001b[0m\n",
      "File \u001b[0;32m~/opt/miniconda3/envs/imprint/lib/python3.10/site-packages/jax/_src/numpy/reductions.py:252\u001b[0m, in \u001b[0;36mmean\u001b[0;34m(a, axis, dtype, out, keepdims, where)\u001b[0m\n\u001b[1;32m    249\u001b[0m \u001b[39m@_wraps\u001b[39m(np\u001b[39m.\u001b[39mmean, skip_params\u001b[39m=\u001b[39m[\u001b[39m'\u001b[39m\u001b[39mout\u001b[39m\u001b[39m'\u001b[39m])\n\u001b[1;32m    250\u001b[0m \u001b[39mdef\u001b[39;00m \u001b[39mmean\u001b[39m(a, axis: Optional[Union[\u001b[39mint\u001b[39m, Tuple[\u001b[39mint\u001b[39m, \u001b[39m.\u001b[39m\u001b[39m.\u001b[39m\u001b[39m.\u001b[39m]]] \u001b[39m=\u001b[39m \u001b[39mNone\u001b[39;00m, dtype\u001b[39m=\u001b[39m\u001b[39mNone\u001b[39;00m,\n\u001b[1;32m    251\u001b[0m          out\u001b[39m=\u001b[39m\u001b[39mNone\u001b[39;00m, keepdims\u001b[39m=\u001b[39m\u001b[39mFalse\u001b[39;00m, \u001b[39m*\u001b[39m, where\u001b[39m=\u001b[39m\u001b[39mNone\u001b[39;00m):\n\u001b[0;32m--> 252\u001b[0m   \u001b[39mreturn\u001b[39;00m _mean(a, _ensure_optional_axes(axis), dtype, out, keepdims,\n\u001b[1;32m    253\u001b[0m                where\u001b[39m=\u001b[39;49mwhere)\n",
      "    \u001b[0;31m[... skipping hidden 14 frame]\u001b[0m\n",
      "File \u001b[0;32m~/opt/miniconda3/envs/imprint/lib/python3.10/site-packages/jax/_src/numpy/reductions.py:267\u001b[0m, in \u001b[0;36m_mean\u001b[0;34m(a, axis, dtype, out, keepdims, where)\u001b[0m\n\u001b[1;32m    265\u001b[0m     normalizer \u001b[39m=\u001b[39m core\u001b[39m.\u001b[39mdimension_as_value(np\u001b[39m.\u001b[39msize(a))\n\u001b[1;32m    266\u001b[0m   \u001b[39melse\u001b[39;00m:\n\u001b[0;32m--> 267\u001b[0m     normalizer \u001b[39m=\u001b[39m core\u001b[39m.\u001b[39mdimension_as_value(_axis_size(a, axis))\n\u001b[1;32m    268\u001b[0m \u001b[39melse\u001b[39;00m:\n\u001b[1;32m    269\u001b[0m   normalizer \u001b[39m=\u001b[39m \u001b[39msum\u001b[39m(_broadcast_to(where, np\u001b[39m.\u001b[39mshape(a)), axis, dtype\u001b[39m=\u001b[39mdtype, keepdims\u001b[39m=\u001b[39mkeepdims)\n",
      "File \u001b[0;32m~/opt/miniconda3/envs/imprint/lib/python3.10/site-packages/jax/_src/numpy/reductions.py:246\u001b[0m, in \u001b[0;36m_axis_size\u001b[0;34m(a, axis)\u001b[0m\n\u001b[1;32m    244\u001b[0m a_shape \u001b[39m=\u001b[39m np\u001b[39m.\u001b[39mshape(a)\n\u001b[1;32m    245\u001b[0m \u001b[39mfor\u001b[39;00m a \u001b[39min\u001b[39;00m axis:\n\u001b[0;32m--> 246\u001b[0m   size \u001b[39m*\u001b[39m\u001b[39m=\u001b[39m maybe_named_axis(a, \u001b[39mlambda\u001b[39;49;00m i: a_shape[i], \u001b[39mlambda\u001b[39;49;00m name: lax\u001b[39m.\u001b[39;49mpsum(\u001b[39m1\u001b[39;49m, name))\n\u001b[1;32m    247\u001b[0m \u001b[39mreturn\u001b[39;00m size\n",
      "    \u001b[0;31m[... skipping hidden 1 frame]\u001b[0m\n",
      "File \u001b[0;32m~/opt/miniconda3/envs/imprint/lib/python3.10/site-packages/jax/_src/numpy/reductions.py:246\u001b[0m, in \u001b[0;36m_axis_size.<locals>.<lambda>\u001b[0;34m(i)\u001b[0m\n\u001b[1;32m    244\u001b[0m a_shape \u001b[39m=\u001b[39m np\u001b[39m.\u001b[39mshape(a)\n\u001b[1;32m    245\u001b[0m \u001b[39mfor\u001b[39;00m a \u001b[39min\u001b[39;00m axis:\n\u001b[0;32m--> 246\u001b[0m   size \u001b[39m*\u001b[39m\u001b[39m=\u001b[39m maybe_named_axis(a, \u001b[39mlambda\u001b[39;00m i: a_shape[i], \u001b[39mlambda\u001b[39;00m name: lax\u001b[39m.\u001b[39mpsum(\u001b[39m1\u001b[39m, name))\n\u001b[1;32m    247\u001b[0m \u001b[39mreturn\u001b[39;00m size\n",
      "\u001b[0;31mIndexError\u001b[0m: tuple index out of range"
     ]
    }
   ],
   "source": [
    "%%time\n",
    "#rejections = jax.jit(lei_obj.single_sim)(p, key)\n",
    "rejections = jax.jit(lei_obj.simulate_point)(p, keys)\n",
    "#rejections = jax.jit(lei_obj.simulate)(grid_points, keys)\n",
    "\n",
    "jnp.mean(rejections, axis=-1)"
   ]
  },
  {
   "cell_type": "code",
   "execution_count": null,
   "metadata": {},
   "outputs": [],
   "source": []
  }
 ],
 "metadata": {
  "kernelspec": {
   "display_name": "Python 3.10.5 ('imprint')",
   "language": "python",
   "name": "python3"
  },
  "language_info": {
   "codemirror_mode": {
    "name": "ipython",
    "version": 3
   },
   "file_extension": ".py",
   "mimetype": "text/x-python",
   "name": "python",
   "nbconvert_exporter": "python",
   "pygments_lexer": "ipython3",
   "version": "3.10.5"
  },
  "orig_nbformat": 4,
  "vscode": {
   "interpreter": {
    "hash": "c1ac85dcebcc513e5734f2a3cfba9e29281f7a08a7e6cb143e35b522d0bec04f"
   }
  }
 },
 "nbformat": 4,
 "nbformat_minor": 2
}
