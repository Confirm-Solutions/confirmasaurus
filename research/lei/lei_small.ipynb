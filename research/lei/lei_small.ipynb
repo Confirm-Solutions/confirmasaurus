{
 "cells": [
  {
   "cell_type": "code",
   "execution_count": 1,
   "metadata": {},
   "outputs": [],
   "source": [
    "%load_ext autoreload\n",
    "%autoreload 2"
   ]
  },
  {
   "cell_type": "code",
   "execution_count": 2,
   "metadata": {},
   "outputs": [
    {
     "name": "stderr",
     "output_type": "stream",
     "text": [
      "/Users/tbent/.mambaforge/envs/confirm/lib/python3.10/site-packages/tqdm/auto.py:22: TqdmWarning: IProgress not found. Please update jupyter and ipywidgets. See https://ipywidgets.readthedocs.io/en/stable/user_install.html\n",
      "  from .autonotebook import tqdm as notebook_tqdm\n"
     ]
    }
   ],
   "source": [
    "import jax\n",
    "import jax.numpy as jnp\n",
    "import numpy as np\n",
    "\n",
    "from lei_obj import Lewis45"
   ]
  },
  {
   "cell_type": "code",
   "execution_count": 4,
   "metadata": {},
   "outputs": [],
   "source": [
    "params = {\n",
    "    \"n_arms\" : 2,\n",
    "    \"n_stage_1\" : 50,\n",
    "    \"n_interims\" : 1,\n",
    "    \"n_add_per_interim\" : 100,\n",
    "    \"futility_threshold\" : 0.1,\n",
    "    \"n_stage_2\" : 100,\n",
    "    \"pps_threshold_lower\" : 0.1,\n",
    "    \"pps_threshold_upper\" : 0.9,\n",
    "    \"posterior_difference_threshold\" : 0.1,\n",
    "    \"rejection_threshold\" : 0.05,\n",
    "}\n",
    "\n",
    "lei_obj = Lewis45(**params)\n",
    "p = jnp.zeros(2)\n",
    "grid_points = jnp.array([p] * 1000)\n",
    "n_sims = 1\n",
    "key1 = jax.random.split(jax.random.PRNGKey(0), num=4)\n",
    "keyN = jax.random.split(jax.random.PRNGKey(0), num=n_sims * 4).reshape((n_sims, 4, 2))"
   ]
  },
  {
   "cell_type": "code",
   "execution_count": 17,
   "metadata": {},
   "outputs": [
    {
     "name": "stdout",
     "output_type": "stream",
     "text": [
      "39439\n",
      "49195\n",
      "39060\n",
      "12924\n"
     ]
    }
   ],
   "source": [
    "print(len(jax.make_jaxpr(lei_obj.single_sim)(p, key1).pretty_print()))\n",
    "print(len(jax.make_jaxpr(lei_obj.simulate_point)(p, keyN).pretty_print()))\n",
    "print(len(jax.make_jaxpr(lei_obj.stage_1)(p, key1[:-1]).pretty_print()))\n",
    "print(len(jax.make_jaxpr(lei_obj.posterior_sigma_sq)(np.random.rand(2,2)).pretty_print()))\n",
    "# jax.make_jaxpr(lei_obj.posterior_sigma_sq)(np.random.rand(2,2))"
   ]
  },
  {
   "cell_type": "code",
   "execution_count": 19,
   "metadata": {},
   "outputs": [
    {
     "name": "stdout",
     "output_type": "stream",
     "text": [
      "CPU times: user 381 ms, sys: 6.44 ms, total: 387 ms\n",
      "Wall time: 381 ms\n"
     ]
    }
   ],
   "source": [
    "%%time\n",
    "# lei_obj.single_sim(p, keyN[0])\n",
    "# rejections = jax.jit(lei_obj.single_sim)(p, key1)\n",
    "# jax.vmap(lei_obj.single_sim, in_axes=(None, 0))(p, keyN)\n",
    "rejections = jax.jit(lei_obj.simulate_point)(p, keyN)\n",
    "#rejections = jax.jit(lei_obj.simulate, static_argnums=(0, 3))(n_sims, grid_points, key, 1)"
   ]
  },
  {
   "cell_type": "code",
   "execution_count": null,
   "metadata": {},
   "outputs": [],
   "source": []
  }
 ],
 "metadata": {
  "kernelspec": {
   "display_name": "Python 3.10.5 ('confirm')",
   "language": "python",
   "name": "python3"
  },
  "language_info": {
   "codemirror_mode": {
    "name": "ipython",
    "version": 3
   },
   "file_extension": ".py",
   "mimetype": "text/x-python",
   "name": "python",
   "nbconvert_exporter": "python",
   "pygments_lexer": "ipython3",
   "version": "3.10.5"
  },
  "orig_nbformat": 4,
  "vscode": {
   "interpreter": {
    "hash": "b4c6ec5b2d6c7b38df115d547b82cd53ca25eea58d87299956d35a9dc79f19f1"
   }
  }
 },
 "nbformat": 4,
 "nbformat_minor": 2
}
