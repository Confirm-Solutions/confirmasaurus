{
 "cells": [
  {
   "cell_type": "code",
   "execution_count": 1,
   "metadata": {},
   "outputs": [],
   "source": [
    "%load_ext autoreload\n",
    "%autoreload 2"
   ]
  },
  {
   "cell_type": "code",
   "execution_count": 2,
   "metadata": {},
   "outputs": [
    {
     "name": "stderr",
     "output_type": "stream",
     "text": [
      "/Users/tbent/.mambaforge/envs/confirm/lib/python3.10/site-packages/tqdm/auto.py:22: TqdmWarning: IProgress not found. Please update jupyter and ipywidgets. See https://ipywidgets.readthedocs.io/en/stable/user_install.html\n",
      "  from .autonotebook import tqdm as notebook_tqdm\n"
     ]
    }
   ],
   "source": [
    "import jax\n",
    "import jax.numpy as jnp\n",
    "import numpy as np\n",
    "\n",
    "from lei_obj import Lewis45"
   ]
  },
  {
   "cell_type": "code",
   "execution_count": 12,
   "metadata": {},
   "outputs": [
    {
     "name": "stderr",
     "output_type": "stream",
     "text": [
      "/Users/tbent/Dropbox/active/confirm/confirmasaurus/inlaw/inlaw/berry.py:67: UserWarning: Explicitly requested dtype <class 'numpy.float64'> requested in array is not available, and will be truncated to dtype float32. To enable more dtypes, set the jax_enable_x64 configuration option or the JAX_ENABLE_X64 shell environment variable. See https://github.com/google/jax#current-gotchas for more.\n",
      "  neg_precQ_b = jnp.array(neg_precQ[:, 0, 1], dtype=dtype)\n",
      "/Users/tbent/Dropbox/active/confirm/confirmasaurus/inlaw/inlaw/berry.py:68: UserWarning: Explicitly requested dtype <class 'numpy.float64'> requested in array is not available, and will be truncated to dtype float32. To enable more dtypes, set the jax_enable_x64 configuration option or the JAX_ENABLE_X64 shell environment variable. See https://github.com/google/jax#current-gotchas for more.\n",
      "  neg_precQ_a = jnp.array(neg_precQ[:, 0, 0] - neg_precQ_b, dtype=dtype)\n",
      "/Users/tbent/Dropbox/active/confirm/confirmasaurus/inlaw/inlaw/berry.py:69: UserWarning: Explicitly requested dtype <class 'numpy.float64'> requested in array is not available, and will be truncated to dtype float32. To enable more dtypes, set the jax_enable_x64 configuration option or the JAX_ENABLE_X64 shell environment variable. See https://github.com/google/jax#current-gotchas for more.\n",
      "  const = jnp.array(log_prior + logprecQdet, dtype=dtype)\n"
     ]
    }
   ],
   "source": [
    "params = {\n",
    "    \"n_arms\" : 2,\n",
    "    \"n_stage_1\" : 50,\n",
    "    \"n_interims\" : 3,\n",
    "    \"n_add_per_interim\" : 100,\n",
    "    \"futility_threshold\" : 0.1,\n",
    "    \"n_stage_2\" : 100,\n",
    "    \"pps_threshold_lower\" : 0.1,\n",
    "    \"pps_threshold_upper\" : 0.9,\n",
    "    \"posterior_difference_threshold\" : 0.1,\n",
    "    \"rejection_threshold\" : 0.05,\n",
    "}\n",
    "\n",
    "lei_obj = Lewis45(**params)\n",
    "p = jnp.array([0.05, 0.05])\n",
    "p = jnp.zeros(2)\n",
    "grid_points = jnp.array([p] * 1000)\n",
    "n_sims = 1\n",
    "key1 = jax.random.split(jax.random.PRNGKey(0), num=9)\n",
    "keyN = jax.random.split(jax.random.PRNGKey(0), num=n_sims * 9).reshape((n_sims, 9, 2))"
   ]
  },
  {
   "cell_type": "code",
   "execution_count": 13,
   "metadata": {},
   "outputs": [
    {
     "name": "stdout",
     "output_type": "stream",
     "text": [
      "160570\n",
      "184089\n",
      "160193\n",
      "12924\n"
     ]
    }
   ],
   "source": [
    "print(len(jax.make_jaxpr(lei_obj.single_sim)(p, key1).pretty_print()))\n",
    "print(len(jax.make_jaxpr(lei_obj.simulate_point)(p, keyN).pretty_print()))\n",
    "print(len(jax.make_jaxpr(lei_obj.stage_1)(p, key1[:-1]).pretty_print()))\n",
    "print(len(jax.make_jaxpr(lei_obj.posterior_sigma_sq)(np.random.rand(2,2)).pretty_print()))\n",
    "# jax.make_jaxpr(lei_obj.posterior_sigma_sq)(np.random.rand(2,2))"
   ]
  },
  {
   "cell_type": "code",
   "execution_count": 14,
   "metadata": {},
   "outputs": [
    {
     "data": {
      "text/plain": [
       "43189"
      ]
     },
     "execution_count": 14,
     "metadata": {},
     "output_type": "execute_result"
    }
   ],
   "source": [
    "from numpyro.distributions.util import _binomial_dispatch\n",
    "len(jax.make_jaxpr(_binomial_dispatch)(key1[0], 0.5, 30).pretty_print())"
   ]
  },
  {
   "cell_type": "code",
   "execution_count": 15,
   "metadata": {},
   "outputs": [],
   "source": [
    "%%time\n",
    "# lei_obj.single_sim(p, keyN[0])\n",
    "# rejections = jax.jit(lei_obj.single_sim)(p, key1)\n",
    "# jax.vmap(lei_obj.single_sim, in_axes=(None, 0))(p, keyN)\n",
    "rejections = jax.jit(lei_obj.simulate_point)(p, keyN)\n",
    "#rejections = jax.jit(lei_obj.simulate, static_argnums=(0, 3))(n_sims, grid_points, key, 1)"
   ]
  },
  {
   "cell_type": "code",
   "execution_count": 2,
   "metadata": {},
   "outputs": [
    {
     "name": "stdout",
     "output_type": "stream",
     "text": [
      "this works fine\n",
      "this works fine too!\n",
      "jit with vmap and p=0 results in hanging forever\n"
     ]
    }
   ],
   "source": [
    "import jax\n",
    "import numpyro.distributions as dist\n",
    "\n",
    "def lets_break_this(p, key):\n",
    "    n = (jax.random.uniform(key) > 0.5) * 3\n",
    "    _, key = jax.random.split(key)\n",
    "    return dist.Binomial(total_count=n, probs=p).sample(key)\n",
    "\n",
    "print('this works fine')\n",
    "jax.jit(lets_break_this)(0.1, jax.random.PRNGKey(0))\n",
    "jax.jit(jax.vmap(lets_break_this, in_axes=(None, 0)))(\n",
    "    0.1, jax.random.split(jax.random.PRNGKey(0), 1)\n",
    ")\n",
    "\n",
    "print('this works fine too!')\n",
    "jax.jit(lets_break_this)(0, jax.random.PRNGKey(0))\n",
    "\n",
    "print('jit with vmap and p=0 results in hanging forever')\n",
    "jax.jit(jax.vmap(lets_break_this, in_axes=(None, 0)))(\n",
    "    0, jax.random.split(jax.random.PRNGKey(0), 1)\n",
    ")"
   ]
  },
  {
   "cell_type": "code",
   "execution_count": null,
   "metadata": {},
   "outputs": [],
   "source": []
  }
 ],
 "metadata": {
  "kernelspec": {
   "display_name": "Python 3.10.5 ('confirm')",
   "language": "python",
   "name": "python3"
  },
  "language_info": {
   "codemirror_mode": {
    "name": "ipython",
    "version": 3
   },
   "file_extension": ".py",
   "mimetype": "text/x-python",
   "name": "python",
   "nbconvert_exporter": "python",
   "pygments_lexer": "ipython3",
   "version": "3.10.5"
  },
  "orig_nbformat": 4,
  "vscode": {
   "interpreter": {
    "hash": "b4c6ec5b2d6c7b38df115d547b82cd53ca25eea58d87299956d35a9dc79f19f1"
   }
  }
 },
 "nbformat": 4,
 "nbformat_minor": 2
}
