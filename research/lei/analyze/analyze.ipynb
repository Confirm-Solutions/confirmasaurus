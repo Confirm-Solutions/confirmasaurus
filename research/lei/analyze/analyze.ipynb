{
 "cells": [
  {
   "cell_type": "markdown",
   "metadata": {},
   "source": [
    "# Analyze Upper Bound of Type I Error for Lei Example"
   ]
  },
  {
   "cell_type": "code",
   "execution_count": 1,
   "metadata": {},
   "outputs": [],
   "source": [
    "%load_ext autoreload\n",
    "%autoreload 2"
   ]
  },
  {
   "cell_type": "code",
   "execution_count": 3,
   "metadata": {},
   "outputs": [
    {
     "ename": "ModuleNotFoundError",
     "evalue": "No module named 'outlaw.interp'",
     "output_type": "error",
     "traceback": [
      "\u001b[0;31m---------------------------------------------------------------------------\u001b[0m",
      "\u001b[0;31mModuleNotFoundError\u001b[0m                       Traceback (most recent call last)",
      "\u001b[1;32m/Users/jhyang/sandbox/confirmasaurus/research/lei/analyze/analyze.ipynb Cell 3\u001b[0m in \u001b[0;36m<cell line: 6>\u001b[0;34m()\u001b[0m\n\u001b[1;32m      <a href='vscode-notebook-cell:/Users/jhyang/sandbox/confirmasaurus/research/lei/analyze/analyze.ipynb#W2sZmlsZQ%3D%3D?line=3'>4</a>\u001b[0m \u001b[39mfrom\u001b[39;00m \u001b[39mconfirm\u001b[39;00m\u001b[39m.\u001b[39;00m\u001b[39mmini_imprint\u001b[39;00m \u001b[39mimport\u001b[39;00m grid\n\u001b[1;32m      <a href='vscode-notebook-cell:/Users/jhyang/sandbox/confirmasaurus/research/lei/analyze/analyze.ipynb#W2sZmlsZQ%3D%3D?line=4'>5</a>\u001b[0m \u001b[39mfrom\u001b[39;00m \u001b[39mlewis\u001b[39;00m \u001b[39mimport\u001b[39;00m grid \u001b[39mas\u001b[39;00m lewgrid\n\u001b[0;32m----> <a href='vscode-notebook-cell:/Users/jhyang/sandbox/confirmasaurus/research/lei/analyze/analyze.ipynb#W2sZmlsZQ%3D%3D?line=5'>6</a>\u001b[0m \u001b[39mfrom\u001b[39;00m \u001b[39mlewis\u001b[39;00m \u001b[39mimport\u001b[39;00m lewis\n\u001b[1;32m      <a href='vscode-notebook-cell:/Users/jhyang/sandbox/confirmasaurus/research/lei/analyze/analyze.ipynb#W2sZmlsZQ%3D%3D?line=6'>7</a>\u001b[0m \u001b[39mfrom\u001b[39;00m \u001b[39mconfirm\u001b[39;00m\u001b[39m.\u001b[39;00m\u001b[39mberrylib\u001b[39;00m \u001b[39mimport\u001b[39;00m binomial\n",
      "File \u001b[0;32m~/sandbox/confirmasaurus/research/lei/lewis/lewis.py:5\u001b[0m, in \u001b[0;36m<module>\u001b[0;34m\u001b[0m\n\u001b[1;32m      3\u001b[0m \u001b[39mimport\u001b[39;00m \u001b[39mnumpy\u001b[39;00m \u001b[39mas\u001b[39;00m \u001b[39mnp\u001b[39;00m\n\u001b[1;32m      4\u001b[0m \u001b[39mfrom\u001b[39;00m \u001b[39mlewis\u001b[39;00m \u001b[39mimport\u001b[39;00m batch\n\u001b[0;32m----> 5\u001b[0m \u001b[39mfrom\u001b[39;00m \u001b[39mlewis\u001b[39;00m\u001b[39m.\u001b[39;00m\u001b[39mtable\u001b[39;00m \u001b[39mimport\u001b[39;00m LinearInterpTable\n\u001b[1;32m      6\u001b[0m \u001b[39mfrom\u001b[39;00m \u001b[39mlewis\u001b[39;00m\u001b[39m.\u001b[39;00m\u001b[39mtable\u001b[39;00m \u001b[39mimport\u001b[39;00m LookupTable\n\u001b[1;32m      8\u001b[0m \u001b[39mimport\u001b[39;00m \u001b[39moutlaw\u001b[39;00m\u001b[39m.\u001b[39;00m\u001b[39mberry\u001b[39;00m \u001b[39mas\u001b[39;00m \u001b[39mberry\u001b[39;00m\n",
      "File \u001b[0;32m~/sandbox/confirmasaurus/research/lei/lewis/table.py:4\u001b[0m, in \u001b[0;36m<module>\u001b[0;34m\u001b[0m\n\u001b[1;32m      1\u001b[0m \u001b[39mimport\u001b[39;00m \u001b[39mjax\u001b[39;00m\u001b[39m.\u001b[39;00m\u001b[39mnumpy\u001b[39;00m \u001b[39mas\u001b[39;00m \u001b[39mjnp\u001b[39;00m\n\u001b[1;32m      2\u001b[0m \u001b[39mimport\u001b[39;00m \u001b[39mlewis\u001b[39;00m\u001b[39m.\u001b[39;00m\u001b[39mjax_wrappers\u001b[39;00m \u001b[39mas\u001b[39;00m \u001b[39mjwp\u001b[39;00m\n\u001b[0;32m----> 4\u001b[0m \u001b[39mfrom\u001b[39;00m \u001b[39moutlaw\u001b[39;00m\u001b[39m.\u001b[39;00m\u001b[39minterp\u001b[39;00m \u001b[39mimport\u001b[39;00m interpn\n\u001b[1;32m      7\u001b[0m \u001b[39mclass\u001b[39;00m \u001b[39mBaseTable\u001b[39;00m:\n\u001b[1;32m      8\u001b[0m     \u001b[39mdef\u001b[39;00m \u001b[39m__init__\u001b[39m(\u001b[39mself\u001b[39m, n_sizes):\n\u001b[1;32m      9\u001b[0m         \u001b[39m# compute mask to hash n_sizes\u001b[39;00m\n",
      "\u001b[0;31mModuleNotFoundError\u001b[0m: No module named 'outlaw.interp'"
     ]
    }
   ],
   "source": [
    "import jax\n",
    "import os\n",
    "import numpy as np\n",
    "from confirm.mini_imprint import grid\n",
    "from confirm.lewislib import grid as lewgrid\n",
    "from confirm.lewislib import lewis\n",
    "from confirm.berrylib import binomial"
   ]
  },
  {
   "cell_type": "code",
   "execution_count": 4,
   "metadata": {},
   "outputs": [],
   "source": [
    "# Configuration used during simulation\n",
    "params = {\n",
    "    \"n_arms\" : 4,\n",
    "    \"n_stage_1\" : 50,\n",
    "    \"n_stage_2\" : 100,\n",
    "    \"n_stage_1_interims\" : 2,\n",
    "    \"n_stage_1_add_per_interim\" : 100,\n",
    "    \"n_stage_2_add_per_interim\" : 100,\n",
    "    \"stage_1_futility_threshold\" : 0.15,\n",
    "    \"stage_1_efficacy_threshold\" : 0.7,\n",
    "    \"stage_2_futility_threshold\" : 0.2,\n",
    "    \"stage_2_efficacy_threshold\" : 0.95,\n",
    "    \"inter_stage_futility_threshold\" : 0.6,\n",
    "    \"posterior_difference_threshold\" : 0,\n",
    "    \"rejection_threshold\" : 0.05,\n",
    "    \"key\" : jax.random.PRNGKey(0),\n",
    "    \"n_pr_sims\" : 100,\n",
    "    \"n_sig2_sims\" : 20,\n",
    "    \"batch_size\" : int(2**20),\n",
    "    \"cache_tables\" : False,\n",
    "}\n",
    "size = 52\n",
    "n_sim_batches = 500\n",
    "sim_batch_size = 100"
   ]
  },
  {
   "cell_type": "code",
   "execution_count": 5,
   "metadata": {},
   "outputs": [],
   "source": [
    "# construct Lei object\n",
    "lei_obj = lewis.Lewis45(**params)"
   ]
  },
  {
   "cell_type": "code",
   "execution_count": 6,
   "metadata": {},
   "outputs": [],
   "source": [
    "# construct the same grid used during simulation\n",
    "n_arms = params['n_arms']\n",
    "lower = np.full(n_arms, -1)\n",
    "upper = np.full(n_arms, 1)\n",
    "thetas, radii = lewgrid.make_cartesian_grid_range(\n",
    "    size=size,\n",
    "    lower=lower,\n",
    "    upper=upper,\n",
    ")\n",
    "ns = np.concatenate(\n",
    "    [np.ones(n_arms-1)[:, None], -np.eye(n_arms-1)],\n",
    "    axis=-1,\n",
    ")\n",
    "null_hypos = [\n",
    "    grid.HyperPlane(n, 0)\n",
    "    for n in ns\n",
    "]\n",
    "gr = grid.build_grid(\n",
    "    thetas=thetas,\n",
    "    radii=radii,\n",
    "    null_hypos=null_hypos,\n",
    ")\n",
    "gr = grid.prune(gr)"
   ]
  },
  {
   "cell_type": "code",
   "execution_count": 7,
   "metadata": {},
   "outputs": [],
   "source": [
    "# construct tile informations used during simulation\n",
    "theta_tiles = gr.thetas[gr.grid_pt_idx]\n",
    "p_tiles = jax.scipy.special.expit(theta_tiles)\n",
    "tile_radii = gr.radii[gr.grid_pt_idx]\n",
    "null_truths = gr.null_truth.astype(bool)\n",
    "sim_size = 2 * n_sim_batches * sim_batch_size  # 2 instances parallelized\n",
    "sim_sizes = np.full(gr.n_tiles, sim_size)"
   ]
  },
  {
   "cell_type": "code",
   "execution_count": 12,
   "metadata": {},
   "outputs": [],
   "source": [
    "# get type I sum and score\n",
    "cwd = '.'\n",
    "data_dir = os.path.join(cwd, '../data')\n",
    "output_dir = os.path.join(data_dir, 'output_1')\n",
    "typeI_sum = np.loadtxt(os.path.join(output_dir, 'typeI_sum.csv'), delimiter=',')\n",
    "typeI_score = np.loadtxt(os.path.join(output_dir, 'typeI_score.csv'), delimiter=',')\n",
    "output_dir = os.path.join(data_dir, 'output_2')\n",
    "typeI_sum += np.loadtxt(os.path.join(output_dir, 'typeI_sum.csv'), delimiter=',')\n",
    "typeI_score += np.loadtxt(os.path.join(output_dir, 'typeI_score.csv'), delimiter=',')"
   ]
  },
  {
   "cell_type": "code",
   "execution_count": 15,
   "metadata": {},
   "outputs": [
    {
     "data": {
      "text/plain": [
       "(array([1.12e-03, 6.70e-04, 6.40e-04, ..., 4.00e-05, 4.30e-04, 5.20e-04]),\n",
       " array([[-1.71344219e-02,  7.10989403e-03,  5.46108647e-03,\n",
       "          4.81012845e-03],\n",
       "        [-1.03829813e-02,  5.86771274e-03,  5.34518179e-03,\n",
       "         -1.27500590e-03],\n",
       "        [-1.02029159e-02,  5.75778215e-03,  5.16429055e-03,\n",
       "         -1.30454266e-03],\n",
       "        ...,\n",
       "        [-5.08045978e-04,  7.36710084e-05, -7.63368492e-05,\n",
       "          9.59055195e-04],\n",
       "        [-7.03037203e-03,  2.41161544e-03,  3.35358649e-03,\n",
       "          1.13478709e-03],\n",
       "        [-8.25278119e-03,  2.67263239e-03,  2.21990762e-03,\n",
       "          3.11372006e-03]]))"
      ]
     },
     "execution_count": 15,
     "metadata": {},
     "output_type": "execute_result"
    }
   ],
   "source": [
    "typeI_sum / sim_size, typeI_score / sim_size"
   ]
  },
  {
   "cell_type": "code",
   "execution_count": 16,
   "metadata": {},
   "outputs": [],
   "source": [
    "# construct upper bound\n",
    "n_arm_samples = lei_obj.unifs_shape()[0]\n",
    "total, d0, d0u, d1w, d1uw, d2uw = binomial.upper_bound(\n",
    "    theta_tiles,\n",
    "    tile_radii,\n",
    "    gr.vertices,\n",
    "    sim_sizes,\n",
    "    n_arm_samples,\n",
    "    typeI_sum,\n",
    "    typeI_score,\n",
    ")\n",
    "bound_components = np.array([\n",
    "    d0,\n",
    "    d0u,\n",
    "    d1w,\n",
    "    d1uw,\n",
    "    d2uw,\n",
    "    total,\n",
    "]).T"
   ]
  },
  {
   "cell_type": "code",
   "execution_count": 17,
   "metadata": {},
   "outputs": [
    {
     "data": {
      "text/plain": [
       "(array([-0.98076923, -0.94230769, -0.90384615, -0.86538462, -0.82692308,\n",
       "        -0.78846154, -0.75      , -0.71153846, -0.67307692, -0.63461538,\n",
       "        -0.59615385, -0.55769231, -0.51923077, -0.48076923, -0.44230769,\n",
       "        -0.40384615, -0.36538462, -0.32692308, -0.28846154, -0.25      ,\n",
       "        -0.21153846, -0.17307692, -0.13461538, -0.09615385, -0.05769231,\n",
       "        -0.01923077,  0.01923077,  0.05769231,  0.09615385,  0.13461538,\n",
       "         0.17307692,  0.21153846,  0.25      ,  0.28846154,  0.32692308,\n",
       "         0.36538462,  0.40384615,  0.44230769,  0.48076923,  0.51923077,\n",
       "         0.55769231,  0.59615385,  0.63461538,  0.67307692,  0.71153846,\n",
       "         0.75      ,  0.78846154,  0.82692308,  0.86538462,  0.90384615,\n",
       "         0.94230769,  0.98076923]),\n",
       " array([-0.98076923, -0.94230769, -0.90384615, -0.86538462, -0.82692308,\n",
       "        -0.78846154, -0.75      , -0.71153846, -0.67307692, -0.63461538,\n",
       "        -0.59615385, -0.55769231, -0.51923077, -0.48076923, -0.44230769,\n",
       "        -0.40384615, -0.36538462, -0.32692308, -0.28846154, -0.25      ,\n",
       "        -0.21153846, -0.17307692, -0.13461538, -0.09615385, -0.05769231,\n",
       "        -0.01923077,  0.01923077,  0.05769231,  0.09615385,  0.13461538,\n",
       "         0.17307692,  0.21153846,  0.25      ,  0.28846154,  0.32692308,\n",
       "         0.36538462,  0.40384615,  0.44230769,  0.48076923,  0.51923077,\n",
       "         0.55769231,  0.59615385,  0.63461538,  0.67307692,  0.71153846,\n",
       "         0.75      ,  0.78846154,  0.82692308,  0.86538462,  0.90384615,\n",
       "         0.94230769,  0.98076923]))"
      ]
     },
     "execution_count": 17,
     "metadata": {},
     "output_type": "execute_result"
    }
   ],
   "source": [
    "t2_uniques = np.unique(theta_tiles[:, 2])\n",
    "t3_uniques = np.unique(theta_tiles[:, 3])\n",
    "t2_uniques, t3_uniques"
   ]
  },
  {
   "cell_type": "code",
   "execution_count": 24,
   "metadata": {},
   "outputs": [],
   "source": [
    "# slice and save P, B\n",
    "t2 = t2_uniques[25]\n",
    "t3 = t3_uniques[20]\n",
    "selection = (theta_tiles[:, 2] == t2) & (theta_tiles[:, 3] == t3)"
   ]
  },
  {
   "cell_type": "code",
   "execution_count": 25,
   "metadata": {},
   "outputs": [],
   "source": [
    "bound_dir = os.path.join(data_dir, 'bound')\n",
    "if not os.path.exists(bound_dir):\n",
    "    os.makedirs(bound_dir)\n",
    "\n",
    "np.savetxt(f'{bound_dir}/P_lei.csv', theta_tiles[selection, :].T, fmt=\"%s\", delimiter=\",\")\n",
    "np.savetxt(f'{bound_dir}/B_lei.csv', bound_components[selection, :], fmt=\"%s\", delimiter=\",\")"
   ]
  }
 ],
 "metadata": {
  "kernelspec": {
   "display_name": "Python 3.10.5 ('confirm')",
   "language": "python",
   "name": "python3"
  },
  "language_info": {
   "codemirror_mode": {
    "name": "ipython",
    "version": 3
   },
   "file_extension": ".py",
   "mimetype": "text/x-python",
   "name": "python",
   "nbconvert_exporter": "python",
   "pygments_lexer": "ipython3",
   "version": "3.10.5"
  },
  "orig_nbformat": 4,
  "vscode": {
   "interpreter": {
    "hash": "d8e1ca1b3fede25e3995e2b26ea544fa1b75b9a17984e6284a43c1dc286640dd"
   }
  }
 },
 "nbformat": 4,
 "nbformat_minor": 2
}
