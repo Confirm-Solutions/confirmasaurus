{
 "cells": [
  {
   "cell_type": "code",
   "execution_count": 1,
   "metadata": {},
   "outputs": [],
   "source": [
    "%load_ext autoreload\n",
    "%autoreload 2"
   ]
  },
  {
   "cell_type": "markdown",
   "metadata": {},
   "source": [
    "# Tutorial on q-Holder Bound"
   ]
  },
  {
   "cell_type": "markdown",
   "metadata": {},
   "source": [
    "The q-Holder bound is the newest tight bound on Type I Error.\n",
    "This notebook aims to provide the simplest example on using the q-Holder bound in `confirm`.\n",
    "The q-Holder bound comes in two variations: forward and backward.\n",
    "The forward mode is used as part of the \"validation\" step where it computes the q-Holder bound directly\n",
    "given the Type I Error at the simulation point.\n",
    "The backward mode is used as part of the \"tuning\" step where it computes the inverted forward q-Holder bound\n",
    "given the desired Type I Error in the tile.\n",
    "\n",
    "For this tutorial, we will focus on Binomial family since it is one of the most useful applications\n",
    "and requires non-trivial implementation to compute these bounds."
   ]
  },
  {
   "cell_type": "code",
   "execution_count": 2,
   "metadata": {},
   "outputs": [],
   "source": [
    "import jax\n",
    "import jax.numpy as jnp\n",
    "import numpy as np\n",
    "import scipy\n",
    "from functools import partial\n",
    "import matplotlib.pyplot as plt\n",
    "import pyimprint.grid as pygrid\n",
    "import confirm.mini_imprint.grid as grid\n",
    "from confirm.mini_imprint.bound import binomial as binomial"
   ]
  },
  {
   "cell_type": "markdown",
   "metadata": {},
   "source": [
    "## Validation Step"
   ]
  },
  {
   "cell_type": "markdown",
   "metadata": {},
   "source": [
    "Consider $n$ (size parameter of Binomial family), \n",
    "$\\theta_0$ (logit parameter of Binomial family) simulation point, $v \\in H-\\theta_0$ any displacement vector, \n",
    "where $H$ is the tile associated with $\\theta_0$.\n",
    "As an example, suppose that the test has a Type I Error of $f(\\theta_0)$."
   ]
  },
  {
   "cell_type": "code",
   "execution_count": 3,
   "metadata": {},
   "outputs": [],
   "source": [
    "n = 350                                 # size\n",
    "theta_0 = np.array([-1., 0., 0.5])      # sim point\n",
    "v = 0.1 * np.ones(theta_0.shape[0])     # displacement\n",
    "f0 = 0.01                               # Type I Error at theta_0"
   ]
  },
  {
   "cell_type": "markdown",
   "metadata": {},
   "source": [
    "We can compute the forward q-Holder bound by calling `q_holder_bound_fwd` with the above information and the hyperparameter $q$."
   ]
  },
  {
   "cell_type": "code",
   "execution_count": 4,
   "metadata": {},
   "outputs": [
    {
     "data": {
      "text/plain": [
       "DeviceArray(0.37938976, dtype=float32)"
      ]
     },
     "execution_count": 4,
     "metadata": {},
     "output_type": "execute_result"
    }
   ],
   "source": [
    "binomial.q_holder_bound_fwd(\n",
    "    q=2.5, n=n, theta_0=theta_0, v=v, f0=f0,\n",
    ")"
   ]
  },
  {
   "cell_type": "markdown",
   "metadata": {},
   "source": [
    "However, note that the bound is incredibly sensitive to the $q$-value.\n",
    "In the above, we manually found a $q$ that provides decent performance,\n",
    "but if we changed $q$ to a different value, the bound could potentially explode."
   ]
  },
  {
   "cell_type": "code",
   "execution_count": 5,
   "metadata": {},
   "outputs": [
    {
     "data": {
      "text/plain": [
       "DeviceArray(613.1688, dtype=float32)"
      ]
     },
     "execution_count": 5,
     "metadata": {},
     "output_type": "execute_result"
    }
   ],
   "source": [
    "binomial.q_holder_bound_fwd(\n",
    "    q=10, n=n, theta_0=theta_0, v=v, f0=f0,\n",
    ")"
   ]
  },
  {
   "cell_type": "markdown",
   "metadata": {},
   "source": [
    "For this reason, we provide a JAX-based class `ForwardQCPSolver` that optimizes for $q$\n",
    "based on the other inputs."
   ]
  },
  {
   "cell_type": "code",
   "execution_count": 6,
   "metadata": {},
   "outputs": [
    {
     "data": {
      "text/plain": [
       "DeviceArray(1.9665824, dtype=float32, weak_type=True)"
      ]
     },
     "execution_count": 6,
     "metadata": {},
     "output_type": "execute_result"
    }
   ],
   "source": [
    "fwd_solver = binomial.ForwardQCPSolver(n=n)\n",
    "q_opt = fwd_solver.solve(theta_0=theta_0, v=v, a=f0) # optimal q\n",
    "q_opt"
   ]
  },
  {
   "cell_type": "markdown",
   "metadata": {},
   "source": [
    "As a sanity check, we can plot the bound as a function of $q$ and check that the optimal $q$\n",
    "indeed achieves the minimum value."
   ]
  },
  {
   "cell_type": "code",
   "execution_count": 7,
   "metadata": {},
   "outputs": [
    {
     "data": {
      "image/png": "[encoded data removed]",
      "text/plain": [
       "<Figure size 432x288 with 1 Axes>"
      ]
     },
     "metadata": {
      "needs_background": "light"
     },
     "output_type": "display_data"
    }
   ],
   "source": [
    "def _sanity_check_fwd_solver():\n",
    "    q_grid = np.linspace(1+1e-6, 4, 1000)\n",
    "    bound_vmap = jax.vmap(binomial.q_holder_bound_fwd, in_axes=(0, None, None, None, None))\n",
    "    bounds = bound_vmap(q_grid, n, theta_0, v, f0)\n",
    "    opt_bound = binomial.q_holder_bound_fwd(q_opt, n, theta_0, v, f0)\n",
    "    plt.plot(q_grid, bounds, '--')\n",
    "    plt.plot(q_opt, opt_bound, 'r.')\n",
    "_sanity_check_fwd_solver()"
   ]
  },
  {
   "cell_type": "markdown",
   "metadata": {},
   "source": [
    "So far, we are able to tightly bound $f(\\theta_0 + v)$ for a fixed $v$ based on $\\theta_0, f(\\theta_0)$ and an optimal choice of $q$.\n",
    "However, we would like to find a tight bound on for all $v \\in H-\\theta_0$.\n",
    "Luckily, we can prove that the q-Holder bound takes its maximum on one of the corners of $H-\\theta_0$ so long as the objective\n",
    "is separable and the tile is rectangular (if not, we can embed the tile in a rectangle and find a further upper bound by maximizing on the rectangle).\n",
    "\n",
    "The following shows an example for computing the maximum on a tile."
   ]
  },
  {
   "cell_type": "code",
   "execution_count": 8,
   "metadata": {},
   "outputs": [
    {
     "data": {
      "text/plain": [
       "array([[-0.1, -0.1, -0.1],\n",
       "       [-0.1, -0.1,  0.1],\n",
       "       [-0.1,  0.1, -0.1],\n",
       "       [-0.1,  0.1,  0.1],\n",
       "       [ 0.1, -0.1, -0.1],\n",
       "       [ 0.1, -0.1,  0.1],\n",
       "       [ 0.1,  0.1, -0.1],\n",
       "       [ 0.1,  0.1,  0.1]])"
      ]
     },
     "execution_count": 8,
     "metadata": {},
     "output_type": "execute_result"
    }
   ],
   "source": [
    "# Create corners of the tile with a given max radius.\n",
    "radius = 0.1\n",
    "v_coords = [[-1., 1.]] * theta_0.shape[0]\n",
    "mgrid = np.meshgrid(*v_coords, indexing='ij')\n",
    "vs = radius * np.concatenate([coord.reshape(-1,1) for coord in mgrid], axis=1)\n",
    "vs"
   ]
  },
  {
   "cell_type": "code",
   "execution_count": 9,
   "metadata": {},
   "outputs": [],
   "source": [
    "def q_holder_bound_fwd_tile(n, theta_0, vs, f0, fwd_solver):\n",
    "    # vectorize fwd_solver over v\n",
    "    fwd_solver_vmap_v = jax.vmap(\n",
    "        fwd_solver.solve,\n",
    "        in_axes=(None, 0, None),\n",
    "    )\n",
    "    q_opts = fwd_solver_vmap_v(theta_0, vs, f0)\n",
    "    \n",
    "    # compute bounds over q_opt, v\n",
    "    bound_vmap = jax.vmap(\n",
    "        binomial.q_holder_bound_fwd,\n",
    "        in_axes=(0, None, None, 0, None),\n",
    "    )\n",
    "    bounds = bound_vmap(\n",
    "        q_opts, n, theta_0, vs, f0,\n",
    "    )\n",
    "    \n",
    "    # find the maximin of the bounds at corners\n",
    "    i_max = jnp.argmax(bounds)\n",
    "    return vs[i_max], q_opts[i_max], bounds[i_max]"
   ]
  },
  {
   "cell_type": "code",
   "execution_count": 10,
   "metadata": {},
   "outputs": [
    {
     "data": {
      "text/plain": [
       "(array([ 0.1,  0.1, -0.1]),\n",
       " DeviceArray(1.9457506, dtype=float32),\n",
       " DeviceArray(0.3366718, dtype=float32))"
      ]
     },
     "execution_count": 10,
     "metadata": {},
     "output_type": "execute_result"
    }
   ],
   "source": [
    "v_opt, q_opt, bound_opt = q_holder_bound_fwd_tile(\n",
    "    n=n, theta_0=theta_0, vs=vs, f0=f0, fwd_solver=fwd_solver,\n",
    ")\n",
    "v_opt, q_opt, bound_opt"
   ]
  },
  {
   "cell_type": "markdown",
   "metadata": {},
   "source": [
    "### Main Workflow"
   ]
  },
  {
   "cell_type": "markdown",
   "metadata": {},
   "source": [
    "The main workflow is to apply this technique in parallel on many tiles.\n",
    "For each tile (and its corresponding simulation point),\n",
    "we would like to optimize for $q$ based on the worse corner.\n",
    "\n",
    "The following is an example of a workflow.\n",
    "We start with an array of simulation points `thetas` and the radius that defines the boundaries of the rectangular tile `radii`.\n",
    "For this example, we are using the helper function `make_cartesian_grid_range`, but any `thetas, radii` will do.\n",
    "The vertices for each tile are explicitly computed using `radii`.\n",
    "Assume that we have access to the Type I Error values at each of the `thetas`."
   ]
  },
  {
   "cell_type": "code",
   "execution_count": 11,
   "metadata": {},
   "outputs": [],
   "source": [
    "gr = pygrid.make_cartesian_grid_range(\n",
    "    size=100, \n",
    "    lower=-np.ones(2), \n",
    "    upper=np.ones(2), \n",
    "    grid_sim_size=0, # dummy for now\n",
    ")\n",
    "thetas = gr.thetas().T\n",
    "subset = thetas[:, 0] >= thetas[:, 1]\n",
    "thetas = thetas[subset]\n",
    "radii = gr.radii().T\n",
    "radii = radii[subset]\n",
    "\n",
    "# dummy function to output TIE of a simple test.\n",
    "def simple_TIE(n, theta, alpha):\n",
    "    prob = scipy.special.expit(theta)\n",
    "    var = np.sum(n * prob * (1 - prob), axis=-1)\n",
    "    mean = n * (prob[:, 1] - prob[:, 0]) / np.sqrt(var)\n",
    "    z_crit = scipy.stats.norm.isf(alpha)\n",
    "    return scipy.stats.norm.sf(z_crit - mean)\n",
    "\n",
    "f0s = simple_TIE(n, thetas, 0.025) "
   ]
  },
  {
   "cell_type": "code",
   "execution_count": 12,
   "metadata": {},
   "outputs": [
    {
     "data": {
      "text/plain": [
       "<matplotlib.colorbar.Colorbar at 0x12fa29b10>"
      ]
     },
     "execution_count": 12,
     "metadata": {},
     "output_type": "execute_result"
    },
    {
     "data": {
      "image/png": "[encoded data removed]",
      "text/plain": [
       "<Figure size 432x288 with 2 Axes>"
      ]
     },
     "metadata": {
      "needs_background": "light"
     },
     "output_type": "display_data"
    }
   ],
   "source": [
    "sc = plt.scatter(thetas[:, 0], thetas[:, 1], c=f0s, marker='.')\n",
    "plt.colorbar(sc)"
   ]
  },
  {
   "cell_type": "code",
   "execution_count": 13,
   "metadata": {},
   "outputs": [],
   "source": [
    "hypercube = grid.hypercube_vertices(\n",
    "    thetas.shape[1],\n",
    ")\n",
    "make_vertices = jax.vmap(\n",
    "    lambda r: r * hypercube,\n",
    "    in_axes=(0,),\n",
    ")\n",
    "vertices = make_vertices(radii)"
   ]
  },
  {
   "cell_type": "markdown",
   "metadata": {},
   "source": [
    "Finally, we vectorize the routine from before to get the best bound for the worse corner for each tile."
   ]
  },
  {
   "cell_type": "code",
   "execution_count": 14,
   "metadata": {},
   "outputs": [],
   "source": [
    "q_holder_bound_fwd_tile_jvmap = jax.jit(jax.vmap(\n",
    "    lambda n, t, v, f0: q_holder_bound_fwd_tile(n, t, v, f0, fwd_solver)[-1],\n",
    "    in_axes=(None, 0, 0, 0),\n",
    "))"
   ]
  },
  {
   "cell_type": "code",
   "execution_count": 15,
   "metadata": {},
   "outputs": [],
   "source": [
    "bounds = q_holder_bound_fwd_tile_jvmap(\n",
    "    n, thetas, vertices, f0s,\n",
    ")"
   ]
  },
  {
   "cell_type": "code",
   "execution_count": 16,
   "metadata": {},
   "outputs": [
    {
     "data": {
      "text/plain": [
       "<matplotlib.colorbar.Colorbar at 0x12f291c30>"
      ]
     },
     "execution_count": 16,
     "metadata": {},
     "output_type": "execute_result"
    },
    {
     "data": {
      "image/png": "[encoded data removed]",
      "text/plain": [
       "<Figure size 432x288 with 2 Axes>"
      ]
     },
     "metadata": {
      "needs_background": "light"
     },
     "output_type": "display_data"
    }
   ],
   "source": [
    "sc = plt.scatter(thetas[:,0], thetas[:,1], c=bounds, marker='.')\n",
    "plt.colorbar(sc)"
   ]
  },
  {
   "cell_type": "markdown",
   "metadata": {},
   "source": [
    "## Tuning Step "
   ]
  },
  {
   "cell_type": "markdown",
   "metadata": {},
   "source": [
    "In the tuning step, we invert the q-Holder bound and optimize a different objective.\n",
    "The inversion gives us a bound on the TIE at `theta_0` in order to achieve level alpha in a tile.\n",
    "Intuitively, we would like this inverted bound to be as large as possible (less conservative).\n",
    "Hence, the `q` parameter allows us to maximize the bound for any given `v`."
   ]
  },
  {
   "cell_type": "code",
   "execution_count": 24,
   "metadata": {},
   "outputs": [],
   "source": [
    "bwd_solver = binomial.BackwardQCPSolver(n=n)"
   ]
  },
  {
   "cell_type": "code",
   "execution_count": 25,
   "metadata": {},
   "outputs": [
    {
     "data": {
      "image/png": "[encoded data removed]",
      "text/plain": [
       "<Figure size 432x288 with 1 Axes>"
      ]
     },
     "metadata": {
      "needs_background": "light"
     },
     "output_type": "display_data"
    }
   ],
   "source": [
    "def _sanity_check_bwd_solver():\n",
    "    q_grid = np.linspace(1+1e-6, 4, 1000)\n",
    "    bound_vmap = jax.vmap(binomial.q_holder_bound_bwd, in_axes=(0, None, None, None, None))\n",
    "    bounds = bound_vmap(q_grid, n, theta_0, v, f0)\n",
    "    q_opt = bwd_solver.solve(theta_0, v, f0)\n",
    "    opt_bound = binomial.q_holder_bound_bwd(q_opt, n, theta_0, v, f0)\n",
    "    plt.plot(q_grid, bounds, '--')\n",
    "    plt.plot(q_opt, opt_bound, 'r.')\n",
    "_sanity_check_bwd_solver()"
   ]
  },
  {
   "cell_type": "markdown",
   "metadata": {},
   "source": [
    "Similar to the validation step, we will extend the optimization routine for the whole tile."
   ]
  },
  {
   "cell_type": "code",
   "execution_count": 26,
   "metadata": {},
   "outputs": [],
   "source": [
    "def q_holder_bound_bwd_tile(n, theta_0, vs, f0, bwd_solver):\n",
    "    # vectorize bwd_solver over v\n",
    "    bwd_solver_vmap_v = jax.vmap(\n",
    "        bwd_solver.solve,\n",
    "        in_axes=(None, 0, None),\n",
    "    )\n",
    "    q_opts = bwd_solver_vmap_v(theta_0, vs, f0)\n",
    "    \n",
    "    # compute bounds over q_opt, v\n",
    "    bound_vmap = jax.vmap(\n",
    "        binomial.q_holder_bound_bwd,\n",
    "        in_axes=(0, None, None, 0, None),\n",
    "    )\n",
    "    bounds = bound_vmap(\n",
    "        q_opts, n, theta_0, vs, f0,\n",
    "    )\n",
    "    \n",
    "    # find the minimax of the bounds at corners\n",
    "    i_max = jnp.argmin(bounds)\n",
    "    return vs[i_max], q_opts[i_max], bounds[i_max]"
   ]
  },
  {
   "cell_type": "code",
   "execution_count": 42,
   "metadata": {},
   "outputs": [],
   "source": [
    "def invert_bound(alpha, theta_0, vertices, n):\n",
    "    v = vertices - theta_0\n",
    "    q_opt = jax.vmap(bwd_solver.solve, in_axes=(None, 0, None))(\n",
    "        theta_0, v, alpha\n",
    "    )\n",
    "    return jnp.min(jax.vmap(binomial.q_holder_bound_bwd, in_axes=(0, None, None, 0, None))(\n",
    "        q_opt, n, theta_0, v, alpha\n",
    "    ))"
   ]
  },
  {
   "cell_type": "code",
   "execution_count": 44,
   "metadata": {},
   "outputs": [
    {
     "data": {
      "text/plain": [
       "(array([ 0.1, -0.1, -0.1]),\n",
       " DeviceArray(2.949464, dtype=float32),\n",
       " DeviceArray(2.5628977e-05, dtype=float32))"
      ]
     },
     "execution_count": 44,
     "metadata": {},
     "output_type": "execute_result"
    }
   ],
   "source": [
    "q_holder_bound_bwd_tile(\n",
    "    n, theta_0, vs, f0, bwd_solver\n",
    ")"
   ]
  },
  {
   "cell_type": "markdown",
   "metadata": {},
   "source": [
    "### Main Workflow"
   ]
  },
  {
   "cell_type": "markdown",
   "metadata": {},
   "source": [
    "The main workflow is similar to that of validation step.\n",
    "For each tile (and its corresponding simulation point),\n",
    "we would like to optimize for $q$ based on the worse corner\n",
    "of the backward bound.\n",
    "\n",
    "The following is an example of a workflow.\n",
    "We continue with the setup as in validation step."
   ]
  },
  {
   "cell_type": "code",
   "execution_count": 31,
   "metadata": {},
   "outputs": [],
   "source": [
    "q_holder_bound_bwd_tile_jvmap = jax.jit(jax.vmap(\n",
    "    lambda n, t, v, f0: q_holder_bound_bwd_tile(n, t, v, f0, bwd_solver)[-1],\n",
    "    in_axes=(None, 0, 0, 0),\n",
    "))"
   ]
  },
  {
   "cell_type": "code",
   "execution_count": 38,
   "metadata": {},
   "outputs": [],
   "source": [
    "bounds_bwd = q_holder_bound_bwd_tile_jvmap(\n",
    "    n, thetas, vertices, f0s,\n",
    ")"
   ]
  },
  {
   "cell_type": "code",
   "execution_count": 41,
   "metadata": {},
   "outputs": [
    {
     "data": {
      "text/plain": [
       "<matplotlib.colorbar.Colorbar at 0x298582da0>"
      ]
     },
     "execution_count": 41,
     "metadata": {},
     "output_type": "execute_result"
    },
    {
     "data": {
      "image/png": "[encoded data removed]",
      "text/plain": [
       "<Figure size 432x288 with 2 Axes>"
      ]
     },
     "metadata": {
      "needs_background": "light"
     },
     "output_type": "display_data"
    }
   ],
   "source": [
    "sc = plt.scatter(thetas[:,0], thetas[:,1], c=bounds_bwd, marker='.')\n",
    "plt.colorbar(sc)"
   ]
  }
 ],
 "metadata": {
  "kernelspec": {
   "display_name": "Python 3.10.5 ('confirm')",
   "language": "python",
   "name": "python3"
  },
  "language_info": {
   "codemirror_mode": {
    "name": "ipython",
    "version": 3
   },
   "file_extension": ".py",
   "mimetype": "text/x-python",
   "name": "python",
   "nbconvert_exporter": "python",
   "pygments_lexer": "ipython3",
   "version": "3.10.5"
  },
  "orig_nbformat": 4,
  "vscode": {
   "interpreter": {
    "hash": "d8e1ca1b3fede25e3995e2b26ea544fa1b75b9a17984e6284a43c1dc286640dd"
   }
  }
 },
 "nbformat": 4,
 "nbformat_minor": 2
}
