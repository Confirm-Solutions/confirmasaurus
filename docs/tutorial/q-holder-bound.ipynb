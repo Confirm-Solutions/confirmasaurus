{
 "cells": [
  {
   "cell_type": "code",
   "execution_count": 1,
   "metadata": {},
   "outputs": [],
   "source": [
    "%load_ext autoreload\n",
    "%autoreload 2"
   ]
  },
  {
   "cell_type": "markdown",
   "metadata": {},
   "source": [
    "# Tutorial on q-Holder Bound"
   ]
  },
  {
   "cell_type": "markdown",
   "metadata": {},
   "source": [
    "The q-Holder bound is the newest tight bound on Type I Error.\n",
    "This notebook aims to provide the simplest example on using the q-Holder bound in `confirm`.\n",
    "The q-Holder bound comes in two variations: forward and backward.\n",
    "The forward mode is used as part of the \"validation\" step where it computes the q-Holder bound directly\n",
    "given the Type I Error at the simulation point.\n",
    "The backward mode is used as part of the \"tuning\" step where it computes the inverted forward q-Holder bound\n",
    "given the desired Type I Error in the tile.\n",
    "\n",
    "For this tutorial, we will focus on Binomial family since it is one of the most useful applications\n",
    "and requires non-trivial implementation to compute these bounds."
   ]
  },
  {
   "cell_type": "code",
   "execution_count": 67,
   "metadata": {},
   "outputs": [],
   "source": [
    "import jax\n",
    "import jax.numpy as jnp\n",
    "import numpy as np\n",
    "import matplotlib.pyplot as plt\n",
    "import pyimprint.grid as pygrid\n",
    "import confirm.mini_imprint.grid as grid\n",
    "from confirm.mini_imprint.bound import binomial as binomial"
   ]
  },
  {
   "cell_type": "markdown",
   "metadata": {},
   "source": [
    "## Validation Step"
   ]
  },
  {
   "cell_type": "markdown",
   "metadata": {},
   "source": [
    "Consider $n$ (size parameter of Binomial family), \n",
    "$\\theta_0$ (logit parameter of Binomial family) simulation point, $v \\in H-\\theta_0$ any displacement vector, \n",
    "where $H$ is the tile associated with $\\theta_0$.\n",
    "As an example, suppose that the test has a Type I Error of $f(\\theta_0)$."
   ]
  },
  {
   "cell_type": "code",
   "execution_count": 26,
   "metadata": {},
   "outputs": [],
   "source": [
    "n = 350                                 # size\n",
    "theta_0 = np.array([-1., 0., 0.5])      # sim point\n",
    "v = 0.1 * np.ones(theta_0.shape[0])     # displacement\n",
    "f0 = 0.01                               # Type I Error at theta_0"
   ]
  },
  {
   "cell_type": "markdown",
   "metadata": {},
   "source": [
    "We can compute the forward q-Holder bound by calling `q_holder_bound_fwd` with the above information and the hyperparameter $q$."
   ]
  },
  {
   "cell_type": "code",
   "execution_count": 30,
   "metadata": {},
   "outputs": [
    {
     "data": {
      "text/plain": [
       "DeviceArray(0.37940282, dtype=float32)"
      ]
     },
     "execution_count": 30,
     "metadata": {},
     "output_type": "execute_result"
    }
   ],
   "source": [
    "binomial.q_holder_bound_fwd(\n",
    "    q=2.5, n=n, theta_0=theta_0, v=v, f0=f0,\n",
    ")"
   ]
  },
  {
   "cell_type": "markdown",
   "metadata": {},
   "source": [
    "However, note that the bound is incredibly sensitive to the $q$-value.\n",
    "In the above, we manually found a $q$ that provides decent performance,\n",
    "but if we changed $q$ to a different value, the bound could potentially explode."
   ]
  },
  {
   "cell_type": "code",
   "execution_count": 29,
   "metadata": {},
   "outputs": [
    {
     "data": {
      "text/plain": [
       "DeviceArray(613.1992, dtype=float32)"
      ]
     },
     "execution_count": 29,
     "metadata": {},
     "output_type": "execute_result"
    }
   ],
   "source": [
    "binomial.q_holder_bound_fwd(\n",
    "    q=10, n=n, theta_0=theta_0, v=v, f0=f0,\n",
    ")"
   ]
  },
  {
   "cell_type": "markdown",
   "metadata": {},
   "source": [
    "For this reason, we provide a JAX-based class `ForwardQCPSolver` that optimizes for $q$\n",
    "based on the other inputs."
   ]
  },
  {
   "cell_type": "code",
   "execution_count": 35,
   "metadata": {},
   "outputs": [
    {
     "data": {
      "text/plain": [
       "DeviceArray(1.9665818, dtype=float32, weak_type=True)"
      ]
     },
     "execution_count": 35,
     "metadata": {},
     "output_type": "execute_result"
    }
   ],
   "source": [
    "fwd_solver = binomial.ForwardQCPSolver(n=n)\n",
    "q_opt = fwd_solver.solve(theta_0=theta_0, v=v, a=f0) # optimal q\n",
    "q_opt"
   ]
  },
  {
   "cell_type": "markdown",
   "metadata": {},
   "source": [
    "As a sanity check, we can plot the bound as a function of $q$ and check that the optimal $q$\n",
    "indeed achieves the minimum value."
   ]
  },
  {
   "cell_type": "code",
   "execution_count": 45,
   "metadata": {},
   "outputs": [
    {
     "data": {
      "image/png": "[encoded data removed]",
      "text/plain": [
       "<Figure size 640x480 with 1 Axes>"
      ]
     },
     "metadata": {},
     "output_type": "display_data"
    }
   ],
   "source": [
    "def _sanity_check_fwd_solver():\n",
    "    q_grid = np.linspace(1+1e-6, 4, 1000)\n",
    "    bound_vmap = jax.vmap(binomial.q_holder_bound_fwd, in_axes=(0, None, None, None, None))\n",
    "    bounds = bound_vmap(q_grid, n, theta_0, v, f0)\n",
    "    opt_bound = binomial.q_holder_bound_fwd(q_opt, n, theta_0, v, f0)\n",
    "    plt.plot(q_grid, bounds, '--')\n",
    "    plt.plot(q_opt, opt_bound, 'r.')\n",
    "_sanity_check_fwd_solver()"
   ]
  },
  {
   "cell_type": "markdown",
   "metadata": {},
   "source": [
    "So far, we are able to tightly bound $f(\\theta_0 + v)$ for a fixed $v$ based on $\\theta_0, f(\\theta_0)$ and an optimal choice of $q$.\n",
    "However, we would like to find a tight bound on for all $v \\in H-\\theta_0$.\n",
    "Luckily, we can prove that the q-Holder bound takes its maximum on one of the corners of $H-\\theta_0$ so long as the objective\n",
    "is separable and the tile is rectangular (if not, we can embed the tile in a rectangle and find a further upper bound by maximizing on the rectangle).\n",
    "\n",
    "The following shows an example for computing the maximum on a tile."
   ]
  },
  {
   "cell_type": "code",
   "execution_count": 49,
   "metadata": {},
   "outputs": [
    {
     "data": {
      "text/plain": [
       "array([[-0.1, -0.1, -0.1],\n",
       "       [-0.1, -0.1,  0.1],\n",
       "       [-0.1,  0.1, -0.1],\n",
       "       [-0.1,  0.1,  0.1],\n",
       "       [ 0.1, -0.1, -0.1],\n",
       "       [ 0.1, -0.1,  0.1],\n",
       "       [ 0.1,  0.1, -0.1],\n",
       "       [ 0.1,  0.1,  0.1]])"
      ]
     },
     "execution_count": 49,
     "metadata": {},
     "output_type": "execute_result"
    }
   ],
   "source": [
    "# Create corners of the tile with a given max radius.\n",
    "radius = 0.1\n",
    "v_coords = [[-1., 1.]] * theta_0.shape[0]\n",
    "mgrid = np.meshgrid(*v_coords, indexing='ij')\n",
    "vs = radius * np.concatenate([coord.reshape(-1,1) for coord in mgrid], axis=1)\n",
    "vs"
   ]
  },
  {
   "cell_type": "code",
   "execution_count": 53,
   "metadata": {},
   "outputs": [],
   "source": [
    "def q_holder_bound_fwd_tile(n, theta_0, vs, f0, fwd_solver):\n",
    "    # vectorize fwd_solver over v\n",
    "    fwd_solver_vmap_v = jax.vmap(\n",
    "        fwd_solver.solve,\n",
    "        in_axes=(None, 0, None),\n",
    "    )\n",
    "    q_opts = fwd_solver_vmap_v(theta_0, vs, f0)\n",
    "    \n",
    "    # compute bounds over q_opt, v\n",
    "    bound_vmap = jax.vmap(\n",
    "        binomial.q_holder_bound_fwd,\n",
    "        in_axes=(0, None, None, 0, None),\n",
    "    )\n",
    "    bounds = bound_vmap(\n",
    "        q_opts, n, theta_0, vs, f0,\n",
    "    )\n",
    "    \n",
    "    # find the maximin of the bounds at corners\n",
    "    i_max = jnp.argmax(bounds)\n",
    "    return vs[i_max], q_opts[i_max], bounds[i_max]"
   ]
  },
  {
   "cell_type": "code",
   "execution_count": 55,
   "metadata": {},
   "outputs": [
    {
     "data": {
      "text/plain": [
       "(array([ 0.1,  0.1, -0.1]),\n",
       " DeviceArray(1.9457511, dtype=float32),\n",
       " DeviceArray(0.3366786, dtype=float32))"
      ]
     },
     "execution_count": 55,
     "metadata": {},
     "output_type": "execute_result"
    }
   ],
   "source": [
    "v_opt, q_opt, bound_opt = q_holder_bound_fwd_tile(\n",
    "    n=n, theta_0=theta_0, vs=vs, f0=f0, fwd_solver=fwd_solver,\n",
    ")\n",
    "v_opt, q_opt, bound_opt"
   ]
  },
  {
   "cell_type": "markdown",
   "metadata": {},
   "source": [
    "### Main Workflow"
   ]
  },
  {
   "cell_type": "markdown",
   "metadata": {},
   "source": [
    "The main workflow is to apply this technique in parallel on many tiles.\n",
    "For each tile (and its corresponding simulation point),\n",
    "we would like to optimize for $q$ based on the worse corner.\n",
    "\n",
    "The following is an example of a workflow.\n",
    "We start with an array of simulation points `thetas` and the radius that defines the boundaries of the rectangular tile `radii`.\n",
    "For this example, we are using the helper function `make_cartesian_grid_range`, but any `thetas, radii` will do.\n",
    "The vertices for each tile are explicitly computed using `radii`.\n",
    "Assume that we have access to the Type I Error values at each of the `thetas`."
   ]
  },
  {
   "cell_type": "code",
   "execution_count": 79,
   "metadata": {},
   "outputs": [],
   "source": [
    "gr = pygrid.make_cartesian_grid_range(\n",
    "    size=100, \n",
    "    lower=-np.ones(theta_0.shape[0]), \n",
    "    upper=np.ones(theta_0.shape[0]), \n",
    "    grid_sim_size=0, # dummy for now\n",
    ")\n",
    "thetas = gr.thetas().T\n",
    "radii = gr.radii().T\n",
    "f0s = np.full(thetas.shape[0], 0.025) # dummy values"
   ]
  },
  {
   "cell_type": "code",
   "execution_count": 80,
   "metadata": {},
   "outputs": [],
   "source": [
    "hypercube = grid.hypercube_vertices(\n",
    "    theta_0.shape[0],\n",
    ")\n",
    "make_vertices = jax.vmap(\n",
    "    lambda r: r * hypercube,\n",
    "    in_axes=(0,),\n",
    ")\n",
    "vertices = make_vertices(radii)"
   ]
  },
  {
   "cell_type": "markdown",
   "metadata": {},
   "source": [
    "Finally, we vectorize the routine from before to get the best bound for the worse corner for each tile."
   ]
  },
  {
   "cell_type": "code",
   "execution_count": 81,
   "metadata": {},
   "outputs": [],
   "source": [
    "q_holder_bound_fwd_tile_jvmap = jax.jit(jax.vmap(\n",
    "    lambda n, t, v, f0: q_holder_bound_fwd_tile(n, t, v, f0, fwd_solver)[-1],\n",
    "    in_axes=(None, 0, 0, 0),\n",
    "))"
   ]
  },
  {
   "cell_type": "code",
   "execution_count": 84,
   "metadata": {},
   "outputs": [],
   "source": [
    "bounds = q_holder_bound_fwd_tile_jvmap(\n",
    "    n, thetas, vertices, f0s,\n",
    ")"
   ]
  }
 ],
 "metadata": {
  "kernelspec": {
   "display_name": "Python 3.10.6 ('confirm')",
   "language": "python",
   "name": "python3"
  },
  "language_info": {
   "codemirror_mode": {
    "name": "ipython",
    "version": 3
   },
   "file_extension": ".py",
   "mimetype": "text/x-python",
   "name": "python",
   "nbconvert_exporter": "python",
   "pygments_lexer": "ipython3",
   "version": "3.10.6"
  },
  "orig_nbformat": 4,
  "vscode": {
   "interpreter": {
    "hash": "5d574717a19d12573763700bcd6833eaae2108879723021a1c549979ef70be90"
   }
  }
 },
 "nbformat": 4,
 "nbformat_minor": 2
}
