{
 "cells": [
  {
   "attachments": {},
   "cell_type": "markdown",
   "metadata": {},
   "source": [
    "# $t$ Test Adaptive"
   ]
  },
  {
   "cell_type": "code",
   "execution_count": 1,
   "metadata": {},
   "outputs": [],
   "source": [
    "from imprint.nb_util import setup_nb\n",
    "\n",
    "# setup_nb is a handy function for setting up some nice plotting defaults.\n",
    "setup_nb()\n",
    "import scipy.stats\n",
    "import matplotlib.pyplot as plt\n",
    "import jax\n",
    "import jax.numpy as jnp\n",
    "import numpy as np\n",
    "\n",
    "import imprint as ip\n",
    "from imprint.models.ttest_adaptive import TTest1DAda"
   ]
  },
  {
   "attachments": {},
   "cell_type": "markdown",
   "metadata": {},
   "source": [
    "In this tutorial, we study a generalization of the $t$ test procedure with interim analyses.\n",
    "Let $i=1,\\ldots, I$ denote the interims where $I \\geq 0$.\n",
    "For each interim $1 \\leq i \\leq I$, \n",
    "we perform an analysis by combining the data observed so far and running the usual $t$ test.\n",
    "If the procedure does not reject, we add $n_i$ additional samples and continue to the next interim (or final analysis).\n",
    "Otherwise, we finish the entire procedure.\n",
    "If the last interim analysis $I$ does not reject and $n_I$ samples are added, \n",
    "we move onto the final analysis, which again runs the usual $t$ test.\n",
    "\n",
    "Let $N_i = \\sum\\limits_{j=0}^{i} n_j$ for $i=0,\\ldots, I$, \n",
    "where $n_0$ is the initial number of samples and $n_i$ are the additional samples after interim analysis $i$.\n",
    "$N_i$ is then the total number of samples seen after interim analysis $i$.\n",
    "For each $i = 0,\\ldots, I$,\n",
    "we sample $n_i$ draws $X_{N_{i-1} + 1}, \\ldots, X_{N_{i}} \\sim \\mathcal{N}(\\mu, \\sigma^2)$.\n",
    "We show a recursive formula for the $T$ statistic at each interim:\n",
    "let $T^i$ denote the test statistic at stage $i$ ($0 \\leq i \\leq I$) with $N_i$ samples.\n",
    "Then,\n",
    "$$\n",
    "\\begin{align*}\n",
    "    T^i &:= \\frac{A_i - N_i(\\mu - \\mu_0)}{N_i \\sqrt{\\frac{B_i}{N_i-1}}} \\\\\n",
    "    A_i &:= \\sum\\limits_{j=1}^{N_i} X_j \\\\\n",
    "    B_i &:= \\sum\\limits_{j=1}^{N_i} (X_j - \\bar{X}_i)^2 \\\\\n",
    "    \\bar{X}_i &:= \\frac{A_i}{N_i}\n",
    "\\end{align*}\n",
    "$$\n",
    "\n",
    "First, we clearly have\n",
    "$$\n",
    "\\begin{align*}\n",
    "    A_i &:= A_{i-1} + \\Delta_i \\\\\n",
    "    \\Delta_i &:= \\sum\\limits_{j=N_{i-1}+1}^{N_i} X_j \\sim \\mathcal{N}(n_i \\mu, n_i \\sigma^2) \\perp\\!\\!\\!\\perp A_{i-1}\n",
    "\\end{align*}\n",
    "$$\n",
    "\n",
    "Next, we have that\n",
    "$$\n",
    "\\begin{align*}\n",
    "    B_i \n",
    "    &:= \n",
    "    \\sum\\limits_{j=1}^{N_i} (X_j - \\bar{X}_i)^2 \n",
    "    =\n",
    "    \\sum\\limits_{j=1}^{N_{i-1}} (X_j - \\bar{X}_i)^2\n",
    "    +\n",
    "    \\sum\\limits_{j=N_{i-1}+1}^{N_{i}} (X_j - \\bar{X}_i)^2\n",
    "    \\\\&=\n",
    "    \\sum\\limits_{j=1}^{N_{i-1}} (X_j - \\bar{X}_{i-1})^2\n",
    "    + N_{i-1} (\\bar{X}_{i-1} - \\bar{X}_i)^2\n",
    "    + \\sum\\limits_{j=N_{i-1}+1}^{N_{i}} \\left(X_j - \\frac{\\Delta_i}{n_i}\\right)^2\n",
    "    + n_i \\left(\\frac{\\Delta_i}{n_i} - \\bar{X}_i\\right)^2\n",
    "\\end{align*}\n",
    "$$\n",
    "Note that\n",
    "$$\n",
    "\\begin{align*}\n",
    "    \\bar{X}_i - \\bar{X}_{i-1}\n",
    "    &=\n",
    "    \\left(\\frac{1}{N_i} - \\frac{1}{N_{i-1}}\\right) A_{N_i}\n",
    "    + \\frac{1}{N_{i-1}} \\Delta_i\n",
    "    =\n",
    "    \\frac{n_i}{N_{i-1}} \\left(\\frac{\\Delta_i}{n_i} - \\bar{X}_i\\right)\n",
    "\\end{align*}\n",
    "$$\n",
    "So,\n",
    "$$\n",
    "\\begin{align*}\n",
    "    B_i \n",
    "    &=\n",
    "    B_{i-1} + S_i + \\frac{n_i N_i}{N_{i-1}} \\left(\\frac{\\Delta_i}{n_i} - \\bar{X}_i\\right)^2\n",
    "    =\n",
    "    B_{i-1} + S_i + \\frac{n_i N_{i-1}}{N_i} \\left(\\frac{\\Delta_i}{n_i} - \\frac{A_{i-1}}{N_{i-1}}\\right)^2\n",
    "    \\\\\n",
    "    S_i \n",
    "    &:= \n",
    "    \\sum\\limits_{j=N_{i-1}+1}^{N_{i}} \\left(X_j - \\frac{\\Delta_i}{n_i}\\right)^2\n",
    "    \\sim \\sigma^2 \\chi^2_{n_i-1} \\perp\\!\\!\\!\\perp \\Delta_i\n",
    "\\end{align*}\n",
    "$$"
   ]
  },
  {
   "cell_type": "code",
   "execution_count": 6,
   "metadata": {},
   "outputs": [],
   "source": [
    "mu_0 = 0  # fixed threshold for null hypothesis\n",
    "theta_min = [-1, -1]  # minimum for theta\n",
    "theta_max = [0, -0.1]  # maximum for theta\n",
    "n_init = 20  # initial number of Gaussian draws\n",
    "n_samples_per_interim = 20  # number of Gaussian draws per interim\n",
    "n_interims = 1  # number of interims\n",
    "n_gridpts = [100, 100]  # number of grid-points along each direction\n",
    "alpha = 0.025  # target nominal level\n",
    "n_sims = 8192  # number of simulations\n",
    "\n",
    "# try true critical threshold when 0 interims in the lambda space\n",
    "lam = -scipy.stats.t.isf(alpha, df=n_samples - 1)"
   ]
  },
  {
   "cell_type": "code",
   "execution_count": 4,
   "metadata": {},
   "outputs": [
    {
     "name": "stderr",
     "output_type": "stream",
     "text": [
      "DEBUG:imprint.grid:[worker_id=None] \n",
      "_gen_short_uuids(n=10000, worker_id=1, t=1674791120, n_bits=18, worker_bits=18) = [4410304966242336768 4410304966242336769 4410304966242336770, ...]:\n"
     ]
    }
   ],
   "source": [
    "grid = ip.cartesian_grid(\n",
    "    theta_min=theta_min,\n",
    "    theta_max=theta_max,\n",
    "    n=n_gridpts,\n",
    "    null_hypos=[ip.hypo(f\"theta0 <= {-2 * mu_0} * theta1\")],\n",
    ")"
   ]
  },
  {
   "cell_type": "code",
   "execution_count": 22,
   "metadata": {},
   "outputs": [
    {
     "data": {
      "text/html": [
       "<div>\n",
       "<style scoped>\n",
       "    .dataframe tbody tr th:only-of-type {\n",
       "        vertical-align: middle;\n",
       "    }\n",
       "\n",
       "    .dataframe tbody tr th {\n",
       "        vertical-align: top;\n",
       "    }\n",
       "\n",
       "    .dataframe thead th {\n",
       "        text-align: right;\n",
       "    }\n",
       "</style>\n",
       "<table border=\"1\" class=\"dataframe\">\n",
       "  <thead>\n",
       "    <tr style=\"text-align: right;\">\n",
       "      <th></th>\n",
       "      <th>tie_sum</th>\n",
       "      <th>tie_est</th>\n",
       "      <th>tie_cp_bound</th>\n",
       "      <th>tie_bound</th>\n",
       "    </tr>\n",
       "  </thead>\n",
       "  <tbody>\n",
       "    <tr>\n",
       "      <th>9995</th>\n",
       "      <td>0</td>\n",
       "      <td>0.0</td>\n",
       "      <td>0.000562</td>\n",
       "      <td>0.001464</td>\n",
       "    </tr>\n",
       "    <tr>\n",
       "      <th>9996</th>\n",
       "      <td>0</td>\n",
       "      <td>0.0</td>\n",
       "      <td>0.000562</td>\n",
       "      <td>0.001464</td>\n",
       "    </tr>\n",
       "    <tr>\n",
       "      <th>9997</th>\n",
       "      <td>0</td>\n",
       "      <td>0.0</td>\n",
       "      <td>0.000562</td>\n",
       "      <td>0.001463</td>\n",
       "    </tr>\n",
       "    <tr>\n",
       "      <th>9998</th>\n",
       "      <td>0</td>\n",
       "      <td>0.0</td>\n",
       "      <td>0.000562</td>\n",
       "      <td>0.001463</td>\n",
       "    </tr>\n",
       "    <tr>\n",
       "      <th>9999</th>\n",
       "      <td>0</td>\n",
       "      <td>0.0</td>\n",
       "      <td>0.000562</td>\n",
       "      <td>0.001462</td>\n",
       "    </tr>\n",
       "  </tbody>\n",
       "</table>\n",
       "</div>"
      ],
      "text/plain": [
       "      tie_sum  tie_est  tie_cp_bound  tie_bound\n",
       "9995        0      0.0      0.000562   0.001464\n",
       "9996        0      0.0      0.000562   0.001464\n",
       "9997        0      0.0      0.000562   0.001463\n",
       "9998        0      0.0      0.000562   0.001463\n",
       "9999        0      0.0      0.000562   0.001462"
      ]
     },
     "execution_count": 22,
     "metadata": {},
     "output_type": "execute_result"
    }
   ],
   "source": [
    "rej_df = ip.validate(\n",
    "    TTest1DAda,\n",
    "    grid,\n",
    "    lam,\n",
    "    K=n_sims,\n",
    "    model_kwargs={\n",
    "        \"n_init\": n_init,\n",
    "        \"n_samples_per_interim\": n_samples_per_interim,\n",
    "        \"n_interims\": n_interims,\n",
    "        \"mu0\": mu_0,\n",
    "    },\n",
    ")\n",
    "rej_df.tail()"
   ]
  }
 ],
 "metadata": {
  "kernelspec": {
   "display_name": "confirm",
   "language": "python",
   "name": "python3"
  },
  "language_info": {
   "codemirror_mode": {
    "name": "ipython",
    "version": 3
   },
   "file_extension": ".py",
   "mimetype": "text/x-python",
   "name": "python",
   "nbconvert_exporter": "python",
   "pygments_lexer": "ipython3",
   "version": "3.10.6"
  },
  "orig_nbformat": 4,
  "vscode": {
   "interpreter": {
    "hash": "5d574717a19d12573763700bcd6833eaae2108879723021a1c549979ef70be90"
   }
  }
 },
 "nbformat": 4,
 "nbformat_minor": 2
}
