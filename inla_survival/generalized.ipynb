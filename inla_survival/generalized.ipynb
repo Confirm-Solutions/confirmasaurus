{
 "cells": [
  {
   "cell_type": "code",
   "execution_count": 1,
   "metadata": {},
   "outputs": [],
   "source": [
    "import sys\n",
    "sys.path.append('../imprint/research/berry/')\n",
    "import berrylib.util as util\n",
    "util.setup_nb()"
   ]
  },
  {
   "cell_type": "code",
   "execution_count": 2,
   "metadata": {},
   "outputs": [
    {
     "name": "stderr",
     "output_type": "stream",
     "text": [
      "/Users/tbent/.mambaforge/envs/imprint/lib/python3.10/site-packages/jax/_src/lib/__init__.py:33: UserWarning: JAX on Mac ARM machines is experimental and minimally tested. Please see https://github.com/google/jax/issues/5501 in the event of problems.\n",
      "  warnings.warn(\"JAX on Mac ARM machines is experimental and minimally tested. \"\n",
      "/Users/tbent/.mambaforge/envs/imprint/lib/python3.10/site-packages/tqdm/auto.py:22: TqdmWarning: IProgress not found. Please update jupyter and ipywidgets. See https://ipywidgets.readthedocs.io/en/stable/user_install.html\n",
      "  from .autonotebook import tqdm as notebook_tqdm\n"
     ]
    }
   ],
   "source": [
    "import jax\n",
    "import jax.numpy as jnp\n",
    "import numpy as np\n",
    "import time\n",
    "import numpyro\n",
    "import numpyro.distributions as dist\n",
    "import scipy.stats\n",
    "import matplotlib.pyplot as plt\n",
    "from scipy.special import logit, expit\n",
    "\n",
    "import inla"
   ]
  },
  {
   "cell_type": "code",
   "execution_count": 3,
   "metadata": {},
   "outputs": [],
   "source": [
    "\n",
    "mu_0 = -1.34\n",
    "mu_sig2 = 100.0\n",
    "sig2_alpha = 0.0005\n",
    "sig2_beta = 0.000005\n",
    "logit_p1 = -1.0\n",
    "def model(data):\n",
    "    sig2 = numpyro.sample(\"sig2\", dist.InverseGamma(sig2_alpha, sig2_beta))\n",
    "    cov = jnp.full((3, 3), mu_sig2) + jnp.diag(jnp.repeat(sig2, 3))\n",
    "    theta = numpyro.sample(\n",
    "        \"theta\",\n",
    "        dist.MultivariateNormal(mu_0, cov),\n",
    "    )\n",
    "    numpyro.sample(\n",
    "        \"y\",\n",
    "        dist.BinomialLogits(theta + logit_p1, total_count=data[:,1]),\n",
    "        obs=data[:, 0],\n",
    "    )"
   ]
  },
  {
   "cell_type": "code",
   "execution_count": 4,
   "metadata": {},
   "outputs": [],
   "source": [
    "data = np.array([[6.0,35], [5,35], [4,35]])\n",
    "params = dict(\n",
    "    sig2 = 10.0,\n",
    "    theta = np.array([0.0,0,0]),\n",
    ")\n",
    "ll_fnc = inla.build_log_likelihood(model)"
   ]
  },
  {
   "cell_type": "code",
   "execution_count": 5,
   "metadata": {},
   "outputs": [],
   "source": [
    "sig2_rule = util.log_gauss_rule(15, 1e-2, 1e2)"
   ]
  },
  {
   "cell_type": "code",
   "execution_count": 82,
   "metadata": {},
   "outputs": [],
   "source": [
    "def conditional(theta, sig2, data):\n",
    "    params = dict(theta=theta, sig2=sig2)\n",
    "    return ll_fnc(params, data)\n",
    "\n",
    "def grad_hess(theta, sig2, data):\n",
    "    grad = jax.grad(conditional)(theta, sig2, data)\n",
    "    hess = jax.hessian(conditional)(theta, sig2, data)\n",
    "    return grad, hess\n",
    "grad_hess_vmap = jax.jit(\n",
    "    jax.vmap(\n",
    "        jax.vmap(grad_hess, in_axes=(0, 0, None)), in_axes=(0, None, 0)\n",
    "    )\n",
    ")\n",
    "conditional_vmap = jax.jit(\n",
    "    jax.vmap(\n",
    "        jax.vmap(conditional, in_axes=(0, 0, None)), in_axes=(0, None, 0)\n",
    "    )\n",
    ")\n",
    "    \n",
    "n_arms = 3\n",
    "sigma2_n = sig2_rule.pts.shape[0]\n",
    "arms = np.arange(n_arms)\n",
    "cov = np.full((sigma2_n, n_arms, n_arms), mu_sig2)\n",
    "cov[:, arms, arms] += sig2_rule.pts[:, None]\n",
    "neg_precQ = -np.linalg.inv(cov)\n",
    "na = jnp.arange(3)\n",
    "def grad_hess(theta, _, data):\n",
    "    y = data[..., 0]\n",
    "    n = data[..., 1]\n",
    "    theta_m0 = theta - mu_0\n",
    "    exp_theta_adj = jnp.exp(theta + logit_p1)\n",
    "    C = 1.0 / (exp_theta_adj + 1)\n",
    "    nCeta = n[:, None] * C * exp_theta_adj\n",
    "    grad = (\n",
    "        jnp.matmul(neg_precQ[None], theta_m0[:, :, :, None])[..., 0]\n",
    "        + y[:, None] - nCeta\n",
    "    )\n",
    "    hess = neg_precQ[None] - ((nCeta * C)[:, :, None, :] * jnp.eye(3))\n",
    "    return grad, hess\n",
    "grad_hess_vmap = jax.jit(grad_hess)"
   ]
  },
  {
   "cell_type": "code",
   "execution_count": 84,
   "metadata": {},
   "outputs": [
    {
     "name": "stdout",
     "output_type": "stream",
     "text": [
      "16 iters, 0.685 us per sample, 0.00s total\n",
      "64 iters, 0.376 us per sample, 0.00s total\n",
      "256 iters, 0.278 us per sample, 0.00s total\n",
      "1024 iters, 0.271 us per sample, 0.00s total\n",
      "4096 iters, 0.282 us per sample, 0.00s total\n",
      "16384 iters, 0.162 us per sample, 0.00s total\n",
      "65536 iters, 0.176 us per sample, 0.01s total\n",
      "262144 iters, 0.245 us per sample, 0.06s total\n"
     ]
    }
   ],
   "source": [
    "for N in 2 ** np.arange(4, 20, 2):\n",
    "    y = scipy.stats.binom.rvs(35, 0.3, size=(N, 3))\n",
    "    n = np.full_like(y, 35)\n",
    "    data = np.stack((y, n), axis=-1)\n",
    "    theta = np.random.rand(N, sig2_rule.pts.shape[0], 3)\n",
    "    for i in range(3):\n",
    "        start = time.time()\n",
    "        grad, hess = grad_hess_vmap(theta, sig2_rule.pts, data)\n",
    "        Gt = grad.block_until_ready()\n",
    "        Ht = hess.block_until_ready()\n",
    "        end = time.time()\n",
    "    print(f'{N} iters, {(end - start) / N * 1e6:.3f} us per sample, {end - start:.2f}s total')"
   ]
  },
  {
   "cell_type": "code",
   "execution_count": 85,
   "metadata": {},
   "outputs": [],
   "source": [
    "N = 10000\n",
    "y = scipy.stats.binom.rvs(35, 0.3, size=(N, 3))\n",
    "n = np.full_like(y, 35)\n",
    "data = np.stack((y, n), axis=-1)"
   ]
  },
  {
   "cell_type": "code",
   "execution_count": 86,
   "metadata": {},
   "outputs": [
    {
     "data": {
      "text/plain": [
       "(10000, 3, 2)"
      ]
     },
     "execution_count": 86,
     "metadata": {},
     "output_type": "execute_result"
    }
   ],
   "source": [
    "data.shape"
   ]
  },
  {
   "cell_type": "code",
   "execution_count": 87,
   "metadata": {},
   "outputs": [],
   "source": [
    "inla_obj = inla.INLA(conditional_vmap, grad_hess_vmap, sig2_rule, 3)"
   ]
  },
  {
   "cell_type": "code",
   "execution_count": 88,
   "metadata": {},
   "outputs": [],
   "source": [
    "theta_max, hess, iters = inla_obj.optimize_loop(data, sig2_rule.pts, 1e-3)"
   ]
  },
  {
   "cell_type": "code",
   "execution_count": 92,
   "metadata": {},
   "outputs": [
    {
     "name": "stdout",
     "output_type": "stream",
     "text": [
      "18.7 ms ± 537 µs per loop (mean ± std. dev. of 7 runs, 30 loops each)\n"
     ]
    }
   ],
   "source": [
    "%%timeit -n 30\n",
    "theta_max, hess, iters = inla_obj.optimize_loop(data, sig2_rule.pts, 1e-3)\n",
    "post = inla_obj.posterior(theta_max, hess, sig2_rule.pts, data)\n",
    "post2 = inla_obj.scale_posterior(post, sig2_rule.wts)"
   ]
  },
  {
   "cell_type": "code",
   "execution_count": null,
   "metadata": {},
   "outputs": [],
   "source": []
  }
 ],
 "metadata": {
  "kernelspec": {
   "display_name": "Python 3.10.5 ('imprint')",
   "language": "python",
   "name": "python3"
  },
  "language_info": {
   "codemirror_mode": {
    "name": "ipython",
    "version": 3
   },
   "file_extension": ".py",
   "mimetype": "text/x-python",
   "name": "python",
   "nbconvert_exporter": "python",
   "pygments_lexer": "ipython3",
   "version": "3.10.5"
  },
  "orig_nbformat": 4,
  "vscode": {
   "interpreter": {
    "hash": "1234d0467017a186db2b9a06faf936c59bc87b507f01580220987604bcb2f4bc"
   }
  }
 },
 "nbformat": 4,
 "nbformat_minor": 2
}
