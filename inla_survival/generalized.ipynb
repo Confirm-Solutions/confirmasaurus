{
 "cells": [
  {
   "cell_type": "code",
   "execution_count": 1,
   "metadata": {},
   "outputs": [],
   "source": [
    "import sys\n",
    "sys.path.append('../imprint/research/berry/')\n",
    "import berrylib.util as util\n",
    "util.setup_nb()"
   ]
  },
  {
   "cell_type": "code",
   "execution_count": 2,
   "metadata": {},
   "outputs": [
    {
     "name": "stderr",
     "output_type": "stream",
     "text": [
      "/Users/tbent/.mambaforge/envs/imprint/lib/python3.10/site-packages/jax/_src/lib/__init__.py:33: UserWarning: JAX on Mac ARM machines is experimental and minimally tested. Please see https://github.com/google/jax/issues/5501 in the event of problems.\n",
      "  warnings.warn(\"JAX on Mac ARM machines is experimental and minimally tested. \"\n",
      "/Users/tbent/.mambaforge/envs/imprint/lib/python3.10/site-packages/tqdm/auto.py:22: TqdmWarning: IProgress not found. Please update jupyter and ipywidgets. See https://ipywidgets.readthedocs.io/en/stable/user_install.html\n",
      "  from .autonotebook import tqdm as notebook_tqdm\n"
     ]
    }
   ],
   "source": [
    "import jax\n",
    "import jax.numpy as jnp\n",
    "import numpy as np\n",
    "import time\n",
    "import numpyro\n",
    "import numpyro.distributions as dist\n",
    "import scipy.stats\n",
    "import matplotlib.pyplot as plt\n",
    "from scipy.special import logit, expit\n",
    "\n",
    "import inla"
   ]
  },
  {
   "cell_type": "code",
   "execution_count": 3,
   "metadata": {},
   "outputs": [],
   "source": [
    "narms = 4\n",
    "mu_0 = -1.34\n",
    "mu_sig2 = 100.0\n",
    "sig2_alpha = 0.0005\n",
    "sig2_beta = 0.000005\n",
    "logit_p1 = -1.0\n",
    "def model(data):\n",
    "    sig2 = numpyro.sample(\"sig2\", dist.InverseGamma(sig2_alpha, sig2_beta))\n",
    "    cov = jnp.full((narms, narms), mu_sig2) + jnp.diag(jnp.repeat(sig2, narms))\n",
    "    theta = numpyro.sample(\n",
    "        \"theta\",\n",
    "        dist.MultivariateNormal(mu_0, cov),\n",
    "    )\n",
    "    numpyro.sample(\n",
    "        \"y\",\n",
    "        dist.BinomialLogits(theta + logit_p1, total_count=data[:,1]),\n",
    "        obs=data[:, 0],\n",
    "    )"
   ]
  },
  {
   "cell_type": "code",
   "execution_count": 96,
   "metadata": {},
   "outputs": [
    {
     "data": {
      "text/plain": [
       "DeviceArray(-32.336067, dtype=float32)"
      ]
     },
     "execution_count": 96,
     "metadata": {},
     "output_type": "execute_result"
    }
   ],
   "source": [
    "data = np.array([[7,35], [6.0,35], [5,35], [4,35]])\n",
    "params = dict(\n",
    "    sig2 = 10.0,\n",
    "    theta = np.array([0.0,0.0,0,0]),\n",
    ")\n",
    "ll_fnc = inla.build_raw_log_likelihood(model)\n",
    "ll_fnc(params, dict(sig2=None, theta=None), data)"
   ]
  },
  {
   "cell_type": "code",
   "execution_count": 97,
   "metadata": {},
   "outputs": [],
   "source": [
    "sig2_rule = util.log_gauss_rule(15, 1e-2, 1e2)"
   ]
  },
  {
   "cell_type": "code",
   "execution_count": 109,
   "metadata": {},
   "outputs": [],
   "source": [
    "def conditional(theta, sig2, data):\n",
    "    params = dict(theta=theta, sig2=sig2)\n",
    "    return ll_fnc(params, dict(sig2=None, theta=None), data)\n",
    "\n",
    "\n",
    "def grad_hess(theta, sig2, data):\n",
    "    p = dict(sig2 = None, theta=theta)\n",
    "    fixed = dict(sig2=sig2, theta=None)\n",
    "    p, fixed = fixed, p\n",
    "    grad = jax.grad(ll_fnc)(p, fixed, data)\n",
    "    hess = jax.hessian(ll_fnc)(p, fixed, data)\n",
    "    return grad, hess\n",
    "\n",
    "\n",
    "grad_hess_vmap = jax.jit(\n",
    "    jax.vmap(jax.vmap(grad_hess, in_axes=(0, 0, None)), in_axes=(0, None, 0))\n",
    ")\n",
    "conditional_vmap = jax.jit(\n",
    "    jax.vmap(jax.vmap(conditional, in_axes=(0, 0, None)), in_axes=(0, None, 0))\n",
    ")"
   ]
  },
  {
   "cell_type": "code",
   "execution_count": 112,
   "metadata": {},
   "outputs": [
    {
     "name": "stdout",
     "output_type": "stream",
     "text": [
      "16 iters, 6.557 us per sample, 0.00s total\n",
      "64 iters, 5.014 us per sample, 0.00s total\n",
      "256 iters, 5.859 us per sample, 0.00s total\n",
      "1024 iters, 4.766 us per sample, 0.00s total\n",
      "4096 iters, 5.388 us per sample, 0.02s total\n",
      "16384 iters, 3.837 us per sample, 0.06s total\n",
      "65536 iters, 3.665 us per sample, 0.24s total\n",
      "262144 iters, 3.922 us per sample, 1.03s total\n"
     ]
    }
   ],
   "source": [
    "for N in 2 ** np.arange(4, 20, 2):\n",
    "    y = scipy.stats.binom.rvs(35, 0.3, size=(N, narms))\n",
    "    n = np.full_like(y, 35)\n",
    "    data = np.stack((y, n), axis=-1)\n",
    "    theta = np.random.rand(N, sig2_rule.pts.shape[0], narms)\n",
    "    for i in range(3):\n",
    "        start = time.time()\n",
    "        grad, hess = grad_hess_vmap(theta, sig2_rule.pts, data)\n",
    "        # grad.block_until_ready().shape\n",
    "        # hess.block_until_ready().shape\n",
    "        hess['sig2']['sig2'].block_until_ready()\n",
    "        # hess['theta']['theta'].block_until_ready()\n",
    "        end = time.time()\n",
    "    print(f'{N} iters, {(end - start) / N * 1e6:.3f} us per sample, {end - start:.2f}s total')"
   ]
  },
  {
   "cell_type": "code",
   "execution_count": 51,
   "metadata": {},
   "outputs": [],
   "source": [
    "def grad_hess(theta, sig2, data):\n",
    "    p = dict(sig2 = sig2, theta=None)\n",
    "    fixed = dict(sig2=None, theta=theta)\n",
    "    grad = jax.grad(ll_fnc)(p, fixed, data)\n",
    "    hess = jax.hessian(ll_fnc)(p, fixed, data)\n",
    "    return grad, hess\n",
    "\n",
    "\n",
    "grad_hess_vmap = jax.jit(\n",
    "    jax.vmap(jax.vmap(grad_hess, in_axes=(0, 0, None)), in_axes=(0, None, 0))\n",
    ")\n",
    "conditional_vmap = jax.jit(\n",
    "    jax.vmap(jax.vmap(conditional, in_axes=(0, 0, None)), in_axes=(0, None, 0))\n",
    ")\n"
   ]
  },
  {
   "cell_type": "code",
   "execution_count": 56,
   "metadata": {},
   "outputs": [
    {
     "name": "stdout",
     "output_type": "stream",
     "text": [
      "CPU times: user 2.31 s, sys: 490 ms, total: 2.8 s\n",
      "Wall time: 1.08 s\n"
     ]
    }
   ],
   "source": [
    "%%time\n",
    "grad, hess = grad_hess_vmap(theta, sig2_rule.pts, data)"
   ]
  },
  {
   "cell_type": "code",
   "execution_count": 55,
   "metadata": {},
   "outputs": [
    {
     "data": {
      "text/plain": [
       "{'sig2': DeviceArray([[ 1.26959938e+02,  2.39447601e+02,  3.72434540e+02,  2.70206528e+01, -8.48596764e+00,\n",
       "               -1.29554920e+01, -5.03462315e+00, -2.44077396e+00, -9.70911443e-01, -4.02829409e-01,\n",
       "               -1.80530325e-01, -9.00197998e-02, -5.13372608e-02, -3.43636535e-02, -2.73817256e-02],\n",
       "              [ 6.50315979e+02,  1.18522363e+03,  3.70973419e+02, -2.58413906e+01, -9.72018051e+00,\n",
       "               -1.04604998e+01, -6.09410572e+00, -2.41068912e+00, -9.77381289e-01, -4.05827969e-01,\n",
       "               -1.80495828e-01, -9.00461152e-02, -5.13696857e-02, -3.43905315e-02, -2.73903813e-02],\n",
       "              [ 1.50967822e+03, -8.43325577e+01,  5.37578812e+01, -1.21075859e+01, -1.57736187e+01,\n",
       "               -1.30084629e+01, -5.75625420e+00, -2.31971765e+00, -9.85959828e-01, -4.05505121e-01,\n",
       "               -1.81316838e-01, -8.99291337e-02, -5.13091497e-02, -3.43851559e-02, -2.74071805e-02],\n",
       "              [-4.29113541e+01,  4.93653931e+02,  4.50877960e+02, -8.15600395e+00,  6.99817467e+00,\n",
       "               -1.01514540e+01, -5.87890863e+00, -2.39716506e+00, -9.88972485e-01, -4.07642186e-01,\n",
       "               -1.79942310e-01, -8.97920206e-02, -5.13703935e-02, -3.43809053e-02, -2.74005756e-02],\n",
       "              [ 7.03830767e+00,  1.28609692e+03,  3.15059299e+01,  1.77978630e+01, -2.92135315e+01,\n",
       "               -1.42047110e+01, -6.03943920e+00, -2.40516973e+00, -9.74279463e-01, -4.03752238e-01,\n",
       "               -1.80259570e-01, -9.00604725e-02, -5.13406731e-02, -3.43833417e-02, -2.73951925e-02],\n",
       "              [ 8.63360229e+02,  6.33451660e+02, -9.30153122e+01,  9.33952560e+01, -2.69173088e+01,\n",
       "               -1.37860498e+01, -5.90887308e+00, -2.35929728e+00, -9.85301375e-01, -4.06394869e-01,\n",
       "               -1.81348652e-01, -9.00748372e-02, -5.12933359e-02, -3.43802422e-02, -2.73884982e-02],\n",
       "              [-1.10492638e+02,  1.24838782e+03,  4.59027863e+01,  3.54432678e+01,  1.14838963e+01,\n",
       "               -8.55576134e+00, -5.23434401e+00, -2.18533397e+00, -9.84903932e-01, -4.00720119e-01,\n",
       "               -1.81010455e-01, -8.97978619e-02, -5.13314642e-02, -3.43760140e-02, -2.73995586e-02],\n",
       "              [ 1.14688293e+03,  1.74175488e+03,  6.31862671e+02,  9.76377258e+01, -2.56448765e+01,\n",
       "               -1.30626726e+01, -5.86614132e+00, -2.35015583e+00, -9.47329223e-01, -4.06831294e-01,\n",
       "               -1.81116611e-01, -8.98796469e-02, -5.13476543e-02, -3.43815535e-02, -2.73919608e-02],\n",
       "              [ 7.84676636e+02,  9.66128235e+02,  3.68219376e+01, -3.30910149e+01, -2.29229565e+01,\n",
       "               -1.05729799e+01, -6.23136997e+00, -2.42839098e+00, -9.83392477e-01, -4.03123856e-01,\n",
       "               -1.81379035e-01, -9.00527313e-02, -5.12920879e-02, -3.43548171e-02, -2.73831990e-02],\n",
       "              [ 7.93107971e+02,  2.10308990e+02,  1.72158584e-01,  1.19677475e+02, -2.63725019e+00,\n",
       "               -1.05195856e+01, -5.94259834e+00, -2.31969714e+00, -9.85088944e-01, -4.06109124e-01,\n",
       "               -1.80803716e-01, -8.96223783e-02, -5.13466336e-02, -3.43766920e-02, -2.73890775e-02],\n",
       "              ...,\n",
       "              [ 6.49498367e+01,  1.89329712e+03,  1.09553749e+02, -5.21777296e+00, -3.17951164e+01,\n",
       "               -9.42870522e+00, -5.55016804e+00, -2.39345741e+00, -9.90414202e-01, -4.05782044e-01,\n",
       "               -1.80761978e-01, -9.00514051e-02, -5.13698906e-02, -3.43893468e-02, -2.73820851e-02],\n",
       "              [-1.02596884e+01,  4.15913055e+02,  1.19206398e+02,  1.58144531e+01,  1.14338264e+01,\n",
       "               -4.05980778e+00, -5.18357277e+00, -2.39989448e+00, -9.80528235e-01, -4.05051053e-01,\n",
       "               -1.80702165e-01, -8.98807794e-02, -5.13163880e-02, -3.43913287e-02, -2.73882765e-02],\n",
       "              [ 1.42763818e+03,  5.22355835e+02,  2.41998093e+02, -6.33501358e+01, -1.65179844e+01,\n",
       "               -8.88052559e+00, -5.58055544e+00, -2.38928604e+00, -9.71757889e-01, -4.06154901e-01,\n",
       "               -1.80997625e-01, -9.00496915e-02, -5.12700453e-02, -3.43852304e-02, -2.73931287e-02],\n",
       "              [ 6.30450073e+02,  2.16065369e+02,  2.58353790e+02,  6.49486160e+01, -2.69742222e+01,\n",
       "               -1.21071749e+01, -5.10738134e+00, -2.32850075e+00, -9.82725084e-01, -4.00641978e-01,\n",
       "               -1.79933101e-01, -8.98946971e-02, -5.13114594e-02, -3.43842506e-02, -2.73878369e-02],\n",
       "              [ 1.59084302e+03,  5.83194641e+02,  4.62855453e+01,  9.28233719e+00, -3.95186067e+00,\n",
       "               -1.27311888e+01, -5.87030745e+00, -2.32300568e+00, -9.77188647e-01, -4.04406220e-01,\n",
       "               -1.81361362e-01, -8.98060054e-02, -5.12968451e-02, -3.43739875e-02, -2.74065305e-02],\n",
       "              [ 1.92289017e+02,  2.45396912e+02,  2.06989994e+01,  4.56566286e+00, -1.04265881e+01,\n",
       "               -8.48281384e+00, -6.28138447e+00, -2.35688806e+00, -9.79512036e-01, -4.04856533e-01,\n",
       "               -1.80118591e-01, -9.00916606e-02, -5.13135158e-02, -3.43710519e-02, -2.74092332e-02],\n",
       "              [ 1.48076355e+03,  2.93726898e+02,  4.24287872e+02, -2.44633236e+01, -2.32899874e-01,\n",
       "               -8.98451614e+00, -4.97612619e+00, -2.32044649e+00, -9.78629827e-01, -4.08027649e-01,\n",
       "               -1.81065828e-01, -9.00504515e-02, -5.13084903e-02, -3.43634747e-02, -2.73826215e-02],\n",
       "              [ 1.03235481e+02, -1.49865173e+02,  5.40819153e+02,  9.14490051e+01, -9.09916782e+00,\n",
       "               -1.25483704e+01, -6.27155590e+00, -2.37400961e+00, -9.48559225e-01, -4.05749530e-01,\n",
       "               -1.81145310e-01, -8.99953991e-02, -5.13694808e-02, -3.43782790e-02, -2.73926836e-02],\n",
       "              [ 1.22702710e+03,  7.34521729e+02,  2.69767426e+02,  9.23778915e+01, -2.18887310e+01,\n",
       "               -1.06299477e+01, -6.19728041e+00, -2.45118141e+00, -9.57253277e-01, -4.02995765e-01,\n",
       "               -1.81033909e-01, -8.97602290e-02, -5.13540655e-02, -3.43801901e-02, -2.73853149e-02],\n",
       "              [ 2.25287573e+03,  1.30873535e+03,  5.22276611e+01,  8.11142426e+01, -5.78591537e+00,\n",
       "               -8.47416496e+00, -4.94737434e+00, -2.42763448e+00, -9.68637586e-01, -4.00884569e-01,\n",
       "               -1.80360600e-01, -8.97605643e-02, -5.13343215e-02, -3.43730226e-02, -2.73873005e-02]],            dtype=float32),\n",
       " 'theta': None}"
      ]
     },
     "execution_count": 55,
     "metadata": {},
     "output_type": "execute_result"
    }
   ],
   "source": [
    "grad"
   ]
  },
  {
   "cell_type": "code",
   "execution_count": 46,
   "metadata": {},
   "outputs": [
    {
     "data": {
      "text/plain": [
       "((262144, 15), (262144, 15, 4))"
      ]
     },
     "execution_count": 46,
     "metadata": {},
     "output_type": "execute_result"
    }
   ],
   "source": [
    "grad['sig2'].shape, grad['theta'].shape"
   ]
  },
  {
   "cell_type": "code",
   "execution_count": null,
   "metadata": {},
   "outputs": [],
   "source": [
    "\n",
    "n_arms = narms\n",
    "sigma2_n = sig2_rule.pts.shape[0]\n",
    "arms = np.arange(n_arms)\n",
    "cov = np.full((sigma2_n, n_arms, n_arms), mu_sig2)\n",
    "cov[:, arms, arms] += sig2_rule.pts[:, None]\n",
    "neg_precQ = -np.linalg.inv(cov)\n",
    "\n",
    "neg_precQ_b = neg_precQ[:, 0, 1]\n",
    "neg_precQ_a = neg_precQ[:, 0, 0] - neg_precQ_b\n",
    "\n",
    "logprecQdet = 0.5 * jnp.log(jnp.linalg.det(-neg_precQ))\n",
    "log_prior = jnp.array(\n",
    "    scipy.stats.invgamma.logpdf(sig2_rule.pts, sig2_alpha, scale=sig2_beta)\n",
    ")\n",
    "const = log_prior + logprecQdet\n",
    "na = jnp.arange(narms)\n",
    "\n",
    "def conditional(theta, sig2, data):\n",
    "    y = data[..., 0]\n",
    "    n = data[..., 1]\n",
    "    theta_m0 = theta - mu_0\n",
    "    theta_adj = theta + logit_p1\n",
    "    exp_theta_adj = jnp.exp(theta_adj)\n",
    "    quad = jnp.sum(\n",
    "        theta_m0\n",
    "        * ((theta_m0.sum(axis=-1) * neg_precQ_b)[..., None] + theta_m0 * neg_precQ_a),\n",
    "        axis=-1,\n",
    "    )\n",
    "    return (\n",
    "        0.5 * quad\n",
    "        + jnp.sum(\n",
    "            theta_adj * y[:, None] - n[:, None] * jnp.log(exp_theta_adj + 1),\n",
    "            axis=-1,\n",
    "        )\n",
    "        + const\n",
    "    )\n",
    "\n",
    "\n",
    "def grad_hess(theta, _, data):\n",
    "    y = data[..., 0]\n",
    "    n = data[..., 1]\n",
    "    theta_m0 = theta - mu_0\n",
    "    exp_theta_adj = jnp.exp(theta + logit_p1)\n",
    "    C = 1.0 / (exp_theta_adj + 1)\n",
    "    nCeta = n[:, None] * C * exp_theta_adj\n",
    "    grad = (\n",
    "        jnp.matmul(neg_precQ[None], theta_m0[:, :, :, None])[..., 0]\n",
    "        + y[:, None]\n",
    "        - nCeta\n",
    "    )\n",
    "    hess = neg_precQ[None] - ((nCeta * C)[:, :, None, :] * jnp.eye(narms))\n",
    "    return grad, hess\n",
    "\n",
    "\n",
    "grad_hess_vmap = jax.jit(grad_hess)\n",
    "conditional_vmap = jax.jit(conditional)\n"
   ]
  },
  {
   "cell_type": "code",
   "execution_count": 53,
   "metadata": {},
   "outputs": [],
   "source": [
    "N = 10000\n",
    "y = scipy.stats.binom.rvs(35, 0.3, size=(N, narms))\n",
    "n = np.full_like(y, 35)\n",
    "data = np.stack((y, n), axis=-1)"
   ]
  },
  {
   "cell_type": "code",
   "execution_count": 130,
   "metadata": {},
   "outputs": [],
   "source": [
    "b = neg_precQ[0,0,1]\n",
    "a = neg_precQ[0,0,0] - b"
   ]
  },
  {
   "cell_type": "code",
   "execution_count": 131,
   "metadata": {},
   "outputs": [],
   "source": [
    "@jax.jit\n",
    "def quad(theta_max, a, b):\n",
    "    dotprod = ((theta_max.sum(axis=-1) * b)[..., None] + theta_max * a)\n",
    "    quad = jnp.sum(theta_max * dotprod, axis=-1)\n",
    "    return quad"
   ]
  },
  {
   "cell_type": "code",
   "execution_count": 132,
   "metadata": {},
   "outputs": [
    {
     "name": "stdout",
     "output_type": "stream",
     "text": [
      "126 µs ± 1.56 µs per loop (mean ± std. dev. of 7 runs, 10,000 loops each)\n"
     ]
    }
   ],
   "source": [
    "%%timeit\n",
    "quad(theta_max, a, b).block_until_ready()"
   ]
  },
  {
   "cell_type": "code",
   "execution_count": 129,
   "metadata": {},
   "outputs": [
    {
     "data": {
      "text/plain": [
       "DeviceArray(-0.37294438, dtype=float32)"
      ]
     },
     "execution_count": 129,
     "metadata": {},
     "output_type": "execute_result"
    }
   ],
   "source": [
    "quad(theta_max, a, b)[0,0]"
   ]
  },
  {
   "cell_type": "code",
   "execution_count": 122,
   "metadata": {},
   "outputs": [],
   "source": [
    "dotprod2 = jnp.einsum(\"...ij,...j\", neg_precQ, theta_max)\n",
    "quad2 = jnp.einsum(\"...i,...ij,...j\", theta_max, neg_precQ, theta_max)\n",
    "quad3 = np.sum(theta_max * dotprod2, axis=-1)"
   ]
  },
  {
   "cell_type": "code",
   "execution_count": 123,
   "metadata": {},
   "outputs": [
    {
     "data": {
      "text/plain": [
       "(DeviceArray([-5.1011925,  1.39013  ,  2.319191 ,  1.390357 ], dtype=float32),\n",
       " DeviceArray([-5.101193 ,  1.3901292,  2.319191 ,  1.390357 ], dtype=float32),\n",
       " DeviceArray(-0.3729442, dtype=float32),\n",
       " DeviceArray(-0.37294447, dtype=float32),\n",
       " DeviceArray(-0.37294444, dtype=float32))"
      ]
     },
     "execution_count": 123,
     "metadata": {},
     "output_type": "execute_result"
    }
   ],
   "source": [
    "dotprod[0,0], dotprod2[0,0], quad[0,0], quad2[0,0], quad3[0,0]"
   ]
  },
  {
   "cell_type": "code",
   "execution_count": 55,
   "metadata": {},
   "outputs": [],
   "source": [
    "inla_obj = inla.INLA(conditional_vmap, grad_hess_vmap, sig2_rule, narms)"
   ]
  },
  {
   "cell_type": "code",
   "execution_count": 56,
   "metadata": {},
   "outputs": [],
   "source": [
    "theta_max, hess, iters = inla_obj.optimize_loop(data, sig2_rule.pts, 1e-3)\n",
    "post = inla_obj.posterior(theta_max, hess, sig2_rule.pts, sig2_rule.wts, data)"
   ]
  },
  {
   "cell_type": "code",
   "execution_count": 58,
   "metadata": {},
   "outputs": [
    {
     "name": "stdout",
     "output_type": "stream",
     "text": [
      "31.4 ms ± 444 µs per loop (mean ± std. dev. of 5 runs, 20 loops each)\n"
     ]
    }
   ],
   "source": [
    "%%timeit -n 20 -r 5\n",
    "theta_max, hess, iters = inla_obj.optimize_loop(data, sig2_rule.pts, 1e-3)\n",
    "post = inla_obj.posterior(theta_max, hess, sig2_rule.pts, sig2_rule.wts, data)"
   ]
  },
  {
   "cell_type": "code",
   "execution_count": null,
   "metadata": {},
   "outputs": [],
   "source": []
  }
 ],
 "metadata": {
  "kernelspec": {
   "display_name": "Python 3.10.5 ('imprint')",
   "language": "python",
   "name": "python3"
  },
  "language_info": {
   "codemirror_mode": {
    "name": "ipython",
    "version": 3
   },
   "file_extension": ".py",
   "mimetype": "text/x-python",
   "name": "python",
   "nbconvert_exporter": "python",
   "pygments_lexer": "ipython3",
   "version": "3.10.5"
  },
  "orig_nbformat": 4,
  "vscode": {
   "interpreter": {
    "hash": "1234d0467017a186db2b9a06faf936c59bc87b507f01580220987604bcb2f4bc"
   }
  }
 },
 "nbformat": 4,
 "nbformat_minor": 2
}
