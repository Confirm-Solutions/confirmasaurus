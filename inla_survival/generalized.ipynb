{
 "cells": [
  {
   "cell_type": "code",
   "execution_count": 1,
   "metadata": {},
   "outputs": [],
   "source": [
    "import os\n",
    "os.environ['JAX_CHECK_TRACER_LEAKS']='1'\n",
    "import sys\n",
    "sys.path.append('../imprint/research/berry/')\n",
    "import berrylib.util as util\n",
    "util.setup_nb()"
   ]
  },
  {
   "cell_type": "code",
   "execution_count": 2,
   "metadata": {},
   "outputs": [
    {
     "name": "stderr",
     "output_type": "stream",
     "text": [
      "/Users/tbent/.mambaforge/envs/imprint/lib/python3.10/site-packages/jax/_src/lib/__init__.py:33: UserWarning: JAX on Mac ARM machines is experimental and minimally tested. Please see https://github.com/google/jax/issues/5501 in the event of problems.\n",
      "  warnings.warn(\"JAX on Mac ARM machines is experimental and minimally tested. \"\n",
      "/Users/tbent/.mambaforge/envs/imprint/lib/python3.10/site-packages/tqdm/auto.py:22: TqdmWarning: IProgress not found. Please update jupyter and ipywidgets. See https://ipywidgets.readthedocs.io/en/stable/user_install.html\n",
      "  from .autonotebook import tqdm as notebook_tqdm\n"
     ]
    }
   ],
   "source": [
    "import jax\n",
    "import jax.numpy as jnp\n",
    "import numpy as np\n",
    "import time\n",
    "import numpyro\n",
    "import numpyro.distributions as dist\n",
    "import numpyro.handlers as handlers\n",
    "import scipy.stats\n",
    "import matplotlib.pyplot as plt\n",
    "from scipy.special import logit, expit\n",
    "\n",
    "import inla"
   ]
  },
  {
   "cell_type": "code",
   "execution_count": 62,
   "metadata": {},
   "outputs": [],
   "source": [
    "narms = 4\n",
    "mu_0 = -1.34\n",
    "mu_sig2 = 100.0\n",
    "sig2_alpha = 0.0005\n",
    "sig2_beta = 0.000005\n",
    "logit_p1 = logit(0.3)\n",
    "def model(data):\n",
    "    sig2 = numpyro.sample(\"sig2\", dist.InverseGamma(sig2_alpha, sig2_beta))\n",
    "    cov = jnp.full((narms, narms), mu_sig2) + jnp.diag(jnp.repeat(sig2, narms))\n",
    "    theta = numpyro.sample(\n",
    "        \"theta\",\n",
    "        dist.MultivariateNormal(mu_0, cov),\n",
    "    )\n",
    "    numpyro.sample(\n",
    "        \"y\",\n",
    "        dist.BinomialLogits(theta + logit_p1, total_count=data[:,1]),\n",
    "        obs=data[:, 0],\n",
    "    )"
   ]
  },
  {
   "cell_type": "code",
   "execution_count": 63,
   "metadata": {},
   "outputs": [
    {
     "data": {
      "text/plain": [
       "DeviceArray(-35.054466, dtype=float32)"
      ]
     },
     "execution_count": 63,
     "metadata": {},
     "output_type": "execute_result"
    }
   ],
   "source": [
    "data = np.array([[7, 35], [6.0, 35], [5, 35], [4, 35]])\n",
    "params = dict(\n",
    "    sig2=10.0,\n",
    "    theta=np.array([0.0, 0.0, 0, 0]),\n",
    ")\n",
    "ll_fnc = inla.build_log_likelihood(model)\n",
    "ll_fnc(params, dict(sig2=None, theta=None), data)"
   ]
  },
  {
   "cell_type": "code",
   "execution_count": 64,
   "metadata": {},
   "outputs": [
    {
     "name": "stdout",
     "output_type": "stream",
     "text": [
      "16 iters, 2.682 us per sample, 0.00s total\n",
      "64 iters, 2.425 us per sample, 0.00s total\n",
      "256 iters, 1.590 us per sample, 0.00s total\n",
      "1024 iters, 1.213 us per sample, 0.00s total\n",
      "4096 iters, 0.596 us per sample, 0.00s total\n",
      "16384 iters, 0.596 us per sample, 0.01s total\n",
      "65536 iters, 0.587 us per sample, 0.04s total\n",
      "262144 iters, 0.695 us per sample, 0.18s total\n"
     ]
    }
   ],
   "source": [
    "sig2_rule = util.log_gauss_rule(15, 1e-2, 1e2)\n",
    "theta_fixed = np.full((sig2_rule.pts.shape[0], 4), np.nan)\n",
    "theta_fixed[:, 0] = -1.0\n",
    "grad_hess_vmap = inla.build_grad_hess(\n",
    "    ll_fnc, dict(sig2=jnp.array([10.0]), theta=theta_fixed[0, :])\n",
    ")\n",
    "for N in 2 ** np.arange(4, 20, 2):\n",
    "    y = scipy.stats.binom.rvs(35, 0.3, size=(N, narms))\n",
    "    n = np.full_like(y, 35)\n",
    "    D = np.stack((y, n), axis=-1)\n",
    "    T = np.random.rand(N, sig2_rule.pts.shape[0], narms)\n",
    "    for i in range(3):\n",
    "        start = time.time()\n",
    "        grad, hess = grad_hess_vmap(\n",
    "            dict(sig2=None, theta=T), dict(sig2=sig2_rule.pts, theta=theta_fixed), D\n",
    "        )\n",
    "        hess.block_until_ready()\n",
    "        end = time.time()\n",
    "    print(\n",
    "        f\"{N} iters, {(end - start) / N * 1e6:.3f} us per sample, {end - start:.2f}s total\"\n",
    "    )\n"
   ]
  },
  {
   "cell_type": "code",
   "execution_count": 77,
   "metadata": {},
   "outputs": [
    {
     "data": {
      "text/plain": [
       "(DeviceArray([0., 2., 3.], dtype=float32),\n",
       " {'sig2': None,\n",
       "  'theta': DeviceArray([ 0., nan,  2.,  3.], dtype=float32, weak_type=True)})"
      ]
     },
     "execution_count": 77,
     "metadata": {},
     "output_type": "execute_result"
    }
   ],
   "source": [
    "\n",
    "\n",
    "tt = np.arange(4, dtype=np.float64)\n",
    "tt[1] = np.nan\n",
    "tt_pin = np.full(4, np.nan)\n",
    "tt_pin[1] = -1.0\n",
    "ex = dict(sig2=None, theta=tt)\n",
    "ravel_f, unravel_f = build_ravel_fncs(ex)\n",
    "r = ravel_f(ex)\n",
    "np.testing.assert_allclose(r, [0,2,3])\n",
    "ur = unravel_f(r)\n",
    "for k in ex:\n",
    "    if ex[k] is None:\n",
    "        assert(ur[k] is None)\n",
    "        continue\n",
    "    np.testing.assert_allclose(ur[k], ex[k])\n",
    "r, ur"
   ]
  },
  {
   "cell_type": "code",
   "execution_count": 71,
   "metadata": {},
   "outputs": [
    {
     "data": {
      "text/plain": [
       "({'sig2': None,\n",
       "  'theta': DeviceArray([ -3.4057074,   0.       , -21.70585  , -27.562943 ], dtype=float32)},\n",
       " DeviceArray([ -3.4057074, -21.70585  , -27.562943 ], dtype=float32))"
      ]
     },
     "execution_count": 71,
     "metadata": {},
     "output_type": "execute_result"
    }
   ],
   "source": [
    "p_pinned= dict(sig2=10.0, theta=tt_pin)\n",
    "grad = jax.grad(ll_fnc)(ex, p_pinned, data)\n",
    "hess = jax.hessian(ll_fnc)(ex, p_pinned, data)\n",
    "grad, ravel_f(grad)"
   ]
  },
  {
   "cell_type": "code",
   "execution_count": 76,
   "metadata": {},
   "outputs": [
    {
     "ename": "IndexError",
     "evalue": "boolean index did not match shape of indexed array in index 0: got (4,), expected (3,)",
     "output_type": "error",
     "traceback": [
      "\u001b[0;31m---------------------------------------------------------------------------\u001b[0m",
      "\u001b[0;31mIndexError\u001b[0m                                Traceback (most recent call last)",
      "\u001b[1;32m/Users/tbent/Dropbox/active/confirm/research/inla_survival/generalized.ipynb Cell 8'\u001b[0m in \u001b[0;36m<cell line: 1>\u001b[0;34m()\u001b[0m\n\u001b[0;32m----> <a href='vscode-notebook-cell:/Users/tbent/Dropbox/active/confirm/research/inla_survival/generalized.ipynb#ch0000123?line=0'>1</a>\u001b[0m ravel_f({k: \u001b[39mNone\u001b[39;49;00m \u001b[39mif\u001b[39;49;00m hess[k] \u001b[39mis\u001b[39;49;00m \u001b[39mNone\u001b[39;49;00m  \u001b[39melse\u001b[39;49;00m ravel_f(hess[k]) \u001b[39mfor\u001b[39;49;00m k \u001b[39min\u001b[39;49;00m ex}, axis\u001b[39m=\u001b[39;49m\u001b[39m-\u001b[39;49m\u001b[39m2\u001b[39;49m)\n",
      "\u001b[1;32m/Users/tbent/Dropbox/active/confirm/research/inla_survival/generalized.ipynb Cell 8'\u001b[0m in \u001b[0;36mbuild_ravel_fncs.<locals>.ravel_f\u001b[0;34m(p, axis)\u001b[0m\n\u001b[1;32m      <a href='vscode-notebook-cell:/Users/tbent/Dropbox/active/confirm/research/inla_survival/generalized.ipynb#ch0000123?line=6'>7</a>\u001b[0m \u001b[39mdef\u001b[39;00m \u001b[39mravel_f\u001b[39m(p, axis\u001b[39m=\u001b[39m\u001b[39m-\u001b[39m\u001b[39m1\u001b[39m):\n\u001b[1;32m      <a href='vscode-notebook-cell:/Users/tbent/Dropbox/active/confirm/research/inla_survival/generalized.ipynb#ch0000123?line=7'>8</a>\u001b[0m     \u001b[39mreturn\u001b[39;00m jnp\u001b[39m.\u001b[39mconcatenate(\n\u001b[0;32m----> <a href='vscode-notebook-cell:/Users/tbent/Dropbox/active/confirm/research/inla_survival/generalized.ipynb#ch0000123?line=8'>9</a>\u001b[0m         [\n\u001b[1;32m     <a href='vscode-notebook-cell:/Users/tbent/Dropbox/active/confirm/research/inla_survival/generalized.ipynb#ch0000123?line=9'>10</a>\u001b[0m             p[k][\u001b[39m~\u001b[39mjnp\u001b[39m.\u001b[39misnan(example_p[k])]\n\u001b[1;32m     <a href='vscode-notebook-cell:/Users/tbent/Dropbox/active/confirm/research/inla_survival/generalized.ipynb#ch0000123?line=10'>11</a>\u001b[0m             \u001b[39mfor\u001b[39;00m k \u001b[39min\u001b[39;00m example_p\u001b[39m.\u001b[39mkeys()\n\u001b[1;32m     <a href='vscode-notebook-cell:/Users/tbent/Dropbox/active/confirm/research/inla_survival/generalized.ipynb#ch0000123?line=11'>12</a>\u001b[0m             \u001b[39mif\u001b[39;00m example_p[k] \u001b[39mis\u001b[39;00m \u001b[39mnot\u001b[39;00m \u001b[39mNone\u001b[39;00m\n\u001b[1;32m     <a href='vscode-notebook-cell:/Users/tbent/Dropbox/active/confirm/research/inla_survival/generalized.ipynb#ch0000123?line=12'>13</a>\u001b[0m         ],\n\u001b[1;32m     <a href='vscode-notebook-cell:/Users/tbent/Dropbox/active/confirm/research/inla_survival/generalized.ipynb#ch0000123?line=13'>14</a>\u001b[0m         axis\u001b[39m=\u001b[39maxis,\n\u001b[1;32m     <a href='vscode-notebook-cell:/Users/tbent/Dropbox/active/confirm/research/inla_survival/generalized.ipynb#ch0000123?line=14'>15</a>\u001b[0m     )\n",
      "\u001b[1;32m/Users/tbent/Dropbox/active/confirm/research/inla_survival/generalized.ipynb Cell 8'\u001b[0m in \u001b[0;36m<listcomp>\u001b[0;34m(.0)\u001b[0m\n\u001b[1;32m      <a href='vscode-notebook-cell:/Users/tbent/Dropbox/active/confirm/research/inla_survival/generalized.ipynb#ch0000123?line=6'>7</a>\u001b[0m \u001b[39mdef\u001b[39;00m \u001b[39mravel_f\u001b[39m(p, axis\u001b[39m=\u001b[39m\u001b[39m-\u001b[39m\u001b[39m1\u001b[39m):\n\u001b[1;32m      <a href='vscode-notebook-cell:/Users/tbent/Dropbox/active/confirm/research/inla_survival/generalized.ipynb#ch0000123?line=7'>8</a>\u001b[0m     \u001b[39mreturn\u001b[39;00m jnp\u001b[39m.\u001b[39mconcatenate(\n\u001b[1;32m      <a href='vscode-notebook-cell:/Users/tbent/Dropbox/active/confirm/research/inla_survival/generalized.ipynb#ch0000123?line=8'>9</a>\u001b[0m         [\n\u001b[0;32m---> <a href='vscode-notebook-cell:/Users/tbent/Dropbox/active/confirm/research/inla_survival/generalized.ipynb#ch0000123?line=9'>10</a>\u001b[0m             p[k][\u001b[39m~\u001b[39;49mjnp\u001b[39m.\u001b[39;49misnan(example_p[k])]\n\u001b[1;32m     <a href='vscode-notebook-cell:/Users/tbent/Dropbox/active/confirm/research/inla_survival/generalized.ipynb#ch0000123?line=10'>11</a>\u001b[0m             \u001b[39mfor\u001b[39;00m k \u001b[39min\u001b[39;00m example_p\u001b[39m.\u001b[39mkeys()\n\u001b[1;32m     <a href='vscode-notebook-cell:/Users/tbent/Dropbox/active/confirm/research/inla_survival/generalized.ipynb#ch0000123?line=11'>12</a>\u001b[0m             \u001b[39mif\u001b[39;00m example_p[k] \u001b[39mis\u001b[39;00m \u001b[39mnot\u001b[39;00m \u001b[39mNone\u001b[39;00m\n\u001b[1;32m     <a href='vscode-notebook-cell:/Users/tbent/Dropbox/active/confirm/research/inla_survival/generalized.ipynb#ch0000123?line=12'>13</a>\u001b[0m         ],\n\u001b[1;32m     <a href='vscode-notebook-cell:/Users/tbent/Dropbox/active/confirm/research/inla_survival/generalized.ipynb#ch0000123?line=13'>14</a>\u001b[0m         axis\u001b[39m=\u001b[39maxis,\n\u001b[1;32m     <a href='vscode-notebook-cell:/Users/tbent/Dropbox/active/confirm/research/inla_survival/generalized.ipynb#ch0000123?line=14'>15</a>\u001b[0m     )\n",
      "File \u001b[0;32m~/.mambaforge/envs/imprint/lib/python3.10/site-packages/jax/_src/numpy/lax_numpy.py:3526\u001b[0m, in \u001b[0;36m_rewriting_take\u001b[0;34m(arr, idx, indices_are_sorted, unique_indices, mode, fill_value)\u001b[0m\n\u001b[1;32m   3523\u001b[0m   stop \u001b[39m=\u001b[39m arr\u001b[39m.\u001b[39mshape[\u001b[39m0\u001b[39m] \u001b[39mif\u001b[39;00m idx\u001b[39m.\u001b[39mstop \u001b[39mis\u001b[39;00m \u001b[39mNone\u001b[39;00m \u001b[39melse\u001b[39;00m idx\u001b[39m.\u001b[39mstop\n\u001b[1;32m   3524\u001b[0m   \u001b[39mreturn\u001b[39;00m _getslice(arr, start, stop)\n\u001b[0;32m-> 3526\u001b[0m treedef, static_idx, dynamic_idx \u001b[39m=\u001b[39m _split_index_for_jit(idx, arr\u001b[39m.\u001b[39;49mshape)\n\u001b[1;32m   3527\u001b[0m \u001b[39mreturn\u001b[39;00m _gather(arr, treedef, static_idx, dynamic_idx, indices_are_sorted,\n\u001b[1;32m   3528\u001b[0m                unique_indices, mode, fill_value)\n",
      "File \u001b[0;32m~/.mambaforge/envs/imprint/lib/python3.10/site-packages/jax/_src/numpy/lax_numpy.py:3605\u001b[0m, in \u001b[0;36m_split_index_for_jit\u001b[0;34m(idx, shape)\u001b[0m\n\u001b[1;32m   3601\u001b[0m idx \u001b[39m=\u001b[39m _eliminate_deprecated_list_indexing(idx)\n\u001b[1;32m   3603\u001b[0m \u001b[39m# Expand any (concrete) boolean indices. We can then use advanced integer\u001b[39;00m\n\u001b[1;32m   3604\u001b[0m \u001b[39m# indexing logic to handle them.\u001b[39;00m\n\u001b[0;32m-> 3605\u001b[0m idx \u001b[39m=\u001b[39m _expand_bool_indices(idx, shape)\n\u001b[1;32m   3607\u001b[0m leaves, treedef \u001b[39m=\u001b[39m tree_flatten(idx)\n\u001b[1;32m   3608\u001b[0m dynamic \u001b[39m=\u001b[39m [\u001b[39mNone\u001b[39;00m] \u001b[39m*\u001b[39m \u001b[39mlen\u001b[39m(leaves)\n",
      "File \u001b[0;32m~/.mambaforge/envs/imprint/lib/python3.10/site-packages/jax/_src/numpy/lax_numpy.py:3921\u001b[0m, in \u001b[0;36m_expand_bool_indices\u001b[0;34m(idx, shape)\u001b[0m\n\u001b[1;32m   3919\u001b[0m     expected_shape \u001b[39m=\u001b[39m shape[start: start \u001b[39m+\u001b[39m _ndim(i)]\n\u001b[1;32m   3920\u001b[0m     \u001b[39mif\u001b[39;00m i_shape \u001b[39m!=\u001b[39m expected_shape:\n\u001b[0;32m-> 3921\u001b[0m       \u001b[39mraise\u001b[39;00m \u001b[39mIndexError\u001b[39;00m(\u001b[39m\"\u001b[39m\u001b[39mboolean index did not match shape of indexed array in index \u001b[39m\u001b[39m\"\u001b[39m\n\u001b[1;32m   3922\u001b[0m                        \u001b[39mf\u001b[39m\u001b[39m\"\u001b[39m\u001b[39m{\u001b[39;00mdim_number\u001b[39m}\u001b[39;00m\u001b[39m: got \u001b[39m\u001b[39m{\u001b[39;00mi_shape\u001b[39m}\u001b[39;00m\u001b[39m, expected \u001b[39m\u001b[39m{\u001b[39;00mexpected_shape\u001b[39m}\u001b[39;00m\u001b[39m\"\u001b[39m)\n\u001b[1;32m   3923\u001b[0m     out\u001b[39m.\u001b[39mextend(np\u001b[39m.\u001b[39mwhere(i))\n\u001b[1;32m   3924\u001b[0m \u001b[39melse\u001b[39;00m:\n",
      "\u001b[0;31mIndexError\u001b[0m: boolean index did not match shape of indexed array in index 0: got (4,), expected (3,)"
     ]
    }
   ],
   "source": [
    "ravel_f({k: None if hess[k] is None  else ravel_f(hess[k]) for k in ex}, axis=-2)"
   ]
  },
  {
   "cell_type": "code",
   "execution_count": null,
   "metadata": {},
   "outputs": [],
   "source": [
    "\n",
    "n_arms = narms\n",
    "sigma2_n = sig2_rule.pts.shape[0]\n",
    "arms = np.arange(n_arms)\n",
    "cov = np.full((sigma2_n, n_arms, n_arms), mu_sig2)\n",
    "cov[:, arms, arms] += sig2_rule.pts[:, None]\n",
    "neg_precQ = -np.linalg.inv(cov)\n",
    "\n",
    "neg_precQ_b = neg_precQ[:, 0, 1]\n",
    "neg_precQ_a = neg_precQ[:, 0, 0] - neg_precQ_b\n",
    "\n",
    "logprecQdet = 0.5 * jnp.log(jnp.linalg.det(-neg_precQ))\n",
    "log_prior = jnp.array(\n",
    "    scipy.stats.invgamma.logpdf(sig2_rule.pts, sig2_alpha, scale=sig2_beta)\n",
    ")\n",
    "const = log_prior + logprecQdet\n",
    "na = jnp.arange(narms)\n",
    "\n",
    "def conditional(theta, sig2, data):\n",
    "    y = data[..., 0]\n",
    "    n = data[..., 1]\n",
    "    theta_m0 = theta - mu_0\n",
    "    theta_adj = theta + logit_p1\n",
    "    exp_theta_adj = jnp.exp(theta_adj)\n",
    "    quad = jnp.sum(\n",
    "        theta_m0\n",
    "        * ((theta_m0.sum(axis=-1) * neg_precQ_b)[..., None] + theta_m0 * neg_precQ_a),\n",
    "        axis=-1,\n",
    "    )\n",
    "    return (\n",
    "        0.5 * quad\n",
    "        + jnp.sum(\n",
    "            theta_adj * y[:, None] - n[:, None] * jnp.log(exp_theta_adj + 1),\n",
    "            axis=-1,\n",
    "        )\n",
    "        + const\n",
    "    )\n",
    "\n",
    "\n",
    "def grad_hess(theta, _, data):\n",
    "    y = data[..., 0]\n",
    "    n = data[..., 1]\n",
    "    theta_m0 = theta - mu_0\n",
    "    exp_theta_adj = jnp.exp(theta + logit_p1)\n",
    "    C = 1.0 / (exp_theta_adj + 1)\n",
    "    nCeta = n[:, None] * C * exp_theta_adj\n",
    "    grad = (\n",
    "        jnp.matmul(neg_precQ[None], theta_m0[:, :, :, None])[..., 0]\n",
    "        + y[:, None]\n",
    "        - nCeta\n",
    "    )\n",
    "    hess = neg_precQ[None] - ((nCeta * C)[:, :, None, :] * jnp.eye(narms))\n",
    "    return grad, hess\n",
    "\n",
    "\n",
    "grad_hess_vmap = jax.jit(grad_hess)\n",
    "conditional_vmap = jax.jit(conditional)\n"
   ]
  },
  {
   "cell_type": "code",
   "execution_count": 53,
   "metadata": {},
   "outputs": [],
   "source": [
    "N = 10000\n",
    "y = scipy.stats.binom.rvs(35, 0.3, size=(N, narms))\n",
    "n = np.full_like(y, 35)\n",
    "data = np.stack((y, n), axis=-1)"
   ]
  },
  {
   "cell_type": "code",
   "execution_count": 130,
   "metadata": {},
   "outputs": [],
   "source": [
    "b = neg_precQ[0,0,1]\n",
    "a = neg_precQ[0,0,0] - b"
   ]
  },
  {
   "cell_type": "code",
   "execution_count": 131,
   "metadata": {},
   "outputs": [],
   "source": [
    "@jax.jit\n",
    "def quad(theta_max, a, b):\n",
    "    dotprod = ((theta_max.sum(axis=-1) * b)[..., None] + theta_max * a)\n",
    "    quad = jnp.sum(theta_max * dotprod, axis=-1)\n",
    "    return quad"
   ]
  },
  {
   "cell_type": "code",
   "execution_count": 132,
   "metadata": {},
   "outputs": [
    {
     "name": "stdout",
     "output_type": "stream",
     "text": [
      "126 µs ± 1.56 µs per loop (mean ± std. dev. of 7 runs, 10,000 loops each)\n"
     ]
    }
   ],
   "source": [
    "%%timeit\n",
    "quad(theta_max, a, b).block_until_ready()"
   ]
  },
  {
   "cell_type": "code",
   "execution_count": 129,
   "metadata": {},
   "outputs": [
    {
     "data": {
      "text/plain": [
       "DeviceArray(-0.37294438, dtype=float32)"
      ]
     },
     "execution_count": 129,
     "metadata": {},
     "output_type": "execute_result"
    }
   ],
   "source": [
    "quad(theta_max, a, b)[0,0]"
   ]
  },
  {
   "cell_type": "code",
   "execution_count": 122,
   "metadata": {},
   "outputs": [],
   "source": [
    "dotprod2 = jnp.einsum(\"...ij,...j\", neg_precQ, theta_max)\n",
    "quad2 = jnp.einsum(\"...i,...ij,...j\", theta_max, neg_precQ, theta_max)\n",
    "quad3 = np.sum(theta_max * dotprod2, axis=-1)"
   ]
  },
  {
   "cell_type": "code",
   "execution_count": 123,
   "metadata": {},
   "outputs": [
    {
     "data": {
      "text/plain": [
       "(DeviceArray([-5.1011925,  1.39013  ,  2.319191 ,  1.390357 ], dtype=float32),\n",
       " DeviceArray([-5.101193 ,  1.3901292,  2.319191 ,  1.390357 ], dtype=float32),\n",
       " DeviceArray(-0.3729442, dtype=float32),\n",
       " DeviceArray(-0.37294447, dtype=float32),\n",
       " DeviceArray(-0.37294444, dtype=float32))"
      ]
     },
     "execution_count": 123,
     "metadata": {},
     "output_type": "execute_result"
    }
   ],
   "source": [
    "dotprod[0,0], dotprod2[0,0], quad[0,0], quad2[0,0], quad3[0,0]"
   ]
  },
  {
   "cell_type": "code",
   "execution_count": 55,
   "metadata": {},
   "outputs": [],
   "source": [
    "inla_obj = inla.INLA(conditional_vmap, grad_hess_vmap, sig2_rule, narms)"
   ]
  },
  {
   "cell_type": "code",
   "execution_count": 56,
   "metadata": {},
   "outputs": [],
   "source": [
    "theta_max, hess, iters = inla_obj.optimize_loop(data, sig2_rule.pts, 1e-3)\n",
    "post = inla_obj.posterior(theta_max, hess, sig2_rule.pts, sig2_rule.wts, data)"
   ]
  },
  {
   "cell_type": "code",
   "execution_count": 58,
   "metadata": {},
   "outputs": [
    {
     "name": "stdout",
     "output_type": "stream",
     "text": [
      "31.4 ms ± 444 µs per loop (mean ± std. dev. of 5 runs, 20 loops each)\n"
     ]
    }
   ],
   "source": [
    "%%timeit -n 20 -r 5\n",
    "theta_max, hess, iters = inla_obj.optimize_loop(data, sig2_rule.pts, 1e-3)\n",
    "post = inla_obj.posterior(theta_max, hess, sig2_rule.pts, sig2_rule.wts, data)"
   ]
  },
  {
   "cell_type": "code",
   "execution_count": null,
   "metadata": {},
   "outputs": [],
   "source": []
  }
 ],
 "metadata": {
  "kernelspec": {
   "display_name": "Python 3.10.5 ('imprint')",
   "language": "python",
   "name": "python3"
  },
  "language_info": {
   "codemirror_mode": {
    "name": "ipython",
    "version": 3
   },
   "file_extension": ".py",
   "mimetype": "text/x-python",
   "name": "python",
   "nbconvert_exporter": "python",
   "pygments_lexer": "ipython3",
   "version": "3.10.5"
  },
  "orig_nbformat": 4,
  "vscode": {
   "interpreter": {
    "hash": "1234d0467017a186db2b9a06faf936c59bc87b507f01580220987604bcb2f4bc"
   }
  }
 },
 "nbformat": 4,
 "nbformat_minor": 2
}
