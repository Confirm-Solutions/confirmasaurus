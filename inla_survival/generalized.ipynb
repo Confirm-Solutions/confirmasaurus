{
 "cells": [
  {
   "cell_type": "code",
   "execution_count": 1,
   "metadata": {},
   "outputs": [],
   "source": [
    "import os\n",
    "os.environ['JAX_CHECK_TRACER_LEAKS']='1'\n",
    "import sys\n",
    "sys.path.append('../imprint/research/berry/')\n",
    "import berrylib.util as util\n",
    "util.setup_nb()"
   ]
  },
  {
   "cell_type": "code",
   "execution_count": 2,
   "metadata": {},
   "outputs": [
    {
     "name": "stderr",
     "output_type": "stream",
     "text": [
      "/Users/tbent/.mambaforge/envs/imprint/lib/python3.10/site-packages/jax/_src/lib/__init__.py:33: UserWarning: JAX on Mac ARM machines is experimental and minimally tested. Please see https://github.com/google/jax/issues/5501 in the event of problems.\n",
      "  warnings.warn(\"JAX on Mac ARM machines is experimental and minimally tested. \"\n",
      "/Users/tbent/.mambaforge/envs/imprint/lib/python3.10/site-packages/tqdm/auto.py:22: TqdmWarning: IProgress not found. Please update jupyter and ipywidgets. See https://ipywidgets.readthedocs.io/en/stable/user_install.html\n",
      "  from .autonotebook import tqdm as notebook_tqdm\n"
     ]
    }
   ],
   "source": [
    "import jax\n",
    "import jax.numpy as jnp\n",
    "import numpy as np\n",
    "import time\n",
    "import numpyro\n",
    "import numpyro.distributions as dist\n",
    "import numpyro.handlers as handlers\n",
    "import scipy.stats\n",
    "import matplotlib.pyplot as plt\n",
    "from scipy.special import logit, expit\n",
    "\n",
    "import inla\n",
    "from berry_model import berry_model, fast_berry\n"
   ]
  },
  {
   "cell_type": "code",
   "execution_count": 3,
   "metadata": {},
   "outputs": [
    {
     "name": "stdout",
     "output_type": "stream",
     "text": [
      "16384 datasets, 3.040 us per dataset, 0.05s total\n",
      "16384 datasets, 3.030 us per dataset, 0.05s total\n",
      "16384 datasets, 2.992 us per dataset, 0.05s total\n",
      "16384 datasets, 2.939 us per dataset, 0.05s total\n",
      "16384 datasets, 2.940 us per dataset, 0.05s total\n",
      "16384 datasets, 2.919 us per dataset, 0.05s total\n",
      "16384 datasets, 3.003 us per dataset, 0.05s total\n",
      "16384 datasets, 2.888 us per dataset, 0.05s total\n",
      "16384 datasets, 2.870 us per dataset, 0.05s total\n",
      "16384 datasets, 2.697 us per dataset, 0.04s total\n",
      "16384 datasets, 2.880 us per dataset, 0.05s total\n",
      "16384 datasets, 2.844 us per dataset, 0.05s total\n",
      "16384 datasets, 2.865 us per dataset, 0.05s total\n",
      "16384 datasets, 2.776 us per dataset, 0.05s total\n",
      "16384 datasets, 2.684 us per dataset, 0.04s total\n",
      "16384 datasets, 2.884 us per dataset, 0.05s total\n",
      "16384 datasets, 2.902 us per dataset, 0.05s total\n",
      "16384 datasets, 2.792 us per dataset, 0.05s total\n",
      "16384 datasets, 2.884 us per dataset, 0.05s total\n",
      "16384 datasets, 2.823 us per dataset, 0.05s total\n"
     ]
    }
   ],
   "source": [
    "n_arms = 4\n",
    "fl = inla.FullLaplace(berry_model(n_arms), \"sig2\", np.zeros((4, 2)))\n",
    "sig2_rule = util.log_gauss_rule(15, 1e-2, 1e2)\n",
    "fl = fast_berry(sig2_rule.pts, n_arms)\n",
    "dtype = np.float64\n",
    "# for N in 2 ** np.array([4, 9, 14, 16]):\n",
    "for N in 2 ** np.array([14]):\n",
    "    y = scipy.stats.binom.rvs(35, 0.3, size=(N, n_arms))\n",
    "    n = np.full_like(y, 35)\n",
    "    D = np.stack((y, n), axis=-1).astype(dtype)\n",
    "    x0 = np.zeros((D.shape[0], sig2_rule.pts.shape[0], 4), dtype=dtype)\n",
    "    f = lambda: fl(dict(sig2=sig2_rule.pts.astype(dtype), theta=None), D, x0, should_batch=False)\n",
    "    f()\n",
    "    for i in range(20):\n",
    "        start = time.time()\n",
    "        post, x_max, hess, iters = f()\n",
    "        end = time.time()\n",
    "        print(\n",
    "            f\"{N} datasets, {(end - start) / N * 1e6:.3f} us per dataset, {end - start:.2f}s total\"\n",
    "        )"
   ]
  },
  {
   "cell_type": "code",
   "execution_count": 4,
   "metadata": {},
   "outputs": [],
   "source": [
    "hess = f()[2]"
   ]
  },
  {
   "cell_type": "code",
   "execution_count": 19,
   "metadata": {},
   "outputs": [
    {
     "data": {
      "text/plain": [
       "(DeviceArray([-8.18910926, -8.53883568, -7.79770498, -9.32746209], dtype=float64),\n",
       " DeviceArray(0.24937656, dtype=float64))"
      ]
     },
     "execution_count": 19,
     "metadata": {},
     "output_type": "execute_result"
    }
   ],
   "source": [
    "H = hess[0,7] \n",
    "grad = np.random.rand(4)\n",
    "b = H[0, 1]\n",
    "a = np.diag(H) - b\n",
    "a, b"
   ]
  },
  {
   "cell_type": "code",
   "execution_count": 25,
   "metadata": {},
   "outputs": [
    {
     "data": {
      "text/plain": [
       "DeviceArray([-0.11571474, -0.06712648, -0.11595943, -0.028569  ], dtype=float64)"
      ]
     },
     "execution_count": 25,
     "metadata": {},
     "output_type": "execute_result"
    }
   ],
   "source": [
    "# Hinv = np.diag(1.0 / a) - np.outer(bs / a, bs / a) / (1 + np.sum(bs / a) * bs)\n",
    "\n",
    "bs = np.sqrt(b)\n",
    "grad_over_a = grad / a\n",
    "bs_over_a = bs / a\n",
    "grad_over_a - bs_over_a * (bs * grad_over_a.sum() / (1 + np.sum(bs_over_a) * bs))"
   ]
  },
  {
   "cell_type": "code",
   "execution_count": 26,
   "metadata": {},
   "outputs": [
    {
     "data": {
      "text/plain": [
       "array([-0.11571474, -0.06712648, -0.11595943, -0.028569  ])"
      ]
     },
     "execution_count": 26,
     "metadata": {},
     "output_type": "execute_result"
    }
   ],
   "source": [
    "np.linalg.inv(H).dot(grad)"
   ]
  },
  {
   "cell_type": "code",
   "execution_count": 5,
   "metadata": {},
   "outputs": [],
   "source": [
    "import numpy as np\n",
    "b = 1.0\n",
    "a = np.random.rand(4)\n",
    "M = np.full((4,4), b) + np.diag(a)"
   ]
  },
  {
   "cell_type": "code",
   "execution_count": 6,
   "metadata": {},
   "outputs": [
    {
     "data": {
      "text/plain": [
       "array([[ 1.31148807, -0.06612969, -0.92047326, -0.26805707],\n",
       "       [-0.06612969,  1.10833818, -0.77032047, -0.22433009],\n",
       "       [-0.92047326, -0.77032047,  5.47526137, -3.12249854],\n",
       "       [-0.26805707, -0.22433009, -3.12249854,  3.80766208]])"
      ]
     },
     "execution_count": 6,
     "metadata": {},
     "output_type": "execute_result"
    }
   ],
   "source": [
    "Minv = np.linalg.inv(M)\n",
    "Minv"
   ]
  },
  {
   "cell_type": "code",
   "execution_count": 130,
   "metadata": {},
   "outputs": [],
   "source": [
    "b = neg_precQ[0,0,1]\n",
    "a = neg_precQ[0,0,0] - b"
   ]
  },
  {
   "cell_type": "code",
   "execution_count": 131,
   "metadata": {},
   "outputs": [],
   "source": [
    "@jax.jit\n",
    "def quad(theta_max, a, b):\n",
    "    dotprod = ((theta_max.sum(axis=-1) * b)[..., None] + theta_max * a)\n",
    "    quad = jnp.sum(theta_max * dotprod, axis=-1)\n",
    "    return quad"
   ]
  },
  {
   "cell_type": "code",
   "execution_count": 132,
   "metadata": {},
   "outputs": [
    {
     "name": "stdout",
     "output_type": "stream",
     "text": [
      "126 µs ± 1.56 µs per loop (mean ± std. dev. of 7 runs, 10,000 loops each)\n"
     ]
    }
   ],
   "source": [
    "%%timeit\n",
    "quad(theta_max, a, b).block_until_ready()"
   ]
  },
  {
   "cell_type": "code",
   "execution_count": 129,
   "metadata": {},
   "outputs": [
    {
     "data": {
      "text/plain": [
       "DeviceArray(-0.37294438, dtype=float32)"
      ]
     },
     "execution_count": 129,
     "metadata": {},
     "output_type": "execute_result"
    }
   ],
   "source": [
    "quad(theta_max, a, b)[0,0]"
   ]
  },
  {
   "cell_type": "code",
   "execution_count": 122,
   "metadata": {},
   "outputs": [],
   "source": [
    "dotprod2 = jnp.einsum(\"...ij,...j\", neg_precQ, theta_max)\n",
    "quad2 = jnp.einsum(\"...i,...ij,...j\", theta_max, neg_precQ, theta_max)\n",
    "quad3 = np.sum(theta_max * dotprod2, axis=-1)"
   ]
  },
  {
   "cell_type": "code",
   "execution_count": 123,
   "metadata": {},
   "outputs": [
    {
     "data": {
      "text/plain": [
       "(DeviceArray([-5.1011925,  1.39013  ,  2.319191 ,  1.390357 ], dtype=float32),\n",
       " DeviceArray([-5.101193 ,  1.3901292,  2.319191 ,  1.390357 ], dtype=float32),\n",
       " DeviceArray(-0.3729442, dtype=float32),\n",
       " DeviceArray(-0.37294447, dtype=float32),\n",
       " DeviceArray(-0.37294444, dtype=float32))"
      ]
     },
     "execution_count": 123,
     "metadata": {},
     "output_type": "execute_result"
    }
   ],
   "source": [
    "dotprod[0,0], dotprod2[0,0], quad[0,0], quad2[0,0], quad3[0,0]"
   ]
  },
  {
   "cell_type": "code",
   "execution_count": 55,
   "metadata": {},
   "outputs": [],
   "source": [
    "inla_obj = inla.INLA(conditional_vmap, grad_hess_vmap, sig2_rule, narms)"
   ]
  },
  {
   "cell_type": "code",
   "execution_count": 56,
   "metadata": {},
   "outputs": [],
   "source": [
    "theta_max, hess, iters = inla_obj.optimize_loop(data, sig2_rule.pts, 1e-3)\n",
    "post = inla_obj.posterior(theta_max, hess, sig2_rule.pts, sig2_rule.wts, data)"
   ]
  },
  {
   "cell_type": "code",
   "execution_count": 58,
   "metadata": {},
   "outputs": [
    {
     "name": "stdout",
     "output_type": "stream",
     "text": [
      "31.4 ms ± 444 µs per loop (mean ± std. dev. of 5 runs, 20 loops each)\n"
     ]
    }
   ],
   "source": [
    "%%timeit -n 20 -r 5\n",
    "theta_max, hess, iters = inla_obj.optimize_loop(data, sig2_rule.pts, 1e-3)\n",
    "post = inla_obj.posterior(theta_max, hess, sig2_rule.pts, sig2_rule.wts, data)"
   ]
  },
  {
   "cell_type": "code",
   "execution_count": null,
   "metadata": {},
   "outputs": [],
   "source": []
  }
 ],
 "metadata": {
  "kernelspec": {
   "display_name": "Python 3.10.5 ('imprint')",
   "language": "python",
   "name": "python3"
  },
  "language_info": {
   "codemirror_mode": {
    "name": "ipython",
    "version": 3
   },
   "file_extension": ".py",
   "mimetype": "text/x-python",
   "name": "python",
   "nbconvert_exporter": "python",
   "pygments_lexer": "ipython3",
   "version": "3.10.5"
  },
  "orig_nbformat": 4,
  "vscode": {
   "interpreter": {
    "hash": "1234d0467017a186db2b9a06faf936c59bc87b507f01580220987604bcb2f4bc"
   }
  }
 },
 "nbformat": 4,
 "nbformat_minor": 2
}
