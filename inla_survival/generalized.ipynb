{
 "cells": [
  {
   "cell_type": "code",
   "execution_count": 1,
   "metadata": {},
   "outputs": [],
   "source": [
    "import os\n",
    "os.environ['JAX_CHECK_TRACER_LEAKS']='1'\n",
    "import sys\n",
    "sys.path.append('../imprint/research/berry/')\n",
    "import berrylib.util as util\n",
    "util.setup_nb()"
   ]
  },
  {
   "cell_type": "code",
   "execution_count": 2,
   "metadata": {},
   "outputs": [
    {
     "name": "stderr",
     "output_type": "stream",
     "text": [
      "/Users/tbent/.mambaforge/envs/imprint/lib/python3.10/site-packages/jax/_src/lib/__init__.py:33: UserWarning: JAX on Mac ARM machines is experimental and minimally tested. Please see https://github.com/google/jax/issues/5501 in the event of problems.\n",
      "  warnings.warn(\"JAX on Mac ARM machines is experimental and minimally tested. \"\n",
      "/Users/tbent/.mambaforge/envs/imprint/lib/python3.10/site-packages/tqdm/auto.py:22: TqdmWarning: IProgress not found. Please update jupyter and ipywidgets. See https://ipywidgets.readthedocs.io/en/stable/user_install.html\n",
      "  from .autonotebook import tqdm as notebook_tqdm\n"
     ]
    }
   ],
   "source": [
    "import jax\n",
    "import jax.numpy as jnp\n",
    "import numpy as np\n",
    "import time\n",
    "import numpyro\n",
    "import numpyro.distributions as dist\n",
    "import numpyro.handlers as handlers\n",
    "import scipy.stats\n",
    "import matplotlib.pyplot as plt\n",
    "from scipy.special import logit, expit\n",
    "\n",
    "import inla"
   ]
  },
  {
   "cell_type": "code",
   "execution_count": 3,
   "metadata": {},
   "outputs": [],
   "source": [
    "narms = 4\n",
    "mu_0 = -1.34\n",
    "mu_sig2 = 100.0\n",
    "sig2_alpha = 0.0005\n",
    "sig2_beta = 0.000005\n",
    "logit_p1 = logit(0.3)\n",
    "def model(data):\n",
    "    sig2 = numpyro.sample(\"sig2\", dist.InverseGamma(sig2_alpha, sig2_beta))\n",
    "    cov = jnp.full((narms, narms), mu_sig2) + jnp.diag(jnp.repeat(sig2, narms))\n",
    "    theta = numpyro.sample(\n",
    "        \"theta\",\n",
    "        dist.MultivariateNormal(mu_0, cov),\n",
    "    )\n",
    "    numpyro.sample(\n",
    "        \"y\",\n",
    "        dist.BinomialLogits(theta + logit_p1, total_count=data[:,1]),\n",
    "        obs=data[:, 0],\n",
    "    )"
   ]
  },
  {
   "cell_type": "code",
   "execution_count": 4,
   "metadata": {},
   "outputs": [
    {
     "data": {
      "text/plain": [
       "DeviceArray(-35.054466, dtype=float32)"
      ]
     },
     "execution_count": 4,
     "metadata": {},
     "output_type": "execute_result"
    }
   ],
   "source": [
    "data = np.array([[7, 35], [6.0, 35], [5, 35], [4, 35]])\n",
    "params = dict(\n",
    "    sig2=10.0,\n",
    "    theta=np.array([0.0, 0.0, 0, 0]),\n",
    ")\n",
    "ll_fnc = inla.build_log_likelihood(model)\n",
    "ll_fnc(params, dict(sig2=None, theta=None), data)"
   ]
  },
  {
   "cell_type": "code",
   "execution_count": 7,
   "metadata": {},
   "outputs": [
    {
     "name": "stdout",
     "output_type": "stream",
     "text": [
      "16 iters, 48.369 us per sample, 0.00s total\n",
      "64 iters, 43.813 us per sample, 0.00s total\n",
      "256 iters, 36.636 us per sample, 0.01s total\n",
      "1024 iters, 33.276 us per sample, 0.03s total\n",
      "4096 iters, 35.039 us per sample, 0.14s total\n",
      "16384 iters, 36.111 us per sample, 0.59s total\n",
      "65536 iters, 36.500 us per sample, 2.39s total\n"
     ]
    },
    {
     "ename": "KeyboardInterrupt",
     "evalue": "",
     "output_type": "error",
     "traceback": [
      "\u001b[0;31m---------------------------------------------------------------------------\u001b[0m",
      "\u001b[0;31mKeyboardInterrupt\u001b[0m                         Traceback (most recent call last)",
      "\u001b[1;32m/Users/tbent/Dropbox/active/confirm/research/inla_survival/generalized.ipynb Cell 5'\u001b[0m in \u001b[0;36m<cell line: 6>\u001b[0;34m()\u001b[0m\n\u001b[1;32m     <a href='vscode-notebook-cell:/Users/tbent/Dropbox/active/confirm/research/inla_survival/generalized.ipynb#ch0000004?line=10'>11</a>\u001b[0m \u001b[39mfor\u001b[39;00m i \u001b[39min\u001b[39;00m \u001b[39mrange\u001b[39m(\u001b[39m3\u001b[39m):\n\u001b[1;32m     <a href='vscode-notebook-cell:/Users/tbent/Dropbox/active/confirm/research/inla_survival/generalized.ipynb#ch0000004?line=11'>12</a>\u001b[0m     start \u001b[39m=\u001b[39m time\u001b[39m.\u001b[39mtime()\n\u001b[0;32m---> <a href='vscode-notebook-cell:/Users/tbent/Dropbox/active/confirm/research/inla_survival/generalized.ipynb#ch0000004?line=12'>13</a>\u001b[0m     grad, hess \u001b[39m=\u001b[39m grad_hess_vmap(\n\u001b[1;32m     <a href='vscode-notebook-cell:/Users/tbent/Dropbox/active/confirm/research/inla_survival/generalized.ipynb#ch0000004?line=13'>14</a>\u001b[0m         T, \u001b[39mdict\u001b[39;49m(sig2\u001b[39m=\u001b[39;49msig2_rule\u001b[39m.\u001b[39;49mpts, theta\u001b[39m=\u001b[39;49mtheta_fixed), D\n\u001b[1;32m     <a href='vscode-notebook-cell:/Users/tbent/Dropbox/active/confirm/research/inla_survival/generalized.ipynb#ch0000004?line=14'>15</a>\u001b[0m     )\n\u001b[1;32m     <a href='vscode-notebook-cell:/Users/tbent/Dropbox/active/confirm/research/inla_survival/generalized.ipynb#ch0000004?line=15'>16</a>\u001b[0m     hess\u001b[39m.\u001b[39mblock_until_ready()\n\u001b[1;32m     <a href='vscode-notebook-cell:/Users/tbent/Dropbox/active/confirm/research/inla_survival/generalized.ipynb#ch0000004?line=16'>17</a>\u001b[0m     end \u001b[39m=\u001b[39m time\u001b[39m.\u001b[39mtime()\n",
      "    \u001b[0;31m[... skipping hidden 1 frame]\u001b[0m\n",
      "File \u001b[0;32m~/.mambaforge/envs/imprint/lib/python3.10/site-packages/jax/_src/api.py:466\u001b[0m, in \u001b[0;36m_cpp_jit.<locals>.cache_miss\u001b[0;34m(*args, **kwargs)\u001b[0m\n\u001b[1;32m    464\u001b[0m   in_type \u001b[39m=\u001b[39m pe\u001b[39m.\u001b[39minfer_lambda_input_type(\u001b[39mNone\u001b[39;00m, args_flat)\n\u001b[1;32m    465\u001b[0m   flat_fun \u001b[39m=\u001b[39m lu\u001b[39m.\u001b[39mannotate(flat_fun, in_type)\n\u001b[0;32m--> 466\u001b[0m out_flat \u001b[39m=\u001b[39m xla\u001b[39m.\u001b[39;49mxla_call(\n\u001b[1;32m    467\u001b[0m     flat_fun, \u001b[39m*\u001b[39;49margs_flat,\n\u001b[1;32m    468\u001b[0m     device\u001b[39m=\u001b[39;49mdevice, backend\u001b[39m=\u001b[39;49mbackend, name\u001b[39m=\u001b[39;49mflat_fun\u001b[39m.\u001b[39;49m\u001b[39m__name__\u001b[39;49m,\n\u001b[1;32m    469\u001b[0m     donated_invars\u001b[39m=\u001b[39;49mdonated_invars, inline\u001b[39m=\u001b[39;49minline)\n\u001b[1;32m    470\u001b[0m out_pytree_def \u001b[39m=\u001b[39m out_tree()\n\u001b[1;32m    471\u001b[0m out \u001b[39m=\u001b[39m tree_unflatten(out_pytree_def, out_flat)\n",
      "File \u001b[0;32m~/.mambaforge/envs/imprint/lib/python3.10/site-packages/jax/core.py:1771\u001b[0m, in \u001b[0;36mCallPrimitive.bind\u001b[0;34m(self, fun, *args, **params)\u001b[0m\n\u001b[1;32m   1770\u001b[0m \u001b[39mdef\u001b[39;00m \u001b[39mbind\u001b[39m(\u001b[39mself\u001b[39m, fun, \u001b[39m*\u001b[39margs, \u001b[39m*\u001b[39m\u001b[39m*\u001b[39mparams):\n\u001b[0;32m-> 1771\u001b[0m   \u001b[39mreturn\u001b[39;00m call_bind(\u001b[39mself\u001b[39;49m, fun, \u001b[39m*\u001b[39;49margs, \u001b[39m*\u001b[39;49m\u001b[39m*\u001b[39;49mparams)\n",
      "File \u001b[0;32m~/.mambaforge/envs/imprint/lib/python3.10/site-packages/jax/core.py:1787\u001b[0m, in \u001b[0;36mcall_bind\u001b[0;34m(primitive, fun, *args, **params)\u001b[0m\n\u001b[1;32m   1785\u001b[0m tracers \u001b[39m=\u001b[39m \u001b[39mmap\u001b[39m(top_trace\u001b[39m.\u001b[39mfull_raise, args)\n\u001b[1;32m   1786\u001b[0m fun_ \u001b[39m=\u001b[39m lu\u001b[39m.\u001b[39mannotate(fun_, fun\u001b[39m.\u001b[39min_type)\n\u001b[0;32m-> 1787\u001b[0m outs \u001b[39m=\u001b[39m top_trace\u001b[39m.\u001b[39;49mprocess_call(primitive, fun_, tracers, params)\n\u001b[1;32m   1788\u001b[0m \u001b[39mreturn\u001b[39;00m \u001b[39mmap\u001b[39m(full_lower, apply_todos(env_trace_todo(), outs))\n",
      "File \u001b[0;32m~/.mambaforge/envs/imprint/lib/python3.10/site-packages/jax/core.py:660\u001b[0m, in \u001b[0;36mEvalTrace.process_call\u001b[0;34m(self, primitive, f, tracers, params)\u001b[0m\n\u001b[1;32m    659\u001b[0m \u001b[39mdef\u001b[39;00m \u001b[39mprocess_call\u001b[39m(\u001b[39mself\u001b[39m, primitive, f, tracers, params):\n\u001b[0;32m--> 660\u001b[0m   \u001b[39mreturn\u001b[39;00m primitive\u001b[39m.\u001b[39;49mimpl(f, \u001b[39m*\u001b[39;49mtracers, \u001b[39m*\u001b[39;49m\u001b[39m*\u001b[39;49mparams)\n",
      "File \u001b[0;32m~/.mambaforge/envs/imprint/lib/python3.10/site-packages/jax/_src/dispatch.py:152\u001b[0m, in \u001b[0;36m_xla_call_impl\u001b[0;34m(***failed resolving arguments***)\u001b[0m\n\u001b[1;32m    149\u001b[0m compiled_fun \u001b[39m=\u001b[39m _xla_callable(fun, device, backend, name, donated_invars,\n\u001b[1;32m    150\u001b[0m                              \u001b[39m*\u001b[39marg_specs)\n\u001b[1;32m    151\u001b[0m \u001b[39mtry\u001b[39;00m:\n\u001b[0;32m--> 152\u001b[0m   \u001b[39mreturn\u001b[39;00m compiled_fun(\u001b[39m*\u001b[39;49margs)\n\u001b[1;32m    153\u001b[0m \u001b[39mexcept\u001b[39;00m \u001b[39mFloatingPointError\u001b[39;00m:\n\u001b[1;32m    154\u001b[0m   \u001b[39massert\u001b[39;00m config\u001b[39m.\u001b[39mjax_debug_nans \u001b[39mor\u001b[39;00m config\u001b[39m.\u001b[39mjax_debug_infs  \u001b[39m# compiled_fun can only raise in this case\u001b[39;00m\n",
      "File \u001b[0;32m~/.mambaforge/envs/imprint/lib/python3.10/site-packages/jax/_src/dispatch.py:558\u001b[0m, in \u001b[0;36m_execute_compiled\u001b[0;34m(name, compiled, input_handler, output_buffer_counts, result_handlers, kept_var_idx, *args)\u001b[0m\n\u001b[1;32m    555\u001b[0m args \u001b[39m=\u001b[39m input_handler(args) \u001b[39mif\u001b[39;00m input_handler \u001b[39melse\u001b[39;00m args\n\u001b[1;32m    556\u001b[0m input_bufs_flat \u001b[39m=\u001b[39m flatten(device_put(x, device) \u001b[39mfor\u001b[39;00m i, x \u001b[39min\u001b[39;00m \u001b[39menumerate\u001b[39m(args)\n\u001b[1;32m    557\u001b[0m                           \u001b[39mif\u001b[39;00m i \u001b[39min\u001b[39;00m kept_var_idx)\n\u001b[0;32m--> 558\u001b[0m out_bufs_flat \u001b[39m=\u001b[39m compiled\u001b[39m.\u001b[39;49mexecute(input_bufs_flat)\n\u001b[1;32m    559\u001b[0m check_special(name, out_bufs_flat)\n\u001b[1;32m    560\u001b[0m \u001b[39mif\u001b[39;00m output_buffer_counts \u001b[39mis\u001b[39;00m \u001b[39mNone\u001b[39;00m:\n",
      "\u001b[0;31mKeyboardInterrupt\u001b[0m: "
     ]
    }
   ],
   "source": [
    "sig2_rule = util.log_gauss_rule(15, 1e-2, 1e2)\n",
    "theta_fixed = np.full((sig2_rule.pts.shape[0], 4), np.nan)\n",
    "theta_fixed[:, 0] = -1.0\n",
    "spec = inla.ParamSpec(dict(sig2=jnp.array([10.0]), theta=theta_fixed[0, :]))\n",
    "grad_hess_vmap = inla.build_grad_hess(ll_fnc, spec)\n",
    "for N in 2 ** np.arange(4, 20, 2):\n",
    "    y = scipy.stats.binom.rvs(35, 0.3, size=(N, narms))\n",
    "    n = np.full_like(y, 35)\n",
    "    D = np.stack((y, n), axis=-1)\n",
    "    T = np.random.rand(N, sig2_rule.pts.shape[0], narms)\n",
    "    for i in range(3):\n",
    "        start = time.time()\n",
    "        grad, hess = grad_hess_vmap(\n",
    "            dict(sig2=None, theta=T), dict(sig2=sig2_rule.pts, theta=theta_fixed), D\n",
    "        )\n",
    "        hess.block_until_ready()\n",
    "        end = time.time()\n",
    "    print(\n",
    "        f\"{N} iters, {(end - start) / N * 1e6:.3f} us per sample, {end - start:.2f}s total\"\n",
    "    )\n"
   ]
  },
  {
   "cell_type": "code",
   "execution_count": 163,
   "metadata": {},
   "outputs": [],
   "source": [
    "N = 10000\n",
    "n_i = np.tile(np.array([20, 20, 35, 35]), (N, 1))\n",
    "y_i = np.tile(np.array([0, 1, 9, 10]), (N, 1))\n",
    "data = np.stack((y_i, n_i), axis=-1).astype(np.float64)\n",
    "ll_fnc = inla.build_log_likelihood(model)\n",
    "\n",
    "sig2_rule = util.log_gauss_rule(15, 1e-3, 1e3)\n",
    "# param_ex = dict(sig2=np.array([np.nan]), theta=np.array([np.nan, 0, 0, 0]))\n",
    "param_ex = dict(sig2=np.array([np.nan]), theta=np.array([0, 0, 0, 0]))\n",
    "optimizer = inla.build_optimizer(log_joint=ll_fnc, param_ex=param_ex)\n",
    "x0 = np.zeros((N, sig2_rule.pts.shape[0], 3))"
   ]
  },
  {
   "cell_type": "code",
   "execution_count": 164,
   "metadata": {},
   "outputs": [
    {
     "ename": "ValueError",
     "evalue": "Incompatible shapes for broadcasting: (3,) and requested shape (4,)",
     "output_type": "error",
     "traceback": [
      "\u001b[0;31m---------------------------------------------------------------------------\u001b[0m",
      "\u001b[0;31mValueError\u001b[0m                                Traceback (most recent call last)",
      "File \u001b[0;32m<timed exec>:5\u001b[0m, in \u001b[0;36m<module>\u001b[0;34m\u001b[0m\n",
      "    \u001b[0;31m[... skipping hidden 14 frame]\u001b[0m\n",
      "File \u001b[0;32m~/Dropbox/active/confirm/research/inla_survival/inla.py:142\u001b[0m, in \u001b[0;36mbuild_optimizer.<locals>.optimize_loop\u001b[0;34m(x0, p_pinned, data)\u001b[0m\n\u001b[1;32m    139\u001b[0m     go \u001b[39m=\u001b[39m jnp\u001b[39m.\u001b[39many(jnp\u001b[39m.\u001b[39msum(step\u001b[39m*\u001b[39m\u001b[39m*\u001b[39m\u001b[39m2\u001b[39m) \u001b[39m>\u001b[39m tol\u001b[39m*\u001b[39m\u001b[39m*\u001b[39m\u001b[39m2\u001b[39m) \u001b[39m&\u001b[39m (iters \u001b[39m<\u001b[39m max_iter)\n\u001b[1;32m    140\u001b[0m     \u001b[39mreturn\u001b[39;00m x \u001b[39m+\u001b[39m step, hess_info, iters \u001b[39m+\u001b[39m \u001b[39m1\u001b[39m, go\n\u001b[0;32m--> 142\u001b[0m step0, hess_info0 \u001b[39m=\u001b[39m step_hess(x0, p_pinned, data)\n\u001b[1;32m    143\u001b[0m x, hess_info, iters, go \u001b[39m=\u001b[39m jax\u001b[39m.\u001b[39mlax\u001b[39m.\u001b[39mwhile_loop(\n\u001b[1;32m    144\u001b[0m     \u001b[39mlambda\u001b[39;00m args: args[\u001b[39m3\u001b[39m], step, (x0 \u001b[39m+\u001b[39m step0, hess_info0, \u001b[39m1\u001b[39m, \u001b[39mTrue\u001b[39;00m)\n\u001b[1;32m    145\u001b[0m )\n\u001b[1;32m    146\u001b[0m \u001b[39mreturn\u001b[39;00m x, hess_info, iters\n",
      "File \u001b[0;32m~/Dropbox/active/confirm/research/inla_survival/inla.py:116\u001b[0m, in \u001b[0;36mbuild_step_hess.<locals>.step_hess\u001b[0;34m(x, p_pinned, data)\u001b[0m\n\u001b[1;32m    114\u001b[0m \u001b[39mdef\u001b[39;00m \u001b[39mstep_hess\u001b[39m(x, p_pinned, data):\n\u001b[1;32m    115\u001b[0m     \u001b[39m# Inputs and outputs are arrays, need to convert to pytrees internally.\u001b[39;00m\n\u001b[0;32m--> 116\u001b[0m     grad, hess \u001b[39m=\u001b[39m grad_hess(x, p_pinned, data)\n\u001b[1;32m    117\u001b[0m     d \u001b[39m=\u001b[39m grad\u001b[39m.\u001b[39mshape[\u001b[39m-\u001b[39m\u001b[39m1\u001b[39m]\n\u001b[1;32m    118\u001b[0m     solver \u001b[39m=\u001b[39m jax\u001b[39m.\u001b[39mvmap(jax\u001b[39m.\u001b[39mvmap(smalljax\u001b[39m.\u001b[39mgen(\u001b[39mf\u001b[39m\u001b[39m\"\u001b[39m\u001b[39msolve\u001b[39m\u001b[39m{\u001b[39;00md\u001b[39m}\u001b[39;00m\u001b[39m\"\u001b[39m)))\n",
      "    \u001b[0;31m[... skipping hidden 13 frame]\u001b[0m\n",
      "File \u001b[0;32m~/Dropbox/active/confirm/research/inla_survival/inla.py:84\u001b[0m, in \u001b[0;36mbuild_grad_hess.<locals>.grad_hess\u001b[0;34m(x, p_pinned, data)\u001b[0m\n\u001b[1;32m     81\u001b[0m \u001b[39mdef\u001b[39;00m \u001b[39mgrad_hess\u001b[39m(x, p_pinned, data):\n\u001b[1;32m     82\u001b[0m     \u001b[39m# The inputs to grad_hess are pytrees but the output grad/hess are\u001b[39;00m\n\u001b[1;32m     83\u001b[0m     \u001b[39m# flattened.\u001b[39;00m\n\u001b[0;32m---> 84\u001b[0m     p \u001b[39m=\u001b[39m unravel_f(x)\n\u001b[1;32m     85\u001b[0m     grad \u001b[39m=\u001b[39m jax\u001b[39m.\u001b[39mgrad(log_joint)(p, p_pinned, data)\n\u001b[1;32m     86\u001b[0m     hess \u001b[39m=\u001b[39m jax\u001b[39m.\u001b[39mhessian(log_joint)(p, p_pinned, data)\n",
      "File \u001b[0;32m~/Dropbox/active/confirm/research/inla_survival/inla.py:70\u001b[0m, in \u001b[0;36mbuild_ravel_fncs.<locals>.unravel_f\u001b[0;34m(x)\u001b[0m\n\u001b[1;32m     68\u001b[0m     out_arr \u001b[39m=\u001b[39m jnp\u001b[39m.\u001b[39mfull(param_ex[k]\u001b[39m.\u001b[39mshape[\u001b[39m0\u001b[39m], jnp\u001b[39m.\u001b[39mnan)\n\u001b[1;32m     69\u001b[0m     end \u001b[39m=\u001b[39m i \u001b[39m+\u001b[39m dont_skip_idxs[k]\u001b[39m.\u001b[39mshape[\u001b[39m0\u001b[39m]\n\u001b[0;32m---> 70\u001b[0m     out[k] \u001b[39m=\u001b[39m out_arr\u001b[39m.\u001b[39;49mat[dont_skip_idxs[k]]\u001b[39m.\u001b[39;49mset(x[i:end])\n\u001b[1;32m     71\u001b[0m     i \u001b[39m=\u001b[39m end\n\u001b[1;32m     72\u001b[0m \u001b[39mreturn\u001b[39;00m out\n",
      "File \u001b[0;32m~/.mambaforge/envs/imprint/lib/python3.10/site-packages/jax/_src/numpy/lax_numpy.py:4817\u001b[0m, in \u001b[0;36m_IndexUpdateRef.set\u001b[0;34m(self, values, indices_are_sorted, unique_indices, mode)\u001b[0m\n\u001b[1;32m   4808\u001b[0m \u001b[39mdef\u001b[39;00m \u001b[39mset\u001b[39m(\u001b[39mself\u001b[39m, values, indices_are_sorted\u001b[39m=\u001b[39m\u001b[39mFalse\u001b[39;00m, unique_indices\u001b[39m=\u001b[39m\u001b[39mFalse\u001b[39;00m,\n\u001b[1;32m   4809\u001b[0m         mode\u001b[39m=\u001b[39m\u001b[39mNone\u001b[39;00m):\n\u001b[1;32m   4810\u001b[0m   \u001b[39m\"\"\"Pure equivalent of ``x[idx] = y``.\u001b[39;00m\n\u001b[1;32m   4811\u001b[0m \n\u001b[1;32m   4812\u001b[0m \u001b[39m  Returns the value of ``x`` that would result from the NumPy-style\u001b[39;00m\n\u001b[0;32m   (...)\u001b[0m\n\u001b[1;32m   4815\u001b[0m \u001b[39m  See :mod:`jax.ops` for details.\u001b[39;00m\n\u001b[1;32m   4816\u001b[0m \u001b[39m  \"\"\"\u001b[39;00m\n\u001b[0;32m-> 4817\u001b[0m   \u001b[39mreturn\u001b[39;00m scatter\u001b[39m.\u001b[39;49m_scatter_update(\u001b[39mself\u001b[39;49m\u001b[39m.\u001b[39;49marray, \u001b[39mself\u001b[39;49m\u001b[39m.\u001b[39;49mindex, values, lax\u001b[39m.\u001b[39;49mscatter,\n\u001b[1;32m   4818\u001b[0m                                  indices_are_sorted\u001b[39m=\u001b[39;49mindices_are_sorted,\n\u001b[1;32m   4819\u001b[0m                                  unique_indices\u001b[39m=\u001b[39;49munique_indices, mode\u001b[39m=\u001b[39;49mmode)\n",
      "File \u001b[0;32m~/.mambaforge/envs/imprint/lib/python3.10/site-packages/jax/_src/ops/scatter.py:70\u001b[0m, in \u001b[0;36m_scatter_update\u001b[0;34m(x, idx, y, scatter_op, indices_are_sorted, unique_indices, mode, normalize_indices)\u001b[0m\n\u001b[1;32m     67\u001b[0m \u001b[39m# XLA gathers and scatters are very similar in structure; the scatter logic\u001b[39;00m\n\u001b[1;32m     68\u001b[0m \u001b[39m# is more or less a transpose of the gather equivalent.\u001b[39;00m\n\u001b[1;32m     69\u001b[0m treedef, static_idx, dynamic_idx \u001b[39m=\u001b[39m jnp\u001b[39m.\u001b[39m_split_index_for_jit(idx, x\u001b[39m.\u001b[39mshape)\n\u001b[0;32m---> 70\u001b[0m \u001b[39mreturn\u001b[39;00m _scatter_impl(x, y, scatter_op, treedef, static_idx, dynamic_idx,\n\u001b[1;32m     71\u001b[0m                      indices_are_sorted, unique_indices, mode,\n\u001b[1;32m     72\u001b[0m                      normalize_indices)\n",
      "File \u001b[0;32m~/.mambaforge/envs/imprint/lib/python3.10/site-packages/jax/_src/ops/scatter.py:96\u001b[0m, in \u001b[0;36m_scatter_impl\u001b[0;34m(x, y, scatter_op, treedef, static_idx, dynamic_idx, indices_are_sorted, unique_indices, mode, normalize_indices)\u001b[0m\n\u001b[1;32m     93\u001b[0m x, y \u001b[39m=\u001b[39m jnp\u001b[39m.\u001b[39m_promote_dtypes(x, y)\n\u001b[1;32m     95\u001b[0m \u001b[39m# Broadcast `y` to the slice output shape.\u001b[39;00m\n\u001b[0;32m---> 96\u001b[0m y \u001b[39m=\u001b[39m jnp\u001b[39m.\u001b[39;49mbroadcast_to(y, \u001b[39mtuple\u001b[39;49m(indexer\u001b[39m.\u001b[39;49mslice_shape))\n\u001b[1;32m     97\u001b[0m \u001b[39m# Collapse any `None`/`jnp.newaxis` dimensions.\u001b[39;00m\n\u001b[1;32m     98\u001b[0m y \u001b[39m=\u001b[39m jnp\u001b[39m.\u001b[39msqueeze(y, axis\u001b[39m=\u001b[39mindexer\u001b[39m.\u001b[39mnewaxis_dims)\n",
      "File \u001b[0;32m~/.mambaforge/envs/imprint/lib/python3.10/site-packages/jax/_src/numpy/util.py:360\u001b[0m, in \u001b[0;36m_broadcast_to\u001b[0;34m(arr, shape)\u001b[0m\n\u001b[1;32m    358\u001b[0m \u001b[39mif\u001b[39;00m nlead \u001b[39m<\u001b[39m \u001b[39m0\u001b[39m \u001b[39mor\u001b[39;00m \u001b[39mnot\u001b[39;00m compatible:\n\u001b[1;32m    359\u001b[0m   msg \u001b[39m=\u001b[39m \u001b[39m\"\u001b[39m\u001b[39mIncompatible shapes for broadcasting: \u001b[39m\u001b[39m{}\u001b[39;00m\u001b[39m and requested shape \u001b[39m\u001b[39m{}\u001b[39;00m\u001b[39m\"\u001b[39m\n\u001b[0;32m--> 360\u001b[0m   \u001b[39mraise\u001b[39;00m \u001b[39mValueError\u001b[39;00m(msg\u001b[39m.\u001b[39mformat(arr_shape, shape))\n\u001b[1;32m    361\u001b[0m diff, \u001b[39m=\u001b[39m np\u001b[39m.\u001b[39mwhere(\u001b[39mtuple\u001b[39m(\u001b[39mnot\u001b[39;00m core\u001b[39m.\u001b[39msymbolic_equal_dim(arr_d, shape_d)\n\u001b[1;32m    362\u001b[0m                        \u001b[39mfor\u001b[39;00m arr_d, shape_d \u001b[39min\u001b[39;00m safe_zip(arr_shape, shape_tail)))\n\u001b[1;32m    363\u001b[0m new_dims \u001b[39m=\u001b[39m \u001b[39mtuple\u001b[39m(\u001b[39mrange\u001b[39m(nlead)) \u001b[39m+\u001b[39m \u001b[39mtuple\u001b[39m(nlead \u001b[39m+\u001b[39m diff)\n",
      "\u001b[0;31mValueError\u001b[0m: Incompatible shapes for broadcasting: (3,) and requested shape (4,)"
     ]
    }
   ],
   "source": [
    "%%time\n",
    "# t_pin = np.full((sig2_rule.pts.shape[0], 4), np.nan)\n",
    "# t_pin[:, 0] = -1.0\n",
    "# p_pinned = dict(sig2=sig2_rule.pts, theta=t_pin)\n",
    "p_pinned = dict(sig2=sig2_rule.pts, theta=None)\n",
    "x_max, hess, iters = optimizer(x0, p_pinned, data)"
   ]
  },
  {
   "cell_type": "code",
   "execution_count": 150,
   "metadata": {},
   "outputs": [
    {
     "name": "stdout",
     "output_type": "stream",
     "text": [
      "Traced<ShapedArray(float32[3,3], weak_type=True)>with<BatchTrace(level=2/1)> with\n",
      "  val = Traced<ShapedArray(float32[15,3,3], weak_type=True)>with<BatchTrace(level=1/1)> with\n",
      "    val = Traced<ShapedArray(float32[10000,15,3,3], weak_type=True)>with<DynamicJaxprTrace(level=0/1)>\n",
      "    batch_dim = 0\n",
      "  batch_dim = 0\n"
     ]
    },
    {
     "data": {
      "text/plain": [
       "(10000, 15)"
      ]
     },
     "execution_count": 150,
     "metadata": {},
     "output_type": "execute_result"
    }
   ],
   "source": [
    "laplace_appx = inla.build_laplace_appx(ll_fnc, param_ex)\n",
    "# laplace_appx(x_max[0,0], hess[0,0], dict(sig2=p_pinned['sig2'][0], theta=p_pinned['theta'][0]), data[0])\n",
    "laplace_appx(x_max, hess, p_pinned, data)"
   ]
  },
  {
   "cell_type": "code",
   "execution_count": null,
   "metadata": {},
   "outputs": [],
   "source": [
    "\n",
    "n_arms = narms\n",
    "sigma2_n = sig2_rule.pts.shape[0]\n",
    "arms = np.arange(n_arms)\n",
    "cov = np.full((sigma2_n, n_arms, n_arms), mu_sig2)\n",
    "cov[:, arms, arms] += sig2_rule.pts[:, None]\n",
    "neg_precQ = -np.linalg.inv(cov)\n",
    "\n",
    "neg_precQ_b = neg_precQ[:, 0, 1]\n",
    "neg_precQ_a = neg_precQ[:, 0, 0] - neg_precQ_b\n",
    "\n",
    "logprecQdet = 0.5 * jnp.log(jnp.linalg.det(-neg_precQ))\n",
    "log_prior = jnp.array(\n",
    "    scipy.stats.invgamma.logpdf(sig2_rule.pts, sig2_alpha, scale=sig2_beta)\n",
    ")\n",
    "const = log_prior + logprecQdet\n",
    "na = jnp.arange(narms)\n",
    "\n",
    "def conditional(theta, sig2, data):\n",
    "    y = data[..., 0]\n",
    "    n = data[..., 1]\n",
    "    theta_m0 = theta - mu_0\n",
    "    theta_adj = theta + logit_p1\n",
    "    exp_theta_adj = jnp.exp(theta_adj)\n",
    "    quad = jnp.sum(\n",
    "        theta_m0\n",
    "        * ((theta_m0.sum(axis=-1) * neg_precQ_b)[..., None] + theta_m0 * neg_precQ_a),\n",
    "        axis=-1,\n",
    "    )\n",
    "    return (\n",
    "        0.5 * quad\n",
    "        + jnp.sum(\n",
    "            theta_adj * y[:, None] - n[:, None] * jnp.log(exp_theta_adj + 1),\n",
    "            axis=-1,\n",
    "        )\n",
    "        + const\n",
    "    )\n",
    "\n",
    "\n",
    "def grad_hess(theta, _, data):\n",
    "    y = data[..., 0]\n",
    "    n = data[..., 1]\n",
    "    theta_m0 = theta - mu_0\n",
    "    exp_theta_adj = jnp.exp(theta + logit_p1)\n",
    "    C = 1.0 / (exp_theta_adj + 1)\n",
    "    nCeta = n[:, None] * C * exp_theta_adj\n",
    "    grad = (\n",
    "        jnp.matmul(neg_precQ[None], theta_m0[:, :, :, None])[..., 0]\n",
    "        + y[:, None]\n",
    "        - nCeta\n",
    "    )\n",
    "    hess = neg_precQ[None] - ((nCeta * C)[:, :, None, :] * jnp.eye(narms))\n",
    "    return grad, hess\n",
    "\n",
    "\n",
    "grad_hess_vmap = jax.jit(grad_hess)\n",
    "conditional_vmap = jax.jit(conditional)\n"
   ]
  },
  {
   "cell_type": "code",
   "execution_count": 53,
   "metadata": {},
   "outputs": [],
   "source": [
    "N = 10000\n",
    "y = scipy.stats.binom.rvs(35, 0.3, size=(N, narms))\n",
    "n = np.full_like(y, 35)\n",
    "data = np.stack((y, n), axis=-1)"
   ]
  },
  {
   "cell_type": "code",
   "execution_count": 130,
   "metadata": {},
   "outputs": [],
   "source": [
    "b = neg_precQ[0,0,1]\n",
    "a = neg_precQ[0,0,0] - b"
   ]
  },
  {
   "cell_type": "code",
   "execution_count": 131,
   "metadata": {},
   "outputs": [],
   "source": [
    "@jax.jit\n",
    "def quad(theta_max, a, b):\n",
    "    dotprod = ((theta_max.sum(axis=-1) * b)[..., None] + theta_max * a)\n",
    "    quad = jnp.sum(theta_max * dotprod, axis=-1)\n",
    "    return quad"
   ]
  },
  {
   "cell_type": "code",
   "execution_count": 132,
   "metadata": {},
   "outputs": [
    {
     "name": "stdout",
     "output_type": "stream",
     "text": [
      "126 µs ± 1.56 µs per loop (mean ± std. dev. of 7 runs, 10,000 loops each)\n"
     ]
    }
   ],
   "source": [
    "%%timeit\n",
    "quad(theta_max, a, b).block_until_ready()"
   ]
  },
  {
   "cell_type": "code",
   "execution_count": 129,
   "metadata": {},
   "outputs": [
    {
     "data": {
      "text/plain": [
       "DeviceArray(-0.37294438, dtype=float32)"
      ]
     },
     "execution_count": 129,
     "metadata": {},
     "output_type": "execute_result"
    }
   ],
   "source": [
    "quad(theta_max, a, b)[0,0]"
   ]
  },
  {
   "cell_type": "code",
   "execution_count": 122,
   "metadata": {},
   "outputs": [],
   "source": [
    "dotprod2 = jnp.einsum(\"...ij,...j\", neg_precQ, theta_max)\n",
    "quad2 = jnp.einsum(\"...i,...ij,...j\", theta_max, neg_precQ, theta_max)\n",
    "quad3 = np.sum(theta_max * dotprod2, axis=-1)"
   ]
  },
  {
   "cell_type": "code",
   "execution_count": 123,
   "metadata": {},
   "outputs": [
    {
     "data": {
      "text/plain": [
       "(DeviceArray([-5.1011925,  1.39013  ,  2.319191 ,  1.390357 ], dtype=float32),\n",
       " DeviceArray([-5.101193 ,  1.3901292,  2.319191 ,  1.390357 ], dtype=float32),\n",
       " DeviceArray(-0.3729442, dtype=float32),\n",
       " DeviceArray(-0.37294447, dtype=float32),\n",
       " DeviceArray(-0.37294444, dtype=float32))"
      ]
     },
     "execution_count": 123,
     "metadata": {},
     "output_type": "execute_result"
    }
   ],
   "source": [
    "dotprod[0,0], dotprod2[0,0], quad[0,0], quad2[0,0], quad3[0,0]"
   ]
  },
  {
   "cell_type": "code",
   "execution_count": 55,
   "metadata": {},
   "outputs": [],
   "source": [
    "inla_obj = inla.INLA(conditional_vmap, grad_hess_vmap, sig2_rule, narms)"
   ]
  },
  {
   "cell_type": "code",
   "execution_count": 56,
   "metadata": {},
   "outputs": [],
   "source": [
    "theta_max, hess, iters = inla_obj.optimize_loop(data, sig2_rule.pts, 1e-3)\n",
    "post = inla_obj.posterior(theta_max, hess, sig2_rule.pts, sig2_rule.wts, data)"
   ]
  },
  {
   "cell_type": "code",
   "execution_count": 58,
   "metadata": {},
   "outputs": [
    {
     "name": "stdout",
     "output_type": "stream",
     "text": [
      "31.4 ms ± 444 µs per loop (mean ± std. dev. of 5 runs, 20 loops each)\n"
     ]
    }
   ],
   "source": [
    "%%timeit -n 20 -r 5\n",
    "theta_max, hess, iters = inla_obj.optimize_loop(data, sig2_rule.pts, 1e-3)\n",
    "post = inla_obj.posterior(theta_max, hess, sig2_rule.pts, sig2_rule.wts, data)"
   ]
  },
  {
   "cell_type": "code",
   "execution_count": null,
   "metadata": {},
   "outputs": [],
   "source": []
  }
 ],
 "metadata": {
  "kernelspec": {
   "display_name": "Python 3.10.5 ('imprint')",
   "language": "python",
   "name": "python3"
  },
  "language_info": {
   "codemirror_mode": {
    "name": "ipython",
    "version": 3
   },
   "file_extension": ".py",
   "mimetype": "text/x-python",
   "name": "python",
   "nbconvert_exporter": "python",
   "pygments_lexer": "ipython3",
   "version": "3.10.5"
  },
  "orig_nbformat": 4,
  "vscode": {
   "interpreter": {
    "hash": "1234d0467017a186db2b9a06faf936c59bc87b507f01580220987604bcb2f4bc"
   }
  }
 },
 "nbformat": 4,
 "nbformat_minor": 2
}
