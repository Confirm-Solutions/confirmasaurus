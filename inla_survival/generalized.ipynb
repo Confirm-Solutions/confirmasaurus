{
 "cells": [
  {
   "cell_type": "code",
   "execution_count": 1,
   "metadata": {},
   "outputs": [],
   "source": [
    "import sys\n",
    "sys.path.append('../imprint/research/berry/')\n",
    "import berrylib.util as util\n",
    "util.setup_nb()"
   ]
  },
  {
   "cell_type": "code",
   "execution_count": 2,
   "metadata": {},
   "outputs": [
    {
     "name": "stderr",
     "output_type": "stream",
     "text": [
      "/Users/tbent/.mambaforge/envs/imprint/lib/python3.10/site-packages/jax/_src/lib/__init__.py:33: UserWarning: JAX on Mac ARM machines is experimental and minimally tested. Please see https://github.com/google/jax/issues/5501 in the event of problems.\n",
      "  warnings.warn(\"JAX on Mac ARM machines is experimental and minimally tested. \"\n",
      "/Users/tbent/.mambaforge/envs/imprint/lib/python3.10/site-packages/tqdm/auto.py:22: TqdmWarning: IProgress not found. Please update jupyter and ipywidgets. See https://ipywidgets.readthedocs.io/en/stable/user_install.html\n",
      "  from .autonotebook import tqdm as notebook_tqdm\n"
     ]
    }
   ],
   "source": [
    "import jax\n",
    "import jax.numpy as jnp\n",
    "import numpy as np\n",
    "import time\n",
    "import numpyro\n",
    "import numpyro.distributions as dist\n",
    "import scipy.stats\n",
    "import matplotlib.pyplot as plt\n",
    "from scipy.special import logit, expit\n",
    "\n",
    "import inla"
   ]
  },
  {
   "cell_type": "code",
   "execution_count": 3,
   "metadata": {},
   "outputs": [],
   "source": [
    "narms = 4\n",
    "mu_0 = -1.34\n",
    "mu_sig2 = 100.0\n",
    "sig2_alpha = 0.0005\n",
    "sig2_beta = 0.000005\n",
    "logit_p1 = -1.0\n",
    "def model(data):\n",
    "    sig2 = numpyro.sample(\"sig2\", dist.InverseGamma(sig2_alpha, sig2_beta))\n",
    "    cov = jnp.full((narms, narms), mu_sig2) + jnp.diag(jnp.repeat(sig2, narms))\n",
    "    theta = numpyro.sample(\n",
    "        \"theta\",\n",
    "        dist.MultivariateNormal(mu_0, cov),\n",
    "    )\n",
    "    numpyro.sample(\n",
    "        \"y\",\n",
    "        dist.BinomialLogits(theta + logit_p1, total_count=data[:,1]),\n",
    "        obs=data[:, 0],\n",
    "    )"
   ]
  },
  {
   "cell_type": "code",
   "execution_count": 5,
   "metadata": {},
   "outputs": [],
   "source": [
    "\n",
    "import numpyro.handlers as handlers\n",
    "data = np.array([[7,35], [6.0,35], [5,35], [4,35]])\n",
    "params = dict(\n",
    "    sig2 = 10.0,\n",
    "    theta = np.array([0.0,0.0,0,0]),\n",
    ")"
   ]
  },
  {
   "cell_type": "code",
   "execution_count": 9,
   "metadata": {},
   "outputs": [
    {
     "data": {
      "text/plain": [
       "DeviceArray(-32.57559, dtype=float32)"
      ]
     },
     "execution_count": 9,
     "metadata": {},
     "output_type": "execute_result"
    }
   ],
   "source": [
    "data = np.array([[7,35], [6.0,35], [5,35], [4,35]])\n",
    "params = dict(\n",
    "    sig2 = 11.0,\n",
    "    theta = np.array([0.0,0.0,0,0]),\n",
    ")\n",
    "ll_fnc = inla.build_log_likelihood(model)\n",
    "ll_fnc(params, data)"
   ]
  },
  {
   "cell_type": "code",
   "execution_count": 13,
   "metadata": {},
   "outputs": [],
   "source": [
    "def pin(ll_fnc, pinned_params):\n",
    "    def wrapped(params, data):\n",
    "        for k in pinned_params:\n",
    "            if isinstance(pinned_params[k], np.ndarray):\n",
    "                params[k] = jnp.where(\n",
    "                    jnp.isnan(pinned_params[k]),\n",
    "                    params[k],\n",
    "                    pinned_params[k]\n",
    "                )\n",
    "            else:\n",
    "                params[k] = pinned_params[k]\n",
    "        return ll_fnc(params, data)\n",
    "    return wrapped"
   ]
  },
  {
   "cell_type": "code",
   "execution_count": 15,
   "metadata": {},
   "outputs": [
    {
     "data": {
      "text/plain": [
       "DeviceArray(-32.57559, dtype=float32)"
      ]
     },
     "execution_count": 15,
     "metadata": {},
     "output_type": "execute_result"
    }
   ],
   "source": [
    "pin(ll_fnc, dict(sig2 = 11.0))(dict(theta = np.array([0,0,0,0])), data)"
   ]
  },
  {
   "cell_type": "code",
   "execution_count": 18,
   "metadata": {},
   "outputs": [
    {
     "data": {
      "text/plain": [
       "DeviceArray(-32.57559, dtype=float32)"
      ]
     },
     "execution_count": 18,
     "metadata": {},
     "output_type": "execute_result"
    }
   ],
   "source": [
    "pin(ll_fnc, dict(theta=np.array([np.nan, np.nan, 0, np.nan])))(\n",
    "    dict(sig2=11.0, theta=np.array([0, 0, 11, 0])), data\n",
    ")\n"
   ]
  },
  {
   "cell_type": "code",
   "execution_count": 28,
   "metadata": {},
   "outputs": [
    {
     "data": {
      "text/plain": [
       "OrderedDict([('sig2',\n",
       "              {'type': 'sample',\n",
       "               'name': 'sig2',\n",
       "               'fn': <numpyro.distributions.continuous.InverseGamma at 0x1699785b0>,\n",
       "               'args': (),\n",
       "               'kwargs': {'rng_key': DeviceArray([1231749211, 3783122137], dtype=uint32),\n",
       "                'sample_shape': ()},\n",
       "               'value': 10.0,\n",
       "               'scale': None,\n",
       "               'is_observed': False,\n",
       "               'intermediates': [],\n",
       "               'cond_indep_stack': [],\n",
       "               'infer': {}}),\n",
       "             ('theta',\n",
       "              {'type': 'sample',\n",
       "               'name': 'theta',\n",
       "               'fn': <numpyro.distributions.continuous.MultivariateNormal at 0x169c36c50>,\n",
       "               'args': (),\n",
       "               'kwargs': {'rng_key': DeviceArray([ 495575879, 1500538108], dtype=uint32),\n",
       "                'sample_shape': ()},\n",
       "               'value': array([0., 0., 0., 0.]),\n",
       "               'scale': None,\n",
       "               'is_observed': False,\n",
       "               'intermediates': [],\n",
       "               'cond_indep_stack': [],\n",
       "               'infer': {}}),\n",
       "             ('y',\n",
       "              {'type': 'sample',\n",
       "               'name': 'y',\n",
       "               'fn': <numpyro.distributions.discrete.BinomialLogits at 0x169c368c0>,\n",
       "               'args': (),\n",
       "               'kwargs': {'rng_key': None, 'sample_shape': ()},\n",
       "               'value': array([7., 6., 5., 4.]),\n",
       "               'scale': None,\n",
       "               'is_observed': True,\n",
       "               'intermediates': [],\n",
       "               'cond_indep_stack': [],\n",
       "               'infer': {}})])"
      ]
     },
     "execution_count": 28,
     "metadata": {},
     "output_type": "execute_result"
    }
   ],
   "source": [
    "\n",
    "handlers.trace(ll_fnc).get_trace(params, data)"
   ]
  },
  {
   "cell_type": "code",
   "execution_count": 8,
   "metadata": {},
   "outputs": [],
   "source": [
    "sig2_rule = util.log_gauss_rule(15, 1e-2, 1e2)"
   ]
  },
  {
   "cell_type": "code",
   "execution_count": 133,
   "metadata": {},
   "outputs": [],
   "source": [
    "def conditional(theta, sig2, data):\n",
    "    params = dict(theta=theta, sig2=sig2)\n",
    "    return ll_fnc(params, data)\n",
    "\n",
    "\n",
    "def grad_hess(theta, sig2, data):\n",
    "    grad = jax.grad(conditional)(theta, sig2, data)\n",
    "    hess = jax.hessian(conditional)(theta, sig2, data)\n",
    "    return grad, hess\n",
    "\n",
    "\n",
    "grad_hess_vmap = jax.jit(\n",
    "    jax.vmap(jax.vmap(grad_hess, in_axes=(0, 0, None)), in_axes=(0, None, 0))\n",
    ")\n",
    "conditional_vmap = jax.jit(\n",
    "    jax.vmap(jax.vmap(conditional, in_axes=(0, 0, None)), in_axes=(0, None, 0))\n",
    ")\n",
    "\n",
    "n_arms = narms\n",
    "sigma2_n = sig2_rule.pts.shape[0]\n",
    "arms = np.arange(n_arms)\n",
    "cov = np.full((sigma2_n, n_arms, n_arms), mu_sig2)\n",
    "cov[:, arms, arms] += sig2_rule.pts[:, None]\n",
    "neg_precQ = -np.linalg.inv(cov)\n",
    "\n",
    "neg_precQ_b = neg_precQ[:, 0, 1]\n",
    "neg_precQ_a = neg_precQ[:, 0, 0] - neg_precQ_b\n",
    "\n",
    "logprecQdet = 0.5 * jnp.log(jnp.linalg.det(-neg_precQ))\n",
    "log_prior = jnp.array(\n",
    "    scipy.stats.invgamma.logpdf(sig2_rule.pts, sig2_alpha, scale=sig2_beta)\n",
    ")\n",
    "const = log_prior + logprecQdet\n",
    "na = jnp.arange(narms)\n",
    "\n",
    "def conditional(theta, sig2, data):\n",
    "    y = data[..., 0]\n",
    "    n = data[..., 1]\n",
    "    theta_m0 = theta - mu_0\n",
    "    theta_adj = theta + logit_p1\n",
    "    exp_theta_adj = jnp.exp(theta_adj)\n",
    "    quad = jnp.sum(\n",
    "        theta_m0\n",
    "        * ((theta_m0.sum(axis=-1) * neg_precQ_b)[..., None] + theta_m0 * neg_precQ_a),\n",
    "        axis=-1,\n",
    "    )\n",
    "    return (\n",
    "        0.5 * quad\n",
    "        + jnp.sum(\n",
    "            theta_adj * y[:, None] - n[:, None] * jnp.log(exp_theta_adj + 1),\n",
    "            axis=-1,\n",
    "        )\n",
    "        + const\n",
    "    )\n",
    "\n",
    "\n",
    "def grad_hess(theta, _, data):\n",
    "    y = data[..., 0]\n",
    "    n = data[..., 1]\n",
    "    theta_m0 = theta - mu_0\n",
    "    exp_theta_adj = jnp.exp(theta + logit_p1)\n",
    "    C = 1.0 / (exp_theta_adj + 1)\n",
    "    nCeta = n[:, None] * C * exp_theta_adj\n",
    "    grad = (\n",
    "        jnp.matmul(neg_precQ[None], theta_m0[:, :, :, None])[..., 0]\n",
    "        + y[:, None]\n",
    "        - nCeta\n",
    "    )\n",
    "    hess = neg_precQ[None] - ((nCeta * C)[:, :, None, :] * jnp.eye(narms))\n",
    "    return grad, hess\n",
    "\n",
    "\n",
    "grad_hess_vmap = jax.jit(grad_hess)\n",
    "conditional_vmap = jax.jit(conditional)\n"
   ]
  },
  {
   "cell_type": "code",
   "execution_count": 52,
   "metadata": {},
   "outputs": [],
   "source": [
    "# for N in 2 ** np.arange(4, 20, 2):\n",
    "#     y = scipy.stats.binom.rvs(35, 0.3, size=(N, 3))\n",
    "#     n = np.full_like(y, 35)\n",
    "#     data = np.stack((y, n), axis=-1)\n",
    "#     theta = np.random.rand(N, sig2_rule.pts.shape[0], 3)\n",
    "#     for i in range(3):\n",
    "#         start = time.time()\n",
    "#         grad, hess = grad_hess_vmap(theta, sig2_rule.pts, data)\n",
    "#         Gt = grad.block_until_ready()\n",
    "#         Ht = hess.block_until_ready()\n",
    "#         end = time.time()\n",
    "#     print(f'{N} iters, {(end - start) / N * 1e6:.3f} us per sample, {end - start:.2f}s total')"
   ]
  },
  {
   "cell_type": "code",
   "execution_count": 53,
   "metadata": {},
   "outputs": [],
   "source": [
    "N = 10000\n",
    "y = scipy.stats.binom.rvs(35, 0.3, size=(N, narms))\n",
    "n = np.full_like(y, 35)\n",
    "data = np.stack((y, n), axis=-1)"
   ]
  },
  {
   "cell_type": "code",
   "execution_count": 130,
   "metadata": {},
   "outputs": [],
   "source": [
    "b = neg_precQ[0,0,1]\n",
    "a = neg_precQ[0,0,0] - b"
   ]
  },
  {
   "cell_type": "code",
   "execution_count": 131,
   "metadata": {},
   "outputs": [],
   "source": [
    "@jax.jit\n",
    "def quad(theta_max, a, b):\n",
    "    dotprod = ((theta_max.sum(axis=-1) * b)[..., None] + theta_max * a)\n",
    "    quad = jnp.sum(theta_max * dotprod, axis=-1)\n",
    "    return quad"
   ]
  },
  {
   "cell_type": "code",
   "execution_count": 132,
   "metadata": {},
   "outputs": [
    {
     "name": "stdout",
     "output_type": "stream",
     "text": [
      "126 µs ± 1.56 µs per loop (mean ± std. dev. of 7 runs, 10,000 loops each)\n"
     ]
    }
   ],
   "source": [
    "%%timeit\n",
    "quad(theta_max, a, b).block_until_ready()"
   ]
  },
  {
   "cell_type": "code",
   "execution_count": 129,
   "metadata": {},
   "outputs": [
    {
     "data": {
      "text/plain": [
       "DeviceArray(-0.37294438, dtype=float32)"
      ]
     },
     "execution_count": 129,
     "metadata": {},
     "output_type": "execute_result"
    }
   ],
   "source": [
    "quad(theta_max, a, b)[0,0]"
   ]
  },
  {
   "cell_type": "code",
   "execution_count": 122,
   "metadata": {},
   "outputs": [],
   "source": [
    "dotprod2 = jnp.einsum(\"...ij,...j\", neg_precQ, theta_max)\n",
    "quad2 = jnp.einsum(\"...i,...ij,...j\", theta_max, neg_precQ, theta_max)\n",
    "quad3 = np.sum(theta_max * dotprod2, axis=-1)"
   ]
  },
  {
   "cell_type": "code",
   "execution_count": 123,
   "metadata": {},
   "outputs": [
    {
     "data": {
      "text/plain": [
       "(DeviceArray([-5.1011925,  1.39013  ,  2.319191 ,  1.390357 ], dtype=float32),\n",
       " DeviceArray([-5.101193 ,  1.3901292,  2.319191 ,  1.390357 ], dtype=float32),\n",
       " DeviceArray(-0.3729442, dtype=float32),\n",
       " DeviceArray(-0.37294447, dtype=float32),\n",
       " DeviceArray(-0.37294444, dtype=float32))"
      ]
     },
     "execution_count": 123,
     "metadata": {},
     "output_type": "execute_result"
    }
   ],
   "source": [
    "dotprod[0,0], dotprod2[0,0], quad[0,0], quad2[0,0], quad3[0,0]"
   ]
  },
  {
   "cell_type": "code",
   "execution_count": 55,
   "metadata": {},
   "outputs": [],
   "source": [
    "inla_obj = inla.INLA(conditional_vmap, grad_hess_vmap, sig2_rule, narms)"
   ]
  },
  {
   "cell_type": "code",
   "execution_count": 56,
   "metadata": {},
   "outputs": [],
   "source": [
    "theta_max, hess, iters = inla_obj.optimize_loop(data, sig2_rule.pts, 1e-3)\n",
    "post = inla_obj.posterior(theta_max, hess, sig2_rule.pts, sig2_rule.wts, data)"
   ]
  },
  {
   "cell_type": "code",
   "execution_count": 58,
   "metadata": {},
   "outputs": [
    {
     "name": "stdout",
     "output_type": "stream",
     "text": [
      "31.4 ms ± 444 µs per loop (mean ± std. dev. of 5 runs, 20 loops each)\n"
     ]
    }
   ],
   "source": [
    "%%timeit -n 20 -r 5\n",
    "theta_max, hess, iters = inla_obj.optimize_loop(data, sig2_rule.pts, 1e-3)\n",
    "post = inla_obj.posterior(theta_max, hess, sig2_rule.pts, sig2_rule.wts, data)"
   ]
  },
  {
   "cell_type": "code",
   "execution_count": null,
   "metadata": {},
   "outputs": [],
   "source": []
  }
 ],
 "metadata": {
  "kernelspec": {
   "display_name": "Python 3.10.5 ('imprint')",
   "language": "python",
   "name": "python3"
  },
  "language_info": {
   "codemirror_mode": {
    "name": "ipython",
    "version": 3
   },
   "file_extension": ".py",
   "mimetype": "text/x-python",
   "name": "python",
   "nbconvert_exporter": "python",
   "pygments_lexer": "ipython3",
   "version": "3.10.5"
  },
  "orig_nbformat": 4,
  "vscode": {
   "interpreter": {
    "hash": "1234d0467017a186db2b9a06faf936c59bc87b507f01580220987604bcb2f4bc"
   }
  }
 },
 "nbformat": 4,
 "nbformat_minor": 2
}
