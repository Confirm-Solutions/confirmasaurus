{
 "cells": [
  {
   "cell_type": "code",
   "execution_count": 1,
   "metadata": {},
   "outputs": [],
   "source": [
    "import os\n",
    "os.environ['JAX_CHECK_TRACER_LEAKS']='1'\n",
    "import sys\n",
    "sys.path.append('../imprint/research/berry/')\n",
    "import berrylib.util as util\n",
    "util.setup_nb()"
   ]
  },
  {
   "cell_type": "code",
   "execution_count": 27,
   "metadata": {},
   "outputs": [],
   "source": [
    "import jax\n",
    "import jax.numpy as jnp\n",
    "import numpy as np\n",
    "import time\n",
    "import numpyro\n",
    "import numpyro.distributions as dist\n",
    "import numpyro.handlers as handlers\n",
    "import scipy.stats\n",
    "import matplotlib.pyplot as plt\n",
    "from scipy.special import logit, expit\n",
    "\n",
    "import inla"
   ]
  },
  {
   "cell_type": "code",
   "execution_count": 3,
   "metadata": {},
   "outputs": [],
   "source": [
    "narms = 4\n",
    "mu_0 = -1.34\n",
    "mu_sig2 = 100.0\n",
    "sig2_alpha = 0.0005\n",
    "sig2_beta = 0.000005\n",
    "logit_p1 = -1.0\n",
    "def model(data):\n",
    "    sig2 = numpyro.sample(\"sig2\", dist.InverseGamma(sig2_alpha, sig2_beta))\n",
    "    cov = jnp.full((narms, narms), mu_sig2) + jnp.diag(jnp.repeat(sig2, narms))\n",
    "    theta = numpyro.sample(\n",
    "        \"theta\",\n",
    "        dist.MultivariateNormal(mu_0, cov),\n",
    "    )\n",
    "    numpyro.sample(\n",
    "        \"y\",\n",
    "        dist.BinomialLogits(theta + logit_p1, total_count=data[:,1]),\n",
    "        obs=data[:, 0],\n",
    "    )"
   ]
  },
  {
   "cell_type": "code",
   "execution_count": 5,
   "metadata": {},
   "outputs": [
    {
     "data": {
      "text/plain": [
       "DeviceArray(-32.336067, dtype=float32)"
      ]
     },
     "execution_count": 5,
     "metadata": {},
     "output_type": "execute_result"
    }
   ],
   "source": [
    "data = np.array([[7, 35], [6.0, 35], [5, 35], [4, 35]])\n",
    "params = dict(\n",
    "    sig2=10.0,\n",
    "    theta=np.array([0.0, 0.0, 0, 0]),\n",
    ")\n",
    "ll_fnc, ravel_f, unravel_f = inla.build_raw_log_likelihood(\n",
    "    model, dict(sig2=np.nan, theta=np.full(4, np.nan))\n",
    ")\n",
    "ll_fnc(ravel_f(params), np.full(5, np.nan), data)\n"
   ]
  },
  {
   "cell_type": "code",
   "execution_count": 6,
   "metadata": {},
   "outputs": [],
   "source": [
    "sig2_rule = util.log_gauss_rule(15, 1e-2, 1e2)"
   ]
  },
  {
   "cell_type": "code",
   "execution_count": 7,
   "metadata": {},
   "outputs": [
    {
     "data": {
      "text/plain": [
       "DeviceArray([[ 2.5007863e-02,  7.9713209e-06,  7.9716556e-06,  7.9714810e-06,  7.9714519e-06],\n",
       "             [ 7.9711317e-06, -6.9570279e+00,  2.4390262e-02,  2.4390247e-02,  2.4390250e-02],\n",
       "             [ 7.9716556e-06,  2.4390258e-02, -6.9570279e+00,  2.4390256e-02,  2.4390252e-02],\n",
       "             [ 7.9714955e-06,  2.4390241e-02,  2.4390258e-02, -6.9570279e+00,  2.4390236e-02],\n",
       "             [ 7.9714664e-06,  2.4390245e-02,  2.4390254e-02,  2.4390237e-02, -6.9570279e+00]],            dtype=float32)"
      ]
     },
     "execution_count": 7,
     "metadata": {},
     "output_type": "execute_result"
    }
   ],
   "source": [
    "grad, hess = inla.build_grad_hess(ll_fnc)(\n",
    "    ravel_f(params), np.full(5, np.nan), data\n",
    ")\n",
    "hess"
   ]
  },
  {
   "cell_type": "code",
   "execution_count": 24,
   "metadata": {},
   "outputs": [],
   "source": [
    "param_fixed = dict(\n",
    "    sig2 = 10.0,\n",
    "    theta = np.array([np.nan,np.nan,np.nan,np.nan]),\n",
    ")\n",
    "ll_fnc, ravel_f, unravel_f = inla.build_raw_log_likelihood(model, param_fixed)\n",
    "array_fixed = ravel_f(param_fixed)\n",
    "grad_hess_f = inla.build_grad_hess(ll_fnc)\n",
    "grad_hess_vmap = jax.jit(\n",
    "    jax.vmap(jax.vmap(grad_hess_f, in_axes=(0, 0, None)), in_axes=(0, None, 0))\n",
    ")"
   ]
  },
  {
   "cell_type": "code",
   "execution_count": 21,
   "metadata": {},
   "outputs": [
    {
     "data": {
      "text/plain": [
       "{'sig2': DeviceArray(0, dtype=int32), 'theta': DeviceArray(1, dtype=int32)}"
      ]
     },
     "execution_count": 21,
     "metadata": {},
     "output_type": "execute_result"
    }
   ],
   "source": [
    "\n",
    "jax.tree_util.tree_map(lambda x: jnp.any(jnp.isnan(x)).astype(int), param_fixed)"
   ]
  },
  {
   "cell_type": "code",
   "execution_count": 25,
   "metadata": {},
   "outputs": [
    {
     "data": {
      "text/plain": [
       "(DeviceArray([[[ 0.       , -2.4162188, -3.4162188, -4.4162188, -5.4162188]]], dtype=float32),\n",
       " DeviceArray([[[[ 0.        ,  0.        ,  0.        ,  0.        ,  0.        ],\n",
       "                [ 0.        , -6.9570274 ,  0.02439025,  0.02439025,  0.02439025],\n",
       "                [ 0.        ,  0.02439025, -6.9570274 ,  0.02439025,  0.02439025],\n",
       "                [ 0.        ,  0.02439025,  0.02439025, -6.9570274 ,  0.02439024],\n",
       "                [ 0.        ,  0.02439025,  0.02439025,  0.02439024, -6.9570274 ]]]], dtype=float32))"
      ]
     },
     "execution_count": 25,
     "metadata": {},
     "output_type": "execute_result"
    }
   ],
   "source": [
    "\n",
    "grad, hess = grad_hess_vmap(ravel_f(params)[None,None,:], array_fixed[None], data[None])\n",
    "grad, hess"
   ]
  },
  {
   "cell_type": "code",
   "execution_count": null,
   "metadata": {},
   "outputs": [],
   "source": [
    "seeded_model = handlers.seed(model, jax.random.PRNGKey(10))\n",
    "subs_model = handlers.substitute(seeded_model, dict(sig2=sig2, theta=theta))\n",
    "trace = handlers.trace(subs_model).get_trace(data)"
   ]
  },
  {
   "cell_type": "code",
   "execution_count": 26,
   "metadata": {},
   "outputs": [
    {
     "name": "stdout",
     "output_type": "stream",
     "text": [
      "16 iters, 51.633 us per sample, 0.00s total\n",
      "64 iters, 47.501 us per sample, 0.00s total\n"
     ]
    },
    {
     "ename": "KeyboardInterrupt",
     "evalue": "",
     "output_type": "error",
     "traceback": [
      "\u001b[0;31m---------------------------------------------------------------------------\u001b[0m",
      "\u001b[0;31mKeyboardInterrupt\u001b[0m                         Traceback (most recent call last)",
      "\u001b[1;32m/Users/tbent/Dropbox/active/confirm/research/inla_survival/generalized.ipynb Cell 10'\u001b[0m in \u001b[0;36m<cell line: 1>\u001b[0;34m()\u001b[0m\n\u001b[1;32m      <a href='vscode-notebook-cell:/Users/tbent/Dropbox/active/confirm/research/inla_survival/generalized.ipynb#ch0000037?line=7'>8</a>\u001b[0m \u001b[39mfor\u001b[39;00m i \u001b[39min\u001b[39;00m \u001b[39mrange\u001b[39m(\u001b[39m3\u001b[39m):\n\u001b[1;32m      <a href='vscode-notebook-cell:/Users/tbent/Dropbox/active/confirm/research/inla_survival/generalized.ipynb#ch0000037?line=8'>9</a>\u001b[0m     start \u001b[39m=\u001b[39m time\u001b[39m.\u001b[39mtime()\n\u001b[0;32m---> <a href='vscode-notebook-cell:/Users/tbent/Dropbox/active/confirm/research/inla_survival/generalized.ipynb#ch0000037?line=9'>10</a>\u001b[0m     grad, hess \u001b[39m=\u001b[39m grad_hess_vmap(T, S, D)\n\u001b[1;32m     <a href='vscode-notebook-cell:/Users/tbent/Dropbox/active/confirm/research/inla_survival/generalized.ipynb#ch0000037?line=10'>11</a>\u001b[0m     \u001b[39m# grad.block_until_ready().shape\u001b[39;00m\n\u001b[1;32m     <a href='vscode-notebook-cell:/Users/tbent/Dropbox/active/confirm/research/inla_survival/generalized.ipynb#ch0000037?line=11'>12</a>\u001b[0m     \u001b[39m# hess.block_until_ready().shape\u001b[39;00m\n\u001b[1;32m     <a href='vscode-notebook-cell:/Users/tbent/Dropbox/active/confirm/research/inla_survival/generalized.ipynb#ch0000037?line=12'>13</a>\u001b[0m     \u001b[39m# hess['sig2']['sig2'].block_until_ready()\u001b[39;00m\n\u001b[1;32m     <a href='vscode-notebook-cell:/Users/tbent/Dropbox/active/confirm/research/inla_survival/generalized.ipynb#ch0000037?line=13'>14</a>\u001b[0m     hess\u001b[39m.\u001b[39mblock_until_ready()\n",
      "    \u001b[0;31m[... skipping hidden 1 frame]\u001b[0m\n",
      "File \u001b[0;32m~/.mambaforge/envs/imprint/lib/python3.10/site-packages/jax/_src/api.py:466\u001b[0m, in \u001b[0;36m_cpp_jit.<locals>.cache_miss\u001b[0;34m(*args, **kwargs)\u001b[0m\n\u001b[1;32m    464\u001b[0m   in_type \u001b[39m=\u001b[39m pe\u001b[39m.\u001b[39minfer_lambda_input_type(\u001b[39mNone\u001b[39;00m, args_flat)\n\u001b[1;32m    465\u001b[0m   flat_fun \u001b[39m=\u001b[39m lu\u001b[39m.\u001b[39mannotate(flat_fun, in_type)\n\u001b[0;32m--> 466\u001b[0m out_flat \u001b[39m=\u001b[39m xla\u001b[39m.\u001b[39;49mxla_call(\n\u001b[1;32m    467\u001b[0m     flat_fun, \u001b[39m*\u001b[39;49margs_flat,\n\u001b[1;32m    468\u001b[0m     device\u001b[39m=\u001b[39;49mdevice, backend\u001b[39m=\u001b[39;49mbackend, name\u001b[39m=\u001b[39;49mflat_fun\u001b[39m.\u001b[39;49m\u001b[39m__name__\u001b[39;49m,\n\u001b[1;32m    469\u001b[0m     donated_invars\u001b[39m=\u001b[39;49mdonated_invars, inline\u001b[39m=\u001b[39;49minline)\n\u001b[1;32m    470\u001b[0m out_pytree_def \u001b[39m=\u001b[39m out_tree()\n\u001b[1;32m    471\u001b[0m out \u001b[39m=\u001b[39m tree_unflatten(out_pytree_def, out_flat)\n",
      "File \u001b[0;32m~/.mambaforge/envs/imprint/lib/python3.10/site-packages/jax/core.py:1771\u001b[0m, in \u001b[0;36mCallPrimitive.bind\u001b[0;34m(self, fun, *args, **params)\u001b[0m\n\u001b[1;32m   1770\u001b[0m \u001b[39mdef\u001b[39;00m \u001b[39mbind\u001b[39m(\u001b[39mself\u001b[39m, fun, \u001b[39m*\u001b[39margs, \u001b[39m*\u001b[39m\u001b[39m*\u001b[39mparams):\n\u001b[0;32m-> 1771\u001b[0m   \u001b[39mreturn\u001b[39;00m call_bind(\u001b[39mself\u001b[39;49m, fun, \u001b[39m*\u001b[39;49margs, \u001b[39m*\u001b[39;49m\u001b[39m*\u001b[39;49mparams)\n",
      "File \u001b[0;32m~/.mambaforge/envs/imprint/lib/python3.10/site-packages/jax/core.py:1787\u001b[0m, in \u001b[0;36mcall_bind\u001b[0;34m(primitive, fun, *args, **params)\u001b[0m\n\u001b[1;32m   1785\u001b[0m tracers \u001b[39m=\u001b[39m \u001b[39mmap\u001b[39m(top_trace\u001b[39m.\u001b[39mfull_raise, args)\n\u001b[1;32m   1786\u001b[0m fun_ \u001b[39m=\u001b[39m lu\u001b[39m.\u001b[39mannotate(fun_, fun\u001b[39m.\u001b[39min_type)\n\u001b[0;32m-> 1787\u001b[0m outs \u001b[39m=\u001b[39m top_trace\u001b[39m.\u001b[39;49mprocess_call(primitive, fun_, tracers, params)\n\u001b[1;32m   1788\u001b[0m \u001b[39mreturn\u001b[39;00m \u001b[39mmap\u001b[39m(full_lower, apply_todos(env_trace_todo(), outs))\n",
      "File \u001b[0;32m~/.mambaforge/envs/imprint/lib/python3.10/site-packages/jax/core.py:660\u001b[0m, in \u001b[0;36mEvalTrace.process_call\u001b[0;34m(self, primitive, f, tracers, params)\u001b[0m\n\u001b[1;32m    659\u001b[0m \u001b[39mdef\u001b[39;00m \u001b[39mprocess_call\u001b[39m(\u001b[39mself\u001b[39m, primitive, f, tracers, params):\n\u001b[0;32m--> 660\u001b[0m   \u001b[39mreturn\u001b[39;00m primitive\u001b[39m.\u001b[39;49mimpl(f, \u001b[39m*\u001b[39;49mtracers, \u001b[39m*\u001b[39;49m\u001b[39m*\u001b[39;49mparams)\n",
      "File \u001b[0;32m~/.mambaforge/envs/imprint/lib/python3.10/site-packages/jax/_src/dispatch.py:149\u001b[0m, in \u001b[0;36m_xla_call_impl\u001b[0;34m(***failed resolving arguments***)\u001b[0m\n\u001b[1;32m    147\u001b[0m \u001b[39mif\u001b[39;00m fun\u001b[39m.\u001b[39min_type \u001b[39mis\u001b[39;00m \u001b[39mnot\u001b[39;00m \u001b[39mNone\u001b[39;00m:\n\u001b[1;32m    148\u001b[0m   arg_specs \u001b[39m=\u001b[39m [(\u001b[39mNone\u001b[39;00m, \u001b[39m*\u001b[39mxs) \u001b[39mfor\u001b[39;00m _, \u001b[39m*\u001b[39mxs \u001b[39min\u001b[39;00m arg_specs]\n\u001b[0;32m--> 149\u001b[0m compiled_fun \u001b[39m=\u001b[39m _xla_callable(fun, device, backend, name, donated_invars,\n\u001b[1;32m    150\u001b[0m                              \u001b[39m*\u001b[39;49marg_specs)\n\u001b[1;32m    151\u001b[0m \u001b[39mtry\u001b[39;00m:\n\u001b[1;32m    152\u001b[0m   \u001b[39mreturn\u001b[39;00m compiled_fun(\u001b[39m*\u001b[39margs)\n",
      "File \u001b[0;32m~/.mambaforge/envs/imprint/lib/python3.10/site-packages/jax/linear_util.py:285\u001b[0m, in \u001b[0;36mcache.<locals>.memoized_fun\u001b[0;34m(fun, *args)\u001b[0m\n\u001b[1;32m    283\u001b[0m   fun\u001b[39m.\u001b[39mpopulate_stores(stores)\n\u001b[1;32m    284\u001b[0m \u001b[39melse\u001b[39;00m:\n\u001b[0;32m--> 285\u001b[0m   ans \u001b[39m=\u001b[39m call(fun, \u001b[39m*\u001b[39;49margs)\n\u001b[1;32m    286\u001b[0m   cache[key] \u001b[39m=\u001b[39m (ans, fun\u001b[39m.\u001b[39mstores)\n\u001b[1;32m    288\u001b[0m thread_local\u001b[39m.\u001b[39mmost_recent_entry \u001b[39m=\u001b[39m weakref\u001b[39m.\u001b[39mref(ans)\n",
      "File \u001b[0;32m~/.mambaforge/envs/imprint/lib/python3.10/site-packages/jax/_src/dispatch.py:198\u001b[0m, in \u001b[0;36m_xla_callable_uncached\u001b[0;34m(fun, device, backend, name, donated_invars, *arg_specs)\u001b[0m\n\u001b[1;32m    195\u001b[0m \u001b[39mdef\u001b[39;00m \u001b[39m_xla_callable_uncached\u001b[39m(fun: lu\u001b[39m.\u001b[39mWrappedFun, device, backend, name,\n\u001b[1;32m    196\u001b[0m                            donated_invars, \u001b[39m*\u001b[39marg_specs):\n\u001b[1;32m    197\u001b[0m   \u001b[39mreturn\u001b[39;00m lower_xla_callable(fun, device, backend, name, donated_invars,\n\u001b[0;32m--> 198\u001b[0m                             \u001b[39m*\u001b[39;49marg_specs)\u001b[39m.\u001b[39;49mcompile()\u001b[39m.\u001b[39munsafe_call\n",
      "File \u001b[0;32m~/.mambaforge/envs/imprint/lib/python3.10/site-packages/jax/_src/dispatch.py:641\u001b[0m, in \u001b[0;36mXlaComputation.compile\u001b[0;34m(self)\u001b[0m\n\u001b[1;32m    638\u001b[0m     \u001b[39mself\u001b[39m\u001b[39m.\u001b[39m_executable \u001b[39m=\u001b[39m XlaCompiledComputation\u001b[39m.\u001b[39mfrom_trivial_jaxpr(\n\u001b[1;32m    639\u001b[0m         \u001b[39m*\u001b[39m\u001b[39m*\u001b[39m\u001b[39mself\u001b[39m\u001b[39m.\u001b[39mcompile_args)\n\u001b[1;32m    640\u001b[0m   \u001b[39melse\u001b[39;00m:\n\u001b[0;32m--> 641\u001b[0m     \u001b[39mself\u001b[39m\u001b[39m.\u001b[39m_executable \u001b[39m=\u001b[39m XlaCompiledComputation\u001b[39m.\u001b[39;49mfrom_xla_computation(\n\u001b[1;32m    642\u001b[0m         \u001b[39mself\u001b[39;49m\u001b[39m.\u001b[39;49mname, \u001b[39mself\u001b[39;49m\u001b[39m.\u001b[39;49m_hlo, \u001b[39mself\u001b[39;49m\u001b[39m.\u001b[39;49m_explicit_args, \u001b[39m*\u001b[39;49m\u001b[39m*\u001b[39;49m\u001b[39mself\u001b[39;49m\u001b[39m.\u001b[39;49mcompile_args)\n\u001b[1;32m    644\u001b[0m \u001b[39mreturn\u001b[39;00m \u001b[39mself\u001b[39m\u001b[39m.\u001b[39m_executable\n",
      "File \u001b[0;32m~/.mambaforge/envs/imprint/lib/python3.10/site-packages/jax/_src/dispatch.py:728\u001b[0m, in \u001b[0;36mXlaCompiledComputation.from_xla_computation\u001b[0;34m(name, xla_computation, explicit_args, nreps, device, backend, tuple_args, in_avals, out_avals, kept_var_idx)\u001b[0m\n\u001b[1;32m    725\u001b[0m options\u001b[39m.\u001b[39mparameter_is_tupled_arguments \u001b[39m=\u001b[39m tuple_args\n\u001b[1;32m    726\u001b[0m \u001b[39mwith\u001b[39;00m log_elapsed_time(\u001b[39mf\u001b[39m\u001b[39m\"\u001b[39m\u001b[39mFinished XLA compilation of \u001b[39m\u001b[39m{\u001b[39;00mname\u001b[39m}\u001b[39;00m\u001b[39m \u001b[39m\u001b[39m\"\u001b[39m\n\u001b[1;32m    727\u001b[0m                       \u001b[39m\"\u001b[39m\u001b[39min \u001b[39m\u001b[39m{elapsed_time}\u001b[39;00m\u001b[39m sec\u001b[39m\u001b[39m\"\u001b[39m):\n\u001b[0;32m--> 728\u001b[0m   compiled \u001b[39m=\u001b[39m compile_or_get_cached(backend, xla_computation, options)\n\u001b[1;32m    729\u001b[0m buffer_counts \u001b[39m=\u001b[39m (\u001b[39mNone\u001b[39;00m \u001b[39mif\u001b[39;00m \u001b[39mlen\u001b[39m(out_avals) \u001b[39m==\u001b[39m \u001b[39m1\u001b[39m \u001b[39mand\u001b[39;00m \u001b[39mnot\u001b[39;00m config\u001b[39m.\u001b[39mjax_dynamic_shapes\n\u001b[1;32m    730\u001b[0m                  \u001b[39melse\u001b[39;00m [aval_to_num_buffers(aval) \u001b[39mfor\u001b[39;00m aval \u001b[39min\u001b[39;00m out_avals])\n\u001b[1;32m    731\u001b[0m execute \u001b[39m=\u001b[39m _execute_compiled \u001b[39mif\u001b[39;00m nreps \u001b[39m==\u001b[39m \u001b[39m1\u001b[39m \u001b[39melse\u001b[39;00m _execute_replicated\n",
      "File \u001b[0;32m~/.mambaforge/envs/imprint/lib/python3.10/site-packages/jax/_src/dispatch.py:696\u001b[0m, in \u001b[0;36mcompile_or_get_cached\u001b[0;34m(backend, computation, compile_options)\u001b[0m\n\u001b[1;32m    693\u001b[0m   ir_str \u001b[39m=\u001b[39m (computation \u001b[39mif\u001b[39;00m \u001b[39misinstance\u001b[39m(computation, \u001b[39mstr\u001b[39m)\n\u001b[1;32m    694\u001b[0m             \u001b[39melse\u001b[39;00m computation\u001b[39m.\u001b[39mas_hlo_text())\n\u001b[1;32m    695\u001b[0m   _dump_ir_to_file(module_name, ir_str)\n\u001b[0;32m--> 696\u001b[0m \u001b[39mreturn\u001b[39;00m backend_compile(backend, computation, compile_options)\n",
      "File \u001b[0;32m~/.mambaforge/envs/imprint/lib/python3.10/site-packages/jax/_src/profiler.py:206\u001b[0m, in \u001b[0;36mannotate_function.<locals>.wrapper\u001b[0;34m(*args, **kwargs)\u001b[0m\n\u001b[1;32m    203\u001b[0m \u001b[39m@wraps\u001b[39m(func)\n\u001b[1;32m    204\u001b[0m \u001b[39mdef\u001b[39;00m \u001b[39mwrapper\u001b[39m(\u001b[39m*\u001b[39margs, \u001b[39m*\u001b[39m\u001b[39m*\u001b[39mkwargs):\n\u001b[1;32m    205\u001b[0m   \u001b[39mwith\u001b[39;00m TraceAnnotation(name, \u001b[39m*\u001b[39m\u001b[39m*\u001b[39mdecorator_kwargs):\n\u001b[0;32m--> 206\u001b[0m     \u001b[39mreturn\u001b[39;00m func(\u001b[39m*\u001b[39;49margs, \u001b[39m*\u001b[39;49m\u001b[39m*\u001b[39;49mkwargs)\n\u001b[1;32m    207\u001b[0m   \u001b[39mreturn\u001b[39;00m wrapper\n",
      "File \u001b[0;32m~/.mambaforge/envs/imprint/lib/python3.10/site-packages/jax/_src/dispatch.py:650\u001b[0m, in \u001b[0;36mbackend_compile\u001b[0;34m(backend, built_c, options)\u001b[0m\n\u001b[1;32m    646\u001b[0m \u001b[39m@profiler\u001b[39m\u001b[39m.\u001b[39mannotate_function\n\u001b[1;32m    647\u001b[0m \u001b[39mdef\u001b[39;00m \u001b[39mbackend_compile\u001b[39m(backend, built_c, options):\n\u001b[1;32m    648\u001b[0m   \u001b[39m# we use a separate function call to ensure that XLA compilation appears\u001b[39;00m\n\u001b[1;32m    649\u001b[0m   \u001b[39m# separately in Python profiling results\u001b[39;00m\n\u001b[0;32m--> 650\u001b[0m   \u001b[39mreturn\u001b[39;00m backend\u001b[39m.\u001b[39;49mcompile(built_c, compile_options\u001b[39m=\u001b[39;49moptions)\n",
      "\u001b[0;31mKeyboardInterrupt\u001b[0m: "
     ]
    }
   ],
   "source": [
    "for N in 2 ** np.arange(4, 20, 2):\n",
    "    y = scipy.stats.binom.rvs(35, 0.3, size=(N, narms))\n",
    "    n = np.full_like(y, 35)\n",
    "    D = np.stack((y, n), axis=-1)\n",
    "    T = np.random.rand(N, sig2_rule.pts.shape[0], narms+1)\n",
    "    S = np.tile(sig2_rule.pts[:, None], (1, 5))\n",
    "    S[:,1:] = np.nan\n",
    "    for i in range(3):\n",
    "        start = time.time()\n",
    "        grad, hess = grad_hess_vmap(T, S, D)\n",
    "        # grad.block_until_ready().shape\n",
    "        # hess.block_until_ready().shape\n",
    "        # hess['sig2']['sig2'].block_until_ready()\n",
    "        hess.block_until_ready()\n",
    "        end = time.time()\n",
    "    print(\n",
    "        f\"{N} iters, {(end - start) / N * 1e6:.3f} us per sample, {end - start:.2f}s total\"\n",
    "    )\n"
   ]
  },
  {
   "cell_type": "code",
   "execution_count": 139,
   "metadata": {},
   "outputs": [
    {
     "name": "stdout",
     "output_type": "stream",
     "text": [
      "16 iters, 7.123 us per sample, 0.00s total\n",
      "64 iters, 14.998 us per sample, 0.00s total\n",
      "256 iters, 1.535 us per sample, 0.00s total\n",
      "1024 iters, 1.391 us per sample, 0.00s total\n",
      "4096 iters, 0.923 us per sample, 0.00s total\n",
      "16384 iters, 0.747 us per sample, 0.01s total\n",
      "65536 iters, 0.880 us per sample, 0.06s total\n",
      "262144 iters, 0.845 us per sample, 0.22s total\n"
     ]
    }
   ],
   "source": [
    "for N in 2 ** np.arange(4, 20, 2):\n",
    "    y = scipy.stats.binom.rvs(35, 0.3, size=(N, narms))\n",
    "    n = np.full_like(y, 35)\n",
    "    data = np.stack((y, n), axis=-1)\n",
    "    theta = np.random.rand(N, sig2_rule.pts.shape[0], narms)\n",
    "    for i in range(3):\n",
    "        start = time.time()\n",
    "        grad, hess = grad_hess_vmap(\n",
    "            dict(sig2=None, theta=theta),\n",
    "            dict(\n",
    "                sig2=sig2_rule.pts,\n",
    "                theta=np.tile(np.array([np.nan, np.nan, np.nan, 0])[None, :], (15, 1)),\n",
    "            ),\n",
    "            data,\n",
    "        )\n",
    "        # grad.block_until_ready().shape\n",
    "        # hess.block_until_ready().shape\n",
    "        # hess['sig2']['sig2'].block_until_ready()\n",
    "        hess[\"theta\"][\"theta\"].block_until_ready()\n",
    "        end = time.time()\n",
    "    print(\n",
    "        f\"{N} iters, {(end - start) / N * 1e6:.3f} us per sample, {end - start:.2f}s total\"\n",
    "    )\n"
   ]
  },
  {
   "cell_type": "code",
   "execution_count": 152,
   "metadata": {},
   "outputs": [
    {
     "data": {
      "text/plain": [
       "DeviceArray(-18.26399, dtype=float32)"
      ]
     },
     "execution_count": 152,
     "metadata": {},
     "output_type": "execute_result"
    }
   ],
   "source": [
    "jax.vmap(jax.vmap(ll_fnc, in_axes=(0, 0, None)), in_axes=(0, None, 0))(\n",
    "    dict(sig2=None, theta=theta),\n",
    "    dict(\n",
    "        sig2=sig2_rule.pts,\n",
    "        theta=np.tile(np.array([np.nan, np.nan, np.nan, 0])[None, :], (15, 1)),\n",
    "    ),\n",
    "    data\n",
    ")[0,0]"
   ]
  },
  {
   "cell_type": "code",
   "execution_count": 165,
   "metadata": {},
   "outputs": [
    {
     "ename": "IndexError",
     "evalue": "too many indices for array: array is 1-dimensional, but 2 were indexed",
     "output_type": "error",
     "traceback": [
      "\u001b[0;31m---------------------------------------------------------------------------\u001b[0m",
      "\u001b[0;31mIndexError\u001b[0m                                Traceback (most recent call last)",
      "\u001b[1;32m/Users/tbent/Dropbox/active/confirm/research/inla_survival/generalized.ipynb Cell 9'\u001b[0m in \u001b[0;36m<cell line: 1>\u001b[0;34m()\u001b[0m\n\u001b[0;32m----> <a href='vscode-notebook-cell:/Users/tbent/Dropbox/active/confirm/research/inla_survival/generalized.ipynb#ch0000059?line=0'>1</a>\u001b[0m ll_fnc(\n\u001b[1;32m      <a href='vscode-notebook-cell:/Users/tbent/Dropbox/active/confirm/research/inla_survival/generalized.ipynb#ch0000059?line=1'>2</a>\u001b[0m     \u001b[39mdict\u001b[39;49m(sig2\u001b[39m=\u001b[39;49m\u001b[39mNone\u001b[39;49;00m, theta\u001b[39m=\u001b[39;49mtheta[\u001b[39m0\u001b[39;49m]),\n\u001b[1;32m      <a href='vscode-notebook-cell:/Users/tbent/Dropbox/active/confirm/research/inla_survival/generalized.ipynb#ch0000059?line=2'>3</a>\u001b[0m     \u001b[39mdict\u001b[39;49m(sig2\u001b[39m=\u001b[39;49msig2_rule\u001b[39m.\u001b[39;49mpts[\u001b[39m0\u001b[39;49m], theta\u001b[39m=\u001b[39;49mnp\u001b[39m.\u001b[39;49marray([np\u001b[39m.\u001b[39;49mnan, np\u001b[39m.\u001b[39;49mnan, np\u001b[39m.\u001b[39;49mnan, \u001b[39m0\u001b[39;49m])),\n\u001b[1;32m      <a href='vscode-notebook-cell:/Users/tbent/Dropbox/active/confirm/research/inla_survival/generalized.ipynb#ch0000059?line=3'>4</a>\u001b[0m     data[\u001b[39m0\u001b[39;49m],\n\u001b[1;32m      <a href='vscode-notebook-cell:/Users/tbent/Dropbox/active/confirm/research/inla_survival/generalized.ipynb#ch0000059?line=4'>5</a>\u001b[0m )\n",
      "File \u001b[0;32m~/Dropbox/active/confirm/research/inla_survival/inla.py:41\u001b[0m, in \u001b[0;36mlog_likelihood\u001b[0;34m(params1, params2, data)\u001b[0m\n\u001b[1;32m     10\u001b[0m # TODO: Tests for the inversion routines.\n\u001b[1;32m     11\u001b[0m # TODO: Test against MCMC.\n\u001b[1;32m     12\u001b[0m # TODO: test multiple n_arms\n\u001b[1;32m     13\u001b[0m # TODO: test automatic gradients and explicit gradients\n\u001b[1;32m     14\u001b[0m import smalljax\n\u001b[1;32m     17\u001b[0m # Tried this out, really slow for computing derivatives!\n\u001b[1;32m     18\u001b[0m # flat_ll, slice_dict = inla.build_flat_log_likelihood(model, data)\n\u001b[1;32m     19\u001b[0m # flat_ll(np.array([10.0, 0, 0, 0, 0]), data)\n\u001b[1;32m     20\u001b[0m # def grad_hess(params, data):\n\u001b[1;32m     21\u001b[0m #     grad = jax.grad(flat_ll)(params, data)\n\u001b[1;32m     22\u001b[0m #     hess = jax.hessian(flat_ll)(params, data)\n\u001b[1;32m     23\u001b[0m #     return grad, hess\n\u001b[1;32m     24\u001b[0m \n\u001b[1;32m     25\u001b[0m # grad_hess_vmap = jax.jit(\n\u001b[1;32m     26\u001b[0m #     jax.vmap(jax.vmap(grad_hess, in_axes=(0, None)), in_axes=(0, 0))\n\u001b[1;32m     27\u001b[0m # )\n\u001b[1;32m     28\u001b[0m # y = scipy.stats.binom.rvs(35, 0.3, size=(int(1e4), narms))\n\u001b[1;32m     29\u001b[0m # n = np.full_like(y, 35)\n\u001b[1;32m     30\u001b[0m # data = np.stack((y, n), axis=-1)\n\u001b[1;32m     31\u001b[0m # params = np.random.rand(data.shape[0], 15, narms + 1)\n\u001b[1;32m     32\u001b[0m # def build_flat_log_likelihood(model, example_data):\n\u001b[1;32m     33\u001b[0m #     # see https://num.pyro.ai/en/stable/handlers.html\n\u001b[1;32m     34\u001b[0m \n\u001b[1;32m     35\u001b[0m #     trace = handlers.trace(handlers.seed(model, jax.random.PRNGKey(10))).get_trace(\n\u001b[1;32m     36\u001b[0m #         example_data\n\u001b[1;32m     37\u001b[0m #     )\n\u001b[1;32m     38\u001b[0m #     slice_dict = dict()\n\u001b[1;32m     39\u001b[0m #     i = 0\n\u001b[1;32m     40\u001b[0m #     for k in trace:\n\u001b[0;32m---> 41\u001b[0m #         if trace[k][\"is_observed\"]:\n\u001b[1;32m     42\u001b[0m #             continue\n\u001b[1;32m     43\u001b[0m #         shape = 1 if len(trace[k][\"value\"].shape) == 0 else trace[k][\"value\"].shape[0]\n\u001b[1;32m     44\u001b[0m #         slice_dict[k] = (i, i + shape)\n\u001b[1;32m     45\u001b[0m #         i += shape\n\u001b[1;32m     46\u001b[0m \n\u001b[1;32m     47\u001b[0m #     def log_likelihood(params, data):\n\u001b[1;32m     48\u001b[0m #         params_dict = dict()\n\u001b[1;32m     49\u001b[0m #         for k, (i1, i2) in slice_dict.items():\n\u001b[1;32m     50\u001b[0m #             params_dict[k] = params[i1:i2]\n\u001b[1;32m     51\u001b[0m #         trace = handlers.trace(\n\u001b[1;32m     52\u001b[0m #             handlers.substitute(handlers.seed(model, jax.random.PRNGKey(10)), params_dict)\n\u001b[1;32m     53\u001b[0m #         ).get_trace(data)\n\u001b[1;32m     54\u001b[0m #         return sum(\n\u001b[1;32m     55\u001b[0m #             [jnp.sum(site[\"fn\"].log_prob(site[\"value\"])) for k, site in trace.items()]\n\u001b[1;32m     56\u001b[0m #         )\n\u001b[1;32m     57\u001b[0m \n\u001b[1;32m     58\u001b[0m #     return log_likelihood, slice_dict\n\u001b[1;32m     62\u001b[0m def merge(*pytrees):\n\u001b[1;32m     63\u001b[0m     def _merge(*args):\n",
      "File \u001b[0;32m~/.mambaforge/envs/imprint/lib/python3.10/site-packages/numpyro/handlers.py:171\u001b[0m, in \u001b[0;36mtrace.get_trace\u001b[0;34m(self, *args, **kwargs)\u001b[0m\n\u001b[1;32m    163\u001b[0m \u001b[39mdef\u001b[39;00m \u001b[39mget_trace\u001b[39m(\u001b[39mself\u001b[39m, \u001b[39m*\u001b[39margs, \u001b[39m*\u001b[39m\u001b[39m*\u001b[39mkwargs):\n\u001b[1;32m    164\u001b[0m     \u001b[39m\"\"\"\u001b[39;00m\n\u001b[1;32m    165\u001b[0m \u001b[39m    Run the wrapped callable and return the recorded trace.\u001b[39;00m\n\u001b[1;32m    166\u001b[0m \n\u001b[0;32m   (...)\u001b[0m\n\u001b[1;32m    169\u001b[0m \u001b[39m    :return: `OrderedDict` containing the execution trace.\u001b[39;00m\n\u001b[1;32m    170\u001b[0m \u001b[39m    \"\"\"\u001b[39;00m\n\u001b[0;32m--> 171\u001b[0m     \u001b[39mself\u001b[39;49m(\u001b[39m*\u001b[39;49margs, \u001b[39m*\u001b[39;49m\u001b[39m*\u001b[39;49mkwargs)\n\u001b[1;32m    172\u001b[0m     \u001b[39mreturn\u001b[39;00m \u001b[39mself\u001b[39m\u001b[39m.\u001b[39mtrace\n",
      "File \u001b[0;32m~/.mambaforge/envs/imprint/lib/python3.10/site-packages/numpyro/primitives.py:105\u001b[0m, in \u001b[0;36mMessenger.__call__\u001b[0;34m(self, *args, **kwargs)\u001b[0m\n\u001b[1;32m    103\u001b[0m     \u001b[39mreturn\u001b[39;00m \u001b[39mself\u001b[39m\n\u001b[1;32m    104\u001b[0m \u001b[39mwith\u001b[39;00m \u001b[39mself\u001b[39m:\n\u001b[0;32m--> 105\u001b[0m     \u001b[39mreturn\u001b[39;00m \u001b[39mself\u001b[39;49m\u001b[39m.\u001b[39;49mfn(\u001b[39m*\u001b[39;49margs, \u001b[39m*\u001b[39;49m\u001b[39m*\u001b[39;49mkwargs)\n",
      "File \u001b[0;32m~/.mambaforge/envs/imprint/lib/python3.10/site-packages/numpyro/primitives.py:105\u001b[0m, in \u001b[0;36mMessenger.__call__\u001b[0;34m(self, *args, **kwargs)\u001b[0m\n\u001b[1;32m    103\u001b[0m     \u001b[39mreturn\u001b[39;00m \u001b[39mself\u001b[39m\n\u001b[1;32m    104\u001b[0m \u001b[39mwith\u001b[39;00m \u001b[39mself\u001b[39m:\n\u001b[0;32m--> 105\u001b[0m     \u001b[39mreturn\u001b[39;00m \u001b[39mself\u001b[39;49m\u001b[39m.\u001b[39;49mfn(\u001b[39m*\u001b[39;49margs, \u001b[39m*\u001b[39;49m\u001b[39m*\u001b[39;49mkwargs)\n",
      "File \u001b[0;32m~/.mambaforge/envs/imprint/lib/python3.10/site-packages/numpyro/primitives.py:105\u001b[0m, in \u001b[0;36mMessenger.__call__\u001b[0;34m(self, *args, **kwargs)\u001b[0m\n\u001b[1;32m    103\u001b[0m     \u001b[39mreturn\u001b[39;00m \u001b[39mself\u001b[39m\n\u001b[1;32m    104\u001b[0m \u001b[39mwith\u001b[39;00m \u001b[39mself\u001b[39m:\n\u001b[0;32m--> 105\u001b[0m     \u001b[39mreturn\u001b[39;00m \u001b[39mself\u001b[39;49m\u001b[39m.\u001b[39;49mfn(\u001b[39m*\u001b[39;49margs, \u001b[39m*\u001b[39;49m\u001b[39m*\u001b[39;49mkwargs)\n",
      "\u001b[1;32m/Users/tbent/Dropbox/active/confirm/research/inla_survival/generalized.ipynb Cell 3'\u001b[0m in \u001b[0;36mmodel\u001b[0;34m(data)\u001b[0m\n\u001b[1;32m      <a href='vscode-notebook-cell:/Users/tbent/Dropbox/active/confirm/research/inla_survival/generalized.ipynb#ch0000002?line=8'>9</a>\u001b[0m cov \u001b[39m=\u001b[39m jnp\u001b[39m.\u001b[39mfull((narms, narms), mu_sig2) \u001b[39m+\u001b[39m jnp\u001b[39m.\u001b[39mdiag(jnp\u001b[39m.\u001b[39mrepeat(sig2, narms))\n\u001b[1;32m     <a href='vscode-notebook-cell:/Users/tbent/Dropbox/active/confirm/research/inla_survival/generalized.ipynb#ch0000002?line=9'>10</a>\u001b[0m theta \u001b[39m=\u001b[39m numpyro\u001b[39m.\u001b[39msample(\n\u001b[1;32m     <a href='vscode-notebook-cell:/Users/tbent/Dropbox/active/confirm/research/inla_survival/generalized.ipynb#ch0000002?line=10'>11</a>\u001b[0m     \u001b[39m\"\u001b[39m\u001b[39mtheta\u001b[39m\u001b[39m\"\u001b[39m,\n\u001b[1;32m     <a href='vscode-notebook-cell:/Users/tbent/Dropbox/active/confirm/research/inla_survival/generalized.ipynb#ch0000002?line=11'>12</a>\u001b[0m     dist\u001b[39m.\u001b[39mMultivariateNormal(mu_0, cov),\n\u001b[1;32m     <a href='vscode-notebook-cell:/Users/tbent/Dropbox/active/confirm/research/inla_survival/generalized.ipynb#ch0000002?line=12'>13</a>\u001b[0m )\n\u001b[1;32m     <a href='vscode-notebook-cell:/Users/tbent/Dropbox/active/confirm/research/inla_survival/generalized.ipynb#ch0000002?line=13'>14</a>\u001b[0m numpyro\u001b[39m.\u001b[39msample(\n\u001b[1;32m     <a href='vscode-notebook-cell:/Users/tbent/Dropbox/active/confirm/research/inla_survival/generalized.ipynb#ch0000002?line=14'>15</a>\u001b[0m     \u001b[39m\"\u001b[39m\u001b[39my\u001b[39m\u001b[39m\"\u001b[39m,\n\u001b[0;32m---> <a href='vscode-notebook-cell:/Users/tbent/Dropbox/active/confirm/research/inla_survival/generalized.ipynb#ch0000002?line=15'>16</a>\u001b[0m     dist\u001b[39m.\u001b[39mBinomialLogits(theta \u001b[39m+\u001b[39m logit_p1, total_count\u001b[39m=\u001b[39mdata[:,\u001b[39m1\u001b[39;49m]),\n\u001b[1;32m     <a href='vscode-notebook-cell:/Users/tbent/Dropbox/active/confirm/research/inla_survival/generalized.ipynb#ch0000002?line=16'>17</a>\u001b[0m     obs\u001b[39m=\u001b[39mdata[:, \u001b[39m0\u001b[39m],\n\u001b[1;32m     <a href='vscode-notebook-cell:/Users/tbent/Dropbox/active/confirm/research/inla_survival/generalized.ipynb#ch0000002?line=17'>18</a>\u001b[0m )\n",
      "\u001b[0;31mIndexError\u001b[0m: too many indices for array: array is 1-dimensional, but 2 were indexed"
     ]
    }
   ],
   "source": [
    "ll_fnc(\n",
    "    dict(sig2=None, theta=theta[0]),\n",
    "    dict(sig2=sig2_rule.pts[0], theta=np.array([np.nan, np.nan, np.nan, 0])),\n",
    "    data[0],\n",
    ")\n"
   ]
  },
  {
   "cell_type": "code",
   "execution_count": null,
   "metadata": {},
   "outputs": [],
   "source": []
  },
  {
   "cell_type": "code",
   "execution_count": 146,
   "metadata": {},
   "outputs": [
    {
     "data": {
      "text/plain": [
       "DeviceArray([[-78.92571 ,  23.660025,  23.65211 ,   0.      ],\n",
       "             [ 23.660028, -79.05701 ,  23.653358,   0.      ],\n",
       "             [ 23.652115,  23.65336 , -78.954544,   0.      ],\n",
       "             [  0.      ,   0.      ,   0.      ,   0.      ]], dtype=float32)"
      ]
     },
     "execution_count": 146,
     "metadata": {},
     "output_type": "execute_result"
    }
   ],
   "source": [
    "hess['theta']['theta'][0,0]"
   ]
  },
  {
   "cell_type": "code",
   "execution_count": 127,
   "metadata": {},
   "outputs": [
    {
     "data": {
      "text/plain": [
       "(262144, 15, 4, 4)"
      ]
     },
     "execution_count": 127,
     "metadata": {},
     "output_type": "execute_result"
    }
   ],
   "source": [
    "a, b = jax.tree_util.tree_flatten(hess)\n"
   ]
  },
  {
   "cell_type": "code",
   "execution_count": 51,
   "metadata": {},
   "outputs": [],
   "source": [
    "def grad_hess(theta, sig2, data):\n",
    "    p = dict(sig2 = sig2, theta=None)\n",
    "    fixed = dict(sig2=None, theta=theta)\n",
    "    grad = jax.grad(ll_fnc)(p, fixed, data)\n",
    "    hess = jax.hessian(ll_fnc)(p, fixed, data)\n",
    "    return grad, hess\n",
    "\n",
    "\n",
    "grad_hess_vmap = jax.jit(\n",
    "    jax.vmap(jax.vmap(grad_hess, in_axes=(0, 0, None)), in_axes=(0, None, 0))\n",
    ")\n",
    "conditional_vmap = jax.jit(\n",
    "    jax.vmap(jax.vmap(conditional, in_axes=(0, 0, None)), in_axes=(0, None, 0))\n",
    ")\n"
   ]
  },
  {
   "cell_type": "code",
   "execution_count": 56,
   "metadata": {},
   "outputs": [
    {
     "name": "stdout",
     "output_type": "stream",
     "text": [
      "CPU times: user 2.31 s, sys: 490 ms, total: 2.8 s\n",
      "Wall time: 1.08 s\n"
     ]
    }
   ],
   "source": [
    "%%time\n",
    "grad, hess = grad_hess_vmap(theta, sig2_rule.pts, data)"
   ]
  },
  {
   "cell_type": "code",
   "execution_count": 46,
   "metadata": {},
   "outputs": [
    {
     "data": {
      "text/plain": [
       "((262144, 15), (262144, 15, 4))"
      ]
     },
     "execution_count": 46,
     "metadata": {},
     "output_type": "execute_result"
    }
   ],
   "source": [
    "grad['sig2'].shape, grad['theta'].shape"
   ]
  },
  {
   "cell_type": "code",
   "execution_count": null,
   "metadata": {},
   "outputs": [],
   "source": [
    "\n",
    "n_arms = narms\n",
    "sigma2_n = sig2_rule.pts.shape[0]\n",
    "arms = np.arange(n_arms)\n",
    "cov = np.full((sigma2_n, n_arms, n_arms), mu_sig2)\n",
    "cov[:, arms, arms] += sig2_rule.pts[:, None]\n",
    "neg_precQ = -np.linalg.inv(cov)\n",
    "\n",
    "neg_precQ_b = neg_precQ[:, 0, 1]\n",
    "neg_precQ_a = neg_precQ[:, 0, 0] - neg_precQ_b\n",
    "\n",
    "logprecQdet = 0.5 * jnp.log(jnp.linalg.det(-neg_precQ))\n",
    "log_prior = jnp.array(\n",
    "    scipy.stats.invgamma.logpdf(sig2_rule.pts, sig2_alpha, scale=sig2_beta)\n",
    ")\n",
    "const = log_prior + logprecQdet\n",
    "na = jnp.arange(narms)\n",
    "\n",
    "def conditional(theta, sig2, data):\n",
    "    y = data[..., 0]\n",
    "    n = data[..., 1]\n",
    "    theta_m0 = theta - mu_0\n",
    "    theta_adj = theta + logit_p1\n",
    "    exp_theta_adj = jnp.exp(theta_adj)\n",
    "    quad = jnp.sum(\n",
    "        theta_m0\n",
    "        * ((theta_m0.sum(axis=-1) * neg_precQ_b)[..., None] + theta_m0 * neg_precQ_a),\n",
    "        axis=-1,\n",
    "    )\n",
    "    return (\n",
    "        0.5 * quad\n",
    "        + jnp.sum(\n",
    "            theta_adj * y[:, None] - n[:, None] * jnp.log(exp_theta_adj + 1),\n",
    "            axis=-1,\n",
    "        )\n",
    "        + const\n",
    "    )\n",
    "\n",
    "\n",
    "def grad_hess(theta, _, data):\n",
    "    y = data[..., 0]\n",
    "    n = data[..., 1]\n",
    "    theta_m0 = theta - mu_0\n",
    "    exp_theta_adj = jnp.exp(theta + logit_p1)\n",
    "    C = 1.0 / (exp_theta_adj + 1)\n",
    "    nCeta = n[:, None] * C * exp_theta_adj\n",
    "    grad = (\n",
    "        jnp.matmul(neg_precQ[None], theta_m0[:, :, :, None])[..., 0]\n",
    "        + y[:, None]\n",
    "        - nCeta\n",
    "    )\n",
    "    hess = neg_precQ[None] - ((nCeta * C)[:, :, None, :] * jnp.eye(narms))\n",
    "    return grad, hess\n",
    "\n",
    "\n",
    "grad_hess_vmap = jax.jit(grad_hess)\n",
    "conditional_vmap = jax.jit(conditional)\n"
   ]
  },
  {
   "cell_type": "code",
   "execution_count": 53,
   "metadata": {},
   "outputs": [],
   "source": [
    "N = 10000\n",
    "y = scipy.stats.binom.rvs(35, 0.3, size=(N, narms))\n",
    "n = np.full_like(y, 35)\n",
    "data = np.stack((y, n), axis=-1)"
   ]
  },
  {
   "cell_type": "code",
   "execution_count": 130,
   "metadata": {},
   "outputs": [],
   "source": [
    "b = neg_precQ[0,0,1]\n",
    "a = neg_precQ[0,0,0] - b"
   ]
  },
  {
   "cell_type": "code",
   "execution_count": 131,
   "metadata": {},
   "outputs": [],
   "source": [
    "@jax.jit\n",
    "def quad(theta_max, a, b):\n",
    "    dotprod = ((theta_max.sum(axis=-1) * b)[..., None] + theta_max * a)\n",
    "    quad = jnp.sum(theta_max * dotprod, axis=-1)\n",
    "    return quad"
   ]
  },
  {
   "cell_type": "code",
   "execution_count": 132,
   "metadata": {},
   "outputs": [
    {
     "name": "stdout",
     "output_type": "stream",
     "text": [
      "126 µs ± 1.56 µs per loop (mean ± std. dev. of 7 runs, 10,000 loops each)\n"
     ]
    }
   ],
   "source": [
    "%%timeit\n",
    "quad(theta_max, a, b).block_until_ready()"
   ]
  },
  {
   "cell_type": "code",
   "execution_count": 129,
   "metadata": {},
   "outputs": [
    {
     "data": {
      "text/plain": [
       "DeviceArray(-0.37294438, dtype=float32)"
      ]
     },
     "execution_count": 129,
     "metadata": {},
     "output_type": "execute_result"
    }
   ],
   "source": [
    "quad(theta_max, a, b)[0,0]"
   ]
  },
  {
   "cell_type": "code",
   "execution_count": 122,
   "metadata": {},
   "outputs": [],
   "source": [
    "dotprod2 = jnp.einsum(\"...ij,...j\", neg_precQ, theta_max)\n",
    "quad2 = jnp.einsum(\"...i,...ij,...j\", theta_max, neg_precQ, theta_max)\n",
    "quad3 = np.sum(theta_max * dotprod2, axis=-1)"
   ]
  },
  {
   "cell_type": "code",
   "execution_count": 123,
   "metadata": {},
   "outputs": [
    {
     "data": {
      "text/plain": [
       "(DeviceArray([-5.1011925,  1.39013  ,  2.319191 ,  1.390357 ], dtype=float32),\n",
       " DeviceArray([-5.101193 ,  1.3901292,  2.319191 ,  1.390357 ], dtype=float32),\n",
       " DeviceArray(-0.3729442, dtype=float32),\n",
       " DeviceArray(-0.37294447, dtype=float32),\n",
       " DeviceArray(-0.37294444, dtype=float32))"
      ]
     },
     "execution_count": 123,
     "metadata": {},
     "output_type": "execute_result"
    }
   ],
   "source": [
    "dotprod[0,0], dotprod2[0,0], quad[0,0], quad2[0,0], quad3[0,0]"
   ]
  },
  {
   "cell_type": "code",
   "execution_count": 55,
   "metadata": {},
   "outputs": [],
   "source": [
    "inla_obj = inla.INLA(conditional_vmap, grad_hess_vmap, sig2_rule, narms)"
   ]
  },
  {
   "cell_type": "code",
   "execution_count": 56,
   "metadata": {},
   "outputs": [],
   "source": [
    "theta_max, hess, iters = inla_obj.optimize_loop(data, sig2_rule.pts, 1e-3)\n",
    "post = inla_obj.posterior(theta_max, hess, sig2_rule.pts, sig2_rule.wts, data)"
   ]
  },
  {
   "cell_type": "code",
   "execution_count": 58,
   "metadata": {},
   "outputs": [
    {
     "name": "stdout",
     "output_type": "stream",
     "text": [
      "31.4 ms ± 444 µs per loop (mean ± std. dev. of 5 runs, 20 loops each)\n"
     ]
    }
   ],
   "source": [
    "%%timeit -n 20 -r 5\n",
    "theta_max, hess, iters = inla_obj.optimize_loop(data, sig2_rule.pts, 1e-3)\n",
    "post = inla_obj.posterior(theta_max, hess, sig2_rule.pts, sig2_rule.wts, data)"
   ]
  },
  {
   "cell_type": "code",
   "execution_count": null,
   "metadata": {},
   "outputs": [],
   "source": []
  }
 ],
 "metadata": {
  "kernelspec": {
   "display_name": "Python 3.10.5 ('imprint')",
   "language": "python",
   "name": "python3"
  },
  "language_info": {
   "codemirror_mode": {
    "name": "ipython",
    "version": 3
   },
   "file_extension": ".py",
   "mimetype": "text/x-python",
   "name": "python",
   "nbconvert_exporter": "python",
   "pygments_lexer": "ipython3",
   "version": "3.10.5"
  },
  "orig_nbformat": 4,
  "vscode": {
   "interpreter": {
    "hash": "1234d0467017a186db2b9a06faf936c59bc87b507f01580220987604bcb2f4bc"
   }
  }
 },
 "nbformat": 4,
 "nbformat_minor": 2
}
