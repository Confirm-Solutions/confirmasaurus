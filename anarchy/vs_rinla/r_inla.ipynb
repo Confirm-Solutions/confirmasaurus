{
 "cells": [
  {
   "cell_type": "code",
   "execution_count": 1,
   "metadata": {
    "vscode": {
     "languageId": "r"
    }
   },
   "outputs": [
    {
     "name": "stderr",
     "output_type": "stream",
     "text": [
      "Loading required package: Matrix\n",
      "\n",
      "Loading required package: foreach\n",
      "\n",
      "Loading required package: parallel\n",
      "\n",
      "Loading required package: sp\n",
      "\n",
      "This is INLA_22.05.07 built 2022-05-07 09:52:03 UTC.\n",
      " - See www.r-inla.org/contact-us for how to get help.\n",
      " - To enable PARDISO sparse library; see inla.pardiso()\n",
      "\n"
     ]
    }
   ],
   "source": [
    "library(INLA)"
   ]
  },
  {
   "cell_type": "code",
   "execution_count": 2,
   "metadata": {
    "vscode": {
     "languageId": "r"
    }
   },
   "outputs": [],
   "source": [
    "n_arms = 4\n",
    "y = c(0, 1, 9, 10)\n",
    "n = c(20, 20, 35, 35)\n",
    "mu_0 = -1.34\n",
    "mu_sig2 = 100.0\n",
    "sig2_alpha = 0.0005\n",
    "sig2_beta = 0.000005\n",
    "logit_p1 = rep(qlogis(0.3), n_arms)"
   ]
  },
  {
   "cell_type": "code",
   "execution_count": 3,
   "metadata": {
    "vscode": {
     "languageId": "r"
    }
   },
   "outputs": [
    {
     "data": {
      "text/html": [
       "'theta'"
      ],
      "text/latex": [
       "'theta'"
      ],
      "text/markdown": [
       "'theta'"
      ],
      "text/plain": [
       "[1] \"theta\""
      ]
     },
     "metadata": {},
     "output_type": "display_data"
    }
   ],
   "source": [
    "names(inla.models()$latent$iid$hyper)"
   ]
  },
  {
   "cell_type": "code",
   "execution_count": 4,
   "metadata": {
    "vscode": {
     "languageId": "r"
    }
   },
   "outputs": [
    {
     "data": {
      "text/html": [
       "<dl>\n",
       "\t<dt>$hyperid</dt>\n",
       "\t\t<dd>1001</dd>\n",
       "\t<dt>$name</dt>\n",
       "\t\t<dd>'log precision'</dd>\n",
       "\t<dt>$short.name</dt>\n",
       "\t\t<dd>'prec'</dd>\n",
       "\t<dt>$prior</dt>\n",
       "\t\t<dd>'loggamma'</dd>\n",
       "\t<dt>$param</dt>\n",
       "\t\t<dd><style>\n",
       ".list-inline {list-style: none; margin:0; padding: 0}\n",
       ".list-inline>li {display: inline-block}\n",
       ".list-inline>li:not(:last-child)::after {content: \"\\00b7\"; padding: 0 .5ex}\n",
       "</style>\n",
       "<ol class=list-inline><li>1</li><li>5e-05</li></ol>\n",
       "</dd>\n",
       "\t<dt>$initial</dt>\n",
       "\t\t<dd>4</dd>\n",
       "\t<dt>$fixed</dt>\n",
       "\t\t<dd>FALSE</dd>\n",
       "\t<dt>$to.theta</dt>\n",
       "\t\t<dd><pre class=language-r><code>structure(function (x) \n",
       "log(x), inla.read.only = TRUE)</code></pre></dd>\n",
       "\t<dt>$from.theta</dt>\n",
       "\t\t<dd><pre class=language-r><code>structure(function (x) \n",
       "exp(x), inla.read.only = TRUE)</code></pre></dd>\n",
       "</dl>\n"
      ],
      "text/latex": [
       "\\begin{description}\n",
       "\\item[\\$hyperid] 1001\n",
       "\\item[\\$name] 'log precision'\n",
       "\\item[\\$short.name] 'prec'\n",
       "\\item[\\$prior] 'loggamma'\n",
       "\\item[\\$param] \\begin{enumerate*}\n",
       "\\item 1\n",
       "\\item 5e-05\n",
       "\\end{enumerate*}\n",
       "\n",
       "\\item[\\$initial] 4\n",
       "\\item[\\$fixed] FALSE\n",
       "\\item[\\$to.theta] \\begin{minted}{r}\n",
       "structure(function (x) \n",
       "log(x), inla.read.only = TRUE)\n",
       "\\end{minted}\n",
       "\\item[\\$from.theta] \\begin{minted}{r}\n",
       "structure(function (x) \n",
       "exp(x), inla.read.only = TRUE)\n",
       "\\end{minted}\n",
       "\\end{description}\n"
      ],
      "text/markdown": [
       "$hyperid\n",
       ":   1001\n",
       "$name\n",
       ":   'log precision'\n",
       "$short.name\n",
       ":   'prec'\n",
       "$prior\n",
       ":   'loggamma'\n",
       "$param\n",
       ":   1. 1\n",
       "2. 5e-05\n",
       "\n",
       "\n",
       "\n",
       "$initial\n",
       ":   4\n",
       "$fixed\n",
       ":   FALSE\n",
       "$to.theta\n",
       ":   ```r\n",
       "structure(function (x) \n",
       "log(x), inla.read.only = TRUE)\n",
       "```\n",
       "$from.theta\n",
       ":   ```r\n",
       "structure(function (x) \n",
       "exp(x), inla.read.only = TRUE)\n",
       "```\n",
       "\n",
       "\n"
      ],
      "text/plain": [
       "$hyperid\n",
       "[1] 1001\n",
       "attr(,\"inla.read.only\")\n",
       "[1] FALSE\n",
       "\n",
       "$name\n",
       "[1] \"log precision\"\n",
       "attr(,\"inla.read.only\")\n",
       "[1] FALSE\n",
       "\n",
       "$short.name\n",
       "[1] \"prec\"\n",
       "attr(,\"inla.read.only\")\n",
       "[1] FALSE\n",
       "\n",
       "$prior\n",
       "[1] \"loggamma\"\n",
       "attr(,\"inla.read.only\")\n",
       "[1] FALSE\n",
       "\n",
       "$param\n",
       "[1] 1e+00 5e-05\n",
       "attr(,\"inla.read.only\")\n",
       "[1] FALSE\n",
       "\n",
       "$initial\n",
       "[1] 4\n",
       "attr(,\"inla.read.only\")\n",
       "[1] FALSE\n",
       "\n",
       "$fixed\n",
       "[1] FALSE\n",
       "attr(,\"inla.read.only\")\n",
       "[1] FALSE\n",
       "\n",
       "$to.theta\n",
       "function (x) \n",
       "log(x)\n",
       "<bytecode: 0x556982a5c110>\n",
       "<environment: 0x556982a65d10>\n",
       "attr(,\"inla.read.only\")\n",
       "[1] TRUE\n",
       "\n",
       "$from.theta\n",
       "function (x) \n",
       "exp(x)\n",
       "<bytecode: 0x556982a5bff8>\n",
       "<environment: 0x556982a65d10>\n",
       "attr(,\"inla.read.only\")\n",
       "[1] TRUE\n"
      ]
     },
     "metadata": {},
     "output_type": "display_data"
    }
   ],
   "source": [
    "inla.models()$latent$iid$hyper$theta"
   ]
  },
  {
   "cell_type": "code",
   "execution_count": 5,
   "metadata": {
    "vscode": {
     "languageId": "r"
    }
   },
   "outputs": [
    {
     "data": {
      "text/html": [
       "<style>\n",
       ".list-inline {list-style: none; margin:0; padding: 0}\n",
       ".list-inline>li {display: inline-block}\n",
       ".list-inline>li:not(:last-child)::after {content: \"\\00b7\"; padding: 0 .5ex}\n",
       "</style>\n",
       "<ol class=list-inline><li>'latent'</li><li>'group'</li><li>'mix'</li><li>'link'</li><li>'predictor'</li><li>'hazard'</li><li>'likelihood'</li><li>'prior'</li><li>'wrapper'</li><li>'lp.scale'</li></ol>\n"
      ],
      "text/latex": [
       "\\begin{enumerate*}\n",
       "\\item 'latent'\n",
       "\\item 'group'\n",
       "\\item 'mix'\n",
       "\\item 'link'\n",
       "\\item 'predictor'\n",
       "\\item 'hazard'\n",
       "\\item 'likelihood'\n",
       "\\item 'prior'\n",
       "\\item 'wrapper'\n",
       "\\item 'lp.scale'\n",
       "\\end{enumerate*}\n"
      ],
      "text/markdown": [
       "1. 'latent'\n",
       "2. 'group'\n",
       "3. 'mix'\n",
       "4. 'link'\n",
       "5. 'predictor'\n",
       "6. 'hazard'\n",
       "7. 'likelihood'\n",
       "8. 'prior'\n",
       "9. 'wrapper'\n",
       "10. 'lp.scale'\n",
       "\n",
       "\n"
      ],
      "text/plain": [
       " [1] \"latent\"     \"group\"      \"mix\"        \"link\"       \"predictor\" \n",
       " [6] \"hazard\"     \"likelihood\" \"prior\"      \"wrapper\"    \"lp.scale\"  "
      ]
     },
     "metadata": {},
     "output_type": "display_data"
    }
   ],
   "source": [
    "names(inla.models())"
   ]
  },
  {
   "cell_type": "code",
   "execution_count": 6,
   "metadata": {
    "vscode": {
     "languageId": "r"
    }
   },
   "outputs": [
    {
     "data": {
      "text/html": [
       "<style>\n",
       ".list-inline {list-style: none; margin:0; padding: 0}\n",
       ".list-inline>li {display: inline-block}\n",
       ".list-inline>li:not(:last-child)::after {content: \"\\00b7\"; padding: 0 .5ex}\n",
       "</style>\n",
       "<ol class=list-inline><li>'normal'</li><li>'gaussian'</li><li>'linksnintercept'</li><li>'wishart1d'</li><li>'wishart2d'</li><li>'wishart3d'</li><li>'wishart4d'</li><li>'wishart5d'</li><li>'loggamma'</li><li>'gamma'</li><li>'minuslogsqrtruncnormal'</li><li>'logtnormal'</li><li>'logtgaussian'</li><li>'flat'</li><li>'logflat'</li><li>'logiflat'</li><li>'mvnorm'</li><li>'pc.alphaw'</li><li>'pc.ar'</li><li>'dirichlet'</li><li>'none'</li><li>'invalid'</li><li>'betacorrelation'</li><li>'logitbeta'</li><li>'pc.prec'</li><li>'pc.dof'</li><li>'pc.cor0'</li><li>'pc.cor1'</li><li>'pc.fgnh'</li><li>'pc.spde.GA'</li><li>'pc.matern'</li><li>'pc.range'</li><li>'pc.sn'</li><li>'pc.gamma'</li><li>'pc.mgamma'</li><li>'pc.gammacount'</li><li>'pc.gevtail'</li><li>'pc'</li><li>'ref.ar'</li><li>'pom'</li><li>'jeffreystdf'</li><li>'wishartkd'</li><li>'expression:'</li><li>'table:'</li></ol>\n"
      ],
      "text/latex": [
       "\\begin{enumerate*}\n",
       "\\item 'normal'\n",
       "\\item 'gaussian'\n",
       "\\item 'linksnintercept'\n",
       "\\item 'wishart1d'\n",
       "\\item 'wishart2d'\n",
       "\\item 'wishart3d'\n",
       "\\item 'wishart4d'\n",
       "\\item 'wishart5d'\n",
       "\\item 'loggamma'\n",
       "\\item 'gamma'\n",
       "\\item 'minuslogsqrtruncnormal'\n",
       "\\item 'logtnormal'\n",
       "\\item 'logtgaussian'\n",
       "\\item 'flat'\n",
       "\\item 'logflat'\n",
       "\\item 'logiflat'\n",
       "\\item 'mvnorm'\n",
       "\\item 'pc.alphaw'\n",
       "\\item 'pc.ar'\n",
       "\\item 'dirichlet'\n",
       "\\item 'none'\n",
       "\\item 'invalid'\n",
       "\\item 'betacorrelation'\n",
       "\\item 'logitbeta'\n",
       "\\item 'pc.prec'\n",
       "\\item 'pc.dof'\n",
       "\\item 'pc.cor0'\n",
       "\\item 'pc.cor1'\n",
       "\\item 'pc.fgnh'\n",
       "\\item 'pc.spde.GA'\n",
       "\\item 'pc.matern'\n",
       "\\item 'pc.range'\n",
       "\\item 'pc.sn'\n",
       "\\item 'pc.gamma'\n",
       "\\item 'pc.mgamma'\n",
       "\\item 'pc.gammacount'\n",
       "\\item 'pc.gevtail'\n",
       "\\item 'pc'\n",
       "\\item 'ref.ar'\n",
       "\\item 'pom'\n",
       "\\item 'jeffreystdf'\n",
       "\\item 'wishartkd'\n",
       "\\item 'expression:'\n",
       "\\item 'table:'\n",
       "\\end{enumerate*}\n"
      ],
      "text/markdown": [
       "1. 'normal'\n",
       "2. 'gaussian'\n",
       "3. 'linksnintercept'\n",
       "4. 'wishart1d'\n",
       "5. 'wishart2d'\n",
       "6. 'wishart3d'\n",
       "7. 'wishart4d'\n",
       "8. 'wishart5d'\n",
       "9. 'loggamma'\n",
       "10. 'gamma'\n",
       "11. 'minuslogsqrtruncnormal'\n",
       "12. 'logtnormal'\n",
       "13. 'logtgaussian'\n",
       "14. 'flat'\n",
       "15. 'logflat'\n",
       "16. 'logiflat'\n",
       "17. 'mvnorm'\n",
       "18. 'pc.alphaw'\n",
       "19. 'pc.ar'\n",
       "20. 'dirichlet'\n",
       "21. 'none'\n",
       "22. 'invalid'\n",
       "23. 'betacorrelation'\n",
       "24. 'logitbeta'\n",
       "25. 'pc.prec'\n",
       "26. 'pc.dof'\n",
       "27. 'pc.cor0'\n",
       "28. 'pc.cor1'\n",
       "29. 'pc.fgnh'\n",
       "30. 'pc.spde.GA'\n",
       "31. 'pc.matern'\n",
       "32. 'pc.range'\n",
       "33. 'pc.sn'\n",
       "34. 'pc.gamma'\n",
       "35. 'pc.mgamma'\n",
       "36. 'pc.gammacount'\n",
       "37. 'pc.gevtail'\n",
       "38. 'pc'\n",
       "39. 'ref.ar'\n",
       "40. 'pom'\n",
       "41. 'jeffreystdf'\n",
       "42. 'wishartkd'\n",
       "43. 'expression:'\n",
       "44. 'table:'\n",
       "\n",
       "\n"
      ],
      "text/plain": [
       " [1] \"normal\"                 \"gaussian\"               \"linksnintercept\"       \n",
       " [4] \"wishart1d\"              \"wishart2d\"              \"wishart3d\"             \n",
       " [7] \"wishart4d\"              \"wishart5d\"              \"loggamma\"              \n",
       "[10] \"gamma\"                  \"minuslogsqrtruncnormal\" \"logtnormal\"            \n",
       "[13] \"logtgaussian\"           \"flat\"                   \"logflat\"               \n",
       "[16] \"logiflat\"               \"mvnorm\"                 \"pc.alphaw\"             \n",
       "[19] \"pc.ar\"                  \"dirichlet\"              \"none\"                  \n",
       "[22] \"invalid\"                \"betacorrelation\"        \"logitbeta\"             \n",
       "[25] \"pc.prec\"                \"pc.dof\"                 \"pc.cor0\"               \n",
       "[28] \"pc.cor1\"                \"pc.fgnh\"                \"pc.spde.GA\"            \n",
       "[31] \"pc.matern\"              \"pc.range\"               \"pc.sn\"                 \n",
       "[34] \"pc.gamma\"               \"pc.mgamma\"              \"pc.gammacount\"         \n",
       "[37] \"pc.gevtail\"             \"pc\"                     \"ref.ar\"                \n",
       "[40] \"pom\"                    \"jeffreystdf\"            \"wishartkd\"             \n",
       "[43] \"expression:\"            \"table:\"                "
      ]
     },
     "metadata": {},
     "output_type": "display_data"
    }
   ],
   "source": [
    "names(inla.models()$prior)"
   ]
  },
  {
   "cell_type": "code",
   "execution_count": 9,
   "metadata": {
    "vscode": {
     "languageId": "r"
    }
   },
   "outputs": [
    {
     "data": {
      "text/html": [
       "<table class=\"dataframe\">\n",
       "<caption>A data.frame: 4 × 2</caption>\n",
       "<thead>\n",
       "\t<tr><th scope=col>y</th><th scope=col>gid</th></tr>\n",
       "\t<tr><th scope=col>&lt;dbl&gt;</th><th scope=col>&lt;int&gt;</th></tr>\n",
       "</thead>\n",
       "<tbody>\n",
       "\t<tr><td> 0</td><td>1</td></tr>\n",
       "\t<tr><td> 1</td><td>2</td></tr>\n",
       "\t<tr><td> 9</td><td>3</td></tr>\n",
       "\t<tr><td>10</td><td>4</td></tr>\n",
       "</tbody>\n",
       "</table>\n"
      ],
      "text/latex": [
       "A data.frame: 4 × 2\n",
       "\\begin{tabular}{ll}\n",
       " y & gid\\\\\n",
       " <dbl> & <int>\\\\\n",
       "\\hline\n",
       "\t  0 & 1\\\\\n",
       "\t  1 & 2\\\\\n",
       "\t  9 & 3\\\\\n",
       "\t 10 & 4\\\\\n",
       "\\end{tabular}\n"
      ],
      "text/markdown": [
       "\n",
       "A data.frame: 4 × 2\n",
       "\n",
       "| y &lt;dbl&gt; | gid &lt;int&gt; |\n",
       "|---|---|\n",
       "|  0 | 1 |\n",
       "|  1 | 2 |\n",
       "|  9 | 3 |\n",
       "| 10 | 4 |\n",
       "\n"
      ],
      "text/plain": [
       "  y  gid\n",
       "1  0 1  \n",
       "2  1 2  \n",
       "3  9 3  \n",
       "4 10 4  "
      ]
     },
     "metadata": {},
     "output_type": "display_data"
    }
   ],
   "source": [
    "df <- data.frame(y = y, gid = (1:n_arms))\n",
    "df"
   ]
  },
  {
   "cell_type": "code",
   "execution_count": 10,
   "metadata": {
    "vscode": {
     "languageId": "r"
    }
   },
   "outputs": [],
   "source": [
    "# precision is inverse of sigma2.\n",
    "# because we have an invgamma prior on sigma2, we want a gamma prior on the precision.\n",
    "\n",
    "# do we need to deal with any change of variables nonsense here?\n",
    "prec.prior <- list(prec = list(param = c(sig2_alpha, sig2_beta)))"
   ]
  },
  {
   "cell_type": "code",
   "execution_count": 11,
   "metadata": {
    "vscode": {
     "languageId": "r"
    }
   },
   "outputs": [],
   "source": [
    "gid_factor = as.factor(df[,'gid'])"
   ]
  },
  {
   "cell_type": "code",
   "execution_count": 12,
   "metadata": {
    "vscode": {
     "languageId": "r"
    }
   },
   "outputs": [
    {
     "data": {
      "text/plain": [
       "\n",
       "Call:\n",
       "   c(\"inla.core(formula = formula, family = family, contrasts = contrasts, \n",
       "   \", \" data = data, quantiles = quantiles, E = E, offset = offset, \", \" \n",
       "   scale = scale, weights = weights, Ntrials = Ntrials, strata = strata, \n",
       "   \", \" lp.scale = lp.scale, link.covariates = link.covariates, verbose = \n",
       "   verbose, \", \" lincomb = lincomb, selection = selection, control.compute \n",
       "   = control.compute, \", \" control.predictor = control.predictor, \n",
       "   control.family = control.family, \", \" control.inla = control.inla, \n",
       "   control.fixed = control.fixed, \", \" control.mode = control.mode, \n",
       "   control.expert = control.expert, \", \" control.hazard = control.hazard, \n",
       "   control.lincomb = control.lincomb, \", \" control.update = \n",
       "   control.update, control.lp.scale = control.lp.scale, \", \" \n",
       "   control.pardiso = control.pardiso, only.hyperparam = only.hyperparam, \n",
       "   \", \" inla.call = inla.call, inla.arg = inla.arg, num.threads = \n",
       "   num.threads, \", \" blas.num.threads = blas.num.threads, keep = keep, \n",
       "   working.directory = working.directory, \", \" silent = silent, inla.mode \n",
       "   = inla.mode, safe = FALSE, debug = debug, \", \" .parent.frame = \n",
       "   .parent.frame)\") \n",
       "Time used:\n",
       "    Pre = 0.334, Running = 0.801, Post = 0.089, Total = 1.22 \n",
       "Fixed effects:\n",
       "              mean     sd 0.025quant 0.5quant 0.975quant mode kld\n",
       "(Intercept) -2.052 26.845    -54.703   -2.051     50.593   NA   0\n",
       "logit_p1     0.000 31.623    -62.017    0.000     62.017   NA   0\n",
       "\n",
       "Random effects:\n",
       "  Name\t  Model\n",
       "    gid IID model\n",
       "\n",
       "Model hyperparameters:\n",
       "                     mean       sd 0.025quant 0.5quant 0.975quant mode\n",
       "Precision for gid 2455.10 26377.58      0.012    0.472   13772.30   NA\n",
       "\n",
       "Marginal log-Likelihood:  -16.00 \n",
       " is computed \n",
       "Posterior summaries for the linear predictor and the fitted values are computed\n",
       "(Posterior marginals needs also 'control.compute=list(return.marginals.predictor=TRUE)')\n"
      ]
     },
     "metadata": {},
     "output_type": "display_data"
    }
   ],
   "source": [
    "# Run INLA with a model where\n",
    "# logit(p) = intercept + random_effect(drawn iid from normal)\n",
    "# The prior on the random effect influences the sharing between groups. I\n",
    "# haven't tuned this yet.\n",
    "result <- inla(\n",
    "    y ~ logit_p1 + f(\n",
    "        gid, \n",
    "        model = \"iid\",\n",
    "        hyper = prec.prior\n",
    "    ),\n",
    "    data = df, \n",
    "    Ntrials = n,\n",
    "    family = \"binomial\",\n",
    "    control.compute = list(\n",
    "        config = TRUE,\n",
    "        return.marginals.predictor = TRUE\n",
    "    ),\n",
    "    control.inla = list(\n",
    "        strategy=c(\"gaussian\"),\n",
    "        int.strategy=c(\"grid\")\n",
    "    )\n",
    ")\n",
    "summary(result)\n",
    "# result.samp <- inla.posterior.sample(100, result)\n",
    "# names(result.samp[[1]])\n",
    "# print(result.samp[[1]])\n"
   ]
  },
  {
   "cell_type": "code",
   "execution_count": 13,
   "metadata": {
    "vscode": {
     "languageId": "r"
    }
   },
   "outputs": [
    {
     "data": {
      "text/html": [
       "<style>\n",
       ".list-inline {list-style: none; margin:0; padding: 0}\n",
       ".list-inline>li {display: inline-block}\n",
       ".list-inline>li:not(:last-child)::after {content: \"\\00b7\"; padding: 0 .5ex}\n",
       "</style>\n",
       "<ol class=list-inline><li>'names.fixed'</li><li>'summary.fixed'</li><li>'marginals.fixed'</li><li>'summary.lincomb'</li><li>'marginals.lincomb'</li><li>'size.lincomb'</li><li>'summary.lincomb.derived'</li><li>'marginals.lincomb.derived'</li><li>'size.lincomb.derived'</li><li>'mlik'</li><li>'cpo'</li><li>'gcpo'</li><li>'po'</li><li>'waic'</li><li>'model.random'</li><li>'summary.random'</li><li>'marginals.random'</li><li>'size.random'</li><li>'summary.linear.predictor'</li><li>'marginals.linear.predictor'</li><li>'summary.fitted.values'</li><li>'marginals.fitted.values'</li><li>'size.linear.predictor'</li><li>'summary.hyperpar'</li><li>'marginals.hyperpar'</li><li>'internal.summary.hyperpar'</li><li>'internal.marginals.hyperpar'</li><li>'offset.linear.predictor'</li><li>'model.spde2.blc'</li><li>'summary.spde2.blc'</li><li>'marginals.spde2.blc'</li><li>'size.spde2.blc'</li><li>'model.spde3.blc'</li><li>'summary.spde3.blc'</li><li>'marginals.spde3.blc'</li><li>'size.spde3.blc'</li><li>'logfile'</li><li>'misc'</li><li>'dic'</li><li>'mode'</li><li>'joint.hyper'</li><li>'nhyper'</li><li>'version'</li><li>'Q'</li><li>'graph'</li><li>'ok'</li><li>'cpu.used'</li><li>'all.hyper'</li><li>'.args'</li><li>'call'</li><li>'model.matrix'</li></ol>\n"
      ],
      "text/latex": [
       "\\begin{enumerate*}\n",
       "\\item 'names.fixed'\n",
       "\\item 'summary.fixed'\n",
       "\\item 'marginals.fixed'\n",
       "\\item 'summary.lincomb'\n",
       "\\item 'marginals.lincomb'\n",
       "\\item 'size.lincomb'\n",
       "\\item 'summary.lincomb.derived'\n",
       "\\item 'marginals.lincomb.derived'\n",
       "\\item 'size.lincomb.derived'\n",
       "\\item 'mlik'\n",
       "\\item 'cpo'\n",
       "\\item 'gcpo'\n",
       "\\item 'po'\n",
       "\\item 'waic'\n",
       "\\item 'model.random'\n",
       "\\item 'summary.random'\n",
       "\\item 'marginals.random'\n",
       "\\item 'size.random'\n",
       "\\item 'summary.linear.predictor'\n",
       "\\item 'marginals.linear.predictor'\n",
       "\\item 'summary.fitted.values'\n",
       "\\item 'marginals.fitted.values'\n",
       "\\item 'size.linear.predictor'\n",
       "\\item 'summary.hyperpar'\n",
       "\\item 'marginals.hyperpar'\n",
       "\\item 'internal.summary.hyperpar'\n",
       "\\item 'internal.marginals.hyperpar'\n",
       "\\item 'offset.linear.predictor'\n",
       "\\item 'model.spde2.blc'\n",
       "\\item 'summary.spde2.blc'\n",
       "\\item 'marginals.spde2.blc'\n",
       "\\item 'size.spde2.blc'\n",
       "\\item 'model.spde3.blc'\n",
       "\\item 'summary.spde3.blc'\n",
       "\\item 'marginals.spde3.blc'\n",
       "\\item 'size.spde3.blc'\n",
       "\\item 'logfile'\n",
       "\\item 'misc'\n",
       "\\item 'dic'\n",
       "\\item 'mode'\n",
       "\\item 'joint.hyper'\n",
       "\\item 'nhyper'\n",
       "\\item 'version'\n",
       "\\item 'Q'\n",
       "\\item 'graph'\n",
       "\\item 'ok'\n",
       "\\item 'cpu.used'\n",
       "\\item 'all.hyper'\n",
       "\\item '.args'\n",
       "\\item 'call'\n",
       "\\item 'model.matrix'\n",
       "\\end{enumerate*}\n"
      ],
      "text/markdown": [
       "1. 'names.fixed'\n",
       "2. 'summary.fixed'\n",
       "3. 'marginals.fixed'\n",
       "4. 'summary.lincomb'\n",
       "5. 'marginals.lincomb'\n",
       "6. 'size.lincomb'\n",
       "7. 'summary.lincomb.derived'\n",
       "8. 'marginals.lincomb.derived'\n",
       "9. 'size.lincomb.derived'\n",
       "10. 'mlik'\n",
       "11. 'cpo'\n",
       "12. 'gcpo'\n",
       "13. 'po'\n",
       "14. 'waic'\n",
       "15. 'model.random'\n",
       "16. 'summary.random'\n",
       "17. 'marginals.random'\n",
       "18. 'size.random'\n",
       "19. 'summary.linear.predictor'\n",
       "20. 'marginals.linear.predictor'\n",
       "21. 'summary.fitted.values'\n",
       "22. 'marginals.fitted.values'\n",
       "23. 'size.linear.predictor'\n",
       "24. 'summary.hyperpar'\n",
       "25. 'marginals.hyperpar'\n",
       "26. 'internal.summary.hyperpar'\n",
       "27. 'internal.marginals.hyperpar'\n",
       "28. 'offset.linear.predictor'\n",
       "29. 'model.spde2.blc'\n",
       "30. 'summary.spde2.blc'\n",
       "31. 'marginals.spde2.blc'\n",
       "32. 'size.spde2.blc'\n",
       "33. 'model.spde3.blc'\n",
       "34. 'summary.spde3.blc'\n",
       "35. 'marginals.spde3.blc'\n",
       "36. 'size.spde3.blc'\n",
       "37. 'logfile'\n",
       "38. 'misc'\n",
       "39. 'dic'\n",
       "40. 'mode'\n",
       "41. 'joint.hyper'\n",
       "42. 'nhyper'\n",
       "43. 'version'\n",
       "44. 'Q'\n",
       "45. 'graph'\n",
       "46. 'ok'\n",
       "47. 'cpu.used'\n",
       "48. 'all.hyper'\n",
       "49. '.args'\n",
       "50. 'call'\n",
       "51. 'model.matrix'\n",
       "\n",
       "\n"
      ],
      "text/plain": [
       " [1] \"names.fixed\"                 \"summary.fixed\"              \n",
       " [3] \"marginals.fixed\"             \"summary.lincomb\"            \n",
       " [5] \"marginals.lincomb\"           \"size.lincomb\"               \n",
       " [7] \"summary.lincomb.derived\"     \"marginals.lincomb.derived\"  \n",
       " [9] \"size.lincomb.derived\"        \"mlik\"                       \n",
       "[11] \"cpo\"                         \"gcpo\"                       \n",
       "[13] \"po\"                          \"waic\"                       \n",
       "[15] \"model.random\"                \"summary.random\"             \n",
       "[17] \"marginals.random\"            \"size.random\"                \n",
       "[19] \"summary.linear.predictor\"    \"marginals.linear.predictor\" \n",
       "[21] \"summary.fitted.values\"       \"marginals.fitted.values\"    \n",
       "[23] \"size.linear.predictor\"       \"summary.hyperpar\"           \n",
       "[25] \"marginals.hyperpar\"          \"internal.summary.hyperpar\"  \n",
       "[27] \"internal.marginals.hyperpar\" \"offset.linear.predictor\"    \n",
       "[29] \"model.spde2.blc\"             \"summary.spde2.blc\"          \n",
       "[31] \"marginals.spde2.blc\"         \"size.spde2.blc\"             \n",
       "[33] \"model.spde3.blc\"             \"summary.spde3.blc\"          \n",
       "[35] \"marginals.spde3.blc\"         \"size.spde3.blc\"             \n",
       "[37] \"logfile\"                     \"misc\"                       \n",
       "[39] \"dic\"                         \"mode\"                       \n",
       "[41] \"joint.hyper\"                 \"nhyper\"                     \n",
       "[43] \"version\"                     \"Q\"                          \n",
       "[45] \"graph\"                       \"ok\"                         \n",
       "[47] \"cpu.used\"                    \"all.hyper\"                  \n",
       "[49] \".args\"                       \"call\"                       \n",
       "[51] \"model.matrix\"               "
      ]
     },
     "metadata": {},
     "output_type": "display_data"
    }
   ],
   "source": [
    "names(result)"
   ]
  },
  {
   "cell_type": "code",
   "execution_count": 14,
   "metadata": {
    "vscode": {
     "languageId": "r"
    }
   },
   "outputs": [
    {
     "data": {
      "image/png": "[encoded data removed]",
      "text/plain": [
       "Plot with title “Histogram of log10(sig2_sample)”"
      ]
     },
     "metadata": {
      "image/png": {
       "height": 420,
       "width": 420
      }
     },
     "output_type": "display_data"
    }
   ],
   "source": [
    "sig2_sample = 1.0 / inla.hyperpar.sample(n=100000, result)\n",
    "hist(log10(sig2_sample), breaks = 100)"
   ]
  },
  {
   "cell_type": "code",
   "execution_count": 18,
   "metadata": {
    "vscode": {
     "languageId": "r"
    }
   },
   "outputs": [
    {
     "data": {
      "image/png": "[encoded data removed]",
      "text/plain": [
       "plot without title"
      ]
     },
     "metadata": {
      "image/png": {
       "height": 420,
       "width": 420
      }
     },
     "output_type": "display_data"
    }
   ],
   "source": [
    "hyperpar_data = result$marginals.hyperpar\n",
    "hyperprec = hyperpar_data[[1]][, 'x']\n",
    "hypersig2 = 1.0 / hyperprec\n",
    "pdf = hyperpar_data[[1]][, 'y'] / hypersig2^2\n",
    "plot(log10(hypersig2), log10(pdf), type = \"l\")"
   ]
  },
  {
   "cell_type": "code",
   "execution_count": 45,
   "metadata": {
    "vscode": {
     "languageId": "r"
    }
   },
   "outputs": [
    {
     "name": "stderr",
     "output_type": "stream",
     "text": [
      "Warning message in inla.hyperpar(result):\n",
      "“inla.hyperpar: This function is deprecated, please do not use.”\n"
     ]
    },
    {
     "data": {
      "text/plain": [
       "Call:\n",
       "   c(\"inla.core(formula = formula, family = family, contrasts = contrasts, \n",
       "   \", \" data = data, quantiles = quantiles, E = E, offset = offset, \", \" \n",
       "   scale = scale, weights = weights, Ntrials = Ntrials, strata = strata, \n",
       "   \", \" lp.scale = lp.scale, link.covariates = link.covariates, verbose = \n",
       "   verbose, \", \" lincomb = lincomb, selection = selection, control.compute \n",
       "   = control.compute, \", \" control.predictor = control.predictor, \n",
       "   control.family = control.family, \", \" control.inla = control.inla, \n",
       "   control.fixed = control.fixed, \", \" control.mode = control.mode, \n",
       "   control.expert = control.expert, \", \" control.hazard = control.hazard, \n",
       "   control.lincomb = control.lincomb, \", \" control.update = \n",
       "   control.update, control.lp.scale = control.lp.scale, \", \" \n",
       "   control.pardiso = control.pardiso, only.hyperparam = only.hyperparam, \n",
       "   \", \" inla.call = inla.call, inla.arg = inla.arg, num.threads = \n",
       "   num.threads, \", \" blas.num.threads = blas.num.threads, keep = keep, \n",
       "   working.directory = working.directory, \", \" silent = silent, inla.mode \n",
       "   = inla.mode, safe = FALSE, debug = debug, \", \" .parent.frame = \n",
       "   .parent.frame)\") \n",
       "Time used:\n",
       "  Pre = 0.399, Running = 0.111, Post = 0.067, Total = 0.577"
      ]
     },
     "metadata": {},
     "output_type": "display_data"
    }
   ],
   "source": [
    "inla.hyperpar(result)"
   ]
  },
  {
   "cell_type": "code",
   "execution_count": 4,
   "metadata": {
    "vscode": {
     "languageId": "r"
    }
   },
   "outputs": [
    {
     "data": {
      "image/png": "[encoded data removed]",
      "text/plain": [
       "Plot with title “1.13938840757114”"
      ]
     },
     "metadata": {
      "image/png": {
       "height": 420,
       "width": 420
      }
     },
     "output_type": "display_data"
    }
   ],
   "source": [
    "# Plot marginal PDFs.\n",
    "# These will depend heavily on hyperparameter priors which I have just left\n",
    "# default for now.\n",
    "par(mfrow=c(2,2))\n",
    "for (i in 1:n_groups) {\n",
    "    theta_i <- result$marginals.linear.predictor[[i]][,1]\n",
    "    density <- result$marginals.linear.predictor[[i]][,2]\n",
    "    plot(theta_i, density, main=t_i[[i]])\n",
    "    abline(v=mean(t_i), col=\"blue\")\n",
    "}"
   ]
  },
  {
   "cell_type": "code",
   "execution_count": 5,
   "metadata": {
    "vscode": {
     "languageId": "r"
    }
   },
   "outputs": [
    {
     "name": "stdout",
     "output_type": "stream",
     "text": [
      "[1] 0.05422174\n",
      "                  low      high\n",
      "level:0.95 -0.2912725 0.7715989\n",
      "[1] -0.7058566\n",
      "                 low       high\n",
      "level:0.95 -1.398296 -0.1607867\n",
      "[1] 0.5411263\n",
      "                  low     high\n",
      "level:0.95 0.05131246 1.165621\n",
      "[1] 1.139388\n",
      "                 low     high\n",
      "level:0.95 0.2552132 1.437339\n"
     ]
    }
   ],
   "source": [
    "# Print 95% confidence intervals for the linear predictors. \n",
    "# I'm not 100% sure these are correct, but they track correctly with the y_i\n",
    "for (i in 1:n_groups) {\n",
    "    print(t_i[[i]])\n",
    "    print(inla.hpdmarginal(0.95, result$marginals.linear.predictor[[i]]))\n",
    "}"
   ]
  },
  {
   "cell_type": "code",
   "execution_count": 6,
   "metadata": {
    "vscode": {
     "languageId": "r"
    }
   },
   "outputs": [
    {
     "name": "stdout",
     "output_type": "stream",
     "text": [
      "[1] 28\n",
      "[1] 0.1887528\n",
      "[1] 14\n",
      "[1] 0.9950012\n",
      "[1] 33\n",
      "[1] 0.01385696\n",
      "[1] 36\n",
      "[1] 0.001383654\n"
     ]
    }
   ],
   "source": [
    "for (i in 1:n_groups) {\n",
    "    print(y_i[[i]])\n",
    "    print(inla.pmarginal(0, result$marginals.linear.predictor[[i]]))\n",
    "}"
   ]
  }
 ],
 "metadata": {
  "kernelspec": {
   "display_name": "R",
   "language": "R",
   "name": "ir"
  },
  "language_info": {
   "codemirror_mode": "r",
   "file_extension": ".r",
   "mimetype": "text/x-r-source",
   "name": "R",
   "pygments_lexer": "r",
   "version": "4.2.1"
  },
  "orig_nbformat": 4
 },
 "nbformat": 4,
 "nbformat_minor": 2
}
