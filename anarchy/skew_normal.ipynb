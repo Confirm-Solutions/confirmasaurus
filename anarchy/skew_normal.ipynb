{
 "cells": [
  {
   "cell_type": "code",
   "execution_count": 1,
   "metadata": {},
   "outputs": [],
   "source": [
    "from inlaw.nb_util import setup_nb\n",
    "setup_nb()"
   ]
  },
  {
   "cell_type": "code",
   "execution_count": 2,
   "metadata": {},
   "outputs": [
    {
     "name": "stderr",
     "output_type": "stream",
     "text": [
      "/Users/tbent/.mambaforge/envs/imprint2/lib/python3.10/site-packages/tqdm/auto.py:22: TqdmWarning: IProgress not found. Please update jupyter and ipywidgets. See https://ipywidgets.readthedocs.io/en/stable/user_install.html\n",
      "  from .autonotebook import tqdm as notebook_tqdm\n"
     ]
    }
   ],
   "source": [
    "import inlaw.inla as inla\n",
    "import inlaw.quad as quad\n",
    "import inlaw.berry as berry\n",
    "import numpy as np\n",
    "from numpy import nan\n",
    "import matplotlib.pyplot as plt\n",
    "import scipy.stats\n",
    "import jax\n",
    "import jax.numpy as jnp\n",
    "import numpyro.infer\n",
    "import numpyro.distributions as dist"
   ]
  },
  {
   "cell_type": "code",
   "execution_count": 3,
   "metadata": {},
   "outputs": [],
   "source": [
    "N = 100\n",
    "data = berry.figure2_data(N=N)"
   ]
  },
  {
   "cell_type": "code",
   "execution_count": 4,
   "metadata": {},
   "outputs": [],
   "source": [
    "sig2_rule = quad.log_gauss_rule(15, 1e-6, 1e3)\n",
    "ops = berry.optimized(sig2_rule.pts)\n",
    "p_ex = dict(sig2=np.array([nan]), theta=np.zeros(4))\n",
    "lj_f = berry.log_joint(4)\n",
    "ops = inla.from_log_joint(lj_f, p_ex)\n",
    "p_pinned = dict(sig2=sig2_rule.pts, theta=None)\n",
    "logpost, x_max, hess_info, iters = jax.vmap(\n",
    "    ops.laplace_logpost, in_axes=(None, None, 0)\n",
    ")(jnp.zeros((15, 4)), p_pinned, data)\n",
    "sig2_post = inla.exp_and_normalize(logpost, sig2_rule.wts[None], axis=1)"
   ]
  },
  {
   "cell_type": "code",
   "execution_count": 5,
   "metadata": {},
   "outputs": [],
   "source": [
    "invv = jax.jit(jax.vmap(jax.vmap(ops.invert)))\n",
    "inv_hess = invv(hess_info)"
   ]
  },
  {
   "cell_type": "markdown",
   "metadata": {},
   "source": [
    "### Compare against full laplace"
   ]
  },
  {
   "cell_type": "code",
   "execution_count": 6,
   "metadata": {},
   "outputs": [
    {
     "data": {
      "text/plain": [
       "DeviceArray([-3.93183292, -0.07768507, -0.01243225, -0.01163838], dtype=float64)"
      ]
     },
     "execution_count": 6,
     "metadata": {},
     "output_type": "execute_result"
    }
   ],
   "source": [
    "inv_hess[0,10, 0, :]"
   ]
  },
  {
   "cell_type": "code",
   "execution_count": 7,
   "metadata": {},
   "outputs": [],
   "source": [
    "arm_logpost_f = jax.jit(\n",
    "    jax.vmap(\n",
    "        jax.vmap(\n",
    "            ops.cond_laplace_logpost, in_axes=(0, 0, None, 0, 0, None, None)\n",
    "        ),\n",
    "        in_axes=(None, None, None, None, 0, None, None),\n",
    "    ),\n",
    "    static_argnums=(5, 6),\n",
    ")\n",
    "arm_post = []\n",
    "arm_cx = []\n",
    "for arm_idx in range(4):\n",
    "    cx, wts = inla.gauss_hermite_grid(\n",
    "        x_max, inv_hess[..., arm_idx, :], arm_idx, n=25\n",
    "    )\n",
    "    arm_logpost = arm_logpost_f(\n",
    "        x_max, inv_hess[:, :, arm_idx], p_pinned, data, cx, arm_idx, True\n",
    "    )\n",
    "    arm_cx.append(cx)\n",
    "    arm_post.append(inla.exp_and_normalize(arm_logpost, wts, axis=0))\n",
    "arm_cx = jnp.array(arm_cx)\n",
    "arm_post = jnp.array(arm_post)"
   ]
  },
  {
   "cell_type": "markdown",
   "metadata": {},
   "source": [
    "### Correlation coefficients from the conditional mean\n",
    "\n",
    "Equation 14 from the Rue paper. \n",
    "$$\n",
    "\\frac{E_{\\tilde{\\pi}_G}(x_j|x_i) - \\mu_j(\\theta)}{\\sigma_j(\\theta)} = a_{ij} \\frac{x_i - \\mu_i(\\theta)}{\\sigma_i(\\theta)}\n",
    "$$\n",
    "Understanding this:\n",
    "\n",
    "Both sides are standardized values. The coefficient $a_{ij}$ that relates the two sides is effectively how much the conditional expectation of $x_j$ moves given a unit movement of $x_i$. In some sense, this is how tightly coupled the two variables are.\n",
    "\n",
    "The values of $a_{ij}$ are correlation coefficients. Given a known covariance matrix $\\Sigma_{ij}$, the conditional expectation is:\n",
    "\n",
    "$$\n",
    "E_{\\tilde{\\pi}_G}(x_j|x_i) = \\mu_j + \\Sigma_{ij} \\bigg(\\frac{x - \\mu_i}{\\Sigma_{ii}}\\bigg)\n",
    "$$\n",
    "\n",
    "Also: $\\sigma_i = \\sqrt{\\Sigma_{ii}}$\n",
    "\n",
    "Putting the two above equations together, we can write $a_{ij}$ in terms of $\\Sigma$:\n",
    "\n",
    "$$\n",
    "a_{ij} = \\frac{\\Sigma_{ij}}{\\sigma_i \\sigma_j}\n",
    "$$\n",
    "\n",
    "This is the definition of a correlation coefficient."
   ]
  },
  {
   "cell_type": "code",
   "execution_count": 8,
   "metadata": {},
   "outputs": [],
   "source": [
    "cov = -inv_hess[0,:]\n",
    "std_dev = np.sqrt(np.diagonal(cov, axis1=-2, axis2=-1))\n",
    "a_ij = cov / np.einsum('...i,...j->...ij', std_dev, std_dev)"
   ]
  },
  {
   "cell_type": "code",
   "execution_count": 9,
   "metadata": {},
   "outputs": [],
   "source": [
    "cond_mu = []\n",
    "cond_hess = []\n",
    "for armi_idx in range(4):\n",
    "    cond_mu.append(inla.mvn_conditional_meanv(x_max[0], inv_hess[0, :, armi_idx], x_max[0, :, armi_idx] * 0, armi_idx))\n",
    "    cond_hess.append(ops.reduced_hessv(cond_mu[-1], p_pinned, data, armi_idx))\n",
    "cond_mu = jnp.array(cond_mu)\n",
    "cond_hess = jnp.array(cond_hess)\n",
    "\n",
    "for i in range(4):\n",
    "    mu = x_max[i,:]\n",
    "    cmu = cond_mu[i,:]\n",
    "    std_dev = np.sqrt(np.diagonal(-inv_hess[0,:], axis1=-2, axis2=-1))\n",
    "    xs = (0 - mu[..., i]) / std_dev[..., i]\n",
    "    a_ij_correct = ((cmu - mu) / std_dev) / xs[:, None]\n",
    "    np.testing.assert_almost_equal(a_ij[:,i].to_py(), a_ij_correct.to_py())"
   ]
  },
  {
   "cell_type": "markdown",
   "metadata": {},
   "source": [
    "### Third derivative facts.\n",
    "\n",
    "- The third derivative of a Gaussian density is zero! (by definition)\n",
    "- Thus, in a typical INLA model, when conditioning on the hyperparameter, the third derivative is composed entirely of the log likelihood of the data conditional on the latent variables.\n",
    "- In a typical INLA model, the data are related to individual Gaussian latent variables.\n",
    "- Therefore, the third derivative tensor is actually diagonal because all interactions are limited to zeroth/first/second order effects.\n",
    "\n",
    "This is why the equation in Rue refers to $\\pi(y_j|x_j, \\theta)$ \n",
    "\n",
    "<img src=\"2022-07-19-19-00-44.png\" width=\"400\"/>\n",
    "\n",
    "### Denominator expansion\n",
    "\n"
   ]
  },
  {
   "cell_type": "code",
   "execution_count": 10,
   "metadata": {},
   "outputs": [],
   "source": [
    "armi_idx = 0\n",
    "def denom(x_i, x_max, inv_hess, p_pinned, data):\n",
    "    cond_mu = inla.mvn_conditional_mean(x_max, inv_hess, x_i, armi_idx)\n",
    "    H = ops.reduced_hessv(cond_mu[None], dict(sig2=p_pinned['sig2'][None], theta=None), data, armi_idx)[0]\n",
    "    # The negative sign is because gamma1 comes from the denominator, see eqtn 21 in Rue.\n",
    "    return -0.5 * jnp.linalg.slogdet(H[None])[1][0]\n",
    "denom_f = jax.jit(jax.vmap(jax.grad(denom), in_axes=(0,0,0,0,None)))\n",
    "denom_jax = denom_f(x_max[0,:,0], x_max[0], inv_hess[0,:,armi_idx], p_pinned, data[0])"
   ]
  },
  {
   "cell_type": "code",
   "execution_count": 11,
   "metadata": {},
   "outputs": [
    {
     "data": {
      "text/plain": [
       "array([[-1.89317814, -1.8931785 , -3.31306573, -3.31306637],\n",
       "       [-1.89317702, -1.89317763, -3.31306651, -3.31306759],\n",
       "       [-1.89317284, -1.89317438, -3.31306941, -3.31307211],\n",
       "       [-1.89315476, -1.89316033, -3.31308196, -3.3130917 ],\n",
       "       [-1.89305707, -1.89308441, -3.31314966, -3.31319737],\n",
       "       [-1.89241073, -1.89258267, -3.3135938 , -3.31388976],\n",
       "       [-1.88736538, -1.88869874, -3.31685354, -3.3189242 ],\n",
       "       [-1.83994247, -1.85377413, -3.33718988, -3.34773598],\n",
       "       [-1.44746037, -1.58526149, -3.36721112, -3.34262648],\n",
       "       [-0.62280055, -1.07571967, -3.30717799, -3.17308978],\n",
       "       [-0.18667765, -0.88631817, -3.26306158, -3.08835179],\n",
       "       [-0.05578223, -0.85877986, -3.25130248, -3.06788028],\n",
       "       [-0.02019243, -0.85586443, -3.24849263, -3.06314232],\n",
       "       [-0.00963231, -0.85547018, -3.24777735, -3.06194807],\n",
       "       [-0.00627686, -0.85534518, -3.24758785, -3.06163141]])"
      ]
     },
     "execution_count": 11,
     "metadata": {},
     "output_type": "execute_result"
    }
   ],
   "source": [
    "def lj_f0(x_i, x_max, sig2, data, i):\n",
    "    theta = x_max.at[i].set(x_i)\n",
    "    return ops.log_jointv(theta[None], dict(sig2=sig2[None], theta=None), data)[0]\n",
    "d3_f = jax.jit(\n",
    "    jax.vmap(jax.grad(jax.grad(jax.grad(lj_f0))), in_axes=(0, 0, 0, None, None)),\n",
    "    static_argnums=(4,),\n",
    ")\n",
    "d3 = []\n",
    "for i in range(4):\n",
    "    d3.append(d3_f(x_max[0, :, i], x_max[0], sig2_rule.pts, data[0], i))\n",
    "d3 = np.array(d3).T\n",
    "d3"
   ]
  },
  {
   "cell_type": "code",
   "execution_count": 12,
   "metadata": {},
   "outputs": [
    {
     "data": {
      "text/plain": [
       "DeviceArray([[-1.89317814, -1.8931785 , -3.31306573, -3.31306637],\n",
       "             [-1.89317702, -1.89317763, -3.31306651, -3.31306759],\n",
       "             [-1.89317284, -1.89317438, -3.31306941, -3.31307211],\n",
       "             [-1.89315476, -1.89316033, -3.31308196, -3.3130917 ],\n",
       "             [-1.89305707, -1.89308441, -3.31314966, -3.31319737],\n",
       "             [-1.89241073, -1.89258267, -3.3135938 , -3.31388976],\n",
       "             [-1.88736538, -1.88869874, -3.31685354, -3.3189242 ],\n",
       "             [-1.83994247, -1.85377413, -3.33718988, -3.34773598],\n",
       "             [-1.44746037, -1.58526149, -3.36721112, -3.34262648],\n",
       "             [-0.62280055, -1.07571967, -3.30717799, -3.17308978],\n",
       "             [-0.18667765, -0.88631817, -3.26306158, -3.08835179],\n",
       "             [-0.05578223, -0.85877986, -3.25130248, -3.06788028],\n",
       "             [-0.02019243, -0.85586443, -3.24849263, -3.06314232],\n",
       "             [-0.00963231, -0.85547018, -3.24777735, -3.06194807],\n",
       "             [-0.00627686, -0.85534518, -3.24758785, -3.06163141]], dtype=float64)"
      ]
     },
     "execution_count": 12,
     "metadata": {},
     "output_type": "execute_result"
    }
   ],
   "source": [
    "def d3_analytical(theta, data):\n",
    "    y = data[..., 0]\n",
    "    n = data[..., 1]\n",
    "    exp_theta_adj = jnp.exp(theta + berry.logit_p1)\n",
    "    C = 1 / (exp_theta_adj + 1)\n",
    "    # return -n * C ** 2 * exp_theta_adj\n",
    "    dCdt = -exp_theta_adj * C ** 2\n",
    "    return -n * C ** 2 * exp_theta_adj * (-2 * exp_theta_adj * C + 1)\n",
    "jax.vmap(d3_analytical, in_axes=(0,None))(x_max[0, :], data[0])"
   ]
  },
  {
   "cell_type": "code",
   "execution_count": 13,
   "metadata": {},
   "outputs": [],
   "source": [
    "nonarm_idx = jnp.setdiff1d(jnp.arange(4), armi_idx).to_py()\n",
    "# reduced_hess = np.delete(np.delete(hess_info, armi_idx, axis=-2), armi_idx, axis=-1)\n",
    "# T = np.linalg.inv(reduced_hess)\n",
    "# cond_var = np.diagonal(-T[0], axis1=-2, axis2=-1)\n",
    "corr_xi_xj = inv_hess[0, :, armi_idx, :][:, nonarm_idx] / (std_dev[:, nonarm_idx] * std_dev[:, None, armi_idx])\n",
    "cond_var = std_dev[:, nonarm_idx] ** 2 * (1 - (corr_xi_xj) ** 2)"
   ]
  },
  {
   "cell_type": "code",
   "execution_count": 14,
   "metadata": {},
   "outputs": [
    {
     "data": {
      "text/plain": [
       "(DeviceArray([1.        , 1.        , 1.        , 1.        , 1.        , 1.        , 1.        ,\n",
       "              1.        , 1.        , 1.        , 1.        , 1.        , 1.        , 1.        ,\n",
       "              0.99999997], dtype=float64),\n",
       " DeviceArray([-1.16234943e-16,  1.20786898e-17,  4.46826820e-17, -9.67650439e-17, -8.37004077e-17,\n",
       "              -7.19910243e-17, -9.71445147e-17, -1.38777878e-17,  0.00000000e+00,  0.00000000e+00,\n",
       "               3.46944695e-18,  4.33680869e-19,  9.31709137e-16,  2.86174364e-13,  1.21094821e-12],            dtype=float64))"
      ]
     },
     "execution_count": 14,
     "metadata": {},
     "output_type": "execute_result"
    }
   ],
   "source": [
    "gamma1 = (\n",
    "    0.5\n",
    "    * np.sum(\n",
    "        cond_var\n",
    "        * d3[:, nonarm_idx]\n",
    "        * a_ij[:, armi_idx, nonarm_idx]\n",
    "        * std_dev[:, nonarm_idx],\n",
    "        axis=1,\n",
    "    )\n",
    "    / std_dev[:, armi_idx]\n",
    ")\n",
    "gamma1 / denom_jax, gamma1 - denom_jax"
   ]
  },
  {
   "cell_type": "markdown",
   "metadata": {},
   "source": [
    "### Numerator expression"
   ]
  },
  {
   "cell_type": "code",
   "execution_count": 15,
   "metadata": {},
   "outputs": [],
   "source": [
    "# def fun(x_i, x_max, inv_hess, p_pinned, data):\n",
    "#     cond_mu = inla.mvn_conditional_mean(x_max, inv_hess, x_i, armi_idx)\n",
    "#     return cond_mu[1]\n",
    "# fun_d1_f = jax.vmap(jax.grad(fun), in_axes=(0, 0, 0, 0, None))\n",
    "# fun_d1 = fun_d1_f(x_max[0,:,0], x_max[0], inv_hess[0,:,armi_idx], p_pinned, data[0])\n",
    "# fun_d1, a_ij[:, armi_idx, ]"
   ]
  },
  {
   "cell_type": "code",
   "execution_count": 16,
   "metadata": {},
   "outputs": [],
   "source": [
    "def numer(x_i, x_max, inv_hess, p_pinned, data):\n",
    "    cond_mu = inla.mvn_conditional_mean(x_max, inv_hess, x_i, armi_idx)\n",
    "    lj = ops.log_jointv(cond_mu[None], dict(sig2=p_pinned['sig2'][None], theta=None), data)\n",
    "    return lj[0]"
   ]
  },
  {
   "cell_type": "code",
   "execution_count": 17,
   "metadata": {},
   "outputs": [
    {
     "data": {
      "text/plain": [
       "DeviceArray([1.04105927e+01, 1.04115292e+01, 1.04107397e+01, 1.04042482e+01, 1.03741472e+01,\n",
       "             1.01702972e+01, 8.81890227e+00, 4.00171067e+00, 1.49835842e+00, 6.23507155e-01,\n",
       "             1.86681946e-01, 5.57828997e-02, 2.01926366e-02, 9.63251855e-03, 6.27706856e-03],            dtype=float64)"
      ]
     },
     "execution_count": 17,
     "metadata": {},
     "output_type": "execute_result"
    }
   ],
   "source": [
    "numer_f = jax.vmap(numer, in_axes=(0, 0, 0, 0, None))\n",
    "h = std_dev[:, 0] * 0.001\n",
    "numer_2 = numer_f(x_max[0,:,0] + 2 * h, x_max[0], inv_hess[0,:,armi_idx], p_pinned, data[0])\n",
    "numer_1 = numer_f(x_max[0,:,0] + h, x_max[0], inv_hess[0,:,armi_idx], p_pinned, data[0])\n",
    "numer_0 = numer_f(x_max[0,:,0], x_max[0], inv_hess[0,:,armi_idx], p_pinned, data[0])\n",
    "numer_m1 = numer_f(x_max[0,:,0] - h, x_max[0], inv_hess[0,:,armi_idx], p_pinned, data[0])\n",
    "numer_m2 = numer_f(x_max[0,:,0] - 2 * h, x_max[0], inv_hess[0,:,armi_idx], p_pinned, data[0])\n",
    "numer_fd_d2_1 = (numer_2 - 2 * numer_1 + numer_0) / (h ** 2)\n",
    "numer_fd_d2_2 = (numer_0 - 2 * numer_m1 + numer_m2) / (h ** 2)\n",
    "numer_fd_d2 = (numer_fd_d2_2 + numer_fd_d2_1) * 0.5\n",
    "numer_fd_d3 = (numer_fd_d2_2 - numer_fd_d2_1) / (2 * h)\n",
    "numer_fd_d3"
   ]
  },
  {
   "cell_type": "code",
   "execution_count": 18,
   "metadata": {},
   "outputs": [
    {
     "data": {
      "text/plain": [
       "(array([-1.63690163e+01, -1.63688264e+01, -1.63681222e+01, -1.63650775e+01, -1.63486542e+01,\n",
       "        -1.62413177e+01, -1.54743925e+01, -1.13318538e+01, -4.20970616e+00, -1.05255156e+00,\n",
       "        -2.54334307e-01, -6.96622211e-02, -2.42593116e-02, -1.13494041e-02, -7.32717889e-03]),\n",
       " DeviceArray([-1.63690163e+01, -1.63688264e+01, -1.63681222e+01, -1.63650775e+01, -1.63486542e+01,\n",
       "              -1.62413177e+01, -1.54743925e+01, -1.13318538e+01, -4.20970616e+00, -1.05255156e+00,\n",
       "              -2.54334307e-01, -6.96622211e-02, -2.42593115e-02, -1.13492620e-02, -7.32501458e-03],            dtype=float64),\n",
       " DeviceArray([-1.63690164e+01, -1.63688263e+01, -1.63681227e+01, -1.63650771e+01, -1.63486547e+01,\n",
       "              -1.62413178e+01, -1.54743927e+01, -1.13318539e+01, -4.20970625e+00, -1.05255182e+00,\n",
       "              -2.54334723e-01, -6.96626843e-02, -2.42597949e-02, -1.13497563e-02, -7.32551354e-03],            dtype=float64))"
      ]
     },
     "execution_count": 18,
     "metadata": {},
     "output_type": "execute_result"
    }
   ],
   "source": [
    "numer_d2_f = jax.vmap(jax.grad(jax.grad(numer)), in_axes=(0, 0, 0, 0, None))\n",
    "numer_d2 = numer_d2_f(x_max[0,:,0], x_max[0], inv_hess[0,:,armi_idx], p_pinned, data[0])\n",
    "\n",
    "gamma2 = -1.0 / (std_dev[..., armi_idx] ** 2)\n",
    "gamma2, numer_d2, numer_fd_d2"
   ]
  },
  {
   "cell_type": "code",
   "execution_count": 19,
   "metadata": {},
   "outputs": [
    {
     "data": {
      "text/plain": [
       "(DeviceArray([-1.04119647e+01, -1.04116025e+01, -1.04102587e+01, -1.04044505e+01, -1.03731675e+01,\n",
       "              -1.01706576e+01, -8.81938585e+00, -4.00119390e+00, -1.49831493e+00, -6.23498580e-01,\n",
       "              -1.86684670e-01, -5.57822824e-02, -2.01924278e-02, -9.63230681e-03, -6.27685875e-03],            dtype=float64),\n",
       " DeviceArray([-1.04119647e+01, -1.04116025e+01, -1.04102587e+01, -1.04044505e+01, -1.03731675e+01,\n",
       "              -1.01706576e+01, -8.81938585e+00, -4.00119390e+00, -1.49831493e+00, -6.23498580e-01,\n",
       "              -1.86684670e-01, -5.57822824e-02, -2.01924278e-02, -9.63230681e-03, -6.27685875e-03],            dtype=float64),\n",
       " DeviceArray([1.04105927e+01, 1.04115292e+01, 1.04107397e+01, 1.04042482e+01, 1.03741472e+01,\n",
       "              1.01702972e+01, 8.81890227e+00, 4.00171067e+00, 1.49835842e+00, 6.23507155e-01,\n",
       "              1.86681946e-01, 5.57828997e-02, 2.01926366e-02, 9.63251855e-03, 6.27706856e-03],            dtype=float64))"
      ]
     },
     "execution_count": 19,
     "metadata": {},
     "output_type": "execute_result"
    }
   ],
   "source": [
    "numer_d3_f = jax.vmap(jax.grad(jax.grad(jax.grad(numer))), in_axes=(0, 0, 0, 0, None))\n",
    "numer_d3 = numer_d3_f(x_max[0,:,0], x_max[0], inv_hess[0,:,armi_idx], p_pinned, data[0])\n",
    "\n",
    "gamma3 = np.sum(\n",
    "    d3[:, nonarm_idx] * (std_dev[:, nonarm_idx] * a_ij[:, armi_idx, nonarm_idx]) ** 3,\n",
    "    axis=-1,\n",
    ") / (std_dev[:, armi_idx] ** 3) + d3[:, 0]\n",
    "gamma3, numer_d3, numer_fd_d3"
   ]
  },
  {
   "cell_type": "code",
   "execution_count": 20,
   "metadata": {},
   "outputs": [],
   "source": [
    "gamma3 = np.sum(\n",
    "    d3[:, nonarm_idx] * (std_dev[:, nonarm_idx] * a_ij[:, armi_idx, nonarm_idx]) ** 3,\n",
    "    axis=-1,\n",
    ") + d3[:, 0]"
   ]
  },
  {
   "cell_type": "code",
   "execution_count": 21,
   "metadata": {},
   "outputs": [],
   "source": [
    "tgamma1 = gamma1 * std_dev[:,armi_idx] ** 1\n",
    "tgamma2 = gamma2 * std_dev[:,armi_idx] ** 2\n",
    "tgamma3 = gamma3 * std_dev[:,armi_idx] ** 3\n",
    "sig_idx = 10\n",
    "tgamma1 = tgamma1[sig_idx]\n",
    "tgamma2 = tgamma2[sig_idx]\n",
    "tgamma3 = tgamma3[sig_idx]"
   ]
  },
  {
   "cell_type": "code",
   "execution_count": 22,
   "metadata": {},
   "outputs": [
    {
     "data": {
      "text/plain": [
       "(DeviceArray(-0.01926623, dtype=float64),\n",
       " -1.0,\n",
       " DeviceArray(-1.45583517, dtype=float64))"
      ]
     },
     "execution_count": 22,
     "metadata": {},
     "output_type": "execute_result"
    }
   ],
   "source": [
    "tgamma1, tgamma2, tgamma3"
   ]
  },
  {
   "cell_type": "markdown",
   "metadata": {},
   "source": [
    "### Skew-normal distribution"
   ]
  },
  {
   "cell_type": "markdown",
   "metadata": {},
   "source": [
    "![](2022-07-20-14-06-58.png)\n",
    "\n",
    "<img src=\"2022-07-20-16-57-35.png\" width=\"40%\"/>"
   ]
  },
  {
   "cell_type": "markdown",
   "metadata": {},
   "source": [
    "Start with:\n",
    "$$\n",
    "\\frac{(4 - \\pi) \\sqrt{2}}{\\pi^{3/2}} \\bigg(\\frac{a}{w}\\bigg)^3 = C \\bigg(\\frac{a}{w}\\bigg)^3 = \\gamma^{(3)}\n",
    "$$\n",
    "Define:\n",
    "$$\n",
    "R = \\frac{a}{\\omega} = \\bigg(\\frac{\\gamma^{(3)}}{C}\\bigg)^{1/3}\n",
    "$$\n",
    "\n",
    "Solve:\n",
    "\n",
    "\\begin{align}\n",
    "a = R\\omega \\\\\n",
    "\\omega^2 (1 - 2\\delta^2 / \\pi) = 1\\\\\n",
    "\\delta = a/\\sqrt{(1 + a^2)}\\\\\n",
    "\\end{align}\n",
    "\n",
    "Therefore:\n",
    "\n",
    "\\begin{align}\n",
    "\\omega^4 R^2 (1 - 2 / \\pi) + \\omega^2 (1 - R^2) - 1 = 0\n",
    "\\end{align}\n",
    "\n",
    "And:\n",
    "\n",
    "\\begin{align}\n",
    "\\xi + \\omega\\delta\\sqrt{2 / \\pi} = \\gamma^{(1)}\n",
    "\\end{align}"
   ]
  },
  {
   "cell_type": "code",
   "execution_count": 23,
   "metadata": {},
   "outputs": [],
   "source": [
    "# C = (4 - np.pi) * np.sqrt(2) / (np.pi ** 1.5)\n",
    "# R = np.cbrt(tgamma3 / C)\n",
    "# cc = 1.0 / R\n",
    "# a_a = cc ** 2 * (1 - 2 / np.pi)\n",
    "# a_b = cc**2 -1\n",
    "# a_c = -1\n",
    "# sol1 = (-a_b + np.sqrt(a_b ** 2 - 4 * a_a * a_c)) / (2 * a_a)\n",
    "# a = np.sqrt(sol1) * np.sign(tgamma3)\n",
    "# tmp = 1.0 / (1.0 - (2.0 / np.pi) * a ** 2 / (1 + a ** 2))\n",
    "# w = np.sqrt(tmp)\n",
    "# xi = -tgamma1 - w * np.sqrt(2 / np.pi) * a / np.sqrt(1 + a ** 2)\n",
    "# xi, w, a"
   ]
  },
  {
   "cell_type": "code",
   "execution_count": 27,
   "metadata": {},
   "outputs": [
    {
     "data": {
      "text/plain": [
       "(DeviceArray(-0.01926623, dtype=float64),\n",
       " DeviceArray(-1.45583517, dtype=float64))"
      ]
     },
     "execution_count": 27,
     "metadata": {},
     "output_type": "execute_result"
    }
   ],
   "source": [
    "tgamma1, tgamma3"
   ]
  },
  {
   "cell_type": "code",
   "execution_count": 24,
   "metadata": {},
   "outputs": [
    {
     "data": {
      "text/plain": [
       "(DeviceArray(1.12598929, dtype=float64),\n",
       " 1.5203980395187602,\n",
       " -2.8630801006379754)"
      ]
     },
     "execution_count": 24,
     "metadata": {},
     "output_type": "execute_result"
    }
   ],
   "source": [
    "C = (4 - np.pi) * np.sqrt(2) / (np.pi ** 1.5)\n",
    "R = np.cbrt(tgamma3 / C)\n",
    "w_a = R ** 2 * (1 - 2 / np.pi)\n",
    "w_b = 1 - R ** 2\n",
    "w_c = -1\n",
    "# select the solution that is greater than 0\n",
    "if w_a == 0:\n",
    "    w2 = -w_c / w_b\n",
    "else:\n",
    "    w2 = (-w_b + np.sqrt(w_b ** 2 - 4 * w_a * w_c)) / (2 * w_a)\n",
    "w = np.sqrt(w2) * (-np.sign(tgamma3))\n",
    "a = R * w\n",
    "delta = a / np.sqrt(1 + a ** 2)\n",
    "# TODO: r-inla has (-tgamma1) here. i'm not totally sure it's a bug, but it might be.\n",
    "xi = tgamma1 - w * delta * np.sqrt(2 / np.pi)\n",
    "xi, w, a"
   ]
  },
  {
   "cell_type": "code",
   "execution_count": 25,
   "metadata": {},
   "outputs": [
    {
     "data": {
      "text/plain": [
       "(array(-0.64471921), DeviceArray(-1.45583517, dtype=float64))"
      ]
     },
     "execution_count": 25,
     "metadata": {},
     "output_type": "execute_result"
    }
   ],
   "source": [
    "skewness = (4 - np.pi) / 2 * (delta * np.sqrt(2 / np.pi)) ** 3 / (1 - 2 * delta ** 2 / np.pi) ** 1.5\n",
    "m0 = np.sqrt(2 / np.pi) * delta - np.sign(a) / 2 * np.exp(-2 * np.pi / np.abs(a))\n",
    "mode = xi + w * m0\n",
    "mode\n",
    "mode2 = a / w * (np.sqrt(2 * np.pi) + 2 * xi * (a / w)) / (np.pi + 2 * (a / w) ** 2)\n",
    "mode, mode2\n",
    "sn_mean, sn_var, sn_skewness, sn_kurt = scipy.stats.skewnorm.stats(a=a, loc=xi, scale=w, moments='mvsk')\n",
    "sn_skewness, tgamma3"
   ]
  },
  {
   "cell_type": "code",
   "execution_count": 26,
   "metadata": {},
   "outputs": [
    {
     "data": {
      "image/png": "[encoded data removed]",
      "text/plain": [
       "<Figure size 432x288 with 1 Axes>"
      ]
     },
     "metadata": {
      "image/png": {
       "height": 249,
       "width": 377
      },
      "needs_background": "light"
     },
     "output_type": "display_data"
    }
   ],
   "source": [
    "Asd = std_dev[sig_idx, armi_idx]\n",
    "Amu = x_max[0, sig_idx, armi_idx]\n",
    "def skew_norm(xs):\n",
    "    unit_xs = (xs - Amu) / Asd\n",
    "    return scipy.stats.skewnorm.pdf((unit_xs - xi) / w, a) / (w * Asd)\n",
    "arm_xs = arm_cx[armi_idx,:,0,sig_idx]\n",
    "xs = np.linspace(np.min(arm_xs), np.max(arm_xs), 200)\n",
    "plt.plot(xs, skew_norm(xs))\n",
    "plt.plot(arm_xs, arm_post[armi_idx,:,0,sig_idx], 'k-o')\n",
    "# plt.plot(xs, scipy.stats.norm.pdf(xs, loc=Amu, scale=Asd), 'r-')\n",
    "plt.axvline(x=mode * Asd + Amu, color='r')\n",
    "plt.axvline(x=sn_mean * Asd + Amu, color='b')\n",
    "plt.axvline(x=(sn_mean - 3 * np.sqrt(sn_var)) * Asd + Amu, color='k')\n",
    "plt.axvline(x=(sn_mean + 3 * np.sqrt(sn_var)) * Asd + Amu, color='k')\n",
    "plt.show()"
   ]
  },
  {
   "cell_type": "markdown",
   "metadata": {},
   "source": [
    "### Figuring out the skew-normal thingy..."
   ]
  },
  {
   "cell_type": "code",
   "execution_count": 72,
   "metadata": {},
   "outputs": [],
   "source": [
    "def log_normal_pdf(xt):\n",
    "    return scipy.stats.norm.logpdf(xt)\n",
    "    \n",
    "def log_normal_cdf(xt):\n",
    "    return scipy.stats.norm.logcdf(xt)\n",
    "\n",
    "def log_skew_normal_pdf(z, xi, omega, a):\n",
    "    xt = (z - xi) / omega\n",
    "    return jnp.log(2) - jnp.log(omega) + log_normal_pdf(xt) + log_normal_cdf(a * xt)\n",
    "\n",
    "\n",
    "def get_skew_normal_params(g1, g3):\n",
    "    \"\"\"Calculate the skew normal parameters (based on algebra in the appendix of Rue 2009).\"\"\"\n",
    "    c = 4.58686951235508 * g3\n",
    "    c = jnp.cbrt(c)\n",
    "    assert not jnp.isnan(c).any()\n",
    "    c2 = c * c\n",
    "    w = (\n",
    "        jnp.sqrt(jnp.pi) * jnp.sqrt(jnp.pi * c2**2 + 2 * (jnp.pi - 4) * c2 + jnp.pi)\n",
    "        + jnp.pi * (c2 - 1)\n",
    "    ) / (2 * (jnp.pi - 2) * c2)\n",
    "    w = jnp.sqrt(w)\n",
    "    assert not jnp.isnan(w).any()\n",
    "    a = w * c\n",
    "    d = a / jnp.sqrt(1 + a * a)\n",
    "    assert not jnp.isnan(d).any()\n",
    "    e = g1 - (w * d * jnp.sqrt(2 / jnp.pi))\n",
    "    return e, w, a"
   ]
  },
  {
   "cell_type": "code",
   "execution_count": 73,
   "metadata": {},
   "outputs": [],
   "source": [
    "def SQR(x):\n",
    "    return x * x\n",
    "\n",
    "def get_skew_normal_params2(deriv_log_dens_cond, third_order_derivative):\n",
    "    \"\"\"Calculate the skew normal parameters (based on R-INLA).\"\"\"\n",
    "    a_sigma = jnp.cbrt(third_order_derivative / 0.2180136141449902)\n",
    "    cc = 1.0 / a_sigma\n",
    "    sol1 = GMRFLib_2order_poleq(SQR(cc) * (1.0 - 2.0 / jnp.pi), SQR(cc) - 1.0, -1.0)\n",
    "    alpha = jnp.sqrt(sol1) * (1.0 if third_order_derivative > 0.0 else -1.0)\n",
    "    aa = alpha\n",
    "    tmp = 1.0 / (1.0 - (2.0 / jnp.pi) * SQR(aa) / (1.0 + SQR(aa)))\n",
    "    if tmp > 0.0:\n",
    "        omega = jnp.sqrt(tmp)\n",
    "        xi = -deriv_log_dens_cond - omega * jnp.sqrt(2.0 / jnp.pi) * aa / jnp.sqrt(\n",
    "            1.0 + SQR(aa)\n",
    "        )\n",
    "    return alpha, omega, xi\n",
    "\n",
    "def GMRFLib_2order_poleq(a, b, c):\n",
    "    # /*\n",
    "    #  * solve the equation a*x^2 + b*x + c,\n",
    "    #  *\n",
    "    #  * return the two solutions in sol1 and sol2. return GMRFLib_EMISC if there is complex solutions.\n",
    "    #  */\n",
    "\n",
    "    tmp = SQR(b) - 4.0 * a * c\n",
    "\n",
    "    assert tmp > 0.0\n",
    "\n",
    "    if a == 0:\n",
    "        sol1 = -c / b\n",
    "    else:\n",
    "        sol1 = (-b + jnp.sqrt(tmp)) / (2.0 * a)\n",
    "    return sol1"
   ]
  },
  {
   "cell_type": "code",
   "execution_count": 74,
   "metadata": {},
   "outputs": [
    {
     "data": {
      "text/plain": [
       "((DeviceArray(1.16449315, dtype=float64),\n",
       "  DeviceArray(1.5203765, dtype=float64),\n",
       "  DeviceArray(-2.8627957, dtype=float64)),\n",
       " (DeviceArray(-2.8627957, dtype=float64),\n",
       "  DeviceArray(1.5203765, dtype=float64),\n",
       "  DeviceArray(1.12596069, dtype=float64)))"
      ]
     },
     "execution_count": 74,
     "metadata": {},
     "output_type": "execute_result"
    }
   ],
   "source": [
    "get_skew_normal_params(tgamma1, tgamma3), get_skew_normal_params2(tgamma1, tgamma3)"
   ]
  },
  {
   "cell_type": "code",
   "execution_count": 75,
   "metadata": {},
   "outputs": [
    {
     "data": {
      "text/plain": [
       "(-2.862795697022681,\n",
       " 1.5203764991632924,\n",
       " DeviceArray(1.16449315, dtype=float64))"
      ]
     },
     "execution_count": 75,
     "metadata": {},
     "output_type": "execute_result"
    }
   ],
   "source": [
    "a, w, xi"
   ]
  },
  {
   "cell_type": "markdown",
   "metadata": {},
   "source": [
    "### Junk"
   ]
  },
  {
   "cell_type": "code",
   "execution_count": null,
   "metadata": {},
   "outputs": [],
   "source": [
    "def lj_f0(x, params, data, i):\n",
    "    p_theta = params['theta'].at[i].set(x)\n",
    "    return lj_f(dict(sig2 = params['sig2'], theta=p_theta), data)\n",
    "\n",
    "d3_f = jax.jit(jax.vmap(jax.grad(jax.grad(jax.grad(lj_f0))), in_axes=(0, None, None, None)), static_argnums=(3,))\n",
    "# xs = np.linspace(-10, 1, 30)\n",
    "# for i in range(1):\n",
    "#     d3 = d3_f(xs, params, data, i)\n",
    "#     plt.plot(xs, d3)\n",
    "#     plt.show()"
   ]
  },
  {
   "cell_type": "code",
   "execution_count": null,
   "metadata": {},
   "outputs": [
    {
     "data": {
      "image/png": "[encoded data removed]",
      "text/plain": [
       "<Figure size 432x288 with 1 Axes>"
      ]
     },
     "metadata": {},
     "output_type": "display_data"
    }
   ],
   "source": [
    "import scipy.special\n",
    "logit_p1 = scipy.special.logit(0.3)\n",
    "def log_datal(params, data):\n",
    "    return jnp.sum(\n",
    "        dist.BinomialLogits(\n",
    "            params[\"theta\"] + logit_p1, total_count=data[..., 1]\n",
    "        ).log_prob(data[..., 0])\n",
    "    )\n",
    "def ldatal_f0(x, params, data, i):\n",
    "    p_theta = params['theta'].at[i].set(x)\n",
    "    return log_datal(dict(sig2 = params['sig2'], theta=p_theta), data)\n",
    "d3_f2 = jax.jit(jax.vmap(jax.grad(jax.grad(jax.grad(ldatal_f0))), in_axes=(0, None, None, None)), static_argnums=(3,))\n",
    "xs = np.linspace(-10, 1, 30)\n",
    "for i in range(1):\n",
    "    d3 = d3_f(xs, params, data, i)\n",
    "    d32 = d3_f(xs, params, data, i)\n",
    "    plt.plot(xs, d3)\n",
    "    plt.plot(xs, d32)\n",
    "    plt.show()"
   ]
  },
  {
   "cell_type": "code",
   "execution_count": null,
   "metadata": {},
   "outputs": [],
   "source": []
  }
 ],
 "metadata": {
  "kernelspec": {
   "display_name": "Python 3.10.5 ('imprint2')",
   "language": "python",
   "name": "python3"
  },
  "language_info": {
   "codemirror_mode": {
    "name": "ipython",
    "version": 3
   },
   "file_extension": ".py",
   "mimetype": "text/x-python",
   "name": "python",
   "nbconvert_exporter": "python",
   "pygments_lexer": "ipython3",
   "version": "3.10.5"
  },
  "orig_nbformat": 4,
  "vscode": {
   "interpreter": {
    "hash": "e8679a83a9fb1bcf62ce3b163cdcd83e6497d46072a6ff093119717f9f73e856"
   }
  }
 },
 "nbformat": 4,
 "nbformat_minor": 2
}
