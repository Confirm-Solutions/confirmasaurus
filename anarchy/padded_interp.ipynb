{
 "cells": [
  {
   "cell_type": "code",
   "execution_count": 1,
   "metadata": {},
   "outputs": [],
   "source": [
    "from outlaw.nb_util import setup_nb\n",
    "\n",
    "setup_nb()"
   ]
  },
  {
   "cell_type": "code",
   "execution_count": 19,
   "metadata": {},
   "outputs": [],
   "source": [
    "from functools import partial, reduce\n",
    "import outlaw.inla as inla\n",
    "import outlaw.quad as quad\n",
    "import outlaw.berry as berry\n",
    "import outlaw.interp as interp\n",
    "import numpy as np\n",
    "from numpy import nan\n",
    "import jax\n",
    "import jax.numpy as jnp"
   ]
  },
  {
   "cell_type": "markdown",
   "metadata": {},
   "source": [
    "## Version 1: different size tables"
   ]
  },
  {
   "cell_type": "code",
   "execution_count": 3,
   "metadata": {},
   "outputs": [],
   "source": [
    "from dataclasses import dataclass\n",
    "\n",
    "\n",
    "def f(n1, n2, pts):\n",
    "    x, y = pts\n",
    "    x /= n1\n",
    "    y /= n2\n",
    "    return x**2 + y**2\n",
    "\n",
    "\n",
    "fv = jax.vmap(f, in_axes=(None, None, 0))\n",
    "\n",
    "nr = jnp.arange(10, 41, 5)\n",
    "max_nr = int(jnp.max(nr))\n",
    "\n",
    "\n",
    "def hash_n(n1, n2):\n",
    "    return n1 * max_nr + n2\n",
    "\n",
    "\n",
    "def make_table(n1, n2):\n",
    "    grids_1d = [jnp.arange(0, nv + 1, 2) for nv in [n1, n2]]\n",
    "    pts = jnp.stack(jnp.meshgrid(*grids_1d, indexing=\"ij\"), axis=-1)\n",
    "    pts_2d = pts.reshape((-1, 2))\n",
    "    values = fv(n1, n2, pts_2d).reshape(pts.shape[:-1])\n",
    "    return (hash_n(n1, n2), grids_1d, values)\n",
    "\n",
    "\n",
    "tables = dict()\n",
    "for n1 in nr:\n",
    "    for n2 in nr:\n",
    "        T = make_table(n1, n2)\n",
    "        tables[int(T[0])] = T"
   ]
  },
  {
   "cell_type": "code",
   "execution_count": 4,
   "metadata": {},
   "outputs": [
    {
     "data": {
      "text/plain": [
       "DeviceArray(0.01444444, dtype=float64)"
      ]
     },
     "execution_count": 4,
     "metadata": {},
     "output_type": "execute_result"
    }
   ],
   "source": [
    "@jax.jit\n",
    "def interp_table(n1, n2, xi):\n",
    "    def interp_wrapper(T):\n",
    "        return jnp.where(T[0] == hash_n(n1, n2), interp.interpn(*T[1:], xi), 0)\n",
    "\n",
    "    def interp_one_table(T):\n",
    "        # check whether we should ignore this table or not.\n",
    "        cond = T[0] == hash_n(n1, n2)\n",
    "        return jax.lax.cond(cond, lambda: interp_wrapper(T), lambda: 0.0)\n",
    "\n",
    "    # check each table.\n",
    "    interps = jax.tree_util.tree_map(\n",
    "        interp_one_table, tables, is_leaf=lambda x: not isinstance(x, dict)\n",
    "    )\n",
    "    # sum the results. the interpolation result will be zero for every table except the one\n",
    "    return jnp.sum(jnp.array(jax.tree_util.tree_leaves(interps)))\n",
    "\n",
    "\n",
    "xi = jnp.array([0.5, 0.5])\n",
    "interp_table(10, 15, xi)"
   ]
  },
  {
   "cell_type": "code",
   "execution_count": 5,
   "metadata": {},
   "outputs": [],
   "source": [
    "def gen_pts(N):\n",
    "    keys = jax.random.split(jax.random.PRNGKey(0), N * 2)\n",
    "    uniforms = jax.vmap(jax.random.uniform)(keys)\n",
    "    rand_pts = (uniforms.reshape((-1, 2)) * 20).astype(int)\n",
    "    return rand_pts\n",
    "\n",
    "\n",
    "N = int(1e6)\n",
    "rand_pts = gen_pts(N)\n",
    "interp_ex = interp.interpnv(*tables[hash_n(10, 15)][1:], rand_pts)"
   ]
  },
  {
   "cell_type": "code",
   "execution_count": 6,
   "metadata": {},
   "outputs": [
    {
     "name": "stdout",
     "output_type": "stream",
     "text": [
      "CPU times: user 56 ms, sys: 14.4 ms, total: 70.3 ms\n",
      "Wall time: 29 ms\n"
     ]
    }
   ],
   "source": [
    "%%time\n",
    "rand_pts = gen_pts(N)"
   ]
  },
  {
   "cell_type": "code",
   "execution_count": 7,
   "metadata": {},
   "outputs": [
    {
     "name": "stdout",
     "output_type": "stream",
     "text": [
      "CPU times: user 43.5 ms, sys: 3.98 ms, total: 47.5 ms\n",
      "Wall time: 12.6 ms\n"
     ]
    }
   ],
   "source": [
    "%%time\n",
    "_ = interp.interpnv(*tables[hash_n(10, 15)][1:], rand_pts)"
   ]
  },
  {
   "cell_type": "code",
   "execution_count": 8,
   "metadata": {},
   "outputs": [
    {
     "data": {
      "text/plain": [
       "DeviceArray([0.44444444, 0.7725    , 0.43875   , 0.14      , 0.82625   , 0.6       , 0.98      ,\n",
       "             0.06      , 0.05333333, 0.59265306, ..., 1.18222222, 0.42      , 0.91265306,\n",
       "             0.        , 1.83346939, 0.4       , 1.065     , 0.87333333, 0.0864    , 0.5       ],            dtype=float64)"
      ]
     },
     "execution_count": 8,
     "metadata": {},
     "output_type": "execute_result"
    }
   ],
   "source": [
    "def interpn_randoms(k1, k2, k3, k4, lookup_n):\n",
    "    n1 = jax.random.choice(k3, nr)\n",
    "    n2 = jax.random.choice(k4, nr)\n",
    "    u1 = jax.random.uniform(k1)\n",
    "    u2 = jax.random.uniform(k2)\n",
    "    x = (u1 * n1).astype(int)\n",
    "    y = (u2 * n2).astype(int)\n",
    "    if lookup_n:\n",
    "        return interp_table(n1, n2, jnp.array([x, y]))\n",
    "    else:\n",
    "        return interp.interpn(*tables[hash_n(40, 40)][1:], jnp.array([x, y]))\n",
    "\n",
    "\n",
    "@partial(jax.jit, static_argnums=(0,))\n",
    "def interpn_all(lookup_n):\n",
    "    k = jax.random.PRNGKey(0)\n",
    "    keys = jax.random.split(k, 3 * N).reshape((-1, 3, 2))\n",
    "    return jax.vmap(interpn_randoms, in_axes=(0, 0, 0, 0, None))(\n",
    "        keys[:, 0, :], keys[:, 1, :], keys[:, 2, :], keys[:, 3, :], lookup_n\n",
    "    )\n",
    "\n",
    "\n",
    "interpn_all(False)\n",
    "interpn_all(True)"
   ]
  },
  {
   "cell_type": "code",
   "execution_count": 9,
   "metadata": {},
   "outputs": [
    {
     "name": "stdout",
     "output_type": "stream",
     "text": [
      "CPU times: user 211 ms, sys: 17.3 ms, total: 229 ms\n",
      "Wall time: 76.2 ms\n"
     ]
    }
   ],
   "source": [
    "%%time\n",
    "_ = interpn_all(False)"
   ]
  },
  {
   "cell_type": "code",
   "execution_count": 17,
   "metadata": {},
   "outputs": [
    {
     "name": "stdout",
     "output_type": "stream",
     "text": [
      "CPU times: user 1.01 s, sys: 187 ms, total: 1.2 s\n",
      "Wall time: 334 ms\n"
     ]
    }
   ],
   "source": [
    "%%time\n",
    "_ = interpn_all(True)"
   ]
  },
  {
   "cell_type": "markdown",
   "metadata": {},
   "source": [
    "## Version 2: Padding tables"
   ]
  },
  {
   "cell_type": "code",
   "execution_count": 18,
   "metadata": {},
   "outputs": [],
   "source": [
    "from dataclasses import dataclass\n",
    "\n",
    "\n",
    "def f(n1, n2, pts):\n",
    "    x, y = pts\n",
    "    x /= n1\n",
    "    y /= n2\n",
    "    return jax.lax.cond((x <= 1) & (y <= 1), lambda: x**2 + y**2, lambda: 0.0)\n",
    "\n",
    "\n",
    "fv = jax.vmap(f, in_axes=(None, None, 0))\n",
    "\n",
    "nr = jnp.arange(10, 41, 5).astype(float)\n",
    "max_nr = int(jnp.max(nr))\n",
    "\n",
    "\n",
    "def hash_n(n1, n2):\n",
    "    return n1 * max_nr + n2\n",
    "\n",
    "\n",
    "def make_table(n1, n2):\n",
    "    # Note max_nr here instead of n1, n2\n",
    "    grids_1d = [jnp.arange(0, max_nr + 1, 2) for _ in [n1, n2]]\n",
    "    pts = jnp.stack(jnp.meshgrid(*grids_1d, indexing=\"ij\"), axis=-1)\n",
    "    pts_2d = pts.reshape((-1, 2))\n",
    "    values = fv(n1, n2, pts_2d).reshape(pts.shape[:-1])\n",
    "    return (hash_n(n1, n2), grids_1d, values)\n",
    "\n",
    "\n",
    "tables = dict()\n",
    "for n1 in nr:\n",
    "    for n2 in nr:\n",
    "        T = make_table(n1, n2)\n",
    "        tables[int(T[0])] = T"
   ]
  },
  {
   "cell_type": "code",
   "execution_count": 39,
   "metadata": {},
   "outputs": [
    {
     "data": {
      "text/plain": [
       "DeviceArray(0.01444444, dtype=float64, weak_type=True)"
      ]
     },
     "execution_count": 39,
     "metadata": {},
     "output_type": "execute_result"
    }
   ],
   "source": [
    "@jax.jit\n",
    "def interp_table(n1, n2, xi):\n",
    "    def interp_one_table(T):\n",
    "        # check whether we should ignore this table or not.\n",
    "        cond = T[0] == hash_n(n1, n2)\n",
    "        return jax.lax.cond(cond, lambda: interp.interpn(*T[1:], xi), lambda: 0.0)\n",
    "\n",
    "    table_defs = jax.tree_util.tree_leaves(\n",
    "        tables, is_leaf=lambda x: not isinstance(x, dict)\n",
    "    )\n",
    "\n",
    "    def reduce_f(x, T):\n",
    "        return x + interp_one_table(T)\n",
    "\n",
    "    return reduce(reduce_f, table_defs, 0)\n",
    "    # # check each table.\n",
    "    # interps = jax.tree_util.tree_map(\n",
    "    #     interp_one_table, tables, is_leaf=lambda x: not isinstance(x, dict)\n",
    "    # )\n",
    "    # # sum the results. the interpolation result will be zero for every table except the one\n",
    "    # return jnp.sum(jnp.array(jax.tree_util.tree_leaves(interps)))\n",
    "\n",
    "\n",
    "xi = jnp.array([0.5, 0.5])\n",
    "interp_table(10, 15, xi)"
   ]
  },
  {
   "cell_type": "code",
   "execution_count": null,
   "metadata": {},
   "outputs": [
    {
     "data": {
      "text/plain": [
       "DeviceArray(0.01444444, dtype=float64, weak_type=True)"
      ]
     },
     "metadata": {},
     "output_type": "display_data"
    }
   ],
   "source": [
    "@jax.jit\n",
    "def interp_table(n1, n2, xi):\n",
    "    def interp_one_table(T):\n",
    "        # check whether we should ignore this table or not.\n",
    "        cond = T[0] == hash_n(n1, n2)\n",
    "        return jax.lax.cond(cond, lambda: interp.interpn(*T[1:], xi), lambda: 0.0)\n",
    "\n",
    "    table_defs = jax.tree_util.tree_leaves(\n",
    "        tables, is_leaf=lambda x: not isinstance(x, dict)\n",
    "    )\n",
    "\n",
    "    def reduce_f(x, T):\n",
    "        return x + interp_one_table(T)\n",
    "\n",
    "    return reduce(reduce_f, table_defs, 0)\n",
    "    # # check each table.\n",
    "    # interps = jax.tree_util.tree_map(\n",
    "    #     interp_one_table, tables, is_leaf=lambda x: not isinstance(x, dict)\n",
    "    # )\n",
    "    # # sum the results. the interpolation result will be zero for every table except the one\n",
    "    # return jnp.sum(jnp.array(jax.tree_util.tree_leaves(interps)))\n",
    "\n",
    "\n",
    "xi = jnp.array([0.5, 0.5])\n",
    "interp_table(10, 15, xi)"
   ]
  },
  {
   "cell_type": "code",
   "execution_count": 53,
   "metadata": {},
   "outputs": [],
   "source": [
    "table_list = jax.tree_util.tree_leaves(\n",
    "    tables, is_leaf=lambda x: not isinstance(x, dict)\n",
    ")"
   ]
  },
  {
   "cell_type": "code",
   "execution_count": null,
   "metadata": {},
   "outputs": [],
   "source": [
    "grids = table_list[0][1]\n",
    "values_shape = table_list[0][2].shape\n",
    "compact_tables = jnp.stack(\n",
    "    [jnp.concatenate((jnp.array([T[0]]), T[2].flatten())) for T in table_list], axis=0\n",
    ")"
   ]
  },
  {
   "cell_type": "code",
   "execution_count": 82,
   "metadata": {},
   "outputs": [
    {
     "data": {
      "text/plain": [
       "DeviceArray(0.01444444, dtype=float64)"
      ]
     },
     "execution_count": 82,
     "metadata": {},
     "output_type": "execute_result"
    }
   ],
   "source": [
    "@jax.jit\n",
    "def interp_table(n1, n2, xi):\n",
    "    idx = jnp.searchsorted(compact_tables[:, 0], hash_n(n1, n2))\n",
    "    return interp.interpn(grids, compact_tables[idx, 1:].reshape(values_shape), xi)\n",
    "\n",
    "\n",
    "xi = jnp.array([0.5, 0.5])\n",
    "interp_table(10, 15, xi)"
   ]
  },
  {
   "cell_type": "code",
   "execution_count": 83,
   "metadata": {},
   "outputs": [
    {
     "data": {
      "text/plain": [
       "DeviceArray([0.44444444, 0.7725    , 0.43875   , 0.14      , 0.82625   , 0.6       , 0.98      ,\n",
       "             0.06      , 0.05333333, 0.59265306, ..., 1.18222222, 0.42      , 0.91265306,\n",
       "             0.        , 1.83346939, 0.4       , 1.065     , 0.87333333, 0.0864    , 0.5       ],            dtype=float64)"
      ]
     },
     "execution_count": 83,
     "metadata": {},
     "output_type": "execute_result"
    }
   ],
   "source": [
    "def interpn_randoms(k1, k2, k3, k4, lookup_n):\n",
    "    n1 = jax.random.choice(k3, nr)\n",
    "    n2 = jax.random.choice(k4, nr)\n",
    "    u1 = jax.random.uniform(k1)\n",
    "    u2 = jax.random.uniform(k2)\n",
    "    x = (u1 * n1).astype(int)\n",
    "    y = (u2 * n2).astype(int)\n",
    "    if lookup_n:\n",
    "        return interp_table(n1, n2, jnp.array([x, y]))\n",
    "    else:\n",
    "        return interp.interpn(*tables[hash_n(40, 40)][1:], jnp.array([x, y]))\n",
    "\n",
    "\n",
    "@partial(jax.jit, static_argnums=(0,))\n",
    "def interpn_all(lookup_n):\n",
    "    k = jax.random.PRNGKey(0)\n",
    "    keys = jax.random.split(k, 3 * N).reshape((-1, 3, 2))\n",
    "    return jax.vmap(interpn_randoms, in_axes=(0, 0, 0, 0, None))(\n",
    "        keys[:, 0, :], keys[:, 1, :], keys[:, 2, :], keys[:, 3, :], lookup_n\n",
    "    )\n",
    "\n",
    "\n",
    "interpn_all(False)\n",
    "interpn_all(True)"
   ]
  },
  {
   "cell_type": "code",
   "execution_count": 86,
   "metadata": {},
   "outputs": [
    {
     "name": "stdout",
     "output_type": "stream",
     "text": [
      "CPU times: user 218 ms, sys: 16.9 ms, total: 235 ms\n",
      "Wall time: 80.2 ms\n"
     ]
    }
   ],
   "source": [
    "%%time\n",
    "_ = interpn_all(False)"
   ]
  },
  {
   "cell_type": "code",
   "execution_count": 87,
   "metadata": {},
   "outputs": [
    {
     "name": "stdout",
     "output_type": "stream",
     "text": [
      "CPU times: user 242 ms, sys: 19.1 ms, total: 261 ms\n",
      "Wall time: 89.7 ms\n"
     ]
    }
   ],
   "source": [
    "%%time\n",
    "_ = interpn_all(True)"
   ]
  },
  {
   "cell_type": "markdown",
   "metadata": {},
   "source": [
    "## Version 3: lax.scan?"
   ]
  },
  {
   "cell_type": "code",
   "execution_count": 101,
   "metadata": {},
   "outputs": [],
   "source": [
    "from dataclasses import dataclass\n",
    "\n",
    "\n",
    "def f(n1, n2, pts):\n",
    "    x, y = pts\n",
    "    x /= n1\n",
    "    y /= n2\n",
    "    return jax.lax.cond((x <= 1) & (y <= 1), lambda: x**2 + y**2, lambda: 0.0)\n",
    "\n",
    "\n",
    "fv = jax.vmap(f, in_axes=(None, None, 0))\n",
    "\n",
    "nr = jnp.arange(10, 41, 5).astype(float)\n",
    "max_nr = int(jnp.max(nr))\n",
    "\n",
    "\n",
    "def hash_n(n1, n2):\n",
    "    return n1 * max_nr + n2\n",
    "\n",
    "\n",
    "def make_table(n1, n2):\n",
    "    # Note max_nr here instead of n1, n2\n",
    "    grids_1d = [jnp.arange(0, nv + 1, 2) for nv in [n1, n2]]\n",
    "    pts = jnp.stack(jnp.meshgrid(*grids_1d, indexing=\"ij\"), axis=-1)\n",
    "    pts_2d = pts.reshape((-1, 2))\n",
    "    values = fv(n1, n2, pts_2d).reshape(pts.shape[:-1])\n",
    "    return (jnp.array([hash_n(n1, n2)]), grids_1d, values)\n",
    "\n",
    "\n",
    "tables = []\n",
    "for n1 in nr:\n",
    "    for n2 in nr:\n",
    "        T = make_table(n1, n2)\n",
    "        tables.append(T)"
   ]
  },
  {
   "cell_type": "code",
   "execution_count": 103,
   "metadata": {},
   "outputs": [
    {
     "name": "stdout",
     "output_type": "stream",
     "text": [
      "2\n"
     ]
    },
    {
     "ename": "ValueError",
     "evalue": "scan got value with no leading axis to scan over: PyTreeDef([*, *, *, *, *, *, *, *, *, *, *, *, *, *, *, *, *, *, *, *, *, *, *, *, *, *, *, *, *, *, *, *, *, *, *, *, *, *, *, *, *, *, *, *, *, *, *, *, *]).",
     "output_type": "error",
     "traceback": [
      "\u001b[0;31m---------------------------------------------------------------------------\u001b[0m",
      "\u001b[0;31mAttributeError\u001b[0m                            Traceback (most recent call last)",
      "    \u001b[0;31m[... skipping hidden 1 frame]\u001b[0m\n",
      "File \u001b[0;32m~/.mambaforge/envs/confirm/lib/python3.10/site-packages/jax/_src/lax/control_flow/loops.py:199\u001b[0m, in \u001b[0;36m<listcomp>\u001b[0;34m(.0)\u001b[0m\n\u001b[1;32m    198\u001b[0m \u001b[39mtry\u001b[39;00m:\n\u001b[0;32m--> 199\u001b[0m   lengths \u001b[39m=\u001b[39m [x\u001b[39m.\u001b[39;49mshape[\u001b[39m0\u001b[39m] \u001b[39mfor\u001b[39;00m x \u001b[39min\u001b[39;00m xs_flat]\n\u001b[1;32m    200\u001b[0m \u001b[39mexcept\u001b[39;00m \u001b[39mAttributeError\u001b[39;00m \u001b[39mas\u001b[39;00m err:\n",
      "\u001b[0;31mAttributeError\u001b[0m: 'jaxlib.xla_extension.pytree.PyTreeDef' object has no attribute 'shape'",
      "\nThe above exception was the direct cause of the following exception:\n",
      "\u001b[0;31mValueError\u001b[0m                                Traceback (most recent call last)",
      "\u001b[1;32m/Users/tbent/Dropbox/active/confirm/confirmasaurus/anarchy/scratch.ipynb Cell 24\u001b[0m in \u001b[0;36m<cell line: 26>\u001b[0;34m()\u001b[0m\n\u001b[1;32m     <a href='vscode-notebook-cell:/Users/tbent/Dropbox/active/confirm/confirmasaurus/anarchy/scratch.ipynb#Y131sZmlsZQ%3D%3D?line=16'>17</a>\u001b[0m     \u001b[39m# # check each table.\u001b[39;00m\n\u001b[1;32m     <a href='vscode-notebook-cell:/Users/tbent/Dropbox/active/confirm/confirmasaurus/anarchy/scratch.ipynb#Y131sZmlsZQ%3D%3D?line=17'>18</a>\u001b[0m     \u001b[39m# interps = jax.tree_util.tree_map(\u001b[39;00m\n\u001b[1;32m     <a href='vscode-notebook-cell:/Users/tbent/Dropbox/active/confirm/confirmasaurus/anarchy/scratch.ipynb#Y131sZmlsZQ%3D%3D?line=18'>19</a>\u001b[0m     \u001b[39m#     interp_one_table, tables, is_leaf=lambda x: not isinstance(x, dict)\u001b[39;00m\n\u001b[1;32m     <a href='vscode-notebook-cell:/Users/tbent/Dropbox/active/confirm/confirmasaurus/anarchy/scratch.ipynb#Y131sZmlsZQ%3D%3D?line=19'>20</a>\u001b[0m     \u001b[39m# )\u001b[39;00m\n\u001b[1;32m     <a href='vscode-notebook-cell:/Users/tbent/Dropbox/active/confirm/confirmasaurus/anarchy/scratch.ipynb#Y131sZmlsZQ%3D%3D?line=20'>21</a>\u001b[0m     \u001b[39m# # sum the results. the interpolation result will be zero for every table except the one \u001b[39;00m\n\u001b[1;32m     <a href='vscode-notebook-cell:/Users/tbent/Dropbox/active/confirm/confirmasaurus/anarchy/scratch.ipynb#Y131sZmlsZQ%3D%3D?line=21'>22</a>\u001b[0m     \u001b[39m# return jnp.sum(jnp.array(jax.tree_util.tree_leaves(interps)))\u001b[39;00m\n\u001b[1;32m     <a href='vscode-notebook-cell:/Users/tbent/Dropbox/active/confirm/confirmasaurus/anarchy/scratch.ipynb#Y131sZmlsZQ%3D%3D?line=24'>25</a>\u001b[0m xi \u001b[39m=\u001b[39m jnp\u001b[39m.\u001b[39marray([\u001b[39m0.5\u001b[39m, \u001b[39m0.5\u001b[39m])\n\u001b[0;32m---> <a href='vscode-notebook-cell:/Users/tbent/Dropbox/active/confirm/confirmasaurus/anarchy/scratch.ipynb#Y131sZmlsZQ%3D%3D?line=25'>26</a>\u001b[0m interp_table(\u001b[39m10\u001b[39;49m, \u001b[39m15\u001b[39;49m, xi)\n",
      "\u001b[1;32m/Users/tbent/Dropbox/active/confirm/confirmasaurus/anarchy/scratch.ipynb Cell 24\u001b[0m in \u001b[0;36minterp_table\u001b[0;34m(n1, n2, xi)\u001b[0m\n\u001b[1;32m     <a href='vscode-notebook-cell:/Users/tbent/Dropbox/active/confirm/confirmasaurus/anarchy/scratch.ipynb#Y131sZmlsZQ%3D%3D?line=13'>14</a>\u001b[0m tables_flat \u001b[39m=\u001b[39m jax\u001b[39m.\u001b[39mtree_util\u001b[39m.\u001b[39mtree_flatten(tables, is_leaf \u001b[39m=\u001b[39m \u001b[39mlambda\u001b[39;00m x: \u001b[39mnot\u001b[39;00m \u001b[39misinstance\u001b[39m(x, \u001b[39mlist\u001b[39m))\n\u001b[1;32m     <a href='vscode-notebook-cell:/Users/tbent/Dropbox/active/confirm/confirmasaurus/anarchy/scratch.ipynb#Y131sZmlsZQ%3D%3D?line=14'>15</a>\u001b[0m \u001b[39mprint\u001b[39m(\u001b[39mlen\u001b[39m(tables_flat))\n\u001b[0;32m---> <a href='vscode-notebook-cell:/Users/tbent/Dropbox/active/confirm/confirmasaurus/anarchy/scratch.ipynb#Y131sZmlsZQ%3D%3D?line=15'>16</a>\u001b[0m \u001b[39mreturn\u001b[39;00m jax\u001b[39m.\u001b[39;49mlax\u001b[39m.\u001b[39;49mscan(scan_f, \u001b[39m0\u001b[39;49m, tables_flat)[\u001b[39m0\u001b[39m]\n",
      "    \u001b[0;31m[... skipping hidden 1 frame]\u001b[0m\n",
      "File \u001b[0;32m~/.mambaforge/envs/confirm/lib/python3.10/site-packages/jax/_src/lax/control_flow/loops.py:202\u001b[0m, in \u001b[0;36mscan\u001b[0;34m(f, init, xs, length, reverse, unroll)\u001b[0m\n\u001b[1;32m    200\u001b[0m \u001b[39mexcept\u001b[39;00m \u001b[39mAttributeError\u001b[39;00m \u001b[39mas\u001b[39;00m err:\n\u001b[1;32m    201\u001b[0m   msg \u001b[39m=\u001b[39m \u001b[39m\"\u001b[39m\u001b[39mscan got value with no leading axis to scan over: \u001b[39m\u001b[39m{}\u001b[39;00m\u001b[39m.\u001b[39m\u001b[39m\"\u001b[39m\n\u001b[0;32m--> 202\u001b[0m   \u001b[39mraise\u001b[39;00m \u001b[39mValueError\u001b[39;00m(\n\u001b[1;32m    203\u001b[0m     msg\u001b[39m.\u001b[39mformat(\u001b[39m'\u001b[39m\u001b[39m, \u001b[39m\u001b[39m'\u001b[39m\u001b[39m.\u001b[39mjoin(\u001b[39mstr\u001b[39m(x) \u001b[39mfor\u001b[39;00m x \u001b[39min\u001b[39;00m xs_flat\n\u001b[1;32m    204\u001b[0m                          \u001b[39mif\u001b[39;00m \u001b[39mnot\u001b[39;00m \u001b[39mhasattr\u001b[39m(x, \u001b[39m'\u001b[39m\u001b[39mshape\u001b[39m\u001b[39m'\u001b[39m)))) \u001b[39mfrom\u001b[39;00m \u001b[39merr\u001b[39;00m\n\u001b[1;32m    206\u001b[0m \u001b[39mif\u001b[39;00m length \u001b[39mis\u001b[39;00m \u001b[39mnot\u001b[39;00m \u001b[39mNone\u001b[39;00m:\n\u001b[1;32m    207\u001b[0m   length \u001b[39m=\u001b[39m \u001b[39mint\u001b[39m(length)\n",
      "\u001b[0;31mValueError\u001b[0m: scan got value with no leading axis to scan over: PyTreeDef([*, *, *, *, *, *, *, *, *, *, *, *, *, *, *, *, *, *, *, *, *, *, *, *, *, *, *, *, *, *, *, *, *, *, *, *, *, *, *, *, *, *, *, *, *, *, *, *, *])."
     ]
    }
   ],
   "source": [
    "# @jax.jit\n",
    "def interp_table(n1, n2, xi):\n",
    "    def interp_one_table(T):\n",
    "        # check whether we should ignore this table or not.\n",
    "        cond = T[0] == hash_n(n1, n2)\n",
    "        return jax.lax.cond(cond, lambda: interp.interpn(*T[1:], xi), lambda: 0.0)\n",
    "\n",
    "    def scan_f(result, T):\n",
    "        return (interp_one_table(T) + result, None)\n",
    "\n",
    "    tables_flat = jax.tree_util.tree_flatten(\n",
    "        tables, is_leaf=lambda x: not isinstance(x, list)\n",
    "    )\n",
    "    print(len(tables_flat))\n",
    "    return jax.lax.scan(scan_f, 0, tables_flat)[0]\n",
    "    # # check each table.\n",
    "    # interps = jax.tree_util.tree_map(\n",
    "    #     interp_one_table, tables, is_leaf=lambda x: not isinstance(x, dict)\n",
    "    # )\n",
    "    # # sum the results. the interpolation result will be zero for every table except the one\n",
    "    # return jnp.sum(jnp.array(jax.tree_util.tree_leaves(interps)))\n",
    "\n",
    "\n",
    "xi = jnp.array([0.5, 0.5])\n",
    "interp_table(10, 15, xi)"
   ]
  },
  {
   "cell_type": "code",
   "execution_count": null,
   "metadata": {},
   "outputs": [
    {
     "data": {
      "text/plain": [
       "DeviceArray([0.44444444, 0.7725    , 0.43875   , 0.14      , 0.82625   , 0.6       , 0.98      ,\n",
       "             0.06      , 0.05333333, 0.59265306, ..., 1.18222222, 0.42      , 0.91265306,\n",
       "             0.        , 1.83346939, 0.4       , 1.065     , 0.87333333, 0.0864    , 0.5       ],            dtype=float64)"
      ]
     },
     "metadata": {},
     "output_type": "display_data"
    }
   ],
   "source": [
    "def interpn_randoms(k1, k2, k3, k4, lookup_n):\n",
    "    n1 = jax.random.choice(k3, nr)\n",
    "    n2 = jax.random.choice(k4, nr)\n",
    "    u1 = jax.random.uniform(k1)\n",
    "    u2 = jax.random.uniform(k2)\n",
    "    x = (u1 * n1).astype(int)\n",
    "    y = (u2 * n2).astype(int)\n",
    "    if lookup_n:\n",
    "        return interp_table(n1, n2, jnp.array([x, y]))\n",
    "    else:\n",
    "        return interp.interpn(*tables[hash_n(40, 40)][1:], jnp.array([x, y]))\n",
    "\n",
    "\n",
    "@partial(jax.jit, static_argnums=(0,))\n",
    "def interpn_all(lookup_n):\n",
    "    k = jax.random.PRNGKey(0)\n",
    "    keys = jax.random.split(k, 3 * N).reshape((-1, 3, 2))\n",
    "    return jax.vmap(interpn_randoms, in_axes=(0, 0, 0, 0, None))(\n",
    "        keys[:, 0, :], keys[:, 1, :], keys[:, 2, :], keys[:, 3, :], lookup_n\n",
    "    )\n",
    "\n",
    "\n",
    "interpn_all(False)\n",
    "interpn_all(True)"
   ]
  },
  {
   "cell_type": "code",
   "execution_count": null,
   "metadata": {},
   "outputs": [
    {
     "name": "stdout",
     "output_type": "stream",
     "text": [
      "CPU times: user 218 ms, sys: 16.9 ms, total: 235 ms\n",
      "Wall time: 80.2 ms\n"
     ]
    }
   ],
   "source": [
    "%%time\n",
    "_ = interpn_all(False)"
   ]
  },
  {
   "cell_type": "code",
   "execution_count": null,
   "metadata": {},
   "outputs": [
    {
     "name": "stdout",
     "output_type": "stream",
     "text": [
      "CPU times: user 242 ms, sys: 19.1 ms, total: 261 ms\n",
      "Wall time: 89.7 ms\n"
     ]
    }
   ],
   "source": [
    "%%time\n",
    "_ = interpn_all(True)"
   ]
  },
  {
   "cell_type": "markdown",
   "metadata": {},
   "source": [
    "## JUNK"
   ]
  },
  {
   "cell_type": "code",
   "execution_count": null,
   "metadata": {},
   "outputs": [],
   "source": [
    "@jax.jit\n",
    "def interp_table(n1, n2, xi):\n",
    "    def interp_one_table(T):\n",
    "        # check whether we should ignore this table or not.\n",
    "        cond = T[0] == hash_n(n1, n2)\n",
    "        return jax.lax.cond(\n",
    "            cond,\n",
    "            lambda: interp.interpn(grids, T[1:].reshape(values_shape), xi),\n",
    "            lambda: 0.0,\n",
    "        )\n",
    "\n",
    "    def scan_f(result, T):\n",
    "        return (interp_one_table(T) + result, None)\n",
    "\n",
    "    return jax.lax.scan(scan_f, 0, compact_tables)[0]\n",
    "\n",
    "    # # check each table.\n",
    "    # interps = jax.tree_util.tree_map(\n",
    "    #     interp_one_table, tables, is_leaf=lambda x: not isinstance(x, dict)\n",
    "    # )\n",
    "    # # sum the results. the interpolation result will be zero for every table except the one\n",
    "    # return jnp.sum(jnp.array(jax.tree_util.tree_leaves(interps)))"
   ]
  },
  {
   "cell_type": "code",
   "execution_count": null,
   "metadata": {},
   "outputs": [],
   "source": [
    "# tables_keys = list(tables.keys())\n",
    "\n",
    "# # @jax.jit\n",
    "# def interp_table(n1, n2, xi):\n",
    "#     def interp_wrapper(T):\n",
    "#         return jnp.where(T[0] == hash_n(n1, n2), interp.interpn(*T[1:], xi), 0)\n",
    "\n",
    "#     def get_interp_data(i, T):\n",
    "#         # check whether we should ignore this table or not.\n",
    "#         cond = T[0] == hash_n(n1, n2)\n",
    "#         return jax.lax.cond(\n",
    "#             cond,\n",
    "#             lambda: T[i],\n",
    "#             lambda: jax.tree_util.tree_map(lambda x: jnp.zeros_like(x), T[i])\n",
    "#         )\n",
    "\n",
    "#     def cond(i):\n",
    "#         return tables[tables_keys[i]] == hash_n(n1, n2)\n",
    "\n",
    "#     def body(i):\n",
    "#         return i + 1\n",
    "\n",
    "#     init_val = 0\n",
    "\n",
    "#     idx = jax.lax.while_loop(cond, body, init_val)\n",
    "\n",
    "#     # TODO: there's probably a way to do this with just one tree_map.\n",
    "#     grids = jnp.array(jax.tree_util.tree_leaves(jax.tree_util.tree_map(\n",
    "#         partial(get_interp_data, 0), tables, is_leaf=lambda x: not isinstance(x, dict)\n",
    "#     )))\n",
    "#     values = jnp.array(jax.tree_util.tree_leaves(jax.tree_util.tree_map(\n",
    "#         partial(get_interp_data, 1), tables, is_leaf=lambda x: not isinstance(x, dict)\n",
    "#     )))\n",
    "#     print(grids.shape, values.shape)\n",
    "#     return interp.interpn(grids, values, xi)\n",
    "\n",
    "\n",
    "# xi = jnp.array([0.5, 0.5])\n",
    "# interp_table(10, 15, xi)"
   ]
  }
 ],
 "metadata": {
  "kernelspec": {
   "display_name": "Python 3.10.5 ('confirm')",
   "language": "python",
   "name": "python3"
  },
  "language_info": {
   "codemirror_mode": {
    "name": "ipython",
    "version": 3
   },
   "file_extension": ".py",
   "mimetype": "text/x-python",
   "name": "python",
   "nbconvert_exporter": "python",
   "pygments_lexer": "ipython3",
   "version": "3.10.5"
  },
  "orig_nbformat": 4,
  "vscode": {
   "interpreter": {
    "hash": "b4c6ec5b2d6c7b38df115d547b82cd53ca25eea58d87299956d35a9dc79f19f1"
   }
  }
 },
 "nbformat": 4,
 "nbformat_minor": 2
}
