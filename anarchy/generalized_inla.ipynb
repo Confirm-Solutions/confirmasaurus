{
 "cells": [
  {
   "cell_type": "code",
   "execution_count": 1,
   "metadata": {},
   "outputs": [
    {
     "data": {
      "text/plain": [
       "'./inlaw:research/berry/'"
      ]
     },
     "execution_count": 1,
     "metadata": {},
     "output_type": "execute_result"
    }
   ],
   "source": [
    "import os\n",
    "os.environ['PYTHONPATH']"
   ]
  },
  {
   "cell_type": "code",
   "execution_count": 2,
   "metadata": {},
   "outputs": [
    {
     "data": {
      "text/plain": [
       "['/Users/tbent/Dropbox/active/confirm/confirmasaurus/anarchy',\n",
       " '/Users/tbent/Dropbox/active/confirm/confirmasaurus/anarchy/inlaw',\n",
       " '/Users/tbent/Dropbox/active/confirm/confirmasaurus/anarchy/research/berry',\n",
       " '/Users/tbent/.mambaforge/envs/imprint/lib/python310.zip',\n",
       " '/Users/tbent/.mambaforge/envs/imprint/lib/python3.10',\n",
       " '/Users/tbent/.mambaforge/envs/imprint/lib/python3.10/lib-dynload',\n",
       " '',\n",
       " '/Users/tbent/.mambaforge/envs/imprint/lib/python3.10/site-packages']"
      ]
     },
     "execution_count": 2,
     "metadata": {},
     "output_type": "execute_result"
    }
   ],
   "source": [
    "import sys\n",
    "sys.path"
   ]
  },
  {
   "cell_type": "code",
   "execution_count": 1,
   "metadata": {},
   "outputs": [
    {
     "ename": "ModuleNotFoundError",
     "evalue": "No module named 'inlaw'",
     "output_type": "error",
     "traceback": [
      "\u001b[0;31m---------------------------------------------------------------------------\u001b[0m",
      "\u001b[0;31mModuleNotFoundError\u001b[0m                       Traceback (most recent call last)",
      "\u001b[1;32m/Users/tbent/Dropbox/active/confirm/confirmasaurus/anarchy/generalized_inla.ipynb Cell 1\u001b[0m in \u001b[0;36m<cell line: 1>\u001b[0;34m()\u001b[0m\n\u001b[0;32m----> <a href='vscode-notebook-cell:/Users/tbent/Dropbox/active/confirm/confirmasaurus/anarchy/generalized_inla.ipynb#ch0000000?line=0'>1</a>\u001b[0m \u001b[39mimport\u001b[39;00m \u001b[39minlaw\u001b[39;00m\u001b[39m.\u001b[39;00m\u001b[39mnb_util\u001b[39;00m \u001b[39mas\u001b[39;00m \u001b[39mnb_util\u001b[39;00m\n\u001b[1;32m      <a href='vscode-notebook-cell:/Users/tbent/Dropbox/active/confirm/confirmasaurus/anarchy/generalized_inla.ipynb#ch0000000?line=1'>2</a>\u001b[0m nb_util\u001b[39m.\u001b[39msetup_nb()\n",
      "\u001b[0;31mModuleNotFoundError\u001b[0m: No module named 'inlaw'"
     ]
    }
   ],
   "source": [
    "import inlaw.nb_util as nb_util\n",
    "nb_util.setup_nb()"
   ]
  },
  {
   "cell_type": "code",
   "execution_count": 2,
   "metadata": {},
   "outputs": [
    {
     "name": "stderr",
     "output_type": "stream",
     "text": [
      "/Users/tbent/.mambaforge/envs/imprint/lib/python3.10/site-packages/jax/_src/lib/__init__.py:33: UserWarning: JAX on Mac ARM machines is experimental and minimally tested. Please see https://github.com/google/jax/issues/5501 in the event of problems.\n",
      "  warnings.warn(\"JAX on Mac ARM machines is experimental and minimally tested. \"\n",
      "/Users/tbent/.mambaforge/envs/imprint/lib/python3.10/site-packages/tqdm/auto.py:22: TqdmWarning: IProgress not found. Please update jupyter and ipywidgets. See https://ipywidgets.readthedocs.io/en/stable/user_install.html\n",
      "  from .autonotebook import tqdm as notebook_tqdm\n"
     ]
    }
   ],
   "source": [
    "import jax\n",
    "import jax.numpy as jnp\n",
    "import numpy as np\n",
    "import time\n",
    "import numpyro\n",
    "import numpyro.distributions as dist\n",
    "import numpyro.handlers as handlers\n",
    "import scipy.stats\n",
    "import matplotlib.pyplot as plt\n",
    "from scipy.special import logit, expit\n",
    "\n",
    "from inlaw import FullLaplace\n",
    "from inla.berry_model import berry_model, fast_berry\n"
   ]
  },
  {
   "cell_type": "code",
   "execution_count": 3,
   "metadata": {},
   "outputs": [
    {
     "name": "stdout",
     "output_type": "stream",
     "text": [
      "16384 datasets, 2.573 us per dataset, 0.04s total\n",
      "16384 datasets, 2.487 us per dataset, 0.04s total\n",
      "16384 datasets, 2.468 us per dataset, 0.04s total\n",
      "16384 datasets, 2.409 us per dataset, 0.04s total\n",
      "16384 datasets, 2.364 us per dataset, 0.04s total\n",
      "16384 datasets, 2.379 us per dataset, 0.04s total\n",
      "16384 datasets, 2.465 us per dataset, 0.04s total\n",
      "16384 datasets, 2.383 us per dataset, 0.04s total\n",
      "16384 datasets, 2.411 us per dataset, 0.04s total\n",
      "16384 datasets, 2.358 us per dataset, 0.04s total\n",
      "16384 datasets, 2.393 us per dataset, 0.04s total\n",
      "16384 datasets, 2.450 us per dataset, 0.04s total\n",
      "16384 datasets, 2.419 us per dataset, 0.04s total\n",
      "16384 datasets, 2.517 us per dataset, 0.04s total\n",
      "16384 datasets, 2.494 us per dataset, 0.04s total\n",
      "16384 datasets, 2.464 us per dataset, 0.04s total\n",
      "16384 datasets, 2.367 us per dataset, 0.04s total\n",
      "16384 datasets, 2.378 us per dataset, 0.04s total\n",
      "16384 datasets, 2.319 us per dataset, 0.04s total\n",
      "16384 datasets, 2.508 us per dataset, 0.04s total\n"
     ]
    }
   ],
   "source": [
    "n_arms = 4\n",
    "fl = inla.FullLaplace(berry_model(n_arms), \"sig2\", np.zeros((4, 2)))\n",
    "sig2_rule = util.log_gauss_rule(15, 1e-2, 1e2)\n",
    "fl = fast_berry(sig2_rule.pts, n_arms)\n",
    "dtype = np.float64\n",
    "# for N in 2 ** np.array([4, 9, 14, 16]):\n",
    "for N in 2 ** np.array([14]):\n",
    "    y = scipy.stats.binom.rvs(35, 0.3, size=(N, n_arms))\n",
    "    n = np.full_like(y, 35)\n",
    "    D = np.stack((y, n), axis=-1).astype(dtype)\n",
    "    x0 = np.zeros((D.shape[0], sig2_rule.pts.shape[0], 4), dtype=dtype)\n",
    "    f = lambda: fl(dict(sig2=sig2_rule.pts.astype(dtype), theta=None), D, x0, should_batch=False)\n",
    "    f()\n",
    "    for i in range(20):\n",
    "        start = time.time()\n",
    "        post, x_max, hess, iters = f()\n",
    "        end = time.time()\n",
    "        print(\n",
    "            f\"{N} datasets, {(end - start) / N * 1e6:.3f} us per dataset, {end - start:.2f}s total\"\n",
    "        )"
   ]
  },
  {
   "cell_type": "code",
   "execution_count": 17,
   "metadata": {},
   "outputs": [
    {
     "data": {
      "text/plain": [
       "array([[-7.09659669e+01, -7.09659669e+01, -7.09659669e+01, -7.09659669e+01],\n",
       "       [-5.61840290e+01, -5.61840290e+01, -5.61840290e+01, -5.61840290e+01],\n",
       "       [-3.72804985e+01, -3.72804985e+01, -3.72804985e+01, -3.72804985e+01],\n",
       "       [-2.10818928e+01, -2.10818928e+01, -2.10818928e+01, -2.10818928e+01],\n",
       "       [-1.03999608e+01, -1.03999608e+01, -1.03999608e+01, -1.03999608e+01],\n",
       "       [-4.60704925e+00, -4.60704925e+00, -4.60704925e+00, -4.60704925e+00],\n",
       "       [-1.89492740e+00, -1.89492740e+00, -1.89492740e+00, -1.89492740e+00],\n",
       "       [-7.50623441e-01, -7.50623441e-01, -7.50623441e-01, -7.50623441e-01],\n",
       "       [-2.97564067e-01, -2.97564067e-01, -2.97564067e-01, -2.97564067e-01],\n",
       "       [-1.22727612e-01, -1.22727612e-01, -1.22727612e-01, -1.22727612e-01],\n",
       "       [-5.46940527e-02, -5.46940527e-02, -5.46940527e-02, -5.46940527e-02],\n",
       "       [-2.72664202e-02, -2.72664202e-02, -2.72664202e-02, -2.72664202e-02],\n",
       "       [-1.56444886e-02, -1.56444886e-02, -1.56444886e-02, -1.56444886e-02],\n",
       "       [-1.05382675e-02, -1.05382675e-02, -1.05382675e-02, -1.05382675e-02],\n",
       "       [-8.43184248e-03, -8.43184248e-03, -8.43184248e-03, -8.43184248e-03]])"
      ]
     },
     "execution_count": 17,
     "metadata": {},
     "output_type": "execute_result"
    }
   ],
   "source": [
    "cov = np.full((15, n_arms, n_arms), 100.0)\n",
    "arms = np.arange(n_arms)\n",
    "cov[:, arms, arms] += sig2_rule.pts[:, None]\n",
    "neg_precQ = -np.linalg.inv(cov)\n",
    "np.diagonal(neg_precQ, axis1=1, axis2=2)"
   ]
  },
  {
   "cell_type": "code",
   "execution_count": 24,
   "metadata": {},
   "outputs": [
    {
     "data": {
      "text/plain": [
       "(DeviceArray([[-7.09769617e+01, -7.27168118e+01, -7.99643174e+01, -8.09641537e+01],\n",
       "              [-5.61950238e+01, -5.79348739e+01, -6.51823795e+01, -6.61822158e+01],\n",
       "              [-3.72914933e+01, -3.90313434e+01, -4.62788490e+01, -4.72786853e+01],\n",
       "              [-2.10928876e+01, -2.28327377e+01, -3.00802433e+01, -3.10800796e+01],\n",
       "              [-1.04109557e+01, -1.21508058e+01, -1.93983114e+01, -2.03981477e+01],\n",
       "              [-4.61804411e+00, -6.35789419e+00, -1.36053998e+01, -1.46052361e+01],\n",
       "              [-1.90592226e+00, -3.64577234e+00, -1.08932779e+01, -1.18931142e+01],\n",
       "              [-7.61618303e-01, -2.50146838e+00, -9.74897398e+00, -1.07488103e+01],\n",
       "              [-3.08558929e-01, -2.04840901e+00, -9.29591460e+00, -1.02957509e+01],\n",
       "              [-1.33722474e-01, -1.87357255e+00, -9.12107815e+00, -1.01209144e+01],\n",
       "              [-6.56889146e-02, -1.80553899e+00, -9.05304459e+00, -1.00528809e+01],\n",
       "              [-3.82612821e-02, -1.77811136e+00, -9.02561695e+00, -1.00254532e+01],\n",
       "              [-2.66393505e-02, -1.76648943e+00, -9.01399502e+00, -1.00138313e+01],\n",
       "              [-2.15331294e-02, -1.76138321e+00, -9.00888880e+00, -1.00087251e+01],\n",
       "              [-1.94267044e-02, -1.75927678e+00, -9.00678238e+00, -1.00066187e+01]], dtype=float64),\n",
       " DeviceArray([[-7.09769617e+01, -7.27168118e+01, -7.99643174e+01, -8.09641537e+01],\n",
       "              [-5.61950238e+01, -5.79348739e+01, -6.51823795e+01, -6.61822158e+01],\n",
       "              [-3.72914933e+01, -3.90313434e+01, -4.62788490e+01, -4.72786853e+01],\n",
       "              [-2.10928876e+01, -2.28327377e+01, -3.00802433e+01, -3.10800796e+01],\n",
       "              [-1.04109557e+01, -1.21508058e+01, -1.93983114e+01, -2.03981477e+01],\n",
       "              [-4.61804411e+00, -6.35789419e+00, -1.36053998e+01, -1.46052361e+01],\n",
       "              [-1.90592226e+00, -3.64577234e+00, -1.08932779e+01, -1.18931142e+01],\n",
       "              [-7.61618303e-01, -2.50146838e+00, -9.74897398e+00, -1.07488103e+01],\n",
       "              [-3.08558929e-01, -2.04840901e+00, -9.29591460e+00, -1.02957509e+01],\n",
       "              [-1.33722474e-01, -1.87357255e+00, -9.12107815e+00, -1.01209144e+01],\n",
       "              [-6.56889146e-02, -1.80553899e+00, -9.05304459e+00, -1.00528809e+01],\n",
       "              [-3.82612821e-02, -1.77811136e+00, -9.02561695e+00, -1.00254532e+01],\n",
       "              [-2.66393505e-02, -1.76648943e+00, -9.01399502e+00, -1.00138313e+01],\n",
       "              [-2.15331294e-02, -1.76138321e+00, -9.00888880e+00, -1.00087251e+01],\n",
       "              [-1.94267044e-02, -1.75927678e+00, -9.00678238e+00, -1.00066187e+01]], dtype=float64))"
      ]
     },
     "execution_count": 24,
     "metadata": {},
     "output_type": "execute_result"
    }
   ],
   "source": [
    "theta = np.array([-7.21806323, -2.096633  , -0.21382083, -0.06924673])\n",
    "mu_0 = -1.34\n",
    "theta_m0 = theta - mu_0\n",
    "exp_theta_adj = jnp.exp(theta + logit(0.3))\n",
    "C = 1.0 / (exp_theta_adj + 1)\n",
    "nCeta = 35 * C * exp_theta_adj\n",
    "v1 = (np.diagonal(neg_precQ, axis1=1, axis2=2) - nCeta)\n",
    "v2 = (neg_precQ[:,None, 0,0] - nCeta)\n",
    "v1, v2"
   ]
  },
  {
   "cell_type": "code",
   "execution_count": null,
   "metadata": {},
   "outputs": [],
   "source": [
    "\n",
    "grad = (\n",
    "    # dotJI_vmap(neg_precQ_a, neg_precQ_b, theta_m0)\n",
    "    + jnp.matmul(neg_precQ[None], theta_m0[:, :, :, None])[..., 0]\n",
    "    + y[:, None]\n",
    "    - nCeta\n",
    ")\n",
    "hess = neg_precQ[None] - ((nCeta * C)[:, :, None, :] * jnp.eye(n_arms))\n",
    "hess_a = neg_precQ_a[None, :, None] - nCeta * C\n",
    "hess_b = neg_precQ_b\n",
    "hess_a = (jnp.diagonal(neg_precQ, axis1=1, axis2=2) - nCeta * C) - hess_b[None, :, None]"
   ]
  },
  {
   "cell_type": "code",
   "execution_count": null,
   "metadata": {},
   "outputs": [],
   "source": []
  },
  {
   "cell_type": "markdown",
   "metadata": {},
   "source": [
    "![](2022-07-07-20-14-45.png)"
   ]
  },
  {
   "cell_type": "code",
   "execution_count": 5,
   "metadata": {},
   "outputs": [],
   "source": [
    "import numpy as np\n",
    "b = 1.0\n",
    "a = np.random.rand(4)\n",
    "M = np.full((4,4), b) + np.diag(a)"
   ]
  },
  {
   "cell_type": "code",
   "execution_count": 6,
   "metadata": {},
   "outputs": [
    {
     "data": {
      "text/plain": [
       "array([[ 1.31148807, -0.06612969, -0.92047326, -0.26805707],\n",
       "       [-0.06612969,  1.10833818, -0.77032047, -0.22433009],\n",
       "       [-0.92047326, -0.77032047,  5.47526137, -3.12249854],\n",
       "       [-0.26805707, -0.22433009, -3.12249854,  3.80766208]])"
      ]
     },
     "execution_count": 6,
     "metadata": {},
     "output_type": "execute_result"
    }
   ],
   "source": [
    "Minv = np.linalg.inv(M)\n",
    "Minv"
   ]
  },
  {
   "cell_type": "code",
   "execution_count": 130,
   "metadata": {},
   "outputs": [],
   "source": [
    "b = neg_precQ[0,0,1]\n",
    "a = neg_precQ[0,0,0] - b"
   ]
  },
  {
   "cell_type": "code",
   "execution_count": 131,
   "metadata": {},
   "outputs": [],
   "source": [
    "@jax.jit\n",
    "def quad(theta_max, a, b):\n",
    "    dotprod = ((theta_max.sum(axis=-1) * b)[..., None] + theta_max * a)\n",
    "    quad = jnp.sum(theta_max * dotprod, axis=-1)\n",
    "    return quad"
   ]
  },
  {
   "cell_type": "code",
   "execution_count": 132,
   "metadata": {},
   "outputs": [
    {
     "name": "stdout",
     "output_type": "stream",
     "text": [
      "126 µs ± 1.56 µs per loop (mean ± std. dev. of 7 runs, 10,000 loops each)\n"
     ]
    }
   ],
   "source": [
    "%%timeit\n",
    "quad(theta_max, a, b).block_until_ready()"
   ]
  },
  {
   "cell_type": "code",
   "execution_count": 129,
   "metadata": {},
   "outputs": [
    {
     "data": {
      "text/plain": [
       "DeviceArray(-0.37294438, dtype=float32)"
      ]
     },
     "execution_count": 129,
     "metadata": {},
     "output_type": "execute_result"
    }
   ],
   "source": [
    "quad(theta_max, a, b)[0,0]"
   ]
  },
  {
   "cell_type": "code",
   "execution_count": 122,
   "metadata": {},
   "outputs": [],
   "source": [
    "dotprod2 = jnp.einsum(\"...ij,...j\", neg_precQ, theta_max)\n",
    "quad2 = jnp.einsum(\"...i,...ij,...j\", theta_max, neg_precQ, theta_max)\n",
    "quad3 = np.sum(theta_max * dotprod2, axis=-1)"
   ]
  },
  {
   "cell_type": "code",
   "execution_count": 123,
   "metadata": {},
   "outputs": [
    {
     "data": {
      "text/plain": [
       "(DeviceArray([-5.1011925,  1.39013  ,  2.319191 ,  1.390357 ], dtype=float32),\n",
       " DeviceArray([-5.101193 ,  1.3901292,  2.319191 ,  1.390357 ], dtype=float32),\n",
       " DeviceArray(-0.3729442, dtype=float32),\n",
       " DeviceArray(-0.37294447, dtype=float32),\n",
       " DeviceArray(-0.37294444, dtype=float32))"
      ]
     },
     "execution_count": 123,
     "metadata": {},
     "output_type": "execute_result"
    }
   ],
   "source": [
    "dotprod[0,0], dotprod2[0,0], quad[0,0], quad2[0,0], quad3[0,0]"
   ]
  },
  {
   "cell_type": "code",
   "execution_count": 55,
   "metadata": {},
   "outputs": [],
   "source": [
    "inla_obj = inla.INLA(conditional_vmap, grad_hess_vmap, sig2_rule, narms)"
   ]
  },
  {
   "cell_type": "code",
   "execution_count": 56,
   "metadata": {},
   "outputs": [],
   "source": [
    "theta_max, hess, iters = inla_obj.optimize_loop(data, sig2_rule.pts, 1e-3)\n",
    "post = inla_obj.posterior(theta_max, hess, sig2_rule.pts, sig2_rule.wts, data)"
   ]
  },
  {
   "cell_type": "code",
   "execution_count": 58,
   "metadata": {},
   "outputs": [
    {
     "name": "stdout",
     "output_type": "stream",
     "text": [
      "31.4 ms ± 444 µs per loop (mean ± std. dev. of 5 runs, 20 loops each)\n"
     ]
    }
   ],
   "source": [
    "%%timeit -n 20 -r 5\n",
    "theta_max, hess, iters = inla_obj.optimize_loop(data, sig2_rule.pts, 1e-3)\n",
    "post = inla_obj.posterior(theta_max, hess, sig2_rule.pts, sig2_rule.wts, data)"
   ]
  },
  {
   "cell_type": "code",
   "execution_count": null,
   "metadata": {},
   "outputs": [],
   "source": []
  }
 ],
 "metadata": {
  "kernelspec": {
   "display_name": "Python 3.10.5 ('imprint')",
   "language": "python",
   "name": "python3"
  },
  "language_info": {
   "codemirror_mode": {
    "name": "ipython",
    "version": 3
   },
   "file_extension": ".py",
   "mimetype": "text/x-python",
   "name": "python",
   "nbconvert_exporter": "python",
   "pygments_lexer": "ipython3",
   "version": "3.10.5"
  },
  "orig_nbformat": 4,
  "vscode": {
   "interpreter": {
    "hash": "1234d0467017a186db2b9a06faf936c59bc87b507f01580220987604bcb2f4bc"
   }
  }
 },
 "nbformat": 4,
 "nbformat_minor": 2
}
