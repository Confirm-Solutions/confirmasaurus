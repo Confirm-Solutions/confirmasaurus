{
 "cells": [
  {
   "cell_type": "code",
   "execution_count": 1,
   "metadata": {},
   "outputs": [],
   "source": [
    "from sage.all import *\n",
    "import scipy.stats\n",
    "import sympy as sp\n",
    "import numpy as np\n",
    "import matplotlib.pyplot as plt"
   ]
  },
  {
   "cell_type": "code",
   "execution_count": 2,
   "metadata": {},
   "outputs": [],
   "source": [
    "y = var('y')"
   ]
  },
  {
   "cell_type": "code",
   "execution_count": 3,
   "metadata": {},
   "outputs": [],
   "source": [
    "norm_pdf = exp(-(y ** 2) / 2) / sqrt(2 * pi)\n",
    "t = var('t')\n",
    "norm_cdf = integrate(norm_pdf, y, -infinity, t).full_simplify()\n",
    "norm_cdf"
   ]
  },
  {
   "cell_type": "code",
   "execution_count": 5,
   "metadata": {},
   "outputs": [
    {
     "data": {
      "text/latex": [
       "$\\displaystyle \\frac{\\sqrt{2} \\left(\\operatorname{erf}{\\left(\\frac{\\sqrt{2} a y}{2} \\right)} + 1\\right) e^{- \\frac{y^{2}}{2}}}{2 \\sqrt{\\pi}}$"
      ],
      "text/plain": [
       "sqrt(2)*(erf(sqrt(2)*a*y/2) + 1)*exp(-y**2/2)/(2*sqrt(pi))"
      ]
     },
     "execution_count": 5,
     "metadata": {},
     "output_type": "execute_result"
    }
   ],
   "source": [
    "a, xi, w = var('a, xi, w')\n",
    "assume(xi < 0)\n",
    "assume(a > 0)\n",
    "assume(w > 0)\n",
    "sn_pdf_normalized = 2 * norm_pdf * norm_cdf.subs(t == (a*y))\n",
    "sn_pdf_normalized._sympy_()"
   ]
  },
  {
   "cell_type": "code",
   "execution_count": 6,
   "metadata": {},
   "outputs": [
    {
     "data": {
      "text/latex": [
       "$\\displaystyle \\frac{\\sqrt{2} \\left(\\operatorname{erf}{\\left(\\frac{\\sqrt{2} a \\left(x - \\xi\\right)}{2 w} \\right)} + 1\\right) e^{- \\frac{\\left(x - \\xi\\right)^{2}}{2 w^{2}}}}{2 \\sqrt{\\pi} w}$"
      ],
      "text/plain": [
       "sqrt(2)*(erf(sqrt(2)*a*(x - xi)/(2*w)) + 1)*exp(-(x - xi)**2/(2*w**2))/(2*sqrt(pi)*w)"
      ]
     },
     "execution_count": 6,
     "metadata": {},
     "output_type": "execute_result"
    }
   ],
   "source": [
    "x = var('x')\n",
    "xt = (x - xi) / w\n",
    "sn_pdf = sn_pdf_normalized.subs(y == xt) / w\n",
    "sn_pdf._sympy_()"
   ]
  },
  {
   "cell_type": "code",
   "execution_count": 7,
   "metadata": {},
   "outputs": [
    {
     "data": {
      "text/latex": [
       "$\\displaystyle \\operatorname{lognormcdf}{\\left(\\frac{a \\left(x - \\xi\\right)}{w} \\right)} - \\log{\\left(w \\right)} - \\log{\\left(\\sqrt{2} \\sqrt{\\pi} \\right)} + \\log{\\left(2 \\right)} - \\frac{\\left(x - \\xi\\right)^{2}}{2 w^{2}}$"
      ],
      "text/plain": [
       "lognormcdf(a*(x - xi)/w) - log(w) - log(sqrt(2)*sqrt(pi)) + log(2) - (x - xi)**2/(2*w**2)"
      ]
     },
     "execution_count": 7,
     "metadata": {},
     "output_type": "execute_result"
    }
   ],
   "source": [
    "log_norm_pdf = -(y ** 2) / 2 - log(sqrt(2 * pi))\n",
    "log_norm_cdf = function('lognormcdf')\n",
    "log_sn_pdf = log(2) - log(w) + log_norm_pdf.subs(y == xt) + log_norm_cdf(a * xt)\n",
    "# log_sn_pdf = log(2) + log_norm_pdf.subs(y==x) + log_norm_cdf(a * x)\n",
    "log_sn_pdf._sympy_()"
   ]
  },
  {
   "cell_type": "code",
   "execution_count": 8,
   "metadata": {},
   "outputs": [],
   "source": [
    "sn_ds = []\n",
    "for i in range(5):\n",
    "    sn_ds.append(derivative(log_sn_pdf, x, i))"
   ]
  },
  {
   "cell_type": "code",
   "execution_count": 9,
   "metadata": {},
   "outputs": [
    {
     "data": {
      "text/plain": [
       "g1"
      ]
     },
     "execution_count": 9,
     "metadata": {},
     "output_type": "execute_result"
    }
   ],
   "source": [
    "g1, g2, g3 = var('g1, g2, g3')\n",
    "g1"
   ]
  },
  {
   "cell_type": "code",
   "execution_count": 10,
   "metadata": {},
   "outputs": [
    {
     "name": "stdout",
     "output_type": "stream",
     "text": [
      "\n",
      " 1\n"
     ]
    },
    {
     "data": {
      "text/plain": [
       "a*D[0](lognormcdf)(a*(x - xi)/w)/w - (x - xi)/w^2"
      ]
     },
     "metadata": {},
     "output_type": "display_data"
    },
    {
     "name": "stdout",
     "output_type": "stream",
     "text": [
      "\n",
      " 2\n"
     ]
    },
    {
     "data": {
      "text/plain": [
       "a^2*D[0, 0](lognormcdf)(a*(x - xi)/w)/w^2 - 1/w^2"
      ]
     },
     "metadata": {},
     "output_type": "display_data"
    },
    {
     "name": "stdout",
     "output_type": "stream",
     "text": [
      "\n",
      " 3\n"
     ]
    },
    {
     "data": {
      "text/plain": [
       "a^3*D[0, 0, 0](lognormcdf)(a*(x - xi)/w)/w^3"
      ]
     },
     "metadata": {},
     "output_type": "display_data"
    }
   ],
   "source": [
    "from IPython.display import display\n",
    "for i in range(1,4):\n",
    "    print(f'\\n {i}')\n",
    "    display(sn_ds[i])"
   ]
  },
  {
   "cell_type": "code",
   "execution_count": 63,
   "metadata": {},
   "outputs": [
    {
     "name": "stdout",
     "output_type": "stream",
     "text": [
      "0\n",
      "0\n",
      "0\n",
      "0\n"
     ]
    }
   ],
   "source": [
    "psi1 = (norm_pdf / norm_cdf.subs(t == y)).full_simplify()\n",
    "psi2 = -psi1 * (y + psi1)\n",
    "psi3 = -psi2 * (y + psi1) - psi1 * (1 + psi2)\n",
    "psi4 = -psi3 * (y + 2 * psi1) - 2 * psi2 * (1 + psi2)\n",
    "psi5 = -psi4 * (y + 2 * psi1) - 3 * psi3 * (1 + 2 * psi2)\n",
    "psi = [0, psi1, psi2, psi3, psi4, psi5]\n",
    "for i in range(1,5):\n",
    "    print((derivative(psi[i], y) - psi[i + 1]).full_simplify())\n"
   ]
  },
  {
   "cell_type": "code",
   "execution_count": 59,
   "metadata": {},
   "outputs": [
    {
     "data": {
      "text/plain": [
       "[p1, p2, p3, p4, p5]"
      ]
     },
     "execution_count": 59,
     "metadata": {},
     "output_type": "execute_result"
    }
   ],
   "source": [
    "psi_vars = [var(f'p{i}') for i in range(1,6)]\n",
    "psi_vars"
   ]
  },
  {
   "cell_type": "code",
   "execution_count": 65,
   "metadata": {},
   "outputs": [
    {
     "data": {
      "text/plain": [
       "[0, a*p1/w - (x - xi)/w^2, a^2*p2/w^2 - 1/w^2, a^3*p3/w^3]"
      ]
     },
     "execution_count": 65,
     "metadata": {},
     "output_type": "execute_result"
    }
   ],
   "source": [
    "psi_sn_ds = [0 for i in range(4)]\n",
    "for i in range(1, 4):\n",
    "    subs_term = log_norm_cdf(a*xt)\n",
    "    for j in range(i):\n",
    "        subs_term = derivative(subs_term, x)\n",
    "    psi_sn_ds[i] = sn_ds[i].subs(subs_term == psi_vars[i-1] * (a/w) ** i)\n",
    "psi_sn_ds"
   ]
  },
  {
   "cell_type": "code",
   "execution_count": 14,
   "metadata": {},
   "outputs": [],
   "source": [
    "psi_sn_ds = [0 for i in range(4)]\n",
    "for i in range(1, 4):\n",
    "    subs_term = log_norm_cdf(a*xt)\n",
    "    for j in range(i):\n",
    "        subs_term = derivative(subs_term, x)\n",
    "    psi_sn_ds[i] = sn_ds[i].subs(subs_term == psi[i].subs(y == a * xt) * (a/w) ** i)"
   ]
  },
  {
   "cell_type": "code",
   "execution_count": 16,
   "metadata": {},
   "outputs": [],
   "source": [
    "objective = (\n",
    "    (psi_sn_ds[1].subs(x == 0) - g1) ** 2\n",
    "    + (psi_sn_ds[2].subs(x == 0) - g2) ** 2\n",
    "    + (psi_sn_ds[3].subs(x == 0) - g3) ** 2\n",
    ")\n"
   ]
  },
  {
   "cell_type": "code",
   "execution_count": 17,
   "metadata": {},
   "outputs": [
    {
     "data": {
      "text/plain": [
       "1.5230458221804384e-09"
      ]
     },
     "execution_count": 17,
     "metadata": {},
     "output_type": "execute_result"
    }
   ],
   "source": [
    "example = (-0.009716262625455222, -0.25432153325092355, -0.18668414543379036)\n",
    "soln6 = [1.6663929335692391, 3.757723064525265, -3.3302539408014247]\n",
    "float(objective.subs(\n",
    "    g1 == example[0],\n",
    "    g2 == example[1],\n",
    "    g3 == example[2],\n",
    "    x == 0,\n",
    "    xi == soln6[0],\n",
    "    w == soln6[1],\n",
    "    a == soln6[2]\n",
    "))"
   ]
  },
  {
   "cell_type": "code",
   "execution_count": 19,
   "metadata": {},
   "outputs": [],
   "source": [
    "grad = [\n",
    "    derivative(objective, var)\n",
    "    for var in [xi, w, a]\n",
    "]\n",
    "hessian = [\n",
    "    [derivative(grad[i], var)\n",
    "    for i in range(3)]\n",
    "    for var in [xi, w, a]\n",
    "]"
   ]
  },
  {
   "cell_type": "code",
   "execution_count": 29,
   "metadata": {},
   "outputs": [
    {
     "data": {
      "text/plain": [
       "'2*a**6*(sqrt(2)*a2*xi2*(-a2*xi*ext2)*erfxt/w2 + a2*xi*ext2)/w2 - sqrt(2)*a/(sqrt(pi)*w))/(sqrt(pi)*w2*(-ext2)*erfxt + ext2))**2) - 2*sqrt(2)*a2*xi/(sqrt(pi)*w2*(-ext2)*erfxt + ext2))) - 12*a*xi*(-a2*xi*ext2)*erfxt/w2 + a2*xi*ext2)/w2 - sqrt(2)*a/(sqrt(pi)*w))/(pi*w*(-ext2)*erfxt + ext2))**3) + 6*a/(pi*w*(-ext2)*erfxt + ext2))**2) - sqrt(2)*(-a2*xi*ext2)*erfxt/w2 + a2*xi*ext2)/w2 - sqrt(2)*a/(sqrt(pi)*w))/(sqrt(pi)*(-ext2)*erfxt + ext2))**2) + 12*sqrt(2)*(-a2*xi*ext2)*erfxt/w2 + a2*xi*ext2)/w2 - sqrt(2)*a/(sqrt(pi)*w))/(pi**(3/2)*(-ext2)*erfxt + ext2))**4))**2/w**6 + 2*a**4*(sqrt(2)*a*xi*(-a2*xi*ext2)*erfxt/w2 + a2*xi*ext2)/w2 - sqrt(2)*a/(sqrt(pi)*w))/(sqrt(pi)*w*(-ext2)*erfxt + ext2))**2) - sqrt(2)*a/(sqrt(pi)*w*(-ext2)*erfxt + ext2))) - 4*(-a2*xi*ext2)*erfxt/w2 + a2*xi*ext2)/w2 - sqrt(2)*a/(sqrt(pi)*w))/(pi*(-ext2)*erfxt + ext2))**3))**2/w**4 - 2*a**3*(-a**3*(sqrt(2)*a2*xi2/(sqrt(pi)*w2*(-ext2)*erfxt + ext2))) - 6*a*xi/(pi*w*(-ext2)*erfxt + ext2))**2) - sqrt(2)/(sqrt(pi)*(-ext2)*erfxt + ext2))) + 4*sqrt(2)/(pi**(3/2)*(-ext2)*erfxt + ext2))**3))/w**3 + g3)*(-sqrt(2)*a2*xi2*(-a**4*xi2*ext2)*erfxt/w**4 + a**4*xi2*ext2)/w**4 - sqrt(2)*a**3*xi/(sqrt(pi)*w**3) - a2*ext2)*erfxt/w2 + a2*ext2)/w2)/(sqrt(pi)*w2*(-ext2)*erfxt + ext2))**2) + 2*sqrt(2)*a2*xi2*(-a2*xi*ext2)*erfxt/w2 + a2*xi*ext2)/w2 - sqrt(2)*a/(sqrt(pi)*w))**2/(sqrt(pi)*w2*(-ext2)*erfxt + ext2))**3) - 4*sqrt(2)*a2*xi*(-a2*xi*ext2)*erfxt/w2 + a2*xi*ext2)/w2 - sqrt(2)*a/(sqrt(pi)*w))/(sqrt(pi)*w2*(-ext2)*erfxt + ext2))**2) + 2*sqrt(2)*a2/(sqrt(pi)*w2*(-ext2)*erfxt + ext2))) + 12*a*xi*(-a**4*xi2*ext2)*erfxt/w**4 + a**4*xi2*ext2)/w**4 - sqrt(2)*a**3*xi/(sqrt(pi)*w**3) - a2*ext2)*erfxt/w2 + a2*ext2)/w2)/(pi*w*(-ext2)*erfxt + ext2))**3) - 36*a*xi*(-a2*xi*ext2)*erfxt/w2 + a2*xi*ext2)/w2 - sqrt(2)*a/(sqrt(pi)*w))**2/(pi*w*(-ext2)*erfxt + ext2))**4) + 24*a*(-a2*xi*ext2)*erfxt/w2 + a2*xi*ext2)/w2 - sqrt(2)*a/(sqrt(pi)*w))/(pi*w*(-ext2)*erfxt + ext2))**3) + sqrt(2)*(-a**4*xi2*ext2)*erfxt/w**4 + a**4*xi2*ext2)/w**4 - sqrt(2)*a**3*xi/(sqrt(pi)*w**3) - a2*ext2)*erfxt/w2 + a2*ext2)/w2)/(sqrt(pi)*(-ext2)*erfxt + ext2))**2) - 2*sqrt(2)*(-a2*xi*ext2)*erfxt/w2 + a2*xi*ext2)/w2 - sqrt(2)*a/(sqrt(pi)*w))**2/(sqrt(pi)*(-ext2)*erfxt + ext2))**3) - 12*sqrt(2)*(-a**4*xi2*ext2)*erfxt/w**4 + a**4*xi2*ext2)/w**4 - sqrt(2)*a**3*xi/(sqrt(pi)*w**3) - a2*ext2)*erfxt/w2 + a2*ext2)/w2)/(pi**(3/2)*(-ext2)*erfxt + ext2))**4) + 48*sqrt(2)*(-a2*xi*ext2)*erfxt/w2 + a2*xi*ext2)/w2 - sqrt(2)*a/(sqrt(pi)*w))**2/(pi**(3/2)*(-ext2)*erfxt + ext2))**5))/w**3 - 2*a2*(-a2*(sqrt(2)*a*xi/(sqrt(pi)*w*(-ext2)*erfxt + ext2))) - 2/(pi*(-ext2)*erfxt + ext2))**2))/w2 + g2 + w**(-2))*(-sqrt(2)*a*xi*(-a**4*xi2*ext2)*erfxt/w**4 + a**4*xi2*ext2)/w**4 - sqrt(2)*a**3*xi/(sqrt(pi)*w**3) - a2*ext2)*erfxt/w2 + a2*ext2)/w2)/(sqrt(pi)*w*(-ext2)*erfxt + ext2))**2) + 2*sqrt(2)*a*xi*(-a2*xi*ext2)*erfxt/w2 + a2*xi*ext2)/w2 - sqrt(2)*a/(sqrt(pi)*w))**2/(sqrt(pi)*w*(-ext2)*erfxt + ext2))**3) - 2*sqrt(2)*a*(-a2*xi*ext2)*erfxt/w2 + a2*xi*ext2)/w2 - sqrt(2)*a/(sqrt(pi)*w))/(sqrt(pi)*w*(-ext2)*erfxt + ext2))**2) + 4*(-a**4*xi2*ext2)*erfxt/w**4 + a**4*xi2*ext2)/w**4 - sqrt(2)*a**3*xi/(sqrt(pi)*w**3) - a2*ext2)*erfxt/w2 + a2*ext2)/w2)/(pi*(-ext2)*erfxt + ext2))**3) - 12*(-a2*xi*ext2)*erfxt/w2 + a2*xi*ext2)/w2 - sqrt(2)*a/(sqrt(pi)*w))**2/(pi*(-ext2)*erfxt + ext2))**4))/w2 + 2*(sqrt(2)*a*(-a2*xi*ext2)*erfxt/w2 + a2*xi*ext2)/w2 - sqrt(2)*a/(sqrt(pi)*w))/(sqrt(pi)*w*(-ext2)*erfxt + ext2))**2) - 1/w2)**2 - 2*(-sqrt(2)*a*(-a**4*xi2*ext2)*erfxt/w**4 + a**4*xi2*ext2)/w**4 - sqrt(2)*a**3*xi/(sqrt(pi)*w**3) - a2*ext2)*erfxt/w2 + a2*ext2)/w2)/(sqrt(pi)*w*(-ext2)*erfxt + ext2))**2) + 2*sqrt(2)*a*(-a2*xi*ext2)*erfxt/w2 + a2*xi*ext2)/w2 - sqrt(2)*a/(sqrt(pi)*w))**2/(sqrt(pi)*w*(-ext2)*erfxt + ext2))**3))*(-sqrt(2)*a/(sqrt(pi)*w*(-ext2)*erfxt + ext2))) + g1 - xi/w2)'"
      ]
     },
     "execution_count": 29,
     "metadata": {},
     "output_type": "execute_result"
    }
   ],
   "source": [
    "subs = [\n",
    "    ('math.', '')\n",
    "]\n",
    "vars = [\n",
    "    ('a2', 'a**2'),\n",
    "    ('xi2', 'xi**2'),\n",
    "    ('w2', 'w**2'),\n",
    "    ('xt', 'a*xi/w'),\n",
    "    ('xt2', 'a2*xi2/w2'),\n",
    "    ('ext2', 'exp((1/2)*xt2'),\n",
    "    ('erfxt', 'erf((1/2)*sqrt(2)*xt)'),\n",
    "]\n",
    "code = sp.printing.lambdarepr.lambdarepr(hessian[0][0]._sympy_())\n",
    "for s in subs:\n",
    "    code = code.replace(s[0], s[1])\n",
    "for v in vars:\n",
    "    code = code.replace(v[1], v[0])\n",
    "code"
   ]
  },
  {
   "cell_type": "code",
   "execution_count": 63,
   "metadata": {},
   "outputs": [
    {
     "data": {
      "text/plain": [
       "-1.7203531931928617"
      ]
     },
     "execution_count": 63,
     "metadata": {},
     "output_type": "execute_result"
    }
   ],
   "source": [
    "# xiv, wv, av = soln6\n",
    "# float(log_sn_pdf.subs(\n",
    "#     lognormcdf(a * xt) == scipy.stats.norm.logcdf(-av * xiv / wv)\n",
    "# ).subs(x == 0, xi == xiv, w == wv, a == av))\n",
    "# float(sn_ds[1].subs(\n",
    "#     derivative(lognormcdf(a * xt), x) == psi1.subs(y == a * xt) * a / w\n",
    "# ).subs(x==0, xi==xiv, w==wv, a==av))"
   ]
  },
  {
   "cell_type": "code",
   "execution_count": 110,
   "metadata": {},
   "outputs": [
    {
     "name": "stdout",
     "output_type": "stream",
     "text": [
      "-0.009723111857446579\n",
      "-0.25431938266802934\n",
      "-0.1867225056845263\n"
     ]
    }
   ],
   "source": [
    "py_sn_ds = [sp.lambdify((x, xi, w, a), psi_sn_ds[i]._sympy_()) for i in range(1,4)]\n",
    "for i in range(3):\n",
    "    print(py_sn_ds[i](0, *soln6))"
   ]
  },
  {
   "cell_type": "code",
   "execution_count": 135,
   "metadata": {},
   "outputs": [
    {
     "data": {
      "text/plain": [
       "sqrt(2)*a/(sqrt(pi)*(erf(1/2*sqrt(2)*a*(x - xi)/w)*e^(1/2*a^2*(x - xi)^2/w^2) + e^(1/2*a^2*(x - xi)^2/w^2))*w) - (x - xi)/w^2"
      ]
     },
     "execution_count": 135,
     "metadata": {},
     "output_type": "execute_result"
    }
   ],
   "source": [
    "psi_sn_ds[1]"
   ]
  },
  {
   "cell_type": "code",
   "execution_count": 136,
   "metadata": {},
   "outputs": [
    {
     "data": {
      "text/plain": [
       "-a^2*(sqrt(2)*a*(x - xi)/(sqrt(pi)*(erf(1/2*sqrt(2)*a*(x - xi)/w)*e^(1/2*a^2*(x - xi)^2/w^2) + e^(1/2*a^2*(x - xi)^2/w^2))*w) + 2/(pi*(erf(1/2*sqrt(2)*a*(x - xi)/w)*e^(1/2*a^2*(x - xi)^2/w^2) + e^(1/2*a^2*(x - xi)^2/w^2))^2))/w^2 - 1/w^2"
      ]
     },
     "execution_count": 136,
     "metadata": {},
     "output_type": "execute_result"
    }
   ],
   "source": [
    "psi_sn_ds[2]"
   ]
  },
  {
   "cell_type": "code",
   "execution_count": 134,
   "metadata": {},
   "outputs": [
    {
     "data": {
      "text/plain": [
       "[xi == -167956123/26424886230406401361949*(21585696725824*(sqrt(pi)*erf(19122819/43154822*sqrt(2)*xi) + sqrt(pi))*e^(13962373/35553640*xi^2) - 1968880720903707*sqrt(2))*e^(-13962373/35553640*xi^2)/(sqrt(pi)*erf(19122819/43154822*sqrt(2)*xi) + sqrt(pi))]"
      ]
     },
     "execution_count": 134,
     "metadata": {},
     "output_type": "execute_result"
    }
   ],
   "source": [
    "solve(psi_sn_ds[1].subs(x==0, w == soln6[1], a == soln6[2]) - example[0] == 0, xi)"
   ]
  },
  {
   "cell_type": "code",
   "execution_count": 132,
   "metadata": {},
   "outputs": [
    {
     "data": {
      "text/plain": [
       "0.0708191091074423*xi - 0.886242515378699*sqrt(2)/(sqrt(pi)*(erf(0.4431212576893495*sqrt(2)*xi)*e^(0.39271289803238185*xi^2) + e^(0.39271289803238185*xi^2))) + 0.009716262625455222"
      ]
     },
     "execution_count": 132,
     "metadata": {},
     "output_type": "execute_result"
    }
   ],
   "source": [
    "psi_sn_ds[1].subs(x==0, w == soln6[1], a == soln6[2]) - example[0]"
   ]
  },
  {
   "cell_type": "code",
   "execution_count": 120,
   "metadata": {},
   "outputs": [
    {
     "data": {
      "text/plain": [
       "[]"
      ]
     },
     "execution_count": 120,
     "metadata": {},
     "output_type": "execute_result"
    }
   ],
   "source": [
    "solve([psi_sn_ds[1].subs(x==0) == example[0]], x)"
   ]
  },
  {
   "cell_type": "code",
   "execution_count": 113,
   "metadata": {},
   "outputs": [
    {
     "data": {
      "text/plain": [
       "4.414526509574182e-09"
      ]
     },
     "execution_count": 113,
     "metadata": {},
     "output_type": "execute_result"
    }
   ],
   "source": [
    "residual = [lambda *args: (py_sn_ds[i](0, *args) - example[i]) for i in range(3)]\n",
    "objective = lambda *args: np.sum([residual[i](*args) ** 2 for i in range(3)])\n",
    "objective(*soln6)"
   ]
  },
  {
   "cell_type": "code",
   "execution_count": 109,
   "metadata": {},
   "outputs": [
    {
     "name": "stderr",
     "output_type": "stream",
     "text": [
      "<lambdifygenerated-21>:2: RuntimeWarning: divide by zero encountered in divide\n",
      "  return a**3*(sqrt(2)*a**2*(x - xi)**2/(sqrt(pi)*w**2*(exp((1/2)*a**2*(x - xi)**2/w**2)*erf((1/2)*sqrt(2)*a*(x - xi)/w) + exp((1/2)*a**2*(x - xi)**2/w**2))) + 6*a*(x - xi)/(pi*w*(exp((1/2)*a**2*(x - xi)**2/w**2)*erf((1/2)*sqrt(2)*a*(x - xi)/w) + exp((1/2)*a**2*(x - xi)**2/w**2))**2) - sqrt(2)/(sqrt(pi)*(exp((1/2)*a**2*(x - xi)**2/w**2)*erf((1/2)*sqrt(2)*a*(x - xi)/w) + exp((1/2)*a**2*(x - xi)**2/w**2))) + 4*sqrt(2)/(pi**(3/2)*(exp((1/2)*a**2*(x - xi)**2/w**2)*erf((1/2)*sqrt(2)*a*(x - xi)/w) + exp((1/2)*a**2*(x - xi)**2/w**2))**3))/w**3\n",
      "<lambdifygenerated-21>:2: RuntimeWarning: invalid value encountered in divide\n",
      "  return a**3*(sqrt(2)*a**2*(x - xi)**2/(sqrt(pi)*w**2*(exp((1/2)*a**2*(x - xi)**2/w**2)*erf((1/2)*sqrt(2)*a*(x - xi)/w) + exp((1/2)*a**2*(x - xi)**2/w**2))) + 6*a*(x - xi)/(pi*w*(exp((1/2)*a**2*(x - xi)**2/w**2)*erf((1/2)*sqrt(2)*a*(x - xi)/w) + exp((1/2)*a**2*(x - xi)**2/w**2))**2) - sqrt(2)/(sqrt(pi)*(exp((1/2)*a**2*(x - xi)**2/w**2)*erf((1/2)*sqrt(2)*a*(x - xi)/w) + exp((1/2)*a**2*(x - xi)**2/w**2))) + 4*sqrt(2)/(pi**(3/2)*(exp((1/2)*a**2*(x - xi)**2/w**2)*erf((1/2)*sqrt(2)*a*(x - xi)/w) + exp((1/2)*a**2*(x - xi)**2/w**2))**3))/w**3\n",
      "<lambdifygenerated-21>:2: RuntimeWarning: invalid value encountered in add\n",
      "  return a**3*(sqrt(2)*a**2*(x - xi)**2/(sqrt(pi)*w**2*(exp((1/2)*a**2*(x - xi)**2/w**2)*erf((1/2)*sqrt(2)*a*(x - xi)/w) + exp((1/2)*a**2*(x - xi)**2/w**2))) + 6*a*(x - xi)/(pi*w*(exp((1/2)*a**2*(x - xi)**2/w**2)*erf((1/2)*sqrt(2)*a*(x - xi)/w) + exp((1/2)*a**2*(x - xi)**2/w**2))**2) - sqrt(2)/(sqrt(pi)*(exp((1/2)*a**2*(x - xi)**2/w**2)*erf((1/2)*sqrt(2)*a*(x - xi)/w) + exp((1/2)*a**2*(x - xi)**2/w**2))) + 4*sqrt(2)/(pi**(3/2)*(exp((1/2)*a**2*(x - xi)**2/w**2)*erf((1/2)*sqrt(2)*a*(x - xi)/w) + exp((1/2)*a**2*(x - xi)**2/w**2))**3))/w**3\n"
     ]
    },
    {
     "ename": "IndexError",
     "evalue": "list index out of range",
     "output_type": "error",
     "traceback": [
      "\u001b[0;31m---------------------------------------------------------------------------\u001b[0m",
      "\u001b[0;31mIndexError\u001b[0m                                Traceback (most recent call last)",
      "\u001b[0;32m/var/folders/mt/cmys2v_143q1kpcrdt5wcdyr0000gn/T/ipykernel_11578/2877478170.py\u001b[0m in \u001b[0;36m<cell line: 5>\u001b[0;34m()\u001b[0m\n\u001b[1;32m      3\u001b[0m \u001b[0mplt\u001b[0m\u001b[0;34m.\u001b[0m\u001b[0mplot\u001b[0m\u001b[0;34m(\u001b[0m\u001b[0mavs\u001b[0m\u001b[0;34m,\u001b[0m \u001b[0mresidual\u001b[0m\u001b[0;34m[\u001b[0m\u001b[0;36m1\u001b[0m\u001b[0;34m]\u001b[0m\u001b[0;34m(\u001b[0m\u001b[0mavs\u001b[0m\u001b[0;34m,\u001b[0m \u001b[0;36m0\u001b[0m\u001b[0;34m,\u001b[0m \u001b[0;36m1.0\u001b[0m\u001b[0;34m)\u001b[0m\u001b[0;34m,\u001b[0m \u001b[0;34m'k-'\u001b[0m\u001b[0;34m,\u001b[0m \u001b[0mlabel\u001b[0m\u001b[0;34m=\u001b[0m\u001b[0;34m'1'\u001b[0m\u001b[0;34m)\u001b[0m\u001b[0;34m\u001b[0m\u001b[0;34m\u001b[0m\u001b[0m\n\u001b[1;32m      4\u001b[0m \u001b[0mplt\u001b[0m\u001b[0;34m.\u001b[0m\u001b[0mplot\u001b[0m\u001b[0;34m(\u001b[0m\u001b[0mavs\u001b[0m\u001b[0;34m,\u001b[0m \u001b[0mresidual\u001b[0m\u001b[0;34m[\u001b[0m\u001b[0;36m2\u001b[0m\u001b[0;34m]\u001b[0m\u001b[0;34m(\u001b[0m\u001b[0mavs\u001b[0m\u001b[0;34m,\u001b[0m \u001b[0;36m0\u001b[0m\u001b[0;34m,\u001b[0m \u001b[0;36m1.0\u001b[0m\u001b[0;34m)\u001b[0m\u001b[0;34m,\u001b[0m \u001b[0;34m'k--'\u001b[0m\u001b[0;34m,\u001b[0m \u001b[0mlabel\u001b[0m\u001b[0;34m=\u001b[0m\u001b[0;34m'2'\u001b[0m\u001b[0;34m)\u001b[0m\u001b[0;34m\u001b[0m\u001b[0;34m\u001b[0m\u001b[0m\n\u001b[0;32m----> 5\u001b[0;31m \u001b[0mplt\u001b[0m\u001b[0;34m.\u001b[0m\u001b[0mplot\u001b[0m\u001b[0;34m(\u001b[0m\u001b[0mavs\u001b[0m\u001b[0;34m,\u001b[0m \u001b[0mresidual\u001b[0m\u001b[0;34m[\u001b[0m\u001b[0;36m3\u001b[0m\u001b[0;34m]\u001b[0m\u001b[0;34m(\u001b[0m\u001b[0mavs\u001b[0m\u001b[0;34m,\u001b[0m \u001b[0;36m0\u001b[0m\u001b[0;34m,\u001b[0m \u001b[0;36m1.0\u001b[0m\u001b[0;34m)\u001b[0m\u001b[0;34m/\u001b[0m\u001b[0;36m10\u001b[0m\u001b[0;34m,\u001b[0m \u001b[0;34m'k-.'\u001b[0m\u001b[0;34m,\u001b[0m \u001b[0mlabel\u001b[0m\u001b[0;34m=\u001b[0m\u001b[0;34m'3'\u001b[0m\u001b[0;34m)\u001b[0m\u001b[0;34m\u001b[0m\u001b[0;34m\u001b[0m\u001b[0m\n\u001b[0m\u001b[1;32m      6\u001b[0m \u001b[0mplt\u001b[0m\u001b[0;34m.\u001b[0m\u001b[0mlegend\u001b[0m\u001b[0;34m(\u001b[0m\u001b[0;34m)\u001b[0m\u001b[0;34m\u001b[0m\u001b[0;34m\u001b[0m\u001b[0m\n\u001b[1;32m      7\u001b[0m \u001b[0mplt\u001b[0m\u001b[0;34m.\u001b[0m\u001b[0mshow\u001b[0m\u001b[0;34m(\u001b[0m\u001b[0;34m)\u001b[0m\u001b[0;34m\u001b[0m\u001b[0;34m\u001b[0m\u001b[0m\n",
      "\u001b[0;31mIndexError\u001b[0m: list index out of range"
     ]
    },
    {
     "data": {
      "image/png": "[encoded data removed]",
      "text/plain": [
       "<Figure size 720x432 with 1 Axes>"
      ]
     },
     "metadata": {
      "needs_background": "light"
     },
     "output_type": "display_data"
    }
   ],
   "source": [
    "plt.figure(figsize=(10,6))\n",
    "avs = np.linspace(0, 5, 51)\n",
    "plt.plot(avs, residual[1](avs, 0, 1.0), 'k-', label='1')\n",
    "plt.plot(avs, residual[2](avs, 0, 1.0), 'k--', label='2')\n",
    "plt.plot(avs, residual[3](avs, 0, 1.0)/10, 'k-.', label='3')\n",
    "plt.legend()\n",
    "plt.show()"
   ]
  },
  {
   "cell_type": "code",
   "execution_count": 54,
   "metadata": {},
   "outputs": [],
   "source": [
    "# soln = solve([sn_ds[1] == gamma1, sn_ds[2] == gamma2, sn_ds[3] == gamma3], a, xi, w)"
   ]
  }
 ],
 "metadata": {
  "kernelspec": {
   "display_name": "Python 3.9.13 ('sage')",
   "language": "python",
   "name": "python3"
  },
  "language_info": {
   "codemirror_mode": {
    "name": "ipython",
    "version": 3
   },
   "file_extension": ".py",
   "mimetype": "text/x-python",
   "name": "python",
   "nbconvert_exporter": "python",
   "pygments_lexer": "ipython3",
   "version": "3.9.13"
  },
  "orig_nbformat": 4,
  "vscode": {
   "interpreter": {
    "hash": "7c9d73bdc27916657399b2e359666fc6fad602acf50c88680d96ab05293f564c"
   }
  }
 },
 "nbformat": 4,
 "nbformat_minor": 2
}
