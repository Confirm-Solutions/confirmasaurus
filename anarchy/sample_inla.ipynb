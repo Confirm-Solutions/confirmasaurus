{
 "cells": [
  {
   "cell_type": "code",
   "execution_count": 4,
   "metadata": {},
   "outputs": [
    {
     "name": "stdout",
     "output_type": "stream",
     "text": [
      "The autoreload extension is already loaded. To reload it, use:\n",
      "  %reload_ext autoreload\n"
     ]
    }
   ],
   "source": [
    "import berrylib.util as util\n",
    "\n",
    "util.setup_nb()\n",
    "import numpy as np"
   ]
  },
  {
   "cell_type": "code",
   "execution_count": 5,
   "metadata": {},
   "outputs": [],
   "source": [
    "t_i = util.simpson_rule(23, -15, 4)"
   ]
  },
  {
   "cell_type": "code",
   "execution_count": 6,
   "metadata": {},
   "outputs": [],
   "source": [
    "arm_marg = np.array(\n",
    "    [\n",
    "        2.14805940e-06,\n",
    "        5.20029529e-06,\n",
    "        1.25739898e-05,\n",
    "        3.03637626e-05,\n",
    "        7.32228473e-05,\n",
    "        1.76322015e-04,\n",
    "        4.23904603e-04,\n",
    "        1.01719833e-03,\n",
    "        2.43482842e-03,\n",
    "        5.80639887e-03,\n",
    "        1.37544578e-02,\n",
    "        3.21430446e-02,\n",
    "        7.29207299e-02,\n",
    "        1.54663866e-01,\n",
    "        2.80957961e-01,\n",
    "        3.58383406e-01,\n",
    "        2.10323941e-01,\n",
    "        2.56384277e-02,\n",
    "        2.10856270e-04,\n",
    "        5.01093831e-08,\n",
    "        4.09312478e-13,\n",
    "        3.22498734e-19,\n",
    "        7.02837518e-26,\n",
    "    ]\n",
    ")"
   ]
  },
  {
   "cell_type": "code",
   "execution_count": 7,
   "metadata": {},
   "outputs": [],
   "source": [
    "# Assumes that you have t_i.pts and t_i.wts, util.simpson_rule, arm_marg as the density\n",
    "cdf = []\n",
    "cdf_pts = []\n",
    "for i in range(3, t_i.pts.shape[0], 2):\n",
    "    # Note that t0_rule.wts[:i] will be different from cdf_rule.wts!!\n",
    "    cdf_rule = util.simpson_rule(i, t_i.pts[0], t_i.pts[i - 1])\n",
    "    cdf.append(np.sum(arm_marg[:i] * cdf_rule.wts[:i], axis=0))\n",
    "    cdf_pts.append(t_i.pts[i - 1])\n",
    "cdf = np.array(cdf)\n",
    "cdf_pts = np.array(cdf_pts)"
   ]
  },
  {
   "cell_type": "code",
   "execution_count": 8,
   "metadata": {},
   "outputs": [],
   "source": [
    "def sample_once(should_print=False):\n",
    "    sample = np.random.uniform()\n",
    "    last_cdf_idx_below = np.argmin(cdf < sample) - 1\n",
    "    a = cdf[last_cdf_idx_below]\n",
    "    b = cdf[last_cdf_idx_below + 1]\n",
    "    a_frac = -(sample - b) / (b - a)\n",
    "    b_frac = (sample - a) / (b - a)\n",
    "    a_pt = cdf_pts[last_cdf_idx_below]\n",
    "    b_pt = cdf_pts[last_cdf_idx_below + 1]\n",
    "    interp = a_frac * a_pt + b_frac * b_pt\n",
    "\n",
    "    if should_print:\n",
    "        print(f\"a={a} b={b} sample={sample}\")\n",
    "        print(f\"a_frac={a_frac} b_frac={b_frac} \")\n",
    "        print(f\"a_pt={a_pt} b_pt={b_pt}\")\n",
    "        print(interp)\n",
    "    return interp\n",
    "\n",
    "\n",
    "samples = np.array([sample_once() for i in range(10000)])"
   ]
  },
  {
   "cell_type": "markdown",
   "metadata": {},
   "source": [
    "$$ p(\\theta_{-i} | )"
   ]
  },
  {
   "cell_type": "code",
   "execution_count": 9,
   "metadata": {},
   "outputs": [],
   "source": [
    "# This didn't really work for two reasons:\n",
    "# 1. The Cubic spline fit was kind of sad with so few points in the PDF/CDF\n",
    "# 2. The scipy.stats.rv_continuous implementation seems to be doing some kind\n",
    "#    of internal stuff to sample from a provided CDF. This doesn't work well when\n",
    "#    you call an interpolation function inside.\n",
    "# There's room for improvement by integrating the CDF better. Right now, we\n",
    "# lose half our PDF points in the integration process. This is not necessary!!\n",
    "\n",
    "# cubic_interp = scipy.interpolate.CubicHermiteSpline(cdf_pts, cdf, arm_marg[3::2])\n",
    "# import scipy.stats\n",
    "# import scipy.interpolate\n",
    "# class MyRandomVariableClass(scipy.stats.rv_continuous):\n",
    "#     def __init__(self, xtol=1e-14, seed=None):\n",
    "#         super().__init__(a=0, xtol=xtol, seed=seed)\n",
    "#         scipy.interpolate.CubicSpline(cdf_pts, cdf)\n",
    "\n",
    "#     def _cdf(self, x):\n",
    "#         return cubic_interp(x)\n",
    "# samples = MyRandomVariableClass().rvs(size=1000)\n",
    "# xs = np.linspace(-7.5, 1.0, 40)\n",
    "# plt.plot(xs, cubic_interp(xs), 'b-o')"
   ]
  },
  {
   "cell_type": "code",
   "execution_count": 10,
   "metadata": {},
   "outputs": [
    {
     "data": {
      "image/png": "[encoded data removed]",
      "text/plain": [
       "<Figure size 432x288 with 1 Axes>"
      ]
     },
     "metadata": {
      "image/png": {
       "height": 249,
       "width": 371
      },
      "needs_background": "light"
     },
     "output_type": "display_data"
    }
   ],
   "source": [
    "import matplotlib.pyplot as plt\n",
    "\n",
    "plt.plot(cdf_pts, cdf, \"k-o\")\n",
    "plt.plot(t_i.pts, arm_marg, \"r-o\")\n",
    "plt.hist(samples, bins=np.linspace(-7.5, 1.0, 500), density=True)\n",
    "plt.show()"
   ]
  }
 ],
 "metadata": {
  "kernelspec": {
   "display_name": "Python 3.10.5 ('imprint2')",
   "language": "python",
   "name": "python3"
  },
  "language_info": {
   "codemirror_mode": {
    "name": "ipython",
    "version": 3
   },
   "file_extension": ".py",
   "mimetype": "text/x-python",
   "name": "python",
   "nbconvert_exporter": "python",
   "pygments_lexer": "ipython3",
   "version": "3.10.5"
  },
  "orig_nbformat": 4,
  "vscode": {
   "interpreter": {
    "hash": "e8679a83a9fb1bcf62ce3b163cdcd83e6497d46072a6ff093119717f9f73e856"
   }
  }
 },
 "nbformat": 4,
 "nbformat_minor": 2
}
