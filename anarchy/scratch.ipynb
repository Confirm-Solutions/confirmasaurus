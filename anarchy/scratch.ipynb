{
 "cells": [
  {
   "cell_type": "code",
   "execution_count": 1,
   "metadata": {},
   "outputs": [],
   "source": [
    "from inlaw.nb_util import setup_nb\n",
    "setup_nb()"
   ]
  },
  {
   "cell_type": "code",
   "execution_count": 2,
   "metadata": {},
   "outputs": [
    {
     "name": "stderr",
     "output_type": "stream",
     "text": [
      "/Users/tbent/.mambaforge/envs/imprint2/lib/python3.10/site-packages/tqdm/auto.py:22: TqdmWarning: IProgress not found. Please update jupyter and ipywidgets. See https://ipywidgets.readthedocs.io/en/stable/user_install.html\n",
      "  from .autonotebook import tqdm as notebook_tqdm\n"
     ]
    }
   ],
   "source": [
    "import inlaw.inla as inla\n",
    "import inlaw.quad as quad\n",
    "import inlaw.berry as berry\n",
    "import numpy as np\n",
    "from numpy import nan\n",
    "import jax\n",
    "import jax.numpy as jnp"
   ]
  },
  {
   "cell_type": "code",
   "execution_count": 10,
   "metadata": {},
   "outputs": [],
   "source": [
    "import numpyro.infer\n",
    "import numpyro.distributions as dist"
   ]
  },
  {
   "cell_type": "code",
   "execution_count": 11,
   "metadata": {},
   "outputs": [],
   "source": [
    "data = berry.figure2_data(N=10)"
   ]
  },
  {
   "cell_type": "code",
   "execution_count": 16,
   "metadata": {},
   "outputs": [],
   "source": [
    "import scipy.special\n",
    "logit_p1 = scipy.special.logit(0.3)\n",
    "def model(data):\n",
    "    mu = numpyro.sample(\"mu\", dist.Normal(-1.34, 10))\n",
    "    sigma2 = numpyro.sample(\"sigma2\", dist.InverseGamma(0.0005, 0.000005))\n",
    "    with numpyro.plate(\"j\", 4):\n",
    "        theta = numpyro.sample(\n",
    "            \"theta\",\n",
    "            dist.Normal(mu, jax.numpy.sqrt(sigma2)),\n",
    "        )\n",
    "        numpyro.sample(\n",
    "            \"y\",\n",
    "            dist.BinomialLogits(theta + logit_p1, total_count=data[...,1]),\n",
    "            obs=data[...,0],\n",
    "        )"
   ]
  },
  {
   "cell_type": "code",
   "execution_count": 23,
   "metadata": {},
   "outputs": [],
   "source": [
    "# nuts_kwargs = dict(step_size=0.001, adapt_step_size=False)\n",
    "nuts_kwargs = dict()\n",
    "nuts_kernel = numpyro.infer.NUTS(model, **nuts_kwargs)\n",
    "mcmc = numpyro.infer.MCMC(\n",
    "    nuts_kernel,\n",
    "    progress_bar=False,\n",
    "    num_warmup=1000,\n",
    "    num_samples=10000,\n",
    "    jit_model_args=True\n",
    ")\n",
    "rng_key = jax.random.PRNGKey(0)"
   ]
  },
  {
   "cell_type": "code",
   "execution_count": 30,
   "metadata": {},
   "outputs": [
    {
     "name": "stdout",
     "output_type": "stream",
     "text": [
      "CPU times: user 89.4 ms, sys: 1.44 ms, total: 90.9 ms\n",
      "Wall time: 90.1 ms\n"
     ]
    }
   ],
   "source": [
    "%%time\n",
    "mcmc.run(rng_key, data[0])"
   ]
  },
  {
   "cell_type": "code",
   "execution_count": null,
   "metadata": {},
   "outputs": [],
   "source": []
  }
 ],
 "metadata": {
  "kernelspec": {
   "display_name": "Python 3.10.5 ('imprint2')",
   "language": "python",
   "name": "python3"
  },
  "language_info": {
   "codemirror_mode": {
    "name": "ipython",
    "version": 3
   },
   "file_extension": ".py",
   "mimetype": "text/x-python",
   "name": "python",
   "nbconvert_exporter": "python",
   "pygments_lexer": "ipython3",
   "version": "3.10.5"
  },
  "orig_nbformat": 4,
  "vscode": {
   "interpreter": {
    "hash": "e8679a83a9fb1bcf62ce3b163cdcd83e6497d46072a6ff093119717f9f73e856"
   }
  }
 },
 "nbformat": 4,
 "nbformat_minor": 2
}
