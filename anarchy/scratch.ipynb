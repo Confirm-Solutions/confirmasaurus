{
 "cells": [
  {
   "cell_type": "code",
   "execution_count": 1,
   "metadata": {},
   "outputs": [],
   "source": [
    "import confirm.outlaw.nb_util as nb_util\n",
    "\n",
    "nb_util.setup_nb()\n",
    "import numpy as np\n",
    "import matplotlib.pyplot as plt\n",
    "import scipy.stats\n",
    "from numpy import sqrt\n",
    "import jax\n",
    "import jax.numpy as jnp\n",
    "from itertools import product\n",
    "from scipy.special import logit\n",
    "import confirm.mini_imprint.binomial as binomial"
   ]
  },
  {
   "cell_type": "code",
   "execution_count": 32,
   "metadata": {},
   "outputs": [],
   "source": [
    "n_arm_samples = 50\n",
    "nsims = 10000\n",
    "d = 2\n",
    "center_p = 0.2\n",
    "theta_tiles = np.full((1, d), logit(center_p))\n",
    "radii = np.array([0.2])\n",
    "hypercube = np.array(list(product((1, -1), repeat=d)))\n",
    "tile_corners = theta_tiles + hypercube[None, :] * radii\n",
    "is_null_per_arm = np.full_like(theta_tiles, 1, dtype=bool)\n",
    "\n",
    "delta = 0.01\n",
    "holderp = 1.2\n",
    "holderq = 6\n",
    "thresh = 20\n"
   ]
  },
  {
   "cell_type": "code",
   "execution_count": 33,
   "metadata": {},
   "outputs": [
    {
     "data": {
      "text/plain": [
       "DeviceArray([0.12011727], dtype=float64)"
      ]
     },
     "execution_count": 33,
     "metadata": {},
     "output_type": "execute_result"
    }
   ],
   "source": [
    "np.random.seed(17)\n",
    "uniforms = np.random.uniform(size=(nsims, n_arm_samples, d))\n",
    "typeI_sum, typeI_score = binomial.binomial_accumulator(lambda x: x[..., 0] >= thresh)(\n",
    "    theta_tiles, is_null_per_arm, uniforms\n",
    ")\n",
    "\n",
    "typeI_est, typeI_CI = binomial.zero_order_bound(typeI_sum, nsims, delta, 1.0)\n",
    "typeI_bound = typeI_est + typeI_CI\n",
    "\n",
    "hob = binomial.holder_odi_bound(\n",
    "    typeI_bound, theta_tiles, tile_corners, n_arm_samples, holderq\n",
    ")\n",
    "hob"
   ]
  },
  {
   "cell_type": "code",
   "execution_count": 26,
   "metadata": {},
   "outputs": [
    {
     "data": {
      "text/plain": [
       "(DeviceArray([0.50371321], dtype=float64),\n",
       " DeviceArray([0.0011], dtype=float64),\n",
       " array([0.00117658]),\n",
       " DeviceArray([0.00326376], dtype=float64),\n",
       " array([0.11423109]),\n",
       " array([0.38394178]))"
      ]
     },
     "execution_count": 26,
     "metadata": {},
     "output_type": "execute_result"
    }
   ],
   "source": [
    "binomial.upper_bound(\n",
    "    theta_tiles,\n",
    "    radii,\n",
    "    tile_corners,\n",
    "    np.full_like(radii, nsims),\n",
    "    n_arm_samples,\n",
    "    typeI_sum,\n",
    "    typeI_score,\n",
    "    0.01,\n",
    ")\n"
   ]
  },
  {
   "cell_type": "code",
   "execution_count": null,
   "metadata": {},
   "outputs": [],
   "source": []
  }
 ],
 "metadata": {
  "kernelspec": {
   "display_name": "Python 3.10.5 ('confirm')",
   "language": "python",
   "name": "python3"
  },
  "language_info": {
   "codemirror_mode": {
    "name": "ipython",
    "version": 3
   },
   "file_extension": ".py",
   "mimetype": "text/x-python",
   "name": "python",
   "nbconvert_exporter": "python",
   "pygments_lexer": "ipython3",
   "version": "3.10.5"
  },
  "orig_nbformat": 4,
  "vscode": {
   "interpreter": {
    "hash": "b4c6ec5b2d6c7b38df115d547b82cd53ca25eea58d87299956d35a9dc79f19f1"
   }
  }
 },
 "nbformat": 4,
 "nbformat_minor": 2
}
