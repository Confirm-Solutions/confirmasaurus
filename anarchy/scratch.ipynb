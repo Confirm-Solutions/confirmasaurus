{
 "cells": [
  {
   "cell_type": "code",
   "execution_count": 1,
   "metadata": {},
   "outputs": [],
   "source": [
    "from outlaw.nb_util import setup_nb\n",
    "setup_nb()"
   ]
  },
  {
   "cell_type": "code",
   "execution_count": 2,
   "metadata": {},
   "outputs": [
    {
     "name": "stderr",
     "output_type": "stream",
     "text": [
      "/Users/tbent/.mambaforge/envs/confirm/lib/python3.10/site-packages/tqdm/auto.py:22: TqdmWarning: IProgress not found. Please update jupyter and ipywidgets. See https://ipywidgets.readthedocs.io/en/stable/user_install.html\n",
      "  from .autonotebook import tqdm as notebook_tqdm\n"
     ]
    }
   ],
   "source": [
    "import outlaw.inla as inla\n",
    "import outlaw.quad as quad\n",
    "import outlaw.berry as berry\n",
    "import numpy as np\n",
    "from numpy import nan\n",
    "import jax\n",
    "import jax.numpy as jnp"
   ]
  },
  {
   "cell_type": "code",
   "execution_count": 18,
   "metadata": {},
   "outputs": [
    {
     "ename": "TypeError",
     "evalue": "unhashable type: 'DeviceArray'",
     "output_type": "error",
     "traceback": [
      "\u001b[0;31m---------------------------------------------------------------------------\u001b[0m",
      "\u001b[0;31mTypeError\u001b[0m                                 Traceback (most recent call last)",
      "\u001b[1;32m/Users/tbent/Dropbox/active/confirm/confirmasaurus/anarchy/scratch.ipynb Cell 3\u001b[0m in \u001b[0;36m<cell line: 4>\u001b[0;34m()\u001b[0m\n\u001b[1;32m      <a href='vscode-notebook-cell:/Users/tbent/Dropbox/active/confirm/confirmasaurus/anarchy/scratch.ipynb#X11sZmlsZQ%3D%3D?line=0'>1</a>\u001b[0m \u001b[39mdef\u001b[39;00m \u001b[39mdot\u001b[39m(DD, x, y):\n\u001b[1;32m      <a href='vscode-notebook-cell:/Users/tbent/Dropbox/active/confirm/confirmasaurus/anarchy/scratch.ipynb#X11sZmlsZQ%3D%3D?line=1'>2</a>\u001b[0m     \u001b[39m# return jnp.dot(x, y)\u001b[39;00m\n\u001b[1;32m      <a href='vscode-notebook-cell:/Users/tbent/Dropbox/active/confirm/confirmasaurus/anarchy/scratch.ipynb#X11sZmlsZQ%3D%3D?line=2'>3</a>\u001b[0m     \u001b[39mreturn\u001b[39;00m DD[jnp\u001b[39m.\u001b[39mdot(x, y)]\n\u001b[0;32m----> <a href='vscode-notebook-cell:/Users/tbent/Dropbox/active/confirm/confirmasaurus/anarchy/scratch.ipynb#X11sZmlsZQ%3D%3D?line=3'>4</a>\u001b[0m X \u001b[39m=\u001b[39m dot({\u001b[39m1\u001b[39;49m:\u001b[39m10\u001b[39;49m, \u001b[39m2\u001b[39;49m:\u001b[39m15\u001b[39;49m, \u001b[39m3\u001b[39;49m:\u001b[39m20\u001b[39;49m}, jnp\u001b[39m.\u001b[39;49marray([\u001b[39m0\u001b[39;49m,\u001b[39m0\u001b[39;49m,\u001b[39m0\u001b[39;49m,\u001b[39m1\u001b[39;49m]), jnp\u001b[39m.\u001b[39;49marray([\u001b[39m1\u001b[39;49m,\u001b[39m2\u001b[39;49m,\u001b[39m3\u001b[39;49m,\u001b[39m4\u001b[39;49m]))\n",
      "\u001b[1;32m/Users/tbent/Dropbox/active/confirm/confirmasaurus/anarchy/scratch.ipynb Cell 3\u001b[0m in \u001b[0;36mdot\u001b[0;34m(DD, x, y)\u001b[0m\n\u001b[1;32m      <a href='vscode-notebook-cell:/Users/tbent/Dropbox/active/confirm/confirmasaurus/anarchy/scratch.ipynb#X11sZmlsZQ%3D%3D?line=0'>1</a>\u001b[0m \u001b[39mdef\u001b[39;00m \u001b[39mdot\u001b[39m(DD, x, y):\n\u001b[1;32m      <a href='vscode-notebook-cell:/Users/tbent/Dropbox/active/confirm/confirmasaurus/anarchy/scratch.ipynb#X11sZmlsZQ%3D%3D?line=1'>2</a>\u001b[0m     \u001b[39m# return jnp.dot(x, y)\u001b[39;00m\n\u001b[0;32m----> <a href='vscode-notebook-cell:/Users/tbent/Dropbox/active/confirm/confirmasaurus/anarchy/scratch.ipynb#X11sZmlsZQ%3D%3D?line=2'>3</a>\u001b[0m     \u001b[39mreturn\u001b[39;00m DD[jnp\u001b[39m.\u001b[39;49mdot(x, y)]\n",
      "\u001b[0;31mTypeError\u001b[0m: unhashable type: 'DeviceArray'"
     ]
    }
   ],
   "source": [
    "def dot(DD, x, y):\n",
    "    # return jnp.dot(x, y)\n",
    "    return DD[jnp.dot(x, y)]\n",
    "X = dot({1:10, 2:15, 3:20}, jnp.array([0,0,0,1]), jnp.array([1,2,3,4]))"
   ]
  },
  {
   "cell_type": "code",
   "execution_count": 10,
   "metadata": {},
   "outputs": [],
   "source": [
    "import numpyro.infer\n",
    "import numpyro.distributions as dist"
   ]
  },
  {
   "cell_type": "code",
   "execution_count": 11,
   "metadata": {},
   "outputs": [],
   "source": [
    "data = berry.figure2_data(N=10)"
   ]
  },
  {
   "cell_type": "code",
   "execution_count": 16,
   "metadata": {},
   "outputs": [],
   "source": [
    "import scipy.special\n",
    "logit_p1 = scipy.special.logit(0.3)\n",
    "def model(data):\n",
    "    mu = numpyro.sample(\"mu\", dist.Normal(-1.34, 10))\n",
    "    sigma2 = numpyro.sample(\"sigma2\", dist.InverseGamma(0.0005, 0.000005))\n",
    "    with numpyro.plate(\"j\", 4):\n",
    "        theta = numpyro.sample(\n",
    "            \"theta\",\n",
    "            dist.Normal(mu, jax.numpy.sqrt(sigma2)),\n",
    "        )\n",
    "        numpyro.sample(\n",
    "            \"y\",\n",
    "            dist.BinomialLogits(theta + logit_p1, total_count=data[...,1]),\n",
    "            obs=data[...,0],\n",
    "        )"
   ]
  },
  {
   "cell_type": "code",
   "execution_count": 23,
   "metadata": {},
   "outputs": [],
   "source": [
    "# nuts_kwargs = dict(step_size=0.001, adapt_step_size=False)\n",
    "nuts_kwargs = dict()\n",
    "nuts_kernel = numpyro.infer.NUTS(model, **nuts_kwargs)\n",
    "mcmc = numpyro.infer.MCMC(\n",
    "    nuts_kernel,\n",
    "    progress_bar=False,\n",
    "    num_warmup=1000,\n",
    "    num_samples=10000,\n",
    "    jit_model_args=True\n",
    ")\n",
    "rng_key = jax.random.PRNGKey(0)"
   ]
  },
  {
   "cell_type": "code",
   "execution_count": 30,
   "metadata": {},
   "outputs": [
    {
     "name": "stdout",
     "output_type": "stream",
     "text": [
      "CPU times: user 89.4 ms, sys: 1.44 ms, total: 90.9 ms\n",
      "Wall time: 90.1 ms\n"
     ]
    }
   ],
   "source": [
    "%%time\n",
    "mcmc.run(rng_key, data[0])"
   ]
  },
  {
   "cell_type": "code",
   "execution_count": null,
   "metadata": {},
   "outputs": [],
   "source": []
  }
 ],
 "metadata": {
  "kernelspec": {
   "display_name": "Python 3.10.5 ('confirm')",
   "language": "python",
   "name": "python3"
  },
  "language_info": {
   "codemirror_mode": {
    "name": "ipython",
    "version": 3
   },
   "file_extension": ".py",
   "mimetype": "text/x-python",
   "name": "python",
   "nbconvert_exporter": "python",
   "pygments_lexer": "ipython3",
   "version": "3.10.5"
  },
  "orig_nbformat": 4,
  "vscode": {
   "interpreter": {
    "hash": "b4c6ec5b2d6c7b38df115d547b82cd53ca25eea58d87299956d35a9dc79f19f1"
   }
  }
 },
 "nbformat": 4,
 "nbformat_minor": 2
}
