{
 "cells": [
  {
   "cell_type": "code",
   "execution_count": 1,
   "metadata": {},
   "outputs": [
    {
     "name": "stderr",
     "output_type": "stream",
     "text": [
      "/Users/tbent/.mambaforge/envs/imprint/lib/python3.10/site-packages/jax/_src/lib/__init__.py:33: UserWarning: JAX on Mac ARM machines is experimental and minimally tested. Please see https://github.com/google/jax/issues/5501 in the event of problems.\n",
      "  warnings.warn(\"JAX on Mac ARM machines is experimental and minimally tested. \"\n"
     ]
    }
   ],
   "source": [
    "import os\n",
    "os.environ['OMP_NUM_THREADS'] = '1'\n",
    "import time\n",
    "import copy\n",
    "import numpy as np\n",
    "import jax\n",
    "import jax.numpy as jnp\n",
    "from jax_explicit_inv import *\n",
    "from jax.config import config\n",
    "\n",
    "# This line is critical for enabling 64-bit floats.\n",
    "config.update(\"jax_enable_x64\", True)"
   ]
  },
  {
   "cell_type": "code",
   "execution_count": 22,
   "metadata": {},
   "outputs": [],
   "source": [
    "mats = np.random.rand(int(1e6), 4, 4)"
   ]
  },
  {
   "cell_type": "code",
   "execution_count": 30,
   "metadata": {},
   "outputs": [
    {
     "name": "stdout",
     "output_type": "stream",
     "text": [
      "CPU times: user 313 ms, sys: 8.41 ms, total: 322 ms\n",
      "Wall time: 321 ms\n"
     ]
    }
   ],
   "source": [
    "%%time\n",
    "_ = np.linalg.inv(mats)"
   ]
  },
  {
   "cell_type": "code",
   "execution_count": 29,
   "metadata": {},
   "outputs": [
    {
     "name": "stdout",
     "output_type": "stream",
     "text": [
      "CPU times: user 372 ms, sys: 224 ms, total: 596 ms\n",
      "Wall time: 340 ms\n"
     ]
    }
   ],
   "source": [
    "%%time\n",
    "_ = jnp.linalg.inv(mats)"
   ]
  },
  {
   "cell_type": "code",
   "execution_count": 2,
   "metadata": {},
   "outputs": [],
   "source": [
    "def bench(f, N, d, iters=5):\n",
    "    np.random.seed(10)\n",
    "    mats = np.random.rand(int(N), d, d)\n",
    "    jax_mats = jnp.array(mats)\n",
    "    for i in range(iters):\n",
    "        start = time.time()\n",
    "        correct = jnp.linalg.inv(jax_mats).block_until_ready()\n",
    "        end = time.time()\n",
    "    jli_time = end - start\n",
    "    for i in range(iters):\n",
    "        start = time.time()\n",
    "        fout = f(jax_mats).block_until_ready()\n",
    "        end = time.time()\n",
    "    f_time = end - start\n",
    "    # np.testing.assert_allclose(fout, correct, rtol=1e-4)\n",
    "    return jli_time / N * 1e6, f_time / N * 1e6"
   ]
  },
  {
   "cell_type": "code",
   "execution_count": 3,
   "metadata": {},
   "outputs": [],
   "source": [
    "mats = np.random.rand(int(1e4), 15, 15)"
   ]
  },
  {
   "cell_type": "code",
   "execution_count": 5,
   "metadata": {},
   "outputs": [
    {
     "name": "stdout",
     "output_type": "stream",
     "text": [
      "8.23 ms ± 848 µs per loop (mean ± std. dev. of 7 runs, 10 loops each)\n"
     ]
    }
   ],
   "source": [
    "%%timeit -n 10\n",
    "vmap_inv_recurse(mats)"
   ]
  },
  {
   "cell_type": "code",
   "execution_count": 6,
   "metadata": {},
   "outputs": [
    {
     "data": {
      "text/plain": [
       "((0.3070688247680664, 0.014290809631347656),\n",
       " (0.15472332636515299, 0.004496574401855469),\n",
       " (0.05975699424743652, 0.0023920536041259766))"
      ]
     },
     "execution_count": 6,
     "metadata": {},
     "output_type": "execute_result"
    }
   ],
   "source": [
    "bench(vmap_inv44, 1e5, 4), bench(vmap_inv33, 3e5, 3), bench(vmap_inv22, 1e6, 2)"
   ]
  },
  {
   "cell_type": "code",
   "execution_count": 7,
   "metadata": {},
   "outputs": [
    {
     "data": {
      "text/plain": [
       "(10000, 15, 15)"
      ]
     },
     "execution_count": 7,
     "metadata": {},
     "output_type": "execute_result"
    }
   ],
   "source": [
    "mats.shape"
   ]
  },
  {
   "cell_type": "code",
   "execution_count": 8,
   "metadata": {},
   "outputs": [
    {
     "name": "stdout",
     "output_type": "stream",
     "text": [
      "1 600000.0\n",
      "(0.03903826077779134, 0.000621477762858073)\n",
      "2 150000.0\n",
      "(0.07524649302164713, 0.0025113423665364585)\n",
      "3 66666.66666666667\n",
      "(0.16719102859497068, 0.005682706832885742)\n",
      "4 37500.0\n",
      "(0.3244781494140625, 0.020745595296223957)\n",
      "5 24000.0\n",
      "(0.5118846893310547, 0.04878640174865723)\n",
      "6 16666.666666666668\n",
      "(0.8373498916625977, 0.09006500244140625)\n",
      "7 12244.897959183674\n",
      "(1.2759443124135335, 0.10444164276123045)\n",
      "8 9375.0\n",
      "(1.6009521484375, 0.1348114013671875)\n",
      "9 7407.407407407408\n",
      "(2.3558914661407466, 0.2498960494995117)\n",
      "10 6000.0\n",
      "(3.130833307902018, 0.39931138356526696)\n",
      "11 4958.677685950413\n",
      "(4.201853672663371, 0.44994274775187176)\n"
     ]
    }
   ],
   "source": [
    "for d in range(1, 12):\n",
    "    n = 6e5 / (d ** 2)\n",
    "    print(d, n)\n",
    "    print(bench(vmap_inv_recurse, n, d, iters=2))"
   ]
  },
  {
   "cell_type": "markdown",
   "metadata": {},
   "source": [
    "## Code generation?!"
   ]
  },
  {
   "cell_type": "code",
   "execution_count": 1,
   "metadata": {},
   "outputs": [
    {
     "name": "stderr",
     "output_type": "stream",
     "text": [
      "/Users/tbent/.mambaforge/envs/imprint/lib/python3.10/site-packages/jax/_src/lib/__init__.py:33: UserWarning: JAX on Mac ARM machines is experimental and minimally tested. Please see https://github.com/google/jax/issues/5501 in the event of problems.\n",
      "  warnings.warn(\"JAX on Mac ARM machines is experimental and minimally tested. \"\n"
     ]
    }
   ],
   "source": [
    "import os\n",
    "os.environ['OMP_NUM_THREADS'] = '1'\n",
    "import time\n",
    "import copy\n",
    "import numpy as np\n",
    "import jax\n",
    "import jax.numpy as jnp\n",
    "from jax_explicit_inv import *\n",
    "from jax.config import config\n",
    "\n",
    "# This line is critical for enabling 64-bit floats.\n",
    "config.update(\"jax_enable_x64\", True)"
   ]
  },
  {
   "cell_type": "code",
   "execution_count": 2,
   "metadata": {},
   "outputs": [],
   "source": [
    "orig = np.random.rand(3,3)\n",
    "U = orig.copy()\n",
    "L = np.diag(np.ones(U.shape[0]))\n",
    "for k in range(U.shape[0] - 1):\n",
    "    invkk = 1.0 / U[k,k]\n",
    "    L[(k+1):,k] = U[(k + 1):,k].copy() * invkk\n",
    "    U[(k+1):,k:] -= U[k:(k+1),k:] * U[(k+1):,k:(k+1)] * invkk\n",
    "LU = U.copy()\n",
    "LL = L.copy()\n",
    "np.fill_diagonal(LL, 0)\n",
    "soln = LU + LL\n",
    "np.testing.assert_allclose(L.dot(U), orig)"
   ]
  },
  {
   "cell_type": "code",
   "execution_count": 3,
   "metadata": {},
   "outputs": [],
   "source": [
    "from dataclasses import dataclass\n",
    "class CodeGenCtx:\n",
    "    def __init__(self):\n",
    "        self.assignments = []\n",
    "        self.definitions = dict()\n",
    "\n",
    "    def assign(self, name, definition):\n",
    "        self.assignments.append(name)\n",
    "        self.definitions[name] = definition\n",
    "        return self.assignments[-1]\n",
    "        \n",
    "    def lines(self):\n",
    "        return [f'{a} = {self.definitions[a]}' for a in self.assignments]"
   ]
  },
  {
   "cell_type": "code",
   "execution_count": 4,
   "metadata": {},
   "outputs": [
    {
     "name": "stderr",
     "output_type": "stream",
     "text": [
      "WARNING:absl:No GPU/TPU found, falling back to CPU. (Set TF_CPP_MIN_LOG_LEVEL=0 and rerun for more info.)\n"
     ]
    },
    {
     "name": "stdout",
     "output_type": "stream",
     "text": [
      "def LU_decomp(m):\n",
      "    inv_0 = 1.0 / m[0, 0]\n",
      "    L_10 = m[1, 0] * inv_0\n",
      "    L_20 = m[2, 0] * inv_0\n",
      "    U_11 = m[1, 1] - m[0, 1] * m[1, 0] * inv_0\n",
      "    U_12 = m[1, 2] - m[0, 2] * m[1, 0] * inv_0\n",
      "    U_0_21 = m[2, 1] - m[0, 1] * m[2, 0] * inv_0\n",
      "    U_0_22 = m[2, 2] - m[0, 2] * m[2, 0] * inv_0\n",
      "    inv_1 = 1.0 / U_11\n",
      "    L_21 = U_0_21 * inv_1\n",
      "    U_22 = U_0_22 - U_12 * U_0_21 * inv_1\n",
      "    return jnp.array([[m[0, 0], m[0, 1], m[0, 2]], [L_10, U_11, U_12], [L_20, L_21, U_22]])\n"
     ]
    }
   ],
   "source": [
    "def gen_lu(ctx, M, d):\n",
    "    U = copy.deepcopy(M)\n",
    "    L = [[None] * d for i in range(d)]\n",
    "    for k in range(d - 1):\n",
    "        inv_k = ctx.assign(f'inv_{k}', f'1.0 / {U[k][k]}')\n",
    "        for j in range(k + 1, d):\n",
    "            L[j][k] = ctx.assign(f'L_{j}{k}', f'{U[j][k]} * {inv_k}')\n",
    "        for i in range(k + 1, d):\n",
    "            for j in range(k + 1, d):\n",
    "                if i == k + 1:\n",
    "                    name = f'U_{i}{j}'\n",
    "                else:\n",
    "                    name = f'U_{k}_{i}{j}'\n",
    "                U[i][j] = ctx.assign(name, f'{U[i][j]} - {U[k][j]} * {U[i][k]} * {inv_k}')\n",
    "    LU = [[U[i][j] if i <= j else L[i][j] for j in range(d)] for i in range(d)]\n",
    "    return LU"
   ]
  },
  {
   "cell_type": "code",
   "execution_count": null,
   "metadata": {},
   "outputs": [],
   "source": [
    "def build_linalg(name, generator, d, print_code=True):\n",
    "    ctx = CodeGenCtx()\n",
    "    M = [[f'm[{i}, {j}]' for j in range(d)] for i in range(d)]\n",
    "    LU = generator(ctx, M, d)\n",
    "    lines = ctx.lines()\n",
    "    lines.append('return jnp.array([' + ', '.join([\n",
    "        '[' + ', '.join(LU[i]) + ']'\n",
    "        for i in range(d)\n",
    "    ]) + '])')\n",
    "    lines = [f'def {name}(m):'] + ['    ' + l for l in lines] \n",
    "    code = '\\n'.join(lines)\n",
    "    if print_code:\n",
    "        print(code)\n",
    "    return code\n",
    "\n",
    "exec(build_linalg('LU_decomp', gen_lu, 3))\n",
    "np.testing.assert_allclose(LU_decomp(orig), soln)"
   ]
  },
  {
   "cell_type": "code",
   "execution_count": 5,
   "metadata": {},
   "outputs": [
    {
     "name": "stdout",
     "output_type": "stream",
     "text": [
      "def upper_tri_inv(m):\n",
      "    invU_22 = 1.0 / m[2, 2]\n",
      "    invU_2_02 = -m[0, 2] * invU_22\n",
      "    invU_2_12 = -m[1, 2] * invU_22\n",
      "    invU_11 = 1.0 / m[1, 1]\n",
      "    invU_12 = invU_2_12 * invU_11\n",
      "    invU_1_01 = -m[0, 1] * invU_11\n",
      "    invU_1_02 = invU_2_02 + -m[0, 1] * invU_12\n",
      "    invU_00 = 1.0 / m[0, 0]\n",
      "    invU_01 = invU_1_01 * invU_00\n",
      "    invU_02 = invU_1_02 * invU_00\n",
      "    return jnp.array([[invU_00, invU_01, invU_02], [m[1, 0], invU_11, invU_12], [m[2, 0], m[2, 1], invU_22]])\n"
     ]
    }
   ],
   "source": [
    "def gen_upper_tri_inv(ctx, U, d):\n",
    "    invU = copy.deepcopy(U)\n",
    "    for k in range(d)[::-1]:\n",
    "        invU[k][k] = ctx.assign(f'invU_{k}{k}', f'1.0 / {invU[k][k]}')\n",
    "        for j in range(k + 1, d):\n",
    "            invU[k][j] = ctx.assign(f'invU_{k}{j}', f'{invU[k][j]} * {invU[k][k]}')\n",
    "        for i in range(k):\n",
    "            mult = f'-{invU[i][k]}'\n",
    "            invU[i][k] = ctx.assign(f'invU_{k}_{i}{k}', f'{mult} * {invU[k][k]}')\n",
    "            for j in range(k + 1, d):\n",
    "                invU[i][j] = ctx.assign(f'invU_{k}_{i}{j}', f'{invU[i][j]} + {mult} * {invU[k][j]}')\n",
    "    return invU\n",
    "exec(build_linalg('upper_tri_inv', gen_upper_tri_inv, 3))\n",
    "np.testing.assert_allclose(np.triu(upper_tri_inv(soln)), np.linalg.inv(np.triu(soln)))"
   ]
  },
  {
   "cell_type": "code",
   "execution_count": 6,
   "metadata": {},
   "outputs": [],
   "source": [
    "def transpose(A):\n",
    "    d = len(A)\n",
    "    return [[A[j][i] for j in range(d)] for i in range(d)]\n",
    "\n",
    "def gen_lu_inv(ctx, LU, d):\n",
    "    invU = copy.deepcopy(LU)\n",
    "    for k in range(d)[::-1]:\n",
    "        invU[k][k] = ctx.assign(f'invU_{k}{k}', f'1.0 / {invU[k][k]}')\n",
    "        for j in range(k + 1, d):\n",
    "            invU[k][j] = ctx.assign(f'invU_{k}{j}', f'{invU[k][j]} * {invU[k][k]}')\n",
    "        for i in range(k):\n",
    "            mult = f'-{invU[i][k]}'\n",
    "            invU[i][k] = ctx.assign(f'invU_{k}_{i}{k}', f'{mult} * {invU[k][k]}')\n",
    "            for j in range(k + 1, d):\n",
    "                invU[i][j] = ctx.assign(f'invU_{k}_{i}{j}', f'{invU[i][j]} + {mult} * {invU[k][j]}')\n",
    "                \n",
    "    invLU_T = transpose(invU)\n",
    "    for i in range(d - 1):\n",
    "        for j in range(i + 1, d):\n",
    "            invLU_T[i][j] = '0'\n",
    "    for k in range(d)[::-1]:\n",
    "        for i in range(k):\n",
    "            mult = f'-{LU[k][i]}'\n",
    "            for j in range(d):\n",
    "                name = f'invLU_T_{k}_{i}{j}'\n",
    "                invLU_T[i][j] = ctx.assign(name, f'{invLU_T[i][j]} + {mult} * {invLU_T[k][j]}')\n",
    "    return transpose(invLU_T)\n",
    "\n",
    "exec(build_linalg('lu_inv', gen_lu_inv, 3))\n",
    "np.testing.assert_allclose(lu_inv(LU_decomp(orig)), np.linalg.inv(orig), rtol=1e-5)"
   ]
  },
  {
   "cell_type": "code",
   "execution_count": 67,
   "metadata": {},
   "outputs": [],
   "source": [
    "def gen_lu_solve(ctx, LU, B, d):\n",
    "    Y = [None] * d\n",
    "    for i in range(d):\n",
    "        terms_i = [f'-{LU[i][j]}*{Y[j]}' for j in range(i)]\n",
    "        Y[i] = ctx.assign(f'Y_{i}', f'{B[i]}' + ''.join(terms_i))\n",
    "    X = [None] * d\n",
    "    for i in range(d)[::-1]:\n",
    "        invkk = ctx.assign(f'inv_{i}', f'1.0 / {LU[i][i]}')\n",
    "        terms_i = [f'-{LU[i][j]}*{X[j]}*{invkk}' for j in range(i + 1, d)]\n",
    "        X[i] = ctx.assign(f'X_{i}', f'{Y[i]}*{invkk}' + ''.join(terms_i))\n",
    "    return X"
   ]
  },
  {
   "cell_type": "code",
   "execution_count": 77,
   "metadata": {},
   "outputs": [
    {
     "name": "stdout",
     "output_type": "stream",
     "text": [
      "def solve3(m, y):\n",
      "    inv_0 = 1.0 / m[0, 0]\n",
      "    L_10 = m[1, 0] * inv_0\n",
      "    L_20 = m[2, 0] * inv_0\n",
      "    U_11 = m[1, 1] - m[0, 1] * m[1, 0] * inv_0\n",
      "    U_12 = m[1, 2] - m[0, 2] * m[1, 0] * inv_0\n",
      "    U_0_21 = m[2, 1] - m[0, 1] * m[2, 0] * inv_0\n",
      "    U_0_22 = m[2, 2] - m[0, 2] * m[2, 0] * inv_0\n",
      "    inv_1 = 1.0 / U_11\n",
      "    L_21 = U_0_21 * inv_1\n",
      "    U_22 = U_0_22 - U_12 * U_0_21 * inv_1\n",
      "    Y_0 = y[0]\n",
      "    Y_1 = y[1]-L_10*Y_0\n",
      "    Y_2 = y[2]-L_20*Y_0-L_21*Y_1\n",
      "    inv_2 = 1.0 / U_22\n",
      "    X_2 = Y_2*inv_2\n",
      "    inv_1 = 1.0 / U_11\n",
      "    X_1 = Y_1*inv_1-U_12*X_2*inv_1\n",
      "    inv_0 = 1.0 / m[0, 0]\n",
      "    X_0 = Y_0*inv_0-m[0, 1]*X_1*inv_0-m[0, 2]*X_2*inv_0\n",
      "    return jnp.array([X_0, X_1, X_2])\n"
     ]
    }
   ],
   "source": [
    "def gen_solve(ctx, M, Y, d):\n",
    "    LU = gen_lu(ctx, M, d)\n",
    "    return gen_lu_solve(ctx, LU, Y, d)\n",
    "    \n",
    "def build_linalg_solve(name, generator, d, print_code=True):\n",
    "    ctx = CodeGenCtx()\n",
    "    M = [[f'm[{i}, {j}]' for j in range(d)] for i in range(d)]\n",
    "    Y = [f'y[{i}]' for i in range(d)]\n",
    "    X = gen_solve(ctx, M, Y, d)\n",
    "    lines = ctx.lines()\n",
    "    lines.append('return jnp.array([' + ', '.join(X) + '])')\n",
    "    lines = [f'def {name}(m, y):'] + ['    ' + l for l in lines] \n",
    "    code = '\\n'.join(lines)\n",
    "    if print_code:\n",
    "        print(code)\n",
    "    return code\n",
    "exec(build_linalg_solve('solve3', gen_solve, 3))"
   ]
  },
  {
   "cell_type": "code",
   "execution_count": 78,
   "metadata": {},
   "outputs": [],
   "source": [
    "np.random.seed(0)\n",
    "A = np.random.rand(3,3)\n",
    "y = np.random.rand(3)\n",
    "np.testing.assert_allclose(solve(A, y), np.linalg.solve(A,y))"
   ]
  },
  {
   "cell_type": "code",
   "execution_count": 79,
   "metadata": {},
   "outputs": [],
   "source": [
    "def gen_inv(ctx, M, d):\n",
    "    LU = gen_lu(ctx, M, d)\n",
    "    out = gen_lu_inv(ctx, LU, d)\n",
    "    return out"
   ]
  },
  {
   "cell_type": "code",
   "execution_count": 81,
   "metadata": {},
   "outputs": [],
   "source": [
    "def bench_solve(f, N, d, iters=5):\n",
    "    np.random.seed(10)\n",
    "    mats = np.random.rand(int(N), d, d)\n",
    "    bs = np.random.rand(int(N), d)\n",
    "    jax_mats = jnp.array(mats)\n",
    "    for i in range(iters):\n",
    "        start = time.time()\n",
    "        correct = jnp.linalg.solve(jax_mats, bs).block_until_ready()\n",
    "        end = time.time()\n",
    "    jli_time = end - start\n",
    "    for i in range(iters):\n",
    "        start = time.time()\n",
    "        fout = f(jax_mats, bs).block_until_ready()\n",
    "        end = time.time()\n",
    "    f_time = end - start\n",
    "    # np.testing.assert_allclose(fout, correct, rtol=1e-4)\n",
    "    return jli_time / N * 1e6, f_time / N * 1e6"
   ]
  },
  {
   "cell_type": "code",
   "execution_count": 82,
   "metadata": {},
   "outputs": [
    {
     "name": "stdout",
     "output_type": "stream",
     "text": [
      "\n",
      " 1\n",
      "recursive + cramer (0.038678646087646484, 0.0005769729614257812)\n",
      "code gen (0.03645896911621094, 0.0003814697265625)\n",
      "lu gen (0.037589073181152344, 0.00016927719116210938)\n",
      "solve (0.03943920135498047, 0.0008916854858398438)\n",
      "\n",
      " 2\n",
      "recursive + cramer (0.07440567016601562, 0.002841949462890625)\n",
      "code gen (0.07260322570800781, 0.0023174285888671875)\n",
      "lu gen (0.08527755737304688, 0.0017547607421875)\n",
      "solve (0.06092071533203126, 0.001430511474609375)\n",
      "\n",
      " 3\n",
      "recursive + cramer (0.17460107803344727, 0.009183883666992188)\n",
      "code gen (0.17236948013305664, 0.01574993133544922)\n",
      "lu gen (0.18990039825439453, 0.005300045013427734)\n",
      "solve (0.1529073715209961, 0.004141330718994141)\n",
      "\n",
      " 4\n",
      "recursive + cramer (0.37250518798828125, 0.026092529296875)\n",
      "code gen (0.3539276123046875, 0.03520965576171875)\n",
      "lu gen (0.333404541015625, 0.01102447509765625)\n",
      "solve (0.22563934326171875, 0.02544403076171875)\n",
      "\n",
      " 5\n",
      "recursive + cramer (0.6052255630493164, 0.06300210952758789)\n",
      "code gen (0.6139278411865234, 0.0749826431274414)\n",
      "lu gen (0.5947351455688477, 0.03427267074584961)\n",
      "solve (0.3625154495239258, 0.06902217864990234)\n",
      "\n",
      " 6\n",
      "recursive + cramer (0.8636283874511718, 0.12823104858398438)\n",
      "code gen (0.8963298797607422, 0.15372276306152344)\n",
      "lu gen (0.8520412445068359, 0.06402969360351562)\n",
      "solve (0.5017662048339843, 0.11707305908203125)\n",
      "\n",
      " 7\n",
      "recursive + cramer (1.2559866905212402, 0.15000343322753903)\n",
      "code gen (1.3023662567138672, 0.2630901336669922)\n",
      "lu gen (1.328885555267334, 0.09661436080932617)\n",
      "solve (0.6398510932922362, 0.20234107971191406)\n",
      "\n",
      " 8\n",
      "recursive + cramer (1.711883544921875, 0.3179931640625)\n",
      "code gen (1.747283935546875, 0.481719970703125)\n",
      "lu gen (1.668548583984375, 0.1544189453125)\n",
      "solve (0.789794921875, 0.316925048828125)\n",
      "\n",
      " 9\n",
      "recursive + cramer (2.469606399536133, 0.24468183517456055)\n",
      "code gen (2.4186229705810547, 0.8271288871765137)\n",
      "lu gen (2.5238728523254395, 0.23811578750610352)\n",
      "solve (1.1081171035766602, 0.4957365989685059)\n",
      "\n",
      " 10\n",
      "recursive + cramer (2.9969215393066406, 0.40912628173828125)\n",
      "code gen (2.9571056365966797, 1.4219284057617188)\n",
      "lu gen (3.0210018157958984, 0.3662109375)\n",
      "solve (1.2240409851074219, 0.8230209350585938)\n",
      "\n",
      " 11\n",
      "recursive + cramer (3.1508493423461914, 0.44167280197143555)\n",
      "code gen (3.0637264251708984, 2.3753976821899414)\n",
      "lu gen (3.257300853729248, 0.5031204223632812)\n",
      "solve (1.6238903999328613, 1.1268281936645508)\n"
     ]
    }
   ],
   "source": [
    "for d in range(1, 12):\n",
    "    exec(build_linalg(f'inv{d}', gen_inv, d, print_code=False))\n",
    "    exec(build_linalg(f'lu{d}', gen_lu, d, print_code=False))\n",
    "    exec(build_linalg_solve(f'solve{d}', gen_solve, d, print_code=False))\n",
    "    f = globals()[f'inv{d}']\n",
    "    f_lu = globals()[f'lu{d}']\n",
    "    f_solve = globals()[f'solve{d}']\n",
    "    mat = np.random.rand(d, d)\n",
    "    b = np.random.rand(d)\n",
    "    np.testing.assert_allclose(f(mat), np.linalg.inv(mat), rtol=1e-5)\n",
    "    np.testing.assert_allclose(f_solve(mat, b), np.linalg.solve(mat, b), rtol=1e-5)\n",
    "    vmap = jax.jit(jax.vmap(f))\n",
    "    vmap_lu = jax.jit(jax.vmap(f_lu))\n",
    "    vmap_solve = jax.jit(jax.vmap(f_solve))\n",
    "    globals()[f'vmap_inv{d}'] = vmap\n",
    "    print('\\n', d)\n",
    "    n = 1e5 / (d ** 2)\n",
    "    print('recursive + cramer', bench(vmap_inv_recurse, n, d))\n",
    "    print('code gen', bench(vmap, n, d))\n",
    "    print('lu gen', bench(vmap_lu, n, d))\n",
    "    print('solve', bench_solve(vmap_solve, n, d))"
   ]
  },
  {
   "cell_type": "code",
   "execution_count": null,
   "metadata": {},
   "outputs": [],
   "source": []
  },
  {
   "cell_type": "code",
   "execution_count": 10,
   "metadata": {},
   "outputs": [
    {
     "ename": "NameError",
     "evalue": "name 'bench' is not defined",
     "output_type": "error",
     "traceback": [
      "\u001b[0;31m---------------------------------------------------------------------------\u001b[0m",
      "\u001b[0;31mNameError\u001b[0m                                 Traceback (most recent call last)",
      "\u001b[1;32m/Users/tbent/Dropbox/active/confirm/research/inla_survival/jax_inv.ipynb Cell 23'\u001b[0m in \u001b[0;36m<cell line: 7>\u001b[0;34m()\u001b[0m\n\u001b[1;32m      <a href='vscode-notebook-cell:/Users/tbent/Dropbox/active/confirm/research/inla_survival/jax_inv.ipynb#ch0000009?line=4'>5</a>\u001b[0m     \u001b[39mreturn\u001b[39;00m full_inv[:, perm]\n\u001b[1;32m      <a href='vscode-notebook-cell:/Users/tbent/Dropbox/active/confirm/research/inla_survival/jax_inv.ipynb#ch0000009?line=5'>6</a>\u001b[0m vmap_inv_jax_lax \u001b[39m=\u001b[39m jax\u001b[39m.\u001b[39mjit(jax\u001b[39m.\u001b[39mvmap(inv_jax_lax))\n\u001b[0;32m----> <a href='vscode-notebook-cell:/Users/tbent/Dropbox/active/confirm/research/inla_survival/jax_inv.ipynb#ch0000009?line=6'>7</a>\u001b[0m bench(vmap_inv_jax_lax, \u001b[39m1e4\u001b[39m, \u001b[39m3\u001b[39m)\n",
      "\u001b[0;31mNameError\u001b[0m: name 'bench' is not defined"
     ]
    }
   ],
   "source": [
    "def inv_jax_lax(m):\n",
    "    lu, pivot, perm = jax.lax.linalg.lu(m)\n",
    "    U_inv = jax.lax.linalg.triangular_solve(lu, jnp.diag(np.array([1.0,1,1])), lower=False, unit_diagonal=False)\n",
    "    full_inv = jax.lax.linalg.triangular_solve(lu, U_inv, lower=True, unit_diagonal=True)\n",
    "    return full_inv[:, perm]\n",
    "vmap_inv_jax_lax = jax.jit(jax.vmap(inv_jax_lax))\n",
    "bench(vmap_inv_jax_lax, 1e4, 3)"
   ]
  },
  {
   "cell_type": "code",
   "execution_count": 338,
   "metadata": {},
   "outputs": [
    {
     "name": "stdout",
     "output_type": "stream",
     "text": [
      "CPU times: user 153 ms, sys: 17.9 ms, total: 171 ms\n",
      "Wall time: 133 ms\n"
     ]
    }
   ],
   "source": [
    "%%time\n",
    "_ = vmap_inv_jax(mats)"
   ]
  },
  {
   "cell_type": "markdown",
   "metadata": {},
   "source": [
    "## JAX is fast for large matrices"
   ]
  },
  {
   "cell_type": "code",
   "execution_count": 2,
   "metadata": {},
   "outputs": [],
   "source": [
    "A = np.random.rand(5000, 5000)"
   ]
  },
  {
   "cell_type": "code",
   "execution_count": 9,
   "metadata": {},
   "outputs": [
    {
     "data": {
      "text/plain": [
       "1.2499999999999998"
      ]
     },
     "execution_count": 9,
     "metadata": {},
     "output_type": "execute_result"
    }
   ],
   "source": [
    "flops = 5000 ** 3 * 2 / 3.\n",
    "flops * 0.3 / 1e9 / 10 / 2"
   ]
  },
  {
   "cell_type": "code",
   "execution_count": 6,
   "metadata": {},
   "outputs": [
    {
     "name": "stdout",
     "output_type": "stream",
     "text": [
      "CPU times: user 9.08 s, sys: 579 ms, total: 9.66 s\n",
      "Wall time: 1.47 s\n"
     ]
    },
    {
     "data": {
      "text/plain": [
       "array([[-0.54415102, -0.45408855, -0.41497187, ..., -0.33757099,\n",
       "         0.85470587, -0.45968236],\n",
       "       [-0.34614283, -0.33987818, -0.26964381, ..., -0.2076328 ,\n",
       "         0.60106392, -0.33870489],\n",
       "       [-0.44630539, -0.43907991, -0.30957567, ..., -0.27006815,\n",
       "         0.6991083 , -0.43488036],\n",
       "       ...,\n",
       "       [ 0.05952298,  0.0160277 ,  0.07382422, ...,  0.01481646,\n",
       "        -0.09952914,  0.03751881],\n",
       "       [ 0.51272287,  0.49819567,  0.33228203, ...,  0.21269653,\n",
       "        -0.84855951,  0.53084048],\n",
       "       [-0.21913774, -0.19052291, -0.13904184, ..., -0.07937356,\n",
       "         0.39681116, -0.21506747]])"
      ]
     },
     "execution_count": 6,
     "metadata": {},
     "output_type": "execute_result"
    }
   ],
   "source": [
    "%%time\n",
    "np.linalg.inv(A)"
   ]
  },
  {
   "cell_type": "code",
   "execution_count": 7,
   "metadata": {},
   "outputs": [
    {
     "name": "stdout",
     "output_type": "stream",
     "text": [
      "CPU times: user 9.33 s, sys: 589 ms, total: 9.92 s\n",
      "Wall time: 1.33 s\n"
     ]
    },
    {
     "data": {
      "text/plain": [
       "DeviceArray([[-0.54415102, -0.45408855, -0.41497187, ..., -0.33757099,\n",
       "               0.85470587, -0.45968236],\n",
       "             [-0.34614283, -0.33987818, -0.26964381, ..., -0.2076328 ,\n",
       "               0.60106392, -0.33870489],\n",
       "             [-0.44630539, -0.43907991, -0.30957567, ..., -0.27006815,\n",
       "               0.6991083 , -0.43488036],\n",
       "             ...,\n",
       "             [ 0.05952298,  0.0160277 ,  0.07382422, ...,  0.01481646,\n",
       "              -0.09952914,  0.03751881],\n",
       "             [ 0.51272287,  0.49819567,  0.33228203, ...,  0.21269653,\n",
       "              -0.84855951,  0.53084048],\n",
       "             [-0.21913774, -0.19052291, -0.13904184, ..., -0.07937356,\n",
       "               0.39681116, -0.21506747]], dtype=float64)"
      ]
     },
     "execution_count": 7,
     "metadata": {},
     "output_type": "execute_result"
    }
   ],
   "source": [
    "%%time\n",
    "jnp.linalg.inv(jnp.array(A, dtype=jnp.float64))"
   ]
  },
  {
   "cell_type": "code",
   "execution_count": null,
   "metadata": {},
   "outputs": [],
   "source": []
  }
 ],
 "metadata": {
  "kernelspec": {
   "display_name": "Python 3.10.5 ('imprint')",
   "language": "python",
   "name": "python3"
  },
  "language_info": {
   "codemirror_mode": {
    "name": "ipython",
    "version": 3
   },
   "file_extension": ".py",
   "mimetype": "text/x-python",
   "name": "python",
   "nbconvert_exporter": "python",
   "pygments_lexer": "ipython3",
   "version": "3.10.5"
  },
  "orig_nbformat": 4,
  "vscode": {
   "interpreter": {
    "hash": "1234d0467017a186db2b9a06faf936c59bc87b507f01580220987604bcb2f4bc"
   }
  }
 },
 "nbformat": 4,
 "nbformat_minor": 2
}
